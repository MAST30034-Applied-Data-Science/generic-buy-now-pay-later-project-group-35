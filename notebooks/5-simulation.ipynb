{
 "cells": [
  {
   "cell_type": "code",
   "execution_count": 38,
   "metadata": {},
   "outputs": [],
   "source": [
    "from pyspark.sql import SparkSession\n",
    "from pyspark.sql.functions import * \n",
    "import matplotlib.pyplot as plt\n",
    "import pandas as pd\n",
    "import numpy as np\n",
    "from urllib.request import urlretrieve\n",
    "from owslib.wfs import WebFeatureService\n",
    "from dotenv import load_dotenv\n",
    "from pyspark.sql import functions as F\n",
    "\n",
    "# Create a spark session\n",
    "spark = (\n",
    "    SparkSession.builder.appName(\"analysis\")\n",
    "    .config(\"spark.sql.repl.eagerEval.enabled\", True) \n",
    "    .config(\"spark.sql.parquet.cacheMetadata\", \"true\")\n",
    "    .config(\"spark.sql.session.timeZone\", \"Etc/UTC\")\n",
    "    .config(\"spark.driver.memory\", \"2g\")\n",
    "    .config(\"spark.executor.memory\", \"6g\")\n",
    "    .getOrCreate()\n",
    ")"
   ]
  },
  {
   "cell_type": "markdown",
   "metadata": {},
   "source": [
    "# Simulated transaction data"
   ]
  },
  {
   "cell_type": "code",
   "execution_count": 39,
   "metadata": {},
   "outputs": [],
   "source": [
    "modeldf = spark.read.parquet(\"../data/curated/transmodeldf.parquet/\")"
   ]
  },
  {
   "cell_type": "code",
   "execution_count": 40,
   "metadata": {},
   "outputs": [
    {
     "name": "stderr",
     "output_type": "stream",
     "text": [
      "                                                                                \r"
     ]
    },
    {
     "name": "stdout",
     "output_type": "stream",
     "text": [
      "1086981 120600\n"
     ]
    },
    {
     "name": "stderr",
     "output_type": "stream",
     "text": [
      "                                                                                \r"
     ]
    },
    {
     "data": {
      "text/html": [
       "<table border='1'>\n",
       "<tr><th>year</th><th>month</th><th>day</th><th>merchant_abn</th><th>daily_transactions</th></tr>\n",
       "<tr><td>2021</td><td>2</td><td>28</td><td>10264435225</td><td>8</td></tr>\n",
       "<tr><td>2021</td><td>2</td><td>28</td><td>10323485998</td><td>10</td></tr>\n",
       "<tr><td>2021</td><td>2</td><td>28</td><td>10342410215</td><td>1</td></tr>\n",
       "<tr><td>2021</td><td>2</td><td>28</td><td>10530696903</td><td>2</td></tr>\n",
       "<tr><td>2021</td><td>2</td><td>28</td><td>10901349044</td><td>1</td></tr>\n",
       "</table>\n"
      ],
      "text/plain": [
       "+----+-----+---+------------+------------------+\n",
       "|year|month|day|merchant_abn|daily_transactions|\n",
       "+----+-----+---+------------+------------------+\n",
       "|2021|    2| 28| 10264435225|                 8|\n",
       "|2021|    2| 28| 10323485998|                10|\n",
       "|2021|    2| 28| 10342410215|                 1|\n",
       "|2021|    2| 28| 10530696903|                 2|\n",
       "|2021|    2| 28| 10901349044|                 1|\n",
       "+----+-----+---+------------+------------------+"
      ]
     },
     "execution_count": 40,
     "metadata": {},
     "output_type": "execute_result"
    }
   ],
   "source": [
    "sdf, tdf = modeldf.randomSplit([0.9, 0.1], seed=22)\n",
    "print(sdf.count(),tdf.count())\n",
    "sdf.limit(5)"
   ]
  },
  {
   "cell_type": "code",
   "execution_count": 41,
   "metadata": {},
   "outputs": [
    {
     "data": {
      "text/plain": [
       "'\\nyear = [2025]\\n\\nmonth = []\\nfor a in range(1,13,1):\\n    month.append(a)\\n\\nday = []\\nfor b in range(1,31,1):\\n    day.append(b)\\n#print(day)\\n\\nmerchants = []\\nmerchantdf = spark.read.parquet(\"../data/tables/tbl_merchants.parquet\").toPandas()\\nfor ind in merchantdf.index:\\n    merchants.append(merchantdf[\\'merchant_abn\\'][ind])\\n#print(merchants)\\n\\ncolumns = [\"year\",\"month\",\"day\",\"merchant_abn\"]\\ndata = []\\n\\nfor i in range(len(year)):\\n    for j in range(len(month)):\\n        for k in range(len(day)):\\n            for l in range(len(merchants)):\\n                data.append((year[i],month[j],day[k],merchants[l]))\\n\\nfuturedf = spark.createDataFrame(data).toDF(*columns)\\nfuturedf.orderBy(\"day\", ascending = False)\\n'"
      ]
     },
     "execution_count": 41,
     "metadata": {},
     "output_type": "execute_result"
    }
   ],
   "source": [
    "\"\"\"\n",
    "year = [2025]\n",
    "\n",
    "month = []\n",
    "for a in range(1,13,1):\n",
    "    month.append(a)\n",
    "\n",
    "day = []\n",
    "for b in range(1,31,1):\n",
    "    day.append(b)\n",
    "#print(day)\n",
    "\n",
    "merchants = []\n",
    "merchantdf = spark.read.parquet(\"../data/tables/tbl_merchants.parquet\").toPandas()\n",
    "for ind in merchantdf.index:\n",
    "    merchants.append(merchantdf['merchant_abn'][ind])\n",
    "#print(merchants)\n",
    "\n",
    "columns = [\"year\",\"month\",\"day\",\"merchant_abn\"]\n",
    "data = []\n",
    "\n",
    "for i in range(len(year)):\n",
    "    for j in range(len(month)):\n",
    "        for k in range(len(day)):\n",
    "            for l in range(len(merchants)):\n",
    "                data.append((year[i],month[j],day[k],merchants[l]))\n",
    "\n",
    "futuredf = spark.createDataFrame(data).toDF(*columns)\n",
    "futuredf.orderBy(\"day\", ascending = False)\n",
    "\"\"\""
   ]
  },
  {
   "cell_type": "code",
   "execution_count": 42,
   "metadata": {},
   "outputs": [
    {
     "data": {
      "text/html": [
       "<table border='1'>\n",
       "<tr><th>year</th><th>month</th><th>day</th><th>merchant_abn</th></tr>\n",
       "<tr><td>2025</td><td>10</td><td>4</td><td>10023283211</td></tr>\n",
       "<tr><td>2025</td><td>1</td><td>3</td><td>10023283211</td></tr>\n",
       "<tr><td>2025</td><td>6</td><td>9</td><td>10023283211</td></tr>\n",
       "<tr><td>2025</td><td>7</td><td>15</td><td>10023283211</td></tr>\n",
       "<tr><td>2025</td><td>9</td><td>23</td><td>10023283211</td></tr>\n",
       "</table>\n"
      ],
      "text/plain": [
       "+----+-----+---+------------+\n",
       "|year|month|day|merchant_abn|\n",
       "+----+-----+---+------------+\n",
       "|2025|   10|  4| 10023283211|\n",
       "|2025|    1|  3| 10023283211|\n",
       "|2025|    6|  9| 10023283211|\n",
       "|2025|    7| 15| 10023283211|\n",
       "|2025|    9| 23| 10023283211|\n",
       "+----+-----+---+------------+"
      ]
     },
     "execution_count": 42,
     "metadata": {},
     "output_type": "execute_result"
    }
   ],
   "source": [
    "from pyspark.sql.functions import lit\n",
    "\n",
    "futuredf = modeldf.withColumn('year', lit(2025))\n",
    "futuredf = futuredf.drop(\"daily_transactions\")\n",
    "futuredf = futuredf.orderBy(\"merchant_abn\")\n",
    "futuredf.limit(5)"
   ]
  },
  {
   "cell_type": "code",
   "execution_count": 43,
   "metadata": {},
   "outputs": [],
   "source": [
    "# VectorAssembler creates new vectors from existing columns\n",
    "from pyspark.ml.feature import VectorAssembler\n",
    "\n",
    "features = 'features'\n",
    "input_cols = [\"year\",\"month\",\"day\",\"merchant_abn\"]\n",
    "\n",
    "assembler = VectorAssembler(\n",
    "    # which column to combine\n",
    "    inputCols=input_cols, \n",
    "    # How should the combined columns be named\n",
    "    outputCol=features\n",
    ")\n",
    "\n",
    "model_sdf = assembler.transform(sdf.dropna('any'))\n",
    "# Display the features and targets for our model\n",
    "#model_sdf.select('features').head(5), model_sdf.select('daily_transactions').head(5)"
   ]
  },
  {
   "cell_type": "code",
   "execution_count": 44,
   "metadata": {},
   "outputs": [
    {
     "name": "stderr",
     "output_type": "stream",
     "text": [
      "                                                                                \r"
     ]
    }
   ],
   "source": [
    "from pyspark.ml.regression import DecisionTreeRegressor\n",
    "\n",
    "model = DecisionTreeRegressor(\n",
    "    featuresCol='features', \n",
    "    labelCol='daily_transactions',\n",
    "    maxDepth=12,\n",
    "    maxBins=1000\n",
    ").fit(model_sdf)"
   ]
  },
  {
   "cell_type": "code",
   "execution_count": 45,
   "metadata": {
    "tags": []
   },
   "outputs": [],
   "source": [
    "# preprocess for predictions\n",
    "predict_test = futuredf.select(*input_cols)\n",
    "\n",
    "assembler = VectorAssembler(\n",
    "    inputCols=input_cols, \n",
    "    outputCol=features\n",
    ")\n",
    "\n",
    "predict_sdf = assembler.transform(predict_test)\n",
    "\n",
    "#predict_sdf.show(1, vertical=True)"
   ]
  },
  {
   "cell_type": "code",
   "execution_count": 46,
   "metadata": {},
   "outputs": [
    {
     "data": {
      "text/html": [
       "<table border='1'>\n",
       "<tr><th>year</th><th>month</th><th>day</th><th>merchant_abn</th><th>prediction</th></tr>\n",
       "<tr><td>2025</td><td>7</td><td>10</td><td>10023283211</td><td>6.3085652106326755</td></tr>\n",
       "<tr><td>2025</td><td>9</td><td>23</td><td>10023283211</td><td>6.3085652106326755</td></tr>\n",
       "<tr><td>2025</td><td>6</td><td>9</td><td>10023283211</td><td>6.3085652106326755</td></tr>\n",
       "<tr><td>2025</td><td>10</td><td>4</td><td>10023283211</td><td>6.3085652106326755</td></tr>\n",
       "<tr><td>2025</td><td>7</td><td>15</td><td>10023283211</td><td>6.3085652106326755</td></tr>\n",
       "</table>\n"
      ],
      "text/plain": [
       "+----+-----+---+------------+------------------+\n",
       "|year|month|day|merchant_abn|        prediction|\n",
       "+----+-----+---+------------+------------------+\n",
       "|2025|    7| 10| 10023283211|6.3085652106326755|\n",
       "|2025|    9| 23| 10023283211|6.3085652106326755|\n",
       "|2025|    6|  9| 10023283211|6.3085652106326755|\n",
       "|2025|   10|  4| 10023283211|6.3085652106326755|\n",
       "|2025|    7| 15| 10023283211|6.3085652106326755|\n",
       "+----+-----+---+------------+------------------+"
      ]
     },
     "execution_count": 46,
     "metadata": {},
     "output_type": "execute_result"
    }
   ],
   "source": [
    "predictions = model.transform(predict_sdf)\n",
    "predictions = predictions.drop(features)\n",
    "predictions.limit(5)"
   ]
  },
  {
   "cell_type": "markdown",
   "metadata": {},
   "source": [
    "# Simulated profit data"
   ]
  },
  {
   "cell_type": "code",
   "execution_count": 47,
   "metadata": {},
   "outputs": [],
   "source": [
    "modeldf = spark.read.parquet(\"../data/curated/profitmodeldf.parquet/\")"
   ]
  },
  {
   "cell_type": "code",
   "execution_count": 48,
   "metadata": {},
   "outputs": [
    {
     "name": "stderr",
     "output_type": "stream",
     "text": [
      "                                                                                \r"
     ]
    },
    {
     "name": "stdout",
     "output_type": "stream",
     "text": [
      "1086992 120589\n"
     ]
    },
    {
     "name": "stderr",
     "output_type": "stream",
     "text": [
      "                                                                                \r"
     ]
    },
    {
     "data": {
      "text/html": [
       "<table border='1'>\n",
       "<tr><th>year</th><th>month</th><th>day</th><th>merchant_abn</th><th>daily_profit</th></tr>\n",
       "<tr><td>2021</td><td>2</td><td>28</td><td>10264435225</td><td>25.95</td></tr>\n",
       "<tr><td>2021</td><td>2</td><td>28</td><td>10323485998</td><td>73.77</td></tr>\n",
       "<tr><td>2021</td><td>2</td><td>28</td><td>10342410215</td><td>34.67</td></tr>\n",
       "<tr><td>2021</td><td>2</td><td>28</td><td>10530696903</td><td>78.15</td></tr>\n",
       "<tr><td>2021</td><td>2</td><td>28</td><td>10901349044</td><td>2.26</td></tr>\n",
       "</table>\n"
      ],
      "text/plain": [
       "+----+-----+---+------------+------------+\n",
       "|year|month|day|merchant_abn|daily_profit|\n",
       "+----+-----+---+------------+------------+\n",
       "|2021|    2| 28| 10264435225|       25.95|\n",
       "|2021|    2| 28| 10323485998|       73.77|\n",
       "|2021|    2| 28| 10342410215|       34.67|\n",
       "|2021|    2| 28| 10530696903|       78.15|\n",
       "|2021|    2| 28| 10901349044|        2.26|\n",
       "+----+-----+---+------------+------------+"
      ]
     },
     "execution_count": 48,
     "metadata": {},
     "output_type": "execute_result"
    }
   ],
   "source": [
    "sdf, tdf = modeldf.randomSplit([0.9, 0.1], seed=22)\n",
    "print(sdf.count(),tdf.count())\n",
    "sdf.limit(5)"
   ]
  },
  {
   "cell_type": "code",
   "execution_count": 49,
   "metadata": {},
   "outputs": [
    {
     "data": {
      "text/html": [
       "<table border='1'>\n",
       "<tr><th>year</th><th>month</th><th>day</th><th>merchant_abn</th></tr>\n",
       "<tr><td>2025</td><td>10</td><td>4</td><td>10023283211</td></tr>\n",
       "<tr><td>2025</td><td>1</td><td>3</td><td>10023283211</td></tr>\n",
       "<tr><td>2025</td><td>6</td><td>9</td><td>10023283211</td></tr>\n",
       "<tr><td>2025</td><td>7</td><td>15</td><td>10023283211</td></tr>\n",
       "<tr><td>2025</td><td>9</td><td>23</td><td>10023283211</td></tr>\n",
       "</table>\n"
      ],
      "text/plain": [
       "+----+-----+---+------------+\n",
       "|year|month|day|merchant_abn|\n",
       "+----+-----+---+------------+\n",
       "|2025|   10|  4| 10023283211|\n",
       "|2025|    1|  3| 10023283211|\n",
       "|2025|    6|  9| 10023283211|\n",
       "|2025|    7| 15| 10023283211|\n",
       "|2025|    9| 23| 10023283211|\n",
       "+----+-----+---+------------+"
      ]
     },
     "execution_count": 49,
     "metadata": {},
     "output_type": "execute_result"
    }
   ],
   "source": [
    "from pyspark.sql.functions import lit\n",
    "\n",
    "futuredf = modeldf.withColumn('year', lit(2025))\n",
    "futuredf = futuredf.drop(\"daily_profit\")\n",
    "futuredf = futuredf.orderBy(\"merchant_abn\")\n",
    "futuredf.limit(5)"
   ]
  },
  {
   "cell_type": "code",
   "execution_count": 50,
   "metadata": {},
   "outputs": [],
   "source": [
    "# VectorAssembler creates new vectors from existing columns\n",
    "from pyspark.ml.feature import VectorAssembler\n",
    "\n",
    "features = 'features'\n",
    "input_cols = [\"year\",\"month\",\"day\",\"merchant_abn\"]\n",
    "\n",
    "assembler = VectorAssembler(\n",
    "    # which column to combine\n",
    "    inputCols=input_cols, \n",
    "    # How should the combined columns be named\n",
    "    outputCol=features\n",
    ")\n",
    "\n",
    "model_sdf = assembler.transform(sdf.dropna('any'))\n",
    "# Display the features and targets for our model\n",
    "#model_sdf.select('features').head(5), model_sdf.select('daily_transactions').head(5)"
   ]
  },
  {
   "cell_type": "code",
   "execution_count": 51,
   "metadata": {},
   "outputs": [
    {
     "name": "stderr",
     "output_type": "stream",
     "text": [
      "                                                                                \r"
     ]
    }
   ],
   "source": [
    "from pyspark.ml.regression import DecisionTreeRegressor\n",
    "\n",
    "model = DecisionTreeRegressor(\n",
    "    featuresCol='features', \n",
    "    labelCol='daily_profit',\n",
    "    maxDepth=12,\n",
    "    maxBins=1500\n",
    ").fit(model_sdf)"
   ]
  },
  {
   "cell_type": "code",
   "execution_count": 52,
   "metadata": {},
   "outputs": [],
   "source": [
    "# preprocess for predictions\n",
    "predict_test = futuredf.select(*input_cols)\n",
    "\n",
    "assembler = VectorAssembler(\n",
    "    inputCols=input_cols, \n",
    "    outputCol=features\n",
    ")\n",
    "\n",
    "predict_sdf = assembler.transform(predict_test)\n",
    "\n",
    "#predict_sdf.show(1, vertical=True)"
   ]
  },
  {
   "cell_type": "code",
   "execution_count": 53,
   "metadata": {},
   "outputs": [
    {
     "data": {
      "text/html": [
       "<table border='1'>\n",
       "<tr><th>year</th><th>month</th><th>day</th><th>merchant_abn</th><th>prediction</th></tr>\n",
       "<tr><td>2025</td><td>7</td><td>10</td><td>10023283211</td><td>1.9113333333333327</td></tr>\n",
       "<tr><td>2025</td><td>9</td><td>23</td><td>10023283211</td><td>1.8523636363636369</td></tr>\n",
       "<tr><td>2025</td><td>6</td><td>9</td><td>10023283211</td><td>1.9113333333333327</td></tr>\n",
       "<tr><td>2025</td><td>10</td><td>4</td><td>10023283211</td><td>2.201038961038961</td></tr>\n",
       "<tr><td>2025</td><td>7</td><td>15</td><td>10023283211</td><td>1.9113333333333327</td></tr>\n",
       "</table>\n"
      ],
      "text/plain": [
       "+----+-----+---+------------+------------------+\n",
       "|year|month|day|merchant_abn|        prediction|\n",
       "+----+-----+---+------------+------------------+\n",
       "|2025|    7| 10| 10023283211|1.9113333333333327|\n",
       "|2025|    9| 23| 10023283211|1.8523636363636369|\n",
       "|2025|    6|  9| 10023283211|1.9113333333333327|\n",
       "|2025|   10|  4| 10023283211| 2.201038961038961|\n",
       "|2025|    7| 15| 10023283211|1.9113333333333327|\n",
       "+----+-----+---+------------+------------------+"
      ]
     },
     "execution_count": 53,
     "metadata": {},
     "output_type": "execute_result"
    }
   ],
   "source": [
    "predictions = model.transform(predict_sdf)\n",
    "predictions = predictions.drop('features')\n",
    "predictions.limit(5)"
   ]
  }
 ],
 "metadata": {
  "kernelspec": {
   "display_name": "Python 3 (ipykernel)",
   "language": "python",
   "name": "python3"
  },
  "language_info": {
   "codemirror_mode": {
    "name": "ipython",
    "version": 3
   },
   "file_extension": ".py",
   "mimetype": "text/x-python",
   "name": "python",
   "nbconvert_exporter": "python",
   "pygments_lexer": "ipython3",
   "version": "3.8.10"
  },
  "vscode": {
   "interpreter": {
    "hash": "916dbcbb3f70747c44a77c7bcd40155683ae19c65e1c03b4aa3499c5328201f1"
   }
  }
 },
 "nbformat": 4,
 "nbformat_minor": 4
}
