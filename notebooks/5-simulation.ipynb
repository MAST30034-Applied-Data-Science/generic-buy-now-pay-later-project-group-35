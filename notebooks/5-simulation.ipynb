{
 "cells": [
  {
   "cell_type": "code",
   "execution_count": 1,
   "metadata": {},
   "outputs": [
    {
     "name": "stdout",
     "output_type": "stream",
     "text": [
      "22/09/30 20:58:53 WARN Utils: Your hostname, AryansLaptop resolves to a loopback address: 127.0.1.1; using 172.25.9.137 instead (on interface eth0)\n",
      "22/09/30 20:58:53 WARN Utils: Set SPARK_LOCAL_IP if you need to bind to another address\n"
     ]
    },
    {
     "name": "stderr",
     "output_type": "stream",
     "text": [
      "Setting default log level to \"WARN\".\n",
      "To adjust logging level use sc.setLogLevel(newLevel). For SparkR, use setLogLevel(newLevel).\n"
     ]
    },
    {
     "name": "stdout",
     "output_type": "stream",
     "text": [
      "22/09/30 20:58:55 WARN NativeCodeLoader: Unable to load native-hadoop library for your platform... using builtin-java classes where applicable\n"
     ]
    }
   ],
   "source": [
    "from pyspark.sql import SparkSession\n",
    "from pyspark.sql.functions import * \n",
    "import matplotlib.pyplot as plt\n",
    "import pandas as pd\n",
    "import numpy as np\n",
    "from urllib.request import urlretrieve\n",
    "from owslib.wfs import WebFeatureService\n",
    "from dotenv import load_dotenv\n",
    "from pyspark.sql import functions as F\n",
    "\n",
    "# Create a spark session\n",
    "spark = (\n",
    "    SparkSession.builder.appName(\"analysis\")\n",
    "    .config(\"spark.sql.repl.eagerEval.enabled\", True) \n",
    "    .config(\"spark.sql.parquet.cacheMetadata\", \"true\")\n",
    "    .config(\"spark.sql.session.timeZone\", \"Etc/UTC\")\n",
    "    .config(\"spark.driver.memory\", \"2g\")\n",
    "    .config(\"spark.executor.memory\", \"6g\")\n",
    "    .getOrCreate()\n",
    ")"
   ]
  },
  {
   "cell_type": "markdown",
   "metadata": {},
   "source": [
    "# Simulated transaction data"
   ]
  },
  {
   "cell_type": "code",
   "execution_count": 2,
   "metadata": {},
   "outputs": [
    {
     "name": "stderr",
     "output_type": "stream",
     "text": [
      "                                                                                \r"
     ]
    }
   ],
   "source": [
    "modeldf = spark.read.parquet(\"../data/curated/transmodeldf.parquet/\")"
   ]
  },
  {
   "cell_type": "code",
   "execution_count": 3,
   "metadata": {},
   "outputs": [
    {
     "name": "stderr",
     "output_type": "stream",
     "text": [
      "                                                                                \r"
     ]
    },
    {
     "name": "stdout",
     "output_type": "stream",
     "text": [
      "1086863 120718\n"
     ]
    },
    {
     "data": {
      "text/html": [
       "<table border='1'>\n",
       "<tr><th>year</th><th>month</th><th>day</th><th>merchant_abn</th><th>daily_transactions</th></tr>\n",
       "<tr><td>2021</td><td>2</td><td>28</td><td>10142254217</td><td>1</td></tr>\n",
       "<tr><td>2021</td><td>2</td><td>28</td><td>11173270682</td><td>3</td></tr>\n",
       "<tr><td>2021</td><td>2</td><td>28</td><td>11285988014</td><td>7</td></tr>\n",
       "<tr><td>2021</td><td>2</td><td>28</td><td>11439466003</td><td>31</td></tr>\n",
       "<tr><td>2021</td><td>2</td><td>28</td><td>13120157976</td><td>3</td></tr>\n",
       "</table>\n"
      ],
      "text/plain": [
       "+----+-----+---+------------+------------------+\n",
       "|year|month|day|merchant_abn|daily_transactions|\n",
       "+----+-----+---+------------+------------------+\n",
       "|2021|    2| 28| 10142254217|                 1|\n",
       "|2021|    2| 28| 11173270682|                 3|\n",
       "|2021|    2| 28| 11285988014|                 7|\n",
       "|2021|    2| 28| 11439466003|                31|\n",
       "|2021|    2| 28| 13120157976|                 3|\n",
       "+----+-----+---+------------+------------------+"
      ]
     },
     "execution_count": 3,
     "metadata": {},
     "output_type": "execute_result"
    }
   ],
   "source": [
    "sdf, tdf = modeldf.randomSplit([0.9, 0.1], seed=22)\n",
    "print(sdf.count(),tdf.count())\n",
    "sdf.limit(5)"
   ]
  },
  {
   "cell_type": "code",
   "execution_count": null,
   "metadata": {},
   "outputs": [],
   "source": [
    "\"\"\"\n",
    "year = [2025]\n",
    "\n",
    "month = []\n",
    "for a in range(1,13,1):\n",
    "    month.append(a)\n",
    "\n",
    "day = []\n",
    "for b in range(1,31,1):\n",
    "    day.append(b)\n",
    "#print(day)\n",
    "\n",
    "merchants = []\n",
    "merchantdf = spark.read.parquet(\"../data/tables/tbl_merchants.parquet\").toPandas()\n",
    "for ind in merchantdf.index:\n",
    "    merchants.append(merchantdf['merchant_abn'][ind])\n",
    "#print(merchants)\n",
    "\n",
    "columns = [\"year\",\"month\",\"day\",\"merchant_abn\"]\n",
    "data = []\n",
    "\n",
    "for i in range(len(year)):\n",
    "    for j in range(len(month)):\n",
    "        for k in range(len(day)):\n",
    "            for l in range(len(merchants)):\n",
    "                data.append((year[i],month[j],day[k],merchants[l]))\n",
    "\n",
    "futuredf = spark.createDataFrame(data).toDF(*columns)\n",
    "futuredf.orderBy(\"day\", ascending = False)\n",
    "\"\"\""
   ]
  },
  {
   "cell_type": "code",
   "execution_count": 4,
   "metadata": {},
   "outputs": [
    {
     "data": {
      "text/html": [
       "<table border='1'>\n",
       "<tr><th>year</th><th>month</th><th>day</th><th>merchant_abn</th></tr>\n",
       "<tr><td>2025</td><td>10</td><td>26</td><td>10023283211</td></tr>\n",
       "<tr><td>2025</td><td>4</td><td>19</td><td>10023283211</td></tr>\n",
       "<tr><td>2025</td><td>7</td><td>11</td><td>10023283211</td></tr>\n",
       "<tr><td>2025</td><td>4</td><td>17</td><td>10023283211</td></tr>\n",
       "<tr><td>2025</td><td>8</td><td>15</td><td>10023283211</td></tr>\n",
       "</table>\n"
      ],
      "text/plain": [
       "+----+-----+---+------------+\n",
       "|year|month|day|merchant_abn|\n",
       "+----+-----+---+------------+\n",
       "|2025|   10| 26| 10023283211|\n",
       "|2025|    4| 19| 10023283211|\n",
       "|2025|    7| 11| 10023283211|\n",
       "|2025|    4| 17| 10023283211|\n",
       "|2025|    8| 15| 10023283211|\n",
       "+----+-----+---+------------+"
      ]
     },
     "execution_count": 4,
     "metadata": {},
     "output_type": "execute_result"
    }
   ],
   "source": [
    "from pyspark.sql.functions import lit\n",
    "\n",
    "futuredf = modeldf.withColumn('year', lit(2025))\n",
    "futuredf = futuredf.drop(\"daily_transactions\")\n",
    "futuredf = futuredf.orderBy(\"merchant_abn\")\n",
    "futuredf.limit(5)"
   ]
  },
  {
   "cell_type": "code",
   "execution_count": 5,
   "metadata": {},
   "outputs": [],
   "source": [
    "# VectorAssembler creates new vectors from existing columns\n",
    "from pyspark.ml.feature import VectorAssembler\n",
    "\n",
    "features = 'features'\n",
    "input_cols = [\"year\",\"month\",\"day\",\"merchant_abn\"]\n",
    "\n",
    "assembler = VectorAssembler(\n",
    "    # which column to combine\n",
    "    inputCols=input_cols, \n",
    "    # How should the combined columns be named\n",
    "    outputCol=features\n",
    ")\n",
    "\n",
    "model_sdf = assembler.transform(sdf.dropna('any'))\n",
    "# Display the features and targets for our model\n",
    "#model_sdf.select('features').head(5), model_sdf.select('daily_transactions').head(5)"
   ]
  },
  {
   "cell_type": "code",
   "execution_count": 6,
   "metadata": {},
   "outputs": [
    {
     "name": "stderr",
     "output_type": "stream",
     "text": [
      "                                                                                \r"
     ]
    }
   ],
   "source": [
    "from pyspark.ml.regression import DecisionTreeRegressor\n",
    "\n",
    "model = DecisionTreeRegressor(\n",
    "    featuresCol='features', \n",
    "    labelCol='daily_transactions',\n",
    "    maxDepth=12,\n",
    "    maxBins=1000\n",
    ").fit(model_sdf)"
   ]
  },
  {
   "cell_type": "code",
   "execution_count": 7,
   "metadata": {},
   "outputs": [],
   "source": [
    "# preprocess for predictions\n",
    "predict_test = futuredf.select(*input_cols)\n",
    "\n",
    "assembler = VectorAssembler(\n",
    "    inputCols=input_cols, \n",
    "    outputCol=features\n",
    ")\n",
    "\n",
    "predict_sdf = assembler.transform(predict_test).select(features)\n",
    "\n",
    "#predict_sdf.show(1, vertical=True)"
   ]
  },
  {
   "cell_type": "code",
   "execution_count": 8,
   "metadata": {},
   "outputs": [
    {
     "name": "stderr",
     "output_type": "stream",
     "text": [
      "                                                                                \r"
     ]
    },
    {
     "data": {
      "text/html": [
       "<table border='1'>\n",
       "<tr><th>features</th><th>prediction</th></tr>\n",
       "<tr><td>[2025.0,5.0,6.0,1...</td><td>5.471064094586185</td></tr>\n",
       "<tr><td>[2025.0,6.0,7.0,1...</td><td>5.471064094586185</td></tr>\n",
       "<tr><td>[2025.0,4.0,24.0,...</td><td>5.471064094586185</td></tr>\n",
       "<tr><td>[2025.0,4.0,17.0,...</td><td>5.471064094586185</td></tr>\n",
       "<tr><td>[2025.0,10.0,26.0...</td><td>5.471064094586185</td></tr>\n",
       "</table>\n"
      ],
      "text/plain": [
       "+--------------------+-----------------+\n",
       "|            features|       prediction|\n",
       "+--------------------+-----------------+\n",
       "|[2025.0,5.0,6.0,1...|5.471064094586185|\n",
       "|[2025.0,6.0,7.0,1...|5.471064094586185|\n",
       "|[2025.0,4.0,24.0,...|5.471064094586185|\n",
       "|[2025.0,4.0,17.0,...|5.471064094586185|\n",
       "|[2025.0,10.0,26.0...|5.471064094586185|\n",
       "+--------------------+-----------------+"
      ]
     },
     "execution_count": 8,
     "metadata": {},
     "output_type": "execute_result"
    }
   ],
   "source": [
    "predictions = model.transform(predict_sdf)\n",
    "predictions.limit(5)"
   ]
  },
  {
   "cell_type": "markdown",
   "metadata": {},
   "source": [
    "# Simulated profit data"
   ]
  },
  {
   "cell_type": "code",
   "execution_count": 12,
   "metadata": {},
   "outputs": [],
   "source": [
    "modeldf = spark.read.parquet(\"../data/curated/profitmodeldf.parquet/\")"
   ]
  },
  {
   "cell_type": "code",
   "execution_count": 13,
   "metadata": {},
   "outputs": [
    {
     "name": "stderr",
     "output_type": "stream",
     "text": [
      "                                                                                \r"
     ]
    },
    {
     "name": "stdout",
     "output_type": "stream",
     "text": [
      "1086953 120628\n"
     ]
    },
    {
     "data": {
      "text/html": [
       "<table border='1'>\n",
       "<tr><th>year</th><th>month</th><th>day</th><th>merchant_abn</th><th>daily_profit</th></tr>\n",
       "<tr><td>2021</td><td>2</td><td>28</td><td>10023283211</td><td>1.26</td></tr>\n",
       "<tr><td>2021</td><td>2</td><td>28</td><td>10648956813</td><td>79.19</td></tr>\n",
       "<tr><td>2021</td><td>2</td><td>28</td><td>12870663624</td><td>54.79</td></tr>\n",
       "<tr><td>2021</td><td>2</td><td>28</td><td>13285958344</td><td>49.39</td></tr>\n",
       "<tr><td>2021</td><td>2</td><td>28</td><td>15130143460</td><td>24.57</td></tr>\n",
       "</table>\n"
      ],
      "text/plain": [
       "+----+-----+---+------------+------------+\n",
       "|year|month|day|merchant_abn|daily_profit|\n",
       "+----+-----+---+------------+------------+\n",
       "|2021|    2| 28| 10023283211|        1.26|\n",
       "|2021|    2| 28| 10648956813|       79.19|\n",
       "|2021|    2| 28| 12870663624|       54.79|\n",
       "|2021|    2| 28| 13285958344|       49.39|\n",
       "|2021|    2| 28| 15130143460|       24.57|\n",
       "+----+-----+---+------------+------------+"
      ]
     },
     "execution_count": 13,
     "metadata": {},
     "output_type": "execute_result"
    }
   ],
   "source": [
    "sdf, tdf = modeldf.randomSplit([0.9, 0.1], seed=22)\n",
    "print(sdf.count(),tdf.count())\n",
    "sdf.limit(5)"
   ]
  },
  {
   "cell_type": "code",
   "execution_count": 14,
   "metadata": {},
   "outputs": [
    {
     "data": {
      "text/html": [
       "<table border='1'>\n",
       "<tr><th>year</th><th>month</th><th>day</th><th>merchant_abn</th></tr>\n",
       "<tr><td>2025</td><td>8</td><td>6</td><td>10023283211</td></tr>\n",
       "<tr><td>2025</td><td>10</td><td>31</td><td>10023283211</td></tr>\n",
       "<tr><td>2025</td><td>8</td><td>27</td><td>10023283211</td></tr>\n",
       "<tr><td>2025</td><td>3</td><td>14</td><td>10023283211</td></tr>\n",
       "<tr><td>2025</td><td>8</td><td>2</td><td>10023283211</td></tr>\n",
       "</table>\n"
      ],
      "text/plain": [
       "+----+-----+---+------------+\n",
       "|year|month|day|merchant_abn|\n",
       "+----+-----+---+------------+\n",
       "|2025|    8|  6| 10023283211|\n",
       "|2025|   10| 31| 10023283211|\n",
       "|2025|    8| 27| 10023283211|\n",
       "|2025|    3| 14| 10023283211|\n",
       "|2025|    8|  2| 10023283211|\n",
       "+----+-----+---+------------+"
      ]
     },
     "execution_count": 14,
     "metadata": {},
     "output_type": "execute_result"
    }
   ],
   "source": [
    "from pyspark.sql.functions import lit\n",
    "\n",
    "futuredf = modeldf.withColumn('year', lit(2025))\n",
    "futuredf = futuredf.drop(\"daily_profit\")\n",
    "futuredf = futuredf.orderBy(\"merchant_abn\")\n",
    "futuredf.limit(5)"
   ]
  },
  {
   "cell_type": "code",
   "execution_count": 15,
   "metadata": {},
   "outputs": [],
   "source": [
    "# VectorAssembler creates new vectors from existing columns\n",
    "from pyspark.ml.feature import VectorAssembler\n",
    "\n",
    "features = 'features'\n",
    "input_cols = [\"year\",\"month\",\"day\",\"merchant_abn\"]\n",
    "\n",
    "assembler = VectorAssembler(\n",
    "    # which column to combine\n",
    "    inputCols=input_cols, \n",
    "    # How should the combined columns be named\n",
    "    outputCol=features\n",
    ")\n",
    "\n",
    "model_sdf = assembler.transform(sdf.dropna('any'))\n",
    "# Display the features and targets for our model\n",
    "#model_sdf.select('features').head(5), model_sdf.select('daily_transactions').head(5)"
   ]
  },
  {
   "cell_type": "code",
   "execution_count": 17,
   "metadata": {},
   "outputs": [
    {
     "name": "stderr",
     "output_type": "stream",
     "text": [
      "                                                                                \r"
     ]
    }
   ],
   "source": [
    "from pyspark.ml.regression import DecisionTreeRegressor\n",
    "\n",
    "model = DecisionTreeRegressor(\n",
    "    featuresCol='features', \n",
    "    labelCol='daily_profit',\n",
    "    maxDepth=12,\n",
    "    maxBins=1500\n",
    ").fit(model_sdf)"
   ]
  },
  {
   "cell_type": "code",
   "execution_count": 18,
   "metadata": {},
   "outputs": [],
   "source": [
    "# preprocess for predictions\n",
    "predict_test = futuredf.select(*input_cols)\n",
    "\n",
    "assembler = VectorAssembler(\n",
    "    inputCols=input_cols, \n",
    "    outputCol=features\n",
    ")\n",
    "\n",
    "predict_sdf = assembler.transform(predict_test).select(features)\n",
    "\n",
    "#predict_sdf.show(1, vertical=True)"
   ]
  },
  {
   "cell_type": "code",
   "execution_count": 19,
   "metadata": {},
   "outputs": [
    {
     "data": {
      "text/html": [
       "<table border='1'>\n",
       "<tr><th>features</th><th>prediction</th></tr>\n",
       "<tr><td>[2025.0,12.0,9.0,...</td><td>2.2672463768115945</td></tr>\n",
       "<tr><td>[2025.0,3.0,14.0,...</td><td>1.9050442477876104</td></tr>\n",
       "<tr><td>[2025.0,10.0,6.0,...</td><td>2.2672463768115945</td></tr>\n",
       "<tr><td>[2025.0,8.0,6.0,1...</td><td>2.2672463768115945</td></tr>\n",
       "<tr><td>[2025.0,8.0,27.0,...</td><td>2.2672463768115945</td></tr>\n",
       "</table>\n"
      ],
      "text/plain": [
       "+--------------------+------------------+\n",
       "|            features|        prediction|\n",
       "+--------------------+------------------+\n",
       "|[2025.0,12.0,9.0,...|2.2672463768115945|\n",
       "|[2025.0,3.0,14.0,...|1.9050442477876104|\n",
       "|[2025.0,10.0,6.0,...|2.2672463768115945|\n",
       "|[2025.0,8.0,6.0,1...|2.2672463768115945|\n",
       "|[2025.0,8.0,27.0,...|2.2672463768115945|\n",
       "+--------------------+------------------+"
      ]
     },
     "execution_count": 19,
     "metadata": {},
     "output_type": "execute_result"
    }
   ],
   "source": [
    "predictions = model.transform(predict_sdf)\n",
    "predictions.limit(5)"
   ]
  }
 ],
 "metadata": {
  "kernelspec": {
   "display_name": "Python 3.8.10 64-bit",
   "language": "python",
   "name": "python3"
  },
  "language_info": {
   "codemirror_mode": {
    "name": "ipython",
    "version": 3
   },
   "file_extension": ".py",
   "mimetype": "text/x-python",
   "name": "python",
   "nbconvert_exporter": "python",
   "pygments_lexer": "ipython3",
   "version": "3.10.4"
  },
  "orig_nbformat": 4,
  "vscode": {
   "interpreter": {
    "hash": "916dbcbb3f70747c44a77c7bcd40155683ae19c65e1c03b4aa3499c5328201f1"
   }
  }
 },
 "nbformat": 4,
 "nbformat_minor": 2
}
