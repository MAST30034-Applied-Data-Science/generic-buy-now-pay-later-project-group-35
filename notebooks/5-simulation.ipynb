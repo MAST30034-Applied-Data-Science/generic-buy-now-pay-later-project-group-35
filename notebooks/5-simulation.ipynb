{
 "cells": [
  {
   "cell_type": "code",
   "execution_count": 1,
   "metadata": {},
   "outputs": [
    {
     "name": "stdout",
     "output_type": "stream",
     "text": [
      "22/10/02 20:00:45 WARN Utils: Your hostname, DESKTOP-JJJD94T resolves to a loopback address: 127.0.1.1; using 192.168.177.62 instead (on interface eth0)\n",
      "22/10/02 20:00:45 WARN Utils: Set SPARK_LOCAL_IP if you need to bind to another address\n"
     ]
    },
    {
     "name": "stderr",
     "output_type": "stream",
     "text": [
      "Setting default log level to \"WARN\".\n",
      "To adjust logging level use sc.setLogLevel(newLevel). For SparkR, use setLogLevel(newLevel).\n"
     ]
    },
    {
     "name": "stdout",
     "output_type": "stream",
     "text": [
      "22/10/02 20:00:48 WARN NativeCodeLoader: Unable to load native-hadoop library for your platform... using builtin-java classes where applicable\n",
      "22/10/02 20:00:51 WARN Utils: Service 'SparkUI' could not bind on port 4040. Attempting port 4041.\n"
     ]
    }
   ],
   "source": [
    "from pyspark.sql import SparkSession\n",
    "from pyspark.sql.functions import * \n",
    "import matplotlib.pyplot as plt\n",
    "import pandas as pd\n",
    "import numpy as np\n",
    "from urllib.request import urlretrieve\n",
    "from owslib.wfs import WebFeatureService\n",
    "from dotenv import load_dotenv\n",
    "from pyspark.sql import functions as F\n",
    "\n",
    "# Create a spark session\n",
    "spark = (\n",
    "    SparkSession.builder.appName(\"analysis\")\n",
    "    .config(\"spark.sql.repl.eagerEval.enabled\", True) \n",
    "    .config(\"spark.sql.parquet.cacheMetadata\", \"true\")\n",
    "    .config(\"spark.sql.session.timeZone\", \"Etc/UTC\")\n",
    "    .config(\"spark.driver.memory\", \"2g\")\n",
    "    .config(\"spark.executor.memory\", \"6g\")\n",
    "    .getOrCreate()\n",
    ")"
   ]
  },
  {
   "cell_type": "markdown",
   "metadata": {},
   "source": [
    "# Simulated transaction data"
   ]
  },
  {
   "cell_type": "code",
   "execution_count": 19,
   "metadata": {},
   "outputs": [],
   "source": [
    "modeldf = spark.read.parquet(\"../data/curated/transmodeldf.parquet/\")"
   ]
  },
  {
   "cell_type": "code",
   "execution_count": 20,
   "metadata": {},
   "outputs": [
    {
     "name": "stderr",
     "output_type": "stream",
     "text": [
      "                                                                                \r"
     ]
    },
    {
     "name": "stdout",
     "output_type": "stream",
     "text": [
      "1086508 121073\n"
     ]
    },
    {
     "name": "stderr",
     "output_type": "stream",
     "text": [
      "                                                                                \r"
     ]
    },
    {
     "data": {
      "text/html": [
       "<table border='1'>\n",
       "<tr><th>year</th><th>month</th><th>day</th><th>merchant_abn</th><th>daily_transactions</th></tr>\n",
       "<tr><td>2021</td><td>2</td><td>28</td><td>10323485998</td><td>10</td></tr>\n",
       "<tr><td>2021</td><td>2</td><td>28</td><td>10342410215</td><td>1</td></tr>\n",
       "<tr><td>2021</td><td>2</td><td>28</td><td>10530696903</td><td>2</td></tr>\n",
       "<tr><td>2021</td><td>2</td><td>28</td><td>10714068705</td><td>2</td></tr>\n",
       "<tr><td>2021</td><td>2</td><td>28</td><td>10945019164</td><td>2</td></tr>\n",
       "</table>\n"
      ],
      "text/plain": [
       "+----+-----+---+------------+------------------+\n",
       "|year|month|day|merchant_abn|daily_transactions|\n",
       "+----+-----+---+------------+------------------+\n",
       "|2021|    2| 28| 10323485998|                10|\n",
       "|2021|    2| 28| 10342410215|                 1|\n",
       "|2021|    2| 28| 10530696903|                 2|\n",
       "|2021|    2| 28| 10714068705|                 2|\n",
       "|2021|    2| 28| 10945019164|                 2|\n",
       "+----+-----+---+------------+------------------+"
      ]
     },
     "execution_count": 20,
     "metadata": {},
     "output_type": "execute_result"
    }
   ],
   "source": [
    "sdf, tdf = modeldf.randomSplit([0.9, 0.1], seed=22)\n",
    "print(sdf.count(),tdf.count())\n",
    "sdf.limit(5)"
   ]
  },
  {
   "cell_type": "code",
   "execution_count": 41,
   "metadata": {},
   "outputs": [
    {
     "data": {
      "text/plain": [
       "'\\nyear = [2025]\\n\\nmonth = []\\nfor a in range(1,13,1):\\n    month.append(a)\\n\\nday = []\\nfor b in range(1,31,1):\\n    day.append(b)\\n#print(day)\\n\\nmerchants = []\\nmerchantdf = spark.read.parquet(\"../data/tables/tbl_merchants.parquet\").toPandas()\\nfor ind in merchantdf.index:\\n    merchants.append(merchantdf[\\'merchant_abn\\'][ind])\\n#print(merchants)\\n\\ncolumns = [\"year\",\"month\",\"day\",\"merchant_abn\"]\\ndata = []\\n\\nfor i in range(len(year)):\\n    for j in range(len(month)):\\n        for k in range(len(day)):\\n            for l in range(len(merchants)):\\n                data.append((year[i],month[j],day[k],merchants[l]))\\n\\nfuturedf = spark.createDataFrame(data).toDF(*columns)\\nfuturedf.orderBy(\"day\", ascending = False)\\n'"
      ]
     },
     "execution_count": 41,
     "metadata": {},
     "output_type": "execute_result"
    }
   ],
   "source": [
    "\"\"\"\n",
    "year = [2025]\n",
    "\n",
    "month = []\n",
    "for a in range(1,13,1):\n",
    "    month.append(a)\n",
    "\n",
    "day = []\n",
    "for b in range(1,31,1):\n",
    "    day.append(b)\n",
    "#print(day)\n",
    "\n",
    "merchants = []\n",
    "merchantdf = spark.read.parquet(\"../data/tables/tbl_merchants.parquet\").toPandas()\n",
    "for ind in merchantdf.index:\n",
    "    merchants.append(merchantdf['merchant_abn'][ind])\n",
    "#print(merchants)\n",
    "\n",
    "columns = [\"year\",\"month\",\"day\",\"merchant_abn\"]\n",
    "data = []\n",
    "\n",
    "for i in range(len(year)):\n",
    "    for j in range(len(month)):\n",
    "        for k in range(len(day)):\n",
    "            for l in range(len(merchants)):\n",
    "                data.append((year[i],month[j],day[k],merchants[l]))\n",
    "\n",
    "futuredf = spark.createDataFrame(data).toDF(*columns)\n",
    "futuredf.orderBy(\"day\", ascending = False)\n",
    "\"\"\""
   ]
  },
  {
   "cell_type": "code",
   "execution_count": 21,
   "metadata": {},
   "outputs": [
    {
     "data": {
      "text/html": [
       "<table border='1'>\n",
       "<tr><th>year</th><th>month</th><th>day</th><th>merchant_abn</th></tr>\n",
       "<tr><td>2025</td><td>4</td><td>30</td><td>10023283211</td></tr>\n",
       "<tr><td>2025</td><td>3</td><td>10</td><td>10023283211</td></tr>\n",
       "<tr><td>2025</td><td>11</td><td>13</td><td>10023283211</td></tr>\n",
       "<tr><td>2025</td><td>8</td><td>2</td><td>10023283211</td></tr>\n",
       "<tr><td>2025</td><td>1</td><td>23</td><td>10023283211</td></tr>\n",
       "</table>\n"
      ],
      "text/plain": [
       "+----+-----+---+------------+\n",
       "|year|month|day|merchant_abn|\n",
       "+----+-----+---+------------+\n",
       "|2025|    4| 30| 10023283211|\n",
       "|2025|    3| 10| 10023283211|\n",
       "|2025|   11| 13| 10023283211|\n",
       "|2025|    8|  2| 10023283211|\n",
       "|2025|    1| 23| 10023283211|\n",
       "+----+-----+---+------------+"
      ]
     },
     "execution_count": 21,
     "metadata": {},
     "output_type": "execute_result"
    }
   ],
   "source": [
    "from pyspark.sql.functions import lit\n",
    "\n",
    "futuredf = modeldf.withColumn('year', lit(2025))\n",
    "futuredf = futuredf.drop(\"daily_transactions\")\n",
    "futuredf = futuredf.orderBy(\"merchant_abn\")\n",
    "futuredf.limit(5)"
   ]
  },
  {
   "cell_type": "code",
   "execution_count": 22,
   "metadata": {},
   "outputs": [],
   "source": [
    "# VectorAssembler creates new vectors from existing columns\n",
    "from pyspark.ml.feature import VectorAssembler\n",
    "\n",
    "features = 'features'\n",
    "input_cols = [\"year\",\"month\",\"day\",\"merchant_abn\"]\n",
    "\n",
    "assembler = VectorAssembler(\n",
    "    # which column to combine\n",
    "    inputCols=input_cols, \n",
    "    # How should the combined columns be named\n",
    "    outputCol=features\n",
    ")\n",
    "\n",
    "model_sdf = assembler.transform(sdf.dropna('any'))\n",
    "# Display the features and targets for our model\n",
    "#model_sdf.select('features').head(5), model_sdf.select('daily_transactions').head(5)"
   ]
  },
  {
   "cell_type": "code",
   "execution_count": 23,
   "metadata": {},
   "outputs": [
    {
     "name": "stderr",
     "output_type": "stream",
     "text": [
      "                                                                                \r"
     ]
    }
   ],
   "source": [
    "from pyspark.ml.regression import DecisionTreeRegressor\n",
    "\n",
    "model = DecisionTreeRegressor(\n",
    "    featuresCol='features', \n",
    "    labelCol='daily_transactions',\n",
    "    maxDepth=12,\n",
    "    maxBins=1000\n",
    ").fit(model_sdf)"
   ]
  },
  {
   "cell_type": "code",
   "execution_count": 24,
   "metadata": {
    "tags": []
   },
   "outputs": [],
   "source": [
    "# preprocess for predictions\n",
    "predict_test = futuredf.select(*input_cols)\n",
    "\n",
    "assembler = VectorAssembler(\n",
    "    inputCols=input_cols, \n",
    "    outputCol=features\n",
    ")\n",
    "\n",
    "predict_sdf = assembler.transform(predict_test)\n",
    "\n",
    "#predict_sdf.show(1, vertical=True)"
   ]
  },
  {
   "cell_type": "code",
   "execution_count": 25,
   "metadata": {},
   "outputs": [
    {
     "data": {
      "text/html": [
       "<table border='1'>\n",
       "<tr><th>year</th><th>month</th><th>day</th><th>merchant_abn</th><th>prediction</th></tr>\n",
       "<tr><td>2025</td><td>2</td><td>5</td><td>10023283211</td><td>6.192745873052778</td></tr>\n",
       "<tr><td>2025</td><td>8</td><td>9</td><td>10023283211</td><td>6.192745873052778</td></tr>\n",
       "<tr><td>2025</td><td>7</td><td>28</td><td>10023283211</td><td>6.192745873052778</td></tr>\n",
       "<tr><td>2025</td><td>8</td><td>2</td><td>10023283211</td><td>6.192745873052778</td></tr>\n",
       "<tr><td>2025</td><td>4</td><td>30</td><td>10023283211</td><td>6.192745873052778</td></tr>\n",
       "</table>\n"
      ],
      "text/plain": [
       "+----+-----+---+------------+-----------------+\n",
       "|year|month|day|merchant_abn|       prediction|\n",
       "+----+-----+---+------------+-----------------+\n",
       "|2025|    2|  5| 10023283211|6.192745873052778|\n",
       "|2025|    8|  9| 10023283211|6.192745873052778|\n",
       "|2025|    7| 28| 10023283211|6.192745873052778|\n",
       "|2025|    8|  2| 10023283211|6.192745873052778|\n",
       "|2025|    4| 30| 10023283211|6.192745873052778|\n",
       "+----+-----+---+------------+-----------------+"
      ]
     },
     "execution_count": 25,
     "metadata": {},
     "output_type": "execute_result"
    }
   ],
   "source": [
    "predictions = model.transform(predict_sdf)\n",
    "predictions = predictions.drop(features)\n",
    "predictions.limit(5)"
   ]
  },
  {
   "cell_type": "code",
   "execution_count": 26,
   "metadata": {},
   "outputs": [
    {
     "name": "stderr",
     "output_type": "stream",
     "text": [
      "                                                                                \r"
     ]
    }
   ],
   "source": [
    "predictions.write.mode(\"overwrite\").parquet(\"../data/curated/futuretrans.parquet\")"
   ]
  },
  {
   "cell_type": "markdown",
   "metadata": {},
   "source": [
    "# Simulated profit data"
   ]
  },
  {
   "cell_type": "code",
   "execution_count": 27,
   "metadata": {},
   "outputs": [],
   "source": [
    "modeldf = spark.read.parquet(\"../data/curated/profitmodeldf.parquet/\")"
   ]
  },
  {
   "cell_type": "code",
   "execution_count": 28,
   "metadata": {},
   "outputs": [
    {
     "name": "stderr",
     "output_type": "stream",
     "text": [
      "                                                                                \r"
     ]
    },
    {
     "name": "stdout",
     "output_type": "stream",
     "text": [
      "1086583 120998\n"
     ]
    },
    {
     "name": "stderr",
     "output_type": "stream",
     "text": [
      "                                                                                \r"
     ]
    },
    {
     "data": {
      "text/html": [
       "<table border='1'>\n",
       "<tr><th>year</th><th>month</th><th>day</th><th>merchant_abn</th><th>daily_profit</th></tr>\n",
       "<tr><td>2021</td><td>2</td><td>28</td><td>11802512399</td><td>70.58</td></tr>\n",
       "<tr><td>2021</td><td>2</td><td>28</td><td>12014115545</td><td>9.52</td></tr>\n",
       "<tr><td>2021</td><td>2</td><td>28</td><td>12426913844</td><td>6.42</td></tr>\n",
       "<tr><td>2021</td><td>2</td><td>28</td><td>12497320096</td><td>10.95</td></tr>\n",
       "<tr><td>2021</td><td>2</td><td>28</td><td>13376463476</td><td>0.78</td></tr>\n",
       "</table>\n"
      ],
      "text/plain": [
       "+----+-----+---+------------+------------+\n",
       "|year|month|day|merchant_abn|daily_profit|\n",
       "+----+-----+---+------------+------------+\n",
       "|2021|    2| 28| 11802512399|       70.58|\n",
       "|2021|    2| 28| 12014115545|        9.52|\n",
       "|2021|    2| 28| 12426913844|        6.42|\n",
       "|2021|    2| 28| 12497320096|       10.95|\n",
       "|2021|    2| 28| 13376463476|        0.78|\n",
       "+----+-----+---+------------+------------+"
      ]
     },
     "execution_count": 28,
     "metadata": {},
     "output_type": "execute_result"
    }
   ],
   "source": [
    "sdf, tdf = modeldf.randomSplit([0.9, 0.1], seed=22)\n",
    "print(sdf.count(),tdf.count())\n",
    "sdf.limit(5)"
   ]
  },
  {
   "cell_type": "code",
   "execution_count": 29,
   "metadata": {},
   "outputs": [
    {
     "data": {
      "text/html": [
       "<table border='1'>\n",
       "<tr><th>year</th><th>month</th><th>day</th><th>merchant_abn</th></tr>\n",
       "<tr><td>2025</td><td>7</td><td>6</td><td>10023283211</td></tr>\n",
       "<tr><td>2025</td><td>10</td><td>2</td><td>10023283211</td></tr>\n",
       "<tr><td>2025</td><td>7</td><td>16</td><td>10023283211</td></tr>\n",
       "<tr><td>2025</td><td>12</td><td>24</td><td>10023283211</td></tr>\n",
       "<tr><td>2025</td><td>9</td><td>7</td><td>10023283211</td></tr>\n",
       "</table>\n"
      ],
      "text/plain": [
       "+----+-----+---+------------+\n",
       "|year|month|day|merchant_abn|\n",
       "+----+-----+---+------------+\n",
       "|2025|    7|  6| 10023283211|\n",
       "|2025|   10|  2| 10023283211|\n",
       "|2025|    7| 16| 10023283211|\n",
       "|2025|   12| 24| 10023283211|\n",
       "|2025|    9|  7| 10023283211|\n",
       "+----+-----+---+------------+"
      ]
     },
     "execution_count": 29,
     "metadata": {},
     "output_type": "execute_result"
    }
   ],
   "source": [
    "from pyspark.sql.functions import lit\n",
    "\n",
    "futuredf = modeldf.withColumn('year', lit(2025))\n",
    "futuredf = futuredf.drop(\"daily_profit\")\n",
    "futuredf = futuredf.orderBy(\"merchant_abn\")\n",
    "futuredf.limit(5)"
   ]
  },
  {
   "cell_type": "code",
   "execution_count": 30,
   "metadata": {},
   "outputs": [],
   "source": [
    "# VectorAssembler creates new vectors from existing columns\n",
    "from pyspark.ml.feature import VectorAssembler\n",
    "\n",
    "features = 'features'\n",
    "input_cols = [\"year\",\"month\",\"day\",\"merchant_abn\"]\n",
    "\n",
    "assembler = VectorAssembler(\n",
    "    # which column to combine\n",
    "    inputCols=input_cols, \n",
    "    # How should the combined columns be named\n",
    "    outputCol=features\n",
    ")\n",
    "\n",
    "model_sdf = assembler.transform(sdf.dropna('any'))\n",
    "# Display the features and targets for our model\n",
    "#model_sdf.select('features').head(5), model_sdf.select('daily_transactions').head(5)"
   ]
  },
  {
   "cell_type": "code",
   "execution_count": 31,
   "metadata": {},
   "outputs": [
    {
     "name": "stderr",
     "output_type": "stream",
     "text": [
      "                                                                                \r"
     ]
    }
   ],
   "source": [
    "from pyspark.ml.regression import DecisionTreeRegressor\n",
    "\n",
    "model = DecisionTreeRegressor(\n",
    "    featuresCol='features', \n",
    "    labelCol='daily_profit',\n",
    "    maxDepth=12,\n",
    "    maxBins=1500\n",
    ").fit(model_sdf)"
   ]
  },
  {
   "cell_type": "code",
   "execution_count": 32,
   "metadata": {},
   "outputs": [],
   "source": [
    "# preprocess for predictions\n",
    "predict_test = futuredf.select(*input_cols)\n",
    "\n",
    "assembler = VectorAssembler(\n",
    "    inputCols=input_cols, \n",
    "    outputCol=features\n",
    ")\n",
    "\n",
    "predict_sdf = assembler.transform(predict_test)\n",
    "\n",
    "#predict_sdf.show(1, vertical=True)"
   ]
  },
  {
   "cell_type": "code",
   "execution_count": 33,
   "metadata": {},
   "outputs": [
    {
     "data": {
      "text/html": [
       "<table border='1'>\n",
       "<tr><th>year</th><th>month</th><th>day</th><th>merchant_abn</th><th>prediction</th></tr>\n",
       "<tr><td>2025</td><td>8</td><td>16</td><td>10023283211</td><td>1.7604580152671752</td></tr>\n",
       "<tr><td>2025</td><td>12</td><td>24</td><td>10023283211</td><td>2.128461538461538</td></tr>\n",
       "<tr><td>2025</td><td>10</td><td>22</td><td>10023283211</td><td>2.128461538461538</td></tr>\n",
       "<tr><td>2025</td><td>10</td><td>18</td><td>10023283211</td><td>1.4447368421052633</td></tr>\n",
       "<tr><td>2025</td><td>7</td><td>6</td><td>10023283211</td><td>2.7110000000000007</td></tr>\n",
       "</table>\n"
      ],
      "text/plain": [
       "+----+-----+---+------------+------------------+\n",
       "|year|month|day|merchant_abn|        prediction|\n",
       "+----+-----+---+------------+------------------+\n",
       "|2025|    8| 16| 10023283211|1.7604580152671752|\n",
       "|2025|   12| 24| 10023283211| 2.128461538461538|\n",
       "|2025|   10| 22| 10023283211| 2.128461538461538|\n",
       "|2025|   10| 18| 10023283211|1.4447368421052633|\n",
       "|2025|    7|  6| 10023283211|2.7110000000000007|\n",
       "+----+-----+---+------------+------------------+"
      ]
     },
     "execution_count": 33,
     "metadata": {},
     "output_type": "execute_result"
    }
   ],
   "source": [
    "predictions = model.transform(predict_sdf)\n",
    "predictions = predictions.drop('features')\n",
    "predictions.limit(5)"
   ]
  },
  {
   "cell_type": "code",
   "execution_count": 34,
   "metadata": {},
   "outputs": [
    {
     "name": "stderr",
     "output_type": "stream",
     "text": [
      "                                                                                \r"
     ]
    }
   ],
   "source": [
    "predictions.write.mode(\"overwrite\").parquet(\"../data/curated/futureprofit.parquet\")"
   ]
  }
 ],
 "metadata": {
  "kernelspec": {
   "display_name": "Python 3 (ipykernel)",
   "language": "python",
   "name": "python3"
  },
  "language_info": {
   "codemirror_mode": {
    "name": "ipython",
    "version": 3
   },
   "file_extension": ".py",
   "mimetype": "text/x-python",
   "name": "python",
   "nbconvert_exporter": "python",
   "pygments_lexer": "ipython3",
   "version": "3.8.10"
  },
  "vscode": {
   "interpreter": {
    "hash": "916dbcbb3f70747c44a77c7bcd40155683ae19c65e1c03b4aa3499c5328201f1"
   }
  }
 },
 "nbformat": 4,
 "nbformat_minor": 4
}
