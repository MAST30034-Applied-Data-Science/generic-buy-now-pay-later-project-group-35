{
 "cells": [
  {
   "cell_type": "code",
   "execution_count": 161,
   "metadata": {},
   "outputs": [],
   "source": [
    "from pyspark.sql import SparkSession\n",
    "from pyspark.sql.functions import * \n",
    "import matplotlib.pyplot as plt\n",
    "import pandas as pd\n",
    "import numpy as np\n",
    "from urllib.request import urlretrieve\n",
    "from owslib.wfs import WebFeatureService\n",
    "from dotenv import load_dotenv\n",
    "from pyspark.sql import functions as F\n",
    "\n",
    "# Create a spark session\n",
    "spark = (\n",
    "    SparkSession.builder.appName(\"analysis\")\n",
    "    .config(\"spark.sql.repl.eagerEval.enabled\", True) \n",
    "    .config(\"spark.sql.parquet.cacheMetadata\", \"true\")\n",
    "    .config(\"spark.sql.session.timeZone\", \"Etc/UTC\")\n",
    "    .config(\"spark.driver.memory\", \"2g\")\n",
    "    .config(\"spark.executor.memory\", \"6g\")\n",
    "    .getOrCreate()\n",
    ")"
   ]
  },
  {
   "cell_type": "markdown",
   "metadata": {},
   "source": [
    "# Transactions per merchant per month"
   ]
  },
  {
   "cell_type": "code",
   "execution_count": 162,
   "metadata": {},
   "outputs": [
    {
     "name": "stderr",
     "output_type": "stream",
     "text": [
      "                                                                                \r"
     ]
    },
    {
     "data": {
      "text/html": [
       "<table border='1'>\n",
       "<tr><th>order_datetime</th><th>merchant_abn</th><th>user_id</th><th>postcode</th><th>consumer_id</th><th>dollar_value</th><th>order_id</th><th>state</th><th>gender</th><th>company_name</th><th>tags</th><th>take_rate</th><th>revenue_band</th><th>total_pop</th><th>under10_pop</th><th>adolsc_pop</th><th>yng_adult_pop</th><th>mid_age_pop</th><th>old_pop</th><th>num_earners</th><th>median_age</th><th>median_income</th><th>mean_income</th><th>consumer_fraud_%</th><th>merchant_fraud_%</th></tr>\n",
       "<tr><td>2021-08-21</td><td>80682333501</td><td>3146</td><td>5651</td><td>604753</td><td>0.3672339667473312</td><td>2a59c978-f760-42d...</td><td>SA</td><td>Male</td><td>Orci Corp.</td><td>florists supplies...</td><td> 4.88</td><td> b</td><td>2172</td><td>275</td><td>278</td><td>304</td><td>692</td><td>623</td><td>1308</td><td>47</td><td>37685</td><td>43540</td><td>0.1</td><td>0.1</td></tr>\n",
       "<tr><td>2021-08-19</td><td>99478391356</td><td>3146</td><td>5651</td><td>604753</td><td>3035.1695642706595</td><td>82e100bc-25c2-4e3...</td><td>SA</td><td>Male</td><td>Orci Quis Foundation</td><td>equipment, tool, ...</td><td> 1.52</td><td> c</td><td>2172</td><td>275</td><td>278</td><td>304</td><td>692</td><td>623</td><td>1308</td><td>47</td><td>37685</td><td>43540</td><td>0.1</td><td>0.1</td></tr>\n",
       "<tr><td>2021-08-19</td><td>86578477987</td><td>3146</td><td>5651</td><td>604753</td><td>61.05946896765003</td><td>9e3c8e62-9e8e-4e8...</td><td>SA</td><td>Male</td><td>Leo In Consulting</td><td>watch, clock, and...</td><td> 6.43</td><td> a</td><td>2172</td><td>275</td><td>278</td><td>304</td><td>692</td><td>623</td><td>1308</td><td>47</td><td>37685</td><td>43540</td><td>0.1</td><td>0.1</td></tr>\n",
       "<tr><td>2021-08-14</td><td>32361057556</td><td>3146</td><td>5651</td><td>604753</td><td>155.3456409871304</td><td>e4ff9499-e96d-4e6...</td><td>SA</td><td>Male</td><td>Orci In Consequat...</td><td>gift, card, novel...</td><td> 6.61</td><td> a</td><td>2172</td><td>275</td><td>278</td><td>304</td><td>692</td><td>623</td><td>1308</td><td>47</td><td>37685</td><td>43540</td><td>0.1</td><td>0.1</td></tr>\n",
       "<tr><td>2021-08-16</td><td>20445424481</td><td>3146</td><td>5651</td><td>604753</td><td>57.66971365811276</td><td>4a36f2ed-7bcc-43d...</td><td>SA</td><td>Male</td><td>Amet Industries</td><td>digital goods: bo...</td><td> 6.29</td><td> a</td><td>2172</td><td>275</td><td>278</td><td>304</td><td>692</td><td>623</td><td>1308</td><td>47</td><td>37685</td><td>43540</td><td>0.1</td><td>0.1</td></tr>\n",
       "</table>\n"
      ],
      "text/plain": [
       "+--------------+------------+-------+--------+-----------+------------------+--------------------+-----+------+--------------------+--------------------+---------+------------+---------+-----------+----------+-------------+-----------+-------+-----------+----------+-------------+-----------+----------------+----------------+\n",
       "|order_datetime|merchant_abn|user_id|postcode|consumer_id|      dollar_value|            order_id|state|gender|        company_name|                tags|take_rate|revenue_band|total_pop|under10_pop|adolsc_pop|yng_adult_pop|mid_age_pop|old_pop|num_earners|median_age|median_income|mean_income|consumer_fraud_%|merchant_fraud_%|\n",
       "+--------------+------------+-------+--------+-----------+------------------+--------------------+-----+------+--------------------+--------------------+---------+------------+---------+-----------+----------+-------------+-----------+-------+-----------+----------+-------------+-----------+----------------+----------------+\n",
       "|    2021-08-21| 80682333501|   3146|    5651|     604753|0.3672339667473312|2a59c978-f760-42d...|   SA|  Male|          Orci Corp.|florists supplies...|     4.88|           b|     2172|        275|       278|          304|        692|    623|       1308|        47|        37685|      43540|             0.1|             0.1|\n",
       "|    2021-08-19| 99478391356|   3146|    5651|     604753|3035.1695642706595|82e100bc-25c2-4e3...|   SA|  Male|Orci Quis Foundation|equipment, tool, ...|     1.52|           c|     2172|        275|       278|          304|        692|    623|       1308|        47|        37685|      43540|             0.1|             0.1|\n",
       "|    2021-08-19| 86578477987|   3146|    5651|     604753| 61.05946896765003|9e3c8e62-9e8e-4e8...|   SA|  Male|   Leo In Consulting|watch, clock, and...|     6.43|           a|     2172|        275|       278|          304|        692|    623|       1308|        47|        37685|      43540|             0.1|             0.1|\n",
       "|    2021-08-14| 32361057556|   3146|    5651|     604753| 155.3456409871304|e4ff9499-e96d-4e6...|   SA|  Male|Orci In Consequat...|gift, card, novel...|     6.61|           a|     2172|        275|       278|          304|        692|    623|       1308|        47|        37685|      43540|             0.1|             0.1|\n",
       "|    2021-08-16| 20445424481|   3146|    5651|     604753| 57.66971365811276|4a36f2ed-7bcc-43d...|   SA|  Male|     Amet Industries|digital goods: bo...|     6.29|           a|     2172|        275|       278|          304|        692|    623|       1308|        47|        37685|      43540|             0.1|             0.1|\n",
       "+--------------+------------+-------+--------+-----------+------------------+--------------------+-----+------+--------------------+--------------------+---------+------------+---------+-----------+----------+-------------+-----------+-------+-----------+----------+-------------+-----------+----------------+----------------+"
      ]
     },
     "execution_count": 162,
     "metadata": {},
     "output_type": "execute_result"
    }
   ],
   "source": [
    "finaldf = spark.read.parquet(\"../data/curated/finaldf.parquet/\")\n",
    "finaldf.limit(5)"
   ]
  },
  {
   "cell_type": "code",
   "execution_count": 163,
   "metadata": {},
   "outputs": [
    {
     "data": {
      "text/html": [
       "<table border='1'>\n",
       "<tr><th>merchant_abn</th><th>user_id</th><th>postcode</th><th>consumer_id</th><th>dollar_value</th><th>state</th><th>gender</th><th>tags</th><th>take_rate</th><th>revenue_band</th><th>total_pop</th><th>under10_pop</th><th>adolsc_pop</th><th>yng_adult_pop</th><th>mid_age_pop</th><th>old_pop</th><th>num_earners</th><th>median_age</th><th>median_income</th><th>mean_income</th><th>year</th><th>month</th><th>day</th></tr>\n",
       "<tr><td>80682333501</td><td>3146</td><td>5651.0</td><td>604753</td><td>0.3672339667473312</td><td>SA</td><td>Male</td><td>florists supplies...</td><td>4.88</td><td> b</td><td>2172</td><td>275</td><td>278</td><td>304</td><td>692</td><td>623</td><td>1308</td><td>47</td><td>37685</td><td>43540</td><td>2021</td><td>8</td><td>21</td></tr>\n",
       "<tr><td>99478391356</td><td>3146</td><td>5651.0</td><td>604753</td><td>3035.1695642706595</td><td>SA</td><td>Male</td><td>equipment, tool, ...</td><td>1.52</td><td> c</td><td>2172</td><td>275</td><td>278</td><td>304</td><td>692</td><td>623</td><td>1308</td><td>47</td><td>37685</td><td>43540</td><td>2021</td><td>8</td><td>19</td></tr>\n",
       "<tr><td>86578477987</td><td>3146</td><td>5651.0</td><td>604753</td><td>61.05946896765003</td><td>SA</td><td>Male</td><td>watch, clock, and...</td><td>6.43</td><td> a</td><td>2172</td><td>275</td><td>278</td><td>304</td><td>692</td><td>623</td><td>1308</td><td>47</td><td>37685</td><td>43540</td><td>2021</td><td>8</td><td>19</td></tr>\n",
       "<tr><td>32361057556</td><td>3146</td><td>5651.0</td><td>604753</td><td>155.3456409871304</td><td>SA</td><td>Male</td><td>gift, card, novel...</td><td>6.61</td><td> a</td><td>2172</td><td>275</td><td>278</td><td>304</td><td>692</td><td>623</td><td>1308</td><td>47</td><td>37685</td><td>43540</td><td>2021</td><td>8</td><td>14</td></tr>\n",
       "<tr><td>20445424481</td><td>3146</td><td>5651.0</td><td>604753</td><td>57.66971365811276</td><td>SA</td><td>Male</td><td>digital goods: bo...</td><td>6.29</td><td> a</td><td>2172</td><td>275</td><td>278</td><td>304</td><td>692</td><td>623</td><td>1308</td><td>47</td><td>37685</td><td>43540</td><td>2021</td><td>8</td><td>16</td></tr>\n",
       "</table>\n"
      ],
      "text/plain": [
       "+------------+-------+--------+-----------+------------------+-----+------+--------------------+---------+------------+---------+-----------+----------+-------------+-----------+-------+-----------+----------+-------------+-----------+----+-----+---+\n",
       "|merchant_abn|user_id|postcode|consumer_id|      dollar_value|state|gender|                tags|take_rate|revenue_band|total_pop|under10_pop|adolsc_pop|yng_adult_pop|mid_age_pop|old_pop|num_earners|median_age|median_income|mean_income|year|month|day|\n",
       "+------------+-------+--------+-----------+------------------+-----+------+--------------------+---------+------------+---------+-----------+----------+-------------+-----------+-------+-----------+----------+-------------+-----------+----+-----+---+\n",
       "| 80682333501|   3146|  5651.0|     604753|0.3672339667473312|   SA|  Male|florists supplies...|     4.88|           b|     2172|        275|       278|          304|        692|    623|       1308|        47|        37685|      43540|2021|    8| 21|\n",
       "| 99478391356|   3146|  5651.0|     604753|3035.1695642706595|   SA|  Male|equipment, tool, ...|     1.52|           c|     2172|        275|       278|          304|        692|    623|       1308|        47|        37685|      43540|2021|    8| 19|\n",
       "| 86578477987|   3146|  5651.0|     604753| 61.05946896765003|   SA|  Male|watch, clock, and...|     6.43|           a|     2172|        275|       278|          304|        692|    623|       1308|        47|        37685|      43540|2021|    8| 19|\n",
       "| 32361057556|   3146|  5651.0|     604753| 155.3456409871304|   SA|  Male|gift, card, novel...|     6.61|           a|     2172|        275|       278|          304|        692|    623|       1308|        47|        37685|      43540|2021|    8| 14|\n",
       "| 20445424481|   3146|  5651.0|     604753| 57.66971365811276|   SA|  Male|digital goods: bo...|     6.29|           a|     2172|        275|       278|          304|        692|    623|       1308|        47|        37685|      43540|2021|    8| 16|\n",
       "+------------+-------+--------+-----------+------------------+-----+------+--------------------+---------+------------+---------+-----------+----------+-------------+-----------+-------+-----------+----------+-------------+-----------+----+-----+---+"
      ]
     },
     "execution_count": 163,
     "metadata": {},
     "output_type": "execute_result"
    }
   ],
   "source": [
    "from pyspark.sql.functions import *\n",
    "\n",
    "modeldf = finaldf.withColumn(\"year\", date_format(col(\"order_datetime\"), \"yyyy\").cast(\"long\"))\n",
    "modeldf = modeldf.withColumn(\"month\", date_format(col(\"order_datetime\"), \"MM\").cast(\"long\"))\n",
    "modeldf = modeldf.withColumn(\"day\", date_format(col(\"order_datetime\"), \"dd\").cast(\"long\"))\n",
    "\n",
    "\n",
    "for field in (\"postcode\",\"take_rate\"):\n",
    "    modeldf = modeldf.withColumn(\n",
    "        field,\n",
    "        col(field).cast('double')\n",
    "    )\n",
    "\n",
    "modeldf = modeldf.drop(\"order_datetime\",\"order_id\",\"company_name\",\"consumer_fraud_%\",\"merchant_fraud_%\")\n",
    "\n",
    "modeldf.limit(5)"
   ]
  },
  {
   "cell_type": "code",
   "execution_count": 164,
   "metadata": {},
   "outputs": [],
   "source": [
    "modeldf = modeldf.groupBy(\"year\",\"month\",\"merchant_abn\").agg(\n",
    "    count(\"dollar_value\").alias(\"monthly_transactions\"),\n",
    ")"
   ]
  },
  {
   "cell_type": "code",
   "execution_count": 165,
   "metadata": {},
   "outputs": [
    {
     "name": "stderr",
     "output_type": "stream",
     "text": [
      "                                                                                \r"
     ]
    },
    {
     "data": {
      "text/html": [
       "<table border='1'>\n",
       "<tr><th>merchant_abn</th><th>monthly_transactions</th><th>int_month</th></tr>\n",
       "<tr><td>50315283629</td><td>1359</td><td>21</td></tr>\n",
       "<tr><td>40279146273</td><td>868</td><td>20</td></tr>\n",
       "<tr><td>60956456424</td><td>4213</td><td>16</td></tr>\n",
       "<tr><td>10323485998</td><td>476</td><td>20</td></tr>\n",
       "<tr><td>94472466107</td><td>1070</td><td>16</td></tr>\n",
       "<tr><td>77338620996</td><td>575</td><td>16</td></tr>\n",
       "<tr><td>41974958954</td><td>814</td><td>6</td></tr>\n",
       "<tr><td>74019238521</td><td>1275</td><td>10</td></tr>\n",
       "<tr><td>80893432676</td><td>37</td><td>8</td></tr>\n",
       "<tr><td>44210076869</td><td>59</td><td>3</td></tr>\n",
       "<tr><td>77925217758</td><td>93</td><td>11</td></tr>\n",
       "<tr><td>82539239304</td><td>77</td><td>16</td></tr>\n",
       "<tr><td>35016722348</td><td>861</td><td>20</td></tr>\n",
       "<tr><td>66370248931</td><td>444</td><td>18</td></tr>\n",
       "<tr><td>39896913161</td><td>468</td><td>7</td></tr>\n",
       "<tr><td>12042198256</td><td>110</td><td>10</td></tr>\n",
       "<tr><td>88699453206</td><td>689</td><td>11</td></tr>\n",
       "<tr><td>24852446429</td><td>12696</td><td>9</td></tr>\n",
       "<tr><td>82076270246</td><td>813</td><td>19</td></tr>\n",
       "<tr><td>45151159881</td><td>129</td><td>8</td></tr>\n",
       "</table>\n",
       "only showing top 20 rows\n"
      ],
      "text/plain": [
       "+------------+--------------------+---------+\n",
       "|merchant_abn|monthly_transactions|int_month|\n",
       "+------------+--------------------+---------+\n",
       "| 50315283629|                1359|       21|\n",
       "| 40279146273|                 868|       20|\n",
       "| 60956456424|                4213|       16|\n",
       "| 10323485998|                 476|       20|\n",
       "| 94472466107|                1070|       16|\n",
       "| 77338620996|                 575|       16|\n",
       "| 41974958954|                 814|        6|\n",
       "| 74019238521|                1275|       10|\n",
       "| 80893432676|                  37|        8|\n",
       "| 44210076869|                  59|        3|\n",
       "| 77925217758|                  93|       11|\n",
       "| 82539239304|                  77|       16|\n",
       "| 35016722348|                 861|       20|\n",
       "| 66370248931|                 444|       18|\n",
       "| 39896913161|                 468|        7|\n",
       "| 12042198256|                 110|       10|\n",
       "| 88699453206|                 689|       11|\n",
       "| 24852446429|               12696|        9|\n",
       "| 82076270246|                 813|       19|\n",
       "| 45151159881|                 129|        8|\n",
       "+------------+--------------------+---------+\n",
       "only showing top 20 rows"
      ]
     },
     "execution_count": 165,
     "metadata": {},
     "output_type": "execute_result"
    }
   ],
   "source": [
    "MONTHS = 12\n",
    "modeldf = modeldf.withColumn('int_month', MONTHS*(modeldf['year'] - 2021) + (modeldf['month'] - 1))\n",
    "modeldf = modeldf.drop('year', 'month')\n",
    "modeldf"
   ]
  },
  {
   "cell_type": "code",
   "execution_count": 166,
   "metadata": {},
   "outputs": [
    {
     "name": "stderr",
     "output_type": "stream",
     "text": [
      "                                                                                \r"
     ]
    }
   ],
   "source": [
    "merchant_abns = finaldf.select('merchant_abn').distinct().toPandas()['merchant_abn']\n",
    "\n",
    "records = []\n",
    "for m in merchant_abns:\n",
    "    for int_month in range(1, 22):\n",
    "        records.append([m, 0, int_month])\n",
    "        \n",
    "defaultdf = spark.createDataFrame(records, \n",
    "                                  schema=['merchant_abn', 'monthly_transactions_0', 'int_month'])\n",
    "modeldf = defaultdf.join(modeldf, on=['merchant_abn', 'int_month'], how='left')\n",
    "modeldf = modeldf.drop('monthly_transactions_0')\n",
    "modeldf = modeldf.na.fill(value=0,subset=[\"monthly_transactions\"])"
   ]
  },
  {
   "cell_type": "code",
   "execution_count": 167,
   "metadata": {},
   "outputs": [
    {
     "name": "stderr",
     "output_type": "stream",
     "text": [
      "                                                                                \r"
     ]
    },
    {
     "data": {
      "text/html": [
       "<table border='1'>\n",
       "<tr><th>merchant_abn</th><th>int_month</th><th>monthly_transactions</th></tr>\n",
       "<tr><td>10023283211</td><td>1</td><td>3</td></tr>\n",
       "<tr><td>10023283211</td><td>2</td><td>103</td></tr>\n",
       "<tr><td>10023283211</td><td>3</td><td>117</td></tr>\n",
       "<tr><td>10023283211</td><td>4</td><td>126</td></tr>\n",
       "<tr><td>10023283211</td><td>5</td><td>129</td></tr>\n",
       "<tr><td>10023283211</td><td>6</td><td>137</td></tr>\n",
       "<tr><td>10023283211</td><td>7</td><td>122</td></tr>\n",
       "<tr><td>10023283211</td><td>8</td><td>150</td></tr>\n",
       "<tr><td>10023283211</td><td>9</td><td>141</td></tr>\n",
       "<tr><td>10023283211</td><td>10</td><td>176</td></tr>\n",
       "<tr><td>10023283211</td><td>11</td><td>176</td></tr>\n",
       "<tr><td>10023283211</td><td>12</td><td>107</td></tr>\n",
       "<tr><td>10023283211</td><td>13</td><td>117</td></tr>\n",
       "<tr><td>10023283211</td><td>14</td><td>129</td></tr>\n",
       "<tr><td>10023283211</td><td>15</td><td>143</td></tr>\n",
       "<tr><td>10023283211</td><td>16</td><td>152</td></tr>\n",
       "<tr><td>10023283211</td><td>17</td><td>134</td></tr>\n",
       "<tr><td>10023283211</td><td>18</td><td>166</td></tr>\n",
       "<tr><td>10023283211</td><td>19</td><td>146</td></tr>\n",
       "<tr><td>10023283211</td><td>20</td><td>173</td></tr>\n",
       "</table>\n",
       "only showing top 20 rows\n"
      ],
      "text/plain": [
       "+------------+---------+--------------------+\n",
       "|merchant_abn|int_month|monthly_transactions|\n",
       "+------------+---------+--------------------+\n",
       "| 10023283211|        1|                   3|\n",
       "| 10023283211|        2|                 103|\n",
       "| 10023283211|        3|                 117|\n",
       "| 10023283211|        4|                 126|\n",
       "| 10023283211|        5|                 129|\n",
       "| 10023283211|        6|                 137|\n",
       "| 10023283211|        7|                 122|\n",
       "| 10023283211|        8|                 150|\n",
       "| 10023283211|        9|                 141|\n",
       "| 10023283211|       10|                 176|\n",
       "| 10023283211|       11|                 176|\n",
       "| 10023283211|       12|                 107|\n",
       "| 10023283211|       13|                 117|\n",
       "| 10023283211|       14|                 129|\n",
       "| 10023283211|       15|                 143|\n",
       "| 10023283211|       16|                 152|\n",
       "| 10023283211|       17|                 134|\n",
       "| 10023283211|       18|                 166|\n",
       "| 10023283211|       19|                 146|\n",
       "| 10023283211|       20|                 173|\n",
       "+------------+---------+--------------------+\n",
       "only showing top 20 rows"
      ]
     },
     "execution_count": 167,
     "metadata": {},
     "output_type": "execute_result"
    }
   ],
   "source": [
    "modeldf.sort('merchant_abn', 'int_month')"
   ]
  },
  {
   "cell_type": "code",
   "execution_count": 168,
   "metadata": {},
   "outputs": [
    {
     "name": "stderr",
     "output_type": "stream",
     "text": [
      "                                                                                \r"
     ]
    },
    {
     "name": "stdout",
     "output_type": "stream",
     "text": [
      "F_onewayResult(statistic=3765.09887755024, pvalue=0.0)\n",
      "F_onewayResult(statistic=370640.9712644664, pvalue=0.0)\n"
     ]
    }
   ],
   "source": [
    "from scipy.stats import f_oneway\n",
    "\n",
    "df = modeldf.toPandas()\n",
    "\n",
    "print(f_oneway(df[\"int_month\"],df[\"monthly_transactions\"]))\n",
    "print(f_oneway(df[\"merchant_abn\"],df[\"monthly_transactions\"]))"
   ]
  },
  {
   "cell_type": "code",
   "execution_count": 169,
   "metadata": {},
   "outputs": [
    {
     "data": {
      "text/html": [
       "<div>\n",
       "<style scoped>\n",
       "    .dataframe tbody tr th:only-of-type {\n",
       "        vertical-align: middle;\n",
       "    }\n",
       "\n",
       "    .dataframe tbody tr th {\n",
       "        vertical-align: top;\n",
       "    }\n",
       "\n",
       "    .dataframe thead th {\n",
       "        text-align: right;\n",
       "    }\n",
       "</style>\n",
       "<table border=\"1\" class=\"dataframe\">\n",
       "  <thead>\n",
       "    <tr style=\"text-align: right;\">\n",
       "      <th></th>\n",
       "      <th>merchant_abn</th>\n",
       "      <th>int_month</th>\n",
       "      <th>monthly_transactions</th>\n",
       "      <th>10023283211</th>\n",
       "      <th>10142254217</th>\n",
       "      <th>10165489824</th>\n",
       "      <th>10187291046</th>\n",
       "      <th>10192359162</th>\n",
       "      <th>10206519221</th>\n",
       "      <th>10255988167</th>\n",
       "      <th>...</th>\n",
       "      <th>99803748393</th>\n",
       "      <th>99807059634</th>\n",
       "      <th>99845294286</th>\n",
       "      <th>99861963809</th>\n",
       "      <th>99904689266</th>\n",
       "      <th>99938978285</th>\n",
       "      <th>99974311662</th>\n",
       "      <th>99976658299</th>\n",
       "      <th>99987905597</th>\n",
       "      <th>99990536339</th>\n",
       "    </tr>\n",
       "  </thead>\n",
       "  <tbody>\n",
       "    <tr>\n",
       "      <th>0</th>\n",
       "      <td>38700038932</td>\n",
       "      <td>11</td>\n",
       "      <td>371</td>\n",
       "      <td>0</td>\n",
       "      <td>0</td>\n",
       "      <td>0</td>\n",
       "      <td>0</td>\n",
       "      <td>0</td>\n",
       "      <td>0</td>\n",
       "      <td>0</td>\n",
       "      <td>...</td>\n",
       "      <td>0</td>\n",
       "      <td>0</td>\n",
       "      <td>0</td>\n",
       "      <td>0</td>\n",
       "      <td>0</td>\n",
       "      <td>0</td>\n",
       "      <td>0</td>\n",
       "      <td>0</td>\n",
       "      <td>0</td>\n",
       "      <td>0</td>\n",
       "    </tr>\n",
       "    <tr>\n",
       "      <th>1</th>\n",
       "      <td>35344855546</td>\n",
       "      <td>19</td>\n",
       "      <td>73</td>\n",
       "      <td>0</td>\n",
       "      <td>0</td>\n",
       "      <td>0</td>\n",
       "      <td>0</td>\n",
       "      <td>0</td>\n",
       "      <td>0</td>\n",
       "      <td>0</td>\n",
       "      <td>...</td>\n",
       "      <td>0</td>\n",
       "      <td>0</td>\n",
       "      <td>0</td>\n",
       "      <td>0</td>\n",
       "      <td>0</td>\n",
       "      <td>0</td>\n",
       "      <td>0</td>\n",
       "      <td>0</td>\n",
       "      <td>0</td>\n",
       "      <td>0</td>\n",
       "    </tr>\n",
       "    <tr>\n",
       "      <th>2</th>\n",
       "      <td>78916025936</td>\n",
       "      <td>13</td>\n",
       "      <td>4</td>\n",
       "      <td>0</td>\n",
       "      <td>0</td>\n",
       "      <td>0</td>\n",
       "      <td>0</td>\n",
       "      <td>0</td>\n",
       "      <td>0</td>\n",
       "      <td>0</td>\n",
       "      <td>...</td>\n",
       "      <td>0</td>\n",
       "      <td>0</td>\n",
       "      <td>0</td>\n",
       "      <td>0</td>\n",
       "      <td>0</td>\n",
       "      <td>0</td>\n",
       "      <td>0</td>\n",
       "      <td>0</td>\n",
       "      <td>0</td>\n",
       "      <td>0</td>\n",
       "    </tr>\n",
       "    <tr>\n",
       "      <th>3</th>\n",
       "      <td>60654402457</td>\n",
       "      <td>5</td>\n",
       "      <td>4</td>\n",
       "      <td>0</td>\n",
       "      <td>0</td>\n",
       "      <td>0</td>\n",
       "      <td>0</td>\n",
       "      <td>0</td>\n",
       "      <td>0</td>\n",
       "      <td>0</td>\n",
       "      <td>...</td>\n",
       "      <td>0</td>\n",
       "      <td>0</td>\n",
       "      <td>0</td>\n",
       "      <td>0</td>\n",
       "      <td>0</td>\n",
       "      <td>0</td>\n",
       "      <td>0</td>\n",
       "      <td>0</td>\n",
       "      <td>0</td>\n",
       "      <td>0</td>\n",
       "    </tr>\n",
       "    <tr>\n",
       "      <th>4</th>\n",
       "      <td>37470904997</td>\n",
       "      <td>14</td>\n",
       "      <td>0</td>\n",
       "      <td>0</td>\n",
       "      <td>0</td>\n",
       "      <td>0</td>\n",
       "      <td>0</td>\n",
       "      <td>0</td>\n",
       "      <td>0</td>\n",
       "      <td>0</td>\n",
       "      <td>...</td>\n",
       "      <td>0</td>\n",
       "      <td>0</td>\n",
       "      <td>0</td>\n",
       "      <td>0</td>\n",
       "      <td>0</td>\n",
       "      <td>0</td>\n",
       "      <td>0</td>\n",
       "      <td>0</td>\n",
       "      <td>0</td>\n",
       "      <td>0</td>\n",
       "    </tr>\n",
       "    <tr>\n",
       "      <th>...</th>\n",
       "      <td>...</td>\n",
       "      <td>...</td>\n",
       "      <td>...</td>\n",
       "      <td>...</td>\n",
       "      <td>...</td>\n",
       "      <td>...</td>\n",
       "      <td>...</td>\n",
       "      <td>...</td>\n",
       "      <td>...</td>\n",
       "      <td>...</td>\n",
       "      <td>...</td>\n",
       "      <td>...</td>\n",
       "      <td>...</td>\n",
       "      <td>...</td>\n",
       "      <td>...</td>\n",
       "      <td>...</td>\n",
       "      <td>...</td>\n",
       "      <td>...</td>\n",
       "      <td>...</td>\n",
       "      <td>...</td>\n",
       "      <td>...</td>\n",
       "    </tr>\n",
       "    <tr>\n",
       "      <th>84373</th>\n",
       "      <td>72064300998</td>\n",
       "      <td>5</td>\n",
       "      <td>1</td>\n",
       "      <td>0</td>\n",
       "      <td>0</td>\n",
       "      <td>0</td>\n",
       "      <td>0</td>\n",
       "      <td>0</td>\n",
       "      <td>0</td>\n",
       "      <td>0</td>\n",
       "      <td>...</td>\n",
       "      <td>0</td>\n",
       "      <td>0</td>\n",
       "      <td>0</td>\n",
       "      <td>0</td>\n",
       "      <td>0</td>\n",
       "      <td>0</td>\n",
       "      <td>0</td>\n",
       "      <td>0</td>\n",
       "      <td>0</td>\n",
       "      <td>0</td>\n",
       "    </tr>\n",
       "    <tr>\n",
       "      <th>84374</th>\n",
       "      <td>29623808496</td>\n",
       "      <td>21</td>\n",
       "      <td>0</td>\n",
       "      <td>0</td>\n",
       "      <td>0</td>\n",
       "      <td>0</td>\n",
       "      <td>0</td>\n",
       "      <td>0</td>\n",
       "      <td>0</td>\n",
       "      <td>0</td>\n",
       "      <td>...</td>\n",
       "      <td>0</td>\n",
       "      <td>0</td>\n",
       "      <td>0</td>\n",
       "      <td>0</td>\n",
       "      <td>0</td>\n",
       "      <td>0</td>\n",
       "      <td>0</td>\n",
       "      <td>0</td>\n",
       "      <td>0</td>\n",
       "      <td>0</td>\n",
       "    </tr>\n",
       "    <tr>\n",
       "      <th>84375</th>\n",
       "      <td>47047735645</td>\n",
       "      <td>7</td>\n",
       "      <td>0</td>\n",
       "      <td>0</td>\n",
       "      <td>0</td>\n",
       "      <td>0</td>\n",
       "      <td>0</td>\n",
       "      <td>0</td>\n",
       "      <td>0</td>\n",
       "      <td>0</td>\n",
       "      <td>...</td>\n",
       "      <td>0</td>\n",
       "      <td>0</td>\n",
       "      <td>0</td>\n",
       "      <td>0</td>\n",
       "      <td>0</td>\n",
       "      <td>0</td>\n",
       "      <td>0</td>\n",
       "      <td>0</td>\n",
       "      <td>0</td>\n",
       "      <td>0</td>\n",
       "    </tr>\n",
       "    <tr>\n",
       "      <th>84376</th>\n",
       "      <td>39700611505</td>\n",
       "      <td>15</td>\n",
       "      <td>0</td>\n",
       "      <td>0</td>\n",
       "      <td>0</td>\n",
       "      <td>0</td>\n",
       "      <td>0</td>\n",
       "      <td>0</td>\n",
       "      <td>0</td>\n",
       "      <td>0</td>\n",
       "      <td>...</td>\n",
       "      <td>0</td>\n",
       "      <td>0</td>\n",
       "      <td>0</td>\n",
       "      <td>0</td>\n",
       "      <td>0</td>\n",
       "      <td>0</td>\n",
       "      <td>0</td>\n",
       "      <td>0</td>\n",
       "      <td>0</td>\n",
       "      <td>0</td>\n",
       "    </tr>\n",
       "    <tr>\n",
       "      <th>84377</th>\n",
       "      <td>22019281430</td>\n",
       "      <td>2</td>\n",
       "      <td>0</td>\n",
       "      <td>0</td>\n",
       "      <td>0</td>\n",
       "      <td>0</td>\n",
       "      <td>0</td>\n",
       "      <td>0</td>\n",
       "      <td>0</td>\n",
       "      <td>0</td>\n",
       "      <td>...</td>\n",
       "      <td>0</td>\n",
       "      <td>0</td>\n",
       "      <td>0</td>\n",
       "      <td>0</td>\n",
       "      <td>0</td>\n",
       "      <td>0</td>\n",
       "      <td>0</td>\n",
       "      <td>0</td>\n",
       "      <td>0</td>\n",
       "      <td>0</td>\n",
       "    </tr>\n",
       "  </tbody>\n",
       "</table>\n",
       "<p>84378 rows × 4021 columns</p>\n",
       "</div>"
      ],
      "text/plain": [
       "       merchant_abn  int_month  monthly_transactions  10023283211  \\\n",
       "0       38700038932         11                   371            0   \n",
       "1       35344855546         19                    73            0   \n",
       "2       78916025936         13                     4            0   \n",
       "3       60654402457          5                     4            0   \n",
       "4       37470904997         14                     0            0   \n",
       "...             ...        ...                   ...          ...   \n",
       "84373   72064300998          5                     1            0   \n",
       "84374   29623808496         21                     0            0   \n",
       "84375   47047735645          7                     0            0   \n",
       "84376   39700611505         15                     0            0   \n",
       "84377   22019281430          2                     0            0   \n",
       "\n",
       "       10142254217  10165489824  10187291046  10192359162  10206519221  \\\n",
       "0                0            0            0            0            0   \n",
       "1                0            0            0            0            0   \n",
       "2                0            0            0            0            0   \n",
       "3                0            0            0            0            0   \n",
       "4                0            0            0            0            0   \n",
       "...            ...          ...          ...          ...          ...   \n",
       "84373            0            0            0            0            0   \n",
       "84374            0            0            0            0            0   \n",
       "84375            0            0            0            0            0   \n",
       "84376            0            0            0            0            0   \n",
       "84377            0            0            0            0            0   \n",
       "\n",
       "       10255988167  ...  99803748393  99807059634  99845294286  99861963809  \\\n",
       "0                0  ...            0            0            0            0   \n",
       "1                0  ...            0            0            0            0   \n",
       "2                0  ...            0            0            0            0   \n",
       "3                0  ...            0            0            0            0   \n",
       "4                0  ...            0            0            0            0   \n",
       "...            ...  ...          ...          ...          ...          ...   \n",
       "84373            0  ...            0            0            0            0   \n",
       "84374            0  ...            0            0            0            0   \n",
       "84375            0  ...            0            0            0            0   \n",
       "84376            0  ...            0            0            0            0   \n",
       "84377            0  ...            0            0            0            0   \n",
       "\n",
       "       99904689266  99938978285  99974311662  99976658299  99987905597  \\\n",
       "0                0            0            0            0            0   \n",
       "1                0            0            0            0            0   \n",
       "2                0            0            0            0            0   \n",
       "3                0            0            0            0            0   \n",
       "4                0            0            0            0            0   \n",
       "...            ...          ...          ...          ...          ...   \n",
       "84373            0            0            0            0            0   \n",
       "84374            0            0            0            0            0   \n",
       "84375            0            0            0            0            0   \n",
       "84376            0            0            0            0            0   \n",
       "84377            0            0            0            0            0   \n",
       "\n",
       "       99990536339  \n",
       "0                0  \n",
       "1                0  \n",
       "2                0  \n",
       "3                0  \n",
       "4                0  \n",
       "...            ...  \n",
       "84373            0  \n",
       "84374            0  \n",
       "84375            0  \n",
       "84376            0  \n",
       "84377            0  \n",
       "\n",
       "[84378 rows x 4021 columns]"
      ]
     },
     "execution_count": 169,
     "metadata": {},
     "output_type": "execute_result"
    }
   ],
   "source": [
    "one_hot = pd.get_dummies(df['merchant_abn'])\n",
    "df = df.join(one_hot)\n",
    "df "
   ]
  },
  {
   "cell_type": "code",
   "execution_count": 170,
   "metadata": {},
   "outputs": [
    {
     "name": "stdout",
     "output_type": "stream",
     "text": [
      "26482181417\n"
     ]
    },
    {
     "data": {
      "image/png": "[encoded data removed]",
      "text/plain": [
       "<Figure size 432x288 with 1 Axes>"
      ]
     },
     "metadata": {
      "needs_background": "light"
     },
     "output_type": "display_data"
    },
    {
     "name": "stdout",
     "output_type": "stream",
     "text": [
      "67797658023\n"
     ]
    },
    {
     "data": {
      "image/png": "[encoded data removed]",
      "text/plain": [
       "<Figure size 432x288 with 1 Axes>"
      ]
     },
     "metadata": {
      "needs_background": "light"
     },
     "output_type": "display_data"
    },
    {
     "name": "stdout",
     "output_type": "stream",
     "text": [
      "14480530534\n"
     ]
    },
    {
     "data": {
      "image/png": "[encoded data removed]",
      "text/plain": [
       "<Figure size 432x288 with 1 Axes>"
      ]
     },
     "metadata": {
      "needs_background": "light"
     },
     "output_type": "display_data"
    },
    {
     "name": "stdout",
     "output_type": "stream",
     "text": [
      "67979471799\n"
     ]
    },
    {
     "data": {
      "image/png": "[encoded data removed]",
      "text/plain": [
       "<Figure size 432x288 with 1 Axes>"
      ]
     },
     "metadata": {
      "needs_background": "light"
     },
     "output_type": "display_data"
    },
    {
     "name": "stdout",
     "output_type": "stream",
     "text": [
      "31686734877\n"
     ]
    },
    {
     "data": {
      "image/png": "[encoded data removed]",
      "text/plain": [
       "<Figure size 432x288 with 1 Axes>"
      ]
     },
     "metadata": {
      "needs_background": "light"
     },
     "output_type": "display_data"
    }
   ],
   "source": [
    "import random\n",
    "random.seed(4302022)\n",
    "\n",
    "for i in range(5):\n",
    "    random_merchant = random.sample(merchant_abns.tolist(), 1)[0]\n",
    "    \n",
    "    print(random_merchant)\n",
    "    \n",
    "    filtereddf = df[df[random_merchant] == 1][['int_month', 'monthly_transactions']]\n",
    "    filtereddf = filtereddf.sort_values('int_month')\n",
    "    filtereddf = filtereddf['monthly_transactions']\n",
    "    \n",
    "    x = pd.plotting.autocorrelation_plot(filtereddf)\n",
    " \n",
    "    x.plot()\n",
    " \n",
    "    plt.show()\n"
   ]
  },
  {
   "cell_type": "markdown",
   "metadata": {},
   "source": [
    "Use 2 lags."
   ]
  },
  {
   "cell_type": "code",
   "execution_count": 171,
   "metadata": {},
   "outputs": [
    {
     "name": "stderr",
     "output_type": "stream",
     "text": [
      "                                                                                \r"
     ]
    },
    {
     "data": {
      "text/html": [
       "<table border='1'>\n",
       "<tr><th>merchant_abn</th><th>int_month</th><th>monthly_transactions</th><th>merchant_abn_class</th></tr>\n",
       "<tr><td>38700038932</td><td>11</td><td>371</td><td>1327.0</td></tr>\n",
       "<tr><td>35344855546</td><td>19</td><td>73</td><td>1181.0</td></tr>\n",
       "<tr><td>78916025936</td><td>13</td><td>4</td><td>3108.0</td></tr>\n",
       "<tr><td>60654402457</td><td>5</td><td>4</td><td>2279.0</td></tr>\n",
       "<tr><td>37470904997</td><td>14</td><td>0</td><td>1270.0</td></tr>\n",
       "<tr><td>61867784114</td><td>3</td><td>3</td><td>2323.0</td></tr>\n",
       "<tr><td>46331355995</td><td>7</td><td>84</td><td>1668.0</td></tr>\n",
       "<tr><td>35927874515</td><td>2</td><td>137</td><td>1214.0</td></tr>\n",
       "<tr><td>57093429717</td><td>20</td><td>54</td><td>2145.0</td></tr>\n",
       "<tr><td>14316652139</td><td>8</td><td>12</td><td>190.0</td></tr>\n",
       "<tr><td>60616659469</td><td>6</td><td>21</td><td>2275.0</td></tr>\n",
       "<tr><td>24952685426</td><td>11</td><td>6</td><td>681.0</td></tr>\n",
       "<tr><td>88878493736</td><td>6</td><td>10</td><td>3548.0</td></tr>\n",
       "<tr><td>42270780873</td><td>12</td><td>7</td><td>1482.0</td></tr>\n",
       "<tr><td>43321695302</td><td>19</td><td>310</td><td>1535.0</td></tr>\n",
       "<tr><td>21532935983</td><td>12</td><td>141</td><td>521.0</td></tr>\n",
       "<tr><td>28510201393</td><td>18</td><td>45</td><td>850.0</td></tr>\n",
       "<tr><td>72167534195</td><td>20</td><td>45</td><td>2795.0</td></tr>\n",
       "<tr><td>41027080823</td><td>14</td><td>0</td><td>1418.0</td></tr>\n",
       "<tr><td>83045786081</td><td>14</td><td>14</td><td>3299.0</td></tr>\n",
       "</table>\n",
       "only showing top 20 rows\n"
      ],
      "text/plain": [
       "+------------+---------+--------------------+------------------+\n",
       "|merchant_abn|int_month|monthly_transactions|merchant_abn_class|\n",
       "+------------+---------+--------------------+------------------+\n",
       "| 38700038932|       11|                 371|            1327.0|\n",
       "| 35344855546|       19|                  73|            1181.0|\n",
       "| 78916025936|       13|                   4|            3108.0|\n",
       "| 60654402457|        5|                   4|            2279.0|\n",
       "| 37470904997|       14|                   0|            1270.0|\n",
       "| 61867784114|        3|                   3|            2323.0|\n",
       "| 46331355995|        7|                  84|            1668.0|\n",
       "| 35927874515|        2|                 137|            1214.0|\n",
       "| 57093429717|       20|                  54|            2145.0|\n",
       "| 14316652139|        8|                  12|             190.0|\n",
       "| 60616659469|        6|                  21|            2275.0|\n",
       "| 24952685426|       11|                   6|             681.0|\n",
       "| 88878493736|        6|                  10|            3548.0|\n",
       "| 42270780873|       12|                   7|            1482.0|\n",
       "| 43321695302|       19|                 310|            1535.0|\n",
       "| 21532935983|       12|                 141|             521.0|\n",
       "| 28510201393|       18|                  45|             850.0|\n",
       "| 72167534195|       20|                  45|            2795.0|\n",
       "| 41027080823|       14|                   0|            1418.0|\n",
       "| 83045786081|       14|                  14|            3299.0|\n",
       "+------------+---------+--------------------+------------------+\n",
       "only showing top 20 rows"
      ]
     },
     "execution_count": 171,
     "metadata": {},
     "output_type": "execute_result"
    }
   ],
   "source": [
    "from pyspark.ml.feature import StringIndexer\n",
    "indexer = StringIndexer(inputCol='merchant_abn', outputCol='merchant_abn_class')\n",
    "indexer_fitted = indexer.fit(modeldf)\n",
    "modeldf = indexer_fitted.transform(modeldf)\n",
    "modeldf"
   ]
  },
  {
   "cell_type": "code",
   "execution_count": 172,
   "metadata": {},
   "outputs": [
    {
     "name": "stderr",
     "output_type": "stream",
     "text": [
      "                                                                                \r"
     ]
    },
    {
     "data": {
      "text/html": [
       "<table border='1'>\n",
       "<tr><th>merchant_abn</th><th>int_month</th><th>monthly_transactions</th><th>merchant_abn_class</th><th>merchant_abn_ohe</th></tr>\n",
       "<tr><td>38700038932</td><td>11</td><td>371</td><td>1327.0</td><td>(4017,[1327],[1.0])</td></tr>\n",
       "<tr><td>35344855546</td><td>19</td><td>73</td><td>1181.0</td><td>(4017,[1181],[1.0])</td></tr>\n",
       "<tr><td>78916025936</td><td>13</td><td>4</td><td>3108.0</td><td>(4017,[3108],[1.0])</td></tr>\n",
       "<tr><td>60654402457</td><td>5</td><td>4</td><td>2279.0</td><td>(4017,[2279],[1.0])</td></tr>\n",
       "<tr><td>37470904997</td><td>14</td><td>0</td><td>1270.0</td><td>(4017,[1270],[1.0])</td></tr>\n",
       "<tr><td>61867784114</td><td>3</td><td>3</td><td>2323.0</td><td>(4017,[2323],[1.0])</td></tr>\n",
       "<tr><td>46331355995</td><td>7</td><td>84</td><td>1668.0</td><td>(4017,[1668],[1.0])</td></tr>\n",
       "<tr><td>35927874515</td><td>2</td><td>137</td><td>1214.0</td><td>(4017,[1214],[1.0])</td></tr>\n",
       "<tr><td>57093429717</td><td>20</td><td>54</td><td>2145.0</td><td>(4017,[2145],[1.0])</td></tr>\n",
       "<tr><td>14316652139</td><td>8</td><td>12</td><td>190.0</td><td>(4017,[190],[1.0])</td></tr>\n",
       "<tr><td>60616659469</td><td>6</td><td>21</td><td>2275.0</td><td>(4017,[2275],[1.0])</td></tr>\n",
       "<tr><td>24952685426</td><td>11</td><td>6</td><td>681.0</td><td>(4017,[681],[1.0])</td></tr>\n",
       "<tr><td>88878493736</td><td>6</td><td>10</td><td>3548.0</td><td>(4017,[3548],[1.0])</td></tr>\n",
       "<tr><td>42270780873</td><td>12</td><td>7</td><td>1482.0</td><td>(4017,[1482],[1.0])</td></tr>\n",
       "<tr><td>43321695302</td><td>19</td><td>310</td><td>1535.0</td><td>(4017,[1535],[1.0])</td></tr>\n",
       "<tr><td>21532935983</td><td>12</td><td>141</td><td>521.0</td><td>(4017,[521],[1.0])</td></tr>\n",
       "<tr><td>28510201393</td><td>18</td><td>45</td><td>850.0</td><td>(4017,[850],[1.0])</td></tr>\n",
       "<tr><td>72167534195</td><td>20</td><td>45</td><td>2795.0</td><td>(4017,[2795],[1.0])</td></tr>\n",
       "<tr><td>41027080823</td><td>14</td><td>0</td><td>1418.0</td><td>(4017,[1418],[1.0])</td></tr>\n",
       "<tr><td>83045786081</td><td>14</td><td>14</td><td>3299.0</td><td>(4017,[3299],[1.0])</td></tr>\n",
       "</table>\n",
       "only showing top 20 rows\n"
      ],
      "text/plain": [
       "+------------+---------+--------------------+------------------+-------------------+\n",
       "|merchant_abn|int_month|monthly_transactions|merchant_abn_class|   merchant_abn_ohe|\n",
       "+------------+---------+--------------------+------------------+-------------------+\n",
       "| 38700038932|       11|                 371|            1327.0|(4017,[1327],[1.0])|\n",
       "| 35344855546|       19|                  73|            1181.0|(4017,[1181],[1.0])|\n",
       "| 78916025936|       13|                   4|            3108.0|(4017,[3108],[1.0])|\n",
       "| 60654402457|        5|                   4|            2279.0|(4017,[2279],[1.0])|\n",
       "| 37470904997|       14|                   0|            1270.0|(4017,[1270],[1.0])|\n",
       "| 61867784114|        3|                   3|            2323.0|(4017,[2323],[1.0])|\n",
       "| 46331355995|        7|                  84|            1668.0|(4017,[1668],[1.0])|\n",
       "| 35927874515|        2|                 137|            1214.0|(4017,[1214],[1.0])|\n",
       "| 57093429717|       20|                  54|            2145.0|(4017,[2145],[1.0])|\n",
       "| 14316652139|        8|                  12|             190.0| (4017,[190],[1.0])|\n",
       "| 60616659469|        6|                  21|            2275.0|(4017,[2275],[1.0])|\n",
       "| 24952685426|       11|                   6|             681.0| (4017,[681],[1.0])|\n",
       "| 88878493736|        6|                  10|            3548.0|(4017,[3548],[1.0])|\n",
       "| 42270780873|       12|                   7|            1482.0|(4017,[1482],[1.0])|\n",
       "| 43321695302|       19|                 310|            1535.0|(4017,[1535],[1.0])|\n",
       "| 21532935983|       12|                 141|             521.0| (4017,[521],[1.0])|\n",
       "| 28510201393|       18|                  45|             850.0| (4017,[850],[1.0])|\n",
       "| 72167534195|       20|                  45|            2795.0|(4017,[2795],[1.0])|\n",
       "| 41027080823|       14|                   0|            1418.0|(4017,[1418],[1.0])|\n",
       "| 83045786081|       14|                  14|            3299.0|(4017,[3299],[1.0])|\n",
       "+------------+---------+--------------------+------------------+-------------------+\n",
       "only showing top 20 rows"
      ]
     },
     "execution_count": 172,
     "metadata": {},
     "output_type": "execute_result"
    }
   ],
   "source": [
    "from pyspark.ml.feature import OneHotEncoder\n",
    "encoder = OneHotEncoder(inputCols=['merchant_abn_class'], outputCols=['merchant_abn_ohe'])\n",
    "modeldf = encoder.fit(modeldf).transform(modeldf)\n",
    "modeldf"
   ]
  },
  {
   "cell_type": "code",
   "execution_count": 173,
   "metadata": {},
   "outputs": [
    {
     "name": "stderr",
     "output_type": "stream",
     "text": [
      "                                                                                \r"
     ]
    },
    {
     "name": "stdout",
     "output_type": "stream",
     "text": [
      "+------------+---------+--------------------+------------------+----------------+----------------------+----------------------+\n",
      "|merchant_abn|int_month|monthly_transactions|merchant_abn_class|merchant_abn_ohe|monthly_transactions-1|monthly_transactions-2|\n",
      "+------------+---------+--------------------+------------------+----------------+----------------------+----------------------+\n",
      "| 10023283211|        1|                   3|               0.0|(4017,[0],[1.0])|                  null|                  null|\n",
      "| 10023283211|        2|                 103|               0.0|(4017,[0],[1.0])|                     3|                  null|\n",
      "| 10023283211|        3|                 117|               0.0|(4017,[0],[1.0])|                   103|                     3|\n",
      "| 10023283211|        4|                 126|               0.0|(4017,[0],[1.0])|                   117|                   103|\n",
      "| 10023283211|        5|                 129|               0.0|(4017,[0],[1.0])|                   126|                   117|\n",
      "| 10023283211|        6|                 137|               0.0|(4017,[0],[1.0])|                   129|                   126|\n",
      "| 10023283211|        7|                 122|               0.0|(4017,[0],[1.0])|                   137|                   129|\n",
      "| 10023283211|        8|                 150|               0.0|(4017,[0],[1.0])|                   122|                   137|\n",
      "| 10023283211|        9|                 141|               0.0|(4017,[0],[1.0])|                   150|                   122|\n",
      "| 10023283211|       10|                 176|               0.0|(4017,[0],[1.0])|                   141|                   150|\n",
      "| 10023283211|       11|                 176|               0.0|(4017,[0],[1.0])|                   176|                   141|\n",
      "| 10023283211|       12|                 107|               0.0|(4017,[0],[1.0])|                   176|                   176|\n",
      "| 10023283211|       13|                 117|               0.0|(4017,[0],[1.0])|                   107|                   176|\n",
      "| 10023283211|       14|                 129|               0.0|(4017,[0],[1.0])|                   117|                   107|\n",
      "| 10023283211|       15|                 143|               0.0|(4017,[0],[1.0])|                   129|                   117|\n",
      "| 10023283211|       16|                 152|               0.0|(4017,[0],[1.0])|                   143|                   129|\n",
      "| 10023283211|       17|                 134|               0.0|(4017,[0],[1.0])|                   152|                   143|\n",
      "| 10023283211|       18|                 166|               0.0|(4017,[0],[1.0])|                   134|                   152|\n",
      "| 10023283211|       19|                 146|               0.0|(4017,[0],[1.0])|                   166|                   134|\n",
      "| 10023283211|       20|                 173|               0.0|(4017,[0],[1.0])|                   146|                   166|\n",
      "| 10023283211|       21|                 164|               0.0|(4017,[0],[1.0])|                   173|                   146|\n",
      "| 10142254217|        1|                   1|               1.0|(4017,[1],[1.0])|                  null|                  null|\n",
      "| 10142254217|        2|                 108|               1.0|(4017,[1],[1.0])|                     1|                  null|\n",
      "| 10142254217|        3|                  95|               1.0|(4017,[1],[1.0])|                   108|                     1|\n",
      "| 10142254217|        4|                 109|               1.0|(4017,[1],[1.0])|                    95|                   108|\n",
      "| 10142254217|        5|                 118|               1.0|(4017,[1],[1.0])|                   109|                    95|\n",
      "| 10142254217|        6|                 122|               1.0|(4017,[1],[1.0])|                   118|                   109|\n",
      "| 10142254217|        7|                 118|               1.0|(4017,[1],[1.0])|                   122|                   118|\n",
      "| 10142254217|        8|                 118|               1.0|(4017,[1],[1.0])|                   118|                   122|\n",
      "| 10142254217|        9|                 114|               1.0|(4017,[1],[1.0])|                   118|                   118|\n",
      "| 10142254217|       10|                 164|               1.0|(4017,[1],[1.0])|                   114|                   118|\n",
      "| 10142254217|       11|                 189|               1.0|(4017,[1],[1.0])|                   164|                   114|\n",
      "| 10142254217|       12|                  86|               1.0|(4017,[1],[1.0])|                   189|                   164|\n",
      "| 10142254217|       13|                 107|               1.0|(4017,[1],[1.0])|                    86|                   189|\n",
      "| 10142254217|       14|                 136|               1.0|(4017,[1],[1.0])|                   107|                    86|\n",
      "| 10142254217|       15|                 149|               1.0|(4017,[1],[1.0])|                   136|                   107|\n",
      "| 10142254217|       16|                 136|               1.0|(4017,[1],[1.0])|                   149|                   136|\n",
      "| 10142254217|       17|                 125|               1.0|(4017,[1],[1.0])|                   136|                   149|\n",
      "| 10142254217|       18|                 149|               1.0|(4017,[1],[1.0])|                   125|                   136|\n",
      "| 10142254217|       19|                 149|               1.0|(4017,[1],[1.0])|                   149|                   125|\n",
      "| 10142254217|       20|                 130|               1.0|(4017,[1],[1.0])|                   149|                   149|\n",
      "| 10142254217|       21|                 185|               1.0|(4017,[1],[1.0])|                   130|                   149|\n",
      "| 10165489824|        1|                   0|               2.0|(4017,[2],[1.0])|                  null|                  null|\n",
      "| 10165489824|        2|                   0|               2.0|(4017,[2],[1.0])|                     0|                  null|\n",
      "| 10165489824|        3|                   0|               2.0|(4017,[2],[1.0])|                     0|                     0|\n",
      "| 10165489824|        4|                   0|               2.0|(4017,[2],[1.0])|                     0|                     0|\n",
      "| 10165489824|        5|                   0|               2.0|(4017,[2],[1.0])|                     0|                     0|\n",
      "| 10165489824|        6|                   0|               2.0|(4017,[2],[1.0])|                     0|                     0|\n",
      "| 10165489824|        7|                   0|               2.0|(4017,[2],[1.0])|                     0|                     0|\n",
      "| 10165489824|        8|                   0|               2.0|(4017,[2],[1.0])|                     0|                     0|\n",
      "| 10165489824|        9|                   0|               2.0|(4017,[2],[1.0])|                     0|                     0|\n",
      "| 10165489824|       10|                   0|               2.0|(4017,[2],[1.0])|                     0|                     0|\n",
      "| 10165489824|       11|                   0|               2.0|(4017,[2],[1.0])|                     0|                     0|\n",
      "| 10165489824|       12|                   0|               2.0|(4017,[2],[1.0])|                     0|                     0|\n",
      "| 10165489824|       13|                   0|               2.0|(4017,[2],[1.0])|                     0|                     0|\n",
      "| 10165489824|       14|                   0|               2.0|(4017,[2],[1.0])|                     0|                     0|\n",
      "| 10165489824|       15|                   0|               2.0|(4017,[2],[1.0])|                     0|                     0|\n",
      "| 10165489824|       16|                   0|               2.0|(4017,[2],[1.0])|                     0|                     0|\n",
      "| 10165489824|       17|                   1|               2.0|(4017,[2],[1.0])|                     0|                     0|\n",
      "| 10165489824|       18|                   0|               2.0|(4017,[2],[1.0])|                     1|                     0|\n",
      "+------------+---------+--------------------+------------------+----------------+----------------------+----------------------+\n",
      "only showing top 60 rows\n",
      "\n"
     ]
    }
   ],
   "source": [
    "from pyspark.sql.window import Window\n",
    "\n",
    "partition = Window.partitionBy(\"merchant_abn\").orderBy(\"int_month\")\n",
    "modeldf = modeldf.withColumn('monthly_transactions-1', lag('monthly_transactions', 1).over(partition))\n",
    "modeldf = modeldf.withColumn('monthly_transactions-2', lag('monthly_transactions', 2).over(partition))\n",
    "modeldf.show(60)"
   ]
  },
  {
   "cell_type": "code",
   "execution_count": 175,
   "metadata": {
    "tags": []
   },
   "outputs": [
    {
     "name": "stderr",
     "output_type": "stream",
     "text": [
      "                                                                                \r"
     ]
    },
    {
     "data": {
      "text/plain": [
       "76342"
      ]
     },
     "execution_count": 175,
     "metadata": {},
     "output_type": "execute_result"
    }
   ],
   "source": [
    "modeldf = modeldf.na.drop()\n",
    "modeldf.count()"
   ]
  },
  {
   "cell_type": "code",
   "execution_count": 180,
   "metadata": {},
   "outputs": [
    {
     "name": "stderr",
     "output_type": "stream",
     "text": [
      "                                                                                \r"
     ]
    },
    {
     "data": {
      "text/html": [
       "<table border='1'>\n",
       "<tr><th>merchant_abn</th><th>int_month</th><th>monthly_transactions</th><th>merchant_abn_class</th><th>merchant_abn_ohe</th><th>monthly_transactions-1</th><th>monthly_transactions-2</th><th>features</th></tr>\n",
       "<tr><td>10023283211</td><td>3</td><td>117</td><td>0.0</td><td>(4017,[0],[1.0])</td><td>103</td><td>3</td><td>(4020,[0,4017,401...</td></tr>\n",
       "<tr><td>10023283211</td><td>4</td><td>126</td><td>0.0</td><td>(4017,[0],[1.0])</td><td>117</td><td>103</td><td>(4020,[0,4017,401...</td></tr>\n",
       "<tr><td>10023283211</td><td>5</td><td>129</td><td>0.0</td><td>(4017,[0],[1.0])</td><td>126</td><td>117</td><td>(4020,[0,4017,401...</td></tr>\n",
       "<tr><td>10023283211</td><td>6</td><td>137</td><td>0.0</td><td>(4017,[0],[1.0])</td><td>129</td><td>126</td><td>(4020,[0,4017,401...</td></tr>\n",
       "<tr><td>10023283211</td><td>7</td><td>122</td><td>0.0</td><td>(4017,[0],[1.0])</td><td>137</td><td>129</td><td>(4020,[0,4017,401...</td></tr>\n",
       "<tr><td>10023283211</td><td>8</td><td>150</td><td>0.0</td><td>(4017,[0],[1.0])</td><td>122</td><td>137</td><td>(4020,[0,4017,401...</td></tr>\n",
       "<tr><td>10023283211</td><td>9</td><td>141</td><td>0.0</td><td>(4017,[0],[1.0])</td><td>150</td><td>122</td><td>(4020,[0,4017,401...</td></tr>\n",
       "<tr><td>10023283211</td><td>10</td><td>176</td><td>0.0</td><td>(4017,[0],[1.0])</td><td>141</td><td>150</td><td>(4020,[0,4017,401...</td></tr>\n",
       "<tr><td>10023283211</td><td>11</td><td>176</td><td>0.0</td><td>(4017,[0],[1.0])</td><td>176</td><td>141</td><td>(4020,[0,4017,401...</td></tr>\n",
       "<tr><td>10023283211</td><td>12</td><td>107</td><td>0.0</td><td>(4017,[0],[1.0])</td><td>176</td><td>176</td><td>(4020,[0,4017,401...</td></tr>\n",
       "<tr><td>10023283211</td><td>13</td><td>117</td><td>0.0</td><td>(4017,[0],[1.0])</td><td>107</td><td>176</td><td>(4020,[0,4017,401...</td></tr>\n",
       "<tr><td>10023283211</td><td>14</td><td>129</td><td>0.0</td><td>(4017,[0],[1.0])</td><td>117</td><td>107</td><td>(4020,[0,4017,401...</td></tr>\n",
       "<tr><td>10023283211</td><td>15</td><td>143</td><td>0.0</td><td>(4017,[0],[1.0])</td><td>129</td><td>117</td><td>(4020,[0,4017,401...</td></tr>\n",
       "<tr><td>10023283211</td><td>16</td><td>152</td><td>0.0</td><td>(4017,[0],[1.0])</td><td>143</td><td>129</td><td>(4020,[0,4017,401...</td></tr>\n",
       "<tr><td>10023283211</td><td>17</td><td>134</td><td>0.0</td><td>(4017,[0],[1.0])</td><td>152</td><td>143</td><td>(4020,[0,4017,401...</td></tr>\n",
       "<tr><td>10023283211</td><td>18</td><td>166</td><td>0.0</td><td>(4017,[0],[1.0])</td><td>134</td><td>152</td><td>(4020,[0,4017,401...</td></tr>\n",
       "<tr><td>10142254217</td><td>3</td><td>95</td><td>1.0</td><td>(4017,[1],[1.0])</td><td>108</td><td>1</td><td>(4020,[1,4017,401...</td></tr>\n",
       "<tr><td>10142254217</td><td>4</td><td>109</td><td>1.0</td><td>(4017,[1],[1.0])</td><td>95</td><td>108</td><td>(4020,[1,4017,401...</td></tr>\n",
       "<tr><td>10142254217</td><td>5</td><td>118</td><td>1.0</td><td>(4017,[1],[1.0])</td><td>109</td><td>95</td><td>(4020,[1,4017,401...</td></tr>\n",
       "<tr><td>10142254217</td><td>6</td><td>122</td><td>1.0</td><td>(4017,[1],[1.0])</td><td>118</td><td>109</td><td>(4020,[1,4017,401...</td></tr>\n",
       "</table>\n",
       "only showing top 20 rows\n"
      ],
      "text/plain": [
       "+------------+---------+--------------------+------------------+----------------+----------------------+----------------------+--------------------+\n",
       "|merchant_abn|int_month|monthly_transactions|merchant_abn_class|merchant_abn_ohe|monthly_transactions-1|monthly_transactions-2|            features|\n",
       "+------------+---------+--------------------+------------------+----------------+----------------------+----------------------+--------------------+\n",
       "| 10023283211|        3|                 117|               0.0|(4017,[0],[1.0])|                   103|                     3|(4020,[0,4017,401...|\n",
       "| 10023283211|        4|                 126|               0.0|(4017,[0],[1.0])|                   117|                   103|(4020,[0,4017,401...|\n",
       "| 10023283211|        5|                 129|               0.0|(4017,[0],[1.0])|                   126|                   117|(4020,[0,4017,401...|\n",
       "| 10023283211|        6|                 137|               0.0|(4017,[0],[1.0])|                   129|                   126|(4020,[0,4017,401...|\n",
       "| 10023283211|        7|                 122|               0.0|(4017,[0],[1.0])|                   137|                   129|(4020,[0,4017,401...|\n",
       "| 10023283211|        8|                 150|               0.0|(4017,[0],[1.0])|                   122|                   137|(4020,[0,4017,401...|\n",
       "| 10023283211|        9|                 141|               0.0|(4017,[0],[1.0])|                   150|                   122|(4020,[0,4017,401...|\n",
       "| 10023283211|       10|                 176|               0.0|(4017,[0],[1.0])|                   141|                   150|(4020,[0,4017,401...|\n",
       "| 10023283211|       11|                 176|               0.0|(4017,[0],[1.0])|                   176|                   141|(4020,[0,4017,401...|\n",
       "| 10023283211|       12|                 107|               0.0|(4017,[0],[1.0])|                   176|                   176|(4020,[0,4017,401...|\n",
       "| 10023283211|       13|                 117|               0.0|(4017,[0],[1.0])|                   107|                   176|(4020,[0,4017,401...|\n",
       "| 10023283211|       14|                 129|               0.0|(4017,[0],[1.0])|                   117|                   107|(4020,[0,4017,401...|\n",
       "| 10023283211|       15|                 143|               0.0|(4017,[0],[1.0])|                   129|                   117|(4020,[0,4017,401...|\n",
       "| 10023283211|       16|                 152|               0.0|(4017,[0],[1.0])|                   143|                   129|(4020,[0,4017,401...|\n",
       "| 10023283211|       17|                 134|               0.0|(4017,[0],[1.0])|                   152|                   143|(4020,[0,4017,401...|\n",
       "| 10023283211|       18|                 166|               0.0|(4017,[0],[1.0])|                   134|                   152|(4020,[0,4017,401...|\n",
       "| 10142254217|        3|                  95|               1.0|(4017,[1],[1.0])|                   108|                     1|(4020,[1,4017,401...|\n",
       "| 10142254217|        4|                 109|               1.0|(4017,[1],[1.0])|                    95|                   108|(4020,[1,4017,401...|\n",
       "| 10142254217|        5|                 118|               1.0|(4017,[1],[1.0])|                   109|                    95|(4020,[1,4017,401...|\n",
       "| 10142254217|        6|                 122|               1.0|(4017,[1],[1.0])|                   118|                   109|(4020,[1,4017,401...|\n",
       "+------------+---------+--------------------+------------------+----------------+----------------------+----------------------+--------------------+\n",
       "only showing top 20 rows"
      ]
     },
     "execution_count": 180,
     "metadata": {},
     "output_type": "execute_result"
    }
   ],
   "source": [
    "from pyspark.ml.regression import LinearRegression\n",
    "from pyspark.ml.feature import VectorAssembler\n",
    "\n",
    "SPLIT_MONTH = 18\n",
    "\n",
    "vecAssembler = VectorAssembler(inputCols=['merchant_abn_ohe', 'int_month', \n",
    "                                          'monthly_transactions-1', \n",
    "                                          'monthly_transactions-2'], \n",
    "                               outputCol='features')\n",
    "\n",
    "train = modeldf.filter(col('int_month') <= SPLIT_MONTH)\n",
    "test = modeldf.filter(col('int_month') > SPLIT_MONTH)\n",
    "\n",
    "train = vecAssembler.transform(train)\n",
    "test = vecAssembler.transform(test)\n",
    "train"
   ]
  },
  {
   "cell_type": "code",
   "execution_count": 182,
   "metadata": {},
   "outputs": [
    {
     "name": "stderr",
     "output_type": "stream",
     "text": [
      "                                                                                \r"
     ]
    },
    {
     "name": "stdout",
     "output_type": "stream",
     "text": [
      "22/10/04 20:18:55 WARN Instrumentation: [2d6ca55f] regParam is zero, which might cause numerical instability and overfitting.\n"
     ]
    },
    {
     "name": "stderr",
     "output_type": "stream",
     "text": [
      "[Stage 1471:>                                                       (0 + 1) / 1]\r"
     ]
    },
    {
     "name": "stdout",
     "output_type": "stream",
     "text": [
      "22/10/04 20:18:56 WARN InstanceBuilder$NativeBLAS: Failed to load implementation from:dev.ludovic.netlib.blas.JNIBLAS\n",
      "22/10/04 20:18:56 WARN InstanceBuilder$NativeBLAS: Failed to load implementation from:dev.ludovic.netlib.blas.ForeignLinkerBLAS\n"
     ]
    },
    {
     "name": "stderr",
     "output_type": "stream",
     "text": [
      "                                                                                \r"
     ]
    },
    {
     "name": "stdout",
     "output_type": "stream",
     "text": [
      "22/10/04 20:18:57 WARN InstanceBuilder$NativeLAPACK: Failed to load implementation from:dev.ludovic.netlib.lapack.JNILAPACK\n"
     ]
    },
    {
     "name": "stderr",
     "output_type": "stream",
     "text": [
      "                                                                                \r"
     ]
    }
   ],
   "source": [
    "lr = LinearRegression(featuresCol='features', labelCol='monthly_transactions')\n",
    "lrModel = lr.fit(train)"
   ]
  },
  {
   "cell_type": "code",
   "execution_count": 183,
   "metadata": {},
   "outputs": [
    {
     "name": "stderr",
     "output_type": "stream",
     "text": [
      "                                                                                \r"
     ]
    },
    {
     "data": {
      "text/html": [
       "<table border='1'>\n",
       "<tr><th>merchant_abn</th><th>int_month</th><th>monthly_transactions</th><th>merchant_abn_class</th><th>merchant_abn_ohe</th><th>monthly_transactions-1</th><th>monthly_transactions-2</th><th>features</th><th>prediction</th></tr>\n",
       "<tr><td>10023283211</td><td>19</td><td>146</td><td>0.0</td><td>(4017,[0],[1.0])</td><td>166</td><td>134</td><td>(4020,[0,4017,401...</td><td>163.63956154699477</td></tr>\n",
       "<tr><td>10023283211</td><td>20</td><td>173</td><td>0.0</td><td>(4017,[0],[1.0])</td><td>146</td><td>166</td><td>(4020,[0,4017,401...</td><td>151.06678475805126</td></tr>\n",
       "<tr><td>10023283211</td><td>21</td><td>164</td><td>0.0</td><td>(4017,[0],[1.0])</td><td>173</td><td>146</td><td>(4020,[0,4017,401...</td><td>168.34671245059747</td></tr>\n",
       "<tr><td>10142254217</td><td>19</td><td>149</td><td>1.0</td><td>(4017,[1],[1.0])</td><td>149</td><td>125</td><td>(4020,[1,4017,401...</td><td>148.30986648992936</td></tr>\n",
       "<tr><td>10142254217</td><td>20</td><td>130</td><td>1.0</td><td>(4017,[1],[1.0])</td><td>149</td><td>149</td><td>(4020,[1,4017,401...</td><td>147.12922954354627</td></tr>\n",
       "<tr><td>10142254217</td><td>21</td><td>185</td><td>1.0</td><td>(4017,[1],[1.0])</td><td>130</td><td>149</td><td>(4020,[1,4017,401...</td><td>138.0587451957229</td></tr>\n",
       "<tr><td>10165489824</td><td>19</td><td>1</td><td>2.0</td><td>(4017,[2],[1.0])</td><td>0</td><td>1</td><td>(4020,[2,4017,401...</td><td>8.833525496002338</td></tr>\n",
       "<tr><td>10165489824</td><td>20</td><td>1</td><td>2.0</td><td>(4017,[2],[1.0])</td><td>1</td><td>0</td><td>(4020,[2,4017,401...</td><td>10.505535479886703</td></tr>\n",
       "<tr><td>10165489824</td><td>21</td><td>0</td><td>2.0</td><td>(4017,[2],[1.0])</td><td>1</td><td>1</td><td>(4020,[2,4017,401...</td><td>11.45944806916243</td></tr>\n",
       "<tr><td>10187291046</td><td>19</td><td>15</td><td>3.0</td><td>(4017,[3],[1.0])</td><td>13</td><td>13</td><td>(4020,[3,4017,401...</td><td>22.77479081396434</td></tr>\n",
       "<tr><td>10187291046</td><td>20</td><td>15</td><td>3.0</td><td>(4017,[3],[1.0])</td><td>15</td><td>13</td><td>(4020,[3,4017,401...</td><td>24.886478687806186</td></tr>\n",
       "<tr><td>10187291046</td><td>21</td><td>19</td><td>3.0</td><td>(4017,[3],[1.0])</td><td>15</td><td>15</td><td>(4020,[3,4017,401...</td><td>25.747584775531525</td></tr>\n",
       "<tr><td>10192359162</td><td>19</td><td>18</td><td>4.0</td><td>(4017,[4],[1.0])</td><td>20</td><td>9</td><td>(4020,[4,4017,401...</td><td>27.80177024112979</td></tr>\n",
       "<tr><td>10192359162</td><td>20</td><td>21</td><td>4.0</td><td>(4017,[4],[1.0])</td><td>18</td><td>20</td><td>(4020,[4,4017,401...</td><td>26.76264903188596</td></tr>\n",
       "<tr><td>10192359162</td><td>21</td><td>28</td><td>4.0</td><td>(4017,[4],[1.0])</td><td>21</td><td>18</td><td>(4020,[4,4017,401...</td><td>29.59243430033644</td></tr>\n",
       "<tr><td>10206519221</td><td>19</td><td>486</td><td>5.0</td><td>(4017,[5],[1.0])</td><td>459</td><td>432</td><td>(4020,[5,4017,401...</td><td>445.68155773462126</td></tr>\n",
       "<tr><td>10206519221</td><td>20</td><td>520</td><td>5.0</td><td>(4017,[5],[1.0])</td><td>486</td><td>459</td><td>(4020,[5,4017,401...</td><td>458.59957985429946</td></tr>\n",
       "<tr><td>10206519221</td><td>21</td><td>434</td><td>5.0</td><td>(4017,[5],[1.0])</td><td>520</td><td>486</td><td>(4020,[5,4017,401...</td><td>475.24499271453266</td></tr>\n",
       "<tr><td>10255988167</td><td>19</td><td>40</td><td>6.0</td><td>(4017,[6],[1.0])</td><td>35</td><td>38</td><td>(4020,[6,4017,401...</td><td>43.45591824933224</td></tr>\n",
       "<tr><td>10255988167</td><td>20</td><td>47</td><td>6.0</td><td>(4017,[6],[1.0])</td><td>40</td><td>35</td><td>(4020,[6,4017,401...</td><td>47.443478802348835</td></tr>\n",
       "</table>\n",
       "only showing top 20 rows\n"
      ],
      "text/plain": [
       "+------------+---------+--------------------+------------------+----------------+----------------------+----------------------+--------------------+------------------+\n",
       "|merchant_abn|int_month|monthly_transactions|merchant_abn_class|merchant_abn_ohe|monthly_transactions-1|monthly_transactions-2|            features|        prediction|\n",
       "+------------+---------+--------------------+------------------+----------------+----------------------+----------------------+--------------------+------------------+\n",
       "| 10023283211|       19|                 146|               0.0|(4017,[0],[1.0])|                   166|                   134|(4020,[0,4017,401...|163.63956154699477|\n",
       "| 10023283211|       20|                 173|               0.0|(4017,[0],[1.0])|                   146|                   166|(4020,[0,4017,401...|151.06678475805126|\n",
       "| 10023283211|       21|                 164|               0.0|(4017,[0],[1.0])|                   173|                   146|(4020,[0,4017,401...|168.34671245059747|\n",
       "| 10142254217|       19|                 149|               1.0|(4017,[1],[1.0])|                   149|                   125|(4020,[1,4017,401...|148.30986648992936|\n",
       "| 10142254217|       20|                 130|               1.0|(4017,[1],[1.0])|                   149|                   149|(4020,[1,4017,401...|147.12922954354627|\n",
       "| 10142254217|       21|                 185|               1.0|(4017,[1],[1.0])|                   130|                   149|(4020,[1,4017,401...| 138.0587451957229|\n",
       "| 10165489824|       19|                   1|               2.0|(4017,[2],[1.0])|                     0|                     1|(4020,[2,4017,401...| 8.833525496002338|\n",
       "| 10165489824|       20|                   1|               2.0|(4017,[2],[1.0])|                     1|                     0|(4020,[2,4017,401...|10.505535479886703|\n",
       "| 10165489824|       21|                   0|               2.0|(4017,[2],[1.0])|                     1|                     1|(4020,[2,4017,401...| 11.45944806916243|\n",
       "| 10187291046|       19|                  15|               3.0|(4017,[3],[1.0])|                    13|                    13|(4020,[3,4017,401...| 22.77479081396434|\n",
       "| 10187291046|       20|                  15|               3.0|(4017,[3],[1.0])|                    15|                    13|(4020,[3,4017,401...|24.886478687806186|\n",
       "| 10187291046|       21|                  19|               3.0|(4017,[3],[1.0])|                    15|                    15|(4020,[3,4017,401...|25.747584775531525|\n",
       "| 10192359162|       19|                  18|               4.0|(4017,[4],[1.0])|                    20|                     9|(4020,[4,4017,401...| 27.80177024112979|\n",
       "| 10192359162|       20|                  21|               4.0|(4017,[4],[1.0])|                    18|                    20|(4020,[4,4017,401...| 26.76264903188596|\n",
       "| 10192359162|       21|                  28|               4.0|(4017,[4],[1.0])|                    21|                    18|(4020,[4,4017,401...| 29.59243430033644|\n",
       "| 10206519221|       19|                 486|               5.0|(4017,[5],[1.0])|                   459|                   432|(4020,[5,4017,401...|445.68155773462126|\n",
       "| 10206519221|       20|                 520|               5.0|(4017,[5],[1.0])|                   486|                   459|(4020,[5,4017,401...|458.59957985429946|\n",
       "| 10206519221|       21|                 434|               5.0|(4017,[5],[1.0])|                   520|                   486|(4020,[5,4017,401...|475.24499271453266|\n",
       "| 10255988167|       19|                  40|               6.0|(4017,[6],[1.0])|                    35|                    38|(4020,[6,4017,401...| 43.45591824933224|\n",
       "| 10255988167|       20|                  47|               6.0|(4017,[6],[1.0])|                    40|                    35|(4020,[6,4017,401...|47.443478802348835|\n",
       "+------------+---------+--------------------+------------------+----------------+----------------------+----------------------+--------------------+------------------+\n",
       "only showing top 20 rows"
      ]
     },
     "execution_count": 183,
     "metadata": {},
     "output_type": "execute_result"
    }
   ],
   "source": [
    "predictions = lrModel.transform(test)\n",
    "predictions"
   ]
  },
  {
   "cell_type": "code",
   "execution_count": 198,
   "metadata": {},
   "outputs": [
    {
     "name": "stdout",
     "output_type": "stream",
     "text": [
      "34564250941\n"
     ]
    },
    {
     "data": {
      "image/png": "[encoded data removed]",
      "text/plain": [
       "<Figure size 432x288 with 1 Axes>"
      ]
     },
     "metadata": {
      "needs_background": "light"
     },
     "output_type": "display_data"
    },
    {
     "name": "stdout",
     "output_type": "stream",
     "text": [
      "98065308169\n"
     ]
    },
    {
     "data": {
      "image/png": "[encoded data removed]",
      "text/plain": [
       "<Figure size 432x288 with 1 Axes>"
      ]
     },
     "metadata": {
      "needs_background": "light"
     },
     "output_type": "display_data"
    },
    {
     "name": "stdout",
     "output_type": "stream",
     "text": [
      "24043105437\n"
     ]
    },
    {
     "data": {
      "image/png": "[encoded data removed]",
      "text/plain": [
       "<Figure size 432x288 with 1 Axes>"
      ]
     },
     "metadata": {
      "needs_background": "light"
     },
     "output_type": "display_data"
    },
    {
     "name": "stdout",
     "output_type": "stream",
     "text": [
      "57900494384\n"
     ]
    },
    {
     "data": {
      "image/png": "[encoded data removed]",
      "text/plain": [
       "<Figure size 432x288 with 1 Axes>"
      ]
     },
     "metadata": {
      "needs_background": "light"
     },
     "output_type": "display_data"
    },
    {
     "name": "stdout",
     "output_type": "stream",
     "text": [
      "20435488659\n"
     ]
    },
    {
     "data": {
      "image/png": "[encoded data removed]",
      "text/plain": [
       "<Figure size 432x288 with 1 Axes>"
      ]
     },
     "metadata": {
      "needs_background": "light"
     },
     "output_type": "display_data"
    }
   ],
   "source": [
    "#random.seed(4302023)\n",
    "\n",
    "dfp = predictions.toPandas()\n",
    "X = [19, 20, 21]\n",
    "\n",
    "for i in range(5):\n",
    "    random_merchant = random.sample(merchant_abns.tolist(), 1)[0]\n",
    "    print(random_merchant)\n",
    "    X_axis = np.arange(19, 22)\n",
    "    plt.bar(X_axis - 0.2, dfp[dfp['merchant_abn']==random_merchant][\"monthly_transactions\"], 0.4, label = 'Actual')\n",
    "    plt.bar(X_axis + 0.2, dfp[dfp['merchant_abn']==random_merchant][\"prediction\"], 0.4, label = 'Predicted')\n",
    "    plt.legend()\n",
    "    plt.xlabel('month')\n",
    "    plt.ylabel('Number of Transactions')\n",
    "    plt.title('Number of Transactions')\n",
    "    plt.show()"
   ]
  },
  {
   "cell_type": "code",
   "execution_count": null,
   "metadata": {},
   "outputs": [],
   "source": []
  }
 ],
 "metadata": {
  "kernelspec": {
   "display_name": "Python 3 (ipykernel)",
   "language": "python",
   "name": "python3"
  },
  "language_info": {
   "codemirror_mode": {
    "name": "ipython",
    "version": 3
   },
   "file_extension": ".py",
   "mimetype": "text/x-python",
   "name": "python",
   "nbconvert_exporter": "python",
   "pygments_lexer": "ipython3",
   "version": "3.8.10"
  },
  "vscode": {
   "interpreter": {
    "hash": "916dbcbb3f70747c44a77c7bcd40155683ae19c65e1c03b4aa3499c5328201f1"
   }
  }
 },
 "nbformat": 4,
 "nbformat_minor": 4
}
