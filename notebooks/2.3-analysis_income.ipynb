{
 "cells": [
  {
   "cell_type": "markdown",
   "id": "6f12d1cf-21b1-4c83-9c97-09036bc7da30",
   "metadata": {
    "tags": []
   },
   "source": [
    "# Analysis"
   ]
  },
  {
   "cell_type": "markdown",
   "id": "dece0952",
   "metadata": {},
   "source": [
    "## Income "
   ]
  },
  {
   "cell_type": "code",
   "execution_count": 2,
   "id": "f935367d-cab0-4904-9bed-676c9eccd84b",
   "metadata": {
    "tags": []
   },
   "outputs": [
    {
     "name": "stdout",
     "output_type": "stream",
     "text": [
      "22/10/14 16:47:59 WARN Utils: Your hostname, DESKTOP-LNDD2A2 resolves to a loopback address: 127.0.1.1; using 172.21.134.174 instead (on interface eth0)\n",
      "22/10/14 16:47:59 WARN Utils: Set SPARK_LOCAL_IP if you need to bind to another address\n"
     ]
    },
    {
     "name": "stderr",
     "output_type": "stream",
     "text": [
      "Setting default log level to \"WARN\".\n",
      "To adjust logging level use sc.setLogLevel(newLevel). For SparkR, use setLogLevel(newLevel).\n"
     ]
    },
    {
     "name": "stdout",
     "output_type": "stream",
     "text": [
      "22/10/14 16:48:01 WARN NativeCodeLoader: Unable to load native-hadoop library for your platform... using builtin-java classes where applicable\n",
      "22/10/14 16:48:03 WARN Utils: Service 'SparkUI' could not bind on port 4040. Attempting port 4041.\n"
     ]
    }
   ],
   "source": [
    "from pyspark.sql import SparkSession\n",
    "from pyspark.sql.functions import * \n",
    "import matplotlib.pyplot as plt\n",
    "import pandas as pd\n",
    "import numpy as np\n",
    "from urllib.request import urlretrieve\n",
    "from owslib.wfs import WebFeatureService\n",
    "from dotenv import load_dotenv\n",
    "from pyspark.sql.functions import *\n",
    "\n",
    "# Create a spark session\n",
    "spark = (\n",
    "    SparkSession.builder.appName(\"analysis\")\n",
    "    .config(\"spark.sql.repl.eagerEval.enabled\", True) \n",
    "    .config(\"spark.sql.parquet.cacheMetadata\", \"true\")\n",
    "    .config(\"spark.sql.session.timeZone\", \"Etc/UTC\")\n",
    "    .config(\"spark.driver.memory\", \"2g\")\n",
    "    .config(\"spark.executor.memory\", \"6g\")\n",
    "    .getOrCreate()\n",
    ")"
   ]
  },
  {
   "cell_type": "code",
   "execution_count": 3,
   "id": "fdffc7f4",
   "metadata": {
    "tags": []
   },
   "outputs": [
    {
     "name": "stderr",
     "output_type": "stream",
     "text": [
      "                                                                                \r"
     ]
    },
    {
     "name": "stdout",
     "output_type": "stream",
     "text": [
      "2289\n"
     ]
    },
    {
     "data": {
      "text/html": [
       "<table border='1'>\n",
       "<tr><th>_c2</th><th>_c10</th><th>_c17</th><th>_c31</th><th>_c38</th></tr>\n",
       "<tr><td>sa2_code</td><td>earners_persons_2...</td><td>median_age_of_ear...</td><td>median_aud_2017_18</td><td>mean_aud_2017_18</td></tr>\n",
       "<tr><td>103031075</td><td>null</td><td>null</td><td>null</td><td>null</td></tr>\n",
       "<tr><td>107011133</td><td>null</td><td>null</td><td>null</td><td>null</td></tr>\n",
       "<tr><td>107021135</td><td>null</td><td>null</td><td>null</td><td>null</td></tr>\n",
       "<tr><td>111031230</td><td>17</td><td>46</td><td>38680</td><td>51000</td></tr>\n",
       "</table>\n"
      ],
      "text/plain": [
       "+---------+--------------------+--------------------+------------------+----------------+\n",
       "|      _c2|                _c10|                _c17|              _c31|            _c38|\n",
       "+---------+--------------------+--------------------+------------------+----------------+\n",
       "| sa2_code|earners_persons_2...|median_age_of_ear...|median_aud_2017_18|mean_aud_2017_18|\n",
       "|103031075|                null|                null|              null|            null|\n",
       "|107011133|                null|                null|              null|            null|\n",
       "|107021135|                null|                null|              null|            null|\n",
       "|111031230|                  17|                  46|             38680|           51000|\n",
       "+---------+--------------------+--------------------+------------------+----------------+"
      ]
     },
     "execution_count": 3,
     "metadata": {},
     "output_type": "execute_result"
    }
   ],
   "source": [
    "# Read in income dataset and extract useful columns\n",
    "\n",
    "incomedf = spark.read.option(\"header\",\"false\").csv(\"../data/tables/datasource-AU_Govt_ABS-UoM_AURIN_DB_3abs_personal_income_total_income_sa2_2011_2018.csv\")\n",
    "#print(incomedf.limit(5))\n",
    "incomedf = incomedf.select(\"_c2\",\"_c10\",\"_c17\",\"_c31\",\"_c38\")\n",
    "print(incomedf.count())\n",
    "incomedf.limit(5)"
   ]
  },
  {
   "cell_type": "markdown",
   "id": "5110d7a1-caf6-4028-aafc-bc86af7479a0",
   "metadata": {
    "tags": []
   },
   "source": [
    "Missing 21 sa2 codes <br>\n",
    "47 rows have all null values so all up missing 68 sa2 regions worth of data "
   ]
  },
  {
   "cell_type": "code",
   "execution_count": 3,
   "id": "9de11398-6a19-4433-a5de-7088830e714b",
   "metadata": {
    "tags": []
   },
   "outputs": [
    {
     "name": "stderr",
     "output_type": "stream",
     "text": [
      "                                                                                \r"
     ]
    },
    {
     "name": "stdout",
     "output_type": "stream",
     "text": [
      "2289\n"
     ]
    },
    {
     "data": {
      "text/html": [
       "<table border='1'>\n",
       "<tr><th>sa2_code</th><th>num_earners</th><th>median_age</th><th>median_income</th><th>mean_income</th></tr>\n",
       "<tr><td>213011340</td><td>11238</td><td>46</td><td>51181</td><td>61177</td></tr>\n",
       "<tr><td>213021341</td><td>7942</td><td>43</td><td>57585</td><td>69301</td></tr>\n",
       "<tr><td>213021344</td><td>11216</td><td>41</td><td>66161</td><td>80219</td></tr>\n",
       "<tr><td>213021345</td><td>3015</td><td>41</td><td>52078</td><td>60249</td></tr>\n",
       "<tr><td>213021346</td><td>9996</td><td>47</td><td>63892</td><td>90668</td></tr>\n",
       "</table>\n"
      ],
      "text/plain": [
       "+---------+-----------+----------+-------------+-----------+\n",
       "| sa2_code|num_earners|median_age|median_income|mean_income|\n",
       "+---------+-----------+----------+-------------+-----------+\n",
       "|213011340|      11238|        46|        51181|      61177|\n",
       "|213021341|       7942|        43|        57585|      69301|\n",
       "|213021344|      11216|        41|        66161|      80219|\n",
       "|213021345|       3015|        41|        52078|      60249|\n",
       "|213021346|       9996|        47|        63892|      90668|\n",
       "+---------+-----------+----------+-------------+-----------+"
      ]
     },
     "execution_count": 3,
     "metadata": {},
     "output_type": "execute_result"
    }
   ],
   "source": [
    "# Have to save csv file, read it again, and rename it because the delimiters in the original csv\n",
    "# dataset are commas for the header and then fullstops for the first column but commas for the rest\n",
    "\n",
    "incomedf.write.mode(saveMode=\"overwrite\").csv(\"../data/curated/income.csv\")\n",
    "incomedf = spark.read.csv(\"../data/curated/income.csv\")\n",
    "incomedf = incomedf.withColumnRenamed(\"_c0\",\"sa2_code\")\n",
    "incomedf = incomedf.withColumnRenamed(\"_c1\",\"num_earners\")\n",
    "incomedf = incomedf.withColumnRenamed(\"_c2\",\"median_age\")\n",
    "incomedf = incomedf.withColumnRenamed(\"_c3\",\"median_income\")\n",
    "incomedf = incomedf.withColumnRenamed(\"_c4\",\"mean_income\")\n",
    "\n",
    "# Make all the numerical fields into int datatype\n",
    "for field in ('num_earners',\"median_age\",\"median_income\",\"mean_income\"):\n",
    "    incomedf = incomedf.withColumn(\n",
    "        field,\n",
    "        col(field).cast('int')\n",
    "    )\n",
    "\n",
    "print(incomedf.count())\n",
    "incomedf.limit(5)"
   ]
  },
  {
   "cell_type": "code",
   "execution_count": 4,
   "id": "a6afcc65-1949-46d3-888e-226fee79583a",
   "metadata": {
    "tags": []
   },
   "outputs": [],
   "source": [
    "# sa2_code\n",
    "\n",
    "# no need to perform any futher analysis as any discrepancies will be removed with an inner join on this field  "
   ]
  },
  {
   "cell_type": "code",
   "execution_count": 5,
   "id": "54fedf94-6611-4e14-9d2b-f78c4e8c6253",
   "metadata": {
    "tags": []
   },
   "outputs": [
    {
     "name": "stdout",
     "output_type": "stream",
     "text": [
      "2289\n",
      "2241\n",
      "+----------------+----------------+----------------+\n",
      "|min(num_earners)|max(num_earners)|avg(num_earners)|\n",
      "+----------------+----------------+----------------+\n",
      "|               3|           30022|6252.20035698349|\n",
      "+----------------+----------------+----------------+\n",
      "\n"
     ]
    },
    {
     "data": {
      "image/png": "[encoded data removed]",
      "text/plain": [
       "<Figure size 640x480 with 1 Axes>"
      ]
     },
     "metadata": {},
     "output_type": "display_data"
    }
   ],
   "source": [
    "# num_earners analysis - make box plot to see value distribution\n",
    "\n",
    "import matplotlib.pyplot as plt\n",
    "import pandas as pd\n",
    "\n",
    "testdf = incomedf.alias(\"testdf\")\n",
    "print(testdf.count())\n",
    "testdf = testdf.dropna(\"all\",subset=\"num_earners\")\n",
    "print(testdf.count())\n",
    "\n",
    "print(testdf.agg(min(\"num_earners\"), max(\"num_earners\"), mean(\"num_earners\")))\n",
    "\n",
    "df = testdf.toPandas()\n",
    "plt.boxplot(df[\"num_earners\"])\n",
    "plt.show()"
   ]
  },
  {
   "cell_type": "markdown",
   "id": "ccd2b123-4e54-4c0d-bb1c-e28a27fb7117",
   "metadata": {
    "tags": []
   },
   "source": [
    "First we check for nulls and find that 48 rows have nulls <br>\n",
    "We will remove these rows as its unfair to impute a value here <br>\n",
    "We could potentially use a population (sa2) dataset to make a model to predict the num_earners but there is no point because in the dataset if one row has a column with a null value then the other columns are all null too <br>\n",
    "<br>"
   ]
  },
  {
   "cell_type": "code",
   "execution_count": 6,
   "id": "fcb8b90e-5431-420a-816e-d7059aa47778",
   "metadata": {},
   "outputs": [
    {
     "name": "stderr",
     "output_type": "stream",
     "text": [
      "                                                                                \r"
     ]
    },
    {
     "data": {
      "text/html": [
       "<table border='1'>\n",
       "<tr><th>sa2_code</th><th>num_earners</th><th>median_age</th><th>median_income</th><th>mean_income</th><th>locality</th><th>state</th><th>SA2_NAME_2016</th></tr>\n",
       "<tr><td>117031337</td><td>30022</td><td>30</td><td>25962</td><td>65906</td><td>SYDNEY</td><td>NSW</td><td>Sydney - Haymarke...</td></tr>\n",
       "<tr><td>206041122</td><td>26083</td><td>30</td><td>28806</td><td>51528</td><td>MELBOURNE</td><td>VIC</td><td>Melbourne</td></tr>\n",
       "<tr><td>503021041</td><td>25161</td><td>34</td><td>54790</td><td>79517</td><td>CITY DELIVERY CENTRE</td><td>WA</td><td>Perth City</td></tr>\n",
       "</table>\n"
      ],
      "text/plain": [
       "+---------+-----------+----------+-------------+-----------+--------------------+-----+--------------------+\n",
       "| sa2_code|num_earners|median_age|median_income|mean_income|            locality|state|       SA2_NAME_2016|\n",
       "+---------+-----------+----------+-------------+-----------+--------------------+-----+--------------------+\n",
       "|117031337|      30022|        30|        25962|      65906|              SYDNEY|  NSW|Sydney - Haymarke...|\n",
       "|206041122|      26083|        30|        28806|      51528|           MELBOURNE|  VIC|           Melbourne|\n",
       "|503021041|      25161|        34|        54790|      79517|CITY DELIVERY CENTRE|   WA|          Perth City|\n",
       "+---------+-----------+----------+-------------+-----------+--------------------+-----+--------------------+"
      ]
     },
     "execution_count": 6,
     "metadata": {},
     "output_type": "execute_result"
    }
   ],
   "source": [
    "# Looks at the locations where the num earners is the highest\n",
    "\n",
    "testpostcodedf = spark.read.parquet(\"../data/curated/testpostcodedf.parquet/\")\n",
    "testdf = incomedf.alias(\"testdf\")\n",
    "testdf = testdf.dropna(\"all\",subset=\"num_earners\")\n",
    "testdf = testdf.filter(testdf[\"num_earners\"] > 25000)\n",
    "testdf = testdf.join(testpostcodedf, \"sa2_code\")\n",
    "testdf = testdf.dropDuplicates(subset=[\"sa2_code\"])\n",
    "testdf"
   ]
  },
  {
   "cell_type": "markdown",
   "id": "bf45e81d-7866-4d96-b882-7ee34598a9bc",
   "metadata": {},
   "source": [
    "greatest number of earners in capital cities"
   ]
  },
  {
   "cell_type": "code",
   "execution_count": 7,
   "id": "f3693491-bded-4f2c-8ccd-7a1779b847cf",
   "metadata": {},
   "outputs": [
    {
     "data": {
      "text/html": [
       "<table border='1'>\n",
       "<tr><th>sa2_code</th><th>num_earners</th><th>median_age</th><th>median_income</th><th>mean_income</th><th>locality</th><th>state</th><th>SA2_NAME_2016</th></tr>\n",
       "<tr><td>117011324</td><td>6</td><td>42</td><td>89790</td><td>83273</td><td>PORT BOTANY</td><td>NSW</td><td>Port Botany Indus...</td></tr>\n",
       "<tr><td>117011325</td><td>5</td><td>30</td><td>41442</td><td>50626</td><td>SYDNEY DOMESTIC A...</td><td>NSW</td><td>Sydney Airport</td></tr>\n",
       "<tr><td>128021537</td><td>8</td><td>32</td><td>26370</td><td>38451</td><td>SOUTHERN SUBURBS MC</td><td>NSW</td><td>Royal National Park</td></tr>\n",
       "<tr><td>205021080</td><td>3</td><td>63</td><td>31114</td><td>22659</td><td>BRUMBY</td><td>VIC</td><td>Alps - East</td></tr>\n",
       "<tr><td>206041127</td><td>8</td><td>38</td><td>93272</td><td>237158</td><td>WEST MELBOURNE</td><td>VIC</td><td>West Melbourne</td></tr>\n",
       "<tr><td>208031192</td><td>8</td><td>54</td><td>50000</td><td>60501</td><td>MOORABBIN AIRPORT</td><td>VIC</td><td>Moorabbin Airport</td></tr>\n",
       "<tr><td>306031162</td><td>5</td><td>60</td><td>101552</td><td>95663</td><td>WOOROONOORAN</td><td>QLD</td><td>Wooroonooran</td></tr>\n",
       "<tr><td>308051532</td><td>8</td><td>45</td><td>90430</td><td>98604</td><td>CALLEMONDAH</td><td>QLD</td><td>Callemondah</td></tr>\n",
       "<tr><td>310021279</td><td>3</td><td>40</td><td>93966</td><td>112085</td><td>LAKE MANCHESTER</td><td>QLD</td><td>Lake Manchester -...</td></tr>\n",
       "<tr><td>404031104</td><td>4</td><td>50</td><td>31934</td><td>52302</td><td>ADELAIDE AIRPORT</td><td>SA</td><td>Adelaide Airport</td></tr>\n",
       "<tr><td>406011135</td><td>5</td><td>58</td><td>68754</td><td>67797</td><td>CHUNDARIA</td><td>SA</td><td>Western</td></tr>\n",
       "<tr><td>504021052</td><td>5</td><td>71</td><td>1260</td><td>-1773</td><td>SAWYERS VALLEY</td><td>WA</td><td>Malmalling - Rese...</td></tr>\n",
       "<tr><td>505031106</td><td>4</td><td>42</td><td>60564</td><td>70748</td><td>NEERABUP</td><td>WA</td><td>Neerabup National...</td></tr>\n",
       "<tr><td>506011111</td><td>4</td><td>43</td><td>143945</td><td>92309</td><td>ASHENDON</td><td>WA</td><td>Ashendon - Lesley</td></tr>\n",
       "<tr><td>506021121</td><td>3</td><td>28</td><td>84101</td><td>68602</td><td>PERTH AIRPORT</td><td>WA</td><td>Perth Airport</td></tr>\n",
       "<tr><td>701011003</td><td>7</td><td>51</td><td>43560</td><td>52873</td><td>EAST POINT</td><td>NT</td><td>East Point</td></tr>\n",
       "<tr><td>801011112</td><td>8</td><td>42</td><td>54601</td><td>58037</td><td>STRATHNAIRN</td><td>ACT</td><td>West Belconnen</td></tr>\n",
       "<tr><td>801061068</td><td>4</td><td>53</td><td>121961</td><td>107326</td><td>CAPITAL HILL</td><td>ACT</td><td>Parkes (ACT) - South</td></tr>\n",
       "</table>\n"
      ],
      "text/plain": [
       "+---------+-----------+----------+-------------+-----------+--------------------+-----+--------------------+\n",
       "| sa2_code|num_earners|median_age|median_income|mean_income|            locality|state|       SA2_NAME_2016|\n",
       "+---------+-----------+----------+-------------+-----------+--------------------+-----+--------------------+\n",
       "|117011324|          6|        42|        89790|      83273|         PORT BOTANY|  NSW|Port Botany Indus...|\n",
       "|117011325|          5|        30|        41442|      50626|SYDNEY DOMESTIC A...|  NSW|      Sydney Airport|\n",
       "|128021537|          8|        32|        26370|      38451| SOUTHERN SUBURBS MC|  NSW| Royal National Park|\n",
       "|205021080|          3|        63|        31114|      22659|              BRUMBY|  VIC|         Alps - East|\n",
       "|206041127|          8|        38|        93272|     237158|      WEST MELBOURNE|  VIC|      West Melbourne|\n",
       "|208031192|          8|        54|        50000|      60501|   MOORABBIN AIRPORT|  VIC|   Moorabbin Airport|\n",
       "|306031162|          5|        60|       101552|      95663|        WOOROONOORAN|  QLD|        Wooroonooran|\n",
       "|308051532|          8|        45|        90430|      98604|         CALLEMONDAH|  QLD|         Callemondah|\n",
       "|310021279|          3|        40|        93966|     112085|     LAKE MANCHESTER|  QLD|Lake Manchester -...|\n",
       "|404031104|          4|        50|        31934|      52302|    ADELAIDE AIRPORT|   SA|    Adelaide Airport|\n",
       "|406011135|          5|        58|        68754|      67797|           CHUNDARIA|   SA|             Western|\n",
       "|504021052|          5|        71|         1260|      -1773|      SAWYERS VALLEY|   WA|Malmalling - Rese...|\n",
       "|505031106|          4|        42|        60564|      70748|            NEERABUP|   WA|Neerabup National...|\n",
       "|506011111|          4|        43|       143945|      92309|            ASHENDON|   WA|   Ashendon - Lesley|\n",
       "|506021121|          3|        28|        84101|      68602|       PERTH AIRPORT|   WA|       Perth Airport|\n",
       "|701011003|          7|        51|        43560|      52873|          EAST POINT|   NT|          East Point|\n",
       "|801011112|          8|        42|        54601|      58037|         STRATHNAIRN|  ACT|      West Belconnen|\n",
       "|801061068|          4|        53|       121961|     107326|        CAPITAL HILL|  ACT|Parkes (ACT) - South|\n",
       "+---------+-----------+----------+-------------+-----------+--------------------+-----+--------------------+"
      ]
     },
     "execution_count": 7,
     "metadata": {},
     "output_type": "execute_result"
    }
   ],
   "source": [
    "# Looks at the locations where the num earners is the lowest\n",
    "\n",
    "testdf = incomedf.alias(\"testdf\")\n",
    "testdf = testdf.dropna(\"all\",subset=\"num_earners\")\n",
    "testdf = testdf.filter(testdf[\"num_earners\"] < 10)\n",
    "testdf = testdf.join(testpostcodedf, \"sa2_code\")\n",
    "testdf = testdf.dropDuplicates(subset=[\"sa2_code\"])\n",
    "testdf"
   ]
  },
  {
   "cell_type": "markdown",
   "id": "25f7db16-dc2a-4a10-963c-43b2e46d0119",
   "metadata": {},
   "source": [
    "lowest number of earners typically in parks/airports where barely any people live <br>\n",
    "locations like west mebourne caught my eye with only 8 earners which i thought was incorrect but turns out its not: <br>\n",
    "Population of West Melbourne. Last official estimated population of West Melbourne (as Statistical Area Level 2) was 3 people (on 2017-06-30). <br>\n",
    "(population.com.au)"
   ]
  },
  {
   "cell_type": "code",
   "execution_count": 8,
   "id": "78d92824-1fc0-4f96-8b2e-aff4537280a8",
   "metadata": {},
   "outputs": [
    {
     "name": "stdout",
     "output_type": "stream",
     "text": [
      "2289\n",
      "2241\n",
      "+---------------+---------------+------------------+\n",
      "|min(median_age)|max(median_age)|   avg(median_age)|\n",
      "+---------------+---------------+------------------+\n",
      "|             15|             71|43.077197679607316|\n",
      "+---------------+---------------+------------------+\n",
      "\n"
     ]
    },
    {
     "data": {
      "image/png": "[encoded data removed]",
      "text/plain": [
       "<Figure size 640x480 with 1 Axes>"
      ]
     },
     "metadata": {},
     "output_type": "display_data"
    }
   ],
   "source": [
    "# median_age analysis - make box plot to see value distribution\n",
    "\n",
    "testdf = incomedf.alias(\"testdf\")\n",
    "print(testdf.count())\n",
    "testdf = testdf.dropna(\"all\",subset=\"median_age\")\n",
    "print(testdf.count())\n",
    "\n",
    "print(testdf.agg(min(\"median_age\"), max(\"median_age\"), mean(\"median_age\")))\n",
    "\n",
    "df = testdf.toPandas()\n",
    "plt.boxplot(df[\"median_age\"])\n",
    "plt.show()"
   ]
  },
  {
   "cell_type": "markdown",
   "id": "a679d2c7-7194-4b62-ae7d-ae4ba9a73afc",
   "metadata": {},
   "source": [
    "again 48 rows with nulls <br>\n",
    "median ages below 20 and above 70 seem unreasonable so they will be removed considering mean retirement age is generally 65 years and the minimum age to work is around 15 years <br>"
   ]
  },
  {
   "cell_type": "code",
   "execution_count": 9,
   "id": "d97aae2c-95f4-48a6-9e57-903150c7391c",
   "metadata": {},
   "outputs": [
    {
     "data": {
      "text/html": [
       "<table border='1'>\n",
       "<tr><th>sa2_code</th><th>num_earners</th><th>median_age</th><th>median_income</th><th>mean_income</th><th>locality</th><th>state</th><th>SA2_NAME_2016</th></tr>\n",
       "<tr><td>504021052</td><td>5</td><td>71</td><td>1260</td><td>-1773</td><td>SAWYERS VALLEY</td><td>WA</td><td>Malmalling - Rese...</td></tr>\n",
       "</table>\n"
      ],
      "text/plain": [
       "+---------+-----------+----------+-------------+-----------+--------------+-----+--------------------+\n",
       "| sa2_code|num_earners|median_age|median_income|mean_income|      locality|state|       SA2_NAME_2016|\n",
       "+---------+-----------+----------+-------------+-----------+--------------+-----+--------------------+\n",
       "|504021052|          5|        71|         1260|      -1773|SAWYERS VALLEY|   WA|Malmalling - Rese...|\n",
       "+---------+-----------+----------+-------------+-----------+--------------+-----+--------------------+"
      ]
     },
     "execution_count": 9,
     "metadata": {},
     "output_type": "execute_result"
    }
   ],
   "source": [
    "# Looks at the locations where the median age is the highest\n",
    "\n",
    "testdf = incomedf.alias(\"testdf\")\n",
    "testdf = testdf.dropna(\"all\",subset=\"median_age\")\n",
    "testdf = testdf.filter(testdf[\"median_age\"] > 70)\n",
    "testdf = testdf.join(testpostcodedf, \"sa2_code\")\n",
    "testdf = testdf.dropDuplicates(subset=[\"sa2_code\"])\n",
    "testdf"
   ]
  },
  {
   "cell_type": "markdown",
   "id": "3218d2f4-2829-4cc6-bdd2-965f5d5a4a0a",
   "metadata": {},
   "source": [
    "will be removed cause negative mean income"
   ]
  },
  {
   "cell_type": "code",
   "execution_count": 10,
   "id": "2b7ebd3e-3558-48d5-b88e-f7f14f95ac79",
   "metadata": {},
   "outputs": [
    {
     "data": {
      "text/html": [
       "<table border='1'>\n",
       "<tr><th>sa2_code</th><th>num_earners</th><th>median_age</th><th>median_income</th><th>mean_income</th><th>locality</th><th>state</th><th>SA2_NAME_2016</th></tr>\n",
       "</table>\n"
      ],
      "text/plain": [
       "+--------+-----------+----------+-------------+-----------+--------+-----+-------------+\n",
       "|sa2_code|num_earners|median_age|median_income|mean_income|locality|state|SA2_NAME_2016|\n",
       "+--------+-----------+----------+-------------+-----------+--------+-----+-------------+\n",
       "+--------+-----------+----------+-------------+-----------+--------+-----+-------------+"
      ]
     },
     "execution_count": 10,
     "metadata": {},
     "output_type": "execute_result"
    }
   ],
   "source": [
    "# Looks at the locations where the median age is the lowest\n",
    "\n",
    "testdf = incomedf.alias(\"testdf\")\n",
    "testdf = testdf.dropna(\"all\",subset=\"median_age\")\n",
    "testdf = testdf.filter(testdf[\"median_age\"] < 20)\n",
    "testdf = testdf.join(testpostcodedf, \"sa2_code\")\n",
    "testdf = testdf.dropDuplicates(subset=[\"sa2_code\"])\n",
    "testdf"
   ]
  },
  {
   "cell_type": "markdown",
   "id": "46add28f-f7d4-4066-942a-220b1998b2e8",
   "metadata": {},
   "source": [
    "sa2 code doesnt exist in postcodes file for 15 year median working age so will be removed"
   ]
  },
  {
   "cell_type": "code",
   "execution_count": 11,
   "id": "26db4bcf-8d67-4c3a-ab7a-49d7c2f3ad77",
   "metadata": {},
   "outputs": [
    {
     "name": "stdout",
     "output_type": "stream",
     "text": [
      "2241\n",
      "2239\n",
      "+---------------+---------------+-----------------+\n",
      "|min(median_age)|max(median_age)|  avg(median_age)|\n",
      "+---------------+---------------+-----------------+\n",
      "|             21|             63|43.07726663689147|\n",
      "+---------------+---------------+-----------------+\n",
      "\n"
     ]
    },
    {
     "data": {
      "image/png": "[encoded data removed]",
      "text/plain": [
       "<Figure size 640x480 with 1 Axes>"
      ]
     },
     "metadata": {},
     "output_type": "display_data"
    }
   ],
   "source": [
    "# Looks at the distribution if we remove the two outliers\n",
    "\n",
    "testdf = incomedf.alias(\"testdf\")\n",
    "testdf = testdf.dropna(\"all\",subset=\"median_age\")\n",
    "print(testdf.count())\n",
    "testdf = testdf.filter(testdf[\"median_age\"] > 20)\n",
    "testdf = testdf.filter(testdf[\"median_age\"] < 70)\n",
    "print(testdf.count())\n",
    "\n",
    "print(testdf.agg(min(\"median_age\"), max(\"median_age\"), mean(\"median_age\")))\n",
    "\n",
    "df = testdf.toPandas()\n",
    "plt.boxplot(df[\"median_age\"])\n",
    "plt.show()"
   ]
  },
  {
   "cell_type": "code",
   "execution_count": 12,
   "id": "d3f6e405-c6c6-4b32-9d7e-34b5e897a341",
   "metadata": {},
   "outputs": [
    {
     "name": "stdout",
     "output_type": "stream",
     "text": [
      "2289\n",
      "2241\n",
      "+------------------+------------------+------------------+\n",
      "|min(median_income)|max(median_income)|avg(median_income)|\n",
      "+------------------+------------------+------------------+\n",
      "|              1260|            178148| 50458.69522534583|\n",
      "+------------------+------------------+------------------+\n",
      "\n"
     ]
    },
    {
     "data": {
      "image/png": "[encoded data removed]",
      "text/plain": [
       "<Figure size 640x480 with 1 Axes>"
      ]
     },
     "metadata": {},
     "output_type": "display_data"
    }
   ],
   "source": [
    "# median income analysis - make box plot to see value distribution\n",
    "\n",
    "testdf = incomedf.alias(\"testdf\")\n",
    "print(testdf.count())\n",
    "testdf = testdf.dropna(\"all\",subset=[\"median_income\"])\n",
    "print(testdf.count())\n",
    "print(testdf.agg(min(\"median_income\"), max(\"median_income\"), mean(\"median_income\")))\n",
    "\n",
    "df = testdf.toPandas()\n",
    "plt.boxplot(df[\"median_income\"])\n",
    "plt.show()"
   ]
  },
  {
   "cell_type": "markdown",
   "id": "5bd0df10-df72-4afa-8ede-56f6da212ba0",
   "metadata": {},
   "source": [
    "again 48 rows with null will be removed"
   ]
  },
  {
   "cell_type": "code",
   "execution_count": 13,
   "id": "9529dd95-00a4-4d95-a13d-3e368a6bf132",
   "metadata": {},
   "outputs": [
    {
     "data": {
      "text/html": [
       "<table border='1'>\n",
       "<tr><th>sa2_code</th><th>num_earners</th><th>median_age</th><th>median_income</th><th>mean_income</th><th>locality</th><th>state</th><th>SA2_NAME_2016</th></tr>\n",
       "<tr><td>206041127</td><td>8</td><td>38</td><td>93272</td><td>237158</td><td>WEST MELBOURNE</td><td>VIC</td><td>West Melbourne</td></tr>\n",
       "<tr><td>306031162</td><td>5</td><td>60</td><td>101552</td><td>95663</td><td>WOOROONOORAN</td><td>QLD</td><td>Wooroonooran</td></tr>\n",
       "<tr><td>308051532</td><td>8</td><td>45</td><td>90430</td><td>98604</td><td>CALLEMONDAH</td><td>QLD</td><td>Callemondah</td></tr>\n",
       "<tr><td>310021279</td><td>3</td><td>40</td><td>93966</td><td>112085</td><td>LAKE MANCHESTER</td><td>QLD</td><td>Lake Manchester -...</td></tr>\n",
       "<tr><td>406021143</td><td>2562</td><td>36</td><td>92288</td><td>95640</td><td>OLYMPIC DAM</td><td>SA</td><td>Roxby Downs</td></tr>\n",
       "<tr><td>503021037</td><td>37</td><td>59</td><td>161893</td><td>356433</td><td>KINGS PARK</td><td>WA</td><td>Kings Park (WA)</td></tr>\n",
       "<tr><td>506011111</td><td>4</td><td>43</td><td>143945</td><td>92309</td><td>ASHENDON</td><td>WA</td><td>Ashendon - Lesley</td></tr>\n",
       "<tr><td>510021269</td><td>2834</td><td>38</td><td>90731</td><td>101819</td><td>PORT HEDLAND</td><td>WA</td><td>Port Hedland</td></tr>\n",
       "<tr><td>510031271</td><td>3416</td><td>39</td><td>97795</td><td>98922</td><td>CANE</td><td>WA</td><td>Ashburton (WA)</td></tr>\n",
       "<tr><td>801061068</td><td>4</td><td>53</td><td>121961</td><td>107326</td><td>CAPITAL HILL</td><td>ACT</td><td>Parkes (ACT) - South</td></tr>\n",
       "<tr><td>801101136</td><td>181</td><td>38</td><td>91138</td><td>93812</td><td>DENMAN PROSPECT</td><td>ACT</td><td>Denman Prospect</td></tr>\n",
       "</table>\n"
      ],
      "text/plain": [
       "+---------+-----------+----------+-------------+-----------+---------------+-----+--------------------+\n",
       "| sa2_code|num_earners|median_age|median_income|mean_income|       locality|state|       SA2_NAME_2016|\n",
       "+---------+-----------+----------+-------------+-----------+---------------+-----+--------------------+\n",
       "|206041127|          8|        38|        93272|     237158| WEST MELBOURNE|  VIC|      West Melbourne|\n",
       "|306031162|          5|        60|       101552|      95663|   WOOROONOORAN|  QLD|        Wooroonooran|\n",
       "|308051532|          8|        45|        90430|      98604|    CALLEMONDAH|  QLD|         Callemondah|\n",
       "|310021279|          3|        40|        93966|     112085|LAKE MANCHESTER|  QLD|Lake Manchester -...|\n",
       "|406021143|       2562|        36|        92288|      95640|    OLYMPIC DAM|   SA|         Roxby Downs|\n",
       "|503021037|         37|        59|       161893|     356433|     KINGS PARK|   WA|     Kings Park (WA)|\n",
       "|506011111|          4|        43|       143945|      92309|       ASHENDON|   WA|   Ashendon - Lesley|\n",
       "|510021269|       2834|        38|        90731|     101819|   PORT HEDLAND|   WA|        Port Hedland|\n",
       "|510031271|       3416|        39|        97795|      98922|           CANE|   WA|      Ashburton (WA)|\n",
       "|801061068|          4|        53|       121961|     107326|   CAPITAL HILL|  ACT|Parkes (ACT) - South|\n",
       "|801101136|        181|        38|        91138|      93812|DENMAN PROSPECT|  ACT|     Denman Prospect|\n",
       "+---------+-----------+----------+-------------+-----------+---------------+-----+--------------------+"
      ]
     },
     "execution_count": 13,
     "metadata": {},
     "output_type": "execute_result"
    }
   ],
   "source": [
    "# Looks at the locations where the median income is the highest\n",
    "\n",
    "testdf = incomedf.alias(\"testdf\")\n",
    "testdf = testdf.dropna(\"all\",subset=\"median_income\")\n",
    "testdf = testdf.filter(testdf[\"median_income\"] > 90000)\n",
    "testdf = testdf.join(testpostcodedf, \"sa2_code\")\n",
    "testdf = testdf.dropDuplicates(subset=[\"sa2_code\"])\n",
    "testdf"
   ]
  },
  {
   "cell_type": "markdown",
   "id": "a2220ac3-ed20-4863-a7cb-872635a8fa7a",
   "metadata": {},
   "source": [
    "The sa2 regions with high median income are mainly consisting of posh regions with a low population <br>"
   ]
  },
  {
   "cell_type": "code",
   "execution_count": 14,
   "id": "b5f9b933-c73f-45de-82c4-af160c894e79",
   "metadata": {},
   "outputs": [
    {
     "data": {
      "text/html": [
       "<table border='1'>\n",
       "<tr><th>sa2_code</th><th>num_earners</th><th>median_age</th><th>median_income</th><th>mean_income</th><th>locality</th><th>state</th><th>SA2_NAME_2016</th></tr>\n",
       "<tr><td>110021194</td><td>3113</td><td>54</td><td>28976</td><td>35915</td><td>STANNUM</td><td>NSW</td><td>Tenterfield</td></tr>\n",
       "<tr><td>117031337</td><td>30022</td><td>30</td><td>25962</td><td>65906</td><td>SYDNEY</td><td>NSW</td><td>Sydney - Haymarke...</td></tr>\n",
       "<tr><td>124011451</td><td>14</td><td>63</td><td>21247</td><td>19071</td><td>THE DEVILS WILDER...</td><td>NSW</td><td>Blue Mountains - ...</td></tr>\n",
       "<tr><td>128021537</td><td>8</td><td>32</td><td>26370</td><td>38451</td><td>SOUTHERN SUBURBS MC</td><td>NSW</td><td>Royal National Park</td></tr>\n",
       "<tr><td>205031088</td><td>53</td><td>57</td><td>18177</td><td>32022</td><td>ELIZABETH ISLAND</td><td>VIC</td><td>French Island</td></tr>\n",
       "<tr><td>205051099</td><td>23</td><td>53</td><td>18835</td><td>27804</td><td>ARBUCKLE</td><td>VIC</td><td>Alps - West</td></tr>\n",
       "<tr><td>206041122</td><td>26083</td><td>30</td><td>28806</td><td>51528</td><td>MELBOURNE</td><td>VIC</td><td>Melbourne</td></tr>\n",
       "<tr><td>210011227</td><td>19</td><td>46</td><td>27711</td><td>42355</td><td>ESSENDON FIELDS</td><td>VIC</td><td>Essendon Airport</td></tr>\n",
       "<tr><td>315011395</td><td>352</td><td>40</td><td>23591</td><td>38363</td><td>AURUKUN</td><td>QLD</td><td>Aurukun</td></tr>\n",
       "<tr><td>315011398</td><td>585</td><td>40</td><td>25757</td><td>34917</td><td>KOWANYAMA</td><td>QLD</td><td>Kowanyama - Pormp...</td></tr>\n",
       "<tr><td>319031511</td><td>2528</td><td>54</td><td>28000</td><td>38918</td><td>TOOLARA</td><td>QLD</td><td>Cooloola</td></tr>\n",
       "<tr><td>406021138</td><td>203</td><td>35</td><td>27564</td><td>43107</td><td>AMATA</td><td>NT</td><td>APY Lands</td></tr>\n",
       "<tr><td>504021052</td><td>5</td><td>71</td><td>1260</td><td>-1773</td><td>SAWYERS VALLEY</td><td>WA</td><td>Malmalling - Rese...</td></tr>\n",
       "<tr><td>701011001</td><td>11</td><td>49</td><td>28345</td><td>41282</td><td>DARWIN INTERNATIO...</td><td>NT</td><td>Darwin Airport</td></tr>\n",
       "<tr><td>702011052</td><td>212</td><td>38</td><td>28099</td><td>43599</td><td>AHERRENGE</td><td>NT</td><td>Sandover - Plenty</td></tr>\n",
       "<tr><td>702031061</td><td>355</td><td>37</td><td>25359</td><td>37219</td><td>COBOURG</td><td>NT</td><td>West Arnhem</td></tr>\n",
       "<tr><td>702041063</td><td>693</td><td>38</td><td>27304</td><td>39023</td><td>EAST ARNHEM</td><td>NT</td><td>East Arnhem</td></tr>\n",
       "<tr><td>801031031</td><td>24</td><td>42</td><td>21385</td><td>54739</td><td>HUME</td><td>ACT</td><td>Hume</td></tr>\n",
       "<tr><td>801051049</td><td>548</td><td>23</td><td>9306</td><td>16835</td><td>ANU</td><td>ACT</td><td>Acton</td></tr>\n",
       "</table>\n"
      ],
      "text/plain": [
       "+---------+-----------+----------+-------------+-----------+--------------------+-----+--------------------+\n",
       "| sa2_code|num_earners|median_age|median_income|mean_income|            locality|state|       SA2_NAME_2016|\n",
       "+---------+-----------+----------+-------------+-----------+--------------------+-----+--------------------+\n",
       "|110021194|       3113|        54|        28976|      35915|             STANNUM|  NSW|         Tenterfield|\n",
       "|117031337|      30022|        30|        25962|      65906|              SYDNEY|  NSW|Sydney - Haymarke...|\n",
       "|124011451|         14|        63|        21247|      19071|THE DEVILS WILDER...|  NSW|Blue Mountains - ...|\n",
       "|128021537|          8|        32|        26370|      38451| SOUTHERN SUBURBS MC|  NSW| Royal National Park|\n",
       "|205031088|         53|        57|        18177|      32022|    ELIZABETH ISLAND|  VIC|       French Island|\n",
       "|205051099|         23|        53|        18835|      27804|            ARBUCKLE|  VIC|         Alps - West|\n",
       "|206041122|      26083|        30|        28806|      51528|           MELBOURNE|  VIC|           Melbourne|\n",
       "|210011227|         19|        46|        27711|      42355|     ESSENDON FIELDS|  VIC|    Essendon Airport|\n",
       "|315011395|        352|        40|        23591|      38363|             AURUKUN|  QLD|             Aurukun|\n",
       "|315011398|        585|        40|        25757|      34917|           KOWANYAMA|  QLD|Kowanyama - Pormp...|\n",
       "|319031511|       2528|        54|        28000|      38918|             TOOLARA|  QLD|            Cooloola|\n",
       "|406021138|        203|        35|        27564|      43107|               AMATA|   NT|           APY Lands|\n",
       "|504021052|          5|        71|         1260|      -1773|      SAWYERS VALLEY|   WA|Malmalling - Rese...|\n",
       "|701011001|         11|        49|        28345|      41282|DARWIN INTERNATIO...|   NT|      Darwin Airport|\n",
       "|702011052|        212|        38|        28099|      43599|           AHERRENGE|   NT|   Sandover - Plenty|\n",
       "|702031061|        355|        37|        25359|      37219|             COBOURG|   NT|         West Arnhem|\n",
       "|702041063|        693|        38|        27304|      39023|         EAST ARNHEM|   NT|         East Arnhem|\n",
       "|801031031|         24|        42|        21385|      54739|                HUME|  ACT|                Hume|\n",
       "|801051049|        548|        23|         9306|      16835|                 ANU|  ACT|               Acton|\n",
       "+---------+-----------+----------+-------------+-----------+--------------------+-----+--------------------+"
      ]
     },
     "execution_count": 14,
     "metadata": {},
     "output_type": "execute_result"
    }
   ],
   "source": [
    "# Looks at the locations where the median income is the lowest\n",
    "\n",
    "testdf = incomedf.alias(\"testdf\")\n",
    "testdf = testdf.dropna(\"all\",subset=\"median_income\")\n",
    "testdf = testdf.filter(testdf[\"median_income\"] < 30000)\n",
    "testdf = testdf.join(testpostcodedf, \"sa2_code\")\n",
    "testdf = testdf.dropDuplicates(subset=[\"sa2_code\"])\n",
    "testdf"
   ]
  },
  {
   "cell_type": "markdown",
   "id": "47ba85b5-fd5f-4d6a-9860-333d3b15c74f",
   "metadata": {},
   "source": [
    "The sa2 regions with low median income consist of regions that few people live in and there is little access to a good job such as mountains/parks/islands/airports <br>"
   ]
  },
  {
   "cell_type": "code",
   "execution_count": 15,
   "id": "8b28fc0f-8817-4710-8c88-7dc23ecd8c86",
   "metadata": {},
   "outputs": [
    {
     "name": "stdout",
     "output_type": "stream",
     "text": [
      "2289\n",
      "2241\n",
      "+----------------+----------------+------------------+\n",
      "|min(mean_income)|max(mean_income)|  avg(mean_income)|\n",
      "+----------------+----------------+------------------+\n",
      "|           -1773|          356433|62742.204373047745|\n",
      "+----------------+----------------+------------------+\n",
      "\n"
     ]
    },
    {
     "data": {
      "image/png": "[encoded data removed]",
      "text/plain": [
       "<Figure size 640x480 with 1 Axes>"
      ]
     },
     "metadata": {},
     "output_type": "display_data"
    }
   ],
   "source": [
    "# mean income analysis - make box plot to see value distribution\n",
    "\n",
    "testdf = incomedf.alias(\"testdf\")\n",
    "print(testdf.count())\n",
    "testdf = testdf.dropna(\"all\",subset=[\"mean_income\"])\n",
    "print(testdf.count())\n",
    "print(testdf.agg(min(\"mean_income\"), max(\"mean_income\"), mean(\"mean_income\")))\n",
    "\n",
    "df = testdf.toPandas()\n",
    "plt.boxplot(df[\"mean_income\"])\n",
    "plt.show()"
   ]
  },
  {
   "cell_type": "markdown",
   "id": "171a9416-2c26-4e83-b7e6-f6819bec9bda",
   "metadata": {},
   "source": [
    "again 48 rows removed due to null values <br>"
   ]
  },
  {
   "cell_type": "code",
   "execution_count": 16,
   "id": "c67423f6-9667-4ea9-89bb-fba02c126988",
   "metadata": {},
   "outputs": [
    {
     "data": {
      "text/html": [
       "<table border='1'>\n",
       "<tr><th>sa2_code</th><th>num_earners</th><th>median_age</th><th>median_income</th><th>mean_income</th><th>locality</th><th>state</th><th>SA2_NAME_2016</th></tr>\n",
       "<tr><td>118011343</td><td>18432</td><td>44</td><td>77665</td><td>176403</td><td>DOUBLE BAY</td><td>NSW</td><td>Double Bay - Bell...</td></tr>\n",
       "<tr><td>118011346</td><td>8478</td><td>48</td><td>74788</td><td>192463</td><td>ROSE BAY</td><td>NSW</td><td>Rose Bay - Vauclu...</td></tr>\n",
       "<tr><td>118011347</td><td>5532</td><td>45</td><td>74887</td><td>164205</td><td>WOOLLAHRA</td><td>NSW</td><td>Woollahra</td></tr>\n",
       "<tr><td>121041415</td><td>20612</td><td>47</td><td>75307</td><td>166807</td><td>MOSMAN</td><td>NSW</td><td>Mosman</td></tr>\n",
       "<tr><td>206041127</td><td>8</td><td>38</td><td>93272</td><td>237158</td><td>WEST MELBOURNE</td><td>VIC</td><td>West Melbourne</td></tr>\n",
       "<tr><td>206061138</td><td>10250</td><td>49</td><td>72451</td><td>177645</td><td>TOORAK</td><td>VIC</td><td>Toorak</td></tr>\n",
       "<tr><td>503011032</td><td>5544</td><td>49</td><td>74999</td><td>213108</td><td>COTTESLOE</td><td>WA</td><td>Cottesloe</td></tr>\n",
       "<tr><td>503011034</td><td>6781</td><td>47</td><td>65623</td><td>160696</td><td>PEPPERMINT GROVE</td><td>WA</td><td>Mosman Park - Pep...</td></tr>\n",
       "<tr><td>503021037</td><td>37</td><td>59</td><td>161893</td><td>356433</td><td>KINGS PARK</td><td>WA</td><td>Kings Park (WA)</td></tr>\n",
       "<tr><td>801061063</td><td>1312</td><td>48</td><td>87093</td><td>150020</td><td>FORREST</td><td>ACT</td><td>Forrest</td></tr>\n",
       "</table>\n"
      ],
      "text/plain": [
       "+---------+-----------+----------+-------------+-----------+----------------+-----+--------------------+\n",
       "| sa2_code|num_earners|median_age|median_income|mean_income|        locality|state|       SA2_NAME_2016|\n",
       "+---------+-----------+----------+-------------+-----------+----------------+-----+--------------------+\n",
       "|118011343|      18432|        44|        77665|     176403|      DOUBLE BAY|  NSW|Double Bay - Bell...|\n",
       "|118011346|       8478|        48|        74788|     192463|        ROSE BAY|  NSW|Rose Bay - Vauclu...|\n",
       "|118011347|       5532|        45|        74887|     164205|       WOOLLAHRA|  NSW|           Woollahra|\n",
       "|121041415|      20612|        47|        75307|     166807|          MOSMAN|  NSW|              Mosman|\n",
       "|206041127|          8|        38|        93272|     237158|  WEST MELBOURNE|  VIC|      West Melbourne|\n",
       "|206061138|      10250|        49|        72451|     177645|          TOORAK|  VIC|              Toorak|\n",
       "|503011032|       5544|        49|        74999|     213108|       COTTESLOE|   WA|           Cottesloe|\n",
       "|503011034|       6781|        47|        65623|     160696|PEPPERMINT GROVE|   WA|Mosman Park - Pep...|\n",
       "|503021037|         37|        59|       161893|     356433|      KINGS PARK|   WA|     Kings Park (WA)|\n",
       "|801061063|       1312|        48|        87093|     150020|         FORREST|  ACT|             Forrest|\n",
       "+---------+-----------+----------+-------------+-----------+----------------+-----+--------------------+"
      ]
     },
     "execution_count": 16,
     "metadata": {},
     "output_type": "execute_result"
    }
   ],
   "source": [
    "# Looks at the locations where the mean income is the highest\n",
    "\n",
    "testdf = incomedf.alias(\"testdf\")\n",
    "testdf = testdf.dropna(\"all\",subset=\"mean_income\")\n",
    "testdf = testdf.filter(testdf[\"mean_income\"] > 150000)\n",
    "testdf = testdf.join(testpostcodedf, \"sa2_code\")\n",
    "testdf = testdf.dropDuplicates(subset=[\"sa2_code\"])\n",
    "testdf"
   ]
  },
  {
   "cell_type": "markdown",
   "id": "5f832067-eabe-4069-8ab9-fd0ac54b5094",
   "metadata": {},
   "source": [
    "The highest mean income comes from posh regions with low populations and from wealthy regions in major cities"
   ]
  },
  {
   "cell_type": "code",
   "execution_count": 17,
   "id": "45922646-9c47-41f0-a79f-b32833decdcd",
   "metadata": {},
   "outputs": [
    {
     "data": {
      "text/html": [
       "<table border='1'>\n",
       "<tr><th>sa2_code</th><th>num_earners</th><th>median_age</th><th>median_income</th><th>mean_income</th><th>locality</th><th>state</th><th>SA2_NAME_2016</th></tr>\n",
       "<tr><td>124011451</td><td>14</td><td>63</td><td>21247</td><td>19071</td><td>THE DEVILS WILDER...</td><td>NSW</td><td>Blue Mountains - ...</td></tr>\n",
       "<tr><td>205021080</td><td>3</td><td>63</td><td>31114</td><td>22659</td><td>BRUMBY</td><td>VIC</td><td>Alps - East</td></tr>\n",
       "<tr><td>504021052</td><td>5</td><td>71</td><td>1260</td><td>-1773</td><td>SAWYERS VALLEY</td><td>WA</td><td>Malmalling - Rese...</td></tr>\n",
       "<tr><td>801051049</td><td>548</td><td>23</td><td>9306</td><td>16835</td><td>ANU</td><td>ACT</td><td>Acton</td></tr>\n",
       "</table>\n"
      ],
      "text/plain": [
       "+---------+-----------+----------+-------------+-----------+--------------------+-----+--------------------+\n",
       "| sa2_code|num_earners|median_age|median_income|mean_income|            locality|state|       SA2_NAME_2016|\n",
       "+---------+-----------+----------+-------------+-----------+--------------------+-----+--------------------+\n",
       "|124011451|         14|        63|        21247|      19071|THE DEVILS WILDER...|  NSW|Blue Mountains - ...|\n",
       "|205021080|          3|        63|        31114|      22659|              BRUMBY|  VIC|         Alps - East|\n",
       "|504021052|          5|        71|         1260|      -1773|      SAWYERS VALLEY|   WA|Malmalling - Rese...|\n",
       "|801051049|        548|        23|         9306|      16835|                 ANU|  ACT|               Acton|\n",
       "+---------+-----------+----------+-------------+-----------+--------------------+-----+--------------------+"
      ]
     },
     "execution_count": 17,
     "metadata": {},
     "output_type": "execute_result"
    }
   ],
   "source": [
    "# Looks at the locations where the mean income is the lowest\n",
    "\n",
    "testdf = incomedf.alias(\"testdf\")\n",
    "testdf = testdf.dropna(\"all\",subset=\"mean_income\")\n",
    "testdf = testdf.filter(testdf[\"mean_income\"] < 25000)\n",
    "testdf = testdf.join(testpostcodedf, \"sa2_code\")\n",
    "testdf = testdf.dropDuplicates(subset=[\"sa2_code\"])\n",
    "testdf"
   ]
  },
  {
   "cell_type": "markdown",
   "id": "26c324eb-6d04-4eb2-8617-40adff285370",
   "metadata": {},
   "source": [
    "The lowest mean income is similar to the lowest median income and comes from locations where not many people live and not many jobs are available such as parks/islands/mountains"
   ]
  },
  {
   "cell_type": "markdown",
   "id": "8fab79ce-2441-49c6-b563-403ca85b5dcb",
   "metadata": {},
   "source": [
    "It is interesting seeing that the regions with the highest median income are generally different to the regions with the highest mean income <br>\n",
    "Mean being bigger then median means that there are more highly wealthy people bringing the average up <br>\n",
    "this is confirmed as the bigger mean income locations mostly focus around major cities with HIGH populations where these millionaires would generally live <br>\n",
    "whereas the bigger median income regions revolve around niche locations with LOW populations  "
   ]
  },
  {
   "cell_type": "code",
   "execution_count": 18,
   "id": "b465d2df",
   "metadata": {},
   "outputs": [
    {
     "name": "stdout",
     "output_type": "stream",
     "text": [
      "2241\n",
      "2239\n"
     ]
    }
   ],
   "source": [
    "# Remove outliers from actual income dataset\n",
    "\n",
    "incomedf = incomedf.dropna(\"any\")\n",
    "print(incomedf.count())\n",
    "incomedf = incomedf.filter(incomedf[\"median_age\"] > 20)\n",
    "incomedf = incomedf.filter(incomedf[\"median_age\"] < 70)\n",
    "print(incomedf.count())"
   ]
  },
  {
   "cell_type": "code",
   "execution_count": 20,
   "id": "71e7017e",
   "metadata": {},
   "outputs": [
    {
     "data": {
      "text/html": [
       "<table border='1'>\n",
       "<tr><th>sa2_code</th><th>num_earners</th><th>median_age</th><th>median_income</th><th>mean_income</th></tr>\n",
       "<tr><td>213011340</td><td>11238</td><td>46</td><td>51181</td><td>61177</td></tr>\n",
       "<tr><td>213021341</td><td>7942</td><td>43</td><td>57585</td><td>69301</td></tr>\n",
       "<tr><td>213021344</td><td>11216</td><td>41</td><td>66161</td><td>80219</td></tr>\n",
       "<tr><td>213021345</td><td>3015</td><td>41</td><td>52078</td><td>60249</td></tr>\n",
       "<tr><td>213021346</td><td>9996</td><td>47</td><td>63892</td><td>90668</td></tr>\n",
       "</table>\n"
      ],
      "text/plain": [
       "+---------+-----------+----------+-------------+-----------+\n",
       "| sa2_code|num_earners|median_age|median_income|mean_income|\n",
       "+---------+-----------+----------+-------------+-----------+\n",
       "|213011340|      11238|        46|        51181|      61177|\n",
       "|213021341|       7942|        43|        57585|      69301|\n",
       "|213021344|      11216|        41|        66161|      80219|\n",
       "|213021345|       3015|        41|        52078|      60249|\n",
       "|213021346|       9996|        47|        63892|      90668|\n",
       "+---------+-----------+----------+-------------+-----------+"
      ]
     },
     "execution_count": 20,
     "metadata": {},
     "output_type": "execute_result"
    }
   ],
   "source": [
    "incomedf.limit(5)"
   ]
  },
  {
   "cell_type": "code",
   "execution_count": 19,
   "id": "05261ba5",
   "metadata": {},
   "outputs": [],
   "source": [
    "# Save final income dataset\n",
    "\n",
    "incomedf.write.mode(\"overwrite\").parquet('../data/curated/incomedf.parquet')"
   ]
  }
 ],
 "metadata": {
  "kernelspec": {
   "display_name": "Python 3 (ipykernel)",
   "language": "python",
   "name": "python3"
  },
  "language_info": {
   "codemirror_mode": {
    "name": "ipython",
    "version": 3
   },
   "file_extension": ".py",
   "mimetype": "text/x-python",
   "name": "python",
   "nbconvert_exporter": "python",
   "pygments_lexer": "ipython3",
   "version": "3.8.10"
  },
  "vscode": {
   "interpreter": {
    "hash": "916dbcbb3f70747c44a77c7bcd40155683ae19c65e1c03b4aa3499c5328201f1"
   }
  }
 },
 "nbformat": 4,
 "nbformat_minor": 5
}
