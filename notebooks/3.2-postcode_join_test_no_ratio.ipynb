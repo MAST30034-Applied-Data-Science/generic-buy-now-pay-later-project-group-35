{
 "cells": [
  {
   "cell_type": "code",
   "execution_count": 24,
   "metadata": {},
   "outputs": [],
   "source": [
    "from pyspark.sql import SparkSession\n",
    "from pyspark.sql.functions import * \n",
    "import matplotlib.pyplot as plt\n",
    "import pandas as pd\n",
    "import numpy as np\n",
    "from urllib.request import urlretrieve\n",
    "from owslib.wfs import WebFeatureService\n",
    "from dotenv import load_dotenv\n",
    "from pyspark.sql import functions as F\n",
    "\n",
    "# Create a spark session\n",
    "spark = (\n",
    "    SparkSession.builder.appName(\"analysis\")\n",
    "    .config(\"spark.sql.repl.eagerEval.enabled\", True) \n",
    "    .config(\"spark.sql.parquet.cacheMetadata\", \"true\")\n",
    "    .config(\"spark.sql.session.timeZone\", \"Etc/UTC\")\n",
    "    .config(\"spark.driver.memory\", \"2g\")\n",
    "    .config(\"spark.executor.memory\", \"6g\")\n",
    "    .getOrCreate()\n",
    ")"
   ]
  },
  {
   "cell_type": "code",
   "execution_count": 25,
   "metadata": {},
   "outputs": [
    {
     "name": "stdout",
     "output_type": "stream",
     "text": [
      "5492\n"
     ]
    },
    {
     "data": {
      "text/html": [
       "<table border='1'>\n",
       "<tr><th>postcode</th><th>sa2_code</th></tr>\n",
       "<tr><td>1008</td><td>117031337</td></tr>\n",
       "<tr><td>1150</td><td>117031337</td></tr>\n",
       "<tr><td>2100</td><td>122031429</td></tr>\n",
       "<tr><td>2200</td><td>119011571</td></tr>\n",
       "<tr><td>2338</td><td>110041201</td></tr>\n",
       "</table>\n"
      ],
      "text/plain": [
       "+--------+---------+\n",
       "|postcode| sa2_code|\n",
       "+--------+---------+\n",
       "|    1008|117031337|\n",
       "|    1150|117031337|\n",
       "|    2100|122031429|\n",
       "|    2200|119011571|\n",
       "|    2338|110041201|\n",
       "+--------+---------+"
      ]
     },
     "execution_count": 25,
     "metadata": {},
     "output_type": "execute_result"
    }
   ],
   "source": [
    "postcode_sdf = spark.read.parquet(\"../data/curated/postcodedf.parquet/\")\n",
    "print(postcode_sdf.count())\n",
    "postcode_sdf.limit(5)"
   ]
  },
  {
   "cell_type": "markdown",
   "metadata": {},
   "source": [
    "## Join postcode data with population data"
   ]
  },
  {
   "cell_type": "code",
   "execution_count": 26,
   "metadata": {},
   "outputs": [
    {
     "name": "stdout",
     "output_type": "stream",
     "text": [
      "2450\n"
     ]
    },
    {
     "data": {
      "text/html": [
       "<table border='1'>\n",
       "<tr><th>State/Terr</th><th>sa2_code</th><th>SA2 name</th><th>Total</th><th>Under 10</th><th>Adolescent</th><th>Young adult</th><th>Middle age</th><th>Old</th></tr>\n",
       "<tr><td>New South Wales</td><td>101021007</td><td>Braidwood</td><td>4330</td><td>473</td><td>403</td><td>495</td><td>1472</td><td>1487</td></tr>\n",
       "<tr><td>New South Wales</td><td>101021008</td><td>Karabar</td><td>8546</td><td>1082</td><td>1075</td><td>1818</td><td>2858</td><td>1713</td></tr>\n",
       "<tr><td>New South Wales</td><td>101021009</td><td>Queanbeyan</td><td>11370</td><td>1275</td><td>916</td><td>3129</td><td>3681</td><td>2369</td></tr>\n",
       "<tr><td>New South Wales</td><td>101021010</td><td>Queanbeyan - East</td><td>5093</td><td>588</td><td>406</td><td>1460</td><td>1718</td><td>921</td></tr>\n",
       "<tr><td>New South Wales</td><td>101021012</td><td>Queanbeyan West -...</td><td>12743</td><td>1796</td><td>1910</td><td>2266</td><td>4933</td><td>1838</td></tr>\n",
       "</table>\n"
      ],
      "text/plain": [
       "+---------------+---------+--------------------+-----+--------+----------+-----------+----------+----+\n",
       "|     State/Terr| sa2_code|            SA2 name|Total|Under 10|Adolescent|Young adult|Middle age| Old|\n",
       "+---------------+---------+--------------------+-----+--------+----------+-----------+----------+----+\n",
       "|New South Wales|101021007|           Braidwood| 4330|     473|       403|        495|      1472|1487|\n",
       "|New South Wales|101021008|             Karabar| 8546|    1082|      1075|       1818|      2858|1713|\n",
       "|New South Wales|101021009|          Queanbeyan|11370|    1275|       916|       3129|      3681|2369|\n",
       "|New South Wales|101021010|   Queanbeyan - East| 5093|     588|       406|       1460|      1718| 921|\n",
       "|New South Wales|101021012|Queanbeyan West -...|12743|    1796|      1910|       2266|      4933|1838|\n",
       "+---------------+---------+--------------------+-----+--------+----------+-----------+----------+----+"
      ]
     },
     "execution_count": 26,
     "metadata": {},
     "output_type": "execute_result"
    }
   ],
   "source": [
    "pop_sdf = spark.read.parquet(\"../data/curated/pop_sdf.parquet/\")\n",
    "print(pop_sdf.count())\n",
    "populationdf = pop_sdf.withColumnRenamed(\"SA2 code\",\"sa2_code\")\n",
    "populationdf.limit(5)"
   ]
  },
  {
   "cell_type": "code",
   "execution_count": 27,
   "metadata": {},
   "outputs": [],
   "source": [
    "merged_sdf1 = populationdf.join(postcode_sdf, on=\"sa2_code\", how=\"inner\")"
   ]
  },
  {
   "cell_type": "code",
   "execution_count": 28,
   "metadata": {},
   "outputs": [
    {
     "data": {
      "text/plain": [
       "2083"
      ]
     },
     "execution_count": 28,
     "metadata": {},
     "output_type": "execute_result"
    }
   ],
   "source": [
    "merged_sdf1.groupBy(\"sa2_code\").count().count()"
   ]
  },
  {
   "cell_type": "markdown",
   "metadata": {},
   "source": [
    "Lost 367 records for which there were no sa2 codes"
   ]
  },
  {
   "cell_type": "code",
   "execution_count": 29,
   "metadata": {},
   "outputs": [
    {
     "data": {
      "text/html": [
       "<table border='1'>\n",
       "<tr><th>sa2_code</th><th>State/Terr</th><th>SA2 name</th><th>Total</th><th>Under 10</th><th>Adolescent</th><th>Young adult</th><th>Middle age</th><th>Old</th><th>postcode</th></tr>\n",
       "<tr><td>801051049</td><td>Australian Capita...</td><td>Acton</td><td>2875</td><td>6</td><td>1528</td><td>1292</td><td>47</td><td>2</td><td>0200</td></tr>\n",
       "<tr><td>701011002</td><td>Northern Territory</td><td>Darwin City</td><td>7679</td><td>474</td><td>325</td><td>3322</td><td>2652</td><td>906</td><td>0800</td></tr>\n",
       "<tr><td>701011002</td><td>Northern Territory</td><td>Darwin City</td><td>7679</td><td>474</td><td>325</td><td>3322</td><td>2652</td><td>906</td><td>0801</td></tr>\n",
       "<tr><td>701011007</td><td>Northern Territory</td><td>Parap</td><td>2980</td><td>350</td><td>282</td><td>801</td><td>1047</td><td>500</td><td>0804</td></tr>\n",
       "<tr><td>701021010</td><td>Northern Territory</td><td>Alawa</td><td>2172</td><td>326</td><td>227</td><td>529</td><td>704</td><td>386</td><td>0810</td></tr>\n",
       "</table>\n"
      ],
      "text/plain": [
       "+---------+--------------------+-----------+-----+--------+----------+-----------+----------+---+--------+\n",
       "| sa2_code|          State/Terr|   SA2 name|Total|Under 10|Adolescent|Young adult|Middle age|Old|postcode|\n",
       "+---------+--------------------+-----------+-----+--------+----------+-----------+----------+---+--------+\n",
       "|801051049|Australian Capita...|      Acton| 2875|       6|      1528|       1292|        47|  2|    0200|\n",
       "|701011002|  Northern Territory|Darwin City| 7679|     474|       325|       3322|      2652|906|    0800|\n",
       "|701011002|  Northern Territory|Darwin City| 7679|     474|       325|       3322|      2652|906|    0801|\n",
       "|701011007|  Northern Territory|      Parap| 2980|     350|       282|        801|      1047|500|    0804|\n",
       "|701021010|  Northern Territory|      Alawa| 2172|     326|       227|        529|       704|386|    0810|\n",
       "+---------+--------------------+-----------+-----+--------+----------+-----------+----------+---+--------+"
      ]
     },
     "execution_count": 29,
     "metadata": {},
     "output_type": "execute_result"
    }
   ],
   "source": [
    "merged_sdf1.orderBy(\"postcode\").limit(5)"
   ]
  },
  {
   "cell_type": "markdown",
   "metadata": {},
   "source": [
    "Get a single population value for each postcode and field by calculating the mean"
   ]
  },
  {
   "cell_type": "code",
   "execution_count": 30,
   "metadata": {},
   "outputs": [
    {
     "name": "stdout",
     "output_type": "stream",
     "text": [
      "+--------+---------+-----------+----------+-------------+-----------+-------+\n",
      "|postcode|total_pop|under10_pop|adolsc_pop|yng_adult_pop|mid_age_pop|old_pop|\n",
      "+--------+---------+-----------+----------+-------------+-----------+-------+\n",
      "|    0200|   2875.0|        6.0|    1528.0|       1292.0|       47.0|    2.0|\n",
      "|    0800|   7679.0|      474.0|     325.0|       3322.0|     2652.0|  906.0|\n",
      "|    0801|   7679.0|      474.0|     325.0|       3322.0|     2652.0|  906.0|\n",
      "|    0804|   2980.0|      350.0|     282.0|        801.0|     1047.0|  500.0|\n",
      "|    0810|   3018.0|      419.0|    346.08|       769.08|    1013.67| 470.17|\n",
      "|    0811|   3615.0|      372.0|     409.0|       1140.0|     1086.0|  608.0|\n",
      "|    0812|  3314.67|     483.33|     447.0|       636.83|    1143.67| 603.83|\n",
      "|    0813|   2516.0|      468.0|     454.0|        729.0|      664.0|  201.0|\n",
      "|    0814|   4112.0|      490.0|     393.0|       1204.0|     1371.0|  654.0|\n",
      "|    0815|   3615.0|      372.0|     409.0|       1140.0|     1086.0|  608.0|\n",
      "|    0820|  2935.58|     298.33|     262.0|       912.42|    1009.75| 453.08|\n",
      "|    0821|   3024.0|      325.0|     315.0|        861.0|     1148.0|  375.0|\n",
      "|    0822|  4081.53|     545.94|    572.35|      1034.76|    1373.41| 555.06|\n",
      "|    0828|   1814.0|      224.0|     302.0|        433.0|      624.0|  231.0|\n",
      "|    0829|   4788.0|      844.0|     556.0|       1188.0|     1678.0|  522.0|\n",
      "|    0830|  3658.25|     646.25|    482.13|       921.63|    1236.88| 371.38|\n",
      "|    0831|   4762.0|      825.0|     630.0|       1168.0|     1603.0|  536.0|\n",
      "|    0832|   5512.4|      910.2|     694.4|       1570.4|     1830.8|  506.6|\n",
      "|    0834|   3368.0|      356.0|     435.0|        647.0|     1198.0|  732.0|\n",
      "|    0835|   4551.5|      398.5|     483.0|       1218.0|     1629.0|  823.0|\n",
      "+--------+---------+-----------+----------+-------------+-----------+-------+\n",
      "only showing top 20 rows\n",
      "\n"
     ]
    }
   ],
   "source": [
    "postcode_pop_sdf = merged_sdf1.groupBy(\"postcode\") \\\n",
    "    .agg(\n",
    "        F.round(F.mean(merged_sdf1.Total), 2).alias(\"total_pop\"),\n",
    "        F.round(F.mean(merged_sdf1['Under 10']), 2).alias(\"under10_pop\"),\n",
    "        F.round(F.mean(merged_sdf1.Adolescent), 2).alias(\"adolsc_pop\"),\n",
    "        F.round(F.mean(merged_sdf1['Young adult']), 2).alias(\"yng_adult_pop\"),\n",
    "        F.round(F.mean(merged_sdf1['Middle age']), 2).alias(\"mid_age_pop\"),\n",
    "        F.round(F.mean(merged_sdf1.Old), 2).alias(\"old_pop\")\n",
    "    )\n",
    "    \n",
    "postcode_pop_sdf.orderBy(\"postcode\").show()"
   ]
  },
  {
   "cell_type": "markdown",
   "metadata": {},
   "source": [
    "Visualize the population variation for each SA2 code within each postcode"
   ]
  },
  {
   "cell_type": "code",
   "execution_count": 31,
   "metadata": {},
   "outputs": [],
   "source": [
    "pop_diffs = merged_sdf1.groupBy(\"postcode\").agg(\n",
    "    (F.max(merged_sdf1.Total) - F.min(merged_sdf1.Total)).alias(\"Total\"),\n",
    "    (F.max(merged_sdf1[\"Under 10\"]) - F.min(merged_sdf1[\"Under 10\"])).alias(\"Under 10\"),\n",
    "    (F.max(merged_sdf1.Adolescent) - F.min(merged_sdf1.Adolescent)).alias(\"Adolescent\"),\n",
    "    (F.max(merged_sdf1[\"Young adult\"]) - F.min(merged_sdf1[\"Young adult\"])).alias(\"Young adult\"),\n",
    "    (F.max(merged_sdf1[\"Middle age\"]) - F.min(merged_sdf1[\"Middle age\"])).alias(\"Middle age\"),\n",
    "    (F.max(merged_sdf1.Old) - F.min(merged_sdf1.Old)).alias(\"Old\")\n",
    ")"
   ]
  },
  {
   "cell_type": "code",
   "execution_count": 32,
   "metadata": {},
   "outputs": [
    {
     "data": {
      "text/html": [
       "<table border='1'>\n",
       "<tr><th>postcode</th><th>Total</th><th>Under 10</th><th>Adolescent</th><th>Young adult</th><th>Middle age</th><th>Old</th></tr>\n",
       "<tr><td>2294</td><td>0</td><td>0</td><td>0</td><td>0</td><td>0</td><td>0</td></tr>\n",
       "<tr><td>2136</td><td>13811</td><td>1444</td><td>1638</td><td>2493</td><td>4732</td><td>3504</td></tr>\n",
       "<tr><td>2069</td><td>0</td><td>0</td><td>0</td><td>0</td><td>0</td><td>0</td></tr>\n",
       "<tr><td>2162</td><td>0</td><td>0</td><td>0</td><td>0</td><td>0</td><td>0</td></tr>\n",
       "<tr><td>2464</td><td>0</td><td>0</td><td>0</td><td>0</td><td>0</td><td>0</td></tr>\n",
       "</table>\n"
      ],
      "text/plain": [
       "+--------+-----+--------+----------+-----------+----------+----+\n",
       "|postcode|Total|Under 10|Adolescent|Young adult|Middle age| Old|\n",
       "+--------+-----+--------+----------+-----------+----------+----+\n",
       "|    2294|    0|       0|         0|          0|         0|   0|\n",
       "|    2136|13811|    1444|      1638|       2493|      4732|3504|\n",
       "|    2069|    0|       0|         0|          0|         0|   0|\n",
       "|    2162|    0|       0|         0|          0|         0|   0|\n",
       "|    2464|    0|       0|         0|          0|         0|   0|\n",
       "+--------+-----+--------+----------+-----------+----------+----+"
      ]
     },
     "execution_count": 32,
     "metadata": {},
     "output_type": "execute_result"
    }
   ],
   "source": [
    "pop_diffs.limit(5)"
   ]
  },
  {
   "cell_type": "code",
   "execution_count": 33,
   "metadata": {},
   "outputs": [
    {
     "name": "stderr",
     "output_type": "stream",
     "text": [
      "/tmp/ipykernel_2980/1227780644.py:3: UserWarning: FixedFormatter should only be used together with FixedLocator\n",
      "  ax1.set_yticklabels(['Total', 'Under 10',\n"
     ]
    },
    {
     "data": {
      "image/png": "[encoded data removed]",
      "text/plain": [
       "<Figure size 360x216 with 1 Axes>"
      ]
     },
     "metadata": {
      "needs_background": "light"
     },
     "output_type": "display_data"
    }
   ],
   "source": [
    "fig1 = plt.figure(figsize = (5, 3))\n",
    "ax1 = fig1.add_axes([0, 0, 1, 1])\n",
    "ax1.set_yticklabels(['Total', 'Under 10',\n",
    "                    'Adolescent', 'Young adult',\n",
    "                    'Middle age', 'Old'])\n",
    "bp = ax1.boxplot(pop_diffs.drop(\"postcode\").toPandas(), vert=0)\n",
    "\n",
    "plt.show()"
   ]
  },
  {
   "cell_type": "markdown",
   "metadata": {},
   "source": [
    "## Join postcode data with income data"
   ]
  },
  {
   "cell_type": "code",
   "execution_count": 34,
   "metadata": {},
   "outputs": [
    {
     "name": "stdout",
     "output_type": "stream",
     "text": [
      "2239\n"
     ]
    },
    {
     "data": {
      "text/html": [
       "<table border='1'>\n",
       "<tr><th>sa2_code</th><th>num_earners</th><th>median_age</th><th>median_income</th><th>mean_income</th></tr>\n",
       "<tr><td>206041126</td><td>14398</td><td>32</td><td>51696</td><td>73634</td></tr>\n",
       "<tr><td>203021046</td><td>6701</td><td>45</td><td>57818</td><td>83648</td></tr>\n",
       "<tr><td>202011020</td><td>7944</td><td>47</td><td>46635</td><td>57894</td></tr>\n",
       "<tr><td>208031187</td><td>3158</td><td>43</td><td>52094</td><td>58104</td></tr>\n",
       "<tr><td>203021047</td><td>8152</td><td>42</td><td>47651</td><td>56636</td></tr>\n",
       "</table>\n"
      ],
      "text/plain": [
       "+---------+-----------+----------+-------------+-----------+\n",
       "| sa2_code|num_earners|median_age|median_income|mean_income|\n",
       "+---------+-----------+----------+-------------+-----------+\n",
       "|206041126|      14398|        32|        51696|      73634|\n",
       "|203021046|       6701|        45|        57818|      83648|\n",
       "|202011020|       7944|        47|        46635|      57894|\n",
       "|208031187|       3158|        43|        52094|      58104|\n",
       "|203021047|       8152|        42|        47651|      56636|\n",
       "+---------+-----------+----------+-------------+-----------+"
      ]
     },
     "execution_count": 34,
     "metadata": {},
     "output_type": "execute_result"
    }
   ],
   "source": [
    "incomedf = spark.read.parquet(\"../data/curated/incomedf.parquet/\")\n",
    "print(incomedf.count())\n",
    "incomedf.limit(5)"
   ]
  },
  {
   "cell_type": "code",
   "execution_count": 35,
   "metadata": {},
   "outputs": [],
   "source": [
    "merged_sdf2 = incomedf.join(postcode_sdf, on=\"sa2_code\", how=\"inner\")"
   ]
  },
  {
   "cell_type": "code",
   "execution_count": 36,
   "metadata": {},
   "outputs": [
    {
     "data": {
      "text/plain": [
       "2186"
      ]
     },
     "execution_count": 36,
     "metadata": {},
     "output_type": "execute_result"
    }
   ],
   "source": [
    "merged_sdf2.groupBy(\"sa2_code\").count().count()"
   ]
  },
  {
   "cell_type": "markdown",
   "metadata": {},
   "source": [
    "Lost 53 records for which there were no sa2 codes"
   ]
  },
  {
   "cell_type": "code",
   "execution_count": 37,
   "metadata": {},
   "outputs": [
    {
     "data": {
      "text/html": [
       "<table border='1'>\n",
       "<tr><th>sa2_code</th><th>num_earners</th><th>median_age</th><th>median_income</th><th>mean_income</th><th>postcode</th></tr>\n",
       "<tr><td>801051049</td><td>548</td><td>23</td><td>9306</td><td>16835</td><td>0200</td></tr>\n",
       "<tr><td>701011002</td><td>5909</td><td>33</td><td>60937</td><td>87791</td><td>0800</td></tr>\n",
       "<tr><td>701011002</td><td>5909</td><td>33</td><td>60937</td><td>87791</td><td>0801</td></tr>\n",
       "<tr><td>701011007</td><td>1873</td><td>40</td><td>75219</td><td>98872</td><td>0804</td></tr>\n",
       "<tr><td>701021010</td><td>1387</td><td>40</td><td>54188</td><td>61411</td><td>0810</td></tr>\n",
       "</table>\n"
      ],
      "text/plain": [
       "+---------+-----------+----------+-------------+-----------+--------+\n",
       "| sa2_code|num_earners|median_age|median_income|mean_income|postcode|\n",
       "+---------+-----------+----------+-------------+-----------+--------+\n",
       "|801051049|        548|        23|         9306|      16835|    0200|\n",
       "|701011002|       5909|        33|        60937|      87791|    0800|\n",
       "|701011002|       5909|        33|        60937|      87791|    0801|\n",
       "|701011007|       1873|        40|        75219|      98872|    0804|\n",
       "|701021010|       1387|        40|        54188|      61411|    0810|\n",
       "+---------+-----------+----------+-------------+-----------+--------+"
      ]
     },
     "execution_count": 37,
     "metadata": {},
     "output_type": "execute_result"
    }
   ],
   "source": [
    "merged_sdf2.orderBy(\"postcode\").limit(5)"
   ]
  },
  {
   "cell_type": "markdown",
   "metadata": {},
   "source": [
    "Again, use the mean approach for the income data"
   ]
  },
  {
   "cell_type": "code",
   "execution_count": 38,
   "metadata": {},
   "outputs": [
    {
     "name": "stdout",
     "output_type": "stream",
     "text": [
      "+--------+-----------+----------+-------------+-----------+\n",
      "|postcode|num_earners|median_age|median_income|mean_income|\n",
      "+--------+-----------+----------+-------------+-----------+\n",
      "|    0200|      548.0|      23.0|       9306.0|    16835.0|\n",
      "|    0800|     5909.0|      33.0|      60937.0|    87791.0|\n",
      "|    0801|     5909.0|      33.0|      60937.0|    87791.0|\n",
      "|    0804|     1873.0|      40.0|      75219.0|    98872.0|\n",
      "|    0810|    1823.33|     39.33|      59558.0|   69537.42|\n",
      "|    0811|     2395.0|      39.0|      52335.0|    67299.0|\n",
      "|    0812|     2330.2|      41.6|      62069.0|    69623.6|\n",
      "|    0813|      296.0|      35.0|      35787.0|    44160.0|\n",
      "|    0814|     2618.0|      39.0|      65946.0|    81123.0|\n",
      "|    0815|     2395.0|      39.0|      52335.0|    67299.0|\n",
      "|    0820|    2223.55|     41.09|     58518.91|   75577.27|\n",
      "|    0821|     3585.0|      39.0|      51942.0|    69250.0|\n",
      "|    0822|    1787.38|     39.06|     49168.06|   59432.69|\n",
      "|    0828|      686.0|      43.0|      58107.0|    70769.0|\n",
      "|    0829|     2887.0|      37.0|      73073.0|    83989.0|\n",
      "|    0830|    2026.25|      35.5|      65808.5|   73559.38|\n",
      "|    0831|     2982.0|      37.0|      71550.0|    79929.0|\n",
      "|    0832|     2935.4|      36.6|      68623.6|    76968.4|\n",
      "|    0834|     2122.0|      44.0|      63094.0|    72515.0|\n",
      "|    0835|     2354.5|      43.0|      64311.5|    73718.5|\n",
      "+--------+-----------+----------+-------------+-----------+\n",
      "only showing top 20 rows\n",
      "\n"
     ]
    }
   ],
   "source": [
    "postcode_income_sdf = merged_sdf2.groupBy(\"postcode\") \\\n",
    "    .agg(\n",
    "        F.round(F.mean(merged_sdf2.num_earners), 2).alias(\"num_earners\"),\n",
    "        F.round(F.mean(merged_sdf2.median_age), 2).alias(\"median_age\"),\n",
    "        F.round(F.mean(merged_sdf2.median_income), 2).alias(\"median_income\"),\n",
    "        F.round(F.mean(merged_sdf2.mean_income), 2).alias(\"mean_income\")\n",
    "    )\n",
    "    \n",
    "postcode_income_sdf.orderBy(\"postcode\").show()"
   ]
  },
  {
   "cell_type": "markdown",
   "metadata": {},
   "source": [
    "Visualize the income variation for each SA2 code within each postcode"
   ]
  },
  {
   "cell_type": "code",
   "execution_count": 39,
   "metadata": {},
   "outputs": [],
   "source": [
    "income_diffs = merged_sdf2.groupBy(\"postcode\").agg(\n",
    "    (F.max(merged_sdf2.num_earners) - F.min(merged_sdf2.num_earners)).alias(\"num_earners\"),\n",
    "    (F.max(merged_sdf2.median_age) - F.min(merged_sdf2.median_age)).alias(\"median_age\"),\n",
    "    (F.max(merged_sdf2.median_income) - F.min(merged_sdf2.median_income)).alias(\"median_income\"),\n",
    "    (F.max(merged_sdf2.mean_income) - F.min(merged_sdf2.mean_income)).alias(\"mean_income\")\n",
    ")"
   ]
  },
  {
   "cell_type": "code",
   "execution_count": 40,
   "metadata": {},
   "outputs": [
    {
     "data": {
      "text/html": [
       "<table border='1'>\n",
       "<tr><th>postcode</th><th>num_earners</th><th>median_age</th><th>median_income</th><th>mean_income</th></tr>\n",
       "<tr><td>4032</td><td>2182</td><td>8</td><td>4402</td><td>6670</td></tr>\n",
       "<tr><td>3414</td><td>0</td><td>0</td><td>0</td><td>0</td></tr>\n",
       "<tr><td>9009</td><td>0</td><td>0</td><td>0</td><td>0</td></tr>\n",
       "<tr><td>6240</td><td>0</td><td>0</td><td>0</td><td>0</td></tr>\n",
       "<tr><td>3517</td><td>0</td><td>0</td><td>0</td><td>0</td></tr>\n",
       "</table>\n"
      ],
      "text/plain": [
       "+--------+-----------+----------+-------------+-----------+\n",
       "|postcode|num_earners|median_age|median_income|mean_income|\n",
       "+--------+-----------+----------+-------------+-----------+\n",
       "|    4032|       2182|         8|         4402|       6670|\n",
       "|    3414|          0|         0|            0|          0|\n",
       "|    9009|          0|         0|            0|          0|\n",
       "|    6240|          0|         0|            0|          0|\n",
       "|    3517|          0|         0|            0|          0|\n",
       "+--------+-----------+----------+-------------+-----------+"
      ]
     },
     "execution_count": 40,
     "metadata": {},
     "output_type": "execute_result"
    }
   ],
   "source": [
    "income_diffs.limit(5)"
   ]
  },
  {
   "cell_type": "code",
   "execution_count": 41,
   "metadata": {},
   "outputs": [
    {
     "name": "stderr",
     "output_type": "stream",
     "text": [
      "/tmp/ipykernel_2980/3120451410.py:3: UserWarning: FixedFormatter should only be used together with FixedLocator\n",
      "  ax2.set_yticklabels(['num_earners', 'median_age',\n"
     ]
    },
    {
     "data": {
      "image/png": "[encoded data removed]",
      "text/plain": [
       "<Figure size 360x216 with 1 Axes>"
      ]
     },
     "metadata": {
      "needs_background": "light"
     },
     "output_type": "display_data"
    }
   ],
   "source": [
    "fig2 = plt.figure(figsize = (5, 3))\n",
    "ax2 = fig2.add_axes([0, 0, 1, 1])\n",
    "ax2.set_yticklabels(['num_earners', 'median_age',\n",
    "                    'median_income', 'mean_income'])\n",
    "bp = ax2.boxplot(income_diffs.drop(\"postcode\").toPandas(), vert=0)\n",
    "\n",
    "plt.show()"
   ]
  },
  {
   "cell_type": "markdown",
   "metadata": {},
   "source": [
    "Combine all external data in a single spark dataframe"
   ]
  },
  {
   "cell_type": "code",
   "execution_count": 42,
   "metadata": {},
   "outputs": [
    {
     "name": "stdout",
     "output_type": "stream",
     "text": [
      "2793 3160\n"
     ]
    }
   ],
   "source": [
    "print(postcode_pop_sdf.count(), postcode_income_sdf.count())"
   ]
  },
  {
   "cell_type": "code",
   "execution_count": 43,
   "metadata": {},
   "outputs": [
    {
     "name": "stdout",
     "output_type": "stream",
     "text": [
      "3162\n"
     ]
    },
    {
     "data": {
      "text/html": [
       "<table border='1'>\n",
       "<tr><th>postcode</th><th>total_pop</th><th>under10_pop</th><th>adolsc_pop</th><th>yng_adult_pop</th><th>mid_age_pop</th><th>old_pop</th><th>num_earners</th><th>median_age</th><th>median_income</th><th>mean_income</th></tr>\n",
       "<tr><td>0200</td><td>2875.0</td><td>6.0</td><td>1528.0</td><td>1292.0</td><td>47.0</td><td>2.0</td><td>548.0</td><td>23.0</td><td>9306.0</td><td>16835.0</td></tr>\n",
       "<tr><td>0800</td><td>7679.0</td><td>474.0</td><td>325.0</td><td>3322.0</td><td>2652.0</td><td>906.0</td><td>5909.0</td><td>33.0</td><td>60937.0</td><td>87791.0</td></tr>\n",
       "<tr><td>0801</td><td>7679.0</td><td>474.0</td><td>325.0</td><td>3322.0</td><td>2652.0</td><td>906.0</td><td>5909.0</td><td>33.0</td><td>60937.0</td><td>87791.0</td></tr>\n",
       "<tr><td>0804</td><td>2980.0</td><td>350.0</td><td>282.0</td><td>801.0</td><td>1047.0</td><td>500.0</td><td>1873.0</td><td>40.0</td><td>75219.0</td><td>98872.0</td></tr>\n",
       "<tr><td>0810</td><td>3018.0</td><td>419.0</td><td>346.08</td><td>769.08</td><td>1013.67</td><td>470.17</td><td>1823.33</td><td>39.33</td><td>59558.0</td><td>69537.42</td></tr>\n",
       "</table>\n"
      ],
      "text/plain": [
       "+--------+---------+-----------+----------+-------------+-----------+-------+-----------+----------+-------------+-----------+\n",
       "|postcode|total_pop|under10_pop|adolsc_pop|yng_adult_pop|mid_age_pop|old_pop|num_earners|median_age|median_income|mean_income|\n",
       "+--------+---------+-----------+----------+-------------+-----------+-------+-----------+----------+-------------+-----------+\n",
       "|    0200|   2875.0|        6.0|    1528.0|       1292.0|       47.0|    2.0|      548.0|      23.0|       9306.0|    16835.0|\n",
       "|    0800|   7679.0|      474.0|     325.0|       3322.0|     2652.0|  906.0|     5909.0|      33.0|      60937.0|    87791.0|\n",
       "|    0801|   7679.0|      474.0|     325.0|       3322.0|     2652.0|  906.0|     5909.0|      33.0|      60937.0|    87791.0|\n",
       "|    0804|   2980.0|      350.0|     282.0|        801.0|     1047.0|  500.0|     1873.0|      40.0|      75219.0|    98872.0|\n",
       "|    0810|   3018.0|      419.0|    346.08|       769.08|    1013.67| 470.17|    1823.33|     39.33|      59558.0|   69537.42|\n",
       "+--------+---------+-----------+----------+-------------+-----------+-------+-----------+----------+-------------+-----------+"
      ]
     },
     "execution_count": 43,
     "metadata": {},
     "output_type": "execute_result"
    }
   ],
   "source": [
    "external_data_sdf = postcode_pop_sdf.join(postcode_income_sdf, on=\"postcode\", how=\"full\")\n",
    "print(external_data_sdf.count())\n",
    "external_data_sdf.limit(5)"
   ]
  },
  {
   "cell_type": "markdown",
   "metadata": {},
   "source": [
    "## Join External data with existing data"
   ]
  },
  {
   "cell_type": "code",
   "execution_count": 44,
   "metadata": {},
   "outputs": [
    {
     "name": "stdout",
     "output_type": "stream",
     "text": [
      "13613661\n"
     ]
    },
    {
     "name": "stderr",
     "output_type": "stream",
     "text": [
      "                                                                                \r"
     ]
    },
    {
     "data": {
      "text/html": [
       "<table border='1'>\n",
       "<tr><th>merchant_abn</th><th>consumer_id</th><th>user_id</th><th>dollar_value</th><th>order_id</th><th>order_datetime</th><th>customer_name</th><th>address</th><th>state</th><th>postcode</th><th>gender</th><th>company_name</th><th>tags</th><th>take_rate</th><th>revenue_band</th></tr>\n",
       "<tr><td>94472466107</td><td>30</td><td>13842</td><td>36.094519921528466</td><td>0dc80e20-901c-410...</td><td>2021-08-20</td><td>Tamara Stewart</td><td>352 Jessica Summit</td><td>VIC</td><td>3612</td><td>Female</td><td>Eu Dolor Egestas PC</td><td>cable, satellite,...</td><td> 6.23</td><td> a</td></tr>\n",
       "<tr><td>21532935983</td><td>30</td><td>13842</td><td>71.1148505207073</td><td>5fbb2316-39b7-43b...</td><td>2021-08-21</td><td>Tamara Stewart</td><td>352 Jessica Summit</td><td>VIC</td><td>3612</td><td>Female</td><td>Eleifend Nec Inco...</td><td>cable, satellite,...</td><td> 5.58</td><td> a</td></tr>\n",
       "<tr><td>60956456424</td><td>30</td><td>13842</td><td>56.52469841268393</td><td>60bc5068-e775-4c4...</td><td>2021-08-19</td><td>Tamara Stewart</td><td>352 Jessica Summit</td><td>VIC</td><td>3612</td><td>Female</td><td>Ultricies Digniss...</td><td>gift, card, novel...</td><td> 4.69</td><td> b</td></tr>\n",
       "<tr><td>39211701585</td><td>30</td><td>13842</td><td>105.80444352294495</td><td>810594a7-c21a-4dd...</td><td>2021-08-22</td><td>Tamara Stewart</td><td>352 Jessica Summit</td><td>VIC</td><td>3612</td><td>Female</td><td>Diam Eu Dolor PC</td><td>shoe shops</td><td> 4.76</td><td> b</td></tr>\n",
       "<tr><td>27326652377</td><td>30</td><td>13842</td><td>1179.9080321368747</td><td>7ef554a5-02a8-435...</td><td>2021-08-22</td><td>Tamara Stewart</td><td>352 Jessica Summit</td><td>VIC</td><td>3612</td><td>Female</td><td>Tellus Aenean Cor...</td><td>music shops - mus...</td><td> 6.33</td><td> a</td></tr>\n",
       "</table>\n"
      ],
      "text/plain": [
       "+------------+-----------+-------+------------------+--------------------+--------------+--------------+------------------+-----+--------+------+--------------------+--------------------+---------+------------+\n",
       "|merchant_abn|consumer_id|user_id|      dollar_value|            order_id|order_datetime| customer_name|           address|state|postcode|gender|        company_name|                tags|take_rate|revenue_band|\n",
       "+------------+-----------+-------+------------------+--------------------+--------------+--------------+------------------+-----+--------+------+--------------------+--------------------+---------+------------+\n",
       "| 94472466107|         30|  13842|36.094519921528466|0dc80e20-901c-410...|    2021-08-20|Tamara Stewart|352 Jessica Summit|  VIC|    3612|Female| Eu Dolor Egestas PC|cable, satellite,...|     6.23|           a|\n",
       "| 21532935983|         30|  13842|  71.1148505207073|5fbb2316-39b7-43b...|    2021-08-21|Tamara Stewart|352 Jessica Summit|  VIC|    3612|Female|Eleifend Nec Inco...|cable, satellite,...|     5.58|           a|\n",
       "| 60956456424|         30|  13842| 56.52469841268393|60bc5068-e775-4c4...|    2021-08-19|Tamara Stewart|352 Jessica Summit|  VIC|    3612|Female|Ultricies Digniss...|gift, card, novel...|     4.69|           b|\n",
       "| 39211701585|         30|  13842|105.80444352294495|810594a7-c21a-4dd...|    2021-08-22|Tamara Stewart|352 Jessica Summit|  VIC|    3612|Female|    Diam Eu Dolor PC|          shoe shops|     4.76|           b|\n",
       "| 27326652377|         30|  13842|1179.9080321368747|7ef554a5-02a8-435...|    2021-08-22|Tamara Stewart|352 Jessica Summit|  VIC|    3612|Female|Tellus Aenean Cor...|music shops - mus...|     6.33|           a|\n",
       "+------------+-----------+-------+------------------+--------------------+--------------+--------------+------------------+-----+--------+------+--------------------+--------------------+---------+------------+"
      ]
     },
     "execution_count": 44,
     "metadata": {},
     "output_type": "execute_result"
    }
   ],
   "source": [
    "sdf = spark.read.parquet(\"../data/curated/mergedf.parquet/\")\n",
    "print(sdf.count())\n",
    "sdf.limit(5)"
   ]
  },
  {
   "cell_type": "code",
   "execution_count": 45,
   "metadata": {},
   "outputs": [
    {
     "name": "stderr",
     "output_type": "stream",
     "text": [
      "                                                                                \r"
     ]
    },
    {
     "name": "stdout",
     "output_type": "stream",
     "text": [
      "13394287\n"
     ]
    },
    {
     "name": "stderr",
     "output_type": "stream",
     "text": [
      "                                                                                \r"
     ]
    },
    {
     "data": {
      "text/html": [
       "<table border='1'>\n",
       "<tr><th>postcode</th><th>merchant_abn</th><th>consumer_id</th><th>user_id</th><th>dollar_value</th><th>order_id</th><th>order_datetime</th><th>customer_name</th><th>address</th><th>state</th><th>gender</th><th>company_name</th><th>tags</th><th>take_rate</th><th>revenue_band</th><th>total_pop</th><th>under10_pop</th><th>adolsc_pop</th><th>yng_adult_pop</th><th>mid_age_pop</th><th>old_pop</th><th>num_earners</th><th>median_age</th><th>median_income</th><th>mean_income</th></tr>\n",
       "<tr><td>7252</td><td>40559163709</td><td>71385</td><td>13049</td><td>499.22801818354054</td><td>753b49dc-b04a-453...</td><td>2021-08-19</td><td>Joshua Hawkins</td><td>7313 Edwards Isle...</td><td>TAS</td><td>Male</td><td>Maecenas Iaculis ...</td><td>computers, comput...</td><td> 1.50</td><td> c</td><td>5872.5</td><td>621.0</td><td>693.0</td><td>821.5</td><td>1923.0</td><td>1814.0</td><td>2756.5</td><td>48.5</td><td>44398.5</td><td>52100.5</td></tr>\n",
       "<tr><td>7252</td><td>49891706470</td><td>71385</td><td>13049</td><td>27.59743014174974</td><td>19c2c44d-4d9b-4e4...</td><td>2021-08-22</td><td>Joshua Hawkins</td><td>7313 Edwards Isle...</td><td>TAS</td><td>Male</td><td>Non Vestibulum In...</td><td>tent and awning s...</td><td> 5.80</td><td> a</td><td>5872.5</td><td>621.0</td><td>693.0</td><td>821.5</td><td>1923.0</td><td>1814.0</td><td>2756.5</td><td>48.5</td><td>44398.5</td><td>52100.5</td></tr>\n",
       "<tr><td>7252</td><td>45629217853</td><td>71385</td><td>13049</td><td>23.56428590811388</td><td>9ff40986-52cc-47d...</td><td>2021-08-22</td><td>Joshua Hawkins</td><td>7313 Edwards Isle...</td><td>TAS</td><td>Male</td><td>Lacus Consulting</td><td>gift, card, novel...</td><td> 6.98</td><td> a</td><td>5872.5</td><td>621.0</td><td>693.0</td><td>821.5</td><td>1923.0</td><td>1814.0</td><td>2756.5</td><td>48.5</td><td>44398.5</td><td>52100.5</td></tr>\n",
       "<tr><td>7252</td><td>49891706470</td><td>71385</td><td>13049</td><td>13.272207348909346</td><td>233195e0-3482-451...</td><td>2021-07-15</td><td>Joshua Hawkins</td><td>7313 Edwards Isle...</td><td>TAS</td><td>Male</td><td>Non Vestibulum In...</td><td>tent and awning s...</td><td> 5.80</td><td> a</td><td>5872.5</td><td>621.0</td><td>693.0</td><td>821.5</td><td>1923.0</td><td>1814.0</td><td>2756.5</td><td>48.5</td><td>44398.5</td><td>52100.5</td></tr>\n",
       "<tr><td>7252</td><td>80324045558</td><td>71385</td><td>13049</td><td>139.35678856727068</td><td>3fd87986-f437-42f...</td><td>2021-07-15</td><td>Joshua Hawkins</td><td>7313 Edwards Isle...</td><td>TAS</td><td>Male</td><td>Ipsum Dolor Sit C...</td><td>gift, card, novel...</td><td> 1.47</td><td> c</td><td>5872.5</td><td>621.0</td><td>693.0</td><td>821.5</td><td>1923.0</td><td>1814.0</td><td>2756.5</td><td>48.5</td><td>44398.5</td><td>52100.5</td></tr>\n",
       "</table>\n"
      ],
      "text/plain": [
       "+--------+------------+-----------+-------+------------------+--------------------+--------------+--------------+--------------------+-----+------+--------------------+--------------------+---------+------------+---------+-----------+----------+-------------+-----------+-------+-----------+----------+-------------+-----------+\n",
       "|postcode|merchant_abn|consumer_id|user_id|      dollar_value|            order_id|order_datetime| customer_name|             address|state|gender|        company_name|                tags|take_rate|revenue_band|total_pop|under10_pop|adolsc_pop|yng_adult_pop|mid_age_pop|old_pop|num_earners|median_age|median_income|mean_income|\n",
       "+--------+------------+-----------+-------+------------------+--------------------+--------------+--------------+--------------------+-----+------+--------------------+--------------------+---------+------------+---------+-----------+----------+-------------+-----------+-------+-----------+----------+-------------+-----------+\n",
       "|    7252| 40559163709|      71385|  13049|499.22801818354054|753b49dc-b04a-453...|    2021-08-19|Joshua Hawkins|7313 Edwards Isle...|  TAS|  Male|Maecenas Iaculis ...|computers, comput...|     1.50|           c|   5872.5|      621.0|     693.0|        821.5|     1923.0| 1814.0|     2756.5|      48.5|      44398.5|    52100.5|\n",
       "|    7252| 49891706470|      71385|  13049| 27.59743014174974|19c2c44d-4d9b-4e4...|    2021-08-22|Joshua Hawkins|7313 Edwards Isle...|  TAS|  Male|Non Vestibulum In...|tent and awning s...|     5.80|           a|   5872.5|      621.0|     693.0|        821.5|     1923.0| 1814.0|     2756.5|      48.5|      44398.5|    52100.5|\n",
       "|    7252| 45629217853|      71385|  13049| 23.56428590811388|9ff40986-52cc-47d...|    2021-08-22|Joshua Hawkins|7313 Edwards Isle...|  TAS|  Male|    Lacus Consulting|gift, card, novel...|     6.98|           a|   5872.5|      621.0|     693.0|        821.5|     1923.0| 1814.0|     2756.5|      48.5|      44398.5|    52100.5|\n",
       "|    7252| 49891706470|      71385|  13049|13.272207348909346|233195e0-3482-451...|    2021-07-15|Joshua Hawkins|7313 Edwards Isle...|  TAS|  Male|Non Vestibulum In...|tent and awning s...|     5.80|           a|   5872.5|      621.0|     693.0|        821.5|     1923.0| 1814.0|     2756.5|      48.5|      44398.5|    52100.5|\n",
       "|    7252| 80324045558|      71385|  13049|139.35678856727068|3fd87986-f437-42f...|    2021-07-15|Joshua Hawkins|7313 Edwards Isle...|  TAS|  Male|Ipsum Dolor Sit C...|gift, card, novel...|     1.47|           c|   5872.5|      621.0|     693.0|        821.5|     1923.0| 1814.0|     2756.5|      48.5|      44398.5|    52100.5|\n",
       "+--------+------------+-----------+-------+------------------+--------------------+--------------+--------------+--------------------+-----+------+--------------------+--------------------+---------+------------+---------+-----------+----------+-------------+-----------+-------+-----------+----------+-------------+-----------+"
      ]
     },
     "execution_count": 45,
     "metadata": {},
     "output_type": "execute_result"
    }
   ],
   "source": [
    "finaldf = sdf.join(external_data_sdf, on=\"postcode\", how=\"inner\")\n",
    "print(finaldf.count())\n",
    "finaldf.limit(5)"
   ]
  },
  {
   "cell_type": "markdown",
   "metadata": {},
   "source": [
    "Null values occur because for some postcodes, population/income data did not exist."
   ]
  },
  {
   "cell_type": "code",
   "execution_count": 46,
   "metadata": {},
   "outputs": [
    {
     "name": "stderr",
     "output_type": "stream",
     "text": [
      "                                                                                \r"
     ]
    },
    {
     "data": {
      "text/plain": [
       "11818811"
      ]
     },
     "execution_count": 46,
     "metadata": {},
     "output_type": "execute_result"
    }
   ],
   "source": [
    "finaldf = finaldf.dropna(how=\"any\")\n",
    "finaldf.count()"
   ]
  },
  {
   "cell_type": "markdown",
   "metadata": {},
   "source": [
    "Removing records containing null values resulted in the loss of 1,575,476 records."
   ]
  }
 ],
 "metadata": {
  "kernelspec": {
   "display_name": "Python 3 (ipykernel)",
   "language": "python",
   "name": "python3"
  },
  "language_info": {
   "codemirror_mode": {
    "name": "ipython",
    "version": 3
   },
   "file_extension": ".py",
   "mimetype": "text/x-python",
   "name": "python",
   "nbconvert_exporter": "python",
   "pygments_lexer": "ipython3",
   "version": "3.8.10"
  },
  "vscode": {
   "interpreter": {
    "hash": "916dbcbb3f70747c44a77c7bcd40155683ae19c65e1c03b4aa3499c5328201f1"
   }
  }
 },
 "nbformat": 4,
 "nbformat_minor": 4
}
