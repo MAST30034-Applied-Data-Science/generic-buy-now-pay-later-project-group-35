{
 "cells": [
  {
   "cell_type": "code",
   "execution_count": 1,
   "id": "f935367d-cab0-4904-9bed-676c9eccd84b",
   "metadata": {
    "tags": []
   },
   "outputs": [
    {
     "name": "stdout",
     "output_type": "stream",
     "text": [
      "22/10/10 03:56:09 WARN Utils: Your hostname, DESKTOP-JJJD94T resolves to a loopback address: 127.0.1.1; using 172.29.75.144 instead (on interface eth0)\n",
      "22/10/10 03:56:09 WARN Utils: Set SPARK_LOCAL_IP if you need to bind to another address\n"
     ]
    },
    {
     "name": "stderr",
     "output_type": "stream",
     "text": [
      "Setting default log level to \"WARN\".\n",
      "To adjust logging level use sc.setLogLevel(newLevel). For SparkR, use setLogLevel(newLevel).\n"
     ]
    },
    {
     "name": "stdout",
     "output_type": "stream",
     "text": [
      "22/10/10 03:56:10 WARN NativeCodeLoader: Unable to load native-hadoop library for your platform... using builtin-java classes where applicable\n",
      "22/10/10 03:56:11 WARN Utils: Service 'SparkUI' could not bind on port 4040. Attempting port 4041.\n"
     ]
    }
   ],
   "source": [
    "from pyspark.sql import SparkSession\n",
    "from pyspark.sql.functions import * \n",
    "import matplotlib.pyplot as plt\n",
    "import pandas as pd\n",
    "import numpy as np\n",
    "from urllib.request import urlretrieve\n",
    "from owslib.wfs import WebFeatureService\n",
    "from dotenv import load_dotenv\n",
    "from pyspark.sql import functions as F\n",
    "from sklearn.metrics import mean_absolute_error\n",
    "import sklearn\n",
    "from pyspark.sql import Window\n",
    "from pyspark.sql.functions import monotonically_increasing_id\n",
    "import re\n",
    "from collections import Counter\n",
    "\n",
    "\n",
    "# Create a spark session\n",
    "spark = (\n",
    "    SparkSession.builder.appName(\"analysis\")\n",
    "    .config(\"spark.sql.repl.eagerEval.enabled\", True) \n",
    "    .config(\"spark.sql.parquet.cacheMetadata\", \"true\")\n",
    "    .config(\"spark.sql.session.timeZone\", \"Etc/UTC\")\n",
    "    .config(\"spark.driver.memory\", \"2g\")\n",
    "    .config(\"spark.executor.memory\", \"6g\")\n",
    "    .getOrCreate()\n",
    ")"
   ]
  },
  {
   "cell_type": "markdown",
   "id": "92d887e8",
   "metadata": {},
   "source": [
    "# Summary"
   ]
  },
  {
   "cell_type": "markdown",
   "id": "93a71769",
   "metadata": {},
   "source": [
    "### Introduction"
   ]
  },
  {
   "cell_type": "markdown",
   "id": "7afb12ee",
   "metadata": {},
   "source": [
    "Buy Now Pay Later (BNPL) services are a popular method of financing that allows consumers to make purchases and pay for them at a later date. Users pay off what is owed through interest free timely installments and don't have to worry about having the given funds at the time of purchase. Your BNPL firm has recently started their own “pay in 5 installments plan” and is only able to onboard 100 merchants every year for their plan due to limited resources. Choosing 100 merchants at random could cost the company millions of dollars in revenue down the line so it is vital to choose the top 100 merchants available to maximize profits. This is no easy task however and that is where I and my team come in. I’m Aryan Shahi, this is Jai Bretherton, this is Eesha Syed, and this is Minma Herath. We are all bachelor of science students at the University of Melbourne who are majoring in data science and we all accepted to offer our experience to help solve this problem. Our task was to determine the top 100 merchants to be selected by the firm based on given and external data."
   ]
  },
  {
   "cell_type": "markdown",
   "id": "1e197b08",
   "metadata": {},
   "source": [
    "### Datasets"
   ]
  },
  {
   "cell_type": "markdown",
   "id": "69b0a0e8",
   "metadata": {},
   "source": [
    "##### Given"
   ]
  },
  {
   "cell_type": "code",
   "execution_count": 2,
   "id": "41b1dd21",
   "metadata": {},
   "outputs": [
    {
     "name": "stderr",
     "output_type": "stream",
     "text": [
      "                                                                                \r"
     ]
    }
   ],
   "source": [
    "merchantdf = spark.read.parquet(\"../data/curated/merchantdf.parquet/\")\n",
    "userdf = spark.read.parquet(\"../data/tables/consumer_user_details.parquet\")\n",
    "transactiondf = spark.read.parquet(\"../data/curated/transactiondf.parquet/\")\n",
    "consumerdf = spark.read.option(\"header\",\"true\").csv(\"../data/tables/tbl_consumer.csv\", sep=\"|\")\n",
    "consumerfrauddf = spark.read.parquet(\"../data/curated/consumerfrauddf.parquet/\")\n",
    "merchantfrauddf = spark.read.parquet(\"../data/curated/merchantfrauddf.parquet/\")"
   ]
  },
  {
   "cell_type": "code",
   "execution_count": 3,
   "id": "03d943ea",
   "metadata": {},
   "outputs": [
    {
     "data": {
      "text/html": [
       "<table border='1'>\n",
       "<tr><th>company_name</th><th>tags</th><th>merchant_abn</th><th>take_rate</th><th>revenue_band</th></tr>\n",
       "<tr><td>Felis Limited</td><td>furniture, home f...</td><td>10023283211</td><td> 0.18</td><td> e</td></tr>\n",
       "<tr><td>Arcu Ac Orci Corp...</td><td>cable, satellite,...</td><td>10142254217</td><td> 4.22</td><td> b</td></tr>\n",
       "<tr><td>Nunc Sed Company</td><td>jewelry, watch, c...</td><td>10165489824</td><td> 4.40</td><td> b</td></tr>\n",
       "</table>\n"
      ],
      "text/plain": [
       "+--------------------+--------------------+------------+---------+------------+\n",
       "|        company_name|                tags|merchant_abn|take_rate|revenue_band|\n",
       "+--------------------+--------------------+------------+---------+------------+\n",
       "|       Felis Limited|furniture, home f...| 10023283211|     0.18|           e|\n",
       "|Arcu Ac Orci Corp...|cable, satellite,...| 10142254217|     4.22|           b|\n",
       "|    Nunc Sed Company|jewelry, watch, c...| 10165489824|     4.40|           b|\n",
       "+--------------------+--------------------+------------+---------+------------+"
      ]
     },
     "execution_count": 3,
     "metadata": {},
     "output_type": "execute_result"
    }
   ],
   "source": [
    "merchantdf.limit(3)"
   ]
  },
  {
   "cell_type": "code",
   "execution_count": 4,
   "id": "6af68ca9",
   "metadata": {},
   "outputs": [
    {
     "data": {
      "text/html": [
       "<table border='1'>\n",
       "<tr><th>user_id</th><th>consumer_id</th></tr>\n",
       "<tr><td>1</td><td>1195503</td></tr>\n",
       "<tr><td>2</td><td>179208</td></tr>\n",
       "<tr><td>3</td><td>1194530</td></tr>\n",
       "</table>\n"
      ],
      "text/plain": [
       "+-------+-----------+\n",
       "|user_id|consumer_id|\n",
       "+-------+-----------+\n",
       "|      1|    1195503|\n",
       "|      2|     179208|\n",
       "|      3|    1194530|\n",
       "+-------+-----------+"
      ]
     },
     "execution_count": 4,
     "metadata": {},
     "output_type": "execute_result"
    }
   ],
   "source": [
    "userdf.limit(3)"
   ]
  },
  {
   "cell_type": "code",
   "execution_count": 5,
   "id": "98d1e264",
   "metadata": {},
   "outputs": [
    {
     "name": "stderr",
     "output_type": "stream",
     "text": [
      "                                                                                \r"
     ]
    },
    {
     "data": {
      "text/html": [
       "<table border='1'>\n",
       "<tr><th>user_id</th><th>merchant_abn</th><th>dollar_value</th><th>order_id</th><th>order_datetime</th></tr>\n",
       "<tr><td>14935</td><td>79417999332</td><td>136.06570809815838</td><td>23acbb7b-cf98-458...</td><td>2021-11-26</td></tr>\n",
       "<tr><td>1</td><td>46451548968</td><td>72.61581642788431</td><td>76bab304-fa2d-400...</td><td>2021-11-26</td></tr>\n",
       "<tr><td>14936</td><td>89518629617</td><td>3.0783487174439297</td><td>a2ae446a-2959-41c...</td><td>2021-11-26</td></tr>\n",
       "</table>\n"
      ],
      "text/plain": [
       "+-------+------------+------------------+--------------------+--------------+\n",
       "|user_id|merchant_abn|      dollar_value|            order_id|order_datetime|\n",
       "+-------+------------+------------------+--------------------+--------------+\n",
       "|  14935| 79417999332|136.06570809815838|23acbb7b-cf98-458...|    2021-11-26|\n",
       "|      1| 46451548968| 72.61581642788431|76bab304-fa2d-400...|    2021-11-26|\n",
       "|  14936| 89518629617|3.0783487174439297|a2ae446a-2959-41c...|    2021-11-26|\n",
       "+-------+------------+------------------+--------------------+--------------+"
      ]
     },
     "execution_count": 5,
     "metadata": {},
     "output_type": "execute_result"
    }
   ],
   "source": [
    "transactiondf.limit(3)"
   ]
  },
  {
   "cell_type": "code",
   "execution_count": 6,
   "id": "fb5105ce",
   "metadata": {},
   "outputs": [
    {
     "data": {
      "text/html": [
       "<table border='1'>\n",
       "<tr><th>name</th><th>address</th><th>state</th><th>postcode</th><th>gender</th><th>consumer_id</th></tr>\n",
       "<tr><td>Yolanda Williams</td><td>413 Haney Gardens...</td><td>WA</td><td>6935</td><td>Female</td><td>1195503</td></tr>\n",
       "<tr><td>Mary Smith</td><td>3764 Amber Oval</td><td>NSW</td><td>2782</td><td>Female</td><td>179208</td></tr>\n",
       "<tr><td>Jill Jones MD</td><td>40693 Henry Greens</td><td>NT</td><td>862</td><td>Female</td><td>1194530</td></tr>\n",
       "</table>\n"
      ],
      "text/plain": [
       "+----------------+--------------------+-----+--------+------+-----------+\n",
       "|            name|             address|state|postcode|gender|consumer_id|\n",
       "+----------------+--------------------+-----+--------+------+-----------+\n",
       "|Yolanda Williams|413 Haney Gardens...|   WA|    6935|Female|    1195503|\n",
       "|      Mary Smith|     3764 Amber Oval|  NSW|    2782|Female|     179208|\n",
       "|   Jill Jones MD|  40693 Henry Greens|   NT|     862|Female|    1194530|\n",
       "+----------------+--------------------+-----+--------+------+-----------+"
      ]
     },
     "execution_count": 6,
     "metadata": {},
     "output_type": "execute_result"
    }
   ],
   "source": [
    "consumerdf.limit(3)"
   ]
  },
  {
   "cell_type": "code",
   "execution_count": 7,
   "id": "4f08211a",
   "metadata": {},
   "outputs": [
    {
     "data": {
      "text/html": [
       "<table border='1'>\n",
       "<tr><th>user_id</th><th>order_datetime</th><th>fraud_probability</th></tr>\n",
       "<tr><td>3753</td><td>2022-02-16</td><td>48.85325253622543</td></tr>\n",
       "<tr><td>9646</td><td>2021-09-23</td><td>47.83931206340956</td></tr>\n",
       "<tr><td>243</td><td>2021-09-02</td><td>50.88971939168309</td></tr>\n",
       "</table>\n"
      ],
      "text/plain": [
       "+-------+--------------+-----------------+\n",
       "|user_id|order_datetime|fraud_probability|\n",
       "+-------+--------------+-----------------+\n",
       "|   3753|    2022-02-16|48.85325253622543|\n",
       "|   9646|    2021-09-23|47.83931206340956|\n",
       "|    243|    2021-09-02|50.88971939168309|\n",
       "+-------+--------------+-----------------+"
      ]
     },
     "execution_count": 7,
     "metadata": {},
     "output_type": "execute_result"
    }
   ],
   "source": [
    "consumerfrauddf.limit(3)"
   ]
  },
  {
   "cell_type": "code",
   "execution_count": 8,
   "id": "0f3710b4",
   "metadata": {},
   "outputs": [
    {
     "data": {
      "text/html": [
       "<table border='1'>\n",
       "<tr><th>merchant_abn</th><th>order_datetime</th><th>fraud_probability</th></tr>\n",
       "<tr><td>19492220327</td><td>2021-11-28</td><td>44.403658647495355</td></tr>\n",
       "<tr><td>31334588839</td><td>2021-10-02</td><td>42.75530083865367</td></tr>\n",
       "<tr><td>19492220327</td><td>2021-12-22</td><td>38.867790051131095</td></tr>\n",
       "</table>\n"
      ],
      "text/plain": [
       "+------------+--------------+------------------+\n",
       "|merchant_abn|order_datetime| fraud_probability|\n",
       "+------------+--------------+------------------+\n",
       "| 19492220327|    2021-11-28|44.403658647495355|\n",
       "| 31334588839|    2021-10-02| 42.75530083865367|\n",
       "| 19492220327|    2021-12-22|38.867790051131095|\n",
       "+------------+--------------+------------------+"
      ]
     },
     "execution_count": 8,
     "metadata": {},
     "output_type": "execute_result"
    }
   ],
   "source": [
    "merchantfrauddf.limit(3)"
   ]
  },
  {
   "cell_type": "markdown",
   "id": "b34ebce9",
   "metadata": {},
   "source": [
    "##### External"
   ]
  },
  {
   "cell_type": "code",
   "execution_count": 9,
   "id": "13a73294",
   "metadata": {},
   "outputs": [],
   "source": [
    "populationdf = pd.read_excel(\"../data/tables/population.xlsx\", sheet_name = 'Table 3', skiprows = 7)\n",
    "incomedf = spark.read.option(\"header\",\"false\").csv(\"../data/tables/datasource-AU_Govt_ABS-UoM_AURIN_DB_3_abs_personal_income_total_income_sa2_2011_2018.csv\")\n",
    "postcodedf = spark.read.option(\"header\",\"true\").csv(\"../data/tables/australian_postcodes.csv\")\n",
    "postcode_ratio_df = pd .read_excel(\"../data/tables/1270055006_CG_POSTCODE_2011_SA2_2011.xls\",sheet_name = 'Table 3',skiprows = 5)"
   ]
  },
  {
   "cell_type": "code",
   "execution_count": 10,
   "id": "21df6ba6",
   "metadata": {},
   "outputs": [
    {
     "data": {
      "text/html": [
       "<div>\n",
       "<style scoped>\n",
       "    .dataframe tbody tr th:only-of-type {\n",
       "        vertical-align: middle;\n",
       "    }\n",
       "\n",
       "    .dataframe tbody tr th {\n",
       "        vertical-align: top;\n",
       "    }\n",
       "\n",
       "    .dataframe thead th {\n",
       "        text-align: right;\n",
       "    }\n",
       "</style>\n",
       "<table border=\"1\" class=\"dataframe\">\n",
       "  <thead>\n",
       "    <tr style=\"text-align: right;\">\n",
       "      <th></th>\n",
       "      <th>S/T code</th>\n",
       "      <th>S/T name</th>\n",
       "      <th>GCCSA code</th>\n",
       "      <th>GCCSA name</th>\n",
       "      <th>SA4 code</th>\n",
       "      <th>SA4 name</th>\n",
       "      <th>SA3 code</th>\n",
       "      <th>SA3 name</th>\n",
       "      <th>SA2 code</th>\n",
       "      <th>SA2 name</th>\n",
       "      <th>...</th>\n",
       "      <th>no..9</th>\n",
       "      <th>no..10</th>\n",
       "      <th>no..11</th>\n",
       "      <th>no..12</th>\n",
       "      <th>no..13</th>\n",
       "      <th>no..14</th>\n",
       "      <th>no..15</th>\n",
       "      <th>no..16</th>\n",
       "      <th>no..17</th>\n",
       "      <th>no..18</th>\n",
       "    </tr>\n",
       "  </thead>\n",
       "  <tbody>\n",
       "    <tr>\n",
       "      <th>0</th>\n",
       "      <td>NaN</td>\n",
       "      <td>NaN</td>\n",
       "      <td>NaN</td>\n",
       "      <td>NaN</td>\n",
       "      <td>NaN</td>\n",
       "      <td>NaN</td>\n",
       "      <td>NaN</td>\n",
       "      <td>NaN</td>\n",
       "      <td>NaN</td>\n",
       "      <td>NaN</td>\n",
       "      <td>...</td>\n",
       "      <td>NaN</td>\n",
       "      <td>NaN</td>\n",
       "      <td>NaN</td>\n",
       "      <td>NaN</td>\n",
       "      <td>NaN</td>\n",
       "      <td>NaN</td>\n",
       "      <td>NaN</td>\n",
       "      <td>NaN</td>\n",
       "      <td>NaN</td>\n",
       "      <td>NaN</td>\n",
       "    </tr>\n",
       "    <tr>\n",
       "      <th>1</th>\n",
       "      <td>1</td>\n",
       "      <td>New South Wales</td>\n",
       "      <td>1RNSW</td>\n",
       "      <td>Rest of NSW</td>\n",
       "      <td>101.0</td>\n",
       "      <td>Capital Region</td>\n",
       "      <td>10102.0</td>\n",
       "      <td>Queanbeyan</td>\n",
       "      <td>101021007.0</td>\n",
       "      <td>Braidwood</td>\n",
       "      <td>...</td>\n",
       "      <td>300.0</td>\n",
       "      <td>352.0</td>\n",
       "      <td>362.0</td>\n",
       "      <td>424.0</td>\n",
       "      <td>328.0</td>\n",
       "      <td>293.0</td>\n",
       "      <td>237.0</td>\n",
       "      <td>123.0</td>\n",
       "      <td>82.0</td>\n",
       "      <td>4330.0</td>\n",
       "    </tr>\n",
       "    <tr>\n",
       "      <th>2</th>\n",
       "      <td>1</td>\n",
       "      <td>New South Wales</td>\n",
       "      <td>1RNSW</td>\n",
       "      <td>Rest of NSW</td>\n",
       "      <td>101.0</td>\n",
       "      <td>Capital Region</td>\n",
       "      <td>10102.0</td>\n",
       "      <td>Queanbeyan</td>\n",
       "      <td>101021008.0</td>\n",
       "      <td>Karabar</td>\n",
       "      <td>...</td>\n",
       "      <td>556.0</td>\n",
       "      <td>590.0</td>\n",
       "      <td>580.0</td>\n",
       "      <td>516.0</td>\n",
       "      <td>412.0</td>\n",
       "      <td>320.0</td>\n",
       "      <td>216.0</td>\n",
       "      <td>159.0</td>\n",
       "      <td>90.0</td>\n",
       "      <td>8546.0</td>\n",
       "    </tr>\n",
       "  </tbody>\n",
       "</table>\n",
       "<p>3 rows × 29 columns</p>\n",
       "</div>"
      ],
      "text/plain": [
       "  S/T code         S/T name GCCSA code   GCCSA name  SA4 code        SA4 name  \\\n",
       "0      NaN              NaN        NaN          NaN       NaN             NaN   \n",
       "1        1  New South Wales      1RNSW  Rest of NSW     101.0  Capital Region   \n",
       "2        1  New South Wales      1RNSW  Rest of NSW     101.0  Capital Region   \n",
       "\n",
       "   SA3 code    SA3 name     SA2 code   SA2 name  ...  no..9  no..10  no..11  \\\n",
       "0       NaN         NaN          NaN        NaN  ...    NaN     NaN     NaN   \n",
       "1   10102.0  Queanbeyan  101021007.0  Braidwood  ...  300.0   352.0   362.0   \n",
       "2   10102.0  Queanbeyan  101021008.0    Karabar  ...  556.0   590.0   580.0   \n",
       "\n",
       "   no..12  no..13  no..14  no..15  no..16  no..17  no..18  \n",
       "0     NaN     NaN     NaN     NaN     NaN     NaN     NaN  \n",
       "1   424.0   328.0   293.0   237.0   123.0    82.0  4330.0  \n",
       "2   516.0   412.0   320.0   216.0   159.0    90.0  8546.0  \n",
       "\n",
       "[3 rows x 29 columns]"
      ]
     },
     "execution_count": 10,
     "metadata": {},
     "output_type": "execute_result"
    }
   ],
   "source": [
    "populationdf.head(3)"
   ]
  },
  {
   "cell_type": "code",
   "execution_count": 11,
   "id": "b5548f69",
   "metadata": {},
   "outputs": [
    {
     "name": "stdout",
     "output_type": "stream",
     "text": [
      "22/10/10 03:56:31 WARN package: Truncated the string representation of a plan since it was too large. This behavior can be adjusted by setting 'spark.sql.debug.maxToStringFields'.\n"
     ]
    },
    {
     "data": {
      "text/html": [
       "<table border='1'>\n",
       "<tr><th>_c0</th><th>_c1</th><th>_c2</th><th>_c3</th><th>_c4</th><th>_c5</th><th>_c6</th><th>_c7</th><th>_c8</th><th>_c9</th><th>_c10</th><th>_c11</th><th>_c12</th><th>_c13</th><th>_c14</th><th>_c15</th><th>_c16</th><th>_c17</th><th>_c18</th><th>_c19</th><th>_c20</th><th>_c21</th><th>_c22</th><th>_c23</th><th>_c24</th><th>_c25</th><th>_c26</th><th>_c27</th><th>_c28</th><th>_c29</th><th>_c30</th><th>_c31</th><th>_c32</th><th>_c33</th><th>_c34</th><th>_c35</th><th>_c36</th><th>_c37</th><th>_c38</th><th>_c39</th></tr>\n",
       "<tr><td>FID</td><td>fid</td><td>sa2_code</td><td>sa2_name</td><td>earners_persons_2...</td><td>earners_persons_2...</td><td>earners_persons_2...</td><td>earners_persons_2...</td><td>earners_persons_2...</td><td>earners_persons_2...</td><td>earners_persons_2...</td><td>median_age_of_ear...</td><td>median_age_of_ear...</td><td>median_age_of_ear...</td><td>median_age_of_ear...</td><td>median_age_of_ear...</td><td>median_age_of_ear...</td><td>median_age_of_ear...</td><td>sum_aud_2011_12</td><td>sum_aud_2012_13</td><td>sum_aud_2013_14</td><td>sum_aud_2014_15</td><td>sum_aud_2015_16</td><td>sum_aud_2016_17</td><td>sum_aud_2017_18</td><td>median_aud_2011_12</td><td>median_aud_2012_13</td><td>median_aud_2013_14</td><td>median_aud_2014_15</td><td>median_aud_2015_16</td><td>median_aud_2016_17</td><td>median_aud_2017_18</td><td>mean_aud_2011_12</td><td>mean_aud_2012_13</td><td>mean_aud_2013_14</td><td>mean_aud_2014_15</td><td>mean_aud_2015_16</td><td>mean_aud_2016_17</td><td>mean_aud_2017_18</td><td>wkb_geometry</td></tr>\n",
       "<tr><td>abs_personal_inco...</td><td>74</td><td>103031075</td><td>Wollangambe - Wol...</td><td>null</td><td>null</td><td>null</td><td>null</td><td>null</td><td>null</td><td>null</td><td>null</td><td>null</td><td>null</td><td>null</td><td>null</td><td>null</td><td>null</td><td>null</td><td>null</td><td>null</td><td>null</td><td>null</td><td>null</td><td>null</td><td>null</td><td>null</td><td>null</td><td>null</td><td>null</td><td>null</td><td>null</td><td>null</td><td>null</td><td>null</td><td>null</td><td>null</td><td>null</td><td>null</td><td>MULTIPOLYGON (((-...</td></tr>\n",
       "<tr><td>abs_personal_inco...</td><td>131</td><td>107011133</td><td>Port Kembla Indus...</td><td>null</td><td>null</td><td>null</td><td>null</td><td>null</td><td>null</td><td>null</td><td>null</td><td>null</td><td>null</td><td>null</td><td>null</td><td>null</td><td>null</td><td>null</td><td>null</td><td>null</td><td>null</td><td>null</td><td>null</td><td>null</td><td>null</td><td>null</td><td>null</td><td>null</td><td>null</td><td>null</td><td>null</td><td>null</td><td>null</td><td>null</td><td>null</td><td>null</td><td>null</td><td>null</td><td>MULTIPOLYGON (((-...</td></tr>\n",
       "</table>\n"
      ],
      "text/plain": [
       "+--------------------+---+---------+--------------------+--------------------+--------------------+--------------------+--------------------+--------------------+--------------------+--------------------+--------------------+--------------------+--------------------+--------------------+--------------------+--------------------+--------------------+---------------+---------------+---------------+---------------+---------------+---------------+---------------+------------------+------------------+------------------+------------------+------------------+------------------+------------------+----------------+----------------+----------------+----------------+----------------+----------------+----------------+--------------------+\n",
       "|                 _c0|_c1|      _c2|                 _c3|                 _c4|                 _c5|                 _c6|                 _c7|                 _c8|                 _c9|                _c10|                _c11|                _c12|                _c13|                _c14|                _c15|                _c16|                _c17|           _c18|           _c19|           _c20|           _c21|           _c22|           _c23|           _c24|              _c25|              _c26|              _c27|              _c28|              _c29|              _c30|              _c31|            _c32|            _c33|            _c34|            _c35|            _c36|            _c37|            _c38|                _c39|\n",
       "+--------------------+---+---------+--------------------+--------------------+--------------------+--------------------+--------------------+--------------------+--------------------+--------------------+--------------------+--------------------+--------------------+--------------------+--------------------+--------------------+--------------------+---------------+---------------+---------------+---------------+---------------+---------------+---------------+------------------+------------------+------------------+------------------+------------------+------------------+------------------+----------------+----------------+----------------+----------------+----------------+----------------+----------------+--------------------+\n",
       "|                 FID|fid| sa2_code|            sa2_name|earners_persons_2...|earners_persons_2...|earners_persons_2...|earners_persons_2...|earners_persons_2...|earners_persons_2...|earners_persons_2...|median_age_of_ear...|median_age_of_ear...|median_age_of_ear...|median_age_of_ear...|median_age_of_ear...|median_age_of_ear...|median_age_of_ear...|sum_aud_2011_12|sum_aud_2012_13|sum_aud_2013_14|sum_aud_2014_15|sum_aud_2015_16|sum_aud_2016_17|sum_aud_2017_18|median_aud_2011_12|median_aud_2012_13|median_aud_2013_14|median_aud_2014_15|median_aud_2015_16|median_aud_2016_17|median_aud_2017_18|mean_aud_2011_12|mean_aud_2012_13|mean_aud_2013_14|mean_aud_2014_15|mean_aud_2015_16|mean_aud_2016_17|mean_aud_2017_18|        wkb_geometry|\n",
       "|abs_personal_inco...| 74|103031075|Wollangambe - Wol...|                null|                null|                null|                null|                null|                null|                null|                null|                null|                null|                null|                null|                null|                null|           null|           null|           null|           null|           null|           null|           null|              null|              null|              null|              null|              null|              null|              null|            null|            null|            null|            null|            null|            null|            null|MULTIPOLYGON (((-...|\n",
       "|abs_personal_inco...|131|107011133|Port Kembla Indus...|                null|                null|                null|                null|                null|                null|                null|                null|                null|                null|                null|                null|                null|                null|           null|           null|           null|           null|           null|           null|           null|              null|              null|              null|              null|              null|              null|              null|            null|            null|            null|            null|            null|            null|            null|MULTIPOLYGON (((-...|\n",
       "+--------------------+---+---------+--------------------+--------------------+--------------------+--------------------+--------------------+--------------------+--------------------+--------------------+--------------------+--------------------+--------------------+--------------------+--------------------+--------------------+--------------------+---------------+---------------+---------------+---------------+---------------+---------------+---------------+------------------+------------------+------------------+------------------+------------------+------------------+------------------+----------------+----------------+----------------+----------------+----------------+----------------+----------------+--------------------+"
      ]
     },
     "execution_count": 11,
     "metadata": {},
     "output_type": "execute_result"
    }
   ],
   "source": [
    "incomedf.limit(3)"
   ]
  },
  {
   "cell_type": "code",
   "execution_count": 12,
   "id": "da2dd3b4",
   "metadata": {},
   "outputs": [
    {
     "data": {
      "text/html": [
       "<table border='1'>\n",
       "<tr><th>id</th><th>postcode</th><th>locality</th><th>state</th><th>long</th><th>lat</th><th>dc</th><th>type</th><th>status</th><th>sa3</th><th>sa3name</th><th>sa4</th><th>sa4name</th><th>region</th><th>Lat_precise</th><th>Long_precise</th><th>SA1_MAINCODE_2011</th><th>SA1_MAINCODE_2016</th><th>SA2_MAINCODE_2016</th><th>SA2_NAME_2016</th><th>SA3_CODE_2016</th><th>SA3_NAME_2016</th><th>SA4_CODE_2016</th><th>SA4_NAME_2016</th><th>RA_2011</th><th>RA_2016</th><th>MMM_2015</th><th>MMM_2019</th><th>ced</th><th>altitude</th><th>chargezone</th><th>phn_code</th><th>phn_name</th><th>lgaregion</th><th>electorate</th><th>electoraterating</th></tr>\n",
       "<tr><td>230</td><td>0200</td><td>ANU</td><td>ACT</td><td>149.119</td><td>-35.2777</td><td>null</td><td>null</td><td>null</td><td>null</td><td>null</td><td>null</td><td>null</td><td>R1</td><td>-35.2777</td><td>149.119</td><td>80105104901</td><td>80105104901</td><td>801051049</td><td>Acton</td><td>80105</td><td>North Canberra</td><td>801</td><td>Australian Capita...</td><td>1</td><td>1</td><td>1</td><td>1</td><td>null</td><td>null</td><td>N2</td><td>null</td><td>null</td><td>null</td><td>Durack</td><td>null</td></tr>\n",
       "<tr><td>21820</td><td>0200</td><td>Australian Nation...</td><td>ACT</td><td>149.1189</td><td>-35.2777</td><td>null</td><td>null</td><td>Added 19-Jan-2020</td><td>null</td><td>null</td><td>null</td><td>null</td><td>R1</td><td>-35.2776999</td><td>149.118527</td><td>80105104901</td><td>80105104901</td><td>801051049</td><td>Acton</td><td>80105</td><td>North Canberra</td><td>801</td><td>Australian Capita...</td><td>1</td><td>1</td><td>1</td><td>1</td><td>null</td><td>null</td><td>N2</td><td>null</td><td>null</td><td>null</td><td>Durack</td><td>null</td></tr>\n",
       "<tr><td>232</td><td>0800</td><td>DARWIN</td><td>NT</td><td>130.83668</td><td>-12.458684</td><td>null</td><td>null</td><td>Updated 6-Feb-2020</td><td>70101</td><td>Darwin City</td><td>701</td><td>Darwin</td><td>R1</td><td>-12.3932794</td><td>130.7766611</td><td>70101100203</td><td>70101100218</td><td>701011002</td><td>Darwin City</td><td>70101</td><td>Darwin City</td><td>701</td><td>Darwin</td><td>3</td><td>3</td><td>2</td><td>2</td><td>null</td><td>null</td><td>NT1</td><td>PHN701</td><td>Northern Territory</td><td>Darwin</td><td>Solomon</td><td>Inner Metropolitan</td></tr>\n",
       "</table>\n"
      ],
      "text/plain": [
       "+-----+--------+--------------------+-----+---------+----------+----+----+------------------+-----+-----------+----+-------+------+-----------+------------+-----------------+-----------------+-----------------+-------------+-------------+--------------+-------------+--------------------+-------+-------+--------+--------+----+--------+----------+--------+------------------+---------+----------+------------------+\n",
       "|   id|postcode|            locality|state|     long|       lat|  dc|type|            status|  sa3|    sa3name| sa4|sa4name|region|Lat_precise|Long_precise|SA1_MAINCODE_2011|SA1_MAINCODE_2016|SA2_MAINCODE_2016|SA2_NAME_2016|SA3_CODE_2016| SA3_NAME_2016|SA4_CODE_2016|       SA4_NAME_2016|RA_2011|RA_2016|MMM_2015|MMM_2019| ced|altitude|chargezone|phn_code|          phn_name|lgaregion|electorate|  electoraterating|\n",
       "+-----+--------+--------------------+-----+---------+----------+----+----+------------------+-----+-----------+----+-------+------+-----------+------------+-----------------+-----------------+-----------------+-------------+-------------+--------------+-------------+--------------------+-------+-------+--------+--------+----+--------+----------+--------+------------------+---------+----------+------------------+\n",
       "|  230|    0200|                 ANU|  ACT|  149.119|  -35.2777|null|null|              null| null|       null|null|   null|    R1|   -35.2777|     149.119|      80105104901|      80105104901|        801051049|        Acton|        80105|North Canberra|          801|Australian Capita...|      1|      1|       1|       1|null|    null|        N2|    null|              null|     null|    Durack|              null|\n",
       "|21820|    0200|Australian Nation...|  ACT| 149.1189|  -35.2777|null|null| Added 19-Jan-2020| null|       null|null|   null|    R1|-35.2776999|  149.118527|      80105104901|      80105104901|        801051049|        Acton|        80105|North Canberra|          801|Australian Capita...|      1|      1|       1|       1|null|    null|        N2|    null|              null|     null|    Durack|              null|\n",
       "|  232|    0800|              DARWIN|   NT|130.83668|-12.458684|null|null|Updated 6-Feb-2020|70101|Darwin City| 701| Darwin|    R1|-12.3932794| 130.7766611|      70101100203|      70101100218|        701011002|  Darwin City|        70101|   Darwin City|          701|              Darwin|      3|      3|       2|       2|null|    null|       NT1|  PHN701|Northern Territory|   Darwin|   Solomon|Inner Metropolitan|\n",
       "+-----+--------+--------------------+-----+---------+----------+----+----+------------------+-----+-----------+----+-------+------+-----------+------------+-----------------+-----------------+-----------------+-------------+-------------+--------------+-------------+--------------------+-------+-------+--------+--------+----+--------+----------+--------+------------------+---------+----------+------------------+"
      ]
     },
     "execution_count": 12,
     "metadata": {},
     "output_type": "execute_result"
    }
   ],
   "source": [
    "postcodedf.limit(3)"
   ]
  },
  {
   "cell_type": "code",
   "execution_count": 13,
   "id": "714eea3a",
   "metadata": {},
   "outputs": [
    {
     "data": {
      "text/html": [
       "<div>\n",
       "<style scoped>\n",
       "    .dataframe tbody tr th:only-of-type {\n",
       "        vertical-align: middle;\n",
       "    }\n",
       "\n",
       "    .dataframe tbody tr th {\n",
       "        vertical-align: top;\n",
       "    }\n",
       "\n",
       "    .dataframe thead th {\n",
       "        text-align: right;\n",
       "    }\n",
       "</style>\n",
       "<table border=\"1\" class=\"dataframe\">\n",
       "  <thead>\n",
       "    <tr style=\"text-align: right;\">\n",
       "      <th></th>\n",
       "      <th>POSTCODE</th>\n",
       "      <th>POSTCODE.1</th>\n",
       "      <th>SA2_MAINCODE_2011</th>\n",
       "      <th>SA2_NAME_2011</th>\n",
       "      <th>RATIO</th>\n",
       "      <th>PERCENTAGE</th>\n",
       "    </tr>\n",
       "  </thead>\n",
       "  <tbody>\n",
       "    <tr>\n",
       "      <th>0</th>\n",
       "      <td>NaN</td>\n",
       "      <td>NaN</td>\n",
       "      <td>NaN</td>\n",
       "      <td>NaN</td>\n",
       "      <td>NaN</td>\n",
       "      <td>NaN</td>\n",
       "    </tr>\n",
       "    <tr>\n",
       "      <th>1</th>\n",
       "      <td>0800</td>\n",
       "      <td>800.0</td>\n",
       "      <td>701011002.0</td>\n",
       "      <td>Darwin City</td>\n",
       "      <td>1.000000</td>\n",
       "      <td>99.999998</td>\n",
       "    </tr>\n",
       "    <tr>\n",
       "      <th>2</th>\n",
       "      <td>0810</td>\n",
       "      <td>810.0</td>\n",
       "      <td>701021010.0</td>\n",
       "      <td>Alawa</td>\n",
       "      <td>0.071997</td>\n",
       "      <td>7.199707</td>\n",
       "    </tr>\n",
       "  </tbody>\n",
       "</table>\n",
       "</div>"
      ],
      "text/plain": [
       "  POSTCODE  POSTCODE.1  SA2_MAINCODE_2011 SA2_NAME_2011     RATIO  PERCENTAGE\n",
       "0      NaN         NaN                NaN           NaN       NaN         NaN\n",
       "1     0800       800.0        701011002.0   Darwin City  1.000000   99.999998\n",
       "2     0810       810.0        701021010.0         Alawa  0.071997    7.199707"
      ]
     },
     "execution_count": 13,
     "metadata": {},
     "output_type": "execute_result"
    }
   ],
   "source": [
    "postcode_ratio_df.head(3)"
   ]
  },
  {
   "cell_type": "markdown",
   "id": "f7f46697",
   "metadata": {},
   "source": [
    "The datasets we were given included user data, fraud data, consumer data, merchant data, and 3 batches of transactional data. The transactional datasets when combined had a total of 1.42 million rows with each row representing a transaction and containing features such as the amount, the datetime, and the merchant/user involved. The user dataset had 499,999 rows with each row representing a user and the features included were user id and consumer id. It was used to join with the consumer dataset which also contained 499,999 rows with each row representing a consumer but had useful features such as the consumers gender, and address. The term consumer and user will be used interchangeably throughout this presentation but will refer to the same thing, a person that is involved in a transaction with any merchant. <br>\n",
    "The fraud data came from 2 datasets, one for user fraud and the other for merchant fraud. Both had the same features including id, the datetime, and the fraud probability with each row respectively representing a particular user or merchant at a given datetime. The merchant fraud dataset contained 114 rows whilst the consumer fraud dataset contained 34,864 rows. The final dataset we were given was the merchant data where each of the 4026 rows represented the information for a given merchant with the columns being merchant abn, the company name, and their respective tags.\n",
    "<br>\n",
    "3 external datasets were also used, the first of which was SA2 population data containing population numbers for each SA2 code. The second dataset was income data by SA2 region. It was obtained from the Australian Bureau of Statistics (ABS) website and consisted of 2289 rows with each row representing a SA2 region and its respective statistics such as income earned and the demographics of the people that earned it for each year starting from 2011 and ending in 2018. The final external dataset used was the postcode and SA2 dataset which allowed for the joining of given and external datasets."
   ]
  },
  {
   "cell_type": "code",
   "execution_count": 14,
   "id": "db2488d9",
   "metadata": {},
   "outputs": [],
   "source": [
    "futureuserfrauddf = spark.read.parquet(\"../data/curated/future_user_fraud.parquet\")\n",
    "futuremerchantfrauddf = spark.read.parquet(\"../data/curated/future_merchant_fraud.parquet\")"
   ]
  },
  {
   "cell_type": "code",
   "execution_count": 15,
   "id": "1f7dcb21",
   "metadata": {},
   "outputs": [
    {
     "data": {
      "text/html": [
       "<table border='1'>\n",
       "<tr><th>user_id</th><th>max_amount</th><th>max_transactions</th><th>transaction_std</th><th>amount_sd</th></tr>\n",
       "<tr><td>19979</td><td>8150.115728134807</td><td>9</td><td>0.84476618165645</td><td>400.16781038916344</td></tr>\n",
       "<tr><td>23492</td><td>4097.470542751887</td><td>9</td><td>0.8232347161406164</td><td>294.7157993790497</td></tr>\n",
       "<tr><td>12568</td><td>2042.0161577505257</td><td>8</td><td>0.8757538133134091</td><td>239.94494399815406</td></tr>\n",
       "</table>\n"
      ],
      "text/plain": [
       "+-------+------------------+----------------+------------------+------------------+\n",
       "|user_id|        max_amount|max_transactions|   transaction_std|         amount_sd|\n",
       "+-------+------------------+----------------+------------------+------------------+\n",
       "|  19979| 8150.115728134807|               9|  0.84476618165645|400.16781038916344|\n",
       "|  23492| 4097.470542751887|               9|0.8232347161406164| 294.7157993790497|\n",
       "|  12568|2042.0161577505257|               8|0.8757538133134091|239.94494399815406|\n",
       "+-------+------------------+----------------+------------------+------------------+"
      ]
     },
     "execution_count": 15,
     "metadata": {},
     "output_type": "execute_result"
    }
   ],
   "source": [
    "futureuserfrauddf.limit(3)"
   ]
  },
  {
   "cell_type": "code",
   "execution_count": 16,
   "id": "ce782550",
   "metadata": {},
   "outputs": [
    {
     "data": {
      "text/html": [
       "<table border='1'>\n",
       "<tr><th>merchant_abn</th><th>max_amount</th><th>max_transactions</th><th>transaction_sd</th><th>amount_sd</th></tr>\n",
       "<tr><td>83412691377</td><td>201.92111142420248</td><td>57</td><td>6.1317702357686885</td><td>24.483086120347327</td></tr>\n",
       "<tr><td>73256306726</td><td>2074.313458274829</td><td>26</td><td>3.2774277009648425</td><td>230.49860679672886</td></tr>\n",
       "<tr><td>38700038932</td><td>5444.634544750903</td><td>23</td><td>3.558872805885871</td><td>713.0931587735073</td></tr>\n",
       "</table>\n"
      ],
      "text/plain": [
       "+------------+------------------+----------------+------------------+------------------+\n",
       "|merchant_abn|        max_amount|max_transactions|    transaction_sd|         amount_sd|\n",
       "+------------+------------------+----------------+------------------+------------------+\n",
       "| 83412691377|201.92111142420248|              57|6.1317702357686885|24.483086120347327|\n",
       "| 73256306726| 2074.313458274829|              26|3.2774277009648425|230.49860679672886|\n",
       "| 38700038932| 5444.634544750903|              23| 3.558872805885871| 713.0931587735073|\n",
       "+------------+------------------+----------------+------------------+------------------+"
      ]
     },
     "execution_count": 16,
     "metadata": {},
     "output_type": "execute_result"
    }
   ],
   "source": [
    "futuremerchantfrauddf.limit(3)"
   ]
  },
  {
   "cell_type": "markdown",
   "id": "8bfb3156",
   "metadata": {},
   "source": [
    "### Pre Processing and Outlier Analysis"
   ]
  },
  {
   "cell_type": "markdown",
   "id": "3cbf73e9",
   "metadata": {},
   "source": [
    "For the datasets provided, the majority of fields contained valid entries for all transactions and no preprocessing was required. One problematic field however was the dollar amount of transactions, as some transactions were found to have clearly nonsensical dollar values, such as less than a cent. Since we are not given information about the product range of these merchants, we made the safe assumption that a transaction needed a dollar value higher than a cent to be considered valid.\n",
    "<br>\n",
    "Outside of this, the only field that required significant preprocessing was the tags field located in the merchant data. This field in fact contained 3 separate pieces of important information: a category for the merchant, a label indicating their revenue band on a scale from a-e, as well as their negotiated take rate with the BNPL firm. This field was therefore split into 3 separate columns.\n",
    "<br>\n"
   ]
  },
  {
   "cell_type": "markdown",
   "id": "b781d05f",
   "metadata": {},
   "source": [
    "The population dataset contained, for each SA2 code, the total population and the population of each age group in intervals of 4, example: 0-4, 5-9, 10-14, etc.. Because these age groups alone don’t have much meaning, custom age groups were created: under 10, adolescent (aged 10-17), young adult (18-34), middle age (35-59), and old (60+). The age ranges selected for these age groups were based on similar popular age groups globally defined and noting the fact that the average retirement age in Australia is 65.\n",
    "<br>\n",
    "Using these age groups, it was found that their distribution was almost the same on the state and territory level (show pie charts), with the middle age population being the most dominant followed by old and young adults, except in the territories where the young adults population was larger than old population. Then came the adolescent and under 10 population which had minor differences in their distribution.\n",
    "<br>\n",
    "It was found that a total of 38 SA2 regions had a population of zero. Upon closer inspection, these regions were places such as airports, creeks, and other ‘green’ uninhabitable places. On the opposite end, for a large population of young adults, it was found that these places were cities or near the cities. Another find was that there were some places populated entirely by either young adults, middle aged, or old people. Upon analyzing further, the total population of each of these regions was less than or equal to 10, which makes the find understandable.\n",
    "<br>"
   ]
  },
  {
   "cell_type": "markdown",
   "id": "ec4818ad",
   "metadata": {},
   "source": [
    "An obstacle we faced was the fact that our given data was postcode-based and external data (population and income) was SA2 based. Hence, we needed data that would correspond each postcode to SA2 codes. We found 2 such datasets, however, as a postcode region is larger than a SA2 region, one postcode can have many SA2 codes. So how to accurately assign our external data to our existing data?\n",
    "<br>\n",
    "One of our postcode datasets contained ratio, i.e. how the population of a postcode is distributed amongst the SA2 codes. So we could use weighted averaging as opposed to just averaging to get a single value from population/income data for each postcode. However, the postcode ratio dataset contained less correspondences than our postcode dataset without ratio, which would lead to more loss of records when joining, almost 1.5 million to be exact. Hence, we decided that the weighted averaging provided by the postcode ratio dataset would not be worth the loss of these many records. After combining our given data with external data, we had a total of 11,818,811 records.\n",
    "<br>"
   ]
  },
  {
   "cell_type": "markdown",
   "id": "0739be45",
   "metadata": {},
   "source": [
    "The income dataset contained the same few columns for each year ranging from 2011 to 2018. Seeing as the transaction data started from 2021 we removed all columns 2017 and below to get the latest SA2 income data available. Useless columns such as sum of everyone's income were removed and that left us with 5 columns which included SA2 code, number of earners, median age of earners, median income, and mean income. Distributions were made for each feature to see how they varied for the different SA2 regions and based on them only 50 rows were removed. 48 of these were removed because the entire row was filled with nulls and the other 2 were removed because they had implausible median ages. This brought the final dataset down to 2239 entries.\n",
    "<br>"
   ]
  },
  {
   "cell_type": "markdown",
   "id": "d41b3f4b",
   "metadata": {},
   "source": [
    "When inner joining all the given data, the only decrease in the number of rows was when there was a join with the merchants dataframe. The number of rows decreased from 14.1 million to 13.6 million because the merchants dataframe didn’t have the abn’s of some of the merchants that were showing up in the transactional data. When inner joining with external datasets the number of rows lost were 1.8 million because of SA2 mismatches and rows containing null values for all columns. This meant our final dataset consisted of 11.8 million rows.\n",
    "<br>"
   ]
  },
  {
   "cell_type": "markdown",
   "id": "087172de",
   "metadata": {},
   "source": [
    "\n",
    "We were given two sets of fraud data one for consumer fraud and the other for merchant fraud. We decided to set the threshold to 1% so anything above 1% would be considered fraud and that way we could be confident that all the fraud transactions had been removed. Since the minimum user fraud was 8 percent and the minimum merchant fraud was 18% this meant that all fraud transactions got removed. This only removed 60 thousand rows which was only 0.005% of the overall data so nothing major had been lost, but removing this fraud meant that we were left with transactions that only had 0.01% fraud chance which meant they were almost guaranteed to be accurate. This allowed us to create distributions for both merchants and users in terms of total transactions and total money spent/made in a day which will allow us to predict future fraud. If a user or merchant has 1.5 times their standard deviation in the number of transactions or transaction amounts in a day then they will be considered fraud. It was interesting to find that there were also some duplicate entries in the user fraud dataset.\n",
    "<br>"
   ]
  },
  {
   "cell_type": "markdown",
   "id": "a7afef08",
   "metadata": {},
   "source": [
    "This gave us our final dataset to be used in modelling and thus ranking:"
   ]
  },
  {
   "cell_type": "code",
   "execution_count": 17,
   "id": "f4bba4d3",
   "metadata": {},
   "outputs": [
    {
     "name": "stderr",
     "output_type": "stream",
     "text": [
      "                                                                                \r"
     ]
    },
    {
     "data": {
      "text/html": [
       "<table border='1'>\n",
       "<tr><th>order_datetime</th><th>merchant_abn</th><th>user_id</th><th>postcode</th><th>consumer_id</th><th>dollar_value</th><th>order_id</th><th>state</th><th>gender</th><th>company_name</th><th>tags</th><th>take_rate</th><th>revenue_band</th><th>total_pop</th><th>under10_pop</th><th>adolsc_pop</th><th>yng_adult_pop</th><th>mid_age_pop</th><th>old_pop</th><th>num_earners</th><th>median_age</th><th>median_income</th><th>mean_income</th><th>consumer_fraud_%</th><th>merchant_fraud_%</th></tr>\n",
       "<tr><td>2022-07-13</td><td>49891706470</td><td>22131</td><td>6731</td><td>58911</td><td>25.782245737474312</td><td>90498b80-984f-43c...</td><td>WA</td><td>Male</td><td>Non Vestibulum In...</td><td>tent and awning s...</td><td> 5.80</td><td> a</td><td>8374</td><td>1373</td><td>1185</td><td>2200</td><td>2600</td><td>1016</td><td>2907</td><td>39</td><td>48034</td><td>56306</td><td>0.1</td><td>0.1</td></tr>\n",
       "<tr><td>2021-08-19</td><td>96680767841</td><td>22131</td><td>6731</td><td>58911</td><td>415.9547984625</td><td>829843bc-c571-493...</td><td>WA</td><td>Male</td><td>Ornare Limited</td><td>motor vehicle sup...</td><td> 5.91</td><td> a</td><td>8374</td><td>1373</td><td>1185</td><td>2200</td><td>2600</td><td>1016</td><td>2907</td><td>39</td><td>48034</td><td>56306</td><td>0.1</td><td>0.1</td></tr>\n",
       "<tr><td>2022-07-13</td><td>43186523025</td><td>22131</td><td>6731</td><td>58911</td><td>33.082322196774484</td><td>c12d2520-12c8-40f...</td><td>WA</td><td>Male</td><td>Lorem Ipsum Sodal...</td><td>florists supplies...</td><td> 4.47</td><td> b</td><td>8374</td><td>1373</td><td>1185</td><td>2200</td><td>2600</td><td>1016</td><td>2907</td><td>39</td><td>48034</td><td>56306</td><td>0.1</td><td>0.1</td></tr>\n",
       "<tr><td>2021-08-19</td><td>66370248931</td><td>22131</td><td>6731</td><td>58911</td><td>82.54046571771035</td><td>cc8ac5c5-0dfc-4e1...</td><td>WA</td><td>Male</td><td>Morbi Non PC</td><td>cable, satellite,...</td><td> 3.15</td><td> b</td><td>8374</td><td>1373</td><td>1185</td><td>2200</td><td>2600</td><td>1016</td><td>2907</td><td>39</td><td>48034</td><td>56306</td><td>0.1</td><td>0.1</td></tr>\n",
       "<tr><td>2022-05-06</td><td>89726005175</td><td>22131</td><td>6731</td><td>58911</td><td>58.46693553052902</td><td>b1f179f8-2c15-4f5...</td><td>WA</td><td>Male</td><td>Est Nunc Consulting</td><td>tent and awning s...</td><td> 6.01</td><td> a</td><td>8374</td><td>1373</td><td>1185</td><td>2200</td><td>2600</td><td>1016</td><td>2907</td><td>39</td><td>48034</td><td>56306</td><td>0.1</td><td>0.1</td></tr>\n",
       "</table>\n"
      ],
      "text/plain": [
       "+--------------+------------+-------+--------+-----------+------------------+--------------------+-----+------+--------------------+--------------------+---------+------------+---------+-----------+----------+-------------+-----------+-------+-----------+----------+-------------+-----------+----------------+----------------+\n",
       "|order_datetime|merchant_abn|user_id|postcode|consumer_id|      dollar_value|            order_id|state|gender|        company_name|                tags|take_rate|revenue_band|total_pop|under10_pop|adolsc_pop|yng_adult_pop|mid_age_pop|old_pop|num_earners|median_age|median_income|mean_income|consumer_fraud_%|merchant_fraud_%|\n",
       "+--------------+------------+-------+--------+-----------+------------------+--------------------+-----+------+--------------------+--------------------+---------+------------+---------+-----------+----------+-------------+-----------+-------+-----------+----------+-------------+-----------+----------------+----------------+\n",
       "|    2022-07-13| 49891706470|  22131|    6731|      58911|25.782245737474312|90498b80-984f-43c...|   WA|  Male|Non Vestibulum In...|tent and awning s...|     5.80|           a|     8374|       1373|      1185|         2200|       2600|   1016|       2907|        39|        48034|      56306|             0.1|             0.1|\n",
       "|    2021-08-19| 96680767841|  22131|    6731|      58911|    415.9547984625|829843bc-c571-493...|   WA|  Male|      Ornare Limited|motor vehicle sup...|     5.91|           a|     8374|       1373|      1185|         2200|       2600|   1016|       2907|        39|        48034|      56306|             0.1|             0.1|\n",
       "|    2022-07-13| 43186523025|  22131|    6731|      58911|33.082322196774484|c12d2520-12c8-40f...|   WA|  Male|Lorem Ipsum Sodal...|florists supplies...|     4.47|           b|     8374|       1373|      1185|         2200|       2600|   1016|       2907|        39|        48034|      56306|             0.1|             0.1|\n",
       "|    2021-08-19| 66370248931|  22131|    6731|      58911| 82.54046571771035|cc8ac5c5-0dfc-4e1...|   WA|  Male|        Morbi Non PC|cable, satellite,...|     3.15|           b|     8374|       1373|      1185|         2200|       2600|   1016|       2907|        39|        48034|      56306|             0.1|             0.1|\n",
       "|    2022-05-06| 89726005175|  22131|    6731|      58911| 58.46693553052902|b1f179f8-2c15-4f5...|   WA|  Male| Est Nunc Consulting|tent and awning s...|     6.01|           a|     8374|       1373|      1185|         2200|       2600|   1016|       2907|        39|        48034|      56306|             0.1|             0.1|\n",
       "+--------------+------------+-------+--------+-----------+------------------+--------------------+-----+------+--------------------+--------------------+---------+------------+---------+-----------+----------+-------------+-----------+-------+-----------+----------+-------------+-----------+----------------+----------------+"
      ]
     },
     "execution_count": 17,
     "metadata": {},
     "output_type": "execute_result"
    }
   ],
   "source": [
    "finaldf = spark.read.parquet(\"../data/curated/finaldf.parquet/\")\n",
    "finaldf.limit(5)"
   ]
  },
  {
   "cell_type": "markdown",
   "id": "142c0366",
   "metadata": {},
   "source": [
    "### Modelling"
   ]
  },
  {
   "cell_type": "markdown",
   "id": "f54e24e0-5639-4a9d-ac5a-7f38cbfceefd",
   "metadata": {},
   "source": [
    "One of our very first ideas we had for the modeling and ranking of merchants was to simply onboard the merchants that had generated the most overall revenue. "
   ]
  },
  {
   "cell_type": "code",
   "execution_count": 18,
   "id": "d23b80c2-7f8b-4486-ba6f-8711c6175318",
   "metadata": {},
   "outputs": [
    {
     "name": "stderr",
     "output_type": "stream",
     "text": [
      "                                                                                \r"
     ]
    },
    {
     "data": {
      "text/html": [
       "<table border='1'>\n",
       "<tr><th>year</th><th>month</th><th>merchant_abn</th><th>monthly_profit</th></tr>\n",
       "<tr><td>2022</td><td>5</td><td>77338620996</td><td>10072.1</td></tr>\n",
       "<tr><td>2021</td><td>11</td><td>11700214701</td><td>3166.25</td></tr>\n",
       "<tr><td>2022</td><td>7</td><td>34179569263</td><td>18195.89</td></tr>\n",
       "</table>\n"
      ],
      "text/plain": [
       "+----+-----+------------+--------------+\n",
       "|year|month|merchant_abn|monthly_profit|\n",
       "+----+-----+------------+--------------+\n",
       "|2022|    5| 77338620996|       10072.1|\n",
       "|2021|   11| 11700214701|       3166.25|\n",
       "|2022|    7| 34179569263|      18195.89|\n",
       "+----+-----+------------+--------------+"
      ]
     },
     "execution_count": 18,
     "metadata": {},
     "output_type": "execute_result"
    }
   ],
   "source": [
    "modeldf1 = finaldf.withColumn(\"year\", date_format(col(\"order_datetime\"), \"yyyy\").cast(\"long\"))\n",
    "modeldf1 = modeldf1.withColumn(\"month\", date_format(col(\"order_datetime\"), \"MM\").cast(\"long\"))\n",
    "modeldf1 = modeldf1.withColumn('profit', round(finaldf.dollar_value * (finaldf.take_rate / 100), 2))\n",
    "\n",
    "for field in (\"postcode\",\"take_rate\"):\n",
    "    modeldf1 = modeldf1.withColumn(\n",
    "        field,\n",
    "        col(field).cast('double')\n",
    "    )\n",
    "\n",
    "modeldf1 = modeldf1.drop(\"order_datetime\",\"order_id\",\"company_name\",\"consumer_fraud_%\",\"merchant_fraud_%\")\n",
    "\n",
    "modeldf1 = modeldf1.groupBy(\"year\",\"month\",\"merchant_abn\").agg(\n",
    "    round(sum(\"profit\"),2).alias(\"monthly_profit\"),\n",
    ")\n",
    "modeldf1.limit(3)"
   ]
  },
  {
   "cell_type": "markdown",
   "id": "71107a21-8147-48c0-a30f-14d10488aec7",
   "metadata": {},
   "source": [
    "However, what we as a group realised is that a simple model such as this would be making the rather significant assumption that once a merchant is onboarded by the firm, every single transaction made with that merchant would now be made with the BNPL technology, which clearly isn’t a very realistic assumption.\n",
    " \n",
    "So to improve on this idea, we decided we would still create this model, but we would also build 2 additional models. In order to determine these other features, we reviewed surveys from [C+R research](https://www.crresearch.com/blog/buy_now_pay_later_statistics) as well as [Bankrate](https://www.bankrate.com/loans/personal-loans/buy-now-pay-later-statistics/) regarding BNPL usage statistics. Some interesting statistics we found was that only 3% of respondents owed over $2 500 currently to BNPL services, and this debt was owed across an average of 3.8 different purchased items. Considering that under the current structure, consumers would only be able to pay back items in exactly 5 installments, we determined that there was likely to be a limit as to how much people would spend in a single BNPL transaction, and hence we would prefer merchants who not only generated large revenue, but did so through many smaller value transactions vs fewer larger transactions. This was the motivation behind our second model being based around the number of transactions for a given merchant."
   ]
  },
  {
   "cell_type": "code",
   "execution_count": 19,
   "id": "178a5897-7a0e-4686-bbfe-a0f075d6a8d8",
   "metadata": {},
   "outputs": [
    {
     "name": "stderr",
     "output_type": "stream",
     "text": [
      "                                                                                \r"
     ]
    },
    {
     "data": {
      "text/html": [
       "<table border='1'>\n",
       "<tr><th>year</th><th>month</th><th>merchant_abn</th><th>monthly_transactions</th></tr>\n",
       "<tr><td>2022</td><td>5</td><td>77338620996</td><td>575</td></tr>\n",
       "<tr><td>2021</td><td>11</td><td>11700214701</td><td>84</td></tr>\n",
       "<tr><td>2022</td><td>7</td><td>34179569263</td><td>1083</td></tr>\n",
       "<tr><td>2021</td><td>12</td><td>36800720158</td><td>86</td></tr>\n",
       "<tr><td>2021</td><td>10</td><td>24852446429</td><td>12696</td></tr>\n",
       "</table>\n"
      ],
      "text/plain": [
       "+----+-----+------------+--------------------+\n",
       "|year|month|merchant_abn|monthly_transactions|\n",
       "+----+-----+------------+--------------------+\n",
       "|2022|    5| 77338620996|                 575|\n",
       "|2021|   11| 11700214701|                  84|\n",
       "|2022|    7| 34179569263|                1083|\n",
       "|2021|   12| 36800720158|                  86|\n",
       "|2021|   10| 24852446429|               12696|\n",
       "+----+-----+------------+--------------------+"
      ]
     },
     "execution_count": 19,
     "metadata": {},
     "output_type": "execute_result"
    }
   ],
   "source": [
    "modeldf2 = finaldf.withColumn(\"year\", date_format(col(\"order_datetime\"), \"yyyy\").cast(\"long\"))\n",
    "modeldf2 = modeldf2.withColumn(\"month\", date_format(col(\"order_datetime\"), \"MM\").cast(\"long\"))\n",
    "\n",
    "for field in (\"postcode\",\"take_rate\"):\n",
    "    modeldf2 = modeldf2.withColumn(\n",
    "        field,\n",
    "        col(field).cast('double')\n",
    "    )\n",
    "\n",
    "modeldf2 = modeldf2.drop(\"order_datetime\",\"order_id\",\"company_name\",\"consumer_fraud_%\",\"merchant_fraud_%\")\n",
    "\n",
    "modeldf2 = modeldf2.groupBy(\"year\",\"month\",\"merchant_abn\").agg(\n",
    "    count(\"dollar_value\").alias(\"monthly_transactions\"),\n",
    ")\n",
    "\n",
    "modeldf2.limit(5)"
   ]
  },
  {
   "cell_type": "markdown",
   "id": "6ff46245-4421-47c9-84a2-523d7cfff14c",
   "metadata": {},
   "source": [
    "However, by similar logic, we should also prefer merchants with a wider consumer base, or a merchant that makes a large amount of revenue, from frequent, smaller value transactions that are likely to be from different customers. So while having our third model be based on the number of unique customers for a merchant would be justified, another interesting fact that we found was that amongst certain predefined income ranges, the highest proportion of BNPL users came from the group with average household income between \\\\$50 000-\\\\$75 000. Combining these two ideas led to our final model, which was based on the number of unique customers for a given merchant who resides in a postcode with median income between \\\\$50 000 and \\\\$75 000."
   ]
  },
  {
   "cell_type": "code",
   "execution_count": 20,
   "id": "293386be-574f-461c-8241-6882522c970e",
   "metadata": {},
   "outputs": [
    {
     "name": "stderr",
     "output_type": "stream",
     "text": [
      "                                                                                \r"
     ]
    },
    {
     "data": {
      "text/html": [
       "<table border='1'>\n",
       "<tr><th>year</th><th>month</th><th>merchant_abn</th><th>monthly_middle_customers</th></tr>\n",
       "<tr><td>2021</td><td>11</td><td>53655334735</td><td>7</td></tr>\n",
       "<tr><td>2021</td><td>3</td><td>33163130598</td><td>34</td></tr>\n",
       "<tr><td>2022</td><td>4</td><td>16165222459</td><td>27</td></tr>\n",
       "<tr><td>2022</td><td>5</td><td>60956456424</td><td>1107</td></tr>\n",
       "<tr><td>2022</td><td>5</td><td>82539239304</td><td>24</td></tr>\n",
       "<tr><td>2021</td><td>10</td><td>24852446429</td><td>2818</td></tr>\n",
       "<tr><td>2022</td><td>9</td><td>46987545043</td><td>245</td></tr>\n",
       "<tr><td>2022</td><td>4</td><td>52160665475</td><td>162</td></tr>\n",
       "<tr><td>2022</td><td>5</td><td>94472466107</td><td>300</td></tr>\n",
       "<tr><td>2021</td><td>5</td><td>80779820715</td><td>395</td></tr>\n",
       "<tr><td>2022</td><td>7</td><td>66370248931</td><td>123</td></tr>\n",
       "<tr><td>2021</td><td>3</td><td>32605756719</td><td>102</td></tr>\n",
       "<tr><td>2022</td><td>3</td><td>45466221547</td><td>284</td></tr>\n",
       "<tr><td>2021</td><td>11</td><td>49758515423</td><td>82</td></tr>\n",
       "<tr><td>2021</td><td>12</td><td>88699453206</td><td>199</td></tr>\n",
       "<tr><td>2021</td><td>6</td><td>74309678848</td><td>7</td></tr>\n",
       "<tr><td>2021</td><td>6</td><td>83412691377</td><td>156</td></tr>\n",
       "<tr><td>2021</td><td>8</td><td>78905182348</td><td>131</td></tr>\n",
       "<tr><td>2021</td><td>4</td><td>31585975447</td><td>191</td></tr>\n",
       "<tr><td>2022</td><td>9</td><td>10323485998</td><td>156</td></tr>\n",
       "</table>\n",
       "only showing top 20 rows\n"
      ],
      "text/plain": [
       "+----+-----+------------+------------------------+\n",
       "|year|month|merchant_abn|monthly_middle_customers|\n",
       "+----+-----+------------+------------------------+\n",
       "|2021|   11| 53655334735|                       7|\n",
       "|2021|    3| 33163130598|                      34|\n",
       "|2022|    4| 16165222459|                      27|\n",
       "|2022|    5| 60956456424|                    1107|\n",
       "|2022|    5| 82539239304|                      24|\n",
       "|2021|   10| 24852446429|                    2818|\n",
       "|2022|    9| 46987545043|                     245|\n",
       "|2022|    4| 52160665475|                     162|\n",
       "|2022|    5| 94472466107|                     300|\n",
       "|2021|    5| 80779820715|                     395|\n",
       "|2022|    7| 66370248931|                     123|\n",
       "|2021|    3| 32605756719|                     102|\n",
       "|2022|    3| 45466221547|                     284|\n",
       "|2021|   11| 49758515423|                      82|\n",
       "|2021|   12| 88699453206|                     199|\n",
       "|2021|    6| 74309678848|                       7|\n",
       "|2021|    6| 83412691377|                     156|\n",
       "|2021|    8| 78905182348|                     131|\n",
       "|2021|    4| 31585975447|                     191|\n",
       "|2022|    9| 10323485998|                     156|\n",
       "+----+-----+------------+------------------------+\n",
       "only showing top 20 rows"
      ]
     },
     "execution_count": 20,
     "metadata": {},
     "output_type": "execute_result"
    }
   ],
   "source": [
    "LOWER_INCOME_THRESHOLD = 50000\n",
    "UPPER_INCOME_THRESHOLD = 75000\n",
    "modeldf3 = finaldf.withColumn(\"year\", date_format(col(\"order_datetime\"), \"yyyy\").cast(\"long\"))\n",
    "modeldf3 = modeldf3.withColumn(\"month\", date_format(col(\"order_datetime\"), \"MM\").cast(\"long\"))\n",
    "modeldf3 = modeldf3.filter((modeldf3.median_income > LOWER_INCOME_THRESHOLD) &\n",
    "                         (modeldf3.median_income < UPPER_INCOME_THRESHOLD))\n",
    "                                     \n",
    "for field in (\"postcode\",\"take_rate\"):\n",
    "    modeldf3 = modeldf3.withColumn(\n",
    "        field,\n",
    "        col(field).cast('double')\n",
    "    )\n",
    "\n",
    "modeldf3 = modeldf3.drop(\"order_datetime\",\"order_id\",\"company_name\",\"consumer_fraud_%\",\"merchant_fraud_%\")\n",
    "modeldf3 = modeldf3.groupBy(\"year\",\"month\",\"merchant_abn\").agg(\n",
    "    countDistinct(\"consumer_id\").alias(\"monthly_middle_customers\"),\n",
    ")\n",
    "modeldf3"
   ]
  },
  {
   "cell_type": "markdown",
   "id": "756b6bb7-a06d-40fa-9f46-a3675b0bec63",
   "metadata": {},
   "source": [
    "Additionally, to improve these ideas further, rather than just derive statistics such as overall revenue based on the previous transactions seen in the data, we aimed to identify any potential trends in these statistics for merchants, and hence use these trends to try and predict, for example the future revenue, of every merchant in every month of 2023. \n",
    " \n",
    "Such predictions were done through the use of a simple time series regression model, which is essentially just a typical linear regression model, but with the addition of what are called lagged variables. To take the example of our model to predict future revenue, the lagged variables in this time series regression would be the predicted revenue of the merchant for the previous certain amount of months. "
   ]
  },
  {
   "cell_type": "code",
   "execution_count": 21,
   "id": "2fc9337f-1733-4af3-b9cb-07225a62fd88",
   "metadata": {},
   "outputs": [
    {
     "name": "stdout",
     "output_type": "stream",
     "text": [
      "       merchant_abn  int_month  monthly_transactions  merchant_abn_class  \\\n",
      "0       10023283211         19                   146                 0.0   \n",
      "1       10023283211         20                   173                 0.0   \n",
      "2       10023283211         21                   164                 0.0   \n",
      "3       10142254217         19                   149                 1.0   \n",
      "4       10142254217         20                   130                 1.0   \n",
      "...             ...        ...                   ...                 ...   \n",
      "12049   99987905597         20                    15              4016.0   \n",
      "12050   99987905597         21                     8              4016.0   \n",
      "12051   99990536339         19                     2              4017.0   \n",
      "12052   99990536339         20                     1              4017.0   \n",
      "12053   99990536339         21                     1              4017.0   \n",
      "\n",
      "                                        merchant_abn_ohe  \\\n",
      "0      (1.0, 0.0, 0.0, 0.0, 0.0, 0.0, 0.0, 0.0, 0.0, ...   \n",
      "1      (1.0, 0.0, 0.0, 0.0, 0.0, 0.0, 0.0, 0.0, 0.0, ...   \n",
      "2      (1.0, 0.0, 0.0, 0.0, 0.0, 0.0, 0.0, 0.0, 0.0, ...   \n",
      "3      (0.0, 1.0, 0.0, 0.0, 0.0, 0.0, 0.0, 0.0, 0.0, ...   \n",
      "4      (0.0, 1.0, 0.0, 0.0, 0.0, 0.0, 0.0, 0.0, 0.0, ...   \n",
      "...                                                  ...   \n",
      "12049  (0.0, 0.0, 0.0, 0.0, 0.0, 0.0, 0.0, 0.0, 0.0, ...   \n",
      "12050  (0.0, 0.0, 0.0, 0.0, 0.0, 0.0, 0.0, 0.0, 0.0, ...   \n",
      "12051  (0.0, 0.0, 0.0, 0.0, 0.0, 0.0, 0.0, 0.0, 0.0, ...   \n",
      "12052  (0.0, 0.0, 0.0, 0.0, 0.0, 0.0, 0.0, 0.0, 0.0, ...   \n",
      "12053  (0.0, 0.0, 0.0, 0.0, 0.0, 0.0, 0.0, 0.0, 0.0, ...   \n",
      "\n",
      "       monthly_transactions-1  monthly_transactions-2  \\\n",
      "0                         166                     134   \n",
      "1                         146                     166   \n",
      "2                         173                     146   \n",
      "3                         149                     125   \n",
      "4                         149                     149   \n",
      "...                       ...                     ...   \n",
      "12049                       5                       7   \n",
      "12050                      15                       5   \n",
      "12051                       1                       0   \n",
      "12052                       2                       1   \n",
      "12053                       1                       2   \n",
      "\n",
      "                                                features  prediction  \n",
      "0      (1.0, 0.0, 0.0, 0.0, 0.0, 0.0, 0.0, 0.0, 0.0, ...  163.640291  \n",
      "1      (1.0, 0.0, 0.0, 0.0, 0.0, 0.0, 0.0, 0.0, 0.0, ...  151.067994  \n",
      "2      (1.0, 0.0, 0.0, 0.0, 0.0, 0.0, 0.0, 0.0, 0.0, ...  168.347716  \n",
      "3      (0.0, 1.0, 0.0, 0.0, 0.0, 0.0, 0.0, 0.0, 0.0, ...  148.310629  \n",
      "4      (0.0, 1.0, 0.0, 0.0, 0.0, 0.0, 0.0, 0.0, 0.0, ...  147.130320  \n",
      "...                                                  ...         ...  \n",
      "12049  (0.0, 0.0, 0.0, 0.0, 0.0, 0.0, 0.0, 0.0, 0.0, ...   16.597029  \n",
      "12050  (0.0, 0.0, 0.0, 0.0, 0.0, 0.0, 0.0, 0.0, 0.0, ...   23.154239  \n",
      "12051  (0.0, 0.0, 0.0, 0.0, 0.0, 0.0, 0.0, 0.0, 0.0, ...   10.158238  \n",
      "12052  (0.0, 0.0, 0.0, 0.0, 0.0, 0.0, 0.0, 0.0, 0.0, ...   11.644732  \n",
      "12053  (0.0, 0.0, 0.0, 0.0, 0.0, 0.0, 0.0, 0.0, 0.0, ...   12.066264  \n",
      "\n",
      "[12054 rows x 9 columns]\n",
      "17.270046334200092\n"
     ]
    }
   ],
   "source": [
    "dfp = spark.read.parquet(\"../data/curated/trans_num_predictions.parquet\").toPandas()\n",
    "print(dfp)\n",
    "print(mean_absolute_error(dfp[\"monthly_transactions\"],  dfp[\"prediction\"]))"
   ]
  },
  {
   "cell_type": "code",
   "execution_count": 22,
   "id": "1e579e1a-af5a-4f24-8416-e13f1352b84a",
   "metadata": {},
   "outputs": [
    {
     "ename": "AnalysisException",
     "evalue": "Path does not exist: file:/mnt/c/Users/Eesha/Desktop/GitHub/project2/generic-buy-now-pay-later-project-group-35/data/curated/profit_merch_predictions.parquet",
     "output_type": "error",
     "traceback": [
      "\u001b[0;31m---------------------------------------------------------------------------\u001b[0m",
      "\u001b[0;31mAnalysisException\u001b[0m                         Traceback (most recent call last)",
      "\u001b[1;32m/mnt/c/Users/Eesha/Desktop/GitHub/project2/generic-buy-now-pay-later-project-group-35/notebooks/8-Summary.ipynb Cell 42\u001b[0m in \u001b[0;36m<cell line: 1>\u001b[0;34m()\u001b[0m\n\u001b[0;32m----> <a href='vscode-notebook-cell://wsl%2Bubuntu-20.04/mnt/c/Users/Eesha/Desktop/GitHub/project2/generic-buy-now-pay-later-project-group-35/notebooks/8-Summary.ipynb#X56sdnNjb2RlLXJlbW90ZQ%3D%3D?line=0'>1</a>\u001b[0m dfp \u001b[39m=\u001b[39m spark\u001b[39m.\u001b[39;49mread\u001b[39m.\u001b[39;49mparquet(\u001b[39m\"\u001b[39;49m\u001b[39m../data/curated/profit_merch_predictions.parquet\u001b[39;49m\u001b[39m\"\u001b[39;49m)\u001b[39m.\u001b[39mtoPandas()\n\u001b[1;32m      <a href='vscode-notebook-cell://wsl%2Bubuntu-20.04/mnt/c/Users/Eesha/Desktop/GitHub/project2/generic-buy-now-pay-later-project-group-35/notebooks/8-Summary.ipynb#X56sdnNjb2RlLXJlbW90ZQ%3D%3D?line=1'>2</a>\u001b[0m \u001b[39mprint\u001b[39m(dfp)\n\u001b[1;32m      <a href='vscode-notebook-cell://wsl%2Bubuntu-20.04/mnt/c/Users/Eesha/Desktop/GitHub/project2/generic-buy-now-pay-later-project-group-35/notebooks/8-Summary.ipynb#X56sdnNjb2RlLXJlbW90ZQ%3D%3D?line=2'>3</a>\u001b[0m \u001b[39mprint\u001b[39m(mean_absolute_error(dfp[\u001b[39m\"\u001b[39m\u001b[39mmonthly_transactions\u001b[39m\u001b[39m\"\u001b[39m],  dfp[\u001b[39m\"\u001b[39m\u001b[39mprediction\u001b[39m\u001b[39m\"\u001b[39m]))\n",
      "File \u001b[0;32m~/.local/lib/python3.8/site-packages/pyspark/sql/readwriter.py:364\u001b[0m, in \u001b[0;36mDataFrameReader.parquet\u001b[0;34m(self, *paths, **options)\u001b[0m\n\u001b[1;32m    353\u001b[0m int96RebaseMode \u001b[39m=\u001b[39m options\u001b[39m.\u001b[39mget(\u001b[39m\"\u001b[39m\u001b[39mint96RebaseMode\u001b[39m\u001b[39m\"\u001b[39m, \u001b[39mNone\u001b[39;00m)\n\u001b[1;32m    354\u001b[0m \u001b[39mself\u001b[39m\u001b[39m.\u001b[39m_set_opts(\n\u001b[1;32m    355\u001b[0m     mergeSchema\u001b[39m=\u001b[39mmergeSchema,\n\u001b[1;32m    356\u001b[0m     pathGlobFilter\u001b[39m=\u001b[39mpathGlobFilter,\n\u001b[0;32m   (...)\u001b[0m\n\u001b[1;32m    361\u001b[0m     int96RebaseMode\u001b[39m=\u001b[39mint96RebaseMode,\n\u001b[1;32m    362\u001b[0m )\n\u001b[0;32m--> 364\u001b[0m \u001b[39mreturn\u001b[39;00m \u001b[39mself\u001b[39m\u001b[39m.\u001b[39m_df(\u001b[39mself\u001b[39;49m\u001b[39m.\u001b[39;49m_jreader\u001b[39m.\u001b[39;49mparquet(_to_seq(\u001b[39mself\u001b[39;49m\u001b[39m.\u001b[39;49m_spark\u001b[39m.\u001b[39;49m_sc, paths)))\n",
      "File \u001b[0;32m~/.local/lib/python3.8/site-packages/py4j/java_gateway.py:1321\u001b[0m, in \u001b[0;36mJavaMember.__call__\u001b[0;34m(self, *args)\u001b[0m\n\u001b[1;32m   1315\u001b[0m command \u001b[39m=\u001b[39m proto\u001b[39m.\u001b[39mCALL_COMMAND_NAME \u001b[39m+\u001b[39m\\\n\u001b[1;32m   1316\u001b[0m     \u001b[39mself\u001b[39m\u001b[39m.\u001b[39mcommand_header \u001b[39m+\u001b[39m\\\n\u001b[1;32m   1317\u001b[0m     args_command \u001b[39m+\u001b[39m\\\n\u001b[1;32m   1318\u001b[0m     proto\u001b[39m.\u001b[39mEND_COMMAND_PART\n\u001b[1;32m   1320\u001b[0m answer \u001b[39m=\u001b[39m \u001b[39mself\u001b[39m\u001b[39m.\u001b[39mgateway_client\u001b[39m.\u001b[39msend_command(command)\n\u001b[0;32m-> 1321\u001b[0m return_value \u001b[39m=\u001b[39m get_return_value(\n\u001b[1;32m   1322\u001b[0m     answer, \u001b[39mself\u001b[39;49m\u001b[39m.\u001b[39;49mgateway_client, \u001b[39mself\u001b[39;49m\u001b[39m.\u001b[39;49mtarget_id, \u001b[39mself\u001b[39;49m\u001b[39m.\u001b[39;49mname)\n\u001b[1;32m   1324\u001b[0m \u001b[39mfor\u001b[39;00m temp_arg \u001b[39min\u001b[39;00m temp_args:\n\u001b[1;32m   1325\u001b[0m     temp_arg\u001b[39m.\u001b[39m_detach()\n",
      "File \u001b[0;32m~/.local/lib/python3.8/site-packages/pyspark/sql/utils.py:196\u001b[0m, in \u001b[0;36mcapture_sql_exception.<locals>.deco\u001b[0;34m(*a, **kw)\u001b[0m\n\u001b[1;32m    192\u001b[0m converted \u001b[39m=\u001b[39m convert_exception(e\u001b[39m.\u001b[39mjava_exception)\n\u001b[1;32m    193\u001b[0m \u001b[39mif\u001b[39;00m \u001b[39mnot\u001b[39;00m \u001b[39misinstance\u001b[39m(converted, UnknownException):\n\u001b[1;32m    194\u001b[0m     \u001b[39m# Hide where the exception came from that shows a non-Pythonic\u001b[39;00m\n\u001b[1;32m    195\u001b[0m     \u001b[39m# JVM exception message.\u001b[39;00m\n\u001b[0;32m--> 196\u001b[0m     \u001b[39mraise\u001b[39;00m converted \u001b[39mfrom\u001b[39;00m \u001b[39mNone\u001b[39m\n\u001b[1;32m    197\u001b[0m \u001b[39melse\u001b[39;00m:\n\u001b[1;32m    198\u001b[0m     \u001b[39mraise\u001b[39;00m\n",
      "\u001b[0;31mAnalysisException\u001b[0m: Path does not exist: file:/mnt/c/Users/Eesha/Desktop/GitHub/project2/generic-buy-now-pay-later-project-group-35/data/curated/profit_merch_predictions.parquet"
     ]
    }
   ],
   "source": [
    "dfp = spark.read.parquet(\"../data/curated/profit_merch_predictions.parquet\").toPandas()\n",
    "print(dfp)\n",
    "print(mean_absolute_error(dfp[\"monthly_transactions\"],  dfp[\"prediction\"]))"
   ]
  },
  {
   "cell_type": "code",
   "execution_count": null,
   "id": "84ba9413-809e-4336-be46-619c13b9634e",
   "metadata": {},
   "outputs": [],
   "source": [
    "dfp = pd.read.parquet(\"../data/curated/medium_customers_predictions.parquet\").toPandas()\n",
    "print(dfp)\n",
    "print(mean_absolute_error(dfp[\"monthly_transactions\"],  dfp[\"prediction\"]))"
   ]
  },
  {
   "cell_type": "markdown",
   "id": "6ef90e0a-7e82-4ffc-a9d1-15dfc846a26c",
   "metadata": {},
   "source": [
    "This leaves the important question of how many months should we use to predict the next month’s value? On one hand, having more lags means a smaller sample size of months to build our model on, as for example, the month of February 2021 doesn’t have any data from a previous month to use as a feature, meaning it is of no use to us. And so the more lags we add, the more months we discard. However, on the other hand, more lags means our model can more accurately predict certain trends over time. Extended analysis (see appropriate notebooks for further analysis) determined that for a large majority of merchants, two lags was seen as being the best of both worlds."
   ]
  },
  {
   "cell_type": "markdown",
   "id": "bf6f0d50",
   "metadata": {},
   "source": [
    "### Results"
   ]
  },
  {
   "cell_type": "markdown",
   "id": "f7033447",
   "metadata": {},
   "source": [
    "#### Initial Ranking System"
   ]
  },
  {
   "cell_type": "markdown",
   "id": "060b1913",
   "metadata": {},
   "source": [
    "Ranking System uses the following features:\n",
    "- future predictions for transactions per merchant per month\n",
    "- future predictions for profit per merchant per month\n",
    "- future predictions for customers within revenue range \\\\$50k-\\\\$75k per month\n",
    "- population (quartiles) of young adults and middle aged adults based on postcodes of consumers"
   ]
  },
  {
   "cell_type": "code",
   "execution_count": 23,
   "id": "fe109f70",
   "metadata": {},
   "outputs": [],
   "source": [
    "# change this when above code is working\n",
    "\n",
    "future_trans_sdf = spark.read.parquet(\"../data/curated/futuretrans.parquet/\")\n",
    "future_profit_sdf = spark.read.parquet(\"../data/curated/futureprofit.parquet/\")\n",
    "future_mcustomers_sdf = spark.read.parquet(\"../data/curated/futuremcustomers.parquet/\")\n",
    "merch_pop = spark.read.parquet(\"../data/curated/merch_pop.parquet/\")"
   ]
  },
  {
   "cell_type": "markdown",
   "id": "84f2e503",
   "metadata": {},
   "source": [
    "Create a pandas dataframe to store points for each merchant, with total points initialized to zero."
   ]
  },
  {
   "cell_type": "code",
   "execution_count": 24,
   "id": "92f02eac",
   "metadata": {},
   "outputs": [
    {
     "data": {
      "text/html": [
       "<div>\n",
       "<style scoped>\n",
       "    .dataframe tbody tr th:only-of-type {\n",
       "        vertical-align: middle;\n",
       "    }\n",
       "\n",
       "    .dataframe tbody tr th {\n",
       "        vertical-align: top;\n",
       "    }\n",
       "\n",
       "    .dataframe thead th {\n",
       "        text-align: right;\n",
       "    }\n",
       "</style>\n",
       "<table border=\"1\" class=\"dataframe\">\n",
       "  <thead>\n",
       "    <tr style=\"text-align: right;\">\n",
       "      <th></th>\n",
       "      <th>merchant_abn</th>\n",
       "      <th>total_points</th>\n",
       "      <th>pop_points</th>\n",
       "      <th>trans_points</th>\n",
       "      <th>profit_points</th>\n",
       "      <th>mcust_points</th>\n",
       "    </tr>\n",
       "  </thead>\n",
       "  <tbody>\n",
       "    <tr>\n",
       "      <th>0</th>\n",
       "      <td>10023283211</td>\n",
       "      <td>1</td>\n",
       "      <td>0</td>\n",
       "      <td>0</td>\n",
       "      <td>0</td>\n",
       "      <td>0</td>\n",
       "    </tr>\n",
       "    <tr>\n",
       "      <th>1</th>\n",
       "      <td>10142254217</td>\n",
       "      <td>1</td>\n",
       "      <td>0</td>\n",
       "      <td>0</td>\n",
       "      <td>0</td>\n",
       "      <td>0</td>\n",
       "    </tr>\n",
       "    <tr>\n",
       "      <th>2</th>\n",
       "      <td>10165489824</td>\n",
       "      <td>1</td>\n",
       "      <td>0</td>\n",
       "      <td>0</td>\n",
       "      <td>0</td>\n",
       "      <td>0</td>\n",
       "    </tr>\n",
       "    <tr>\n",
       "      <th>3</th>\n",
       "      <td>10187291046</td>\n",
       "      <td>1</td>\n",
       "      <td>0</td>\n",
       "      <td>0</td>\n",
       "      <td>0</td>\n",
       "      <td>0</td>\n",
       "    </tr>\n",
       "    <tr>\n",
       "      <th>4</th>\n",
       "      <td>10192359162</td>\n",
       "      <td>1</td>\n",
       "      <td>0</td>\n",
       "      <td>0</td>\n",
       "      <td>0</td>\n",
       "      <td>0</td>\n",
       "    </tr>\n",
       "    <tr>\n",
       "      <th>...</th>\n",
       "      <td>...</td>\n",
       "      <td>...</td>\n",
       "      <td>...</td>\n",
       "      <td>...</td>\n",
       "      <td>...</td>\n",
       "      <td>...</td>\n",
       "    </tr>\n",
       "    <tr>\n",
       "      <th>4013</th>\n",
       "      <td>99938978285</td>\n",
       "      <td>1</td>\n",
       "      <td>0</td>\n",
       "      <td>0</td>\n",
       "      <td>0</td>\n",
       "      <td>0</td>\n",
       "    </tr>\n",
       "    <tr>\n",
       "      <th>4014</th>\n",
       "      <td>99974311662</td>\n",
       "      <td>1</td>\n",
       "      <td>0</td>\n",
       "      <td>0</td>\n",
       "      <td>0</td>\n",
       "      <td>0</td>\n",
       "    </tr>\n",
       "    <tr>\n",
       "      <th>4015</th>\n",
       "      <td>99976658299</td>\n",
       "      <td>1</td>\n",
       "      <td>0</td>\n",
       "      <td>0</td>\n",
       "      <td>0</td>\n",
       "      <td>0</td>\n",
       "    </tr>\n",
       "    <tr>\n",
       "      <th>4016</th>\n",
       "      <td>99987905597</td>\n",
       "      <td>1</td>\n",
       "      <td>0</td>\n",
       "      <td>0</td>\n",
       "      <td>0</td>\n",
       "      <td>0</td>\n",
       "    </tr>\n",
       "    <tr>\n",
       "      <th>4017</th>\n",
       "      <td>99990536339</td>\n",
       "      <td>1</td>\n",
       "      <td>0</td>\n",
       "      <td>0</td>\n",
       "      <td>0</td>\n",
       "      <td>0</td>\n",
       "    </tr>\n",
       "  </tbody>\n",
       "</table>\n",
       "<p>4018 rows × 6 columns</p>\n",
       "</div>"
      ],
      "text/plain": [
       "      merchant_abn  total_points  pop_points  trans_points  profit_points  \\\n",
       "0      10023283211             1           0             0              0   \n",
       "1      10142254217             1           0             0              0   \n",
       "2      10165489824             1           0             0              0   \n",
       "3      10187291046             1           0             0              0   \n",
       "4      10192359162             1           0             0              0   \n",
       "...            ...           ...         ...           ...            ...   \n",
       "4013   99938978285             1           0             0              0   \n",
       "4014   99974311662             1           0             0              0   \n",
       "4015   99976658299             1           0             0              0   \n",
       "4016   99987905597             1           0             0              0   \n",
       "4017   99990536339             1           0             0              0   \n",
       "\n",
       "      mcust_points  \n",
       "0                0  \n",
       "1                0  \n",
       "2                0  \n",
       "3                0  \n",
       "4                0  \n",
       "...            ...  \n",
       "4013             0  \n",
       "4014             0  \n",
       "4015             0  \n",
       "4016             0  \n",
       "4017             0  \n",
       "\n",
       "[4018 rows x 6 columns]"
      ]
     },
     "execution_count": 24,
     "metadata": {},
     "output_type": "execute_result"
    }
   ],
   "source": [
    "merchants_rank = future_trans_sdf \\\n",
    "    .select('merchant_abn') \\\n",
    "    .distinct() \\\n",
    "    .withColumns({\n",
    "        'total_points': lit(1),\n",
    "        'pop_points': lit(0),\n",
    "        'trans_points': lit(0),\n",
    "        'profit_points': lit(0),\n",
    "        'mcust_points': lit(0)\n",
    "    }) \\\n",
    "    .orderBy(\"merchant_abn\") \\\n",
    "    .toPandas()\n",
    "\n",
    "merchants_rank"
   ]
  },
  {
   "cell_type": "markdown",
   "id": "2f234a4d",
   "metadata": {},
   "source": [
    "Have 4018 distinct merchants, need to select top 100 merchants\n",
    "\n",
    "Idea:\n",
    "- all merchants have initial points 1\n",
    "- the more the number of points, the higher/better the rank will be\n",
    "- points given based on sorted positioning within the features and importance of the feature (for transaction, profit, and mcustomers)\n",
    "- award 0.125 points to merchants having a relatively large young adult and middle age population (external research) <br>\n",
    "with large meaning the populations are above the lower quartile (not group 1 - see notebook 4.4)\n",
    "- each feature has a weight to assign importance, with all weights summing to 1"
   ]
  },
  {
   "cell_type": "code",
   "execution_count": 25,
   "id": "db05669a",
   "metadata": {},
   "outputs": [],
   "source": [
    "WEIGHT_POP = 0.125\n",
    "WEIGHT_TRANS = 0.375\n",
    "WEIGHT_PROFIT = 0.375\n",
    "WEIGHT_MCUSTOMERS = 0.125"
   ]
  },
  {
   "cell_type": "markdown",
   "id": "17e4ee54",
   "metadata": {},
   "source": [
    "#### Population points"
   ]
  },
  {
   "cell_type": "code",
   "execution_count": 26,
   "id": "aacb0a6f",
   "metadata": {},
   "outputs": [],
   "source": [
    "w = Window.partitionBy('month')\n",
    "\n",
    "merch_pop_mod = merch_pop \\\n",
    "    .drop(*(\"total_pop\", \"under10_pop\", \"adolsc_pop\", \"old_pop\")) \\\n",
    "    .withColumn(\n",
    "        \"points\",\n",
    "        when(\n",
    "            (col(\"yng_adult_pop\") != 1) &\n",
    "            (col(\"mid_age_pop\") != 1),\n",
    "            lit(0.125)\n",
    "        ).otherwise(lit(0))\n",
    "    ) \\\n",
    "    .drop(*(\"yng_adult_pop\", \"mid_age_pop\")) \\\n",
    "    .orderBy(\"merchant_abn\")\n",
    "\n",
    "merch_pop_mod_df = merch_pop_mod.toPandas()"
   ]
  },
  {
   "cell_type": "code",
   "execution_count": 27,
   "id": "f6fea9db",
   "metadata": {},
   "outputs": [],
   "source": [
    "# add new points to existing points\n",
    "merchants_rank[\"total_points\"] = merchants_rank[\"total_points\"] + merch_pop_mod_df[\"points\"]\n",
    "merchants_rank[\"pop_points\"] = merch_pop_mod_df[\"points\"]"
   ]
  },
  {
   "cell_type": "markdown",
   "id": "919c1caa",
   "metadata": {},
   "source": [
    "#### Transaction Points"
   ]
  },
  {
   "cell_type": "markdown",
   "id": "a246afe4",
   "metadata": {},
   "source": [
    "For each month, order the merchants by increasing order of their total transactions\n",
    "(merchant with lowest number of transactions for that month will be at the top)"
   ]
  },
  {
   "cell_type": "code",
   "execution_count": 28,
   "id": "81d3f801",
   "metadata": {},
   "outputs": [
    {
     "name": "stderr",
     "output_type": "stream",
     "text": [
      "                                                                                \r"
     ]
    }
   ],
   "source": [
    "# had to change 'total_transaction' to 'prediction'\n",
    "ordered_ft_pd = future_trans_sdf \\\n",
    "    .orderBy(asc(\"month\"), asc(\"prediction\")) \\\n",
    "    .drop(\"year\") \\\n",
    "    .toPandas()"
   ]
  },
  {
   "cell_type": "markdown",
   "id": "dd8dd3ec",
   "metadata": {},
   "source": [
    "Note for below that `groupby` preserves ordering within each group"
   ]
  },
  {
   "cell_type": "code",
   "execution_count": 29,
   "id": "7694cc9c",
   "metadata": {},
   "outputs": [],
   "source": [
    "merch_abns = list(merchants_rank[\"merchant_abn\"])\n",
    "\n",
    "MONTHS = 12\n",
    "for i in range(1, MONTHS+1):\n",
    "    new_points = []\n",
    "    \n",
    "    month_data = ordered_ft_pd.groupby(\"month\").get_group(i)\n",
    "    month_data = pd.DataFrame(month_data.reset_index().drop(columns=\"index\"))\n",
    "    \n",
    "    for abn in merch_abns:\n",
    "        try:\n",
    "            # the larger the index, the more transactions the merchant will have (ordered data)\n",
    "            # thus more points awarded\n",
    "            points = np.round(WEIGHT_TRANS*list(month_data.index[month_data[\"merchant_abn\"] == abn])[0], 3)\n",
    "        except IndexError:\n",
    "            # have no data for the current abn\n",
    "            points = 0\n",
    "\n",
    "        new_points.append(points)\n",
    "\n",
    "    merchants_rank[\"total_points\"] = merchants_rank[\"total_points\"] + new_points\n",
    "    merchants_rank[\"trans_points\"] = merchants_rank[\"trans_points\"] + new_points\n"
   ]
  },
  {
   "cell_type": "markdown",
   "id": "eda65af9",
   "metadata": {},
   "source": [
    "Profit Points"
   ]
  },
  {
   "cell_type": "markdown",
   "id": "f3c4efc1",
   "metadata": {},
   "source": [
    "For each month, order the merchants by increasing order of their total profit."
   ]
  },
  {
   "cell_type": "code",
   "execution_count": 30,
   "id": "be03d8ab",
   "metadata": {},
   "outputs": [],
   "source": [
    "# had to change 'total_profit' to 'prediction'\n",
    "ordered_fp_pd = future_profit_sdf \\\n",
    "    .orderBy(asc(\"month\"), asc(\"prediction\")) \\\n",
    "    .drop(\"year\") \\\n",
    "    .toPandas()"
   ]
  },
  {
   "cell_type": "code",
   "execution_count": 31,
   "id": "9858e931",
   "metadata": {},
   "outputs": [],
   "source": [
    "for i in range(1, MONTHS+1):\n",
    "    new_points = []\n",
    "    \n",
    "    month_data = ordered_fp_pd.groupby(\"month\").get_group(i)\n",
    "    month_data = pd.DataFrame(month_data.reset_index().drop(columns=\"index\"))\n",
    "    \n",
    "    for abn in merch_abns:\n",
    "        try:\n",
    "            # the larger the index, the more profit the merchant will have (ordered data)\n",
    "            # thus more points awarded\n",
    "            points = np.round(WEIGHT_PROFIT*list(month_data.index[month_data[\"merchant_abn\"] == abn])[0], 3)\n",
    "        except IndexError:\n",
    "            # have no data for the current abn\n",
    "            points = 0\n",
    "\n",
    "        new_points.append(points)\n",
    "\n",
    "    merchants_rank[\"total_points\"] = merchants_rank[\"total_points\"] + new_points\n",
    "    merchants_rank[\"profit_points\"] = merchants_rank[\"profit_points\"] + new_points"
   ]
  },
  {
   "cell_type": "markdown",
   "id": "42ecea4f",
   "metadata": {},
   "source": [
    "#### Middle-income customer points"
   ]
  },
  {
   "cell_type": "markdown",
   "id": "04135c16",
   "metadata": {},
   "source": [
    "For each month, order the merchants by increasing order of their total predicted population of middle income earning customers"
   ]
  },
  {
   "cell_type": "code",
   "execution_count": 32,
   "id": "467c7a46",
   "metadata": {},
   "outputs": [],
   "source": [
    "ordered_fmc_pd = future_mcustomers_sdf \\\n",
    "    .orderBy(asc(\"month\"), asc(\"total_middle_customers\")) \\\n",
    "    .drop(\"year\") \\\n",
    "    .toPandas()"
   ]
  },
  {
   "cell_type": "code",
   "execution_count": 33,
   "id": "6335e94d",
   "metadata": {},
   "outputs": [],
   "source": [
    "for i in range(1, MONTHS+1):\n",
    "    new_points = []\n",
    "    \n",
    "    month_data = ordered_fmc_pd.groupby(\"month\").get_group(i)\n",
    "    month_data = pd.DataFrame(month_data.reset_index().drop(columns=\"index\"))\n",
    "    \n",
    "    for abn in merch_abns:\n",
    "        try:\n",
    "            # the larger the index, the more profit the merchant will have (ordered data)\n",
    "            # thus more points awarded\n",
    "            points = np.round(WEIGHT_MCUSTOMERS*list(month_data.index[month_data[\"merchant_abn\"] == abn])[0], 3)\n",
    "        except IndexError:\n",
    "            # have no data for the current abn\n",
    "            points = 0\n",
    "\n",
    "        new_points.append(points)\n",
    "\n",
    "    merchants_rank[\"total_points\"] = merchants_rank[\"total_points\"] + new_points\n",
    "    merchants_rank[\"mcust_points\"] = merchants_rank[\"mcust_points\"] + new_points"
   ]
  },
  {
   "cell_type": "code",
   "execution_count": 34,
   "id": "be139e7b",
   "metadata": {},
   "outputs": [
    {
     "data": {
      "text/html": [
       "<div>\n",
       "<style scoped>\n",
       "    .dataframe tbody tr th:only-of-type {\n",
       "        vertical-align: middle;\n",
       "    }\n",
       "\n",
       "    .dataframe tbody tr th {\n",
       "        vertical-align: top;\n",
       "    }\n",
       "\n",
       "    .dataframe thead th {\n",
       "        text-align: right;\n",
       "    }\n",
       "</style>\n",
       "<table border=\"1\" class=\"dataframe\">\n",
       "  <thead>\n",
       "    <tr style=\"text-align: right;\">\n",
       "      <th></th>\n",
       "      <th>merchant_abn</th>\n",
       "      <th>total_points</th>\n",
       "      <th>pop_points</th>\n",
       "      <th>trans_points</th>\n",
       "      <th>profit_points</th>\n",
       "      <th>mcust_points</th>\n",
       "    </tr>\n",
       "  </thead>\n",
       "  <tbody>\n",
       "    <tr>\n",
       "      <th>0</th>\n",
       "      <td>10023283211</td>\n",
       "      <td>209400.625</td>\n",
       "      <td>0.000</td>\n",
       "      <td>204435.750</td>\n",
       "      <td>22.500</td>\n",
       "      <td>4941.375</td>\n",
       "    </tr>\n",
       "    <tr>\n",
       "      <th>1</th>\n",
       "      <td>10142254217</td>\n",
       "      <td>217235.500</td>\n",
       "      <td>0.000</td>\n",
       "      <td>204659.625</td>\n",
       "      <td>7754.625</td>\n",
       "      <td>4820.250</td>\n",
       "    </tr>\n",
       "    <tr>\n",
       "      <th>2</th>\n",
       "      <td>10165489824</td>\n",
       "      <td>70438.125</td>\n",
       "      <td>0.125</td>\n",
       "      <td>62230.125</td>\n",
       "      <td>8120.625</td>\n",
       "      <td>86.250</td>\n",
       "    </tr>\n",
       "    <tr>\n",
       "      <th>3</th>\n",
       "      <td>10187291046</td>\n",
       "      <td>215503.500</td>\n",
       "      <td>0.125</td>\n",
       "      <td>204883.125</td>\n",
       "      <td>7899.750</td>\n",
       "      <td>2719.500</td>\n",
       "    </tr>\n",
       "    <tr>\n",
       "      <th>4</th>\n",
       "      <td>10192359162</td>\n",
       "      <td>216103.750</td>\n",
       "      <td>0.125</td>\n",
       "      <td>204970.500</td>\n",
       "      <td>8050.875</td>\n",
       "      <td>3081.250</td>\n",
       "    </tr>\n",
       "    <tr>\n",
       "      <th>...</th>\n",
       "      <td>...</td>\n",
       "      <td>...</td>\n",
       "      <td>...</td>\n",
       "      <td>...</td>\n",
       "      <td>...</td>\n",
       "      <td>...</td>\n",
       "    </tr>\n",
       "    <tr>\n",
       "      <th>4013</th>\n",
       "      <td>99938978285</td>\n",
       "      <td>378976.125</td>\n",
       "      <td>0.000</td>\n",
       "      <td>358364.625</td>\n",
       "      <td>14802.750</td>\n",
       "      <td>5807.750</td>\n",
       "    </tr>\n",
       "    <tr>\n",
       "      <th>4014</th>\n",
       "      <td>99974311662</td>\n",
       "      <td>360546.250</td>\n",
       "      <td>0.000</td>\n",
       "      <td>341758.500</td>\n",
       "      <td>16876.875</td>\n",
       "      <td>1909.875</td>\n",
       "    </tr>\n",
       "    <tr>\n",
       "      <th>4015</th>\n",
       "      <td>99976658299</td>\n",
       "      <td>718030.250</td>\n",
       "      <td>0.125</td>\n",
       "      <td>358629.375</td>\n",
       "      <td>353523.000</td>\n",
       "      <td>5876.750</td>\n",
       "    </tr>\n",
       "    <tr>\n",
       "      <th>4016</th>\n",
       "      <td>99987905597</td>\n",
       "      <td>714725.625</td>\n",
       "      <td>0.125</td>\n",
       "      <td>358856.625</td>\n",
       "      <td>353780.625</td>\n",
       "      <td>2087.250</td>\n",
       "    </tr>\n",
       "    <tr>\n",
       "      <th>4017</th>\n",
       "      <td>99990536339</td>\n",
       "      <td>657492.750</td>\n",
       "      <td>0.125</td>\n",
       "      <td>323101.500</td>\n",
       "      <td>333680.625</td>\n",
       "      <td>709.500</td>\n",
       "    </tr>\n",
       "  </tbody>\n",
       "</table>\n",
       "<p>4018 rows × 6 columns</p>\n",
       "</div>"
      ],
      "text/plain": [
       "      merchant_abn  total_points  pop_points  trans_points  profit_points  \\\n",
       "0      10023283211    209400.625       0.000    204435.750         22.500   \n",
       "1      10142254217    217235.500       0.000    204659.625       7754.625   \n",
       "2      10165489824     70438.125       0.125     62230.125       8120.625   \n",
       "3      10187291046    215503.500       0.125    204883.125       7899.750   \n",
       "4      10192359162    216103.750       0.125    204970.500       8050.875   \n",
       "...            ...           ...         ...           ...            ...   \n",
       "4013   99938978285    378976.125       0.000    358364.625      14802.750   \n",
       "4014   99974311662    360546.250       0.000    341758.500      16876.875   \n",
       "4015   99976658299    718030.250       0.125    358629.375     353523.000   \n",
       "4016   99987905597    714725.625       0.125    358856.625     353780.625   \n",
       "4017   99990536339    657492.750       0.125    323101.500     333680.625   \n",
       "\n",
       "      mcust_points  \n",
       "0         4941.375  \n",
       "1         4820.250  \n",
       "2           86.250  \n",
       "3         2719.500  \n",
       "4         3081.250  \n",
       "...            ...  \n",
       "4013      5807.750  \n",
       "4014      1909.875  \n",
       "4015      5876.750  \n",
       "4016      2087.250  \n",
       "4017       709.500  \n",
       "\n",
       "[4018 rows x 6 columns]"
      ]
     },
     "execution_count": 34,
     "metadata": {},
     "output_type": "execute_result"
    }
   ],
   "source": [
    "merchants_rank"
   ]
  },
  {
   "cell_type": "markdown",
   "id": "a047024f",
   "metadata": {},
   "source": [
    "Get the top 100 merchants with rankings and associated data for each merchant."
   ]
  },
  {
   "cell_type": "code",
   "execution_count": 35,
   "id": "8a9a9dd0",
   "metadata": {},
   "outputs": [
    {
     "name": "stderr",
     "output_type": "stream",
     "text": [
      "                                                                                \r"
     ]
    },
    {
     "data": {
      "text/html": [
       "<table border='1'>\n",
       "<tr><th>merchant_abn</th><th>company_name</th><th>tags</th><th>take_rate</th><th>revenue_band</th><th>total_points</th><th>pop_points</th><th>trans_points</th><th>profit_points</th><th>mcust_points</th><th>rank</th></tr>\n",
       "<tr><td>11215815177</td><td>Scelerisque Scele...</td><td>tent and awning s...</td><td> 4.77</td><td> b</td><td>796652.5</td><td>0.0</td><td>367682.25</td><td>424727.625</td><td>4241.625</td><td>1</td></tr>\n",
       "<tr><td>11237511112</td><td>Magna Institute</td><td>opticians, optica...</td><td> 2.11</td><td> c</td><td>796632.0</td><td>0.125</td><td>367879.875</td><td>422894.25</td><td>5856.75</td><td>2</td></tr>\n",
       "<tr><td>11243046390</td><td>Ornare Placerat F...</td><td>books, periodical...</td><td> 1.94</td><td> c</td><td>794245.125</td><td>0.125</td><td>368107.125</td><td>423107.25</td><td>3029.625</td><td>3</td></tr>\n",
       "<tr><td>11208869091</td><td>Cursus Et Eros LLP</td><td>hobby, toy and ga...</td><td> 6.48</td><td> a</td><td>794125.25</td><td>0.0</td><td>367653.75</td><td>424771.5</td><td>1699.0</td><td>4</td></tr>\n",
       "<tr><td>11121775571</td><td>Egestas Nunc Asso...</td><td>digital goods: bo...</td><td> 6.58</td><td> a</td><td>778330.875</td><td>0.0</td><td>366961.5</td><td>405528.375</td><td>5840.0</td><td>5</td></tr>\n",
       "</table>\n"
      ],
      "text/plain": [
       "+------------+--------------------+--------------------+---------+------------+------------+----------+------------+-------------+------------+----+\n",
       "|merchant_abn|        company_name|                tags|take_rate|revenue_band|total_points|pop_points|trans_points|profit_points|mcust_points|rank|\n",
       "+------------+--------------------+--------------------+---------+------------+------------+----------+------------+-------------+------------+----+\n",
       "| 11215815177|Scelerisque Scele...|tent and awning s...|     4.77|           b|    796652.5|       0.0|   367682.25|   424727.625|    4241.625|   1|\n",
       "| 11237511112|     Magna Institute|opticians, optica...|     2.11|           c|    796632.0|     0.125|  367879.875|    422894.25|     5856.75|   2|\n",
       "| 11243046390|Ornare Placerat F...|books, periodical...|     1.94|           c|  794245.125|     0.125|  368107.125|    423107.25|    3029.625|   3|\n",
       "| 11208869091|  Cursus Et Eros LLP|hobby, toy and ga...|     6.48|           a|   794125.25|       0.0|   367653.75|     424771.5|      1699.0|   4|\n",
       "| 11121775571|Egestas Nunc Asso...|digital goods: bo...|     6.58|           a|  778330.875|       0.0|    366961.5|   405528.375|      5840.0|   5|\n",
       "+------------+--------------------+--------------------+---------+------------+------------+----------+------------+-------------+------------+----+"
      ]
     },
     "execution_count": 35,
     "metadata": {},
     "output_type": "execute_result"
    }
   ],
   "source": [
    "merchants_sdf = spark.read.parquet(\"../data/curated/merchantdf.parquet/\")\n",
    "rankings = spark \\\n",
    "    .createDataFrame(merchants_rank.iloc[1:101,]) \\\n",
    "    .sort(desc(\"total_points\"))\n",
    "\n",
    "top100 = merchants_sdf \\\n",
    "    .join(rankings, \"merchant_abn\") \\\n",
    "        .orderBy(desc(\"total_points\"))\n",
    "        \n",
    "# assign ranks\n",
    "top100 = top100 \\\n",
    "    .select(\"*\") \\\n",
    "    .withColumn(\"rank\", monotonically_increasing_id())\n",
    "\n",
    "top100 = top100.withColumn(\n",
    "    \"rank\",\n",
    "    col(\"rank\") + lit(1)\n",
    ")\n",
    "\n",
    "top100.limit(5)"
   ]
  },
  {
   "cell_type": "markdown",
   "id": "af99a7e0",
   "metadata": {},
   "source": [
    "Observe frequency of tags"
   ]
  },
  {
   "cell_type": "code",
   "execution_count": 36,
   "id": "c58b4ec6",
   "metadata": {},
   "outputs": [
    {
     "data": {
      "text/plain": [
       "Text(0.5, 0, 'Frequency')"
      ]
     },
     "execution_count": 36,
     "metadata": {},
     "output_type": "execute_result"
    },
    {
     "data": {
      "image/png": "[encoded data removed]",
      "text/plain": [
       "<Figure size 640x480 with 1 Axes>"
      ]
     },
     "metadata": {},
     "output_type": "display_data"
    }
   ],
   "source": [
    "tags_count = top100.groupBy(\"tags\") \\\n",
    "    .agg(\n",
    "        count(\"merchant_abn\").alias(\"count\")\n",
    "    ) \\\n",
    "    .orderBy(desc(\"count\")) \\\n",
    "    .toPandas()\n",
    "\n",
    "plt.barh(tags_count[\"tags\"], tags_count[\"count\"])\n",
    "plt.xlabel(\"Frequency\")"
   ]
  },
  {
   "cell_type": "markdown",
   "id": "7fb78305",
   "metadata": {},
   "source": [
    "#### Segmented Ranking"
   ]
  },
  {
   "cell_type": "markdown",
   "id": "a8062776",
   "metadata": {},
   "source": [
    "Konw that we have 25 unique tags."
   ]
  },
  {
   "cell_type": "markdown",
   "id": "29cd8c79",
   "metadata": {},
   "source": [
    "Assign tags to categories as follows:\n",
    "\n",
    "**Hobbies: books, movies, music, and games**\n",
    "- artist supply and craft shops\n",
    "- books, periodicals, and newspapers\n",
    "- digital goods: books, movies, music\n",
    "- hobby, toy and game shops\n",
    "- music shops - musical instruments, pianos, and sheet music\n",
    "\n",
    "**Home and Office**\n",
    "- cable, satellite, and other pay television and radio services\n",
    "- computer programming , data processing, and integrated systems design services\n",
    "- computers, computer peripheral equipment, and software\n",
    "- equipment, tool, furniture, and appliance rent al and leasing\n",
    "- furniture, home furnishings and equipment shops, and manufacturers, except appliances\n",
    "- stationery, office supplies and printing and writing paper\n",
    "- telecom\n",
    "\n",
    "**Outdoors**\n",
    "- bicycle shops - sales and service\n",
    "- florists supplies, nursery stock, and flowers\n",
    "- lawn and garden supply outlets, including nurseries\n",
    "- motor vehicle supplies and new parts\n",
    "- tent and awning shops\n",
    "\n",
    "**Self-care and Fashion**\n",
    "- health and beauty spas\n",
    "- jewelry, watch, clock, and silverware shops\n",
    "- opticians, optical goods, and eyeglasses\n",
    "- shoe shops\n",
    "- watch, clock, and jewelry repair shops\n",
    "\n",
    "**Other**\n",
    "- antique shops - sales, repairs, and restoration services\n",
    "- art dealers and galleries\n",
    "- gift, card, novelty, and souvenir shops"
   ]
  },
  {
   "cell_type": "code",
   "execution_count": 37,
   "id": "cc431c32",
   "metadata": {},
   "outputs": [],
   "source": [
    "# store first word of every tag (know that each tag begins with a unique word)\n",
    "segments_dic = {\n",
    "    \"Hobbies\": [\"artist\", \"books\", \"digital\", \"hobby\", \"music\"],\n",
    "    \"Home and Office\": [\"cable\", \"computer\", \"computers\", \"equipment\", \"furniture\", \"stationery\", \"telecom\"],\n",
    "    \"Outdoor\": [\"bicycle\", \"florists\", \"lawn\", \"motor\", \"tent\"],\n",
    "    \"Self-care and Fashion\": [\"health\", \"jewelry\", \"opticians\", \"shoe\", \"watch\"],\n",
    "    \"Other\": [\"antique\", \"art\", \"gift\"]\n",
    "}"
   ]
  },
  {
   "cell_type": "code",
   "execution_count": 38,
   "id": "f6356727",
   "metadata": {},
   "outputs": [],
   "source": [
    "# convert to dataframe so can iterate rows\n",
    "merchants_df = top100.toPandas().set_index('merchant_abn')\n",
    "merchants_df[\"segment\"] = np.nan"
   ]
  },
  {
   "cell_type": "markdown",
   "id": "5128b88d",
   "metadata": {},
   "source": [
    "Assign each merchant to a segment"
   ]
  },
  {
   "cell_type": "code",
   "execution_count": 39,
   "id": "387c90b0",
   "metadata": {},
   "outputs": [],
   "source": [
    "for abn in merchants_df.index:\n",
    "    tag = merchants_df._get_value(abn, \"tags\")\n",
    "    first_word = tag.split(' ', 1)[0]\n",
    "    first_word = re.sub(r'[^\\w\\s]', '', first_word)\n",
    "\n",
    "    merch_segment = np.nan\n",
    "    for segment, tags in segments_dic.items():\n",
    "        if (first_word in tags):\n",
    "            merch_segment = segment\n",
    "    \n",
    "    merchants_df.loc[abn, \"segment\"] = merch_segment\n",
    "\n",
    "# remove merchant_abn as index col\n",
    "merchants_df.reset_index(drop=False,inplace=True)\n",
    "\n",
    "# convert back to spark dataframe\n",
    "merchants_sdf = spark.createDataFrame(merchants_df)\n"
   ]
  },
  {
   "cell_type": "markdown",
   "id": "3b6ddd31",
   "metadata": {},
   "source": [
    "Join merchants and rankings obtained previously"
   ]
  },
  {
   "cell_type": "code",
   "execution_count": 40,
   "id": "5e6d5c53",
   "metadata": {},
   "outputs": [
    {
     "data": {
      "text/html": [
       "<table border='1'>\n",
       "<tr><th>merchant_abn</th><th>company_name</th><th>tags</th><th>take_rate</th><th>revenue_band</th><th>total_points</th><th>pop_points</th><th>trans_points</th><th>profit_points</th><th>mcust_points</th><th>rank</th><th>segment</th><th>company_name</th><th>tags</th><th>take_rate</th><th>revenue_band</th><th>total_points</th><th>pop_points</th><th>trans_points</th><th>profit_points</th><th>mcust_points</th><th>rank</th></tr>\n",
       "<tr><td>11215815177</td><td>Scelerisque Scele...</td><td>tent and awning s...</td><td> 4.77</td><td> b</td><td>796652.5</td><td>0.0</td><td>367682.25</td><td>424727.625</td><td>4241.625</td><td>1</td><td>Outdoor</td><td>Scelerisque Scele...</td><td>tent and awning s...</td><td> 4.77</td><td> b</td><td>796652.5</td><td>0.0</td><td>367682.25</td><td>424727.625</td><td>4241.625</td><td>1</td></tr>\n",
       "<tr><td>11237511112</td><td>Magna Institute</td><td>opticians, optica...</td><td> 2.11</td><td> c</td><td>796632.0</td><td>0.125</td><td>367879.875</td><td>422894.25</td><td>5856.75</td><td>2</td><td>Self-care and Fas...</td><td>Magna Institute</td><td>opticians, optica...</td><td> 2.11</td><td> c</td><td>796632.0</td><td>0.125</td><td>367879.875</td><td>422894.25</td><td>5856.75</td><td>2</td></tr>\n",
       "<tr><td>11243046390</td><td>Ornare Placerat F...</td><td>books, periodical...</td><td> 1.94</td><td> c</td><td>794245.125</td><td>0.125</td><td>368107.125</td><td>423107.25</td><td>3029.625</td><td>3</td><td>Hobbies</td><td>Ornare Placerat F...</td><td>books, periodical...</td><td> 1.94</td><td> c</td><td>794245.125</td><td>0.125</td><td>368107.125</td><td>423107.25</td><td>3029.625</td><td>3</td></tr>\n",
       "<tr><td>11208869091</td><td>Cursus Et Eros LLP</td><td>hobby, toy and ga...</td><td> 6.48</td><td> a</td><td>794125.25</td><td>0.0</td><td>367653.75</td><td>424771.5</td><td>1699.0</td><td>4</td><td>Hobbies</td><td>Cursus Et Eros LLP</td><td>hobby, toy and ga...</td><td> 6.48</td><td> a</td><td>794125.25</td><td>0.0</td><td>367653.75</td><td>424771.5</td><td>1699.0</td><td>4</td></tr>\n",
       "<tr><td>11121775571</td><td>Egestas Nunc Asso...</td><td>digital goods: bo...</td><td> 6.58</td><td> a</td><td>778330.875</td><td>0.0</td><td>366961.5</td><td>405528.375</td><td>5840.0</td><td>5</td><td>Hobbies</td><td>Egestas Nunc Asso...</td><td>digital goods: bo...</td><td> 6.58</td><td> a</td><td>778330.875</td><td>0.0</td><td>366961.5</td><td>405528.375</td><td>5840.0</td><td>5</td></tr>\n",
       "</table>\n"
      ],
      "text/plain": [
       "+------------+--------------------+--------------------+---------+------------+------------+----------+------------+-------------+------------+----+--------------------+--------------------+--------------------+---------+------------+------------+----------+------------+-------------+------------+----+\n",
       "|merchant_abn|        company_name|                tags|take_rate|revenue_band|total_points|pop_points|trans_points|profit_points|mcust_points|rank|             segment|        company_name|                tags|take_rate|revenue_band|total_points|pop_points|trans_points|profit_points|mcust_points|rank|\n",
       "+------------+--------------------+--------------------+---------+------------+------------+----------+------------+-------------+------------+----+--------------------+--------------------+--------------------+---------+------------+------------+----------+------------+-------------+------------+----+\n",
       "| 11215815177|Scelerisque Scele...|tent and awning s...|     4.77|           b|    796652.5|       0.0|   367682.25|   424727.625|    4241.625|   1|             Outdoor|Scelerisque Scele...|tent and awning s...|     4.77|           b|    796652.5|       0.0|   367682.25|   424727.625|    4241.625|   1|\n",
       "| 11237511112|     Magna Institute|opticians, optica...|     2.11|           c|    796632.0|     0.125|  367879.875|    422894.25|     5856.75|   2|Self-care and Fas...|     Magna Institute|opticians, optica...|     2.11|           c|    796632.0|     0.125|  367879.875|    422894.25|     5856.75|   2|\n",
       "| 11243046390|Ornare Placerat F...|books, periodical...|     1.94|           c|  794245.125|     0.125|  368107.125|    423107.25|    3029.625|   3|             Hobbies|Ornare Placerat F...|books, periodical...|     1.94|           c|  794245.125|     0.125|  368107.125|    423107.25|    3029.625|   3|\n",
       "| 11208869091|  Cursus Et Eros LLP|hobby, toy and ga...|     6.48|           a|   794125.25|       0.0|   367653.75|     424771.5|      1699.0|   4|             Hobbies|  Cursus Et Eros LLP|hobby, toy and ga...|     6.48|           a|   794125.25|       0.0|   367653.75|     424771.5|      1699.0|   4|\n",
       "| 11121775571|Egestas Nunc Asso...|digital goods: bo...|     6.58|           a|  778330.875|       0.0|    366961.5|   405528.375|      5840.0|   5|             Hobbies|Egestas Nunc Asso...|digital goods: bo...|     6.58|           a|  778330.875|       0.0|    366961.5|   405528.375|      5840.0|   5|\n",
       "+------------+--------------------+--------------------+---------+------------+------------+----------+------------+-------------+------------+----+--------------------+--------------------+--------------------+---------+------------+------------+----------+------------+-------------+------------+----+"
      ]
     },
     "execution_count": 40,
     "metadata": {},
     "output_type": "execute_result"
    }
   ],
   "source": [
    "top100_seg = merchants_sdf.join(top100, \"merchant_abn\")\n",
    "top100_seg.limit(5)"
   ]
  },
  {
   "cell_type": "code",
   "execution_count": null,
   "id": "3d197e60",
   "metadata": {},
   "outputs": [
    {
     "ename": "AnalysisException",
     "evalue": "Reference 'total_points' is ambiguous, could be: total_points, total_points.",
     "output_type": "error",
     "traceback": [
      "\u001b[0;31m---------------------------------------------------------------------------\u001b[0m",
      "\u001b[0;31mAnalysisException\u001b[0m                         Traceback (most recent call last)",
      "\u001b[1;32m/mnt/c/Users/Eesha/Desktop/GitHub/project2/generic-buy-now-pay-later-project-group-35/notebooks/8-Summary.ipynb Cell 83\u001b[0m in \u001b[0;36m<cell line: 1>\u001b[0;34m()\u001b[0m\n\u001b[0;32m----> <a href='vscode-notebook-cell://wsl%2Bubuntu-20.04/mnt/c/Users/Eesha/Desktop/GitHub/project2/generic-buy-now-pay-later-project-group-35/notebooks/8-Summary.ipynb#Y154sdnNjb2RlLXJlbW90ZQ%3D%3D?line=0'>1</a>\u001b[0m w \u001b[39m=\u001b[39m Window\u001b[39m.\u001b[39mpartitionBy(top100_seg[\u001b[39m'\u001b[39m\u001b[39msegment\u001b[39m\u001b[39m'\u001b[39m])\u001b[39m.\u001b[39morderBy(top100_seg[\u001b[39m'\u001b[39;49m\u001b[39mtotal_points\u001b[39;49m\u001b[39m'\u001b[39;49m]\u001b[39m.\u001b[39mdesc())\n\u001b[1;32m      <a href='vscode-notebook-cell://wsl%2Bubuntu-20.04/mnt/c/Users/Eesha/Desktop/GitHub/project2/generic-buy-now-pay-later-project-group-35/notebooks/8-Summary.ipynb#Y154sdnNjb2RlLXJlbW90ZQ%3D%3D?line=2'>3</a>\u001b[0m seg_ranks \u001b[39m=\u001b[39m top100_seg \\\n\u001b[1;32m      <a href='vscode-notebook-cell://wsl%2Bubuntu-20.04/mnt/c/Users/Eesha/Desktop/GitHub/project2/generic-buy-now-pay-later-project-group-35/notebooks/8-Summary.ipynb#Y154sdnNjb2RlLXJlbW90ZQ%3D%3D?line=3'>4</a>\u001b[0m     \u001b[39m.\u001b[39mselect(\u001b[39m'\u001b[39m\u001b[39m*\u001b[39m\u001b[39m'\u001b[39m, rank()\u001b[39m.\u001b[39mover(w)\u001b[39m.\u001b[39malias(\u001b[39m'\u001b[39m\u001b[39mrank\u001b[39m\u001b[39m'\u001b[39m)) \\\n\u001b[1;32m      <a href='vscode-notebook-cell://wsl%2Bubuntu-20.04/mnt/c/Users/Eesha/Desktop/GitHub/project2/generic-buy-now-pay-later-project-group-35/notebooks/8-Summary.ipynb#Y154sdnNjb2RlLXJlbW90ZQ%3D%3D?line=4'>5</a>\u001b[0m     \u001b[39m.\u001b[39mfilter(col(\u001b[39m'\u001b[39m\u001b[39mrank\u001b[39m\u001b[39m'\u001b[39m) \u001b[39m<\u001b[39m\u001b[39m=\u001b[39m \u001b[39m10\u001b[39m)\n\u001b[1;32m      <a href='vscode-notebook-cell://wsl%2Bubuntu-20.04/mnt/c/Users/Eesha/Desktop/GitHub/project2/generic-buy-now-pay-later-project-group-35/notebooks/8-Summary.ipynb#Y154sdnNjb2RlLXJlbW90ZQ%3D%3D?line=6'>7</a>\u001b[0m \u001b[39mprint\u001b[39m(seg_ranks\u001b[39m.\u001b[39mcount())\n",
      "File \u001b[0;32m~/.local/lib/python3.8/site-packages/pyspark/sql/dataframe.py:1965\u001b[0m, in \u001b[0;36mDataFrame.__getitem__\u001b[0;34m(self, item)\u001b[0m\n\u001b[1;32m   1949\u001b[0m \u001b[39m\"\"\"Returns the column as a :class:`Column`.\u001b[39;00m\n\u001b[1;32m   1950\u001b[0m \n\u001b[1;32m   1951\u001b[0m \u001b[39m.. versionadded:: 1.3.0\u001b[39;00m\n\u001b[0;32m   (...)\u001b[0m\n\u001b[1;32m   1962\u001b[0m \u001b[39m[Row(age=5, name='Bob')]\u001b[39;00m\n\u001b[1;32m   1963\u001b[0m \u001b[39m\"\"\"\u001b[39;00m\n\u001b[1;32m   1964\u001b[0m \u001b[39mif\u001b[39;00m \u001b[39misinstance\u001b[39m(item, \u001b[39mstr\u001b[39m):\n\u001b[0;32m-> 1965\u001b[0m     jc \u001b[39m=\u001b[39m \u001b[39mself\u001b[39;49m\u001b[39m.\u001b[39;49m_jdf\u001b[39m.\u001b[39;49mapply(item)\n\u001b[1;32m   1966\u001b[0m     \u001b[39mreturn\u001b[39;00m Column(jc)\n\u001b[1;32m   1967\u001b[0m \u001b[39melif\u001b[39;00m \u001b[39misinstance\u001b[39m(item, Column):\n",
      "File \u001b[0;32m~/.local/lib/python3.8/site-packages/py4j/java_gateway.py:1321\u001b[0m, in \u001b[0;36mJavaMember.__call__\u001b[0;34m(self, *args)\u001b[0m\n\u001b[1;32m   1315\u001b[0m command \u001b[39m=\u001b[39m proto\u001b[39m.\u001b[39mCALL_COMMAND_NAME \u001b[39m+\u001b[39m\\\n\u001b[1;32m   1316\u001b[0m     \u001b[39mself\u001b[39m\u001b[39m.\u001b[39mcommand_header \u001b[39m+\u001b[39m\\\n\u001b[1;32m   1317\u001b[0m     args_command \u001b[39m+\u001b[39m\\\n\u001b[1;32m   1318\u001b[0m     proto\u001b[39m.\u001b[39mEND_COMMAND_PART\n\u001b[1;32m   1320\u001b[0m answer \u001b[39m=\u001b[39m \u001b[39mself\u001b[39m\u001b[39m.\u001b[39mgateway_client\u001b[39m.\u001b[39msend_command(command)\n\u001b[0;32m-> 1321\u001b[0m return_value \u001b[39m=\u001b[39m get_return_value(\n\u001b[1;32m   1322\u001b[0m     answer, \u001b[39mself\u001b[39;49m\u001b[39m.\u001b[39;49mgateway_client, \u001b[39mself\u001b[39;49m\u001b[39m.\u001b[39;49mtarget_id, \u001b[39mself\u001b[39;49m\u001b[39m.\u001b[39;49mname)\n\u001b[1;32m   1324\u001b[0m \u001b[39mfor\u001b[39;00m temp_arg \u001b[39min\u001b[39;00m temp_args:\n\u001b[1;32m   1325\u001b[0m     temp_arg\u001b[39m.\u001b[39m_detach()\n",
      "File \u001b[0;32m~/.local/lib/python3.8/site-packages/pyspark/sql/utils.py:196\u001b[0m, in \u001b[0;36mcapture_sql_exception.<locals>.deco\u001b[0;34m(*a, **kw)\u001b[0m\n\u001b[1;32m    192\u001b[0m converted \u001b[39m=\u001b[39m convert_exception(e\u001b[39m.\u001b[39mjava_exception)\n\u001b[1;32m    193\u001b[0m \u001b[39mif\u001b[39;00m \u001b[39mnot\u001b[39;00m \u001b[39misinstance\u001b[39m(converted, UnknownException):\n\u001b[1;32m    194\u001b[0m     \u001b[39m# Hide where the exception came from that shows a non-Pythonic\u001b[39;00m\n\u001b[1;32m    195\u001b[0m     \u001b[39m# JVM exception message.\u001b[39;00m\n\u001b[0;32m--> 196\u001b[0m     \u001b[39mraise\u001b[39;00m converted \u001b[39mfrom\u001b[39;00m \u001b[39mNone\u001b[39m\n\u001b[1;32m    197\u001b[0m \u001b[39melse\u001b[39;00m:\n\u001b[1;32m    198\u001b[0m     \u001b[39mraise\u001b[39;00m\n",
      "\u001b[0;31mAnalysisException\u001b[0m: Reference 'total_points' is ambiguous, could be: total_points, total_points."
     ]
    }
   ],
   "source": [
    "w = Window.partitionBy(top100_seg['segment']).orderBy(top100_seg['total_points'].desc())\n",
    "\n",
    "seg_ranks = top100_seg \\\n",
    "    .select('*', rank().over(w).alias('rank')) \\\n",
    "    .filter(col('rank') <= 10)\n",
    "\n",
    "print(seg_ranks.count())\n",
    "print(seg_ranks.limit(20))"
   ]
  },
  {
   "cell_type": "markdown",
   "id": "4195a33e",
   "metadata": {},
   "source": [
    "Observe frequency of tags for each segment"
   ]
  },
  {
   "cell_type": "code",
   "execution_count": null,
   "id": "5d505155",
   "metadata": {},
   "outputs": [],
   "source": [
    "seg_ranks_df = seg_ranks.toPandas()\n",
    "seg_ranks_grp = seg_ranks_df.groupby([\"segment\"])\n",
    "\n",
    "i = 0\n",
    "for segment in segments_dic.keys():\n",
    "    top10 = seg_ranks_grp.get_group(segment)\n",
    "    tags_count = dict(Counter(top10[\"tags\"]))\n",
    "    print(tags_count)\n",
    "\n",
    "    plt.figure(i)\n",
    "    plt.title(segment)\n",
    "    plt.barh(list(tags_count.keys()), list(tags_count.values()))\n",
    "    #plt.hist(top10[\"tags\"], orientation='horizontal')\n",
    "\n",
    "    i += 1\n"
   ]
  }
 ],
 "metadata": {
  "kernelspec": {
   "display_name": "Python 3 (ipykernel)",
   "language": "python",
   "name": "python3"
  },
  "language_info": {
   "codemirror_mode": {
    "name": "ipython",
    "version": 3
   },
   "file_extension": ".py",
   "mimetype": "text/x-python",
   "name": "python",
   "nbconvert_exporter": "python",
   "pygments_lexer": "ipython3",
   "version": "3.8.10"
  },
  "vscode": {
   "interpreter": {
    "hash": "916dbcbb3f70747c44a77c7bcd40155683ae19c65e1c03b4aa3499c5328201f1"
   }
  }
 },
 "nbformat": 4,
 "nbformat_minor": 5
}
