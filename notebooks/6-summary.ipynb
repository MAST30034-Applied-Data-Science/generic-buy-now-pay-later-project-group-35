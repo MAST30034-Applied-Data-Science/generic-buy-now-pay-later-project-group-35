{
 "cells": [
  {
   "cell_type": "code",
   "execution_count": 10,
   "id": "f935367d-cab0-4904-9bed-676c9eccd84b",
   "metadata": {
    "tags": []
   },
   "outputs": [],
   "source": [
    "from pyspark.sql import SparkSession\n",
    "from pyspark.sql.functions import * \n",
    "import matplotlib.pyplot as plt\n",
    "import pandas as pd\n",
    "import numpy as np\n",
    "from urllib.request import urlretrieve\n",
    "from owslib.wfs import WebFeatureService\n",
    "from dotenv import load_dotenv\n",
    "from pyspark.sql import functions as F\n",
    "from sklearn.metrics import mean_absolute_error\n",
    "import sklearn\n",
    "from pyspark.sql import Window\n",
    "from pyspark.sql.functions import monotonically_increasing_id\n",
    "import re\n",
    "from collections import Counter\n",
    "\n",
    "\n",
    "# Create a spark session\n",
    "spark = (\n",
    "    SparkSession.builder.appName(\"analysis\")\n",
    "    .config(\"spark.sql.repl.eagerEval.enabled\", True) \n",
    "    .config(\"spark.sql.parquet.cacheMetadata\", \"true\")\n",
    "    .config(\"spark.sql.session.timeZone\", \"Etc/UTC\")\n",
    "    .config(\"spark.driver.memory\", \"2g\")\n",
    "    .config(\"spark.executor.memory\", \"6g\")\n",
    "    .getOrCreate()\n",
    ")"
   ]
  },
  {
   "cell_type": "markdown",
   "id": "92d887e8",
   "metadata": {},
   "source": [
    "# Summary"
   ]
  },
  {
   "cell_type": "markdown",
   "id": "93a71769",
   "metadata": {},
   "source": [
    "### Introduction"
   ]
  },
  {
   "cell_type": "markdown",
   "id": "7afb12ee",
   "metadata": {},
   "source": [
    "**Team Members:** Aryan Shahi, Jai Bretherton, Eesha Syed, Minma Herath\n",
    "\n",
    "The goal of this project and repository was to select the 100 most profitable merchants to onboard for the new pay in 5 installments plan."
   ]
  },
  {
   "cell_type": "markdown",
   "id": "1e197b08",
   "metadata": {},
   "source": [
    "### Datasets"
   ]
  },
  {
   "cell_type": "markdown",
   "id": "69b0a0e8",
   "metadata": {},
   "source": [
    "**Given Data:** It was identified that the transaction dataset provided would be the primary table of interest, with all other tables then being joined to this dataset."
   ]
  },
  {
   "cell_type": "code",
   "execution_count": 11,
   "id": "41b1dd21",
   "metadata": {},
   "outputs": [],
   "source": [
    "merchantdf = spark.read.parquet(\"../data/curated/merchantdf.parquet/\")\n",
    "userdf = spark.read.parquet(\"../data/tables/consumer_user_details.parquet\")\n",
    "transactiondf = spark.read.parquet(\"../data/curated/transactiondf.parquet/\")\n",
    "consumerdf = spark.read.option(\"header\",\"true\").csv(\"../data/tables/tbl_consumer.csv\", sep=\"|\")"
   ]
  },
  {
   "cell_type": "code",
   "execution_count": 12,
   "id": "03d943ea",
   "metadata": {},
   "outputs": [
    {
     "data": {
      "text/html": [
       "<table border='1'>\n",
       "<tr><th>company_name</th><th>tags</th><th>merchant_abn</th><th>take_rate</th><th>revenue_band</th></tr>\n",
       "<tr><td>Felis Limited</td><td>furniture, home f...</td><td>10023283211</td><td> 0.18</td><td> e</td></tr>\n",
       "<tr><td>Arcu Ac Orci Corp...</td><td>cable, satellite,...</td><td>10142254217</td><td> 4.22</td><td> b</td></tr>\n",
       "<tr><td>Nunc Sed Company</td><td>jewelry, watch, c...</td><td>10165489824</td><td> 4.40</td><td> b</td></tr>\n",
       "</table>\n"
      ],
      "text/plain": [
       "+--------------------+--------------------+------------+---------+------------+\n",
       "|        company_name|                tags|merchant_abn|take_rate|revenue_band|\n",
       "+--------------------+--------------------+------------+---------+------------+\n",
       "|       Felis Limited|furniture, home f...| 10023283211|     0.18|           e|\n",
       "|Arcu Ac Orci Corp...|cable, satellite,...| 10142254217|     4.22|           b|\n",
       "|    Nunc Sed Company|jewelry, watch, c...| 10165489824|     4.40|           b|\n",
       "+--------------------+--------------------+------------+---------+------------+"
      ]
     },
     "execution_count": 12,
     "metadata": {},
     "output_type": "execute_result"
    }
   ],
   "source": [
    "merchantdf.limit(3)"
   ]
  },
  {
   "cell_type": "code",
   "execution_count": 13,
   "id": "6af68ca9",
   "metadata": {},
   "outputs": [
    {
     "data": {
      "text/html": [
       "<table border='1'>\n",
       "<tr><th>user_id</th><th>consumer_id</th></tr>\n",
       "<tr><td>1</td><td>1195503</td></tr>\n",
       "<tr><td>2</td><td>179208</td></tr>\n",
       "<tr><td>3</td><td>1194530</td></tr>\n",
       "</table>\n"
      ],
      "text/plain": [
       "+-------+-----------+\n",
       "|user_id|consumer_id|\n",
       "+-------+-----------+\n",
       "|      1|    1195503|\n",
       "|      2|     179208|\n",
       "|      3|    1194530|\n",
       "+-------+-----------+"
      ]
     },
     "execution_count": 13,
     "metadata": {},
     "output_type": "execute_result"
    }
   ],
   "source": [
    "userdf.limit(3)"
   ]
  },
  {
   "cell_type": "code",
   "execution_count": 14,
   "id": "98d1e264",
   "metadata": {},
   "outputs": [
    {
     "data": {
      "text/html": [
       "<table border='1'>\n",
       "<tr><th>user_id</th><th>merchant_abn</th><th>dollar_value</th><th>order_id</th><th>order_datetime</th></tr>\n",
       "<tr><td>14935</td><td>79417999332</td><td>136.06570809815838</td><td>23acbb7b-cf98-458...</td><td>2021-11-26</td></tr>\n",
       "<tr><td>1</td><td>46451548968</td><td>72.61581642788431</td><td>76bab304-fa2d-400...</td><td>2021-11-26</td></tr>\n",
       "<tr><td>14936</td><td>89518629617</td><td>3.0783487174439297</td><td>a2ae446a-2959-41c...</td><td>2021-11-26</td></tr>\n",
       "</table>\n"
      ],
      "text/plain": [
       "+-------+------------+------------------+--------------------+--------------+\n",
       "|user_id|merchant_abn|      dollar_value|            order_id|order_datetime|\n",
       "+-------+------------+------------------+--------------------+--------------+\n",
       "|  14935| 79417999332|136.06570809815838|23acbb7b-cf98-458...|    2021-11-26|\n",
       "|      1| 46451548968| 72.61581642788431|76bab304-fa2d-400...|    2021-11-26|\n",
       "|  14936| 89518629617|3.0783487174439297|a2ae446a-2959-41c...|    2021-11-26|\n",
       "+-------+------------+------------------+--------------------+--------------+"
      ]
     },
     "execution_count": 14,
     "metadata": {},
     "output_type": "execute_result"
    }
   ],
   "source": [
    "transactiondf.limit(3)"
   ]
  },
  {
   "cell_type": "code",
   "execution_count": 15,
   "id": "fb5105ce",
   "metadata": {},
   "outputs": [
    {
     "data": {
      "text/html": [
       "<table border='1'>\n",
       "<tr><th>name</th><th>address</th><th>state</th><th>postcode</th><th>gender</th><th>consumer_id</th></tr>\n",
       "<tr><td>Yolanda Williams</td><td>413 Haney Gardens...</td><td>WA</td><td>6935</td><td>Female</td><td>1195503</td></tr>\n",
       "<tr><td>Mary Smith</td><td>3764 Amber Oval</td><td>NSW</td><td>2782</td><td>Female</td><td>179208</td></tr>\n",
       "<tr><td>Jill Jones MD</td><td>40693 Henry Greens</td><td>NT</td><td>862</td><td>Female</td><td>1194530</td></tr>\n",
       "</table>\n"
      ],
      "text/plain": [
       "+----------------+--------------------+-----+--------+------+-----------+\n",
       "|            name|             address|state|postcode|gender|consumer_id|\n",
       "+----------------+--------------------+-----+--------+------+-----------+\n",
       "|Yolanda Williams|413 Haney Gardens...|   WA|    6935|Female|    1195503|\n",
       "|      Mary Smith|     3764 Amber Oval|  NSW|    2782|Female|     179208|\n",
       "|   Jill Jones MD|  40693 Henry Greens|   NT|     862|Female|    1194530|\n",
       "+----------------+--------------------+-----+--------+------+-----------+"
      ]
     },
     "execution_count": 15,
     "metadata": {},
     "output_type": "execute_result"
    }
   ],
   "source": [
    "consumerdf.limit(3)"
   ]
  },
  {
   "cell_type": "markdown",
   "id": "b34ebce9",
   "metadata": {},
   "source": [
    "**External**: We identifed age and income of customers as likely variables of interest. Therefore, we utilised a [population based dataset](https://www.abs.gov.au/statistics/people/population/regional-population-age-and-sex/latest-release) (containing a breakdown by age) and an [income based dataset](https://data.aurin.org.au/dataset/au-govt-abs-abs-personal-income-total-income-sa2-2011-2018-sa2-2016), both of which were for SA2 codes. We therefore additionally required a dataset to [map SA2 codes to postcodes](https://www.matthewproctor.com/australian_postcodes?simple=True).\n",
    "\n",
    "We make two key assumptions with these datasets, the first being that since a postcode can belong to multiple SA2 codes, we can estimate the income and population demographics for a postcode by taking the median value of all associated SA2 codes. Additionally, we are assuming that these median postcode statistics are representive of all customers from that postcode."
   ]
  },
  {
   "cell_type": "code",
   "execution_count": 16,
   "id": "13a73294",
   "metadata": {},
   "outputs": [],
   "source": [
    "populationdf = pd.read_excel(\"../data/tables/population.xlsx\", sheet_name = 'Table 3', skiprows = 7)\n",
    "incomedf = spark.read.option(\"header\",\"false\").csv(\"../data/tables/incomedata.csv\")\n",
    "postcodedf = spark.read.option(\"header\",\"true\").csv(\"../data/tables/australian_postcodes.csv\")"
   ]
  },
  {
   "cell_type": "code",
   "execution_count": 17,
   "id": "21df6ba6",
   "metadata": {},
   "outputs": [
    {
     "data": {
      "text/html": [
       "<div>\n",
       "<style scoped>\n",
       "    .dataframe tbody tr th:only-of-type {\n",
       "        vertical-align: middle;\n",
       "    }\n",
       "\n",
       "    .dataframe tbody tr th {\n",
       "        vertical-align: top;\n",
       "    }\n",
       "\n",
       "    .dataframe thead th {\n",
       "        text-align: right;\n",
       "    }\n",
       "</style>\n",
       "<table border=\"1\" class=\"dataframe\">\n",
       "  <thead>\n",
       "    <tr style=\"text-align: right;\">\n",
       "      <th></th>\n",
       "      <th>S/T code</th>\n",
       "      <th>S/T name</th>\n",
       "      <th>GCCSA code</th>\n",
       "      <th>GCCSA name</th>\n",
       "      <th>SA4 code</th>\n",
       "      <th>SA4 name</th>\n",
       "      <th>SA3 code</th>\n",
       "      <th>SA3 name</th>\n",
       "      <th>SA2 code</th>\n",
       "      <th>SA2 name</th>\n",
       "      <th>...</th>\n",
       "      <th>no..9</th>\n",
       "      <th>no..10</th>\n",
       "      <th>no..11</th>\n",
       "      <th>no..12</th>\n",
       "      <th>no..13</th>\n",
       "      <th>no..14</th>\n",
       "      <th>no..15</th>\n",
       "      <th>no..16</th>\n",
       "      <th>no..17</th>\n",
       "      <th>no..18</th>\n",
       "    </tr>\n",
       "  </thead>\n",
       "  <tbody>\n",
       "    <tr>\n",
       "      <th>0</th>\n",
       "      <td>NaN</td>\n",
       "      <td>NaN</td>\n",
       "      <td>NaN</td>\n",
       "      <td>NaN</td>\n",
       "      <td>NaN</td>\n",
       "      <td>NaN</td>\n",
       "      <td>NaN</td>\n",
       "      <td>NaN</td>\n",
       "      <td>NaN</td>\n",
       "      <td>NaN</td>\n",
       "      <td>...</td>\n",
       "      <td>NaN</td>\n",
       "      <td>NaN</td>\n",
       "      <td>NaN</td>\n",
       "      <td>NaN</td>\n",
       "      <td>NaN</td>\n",
       "      <td>NaN</td>\n",
       "      <td>NaN</td>\n",
       "      <td>NaN</td>\n",
       "      <td>NaN</td>\n",
       "      <td>NaN</td>\n",
       "    </tr>\n",
       "    <tr>\n",
       "      <th>1</th>\n",
       "      <td>1</td>\n",
       "      <td>New South Wales</td>\n",
       "      <td>1RNSW</td>\n",
       "      <td>Rest of NSW</td>\n",
       "      <td>101.0</td>\n",
       "      <td>Capital Region</td>\n",
       "      <td>10102.0</td>\n",
       "      <td>Queanbeyan</td>\n",
       "      <td>101021007.0</td>\n",
       "      <td>Braidwood</td>\n",
       "      <td>...</td>\n",
       "      <td>300.0</td>\n",
       "      <td>352.0</td>\n",
       "      <td>362.0</td>\n",
       "      <td>424.0</td>\n",
       "      <td>328.0</td>\n",
       "      <td>293.0</td>\n",
       "      <td>237.0</td>\n",
       "      <td>123.0</td>\n",
       "      <td>82.0</td>\n",
       "      <td>4330.0</td>\n",
       "    </tr>\n",
       "    <tr>\n",
       "      <th>2</th>\n",
       "      <td>1</td>\n",
       "      <td>New South Wales</td>\n",
       "      <td>1RNSW</td>\n",
       "      <td>Rest of NSW</td>\n",
       "      <td>101.0</td>\n",
       "      <td>Capital Region</td>\n",
       "      <td>10102.0</td>\n",
       "      <td>Queanbeyan</td>\n",
       "      <td>101021008.0</td>\n",
       "      <td>Karabar</td>\n",
       "      <td>...</td>\n",
       "      <td>556.0</td>\n",
       "      <td>590.0</td>\n",
       "      <td>580.0</td>\n",
       "      <td>516.0</td>\n",
       "      <td>412.0</td>\n",
       "      <td>320.0</td>\n",
       "      <td>216.0</td>\n",
       "      <td>159.0</td>\n",
       "      <td>90.0</td>\n",
       "      <td>8546.0</td>\n",
       "    </tr>\n",
       "  </tbody>\n",
       "</table>\n",
       "<p>3 rows × 29 columns</p>\n",
       "</div>"
      ],
      "text/plain": [
       "  S/T code         S/T name GCCSA code   GCCSA name  SA4 code        SA4 name  \\\n",
       "0      NaN              NaN        NaN          NaN       NaN             NaN   \n",
       "1        1  New South Wales      1RNSW  Rest of NSW     101.0  Capital Region   \n",
       "2        1  New South Wales      1RNSW  Rest of NSW     101.0  Capital Region   \n",
       "\n",
       "   SA3 code    SA3 name     SA2 code   SA2 name  ...  no..9  no..10  no..11  \\\n",
       "0       NaN         NaN          NaN        NaN  ...    NaN     NaN     NaN   \n",
       "1   10102.0  Queanbeyan  101021007.0  Braidwood  ...  300.0   352.0   362.0   \n",
       "2   10102.0  Queanbeyan  101021008.0    Karabar  ...  556.0   590.0   580.0   \n",
       "\n",
       "   no..12  no..13  no..14  no..15  no..16  no..17  no..18  \n",
       "0     NaN     NaN     NaN     NaN     NaN     NaN     NaN  \n",
       "1   424.0   328.0   293.0   237.0   123.0    82.0  4330.0  \n",
       "2   516.0   412.0   320.0   216.0   159.0    90.0  8546.0  \n",
       "\n",
       "[3 rows x 29 columns]"
      ]
     },
     "execution_count": 17,
     "metadata": {},
     "output_type": "execute_result"
    }
   ],
   "source": [
    "populationdf.head(3)"
   ]
  },
  {
   "cell_type": "code",
   "execution_count": 18,
   "id": "b5548f69",
   "metadata": {},
   "outputs": [
    {
     "name": "stdout",
     "output_type": "stream",
     "text": [
      "22/10/15 17:42:21 WARN package: Truncated the string representation of a plan since it was too large. This behavior can be adjusted by setting 'spark.sql.debug.maxToStringFields'.\n"
     ]
    },
    {
     "data": {
      "text/html": [
       "<table border='1'>\n",
       "<tr><th>_c0</th><th>_c1</th><th>_c2</th><th>_c3</th><th>_c4</th><th>_c5</th><th>_c6</th><th>_c7</th><th>_c8</th><th>_c9</th><th>_c10</th><th>_c11</th><th>_c12</th><th>_c13</th><th>_c14</th><th>_c15</th><th>_c16</th><th>_c17</th><th>_c18</th><th>_c19</th><th>_c20</th><th>_c21</th><th>_c22</th><th>_c23</th><th>_c24</th><th>_c25</th><th>_c26</th><th>_c27</th><th>_c28</th><th>_c29</th><th>_c30</th><th>_c31</th><th>_c32</th><th>_c33</th><th>_c34</th><th>_c35</th><th>_c36</th><th>_c37</th><th>_c38</th><th>_c39</th></tr>\n",
       "<tr><td>FID</td><td>fid</td><td>sa2_code</td><td>sa2_name</td><td>earners_persons_2...</td><td>earners_persons_2...</td><td>earners_persons_2...</td><td>earners_persons_2...</td><td>earners_persons_2...</td><td>earners_persons_2...</td><td>earners_persons_2...</td><td>median_age_of_ear...</td><td>median_age_of_ear...</td><td>median_age_of_ear...</td><td>median_age_of_ear...</td><td>median_age_of_ear...</td><td>median_age_of_ear...</td><td>median_age_of_ear...</td><td>sum_aud_2011_12</td><td>sum_aud_2012_13</td><td>sum_aud_2013_14</td><td>sum_aud_2014_15</td><td>sum_aud_2015_16</td><td>sum_aud_2016_17</td><td>sum_aud_2017_18</td><td>median_aud_2011_12</td><td>median_aud_2012_13</td><td>median_aud_2013_14</td><td>median_aud_2014_15</td><td>median_aud_2015_16</td><td>median_aud_2016_17</td><td>median_aud_2017_18</td><td>mean_aud_2011_12</td><td>mean_aud_2012_13</td><td>mean_aud_2013_14</td><td>mean_aud_2014_15</td><td>mean_aud_2015_16</td><td>mean_aud_2016_17</td><td>mean_aud_2017_18</td><td>wkb_geometry</td></tr>\n",
       "<tr><td>abs_personal_inco...</td><td>74</td><td>103031075</td><td>Wollangambe - Wol...</td><td>null</td><td>null</td><td>null</td><td>null</td><td>null</td><td>null</td><td>null</td><td>null</td><td>null</td><td>null</td><td>null</td><td>null</td><td>null</td><td>null</td><td>null</td><td>null</td><td>null</td><td>null</td><td>null</td><td>null</td><td>null</td><td>null</td><td>null</td><td>null</td><td>null</td><td>null</td><td>null</td><td>null</td><td>null</td><td>null</td><td>null</td><td>null</td><td>null</td><td>null</td><td>null</td><td>MULTIPOLYGON (((-...</td></tr>\n",
       "<tr><td>abs_personal_inco...</td><td>131</td><td>107011133</td><td>Port Kembla Indus...</td><td>null</td><td>null</td><td>null</td><td>null</td><td>null</td><td>null</td><td>null</td><td>null</td><td>null</td><td>null</td><td>null</td><td>null</td><td>null</td><td>null</td><td>null</td><td>null</td><td>null</td><td>null</td><td>null</td><td>null</td><td>null</td><td>null</td><td>null</td><td>null</td><td>null</td><td>null</td><td>null</td><td>null</td><td>null</td><td>null</td><td>null</td><td>null</td><td>null</td><td>null</td><td>null</td><td>MULTIPOLYGON (((-...</td></tr>\n",
       "</table>\n"
      ],
      "text/plain": [
       "+--------------------+---+---------+--------------------+--------------------+--------------------+--------------------+--------------------+--------------------+--------------------+--------------------+--------------------+--------------------+--------------------+--------------------+--------------------+--------------------+--------------------+---------------+---------------+---------------+---------------+---------------+---------------+---------------+------------------+------------------+------------------+------------------+------------------+------------------+------------------+----------------+----------------+----------------+----------------+----------------+----------------+----------------+--------------------+\n",
       "|                 _c0|_c1|      _c2|                 _c3|                 _c4|                 _c5|                 _c6|                 _c7|                 _c8|                 _c9|                _c10|                _c11|                _c12|                _c13|                _c14|                _c15|                _c16|                _c17|           _c18|           _c19|           _c20|           _c21|           _c22|           _c23|           _c24|              _c25|              _c26|              _c27|              _c28|              _c29|              _c30|              _c31|            _c32|            _c33|            _c34|            _c35|            _c36|            _c37|            _c38|                _c39|\n",
       "+--------------------+---+---------+--------------------+--------------------+--------------------+--------------------+--------------------+--------------------+--------------------+--------------------+--------------------+--------------------+--------------------+--------------------+--------------------+--------------------+--------------------+---------------+---------------+---------------+---------------+---------------+---------------+---------------+------------------+------------------+------------------+------------------+------------------+------------------+------------------+----------------+----------------+----------------+----------------+----------------+----------------+----------------+--------------------+\n",
       "|                 FID|fid| sa2_code|            sa2_name|earners_persons_2...|earners_persons_2...|earners_persons_2...|earners_persons_2...|earners_persons_2...|earners_persons_2...|earners_persons_2...|median_age_of_ear...|median_age_of_ear...|median_age_of_ear...|median_age_of_ear...|median_age_of_ear...|median_age_of_ear...|median_age_of_ear...|sum_aud_2011_12|sum_aud_2012_13|sum_aud_2013_14|sum_aud_2014_15|sum_aud_2015_16|sum_aud_2016_17|sum_aud_2017_18|median_aud_2011_12|median_aud_2012_13|median_aud_2013_14|median_aud_2014_15|median_aud_2015_16|median_aud_2016_17|median_aud_2017_18|mean_aud_2011_12|mean_aud_2012_13|mean_aud_2013_14|mean_aud_2014_15|mean_aud_2015_16|mean_aud_2016_17|mean_aud_2017_18|        wkb_geometry|\n",
       "|abs_personal_inco...| 74|103031075|Wollangambe - Wol...|                null|                null|                null|                null|                null|                null|                null|                null|                null|                null|                null|                null|                null|                null|           null|           null|           null|           null|           null|           null|           null|              null|              null|              null|              null|              null|              null|              null|            null|            null|            null|            null|            null|            null|            null|MULTIPOLYGON (((-...|\n",
       "|abs_personal_inco...|131|107011133|Port Kembla Indus...|                null|                null|                null|                null|                null|                null|                null|                null|                null|                null|                null|                null|                null|                null|           null|           null|           null|           null|           null|           null|           null|              null|              null|              null|              null|              null|              null|              null|            null|            null|            null|            null|            null|            null|            null|MULTIPOLYGON (((-...|\n",
       "+--------------------+---+---------+--------------------+--------------------+--------------------+--------------------+--------------------+--------------------+--------------------+--------------------+--------------------+--------------------+--------------------+--------------------+--------------------+--------------------+--------------------+---------------+---------------+---------------+---------------+---------------+---------------+---------------+------------------+------------------+------------------+------------------+------------------+------------------+------------------+----------------+----------------+----------------+----------------+----------------+----------------+----------------+--------------------+"
      ]
     },
     "execution_count": 18,
     "metadata": {},
     "output_type": "execute_result"
    }
   ],
   "source": [
    "incomedf.limit(3)"
   ]
  },
  {
   "cell_type": "code",
   "execution_count": 19,
   "id": "da2dd3b4",
   "metadata": {},
   "outputs": [
    {
     "data": {
      "text/html": [
       "<table border='1'>\n",
       "<tr><th>id</th><th>postcode</th><th>locality</th><th>state</th><th>long</th><th>lat</th><th>dc</th><th>type</th><th>status</th><th>sa3</th><th>sa3name</th><th>sa4</th><th>sa4name</th><th>region</th><th>Lat_precise</th><th>Long_precise</th><th>SA1_MAINCODE_2011</th><th>SA1_MAINCODE_2016</th><th>SA2_MAINCODE_2016</th><th>SA2_NAME_2016</th><th>SA3_CODE_2016</th><th>SA3_NAME_2016</th><th>SA4_CODE_2016</th><th>SA4_NAME_2016</th><th>RA_2011</th><th>RA_2016</th><th>MMM_2015</th><th>MMM_2019</th><th>ced</th><th>altitude</th><th>chargezone</th><th>phn_code</th><th>phn_name</th><th>lgaregion</th><th>electorate</th><th>electoraterating</th></tr>\n",
       "<tr><td>230</td><td>0200</td><td>ANU</td><td>ACT</td><td>149.119</td><td>-35.2777</td><td>null</td><td>null</td><td>null</td><td>null</td><td>null</td><td>null</td><td>null</td><td>R1</td><td>-35.2777</td><td>149.119</td><td>80105104901</td><td>80105104901</td><td>801051049</td><td>Acton</td><td>80105</td><td>North Canberra</td><td>801</td><td>Australian Capita...</td><td>1</td><td>1</td><td>1</td><td>1</td><td>null</td><td>null</td><td>N2</td><td>null</td><td>null</td><td>null</td><td>Durack</td><td>null</td></tr>\n",
       "<tr><td>21820</td><td>0200</td><td>Australian Nation...</td><td>ACT</td><td>149.1189</td><td>-35.2777</td><td>null</td><td>null</td><td>Added 19-Jan-2020</td><td>null</td><td>null</td><td>null</td><td>null</td><td>R1</td><td>-35.2776999</td><td>149.118527</td><td>80105104901</td><td>80105104901</td><td>801051049</td><td>Acton</td><td>80105</td><td>North Canberra</td><td>801</td><td>Australian Capita...</td><td>1</td><td>1</td><td>1</td><td>1</td><td>null</td><td>null</td><td>N2</td><td>null</td><td>null</td><td>null</td><td>Durack</td><td>null</td></tr>\n",
       "<tr><td>232</td><td>0800</td><td>DARWIN</td><td>NT</td><td>130.83668</td><td>-12.458684</td><td>null</td><td>null</td><td>Updated 6-Feb-2020</td><td>70101</td><td>Darwin City</td><td>701</td><td>Darwin</td><td>R1</td><td>-12.3932794</td><td>130.7766611</td><td>70101100203</td><td>70101100218</td><td>701011002</td><td>Darwin City</td><td>70101</td><td>Darwin City</td><td>701</td><td>Darwin</td><td>3</td><td>3</td><td>2</td><td>2</td><td>null</td><td>null</td><td>NT1</td><td>PHN701</td><td>Northern Territory</td><td>Darwin</td><td>Solomon</td><td>Inner Metropolitan</td></tr>\n",
       "</table>\n"
      ],
      "text/plain": [
       "+-----+--------+--------------------+-----+---------+----------+----+----+------------------+-----+-----------+----+-------+------+-----------+------------+-----------------+-----------------+-----------------+-------------+-------------+--------------+-------------+--------------------+-------+-------+--------+--------+----+--------+----------+--------+------------------+---------+----------+------------------+\n",
       "|   id|postcode|            locality|state|     long|       lat|  dc|type|            status|  sa3|    sa3name| sa4|sa4name|region|Lat_precise|Long_precise|SA1_MAINCODE_2011|SA1_MAINCODE_2016|SA2_MAINCODE_2016|SA2_NAME_2016|SA3_CODE_2016| SA3_NAME_2016|SA4_CODE_2016|       SA4_NAME_2016|RA_2011|RA_2016|MMM_2015|MMM_2019| ced|altitude|chargezone|phn_code|          phn_name|lgaregion|electorate|  electoraterating|\n",
       "+-----+--------+--------------------+-----+---------+----------+----+----+------------------+-----+-----------+----+-------+------+-----------+------------+-----------------+-----------------+-----------------+-------------+-------------+--------------+-------------+--------------------+-------+-------+--------+--------+----+--------+----------+--------+------------------+---------+----------+------------------+\n",
       "|  230|    0200|                 ANU|  ACT|  149.119|  -35.2777|null|null|              null| null|       null|null|   null|    R1|   -35.2777|     149.119|      80105104901|      80105104901|        801051049|        Acton|        80105|North Canberra|          801|Australian Capita...|      1|      1|       1|       1|null|    null|        N2|    null|              null|     null|    Durack|              null|\n",
       "|21820|    0200|Australian Nation...|  ACT| 149.1189|  -35.2777|null|null| Added 19-Jan-2020| null|       null|null|   null|    R1|-35.2776999|  149.118527|      80105104901|      80105104901|        801051049|        Acton|        80105|North Canberra|          801|Australian Capita...|      1|      1|       1|       1|null|    null|        N2|    null|              null|     null|    Durack|              null|\n",
       "|  232|    0800|              DARWIN|   NT|130.83668|-12.458684|null|null|Updated 6-Feb-2020|70101|Darwin City| 701| Darwin|    R1|-12.3932794| 130.7766611|      70101100203|      70101100218|        701011002|  Darwin City|        70101|   Darwin City|          701|              Darwin|      3|      3|       2|       2|null|    null|       NT1|  PHN701|Northern Territory|   Darwin|   Solomon|Inner Metropolitan|\n",
       "+-----+--------+--------------------+-----+---------+----------+----+----+------------------+-----+-----------+----+-------+------+-----------+------------+-----------------+-----------------+-----------------+-------------+-------------+--------------+-------------+--------------------+-------+-------+--------+--------+----+--------+----------+--------+------------------+---------+----------+------------------+"
      ]
     },
     "execution_count": 19,
     "metadata": {},
     "output_type": "execute_result"
    }
   ],
   "source": [
    "postcodedf.limit(3)"
   ]
  },
  {
   "cell_type": "markdown",
   "id": "8bfb3156",
   "metadata": {},
   "source": [
    "### Pre Processing and Outlier Analysis"
   ]
  },
  {
   "cell_type": "markdown",
   "id": "557ed0a4-8557-4813-8a5f-cd3cfd1bc521",
   "metadata": {},
   "source": [
    "Much more detail is provided in the relevant preprocessing and analysis notebooks, however some key findings:\n",
    "\n",
    "1. 1014 transactions in the dataset had a dollar value less than a cent, so was removed as they were clearly nonsensical\n",
    "2. Once the revenue band and take rate were extracted, the tag field after cleanup only contained 25 unique values, a fact which became useful when segmenting merchants\n",
    "3. Population dataset was given custom age groups of under 10, adolescent (aged 10-17), young adult (18-34), middle age (35-59) and old (60+)\n",
    "4. An [alternative SA2 to postcode dataset](https://www.abs.gov.au/AUSSTATS/abs@.nsf/DetailsPage/1270.0.55.006July%202011?OpenDocument) was considered, which additionally provided a ratio representing the proportion of the population for a given postcode that were located in the SA2 codes it made up. While this could have allowed for the use of a weighted average, this dataset contained far less records, and would have led to a loss of almost 1.5 million transactions.\n",
    "5. Only 2018 income data was used, specifically the number of earners, median age of earners, median income and mean income for all given SA2 codes.\n",
    "\n",
    "In total, our final dataset contained roughly 11,800,000 transactions, all with information about the merchant and consumer, as well as age and income demographics for the postcode the customer resided in. "
   ]
  },
  {
   "cell_type": "markdown",
   "id": "4b765f3f-1fdc-4bf6-935e-fce1281483e8",
   "metadata": {},
   "source": [
    "### Fraud Data"
   ]
  },
  {
   "cell_type": "code",
   "execution_count": 20,
   "id": "433877ba-5a32-4039-adab-dd2bd79e390a",
   "metadata": {},
   "outputs": [],
   "source": [
    "consumerfrauddf = spark.read.parquet(\"../data/curated/consumerfrauddf.parquet/\")\n",
    "merchantfrauddf = spark.read.parquet(\"../data/curated/merchantfrauddf.parquet/\")"
   ]
  },
  {
   "cell_type": "code",
   "execution_count": 21,
   "id": "32193dac-3d49-484b-96c8-4f0e9978dfd8",
   "metadata": {},
   "outputs": [
    {
     "data": {
      "text/html": [
       "<table border='1'>\n",
       "<tr><th>user_id</th><th>order_datetime</th><th>fraud_probability</th></tr>\n",
       "<tr><td>3753</td><td>2022-02-16</td><td>48.85325253622543</td></tr>\n",
       "<tr><td>9646</td><td>2021-09-23</td><td>47.83931206340956</td></tr>\n",
       "<tr><td>243</td><td>2021-09-02</td><td>50.88971939168309</td></tr>\n",
       "</table>\n"
      ],
      "text/plain": [
       "+-------+--------------+-----------------+\n",
       "|user_id|order_datetime|fraud_probability|\n",
       "+-------+--------------+-----------------+\n",
       "|   3753|    2022-02-16|48.85325253622543|\n",
       "|   9646|    2021-09-23|47.83931206340956|\n",
       "|    243|    2021-09-02|50.88971939168309|\n",
       "+-------+--------------+-----------------+"
      ]
     },
     "execution_count": 21,
     "metadata": {},
     "output_type": "execute_result"
    }
   ],
   "source": [
    "consumerfrauddf.limit(3)"
   ]
  },
  {
   "cell_type": "code",
   "execution_count": 22,
   "id": "fcf63634-73b1-4f58-a85e-fc3f8bc9cd4a",
   "metadata": {},
   "outputs": [
    {
     "data": {
      "text/html": [
       "<table border='1'>\n",
       "<tr><th>merchant_abn</th><th>order_datetime</th><th>fraud_probability</th></tr>\n",
       "<tr><td>19492220327</td><td>2021-11-28</td><td>44.403658647495355</td></tr>\n",
       "<tr><td>31334588839</td><td>2021-10-02</td><td>42.75530083865367</td></tr>\n",
       "<tr><td>19492220327</td><td>2021-12-22</td><td>38.867790051131095</td></tr>\n",
       "</table>\n"
      ],
      "text/plain": [
       "+------------+--------------+------------------+\n",
       "|merchant_abn|order_datetime| fraud_probability|\n",
       "+------------+--------------+------------------+\n",
       "| 19492220327|    2021-11-28|44.403658647495355|\n",
       "| 31334588839|    2021-10-02| 42.75530083865367|\n",
       "| 19492220327|    2021-12-22|38.867790051131095|\n",
       "+------------+--------------+------------------+"
      ]
     },
     "execution_count": 22,
     "metadata": {},
     "output_type": "execute_result"
    }
   ],
   "source": [
    "merchantfrauddf.limit(3)"
   ]
  },
  {
   "cell_type": "markdown",
   "id": "087172de",
   "metadata": {},
   "source": [
    "We were additionally supplied with both a consumer and merchant fraud dataset. We decided that, once joined with all transactions for that merchant/user and day, any transaction with a fraud_probability greater than 1.0 (i.e all the combinations contained in the dataset) would be considered fraud and hence removed. While this likely means we removed non-fraudulent transactions, our method only removed 0.005% of transactions. Therefore, there was really no significant consequence to ensuring that we almost certainty removed all fraudulent transactions from consideration. \n",
    "\n",
    "Additionally, since we could be fairly sure that all remaining transactions were not fraudulent, we were able to determine distributions in order to assist with predicting future fraud. It was decided if a user or merchant has 1.5 times their standard deviation in the number of transactions or transaction amounts in a day, then they will be considered fraud. "
   ]
  },
  {
   "cell_type": "code",
   "execution_count": 23,
   "id": "db2488d9",
   "metadata": {},
   "outputs": [],
   "source": [
    "futureuserfrauddf = spark.read.parquet(\"../data/curated/future_user_fraud.parquet\")\n",
    "futuremerchantfrauddf = spark.read.parquet(\"../data/curated/future_merchant_fraud.parquet\")"
   ]
  },
  {
   "cell_type": "code",
   "execution_count": 24,
   "id": "1f7dcb21",
   "metadata": {},
   "outputs": [
    {
     "data": {
      "text/html": [
       "<table border='1'>\n",
       "<tr><th>user_id</th><th>max_amount</th><th>max_transactions</th><th>transaction_std</th><th>amount_sd</th></tr>\n",
       "<tr><td>19979</td><td>8150.115728134807</td><td>9</td><td>0.84476618165645</td><td>400.1678103891637</td></tr>\n",
       "<tr><td>23492</td><td>4097.470542751887</td><td>9</td><td>0.8232347161406164</td><td>294.71579937904977</td></tr>\n",
       "<tr><td>12568</td><td>2042.0161577505257</td><td>8</td><td>0.875753813313409</td><td>239.94494399815426</td></tr>\n",
       "</table>\n"
      ],
      "text/plain": [
       "+-------+------------------+----------------+------------------+------------------+\n",
       "|user_id|        max_amount|max_transactions|   transaction_std|         amount_sd|\n",
       "+-------+------------------+----------------+------------------+------------------+\n",
       "|  19979| 8150.115728134807|               9|  0.84476618165645| 400.1678103891637|\n",
       "|  23492| 4097.470542751887|               9|0.8232347161406164|294.71579937904977|\n",
       "|  12568|2042.0161577505257|               8| 0.875753813313409|239.94494399815426|\n",
       "+-------+------------------+----------------+------------------+------------------+"
      ]
     },
     "execution_count": 24,
     "metadata": {},
     "output_type": "execute_result"
    }
   ],
   "source": [
    "futureuserfrauddf.limit(3)"
   ]
  },
  {
   "cell_type": "code",
   "execution_count": 25,
   "id": "ce782550",
   "metadata": {},
   "outputs": [
    {
     "data": {
      "text/html": [
       "<table border='1'>\n",
       "<tr><th>merchant_abn</th><th>max_amount</th><th>max_transactions</th><th>transaction_sd</th><th>amount_sd</th></tr>\n",
       "<tr><td>83412691377</td><td>201.92111142420248</td><td>57</td><td>6.131770235768689</td><td>24.48308612034732</td></tr>\n",
       "<tr><td>86662713230</td><td>277.15842150670414</td><td>88</td><td>8.428965817137627</td><td>30.128423087149258</td></tr>\n",
       "<tr><td>10648956813</td><td>102.99670668490096</td><td>78</td><td>8.082763558526118</td><td>22.14248423572274</td></tr>\n",
       "</table>\n"
      ],
      "text/plain": [
       "+------------+------------------+----------------+-----------------+------------------+\n",
       "|merchant_abn|        max_amount|max_transactions|   transaction_sd|         amount_sd|\n",
       "+------------+------------------+----------------+-----------------+------------------+\n",
       "| 83412691377|201.92111142420248|              57|6.131770235768689| 24.48308612034732|\n",
       "| 86662713230|277.15842150670414|              88|8.428965817137627|30.128423087149258|\n",
       "| 10648956813|102.99670668490096|              78|8.082763558526118| 22.14248423572274|\n",
       "+------------+------------------+----------------+-----------------+------------------+"
      ]
     },
     "execution_count": 25,
     "metadata": {},
     "output_type": "execute_result"
    }
   ],
   "source": [
    "futuremerchantfrauddf.limit(3)"
   ]
  },
  {
   "cell_type": "markdown",
   "id": "a7afef08",
   "metadata": {},
   "source": [
    "This then gives us our final dataset to be used in modelling and thus ranking:"
   ]
  },
  {
   "cell_type": "code",
   "execution_count": 26,
   "id": "f4bba4d3",
   "metadata": {},
   "outputs": [
    {
     "name": "stderr",
     "output_type": "stream",
     "text": [
      "                                                                                \r"
     ]
    },
    {
     "data": {
      "text/html": [
       "<table border='1'>\n",
       "<tr><th>order_datetime</th><th>merchant_abn</th><th>user_id</th><th>postcode</th><th>consumer_id</th><th>dollar_value</th><th>order_id</th><th>state</th><th>gender</th><th>company_name</th><th>tags</th><th>take_rate</th><th>revenue_band</th><th>total_pop</th><th>under10_pop</th><th>adolsc_pop</th><th>yng_adult_pop</th><th>mid_age_pop</th><th>old_pop</th><th>num_earners</th><th>median_age</th><th>median_income</th><th>mean_income</th><th>consumer_fraud_%</th><th>merchant_fraud_%</th></tr>\n",
       "<tr><td>2021-08-21</td><td>94729574738</td><td>16982</td><td>4821</td><td>23684</td><td>156.3091245999424</td><td>407ce815-54e1-4ae...</td><td>QLD</td><td>Female</td><td>Scelerisque Corpo...</td><td>computer programm...</td><td> 4.51</td><td> b</td><td>3128</td><td>468</td><td>271</td><td>707</td><td>947</td><td>735</td><td>1972</td><td>44</td><td>45102</td><td>50599</td><td>0.1</td><td>0.1</td></tr>\n",
       "<tr><td>2022-04-24</td><td>45572698303</td><td>16982</td><td>4821</td><td>23684</td><td>115.38672513864692</td><td>72160f0d-06c5-432...</td><td>QLD</td><td>Female</td><td>Libero Proin Corp.</td><td>shoe shops</td><td> 3.30</td><td> b</td><td>3128</td><td>468</td><td>271</td><td>707</td><td>947</td><td>735</td><td>1972</td><td>44</td><td>45102</td><td>50599</td><td>0.1</td><td>0.1</td></tr>\n",
       "<tr><td>2021-08-21</td><td>34695415993</td><td>16982</td><td>4821</td><td>23684</td><td>35.730567249104645</td><td>d4524ef6-1f75-4f2...</td><td>QLD</td><td>Female</td><td>Ultrices Vivamus ...</td><td>cable, satellite,...</td><td> 6.02</td><td> a</td><td>3128</td><td>468</td><td>271</td><td>707</td><td>947</td><td>735</td><td>1972</td><td>44</td><td>45102</td><td>50599</td><td>0.1</td><td>0.1</td></tr>\n",
       "<tr><td>2022-04-24</td><td>67400260923</td><td>16982</td><td>4821</td><td>23684</td><td>73.85811747094266</td><td>7acb9a9f-3ef6-4d4...</td><td>QLD</td><td>Female</td><td>Eleifend PC</td><td>computer programm...</td><td> 5.97</td><td> a</td><td>3128</td><td>468</td><td>271</td><td>707</td><td>947</td><td>735</td><td>1972</td><td>44</td><td>45102</td><td>50599</td><td>0.1</td><td>0.1</td></tr>\n",
       "<tr><td>2021-08-19</td><td>86578477987</td><td>16982</td><td>4821</td><td>23684</td><td>41.45540307953735</td><td>e8be544a-a311-432...</td><td>QLD</td><td>Female</td><td>Leo In Consulting</td><td>watch, clock, and...</td><td> 6.43</td><td> a</td><td>3128</td><td>468</td><td>271</td><td>707</td><td>947</td><td>735</td><td>1972</td><td>44</td><td>45102</td><td>50599</td><td>0.1</td><td>0.1</td></tr>\n",
       "</table>\n"
      ],
      "text/plain": [
       "+--------------+------------+-------+--------+-----------+------------------+--------------------+-----+------+--------------------+--------------------+---------+------------+---------+-----------+----------+-------------+-----------+-------+-----------+----------+-------------+-----------+----------------+----------------+\n",
       "|order_datetime|merchant_abn|user_id|postcode|consumer_id|      dollar_value|            order_id|state|gender|        company_name|                tags|take_rate|revenue_band|total_pop|under10_pop|adolsc_pop|yng_adult_pop|mid_age_pop|old_pop|num_earners|median_age|median_income|mean_income|consumer_fraud_%|merchant_fraud_%|\n",
       "+--------------+------------+-------+--------+-----------+------------------+--------------------+-----+------+--------------------+--------------------+---------+------------+---------+-----------+----------+-------------+-----------+-------+-----------+----------+-------------+-----------+----------------+----------------+\n",
       "|    2021-08-21| 94729574738|  16982|    4821|      23684| 156.3091245999424|407ce815-54e1-4ae...|  QLD|Female|Scelerisque Corpo...|computer programm...|     4.51|           b|     3128|        468|       271|          707|        947|    735|       1972|        44|        45102|      50599|             0.1|             0.1|\n",
       "|    2022-04-24| 45572698303|  16982|    4821|      23684|115.38672513864692|72160f0d-06c5-432...|  QLD|Female|  Libero Proin Corp.|          shoe shops|     3.30|           b|     3128|        468|       271|          707|        947|    735|       1972|        44|        45102|      50599|             0.1|             0.1|\n",
       "|    2021-08-21| 34695415993|  16982|    4821|      23684|35.730567249104645|d4524ef6-1f75-4f2...|  QLD|Female|Ultrices Vivamus ...|cable, satellite,...|     6.02|           a|     3128|        468|       271|          707|        947|    735|       1972|        44|        45102|      50599|             0.1|             0.1|\n",
       "|    2022-04-24| 67400260923|  16982|    4821|      23684| 73.85811747094266|7acb9a9f-3ef6-4d4...|  QLD|Female|         Eleifend PC|computer programm...|     5.97|           a|     3128|        468|       271|          707|        947|    735|       1972|        44|        45102|      50599|             0.1|             0.1|\n",
       "|    2021-08-19| 86578477987|  16982|    4821|      23684| 41.45540307953735|e8be544a-a311-432...|  QLD|Female|   Leo In Consulting|watch, clock, and...|     6.43|           a|     3128|        468|       271|          707|        947|    735|       1972|        44|        45102|      50599|             0.1|             0.1|\n",
       "+--------------+------------+-------+--------+-----------+------------------+--------------------+-----+------+--------------------+--------------------+---------+------------+---------+-----------+----------+-------------+-----------+-------+-----------+----------+-------------+-----------+----------------+----------------+"
      ]
     },
     "execution_count": 26,
     "metadata": {},
     "output_type": "execute_result"
    }
   ],
   "source": [
    "finaldf = spark.read.parquet(\"../data/curated/finaldf.parquet/\")\n",
    "finaldf.limit(5)"
   ]
  },
  {
   "cell_type": "markdown",
   "id": "142c0366",
   "metadata": {},
   "source": [
    "### Modelling"
   ]
  },
  {
   "cell_type": "markdown",
   "id": "f54e24e0-5639-4a9d-ac5a-7f38cbfceefd",
   "metadata": {},
   "source": [
    "One of our very first ideas we had for the modeling and ranking of merchants was to simply onboard the merchants that had generated the most overall revenue. "
   ]
  },
  {
   "cell_type": "code",
   "execution_count": 27,
   "id": "d23b80c2-7f8b-4486-ba6f-8711c6175318",
   "metadata": {},
   "outputs": [
    {
     "name": "stderr",
     "output_type": "stream",
     "text": [
      "                                                                                \r"
     ]
    },
    {
     "data": {
      "text/html": [
       "<table border='1'>\n",
       "<tr><th>year</th><th>month</th><th>merchant_abn</th><th>monthly_profit</th></tr>\n",
       "<tr><td>2022</td><td>6</td><td>38736067045</td><td>2822.71</td></tr>\n",
       "<tr><td>2021</td><td>11</td><td>90477374366</td><td>1090.76</td></tr>\n",
       "<tr><td>2022</td><td>4</td><td>52160665475</td><td>3216.54</td></tr>\n",
       "</table>\n"
      ],
      "text/plain": [
       "+----+-----+------------+--------------+\n",
       "|year|month|merchant_abn|monthly_profit|\n",
       "+----+-----+------------+--------------+\n",
       "|2022|    6| 38736067045|       2822.71|\n",
       "|2021|   11| 90477374366|       1090.76|\n",
       "|2022|    4| 52160665475|       3216.54|\n",
       "+----+-----+------------+--------------+"
      ]
     },
     "execution_count": 27,
     "metadata": {},
     "output_type": "execute_result"
    }
   ],
   "source": [
    "modeldf1 = finaldf.withColumn(\"year\", date_format(col(\"order_datetime\"), \"yyyy\").cast(\"long\"))\n",
    "modeldf1 = modeldf1.withColumn(\"month\", date_format(col(\"order_datetime\"), \"MM\").cast(\"long\"))\n",
    "modeldf1 = modeldf1.withColumn('profit', round(finaldf.dollar_value * (finaldf.take_rate / 100), 2))\n",
    "\n",
    "for field in (\"postcode\",\"take_rate\"):\n",
    "    modeldf1 = modeldf1.withColumn(\n",
    "        field,\n",
    "        col(field).cast('double')\n",
    "    )\n",
    "\n",
    "modeldf1 = modeldf1.drop(\"order_datetime\",\"order_id\",\"company_name\",\"consumer_fraud_%\",\"merchant_fraud_%\")\n",
    "\n",
    "modeldf1 = modeldf1.groupBy(\"year\",\"month\",\"merchant_abn\").agg(\n",
    "    round(sum(\"profit\"),2).alias(\"monthly_profit\"),\n",
    ")\n",
    "modeldf1.limit(3)"
   ]
  },
  {
   "cell_type": "markdown",
   "id": "71107a21-8147-48c0-a30f-14d10488aec7",
   "metadata": {},
   "source": [
    "However, we realised that a simple approach such as this would be making the rather significant assumption that once a merchant is onboarded, every single transaction made with that merchant would now be made with the BNPL technology, which clearly isn’t a very realistic assumption.\n",
    " \n",
    "So to improve on this idea, we decided we would still use the overall revenue, but also consider two other features. In order to determine these other features, we reviewed surveys from [C+R research](https://www.crresearch.com/blog/buy_now_pay_later_statistics) as well as [Bankrate](https://www.bankrate.com/loans/personal-loans/buy-now-pay-later-statistics/) regarding BNPL usage statistics. Some interesting statistics we found was that only 3% of respondents owed over $2 500 currently to BNPL services, and this debt was owed across an average of 3.8 different purchased items. \n",
    "\n",
    "Considering the strict pay in 5 installments structure that is being imposed, we determined that there was likely to be a limit as to how much customers would spend in a single BNPL transaction. Hence we should prefer merchants who not only generated large revenue, but did so through a large number of transactions. A large number of transactions would imply that these transactions are of lesser value in general, a trait we see as desirable for the statistics above. This was the motivation behind our second feature being the number of transactions."
   ]
  },
  {
   "cell_type": "code",
   "execution_count": 28,
   "id": "178a5897-7a0e-4686-bbfe-a0f075d6a8d8",
   "metadata": {},
   "outputs": [
    {
     "name": "stderr",
     "output_type": "stream",
     "text": [
      "                                                                                \r"
     ]
    },
    {
     "data": {
      "text/html": [
       "<table border='1'>\n",
       "<tr><th>year</th><th>month</th><th>merchant_abn</th><th>monthly_transactions</th></tr>\n",
       "<tr><td>2022</td><td>6</td><td>38736067045</td><td>418</td></tr>\n",
       "<tr><td>2021</td><td>11</td><td>90477374366</td><td>48</td></tr>\n",
       "<tr><td>2022</td><td>4</td><td>52160665475</td><td>533</td></tr>\n",
       "<tr><td>2021</td><td>5</td><td>80779820715</td><td>1467</td></tr>\n",
       "<tr><td>2021</td><td>11</td><td>74019238521</td><td>1275</td></tr>\n",
       "</table>\n"
      ],
      "text/plain": [
       "+----+-----+------------+--------------------+\n",
       "|year|month|merchant_abn|monthly_transactions|\n",
       "+----+-----+------------+--------------------+\n",
       "|2022|    6| 38736067045|                 418|\n",
       "|2021|   11| 90477374366|                  48|\n",
       "|2022|    4| 52160665475|                 533|\n",
       "|2021|    5| 80779820715|                1467|\n",
       "|2021|   11| 74019238521|                1275|\n",
       "+----+-----+------------+--------------------+"
      ]
     },
     "execution_count": 28,
     "metadata": {},
     "output_type": "execute_result"
    }
   ],
   "source": [
    "modeldf2 = finaldf.withColumn(\"year\", date_format(col(\"order_datetime\"), \"yyyy\").cast(\"long\"))\n",
    "modeldf2 = modeldf2.withColumn(\"month\", date_format(col(\"order_datetime\"), \"MM\").cast(\"long\"))\n",
    "\n",
    "for field in (\"postcode\",\"take_rate\"):\n",
    "    modeldf2 = modeldf2.withColumn(\n",
    "        field,\n",
    "        col(field).cast('double')\n",
    "    )\n",
    "\n",
    "modeldf2 = modeldf2.drop(\"order_datetime\",\"order_id\",\"company_name\",\"consumer_fraud_%\",\"merchant_fraud_%\")\n",
    "\n",
    "modeldf2 = modeldf2.groupBy(\"year\",\"month\",\"merchant_abn\").agg(\n",
    "    count(\"dollar_value\").alias(\"monthly_transactions\"),\n",
    ")\n",
    "\n",
    "modeldf2.limit(5)"
   ]
  },
  {
   "cell_type": "markdown",
   "id": "6ff46245-4421-47c9-84a2-523d7cfff14c",
   "metadata": {},
   "source": [
    "However, by similar logic, we should also prefer merchants with a wider consumer base, or a merchant that makes a large amount of revenue, from frequent, smaller value transactions that are likely to be from different customers. Additionally, we found that amongst certain predefined income ranges, the highest proportion of BNPL users came from the group with average household income between \\\\$50 000-\\\\$75 000. Combining these two ideas led to our third feature, which was based on the number of unique customers for a given merchant who resides in a postcode with median income between \\\\$50 000 and \\\\$75 000."
   ]
  },
  {
   "cell_type": "code",
   "execution_count": 29,
   "id": "293386be-574f-461c-8241-6882522c970e",
   "metadata": {},
   "outputs": [
    {
     "name": "stderr",
     "output_type": "stream",
     "text": [
      "                                                                                \r"
     ]
    },
    {
     "data": {
      "text/html": [
       "<table border='1'>\n",
       "<tr><th>year</th><th>month</th><th>merchant_abn</th><th>monthly_middle_customers</th></tr>\n",
       "<tr><td>2022</td><td>3</td><td>45466221547</td><td>284</td></tr>\n",
       "<tr><td>2021</td><td>10</td><td>24852446429</td><td>2818</td></tr>\n",
       "<tr><td>2022</td><td>5</td><td>60956456424</td><td>1107</td></tr>\n",
       "<tr><td>2022</td><td>4</td><td>92065881715</td><td>78</td></tr>\n",
       "<tr><td>2022</td><td>9</td><td>57554365043</td><td>116</td></tr>\n",
       "<tr><td>2022</td><td>4</td><td>25884436429</td><td>62</td></tr>\n",
       "<tr><td>2021</td><td>11</td><td>74019238521</td><td>341</td></tr>\n",
       "<tr><td>2021</td><td>5</td><td>80779820715</td><td>395</td></tr>\n",
       "<tr><td>2021</td><td>11</td><td>55828706874</td><td>6</td></tr>\n",
       "<tr><td>2021</td><td>6</td><td>52536215795</td><td>5</td></tr>\n",
       "<tr><td>2022</td><td>8</td><td>71094934182</td><td>294</td></tr>\n",
       "<tr><td>2021</td><td>12</td><td>35014882568</td><td>240</td></tr>\n",
       "<tr><td>2022</td><td>9</td><td>51659779274</td><td>62</td></tr>\n",
       "<tr><td>2022</td><td>10</td><td>50315283629</td><td>367</td></tr>\n",
       "<tr><td>2022</td><td>2</td><td>80893432676</td><td>9</td></tr>\n",
       "<tr><td>2021</td><td>7</td><td>92075595936</td><td>17</td></tr>\n",
       "<tr><td>2022</td><td>4</td><td>15700338102</td><td>2</td></tr>\n",
       "<tr><td>2022</td><td>1</td><td>32560075533</td><td>207</td></tr>\n",
       "<tr><td>2021</td><td>10</td><td>97738870301</td><td>11</td></tr>\n",
       "<tr><td>2022</td><td>6</td><td>98416475066</td><td>147</td></tr>\n",
       "</table>\n",
       "only showing top 20 rows\n"
      ],
      "text/plain": [
       "+----+-----+------------+------------------------+\n",
       "|year|month|merchant_abn|monthly_middle_customers|\n",
       "+----+-----+------------+------------------------+\n",
       "|2022|    3| 45466221547|                     284|\n",
       "|2021|   10| 24852446429|                    2818|\n",
       "|2022|    5| 60956456424|                    1107|\n",
       "|2022|    4| 92065881715|                      78|\n",
       "|2022|    9| 57554365043|                     116|\n",
       "|2022|    4| 25884436429|                      62|\n",
       "|2021|   11| 74019238521|                     341|\n",
       "|2021|    5| 80779820715|                     395|\n",
       "|2021|   11| 55828706874|                       6|\n",
       "|2021|    6| 52536215795|                       5|\n",
       "|2022|    8| 71094934182|                     294|\n",
       "|2021|   12| 35014882568|                     240|\n",
       "|2022|    9| 51659779274|                      62|\n",
       "|2022|   10| 50315283629|                     367|\n",
       "|2022|    2| 80893432676|                       9|\n",
       "|2021|    7| 92075595936|                      17|\n",
       "|2022|    4| 15700338102|                       2|\n",
       "|2022|    1| 32560075533|                     207|\n",
       "|2021|   10| 97738870301|                      11|\n",
       "|2022|    6| 98416475066|                     147|\n",
       "+----+-----+------------+------------------------+\n",
       "only showing top 20 rows"
      ]
     },
     "execution_count": 29,
     "metadata": {},
     "output_type": "execute_result"
    }
   ],
   "source": [
    "LOWER_INCOME_THRESHOLD = 50000\n",
    "UPPER_INCOME_THRESHOLD = 75000\n",
    "modeldf3 = finaldf.withColumn(\"year\", date_format(col(\"order_datetime\"), \"yyyy\").cast(\"long\"))\n",
    "modeldf3 = modeldf3.withColumn(\"month\", date_format(col(\"order_datetime\"), \"MM\").cast(\"long\"))\n",
    "modeldf3 = modeldf3.filter((modeldf3.median_income > LOWER_INCOME_THRESHOLD) &\n",
    "                         (modeldf3.median_income < UPPER_INCOME_THRESHOLD))\n",
    "                                     \n",
    "for field in (\"postcode\",\"take_rate\"):\n",
    "    modeldf3 = modeldf3.withColumn(\n",
    "        field,\n",
    "        col(field).cast('double')\n",
    "    )\n",
    "\n",
    "modeldf3 = modeldf3.drop(\"order_datetime\",\"order_id\",\"company_name\",\"consumer_fraud_%\",\"merchant_fraud_%\")\n",
    "modeldf3 = modeldf3.groupBy(\"year\",\"month\",\"merchant_abn\").agg(\n",
    "    countDistinct(\"consumer_id\").alias(\"monthly_middle_customers\"),\n",
    ")\n",
    "modeldf3"
   ]
  },
  {
   "cell_type": "markdown",
   "id": "756b6bb7-a06d-40fa-9f46-a3675b0bec63",
   "metadata": {},
   "source": [
    "However, rather than just deriving these features based on the previous transactions seen in the data, we aimed to identify any potential trends in these features for merchants over time, and hence try and forecast the values of these features, for every merchant in every month of 2023. \n",
    " \n",
    "Such predictions were done through the use of a simple time series regression model, which is essentially just a typical linear regression model, but with the addition of what are called lagged variables. To take the example of our model to predict future revenue, the lagged variables in this time series regression would be the predicted revenue of the merchant for the previous certain amount of months. \n",
    "\n",
    "The models were built using data from February 2021 - July 2022, and predictions were made and compared to the actual values for August 2022 - October 2022 to ensure the validity of the models."
   ]
  },
  {
   "cell_type": "code",
   "execution_count": 30,
   "id": "2fc9337f-1733-4af3-b9cb-07225a62fd88",
   "metadata": {},
   "outputs": [
    {
     "name": "stdout",
     "output_type": "stream",
     "text": [
      "17.268581125035247\n"
     ]
    }
   ],
   "source": [
    "dfp = spark.read.parquet(\"../data/curated/trans_num_predictions.parquet\").toPandas()\n",
    "print(mean_absolute_error(dfp[\"monthly_transactions\"],  dfp[\"prediction\"]))"
   ]
  },
  {
   "cell_type": "markdown",
   "id": "f304dc91-bde1-4a49-8fa7-e450e11213fe",
   "metadata": {},
   "source": [
    "On average, the model is incorrect by 17.27 transactions"
   ]
  },
  {
   "cell_type": "code",
   "execution_count": 31,
   "id": "1e579e1a-af5a-4f24-8416-e13f1352b84a",
   "metadata": {},
   "outputs": [
    {
     "name": "stdout",
     "output_type": "stream",
     "text": [
      "191.4923477564675\n"
     ]
    }
   ],
   "source": [
    "dfp = spark.read.parquet(\"../data/curated/profit_merch_predictions.parquet\").toPandas()\n",
    "print(mean_absolute_error(dfp[\"monthly_profit\"],  dfp[\"prediction\"]))"
   ]
  },
  {
   "cell_type": "markdown",
   "id": "54bf975b-78ba-4666-bf1a-c2f77e813522",
   "metadata": {},
   "source": [
    "On average, the model is incorrect by $191.49"
   ]
  },
  {
   "cell_type": "code",
   "execution_count": 32,
   "id": "84ba9413-809e-4336-be46-619c13b9634e",
   "metadata": {},
   "outputs": [
    {
     "name": "stdout",
     "output_type": "stream",
     "text": [
      "5.492855867887573\n"
     ]
    }
   ],
   "source": [
    "dfp = spark.read.parquet(\"../data/curated/medium_customers_predictions.parquet\").toPandas()\n",
    "print(mean_absolute_error(dfp[\"monthly_middle_customers\"],  dfp[\"prediction\"]))"
   ]
  },
  {
   "cell_type": "markdown",
   "id": "55aba37b-c747-4219-a46d-d20e09e55f8a",
   "metadata": {},
   "source": [
    "On average, our model is incorrect by 5.49 'middle' customers"
   ]
  },
  {
   "cell_type": "markdown",
   "id": "6ef90e0a-7e82-4ffc-a9d1-15dfc846a26c",
   "metadata": {},
   "source": [
    "Determining how many months to use to predict the next month's features was a difficult task. On one hand, having more lags means a smaller sample size of months to build our model on, as for example, the month of February 2021 doesn’t have any data from a previous month to use as a feature, meaning it is of no use to us. So the more lags we add, the more months we discard. \n",
    "\n",
    "However, more lags means our model can (to an extent) more accurately predict certain trends over time. Extended analysis (see appropriate notebooks for further analysis) determined that for a large majority of merchants, two lags was seen as being the amount which balanced these factors best."
   ]
  },
  {
   "cell_type": "markdown",
   "id": "7d82f527-fe3c-498c-8c6d-f9caa8b5f9ff",
   "metadata": {},
   "source": [
    "Alongside the above curated features, we determined that merchants with a relatively large population of young and middle aged adults are more desired. This was based on a research report presented by [AFIA (pg.24)](https://afia.asn.au/files/galleries/AFIA_BNPL_Research_Report.pdf) showing the BNPL Usage over time by age group, with 25-34 year olds having the highest usage, followed closely by 18-24 year olds, then 35-44 year olds, and so on. Thus, using postcode data for each merchant, we extrapolated the population of each age group using the population dataset. We then obtained the quantile values for each age group and categorized the data into the 4 quantiles as follows:\n",
    "\n",
    "* group 1 :  LowerQuartile\n",
    "* group 2 : between LowerQuatile and Median\n",
    "* group 3 : between Median and UpperQuartile\n",
    "* group 4 :  UpperQuartile\n",
    "\n",
    "This was done so comparisons between population values for a given age group would be easier, e.g. for the young adult population, having less than 022 is considered small, whereas having more than 2073 is considered very large (see notebook 4.4 to get the quantile values for each age group)."
   ]
  },
  {
   "cell_type": "code",
   "execution_count": 33,
   "id": "75f602bb-fdb6-426f-9f5c-ffb0d3113dc6",
   "metadata": {},
   "outputs": [
    {
     "data": {
      "text/html": [
       "<table border='1'>\n",
       "<tr><th>merchant_abn</th><th>total_pop</th><th>under10_pop</th><th>adolsc_pop</th><th>yng_adult_pop</th><th>mid_age_pop</th><th>old_pop</th></tr>\n",
       "<tr><td>10618089367</td><td>4</td><td>4</td><td>4</td><td>4</td><td>4</td><td>4</td></tr>\n",
       "<tr><td>11237511112</td><td>4</td><td>4</td><td>4</td><td>4</td><td>4</td><td>4</td></tr>\n",
       "<tr><td>11355018654</td><td>4</td><td>4</td><td>4</td><td>4</td><td>4</td><td>4</td></tr>\n",
       "<tr><td>11470993597</td><td>4</td><td>4</td><td>4</td><td>4</td><td>4</td><td>4</td></tr>\n",
       "<tr><td>11566786699</td><td>3</td><td>3</td><td>4</td><td>2</td><td>3</td><td>4</td></tr>\n",
       "</table>\n"
      ],
      "text/plain": [
       "+------------+---------+-----------+----------+-------------+-----------+-------+\n",
       "|merchant_abn|total_pop|under10_pop|adolsc_pop|yng_adult_pop|mid_age_pop|old_pop|\n",
       "+------------+---------+-----------+----------+-------------+-----------+-------+\n",
       "| 10618089367|        4|          4|         4|            4|          4|      4|\n",
       "| 11237511112|        4|          4|         4|            4|          4|      4|\n",
       "| 11355018654|        4|          4|         4|            4|          4|      4|\n",
       "| 11470993597|        4|          4|         4|            4|          4|      4|\n",
       "| 11566786699|        3|          3|         4|            2|          3|      4|\n",
       "+------------+---------+-----------+----------+-------------+-----------+-------+"
      ]
     },
     "execution_count": 33,
     "metadata": {},
     "output_type": "execute_result"
    }
   ],
   "source": [
    "merch_pop = spark.read.parquet(\"../data/curated/merch_pop.parquet/\")\n",
    "merch_pop.limit(5)"
   ]
  },
  {
   "cell_type": "markdown",
   "id": "bf6f0d50",
   "metadata": {},
   "source": [
    "### Results"
   ]
  },
  {
   "cell_type": "markdown",
   "id": "f7033447",
   "metadata": {},
   "source": [
    "#### Initial Ranking System"
   ]
  },
  {
   "cell_type": "markdown",
   "id": "060b1913",
   "metadata": {},
   "source": [
    "Ranking System uses the following features:\n",
    "- future predictions for transactions per merchant per month\n",
    "- future predictions for profit per merchant per month\n",
    "- future predictions for customers within revenue range \\\\$50k-\\\\$75k per month\n",
    "- population (quartiles) of young adults and middle aged adults based on postcodes of consumers"
   ]
  },
  {
   "cell_type": "code",
   "execution_count": 34,
   "id": "fe109f70",
   "metadata": {},
   "outputs": [],
   "source": [
    "future_trans_sdf = spark.read.parquet(\"../data/curated/futuretrans.parquet/\")\n",
    "future_profit_sdf = spark.read.parquet(\"../data/curated/futureprofit.parquet/\")\n",
    "future_mcustomers_sdf = spark.read.parquet(\"../data/curated/futuremcustomers.parquet/\")"
   ]
  },
  {
   "cell_type": "markdown",
   "id": "84f2e503",
   "metadata": {},
   "source": [
    "Create a pandas dataframe to store points for each merchant, with total points initialized to zero."
   ]
  },
  {
   "cell_type": "code",
   "execution_count": 35,
   "id": "92f02eac",
   "metadata": {},
   "outputs": [
    {
     "data": {
      "text/html": [
       "<div>\n",
       "<style scoped>\n",
       "    .dataframe tbody tr th:only-of-type {\n",
       "        vertical-align: middle;\n",
       "    }\n",
       "\n",
       "    .dataframe tbody tr th {\n",
       "        vertical-align: top;\n",
       "    }\n",
       "\n",
       "    .dataframe thead th {\n",
       "        text-align: right;\n",
       "    }\n",
       "</style>\n",
       "<table border=\"1\" class=\"dataframe\">\n",
       "  <thead>\n",
       "    <tr style=\"text-align: right;\">\n",
       "      <th></th>\n",
       "      <th>merchant_abn</th>\n",
       "      <th>total_points</th>\n",
       "      <th>pop_points</th>\n",
       "      <th>trans_points</th>\n",
       "      <th>profit_points</th>\n",
       "      <th>mcust_points</th>\n",
       "    </tr>\n",
       "  </thead>\n",
       "  <tbody>\n",
       "    <tr>\n",
       "      <th>0</th>\n",
       "      <td>10023283211</td>\n",
       "      <td>1</td>\n",
       "      <td>0</td>\n",
       "      <td>0</td>\n",
       "      <td>0</td>\n",
       "      <td>0</td>\n",
       "    </tr>\n",
       "    <tr>\n",
       "      <th>1</th>\n",
       "      <td>10142254217</td>\n",
       "      <td>1</td>\n",
       "      <td>0</td>\n",
       "      <td>0</td>\n",
       "      <td>0</td>\n",
       "      <td>0</td>\n",
       "    </tr>\n",
       "    <tr>\n",
       "      <th>2</th>\n",
       "      <td>10165489824</td>\n",
       "      <td>1</td>\n",
       "      <td>0</td>\n",
       "      <td>0</td>\n",
       "      <td>0</td>\n",
       "      <td>0</td>\n",
       "    </tr>\n",
       "    <tr>\n",
       "      <th>3</th>\n",
       "      <td>10187291046</td>\n",
       "      <td>1</td>\n",
       "      <td>0</td>\n",
       "      <td>0</td>\n",
       "      <td>0</td>\n",
       "      <td>0</td>\n",
       "    </tr>\n",
       "    <tr>\n",
       "      <th>4</th>\n",
       "      <td>10192359162</td>\n",
       "      <td>1</td>\n",
       "      <td>0</td>\n",
       "      <td>0</td>\n",
       "      <td>0</td>\n",
       "      <td>0</td>\n",
       "    </tr>\n",
       "    <tr>\n",
       "      <th>...</th>\n",
       "      <td>...</td>\n",
       "      <td>...</td>\n",
       "      <td>...</td>\n",
       "      <td>...</td>\n",
       "      <td>...</td>\n",
       "      <td>...</td>\n",
       "    </tr>\n",
       "    <tr>\n",
       "      <th>4013</th>\n",
       "      <td>99938978285</td>\n",
       "      <td>1</td>\n",
       "      <td>0</td>\n",
       "      <td>0</td>\n",
       "      <td>0</td>\n",
       "      <td>0</td>\n",
       "    </tr>\n",
       "    <tr>\n",
       "      <th>4014</th>\n",
       "      <td>99974311662</td>\n",
       "      <td>1</td>\n",
       "      <td>0</td>\n",
       "      <td>0</td>\n",
       "      <td>0</td>\n",
       "      <td>0</td>\n",
       "    </tr>\n",
       "    <tr>\n",
       "      <th>4015</th>\n",
       "      <td>99976658299</td>\n",
       "      <td>1</td>\n",
       "      <td>0</td>\n",
       "      <td>0</td>\n",
       "      <td>0</td>\n",
       "      <td>0</td>\n",
       "    </tr>\n",
       "    <tr>\n",
       "      <th>4016</th>\n",
       "      <td>99987905597</td>\n",
       "      <td>1</td>\n",
       "      <td>0</td>\n",
       "      <td>0</td>\n",
       "      <td>0</td>\n",
       "      <td>0</td>\n",
       "    </tr>\n",
       "    <tr>\n",
       "      <th>4017</th>\n",
       "      <td>99990536339</td>\n",
       "      <td>1</td>\n",
       "      <td>0</td>\n",
       "      <td>0</td>\n",
       "      <td>0</td>\n",
       "      <td>0</td>\n",
       "    </tr>\n",
       "  </tbody>\n",
       "</table>\n",
       "<p>4018 rows × 6 columns</p>\n",
       "</div>"
      ],
      "text/plain": [
       "      merchant_abn  total_points  pop_points  trans_points  profit_points  \\\n",
       "0      10023283211             1           0             0              0   \n",
       "1      10142254217             1           0             0              0   \n",
       "2      10165489824             1           0             0              0   \n",
       "3      10187291046             1           0             0              0   \n",
       "4      10192359162             1           0             0              0   \n",
       "...            ...           ...         ...           ...            ...   \n",
       "4013   99938978285             1           0             0              0   \n",
       "4014   99974311662             1           0             0              0   \n",
       "4015   99976658299             1           0             0              0   \n",
       "4016   99987905597             1           0             0              0   \n",
       "4017   99990536339             1           0             0              0   \n",
       "\n",
       "      mcust_points  \n",
       "0                0  \n",
       "1                0  \n",
       "2                0  \n",
       "3                0  \n",
       "4                0  \n",
       "...            ...  \n",
       "4013             0  \n",
       "4014             0  \n",
       "4015             0  \n",
       "4016             0  \n",
       "4017             0  \n",
       "\n",
       "[4018 rows x 6 columns]"
      ]
     },
     "execution_count": 35,
     "metadata": {},
     "output_type": "execute_result"
    }
   ],
   "source": [
    "merch_points_pd = future_trans_sdf \\\n",
    "    .select('merchant_abn') \\\n",
    "    .distinct() \\\n",
    "    .withColumns({\n",
    "        'total_points': lit(1),\n",
    "        'pop_points': lit(0),\n",
    "        'trans_points': lit(0),\n",
    "        'profit_points': lit(0),\n",
    "        'mcust_points': lit(0)\n",
    "    }) \\\n",
    "    .orderBy(\"merchant_abn\") \\\n",
    "    .toPandas()\n",
    "\n",
    "merch_points_pd"
   ]
  },
  {
   "cell_type": "markdown",
   "id": "2f234a4d",
   "metadata": {},
   "source": [
    "Have 4018 distinct merchants, need to select top 100 merchants\n",
    "\n",
    "Idea:\n",
    "- all merchants have initial points 1\n",
    "- the more the number of points, the higher/better the rank will be\n",
    "- points given based on sorted positioning within the features and importance of the feature (for transaction, profit, and mcustomers)\n",
    "- award 0.125 points to merchants having a relatively large young adult and middle age population (external research) <br>\n",
    "with large meaning the populations are above the lower quartile (not group 1 - see notebook 4.4)\n",
    "- each feature has a weight to assign importance, with all weights summing to 1"
   ]
  },
  {
   "cell_type": "code",
   "execution_count": 36,
   "id": "db05669a",
   "metadata": {},
   "outputs": [],
   "source": [
    "WEIGHT_POP = 0.125\n",
    "WEIGHT_TRANS = 0.375\n",
    "WEIGHT_PROFIT = 0.375\n",
    "WEIGHT_MCUSTOMERS = 0.125"
   ]
  },
  {
   "cell_type": "markdown",
   "id": "58f2c32b-461c-449d-95c2-ea197ce1097d",
   "metadata": {},
   "source": [
    "Based on the above idea, the resulting points for each merchant are as shown: (see notebook 5 for detailed implementation)"
   ]
  },
  {
   "cell_type": "code",
   "execution_count": 37,
   "id": "0a4039b7-6a66-471f-88a7-4b11b80284d6",
   "metadata": {},
   "outputs": [
    {
     "data": {
      "text/html": [
       "<div>\n",
       "<style scoped>\n",
       "    .dataframe tbody tr th:only-of-type {\n",
       "        vertical-align: middle;\n",
       "    }\n",
       "\n",
       "    .dataframe tbody tr th {\n",
       "        vertical-align: top;\n",
       "    }\n",
       "\n",
       "    .dataframe thead th {\n",
       "        text-align: right;\n",
       "    }\n",
       "</style>\n",
       "<table border=\"1\" class=\"dataframe\">\n",
       "  <thead>\n",
       "    <tr style=\"text-align: right;\">\n",
       "      <th></th>\n",
       "      <th>merchant_abn</th>\n",
       "      <th>total_points</th>\n",
       "      <th>pop_points</th>\n",
       "      <th>trans_points</th>\n",
       "      <th>profit_points</th>\n",
       "      <th>mcust_points</th>\n",
       "    </tr>\n",
       "  </thead>\n",
       "  <tbody>\n",
       "    <tr>\n",
       "      <th>0</th>\n",
       "      <td>86578477987</td>\n",
       "      <td>42164.500</td>\n",
       "      <td>0.000</td>\n",
       "      <td>18072.0</td>\n",
       "      <td>37646.125</td>\n",
       "      <td>6024.000</td>\n",
       "    </tr>\n",
       "    <tr>\n",
       "      <th>1</th>\n",
       "      <td>45629217853</td>\n",
       "      <td>42136.125</td>\n",
       "      <td>0.125</td>\n",
       "      <td>18054.0</td>\n",
       "      <td>37623.375</td>\n",
       "      <td>6018.000</td>\n",
       "    </tr>\n",
       "    <tr>\n",
       "      <th>2</th>\n",
       "      <td>89726005175</td>\n",
       "      <td>42103.750</td>\n",
       "      <td>0.000</td>\n",
       "      <td>18049.5</td>\n",
       "      <td>37590.250</td>\n",
       "      <td>6016.500</td>\n",
       "    </tr>\n",
       "    <tr>\n",
       "      <th>3</th>\n",
       "      <td>21439773999</td>\n",
       "      <td>42091.000</td>\n",
       "      <td>0.000</td>\n",
       "      <td>18027.0</td>\n",
       "      <td>37586.500</td>\n",
       "      <td>6009.000</td>\n",
       "    </tr>\n",
       "    <tr>\n",
       "      <th>4</th>\n",
       "      <td>64403598239</td>\n",
       "      <td>42080.250</td>\n",
       "      <td>0.125</td>\n",
       "      <td>18022.5</td>\n",
       "      <td>37576.875</td>\n",
       "      <td>6007.500</td>\n",
       "    </tr>\n",
       "    <tr>\n",
       "      <th>...</th>\n",
       "      <td>...</td>\n",
       "      <td>...</td>\n",
       "      <td>...</td>\n",
       "      <td>...</td>\n",
       "      <td>...</td>\n",
       "      <td>...</td>\n",
       "    </tr>\n",
       "    <tr>\n",
       "      <th>4013</th>\n",
       "      <td>48549026640</td>\n",
       "      <td>279.000</td>\n",
       "      <td>0.000</td>\n",
       "      <td>114.0</td>\n",
       "      <td>242.875</td>\n",
       "      <td>48.125</td>\n",
       "    </tr>\n",
       "    <tr>\n",
       "      <th>4014</th>\n",
       "      <td>65959377833</td>\n",
       "      <td>265.500</td>\n",
       "      <td>0.000</td>\n",
       "      <td>109.5</td>\n",
       "      <td>230.125</td>\n",
       "      <td>46.625</td>\n",
       "    </tr>\n",
       "    <tr>\n",
       "      <th>4015</th>\n",
       "      <td>71475747855</td>\n",
       "      <td>134.500</td>\n",
       "      <td>0.125</td>\n",
       "      <td>30.0</td>\n",
       "      <td>39.000</td>\n",
       "      <td>95.500</td>\n",
       "    </tr>\n",
       "    <tr>\n",
       "      <th>4016</th>\n",
       "      <td>86791380020</td>\n",
       "      <td>130.250</td>\n",
       "      <td>0.125</td>\n",
       "      <td>9.0</td>\n",
       "      <td>19.500</td>\n",
       "      <td>111.125</td>\n",
       "    </tr>\n",
       "    <tr>\n",
       "      <th>4017</th>\n",
       "      <td>34455283435</td>\n",
       "      <td>128.000</td>\n",
       "      <td>0.125</td>\n",
       "      <td>34.5</td>\n",
       "      <td>88.875</td>\n",
       "      <td>43.625</td>\n",
       "    </tr>\n",
       "  </tbody>\n",
       "</table>\n",
       "<p>4018 rows × 6 columns</p>\n",
       "</div>"
      ],
      "text/plain": [
       "      merchant_abn  total_points  pop_points  trans_points  profit_points  \\\n",
       "0      86578477987     42164.500       0.000       18072.0      37646.125   \n",
       "1      45629217853     42136.125       0.125       18054.0      37623.375   \n",
       "2      89726005175     42103.750       0.000       18049.5      37590.250   \n",
       "3      21439773999     42091.000       0.000       18027.0      37586.500   \n",
       "4      64403598239     42080.250       0.125       18022.5      37576.875   \n",
       "...            ...           ...         ...           ...            ...   \n",
       "4013   48549026640       279.000       0.000         114.0        242.875   \n",
       "4014   65959377833       265.500       0.000         109.5        230.125   \n",
       "4015   71475747855       134.500       0.125          30.0         39.000   \n",
       "4016   86791380020       130.250       0.125           9.0         19.500   \n",
       "4017   34455283435       128.000       0.125          34.5         88.875   \n",
       "\n",
       "      mcust_points  \n",
       "0         6024.000  \n",
       "1         6018.000  \n",
       "2         6016.500  \n",
       "3         6009.000  \n",
       "4         6007.500  \n",
       "...            ...  \n",
       "4013        48.125  \n",
       "4014        46.625  \n",
       "4015        95.500  \n",
       "4016       111.125  \n",
       "4017        43.625  \n",
       "\n",
       "[4018 rows x 6 columns]"
      ]
     },
     "execution_count": 37,
     "metadata": {},
     "output_type": "execute_result"
    }
   ],
   "source": [
    "merch_points_df = spark.read.parquet(\"../data/curated/merch_points.parquet\").sort(desc(\"total_points\")).toPandas()\n",
    "merch_points_df"
   ]
  },
  {
   "cell_type": "markdown",
   "id": "fc34fb16-4869-4fdc-ac14-d657c0b8afcf",
   "metadata": {},
   "source": [
    "Get the top 100 merchants with rankings and associated data for each merchant."
   ]
  },
  {
   "cell_type": "code",
   "execution_count": 38,
   "id": "1e12511f-28fc-4cf1-bef2-a2d4633467ac",
   "metadata": {},
   "outputs": [
    {
     "name": "stderr",
     "output_type": "stream",
     "text": [
      "                                                                                \r"
     ]
    },
    {
     "data": {
      "text/html": [
       "<table border='1'>\n",
       "<tr><th>merchant_abn</th><th>company_name</th><th>tags</th><th>take_rate</th><th>revenue_band</th><th>total_points</th><th>pop_points</th><th>trans_points</th><th>profit_points</th><th>mcust_points</th><th>rank</th></tr>\n",
       "<tr><td>45629217853</td><td>Lacus Consulting</td><td>gift, card, novel...</td><td> 6.98</td><td> a</td><td>42136.125</td><td>0.125</td><td>18054.0</td><td>37623.375</td><td>6018.0</td><td>1</td></tr>\n",
       "<tr><td>89726005175</td><td>Est Nunc Consulting</td><td>tent and awning s...</td><td> 6.01</td><td> a</td><td>42103.75</td><td>0.0</td><td>18049.5</td><td>37590.25</td><td>6016.5</td><td>2</td></tr>\n",
       "<tr><td>21439773999</td><td>Mauris Non Institute</td><td>cable, satellite,...</td><td> 6.10</td><td> a</td><td>42091.0</td><td>0.0</td><td>18027.0</td><td>37586.5</td><td>6009.0</td><td>3</td></tr>\n",
       "<tr><td>64403598239</td><td>Lobortis Ultrices...</td><td>music shops - mus...</td><td> 6.31</td><td> a</td><td>42080.25</td><td>0.125</td><td>18022.5</td><td>37576.875</td><td>6007.5</td><td>4</td></tr>\n",
       "<tr><td>32361057556</td><td>Orci In Consequat...</td><td>gift, card, novel...</td><td> 6.61</td><td> a</td><td>42077.5</td><td>0.0</td><td>18000.0</td><td>37583.875</td><td>6000.0</td><td>5</td></tr>\n",
       "<tr><td>49891706470</td><td>Non Vestibulum In...</td><td>tent and awning s...</td><td> 5.80</td><td> a</td><td>42071.5</td><td>0.0</td><td>18063.0</td><td>37549.375</td><td>6021.0</td><td>6</td></tr>\n",
       "<tr><td>94493496784</td><td>Dictum Phasellus ...</td><td>gift, card, novel...</td><td> 5.65</td><td> a</td><td>42044.625</td><td>0.125</td><td>18009.0</td><td>37544.25</td><td>6003.0</td><td>7</td></tr>\n",
       "<tr><td>43186523025</td><td>Lorem Ipsum Sodal...</td><td>florists supplies...</td><td> 4.47</td><td> b</td><td>42037.875</td><td>0.125</td><td>18045.0</td><td>37521.0</td><td>6015.0</td><td>8</td></tr>\n",
       "<tr><td>48534649627</td><td>Dignissim Maecena...</td><td>opticians, optica...</td><td> 6.64</td><td> a</td><td>42037.125</td><td>0.125</td><td>17973.0</td><td>37552.125</td><td>5991.0</td><td>9</td></tr>\n",
       "<tr><td>72472909171</td><td>Nullam Consulting</td><td>digital goods: bo...</td><td> 6.33</td><td> a</td><td>42032.125</td><td>0.0</td><td>18018.0</td><td>37526.5</td><td>6006.0</td><td>10</td></tr>\n",
       "<tr><td>79417999332</td><td>Phasellus At Company</td><td>gift, card, novel...</td><td> 4.95</td><td> b</td><td>42019.375</td><td>0.0</td><td>18013.5</td><td>37514.875</td><td>6004.5</td><td>11</td></tr>\n",
       "<tr><td>60956456424</td><td>Ultricies Digniss...</td><td>gift, card, novel...</td><td> 4.69</td><td> b</td><td>41954.125</td><td>0.0</td><td>18004.5</td><td>37448.5</td><td>6001.5</td><td>12</td></tr>\n",
       "<tr><td>49322182190</td><td>Gravida Mauris In...</td><td>watch, clock, and...</td><td> 6.35</td><td> a</td><td>41952.25</td><td>0.0</td><td>17943.75</td><td>37474.0</td><td>5980.5</td><td>13</td></tr>\n",
       "<tr><td>24852446429</td><td>Erat Vitae LLP</td><td>florists supplies...</td><td> 2.94</td><td> c</td><td>41922.625</td><td>0.0</td><td>18076.5</td><td>37382.125</td><td>6025.5</td><td>14</td></tr>\n",
       "<tr><td>98973094975</td><td>Ornare Fusce Inc.</td><td>hobby, toy and ga...</td><td> 5.98</td><td> a</td><td>41918.5</td><td>0.0</td><td>17950.875</td><td>37432.0</td><td>5985.0</td><td>15</td></tr>\n",
       "<tr><td>63290521567</td><td>Vehicula Pellente...</td><td>artist supply and...</td><td> 6.48</td><td> a</td><td>41900.125</td><td>0.0</td><td>18036.0</td><td>37375.75</td><td>6012.0</td><td>16</td></tr>\n",
       "<tr><td>49505931725</td><td>Suspendisse Ac As...</td><td>digital goods: bo...</td><td> 4.70</td><td> b</td><td>41890.75</td><td>0.0</td><td>17990.625</td><td>37388.875</td><td>5994.0</td><td>17</td></tr>\n",
       "<tr><td>76767266140</td><td>Phasellus At Limited</td><td>furniture, home f...</td><td> 4.65</td><td> b</td><td>41870.625</td><td>0.125</td><td>17905.5</td><td>37401.75</td><td>5968.5</td><td>18</td></tr>\n",
       "<tr><td>35909341340</td><td>Arcu Sed Eu Incor...</td><td>computer programm...</td><td> 4.80</td><td> b</td><td>41851.125</td><td>0.125</td><td>17874.0</td><td>37394.625</td><td>5958.0</td><td>19</td></tr>\n",
       "<tr><td>64203420245</td><td>Pede Nonummy Corp.</td><td>tent and awning s...</td><td> 2.86</td><td> c</td><td>41849.875</td><td>0.0</td><td>18067.5</td><td>37307.5</td><td>6022.5</td><td>20</td></tr>\n",
       "</table>\n",
       "only showing top 20 rows\n"
      ],
      "text/plain": [
       "+------------+--------------------+--------------------+---------+------------+------------+----------+------------+-------------+------------+----+\n",
       "|merchant_abn|        company_name|                tags|take_rate|revenue_band|total_points|pop_points|trans_points|profit_points|mcust_points|rank|\n",
       "+------------+--------------------+--------------------+---------+------------+------------+----------+------------+-------------+------------+----+\n",
       "| 45629217853|    Lacus Consulting|gift, card, novel...|     6.98|           a|   42136.125|     0.125|     18054.0|    37623.375|      6018.0|   1|\n",
       "| 89726005175| Est Nunc Consulting|tent and awning s...|     6.01|           a|    42103.75|       0.0|     18049.5|     37590.25|      6016.5|   2|\n",
       "| 21439773999|Mauris Non Institute|cable, satellite,...|     6.10|           a|     42091.0|       0.0|     18027.0|      37586.5|      6009.0|   3|\n",
       "| 64403598239|Lobortis Ultrices...|music shops - mus...|     6.31|           a|    42080.25|     0.125|     18022.5|    37576.875|      6007.5|   4|\n",
       "| 32361057556|Orci In Consequat...|gift, card, novel...|     6.61|           a|     42077.5|       0.0|     18000.0|    37583.875|      6000.0|   5|\n",
       "| 49891706470|Non Vestibulum In...|tent and awning s...|     5.80|           a|     42071.5|       0.0|     18063.0|    37549.375|      6021.0|   6|\n",
       "| 94493496784|Dictum Phasellus ...|gift, card, novel...|     5.65|           a|   42044.625|     0.125|     18009.0|     37544.25|      6003.0|   7|\n",
       "| 43186523025|Lorem Ipsum Sodal...|florists supplies...|     4.47|           b|   42037.875|     0.125|     18045.0|      37521.0|      6015.0|   8|\n",
       "| 48534649627|Dignissim Maecena...|opticians, optica...|     6.64|           a|   42037.125|     0.125|     17973.0|    37552.125|      5991.0|   9|\n",
       "| 72472909171|   Nullam Consulting|digital goods: bo...|     6.33|           a|   42032.125|       0.0|     18018.0|      37526.5|      6006.0|  10|\n",
       "| 79417999332|Phasellus At Company|gift, card, novel...|     4.95|           b|   42019.375|       0.0|     18013.5|    37514.875|      6004.5|  11|\n",
       "| 60956456424|Ultricies Digniss...|gift, card, novel...|     4.69|           b|   41954.125|       0.0|     18004.5|      37448.5|      6001.5|  12|\n",
       "| 49322182190|Gravida Mauris In...|watch, clock, and...|     6.35|           a|    41952.25|       0.0|    17943.75|      37474.0|      5980.5|  13|\n",
       "| 24852446429|      Erat Vitae LLP|florists supplies...|     2.94|           c|   41922.625|       0.0|     18076.5|    37382.125|      6025.5|  14|\n",
       "| 98973094975|   Ornare Fusce Inc.|hobby, toy and ga...|     5.98|           a|     41918.5|       0.0|   17950.875|      37432.0|      5985.0|  15|\n",
       "| 63290521567|Vehicula Pellente...|artist supply and...|     6.48|           a|   41900.125|       0.0|     18036.0|     37375.75|      6012.0|  16|\n",
       "| 49505931725|Suspendisse Ac As...|digital goods: bo...|     4.70|           b|    41890.75|       0.0|   17990.625|    37388.875|      5994.0|  17|\n",
       "| 76767266140|Phasellus At Limited|furniture, home f...|     4.65|           b|   41870.625|     0.125|     17905.5|     37401.75|      5968.5|  18|\n",
       "| 35909341340|Arcu Sed Eu Incor...|computer programm...|     4.80|           b|   41851.125|     0.125|     17874.0|    37394.625|      5958.0|  19|\n",
       "| 64203420245|  Pede Nonummy Corp.|tent and awning s...|     2.86|           c|   41849.875|       0.0|     18067.5|      37307.5|      6022.5|  20|\n",
       "+------------+--------------------+--------------------+---------+------------+------------+----------+------------+-------------+------------+----+\n",
       "only showing top 20 rows"
      ]
     },
     "execution_count": 38,
     "metadata": {},
     "output_type": "execute_result"
    }
   ],
   "source": [
    "# merchant data\n",
    "merchants_sdf = spark.read.parquet(\"../data/curated/merchantdf.parquet/\")\n",
    "\n",
    "# get only the top 100 \n",
    "top100_sdf = spark.createDataFrame(merch_points_df.iloc[1:101,])\n",
    "\n",
    "# join the two\n",
    "top100_merch = merchants_sdf.join(top100_sdf, \"merchant_abn\").orderBy(desc(\"total_points\"))\n",
    "\n",
    "# get ranking\n",
    "top100_merch = top100_merch \\\n",
    "    .select(\"*\") \\\n",
    "    .withColumn(\"rank\", monotonically_increasing_id()) \\\n",
    "    .withColumn(\"rank\", col(\"rank\") + lit(1))\n",
    "    \n",
    "top100_merch"
   ]
  },
  {
   "cell_type": "markdown",
   "id": "89b1baa7-4854-4d64-bbc6-94b090b4ab62",
   "metadata": {},
   "source": [
    "Observe frequency of tags"
   ]
  },
  {
   "cell_type": "code",
   "execution_count": 39,
   "id": "d62456cd-6381-4f43-88a7-ba2f233ea0e9",
   "metadata": {},
   "outputs": [
    {
     "data": {
      "text/plain": [
       "Text(0.5, 0, 'Frequency')"
      ]
     },
     "execution_count": 39,
     "metadata": {},
     "output_type": "execute_result"
    },
    {
     "data": {
      "image/png": "[encoded data removed]",
      "text/plain": [
       "<Figure size 640x480 with 1 Axes>"
      ]
     },
     "metadata": {},
     "output_type": "display_data"
    }
   ],
   "source": [
    "tags_count = top100_merch.groupBy(\"tags\") \\\n",
    "    .agg(\n",
    "        count(\"merchant_abn\").alias(\"count\")\n",
    "    ) \\\n",
    "    .orderBy(desc(\"count\")) \\\n",
    "    .toPandas()\n",
    "\n",
    "plt.barh(tags_count[\"tags\"], tags_count[\"count\"])\n",
    "plt.xlabel(\"Frequency\")"
   ]
  },
  {
   "cell_type": "markdown",
   "id": "7fb78305",
   "metadata": {},
   "source": [
    "#### Segmented Ranking"
   ]
  },
  {
   "cell_type": "markdown",
   "id": "a8062776",
   "metadata": {},
   "source": [
    "Konw that we have 25 unique tags."
   ]
  },
  {
   "cell_type": "markdown",
   "id": "29cd8c79",
   "metadata": {},
   "source": [
    "Assign tags to categories as follows:\n",
    "\n",
    "**Hobbies: books, movies, music, and games**\n",
    "- artist supply and craft shops\n",
    "- books, periodicals, and newspapers\n",
    "- digital goods: books, movies, music\n",
    "- hobby, toy and game shops\n",
    "- music shops - musical instruments, pianos, and sheet music\n",
    "\n",
    "**Home and Office**\n",
    "- cable, satellite, and other pay television and radio services\n",
    "- computer programming , data processing, and integrated systems design services\n",
    "- computers, computer peripheral equipment, and software\n",
    "- equipment, tool, furniture, and appliance rent al and leasing\n",
    "- furniture, home furnishings and equipment shops, and manufacturers, except appliances\n",
    "- stationery, office supplies and printing and writing paper\n",
    "- telecom\n",
    "\n",
    "**Outdoors**\n",
    "- bicycle shops - sales and service\n",
    "- florists supplies, nursery stock, and flowers\n",
    "- lawn and garden supply outlets, including nurseries\n",
    "- motor vehicle supplies and new parts\n",
    "- tent and awning shops\n",
    "\n",
    "**Self-care and Fashion**\n",
    "- health and beauty spas\n",
    "- jewelry, watch, clock, and silverware shops\n",
    "- opticians, optical goods, and eyeglasses\n",
    "- shoe shops\n",
    "- watch, clock, and jewelry repair shops\n",
    "\n",
    "**Other**\n",
    "- antique shops - sales, repairs, and restoration services\n",
    "- art dealers and galleries\n",
    "- gift, card, novelty, and souvenir shops"
   ]
  },
  {
   "cell_type": "code",
   "execution_count": 40,
   "id": "cc431c32",
   "metadata": {},
   "outputs": [],
   "source": [
    "# store first word of every tag (know that each tag begins with a unique word)\n",
    "segments_dic = {\n",
    "    \"Hobbies\": [\"artist\", \"books\", \"digital\", \"hobby\", \"music\"],\n",
    "    \"Home and Office\": [\"cable\", \"computer\", \"computers\", \"equipment\", \"furniture\", \"stationery\", \"telecom\"],\n",
    "    \"Outdoor\": [\"bicycle\", \"florists\", \"lawn\", \"motor\", \"tent\"],\n",
    "    \"Self-care and Fashion\": [\"health\", \"jewelry\", \"opticians\", \"shoe\", \"watch\"],\n",
    "    \"Other\": [\"antique\", \"art\", \"gift\"]\n",
    "}"
   ]
  },
  {
   "cell_type": "markdown",
   "id": "d49f4ab3-2a09-4d10-bbcd-a13d0e397021",
   "metadata": {},
   "source": [
    "Need to get top 10 merchants in each segment.\n",
    "\n",
    "Following the same idea for the ranking system and noting the defined segments above, we obtain the following results:"
   ]
  },
  {
   "cell_type": "code",
   "execution_count": 41,
   "id": "f46f7ab4-620b-48a5-8040-84de4176ff5b",
   "metadata": {},
   "outputs": [
    {
     "data": {
      "text/html": [
       "<table border='1'>\n",
       "<tr><th>merchant_abn</th><th>company_name</th><th>tags</th><th>take_rate</th><th>revenue_band</th><th>segment</th><th>total_points</th><th>pop_points</th><th>trans_points</th><th>profit_points</th><th>mcust_points</th><th>rank</th></tr>\n",
       "<tr><td>64403598239</td><td>Lobortis Ultrices...</td><td>music shops - mus...</td><td> 6.31</td><td> a</td><td>Hobbies</td><td>42080.25</td><td>0.125</td><td>18022.5</td><td>37576.875</td><td>6007.5</td><td>1</td></tr>\n",
       "<tr><td>72472909171</td><td>Nullam Consulting</td><td>digital goods: bo...</td><td> 6.33</td><td> a</td><td>Hobbies</td><td>42032.125</td><td>0.0</td><td>18018.0</td><td>37526.5</td><td>6006.0</td><td>2</td></tr>\n",
       "<tr><td>98973094975</td><td>Ornare Fusce Inc.</td><td>hobby, toy and ga...</td><td> 5.98</td><td> a</td><td>Hobbies</td><td>41918.5</td><td>0.0</td><td>17950.875</td><td>37432.0</td><td>5985.0</td><td>3</td></tr>\n",
       "<tr><td>63290521567</td><td>Vehicula Pellente...</td><td>artist supply and...</td><td> 6.48</td><td> a</td><td>Hobbies</td><td>41900.125</td><td>0.0</td><td>18036.0</td><td>37375.75</td><td>6012.0</td><td>4</td></tr>\n",
       "<tr><td>49505931725</td><td>Suspendisse Ac As...</td><td>digital goods: bo...</td><td> 4.70</td><td> b</td><td>Hobbies</td><td>41890.75</td><td>0.0</td><td>17990.625</td><td>37388.875</td><td>5994.0</td><td>5</td></tr>\n",
       "<tr><td>35223308778</td><td>Euismod In Corp.</td><td>books, periodical...</td><td> 4.19</td><td> b</td><td>Hobbies</td><td>41775.625</td><td>0.0</td><td>17923.5</td><td>37292.875</td><td>5972.625</td><td>6</td></tr>\n",
       "<tr><td>46298404088</td><td>Feugiat Sed Nec I...</td><td>books, periodical...</td><td> 6.16</td><td> a</td><td>Hobbies</td><td>41521.875</td><td>0.0</td><td>17892.0</td><td>37029.25</td><td>5964.875</td><td>7</td></tr>\n",
       "<tr><td>34179569263</td><td>Sodales At LLC</td><td>music shops - mus...</td><td> 4.72</td><td> b</td><td>Hobbies</td><td>41429.125</td><td>0.125</td><td>17621.625</td><td>37052.25</td><td>5871.625</td><td>8</td></tr>\n",
       "<tr><td>15560455575</td><td>Morbi Accumsan La...</td><td>digital goods: bo...</td><td> 4.08</td><td> b</td><td>Hobbies</td><td>41202.625</td><td>0.125</td><td>17761.5</td><td>36741.75</td><td>5920.75</td><td>9</td></tr>\n",
       "<tr><td>75034515922</td><td>Ac Eleifend Corp.</td><td>digital goods: bo...</td><td> 6.22</td><td> a</td><td>Hobbies</td><td>41140.0</td><td>0.0</td><td>17878.5</td><td>36622.0</td><td>5959.875</td><td>10</td></tr>\n",
       "<tr><td>21439773999</td><td>Mauris Non Institute</td><td>cable, satellite,...</td><td> 6.10</td><td> a</td><td>Home and Office</td><td>42091.0</td><td>0.0</td><td>18027.0</td><td>37586.5</td><td>6009.0</td><td>1</td></tr>\n",
       "<tr><td>76767266140</td><td>Phasellus At Limited</td><td>furniture, home f...</td><td> 4.65</td><td> b</td><td>Home and Office</td><td>41870.625</td><td>0.125</td><td>17905.5</td><td>37401.75</td><td>5968.5</td><td>2</td></tr>\n",
       "<tr><td>35909341340</td><td>Arcu Sed Eu Incor...</td><td>computer programm...</td><td> 4.80</td><td> b</td><td>Home and Office</td><td>41851.125</td><td>0.125</td><td>17874.0</td><td>37394.625</td><td>5958.0</td><td>3</td></tr>\n",
       "<tr><td>68216911708</td><td>Placerat Eget Ven...</td><td>computers, comput...</td><td> 3.05</td><td> c</td><td>Home and Office</td><td>41795.125</td><td>0.0</td><td>18031.5</td><td>37264.375</td><td>6010.5</td><td>4</td></tr>\n",
       "<tr><td>38090089066</td><td>Interdum Feugiat ...</td><td>furniture, home f...</td><td> 3.24</td><td> b</td><td>Home and Office</td><td>41783.625</td><td>0.125</td><td>17943.75</td><td>37289.625</td><td>5982.0</td><td>5</td></tr>\n",
       "<tr><td>67400260923</td><td>Eleifend PC</td><td>computer programm...</td><td> 5.97</td><td> a</td><td>Home and Office</td><td>41735.5</td><td>0.0</td><td>17869.5</td><td>37271.5</td><td>5956.5</td><td>6</td></tr>\n",
       "<tr><td>94690988633</td><td>Eu Placerat LLC</td><td>computers, comput...</td><td> 6.16</td><td> a</td><td>Home and Office</td><td>41695.75</td><td>0.0</td><td>17797.5</td><td>37260.625</td><td>5932.5</td><td>7</td></tr>\n",
       "<tr><td>80518954462</td><td>Neque Sed Dictum ...</td><td>computers, comput...</td><td> 3.49</td><td> b</td><td>Home and Office</td><td>41587.5</td><td>0.125</td><td>17772.75</td><td>37151.625</td><td>5926.5</td><td>8</td></tr>\n",
       "<tr><td>58454491168</td><td>Diam At Foundation</td><td>computer programm...</td><td> 6.01</td><td> a</td><td>Home and Office</td><td>41586.5</td><td>0.125</td><td>17712.0</td><td>37183.125</td><td>5901.125</td><td>9</td></tr>\n",
       "<tr><td>90543168331</td><td>Phasellus Dapibus...</td><td>furniture, home f...</td><td> 2.68</td><td> c</td><td>Home and Office</td><td>41580.75</td><td>0.0</td><td>17833.5</td><td>37118.5</td><td>5945.75</td><td>10</td></tr>\n",
       "</table>\n",
       "only showing top 20 rows\n"
      ],
      "text/plain": [
       "+------------+--------------------+--------------------+---------+------------+---------------+------------+----------+------------+-------------+------------+----+\n",
       "|merchant_abn|        company_name|                tags|take_rate|revenue_band|        segment|total_points|pop_points|trans_points|profit_points|mcust_points|rank|\n",
       "+------------+--------------------+--------------------+---------+------------+---------------+------------+----------+------------+-------------+------------+----+\n",
       "| 64403598239|Lobortis Ultrices...|music shops - mus...|     6.31|           a|        Hobbies|    42080.25|     0.125|     18022.5|    37576.875|      6007.5|   1|\n",
       "| 72472909171|   Nullam Consulting|digital goods: bo...|     6.33|           a|        Hobbies|   42032.125|       0.0|     18018.0|      37526.5|      6006.0|   2|\n",
       "| 98973094975|   Ornare Fusce Inc.|hobby, toy and ga...|     5.98|           a|        Hobbies|     41918.5|       0.0|   17950.875|      37432.0|      5985.0|   3|\n",
       "| 63290521567|Vehicula Pellente...|artist supply and...|     6.48|           a|        Hobbies|   41900.125|       0.0|     18036.0|     37375.75|      6012.0|   4|\n",
       "| 49505931725|Suspendisse Ac As...|digital goods: bo...|     4.70|           b|        Hobbies|    41890.75|       0.0|   17990.625|    37388.875|      5994.0|   5|\n",
       "| 35223308778|    Euismod In Corp.|books, periodical...|     4.19|           b|        Hobbies|   41775.625|       0.0|     17923.5|    37292.875|    5972.625|   6|\n",
       "| 46298404088|Feugiat Sed Nec I...|books, periodical...|     6.16|           a|        Hobbies|   41521.875|       0.0|     17892.0|     37029.25|    5964.875|   7|\n",
       "| 34179569263|      Sodales At LLC|music shops - mus...|     4.72|           b|        Hobbies|   41429.125|     0.125|   17621.625|     37052.25|    5871.625|   8|\n",
       "| 15560455575|Morbi Accumsan La...|digital goods: bo...|     4.08|           b|        Hobbies|   41202.625|     0.125|     17761.5|     36741.75|     5920.75|   9|\n",
       "| 75034515922|   Ac Eleifend Corp.|digital goods: bo...|     6.22|           a|        Hobbies|     41140.0|       0.0|     17878.5|      36622.0|    5959.875|  10|\n",
       "| 21439773999|Mauris Non Institute|cable, satellite,...|     6.10|           a|Home and Office|     42091.0|       0.0|     18027.0|      37586.5|      6009.0|   1|\n",
       "| 76767266140|Phasellus At Limited|furniture, home f...|     4.65|           b|Home and Office|   41870.625|     0.125|     17905.5|     37401.75|      5968.5|   2|\n",
       "| 35909341340|Arcu Sed Eu Incor...|computer programm...|     4.80|           b|Home and Office|   41851.125|     0.125|     17874.0|    37394.625|      5958.0|   3|\n",
       "| 68216911708|Placerat Eget Ven...|computers, comput...|     3.05|           c|Home and Office|   41795.125|       0.0|     18031.5|    37264.375|      6010.5|   4|\n",
       "| 38090089066|Interdum Feugiat ...|furniture, home f...|     3.24|           b|Home and Office|   41783.625|     0.125|    17943.75|    37289.625|      5982.0|   5|\n",
       "| 67400260923|         Eleifend PC|computer programm...|     5.97|           a|Home and Office|     41735.5|       0.0|     17869.5|      37271.5|      5956.5|   6|\n",
       "| 94690988633|     Eu Placerat LLC|computers, comput...|     6.16|           a|Home and Office|    41695.75|       0.0|     17797.5|    37260.625|      5932.5|   7|\n",
       "| 80518954462|Neque Sed Dictum ...|computers, comput...|     3.49|           b|Home and Office|     41587.5|     0.125|    17772.75|    37151.625|      5926.5|   8|\n",
       "| 58454491168|  Diam At Foundation|computer programm...|     6.01|           a|Home and Office|     41586.5|     0.125|     17712.0|    37183.125|    5901.125|   9|\n",
       "| 90543168331|Phasellus Dapibus...|furniture, home f...|     2.68|           c|Home and Office|    41580.75|       0.0|     17833.5|      37118.5|     5945.75|  10|\n",
       "+------------+--------------------+--------------------+---------+------------+---------------+------------+----------+------------+-------------+------------+----+\n",
       "only showing top 20 rows"
      ]
     },
     "execution_count": 41,
     "metadata": {},
     "output_type": "execute_result"
    }
   ],
   "source": [
    "seg_ranks_sdf = spark.read.parquet(\"../data/curated/seg_ranks.parquet\")\n",
    "seg_ranks_sdf"
   ]
  },
  {
   "cell_type": "markdown",
   "id": "4195a33e",
   "metadata": {},
   "source": [
    "Observe frequency of tags for each segment"
   ]
  },
  {
   "cell_type": "code",
   "execution_count": 42,
   "id": "5d505155",
   "metadata": {},
   "outputs": [
    {
     "name": "stdout",
     "output_type": "stream",
     "text": [
      "{'music shops - musical instruments, pianos, and sheet music': 2, 'digital goods: books, movies, music': 4, 'hobby, toy and game shops': 1, 'artist supply and craft shops': 1, 'books, periodicals, and newspapers': 2}\n",
      "{'cable, satellite, and other pay television and radio services': 1, 'furniture, home furnishings and equipment shops, and manufacturers, except appliances': 3, 'computer programming , data processing, and integrated systems design services': 3, 'computers, computer peripheral equipment, and software': 3}\n",
      "{'tent and awning shops': 3, 'florists supplies, nursery stock, and flowers': 5, 'motor vehicle supplies and new parts': 1, 'lawn and garden supply outlets, including nurseries': 1}\n",
      "{'watch, clock, and jewelry repair shops': 6, 'opticians, optical goods, and eyeglasses': 2, 'shoe shops': 2}\n",
      "{'gift, card, novelty, and souvenir shops': 8, 'antique shops - sales, repairs, and restoration services': 2}\n"
     ]
    },
    {
     "data": {
      "image/png": "[encoded data removed]",
      "text/plain": [
       "<Figure size 640x480 with 1 Axes>"
      ]
     },
     "metadata": {},
     "output_type": "display_data"
    },
    {
     "data": {
      "image/png": "[encoded data removed]",
      "text/plain": [
       "<Figure size 640x480 with 1 Axes>"
      ]
     },
     "metadata": {},
     "output_type": "display_data"
    },
    {
     "data": {
      "image/png": "[encoded data removed]",
      "text/plain": [
       "<Figure size 640x480 with 1 Axes>"
      ]
     },
     "metadata": {},
     "output_type": "display_data"
    },
    {
     "data": {
      "image/png": "[encoded data removed]",
      "text/plain": [
       "<Figure size 640x480 with 1 Axes>"
      ]
     },
     "metadata": {},
     "output_type": "display_data"
    },
    {
     "data": {
      "image/png": "[encoded data removed]",
      "text/plain": [
       "<Figure size 640x480 with 1 Axes>"
      ]
     },
     "metadata": {},
     "output_type": "display_data"
    }
   ],
   "source": [
    "seg_ranks_df = seg_ranks_sdf.toPandas()\n",
    "seg_ranks_grp = seg_ranks_df.groupby([\"segment\"])\n",
    "\n",
    "i = 0\n",
    "for segment in segments_dic.keys():\n",
    "    top10 = seg_ranks_grp.get_group(segment)\n",
    "    tags_count = dict(Counter(top10[\"tags\"]))\n",
    "    print(tags_count)\n",
    "\n",
    "    plt.figure(i)\n",
    "    plt.title(segment)\n",
    "    plt.barh(list(tags_count.keys()), list(tags_count.values()))\n",
    "    #plt.hist(top10[\"tags\"], orientation='horizontal')\n",
    "\n",
    "    i += 1\n"
   ]
  }
 ],
 "metadata": {
  "kernelspec": {
   "display_name": "Python 3 (ipykernel)",
   "language": "python",
   "name": "python3"
  },
  "language_info": {
   "codemirror_mode": {
    "name": "ipython",
    "version": 3
   },
   "file_extension": ".py",
   "mimetype": "text/x-python",
   "name": "python",
   "nbconvert_exporter": "python",
   "pygments_lexer": "ipython3",
   "version": "3.10.4"
  },
  "vscode": {
   "interpreter": {
    "hash": "916dbcbb3f70747c44a77c7bcd40155683ae19c65e1c03b4aa3499c5328201f1"
   }
  }
 },
 "nbformat": 4,
 "nbformat_minor": 5
}
