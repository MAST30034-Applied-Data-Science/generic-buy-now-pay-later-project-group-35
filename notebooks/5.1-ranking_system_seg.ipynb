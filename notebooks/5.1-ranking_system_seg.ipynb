{
 "cells": [
  {
   "cell_type": "code",
   "execution_count": 1,
   "metadata": {},
   "outputs": [
    {
     "name": "stdout",
     "output_type": "stream",
     "text": [
      "22/10/14 19:13:25 WARN Utils: Your hostname, DESKTOP-LNDD2A2 resolves to a loopback address: 127.0.1.1; using 172.21.134.174 instead (on interface eth0)\n",
      "22/10/14 19:13:25 WARN Utils: Set SPARK_LOCAL_IP if you need to bind to another address\n"
     ]
    },
    {
     "name": "stderr",
     "output_type": "stream",
     "text": [
      "Setting default log level to \"WARN\".\n",
      "To adjust logging level use sc.setLogLevel(newLevel). For SparkR, use setLogLevel(newLevel).\n"
     ]
    },
    {
     "name": "stdout",
     "output_type": "stream",
     "text": [
      "22/10/14 19:13:27 WARN NativeCodeLoader: Unable to load native-hadoop library for your platform... using builtin-java classes where applicable\n",
      "22/10/14 19:13:30 WARN Utils: Service 'SparkUI' could not bind on port 4040. Attempting port 4041.\n",
      "22/10/14 19:13:30 WARN Utils: Service 'SparkUI' could not bind on port 4041. Attempting port 4042.\n",
      "22/10/14 19:13:30 WARN Utils: Service 'SparkUI' could not bind on port 4042. Attempting port 4043.\n",
      "22/10/14 19:13:30 WARN Utils: Service 'SparkUI' could not bind on port 4043. Attempting port 4044.\n"
     ]
    }
   ],
   "source": [
    "from pyspark.sql import SparkSession\n",
    "from pyspark.sql.functions import * \n",
    "import matplotlib.pyplot as plt\n",
    "import pandas as pd\n",
    "import numpy as np\n",
    "from urllib.request import urlretrieve\n",
    "from owslib.wfs import WebFeatureService\n",
    "from dotenv import load_dotenv\n",
    "from pyspark.sql import functions as F\n",
    "from pyspark.sql import Window\n",
    "from pyspark.sql.functions import lit\n",
    "import re\n",
    "from collections import Counter\n",
    "\n",
    "\n",
    "# Create a spark session\n",
    "spark = (\n",
    "    SparkSession.builder.appName(\"analysis\")\n",
    "    .config(\"spark.sql.repl.eagerEval.enabled\", True) \n",
    "    .config(\"spark.sql.parquet.cacheMetadata\", \"true\")\n",
    "    .config(\"spark.sql.session.timeZone\", \"Etc/UTC\")\n",
    "    .config(\"spark.driver.memory\", \"2g\")\n",
    "    .config(\"spark.executor.memory\", \"6g\")\n",
    "    .getOrCreate()\n",
    ")"
   ]
  },
  {
   "cell_type": "code",
   "execution_count": 2,
   "metadata": {},
   "outputs": [
    {
     "name": "stderr",
     "output_type": "stream",
     "text": [
      "                                                                                \r"
     ]
    },
    {
     "data": {
      "text/html": [
       "<table border='1'>\n",
       "<tr><th>order_datetime</th><th>merchant_abn</th><th>user_id</th><th>postcode</th><th>consumer_id</th><th>dollar_value</th><th>order_id</th><th>state</th><th>gender</th><th>company_name</th><th>tags</th><th>take_rate</th><th>revenue_band</th><th>total_pop</th><th>under10_pop</th><th>adolsc_pop</th><th>yng_adult_pop</th><th>mid_age_pop</th><th>old_pop</th><th>num_earners</th><th>median_age</th><th>median_income</th><th>mean_income</th><th>consumer_fraud_%</th><th>merchant_fraud_%</th></tr>\n",
       "<tr><td>2021-08-21</td><td>80682333501</td><td>3146</td><td>5651</td><td>604753</td><td>0.3672339667473312</td><td>2a59c978-f760-42d...</td><td>SA</td><td>Male</td><td>Orci Corp.</td><td>florists supplies...</td><td> 4.88</td><td> b</td><td>2172</td><td>275</td><td>278</td><td>304</td><td>692</td><td>623</td><td>1308</td><td>47</td><td>37685</td><td>43540</td><td>0.1</td><td>0.1</td></tr>\n",
       "<tr><td>2021-08-19</td><td>99478391356</td><td>3146</td><td>5651</td><td>604753</td><td>3035.1695642706595</td><td>82e100bc-25c2-4e3...</td><td>SA</td><td>Male</td><td>Orci Quis Foundation</td><td>equipment, tool, ...</td><td> 1.52</td><td> c</td><td>2172</td><td>275</td><td>278</td><td>304</td><td>692</td><td>623</td><td>1308</td><td>47</td><td>37685</td><td>43540</td><td>0.1</td><td>0.1</td></tr>\n",
       "<tr><td>2021-08-19</td><td>86578477987</td><td>3146</td><td>5651</td><td>604753</td><td>61.05946896765003</td><td>9e3c8e62-9e8e-4e8...</td><td>SA</td><td>Male</td><td>Leo In Consulting</td><td>watch, clock, and...</td><td> 6.43</td><td> a</td><td>2172</td><td>275</td><td>278</td><td>304</td><td>692</td><td>623</td><td>1308</td><td>47</td><td>37685</td><td>43540</td><td>0.1</td><td>0.1</td></tr>\n",
       "<tr><td>2021-08-14</td><td>32361057556</td><td>3146</td><td>5651</td><td>604753</td><td>155.3456409871304</td><td>e4ff9499-e96d-4e6...</td><td>SA</td><td>Male</td><td>Orci In Consequat...</td><td>gift, card, novel...</td><td> 6.61</td><td> a</td><td>2172</td><td>275</td><td>278</td><td>304</td><td>692</td><td>623</td><td>1308</td><td>47</td><td>37685</td><td>43540</td><td>0.1</td><td>0.1</td></tr>\n",
       "<tr><td>2021-08-16</td><td>20445424481</td><td>3146</td><td>5651</td><td>604753</td><td>57.66971365811276</td><td>4a36f2ed-7bcc-43d...</td><td>SA</td><td>Male</td><td>Amet Industries</td><td>digital goods: bo...</td><td> 6.29</td><td> a</td><td>2172</td><td>275</td><td>278</td><td>304</td><td>692</td><td>623</td><td>1308</td><td>47</td><td>37685</td><td>43540</td><td>0.1</td><td>0.1</td></tr>\n",
       "</table>\n"
      ],
      "text/plain": [
       "+--------------+------------+-------+--------+-----------+------------------+--------------------+-----+------+--------------------+--------------------+---------+------------+---------+-----------+----------+-------------+-----------+-------+-----------+----------+-------------+-----------+----------------+----------------+\n",
       "|order_datetime|merchant_abn|user_id|postcode|consumer_id|      dollar_value|            order_id|state|gender|        company_name|                tags|take_rate|revenue_band|total_pop|under10_pop|adolsc_pop|yng_adult_pop|mid_age_pop|old_pop|num_earners|median_age|median_income|mean_income|consumer_fraud_%|merchant_fraud_%|\n",
       "+--------------+------------+-------+--------+-----------+------------------+--------------------+-----+------+--------------------+--------------------+---------+------------+---------+-----------+----------+-------------+-----------+-------+-----------+----------+-------------+-----------+----------------+----------------+\n",
       "|    2021-08-21| 80682333501|   3146|    5651|     604753|0.3672339667473312|2a59c978-f760-42d...|   SA|  Male|          Orci Corp.|florists supplies...|     4.88|           b|     2172|        275|       278|          304|        692|    623|       1308|        47|        37685|      43540|             0.1|             0.1|\n",
       "|    2021-08-19| 99478391356|   3146|    5651|     604753|3035.1695642706595|82e100bc-25c2-4e3...|   SA|  Male|Orci Quis Foundation|equipment, tool, ...|     1.52|           c|     2172|        275|       278|          304|        692|    623|       1308|        47|        37685|      43540|             0.1|             0.1|\n",
       "|    2021-08-19| 86578477987|   3146|    5651|     604753| 61.05946896765003|9e3c8e62-9e8e-4e8...|   SA|  Male|   Leo In Consulting|watch, clock, and...|     6.43|           a|     2172|        275|       278|          304|        692|    623|       1308|        47|        37685|      43540|             0.1|             0.1|\n",
       "|    2021-08-14| 32361057556|   3146|    5651|     604753| 155.3456409871304|e4ff9499-e96d-4e6...|   SA|  Male|Orci In Consequat...|gift, card, novel...|     6.61|           a|     2172|        275|       278|          304|        692|    623|       1308|        47|        37685|      43540|             0.1|             0.1|\n",
       "|    2021-08-16| 20445424481|   3146|    5651|     604753| 57.66971365811276|4a36f2ed-7bcc-43d...|   SA|  Male|     Amet Industries|digital goods: bo...|     6.29|           a|     2172|        275|       278|          304|        692|    623|       1308|        47|        37685|      43540|             0.1|             0.1|\n",
       "+--------------+------------+-------+--------+-----------+------------------+--------------------+-----+------+--------------------+--------------------+---------+------------+---------+-----------+----------+-------------+-----------+-------+-----------+----------+-------------+-----------+----------------+----------------+"
      ]
     },
     "execution_count": 2,
     "metadata": {},
     "output_type": "execute_result"
    }
   ],
   "source": [
    "sdf = spark.read.parquet(\"../data/curated/finaldf.parquet/\")\n",
    "sdf.limit(5)"
   ]
  },
  {
   "cell_type": "markdown",
   "metadata": {},
   "source": [
    "Get all unique tags"
   ]
  },
  {
   "cell_type": "code",
   "execution_count": 3,
   "metadata": {},
   "outputs": [
    {
     "name": "stderr",
     "output_type": "stream",
     "text": [
      "                                                                                \r"
     ]
    },
    {
     "name": "stdout",
     "output_type": "stream",
     "text": [
      "25\n"
     ]
    },
    {
     "name": "stderr",
     "output_type": "stream",
     "text": [
      "                                                                                \r"
     ]
    },
    {
     "data": {
      "text/html": [
       "<table border='1'>\n",
       "<tr><th>tags</th></tr>\n",
       "<tr><td>opticians, optica...</td></tr>\n",
       "<tr><td>watch, clock, and...</td></tr>\n",
       "<tr><td>computer programm...</td></tr>\n",
       "<tr><td>digital goods: bo...</td></tr>\n",
       "<tr><td>books, periodical...</td></tr>\n",
       "<tr><td>florists supplies...</td></tr>\n",
       "<tr><td>art dealers and g...</td></tr>\n",
       "<tr><td>antique shops - s...</td></tr>\n",
       "<tr><td>gift, card, novel...</td></tr>\n",
       "<tr><td>equipment, tool, ...</td></tr>\n",
       "<tr><td>cable, satellite,...</td></tr>\n",
       "<tr><td>tent and awning s...</td></tr>\n",
       "<tr><td>artist supply and...</td></tr>\n",
       "<tr><td>stationery, offic...</td></tr>\n",
       "<tr><td>furniture, home f...</td></tr>\n",
       "<tr><td>telecom</td></tr>\n",
       "<tr><td>jewelry, watch, c...</td></tr>\n",
       "<tr><td>shoe shops</td></tr>\n",
       "<tr><td>hobby, toy and ga...</td></tr>\n",
       "<tr><td>computers, comput...</td></tr>\n",
       "</table>\n",
       "only showing top 20 rows\n"
      ],
      "text/plain": [
       "+--------------------+\n",
       "|                tags|\n",
       "+--------------------+\n",
       "|opticians, optica...|\n",
       "|watch, clock, and...|\n",
       "|computer programm...|\n",
       "|digital goods: bo...|\n",
       "|books, periodical...|\n",
       "|florists supplies...|\n",
       "|art dealers and g...|\n",
       "|antique shops - s...|\n",
       "|gift, card, novel...|\n",
       "|equipment, tool, ...|\n",
       "|cable, satellite,...|\n",
       "|tent and awning s...|\n",
       "|artist supply and...|\n",
       "|stationery, offic...|\n",
       "|furniture, home f...|\n",
       "|             telecom|\n",
       "|jewelry, watch, c...|\n",
       "|          shoe shops|\n",
       "|hobby, toy and ga...|\n",
       "|computers, comput...|\n",
       "+--------------------+\n",
       "only showing top 20 rows"
      ]
     },
     "execution_count": 3,
     "metadata": {},
     "output_type": "execute_result"
    }
   ],
   "source": [
    "tags = sdf.select(\"tags\").distinct()\n",
    "print(tags.count())\n",
    "tags"
   ]
  },
  {
   "cell_type": "markdown",
   "metadata": {},
   "source": [
    "Have 25 unique tags"
   ]
  },
  {
   "cell_type": "markdown",
   "metadata": {},
   "source": [
    "Assign tags to categories as follows:\n",
    "\n",
    "**Hobbies: books, movies, music, and games**\n",
    "- artist supply and craft shops\n",
    "- books, periodicals, and newspapers\n",
    "- digital goods: books, movies, music\n",
    "- hobby, toy and game shops\n",
    "- music shops - musical instruments, pianos, and sheet music\n",
    "\n",
    "**Home and Office**\n",
    "- cable, satellite, and other pay television and radio services\n",
    "- computer programming , data processing, and integrated systems design services\n",
    "- computers, computer peripheral equipment, and software\n",
    "- equipment, tool, furniture, and appliance rent al and leasing\n",
    "- furniture, home furnishings and equipment shops, and manufacturers, except appliances\n",
    "- stationery, office supplies and printing and writing paper\n",
    "- telecom\n",
    "\n",
    "**Outdoors**\n",
    "- bicycle shops - sales and service\n",
    "- florists supplies, nursery stock, and flowers\n",
    "- lawn and garden supply outlets, including nurseries\n",
    "- motor vehicle supplies and new parts\n",
    "- tent and awning shops\n",
    "\n",
    "**Self-care and Fashion**\n",
    "- health and beauty spas\n",
    "- jewelry, watch, clock, and silverware shops\n",
    "- opticians, optical goods, and eyeglasses\n",
    "- shoe shops\n",
    "- watch, clock, and jewelry repair shops\n",
    "\n",
    "**Other**\n",
    "- antique shops - sales, repairs, and restoration services\n",
    "- art dealers and galleries\n",
    "- gift, card, novelty, and souvenir shops"
   ]
  },
  {
   "cell_type": "code",
   "execution_count": 4,
   "metadata": {},
   "outputs": [],
   "source": [
    "# store first word of every tag (know that each tag begins with a unique word)\n",
    "segments_dic = {\n",
    "    \"Hobbies\": [\"artist\", \"books\", \"digital\", \"hobby\", \"music\"],\n",
    "    \"Home and Office\": [\"cable\", \"computer\", \"computers\", \"equipment\", \"furniture\", \"stationery\", \"telecom\"],\n",
    "    \"Outdoor\": [\"bicycle\", \"florists\", \"lawn\", \"motor\", \"tent\"],\n",
    "    \"Self-care and Fashion\": [\"health\", \"jewelry\", \"opticians\", \"shoe\", \"watch\"],\n",
    "    \"Other\": [\"antique\", \"art\", \"gift\"]\n",
    "}"
   ]
  },
  {
   "cell_type": "code",
   "execution_count": 5,
   "metadata": {},
   "outputs": [
    {
     "name": "stdout",
     "output_type": "stream",
     "text": [
      "4026\n"
     ]
    },
    {
     "name": "stderr",
     "output_type": "stream",
     "text": [
      "                                                                                \r"
     ]
    },
    {
     "data": {
      "text/html": [
       "<table border='1'>\n",
       "<tr><th>company_name</th><th>tags</th><th>merchant_abn</th><th>take_rate</th><th>revenue_band</th></tr>\n",
       "<tr><td>Felis Limited</td><td>furniture, home f...</td><td>10023283211</td><td> 0.18</td><td> e</td></tr>\n",
       "<tr><td>Arcu Ac Orci Corp...</td><td>cable, satellite,...</td><td>10142254217</td><td> 4.22</td><td> b</td></tr>\n",
       "<tr><td>Nunc Sed Company</td><td>jewelry, watch, c...</td><td>10165489824</td><td> 4.40</td><td> b</td></tr>\n",
       "<tr><td>Ultricies Digniss...</td><td>watch, clock, and...</td><td>10187291046</td><td> 3.29</td><td> b</td></tr>\n",
       "<tr><td>Enim Condimentum PC</td><td>music shops - mus...</td><td>10192359162</td><td> 6.33</td><td> a</td></tr>\n",
       "</table>\n"
      ],
      "text/plain": [
       "+--------------------+--------------------+------------+---------+------------+\n",
       "|        company_name|                tags|merchant_abn|take_rate|revenue_band|\n",
       "+--------------------+--------------------+------------+---------+------------+\n",
       "|       Felis Limited|furniture, home f...| 10023283211|     0.18|           e|\n",
       "|Arcu Ac Orci Corp...|cable, satellite,...| 10142254217|     4.22|           b|\n",
       "|    Nunc Sed Company|jewelry, watch, c...| 10165489824|     4.40|           b|\n",
       "|Ultricies Digniss...|watch, clock, and...| 10187291046|     3.29|           b|\n",
       "| Enim Condimentum PC|music shops - mus...| 10192359162|     6.33|           a|\n",
       "+--------------------+--------------------+------------+---------+------------+"
      ]
     },
     "execution_count": 5,
     "metadata": {},
     "output_type": "execute_result"
    }
   ],
   "source": [
    "merchants_sdf = spark.read.parquet(\"../data/curated/merchantdf.parquet/\")\n",
    "print(merchants_sdf.count())\n",
    "merchants_sdf.limit(5)"
   ]
  },
  {
   "cell_type": "markdown",
   "metadata": {},
   "source": [
    "Convert merchants data to a pandas dataframe since we need indexing, and assign `merchant_abn` as the index"
   ]
  },
  {
   "cell_type": "code",
   "execution_count": 6,
   "metadata": {},
   "outputs": [
    {
     "data": {
      "text/html": [
       "<div>\n",
       "<style scoped>\n",
       "    .dataframe tbody tr th:only-of-type {\n",
       "        vertical-align: middle;\n",
       "    }\n",
       "\n",
       "    .dataframe tbody tr th {\n",
       "        vertical-align: top;\n",
       "    }\n",
       "\n",
       "    .dataframe thead th {\n",
       "        text-align: right;\n",
       "    }\n",
       "</style>\n",
       "<table border=\"1\" class=\"dataframe\">\n",
       "  <thead>\n",
       "    <tr style=\"text-align: right;\">\n",
       "      <th></th>\n",
       "      <th>company_name</th>\n",
       "      <th>tags</th>\n",
       "      <th>take_rate</th>\n",
       "      <th>revenue_band</th>\n",
       "      <th>segment</th>\n",
       "    </tr>\n",
       "    <tr>\n",
       "      <th>merchant_abn</th>\n",
       "      <th></th>\n",
       "      <th></th>\n",
       "      <th></th>\n",
       "      <th></th>\n",
       "      <th></th>\n",
       "    </tr>\n",
       "  </thead>\n",
       "  <tbody>\n",
       "    <tr>\n",
       "      <th>10023283211</th>\n",
       "      <td>Felis Limited</td>\n",
       "      <td>furniture, home furnishings and equipment shop...</td>\n",
       "      <td>0.18</td>\n",
       "      <td>e</td>\n",
       "      <td>NaN</td>\n",
       "    </tr>\n",
       "    <tr>\n",
       "      <th>10142254217</th>\n",
       "      <td>Arcu Ac Orci Corporation</td>\n",
       "      <td>cable, satellite, and other pay television and...</td>\n",
       "      <td>4.22</td>\n",
       "      <td>b</td>\n",
       "      <td>NaN</td>\n",
       "    </tr>\n",
       "    <tr>\n",
       "      <th>10165489824</th>\n",
       "      <td>Nunc Sed Company</td>\n",
       "      <td>jewelry, watch, clock, and silverware shops</td>\n",
       "      <td>4.40</td>\n",
       "      <td>b</td>\n",
       "      <td>NaN</td>\n",
       "    </tr>\n",
       "    <tr>\n",
       "      <th>10187291046</th>\n",
       "      <td>Ultricies Dignissim Lacus Foundation</td>\n",
       "      <td>watch, clock, and jewelry repair shops</td>\n",
       "      <td>3.29</td>\n",
       "      <td>b</td>\n",
       "      <td>NaN</td>\n",
       "    </tr>\n",
       "    <tr>\n",
       "      <th>10192359162</th>\n",
       "      <td>Enim Condimentum PC</td>\n",
       "      <td>music shops - musical instruments, pianos, and...</td>\n",
       "      <td>6.33</td>\n",
       "      <td>a</td>\n",
       "      <td>NaN</td>\n",
       "    </tr>\n",
       "    <tr>\n",
       "      <th>...</th>\n",
       "      <td>...</td>\n",
       "      <td>...</td>\n",
       "      <td>...</td>\n",
       "      <td>...</td>\n",
       "      <td>...</td>\n",
       "    </tr>\n",
       "    <tr>\n",
       "      <th>99938978285</th>\n",
       "      <td>Elit Dictum Eu Ltd</td>\n",
       "      <td>opticians, optical goods, and eyeglasses</td>\n",
       "      <td>4.50</td>\n",
       "      <td>b</td>\n",
       "      <td>NaN</td>\n",
       "    </tr>\n",
       "    <tr>\n",
       "      <th>99974311662</th>\n",
       "      <td>Mollis LLP</td>\n",
       "      <td>books, periodicals, and newspapers</td>\n",
       "      <td>3.17</td>\n",
       "      <td>b</td>\n",
       "      <td>NaN</td>\n",
       "    </tr>\n",
       "    <tr>\n",
       "      <th>99976658299</th>\n",
       "      <td>Sociosqu Corp.</td>\n",
       "      <td>shoe shops</td>\n",
       "      <td>6.57</td>\n",
       "      <td>a</td>\n",
       "      <td>NaN</td>\n",
       "    </tr>\n",
       "    <tr>\n",
       "      <th>99987905597</th>\n",
       "      <td>Commodo Hendrerit LLC</td>\n",
       "      <td>motor vehicle supplies and new parts</td>\n",
       "      <td>6.82</td>\n",
       "      <td>a</td>\n",
       "      <td>NaN</td>\n",
       "    </tr>\n",
       "    <tr>\n",
       "      <th>99990536339</th>\n",
       "      <td>Massa PC</td>\n",
       "      <td>motor vehicle supplies and new parts</td>\n",
       "      <td>0.18</td>\n",
       "      <td>e</td>\n",
       "      <td>NaN</td>\n",
       "    </tr>\n",
       "  </tbody>\n",
       "</table>\n",
       "<p>4026 rows × 5 columns</p>\n",
       "</div>"
      ],
      "text/plain": [
       "                                      company_name  \\\n",
       "merchant_abn                                         \n",
       "10023283211                          Felis Limited   \n",
       "10142254217               Arcu Ac Orci Corporation   \n",
       "10165489824                       Nunc Sed Company   \n",
       "10187291046   Ultricies Dignissim Lacus Foundation   \n",
       "10192359162                    Enim Condimentum PC   \n",
       "...                                            ...   \n",
       "99938978285                     Elit Dictum Eu Ltd   \n",
       "99974311662                             Mollis LLP   \n",
       "99976658299                         Sociosqu Corp.   \n",
       "99987905597                  Commodo Hendrerit LLC   \n",
       "99990536339                               Massa PC   \n",
       "\n",
       "                                                           tags take_rate  \\\n",
       "merchant_abn                                                                \n",
       "10023283211   furniture, home furnishings and equipment shop...      0.18   \n",
       "10142254217   cable, satellite, and other pay television and...      4.22   \n",
       "10165489824         jewelry, watch, clock, and silverware shops      4.40   \n",
       "10187291046              watch, clock, and jewelry repair shops      3.29   \n",
       "10192359162   music shops - musical instruments, pianos, and...      6.33   \n",
       "...                                                         ...       ...   \n",
       "99938978285            opticians, optical goods, and eyeglasses      4.50   \n",
       "99974311662                  books, periodicals, and newspapers      3.17   \n",
       "99976658299                                          shoe shops      6.57   \n",
       "99987905597                motor vehicle supplies and new parts      6.82   \n",
       "99990536339                motor vehicle supplies and new parts      0.18   \n",
       "\n",
       "             revenue_band  segment  \n",
       "merchant_abn                        \n",
       "10023283211             e      NaN  \n",
       "10142254217             b      NaN  \n",
       "10165489824             b      NaN  \n",
       "10187291046             b      NaN  \n",
       "10192359162             a      NaN  \n",
       "...                   ...      ...  \n",
       "99938978285             b      NaN  \n",
       "99974311662             b      NaN  \n",
       "99976658299             a      NaN  \n",
       "99987905597             a      NaN  \n",
       "99990536339             e      NaN  \n",
       "\n",
       "[4026 rows x 5 columns]"
      ]
     },
     "execution_count": 6,
     "metadata": {},
     "output_type": "execute_result"
    }
   ],
   "source": [
    "merchants_df = merchants_sdf.toPandas().set_index('merchant_abn')\n",
    "merchants_df[\"segment\"] = np.nan\n",
    "merchants_df"
   ]
  },
  {
   "cell_type": "markdown",
   "metadata": {},
   "source": [
    "Assign each merchant to a segment"
   ]
  },
  {
   "cell_type": "code",
   "execution_count": 7,
   "metadata": {},
   "outputs": [
    {
     "data": {
      "text/html": [
       "<div>\n",
       "<style scoped>\n",
       "    .dataframe tbody tr th:only-of-type {\n",
       "        vertical-align: middle;\n",
       "    }\n",
       "\n",
       "    .dataframe tbody tr th {\n",
       "        vertical-align: top;\n",
       "    }\n",
       "\n",
       "    .dataframe thead th {\n",
       "        text-align: right;\n",
       "    }\n",
       "</style>\n",
       "<table border=\"1\" class=\"dataframe\">\n",
       "  <thead>\n",
       "    <tr style=\"text-align: right;\">\n",
       "      <th></th>\n",
       "      <th>company_name</th>\n",
       "      <th>tags</th>\n",
       "      <th>take_rate</th>\n",
       "      <th>revenue_band</th>\n",
       "      <th>segment</th>\n",
       "    </tr>\n",
       "    <tr>\n",
       "      <th>merchant_abn</th>\n",
       "      <th></th>\n",
       "      <th></th>\n",
       "      <th></th>\n",
       "      <th></th>\n",
       "      <th></th>\n",
       "    </tr>\n",
       "  </thead>\n",
       "  <tbody>\n",
       "    <tr>\n",
       "      <th>10023283211</th>\n",
       "      <td>Felis Limited</td>\n",
       "      <td>furniture, home furnishings and equipment shop...</td>\n",
       "      <td>0.18</td>\n",
       "      <td>e</td>\n",
       "      <td>Home and Office</td>\n",
       "    </tr>\n",
       "    <tr>\n",
       "      <th>10142254217</th>\n",
       "      <td>Arcu Ac Orci Corporation</td>\n",
       "      <td>cable, satellite, and other pay television and...</td>\n",
       "      <td>4.22</td>\n",
       "      <td>b</td>\n",
       "      <td>Home and Office</td>\n",
       "    </tr>\n",
       "    <tr>\n",
       "      <th>10165489824</th>\n",
       "      <td>Nunc Sed Company</td>\n",
       "      <td>jewelry, watch, clock, and silverware shops</td>\n",
       "      <td>4.40</td>\n",
       "      <td>b</td>\n",
       "      <td>Self-care and Fashion</td>\n",
       "    </tr>\n",
       "    <tr>\n",
       "      <th>10187291046</th>\n",
       "      <td>Ultricies Dignissim Lacus Foundation</td>\n",
       "      <td>watch, clock, and jewelry repair shops</td>\n",
       "      <td>3.29</td>\n",
       "      <td>b</td>\n",
       "      <td>Self-care and Fashion</td>\n",
       "    </tr>\n",
       "    <tr>\n",
       "      <th>10192359162</th>\n",
       "      <td>Enim Condimentum PC</td>\n",
       "      <td>music shops - musical instruments, pianos, and...</td>\n",
       "      <td>6.33</td>\n",
       "      <td>a</td>\n",
       "      <td>Hobbies</td>\n",
       "    </tr>\n",
       "    <tr>\n",
       "      <th>...</th>\n",
       "      <td>...</td>\n",
       "      <td>...</td>\n",
       "      <td>...</td>\n",
       "      <td>...</td>\n",
       "      <td>...</td>\n",
       "    </tr>\n",
       "    <tr>\n",
       "      <th>99938978285</th>\n",
       "      <td>Elit Dictum Eu Ltd</td>\n",
       "      <td>opticians, optical goods, and eyeglasses</td>\n",
       "      <td>4.50</td>\n",
       "      <td>b</td>\n",
       "      <td>Self-care and Fashion</td>\n",
       "    </tr>\n",
       "    <tr>\n",
       "      <th>99974311662</th>\n",
       "      <td>Mollis LLP</td>\n",
       "      <td>books, periodicals, and newspapers</td>\n",
       "      <td>3.17</td>\n",
       "      <td>b</td>\n",
       "      <td>Hobbies</td>\n",
       "    </tr>\n",
       "    <tr>\n",
       "      <th>99976658299</th>\n",
       "      <td>Sociosqu Corp.</td>\n",
       "      <td>shoe shops</td>\n",
       "      <td>6.57</td>\n",
       "      <td>a</td>\n",
       "      <td>Self-care and Fashion</td>\n",
       "    </tr>\n",
       "    <tr>\n",
       "      <th>99987905597</th>\n",
       "      <td>Commodo Hendrerit LLC</td>\n",
       "      <td>motor vehicle supplies and new parts</td>\n",
       "      <td>6.82</td>\n",
       "      <td>a</td>\n",
       "      <td>Outdoor</td>\n",
       "    </tr>\n",
       "    <tr>\n",
       "      <th>99990536339</th>\n",
       "      <td>Massa PC</td>\n",
       "      <td>motor vehicle supplies and new parts</td>\n",
       "      <td>0.18</td>\n",
       "      <td>e</td>\n",
       "      <td>Outdoor</td>\n",
       "    </tr>\n",
       "  </tbody>\n",
       "</table>\n",
       "<p>4026 rows × 5 columns</p>\n",
       "</div>"
      ],
      "text/plain": [
       "                                      company_name  \\\n",
       "merchant_abn                                         \n",
       "10023283211                          Felis Limited   \n",
       "10142254217               Arcu Ac Orci Corporation   \n",
       "10165489824                       Nunc Sed Company   \n",
       "10187291046   Ultricies Dignissim Lacus Foundation   \n",
       "10192359162                    Enim Condimentum PC   \n",
       "...                                            ...   \n",
       "99938978285                     Elit Dictum Eu Ltd   \n",
       "99974311662                             Mollis LLP   \n",
       "99976658299                         Sociosqu Corp.   \n",
       "99987905597                  Commodo Hendrerit LLC   \n",
       "99990536339                               Massa PC   \n",
       "\n",
       "                                                           tags take_rate  \\\n",
       "merchant_abn                                                                \n",
       "10023283211   furniture, home furnishings and equipment shop...      0.18   \n",
       "10142254217   cable, satellite, and other pay television and...      4.22   \n",
       "10165489824         jewelry, watch, clock, and silverware shops      4.40   \n",
       "10187291046              watch, clock, and jewelry repair shops      3.29   \n",
       "10192359162   music shops - musical instruments, pianos, and...      6.33   \n",
       "...                                                         ...       ...   \n",
       "99938978285            opticians, optical goods, and eyeglasses      4.50   \n",
       "99974311662                  books, periodicals, and newspapers      3.17   \n",
       "99976658299                                          shoe shops      6.57   \n",
       "99987905597                motor vehicle supplies and new parts      6.82   \n",
       "99990536339                motor vehicle supplies and new parts      0.18   \n",
       "\n",
       "             revenue_band                segment  \n",
       "merchant_abn                                      \n",
       "10023283211             e        Home and Office  \n",
       "10142254217             b        Home and Office  \n",
       "10165489824             b  Self-care and Fashion  \n",
       "10187291046             b  Self-care and Fashion  \n",
       "10192359162             a                Hobbies  \n",
       "...                   ...                    ...  \n",
       "99938978285             b  Self-care and Fashion  \n",
       "99974311662             b                Hobbies  \n",
       "99976658299             a  Self-care and Fashion  \n",
       "99987905597             a                Outdoor  \n",
       "99990536339             e                Outdoor  \n",
       "\n",
       "[4026 rows x 5 columns]"
      ]
     },
     "execution_count": 7,
     "metadata": {},
     "output_type": "execute_result"
    }
   ],
   "source": [
    "for abn in merchants_df.index:\n",
    "    tag = merchants_df._get_value(abn, \"tags\")\n",
    "    first_word = tag.split(' ', 1)[0]\n",
    "    first_word = re.sub(r'[^\\w\\s]', '', first_word)\n",
    "\n",
    "    merch_segment = np.nan\n",
    "    for segment, tags in segments_dic.items():\n",
    "        if (first_word in tags):\n",
    "            merch_segment = segment\n",
    "    \n",
    "    merchants_df.loc[abn, \"segment\"] = merch_segment\n",
    "\n",
    "merchants_df"
   ]
  },
  {
   "cell_type": "markdown",
   "metadata": {},
   "source": [
    "Get numbered index"
   ]
  },
  {
   "cell_type": "code",
   "execution_count": 8,
   "metadata": {},
   "outputs": [
    {
     "data": {
      "text/html": [
       "<div>\n",
       "<style scoped>\n",
       "    .dataframe tbody tr th:only-of-type {\n",
       "        vertical-align: middle;\n",
       "    }\n",
       "\n",
       "    .dataframe tbody tr th {\n",
       "        vertical-align: top;\n",
       "    }\n",
       "\n",
       "    .dataframe thead th {\n",
       "        text-align: right;\n",
       "    }\n",
       "</style>\n",
       "<table border=\"1\" class=\"dataframe\">\n",
       "  <thead>\n",
       "    <tr style=\"text-align: right;\">\n",
       "      <th></th>\n",
       "      <th>merchant_abn</th>\n",
       "      <th>company_name</th>\n",
       "      <th>tags</th>\n",
       "      <th>take_rate</th>\n",
       "      <th>revenue_band</th>\n",
       "      <th>segment</th>\n",
       "    </tr>\n",
       "  </thead>\n",
       "  <tbody>\n",
       "    <tr>\n",
       "      <th>0</th>\n",
       "      <td>10023283211</td>\n",
       "      <td>Felis Limited</td>\n",
       "      <td>furniture, home furnishings and equipment shop...</td>\n",
       "      <td>0.18</td>\n",
       "      <td>e</td>\n",
       "      <td>Home and Office</td>\n",
       "    </tr>\n",
       "    <tr>\n",
       "      <th>1</th>\n",
       "      <td>10142254217</td>\n",
       "      <td>Arcu Ac Orci Corporation</td>\n",
       "      <td>cable, satellite, and other pay television and...</td>\n",
       "      <td>4.22</td>\n",
       "      <td>b</td>\n",
       "      <td>Home and Office</td>\n",
       "    </tr>\n",
       "    <tr>\n",
       "      <th>2</th>\n",
       "      <td>10165489824</td>\n",
       "      <td>Nunc Sed Company</td>\n",
       "      <td>jewelry, watch, clock, and silverware shops</td>\n",
       "      <td>4.40</td>\n",
       "      <td>b</td>\n",
       "      <td>Self-care and Fashion</td>\n",
       "    </tr>\n",
       "    <tr>\n",
       "      <th>3</th>\n",
       "      <td>10187291046</td>\n",
       "      <td>Ultricies Dignissim Lacus Foundation</td>\n",
       "      <td>watch, clock, and jewelry repair shops</td>\n",
       "      <td>3.29</td>\n",
       "      <td>b</td>\n",
       "      <td>Self-care and Fashion</td>\n",
       "    </tr>\n",
       "    <tr>\n",
       "      <th>4</th>\n",
       "      <td>10192359162</td>\n",
       "      <td>Enim Condimentum PC</td>\n",
       "      <td>music shops - musical instruments, pianos, and...</td>\n",
       "      <td>6.33</td>\n",
       "      <td>a</td>\n",
       "      <td>Hobbies</td>\n",
       "    </tr>\n",
       "    <tr>\n",
       "      <th>...</th>\n",
       "      <td>...</td>\n",
       "      <td>...</td>\n",
       "      <td>...</td>\n",
       "      <td>...</td>\n",
       "      <td>...</td>\n",
       "      <td>...</td>\n",
       "    </tr>\n",
       "    <tr>\n",
       "      <th>4021</th>\n",
       "      <td>99938978285</td>\n",
       "      <td>Elit Dictum Eu Ltd</td>\n",
       "      <td>opticians, optical goods, and eyeglasses</td>\n",
       "      <td>4.50</td>\n",
       "      <td>b</td>\n",
       "      <td>Self-care and Fashion</td>\n",
       "    </tr>\n",
       "    <tr>\n",
       "      <th>4022</th>\n",
       "      <td>99974311662</td>\n",
       "      <td>Mollis LLP</td>\n",
       "      <td>books, periodicals, and newspapers</td>\n",
       "      <td>3.17</td>\n",
       "      <td>b</td>\n",
       "      <td>Hobbies</td>\n",
       "    </tr>\n",
       "    <tr>\n",
       "      <th>4023</th>\n",
       "      <td>99976658299</td>\n",
       "      <td>Sociosqu Corp.</td>\n",
       "      <td>shoe shops</td>\n",
       "      <td>6.57</td>\n",
       "      <td>a</td>\n",
       "      <td>Self-care and Fashion</td>\n",
       "    </tr>\n",
       "    <tr>\n",
       "      <th>4024</th>\n",
       "      <td>99987905597</td>\n",
       "      <td>Commodo Hendrerit LLC</td>\n",
       "      <td>motor vehicle supplies and new parts</td>\n",
       "      <td>6.82</td>\n",
       "      <td>a</td>\n",
       "      <td>Outdoor</td>\n",
       "    </tr>\n",
       "    <tr>\n",
       "      <th>4025</th>\n",
       "      <td>99990536339</td>\n",
       "      <td>Massa PC</td>\n",
       "      <td>motor vehicle supplies and new parts</td>\n",
       "      <td>0.18</td>\n",
       "      <td>e</td>\n",
       "      <td>Outdoor</td>\n",
       "    </tr>\n",
       "  </tbody>\n",
       "</table>\n",
       "<p>4026 rows × 6 columns</p>\n",
       "</div>"
      ],
      "text/plain": [
       "      merchant_abn                          company_name  \\\n",
       "0      10023283211                         Felis Limited   \n",
       "1      10142254217              Arcu Ac Orci Corporation   \n",
       "2      10165489824                      Nunc Sed Company   \n",
       "3      10187291046  Ultricies Dignissim Lacus Foundation   \n",
       "4      10192359162                   Enim Condimentum PC   \n",
       "...            ...                                   ...   \n",
       "4021   99938978285                    Elit Dictum Eu Ltd   \n",
       "4022   99974311662                            Mollis LLP   \n",
       "4023   99976658299                        Sociosqu Corp.   \n",
       "4024   99987905597                 Commodo Hendrerit LLC   \n",
       "4025   99990536339                              Massa PC   \n",
       "\n",
       "                                                   tags take_rate  \\\n",
       "0     furniture, home furnishings and equipment shop...      0.18   \n",
       "1     cable, satellite, and other pay television and...      4.22   \n",
       "2           jewelry, watch, clock, and silverware shops      4.40   \n",
       "3                watch, clock, and jewelry repair shops      3.29   \n",
       "4     music shops - musical instruments, pianos, and...      6.33   \n",
       "...                                                 ...       ...   \n",
       "4021           opticians, optical goods, and eyeglasses      4.50   \n",
       "4022                 books, periodicals, and newspapers      3.17   \n",
       "4023                                         shoe shops      6.57   \n",
       "4024               motor vehicle supplies and new parts      6.82   \n",
       "4025               motor vehicle supplies and new parts      0.18   \n",
       "\n",
       "     revenue_band                segment  \n",
       "0               e        Home and Office  \n",
       "1               b        Home and Office  \n",
       "2               b  Self-care and Fashion  \n",
       "3               b  Self-care and Fashion  \n",
       "4               a                Hobbies  \n",
       "...           ...                    ...  \n",
       "4021            b  Self-care and Fashion  \n",
       "4022            b                Hobbies  \n",
       "4023            a  Self-care and Fashion  \n",
       "4024            a                Outdoor  \n",
       "4025            e                Outdoor  \n",
       "\n",
       "[4026 rows x 6 columns]"
      ]
     },
     "execution_count": 8,
     "metadata": {},
     "output_type": "execute_result"
    }
   ],
   "source": [
    "merchants_df.reset_index(drop=False,inplace=True)\n",
    "merchants_df"
   ]
  },
  {
   "cell_type": "markdown",
   "metadata": {},
   "source": [
    "Convert to spark dataframe"
   ]
  },
  {
   "cell_type": "code",
   "execution_count": 9,
   "metadata": {},
   "outputs": [
    {
     "name": "stderr",
     "output_type": "stream",
     "text": [
      "                                                                                \r"
     ]
    },
    {
     "data": {
      "text/html": [
       "<table border='1'>\n",
       "<tr><th>merchant_abn</th><th>company_name</th><th>tags</th><th>take_rate</th><th>revenue_band</th><th>segment</th></tr>\n",
       "<tr><td>10023283211</td><td>Felis Limited</td><td>furniture, home f...</td><td> 0.18</td><td> e</td><td>Home and Office</td></tr>\n",
       "<tr><td>10142254217</td><td>Arcu Ac Orci Corp...</td><td>cable, satellite,...</td><td> 4.22</td><td> b</td><td>Home and Office</td></tr>\n",
       "<tr><td>10165489824</td><td>Nunc Sed Company</td><td>jewelry, watch, c...</td><td> 4.40</td><td> b</td><td>Self-care and Fas...</td></tr>\n",
       "<tr><td>10187291046</td><td>Ultricies Digniss...</td><td>watch, clock, and...</td><td> 3.29</td><td> b</td><td>Self-care and Fas...</td></tr>\n",
       "<tr><td>10192359162</td><td>Enim Condimentum PC</td><td>music shops - mus...</td><td> 6.33</td><td> a</td><td>Hobbies</td></tr>\n",
       "</table>\n"
      ],
      "text/plain": [
       "+------------+--------------------+--------------------+---------+------------+--------------------+\n",
       "|merchant_abn|        company_name|                tags|take_rate|revenue_band|             segment|\n",
       "+------------+--------------------+--------------------+---------+------------+--------------------+\n",
       "| 10023283211|       Felis Limited|furniture, home f...|     0.18|           e|     Home and Office|\n",
       "| 10142254217|Arcu Ac Orci Corp...|cable, satellite,...|     4.22|           b|     Home and Office|\n",
       "| 10165489824|    Nunc Sed Company|jewelry, watch, c...|     4.40|           b|Self-care and Fas...|\n",
       "| 10187291046|Ultricies Digniss...|watch, clock, and...|     3.29|           b|Self-care and Fas...|\n",
       "| 10192359162| Enim Condimentum PC|music shops - mus...|     6.33|           a|             Hobbies|\n",
       "+------------+--------------------+--------------------+---------+------------+--------------------+"
      ]
     },
     "execution_count": 9,
     "metadata": {},
     "output_type": "execute_result"
    }
   ],
   "source": [
    "merchants_sdf = spark.createDataFrame(merchants_df)\n",
    "merchants_sdf.limit(5)"
   ]
  },
  {
   "cell_type": "code",
   "execution_count": 12,
   "metadata": {},
   "outputs": [
    {
     "data": {
      "text/html": [
       "<table border='1'>\n",
       "<tr><th>merchant_abn</th><th>total_points</th><th>pop_points</th><th>trans_points</th><th>profit_points</th><th>mcust_points</th></tr>\n",
       "<tr><td>10023283211</td><td>23850.625</td><td>0.0</td><td>14679.75</td><td>19261.0</td><td>4941.375</td></tr>\n",
       "<tr><td>10142254217</td><td>28458.25</td><td>0.0</td><td>14445.0</td><td>24405.625</td><td>4820.25</td></tr>\n",
       "<tr><td>10165489824</td><td>3773.875</td><td>0.125</td><td>183.0</td><td>3918.0</td><td>105.625</td></tr>\n",
       "<tr><td>10187291046</td><td>15534.75</td><td>0.125</td><td>8434.5</td><td>13181.25</td><td>2719.5</td></tr>\n",
       "<tr><td>10192359162</td><td>23528.5</td><td>0.125</td><td>8806.875</td><td>21416.25</td><td>3081.25</td></tr>\n",
       "</table>\n"
      ],
      "text/plain": [
       "+------------+------------+----------+------------+-------------+------------+\n",
       "|merchant_abn|total_points|pop_points|trans_points|profit_points|mcust_points|\n",
       "+------------+------------+----------+------------+-------------+------------+\n",
       "| 10023283211|   23850.625|       0.0|    14679.75|      19261.0|    4941.375|\n",
       "| 10142254217|    28458.25|       0.0|     14445.0|    24405.625|     4820.25|\n",
       "| 10165489824|    3773.875|     0.125|       183.0|       3918.0|     105.625|\n",
       "| 10187291046|    15534.75|     0.125|      8434.5|     13181.25|      2719.5|\n",
       "| 10192359162|     23528.5|     0.125|    8806.875|     21416.25|     3081.25|\n",
       "+------------+------------+----------+------------+-------------+------------+"
      ]
     },
     "execution_count": 12,
     "metadata": {},
     "output_type": "execute_result"
    }
   ],
   "source": [
    "merch_points_sdf = spark.read.parquet(\"../data/curated/merch_points.parquet\")\n",
    "merch_points_sdf.limit(5)"
   ]
  },
  {
   "cell_type": "markdown",
   "metadata": {},
   "source": [
    "Join merchants and rankings obtained from notebook 5"
   ]
  },
  {
   "cell_type": "code",
   "execution_count": 13,
   "metadata": {},
   "outputs": [
    {
     "name": "stdout",
     "output_type": "stream",
     "text": [
      "4018\n",
      "4018\n"
     ]
    },
    {
     "data": {
      "text/html": [
       "<table border='1'>\n",
       "<tr><th>merchant_abn</th><th>company_name</th><th>tags</th><th>take_rate</th><th>revenue_band</th><th>segment</th><th>total_points</th><th>pop_points</th><th>trans_points</th><th>profit_points</th><th>mcust_points</th></tr>\n",
       "<tr><td>10023283211</td><td>Felis Limited</td><td>furniture, home f...</td><td> 0.18</td><td> e</td><td>Home and Office</td><td>23850.625</td><td>0.0</td><td>14679.75</td><td>19261.0</td><td>4941.375</td></tr>\n",
       "<tr><td>10142254217</td><td>Arcu Ac Orci Corp...</td><td>cable, satellite,...</td><td> 4.22</td><td> b</td><td>Home and Office</td><td>28458.25</td><td>0.0</td><td>14445.0</td><td>24405.625</td><td>4820.25</td></tr>\n",
       "<tr><td>10165489824</td><td>Nunc Sed Company</td><td>jewelry, watch, c...</td><td> 4.40</td><td> b</td><td>Self-care and Fas...</td><td>3773.875</td><td>0.125</td><td>183.0</td><td>3918.0</td><td>105.625</td></tr>\n",
       "<tr><td>10187291046</td><td>Ultricies Digniss...</td><td>watch, clock, and...</td><td> 3.29</td><td> b</td><td>Self-care and Fas...</td><td>15534.75</td><td>0.125</td><td>8434.5</td><td>13181.25</td><td>2719.5</td></tr>\n",
       "<tr><td>10192359162</td><td>Enim Condimentum PC</td><td>music shops - mus...</td><td> 6.33</td><td> a</td><td>Hobbies</td><td>23528.5</td><td>0.125</td><td>8806.875</td><td>21416.25</td><td>3081.25</td></tr>\n",
       "</table>\n"
      ],
      "text/plain": [
       "+------------+--------------------+--------------------+---------+------------+--------------------+------------+----------+------------+-------------+------------+\n",
       "|merchant_abn|        company_name|                tags|take_rate|revenue_band|             segment|total_points|pop_points|trans_points|profit_points|mcust_points|\n",
       "+------------+--------------------+--------------------+---------+------------+--------------------+------------+----------+------------+-------------+------------+\n",
       "| 10023283211|       Felis Limited|furniture, home f...|     0.18|           e|     Home and Office|   23850.625|       0.0|    14679.75|      19261.0|    4941.375|\n",
       "| 10142254217|Arcu Ac Orci Corp...|cable, satellite,...|     4.22|           b|     Home and Office|    28458.25|       0.0|     14445.0|    24405.625|     4820.25|\n",
       "| 10165489824|    Nunc Sed Company|jewelry, watch, c...|     4.40|           b|Self-care and Fas...|    3773.875|     0.125|       183.0|       3918.0|     105.625|\n",
       "| 10187291046|Ultricies Digniss...|watch, clock, and...|     3.29|           b|Self-care and Fas...|    15534.75|     0.125|      8434.5|     13181.25|      2719.5|\n",
       "| 10192359162| Enim Condimentum PC|music shops - mus...|     6.33|           a|             Hobbies|     23528.5|     0.125|    8806.875|     21416.25|     3081.25|\n",
       "+------------+--------------------+--------------------+---------+------------+--------------------+------------+----------+------------+-------------+------------+"
      ]
     },
     "execution_count": 13,
     "metadata": {},
     "output_type": "execute_result"
    }
   ],
   "source": [
    "print(merch_points_sdf.count())\n",
    "merch_points2_sdf = merchants_sdf.join(merch_points_sdf, \"merchant_abn\")\n",
    "print(merch_points2_sdf.count())\n",
    "merch_points2_sdf.limit(5)"
   ]
  },
  {
   "cell_type": "code",
   "execution_count": 14,
   "metadata": {},
   "outputs": [
    {
     "name": "stderr",
     "output_type": "stream",
     "text": [
      "                                                                                \r"
     ]
    },
    {
     "name": "stdout",
     "output_type": "stream",
     "text": [
      "50\n",
      "+------------+--------------------+--------------------+---------+------------+---------------+------------+----------+------------+-------------+------------+----+\n",
      "|merchant_abn|        company_name|                tags|take_rate|revenue_band|        segment|total_points|pop_points|trans_points|profit_points|mcust_points|rank|\n",
      "+------------+--------------------+--------------------+---------+------------+---------------+------------+----------+------------+-------------+------------+----+\n",
      "| 64403598239|Lobortis Ultrices...|music shops - mus...|     6.31|           a|        Hobbies|    42080.25|     0.125|     18022.5|    37576.875|      6007.5|   1|\n",
      "| 72472909171|   Nullam Consulting|digital goods: bo...|     6.33|           a|        Hobbies|   42032.125|       0.0|     18018.0|      37526.5|      6006.0|   2|\n",
      "| 98973094975|   Ornare Fusce Inc.|hobby, toy and ga...|     5.98|           a|        Hobbies|     41918.5|       0.0|   17950.875|      37432.0|      5985.0|   3|\n",
      "| 63290521567|Vehicula Pellente...|artist supply and...|     6.48|           a|        Hobbies|   41900.125|       0.0|     18036.0|     37375.75|      6012.0|   4|\n",
      "| 49505931725|Suspendisse Ac As...|digital goods: bo...|     4.70|           b|        Hobbies|    41890.75|       0.0|   17990.625|    37388.875|      5994.0|   5|\n",
      "| 35223308778|    Euismod In Corp.|books, periodical...|     4.19|           b|        Hobbies|   41775.625|       0.0|     17923.5|    37292.875|    5972.625|   6|\n",
      "| 46298404088|Feugiat Sed Nec I...|books, periodical...|     6.16|           a|        Hobbies|   41521.875|       0.0|     17892.0|     37029.25|    5964.875|   7|\n",
      "| 34179569263|      Sodales At LLC|music shops - mus...|     4.72|           b|        Hobbies|   41429.125|     0.125|   17621.625|     37052.25|    5871.625|   8|\n",
      "| 15560455575|Morbi Accumsan La...|digital goods: bo...|     4.08|           b|        Hobbies|   41202.625|     0.125|     17761.5|     36741.75|     5920.75|   9|\n",
      "| 75034515922|   Ac Eleifend Corp.|digital goods: bo...|     6.22|           a|        Hobbies|     41140.0|       0.0|     17878.5|      36622.0|    5959.875|  10|\n",
      "| 21439773999|Mauris Non Institute|cable, satellite,...|     6.10|           a|Home and Office|     42091.0|       0.0|     18027.0|      37586.5|      6009.0|   1|\n",
      "| 76767266140|Phasellus At Limited|furniture, home f...|     4.65|           b|Home and Office|   41870.625|     0.125|     17905.5|     37401.75|      5968.5|   2|\n",
      "| 35909341340|Arcu Sed Eu Incor...|computer programm...|     4.80|           b|Home and Office|   41851.125|     0.125|     17874.0|    37394.625|      5958.0|   3|\n",
      "| 68216911708|Placerat Eget Ven...|computers, comput...|     3.05|           c|Home and Office|   41795.125|       0.0|     18031.5|    37264.375|      6010.5|   4|\n",
      "| 38090089066|Interdum Feugiat ...|furniture, home f...|     3.24|           b|Home and Office|   41783.625|     0.125|    17943.75|    37289.625|      5982.0|   5|\n",
      "| 67400260923|         Eleifend PC|computer programm...|     5.97|           a|Home and Office|     41735.5|       0.0|     17869.5|      37271.5|      5956.5|   6|\n",
      "| 94690988633|     Eu Placerat LLC|computers, comput...|     6.16|           a|Home and Office|    41695.75|       0.0|     17797.5|    37260.625|      5932.5|   7|\n",
      "| 80518954462|Neque Sed Dictum ...|computers, comput...|     3.49|           b|Home and Office|     41587.5|     0.125|    17772.75|    37151.625|      5926.5|   8|\n",
      "| 58454491168|  Diam At Foundation|computer programm...|     6.01|           a|Home and Office|     41586.5|     0.125|     17712.0|    37183.125|    5901.125|   9|\n",
      "| 90543168331|Phasellus Dapibus...|furniture, home f...|     2.68|           c|Home and Office|    41580.75|       0.0|     17833.5|      37118.5|     5945.75|  10|\n",
      "+------------+--------------------+--------------------+---------+------------+---------------+------------+----------+------------+-------------+------------+----+\n",
      "\n"
     ]
    }
   ],
   "source": [
    "w = Window.partitionBy(merch_points2_sdf['segment']).orderBy(merch_points2_sdf['total_points'].desc())\n",
    "\n",
    "seg_ranks_sdf = merch_points2_sdf \\\n",
    "    .select('*', rank().over(w).alias('rank')) \\\n",
    "    .filter(col('rank') <= 10)\n",
    "\n",
    "print(seg_ranks_sdf.count())\n",
    "print(seg_ranks_sdf.limit(20))"
   ]
  },
  {
   "cell_type": "markdown",
   "metadata": {},
   "source": [
    "Have obtained the top 10 merchants for each segment"
   ]
  },
  {
   "cell_type": "code",
   "execution_count": 15,
   "metadata": {},
   "outputs": [
    {
     "name": "stderr",
     "output_type": "stream",
     "text": [
      "                                                                                \r"
     ]
    }
   ],
   "source": [
    "seg_ranks_sdf.write.mode(\"overwrite\").parquet(\"../data/curated/seg_ranks.parquet\")"
   ]
  },
  {
   "cell_type": "markdown",
   "metadata": {},
   "source": [
    "***"
   ]
  },
  {
   "cell_type": "markdown",
   "metadata": {},
   "source": [
    "Visualize the frequency of each tag for each segment"
   ]
  },
  {
   "cell_type": "code",
   "execution_count": 16,
   "metadata": {},
   "outputs": [
    {
     "name": "stdout",
     "output_type": "stream",
     "text": [
      "{'music shops - musical instruments, pianos, and sheet music': 2, 'digital goods: books, movies, music': 4, 'hobby, toy and game shops': 1, 'artist supply and craft shops': 1, 'books, periodicals, and newspapers': 2}\n",
      "{'cable, satellite, and other pay television and radio services': 1, 'furniture, home furnishings and equipment shops, and manufacturers, except appliances': 3, 'computer programming , data processing, and integrated systems design services': 3, 'computers, computer peripheral equipment, and software': 3}\n",
      "{'tent and awning shops': 3, 'florists supplies, nursery stock, and flowers': 5, 'motor vehicle supplies and new parts': 1, 'lawn and garden supply outlets, including nurseries': 1}\n",
      "{'watch, clock, and jewelry repair shops': 6, 'opticians, optical goods, and eyeglasses': 2, 'shoe shops': 2}\n",
      "{'gift, card, novelty, and souvenir shops': 8, 'antique shops - sales, repairs, and restoration services': 2}\n"
     ]
    },
    {
     "data": {
      "image/png": "[encoded data removed]",
      "text/plain": [
       "<Figure size 432x288 with 1 Axes>"
      ]
     },
     "metadata": {
      "needs_background": "light"
     },
     "output_type": "display_data"
    },
    {
     "data": {
      "image/png": "[encoded data removed]",
      "text/plain": [
       "<Figure size 432x288 with 1 Axes>"
      ]
     },
     "metadata": {
      "needs_background": "light"
     },
     "output_type": "display_data"
    },
    {
     "data": {
      "image/png": "[encoded data removed]",
      "text/plain": [
       "<Figure size 432x288 with 1 Axes>"
      ]
     },
     "metadata": {
      "needs_background": "light"
     },
     "output_type": "display_data"
    },
    {
     "data": {
      "image/png": "[encoded data removed]",
      "text/plain": [
       "<Figure size 432x288 with 1 Axes>"
      ]
     },
     "metadata": {
      "needs_background": "light"
     },
     "output_type": "display_data"
    },
    {
     "data": {
      "image/png": "[encoded data removed]",
      "text/plain": [
       "<Figure size 432x288 with 1 Axes>"
      ]
     },
     "metadata": {
      "needs_background": "light"
     },
     "output_type": "display_data"
    }
   ],
   "source": [
    "seg_ranks_df = seg_ranks_sdf.toPandas()\n",
    "seg_ranks_grp = seg_ranks_df.groupby([\"segment\"])\n",
    "\n",
    "i = 0\n",
    "for segment in segments_dic.keys():\n",
    "    top10 = seg_ranks_grp.get_group(segment)\n",
    "    tags_count = dict(Counter(top10[\"tags\"]))\n",
    "    print(tags_count)\n",
    "\n",
    "    plt.figure(i)\n",
    "    plt.title(segment)\n",
    "    plt.barh(list(tags_count.keys()), list(tags_count.values()))\n",
    "\n",
    "    i += 1\n"
   ]
  }
 ],
 "metadata": {
  "kernelspec": {
   "display_name": "Python 3 (ipykernel)",
   "language": "python",
   "name": "python3"
  },
  "language_info": {
   "codemirror_mode": {
    "name": "ipython",
    "version": 3
   },
   "file_extension": ".py",
   "mimetype": "text/x-python",
   "name": "python",
   "nbconvert_exporter": "python",
   "pygments_lexer": "ipython3",
   "version": "3.8.10"
  },
  "vscode": {
   "interpreter": {
    "hash": "916dbcbb3f70747c44a77c7bcd40155683ae19c65e1c03b4aa3499c5328201f1"
   }
  }
 },
 "nbformat": 4,
 "nbformat_minor": 4
}
