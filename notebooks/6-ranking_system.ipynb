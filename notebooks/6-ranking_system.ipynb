{
 "cells": [
  {
   "cell_type": "code",
   "execution_count": 41,
   "metadata": {},
   "outputs": [],
   "source": [
    "from pyspark.sql import SparkSession\n",
    "from pyspark.sql.functions import * \n",
    "import matplotlib.pyplot as plt\n",
    "import pandas as pd\n",
    "import numpy as np\n",
    "from urllib.request import urlretrieve\n",
    "from owslib.wfs import WebFeatureService\n",
    "from dotenv import load_dotenv\n",
    "from pyspark.sql import functions as F\n",
    "from pyspark.sql import Window\n",
    "from pyspark.sql.functions import lit\n",
    "\n",
    "# Create a spark session\n",
    "spark = (\n",
    "    SparkSession.builder.appName(\"analysis\")\n",
    "    .config(\"spark.sql.repl.eagerEval.enabled\", True) \n",
    "    .config(\"spark.sql.parquet.cacheMetadata\", \"true\")\n",
    "    .config(\"spark.sql.session.timeZone\", \"Etc/UTC\")\n",
    "    .config(\"spark.driver.memory\", \"2g\")\n",
    "    .config(\"spark.executor.memory\", \"6g\")\n",
    "    .getOrCreate()\n",
    ")"
   ]
  },
  {
   "cell_type": "markdown",
   "metadata": {},
   "source": [
    "## Initial Ranking System"
   ]
  },
  {
   "cell_type": "markdown",
   "metadata": {},
   "source": [
    "Ranking System uses the following features:\n",
    "- future predictions for transactions per merchant per month\n",
    "- future predictions for profit per merchant per month\n",
    "- future predictions for customers within revenue range \\\\$50k-\\\\$75k per month"
   ]
  },
  {
   "cell_type": "code",
   "execution_count": 42,
   "metadata": {},
   "outputs": [
    {
     "data": {
      "text/html": [
       "<table border='1'>\n",
       "<tr><th>year</th><th>month</th><th>merchant_abn</th><th>total_transactions</th></tr>\n",
       "<tr><td>2023</td><td>5</td><td>80121625734</td><td>36.85885854384651</td></tr>\n",
       "<tr><td>2023</td><td>5</td><td>10187291046</td><td>43.94976345056075</td></tr>\n",
       "<tr><td>2023</td><td>5</td><td>32772607667</td><td>56.982676773785485</td></tr>\n",
       "<tr><td>2023</td><td>5</td><td>19633197919</td><td>44.95620568112244</td></tr>\n",
       "<tr><td>2023</td><td>5</td><td>18737319630</td><td>38.9600224762402</td></tr>\n",
       "</table>\n"
      ],
      "text/plain": [
       "+----+-----+------------+------------------+\n",
       "|year|month|merchant_abn|total_transactions|\n",
       "+----+-----+------------+------------------+\n",
       "|2023|    5| 80121625734| 36.85885854384651|\n",
       "|2023|    5| 10187291046| 43.94976345056075|\n",
       "|2023|    5| 32772607667|56.982676773785485|\n",
       "|2023|    5| 19633197919| 44.95620568112244|\n",
       "|2023|    5| 18737319630|  38.9600224762402|\n",
       "+----+-----+------------+------------------+"
      ]
     },
     "execution_count": 42,
     "metadata": {},
     "output_type": "execute_result"
    }
   ],
   "source": [
    "future_trans_sdf = spark.read.parquet(\"../data/curated/futuretrans.parquet/\")\n",
    "future_trans_sdf.limit(5)"
   ]
  },
  {
   "cell_type": "code",
   "execution_count": 43,
   "metadata": {},
   "outputs": [
    {
     "data": {
      "text/html": [
       "<table border='1'>\n",
       "<tr><th>year</th><th>month</th><th>merchant_abn</th><th>total_profit</th></tr>\n",
       "<tr><td>2023</td><td>5</td><td>80121625734</td><td>718.7299519941164</td></tr>\n",
       "<tr><td>2023</td><td>5</td><td>10187291046</td><td>321.20928697548646</td></tr>\n",
       "<tr><td>2023</td><td>5</td><td>32772607667</td><td>382.856836584368</td></tr>\n",
       "<tr><td>2023</td><td>5</td><td>19633197919</td><td>909.3521069894532</td></tr>\n",
       "<tr><td>2023</td><td>5</td><td>18737319630</td><td>368.7870030808791</td></tr>\n",
       "</table>\n"
      ],
      "text/plain": [
       "+----+-----+------------+------------------+\n",
       "|year|month|merchant_abn|      total_profit|\n",
       "+----+-----+------------+------------------+\n",
       "|2023|    5| 80121625734| 718.7299519941164|\n",
       "|2023|    5| 10187291046|321.20928697548646|\n",
       "|2023|    5| 32772607667|  382.856836584368|\n",
       "|2023|    5| 19633197919| 909.3521069894532|\n",
       "|2023|    5| 18737319630| 368.7870030808791|\n",
       "+----+-----+------------+------------------+"
      ]
     },
     "execution_count": 43,
     "metadata": {},
     "output_type": "execute_result"
    }
   ],
   "source": [
    "future_profit_sdf = spark.read.parquet(\"../data/curated/futureprofit.parquet/\")\n",
    "future_profit_sdf.limit(5)"
   ]
  },
  {
   "cell_type": "code",
   "execution_count": 44,
   "metadata": {},
   "outputs": [
    {
     "data": {
      "text/html": [
       "<table border='1'>\n",
       "<tr><th>year</th><th>month</th><th>merchant_abn</th><th>total_middle_customers</th></tr>\n",
       "<tr><td>2023</td><td>4</td><td>67610254313</td><td>8.911459530226823</td></tr>\n",
       "<tr><td>2023</td><td>4</td><td>76241460849</td><td>6.598423723172958</td></tr>\n",
       "<tr><td>2023</td><td>4</td><td>86201937910</td><td>6.298368461310957</td></tr>\n",
       "<tr><td>2023</td><td>4</td><td>53126107676</td><td>98.7534217787489</td></tr>\n",
       "<tr><td>2023</td><td>4</td><td>94547309480</td><td>14.325967064940135</td></tr>\n",
       "</table>\n"
      ],
      "text/plain": [
       "+----+-----+------------+----------------------+\n",
       "|year|month|merchant_abn|total_middle_customers|\n",
       "+----+-----+------------+----------------------+\n",
       "|2023|    4| 67610254313|     8.911459530226823|\n",
       "|2023|    4| 76241460849|     6.598423723172958|\n",
       "|2023|    4| 86201937910|     6.298368461310957|\n",
       "|2023|    4| 53126107676|      98.7534217787489|\n",
       "|2023|    4| 94547309480|    14.325967064940135|\n",
       "+----+-----+------------+----------------------+"
      ]
     },
     "execution_count": 44,
     "metadata": {},
     "output_type": "execute_result"
    }
   ],
   "source": [
    "future_mcustomers_sdf = spark.read.parquet(\"../data/curated/futuremcustomers.parquet/\")\n",
    "future_mcustomers_sdf.limit(5)"
   ]
  },
  {
   "cell_type": "code",
   "execution_count": 45,
   "metadata": {},
   "outputs": [
    {
     "data": {
      "text/html": [
       "<table border='1'>\n",
       "<tr><th>merchant_abn</th><th>total_pop</th><th>under10_pop</th><th>adolsc_pop</th><th>yng_adult_pop</th><th>mid_age_pop</th><th>old_pop</th></tr>\n",
       "<tr><td>10255988167</td><td>2</td><td>2</td><td>3</td><td>2</td><td>2</td><td>4</td></tr>\n",
       "<tr><td>10430380319</td><td>3</td><td>3</td><td>3</td><td>3</td><td>3</td><td>3</td></tr>\n",
       "<tr><td>10618089367</td><td>4</td><td>4</td><td>4</td><td>4</td><td>4</td><td>4</td></tr>\n",
       "<tr><td>11215815177</td><td>1</td><td>1</td><td>1</td><td>1</td><td>1</td><td>1</td></tr>\n",
       "<tr><td>11237511112</td><td>4</td><td>4</td><td>4</td><td>4</td><td>4</td><td>4</td></tr>\n",
       "</table>\n"
      ],
      "text/plain": [
       "+------------+---------+-----------+----------+-------------+-----------+-------+\n",
       "|merchant_abn|total_pop|under10_pop|adolsc_pop|yng_adult_pop|mid_age_pop|old_pop|\n",
       "+------------+---------+-----------+----------+-------------+-----------+-------+\n",
       "| 10255988167|        2|          2|         3|            2|          2|      4|\n",
       "| 10430380319|        3|          3|         3|            3|          3|      3|\n",
       "| 10618089367|        4|          4|         4|            4|          4|      4|\n",
       "| 11215815177|        1|          1|         1|            1|          1|      1|\n",
       "| 11237511112|        4|          4|         4|            4|          4|      4|\n",
       "+------------+---------+-----------+----------+-------------+-----------+-------+"
      ]
     },
     "execution_count": 45,
     "metadata": {},
     "output_type": "execute_result"
    }
   ],
   "source": [
    "merch_pop = spark.read.parquet(\"../data/curated/merch_pop.parquet/\")\n",
    "merch_pop.limit(5)"
   ]
  },
  {
   "cell_type": "code",
   "execution_count": 46,
   "metadata": {},
   "outputs": [
    {
     "data": {
      "text/html": [
       "<div>\n",
       "<style scoped>\n",
       "    .dataframe tbody tr th:only-of-type {\n",
       "        vertical-align: middle;\n",
       "    }\n",
       "\n",
       "    .dataframe tbody tr th {\n",
       "        vertical-align: top;\n",
       "    }\n",
       "\n",
       "    .dataframe thead th {\n",
       "        text-align: right;\n",
       "    }\n",
       "</style>\n",
       "<table border=\"1\" class=\"dataframe\">\n",
       "  <thead>\n",
       "    <tr style=\"text-align: right;\">\n",
       "      <th></th>\n",
       "      <th>merchant_abn</th>\n",
       "      <th>points</th>\n",
       "    </tr>\n",
       "  </thead>\n",
       "  <tbody>\n",
       "    <tr>\n",
       "      <th>0</th>\n",
       "      <td>10023283211</td>\n",
       "      <td>1</td>\n",
       "    </tr>\n",
       "    <tr>\n",
       "      <th>1</th>\n",
       "      <td>10142254217</td>\n",
       "      <td>1</td>\n",
       "    </tr>\n",
       "    <tr>\n",
       "      <th>2</th>\n",
       "      <td>10165489824</td>\n",
       "      <td>1</td>\n",
       "    </tr>\n",
       "    <tr>\n",
       "      <th>3</th>\n",
       "      <td>10187291046</td>\n",
       "      <td>1</td>\n",
       "    </tr>\n",
       "    <tr>\n",
       "      <th>4</th>\n",
       "      <td>10192359162</td>\n",
       "      <td>1</td>\n",
       "    </tr>\n",
       "    <tr>\n",
       "      <th>...</th>\n",
       "      <td>...</td>\n",
       "      <td>...</td>\n",
       "    </tr>\n",
       "    <tr>\n",
       "      <th>4013</th>\n",
       "      <td>99938978285</td>\n",
       "      <td>1</td>\n",
       "    </tr>\n",
       "    <tr>\n",
       "      <th>4014</th>\n",
       "      <td>99974311662</td>\n",
       "      <td>1</td>\n",
       "    </tr>\n",
       "    <tr>\n",
       "      <th>4015</th>\n",
       "      <td>99976658299</td>\n",
       "      <td>1</td>\n",
       "    </tr>\n",
       "    <tr>\n",
       "      <th>4016</th>\n",
       "      <td>99987905597</td>\n",
       "      <td>1</td>\n",
       "    </tr>\n",
       "    <tr>\n",
       "      <th>4017</th>\n",
       "      <td>99990536339</td>\n",
       "      <td>1</td>\n",
       "    </tr>\n",
       "  </tbody>\n",
       "</table>\n",
       "<p>4018 rows × 2 columns</p>\n",
       "</div>"
      ],
      "text/plain": [
       "      merchant_abn  points\n",
       "0      10023283211       1\n",
       "1      10142254217       1\n",
       "2      10165489824       1\n",
       "3      10187291046       1\n",
       "4      10192359162       1\n",
       "...            ...     ...\n",
       "4013   99938978285       1\n",
       "4014   99974311662       1\n",
       "4015   99976658299       1\n",
       "4016   99987905597       1\n",
       "4017   99990536339       1\n",
       "\n",
       "[4018 rows x 2 columns]"
      ]
     },
     "execution_count": 46,
     "metadata": {},
     "output_type": "execute_result"
    }
   ],
   "source": [
    "merchants_pd = future_trans_sdf \\\n",
    "    .select('merchant_abn') \\\n",
    "    .distinct() \\\n",
    "    .withColumn('points', lit(1)) \\\n",
    "    .orderBy(\"merchant_abn\") \\\n",
    "    .toPandas()\n",
    "\n",
    "merchants_pd"
   ]
  },
  {
   "cell_type": "markdown",
   "metadata": {},
   "source": [
    "Have 4018 distinct merchants, need to select top 100 merchants\n",
    "\n",
    "Idea:\n",
    "- all merchants have initial points 1\n",
    "- the more the number of points, the higher/better the rank will be\n",
    "- points given based on sorted positioning within the features and importance of the feature (for transaction, profit, and mcustomers)"
   ]
  },
  {
   "cell_type": "code",
   "execution_count": 47,
   "metadata": {},
   "outputs": [],
   "source": [
    "WEIGHT_TRANS = 0.375\n",
    "WEIGHT_PROFIT = 0.375\n",
    "WEIGHT_MCUSTOMERS = 0.125\n",
    "WEIGHT_POP = 0.125"
   ]
  },
  {
   "cell_type": "markdown",
   "metadata": {},
   "source": [
    "***"
   ]
  },
  {
   "cell_type": "markdown",
   "metadata": {},
   "source": [
    "Award 0.125 points to merchants having a relatively large young adult and middle age population (external research) <br>\n",
    "with large meaning the populations are above the lower quartile (not group 1 - see notebook 4.4)"
   ]
  },
  {
   "cell_type": "code",
   "execution_count": 48,
   "metadata": {},
   "outputs": [
    {
     "data": {
      "text/html": [
       "<table border='1'>\n",
       "<tr><th>merchant_abn</th><th>points</th></tr>\n",
       "<tr><td>10023283211</td><td>0.0</td></tr>\n",
       "<tr><td>10142254217</td><td>0.0</td></tr>\n",
       "<tr><td>10165489824</td><td>0.125</td></tr>\n",
       "<tr><td>10187291046</td><td>0.125</td></tr>\n",
       "<tr><td>10192359162</td><td>0.125</td></tr>\n",
       "<tr><td>10206519221</td><td>0.0</td></tr>\n",
       "<tr><td>10255988167</td><td>0.125</td></tr>\n",
       "<tr><td>10264435225</td><td>0.0</td></tr>\n",
       "<tr><td>10279061213</td><td>0.0</td></tr>\n",
       "<tr><td>10323485998</td><td>0.125</td></tr>\n",
       "</table>\n"
      ],
      "text/plain": [
       "+------------+------+\n",
       "|merchant_abn|points|\n",
       "+------------+------+\n",
       "| 10023283211|   0.0|\n",
       "| 10142254217|   0.0|\n",
       "| 10165489824| 0.125|\n",
       "| 10187291046| 0.125|\n",
       "| 10192359162| 0.125|\n",
       "| 10206519221|   0.0|\n",
       "| 10255988167| 0.125|\n",
       "| 10264435225|   0.0|\n",
       "| 10279061213|   0.0|\n",
       "| 10323485998| 0.125|\n",
       "+------------+------+"
      ]
     },
     "execution_count": 48,
     "metadata": {},
     "output_type": "execute_result"
    }
   ],
   "source": [
    "w = Window.partitionBy('month')\n",
    "\n",
    "merch_pop_mod = merch_pop \\\n",
    "    .drop(*(\"total_pop\", \"under10_pop\", \"adolsc_pop\", \"old_pop\")) \\\n",
    "    .withColumn(\n",
    "        \"points\",\n",
    "        when(\n",
    "            (col(\"yng_adult_pop\") != 1) &\n",
    "            (col(\"mid_age_pop\") != 1),\n",
    "            lit(0.125)\n",
    "        ).otherwise(lit(0))\n",
    "    ) \\\n",
    "    .drop(*(\"yng_adult_pop\", \"mid_age_pop\")) \\\n",
    "    .orderBy(\"merchant_abn\")\n",
    "\n",
    "merch_pop_mod.limit(10)"
   ]
  },
  {
   "cell_type": "code",
   "execution_count": 49,
   "metadata": {},
   "outputs": [
    {
     "data": {
      "text/html": [
       "<div>\n",
       "<style scoped>\n",
       "    .dataframe tbody tr th:only-of-type {\n",
       "        vertical-align: middle;\n",
       "    }\n",
       "\n",
       "    .dataframe tbody tr th {\n",
       "        vertical-align: top;\n",
       "    }\n",
       "\n",
       "    .dataframe thead th {\n",
       "        text-align: right;\n",
       "    }\n",
       "</style>\n",
       "<table border=\"1\" class=\"dataframe\">\n",
       "  <thead>\n",
       "    <tr style=\"text-align: right;\">\n",
       "      <th></th>\n",
       "      <th>merchant_abn</th>\n",
       "      <th>points</th>\n",
       "    </tr>\n",
       "  </thead>\n",
       "  <tbody>\n",
       "    <tr>\n",
       "      <th>0</th>\n",
       "      <td>10023283211</td>\n",
       "      <td>0.000</td>\n",
       "    </tr>\n",
       "    <tr>\n",
       "      <th>1</th>\n",
       "      <td>10142254217</td>\n",
       "      <td>0.000</td>\n",
       "    </tr>\n",
       "    <tr>\n",
       "      <th>2</th>\n",
       "      <td>10165489824</td>\n",
       "      <td>0.125</td>\n",
       "    </tr>\n",
       "    <tr>\n",
       "      <th>3</th>\n",
       "      <td>10187291046</td>\n",
       "      <td>0.125</td>\n",
       "    </tr>\n",
       "    <tr>\n",
       "      <th>4</th>\n",
       "      <td>10192359162</td>\n",
       "      <td>0.125</td>\n",
       "    </tr>\n",
       "    <tr>\n",
       "      <th>...</th>\n",
       "      <td>...</td>\n",
       "      <td>...</td>\n",
       "    </tr>\n",
       "    <tr>\n",
       "      <th>4013</th>\n",
       "      <td>99938978285</td>\n",
       "      <td>0.000</td>\n",
       "    </tr>\n",
       "    <tr>\n",
       "      <th>4014</th>\n",
       "      <td>99974311662</td>\n",
       "      <td>0.000</td>\n",
       "    </tr>\n",
       "    <tr>\n",
       "      <th>4015</th>\n",
       "      <td>99976658299</td>\n",
       "      <td>0.125</td>\n",
       "    </tr>\n",
       "    <tr>\n",
       "      <th>4016</th>\n",
       "      <td>99987905597</td>\n",
       "      <td>0.125</td>\n",
       "    </tr>\n",
       "    <tr>\n",
       "      <th>4017</th>\n",
       "      <td>99990536339</td>\n",
       "      <td>0.125</td>\n",
       "    </tr>\n",
       "  </tbody>\n",
       "</table>\n",
       "<p>4018 rows × 2 columns</p>\n",
       "</div>"
      ],
      "text/plain": [
       "      merchant_abn  points\n",
       "0      10023283211   0.000\n",
       "1      10142254217   0.000\n",
       "2      10165489824   0.125\n",
       "3      10187291046   0.125\n",
       "4      10192359162   0.125\n",
       "...            ...     ...\n",
       "4013   99938978285   0.000\n",
       "4014   99974311662   0.000\n",
       "4015   99976658299   0.125\n",
       "4016   99987905597   0.125\n",
       "4017   99990536339   0.125\n",
       "\n",
       "[4018 rows x 2 columns]"
      ]
     },
     "execution_count": 49,
     "metadata": {},
     "output_type": "execute_result"
    }
   ],
   "source": [
    "merch_pop_mod_df = merch_pop_mod.toPandas()\n",
    "merch_pop_mod_df"
   ]
  },
  {
   "cell_type": "code",
   "execution_count": 50,
   "metadata": {},
   "outputs": [
    {
     "data": {
      "text/html": [
       "<div>\n",
       "<style scoped>\n",
       "    .dataframe tbody tr th:only-of-type {\n",
       "        vertical-align: middle;\n",
       "    }\n",
       "\n",
       "    .dataframe tbody tr th {\n",
       "        vertical-align: top;\n",
       "    }\n",
       "\n",
       "    .dataframe thead th {\n",
       "        text-align: right;\n",
       "    }\n",
       "</style>\n",
       "<table border=\"1\" class=\"dataframe\">\n",
       "  <thead>\n",
       "    <tr style=\"text-align: right;\">\n",
       "      <th></th>\n",
       "      <th>merchant_abn</th>\n",
       "      <th>points</th>\n",
       "    </tr>\n",
       "  </thead>\n",
       "  <tbody>\n",
       "    <tr>\n",
       "      <th>0</th>\n",
       "      <td>10023283211</td>\n",
       "      <td>1</td>\n",
       "    </tr>\n",
       "    <tr>\n",
       "      <th>1</th>\n",
       "      <td>10142254217</td>\n",
       "      <td>1</td>\n",
       "    </tr>\n",
       "    <tr>\n",
       "      <th>2</th>\n",
       "      <td>10165489824</td>\n",
       "      <td>1</td>\n",
       "    </tr>\n",
       "    <tr>\n",
       "      <th>3</th>\n",
       "      <td>10187291046</td>\n",
       "      <td>1</td>\n",
       "    </tr>\n",
       "    <tr>\n",
       "      <th>4</th>\n",
       "      <td>10192359162</td>\n",
       "      <td>1</td>\n",
       "    </tr>\n",
       "    <tr>\n",
       "      <th>...</th>\n",
       "      <td>...</td>\n",
       "      <td>...</td>\n",
       "    </tr>\n",
       "    <tr>\n",
       "      <th>4013</th>\n",
       "      <td>99938978285</td>\n",
       "      <td>1</td>\n",
       "    </tr>\n",
       "    <tr>\n",
       "      <th>4014</th>\n",
       "      <td>99974311662</td>\n",
       "      <td>1</td>\n",
       "    </tr>\n",
       "    <tr>\n",
       "      <th>4015</th>\n",
       "      <td>99976658299</td>\n",
       "      <td>1</td>\n",
       "    </tr>\n",
       "    <tr>\n",
       "      <th>4016</th>\n",
       "      <td>99987905597</td>\n",
       "      <td>1</td>\n",
       "    </tr>\n",
       "    <tr>\n",
       "      <th>4017</th>\n",
       "      <td>99990536339</td>\n",
       "      <td>1</td>\n",
       "    </tr>\n",
       "  </tbody>\n",
       "</table>\n",
       "<p>4018 rows × 2 columns</p>\n",
       "</div>"
      ],
      "text/plain": [
       "      merchant_abn  points\n",
       "0      10023283211       1\n",
       "1      10142254217       1\n",
       "2      10165489824       1\n",
       "3      10187291046       1\n",
       "4      10192359162       1\n",
       "...            ...     ...\n",
       "4013   99938978285       1\n",
       "4014   99974311662       1\n",
       "4015   99976658299       1\n",
       "4016   99987905597       1\n",
       "4017   99990536339       1\n",
       "\n",
       "[4018 rows x 2 columns]"
      ]
     },
     "execution_count": 50,
     "metadata": {},
     "output_type": "execute_result"
    }
   ],
   "source": [
    "merchants_pd"
   ]
  },
  {
   "cell_type": "code",
   "execution_count": 51,
   "metadata": {},
   "outputs": [
    {
     "data": {
      "text/html": [
       "<div>\n",
       "<style scoped>\n",
       "    .dataframe tbody tr th:only-of-type {\n",
       "        vertical-align: middle;\n",
       "    }\n",
       "\n",
       "    .dataframe tbody tr th {\n",
       "        vertical-align: top;\n",
       "    }\n",
       "\n",
       "    .dataframe thead th {\n",
       "        text-align: right;\n",
       "    }\n",
       "</style>\n",
       "<table border=\"1\" class=\"dataframe\">\n",
       "  <thead>\n",
       "    <tr style=\"text-align: right;\">\n",
       "      <th></th>\n",
       "      <th>merchant_abn</th>\n",
       "      <th>points</th>\n",
       "    </tr>\n",
       "  </thead>\n",
       "  <tbody>\n",
       "    <tr>\n",
       "      <th>0</th>\n",
       "      <td>10023283211</td>\n",
       "      <td>1.000</td>\n",
       "    </tr>\n",
       "    <tr>\n",
       "      <th>1</th>\n",
       "      <td>10142254217</td>\n",
       "      <td>1.000</td>\n",
       "    </tr>\n",
       "    <tr>\n",
       "      <th>2</th>\n",
       "      <td>10165489824</td>\n",
       "      <td>1.125</td>\n",
       "    </tr>\n",
       "    <tr>\n",
       "      <th>3</th>\n",
       "      <td>10187291046</td>\n",
       "      <td>1.125</td>\n",
       "    </tr>\n",
       "    <tr>\n",
       "      <th>4</th>\n",
       "      <td>10192359162</td>\n",
       "      <td>1.125</td>\n",
       "    </tr>\n",
       "    <tr>\n",
       "      <th>...</th>\n",
       "      <td>...</td>\n",
       "      <td>...</td>\n",
       "    </tr>\n",
       "    <tr>\n",
       "      <th>4013</th>\n",
       "      <td>99938978285</td>\n",
       "      <td>1.000</td>\n",
       "    </tr>\n",
       "    <tr>\n",
       "      <th>4014</th>\n",
       "      <td>99974311662</td>\n",
       "      <td>1.000</td>\n",
       "    </tr>\n",
       "    <tr>\n",
       "      <th>4015</th>\n",
       "      <td>99976658299</td>\n",
       "      <td>1.125</td>\n",
       "    </tr>\n",
       "    <tr>\n",
       "      <th>4016</th>\n",
       "      <td>99987905597</td>\n",
       "      <td>1.125</td>\n",
       "    </tr>\n",
       "    <tr>\n",
       "      <th>4017</th>\n",
       "      <td>99990536339</td>\n",
       "      <td>1.125</td>\n",
       "    </tr>\n",
       "  </tbody>\n",
       "</table>\n",
       "<p>4018 rows × 2 columns</p>\n",
       "</div>"
      ],
      "text/plain": [
       "      merchant_abn  points\n",
       "0      10023283211   1.000\n",
       "1      10142254217   1.000\n",
       "2      10165489824   1.125\n",
       "3      10187291046   1.125\n",
       "4      10192359162   1.125\n",
       "...            ...     ...\n",
       "4013   99938978285   1.000\n",
       "4014   99974311662   1.000\n",
       "4015   99976658299   1.125\n",
       "4016   99987905597   1.125\n",
       "4017   99990536339   1.125\n",
       "\n",
       "[4018 rows x 2 columns]"
      ]
     },
     "execution_count": 51,
     "metadata": {},
     "output_type": "execute_result"
    }
   ],
   "source": [
    "merchants_pd[\"points\"] = merchants_pd[\"points\"] + merch_pop_mod_df[\"points\"]\n",
    "merchants_pd"
   ]
  },
  {
   "cell_type": "markdown",
   "metadata": {},
   "source": [
    "***"
   ]
  },
  {
   "cell_type": "markdown",
   "metadata": {},
   "source": [
    "Get the merchant with the highest number of total transactions for each month (`ft_agg2`):"
   ]
  },
  {
   "cell_type": "code",
   "execution_count": 52,
   "metadata": {},
   "outputs": [
    {
     "data": {
      "text/html": [
       "<table border='1'>\n",
       "<tr><th>year</th><th>month</th><th>merchant_abn</th><th>total_transactions</th></tr>\n",
       "<tr><td>2023</td><td>1</td><td>24852446429</td><td>12706.867430622047</td></tr>\n",
       "<tr><td>2023</td><td>2</td><td>24852446429</td><td>12725.976797500647</td></tr>\n",
       "<tr><td>2023</td><td>3</td><td>24852446429</td><td>12601.879475370839</td></tr>\n",
       "<tr><td>2023</td><td>4</td><td>24852446429</td><td>12624.618672374758</td></tr>\n",
       "<tr><td>2023</td><td>5</td><td>24852446429</td><td>12557.475159081536</td></tr>\n",
       "<tr><td>2023</td><td>6</td><td>24852446429</td><td>12576.861500222918</td></tr>\n",
       "<tr><td>2023</td><td>7</td><td>24852446429</td><td>12540.356167994907</td></tr>\n",
       "<tr><td>2023</td><td>8</td><td>24852446429</td><td>12555.113743323984</td></tr>\n",
       "<tr><td>2023</td><td>9</td><td>24852446429</td><td>12535.352343858927</td></tr>\n",
       "<tr><td>2023</td><td>10</td><td>24852446429</td><td>12546.091227819079</td></tr>\n",
       "<tr><td>2023</td><td>11</td><td>24852446429</td><td>12535.618671889513</td></tr>\n",
       "<tr><td>2023</td><td>12</td><td>24852446429</td><td>12543.355600349449</td></tr>\n",
       "</table>\n"
      ],
      "text/plain": [
       "+----+-----+------------+------------------+\n",
       "|year|month|merchant_abn|total_transactions|\n",
       "+----+-----+------------+------------------+\n",
       "|2023|    1| 24852446429|12706.867430622047|\n",
       "|2023|    2| 24852446429|12725.976797500647|\n",
       "|2023|    3| 24852446429|12601.879475370839|\n",
       "|2023|    4| 24852446429|12624.618672374758|\n",
       "|2023|    5| 24852446429|12557.475159081536|\n",
       "|2023|    6| 24852446429|12576.861500222918|\n",
       "|2023|    7| 24852446429|12540.356167994907|\n",
       "|2023|    8| 24852446429|12555.113743323984|\n",
       "|2023|    9| 24852446429|12535.352343858927|\n",
       "|2023|   10| 24852446429|12546.091227819079|\n",
       "|2023|   11| 24852446429|12535.618671889513|\n",
       "|2023|   12| 24852446429|12543.355600349449|\n",
       "+----+-----+------------+------------------+"
      ]
     },
     "execution_count": 52,
     "metadata": {},
     "output_type": "execute_result"
    }
   ],
   "source": [
    "w = Window.partitionBy('month')\n",
    "\n",
    "ft_agg2 = future_trans_sdf \\\n",
    "    .withColumn('maxT', F.max('total_transactions').over(w)) \\\n",
    "    .where(F.col('total_transactions') == F.col('maxT')) \\\n",
    "    .drop('maxT')\n",
    "\n",
    "ft_agg2"
   ]
  },
  {
   "cell_type": "markdown",
   "metadata": {},
   "source": [
    "__[reference for above code](https://stackoverflow.com/questions/48829993/groupby-column-and-filter-rows-with-maximum-value-in-pyspark)__\n",
    "\n"
   ]
  },
  {
   "cell_type": "markdown",
   "metadata": {},
   "source": [
    "For each month, order the merchants by increasing order of their total transactions <br>\n",
    "(merchant with lowest number of transactions for that month will be at the top)"
   ]
  },
  {
   "cell_type": "code",
   "execution_count": 53,
   "metadata": {},
   "outputs": [
    {
     "data": {
      "text/html": [
       "<div>\n",
       "<style scoped>\n",
       "    .dataframe tbody tr th:only-of-type {\n",
       "        vertical-align: middle;\n",
       "    }\n",
       "\n",
       "    .dataframe tbody tr th {\n",
       "        vertical-align: top;\n",
       "    }\n",
       "\n",
       "    .dataframe thead th {\n",
       "        text-align: right;\n",
       "    }\n",
       "</style>\n",
       "<table border=\"1\" class=\"dataframe\">\n",
       "  <thead>\n",
       "    <tr style=\"text-align: right;\">\n",
       "      <th></th>\n",
       "      <th>month</th>\n",
       "      <th>merchant_abn</th>\n",
       "      <th>total_transactions</th>\n",
       "    </tr>\n",
       "  </thead>\n",
       "  <tbody>\n",
       "    <tr>\n",
       "      <th>0</th>\n",
       "      <td>1</td>\n",
       "      <td>62346852889</td>\n",
       "      <td>21.097950</td>\n",
       "    </tr>\n",
       "    <tr>\n",
       "      <th>1</th>\n",
       "      <td>1</td>\n",
       "      <td>35235320738</td>\n",
       "      <td>21.149586</td>\n",
       "    </tr>\n",
       "    <tr>\n",
       "      <th>2</th>\n",
       "      <td>1</td>\n",
       "      <td>86791380020</td>\n",
       "      <td>21.154814</td>\n",
       "    </tr>\n",
       "    <tr>\n",
       "      <th>3</th>\n",
       "      <td>1</td>\n",
       "      <td>34455283435</td>\n",
       "      <td>21.199792</td>\n",
       "    </tr>\n",
       "    <tr>\n",
       "      <th>4</th>\n",
       "      <td>1</td>\n",
       "      <td>98082781436</td>\n",
       "      <td>21.204058</td>\n",
       "    </tr>\n",
       "    <tr>\n",
       "      <th>...</th>\n",
       "      <td>...</td>\n",
       "      <td>...</td>\n",
       "      <td>...</td>\n",
       "    </tr>\n",
       "    <tr>\n",
       "      <th>48211</th>\n",
       "      <td>12</td>\n",
       "      <td>46804135891</td>\n",
       "      <td>10163.244846</td>\n",
       "    </tr>\n",
       "    <tr>\n",
       "      <th>48212</th>\n",
       "      <td>12</td>\n",
       "      <td>49891706470</td>\n",
       "      <td>10724.271327</td>\n",
       "    </tr>\n",
       "    <tr>\n",
       "      <th>48213</th>\n",
       "      <td>12</td>\n",
       "      <td>64203420245</td>\n",
       "      <td>11311.885569</td>\n",
       "    </tr>\n",
       "    <tr>\n",
       "      <th>48214</th>\n",
       "      <td>12</td>\n",
       "      <td>86578477987</td>\n",
       "      <td>11805.480411</td>\n",
       "    </tr>\n",
       "    <tr>\n",
       "      <th>48215</th>\n",
       "      <td>12</td>\n",
       "      <td>24852446429</td>\n",
       "      <td>12543.355600</td>\n",
       "    </tr>\n",
       "  </tbody>\n",
       "</table>\n",
       "<p>48216 rows × 3 columns</p>\n",
       "</div>"
      ],
      "text/plain": [
       "       month  merchant_abn  total_transactions\n",
       "0          1   62346852889           21.097950\n",
       "1          1   35235320738           21.149586\n",
       "2          1   86791380020           21.154814\n",
       "3          1   34455283435           21.199792\n",
       "4          1   98082781436           21.204058\n",
       "...      ...           ...                 ...\n",
       "48211     12   46804135891        10163.244846\n",
       "48212     12   49891706470        10724.271327\n",
       "48213     12   64203420245        11311.885569\n",
       "48214     12   86578477987        11805.480411\n",
       "48215     12   24852446429        12543.355600\n",
       "\n",
       "[48216 rows x 3 columns]"
      ]
     },
     "execution_count": 53,
     "metadata": {},
     "output_type": "execute_result"
    }
   ],
   "source": [
    "ordered_ft_pd = future_trans_sdf \\\n",
    "    .orderBy(asc(\"month\"), asc(\"total_transactions\")) \\\n",
    "    .drop(\"year\") \\\n",
    "    .toPandas()\n",
    "\n",
    "ordered_ft_pd"
   ]
  },
  {
   "cell_type": "markdown",
   "metadata": {},
   "source": [
    "Note for below that `groupby` preserves ordering within each group"
   ]
  },
  {
   "cell_type": "code",
   "execution_count": 54,
   "metadata": {},
   "outputs": [],
   "source": [
    "merch_abns = list(merchants_pd[\"merchant_abn\"])\n",
    "\n",
    "MONTHS = 12\n",
    "for i in range(1, MONTHS+1):\n",
    "    new_points = []\n",
    "    \n",
    "    month_data = ordered_ft_pd.groupby(\"month\").get_group(i)\n",
    "    month_data = pd.DataFrame(month_data.reset_index().drop(columns=\"index\"))\n",
    "    \n",
    "    for abn in merch_abns:\n",
    "        try:\n",
    "            # the larger the index, the more transactions the merchant will have (ordered data)\n",
    "            # thus more points awarded\n",
    "            points = np.round(WEIGHT_TRANS*list(month_data.index[month_data[\"merchant_abn\"] == abn])[0], 3)\n",
    "        except IndexError:\n",
    "            # have no data for the current abn\n",
    "            points = 0\n",
    "\n",
    "        new_points.append(points)\n",
    "\n",
    "    merchants_pd[\"points\"] = merchants_pd[\"points\"] + new_points\n"
   ]
  },
  {
   "cell_type": "code",
   "execution_count": 55,
   "metadata": {},
   "outputs": [
    {
     "data": {
      "text/html": [
       "<div>\n",
       "<style scoped>\n",
       "    .dataframe tbody tr th:only-of-type {\n",
       "        vertical-align: middle;\n",
       "    }\n",
       "\n",
       "    .dataframe tbody tr th {\n",
       "        vertical-align: top;\n",
       "    }\n",
       "\n",
       "    .dataframe thead th {\n",
       "        text-align: right;\n",
       "    }\n",
       "</style>\n",
       "<table border=\"1\" class=\"dataframe\">\n",
       "  <thead>\n",
       "    <tr style=\"text-align: right;\">\n",
       "      <th></th>\n",
       "      <th>merchant_abn</th>\n",
       "      <th>points</th>\n",
       "    </tr>\n",
       "  </thead>\n",
       "  <tbody>\n",
       "    <tr>\n",
       "      <th>0</th>\n",
       "      <td>10023283211</td>\n",
       "      <td>14680.750</td>\n",
       "    </tr>\n",
       "    <tr>\n",
       "      <th>1</th>\n",
       "      <td>10142254217</td>\n",
       "      <td>14446.000</td>\n",
       "    </tr>\n",
       "    <tr>\n",
       "      <th>2</th>\n",
       "      <td>10165489824</td>\n",
       "      <td>184.125</td>\n",
       "    </tr>\n",
       "    <tr>\n",
       "      <th>3</th>\n",
       "      <td>10187291046</td>\n",
       "      <td>8435.625</td>\n",
       "    </tr>\n",
       "    <tr>\n",
       "      <th>4</th>\n",
       "      <td>10192359162</td>\n",
       "      <td>8808.000</td>\n",
       "    </tr>\n",
       "    <tr>\n",
       "      <th>...</th>\n",
       "      <td>...</td>\n",
       "      <td>...</td>\n",
       "    </tr>\n",
       "    <tr>\n",
       "      <th>4013</th>\n",
       "      <td>99938978285</td>\n",
       "      <td>17421.250</td>\n",
       "    </tr>\n",
       "    <tr>\n",
       "      <th>4014</th>\n",
       "      <td>99974311662</td>\n",
       "      <td>5447.875</td>\n",
       "    </tr>\n",
       "    <tr>\n",
       "      <th>4015</th>\n",
       "      <td>99976658299</td>\n",
       "      <td>17627.625</td>\n",
       "    </tr>\n",
       "    <tr>\n",
       "      <th>4016</th>\n",
       "      <td>99987905597</td>\n",
       "      <td>6729.750</td>\n",
       "    </tr>\n",
       "    <tr>\n",
       "      <th>4017</th>\n",
       "      <td>99990536339</td>\n",
       "      <td>2167.125</td>\n",
       "    </tr>\n",
       "  </tbody>\n",
       "</table>\n",
       "<p>4018 rows × 2 columns</p>\n",
       "</div>"
      ],
      "text/plain": [
       "      merchant_abn     points\n",
       "0      10023283211  14680.750\n",
       "1      10142254217  14446.000\n",
       "2      10165489824    184.125\n",
       "3      10187291046   8435.625\n",
       "4      10192359162   8808.000\n",
       "...            ...        ...\n",
       "4013   99938978285  17421.250\n",
       "4014   99974311662   5447.875\n",
       "4015   99976658299  17627.625\n",
       "4016   99987905597   6729.750\n",
       "4017   99990536339   2167.125\n",
       "\n",
       "[4018 rows x 2 columns]"
      ]
     },
     "execution_count": 55,
     "metadata": {},
     "output_type": "execute_result"
    }
   ],
   "source": [
    "merchants_pd"
   ]
  },
  {
   "cell_type": "markdown",
   "metadata": {},
   "source": [
    "***"
   ]
  },
  {
   "cell_type": "markdown",
   "metadata": {},
   "source": [
    "Get the merchant with the highest profit for each month (`fp_agg2`):"
   ]
  },
  {
   "cell_type": "code",
   "execution_count": 56,
   "metadata": {},
   "outputs": [
    {
     "data": {
      "text/html": [
       "<table border='1'>\n",
       "<tr><th>year</th><th>month</th><th>merchant_abn</th><th>total_profit</th></tr>\n",
       "<tr><td>2023</td><td>1</td><td>32361057556</td><td>27740.570878728235</td></tr>\n",
       "<tr><td>2023</td><td>2</td><td>32361057556</td><td>27878.7679430336</td></tr>\n",
       "<tr><td>2023</td><td>3</td><td>32361057556</td><td>27552.75259841377</td></tr>\n",
       "<tr><td>2023</td><td>4</td><td>32361057556</td><td>27653.557096675115</td></tr>\n",
       "<tr><td>2023</td><td>5</td><td>32361057556</td><td>27479.095309639102</td></tr>\n",
       "<tr><td>2023</td><td>6</td><td>32361057556</td><td>27551.766701347373</td></tr>\n",
       "<tr><td>2023</td><td>7</td><td>32361057556</td><td>27461.515288951385</td></tr>\n",
       "<tr><td>2023</td><td>8</td><td>32361057556</td><td>27514.536693437625</td></tr>\n",
       "<tr><td>2023</td><td>9</td><td>32361057556</td><td>27471.280954645557</td></tr>\n",
       "<tr><td>2023</td><td>10</td><td>32361057556</td><td>27511.178900430907</td></tr>\n",
       "<tr><td>2023</td><td>11</td><td>32361057556</td><td>27494.259990420793</td></tr>\n",
       "<tr><td>2023</td><td>12</td><td>32361057556</td><td>27525.650157032956</td></tr>\n",
       "</table>\n"
      ],
      "text/plain": [
       "+----+-----+------------+------------------+\n",
       "|year|month|merchant_abn|      total_profit|\n",
       "+----+-----+------------+------------------+\n",
       "|2023|    1| 32361057556|27740.570878728235|\n",
       "|2023|    2| 32361057556|  27878.7679430336|\n",
       "|2023|    3| 32361057556| 27552.75259841377|\n",
       "|2023|    4| 32361057556|27653.557096675115|\n",
       "|2023|    5| 32361057556|27479.095309639102|\n",
       "|2023|    6| 32361057556|27551.766701347373|\n",
       "|2023|    7| 32361057556|27461.515288951385|\n",
       "|2023|    8| 32361057556|27514.536693437625|\n",
       "|2023|    9| 32361057556|27471.280954645557|\n",
       "|2023|   10| 32361057556|27511.178900430907|\n",
       "|2023|   11| 32361057556|27494.259990420793|\n",
       "|2023|   12| 32361057556|27525.650157032956|\n",
       "+----+-----+------------+------------------+"
      ]
     },
     "execution_count": 56,
     "metadata": {},
     "output_type": "execute_result"
    }
   ],
   "source": [
    "w = Window.partitionBy('month')\n",
    "\n",
    "fp_agg2 = future_profit_sdf \\\n",
    "    .withColumn('maxP', F.max('total_profit').over(w)) \\\n",
    "    .where(F.col('total_profit') == F.col('maxP')) \\\n",
    "    .drop('maxP')\n",
    "\n",
    "fp_agg2"
   ]
  },
  {
   "cell_type": "markdown",
   "metadata": {
    "tags": []
   },
   "source": [
    "For each month, order the merchants by increasing order of their total profit <br>\n",
    "(merchant with lowest total profit for that month at the top)"
   ]
  },
  {
   "cell_type": "code",
   "execution_count": 57,
   "metadata": {
    "tags": []
   },
   "outputs": [
    {
     "data": {
      "text/html": [
       "<div>\n",
       "<style scoped>\n",
       "    .dataframe tbody tr th:only-of-type {\n",
       "        vertical-align: middle;\n",
       "    }\n",
       "\n",
       "    .dataframe tbody tr th {\n",
       "        vertical-align: top;\n",
       "    }\n",
       "\n",
       "    .dataframe thead th {\n",
       "        text-align: right;\n",
       "    }\n",
       "</style>\n",
       "<table border=\"1\" class=\"dataframe\">\n",
       "  <thead>\n",
       "    <tr style=\"text-align: right;\">\n",
       "      <th></th>\n",
       "      <th>month</th>\n",
       "      <th>merchant_abn</th>\n",
       "      <th>total_profit</th>\n",
       "    </tr>\n",
       "  </thead>\n",
       "  <tbody>\n",
       "    <tr>\n",
       "      <th>0</th>\n",
       "      <td>1</td>\n",
       "      <td>16156289887</td>\n",
       "      <td>169.090896</td>\n",
       "    </tr>\n",
       "    <tr>\n",
       "      <th>1</th>\n",
       "      <td>1</td>\n",
       "      <td>86791380020</td>\n",
       "      <td>177.765852</td>\n",
       "    </tr>\n",
       "    <tr>\n",
       "      <th>2</th>\n",
       "      <td>1</td>\n",
       "      <td>33068332703</td>\n",
       "      <td>179.699605</td>\n",
       "    </tr>\n",
       "    <tr>\n",
       "      <th>3</th>\n",
       "      <td>1</td>\n",
       "      <td>10441711491</td>\n",
       "      <td>179.786133</td>\n",
       "    </tr>\n",
       "    <tr>\n",
       "      <th>4</th>\n",
       "      <td>1</td>\n",
       "      <td>21350600012</td>\n",
       "      <td>179.972700</td>\n",
       "    </tr>\n",
       "    <tr>\n",
       "      <th>...</th>\n",
       "      <td>...</td>\n",
       "      <td>...</td>\n",
       "      <td>...</td>\n",
       "    </tr>\n",
       "    <tr>\n",
       "      <th>48211</th>\n",
       "      <td>12</td>\n",
       "      <td>96680767841</td>\n",
       "      <td>25475.481580</td>\n",
       "    </tr>\n",
       "    <tr>\n",
       "      <th>48212</th>\n",
       "      <td>12</td>\n",
       "      <td>45629217853</td>\n",
       "      <td>25860.368887</td>\n",
       "    </tr>\n",
       "    <tr>\n",
       "      <th>48213</th>\n",
       "      <td>12</td>\n",
       "      <td>86578477987</td>\n",
       "      <td>27096.311961</td>\n",
       "    </tr>\n",
       "    <tr>\n",
       "      <th>48214</th>\n",
       "      <td>12</td>\n",
       "      <td>48534649627</td>\n",
       "      <td>27268.520005</td>\n",
       "    </tr>\n",
       "    <tr>\n",
       "      <th>48215</th>\n",
       "      <td>12</td>\n",
       "      <td>32361057556</td>\n",
       "      <td>27525.650157</td>\n",
       "    </tr>\n",
       "  </tbody>\n",
       "</table>\n",
       "<p>48216 rows × 3 columns</p>\n",
       "</div>"
      ],
      "text/plain": [
       "       month  merchant_abn  total_profit\n",
       "0          1   16156289887    169.090896\n",
       "1          1   86791380020    177.765852\n",
       "2          1   33068332703    179.699605\n",
       "3          1   10441711491    179.786133\n",
       "4          1   21350600012    179.972700\n",
       "...      ...           ...           ...\n",
       "48211     12   96680767841  25475.481580\n",
       "48212     12   45629217853  25860.368887\n",
       "48213     12   86578477987  27096.311961\n",
       "48214     12   48534649627  27268.520005\n",
       "48215     12   32361057556  27525.650157\n",
       "\n",
       "[48216 rows x 3 columns]"
      ]
     },
     "execution_count": 57,
     "metadata": {},
     "output_type": "execute_result"
    }
   ],
   "source": [
    "ordered_fp_pd = future_profit_sdf \\\n",
    "    .orderBy(asc(\"month\"), asc(\"total_profit\")) \\\n",
    "    .drop(\"year\") \\\n",
    "    .toPandas()\n",
    "\n",
    "ordered_fp_pd"
   ]
  },
  {
   "cell_type": "code",
   "execution_count": 58,
   "metadata": {
    "tags": []
   },
   "outputs": [],
   "source": [
    "for i in range(1, MONTHS+1):\n",
    "    new_points = []\n",
    "    \n",
    "    month_data = ordered_fp_pd.groupby(\"month\").get_group(i)\n",
    "    month_data = pd.DataFrame(month_data.reset_index().drop(columns=\"index\"))\n",
    "    \n",
    "    for abn in merch_abns:\n",
    "        try:\n",
    "            # the larger the index, the more profit the merchant will have (ordered data)\n",
    "            # thus more points awarded\n",
    "            points = np.round(WEIGHT_PROFIT*list(month_data.index[month_data[\"merchant_abn\"] == abn])[0], 3)\n",
    "        except IndexError:\n",
    "            # have no data for the current abn\n",
    "            points = 0\n",
    "\n",
    "        new_points.append(points)\n",
    "\n",
    "    merchants_pd[\"points\"] = merchants_pd[\"points\"] + new_points"
   ]
  },
  {
   "cell_type": "code",
   "execution_count": 59,
   "metadata": {
    "tags": []
   },
   "outputs": [
    {
     "data": {
      "text/html": [
       "<div>\n",
       "<style scoped>\n",
       "    .dataframe tbody tr th:only-of-type {\n",
       "        vertical-align: middle;\n",
       "    }\n",
       "\n",
       "    .dataframe tbody tr th {\n",
       "        vertical-align: top;\n",
       "    }\n",
       "\n",
       "    .dataframe thead th {\n",
       "        text-align: right;\n",
       "    }\n",
       "</style>\n",
       "<table border=\"1\" class=\"dataframe\">\n",
       "  <thead>\n",
       "    <tr style=\"text-align: right;\">\n",
       "      <th></th>\n",
       "      <th>merchant_abn</th>\n",
       "      <th>points</th>\n",
       "    </tr>\n",
       "  </thead>\n",
       "  <tbody>\n",
       "    <tr>\n",
       "      <th>0</th>\n",
       "      <td>10023283211</td>\n",
       "      <td>18909.250</td>\n",
       "    </tr>\n",
       "    <tr>\n",
       "      <th>1</th>\n",
       "      <td>10142254217</td>\n",
       "      <td>23638.000</td>\n",
       "    </tr>\n",
       "    <tr>\n",
       "      <th>2</th>\n",
       "      <td>10165489824</td>\n",
       "      <td>3668.250</td>\n",
       "    </tr>\n",
       "    <tr>\n",
       "      <th>3</th>\n",
       "      <td>10187291046</td>\n",
       "      <td>12815.250</td>\n",
       "    </tr>\n",
       "    <tr>\n",
       "      <th>4</th>\n",
       "      <td>10192359162</td>\n",
       "      <td>20447.250</td>\n",
       "    </tr>\n",
       "    <tr>\n",
       "      <th>...</th>\n",
       "      <td>...</td>\n",
       "      <td>...</td>\n",
       "    </tr>\n",
       "    <tr>\n",
       "      <th>4013</th>\n",
       "      <td>99938978285</td>\n",
       "      <td>31240.375</td>\n",
       "    </tr>\n",
       "    <tr>\n",
       "      <th>4014</th>\n",
       "      <td>99974311662</td>\n",
       "      <td>8866.000</td>\n",
       "    </tr>\n",
       "    <tr>\n",
       "      <th>4015</th>\n",
       "      <td>99976658299</td>\n",
       "      <td>35401.875</td>\n",
       "    </tr>\n",
       "    <tr>\n",
       "      <th>4016</th>\n",
       "      <td>99987905597</td>\n",
       "      <td>15740.250</td>\n",
       "    </tr>\n",
       "    <tr>\n",
       "      <th>4017</th>\n",
       "      <td>99990536339</td>\n",
       "      <td>2310.750</td>\n",
       "    </tr>\n",
       "  </tbody>\n",
       "</table>\n",
       "<p>4018 rows × 2 columns</p>\n",
       "</div>"
      ],
      "text/plain": [
       "      merchant_abn     points\n",
       "0      10023283211  18909.250\n",
       "1      10142254217  23638.000\n",
       "2      10165489824   3668.250\n",
       "3      10187291046  12815.250\n",
       "4      10192359162  20447.250\n",
       "...            ...        ...\n",
       "4013   99938978285  31240.375\n",
       "4014   99974311662   8866.000\n",
       "4015   99976658299  35401.875\n",
       "4016   99987905597  15740.250\n",
       "4017   99990536339   2310.750\n",
       "\n",
       "[4018 rows x 2 columns]"
      ]
     },
     "execution_count": 59,
     "metadata": {},
     "output_type": "execute_result"
    }
   ],
   "source": [
    "merchants_pd"
   ]
  },
  {
   "cell_type": "markdown",
   "metadata": {},
   "source": [
    "***"
   ]
  },
  {
   "cell_type": "markdown",
   "metadata": {
    "tags": []
   },
   "source": [
    "Get the merchant with the highest number of middle customers for each month (`fmc_agg2`):"
   ]
  },
  {
   "cell_type": "code",
   "execution_count": 60,
   "metadata": {
    "tags": []
   },
   "outputs": [
    {
     "data": {
      "text/html": [
       "<table border='1'>\n",
       "<tr><th>year</th><th>month</th><th>merchant_abn</th><th>total_middle_customers</th></tr>\n",
       "<tr><td>2023</td><td>1</td><td>24852446429</td><td>2796.8587999146635</td></tr>\n",
       "<tr><td>2023</td><td>2</td><td>24852446429</td><td>2794.892202393302</td></tr>\n",
       "<tr><td>2023</td><td>3</td><td>24852446429</td><td>2781.9611881292603</td></tr>\n",
       "<tr><td>2023</td><td>4</td><td>24852446429</td><td>2781.828716128044</td></tr>\n",
       "<tr><td>2023</td><td>5</td><td>24852446429</td><td>2775.997045578518</td></tr>\n",
       "<tr><td>2023</td><td>6</td><td>24852446429</td><td>2776.425821608259</td></tr>\n",
       "<tr><td>2023</td><td>7</td><td>24852446429</td><td>2773.9088483222054</td></tr>\n",
       "<tr><td>2023</td><td>8</td><td>24852446429</td><td>2774.4608952929357</td></tr>\n",
       "<tr><td>2023</td><td>9</td><td>24852446429</td><td>2773.4974495653432</td></tr>\n",
       "<tr><td>2023</td><td>10</td><td>24852446429</td><td>2774.0415413334777</td></tr>\n",
       "<tr><td>2023</td><td>11</td><td>24852446429</td><td>2773.8089899215465</td></tr>\n",
       "<tr><td>2023</td><td>12</td><td>24852446429</td><td>2774.318325086396</td></tr>\n",
       "</table>\n"
      ],
      "text/plain": [
       "+----+-----+------------+----------------------+\n",
       "|year|month|merchant_abn|total_middle_customers|\n",
       "+----+-----+------------+----------------------+\n",
       "|2023|    1| 24852446429|    2796.8587999146635|\n",
       "|2023|    2| 24852446429|     2794.892202393302|\n",
       "|2023|    3| 24852446429|    2781.9611881292603|\n",
       "|2023|    4| 24852446429|     2781.828716128044|\n",
       "|2023|    5| 24852446429|     2775.997045578518|\n",
       "|2023|    6| 24852446429|     2776.425821608259|\n",
       "|2023|    7| 24852446429|    2773.9088483222054|\n",
       "|2023|    8| 24852446429|    2774.4608952929357|\n",
       "|2023|    9| 24852446429|    2773.4974495653432|\n",
       "|2023|   10| 24852446429|    2774.0415413334777|\n",
       "|2023|   11| 24852446429|    2773.8089899215465|\n",
       "|2023|   12| 24852446429|     2774.318325086396|\n",
       "+----+-----+------------+----------------------+"
      ]
     },
     "execution_count": 60,
     "metadata": {},
     "output_type": "execute_result"
    }
   ],
   "source": [
    "w = Window.partitionBy('month')\n",
    "\n",
    "fmc_agg2 = future_mcustomers_sdf \\\n",
    "    .withColumn('maxMC', F.max('total_middle_customers').over(w)) \\\n",
    "    .where(F.col('total_middle_customers') == F.col('maxMC')) \\\n",
    "    .drop('maxMC')\n",
    "\n",
    "fmc_agg2"
   ]
  },
  {
   "cell_type": "markdown",
   "metadata": {
    "tags": []
   },
   "source": [
    "For each month, order the merchants by increasing order of their total predicted population of middle income earning customers <br>"
   ]
  },
  {
   "cell_type": "code",
   "execution_count": 61,
   "metadata": {
    "tags": []
   },
   "outputs": [
    {
     "data": {
      "text/html": [
       "<div>\n",
       "<style scoped>\n",
       "    .dataframe tbody tr th:only-of-type {\n",
       "        vertical-align: middle;\n",
       "    }\n",
       "\n",
       "    .dataframe tbody tr th {\n",
       "        vertical-align: top;\n",
       "    }\n",
       "\n",
       "    .dataframe thead th {\n",
       "        text-align: right;\n",
       "    }\n",
       "</style>\n",
       "<table border=\"1\" class=\"dataframe\">\n",
       "  <thead>\n",
       "    <tr style=\"text-align: right;\">\n",
       "      <th></th>\n",
       "      <th>month</th>\n",
       "      <th>merchant_abn</th>\n",
       "      <th>total_middle_customers</th>\n",
       "    </tr>\n",
       "  </thead>\n",
       "  <tbody>\n",
       "    <tr>\n",
       "      <th>0</th>\n",
       "      <td>1</td>\n",
       "      <td>28836033916</td>\n",
       "      <td>4.850240</td>\n",
       "    </tr>\n",
       "    <tr>\n",
       "      <th>1</th>\n",
       "      <td>1</td>\n",
       "      <td>14626521979</td>\n",
       "      <td>4.850240</td>\n",
       "    </tr>\n",
       "    <tr>\n",
       "      <th>2</th>\n",
       "      <td>1</td>\n",
       "      <td>37670671283</td>\n",
       "      <td>4.850240</td>\n",
       "    </tr>\n",
       "    <tr>\n",
       "      <th>3</th>\n",
       "      <td>1</td>\n",
       "      <td>37706925794</td>\n",
       "      <td>4.850240</td>\n",
       "    </tr>\n",
       "    <tr>\n",
       "      <th>4</th>\n",
       "      <td>1</td>\n",
       "      <td>95594775419</td>\n",
       "      <td>4.850240</td>\n",
       "    </tr>\n",
       "    <tr>\n",
       "      <th>...</th>\n",
       "      <td>...</td>\n",
       "      <td>...</td>\n",
       "      <td>...</td>\n",
       "    </tr>\n",
       "    <tr>\n",
       "      <th>48211</th>\n",
       "      <td>12</td>\n",
       "      <td>46804135891</td>\n",
       "      <td>2379.631110</td>\n",
       "    </tr>\n",
       "    <tr>\n",
       "      <th>48212</th>\n",
       "      <td>12</td>\n",
       "      <td>49891706470</td>\n",
       "      <td>2465.908543</td>\n",
       "    </tr>\n",
       "    <tr>\n",
       "      <th>48213</th>\n",
       "      <td>12</td>\n",
       "      <td>64203420245</td>\n",
       "      <td>2576.013135</td>\n",
       "    </tr>\n",
       "    <tr>\n",
       "      <th>48214</th>\n",
       "      <td>12</td>\n",
       "      <td>86578477987</td>\n",
       "      <td>2670.840636</td>\n",
       "    </tr>\n",
       "    <tr>\n",
       "      <th>48215</th>\n",
       "      <td>12</td>\n",
       "      <td>24852446429</td>\n",
       "      <td>2774.318325</td>\n",
       "    </tr>\n",
       "  </tbody>\n",
       "</table>\n",
       "<p>48216 rows × 3 columns</p>\n",
       "</div>"
      ],
      "text/plain": [
       "       month  merchant_abn  total_middle_customers\n",
       "0          1   28836033916                4.850240\n",
       "1          1   14626521979                4.850240\n",
       "2          1   37670671283                4.850240\n",
       "3          1   37706925794                4.850240\n",
       "4          1   95594775419                4.850240\n",
       "...      ...           ...                     ...\n",
       "48211     12   46804135891             2379.631110\n",
       "48212     12   49891706470             2465.908543\n",
       "48213     12   64203420245             2576.013135\n",
       "48214     12   86578477987             2670.840636\n",
       "48215     12   24852446429             2774.318325\n",
       "\n",
       "[48216 rows x 3 columns]"
      ]
     },
     "execution_count": 61,
     "metadata": {},
     "output_type": "execute_result"
    }
   ],
   "source": [
    "ordered_fmc_pd = future_mcustomers_sdf \\\n",
    "    .orderBy(asc(\"month\"), asc(\"total_middle_customers\")) \\\n",
    "    .drop(\"year\") \\\n",
    "    .toPandas()\n",
    "\n",
    "ordered_fmc_pd"
   ]
  },
  {
   "cell_type": "code",
   "execution_count": 62,
   "metadata": {
    "tags": []
   },
   "outputs": [],
   "source": [
    "for i in range(1, MONTHS+1):\n",
    "    new_points = []\n",
    "    \n",
    "    month_data = ordered_fmc_pd.groupby(\"month\").get_group(i)\n",
    "    month_data = pd.DataFrame(month_data.reset_index().drop(columns=\"index\"))\n",
    "    \n",
    "    for abn in merch_abns:\n",
    "        try:\n",
    "            # the larger the index, the more profit the merchant will have (ordered data)\n",
    "            # thus more points awarded\n",
    "            points = np.round(WEIGHT_MCUSTOMERS*list(month_data.index[month_data[\"merchant_abn\"] == abn])[0], 3)\n",
    "        except IndexError:\n",
    "            # have no data for the current abn\n",
    "            points = 0\n",
    "\n",
    "        new_points.append(points)\n",
    "\n",
    "    merchants_pd[\"points\"] = merchants_pd[\"points\"] + new_points"
   ]
  },
  {
   "cell_type": "code",
   "execution_count": 63,
   "metadata": {
    "tags": []
   },
   "outputs": [
    {
     "data": {
      "text/html": [
       "<div>\n",
       "<style scoped>\n",
       "    .dataframe tbody tr th:only-of-type {\n",
       "        vertical-align: middle;\n",
       "    }\n",
       "\n",
       "    .dataframe tbody tr th {\n",
       "        vertical-align: top;\n",
       "    }\n",
       "\n",
       "    .dataframe thead th {\n",
       "        text-align: right;\n",
       "    }\n",
       "</style>\n",
       "<table border=\"1\" class=\"dataframe\">\n",
       "  <thead>\n",
       "    <tr style=\"text-align: right;\">\n",
       "      <th></th>\n",
       "      <th>merchant_abn</th>\n",
       "      <th>points</th>\n",
       "    </tr>\n",
       "  </thead>\n",
       "  <tbody>\n",
       "    <tr>\n",
       "      <th>0</th>\n",
       "      <td>10023283211</td>\n",
       "      <td>23850.625</td>\n",
       "    </tr>\n",
       "    <tr>\n",
       "      <th>1</th>\n",
       "      <td>10142254217</td>\n",
       "      <td>28458.250</td>\n",
       "    </tr>\n",
       "    <tr>\n",
       "      <th>2</th>\n",
       "      <td>10165489824</td>\n",
       "      <td>3754.500</td>\n",
       "    </tr>\n",
       "    <tr>\n",
       "      <th>3</th>\n",
       "      <td>10187291046</td>\n",
       "      <td>15534.750</td>\n",
       "    </tr>\n",
       "    <tr>\n",
       "      <th>4</th>\n",
       "      <td>10192359162</td>\n",
       "      <td>23528.500</td>\n",
       "    </tr>\n",
       "    <tr>\n",
       "      <th>...</th>\n",
       "      <td>...</td>\n",
       "      <td>...</td>\n",
       "    </tr>\n",
       "    <tr>\n",
       "      <th>4013</th>\n",
       "      <td>99938978285</td>\n",
       "      <td>37048.125</td>\n",
       "    </tr>\n",
       "    <tr>\n",
       "      <th>4014</th>\n",
       "      <td>99974311662</td>\n",
       "      <td>10775.875</td>\n",
       "    </tr>\n",
       "    <tr>\n",
       "      <th>4015</th>\n",
       "      <td>99976658299</td>\n",
       "      <td>41278.625</td>\n",
       "    </tr>\n",
       "    <tr>\n",
       "      <th>4016</th>\n",
       "      <td>99987905597</td>\n",
       "      <td>17827.500</td>\n",
       "    </tr>\n",
       "    <tr>\n",
       "      <th>4017</th>\n",
       "      <td>99990536339</td>\n",
       "      <td>3020.250</td>\n",
       "    </tr>\n",
       "  </tbody>\n",
       "</table>\n",
       "<p>4018 rows × 2 columns</p>\n",
       "</div>"
      ],
      "text/plain": [
       "      merchant_abn     points\n",
       "0      10023283211  23850.625\n",
       "1      10142254217  28458.250\n",
       "2      10165489824   3754.500\n",
       "3      10187291046  15534.750\n",
       "4      10192359162  23528.500\n",
       "...            ...        ...\n",
       "4013   99938978285  37048.125\n",
       "4014   99974311662  10775.875\n",
       "4015   99976658299  41278.625\n",
       "4016   99987905597  17827.500\n",
       "4017   99990536339   3020.250\n",
       "\n",
       "[4018 rows x 2 columns]"
      ]
     },
     "execution_count": 63,
     "metadata": {},
     "output_type": "execute_result"
    }
   ],
   "source": [
    "merchants_pd"
   ]
  },
  {
   "cell_type": "markdown",
   "metadata": {},
   "source": [
    "***"
   ]
  },
  {
   "cell_type": "markdown",
   "metadata": {},
   "source": [
    "Get the top merchants"
   ]
  },
  {
   "cell_type": "code",
   "execution_count": 64,
   "metadata": {},
   "outputs": [
    {
     "name": "stderr",
     "output_type": "stream",
     "text": [
      "                                                                                \r"
     ]
    },
    {
     "data": {
      "text/html": [
       "<table border='1'>\n",
       "<tr><th>merchant_abn</th><th>points</th></tr>\n",
       "<tr><td>86578477987</td><td>42164.5</td></tr>\n",
       "<tr><td>45629217853</td><td>42136.125</td></tr>\n",
       "<tr><td>89726005175</td><td>42103.75</td></tr>\n",
       "<tr><td>21439773999</td><td>42091.0</td></tr>\n",
       "<tr><td>64403598239</td><td>42080.25</td></tr>\n",
       "<tr><td>32361057556</td><td>42077.5</td></tr>\n",
       "<tr><td>49891706470</td><td>42071.5</td></tr>\n",
       "<tr><td>94493496784</td><td>42044.625</td></tr>\n",
       "<tr><td>43186523025</td><td>42037.875</td></tr>\n",
       "<tr><td>48534649627</td><td>42037.125</td></tr>\n",
       "<tr><td>72472909171</td><td>42032.125</td></tr>\n",
       "<tr><td>79417999332</td><td>42019.375</td></tr>\n",
       "<tr><td>60956456424</td><td>41954.125</td></tr>\n",
       "<tr><td>49322182190</td><td>41952.25</td></tr>\n",
       "<tr><td>24852446429</td><td>41922.625</td></tr>\n",
       "<tr><td>98973094975</td><td>41918.5</td></tr>\n",
       "<tr><td>63290521567</td><td>41900.125</td></tr>\n",
       "<tr><td>49505931725</td><td>41890.75</td></tr>\n",
       "<tr><td>76767266140</td><td>41870.625</td></tr>\n",
       "<tr><td>35909341340</td><td>41851.125</td></tr>\n",
       "</table>\n",
       "only showing top 20 rows\n"
      ],
      "text/plain": [
       "+------------+---------+\n",
       "|merchant_abn|   points|\n",
       "+------------+---------+\n",
       "| 86578477987|  42164.5|\n",
       "| 45629217853|42136.125|\n",
       "| 89726005175| 42103.75|\n",
       "| 21439773999|  42091.0|\n",
       "| 64403598239| 42080.25|\n",
       "| 32361057556|  42077.5|\n",
       "| 49891706470|  42071.5|\n",
       "| 94493496784|42044.625|\n",
       "| 43186523025|42037.875|\n",
       "| 48534649627|42037.125|\n",
       "| 72472909171|42032.125|\n",
       "| 79417999332|42019.375|\n",
       "| 60956456424|41954.125|\n",
       "| 49322182190| 41952.25|\n",
       "| 24852446429|41922.625|\n",
       "| 98973094975|  41918.5|\n",
       "| 63290521567|41900.125|\n",
       "| 49505931725| 41890.75|\n",
       "| 76767266140|41870.625|\n",
       "| 35909341340|41851.125|\n",
       "+------------+---------+\n",
       "only showing top 20 rows"
      ]
     },
     "execution_count": 64,
     "metadata": {},
     "output_type": "execute_result"
    }
   ],
   "source": [
    "rankings = spark.createDataFrame(merchants_pd).sort(desc(\"points\"))\n",
    "rankings"
   ]
  },
  {
   "cell_type": "code",
   "execution_count": null,
   "metadata": {},
   "outputs": [],
   "source": []
  },
  {
   "cell_type": "markdown",
   "metadata": {},
   "source": [
    "## Segmentation"
   ]
  }
 ],
 "metadata": {
  "kernelspec": {
   "display_name": "Python 3 (ipykernel)",
   "language": "python",
   "name": "python3"
  },
  "language_info": {
   "codemirror_mode": {
    "name": "ipython",
    "version": 3
   },
   "file_extension": ".py",
   "mimetype": "text/x-python",
   "name": "python",
   "nbconvert_exporter": "python",
   "pygments_lexer": "ipython3",
   "version": "3.8.10"
  },
  "vscode": {
   "interpreter": {
    "hash": "916dbcbb3f70747c44a77c7bcd40155683ae19c65e1c03b4aa3499c5328201f1"
   }
  }
 },
 "nbformat": 4,
 "nbformat_minor": 4
}
