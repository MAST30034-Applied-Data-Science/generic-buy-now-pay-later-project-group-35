{
 "cells": [
  {
   "cell_type": "code",
   "execution_count": 1,
   "metadata": {},
   "outputs": [
    {
     "name": "stdout",
     "output_type": "stream",
     "text": [
      "22/10/05 21:36:22 WARN Utils: Your hostname, DESKTOP-LNDD2A2 resolves to a loopback address: 127.0.1.1; using 172.28.37.254 instead (on interface eth0)\n",
      "22/10/05 21:36:23 WARN Utils: Set SPARK_LOCAL_IP if you need to bind to another address\n"
     ]
    },
    {
     "name": "stderr",
     "output_type": "stream",
     "text": [
      "Setting default log level to \"WARN\".\n",
      "To adjust logging level use sc.setLogLevel(newLevel). For SparkR, use setLogLevel(newLevel).\n"
     ]
    },
    {
     "name": "stdout",
     "output_type": "stream",
     "text": [
      "22/10/05 21:36:26 WARN NativeCodeLoader: Unable to load native-hadoop library for your platform... using builtin-java classes where applicable\n"
     ]
    }
   ],
   "source": [
    "from pyspark.sql import SparkSession\n",
    "from pyspark.sql.functions import * \n",
    "import matplotlib.pyplot as plt\n",
    "import pandas as pd\n",
    "import numpy as np\n",
    "from urllib.request import urlretrieve\n",
    "from owslib.wfs import WebFeatureService\n",
    "from dotenv import load_dotenv\n",
    "from pyspark.sql import functions as F\n",
    "from pyspark.sql import Window\n",
    "from pyspark.sql.functions import lit\n",
    "\n",
    "# Create a spark session\n",
    "spark = (\n",
    "    SparkSession.builder.appName(\"analysis\")\n",
    "    .config(\"spark.sql.repl.eagerEval.enabled\", True) \n",
    "    .config(\"spark.sql.parquet.cacheMetadata\", \"true\")\n",
    "    .config(\"spark.sql.session.timeZone\", \"Etc/UTC\")\n",
    "    .config(\"spark.driver.memory\", \"2g\")\n",
    "    .config(\"spark.executor.memory\", \"6g\")\n",
    "    .getOrCreate()\n",
    ")"
   ]
  },
  {
   "cell_type": "code",
   "execution_count": 2,
   "metadata": {},
   "outputs": [
    {
     "name": "stderr",
     "output_type": "stream",
     "text": [
      "                                                                                \r"
     ]
    },
    {
     "data": {
      "text/html": [
       "<table border='1'>\n",
       "<tr><th>order_datetime</th><th>merchant_abn</th><th>user_id</th><th>postcode</th><th>consumer_id</th><th>dollar_value</th><th>order_id</th><th>state</th><th>gender</th><th>company_name</th><th>tags</th><th>take_rate</th><th>revenue_band</th><th>total_pop</th><th>under10_pop</th><th>adolsc_pop</th><th>yng_adult_pop</th><th>mid_age_pop</th><th>old_pop</th><th>num_earners</th><th>median_age</th><th>median_income</th><th>mean_income</th><th>consumer_fraud_%</th><th>merchant_fraud_%</th></tr>\n",
       "<tr><td>2021-08-21</td><td>80682333501</td><td>3146</td><td>5651</td><td>604753</td><td>0.3672339667473312</td><td>2a59c978-f760-42d...</td><td>SA</td><td>Male</td><td>Orci Corp.</td><td>florists supplies...</td><td> 4.88</td><td> b</td><td>2172</td><td>275</td><td>278</td><td>304</td><td>692</td><td>623</td><td>1308</td><td>47</td><td>37685</td><td>43540</td><td>0.1</td><td>0.1</td></tr>\n",
       "<tr><td>2021-08-19</td><td>99478391356</td><td>3146</td><td>5651</td><td>604753</td><td>3035.1695642706595</td><td>82e100bc-25c2-4e3...</td><td>SA</td><td>Male</td><td>Orci Quis Foundation</td><td>equipment, tool, ...</td><td> 1.52</td><td> c</td><td>2172</td><td>275</td><td>278</td><td>304</td><td>692</td><td>623</td><td>1308</td><td>47</td><td>37685</td><td>43540</td><td>0.1</td><td>0.1</td></tr>\n",
       "<tr><td>2021-08-19</td><td>86578477987</td><td>3146</td><td>5651</td><td>604753</td><td>61.05946896765003</td><td>9e3c8e62-9e8e-4e8...</td><td>SA</td><td>Male</td><td>Leo In Consulting</td><td>watch, clock, and...</td><td> 6.43</td><td> a</td><td>2172</td><td>275</td><td>278</td><td>304</td><td>692</td><td>623</td><td>1308</td><td>47</td><td>37685</td><td>43540</td><td>0.1</td><td>0.1</td></tr>\n",
       "<tr><td>2021-08-14</td><td>32361057556</td><td>3146</td><td>5651</td><td>604753</td><td>155.3456409871304</td><td>e4ff9499-e96d-4e6...</td><td>SA</td><td>Male</td><td>Orci In Consequat...</td><td>gift, card, novel...</td><td> 6.61</td><td> a</td><td>2172</td><td>275</td><td>278</td><td>304</td><td>692</td><td>623</td><td>1308</td><td>47</td><td>37685</td><td>43540</td><td>0.1</td><td>0.1</td></tr>\n",
       "<tr><td>2021-08-16</td><td>20445424481</td><td>3146</td><td>5651</td><td>604753</td><td>57.66971365811276</td><td>4a36f2ed-7bcc-43d...</td><td>SA</td><td>Male</td><td>Amet Industries</td><td>digital goods: bo...</td><td> 6.29</td><td> a</td><td>2172</td><td>275</td><td>278</td><td>304</td><td>692</td><td>623</td><td>1308</td><td>47</td><td>37685</td><td>43540</td><td>0.1</td><td>0.1</td></tr>\n",
       "</table>\n"
      ],
      "text/plain": [
       "+--------------+------------+-------+--------+-----------+------------------+--------------------+-----+------+--------------------+--------------------+---------+------------+---------+-----------+----------+-------------+-----------+-------+-----------+----------+-------------+-----------+----------------+----------------+\n",
       "|order_datetime|merchant_abn|user_id|postcode|consumer_id|      dollar_value|            order_id|state|gender|        company_name|                tags|take_rate|revenue_band|total_pop|under10_pop|adolsc_pop|yng_adult_pop|mid_age_pop|old_pop|num_earners|median_age|median_income|mean_income|consumer_fraud_%|merchant_fraud_%|\n",
       "+--------------+------------+-------+--------+-----------+------------------+--------------------+-----+------+--------------------+--------------------+---------+------------+---------+-----------+----------+-------------+-----------+-------+-----------+----------+-------------+-----------+----------------+----------------+\n",
       "|    2021-08-21| 80682333501|   3146|    5651|     604753|0.3672339667473312|2a59c978-f760-42d...|   SA|  Male|          Orci Corp.|florists supplies...|     4.88|           b|     2172|        275|       278|          304|        692|    623|       1308|        47|        37685|      43540|             0.1|             0.1|\n",
       "|    2021-08-19| 99478391356|   3146|    5651|     604753|3035.1695642706595|82e100bc-25c2-4e3...|   SA|  Male|Orci Quis Foundation|equipment, tool, ...|     1.52|           c|     2172|        275|       278|          304|        692|    623|       1308|        47|        37685|      43540|             0.1|             0.1|\n",
       "|    2021-08-19| 86578477987|   3146|    5651|     604753| 61.05946896765003|9e3c8e62-9e8e-4e8...|   SA|  Male|   Leo In Consulting|watch, clock, and...|     6.43|           a|     2172|        275|       278|          304|        692|    623|       1308|        47|        37685|      43540|             0.1|             0.1|\n",
       "|    2021-08-14| 32361057556|   3146|    5651|     604753| 155.3456409871304|e4ff9499-e96d-4e6...|   SA|  Male|Orci In Consequat...|gift, card, novel...|     6.61|           a|     2172|        275|       278|          304|        692|    623|       1308|        47|        37685|      43540|             0.1|             0.1|\n",
       "|    2021-08-16| 20445424481|   3146|    5651|     604753| 57.66971365811276|4a36f2ed-7bcc-43d...|   SA|  Male|     Amet Industries|digital goods: bo...|     6.29|           a|     2172|        275|       278|          304|        692|    623|       1308|        47|        37685|      43540|             0.1|             0.1|\n",
       "+--------------+------------+-------+--------+-----------+------------------+--------------------+-----+------+--------------------+--------------------+---------+------------+---------+-----------+----------+-------------+-----------+-------+-----------+----------+-------------+-----------+----------------+----------------+"
      ]
     },
     "execution_count": 2,
     "metadata": {},
     "output_type": "execute_result"
    }
   ],
   "source": [
    "sdf = spark.read.parquet(\"../data/curated/finaldf.parquet/\")\n",
    "sdf.limit(5)"
   ]
  },
  {
   "cell_type": "markdown",
   "metadata": {},
   "source": [
    "## Initial Ranking System"
   ]
  },
  {
   "cell_type": "markdown",
   "metadata": {},
   "source": [
    "Ranking System uses the following features:\n",
    "- future predictions for transactions per merchant per month\n",
    "- future predictions for profit per merchant per month\n",
    "- future predictions for customers within revenue range \\\\$50k-\\\\$75k per month"
   ]
  },
  {
   "cell_type": "code",
   "execution_count": 3,
   "metadata": {},
   "outputs": [
    {
     "data": {
      "text/html": [
       "<table border='1'>\n",
       "<tr><th>year</th><th>month</th><th>merchant_abn</th><th>total_transactions</th></tr>\n",
       "<tr><td>2023</td><td>4</td><td>51026003250</td><td>31.04763929559019</td></tr>\n",
       "<tr><td>2023</td><td>4</td><td>59248738261</td><td>33.48164050911184</td></tr>\n",
       "<tr><td>2023</td><td>4</td><td>22298599094</td><td>37.406815900936635</td></tr>\n",
       "<tr><td>2023</td><td>4</td><td>83004629651</td><td>32.18754728743305</td></tr>\n",
       "<tr><td>2023</td><td>4</td><td>10385163239</td><td>30.385875300308964</td></tr>\n",
       "</table>\n"
      ],
      "text/plain": [
       "+----+-----+------------+------------------+\n",
       "|year|month|merchant_abn|total_transactions|\n",
       "+----+-----+------------+------------------+\n",
       "|2023|    4| 51026003250| 31.04763929559019|\n",
       "|2023|    4| 59248738261| 33.48164050911184|\n",
       "|2023|    4| 22298599094|37.406815900936635|\n",
       "|2023|    4| 83004629651| 32.18754728743305|\n",
       "|2023|    4| 10385163239|30.385875300308964|\n",
       "+----+-----+------------+------------------+"
      ]
     },
     "execution_count": 3,
     "metadata": {},
     "output_type": "execute_result"
    }
   ],
   "source": [
    "future_trans_sdf = spark.read.parquet(\"../data/curated/futuretrans.parquet/\")\n",
    "future_trans_sdf.limit(5)"
   ]
  },
  {
   "cell_type": "code",
   "execution_count": 4,
   "metadata": {},
   "outputs": [
    {
     "data": {
      "text/html": [
       "<table border='1'>\n",
       "<tr><th>year</th><th>month</th><th>merchant_abn</th><th>total_profit</th></tr>\n",
       "<tr><td>2023</td><td>4</td><td>51026003250</td><td>330.0064557418861</td></tr>\n",
       "<tr><td>2023</td><td>4</td><td>59248738261</td><td>926.9256077916019</td></tr>\n",
       "<tr><td>2023</td><td>4</td><td>22298599094</td><td>268.7838578500479</td></tr>\n",
       "<tr><td>2023</td><td>4</td><td>83004629651</td><td>244.74317960336447</td></tr>\n",
       "<tr><td>2023</td><td>4</td><td>10385163239</td><td>323.1332842674351</td></tr>\n",
       "</table>\n"
      ],
      "text/plain": [
       "+----+-----+------------+------------------+\n",
       "|year|month|merchant_abn|      total_profit|\n",
       "+----+-----+------------+------------------+\n",
       "|2023|    4| 51026003250| 330.0064557418861|\n",
       "|2023|    4| 59248738261| 926.9256077916019|\n",
       "|2023|    4| 22298599094| 268.7838578500479|\n",
       "|2023|    4| 83004629651|244.74317960336447|\n",
       "|2023|    4| 10385163239| 323.1332842674351|\n",
       "+----+-----+------------+------------------+"
      ]
     },
     "execution_count": 4,
     "metadata": {},
     "output_type": "execute_result"
    }
   ],
   "source": [
    "future_profit_sdf = spark.read.parquet(\"../data/curated/futureprofit.parquet/\")\n",
    "future_profit_sdf.limit(5)"
   ]
  },
  {
   "cell_type": "code",
   "execution_count": 5,
   "metadata": {},
   "outputs": [
    {
     "name": "stderr",
     "output_type": "stream",
     "text": [
      "                                                                                \r"
     ]
    },
    {
     "data": {
      "text/html": [
       "<table border='1'>\n",
       "<tr><th>year</th><th>month</th><th>merchant_abn</th><th>total_middle_customers</th></tr>\n",
       "<tr><td>2023</td><td>7</td><td>36066395091</td><td>64.94303414454085</td></tr>\n",
       "<tr><td>2023</td><td>7</td><td>87998844202</td><td>79.45028034832727</td></tr>\n",
       "<tr><td>2023</td><td>7</td><td>66842618444</td><td>75.74034755604113</td></tr>\n",
       "<tr><td>2023</td><td>7</td><td>46145508777</td><td>13.899866466213558</td></tr>\n",
       "<tr><td>2023</td><td>7</td><td>80508375382</td><td>83.68346812191125</td></tr>\n",
       "</table>\n"
      ],
      "text/plain": [
       "+----+-----+------------+----------------------+\n",
       "|year|month|merchant_abn|total_middle_customers|\n",
       "+----+-----+------------+----------------------+\n",
       "|2023|    7| 36066395091|     64.94303414454085|\n",
       "|2023|    7| 87998844202|     79.45028034832727|\n",
       "|2023|    7| 66842618444|     75.74034755604113|\n",
       "|2023|    7| 46145508777|    13.899866466213558|\n",
       "|2023|    7| 80508375382|     83.68346812191125|\n",
       "+----+-----+------------+----------------------+"
      ]
     },
     "execution_count": 5,
     "metadata": {},
     "output_type": "execute_result"
    }
   ],
   "source": [
    "future_mcustomers_sdf = spark.read.parquet(\"../data/curated/futuremcustomers.parquet/\")\n",
    "future_mcustomers_sdf.limit(5)"
   ]
  },
  {
   "cell_type": "code",
   "execution_count": 6,
   "metadata": {},
   "outputs": [
    {
     "name": "stderr",
     "output_type": "stream",
     "text": [
      "                                                                                \r"
     ]
    },
    {
     "data": {
      "text/html": [
       "<div>\n",
       "<style scoped>\n",
       "    .dataframe tbody tr th:only-of-type {\n",
       "        vertical-align: middle;\n",
       "    }\n",
       "\n",
       "    .dataframe tbody tr th {\n",
       "        vertical-align: top;\n",
       "    }\n",
       "\n",
       "    .dataframe thead th {\n",
       "        text-align: right;\n",
       "    }\n",
       "</style>\n",
       "<table border=\"1\" class=\"dataframe\">\n",
       "  <thead>\n",
       "    <tr style=\"text-align: right;\">\n",
       "      <th></th>\n",
       "      <th>merchant_abn</th>\n",
       "      <th>points</th>\n",
       "    </tr>\n",
       "  </thead>\n",
       "  <tbody>\n",
       "    <tr>\n",
       "      <th>0</th>\n",
       "      <td>73256306726</td>\n",
       "      <td>1</td>\n",
       "    </tr>\n",
       "    <tr>\n",
       "      <th>1</th>\n",
       "      <td>48214071373</td>\n",
       "      <td>1</td>\n",
       "    </tr>\n",
       "    <tr>\n",
       "      <th>2</th>\n",
       "      <td>38700038932</td>\n",
       "      <td>1</td>\n",
       "    </tr>\n",
       "    <tr>\n",
       "      <th>3</th>\n",
       "      <td>73841664453</td>\n",
       "      <td>1</td>\n",
       "    </tr>\n",
       "    <tr>\n",
       "      <th>4</th>\n",
       "      <td>83412691377</td>\n",
       "      <td>1</td>\n",
       "    </tr>\n",
       "    <tr>\n",
       "      <th>...</th>\n",
       "      <td>...</td>\n",
       "      <td>...</td>\n",
       "    </tr>\n",
       "    <tr>\n",
       "      <th>4013</th>\n",
       "      <td>87788702467</td>\n",
       "      <td>1</td>\n",
       "    </tr>\n",
       "    <tr>\n",
       "      <th>4014</th>\n",
       "      <td>81906511933</td>\n",
       "      <td>1</td>\n",
       "    </tr>\n",
       "    <tr>\n",
       "      <th>4015</th>\n",
       "      <td>66499078575</td>\n",
       "      <td>1</td>\n",
       "    </tr>\n",
       "    <tr>\n",
       "      <th>4016</th>\n",
       "      <td>26465868807</td>\n",
       "      <td>1</td>\n",
       "    </tr>\n",
       "    <tr>\n",
       "      <th>4017</th>\n",
       "      <td>11411018019</td>\n",
       "      <td>1</td>\n",
       "    </tr>\n",
       "  </tbody>\n",
       "</table>\n",
       "<p>4018 rows × 2 columns</p>\n",
       "</div>"
      ],
      "text/plain": [
       "      merchant_abn  points\n",
       "0      73256306726       1\n",
       "1      48214071373       1\n",
       "2      38700038932       1\n",
       "3      73841664453       1\n",
       "4      83412691377       1\n",
       "...            ...     ...\n",
       "4013   87788702467       1\n",
       "4014   81906511933       1\n",
       "4015   66499078575       1\n",
       "4016   26465868807       1\n",
       "4017   11411018019       1\n",
       "\n",
       "[4018 rows x 2 columns]"
      ]
     },
     "execution_count": 6,
     "metadata": {},
     "output_type": "execute_result"
    }
   ],
   "source": [
    "merchants_pd = future_trans_sdf \\\n",
    "    .select('merchant_abn') \\\n",
    "    .distinct() \\\n",
    "    .withColumn('points', lit(1)) \\\n",
    "    .toPandas()\n",
    "\n",
    "merchants_pd"
   ]
  },
  {
   "cell_type": "markdown",
   "metadata": {},
   "source": [
    "Have 4018 distinct merchants, need to select top 100 merchants\n",
    "\n",
    "Idea:\n",
    "- all merchants have initial points 1\n",
    "- the more the number of points, the higher/better the rank will be\n",
    "- points given based on sorted positioning within the features and importance of the feature (initially have 2 features with equal importance)"
   ]
  },
  {
   "cell_type": "code",
   "execution_count": 7,
   "metadata": {},
   "outputs": [],
   "source": [
    "WEIGHT_TRANS = 0.33\n",
    "WEIGHT_PROFIT = 0.33\n",
    "WEIGHT_MCUSTOMERS = 0.33"
   ]
  },
  {
   "cell_type": "markdown",
   "metadata": {},
   "source": [
    "***"
   ]
  },
  {
   "cell_type": "markdown",
   "metadata": {},
   "source": [
    "Get the merchant with the highest number of total transactions for each month (`ft_agg2`):"
   ]
  },
  {
   "cell_type": "code",
   "execution_count": 8,
   "metadata": {},
   "outputs": [
    {
     "name": "stderr",
     "output_type": "stream",
     "text": [
      "                                                                                \r"
     ]
    },
    {
     "data": {
      "text/html": [
       "<table border='1'>\n",
       "<tr><th>year</th><th>month</th><th>merchant_abn</th><th>total_transactions</th></tr>\n",
       "<tr><td>2023</td><td>1</td><td>24852446429</td><td>12706.867430622047</td></tr>\n",
       "<tr><td>2023</td><td>2</td><td>24852446429</td><td>12725.976797500647</td></tr>\n",
       "<tr><td>2023</td><td>3</td><td>24852446429</td><td>12601.879475370839</td></tr>\n",
       "<tr><td>2023</td><td>4</td><td>24852446429</td><td>12624.618672374758</td></tr>\n",
       "<tr><td>2023</td><td>5</td><td>24852446429</td><td>12557.475159081536</td></tr>\n",
       "<tr><td>2023</td><td>6</td><td>24852446429</td><td>12576.861500222918</td></tr>\n",
       "<tr><td>2023</td><td>7</td><td>24852446429</td><td>12540.356167994907</td></tr>\n",
       "<tr><td>2023</td><td>8</td><td>24852446429</td><td>12555.113743323984</td></tr>\n",
       "<tr><td>2023</td><td>9</td><td>24852446429</td><td>12535.352343858927</td></tr>\n",
       "<tr><td>2023</td><td>10</td><td>24852446429</td><td>12546.091227819079</td></tr>\n",
       "<tr><td>2023</td><td>11</td><td>24852446429</td><td>12535.618671889513</td></tr>\n",
       "<tr><td>2023</td><td>12</td><td>24852446429</td><td>12543.355600349449</td></tr>\n",
       "</table>\n"
      ],
      "text/plain": [
       "+----+-----+------------+------------------+\n",
       "|year|month|merchant_abn|total_transactions|\n",
       "+----+-----+------------+------------------+\n",
       "|2023|    1| 24852446429|12706.867430622047|\n",
       "|2023|    2| 24852446429|12725.976797500647|\n",
       "|2023|    3| 24852446429|12601.879475370839|\n",
       "|2023|    4| 24852446429|12624.618672374758|\n",
       "|2023|    5| 24852446429|12557.475159081536|\n",
       "|2023|    6| 24852446429|12576.861500222918|\n",
       "|2023|    7| 24852446429|12540.356167994907|\n",
       "|2023|    8| 24852446429|12555.113743323984|\n",
       "|2023|    9| 24852446429|12535.352343858927|\n",
       "|2023|   10| 24852446429|12546.091227819079|\n",
       "|2023|   11| 24852446429|12535.618671889513|\n",
       "|2023|   12| 24852446429|12543.355600349449|\n",
       "+----+-----+------------+------------------+"
      ]
     },
     "execution_count": 8,
     "metadata": {},
     "output_type": "execute_result"
    }
   ],
   "source": [
    "w = Window.partitionBy('month')\n",
    "\n",
    "ft_agg2 = future_trans_sdf \\\n",
    "    .withColumn('maxT', F.max('total_transactions').over(w)) \\\n",
    "    .where(F.col('total_transactions') == F.col('maxT')) \\\n",
    "    .drop('maxT')\n",
    "\n",
    "ft_agg2"
   ]
  },
  {
   "cell_type": "markdown",
   "metadata": {},
   "source": [
    "__[reference for above code](https://stackoverflow.com/questions/48829993/groupby-column-and-filter-rows-with-maximum-value-in-pyspark)__\n",
    "\n"
   ]
  },
  {
   "cell_type": "markdown",
   "metadata": {},
   "source": [
    "For each month, order the merchants by increasing order of their total transactions <br>\n",
    "(merchant with lowest number of transactions for that month will be at the top)"
   ]
  },
  {
   "cell_type": "code",
   "execution_count": 10,
   "metadata": {},
   "outputs": [
    {
     "data": {
      "text/html": [
       "<div>\n",
       "<style scoped>\n",
       "    .dataframe tbody tr th:only-of-type {\n",
       "        vertical-align: middle;\n",
       "    }\n",
       "\n",
       "    .dataframe tbody tr th {\n",
       "        vertical-align: top;\n",
       "    }\n",
       "\n",
       "    .dataframe thead th {\n",
       "        text-align: right;\n",
       "    }\n",
       "</style>\n",
       "<table border=\"1\" class=\"dataframe\">\n",
       "  <thead>\n",
       "    <tr style=\"text-align: right;\">\n",
       "      <th></th>\n",
       "      <th>month</th>\n",
       "      <th>merchant_abn</th>\n",
       "      <th>total_transactions</th>\n",
       "    </tr>\n",
       "  </thead>\n",
       "  <tbody>\n",
       "    <tr>\n",
       "      <th>0</th>\n",
       "      <td>1</td>\n",
       "      <td>62346852889</td>\n",
       "      <td>21.097950</td>\n",
       "    </tr>\n",
       "    <tr>\n",
       "      <th>1</th>\n",
       "      <td>1</td>\n",
       "      <td>35235320738</td>\n",
       "      <td>21.149586</td>\n",
       "    </tr>\n",
       "    <tr>\n",
       "      <th>2</th>\n",
       "      <td>1</td>\n",
       "      <td>86791380020</td>\n",
       "      <td>21.154814</td>\n",
       "    </tr>\n",
       "    <tr>\n",
       "      <th>3</th>\n",
       "      <td>1</td>\n",
       "      <td>34455283435</td>\n",
       "      <td>21.199792</td>\n",
       "    </tr>\n",
       "    <tr>\n",
       "      <th>4</th>\n",
       "      <td>1</td>\n",
       "      <td>98082781436</td>\n",
       "      <td>21.204058</td>\n",
       "    </tr>\n",
       "    <tr>\n",
       "      <th>...</th>\n",
       "      <td>...</td>\n",
       "      <td>...</td>\n",
       "      <td>...</td>\n",
       "    </tr>\n",
       "    <tr>\n",
       "      <th>48211</th>\n",
       "      <td>12</td>\n",
       "      <td>46804135891</td>\n",
       "      <td>10163.244846</td>\n",
       "    </tr>\n",
       "    <tr>\n",
       "      <th>48212</th>\n",
       "      <td>12</td>\n",
       "      <td>49891706470</td>\n",
       "      <td>10724.271327</td>\n",
       "    </tr>\n",
       "    <tr>\n",
       "      <th>48213</th>\n",
       "      <td>12</td>\n",
       "      <td>64203420245</td>\n",
       "      <td>11311.885569</td>\n",
       "    </tr>\n",
       "    <tr>\n",
       "      <th>48214</th>\n",
       "      <td>12</td>\n",
       "      <td>86578477987</td>\n",
       "      <td>11805.480411</td>\n",
       "    </tr>\n",
       "    <tr>\n",
       "      <th>48215</th>\n",
       "      <td>12</td>\n",
       "      <td>24852446429</td>\n",
       "      <td>12543.355600</td>\n",
       "    </tr>\n",
       "  </tbody>\n",
       "</table>\n",
       "<p>48216 rows × 3 columns</p>\n",
       "</div>"
      ],
      "text/plain": [
       "       month  merchant_abn  total_transactions\n",
       "0          1   62346852889           21.097950\n",
       "1          1   35235320738           21.149586\n",
       "2          1   86791380020           21.154814\n",
       "3          1   34455283435           21.199792\n",
       "4          1   98082781436           21.204058\n",
       "...      ...           ...                 ...\n",
       "48211     12   46804135891        10163.244846\n",
       "48212     12   49891706470        10724.271327\n",
       "48213     12   64203420245        11311.885569\n",
       "48214     12   86578477987        11805.480411\n",
       "48215     12   24852446429        12543.355600\n",
       "\n",
       "[48216 rows x 3 columns]"
      ]
     },
     "execution_count": 10,
     "metadata": {},
     "output_type": "execute_result"
    }
   ],
   "source": [
    "ordered_ft_pd = future_trans_sdf \\\n",
    "    .orderBy(asc(\"month\"), asc(\"total_transactions\")) \\\n",
    "    .drop(\"year\") \\\n",
    "    .toPandas()\n",
    "\n",
    "ordered_ft_pd"
   ]
  },
  {
   "cell_type": "markdown",
   "metadata": {},
   "source": [
    "Note for below that `groupby` preserves ordering within each group"
   ]
  },
  {
   "cell_type": "code",
   "execution_count": 11,
   "metadata": {},
   "outputs": [],
   "source": [
    "merch_abns = list(merchants_pd[\"merchant_abn\"])\n",
    "\n",
    "MONTHS = 12\n",
    "for i in range(1, MONTHS+1):\n",
    "    new_points = []\n",
    "    \n",
    "    month_data = ordered_ft_pd.groupby(\"month\").get_group(i)\n",
    "    month_data = pd.DataFrame(month_data.reset_index().drop(columns=\"index\"))\n",
    "    \n",
    "    for abn in merch_abns:\n",
    "        try:\n",
    "            # the larger the index, the more transactions the merchant will have (ordered data)\n",
    "            # thus more points awarded\n",
    "            points = np.round(WEIGHT_TRANS*list(month_data.index[month_data[\"merchant_abn\"] == abn])[0], 3)\n",
    "        except IndexError:\n",
    "            # have no data for the current abn\n",
    "            points = 0\n",
    "\n",
    "        new_points.append(points)\n",
    "\n",
    "    merchants_pd[\"points\"] = merchants_pd[\"points\"] + new_points\n"
   ]
  },
  {
   "cell_type": "markdown",
   "metadata": {},
   "source": [
    "Note: The rewarding points system does not account for the magnitude of the difference in number of transactions\n",
    "\n",
    "TODO: figure out if can make the above statement possible"
   ]
  },
  {
   "cell_type": "code",
   "execution_count": 12,
   "metadata": {},
   "outputs": [
    {
     "data": {
      "text/html": [
       "<div>\n",
       "<style scoped>\n",
       "    .dataframe tbody tr th:only-of-type {\n",
       "        vertical-align: middle;\n",
       "    }\n",
       "\n",
       "    .dataframe tbody tr th {\n",
       "        vertical-align: top;\n",
       "    }\n",
       "\n",
       "    .dataframe thead th {\n",
       "        text-align: right;\n",
       "    }\n",
       "</style>\n",
       "<table border=\"1\" class=\"dataframe\">\n",
       "  <thead>\n",
       "    <tr style=\"text-align: right;\">\n",
       "      <th></th>\n",
       "      <th>merchant_abn</th>\n",
       "      <th>points</th>\n",
       "    </tr>\n",
       "  </thead>\n",
       "  <tbody>\n",
       "    <tr>\n",
       "      <th>0</th>\n",
       "      <td>73256306726</td>\n",
       "      <td>13892.35</td>\n",
       "    </tr>\n",
       "    <tr>\n",
       "      <th>1</th>\n",
       "      <td>48214071373</td>\n",
       "      <td>8938.39</td>\n",
       "    </tr>\n",
       "    <tr>\n",
       "      <th>2</th>\n",
       "      <td>38700038932</td>\n",
       "      <td>14276.47</td>\n",
       "    </tr>\n",
       "    <tr>\n",
       "      <th>3</th>\n",
       "      <td>73841664453</td>\n",
       "      <td>10183.81</td>\n",
       "    </tr>\n",
       "    <tr>\n",
       "      <th>4</th>\n",
       "      <td>83412691377</td>\n",
       "      <td>15146.68</td>\n",
       "    </tr>\n",
       "    <tr>\n",
       "      <th>...</th>\n",
       "      <td>...</td>\n",
       "      <td>...</td>\n",
       "    </tr>\n",
       "    <tr>\n",
       "      <th>4013</th>\n",
       "      <td>87788702467</td>\n",
       "      <td>4939.45</td>\n",
       "    </tr>\n",
       "    <tr>\n",
       "      <th>4014</th>\n",
       "      <td>81906511933</td>\n",
       "      <td>3316.18</td>\n",
       "    </tr>\n",
       "    <tr>\n",
       "      <th>4015</th>\n",
       "      <td>66499078575</td>\n",
       "      <td>2503.06</td>\n",
       "    </tr>\n",
       "    <tr>\n",
       "      <th>4016</th>\n",
       "      <td>26465868807</td>\n",
       "      <td>2718.22</td>\n",
       "    </tr>\n",
       "    <tr>\n",
       "      <th>4017</th>\n",
       "      <td>11411018019</td>\n",
       "      <td>462.67</td>\n",
       "    </tr>\n",
       "  </tbody>\n",
       "</table>\n",
       "<p>4018 rows × 2 columns</p>\n",
       "</div>"
      ],
      "text/plain": [
       "      merchant_abn    points\n",
       "0      73256306726  13892.35\n",
       "1      48214071373   8938.39\n",
       "2      38700038932  14276.47\n",
       "3      73841664453  10183.81\n",
       "4      83412691377  15146.68\n",
       "...            ...       ...\n",
       "4013   87788702467   4939.45\n",
       "4014   81906511933   3316.18\n",
       "4015   66499078575   2503.06\n",
       "4016   26465868807   2718.22\n",
       "4017   11411018019    462.67\n",
       "\n",
       "[4018 rows x 2 columns]"
      ]
     },
     "execution_count": 12,
     "metadata": {},
     "output_type": "execute_result"
    }
   ],
   "source": [
    "merchants_pd"
   ]
  },
  {
   "cell_type": "markdown",
   "metadata": {},
   "source": [
    "Should the points be scaled so they are in the range of 1-4018 before working on the next feature?"
   ]
  },
  {
   "cell_type": "markdown",
   "metadata": {},
   "source": [
    "***"
   ]
  },
  {
   "cell_type": "markdown",
   "metadata": {},
   "source": [
    "Get the merchant with the highest profit for each month (`fp_agg2`):"
   ]
  },
  {
   "cell_type": "code",
   "execution_count": 13,
   "metadata": {},
   "outputs": [
    {
     "data": {
      "text/html": [
       "<table border='1'>\n",
       "<tr><th>year</th><th>month</th><th>merchant_abn</th><th>total_profit</th></tr>\n",
       "<tr><td>2023</td><td>1</td><td>32361057556</td><td>27740.570878728235</td></tr>\n",
       "<tr><td>2023</td><td>2</td><td>32361057556</td><td>27878.7679430336</td></tr>\n",
       "<tr><td>2023</td><td>3</td><td>32361057556</td><td>27552.75259841377</td></tr>\n",
       "<tr><td>2023</td><td>4</td><td>32361057556</td><td>27653.557096675115</td></tr>\n",
       "<tr><td>2023</td><td>5</td><td>32361057556</td><td>27479.095309639102</td></tr>\n",
       "<tr><td>2023</td><td>6</td><td>32361057556</td><td>27551.766701347373</td></tr>\n",
       "<tr><td>2023</td><td>7</td><td>32361057556</td><td>27461.515288951385</td></tr>\n",
       "<tr><td>2023</td><td>8</td><td>32361057556</td><td>27514.536693437625</td></tr>\n",
       "<tr><td>2023</td><td>9</td><td>32361057556</td><td>27471.280954645557</td></tr>\n",
       "<tr><td>2023</td><td>10</td><td>32361057556</td><td>27511.178900430907</td></tr>\n",
       "<tr><td>2023</td><td>11</td><td>32361057556</td><td>27494.259990420793</td></tr>\n",
       "<tr><td>2023</td><td>12</td><td>32361057556</td><td>27525.650157032956</td></tr>\n",
       "</table>\n"
      ],
      "text/plain": [
       "+----+-----+------------+------------------+\n",
       "|year|month|merchant_abn|      total_profit|\n",
       "+----+-----+------------+------------------+\n",
       "|2023|    1| 32361057556|27740.570878728235|\n",
       "|2023|    2| 32361057556|  27878.7679430336|\n",
       "|2023|    3| 32361057556| 27552.75259841377|\n",
       "|2023|    4| 32361057556|27653.557096675115|\n",
       "|2023|    5| 32361057556|27479.095309639102|\n",
       "|2023|    6| 32361057556|27551.766701347373|\n",
       "|2023|    7| 32361057556|27461.515288951385|\n",
       "|2023|    8| 32361057556|27514.536693437625|\n",
       "|2023|    9| 32361057556|27471.280954645557|\n",
       "|2023|   10| 32361057556|27511.178900430907|\n",
       "|2023|   11| 32361057556|27494.259990420793|\n",
       "|2023|   12| 32361057556|27525.650157032956|\n",
       "+----+-----+------------+------------------+"
      ]
     },
     "execution_count": 13,
     "metadata": {},
     "output_type": "execute_result"
    }
   ],
   "source": [
    "w = Window.partitionBy('month')\n",
    "\n",
    "fp_agg2 = future_profit_sdf \\\n",
    "    .withColumn('maxP', F.max('total_profit').over(w)) \\\n",
    "    .where(F.col('total_profit') == F.col('maxP')) \\\n",
    "    .drop('maxP')\n",
    "\n",
    "fp_agg2"
   ]
  },
  {
   "cell_type": "markdown",
   "metadata": {
    "tags": []
   },
   "source": [
    "For each month, order the merchants by increasing order of their total profit <br>\n",
    "(merchant with lowest total profit for that month at the top)"
   ]
  },
  {
   "cell_type": "code",
   "execution_count": 14,
   "metadata": {
    "tags": []
   },
   "outputs": [
    {
     "data": {
      "text/html": [
       "<div>\n",
       "<style scoped>\n",
       "    .dataframe tbody tr th:only-of-type {\n",
       "        vertical-align: middle;\n",
       "    }\n",
       "\n",
       "    .dataframe tbody tr th {\n",
       "        vertical-align: top;\n",
       "    }\n",
       "\n",
       "    .dataframe thead th {\n",
       "        text-align: right;\n",
       "    }\n",
       "</style>\n",
       "<table border=\"1\" class=\"dataframe\">\n",
       "  <thead>\n",
       "    <tr style=\"text-align: right;\">\n",
       "      <th></th>\n",
       "      <th>month</th>\n",
       "      <th>merchant_abn</th>\n",
       "      <th>total_profit</th>\n",
       "    </tr>\n",
       "  </thead>\n",
       "  <tbody>\n",
       "    <tr>\n",
       "      <th>0</th>\n",
       "      <td>1</td>\n",
       "      <td>16156289887</td>\n",
       "      <td>169.090896</td>\n",
       "    </tr>\n",
       "    <tr>\n",
       "      <th>1</th>\n",
       "      <td>1</td>\n",
       "      <td>86791380020</td>\n",
       "      <td>177.765852</td>\n",
       "    </tr>\n",
       "    <tr>\n",
       "      <th>2</th>\n",
       "      <td>1</td>\n",
       "      <td>33068332703</td>\n",
       "      <td>179.699605</td>\n",
       "    </tr>\n",
       "    <tr>\n",
       "      <th>3</th>\n",
       "      <td>1</td>\n",
       "      <td>10441711491</td>\n",
       "      <td>179.786133</td>\n",
       "    </tr>\n",
       "    <tr>\n",
       "      <th>4</th>\n",
       "      <td>1</td>\n",
       "      <td>21350600012</td>\n",
       "      <td>179.972700</td>\n",
       "    </tr>\n",
       "    <tr>\n",
       "      <th>...</th>\n",
       "      <td>...</td>\n",
       "      <td>...</td>\n",
       "      <td>...</td>\n",
       "    </tr>\n",
       "    <tr>\n",
       "      <th>48211</th>\n",
       "      <td>12</td>\n",
       "      <td>96680767841</td>\n",
       "      <td>25475.481580</td>\n",
       "    </tr>\n",
       "    <tr>\n",
       "      <th>48212</th>\n",
       "      <td>12</td>\n",
       "      <td>45629217853</td>\n",
       "      <td>25860.368887</td>\n",
       "    </tr>\n",
       "    <tr>\n",
       "      <th>48213</th>\n",
       "      <td>12</td>\n",
       "      <td>86578477987</td>\n",
       "      <td>27096.311961</td>\n",
       "    </tr>\n",
       "    <tr>\n",
       "      <th>48214</th>\n",
       "      <td>12</td>\n",
       "      <td>48534649627</td>\n",
       "      <td>27268.520005</td>\n",
       "    </tr>\n",
       "    <tr>\n",
       "      <th>48215</th>\n",
       "      <td>12</td>\n",
       "      <td>32361057556</td>\n",
       "      <td>27525.650157</td>\n",
       "    </tr>\n",
       "  </tbody>\n",
       "</table>\n",
       "<p>48216 rows × 3 columns</p>\n",
       "</div>"
      ],
      "text/plain": [
       "       month  merchant_abn  total_profit\n",
       "0          1   16156289887    169.090896\n",
       "1          1   86791380020    177.765852\n",
       "2          1   33068332703    179.699605\n",
       "3          1   10441711491    179.786133\n",
       "4          1   21350600012    179.972700\n",
       "...      ...           ...           ...\n",
       "48211     12   96680767841  25475.481580\n",
       "48212     12   45629217853  25860.368887\n",
       "48213     12   86578477987  27096.311961\n",
       "48214     12   48534649627  27268.520005\n",
       "48215     12   32361057556  27525.650157\n",
       "\n",
       "[48216 rows x 3 columns]"
      ]
     },
     "execution_count": 14,
     "metadata": {},
     "output_type": "execute_result"
    }
   ],
   "source": [
    "ordered_fp_pd = future_profit_sdf \\\n",
    "    .orderBy(asc(\"month\"), asc(\"total_profit\")) \\\n",
    "    .drop(\"year\") \\\n",
    "    .toPandas()\n",
    "\n",
    "ordered_fp_pd"
   ]
  },
  {
   "cell_type": "code",
   "execution_count": 15,
   "metadata": {
    "tags": []
   },
   "outputs": [],
   "source": [
    "for i in range(1, MONTHS+1):\n",
    "    new_points = []\n",
    "    \n",
    "    month_data = ordered_fp_pd.groupby(\"month\").get_group(i)\n",
    "    month_data = pd.DataFrame(month_data.reset_index().drop(columns=\"index\"))\n",
    "    \n",
    "    for abn in merch_abns:\n",
    "        try:\n",
    "            # the larger the index, the more profit the merchant will have (ordered data)\n",
    "            # thus more points awarded\n",
    "            points = np.round(WEIGHT_PROFIT*list(month_data.index[month_data[\"merchant_abn\"] == abn])[0], 3)\n",
    "        except IndexError:\n",
    "            # have no data for the current abn\n",
    "            points = 0\n",
    "\n",
    "        new_points.append(points)\n",
    "\n",
    "    merchants_pd[\"points\"] = merchants_pd[\"points\"] + new_points"
   ]
  },
  {
   "cell_type": "code",
   "execution_count": 16,
   "metadata": {
    "tags": []
   },
   "outputs": [
    {
     "data": {
      "text/html": [
       "<div>\n",
       "<style scoped>\n",
       "    .dataframe tbody tr th:only-of-type {\n",
       "        vertical-align: middle;\n",
       "    }\n",
       "\n",
       "    .dataframe tbody tr th {\n",
       "        vertical-align: top;\n",
       "    }\n",
       "\n",
       "    .dataframe thead th {\n",
       "        text-align: right;\n",
       "    }\n",
       "</style>\n",
       "<table border=\"1\" class=\"dataframe\">\n",
       "  <thead>\n",
       "    <tr style=\"text-align: right;\">\n",
       "      <th></th>\n",
       "      <th>merchant_abn</th>\n",
       "      <th>points</th>\n",
       "    </tr>\n",
       "  </thead>\n",
       "  <tbody>\n",
       "    <tr>\n",
       "      <th>0</th>\n",
       "      <td>73256306726</td>\n",
       "      <td>28821.88</td>\n",
       "    </tr>\n",
       "    <tr>\n",
       "      <th>1</th>\n",
       "      <td>48214071373</td>\n",
       "      <td>17701.87</td>\n",
       "    </tr>\n",
       "    <tr>\n",
       "      <th>2</th>\n",
       "      <td>38700038932</td>\n",
       "      <td>30151.45</td>\n",
       "    </tr>\n",
       "    <tr>\n",
       "      <th>3</th>\n",
       "      <td>73841664453</td>\n",
       "      <td>18054.31</td>\n",
       "    </tr>\n",
       "    <tr>\n",
       "      <th>4</th>\n",
       "      <td>83412691377</td>\n",
       "      <td>26337.31</td>\n",
       "    </tr>\n",
       "    <tr>\n",
       "      <th>...</th>\n",
       "      <td>...</td>\n",
       "      <td>...</td>\n",
       "    </tr>\n",
       "    <tr>\n",
       "      <th>4013</th>\n",
       "      <td>87788702467</td>\n",
       "      <td>7713.43</td>\n",
       "    </tr>\n",
       "    <tr>\n",
       "      <th>4014</th>\n",
       "      <td>81906511933</td>\n",
       "      <td>9869.65</td>\n",
       "    </tr>\n",
       "    <tr>\n",
       "      <th>4015</th>\n",
       "      <td>66499078575</td>\n",
       "      <td>5625.19</td>\n",
       "    </tr>\n",
       "    <tr>\n",
       "      <th>4016</th>\n",
       "      <td>26465868807</td>\n",
       "      <td>8099.86</td>\n",
       "    </tr>\n",
       "    <tr>\n",
       "      <th>4017</th>\n",
       "      <td>11411018019</td>\n",
       "      <td>604.57</td>\n",
       "    </tr>\n",
       "  </tbody>\n",
       "</table>\n",
       "<p>4018 rows × 2 columns</p>\n",
       "</div>"
      ],
      "text/plain": [
       "      merchant_abn    points\n",
       "0      73256306726  28821.88\n",
       "1      48214071373  17701.87\n",
       "2      38700038932  30151.45\n",
       "3      73841664453  18054.31\n",
       "4      83412691377  26337.31\n",
       "...            ...       ...\n",
       "4013   87788702467   7713.43\n",
       "4014   81906511933   9869.65\n",
       "4015   66499078575   5625.19\n",
       "4016   26465868807   8099.86\n",
       "4017   11411018019    604.57\n",
       "\n",
       "[4018 rows x 2 columns]"
      ]
     },
     "execution_count": 16,
     "metadata": {},
     "output_type": "execute_result"
    }
   ],
   "source": [
    "merchants_pd"
   ]
  },
  {
   "cell_type": "markdown",
   "metadata": {},
   "source": [
    "***"
   ]
  },
  {
   "cell_type": "markdown",
   "metadata": {
    "tags": []
   },
   "source": [
    "Get the merchant with the highest number of middle customers for each month (`fmc_agg2`):"
   ]
  },
  {
   "cell_type": "code",
   "execution_count": 18,
   "metadata": {
    "tags": []
   },
   "outputs": [
    {
     "data": {
      "text/html": [
       "<table border='1'>\n",
       "<tr><th>year</th><th>month</th><th>merchant_abn</th><th>total_middle_customers</th></tr>\n",
       "<tr><td>2023</td><td>1</td><td>24852446429</td><td>2796.8587999146635</td></tr>\n",
       "<tr><td>2023</td><td>2</td><td>24852446429</td><td>2794.892202393302</td></tr>\n",
       "<tr><td>2023</td><td>3</td><td>24852446429</td><td>2781.9611881292603</td></tr>\n",
       "<tr><td>2023</td><td>4</td><td>24852446429</td><td>2781.828716128044</td></tr>\n",
       "<tr><td>2023</td><td>5</td><td>24852446429</td><td>2775.997045578518</td></tr>\n",
       "<tr><td>2023</td><td>6</td><td>24852446429</td><td>2776.425821608259</td></tr>\n",
       "<tr><td>2023</td><td>7</td><td>24852446429</td><td>2773.9088483222054</td></tr>\n",
       "<tr><td>2023</td><td>8</td><td>24852446429</td><td>2774.4608952929357</td></tr>\n",
       "<tr><td>2023</td><td>9</td><td>24852446429</td><td>2773.4974495653432</td></tr>\n",
       "<tr><td>2023</td><td>10</td><td>24852446429</td><td>2774.0415413334777</td></tr>\n",
       "<tr><td>2023</td><td>11</td><td>24852446429</td><td>2773.8089899215465</td></tr>\n",
       "<tr><td>2023</td><td>12</td><td>24852446429</td><td>2774.318325086396</td></tr>\n",
       "</table>\n"
      ],
      "text/plain": [
       "+----+-----+------------+----------------------+\n",
       "|year|month|merchant_abn|total_middle_customers|\n",
       "+----+-----+------------+----------------------+\n",
       "|2023|    1| 24852446429|    2796.8587999146635|\n",
       "|2023|    2| 24852446429|     2794.892202393302|\n",
       "|2023|    3| 24852446429|    2781.9611881292603|\n",
       "|2023|    4| 24852446429|     2781.828716128044|\n",
       "|2023|    5| 24852446429|     2775.997045578518|\n",
       "|2023|    6| 24852446429|     2776.425821608259|\n",
       "|2023|    7| 24852446429|    2773.9088483222054|\n",
       "|2023|    8| 24852446429|    2774.4608952929357|\n",
       "|2023|    9| 24852446429|    2773.4974495653432|\n",
       "|2023|   10| 24852446429|    2774.0415413334777|\n",
       "|2023|   11| 24852446429|    2773.8089899215465|\n",
       "|2023|   12| 24852446429|     2774.318325086396|\n",
       "+----+-----+------------+----------------------+"
      ]
     },
     "execution_count": 18,
     "metadata": {},
     "output_type": "execute_result"
    }
   ],
   "source": [
    "w = Window.partitionBy('month')\n",
    "\n",
    "fmc_agg2 = future_mcustomers_sdf \\\n",
    "    .withColumn('maxMC', F.max('total_middle_customers').over(w)) \\\n",
    "    .where(F.col('total_middle_customers') == F.col('maxMC')) \\\n",
    "    .drop('maxMC')\n",
    "\n",
    "fmc_agg2"
   ]
  },
  {
   "cell_type": "markdown",
   "metadata": {
    "tags": []
   },
   "source": [
    "For each month, order the merchants by increasing order of their total profit <br>\n",
    "(merchant with lowest total profit for that month at the top)"
   ]
  },
  {
   "cell_type": "code",
   "execution_count": 19,
   "metadata": {
    "tags": []
   },
   "outputs": [
    {
     "data": {
      "text/html": [
       "<div>\n",
       "<style scoped>\n",
       "    .dataframe tbody tr th:only-of-type {\n",
       "        vertical-align: middle;\n",
       "    }\n",
       "\n",
       "    .dataframe tbody tr th {\n",
       "        vertical-align: top;\n",
       "    }\n",
       "\n",
       "    .dataframe thead th {\n",
       "        text-align: right;\n",
       "    }\n",
       "</style>\n",
       "<table border=\"1\" class=\"dataframe\">\n",
       "  <thead>\n",
       "    <tr style=\"text-align: right;\">\n",
       "      <th></th>\n",
       "      <th>month</th>\n",
       "      <th>merchant_abn</th>\n",
       "      <th>total_middle_customers</th>\n",
       "    </tr>\n",
       "  </thead>\n",
       "  <tbody>\n",
       "    <tr>\n",
       "      <th>0</th>\n",
       "      <td>1</td>\n",
       "      <td>28836033916</td>\n",
       "      <td>4.850240</td>\n",
       "    </tr>\n",
       "    <tr>\n",
       "      <th>1</th>\n",
       "      <td>1</td>\n",
       "      <td>14626521979</td>\n",
       "      <td>4.850240</td>\n",
       "    </tr>\n",
       "    <tr>\n",
       "      <th>2</th>\n",
       "      <td>1</td>\n",
       "      <td>37706925794</td>\n",
       "      <td>4.850240</td>\n",
       "    </tr>\n",
       "    <tr>\n",
       "      <th>3</th>\n",
       "      <td>1</td>\n",
       "      <td>95594775419</td>\n",
       "      <td>4.850240</td>\n",
       "    </tr>\n",
       "    <tr>\n",
       "      <th>4</th>\n",
       "      <td>1</td>\n",
       "      <td>37670671283</td>\n",
       "      <td>4.850240</td>\n",
       "    </tr>\n",
       "    <tr>\n",
       "      <th>...</th>\n",
       "      <td>...</td>\n",
       "      <td>...</td>\n",
       "      <td>...</td>\n",
       "    </tr>\n",
       "    <tr>\n",
       "      <th>48211</th>\n",
       "      <td>12</td>\n",
       "      <td>46804135891</td>\n",
       "      <td>2379.631110</td>\n",
       "    </tr>\n",
       "    <tr>\n",
       "      <th>48212</th>\n",
       "      <td>12</td>\n",
       "      <td>49891706470</td>\n",
       "      <td>2465.908543</td>\n",
       "    </tr>\n",
       "    <tr>\n",
       "      <th>48213</th>\n",
       "      <td>12</td>\n",
       "      <td>64203420245</td>\n",
       "      <td>2576.013135</td>\n",
       "    </tr>\n",
       "    <tr>\n",
       "      <th>48214</th>\n",
       "      <td>12</td>\n",
       "      <td>86578477987</td>\n",
       "      <td>2670.840636</td>\n",
       "    </tr>\n",
       "    <tr>\n",
       "      <th>48215</th>\n",
       "      <td>12</td>\n",
       "      <td>24852446429</td>\n",
       "      <td>2774.318325</td>\n",
       "    </tr>\n",
       "  </tbody>\n",
       "</table>\n",
       "<p>48216 rows × 3 columns</p>\n",
       "</div>"
      ],
      "text/plain": [
       "       month  merchant_abn  total_middle_customers\n",
       "0          1   28836033916                4.850240\n",
       "1          1   14626521979                4.850240\n",
       "2          1   37706925794                4.850240\n",
       "3          1   95594775419                4.850240\n",
       "4          1   37670671283                4.850240\n",
       "...      ...           ...                     ...\n",
       "48211     12   46804135891             2379.631110\n",
       "48212     12   49891706470             2465.908543\n",
       "48213     12   64203420245             2576.013135\n",
       "48214     12   86578477987             2670.840636\n",
       "48215     12   24852446429             2774.318325\n",
       "\n",
       "[48216 rows x 3 columns]"
      ]
     },
     "execution_count": 19,
     "metadata": {},
     "output_type": "execute_result"
    }
   ],
   "source": [
    "ordered_fmc_pd = future_mcustomers_sdf \\\n",
    "    .orderBy(asc(\"month\"), asc(\"total_middle_customers\")) \\\n",
    "    .drop(\"year\") \\\n",
    "    .toPandas()\n",
    "\n",
    "ordered_fmc_pd"
   ]
  },
  {
   "cell_type": "code",
   "execution_count": 20,
   "metadata": {
    "tags": []
   },
   "outputs": [],
   "source": [
    "for i in range(1, MONTHS+1):\n",
    "    new_points = []\n",
    "    \n",
    "    month_data = ordered_fmc_pd.groupby(\"month\").get_group(i)\n",
    "    month_data = pd.DataFrame(month_data.reset_index().drop(columns=\"index\"))\n",
    "    \n",
    "    for abn in merch_abns:\n",
    "        try:\n",
    "            # the larger the index, the more profit the merchant will have (ordered data)\n",
    "            # thus more points awarded\n",
    "            points = np.round(WEIGHT_PROFIT*list(month_data.index[month_data[\"merchant_abn\"] == abn])[0], 3)\n",
    "        except IndexError:\n",
    "            # have no data for the current abn\n",
    "            points = 0\n",
    "\n",
    "        new_points.append(points)\n",
    "\n",
    "    merchants_pd[\"points\"] = merchants_pd[\"points\"] + new_points"
   ]
  },
  {
   "cell_type": "code",
   "execution_count": 21,
   "metadata": {
    "tags": []
   },
   "outputs": [
    {
     "data": {
      "text/html": [
       "<div>\n",
       "<style scoped>\n",
       "    .dataframe tbody tr th:only-of-type {\n",
       "        vertical-align: middle;\n",
       "    }\n",
       "\n",
       "    .dataframe tbody tr th {\n",
       "        vertical-align: top;\n",
       "    }\n",
       "\n",
       "    .dataframe thead th {\n",
       "        text-align: right;\n",
       "    }\n",
       "</style>\n",
       "<table border=\"1\" class=\"dataframe\">\n",
       "  <thead>\n",
       "    <tr style=\"text-align: right;\">\n",
       "      <th></th>\n",
       "      <th>merchant_abn</th>\n",
       "      <th>points</th>\n",
       "    </tr>\n",
       "  </thead>\n",
       "  <tbody>\n",
       "    <tr>\n",
       "      <th>0</th>\n",
       "      <td>73256306726</td>\n",
       "      <td>42630.40</td>\n",
       "    </tr>\n",
       "    <tr>\n",
       "      <th>1</th>\n",
       "      <td>48214071373</td>\n",
       "      <td>26151.52</td>\n",
       "    </tr>\n",
       "    <tr>\n",
       "      <th>2</th>\n",
       "      <td>38700038932</td>\n",
       "      <td>44411.41</td>\n",
       "    </tr>\n",
       "    <tr>\n",
       "      <th>3</th>\n",
       "      <td>73841664453</td>\n",
       "      <td>28182.01</td>\n",
       "    </tr>\n",
       "    <tr>\n",
       "      <th>4</th>\n",
       "      <td>83412691377</td>\n",
       "      <td>41500.81</td>\n",
       "    </tr>\n",
       "    <tr>\n",
       "      <th>...</th>\n",
       "      <td>...</td>\n",
       "      <td>...</td>\n",
       "    </tr>\n",
       "    <tr>\n",
       "      <th>4013</th>\n",
       "      <td>87788702467</td>\n",
       "      <td>12622.51</td>\n",
       "    </tr>\n",
       "    <tr>\n",
       "      <th>4014</th>\n",
       "      <td>81906511933</td>\n",
       "      <td>13085.83</td>\n",
       "    </tr>\n",
       "    <tr>\n",
       "      <th>4015</th>\n",
       "      <td>66499078575</td>\n",
       "      <td>8791.21</td>\n",
       "    </tr>\n",
       "    <tr>\n",
       "      <th>4016</th>\n",
       "      <td>26465868807</td>\n",
       "      <td>10997.59</td>\n",
       "    </tr>\n",
       "    <tr>\n",
       "      <th>4017</th>\n",
       "      <td>11411018019</td>\n",
       "      <td>2039.41</td>\n",
       "    </tr>\n",
       "  </tbody>\n",
       "</table>\n",
       "<p>4018 rows × 2 columns</p>\n",
       "</div>"
      ],
      "text/plain": [
       "      merchant_abn    points\n",
       "0      73256306726  42630.40\n",
       "1      48214071373  26151.52\n",
       "2      38700038932  44411.41\n",
       "3      73841664453  28182.01\n",
       "4      83412691377  41500.81\n",
       "...            ...       ...\n",
       "4013   87788702467  12622.51\n",
       "4014   81906511933  13085.83\n",
       "4015   66499078575   8791.21\n",
       "4016   26465868807  10997.59\n",
       "4017   11411018019   2039.41\n",
       "\n",
       "[4018 rows x 2 columns]"
      ]
     },
     "execution_count": 21,
     "metadata": {},
     "output_type": "execute_result"
    }
   ],
   "source": [
    "merchants_pd"
   ]
  },
  {
   "cell_type": "markdown",
   "metadata": {},
   "source": [
    "***"
   ]
  },
  {
   "cell_type": "markdown",
   "metadata": {},
   "source": [
    "Get the top merchants"
   ]
  },
  {
   "cell_type": "code",
   "execution_count": 22,
   "metadata": {},
   "outputs": [
    {
     "name": "stderr",
     "output_type": "stream",
     "text": [
      "                                                                                \r"
     ]
    },
    {
     "data": {
      "text/html": [
       "<table border='1'>\n",
       "<tr><th>merchant_abn</th><th>points</th></tr>\n",
       "<tr><td>86578477987</td><td>47707.119999999995</td></tr>\n",
       "<tr><td>45629217853</td><td>47671.479999999974</td></tr>\n",
       "<tr><td>89726005175</td><td>47640.45999999997</td></tr>\n",
       "<tr><td>49891706470</td><td>47620.00000000001</td></tr>\n",
       "<tr><td>21439773999</td><td>47616.04000000002</td></tr>\n",
       "<tr><td>64403598239</td><td>47603.83000000002</td></tr>\n",
       "<tr><td>32361057556</td><td>47588.32000000001</td></tr>\n",
       "<tr><td>43186523025</td><td>47579.74000000001</td></tr>\n",
       "<tr><td>94493496784</td><td>47564.560000000056</td></tr>\n",
       "<tr><td>72472909171</td><td>47558.95</td></tr>\n",
       "<tr><td>79417999332</td><td>47545.089999999975</td></tr>\n",
       "<tr><td>48534649627</td><td>47536.83999999995</td></tr>\n",
       "<tr><td>24852446429</td><td>47496.91</td></tr>\n",
       "<tr><td>60956456424</td><td>47482.39000000002</td></tr>\n",
       "<tr><td>63290521567</td><td>47453.35</td></tr>\n",
       "<tr><td>49322182190</td><td>47443.779999999984</td></tr>\n",
       "<tr><td>64203420245</td><td>47427.60999999996</td></tr>\n",
       "<tr><td>98973094975</td><td>47421.99999999996</td></tr>\n",
       "<tr><td>49505931725</td><td>47413.420000000006</td></tr>\n",
       "<tr><td>46804135891</td><td>47388.67000000001</td></tr>\n",
       "</table>\n",
       "only showing top 20 rows\n"
      ],
      "text/plain": [
       "+------------+------------------+\n",
       "|merchant_abn|            points|\n",
       "+------------+------------------+\n",
       "| 86578477987|47707.119999999995|\n",
       "| 45629217853|47671.479999999974|\n",
       "| 89726005175| 47640.45999999997|\n",
       "| 49891706470| 47620.00000000001|\n",
       "| 21439773999| 47616.04000000002|\n",
       "| 64403598239| 47603.83000000002|\n",
       "| 32361057556| 47588.32000000001|\n",
       "| 43186523025| 47579.74000000001|\n",
       "| 94493496784|47564.560000000056|\n",
       "| 72472909171|          47558.95|\n",
       "| 79417999332|47545.089999999975|\n",
       "| 48534649627| 47536.83999999995|\n",
       "| 24852446429|          47496.91|\n",
       "| 60956456424| 47482.39000000002|\n",
       "| 63290521567|          47453.35|\n",
       "| 49322182190|47443.779999999984|\n",
       "| 64203420245| 47427.60999999996|\n",
       "| 98973094975| 47421.99999999996|\n",
       "| 49505931725|47413.420000000006|\n",
       "| 46804135891| 47388.67000000001|\n",
       "+------------+------------------+\n",
       "only showing top 20 rows"
      ]
     },
     "execution_count": 22,
     "metadata": {},
     "output_type": "execute_result"
    }
   ],
   "source": [
    "rankings = spark.createDataFrame(merchants_pd).sort(desc(\"points\"))\n",
    "rankings"
   ]
  },
  {
   "cell_type": "markdown",
   "metadata": {},
   "source": [
    "## Segmentation"
   ]
  }
 ],
 "metadata": {
  "kernelspec": {
   "display_name": "Python 3 (ipykernel)",
   "language": "python",
   "name": "python3"
  },
  "language_info": {
   "codemirror_mode": {
    "name": "ipython",
    "version": 3
   },
   "file_extension": ".py",
   "mimetype": "text/x-python",
   "name": "python",
   "nbconvert_exporter": "python",
   "pygments_lexer": "ipython3",
   "version": "3.8.10"
  },
  "vscode": {
   "interpreter": {
    "hash": "916dbcbb3f70747c44a77c7bcd40155683ae19c65e1c03b4aa3499c5328201f1"
   }
  }
 },
 "nbformat": 4,
 "nbformat_minor": 4
}
