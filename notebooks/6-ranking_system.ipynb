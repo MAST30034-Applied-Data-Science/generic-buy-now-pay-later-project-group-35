{
 "cells": [
  {
   "cell_type": "code",
   "execution_count": 47,
   "metadata": {},
   "outputs": [],
   "source": [
    "from pyspark.sql import SparkSession\n",
    "from pyspark.sql.functions import * \n",
    "import matplotlib.pyplot as plt\n",
    "import pandas as pd\n",
    "import numpy as np\n",
    "from urllib.request import urlretrieve\n",
    "from owslib.wfs import WebFeatureService\n",
    "from dotenv import load_dotenv\n",
    "from pyspark.sql import functions as F\n",
    "from pyspark.sql import Window\n",
    "from pyspark.sql.functions import lit\n",
    "\n",
    "# Create a spark session\n",
    "spark = (\n",
    "    SparkSession.builder.appName(\"analysis\")\n",
    "    .config(\"spark.sql.repl.eagerEval.enabled\", True) \n",
    "    .config(\"spark.sql.parquet.cacheMetadata\", \"true\")\n",
    "    .config(\"spark.sql.session.timeZone\", \"Etc/UTC\")\n",
    "    .config(\"spark.driver.memory\", \"2g\")\n",
    "    .config(\"spark.executor.memory\", \"6g\")\n",
    "    .getOrCreate()\n",
    ")"
   ]
  },
  {
   "cell_type": "code",
   "execution_count": 6,
   "metadata": {},
   "outputs": [
    {
     "name": "stderr",
     "output_type": "stream",
     "text": [
      "                                                                                \r"
     ]
    },
    {
     "data": {
      "text/html": [
       "<table border='1'>\n",
       "<tr><th>order_datetime</th><th>merchant_abn</th><th>user_id</th><th>postcode</th><th>consumer_id</th><th>dollar_value</th><th>order_id</th><th>state</th><th>gender</th><th>company_name</th><th>tags</th><th>take_rate</th><th>revenue_band</th><th>total_pop</th><th>under10_pop</th><th>adolsc_pop</th><th>yng_adult_pop</th><th>mid_age_pop</th><th>old_pop</th><th>num_earners</th><th>median_age</th><th>median_income</th><th>mean_income</th><th>consumer_fraud_%</th><th>merchant_fraud_%</th></tr>\n",
       "<tr><td>2022-07-13</td><td>49891706470</td><td>22131</td><td>6731</td><td>58911</td><td>25.782245737474312</td><td>90498b80-984f-43c...</td><td>WA</td><td>Male</td><td>Non Vestibulum In...</td><td>tent and awning s...</td><td> 5.80</td><td> a</td><td>8374</td><td>1373</td><td>1185</td><td>2200</td><td>2600</td><td>1016</td><td>2907</td><td>39</td><td>48034</td><td>56306</td><td>0.1</td><td>0.1</td></tr>\n",
       "<tr><td>2021-08-19</td><td>96680767841</td><td>22131</td><td>6731</td><td>58911</td><td>415.9547984625</td><td>829843bc-c571-493...</td><td>WA</td><td>Male</td><td>Ornare Limited</td><td>motor vehicle sup...</td><td> 5.91</td><td> a</td><td>8374</td><td>1373</td><td>1185</td><td>2200</td><td>2600</td><td>1016</td><td>2907</td><td>39</td><td>48034</td><td>56306</td><td>0.1</td><td>0.1</td></tr>\n",
       "<tr><td>2022-07-13</td><td>43186523025</td><td>22131</td><td>6731</td><td>58911</td><td>33.082322196774484</td><td>c12d2520-12c8-40f...</td><td>WA</td><td>Male</td><td>Lorem Ipsum Sodal...</td><td>florists supplies...</td><td> 4.47</td><td> b</td><td>8374</td><td>1373</td><td>1185</td><td>2200</td><td>2600</td><td>1016</td><td>2907</td><td>39</td><td>48034</td><td>56306</td><td>0.1</td><td>0.1</td></tr>\n",
       "<tr><td>2021-08-19</td><td>66370248931</td><td>22131</td><td>6731</td><td>58911</td><td>82.54046571771035</td><td>cc8ac5c5-0dfc-4e1...</td><td>WA</td><td>Male</td><td>Morbi Non PC</td><td>cable, satellite,...</td><td> 3.15</td><td> b</td><td>8374</td><td>1373</td><td>1185</td><td>2200</td><td>2600</td><td>1016</td><td>2907</td><td>39</td><td>48034</td><td>56306</td><td>0.1</td><td>0.1</td></tr>\n",
       "<tr><td>2022-05-06</td><td>89726005175</td><td>22131</td><td>6731</td><td>58911</td><td>58.46693553052902</td><td>b1f179f8-2c15-4f5...</td><td>WA</td><td>Male</td><td>Est Nunc Consulting</td><td>tent and awning s...</td><td> 6.01</td><td> a</td><td>8374</td><td>1373</td><td>1185</td><td>2200</td><td>2600</td><td>1016</td><td>2907</td><td>39</td><td>48034</td><td>56306</td><td>0.1</td><td>0.1</td></tr>\n",
       "</table>\n"
      ],
      "text/plain": [
       "+--------------+------------+-------+--------+-----------+------------------+--------------------+-----+------+--------------------+--------------------+---------+------------+---------+-----------+----------+-------------+-----------+-------+-----------+----------+-------------+-----------+----------------+----------------+\n",
       "|order_datetime|merchant_abn|user_id|postcode|consumer_id|      dollar_value|            order_id|state|gender|        company_name|                tags|take_rate|revenue_band|total_pop|under10_pop|adolsc_pop|yng_adult_pop|mid_age_pop|old_pop|num_earners|median_age|median_income|mean_income|consumer_fraud_%|merchant_fraud_%|\n",
       "+--------------+------------+-------+--------+-----------+------------------+--------------------+-----+------+--------------------+--------------------+---------+------------+---------+-----------+----------+-------------+-----------+-------+-----------+----------+-------------+-----------+----------------+----------------+\n",
       "|    2022-07-13| 49891706470|  22131|    6731|      58911|25.782245737474312|90498b80-984f-43c...|   WA|  Male|Non Vestibulum In...|tent and awning s...|     5.80|           a|     8374|       1373|      1185|         2200|       2600|   1016|       2907|        39|        48034|      56306|             0.1|             0.1|\n",
       "|    2021-08-19| 96680767841|  22131|    6731|      58911|    415.9547984625|829843bc-c571-493...|   WA|  Male|      Ornare Limited|motor vehicle sup...|     5.91|           a|     8374|       1373|      1185|         2200|       2600|   1016|       2907|        39|        48034|      56306|             0.1|             0.1|\n",
       "|    2022-07-13| 43186523025|  22131|    6731|      58911|33.082322196774484|c12d2520-12c8-40f...|   WA|  Male|Lorem Ipsum Sodal...|florists supplies...|     4.47|           b|     8374|       1373|      1185|         2200|       2600|   1016|       2907|        39|        48034|      56306|             0.1|             0.1|\n",
       "|    2021-08-19| 66370248931|  22131|    6731|      58911| 82.54046571771035|cc8ac5c5-0dfc-4e1...|   WA|  Male|        Morbi Non PC|cable, satellite,...|     3.15|           b|     8374|       1373|      1185|         2200|       2600|   1016|       2907|        39|        48034|      56306|             0.1|             0.1|\n",
       "|    2022-05-06| 89726005175|  22131|    6731|      58911| 58.46693553052902|b1f179f8-2c15-4f5...|   WA|  Male| Est Nunc Consulting|tent and awning s...|     6.01|           a|     8374|       1373|      1185|         2200|       2600|   1016|       2907|        39|        48034|      56306|             0.1|             0.1|\n",
       "+--------------+------------+-------+--------+-----------+------------------+--------------------+-----+------+--------------------+--------------------+---------+------------+---------+-----------+----------+-------------+-----------+-------+-----------+----------+-------------+-----------+----------------+----------------+"
      ]
     },
     "execution_count": 6,
     "metadata": {},
     "output_type": "execute_result"
    }
   ],
   "source": [
    "sdf = spark.read.parquet(\"../data/curated/finaldf.parquet/\")\n",
    "sdf.limit(5)"
   ]
  },
  {
   "cell_type": "markdown",
   "metadata": {},
   "source": [
    "## Initial Ranking System"
   ]
  },
  {
   "cell_type": "markdown",
   "metadata": {},
   "source": [
    "Ranking System currently only using the following features:\n",
    "- future predictions for transactions per merchant per day\n",
    "- future predictions for profit per merchant per day"
   ]
  },
  {
   "cell_type": "code",
   "execution_count": 3,
   "metadata": {},
   "outputs": [
    {
     "name": "stderr",
     "output_type": "stream",
     "text": [
      "                                                                                \r"
     ]
    },
    {
     "data": {
      "text/html": [
       "<table border='1'>\n",
       "<tr><th>year</th><th>month</th><th>day</th><th>merchant_abn</th><th>prediction</th></tr>\n",
       "<tr><td>2025</td><td>1</td><td>29</td><td>20734004951</td><td>1.8555858310626703</td></tr>\n",
       "<tr><td>2025</td><td>4</td><td>17</td><td>20734004951</td><td>1.8555858310626703</td></tr>\n",
       "<tr><td>2025</td><td>4</td><td>24</td><td>20734004951</td><td>1.8555858310626703</td></tr>\n",
       "<tr><td>2025</td><td>4</td><td>4</td><td>20734004951</td><td>1.8555858310626703</td></tr>\n",
       "<tr><td>2025</td><td>7</td><td>5</td><td>20734004951</td><td>2.090909090909091</td></tr>\n",
       "</table>\n"
      ],
      "text/plain": [
       "+----+-----+---+------------+------------------+\n",
       "|year|month|day|merchant_abn|        prediction|\n",
       "+----+-----+---+------------+------------------+\n",
       "|2025|    1| 29| 20734004951|1.8555858310626703|\n",
       "|2025|    4| 17| 20734004951|1.8555858310626703|\n",
       "|2025|    4| 24| 20734004951|1.8555858310626703|\n",
       "|2025|    4|  4| 20734004951|1.8555858310626703|\n",
       "|2025|    7|  5| 20734004951| 2.090909090909091|\n",
       "+----+-----+---+------------+------------------+"
      ]
     },
     "execution_count": 3,
     "metadata": {},
     "output_type": "execute_result"
    }
   ],
   "source": [
    "future_trans_sdf = spark.read.parquet(\"../data/curated/futuretrans.parquet/\")\n",
    "future_trans_sdf.limit(5)"
   ]
  },
  {
   "cell_type": "code",
   "execution_count": 5,
   "metadata": {},
   "outputs": [
    {
     "data": {
      "text/html": [
       "<table border='1'>\n",
       "<tr><th>year</th><th>month</th><th>day</th><th>merchant_abn</th><th>prediction</th></tr>\n",
       "<tr><td>2025</td><td>2</td><td>23</td><td>86578477987</td><td>53.06774628167469</td></tr>\n",
       "<tr><td>2025</td><td>1</td><td>10</td><td>86578477987</td><td>53.06774628167469</td></tr>\n",
       "<tr><td>2025</td><td>8</td><td>9</td><td>86578477987</td><td>526.6029702970297</td></tr>\n",
       "<tr><td>2025</td><td>7</td><td>3</td><td>86578477987</td><td>526.6029702970297</td></tr>\n",
       "<tr><td>2025</td><td>10</td><td>7</td><td>86578477987</td><td>526.6029702970297</td></tr>\n",
       "</table>\n"
      ],
      "text/plain": [
       "+----+-----+---+------------+-----------------+\n",
       "|year|month|day|merchant_abn|       prediction|\n",
       "+----+-----+---+------------+-----------------+\n",
       "|2025|    2| 23| 86578477987|53.06774628167469|\n",
       "|2025|    1| 10| 86578477987|53.06774628167469|\n",
       "|2025|    8|  9| 86578477987|526.6029702970297|\n",
       "|2025|    7|  3| 86578477987|526.6029702970297|\n",
       "|2025|   10|  7| 86578477987|526.6029702970297|\n",
       "+----+-----+---+------------+-----------------+"
      ]
     },
     "execution_count": 5,
     "metadata": {},
     "output_type": "execute_result"
    }
   ],
   "source": [
    "future_profit_sdf = spark.read.parquet(\"../data/curated/futureprofit.parquet/\")\n",
    "future_profit_sdf.limit(5)"
   ]
  },
  {
   "cell_type": "code",
   "execution_count": 128,
   "metadata": {},
   "outputs": [
    {
     "data": {
      "text/html": [
       "<div>\n",
       "<style scoped>\n",
       "    .dataframe tbody tr th:only-of-type {\n",
       "        vertical-align: middle;\n",
       "    }\n",
       "\n",
       "    .dataframe tbody tr th {\n",
       "        vertical-align: top;\n",
       "    }\n",
       "\n",
       "    .dataframe thead th {\n",
       "        text-align: right;\n",
       "    }\n",
       "</style>\n",
       "<table border=\"1\" class=\"dataframe\">\n",
       "  <thead>\n",
       "    <tr style=\"text-align: right;\">\n",
       "      <th></th>\n",
       "      <th>merchant_abn</th>\n",
       "      <th>points</th>\n",
       "    </tr>\n",
       "  </thead>\n",
       "  <tbody>\n",
       "    <tr>\n",
       "      <th>0</th>\n",
       "      <td>29216160692</td>\n",
       "      <td>1</td>\n",
       "    </tr>\n",
       "    <tr>\n",
       "      <th>1</th>\n",
       "      <td>24526454463</td>\n",
       "      <td>1</td>\n",
       "    </tr>\n",
       "    <tr>\n",
       "      <th>2</th>\n",
       "      <td>28836033916</td>\n",
       "      <td>1</td>\n",
       "    </tr>\n",
       "    <tr>\n",
       "      <th>3</th>\n",
       "      <td>23617533061</td>\n",
       "      <td>1</td>\n",
       "    </tr>\n",
       "    <tr>\n",
       "      <th>4</th>\n",
       "      <td>24314208971</td>\n",
       "      <td>1</td>\n",
       "    </tr>\n",
       "    <tr>\n",
       "      <th>...</th>\n",
       "      <td>...</td>\n",
       "      <td>...</td>\n",
       "    </tr>\n",
       "    <tr>\n",
       "      <th>4013</th>\n",
       "      <td>81249812970</td>\n",
       "      <td>1</td>\n",
       "    </tr>\n",
       "    <tr>\n",
       "      <th>4014</th>\n",
       "      <td>81906511933</td>\n",
       "      <td>1</td>\n",
       "    </tr>\n",
       "    <tr>\n",
       "      <th>4015</th>\n",
       "      <td>82063890289</td>\n",
       "      <td>1</td>\n",
       "    </tr>\n",
       "    <tr>\n",
       "      <th>4016</th>\n",
       "      <td>82803045102</td>\n",
       "      <td>1</td>\n",
       "    </tr>\n",
       "    <tr>\n",
       "      <th>4017</th>\n",
       "      <td>86340649164</td>\n",
       "      <td>1</td>\n",
       "    </tr>\n",
       "  </tbody>\n",
       "</table>\n",
       "<p>4018 rows × 2 columns</p>\n",
       "</div>"
      ],
      "text/plain": [
       "      merchant_abn  points\n",
       "0      29216160692       1\n",
       "1      24526454463       1\n",
       "2      28836033916       1\n",
       "3      23617533061       1\n",
       "4      24314208971       1\n",
       "...            ...     ...\n",
       "4013   81249812970       1\n",
       "4014   81906511933       1\n",
       "4015   82063890289       1\n",
       "4016   82803045102       1\n",
       "4017   86340649164       1\n",
       "\n",
       "[4018 rows x 2 columns]"
      ]
     },
     "execution_count": 128,
     "metadata": {},
     "output_type": "execute_result"
    }
   ],
   "source": [
    "merchants_pd = future_trans_sdf \\\n",
    "    .select('merchant_abn') \\\n",
    "    .distinct() \\\n",
    "    .withColumn('points', lit(1)) \\\n",
    "    .toPandas()\n",
    "\n",
    "merchants_pd"
   ]
  },
  {
   "cell_type": "markdown",
   "metadata": {},
   "source": [
    "Have 4018 distinct merchants, need to select top 100 merchants\n",
    "\n",
    "Idea:\n",
    "- all merchants have initial points 1\n",
    "- the more the number of points, the higher/better the rank will be\n",
    "- points given based on sorted positioning within the features and importance of the feature (initially have 2 features with equal importance)"
   ]
  },
  {
   "cell_type": "code",
   "execution_count": 75,
   "metadata": {},
   "outputs": [],
   "source": [
    "WEIGHT_TRANS = 0.5\n",
    "WEIGHT_PROFIT = 0.5"
   ]
  },
  {
   "cell_type": "markdown",
   "metadata": {},
   "source": [
    "***"
   ]
  },
  {
   "cell_type": "markdown",
   "metadata": {},
   "source": [
    "Get the monthly number of transactions for each merchant"
   ]
  },
  {
   "cell_type": "code",
   "execution_count": 48,
   "metadata": {},
   "outputs": [
    {
     "data": {
      "text/html": [
       "<table border='1'>\n",
       "<tr><th>year</th><th>month</th><th>merchant_abn</th><th>total_transactions</th></tr>\n",
       "<tr><td>2025</td><td>12</td><td>20774839004</td><td>6.27</td></tr>\n",
       "<tr><td>2025</td><td>8</td><td>20847737557</td><td>65.45</td></tr>\n",
       "<tr><td>2025</td><td>8</td><td>20985347699</td><td>2878.52</td></tr>\n",
       "<tr><td>2025</td><td>7</td><td>21166508693</td><td>80.61</td></tr>\n",
       "<tr><td>2025</td><td>12</td><td>21166508693</td><td>71.66</td></tr>\n",
       "</table>\n"
      ],
      "text/plain": [
       "+----+-----+------------+------------------+\n",
       "|year|month|merchant_abn|total_transactions|\n",
       "+----+-----+------------+------------------+\n",
       "|2025|   12| 20774839004|              6.27|\n",
       "|2025|    8| 20847737557|             65.45|\n",
       "|2025|    8| 20985347699|           2878.52|\n",
       "|2025|    7| 21166508693|             80.61|\n",
       "|2025|   12| 21166508693|             71.66|\n",
       "+----+-----+------------+------------------+"
      ]
     },
     "execution_count": 48,
     "metadata": {},
     "output_type": "execute_result"
    }
   ],
   "source": [
    "ft_agg1 = future_trans_sdf.groupBy(\"year\", \"month\", \"merchant_abn\").agg(\n",
    "    F.round(sum(\"prediction\"), 2).alias(\"total_transactions\")\n",
    ")\n",
    "\n",
    "ft_agg1.limit(5)"
   ]
  },
  {
   "cell_type": "markdown",
   "metadata": {},
   "source": [
    "Get the merchant with the highest number of total transactions for each month (`ft_agg2`):"
   ]
  },
  {
   "cell_type": "code",
   "execution_count": 49,
   "metadata": {},
   "outputs": [
    {
     "data": {
      "text/html": [
       "<table border='1'>\n",
       "<tr><th>year</th><th>month</th><th>merchant_abn</th><th>total_transactions</th></tr>\n",
       "<tr><td>2025</td><td>1</td><td>24852446429</td><td>7069.85</td></tr>\n",
       "<tr><td>2025</td><td>2</td><td>86578477987</td><td>5449.68</td></tr>\n",
       "<tr><td>2025</td><td>3</td><td>24852446429</td><td>11902.78</td></tr>\n",
       "<tr><td>2025</td><td>4</td><td>24852446429</td><td>12986.61</td></tr>\n",
       "<tr><td>2025</td><td>5</td><td>24852446429</td><td>13649.64</td></tr>\n",
       "<tr><td>2025</td><td>6</td><td>24852446429</td><td>12991.22</td></tr>\n",
       "<tr><td>2025</td><td>7</td><td>24852446429</td><td>13183.31</td></tr>\n",
       "<tr><td>2025</td><td>8</td><td>24852446429</td><td>13497.98</td></tr>\n",
       "<tr><td>2025</td><td>9</td><td>24852446429</td><td>13234.83</td></tr>\n",
       "<tr><td>2025</td><td>10</td><td>24852446429</td><td>13474.72</td></tr>\n",
       "<tr><td>2025</td><td>11</td><td>24852446429</td><td>8335.57</td></tr>\n",
       "<tr><td>2025</td><td>12</td><td>64203420245</td><td>7580.43</td></tr>\n",
       "</table>\n"
      ],
      "text/plain": [
       "+----+-----+------------+------------------+\n",
       "|year|month|merchant_abn|total_transactions|\n",
       "+----+-----+------------+------------------+\n",
       "|2025|    1| 24852446429|           7069.85|\n",
       "|2025|    2| 86578477987|           5449.68|\n",
       "|2025|    3| 24852446429|          11902.78|\n",
       "|2025|    4| 24852446429|          12986.61|\n",
       "|2025|    5| 24852446429|          13649.64|\n",
       "|2025|    6| 24852446429|          12991.22|\n",
       "|2025|    7| 24852446429|          13183.31|\n",
       "|2025|    8| 24852446429|          13497.98|\n",
       "|2025|    9| 24852446429|          13234.83|\n",
       "|2025|   10| 24852446429|          13474.72|\n",
       "|2025|   11| 24852446429|           8335.57|\n",
       "|2025|   12| 64203420245|           7580.43|\n",
       "+----+-----+------------+------------------+"
      ]
     },
     "execution_count": 49,
     "metadata": {},
     "output_type": "execute_result"
    }
   ],
   "source": [
    "w = Window.partitionBy('month')\n",
    "\n",
    "ft_agg2 = ft_agg1 \\\n",
    "    .withColumn('maxT', F.max('total_transactions').over(w)) \\\n",
    "    .where(F.col('total_transactions') == F.col('maxT')) \\\n",
    "    .drop('maxT')\n",
    "\n",
    "ft_agg2"
   ]
  },
  {
   "cell_type": "markdown",
   "metadata": {},
   "source": [
    "__[reference for above code](https://stackoverflow.com/questions/48829993/groupby-column-and-filter-rows-with-maximum-value-in-pyspark)__\n",
    "\n"
   ]
  },
  {
   "cell_type": "markdown",
   "metadata": {},
   "source": [
    "For each month, order the merchants by increasing order of their total transactions <br>\n",
    "(merchant with lowest number of transactions for that month will be at the top)"
   ]
  },
  {
   "cell_type": "code",
   "execution_count": 105,
   "metadata": {},
   "outputs": [
    {
     "data": {
      "text/html": [
       "<div>\n",
       "<style scoped>\n",
       "    .dataframe tbody tr th:only-of-type {\n",
       "        vertical-align: middle;\n",
       "    }\n",
       "\n",
       "    .dataframe tbody tr th {\n",
       "        vertical-align: top;\n",
       "    }\n",
       "\n",
       "    .dataframe thead th {\n",
       "        text-align: right;\n",
       "    }\n",
       "</style>\n",
       "<table border=\"1\" class=\"dataframe\">\n",
       "  <thead>\n",
       "    <tr style=\"text-align: right;\">\n",
       "      <th></th>\n",
       "      <th>month</th>\n",
       "      <th>merchant_abn</th>\n",
       "      <th>total_transactions</th>\n",
       "    </tr>\n",
       "  </thead>\n",
       "  <tbody>\n",
       "    <tr>\n",
       "      <th>0</th>\n",
       "      <td>1</td>\n",
       "      <td>36300724008</td>\n",
       "      <td>1.19</td>\n",
       "    </tr>\n",
       "    <tr>\n",
       "      <th>1</th>\n",
       "      <td>1</td>\n",
       "      <td>64464998822</td>\n",
       "      <td>1.25</td>\n",
       "    </tr>\n",
       "    <tr>\n",
       "      <th>2</th>\n",
       "      <td>1</td>\n",
       "      <td>61333423388</td>\n",
       "      <td>1.26</td>\n",
       "    </tr>\n",
       "    <tr>\n",
       "      <th>3</th>\n",
       "      <td>1</td>\n",
       "      <td>61243536058</td>\n",
       "      <td>1.26</td>\n",
       "    </tr>\n",
       "    <tr>\n",
       "      <th>4</th>\n",
       "      <td>1</td>\n",
       "      <td>23322235350</td>\n",
       "      <td>1.34</td>\n",
       "    </tr>\n",
       "    <tr>\n",
       "      <th>...</th>\n",
       "      <td>...</td>\n",
       "      <td>...</td>\n",
       "      <td>...</td>\n",
       "    </tr>\n",
       "    <tr>\n",
       "      <th>45016</th>\n",
       "      <td>12</td>\n",
       "      <td>49839448838</td>\n",
       "      <td>6644.33</td>\n",
       "    </tr>\n",
       "    <tr>\n",
       "      <th>45017</th>\n",
       "      <td>12</td>\n",
       "      <td>49891706470</td>\n",
       "      <td>6644.33</td>\n",
       "    </tr>\n",
       "    <tr>\n",
       "      <th>45018</th>\n",
       "      <td>12</td>\n",
       "      <td>63290521567</td>\n",
       "      <td>6702.10</td>\n",
       "    </tr>\n",
       "    <tr>\n",
       "      <th>45019</th>\n",
       "      <td>12</td>\n",
       "      <td>24852446429</td>\n",
       "      <td>6966.12</td>\n",
       "    </tr>\n",
       "    <tr>\n",
       "      <th>45020</th>\n",
       "      <td>12</td>\n",
       "      <td>64203420245</td>\n",
       "      <td>7580.43</td>\n",
       "    </tr>\n",
       "  </tbody>\n",
       "</table>\n",
       "<p>45021 rows × 3 columns</p>\n",
       "</div>"
      ],
      "text/plain": [
       "       month  merchant_abn  total_transactions\n",
       "0          1   36300724008                1.19\n",
       "1          1   64464998822                1.25\n",
       "2          1   61333423388                1.26\n",
       "3          1   61243536058                1.26\n",
       "4          1   23322235350                1.34\n",
       "...      ...           ...                 ...\n",
       "45016     12   49839448838             6644.33\n",
       "45017     12   49891706470             6644.33\n",
       "45018     12   63290521567             6702.10\n",
       "45019     12   24852446429             6966.12\n",
       "45020     12   64203420245             7580.43\n",
       "\n",
       "[45021 rows x 3 columns]"
      ]
     },
     "execution_count": 105,
     "metadata": {},
     "output_type": "execute_result"
    }
   ],
   "source": [
    "ordered_ft_pd = ft_agg1 \\\n",
    "    .orderBy(asc(\"month\"), asc(\"total_transactions\")) \\\n",
    "    .drop(\"year\") \\\n",
    "    .toPandas()\n",
    "\n",
    "ordered_ft_pd"
   ]
  },
  {
   "cell_type": "markdown",
   "metadata": {},
   "source": [
    "Note for below that `groupby` preserves ordering within each group"
   ]
  },
  {
   "cell_type": "code",
   "execution_count": 133,
   "metadata": {},
   "outputs": [],
   "source": [
    "merch_abns = list(merchants_pd[\"merchant_abn\"])\n",
    "\n",
    "MONTHS = 12\n",
    "for i in range(1, MONTHS+1):\n",
    "    new_points = []\n",
    "    \n",
    "    month_data = ordered_ft_pd.groupby(\"month\").get_group(i)\n",
    "    month_data = pd.DataFrame(month_data.reset_index().drop(columns=\"index\"))\n",
    "    \n",
    "    for abn in merch_abns:\n",
    "        try:\n",
    "            # the larger the index, the more transactions the merchant will have (ordered data)\n",
    "            # thus more points awarded\n",
    "            points = np.round(WEIGHT_TRANS*list(month_data.index[month_data[\"merchant_abn\"] == abn])[0], 3)\n",
    "        except IndexError:\n",
    "            # have no data for the current abn\n",
    "            points = 0\n",
    "\n",
    "        new_points.append(points)\n",
    "\n",
    "    merchants_pd[\"points\"] = merchants_pd[\"points\"] + new_points\n"
   ]
  },
  {
   "cell_type": "markdown",
   "metadata": {},
   "source": [
    "Note: The rewarding points system does not account for the magnitude of the difference in number of transactions\n",
    "\n",
    "TODO: figure out if can make the above statement possible"
   ]
  },
  {
   "cell_type": "code",
   "execution_count": 134,
   "metadata": {},
   "outputs": [
    {
     "data": {
      "text/html": [
       "<div>\n",
       "<style scoped>\n",
       "    .dataframe tbody tr th:only-of-type {\n",
       "        vertical-align: middle;\n",
       "    }\n",
       "\n",
       "    .dataframe tbody tr th {\n",
       "        vertical-align: top;\n",
       "    }\n",
       "\n",
       "    .dataframe thead th {\n",
       "        text-align: right;\n",
       "    }\n",
       "</style>\n",
       "<table border=\"1\" class=\"dataframe\">\n",
       "  <thead>\n",
       "    <tr style=\"text-align: right;\">\n",
       "      <th></th>\n",
       "      <th>merchant_abn</th>\n",
       "      <th>points</th>\n",
       "    </tr>\n",
       "  </thead>\n",
       "  <tbody>\n",
       "    <tr>\n",
       "      <th>0</th>\n",
       "      <td>29216160692</td>\n",
       "      <td>32195.0</td>\n",
       "    </tr>\n",
       "    <tr>\n",
       "      <th>1</th>\n",
       "      <td>24526454463</td>\n",
       "      <td>1355.0</td>\n",
       "    </tr>\n",
       "    <tr>\n",
       "      <th>2</th>\n",
       "      <td>28836033916</td>\n",
       "      <td>137.0</td>\n",
       "    </tr>\n",
       "    <tr>\n",
       "      <th>3</th>\n",
       "      <td>23617533061</td>\n",
       "      <td>32691.0</td>\n",
       "    </tr>\n",
       "    <tr>\n",
       "      <th>4</th>\n",
       "      <td>24314208971</td>\n",
       "      <td>2570.5</td>\n",
       "    </tr>\n",
       "    <tr>\n",
       "      <th>...</th>\n",
       "      <td>...</td>\n",
       "      <td>...</td>\n",
       "    </tr>\n",
       "    <tr>\n",
       "      <th>4013</th>\n",
       "      <td>81249812970</td>\n",
       "      <td>42801.0</td>\n",
       "    </tr>\n",
       "    <tr>\n",
       "      <th>4014</th>\n",
       "      <td>81906511933</td>\n",
       "      <td>8439.0</td>\n",
       "    </tr>\n",
       "    <tr>\n",
       "      <th>4015</th>\n",
       "      <td>82063890289</td>\n",
       "      <td>5421.5</td>\n",
       "    </tr>\n",
       "    <tr>\n",
       "      <th>4016</th>\n",
       "      <td>82803045102</td>\n",
       "      <td>7105.5</td>\n",
       "    </tr>\n",
       "    <tr>\n",
       "      <th>4017</th>\n",
       "      <td>86340649164</td>\n",
       "      <td>17141.5</td>\n",
       "    </tr>\n",
       "  </tbody>\n",
       "</table>\n",
       "<p>4018 rows × 2 columns</p>\n",
       "</div>"
      ],
      "text/plain": [
       "      merchant_abn   points\n",
       "0      29216160692  32195.0\n",
       "1      24526454463   1355.0\n",
       "2      28836033916    137.0\n",
       "3      23617533061  32691.0\n",
       "4      24314208971   2570.5\n",
       "...            ...      ...\n",
       "4013   81249812970  42801.0\n",
       "4014   81906511933   8439.0\n",
       "4015   82063890289   5421.5\n",
       "4016   82803045102   7105.5\n",
       "4017   86340649164  17141.5\n",
       "\n",
       "[4018 rows x 2 columns]"
      ]
     },
     "execution_count": 134,
     "metadata": {},
     "output_type": "execute_result"
    }
   ],
   "source": [
    "merchants_pd"
   ]
  },
  {
   "cell_type": "markdown",
   "metadata": {},
   "source": [
    "Should the points be scaled so they are in the range of 1-4018 before working on the next feature?"
   ]
  },
  {
   "cell_type": "markdown",
   "metadata": {},
   "source": [
    "***"
   ]
  },
  {
   "cell_type": "markdown",
   "metadata": {},
   "source": [
    "Get the monthly total profit for each merchant"
   ]
  },
  {
   "cell_type": "code",
   "execution_count": 50,
   "metadata": {},
   "outputs": [
    {
     "data": {
      "text/html": [
       "<table border='1'>\n",
       "<tr><th>year</th><th>month</th><th>merchant_abn</th><th>total_profit</th></tr>\n",
       "<tr><td>2025</td><td>11</td><td>87084550311</td><td>6364.34</td></tr>\n",
       "<tr><td>2025</td><td>2</td><td>87340243269</td><td>1326.69</td></tr>\n",
       "<tr><td>2025</td><td>2</td><td>87630626808</td><td>1538.96</td></tr>\n",
       "<tr><td>2025</td><td>6</td><td>87769349119</td><td>491.54</td></tr>\n",
       "<tr><td>2025</td><td>7</td><td>87998844202</td><td>2539.61</td></tr>\n",
       "</table>\n"
      ],
      "text/plain": [
       "+----+-----+------------+------------+\n",
       "|year|month|merchant_abn|total_profit|\n",
       "+----+-----+------------+------------+\n",
       "|2025|   11| 87084550311|     6364.34|\n",
       "|2025|    2| 87340243269|     1326.69|\n",
       "|2025|    2| 87630626808|     1538.96|\n",
       "|2025|    6| 87769349119|      491.54|\n",
       "|2025|    7| 87998844202|     2539.61|\n",
       "+----+-----+------------+------------+"
      ]
     },
     "execution_count": 50,
     "metadata": {},
     "output_type": "execute_result"
    }
   ],
   "source": [
    "fp_agg1 = future_profit_sdf.groupBy(\"year\", \"month\", \"merchant_abn\").agg(\n",
    "    F.round(sum(\"prediction\"), 2).alias(\"total_profit\")\n",
    ")\n",
    "\n",
    "fp_agg1.limit(5)"
   ]
  },
  {
   "cell_type": "markdown",
   "metadata": {},
   "source": [
    "Get the merchant with the highest profit for each month (`fp_agg2`):"
   ]
  },
  {
   "cell_type": "code",
   "execution_count": 51,
   "metadata": {},
   "outputs": [
    {
     "data": {
      "text/html": [
       "<table border='1'>\n",
       "<tr><th>year</th><th>month</th><th>merchant_abn</th><th>total_profit</th></tr>\n",
       "<tr><td>2025</td><td>1</td><td>32361057556</td><td>15872.74</td></tr>\n",
       "<tr><td>2025</td><td>2</td><td>21439773999</td><td>14585.16</td></tr>\n",
       "<tr><td>2025</td><td>3</td><td>21439773999</td><td>44487.39</td></tr>\n",
       "<tr><td>2025</td><td>4</td><td>21439773999</td><td>38037.4</td></tr>\n",
       "<tr><td>2025</td><td>5</td><td>79827781481</td><td>58545.5</td></tr>\n",
       "<tr><td>2025</td><td>6</td><td>79827781481</td><td>56656.94</td></tr>\n",
       "<tr><td>2025</td><td>7</td><td>79827781481</td><td>58545.5</td></tr>\n",
       "<tr><td>2025</td><td>8</td><td>79827781481</td><td>58545.5</td></tr>\n",
       "<tr><td>2025</td><td>9</td><td>79827781481</td><td>55712.65</td></tr>\n",
       "<tr><td>2025</td><td>10</td><td>79827781481</td><td>53824.09</td></tr>\n",
       "<tr><td>2025</td><td>11</td><td>21439773999</td><td>27198.75</td></tr>\n",
       "<tr><td>2025</td><td>12</td><td>79827781481</td><td>28328.47</td></tr>\n",
       "</table>\n"
      ],
      "text/plain": [
       "+----+-----+------------+------------+\n",
       "|year|month|merchant_abn|total_profit|\n",
       "+----+-----+------------+------------+\n",
       "|2025|    1| 32361057556|    15872.74|\n",
       "|2025|    2| 21439773999|    14585.16|\n",
       "|2025|    3| 21439773999|    44487.39|\n",
       "|2025|    4| 21439773999|     38037.4|\n",
       "|2025|    5| 79827781481|     58545.5|\n",
       "|2025|    6| 79827781481|    56656.94|\n",
       "|2025|    7| 79827781481|     58545.5|\n",
       "|2025|    8| 79827781481|     58545.5|\n",
       "|2025|    9| 79827781481|    55712.65|\n",
       "|2025|   10| 79827781481|    53824.09|\n",
       "|2025|   11| 21439773999|    27198.75|\n",
       "|2025|   12| 79827781481|    28328.47|\n",
       "+----+-----+------------+------------+"
      ]
     },
     "execution_count": 51,
     "metadata": {},
     "output_type": "execute_result"
    }
   ],
   "source": [
    "w = Window.partitionBy('month')\n",
    "\n",
    "fp_agg2 = fp_agg1 \\\n",
    "    .withColumn('maxP', F.max('total_profit').over(w)) \\\n",
    "    .where(F.col('total_profit') == F.col('maxP')) \\\n",
    "    .drop('maxP')\n",
    "\n",
    "fp_agg2"
   ]
  },
  {
   "cell_type": "markdown",
   "metadata": {},
   "source": [
    "For each month, order the merchants by increasing order of their total profit <br>\n",
    "(merchant with lowest total profit for that month at the top)"
   ]
  },
  {
   "cell_type": "code",
   "execution_count": 136,
   "metadata": {},
   "outputs": [
    {
     "data": {
      "text/html": [
       "<div>\n",
       "<style scoped>\n",
       "    .dataframe tbody tr th:only-of-type {\n",
       "        vertical-align: middle;\n",
       "    }\n",
       "\n",
       "    .dataframe tbody tr th {\n",
       "        vertical-align: top;\n",
       "    }\n",
       "\n",
       "    .dataframe thead th {\n",
       "        text-align: right;\n",
       "    }\n",
       "</style>\n",
       "<table border=\"1\" class=\"dataframe\">\n",
       "  <thead>\n",
       "    <tr style=\"text-align: right;\">\n",
       "      <th></th>\n",
       "      <th>month</th>\n",
       "      <th>merchant_abn</th>\n",
       "      <th>total_profit</th>\n",
       "    </tr>\n",
       "  </thead>\n",
       "  <tbody>\n",
       "    <tr>\n",
       "      <th>0</th>\n",
       "      <td>1</td>\n",
       "      <td>26945291705</td>\n",
       "      <td>9.74</td>\n",
       "    </tr>\n",
       "    <tr>\n",
       "      <th>1</th>\n",
       "      <td>1</td>\n",
       "      <td>34339412732</td>\n",
       "      <td>10.42</td>\n",
       "    </tr>\n",
       "    <tr>\n",
       "      <th>2</th>\n",
       "      <td>1</td>\n",
       "      <td>17649195875</td>\n",
       "      <td>11.07</td>\n",
       "    </tr>\n",
       "    <tr>\n",
       "      <th>3</th>\n",
       "      <td>1</td>\n",
       "      <td>13067850740</td>\n",
       "      <td>11.50</td>\n",
       "    </tr>\n",
       "    <tr>\n",
       "      <th>4</th>\n",
       "      <td>1</td>\n",
       "      <td>19458945909</td>\n",
       "      <td>13.04</td>\n",
       "    </tr>\n",
       "    <tr>\n",
       "      <th>...</th>\n",
       "      <td>...</td>\n",
       "      <td>...</td>\n",
       "      <td>...</td>\n",
       "    </tr>\n",
       "    <tr>\n",
       "      <th>45016</th>\n",
       "      <td>12</td>\n",
       "      <td>82368304209</td>\n",
       "      <td>20173.09</td>\n",
       "    </tr>\n",
       "    <tr>\n",
       "      <th>45017</th>\n",
       "      <td>12</td>\n",
       "      <td>72472909171</td>\n",
       "      <td>23471.62</td>\n",
       "    </tr>\n",
       "    <tr>\n",
       "      <th>45018</th>\n",
       "      <td>12</td>\n",
       "      <td>98166254020</td>\n",
       "      <td>25341.71</td>\n",
       "    </tr>\n",
       "    <tr>\n",
       "      <th>45019</th>\n",
       "      <td>12</td>\n",
       "      <td>21439773999</td>\n",
       "      <td>25724.52</td>\n",
       "    </tr>\n",
       "    <tr>\n",
       "      <th>45020</th>\n",
       "      <td>12</td>\n",
       "      <td>79827781481</td>\n",
       "      <td>28328.47</td>\n",
       "    </tr>\n",
       "  </tbody>\n",
       "</table>\n",
       "<p>45021 rows × 3 columns</p>\n",
       "</div>"
      ],
      "text/plain": [
       "       month  merchant_abn  total_profit\n",
       "0          1   26945291705          9.74\n",
       "1          1   34339412732         10.42\n",
       "2          1   17649195875         11.07\n",
       "3          1   13067850740         11.50\n",
       "4          1   19458945909         13.04\n",
       "...      ...           ...           ...\n",
       "45016     12   82368304209      20173.09\n",
       "45017     12   72472909171      23471.62\n",
       "45018     12   98166254020      25341.71\n",
       "45019     12   21439773999      25724.52\n",
       "45020     12   79827781481      28328.47\n",
       "\n",
       "[45021 rows x 3 columns]"
      ]
     },
     "execution_count": 136,
     "metadata": {},
     "output_type": "execute_result"
    }
   ],
   "source": [
    "ordered_fp_pd = fp_agg1 \\\n",
    "    .orderBy(asc(\"month\"), asc(\"total_profit\")) \\\n",
    "    .drop(\"year\") \\\n",
    "    .toPandas()\n",
    "\n",
    "ordered_fp_pd"
   ]
  },
  {
   "cell_type": "code",
   "execution_count": 137,
   "metadata": {},
   "outputs": [],
   "source": [
    "for i in range(1, MONTHS+1):\n",
    "    new_points = []\n",
    "    \n",
    "    month_data = ordered_fp_pd.groupby(\"month\").get_group(i)\n",
    "    month_data = pd.DataFrame(month_data.reset_index().drop(columns=\"index\"))\n",
    "    \n",
    "    for abn in merch_abns:\n",
    "        try:\n",
    "            # the larger the index, the more profit the merchant will have (ordered data)\n",
    "            # thus more points awarded\n",
    "            points = np.round(WEIGHT_PROFIT*list(month_data.index[month_data[\"merchant_abn\"] == abn])[0], 3)\n",
    "        except IndexError:\n",
    "            # have no data for the current abn\n",
    "            points = 0\n",
    "\n",
    "        new_points.append(points)\n",
    "\n",
    "    merchants_pd[\"points\"] = merchants_pd[\"points\"] + new_points"
   ]
  },
  {
   "cell_type": "code",
   "execution_count": 138,
   "metadata": {},
   "outputs": [
    {
     "data": {
      "text/html": [
       "<div>\n",
       "<style scoped>\n",
       "    .dataframe tbody tr th:only-of-type {\n",
       "        vertical-align: middle;\n",
       "    }\n",
       "\n",
       "    .dataframe tbody tr th {\n",
       "        vertical-align: top;\n",
       "    }\n",
       "\n",
       "    .dataframe thead th {\n",
       "        text-align: right;\n",
       "    }\n",
       "</style>\n",
       "<table border=\"1\" class=\"dataframe\">\n",
       "  <thead>\n",
       "    <tr style=\"text-align: right;\">\n",
       "      <th></th>\n",
       "      <th>merchant_abn</th>\n",
       "      <th>points</th>\n",
       "    </tr>\n",
       "  </thead>\n",
       "  <tbody>\n",
       "    <tr>\n",
       "      <th>0</th>\n",
       "      <td>29216160692</td>\n",
       "      <td>45918.5</td>\n",
       "    </tr>\n",
       "    <tr>\n",
       "      <th>1</th>\n",
       "      <td>24526454463</td>\n",
       "      <td>1512.0</td>\n",
       "    </tr>\n",
       "    <tr>\n",
       "      <th>2</th>\n",
       "      <td>28836033916</td>\n",
       "      <td>391.0</td>\n",
       "    </tr>\n",
       "    <tr>\n",
       "      <th>3</th>\n",
       "      <td>23617533061</td>\n",
       "      <td>44161.0</td>\n",
       "    </tr>\n",
       "    <tr>\n",
       "      <th>4</th>\n",
       "      <td>24314208971</td>\n",
       "      <td>4532.5</td>\n",
       "    </tr>\n",
       "    <tr>\n",
       "      <th>...</th>\n",
       "      <td>...</td>\n",
       "      <td>...</td>\n",
       "    </tr>\n",
       "    <tr>\n",
       "      <th>4013</th>\n",
       "      <td>81249812970</td>\n",
       "      <td>59836.0</td>\n",
       "    </tr>\n",
       "    <tr>\n",
       "      <th>4014</th>\n",
       "      <td>81906511933</td>\n",
       "      <td>12266.0</td>\n",
       "    </tr>\n",
       "    <tr>\n",
       "      <th>4015</th>\n",
       "      <td>82063890289</td>\n",
       "      <td>7133.5</td>\n",
       "    </tr>\n",
       "    <tr>\n",
       "      <th>4016</th>\n",
       "      <td>82803045102</td>\n",
       "      <td>9348.5</td>\n",
       "    </tr>\n",
       "    <tr>\n",
       "      <th>4017</th>\n",
       "      <td>86340649164</td>\n",
       "      <td>24766.0</td>\n",
       "    </tr>\n",
       "  </tbody>\n",
       "</table>\n",
       "<p>4018 rows × 2 columns</p>\n",
       "</div>"
      ],
      "text/plain": [
       "      merchant_abn   points\n",
       "0      29216160692  45918.5\n",
       "1      24526454463   1512.0\n",
       "2      28836033916    391.0\n",
       "3      23617533061  44161.0\n",
       "4      24314208971   4532.5\n",
       "...            ...      ...\n",
       "4013   81249812970  59836.0\n",
       "4014   81906511933  12266.0\n",
       "4015   82063890289   7133.5\n",
       "4016   82803045102   9348.5\n",
       "4017   86340649164  24766.0\n",
       "\n",
       "[4018 rows x 2 columns]"
      ]
     },
     "execution_count": 138,
     "metadata": {},
     "output_type": "execute_result"
    }
   ],
   "source": [
    "merchants_pd"
   ]
  },
  {
   "cell_type": "markdown",
   "metadata": {},
   "source": [
    "Get the top merchants"
   ]
  },
  {
   "cell_type": "code",
   "execution_count": 142,
   "metadata": {},
   "outputs": [
    {
     "data": {
      "text/html": [
       "<table border='1'>\n",
       "<tr><th>merchant_abn</th><th>points</th></tr>\n",
       "<tr><td>21439773999</td><td>67893.5</td></tr>\n",
       "<tr><td>49891706470</td><td>67812.0</td></tr>\n",
       "<tr><td>72472909171</td><td>67698.5</td></tr>\n",
       "<tr><td>86578477987</td><td>67640.0</td></tr>\n",
       "<tr><td>79417999332</td><td>67420.0</td></tr>\n",
       "<tr><td>86591172660</td><td>67215.5</td></tr>\n",
       "<tr><td>76819856970</td><td>66933.0</td></tr>\n",
       "<tr><td>76767266140</td><td>66890.5</td></tr>\n",
       "<tr><td>22033359776</td><td>66836.5</td></tr>\n",
       "<tr><td>77590625261</td><td>66571.5</td></tr>\n",
       "<tr><td>49839448838</td><td>66553.5</td></tr>\n",
       "<tr><td>21359184622</td><td>66512.0</td></tr>\n",
       "<tr><td>49505931725</td><td>66404.0</td></tr>\n",
       "<tr><td>48465277903</td><td>66373.0</td></tr>\n",
       "<tr><td>46804135891</td><td>66295.5</td></tr>\n",
       "<tr><td>45629217853</td><td>66250.5</td></tr>\n",
       "<tr><td>77505747217</td><td>66240.0</td></tr>\n",
       "<tr><td>43186523025</td><td>66221.5</td></tr>\n",
       "<tr><td>49322182190</td><td>66166.5</td></tr>\n",
       "<tr><td>48534649627</td><td>66139.5</td></tr>\n",
       "</table>\n",
       "only showing top 20 rows\n"
      ],
      "text/plain": [
       "+------------+-------+\n",
       "|merchant_abn| points|\n",
       "+------------+-------+\n",
       "| 21439773999|67893.5|\n",
       "| 49891706470|67812.0|\n",
       "| 72472909171|67698.5|\n",
       "| 86578477987|67640.0|\n",
       "| 79417999332|67420.0|\n",
       "| 86591172660|67215.5|\n",
       "| 76819856970|66933.0|\n",
       "| 76767266140|66890.5|\n",
       "| 22033359776|66836.5|\n",
       "| 77590625261|66571.5|\n",
       "| 49839448838|66553.5|\n",
       "| 21359184622|66512.0|\n",
       "| 49505931725|66404.0|\n",
       "| 48465277903|66373.0|\n",
       "| 46804135891|66295.5|\n",
       "| 45629217853|66250.5|\n",
       "| 77505747217|66240.0|\n",
       "| 43186523025|66221.5|\n",
       "| 49322182190|66166.5|\n",
       "| 48534649627|66139.5|\n",
       "+------------+-------+\n",
       "only showing top 20 rows"
      ]
     },
     "execution_count": 142,
     "metadata": {},
     "output_type": "execute_result"
    }
   ],
   "source": [
    "rankings = spark.createDataFrame(merchants_pd).sort(desc(\"points\"))\n",
    "rankings"
   ]
  },
  {
   "cell_type": "markdown",
   "metadata": {},
   "source": [
    "## Segmentation"
   ]
  }
 ],
 "metadata": {
  "kernelspec": {
   "display_name": "Python 3.8.10 64-bit",
   "language": "python",
   "name": "python3"
  },
  "language_info": {
   "codemirror_mode": {
    "name": "ipython",
    "version": 3
   },
   "file_extension": ".py",
   "mimetype": "text/x-python",
   "name": "python",
   "nbconvert_exporter": "python",
   "pygments_lexer": "ipython3",
   "version": "3.8.10"
  },
  "orig_nbformat": 4,
  "vscode": {
   "interpreter": {
    "hash": "916dbcbb3f70747c44a77c7bcd40155683ae19c65e1c03b4aa3499c5328201f1"
   }
  }
 },
 "nbformat": 4,
 "nbformat_minor": 2
}
