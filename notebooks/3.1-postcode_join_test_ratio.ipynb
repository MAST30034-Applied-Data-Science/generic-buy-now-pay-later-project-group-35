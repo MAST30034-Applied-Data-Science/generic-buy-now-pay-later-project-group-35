{
 "cells": [
  {
   "cell_type": "code",
   "execution_count": 1,
   "metadata": {},
   "outputs": [
    {
     "name": "stdout",
     "output_type": "stream",
     "text": [
      "22/10/12 14:21:56 WARN Utils: Your hostname, DESKTOP-LNDD2A2 resolves to a loopback address: 127.0.1.1; using 172.21.140.219 instead (on interface eth0)\n",
      "22/10/12 14:21:56 WARN Utils: Set SPARK_LOCAL_IP if you need to bind to another address\n"
     ]
    },
    {
     "name": "stderr",
     "output_type": "stream",
     "text": [
      "Setting default log level to \"WARN\".\n",
      "To adjust logging level use sc.setLogLevel(newLevel). For SparkR, use setLogLevel(newLevel).\n"
     ]
    },
    {
     "name": "stdout",
     "output_type": "stream",
     "text": [
      "22/10/12 14:21:58 WARN NativeCodeLoader: Unable to load native-hadoop library for your platform... using builtin-java classes where applicable\n",
      "22/10/12 14:22:00 WARN Utils: Service 'SparkUI' could not bind on port 4040. Attempting port 4041.\n"
     ]
    }
   ],
   "source": [
    "from pyspark.sql import SparkSession\n",
    "from pyspark.sql.functions import * \n",
    "import matplotlib.pyplot as plt\n",
    "import pandas as pd\n",
    "import numpy as np\n",
    "from pyspark.sql import functions as F\n",
    "\n",
    "# Create a spark session\n",
    "spark = (\n",
    "    SparkSession.builder.appName(\"analysis\")\n",
    "    .config(\"spark.sql.repl.eagerEval.enabled\", True) \n",
    "    .config(\"spark.sql.parquet.cacheMetadata\", \"true\")\n",
    "    .config(\"spark.sql.session.timeZone\", \"Etc/UTC\")\n",
    "    .config(\"spark.driver.memory\", \"2g\")\n",
    "    .config(\"spark.executor.memory\", \"6g\")\n",
    "    .getOrCreate()\n",
    ")"
   ]
  },
  {
   "cell_type": "code",
   "execution_count": 2,
   "metadata": {},
   "outputs": [
    {
     "name": "stderr",
     "output_type": "stream",
     "text": [
      "                                                                                \r"
     ]
    },
    {
     "name": "stdout",
     "output_type": "stream",
     "text": [
      "5988\n"
     ]
    },
    {
     "name": "stderr",
     "output_type": "stream",
     "text": [
      "                                                                                \r"
     ]
    },
    {
     "data": {
      "text/html": [
       "<table border='1'>\n",
       "<tr><th>postcode</th><th>sa2_code</th><th>sa2_name</th><th>ratio</th></tr>\n",
       "<tr><td>2478</td><td>112011242</td><td>Lennox Head - Ske...</td><td>0.2759902</td></tr>\n",
       "<tr><td>2479</td><td>112011237</td><td>Ballina Region</td><td>0.2624605</td></tr>\n",
       "<tr><td>2479</td><td>112011238</td><td>Bangalow</td><td>0.7372028</td></tr>\n",
       "<tr><td>2479</td><td>112011240</td><td>Byron Bay</td><td>3.367E-4</td></tr>\n",
       "<tr><td>2480</td><td>112011237</td><td>Ballina Region</td><td>6.535E-4</td></tr>\n",
       "</table>\n"
      ],
      "text/plain": [
       "+--------+---------+--------------------+---------+\n",
       "|postcode| sa2_code|            sa2_name|    ratio|\n",
       "+--------+---------+--------------------+---------+\n",
       "|    2478|112011242|Lennox Head - Ske...|0.2759902|\n",
       "|    2479|112011237|      Ballina Region|0.2624605|\n",
       "|    2479|112011238|            Bangalow|0.7372028|\n",
       "|    2479|112011240|           Byron Bay| 3.367E-4|\n",
       "|    2480|112011237|      Ballina Region| 6.535E-4|\n",
       "+--------+---------+--------------------+---------+"
      ]
     },
     "execution_count": 2,
     "metadata": {},
     "output_type": "execute_result"
    }
   ],
   "source": [
    "postcode_ratio_sdf = spark.read.parquet(\"../data/curated/postcode_ratio_sdf.parquet/\")\n",
    "print(postcode_ratio_sdf.count())\n",
    "postcode_ratio_sdf.limit(5)"
   ]
  },
  {
   "cell_type": "markdown",
   "metadata": {},
   "source": [
    "## Join postcode data with population data"
   ]
  },
  {
   "cell_type": "code",
   "execution_count": 3,
   "metadata": {},
   "outputs": [
    {
     "name": "stdout",
     "output_type": "stream",
     "text": [
      "2450\n"
     ]
    },
    {
     "data": {
      "text/html": [
       "<table border='1'>\n",
       "<tr><th>State/Terr</th><th>sa2_code</th><th>SA2 name</th><th>Total</th><th>Under 10</th><th>Adolescent</th><th>Young adult</th><th>Middle age</th><th>Old</th></tr>\n",
       "<tr><td>New South Wales</td><td>101021007</td><td>Braidwood</td><td>4330</td><td>473</td><td>403</td><td>495</td><td>1472</td><td>1487</td></tr>\n",
       "<tr><td>New South Wales</td><td>101021008</td><td>Karabar</td><td>8546</td><td>1082</td><td>1075</td><td>1818</td><td>2858</td><td>1713</td></tr>\n",
       "<tr><td>New South Wales</td><td>101021009</td><td>Queanbeyan</td><td>11370</td><td>1275</td><td>916</td><td>3129</td><td>3681</td><td>2369</td></tr>\n",
       "<tr><td>New South Wales</td><td>101021010</td><td>Queanbeyan - East</td><td>5093</td><td>588</td><td>406</td><td>1460</td><td>1718</td><td>921</td></tr>\n",
       "<tr><td>New South Wales</td><td>101021012</td><td>Queanbeyan West -...</td><td>12743</td><td>1796</td><td>1910</td><td>2266</td><td>4933</td><td>1838</td></tr>\n",
       "</table>\n"
      ],
      "text/plain": [
       "+---------------+---------+--------------------+-----+--------+----------+-----------+----------+----+\n",
       "|     State/Terr| sa2_code|            SA2 name|Total|Under 10|Adolescent|Young adult|Middle age| Old|\n",
       "+---------------+---------+--------------------+-----+--------+----------+-----------+----------+----+\n",
       "|New South Wales|101021007|           Braidwood| 4330|     473|       403|        495|      1472|1487|\n",
       "|New South Wales|101021008|             Karabar| 8546|    1082|      1075|       1818|      2858|1713|\n",
       "|New South Wales|101021009|          Queanbeyan|11370|    1275|       916|       3129|      3681|2369|\n",
       "|New South Wales|101021010|   Queanbeyan - East| 5093|     588|       406|       1460|      1718| 921|\n",
       "|New South Wales|101021012|Queanbeyan West -...|12743|    1796|      1910|       2266|      4933|1838|\n",
       "+---------------+---------+--------------------+-----+--------+----------+-----------+----------+----+"
      ]
     },
     "execution_count": 3,
     "metadata": {},
     "output_type": "execute_result"
    }
   ],
   "source": [
    "pop_sdf = spark.read.parquet(\"../data/curated/pop_sdf.parquet/\")\n",
    "print(pop_sdf.count())\n",
    "populationdf = pop_sdf.withColumnRenamed(\"SA2 code\",\"sa2_code\")\n",
    "populationdf.limit(5)"
   ]
  },
  {
   "cell_type": "code",
   "execution_count": 4,
   "metadata": {},
   "outputs": [],
   "source": [
    "merged_sdf1 = populationdf.join(postcode_ratio_sdf, on=\"sa2_code\", how=\"inner\")"
   ]
  },
  {
   "cell_type": "code",
   "execution_count": 5,
   "metadata": {},
   "outputs": [
    {
     "data": {
      "text/plain": [
       "1900"
      ]
     },
     "execution_count": 5,
     "metadata": {},
     "output_type": "execute_result"
    }
   ],
   "source": [
    "merged_sdf1.groupBy(\"sa2_code\").count().count()"
   ]
  },
  {
   "cell_type": "markdown",
   "metadata": {},
   "source": [
    "Lost 550 records for which there were no sa2 codes"
   ]
  },
  {
   "cell_type": "code",
   "execution_count": 6,
   "metadata": {},
   "outputs": [
    {
     "data": {
      "text/html": [
       "<table border='1'>\n",
       "<tr><th>sa2_code</th><th>State/Terr</th><th>SA2 name</th><th>Total</th><th>Under 10</th><th>Adolescent</th><th>Young adult</th><th>Middle age</th><th>Old</th><th>postcode</th><th>sa2_name</th><th>ratio</th></tr>\n",
       "<tr><td>701011002</td><td>Northern Territory</td><td>Darwin City</td><td>7679</td><td>474</td><td>325</td><td>3322</td><td>2652</td><td>906</td><td>0800</td><td>Darwin City</td><td>1.0</td></tr>\n",
       "<tr><td>701021023</td><td>Northern Territory</td><td>Millner</td><td>2726</td><td>341</td><td>259</td><td>709</td><td>947</td><td>470</td><td>0810</td><td>Millner</td><td>0.0834829</td></tr>\n",
       "<tr><td>701021025</td><td>Northern Territory</td><td>Nightcliff</td><td>4112</td><td>490</td><td>393</td><td>1204</td><td>1371</td><td>654</td><td>0810</td><td>Nightcliff</td><td>0.1239038</td></tr>\n",
       "<tr><td>701021021</td><td>Northern Territory</td><td>Lyons (NT)</td><td>6356</td><td>1310</td><td>902</td><td>1610</td><td>2185</td><td>349</td><td>0810</td><td>Lyons (NT)</td><td>0.0702012</td></tr>\n",
       "<tr><td>701021018</td><td>Northern Territory</td><td>Jingili</td><td>1922</td><td>301</td><td>274</td><td>335</td><td>702</td><td>310</td><td>0810</td><td>Jingili</td><td>0.061562</td></tr>\n",
       "</table>\n"
      ],
      "text/plain": [
       "+---------+------------------+-----------+-----+--------+----------+-----------+----------+---+--------+-----------+---------+\n",
       "| sa2_code|        State/Terr|   SA2 name|Total|Under 10|Adolescent|Young adult|Middle age|Old|postcode|   sa2_name|    ratio|\n",
       "+---------+------------------+-----------+-----+--------+----------+-----------+----------+---+--------+-----------+---------+\n",
       "|701011002|Northern Territory|Darwin City| 7679|     474|       325|       3322|      2652|906|    0800|Darwin City|      1.0|\n",
       "|701021023|Northern Territory|    Millner| 2726|     341|       259|        709|       947|470|    0810|    Millner|0.0834829|\n",
       "|701021025|Northern Territory| Nightcliff| 4112|     490|       393|       1204|      1371|654|    0810| Nightcliff|0.1239038|\n",
       "|701021021|Northern Territory| Lyons (NT)| 6356|    1310|       902|       1610|      2185|349|    0810| Lyons (NT)|0.0702012|\n",
       "|701021018|Northern Territory|    Jingili| 1922|     301|       274|        335|       702|310|    0810|    Jingili| 0.061562|\n",
       "+---------+------------------+-----------+-----+--------+----------+-----------+----------+---+--------+-----------+---------+"
      ]
     },
     "execution_count": 6,
     "metadata": {},
     "output_type": "execute_result"
    }
   ],
   "source": [
    "merged_sdf1.orderBy(\"postcode\").limit(5)"
   ]
  },
  {
   "cell_type": "markdown",
   "metadata": {},
   "source": [
    "Get a single population value for each postcode and field by calculating the weighted average using ratio"
   ]
  },
  {
   "cell_type": "code",
   "execution_count": 7,
   "metadata": {},
   "outputs": [
    {
     "name": "stdout",
     "output_type": "stream",
     "text": [
      "+--------+---------+-----------+----------+-------------+-----------+-------+\n",
      "|postcode|total_pop|under10_pop|adolsc_pop|yng_adult_pop|mid_age_pop|old_pop|\n",
      "+--------+---------+-----------+----------+-------------+-----------+-------+\n",
      "|    0800|   7679.0|      474.0|     325.0|       3322.0|     2652.0|  906.0|\n",
      "|    0810|  3121.46|     419.06|    345.41|        819.6|    1043.92| 493.46|\n",
      "|    0812|  4308.01|     621.82|    571.11|        844.5|    1475.39|  795.2|\n",
      "|    0820|  3420.98|     358.95|    316.31|      1032.65|     1172.7| 540.38|\n",
      "|    0822|  5099.87|      767.1|    868.74|      1295.53|    1631.41| 537.08|\n",
      "|    0828|   1814.0|      224.0|     302.0|        433.0|      624.0|  231.0|\n",
      "|    0829|  5673.15|     467.32|    532.63|      1749.75|    2035.05|  888.4|\n",
      "|    0830|  3671.22|     610.12|    484.28|       848.18|    1275.16| 453.48|\n",
      "|    0832|  5142.17|     918.67|    704.86|      1351.13|    1692.51|  475.0|\n",
      "|    0835|  4819.67|     408.13|    493.88|      1347.38|    1726.66| 843.62|\n",
      "|    0836|   8898.0|     1204.0|    1237.0|       1448.0|     3480.0| 1529.0|\n",
      "|    0837|   4584.0|      608.0|     549.0|        728.0|     1802.0|  897.0|\n",
      "|    0838|   4584.0|      608.0|     549.0|        728.0|     1802.0|  897.0|\n",
      "|    0840|   4678.0|      488.0|     435.0|        720.0|     1780.0| 1255.0|\n",
      "|    0841|   4584.0|      608.0|     549.0|        728.0|     1802.0|  897.0|\n",
      "|    0845|   4678.0|      488.0|     435.0|        720.0|     1780.0| 1255.0|\n",
      "|    0846|   4678.0|      488.0|     435.0|        720.0|     1780.0| 1255.0|\n",
      "|    0847|   2157.0|      355.0|     376.0|        627.0|      567.0|  232.0|\n",
      "|    0850|  10727.0|     1621.0|    1324.0|       2839.0|     3449.0| 1494.0|\n",
      "|    0852|  4260.86|     682.87|    701.17|      1181.77|    1257.15|  437.9|\n",
      "+--------+---------+-----------+----------+-------------+-----------+-------+\n",
      "only showing top 20 rows\n",
      "\n"
     ]
    }
   ],
   "source": [
    "postcode_pop_sdf = merged_sdf1.groupBy(\"postcode\") \\\n",
    "    .agg(\n",
    "        F.round((F.sum(merged_sdf1.Total * merged_sdf1.ratio) / F.sum(merged_sdf1.ratio)), 2).alias(\"total_pop\"),\n",
    "        F.round((F.sum(merged_sdf1[\"Under 10\"] * merged_sdf1.ratio) / F.sum(merged_sdf1.ratio)), 2).alias(\"under10_pop\"),\n",
    "        F.round((F.sum(merged_sdf1.Adolescent * merged_sdf1.ratio) / F.sum(merged_sdf1.ratio)), 2).alias(\"adolsc_pop\"),\n",
    "        F.round((F.sum(merged_sdf1[\"Young adult\"] * merged_sdf1.ratio) / F.sum(merged_sdf1.ratio)), 2).alias(\"yng_adult_pop\"),\n",
    "        F.round((F.sum(merged_sdf1[\"Middle age\"] * merged_sdf1.ratio) / F.sum(merged_sdf1.ratio)), 2).alias(\"mid_age_pop\"),\n",
    "        F.round((F.sum(merged_sdf1.Old * merged_sdf1.ratio) / F.sum(merged_sdf1.ratio)), 2).alias(\"old_pop\")\n",
    "    )\n",
    "    \n",
    "postcode_pop_sdf.orderBy(\"postcode\").show()"
   ]
  },
  {
   "cell_type": "markdown",
   "metadata": {},
   "source": [
    "Visualize the population variation for each SA2 code within each postcode"
   ]
  },
  {
   "cell_type": "code",
   "execution_count": 8,
   "metadata": {},
   "outputs": [],
   "source": [
    "pop_diffs = merged_sdf1.groupBy(\"postcode\").agg(\n",
    "    (F.max(merged_sdf1.Total) - F.min(merged_sdf1.Total)).alias(\"Total\"),\n",
    "    (F.max(merged_sdf1[\"Under 10\"]) - F.min(merged_sdf1[\"Under 10\"])).alias(\"Under 10\"),\n",
    "    (F.max(merged_sdf1.Adolescent) - F.min(merged_sdf1.Adolescent)).alias(\"Adolescent\"),\n",
    "    (F.max(merged_sdf1[\"Young adult\"]) - F.min(merged_sdf1[\"Young adult\"])).alias(\"Young adult\"),\n",
    "    (F.max(merged_sdf1[\"Middle age\"]) - F.min(merged_sdf1[\"Middle age\"])).alias(\"Middle age\"),\n",
    "    (F.max(merged_sdf1.Old) - F.min(merged_sdf1.Old)).alias(\"Old\")\n",
    ")"
   ]
  },
  {
   "cell_type": "code",
   "execution_count": 9,
   "metadata": {},
   "outputs": [
    {
     "name": "stderr",
     "output_type": "stream",
     "text": [
      "                                                                                \r"
     ]
    },
    {
     "data": {
      "text/html": [
       "<table border='1'>\n",
       "<tr><th>postcode</th><th>Total</th><th>Under 10</th><th>Adolescent</th><th>Young adult</th><th>Middle age</th><th>Old</th></tr>\n",
       "<tr><td>2904</td><td>5602</td><td>663</td><td>618</td><td>915</td><td>1707</td><td>1699</td></tr>\n",
       "<tr><td>3414</td><td>0</td><td>0</td><td>0</td><td>0</td><td>0</td><td>0</td></tr>\n",
       "<tr><td>2756</td><td>19732</td><td>2529</td><td>3149</td><td>3627</td><td>6542</td><td>5045</td></tr>\n",
       "<tr><td>3015</td><td>3899</td><td>721</td><td>721</td><td>50</td><td>2750</td><td>243</td></tr>\n",
       "<tr><td>3441</td><td>954</td><td>61</td><td>175</td><td>334</td><td>306</td><td>78</td></tr>\n",
       "</table>\n"
      ],
      "text/plain": [
       "+--------+-----+--------+----------+-----------+----------+----+\n",
       "|postcode|Total|Under 10|Adolescent|Young adult|Middle age| Old|\n",
       "+--------+-----+--------+----------+-----------+----------+----+\n",
       "|    2904| 5602|     663|       618|        915|      1707|1699|\n",
       "|    3414|    0|       0|         0|          0|         0|   0|\n",
       "|    2756|19732|    2529|      3149|       3627|      6542|5045|\n",
       "|    3015| 3899|     721|       721|         50|      2750| 243|\n",
       "|    3441|  954|      61|       175|        334|       306|  78|\n",
       "+--------+-----+--------+----------+-----------+----------+----+"
      ]
     },
     "execution_count": 9,
     "metadata": {},
     "output_type": "execute_result"
    }
   ],
   "source": [
    "pop_diffs.limit(5)"
   ]
  },
  {
   "cell_type": "code",
   "execution_count": 10,
   "metadata": {},
   "outputs": [
    {
     "name": "stderr",
     "output_type": "stream",
     "text": [
      "/tmp/ipykernel_2594/1227780644.py:3: UserWarning: FixedFormatter should only be used together with FixedLocator\n",
      "  ax1.set_yticklabels(['Total', 'Under 10',\n"
     ]
    },
    {
     "data": {
      "image/png": "[encoded data removed]",
      "text/plain": [
       "<Figure size 360x216 with 1 Axes>"
      ]
     },
     "metadata": {
      "needs_background": "light"
     },
     "output_type": "display_data"
    }
   ],
   "source": [
    "fig1 = plt.figure(figsize = (5, 3))\n",
    "ax1 = fig1.add_axes([0, 0, 1, 1])\n",
    "ax1.set_yticklabels(['Total', 'Under 10',\n",
    "                    'Adolescent', 'Young adult',\n",
    "                    'Middle age', 'Old'])\n",
    "bp = ax1.boxplot(pop_diffs.drop(\"postcode\").toPandas(), vert=0)\n",
    "\n",
    "plt.show()"
   ]
  },
  {
   "cell_type": "markdown",
   "metadata": {},
   "source": [
    "## Join postcode data with income data"
   ]
  },
  {
   "cell_type": "code",
   "execution_count": 11,
   "metadata": {},
   "outputs": [
    {
     "name": "stdout",
     "output_type": "stream",
     "text": [
      "2239\n"
     ]
    },
    {
     "data": {
      "text/html": [
       "<table border='1'>\n",
       "<tr><th>sa2_code</th><th>num_earners</th><th>median_age</th><th>median_income</th><th>mean_income</th></tr>\n",
       "<tr><td>206041126</td><td>14398</td><td>32</td><td>51696</td><td>73634</td></tr>\n",
       "<tr><td>203021046</td><td>6701</td><td>45</td><td>57818</td><td>83648</td></tr>\n",
       "<tr><td>202011020</td><td>7944</td><td>47</td><td>46635</td><td>57894</td></tr>\n",
       "<tr><td>208031187</td><td>3158</td><td>43</td><td>52094</td><td>58104</td></tr>\n",
       "<tr><td>203021047</td><td>8152</td><td>42</td><td>47651</td><td>56636</td></tr>\n",
       "</table>\n"
      ],
      "text/plain": [
       "+---------+-----------+----------+-------------+-----------+\n",
       "| sa2_code|num_earners|median_age|median_income|mean_income|\n",
       "+---------+-----------+----------+-------------+-----------+\n",
       "|206041126|      14398|        32|        51696|      73634|\n",
       "|203021046|       6701|        45|        57818|      83648|\n",
       "|202011020|       7944|        47|        46635|      57894|\n",
       "|208031187|       3158|        43|        52094|      58104|\n",
       "|203021047|       8152|        42|        47651|      56636|\n",
       "+---------+-----------+----------+-------------+-----------+"
      ]
     },
     "execution_count": 11,
     "metadata": {},
     "output_type": "execute_result"
    }
   ],
   "source": [
    "incomedf = spark.read.parquet(\"../data/curated/incomedf.parquet/\")\n",
    "print(incomedf.count())\n",
    "incomedf.limit(5)"
   ]
  },
  {
   "cell_type": "code",
   "execution_count": 12,
   "metadata": {},
   "outputs": [],
   "source": [
    "merged_sdf2 = incomedf.join(postcode_ratio_sdf, on=\"sa2_code\", how=\"inner\")"
   ]
  },
  {
   "cell_type": "code",
   "execution_count": 13,
   "metadata": {},
   "outputs": [
    {
     "data": {
      "text/plain": [
       "2010"
      ]
     },
     "execution_count": 13,
     "metadata": {},
     "output_type": "execute_result"
    }
   ],
   "source": [
    "merged_sdf2.groupBy(\"sa2_code\").count().count()"
   ]
  },
  {
   "cell_type": "markdown",
   "metadata": {},
   "source": [
    "Lost 229 records for which there were no sa2 codes"
   ]
  },
  {
   "cell_type": "code",
   "execution_count": 14,
   "metadata": {},
   "outputs": [
    {
     "data": {
      "text/html": [
       "<table border='1'>\n",
       "<tr><th>sa2_code</th><th>num_earners</th><th>median_age</th><th>median_income</th><th>mean_income</th><th>postcode</th><th>sa2_name</th><th>ratio</th></tr>\n",
       "<tr><td>701011002</td><td>5909</td><td>33</td><td>60937</td><td>87791</td><td>0800</td><td>Darwin City</td><td>1.0</td></tr>\n",
       "<tr><td>701021018</td><td>1166</td><td>43</td><td>58753</td><td>69389</td><td>0810</td><td>Jingili</td><td>0.061562</td></tr>\n",
       "<tr><td>701021010</td><td>1387</td><td>40</td><td>54188</td><td>61411</td><td>0810</td><td>Alawa</td><td>0.0719971</td></tr>\n",
       "<tr><td>701021013</td><td>2395</td><td>39</td><td>52335</td><td>67299</td><td>0810</td><td>Brinkin - Nakara</td><td>0.0963918</td></tr>\n",
       "<tr><td>701021016</td><td>1878</td><td>36</td><td>55124</td><td>65051</td><td>0810</td><td>Coconut Grove</td><td>0.0964936</td></tr>\n",
       "</table>\n"
      ],
      "text/plain": [
       "+---------+-----------+----------+-------------+-----------+--------+----------------+---------+\n",
       "| sa2_code|num_earners|median_age|median_income|mean_income|postcode|        sa2_name|    ratio|\n",
       "+---------+-----------+----------+-------------+-----------+--------+----------------+---------+\n",
       "|701011002|       5909|        33|        60937|      87791|    0800|     Darwin City|      1.0|\n",
       "|701021018|       1166|        43|        58753|      69389|    0810|         Jingili| 0.061562|\n",
       "|701021010|       1387|        40|        54188|      61411|    0810|           Alawa|0.0719971|\n",
       "|701021013|       2395|        39|        52335|      67299|    0810|Brinkin - Nakara|0.0963918|\n",
       "|701021016|       1878|        36|        55124|      65051|    0810|   Coconut Grove|0.0964936|\n",
       "+---------+-----------+----------+-------------+-----------+--------+----------------+---------+"
      ]
     },
     "execution_count": 14,
     "metadata": {},
     "output_type": "execute_result"
    }
   ],
   "source": [
    "merged_sdf2.orderBy(\"postcode\").limit(5)"
   ]
  },
  {
   "cell_type": "markdown",
   "metadata": {},
   "source": [
    "Again, use the weighted average approach for the income data"
   ]
  },
  {
   "cell_type": "code",
   "execution_count": 15,
   "metadata": {},
   "outputs": [
    {
     "name": "stdout",
     "output_type": "stream",
     "text": [
      "+--------+-----------+----------+-------------+-----------+\n",
      "|postcode|num_earners|median_age|median_income|mean_income|\n",
      "+--------+-----------+----------+-------------+-----------+\n",
      "|    0800|     5909.0|      33.0|      60937.0|    87791.0|\n",
      "|    0810|    1904.63|      39.1|      59653.0|   70087.24|\n",
      "|    0812|    2524.63|     41.61|     61325.63|   68985.95|\n",
      "|    0820|    2420.53|      39.1|     63857.71|   82498.57|\n",
      "|    0822|     1029.6|     39.79|     38878.56|   49409.36|\n",
      "|    0828|      686.0|      43.0|      58107.0|    70769.0|\n",
      "|    0829|    2606.59|     41.67|     66021.74|   75514.21|\n",
      "|    0830|    2132.04|     38.08|     63842.77|   71009.53|\n",
      "|    0832|    3073.36|     36.21|     69019.03|   77275.87|\n",
      "|    0835|    2407.18|     42.77|     64587.37|    73991.2|\n",
      "|    0836|     5418.0|      43.0|      65045.0|    75486.0|\n",
      "|    0837|     2474.0|      43.0|      61215.0|    69902.0|\n",
      "|    0838|     2474.0|      43.0|      61215.0|    69902.0|\n",
      "|    0840|     2189.0|      46.0|      51780.0|    59280.0|\n",
      "|    0841|     2474.0|      43.0|      61215.0|    69902.0|\n",
      "|    0845|     2189.0|      46.0|      51780.0|    59280.0|\n",
      "|    0846|     2189.0|      46.0|      51780.0|    59280.0|\n",
      "|    0847|      406.0|      43.0|      37576.0|    42447.0|\n",
      "|    0850|     5635.0|      38.0|      59864.0|    63788.0|\n",
      "|    0852|    1030.06|     37.38|     36561.19|   45250.06|\n",
      "+--------+-----------+----------+-------------+-----------+\n",
      "only showing top 20 rows\n",
      "\n"
     ]
    }
   ],
   "source": [
    "postcode_income_sdf = merged_sdf2.groupBy(\"postcode\") \\\n",
    "    .agg(\n",
    "        F.round((F.sum(merged_sdf2.num_earners * merged_sdf2.ratio) / F.sum(merged_sdf2.ratio)), 2).alias(\"num_earners\"),\n",
    "        F.round((F.sum(merged_sdf2.median_age * merged_sdf2.ratio) / F.sum(merged_sdf2.ratio)), 2).alias(\"median_age\"),\n",
    "        F.round((F.sum(merged_sdf2.median_income * merged_sdf2.ratio) / F.sum(merged_sdf2.ratio)), 2).alias(\"median_income\"),\n",
    "        F.round((F.sum(merged_sdf2.mean_income * merged_sdf2.ratio) / F.sum(merged_sdf2.ratio)), 2).alias(\"mean_income\")\n",
    "    )\n",
    "    \n",
    "postcode_income_sdf.orderBy(\"postcode\").show()"
   ]
  },
  {
   "cell_type": "markdown",
   "metadata": {},
   "source": [
    "Visualize the income variation for each SA2 code within each postcode"
   ]
  },
  {
   "cell_type": "code",
   "execution_count": 16,
   "metadata": {},
   "outputs": [],
   "source": [
    "income_diffs = merged_sdf2.groupBy(\"postcode\").agg(\n",
    "    (F.max(merged_sdf2.num_earners) - F.min(merged_sdf2.num_earners)).alias(\"num_earners\"),\n",
    "    (F.max(merged_sdf2.median_age) - F.min(merged_sdf2.median_age)).alias(\"median_age\"),\n",
    "    (F.max(merged_sdf2.median_income) - F.min(merged_sdf2.median_income)).alias(\"median_income\"),\n",
    "    (F.max(merged_sdf2.mean_income) - F.min(merged_sdf2.mean_income)).alias(\"mean_income\")\n",
    ")"
   ]
  },
  {
   "cell_type": "code",
   "execution_count": 17,
   "metadata": {},
   "outputs": [
    {
     "data": {
      "text/html": [
       "<table border='1'>\n",
       "<tr><th>postcode</th><th>num_earners</th><th>median_age</th><th>median_income</th><th>mean_income</th></tr>\n",
       "<tr><td>2904</td><td>2572</td><td>6</td><td>8276</td><td>14730</td></tr>\n",
       "<tr><td>3414</td><td>0</td><td>0</td><td>0</td><td>0</td></tr>\n",
       "<tr><td>2756</td><td>12552</td><td>9</td><td>9580</td><td>32373</td></tr>\n",
       "<tr><td>3015</td><td>3892</td><td>3</td><td>12793</td><td>18828</td></tr>\n",
       "<tr><td>3441</td><td>504</td><td>3</td><td>4528</td><td>19322</td></tr>\n",
       "</table>\n"
      ],
      "text/plain": [
       "+--------+-----------+----------+-------------+-----------+\n",
       "|postcode|num_earners|median_age|median_income|mean_income|\n",
       "+--------+-----------+----------+-------------+-----------+\n",
       "|    2904|       2572|         6|         8276|      14730|\n",
       "|    3414|          0|         0|            0|          0|\n",
       "|    2756|      12552|         9|         9580|      32373|\n",
       "|    3015|       3892|         3|        12793|      18828|\n",
       "|    3441|        504|         3|         4528|      19322|\n",
       "+--------+-----------+----------+-------------+-----------+"
      ]
     },
     "execution_count": 17,
     "metadata": {},
     "output_type": "execute_result"
    }
   ],
   "source": [
    "income_diffs.limit(5)"
   ]
  },
  {
   "cell_type": "code",
   "execution_count": 18,
   "metadata": {},
   "outputs": [
    {
     "name": "stderr",
     "output_type": "stream",
     "text": [
      "/tmp/ipykernel_2594/3120451410.py:3: UserWarning: FixedFormatter should only be used together with FixedLocator\n",
      "  ax2.set_yticklabels(['num_earners', 'median_age',\n"
     ]
    },
    {
     "data": {
      "image/png": "[encoded data removed]",
      "text/plain": [
       "<Figure size 360x216 with 1 Axes>"
      ]
     },
     "metadata": {
      "needs_background": "light"
     },
     "output_type": "display_data"
    }
   ],
   "source": [
    "fig2 = plt.figure(figsize = (5, 3))\n",
    "ax2 = fig2.add_axes([0, 0, 1, 1])\n",
    "ax2.set_yticklabels(['num_earners', 'median_age',\n",
    "                    'median_income', 'mean_income'])\n",
    "bp = ax2.boxplot(income_diffs.drop(\"postcode\").toPandas(), vert=0)\n",
    "\n",
    "plt.show()"
   ]
  },
  {
   "cell_type": "markdown",
   "metadata": {},
   "source": [
    "Combine all external data in a single spark dataframe"
   ]
  },
  {
   "cell_type": "code",
   "execution_count": 19,
   "metadata": {},
   "outputs": [
    {
     "name": "stdout",
     "output_type": "stream",
     "text": [
      "2422 2493\n"
     ]
    }
   ],
   "source": [
    "print(postcode_pop_sdf.count(), postcode_income_sdf.count())"
   ]
  },
  {
   "cell_type": "code",
   "execution_count": 20,
   "metadata": {},
   "outputs": [
    {
     "name": "stdout",
     "output_type": "stream",
     "text": [
      "2494\n"
     ]
    },
    {
     "data": {
      "text/html": [
       "<table border='1'>\n",
       "<tr><th>postcode</th><th>total_pop</th><th>under10_pop</th><th>adolsc_pop</th><th>yng_adult_pop</th><th>mid_age_pop</th><th>old_pop</th><th>num_earners</th><th>median_age</th><th>median_income</th><th>mean_income</th></tr>\n",
       "<tr><td>0800</td><td>7679.0</td><td>474.0</td><td>325.0</td><td>3322.0</td><td>2652.0</td><td>906.0</td><td>5909.0</td><td>33.0</td><td>60937.0</td><td>87791.0</td></tr>\n",
       "<tr><td>0810</td><td>3121.46</td><td>419.06</td><td>345.41</td><td>819.6</td><td>1043.92</td><td>493.46</td><td>1904.63</td><td>39.1</td><td>59653.0</td><td>70087.24</td></tr>\n",
       "<tr><td>0812</td><td>4308.01</td><td>621.82</td><td>571.11</td><td>844.5</td><td>1475.39</td><td>795.2</td><td>2524.63</td><td>41.61</td><td>61325.63</td><td>68985.95</td></tr>\n",
       "<tr><td>0820</td><td>3420.98</td><td>358.95</td><td>316.31</td><td>1032.65</td><td>1172.7</td><td>540.38</td><td>2420.53</td><td>39.1</td><td>63857.71</td><td>82498.57</td></tr>\n",
       "<tr><td>0822</td><td>5099.87</td><td>767.1</td><td>868.74</td><td>1295.53</td><td>1631.41</td><td>537.08</td><td>1029.6</td><td>39.79</td><td>38878.56</td><td>49409.36</td></tr>\n",
       "</table>\n"
      ],
      "text/plain": [
       "+--------+---------+-----------+----------+-------------+-----------+-------+-----------+----------+-------------+-----------+\n",
       "|postcode|total_pop|under10_pop|adolsc_pop|yng_adult_pop|mid_age_pop|old_pop|num_earners|median_age|median_income|mean_income|\n",
       "+--------+---------+-----------+----------+-------------+-----------+-------+-----------+----------+-------------+-----------+\n",
       "|    0800|   7679.0|      474.0|     325.0|       3322.0|     2652.0|  906.0|     5909.0|      33.0|      60937.0|    87791.0|\n",
       "|    0810|  3121.46|     419.06|    345.41|        819.6|    1043.92| 493.46|    1904.63|      39.1|      59653.0|   70087.24|\n",
       "|    0812|  4308.01|     621.82|    571.11|        844.5|    1475.39|  795.2|    2524.63|     41.61|     61325.63|   68985.95|\n",
       "|    0820|  3420.98|     358.95|    316.31|      1032.65|     1172.7| 540.38|    2420.53|      39.1|     63857.71|   82498.57|\n",
       "|    0822|  5099.87|      767.1|    868.74|      1295.53|    1631.41| 537.08|     1029.6|     39.79|     38878.56|   49409.36|\n",
       "+--------+---------+-----------+----------+-------------+-----------+-------+-----------+----------+-------------+-----------+"
      ]
     },
     "execution_count": 20,
     "metadata": {},
     "output_type": "execute_result"
    }
   ],
   "source": [
    "external_data_sdf = postcode_pop_sdf.join(postcode_income_sdf, on=\"postcode\", how=\"full\")\n",
    "print(external_data_sdf.count())\n",
    "external_data_sdf.limit(5)"
   ]
  },
  {
   "cell_type": "markdown",
   "metadata": {},
   "source": [
    "## Join External data with existing data"
   ]
  },
  {
   "cell_type": "code",
   "execution_count": 21,
   "metadata": {},
   "outputs": [
    {
     "name": "stdout",
     "output_type": "stream",
     "text": [
      "13613661\n"
     ]
    },
    {
     "name": "stderr",
     "output_type": "stream",
     "text": [
      "                                                                                \r"
     ]
    },
    {
     "data": {
      "text/html": [
       "<table border='1'>\n",
       "<tr><th>merchant_abn</th><th>consumer_id</th><th>user_id</th><th>dollar_value</th><th>order_id</th><th>order_datetime</th><th>customer_name</th><th>address</th><th>state</th><th>postcode</th><th>gender</th><th>company_name</th><th>tags</th><th>take_rate</th><th>revenue_band</th></tr>\n",
       "<tr><td>94472466107</td><td>30</td><td>13842</td><td>36.094519921528466</td><td>0dc80e20-901c-410...</td><td>2021-08-20</td><td>Tamara Stewart</td><td>352 Jessica Summit</td><td>VIC</td><td>3612</td><td>Female</td><td>Eu Dolor Egestas PC</td><td>cable, satellite,...</td><td> 6.23</td><td> a</td></tr>\n",
       "<tr><td>21532935983</td><td>30</td><td>13842</td><td>71.1148505207073</td><td>5fbb2316-39b7-43b...</td><td>2021-08-21</td><td>Tamara Stewart</td><td>352 Jessica Summit</td><td>VIC</td><td>3612</td><td>Female</td><td>Eleifend Nec Inco...</td><td>cable, satellite,...</td><td> 5.58</td><td> a</td></tr>\n",
       "<tr><td>60956456424</td><td>30</td><td>13842</td><td>56.52469841268393</td><td>60bc5068-e775-4c4...</td><td>2021-08-19</td><td>Tamara Stewart</td><td>352 Jessica Summit</td><td>VIC</td><td>3612</td><td>Female</td><td>Ultricies Digniss...</td><td>gift, card, novel...</td><td> 4.69</td><td> b</td></tr>\n",
       "<tr><td>39211701585</td><td>30</td><td>13842</td><td>105.80444352294495</td><td>810594a7-c21a-4dd...</td><td>2021-08-22</td><td>Tamara Stewart</td><td>352 Jessica Summit</td><td>VIC</td><td>3612</td><td>Female</td><td>Diam Eu Dolor PC</td><td>shoe shops</td><td> 4.76</td><td> b</td></tr>\n",
       "<tr><td>27326652377</td><td>30</td><td>13842</td><td>1179.9080321368747</td><td>7ef554a5-02a8-435...</td><td>2021-08-22</td><td>Tamara Stewart</td><td>352 Jessica Summit</td><td>VIC</td><td>3612</td><td>Female</td><td>Tellus Aenean Cor...</td><td>music shops - mus...</td><td> 6.33</td><td> a</td></tr>\n",
       "</table>\n"
      ],
      "text/plain": [
       "+------------+-----------+-------+------------------+--------------------+--------------+--------------+------------------+-----+--------+------+--------------------+--------------------+---------+------------+\n",
       "|merchant_abn|consumer_id|user_id|      dollar_value|            order_id|order_datetime| customer_name|           address|state|postcode|gender|        company_name|                tags|take_rate|revenue_band|\n",
       "+------------+-----------+-------+------------------+--------------------+--------------+--------------+------------------+-----+--------+------+--------------------+--------------------+---------+------------+\n",
       "| 94472466107|         30|  13842|36.094519921528466|0dc80e20-901c-410...|    2021-08-20|Tamara Stewart|352 Jessica Summit|  VIC|    3612|Female| Eu Dolor Egestas PC|cable, satellite,...|     6.23|           a|\n",
       "| 21532935983|         30|  13842|  71.1148505207073|5fbb2316-39b7-43b...|    2021-08-21|Tamara Stewart|352 Jessica Summit|  VIC|    3612|Female|Eleifend Nec Inco...|cable, satellite,...|     5.58|           a|\n",
       "| 60956456424|         30|  13842| 56.52469841268393|60bc5068-e775-4c4...|    2021-08-19|Tamara Stewart|352 Jessica Summit|  VIC|    3612|Female|Ultricies Digniss...|gift, card, novel...|     4.69|           b|\n",
       "| 39211701585|         30|  13842|105.80444352294495|810594a7-c21a-4dd...|    2021-08-22|Tamara Stewart|352 Jessica Summit|  VIC|    3612|Female|    Diam Eu Dolor PC|          shoe shops|     4.76|           b|\n",
       "| 27326652377|         30|  13842|1179.9080321368747|7ef554a5-02a8-435...|    2021-08-22|Tamara Stewart|352 Jessica Summit|  VIC|    3612|Female|Tellus Aenean Cor...|music shops - mus...|     6.33|           a|\n",
       "+------------+-----------+-------+------------------+--------------------+--------------+--------------+------------------+-----+--------+------+--------------------+--------------------+---------+------------+"
      ]
     },
     "execution_count": 21,
     "metadata": {},
     "output_type": "execute_result"
    }
   ],
   "source": [
    "sdf = spark.read.parquet(\"../data/curated/mergedf.parquet/\")\n",
    "print(sdf.count())\n",
    "sdf.limit(5)"
   ]
  },
  {
   "cell_type": "code",
   "execution_count": 22,
   "metadata": {},
   "outputs": [
    {
     "name": "stderr",
     "output_type": "stream",
     "text": [
      "                                                                                \r"
     ]
    },
    {
     "name": "stdout",
     "output_type": "stream",
     "text": [
      "10634088\n"
     ]
    },
    {
     "name": "stderr",
     "output_type": "stream",
     "text": [
      "                                                                                \r"
     ]
    },
    {
     "data": {
      "text/html": [
       "<table border='1'>\n",
       "<tr><th>postcode</th><th>merchant_abn</th><th>consumer_id</th><th>user_id</th><th>dollar_value</th><th>order_id</th><th>order_datetime</th><th>customer_name</th><th>address</th><th>state</th><th>gender</th><th>company_name</th><th>tags</th><th>take_rate</th><th>revenue_band</th><th>total_pop</th><th>under10_pop</th><th>adolsc_pop</th><th>yng_adult_pop</th><th>mid_age_pop</th><th>old_pop</th><th>num_earners</th><th>median_age</th><th>median_income</th><th>mean_income</th></tr>\n",
       "<tr><td>7252</td><td>40559163709</td><td>71385</td><td>13049</td><td>499.22801818354054</td><td>753b49dc-b04a-453...</td><td>2021-08-19</td><td>Joshua Hawkins</td><td>7313 Edwards Isle...</td><td>TAS</td><td>Male</td><td>Maecenas Iaculis ...</td><td>computers, comput...</td><td> 1.50</td><td> c</td><td>6207.41</td><td>648.47</td><td>734.56</td><td>875.38</td><td>1994.61</td><td>1954.4</td><td>2831.51</td><td>48.38</td><td>44037.3</td><td>51689.53</td></tr>\n",
       "<tr><td>7252</td><td>49891706470</td><td>71385</td><td>13049</td><td>27.59743014174974</td><td>19c2c44d-4d9b-4e4...</td><td>2021-08-22</td><td>Joshua Hawkins</td><td>7313 Edwards Isle...</td><td>TAS</td><td>Male</td><td>Non Vestibulum In...</td><td>tent and awning s...</td><td> 5.80</td><td> a</td><td>6207.41</td><td>648.47</td><td>734.56</td><td>875.38</td><td>1994.61</td><td>1954.4</td><td>2831.51</td><td>48.38</td><td>44037.3</td><td>51689.53</td></tr>\n",
       "<tr><td>7252</td><td>45629217853</td><td>71385</td><td>13049</td><td>23.56428590811388</td><td>9ff40986-52cc-47d...</td><td>2021-08-22</td><td>Joshua Hawkins</td><td>7313 Edwards Isle...</td><td>TAS</td><td>Male</td><td>Lacus Consulting</td><td>gift, card, novel...</td><td> 6.98</td><td> a</td><td>6207.41</td><td>648.47</td><td>734.56</td><td>875.38</td><td>1994.61</td><td>1954.4</td><td>2831.51</td><td>48.38</td><td>44037.3</td><td>51689.53</td></tr>\n",
       "<tr><td>7252</td><td>49891706470</td><td>71385</td><td>13049</td><td>13.272207348909346</td><td>233195e0-3482-451...</td><td>2021-07-15</td><td>Joshua Hawkins</td><td>7313 Edwards Isle...</td><td>TAS</td><td>Male</td><td>Non Vestibulum In...</td><td>tent and awning s...</td><td> 5.80</td><td> a</td><td>6207.41</td><td>648.47</td><td>734.56</td><td>875.38</td><td>1994.61</td><td>1954.4</td><td>2831.51</td><td>48.38</td><td>44037.3</td><td>51689.53</td></tr>\n",
       "<tr><td>7252</td><td>80324045558</td><td>71385</td><td>13049</td><td>139.35678856727068</td><td>3fd87986-f437-42f...</td><td>2021-07-15</td><td>Joshua Hawkins</td><td>7313 Edwards Isle...</td><td>TAS</td><td>Male</td><td>Ipsum Dolor Sit C...</td><td>gift, card, novel...</td><td> 1.47</td><td> c</td><td>6207.41</td><td>648.47</td><td>734.56</td><td>875.38</td><td>1994.61</td><td>1954.4</td><td>2831.51</td><td>48.38</td><td>44037.3</td><td>51689.53</td></tr>\n",
       "</table>\n"
      ],
      "text/plain": [
       "+--------+------------+-----------+-------+------------------+--------------------+--------------+--------------+--------------------+-----+------+--------------------+--------------------+---------+------------+---------+-----------+----------+-------------+-----------+-------+-----------+----------+-------------+-----------+\n",
       "|postcode|merchant_abn|consumer_id|user_id|      dollar_value|            order_id|order_datetime| customer_name|             address|state|gender|        company_name|                tags|take_rate|revenue_band|total_pop|under10_pop|adolsc_pop|yng_adult_pop|mid_age_pop|old_pop|num_earners|median_age|median_income|mean_income|\n",
       "+--------+------------+-----------+-------+------------------+--------------------+--------------+--------------+--------------------+-----+------+--------------------+--------------------+---------+------------+---------+-----------+----------+-------------+-----------+-------+-----------+----------+-------------+-----------+\n",
       "|    7252| 40559163709|      71385|  13049|499.22801818354054|753b49dc-b04a-453...|    2021-08-19|Joshua Hawkins|7313 Edwards Isle...|  TAS|  Male|Maecenas Iaculis ...|computers, comput...|     1.50|           c|  6207.41|     648.47|    734.56|       875.38|    1994.61| 1954.4|    2831.51|     48.38|      44037.3|   51689.53|\n",
       "|    7252| 49891706470|      71385|  13049| 27.59743014174974|19c2c44d-4d9b-4e4...|    2021-08-22|Joshua Hawkins|7313 Edwards Isle...|  TAS|  Male|Non Vestibulum In...|tent and awning s...|     5.80|           a|  6207.41|     648.47|    734.56|       875.38|    1994.61| 1954.4|    2831.51|     48.38|      44037.3|   51689.53|\n",
       "|    7252| 45629217853|      71385|  13049| 23.56428590811388|9ff40986-52cc-47d...|    2021-08-22|Joshua Hawkins|7313 Edwards Isle...|  TAS|  Male|    Lacus Consulting|gift, card, novel...|     6.98|           a|  6207.41|     648.47|    734.56|       875.38|    1994.61| 1954.4|    2831.51|     48.38|      44037.3|   51689.53|\n",
       "|    7252| 49891706470|      71385|  13049|13.272207348909346|233195e0-3482-451...|    2021-07-15|Joshua Hawkins|7313 Edwards Isle...|  TAS|  Male|Non Vestibulum In...|tent and awning s...|     5.80|           a|  6207.41|     648.47|    734.56|       875.38|    1994.61| 1954.4|    2831.51|     48.38|      44037.3|   51689.53|\n",
       "|    7252| 80324045558|      71385|  13049|139.35678856727068|3fd87986-f437-42f...|    2021-07-15|Joshua Hawkins|7313 Edwards Isle...|  TAS|  Male|Ipsum Dolor Sit C...|gift, card, novel...|     1.47|           c|  6207.41|     648.47|    734.56|       875.38|    1994.61| 1954.4|    2831.51|     48.38|      44037.3|   51689.53|\n",
       "+--------+------------+-----------+-------+------------------+--------------------+--------------+--------------+--------------------+-----+------+--------------------+--------------------+---------+------------+---------+-----------+----------+-------------+-----------+-------+-----------+----------+-------------+-----------+"
      ]
     },
     "execution_count": 22,
     "metadata": {},
     "output_type": "execute_result"
    }
   ],
   "source": [
    "finaldf = sdf.join(external_data_sdf, on=\"postcode\", how=\"inner\")\n",
    "print(finaldf.count())\n",
    "finaldf.limit(5)"
   ]
  },
  {
   "cell_type": "markdown",
   "metadata": {},
   "source": [
    "Null values occur because for some postcodes, population/income data did not exist."
   ]
  },
  {
   "cell_type": "code",
   "execution_count": 23,
   "metadata": {},
   "outputs": [
    {
     "name": "stdout",
     "output_type": "stream",
     "text": [
      "22/10/12 14:25:26 WARN package: Truncated the string representation of a plan since it was too large. This behavior can be adjusted by setting 'spark.sql.debug.maxToStringFields'.\n"
     ]
    },
    {
     "name": "stderr",
     "output_type": "stream",
     "text": [
      "                                                                                \r"
     ]
    },
    {
     "data": {
      "text/plain": [
       "10320037"
      ]
     },
     "execution_count": 23,
     "metadata": {},
     "output_type": "execute_result"
    }
   ],
   "source": [
    "finaldf = finaldf.dropna(how=\"any\")\n",
    "finaldf.count()"
   ]
  },
  {
   "cell_type": "markdown",
   "metadata": {},
   "source": [
    "Removing records containing null values resulted in the loss of 314,051 records."
   ]
  }
 ],
 "metadata": {
  "kernelspec": {
   "display_name": "Python 3 (ipykernel)",
   "language": "python",
   "name": "python3"
  },
  "language_info": {
   "codemirror_mode": {
    "name": "ipython",
    "version": 3
   },
   "file_extension": ".py",
   "mimetype": "text/x-python",
   "name": "python",
   "nbconvert_exporter": "python",
   "pygments_lexer": "ipython3",
   "version": "3.8.10"
  },
  "vscode": {
   "interpreter": {
    "hash": "916dbcbb3f70747c44a77c7bcd40155683ae19c65e1c03b4aa3499c5328201f1"
   }
  }
 },
 "nbformat": 4,
 "nbformat_minor": 4
}
