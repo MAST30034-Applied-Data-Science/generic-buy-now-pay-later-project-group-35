{
 "cells": [
  {
   "cell_type": "code",
   "execution_count": 1,
   "metadata": {},
   "outputs": [
    {
     "name": "stdout",
     "output_type": "stream",
     "text": [
      "22/09/30 19:05:05 WARN Utils: Your hostname, AryansLaptop resolves to a loopback address: 127.0.1.1; using 172.25.9.137 instead (on interface eth0)\n",
      "22/09/30 19:05:05 WARN Utils: Set SPARK_LOCAL_IP if you need to bind to another address\n"
     ]
    },
    {
     "name": "stderr",
     "output_type": "stream",
     "text": [
      "Setting default log level to \"WARN\".\n",
      "To adjust logging level use sc.setLogLevel(newLevel). For SparkR, use setLogLevel(newLevel).\n"
     ]
    },
    {
     "name": "stdout",
     "output_type": "stream",
     "text": [
      "22/09/30 19:05:07 WARN NativeCodeLoader: Unable to load native-hadoop library for your platform... using builtin-java classes where applicable\n"
     ]
    }
   ],
   "source": [
    "from pyspark.sql import SparkSession\n",
    "from pyspark.sql.functions import * \n",
    "import matplotlib.pyplot as plt\n",
    "import pandas as pd\n",
    "import numpy as np\n",
    "from urllib.request import urlretrieve\n",
    "from owslib.wfs import WebFeatureService\n",
    "from dotenv import load_dotenv\n",
    "from pyspark.sql import functions as F\n",
    "\n",
    "# Create a spark session\n",
    "spark = (\n",
    "    SparkSession.builder.appName(\"analysis\")\n",
    "    .config(\"spark.sql.repl.eagerEval.enabled\", True) \n",
    "    .config(\"spark.sql.parquet.cacheMetadata\", \"true\")\n",
    "    .config(\"spark.sql.session.timeZone\", \"Etc/UTC\")\n",
    "    .config(\"spark.driver.memory\", \"2g\")\n",
    "    .config(\"spark.executor.memory\", \"6g\")\n",
    "    .getOrCreate()\n",
    ")"
   ]
  },
  {
   "cell_type": "markdown",
   "metadata": {},
   "source": [
    "# Transactions per merchant per month"
   ]
  },
  {
   "cell_type": "code",
   "execution_count": 2,
   "metadata": {},
   "outputs": [
    {
     "name": "stderr",
     "output_type": "stream",
     "text": [
      "                                                                                \r"
     ]
    },
    {
     "data": {
      "text/html": [
       "<table border='1'>\n",
       "<tr><th>order_datetime</th><th>merchant_abn</th><th>user_id</th><th>postcode</th><th>consumer_id</th><th>dollar_value</th><th>order_id</th><th>state</th><th>gender</th><th>company_name</th><th>tags</th><th>take_rate</th><th>revenue_band</th><th>total_pop</th><th>under10_pop</th><th>adolsc_pop</th><th>yng_adult_pop</th><th>mid_age_pop</th><th>old_pop</th><th>num_earners</th><th>median_age</th><th>median_income</th><th>mean_income</th><th>consumer_fraud_%</th><th>merchant_fraud_%</th></tr>\n",
       "<tr><td>2021-08-21</td><td>94729574738</td><td>16982</td><td>4821</td><td>23684</td><td>156.3091245999424</td><td>407ce815-54e1-4ae...</td><td>QLD</td><td>Female</td><td>Scelerisque Corpo...</td><td>computer programm...</td><td> 4.51</td><td> b</td><td>3128</td><td>468</td><td>271</td><td>707</td><td>947</td><td>735</td><td>1972</td><td>44</td><td>45102</td><td>50599</td><td>0.1</td><td>0.1</td></tr>\n",
       "<tr><td>2022-04-24</td><td>45572698303</td><td>16982</td><td>4821</td><td>23684</td><td>115.38672513864692</td><td>72160f0d-06c5-432...</td><td>QLD</td><td>Female</td><td>Libero Proin Corp.</td><td>shoe shops</td><td> 3.30</td><td> b</td><td>3128</td><td>468</td><td>271</td><td>707</td><td>947</td><td>735</td><td>1972</td><td>44</td><td>45102</td><td>50599</td><td>0.1</td><td>0.1</td></tr>\n",
       "<tr><td>2021-08-21</td><td>34695415993</td><td>16982</td><td>4821</td><td>23684</td><td>35.730567249104645</td><td>d4524ef6-1f75-4f2...</td><td>QLD</td><td>Female</td><td>Ultrices Vivamus ...</td><td>cable, satellite,...</td><td> 6.02</td><td> a</td><td>3128</td><td>468</td><td>271</td><td>707</td><td>947</td><td>735</td><td>1972</td><td>44</td><td>45102</td><td>50599</td><td>0.1</td><td>0.1</td></tr>\n",
       "<tr><td>2022-04-24</td><td>67400260923</td><td>16982</td><td>4821</td><td>23684</td><td>73.85811747094266</td><td>7acb9a9f-3ef6-4d4...</td><td>QLD</td><td>Female</td><td>Eleifend PC</td><td>computer programm...</td><td> 5.97</td><td> a</td><td>3128</td><td>468</td><td>271</td><td>707</td><td>947</td><td>735</td><td>1972</td><td>44</td><td>45102</td><td>50599</td><td>0.1</td><td>0.1</td></tr>\n",
       "<tr><td>2021-08-19</td><td>86578477987</td><td>16982</td><td>4821</td><td>23684</td><td>41.45540307953735</td><td>e8be544a-a311-432...</td><td>QLD</td><td>Female</td><td>Leo In Consulting</td><td>watch, clock, and...</td><td> 6.43</td><td> a</td><td>3128</td><td>468</td><td>271</td><td>707</td><td>947</td><td>735</td><td>1972</td><td>44</td><td>45102</td><td>50599</td><td>0.1</td><td>0.1</td></tr>\n",
       "</table>\n"
      ],
      "text/plain": [
       "+--------------+------------+-------+--------+-----------+------------------+--------------------+-----+------+--------------------+--------------------+---------+------------+---------+-----------+----------+-------------+-----------+-------+-----------+----------+-------------+-----------+----------------+----------------+\n",
       "|order_datetime|merchant_abn|user_id|postcode|consumer_id|      dollar_value|            order_id|state|gender|        company_name|                tags|take_rate|revenue_band|total_pop|under10_pop|adolsc_pop|yng_adult_pop|mid_age_pop|old_pop|num_earners|median_age|median_income|mean_income|consumer_fraud_%|merchant_fraud_%|\n",
       "+--------------+------------+-------+--------+-----------+------------------+--------------------+-----+------+--------------------+--------------------+---------+------------+---------+-----------+----------+-------------+-----------+-------+-----------+----------+-------------+-----------+----------------+----------------+\n",
       "|    2021-08-21| 94729574738|  16982|    4821|      23684| 156.3091245999424|407ce815-54e1-4ae...|  QLD|Female|Scelerisque Corpo...|computer programm...|     4.51|           b|     3128|        468|       271|          707|        947|    735|       1972|        44|        45102|      50599|             0.1|             0.1|\n",
       "|    2022-04-24| 45572698303|  16982|    4821|      23684|115.38672513864692|72160f0d-06c5-432...|  QLD|Female|  Libero Proin Corp.|          shoe shops|     3.30|           b|     3128|        468|       271|          707|        947|    735|       1972|        44|        45102|      50599|             0.1|             0.1|\n",
       "|    2021-08-21| 34695415993|  16982|    4821|      23684|35.730567249104645|d4524ef6-1f75-4f2...|  QLD|Female|Ultrices Vivamus ...|cable, satellite,...|     6.02|           a|     3128|        468|       271|          707|        947|    735|       1972|        44|        45102|      50599|             0.1|             0.1|\n",
       "|    2022-04-24| 67400260923|  16982|    4821|      23684| 73.85811747094266|7acb9a9f-3ef6-4d4...|  QLD|Female|         Eleifend PC|computer programm...|     5.97|           a|     3128|        468|       271|          707|        947|    735|       1972|        44|        45102|      50599|             0.1|             0.1|\n",
       "|    2021-08-19| 86578477987|  16982|    4821|      23684| 41.45540307953735|e8be544a-a311-432...|  QLD|Female|   Leo In Consulting|watch, clock, and...|     6.43|           a|     3128|        468|       271|          707|        947|    735|       1972|        44|        45102|      50599|             0.1|             0.1|\n",
       "+--------------+------------+-------+--------+-----------+------------------+--------------------+-----+------+--------------------+--------------------+---------+------------+---------+-----------+----------+-------------+-----------+-------+-----------+----------+-------------+-----------+----------------+----------------+"
      ]
     },
     "execution_count": 2,
     "metadata": {},
     "output_type": "execute_result"
    }
   ],
   "source": [
    "finaldf = spark.read.parquet(\"../data/curated/finaldf.parquet/\")\n",
    "finaldf.limit(5)"
   ]
  },
  {
   "cell_type": "code",
   "execution_count": 3,
   "metadata": {},
   "outputs": [
    {
     "data": {
      "text/html": [
       "<table border='1'>\n",
       "<tr><th>merchant_abn</th><th>user_id</th><th>postcode</th><th>consumer_id</th><th>dollar_value</th><th>state</th><th>gender</th><th>tags</th><th>take_rate</th><th>revenue_band</th><th>total_pop</th><th>under10_pop</th><th>adolsc_pop</th><th>yng_adult_pop</th><th>mid_age_pop</th><th>old_pop</th><th>num_earners</th><th>median_age</th><th>median_income</th><th>mean_income</th><th>year</th><th>month</th><th>day</th></tr>\n",
       "<tr><td>94729574738</td><td>16982</td><td>4821.0</td><td>23684</td><td>156.3091245999424</td><td>QLD</td><td>Female</td><td>computer programm...</td><td>4.51</td><td> b</td><td>3128</td><td>468</td><td>271</td><td>707</td><td>947</td><td>735</td><td>1972</td><td>44</td><td>45102</td><td>50599</td><td>2021</td><td>8</td><td>21</td></tr>\n",
       "<tr><td>45572698303</td><td>16982</td><td>4821.0</td><td>23684</td><td>115.38672513864692</td><td>QLD</td><td>Female</td><td>shoe shops</td><td>3.3</td><td> b</td><td>3128</td><td>468</td><td>271</td><td>707</td><td>947</td><td>735</td><td>1972</td><td>44</td><td>45102</td><td>50599</td><td>2022</td><td>4</td><td>24</td></tr>\n",
       "<tr><td>34695415993</td><td>16982</td><td>4821.0</td><td>23684</td><td>35.730567249104645</td><td>QLD</td><td>Female</td><td>cable, satellite,...</td><td>6.02</td><td> a</td><td>3128</td><td>468</td><td>271</td><td>707</td><td>947</td><td>735</td><td>1972</td><td>44</td><td>45102</td><td>50599</td><td>2021</td><td>8</td><td>21</td></tr>\n",
       "<tr><td>67400260923</td><td>16982</td><td>4821.0</td><td>23684</td><td>73.85811747094266</td><td>QLD</td><td>Female</td><td>computer programm...</td><td>5.97</td><td> a</td><td>3128</td><td>468</td><td>271</td><td>707</td><td>947</td><td>735</td><td>1972</td><td>44</td><td>45102</td><td>50599</td><td>2022</td><td>4</td><td>24</td></tr>\n",
       "<tr><td>86578477987</td><td>16982</td><td>4821.0</td><td>23684</td><td>41.45540307953735</td><td>QLD</td><td>Female</td><td>watch, clock, and...</td><td>6.43</td><td> a</td><td>3128</td><td>468</td><td>271</td><td>707</td><td>947</td><td>735</td><td>1972</td><td>44</td><td>45102</td><td>50599</td><td>2021</td><td>8</td><td>19</td></tr>\n",
       "</table>\n"
      ],
      "text/plain": [
       "+------------+-------+--------+-----------+------------------+-----+------+--------------------+---------+------------+---------+-----------+----------+-------------+-----------+-------+-----------+----------+-------------+-----------+----+-----+---+\n",
       "|merchant_abn|user_id|postcode|consumer_id|      dollar_value|state|gender|                tags|take_rate|revenue_band|total_pop|under10_pop|adolsc_pop|yng_adult_pop|mid_age_pop|old_pop|num_earners|median_age|median_income|mean_income|year|month|day|\n",
       "+------------+-------+--------+-----------+------------------+-----+------+--------------------+---------+------------+---------+-----------+----------+-------------+-----------+-------+-----------+----------+-------------+-----------+----+-----+---+\n",
       "| 94729574738|  16982|  4821.0|      23684| 156.3091245999424|  QLD|Female|computer programm...|     4.51|           b|     3128|        468|       271|          707|        947|    735|       1972|        44|        45102|      50599|2021|    8| 21|\n",
       "| 45572698303|  16982|  4821.0|      23684|115.38672513864692|  QLD|Female|          shoe shops|      3.3|           b|     3128|        468|       271|          707|        947|    735|       1972|        44|        45102|      50599|2022|    4| 24|\n",
       "| 34695415993|  16982|  4821.0|      23684|35.730567249104645|  QLD|Female|cable, satellite,...|     6.02|           a|     3128|        468|       271|          707|        947|    735|       1972|        44|        45102|      50599|2021|    8| 21|\n",
       "| 67400260923|  16982|  4821.0|      23684| 73.85811747094266|  QLD|Female|computer programm...|     5.97|           a|     3128|        468|       271|          707|        947|    735|       1972|        44|        45102|      50599|2022|    4| 24|\n",
       "| 86578477987|  16982|  4821.0|      23684| 41.45540307953735|  QLD|Female|watch, clock, and...|     6.43|           a|     3128|        468|       271|          707|        947|    735|       1972|        44|        45102|      50599|2021|    8| 19|\n",
       "+------------+-------+--------+-----------+------------------+-----+------+--------------------+---------+------------+---------+-----------+----------+-------------+-----------+-------+-----------+----------+-------------+-----------+----+-----+---+"
      ]
     },
     "execution_count": 3,
     "metadata": {},
     "output_type": "execute_result"
    }
   ],
   "source": [
    "from pyspark.sql.functions import *\n",
    "\n",
    "modeldf = finaldf.withColumn(\"year\", date_format(col(\"order_datetime\"), \"yyyy\").cast(\"long\"))\n",
    "modeldf = modeldf.withColumn(\"month\", date_format(col(\"order_datetime\"), \"MM\").cast(\"long\"))\n",
    "modeldf = modeldf.withColumn(\"day\", date_format(col(\"order_datetime\"), \"dd\").cast(\"long\"))\n",
    "\n",
    "for field in (\"postcode\",\"take_rate\"):\n",
    "    modeldf = modeldf.withColumn(\n",
    "        field,\n",
    "        col(field).cast('double')\n",
    "    )\n",
    "\n",
    "modeldf = modeldf.drop(\"order_datetime\",\"order_id\",\"company_name\",\"consumer_fraud_%\",\"merchant_fraud_%\")\n",
    "\n",
    "modeldf.limit(5)"
   ]
  },
  {
   "cell_type": "code",
   "execution_count": 4,
   "metadata": {},
   "outputs": [
    {
     "name": "stderr",
     "output_type": "stream",
     "text": [
      "                                                                                \r"
     ]
    },
    {
     "data": {
      "text/html": [
       "<table border='1'>\n",
       "<tr><th>year</th><th>month</th><th>merchant_abn</th><th>monthly_transactions</th></tr>\n",
       "<tr><td>2022</td><td>6</td><td>38736067045</td><td>418</td></tr>\n",
       "<tr><td>2021</td><td>11</td><td>90477374366</td><td>48</td></tr>\n",
       "<tr><td>2022</td><td>4</td><td>52160665475</td><td>533</td></tr>\n",
       "<tr><td>2021</td><td>5</td><td>80779820715</td><td>1467</td></tr>\n",
       "<tr><td>2021</td><td>11</td><td>74019238521</td><td>1275</td></tr>\n",
       "</table>\n"
      ],
      "text/plain": [
       "+----+-----+------------+--------------------+\n",
       "|year|month|merchant_abn|monthly_transactions|\n",
       "+----+-----+------------+--------------------+\n",
       "|2022|    6| 38736067045|                 418|\n",
       "|2021|   11| 90477374366|                  48|\n",
       "|2022|    4| 52160665475|                 533|\n",
       "|2021|    5| 80779820715|                1467|\n",
       "|2021|   11| 74019238521|                1275|\n",
       "+----+-----+------------+--------------------+"
      ]
     },
     "execution_count": 4,
     "metadata": {},
     "output_type": "execute_result"
    }
   ],
   "source": [
    "modeldf = modeldf.groupBy(\"year\",\"month\",\"merchant_abn\").agg(\n",
    "    count(\"dollar_value\").alias(\"monthly_transactions\"),\n",
    ")\n",
    "\n",
    "modeldf.limit(5)"
   ]
  },
  {
   "cell_type": "code",
   "execution_count": 5,
   "metadata": {},
   "outputs": [
    {
     "data": {
      "text/plain": [
       "StructType([StructField('year', LongType(), True), StructField('month', LongType(), True), StructField('merchant_abn', LongType(), True), StructField('monthly_transactions', LongType(), False)])"
      ]
     },
     "execution_count": 5,
     "metadata": {},
     "output_type": "execute_result"
    }
   ],
   "source": [
    "modeldf.schema\n",
    "\"\"\"\n",
    "for field in ('merchant_abn',\"month\"):\n",
    "    modeldf = modeldf.withColumn(\n",
    "        field,\n",
    "        col(field).cast('string')\n",
    "    )\n",
    "\"\"\"\n",
    "modeldf.schema"
   ]
  },
  {
   "cell_type": "code",
   "execution_count": 6,
   "metadata": {},
   "outputs": [
    {
     "name": "stderr",
     "output_type": "stream",
     "text": [
      "                                                                                \r"
     ]
    },
    {
     "name": "stdout",
     "output_type": "stream",
     "text": [
      "F_onewayResult(statistic=632157.2678971967, pvalue=0.0)\n",
      "F_onewayResult(statistic=4110.335732709669, pvalue=0.0)\n",
      "F_onewayResult(statistic=331106.63752949075, pvalue=0.0)\n"
     ]
    }
   ],
   "source": [
    "from scipy.stats import f_oneway\n",
    "\n",
    "df = modeldf.toPandas()\n",
    "\n",
    "print(f_oneway(df[\"year\"],df[\"monthly_transactions\"]))\n",
    "print(f_oneway(df[\"month\"],df[\"monthly_transactions\"]))\n",
    "#print(f_oneway(df[\"day\"],df[\"daily_transactions\"]))\n",
    "print(f_oneway(df[\"merchant_abn\"],df[\"monthly_transactions\"]))"
   ]
  },
  {
   "cell_type": "code",
   "execution_count": 7,
   "metadata": {},
   "outputs": [
    {
     "name": "stderr",
     "output_type": "stream",
     "text": [
      "                                                                                \r"
     ]
    },
    {
     "name": "stdout",
     "output_type": "stream",
     "text": [
      "67541 7429\n"
     ]
    },
    {
     "name": "stderr",
     "output_type": "stream",
     "text": [
      "                                                                                \r"
     ]
    },
    {
     "data": {
      "text/html": [
       "<table border='1'>\n",
       "<tr><th>year</th><th>month</th><th>merchant_abn</th><th>monthly_transactions</th></tr>\n",
       "<tr><td>2021</td><td>2</td><td>10930486968</td><td>1</td></tr>\n",
       "<tr><td>2021</td><td>2</td><td>10945019164</td><td>2</td></tr>\n",
       "<tr><td>2021</td><td>2</td><td>11121775571</td><td>21</td></tr>\n",
       "<tr><td>2021</td><td>2</td><td>11173270682</td><td>3</td></tr>\n",
       "<tr><td>2021</td><td>2</td><td>11215815177</td><td>3</td></tr>\n",
       "</table>\n"
      ],
      "text/plain": [
       "+----+-----+------------+--------------------+\n",
       "|year|month|merchant_abn|monthly_transactions|\n",
       "+----+-----+------------+--------------------+\n",
       "|2021|    2| 10930486968|                   1|\n",
       "|2021|    2| 10945019164|                   2|\n",
       "|2021|    2| 11121775571|                  21|\n",
       "|2021|    2| 11173270682|                   3|\n",
       "|2021|    2| 11215815177|                   3|\n",
       "+----+-----+------------+--------------------+"
      ]
     },
     "execution_count": 7,
     "metadata": {},
     "output_type": "execute_result"
    }
   ],
   "source": [
    "sdf, tdf = modeldf.randomSplit([0.9, 0.1], seed=42)\n",
    "print(sdf.count(),tdf.count())\n",
    "sdf.limit(5)"
   ]
  },
  {
   "cell_type": "code",
   "execution_count": 8,
   "metadata": {},
   "outputs": [
    {
     "name": "stderr",
     "output_type": "stream",
     "text": [
      "                                                                                \r"
     ]
    },
    {
     "data": {
      "text/plain": [
       "([Row(features=DenseVector([2021.0, 2.0, 10930486968.0])),\n",
       "  Row(features=DenseVector([2021.0, 2.0, 10945019164.0])),\n",
       "  Row(features=DenseVector([2021.0, 2.0, 11121775571.0])),\n",
       "  Row(features=DenseVector([2021.0, 2.0, 11173270682.0])),\n",
       "  Row(features=DenseVector([2021.0, 2.0, 11215815177.0]))],\n",
       " [Row(monthly_transactions=1),\n",
       "  Row(monthly_transactions=2),\n",
       "  Row(monthly_transactions=21),\n",
       "  Row(monthly_transactions=3),\n",
       "  Row(monthly_transactions=3)])"
      ]
     },
     "execution_count": 8,
     "metadata": {},
     "output_type": "execute_result"
    }
   ],
   "source": [
    "# VectorAssembler creates new vectors from existing columns\n",
    "from pyspark.ml.feature import VectorAssembler\n",
    "\n",
    "features = 'features'\n",
    "input_cols = [\"year\",\"month\",\"merchant_abn\"]\n",
    "\n",
    "assembler = VectorAssembler(\n",
    "    # which column to combine\n",
    "    inputCols=input_cols, \n",
    "    # How should the combined columns be named\n",
    "    outputCol=features\n",
    ")\n",
    "\n",
    "model_sdf = assembler.transform(sdf.dropna('any'))\n",
    "# Display the features and targets for our model\n",
    "model_sdf.select('features').head(5), model_sdf.select('monthly_transactions').head(5)"
   ]
  },
  {
   "cell_type": "code",
   "execution_count": 9,
   "metadata": {},
   "outputs": [
    {
     "name": "stderr",
     "output_type": "stream",
     "text": [
      "                                                                                \r"
     ]
    }
   ],
   "source": [
    "from pyspark.ml.regression import DecisionTreeRegressor\n",
    "\n",
    "model = DecisionTreeRegressor(\n",
    "    featuresCol='features', \n",
    "    labelCol='monthly_transactions',\n",
    "    maxDepth=12,\n",
    "    maxBins=10000\n",
    ").fit(model_sdf)"
   ]
  },
  {
   "cell_type": "code",
   "execution_count": 10,
   "metadata": {},
   "outputs": [
    {
     "name": "stderr",
     "output_type": "stream",
     "text": [
      "[Stage 102:===================================================>   (16 + 1) / 17]\r"
     ]
    },
    {
     "name": "stdout",
     "output_type": "stream",
     "text": [
      "-RECORD 0------------------------\n",
      " features | [2021.0,2.0,1.156... \n",
      "only showing top 1 row\n",
      "\n"
     ]
    },
    {
     "name": "stderr",
     "output_type": "stream",
     "text": [
      "                                                                                \r"
     ]
    }
   ],
   "source": [
    "# preprocess for predictions\n",
    "predict_test = tdf.select(*input_cols)\n",
    "\n",
    "assembler = VectorAssembler(\n",
    "    inputCols=input_cols, \n",
    "    outputCol=features\n",
    ")\n",
    "\n",
    "predict_sdf = assembler.transform(predict_test).select(features)\n",
    "\n",
    "predict_sdf.show(1, vertical=True)"
   ]
  },
  {
   "cell_type": "code",
   "execution_count": 11,
   "metadata": {},
   "outputs": [
    {
     "name": "stderr",
     "output_type": "stream",
     "text": [
      "                                                                                \r"
     ]
    },
    {
     "data": {
      "text/html": [
       "<table border='1'>\n",
       "<tr><th>features</th><th>prediction</th></tr>\n",
       "<tr><td>[2021.0,2.0,1.156...</td><td>1.0</td></tr>\n",
       "<tr><td>[2021.0,2.0,1.405...</td><td>7.0</td></tr>\n",
       "<tr><td>[2021.0,2.0,3.303...</td><td>3.3636363636363638</td></tr>\n",
       "<tr><td>[2021.0,2.0,3.821...</td><td>6.02020202020202</td></tr>\n",
       "<tr><td>[2021.0,2.0,5.427...</td><td>5.612903225806452</td></tr>\n",
       "</table>\n"
      ],
      "text/plain": [
       "+--------------------+------------------+\n",
       "|            features|        prediction|\n",
       "+--------------------+------------------+\n",
       "|[2021.0,2.0,1.156...|               1.0|\n",
       "|[2021.0,2.0,1.405...|               7.0|\n",
       "|[2021.0,2.0,3.303...|3.3636363636363638|\n",
       "|[2021.0,2.0,3.821...|  6.02020202020202|\n",
       "|[2021.0,2.0,5.427...| 5.612903225806452|\n",
       "+--------------------+------------------+"
      ]
     },
     "execution_count": 11,
     "metadata": {},
     "output_type": "execute_result"
    }
   ],
   "source": [
    "predictions = model.transform(predict_sdf)\n",
    "predictions.limit(5)"
   ]
  },
  {
   "cell_type": "code",
   "execution_count": 12,
   "metadata": {},
   "outputs": [
    {
     "name": "stderr",
     "output_type": "stream",
     "text": [
      "                                                                                \r"
     ]
    },
    {
     "data": {
      "text/plain": [
       "array([[  1.        ],\n",
       "       [  7.        ],\n",
       "       [  3.36363636],\n",
       "       ...,\n",
       "       [165.40349225],\n",
       "       [165.40349225],\n",
       "       [165.40349225]])"
      ]
     },
     "execution_count": 12,
     "metadata": {},
     "output_type": "execute_result"
    }
   ],
   "source": [
    "import numpy as np\n",
    "ytest =  np.array(tdf.select(\"monthly_transactions\").collect())\n",
    "ypred = np.array(predictions.select(\"prediction\").collect())\n",
    "ypred"
   ]
  },
  {
   "cell_type": "code",
   "execution_count": 13,
   "metadata": {},
   "outputs": [
    {
     "name": "stdout",
     "output_type": "stream",
     "text": [
      "148.2\n",
      "1 14579 159.0718804684345 652.0892531543482\n"
     ]
    }
   ],
   "source": [
    "import numpy as np\n",
    "from sklearn.metrics import mean_absolute_error as mae\n",
    "print(np.round(mae(ytest,ypred), 2))\n",
    "print(ytest.min(),ytest.max(),ytest.mean(),ytest.std())"
   ]
  },
  {
   "cell_type": "code",
   "execution_count": 15,
   "metadata": {},
   "outputs": [
    {
     "name": "stderr",
     "output_type": "stream",
     "text": [
      "[Stage 139:===================================>                   (11 + 6) / 17]\r"
     ]
    },
    {
     "name": "stdout",
     "output_type": "stream",
     "text": [
      "+------------+-----+\n",
      "|merchant_abn|count|\n",
      "+------------+-----+\n",
      "| 95402237897|   10|\n",
      "| 22526511302|    7|\n",
      "| 86143428477|    7|\n",
      "| 68759076161|    7|\n",
      "| 57862801023|    7|\n",
      "| 45339304653|    7|\n",
      "| 72724420494|    6|\n",
      "| 23617533061|    6|\n",
      "| 48997695741|    6|\n",
      "| 63286055458|    6|\n",
      "| 70385277162|    6|\n",
      "| 73841664453|    6|\n",
      "| 81464461997|    6|\n",
      "| 73440621827|    6|\n",
      "| 57782107253|    6|\n",
      "| 22474703869|    6|\n",
      "| 14316652139|    6|\n",
      "| 22470136913|    6|\n",
      "| 84647062762|    6|\n",
      "| 16178821827|    6|\n",
      "+------------+-----+\n",
      "only showing top 20 rows\n",
      "\n"
     ]
    },
    {
     "name": "stderr",
     "output_type": "stream",
     "text": [
      "                                                                                \r"
     ]
    }
   ],
   "source": [
    "print(tdf.groupBy(\"merchant_abn\").count().orderBy(\"count\", ascending = False))"
   ]
  },
  {
   "cell_type": "code",
   "execution_count": 17,
   "metadata": {},
   "outputs": [
    {
     "name": "stderr",
     "output_type": "stream",
     "text": [
      "                                                                                \r"
     ]
    },
    {
     "data": {
      "text/plain": [
       "Text(0.5, 1.0, 'Number of Transactions')"
      ]
     },
     "execution_count": 17,
     "metadata": {},
     "output_type": "execute_result"
    },
    {
     "data": {
      "image/png": "[encoded data removed]",
      "text/plain": [
       "<Figure size 640x480 with 1 Axes>"
      ]
     },
     "metadata": {},
     "output_type": "display_data"
    }
   ],
   "source": [
    "# Plots the actual and predicted values for decision trees\n",
    "\n",
    "from pyspark.sql import functions as F\n",
    "import matplotlib.pyplot as plt\n",
    "\n",
    "ABN = 22526511302\n",
    "\n",
    "# gets the values in the testdataframe that match with the randomly chosen values for the constants \n",
    "actual = tdf.filter(\n",
    "    (F.col(\"merchant_abn\") == ABN)\n",
    ").orderBy(\"month\")\n",
    "actual\n",
    "\n",
    "# gets predictions for those location-month-day hour \n",
    "predict_test = actual.select(*input_cols)\n",
    "assembler = VectorAssembler(\n",
    "    inputCols=input_cols, \n",
    "    outputCol=features\n",
    ")\n",
    "predict_sdf = assembler.transform(predict_test).select(features)\n",
    "predictions = model.transform(predict_sdf)\n",
    "predictions = predictions.select(\"prediction\")\n",
    "predictions # one column array holding all the predictions for the given location-month-day rows\n",
    "\n",
    "df = actual.toPandas()\n",
    "dfp = predictions.toPandas()\n",
    "X = df[\"month\"]  \n",
    "X_axis = np.arange(len(X)) \n",
    "plt.bar(X_axis - 0.2, df[\"monthly_transactions\"], 0.4, label = 'Actual')\n",
    "plt.bar(X_axis + 0.2, dfp[\"prediction\"], 0.4, label = 'Predicted')\n",
    "plt.legend()\n",
    "plt.xlabel('month')\n",
    "plt.ylabel('Number of Transactions')\n",
    "plt.title('Number of Transactions')\n"
   ]
  }
 ],
 "metadata": {
  "kernelspec": {
   "display_name": "Python 3.8.10 64-bit",
   "language": "python",
   "name": "python3"
  },
  "language_info": {
   "codemirror_mode": {
    "name": "ipython",
    "version": 3
   },
   "file_extension": ".py",
   "mimetype": "text/x-python",
   "name": "python",
   "nbconvert_exporter": "python",
   "pygments_lexer": "ipython3",
   "version": "3.10.4"
  },
  "orig_nbformat": 4,
  "vscode": {
   "interpreter": {
    "hash": "916dbcbb3f70747c44a77c7bcd40155683ae19c65e1c03b4aa3499c5328201f1"
   }
  }
 },
 "nbformat": 4,
 "nbformat_minor": 2
}
