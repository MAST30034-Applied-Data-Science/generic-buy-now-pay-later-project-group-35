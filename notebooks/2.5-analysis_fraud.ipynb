{
 "cells": [
  {
   "cell_type": "markdown",
   "id": "5ce2c94c-d319-42e4-aa46-cafb3e8757ff",
   "metadata": {},
   "source": [
    "# Analysis"
   ]
  },
  {
   "cell_type": "markdown",
   "id": "4bb90f92",
   "metadata": {},
   "source": [
    "## Fraud Data"
   ]
  },
  {
   "cell_type": "code",
   "execution_count": 1,
   "id": "f935367d-cab0-4904-9bed-676c9eccd84b",
   "metadata": {
    "tags": []
   },
   "outputs": [
    {
     "name": "stdout",
     "output_type": "stream",
     "text": [
      "22/10/15 16:59:21 WARN Utils: Your hostname, AryansLaptop resolves to a loopback address: 127.0.1.1; using 172.29.56.17 instead (on interface eth0)\n",
      "22/10/15 16:59:21 WARN Utils: Set SPARK_LOCAL_IP if you need to bind to another address\n"
     ]
    },
    {
     "name": "stderr",
     "output_type": "stream",
     "text": [
      "Setting default log level to \"WARN\".\n",
      "To adjust logging level use sc.setLogLevel(newLevel). For SparkR, use setLogLevel(newLevel).\n"
     ]
    },
    {
     "name": "stdout",
     "output_type": "stream",
     "text": [
      "22/10/15 16:59:23 WARN NativeCodeLoader: Unable to load native-hadoop library for your platform... using builtin-java classes where applicable\n",
      "22/10/15 16:59:24 WARN Utils: Service 'SparkUI' could not bind on port 4040. Attempting port 4041.\n"
     ]
    }
   ],
   "source": [
    "from pyspark.sql import SparkSession\n",
    "from pyspark.sql.functions import * \n",
    "import matplotlib.pyplot as plt\n",
    "import pandas as pd\n",
    "import numpy as np\n",
    "from urllib.request import urlretrieve\n",
    "from owslib.wfs import WebFeatureService\n",
    "from dotenv import load_dotenv\n",
    "import datetime\n",
    "import matplotlib.pyplot as plt\n",
    "\n",
    "# Create a spark session\n",
    "spark = (\n",
    "    SparkSession.builder.appName(\"analysis\")\n",
    "    .config(\"spark.sql.repl.eagerEval.enabled\", True) \n",
    "    .config(\"spark.sql.parquet.cacheMetadata\", \"true\")\n",
    "    .config(\"spark.sql.session.timeZone\", \"Etc/UTC\")\n",
    "    .config(\"spark.driver.memory\", \"2g\")\n",
    "    .config(\"spark.executor.memory\", \"6g\")\n",
    "    .getOrCreate()\n",
    ")"
   ]
  },
  {
   "cell_type": "markdown",
   "id": "317bf9b2",
   "metadata": {},
   "source": [
    "### Consumer Fraud"
   ]
  },
  {
   "cell_type": "code",
   "execution_count": 2,
   "id": "ee8bb8bf",
   "metadata": {},
   "outputs": [
    {
     "name": "stdout",
     "output_type": "stream",
     "text": [
      "34864\n",
      "34864\n"
     ]
    },
    {
     "data": {
      "text/html": [
       "<table border='1'>\n",
       "<tr><th>user_id</th><th>order_datetime</th><th>fraud_probability</th></tr>\n",
       "<tr><td>6228</td><td>2021-12-19</td><td>97.6298077657765</td></tr>\n",
       "<tr><td>21419</td><td>2021-12-10</td><td>99.24738020302328</td></tr>\n",
       "<tr><td>5606</td><td>2021-10-17</td><td>84.05825045251777</td></tr>\n",
       "<tr><td>3101</td><td>2021-04-17</td><td>91.42192091901347</td></tr>\n",
       "<tr><td>22239</td><td>2021-10-19</td><td>94.70342477508035</td></tr>\n",
       "</table>\n"
      ],
      "text/plain": [
       "+-------+--------------+-----------------+\n",
       "|user_id|order_datetime|fraud_probability|\n",
       "+-------+--------------+-----------------+\n",
       "|   6228|    2021-12-19| 97.6298077657765|\n",
       "|  21419|    2021-12-10|99.24738020302328|\n",
       "|   5606|    2021-10-17|84.05825045251777|\n",
       "|   3101|    2021-04-17|91.42192091901347|\n",
       "|  22239|    2021-10-19|94.70342477508035|\n",
       "+-------+--------------+-----------------+"
      ]
     },
     "execution_count": 2,
     "metadata": {},
     "output_type": "execute_result"
    }
   ],
   "source": [
    "# Read in fraud data, check for nulls, and make all probabilites into double type for analysis\n",
    "\n",
    "consumerfrauddf = spark.read.option(\"header\",\"True\").csv(\"../data/tables/consumer_fraud_probability.csv\")\n",
    "print(consumerfrauddf.count())\n",
    "consumerfrauddf = consumerfrauddf.dropna(\"any\")\n",
    "print(consumerfrauddf.count())\n",
    "consumerfrauddf = consumerfrauddf.withColumn(\"fraud_probability\", col(\"fraud_probability\").cast('double'))\n",
    "consumerfrauddf.limit(5)"
   ]
  },
  {
   "cell_type": "markdown",
   "id": "716adaf3",
   "metadata": {},
   "source": [
    "No null values"
   ]
  },
  {
   "cell_type": "code",
   "execution_count": 3,
   "id": "1c146853",
   "metadata": {},
   "outputs": [
    {
     "name": "stdout",
     "output_type": "stream",
     "text": [
      "34864\n"
     ]
    }
   ],
   "source": [
    "# Check if consumer ids valid\n",
    "\n",
    "testdf = consumerfrauddf.filter(consumerfrauddf[\"user_id\"] > 0)\n",
    "testdf = testdf.filter(consumerfrauddf[\"user_id\"] <= 24081)\n",
    "print(testdf.count())"
   ]
  },
  {
   "cell_type": "markdown",
   "id": "30e218e5",
   "metadata": {},
   "source": [
    "All consumer ids valid "
   ]
  },
  {
   "cell_type": "code",
   "execution_count": 4,
   "id": "63918741",
   "metadata": {},
   "outputs": [
    {
     "data": {
      "text/plain": [
       "34864"
      ]
     },
     "execution_count": 4,
     "metadata": {},
     "output_type": "execute_result"
    }
   ],
   "source": [
    "# Check if datetimes valid\n",
    "\n",
    "start_date = datetime.datetime(2021, 2, 28) \n",
    "end_date = datetime.datetime(2022, 2, 28)\n",
    "testdf = consumerfrauddf.filter(consumerfrauddf[\"order_datetime\"] >= start_date)\n",
    "testdf = testdf.filter(consumerfrauddf[\"order_datetime\"] <= end_date)\n",
    "testdf.count()"
   ]
  },
  {
   "cell_type": "markdown",
   "id": "b361915f",
   "metadata": {},
   "source": [
    "All datetimes valid"
   ]
  },
  {
   "cell_type": "code",
   "execution_count": 5,
   "id": "a40d2dbc",
   "metadata": {},
   "outputs": [
    {
     "name": "stdout",
     "output_type": "stream",
     "text": [
      "34864\n",
      "34765\n"
     ]
    }
   ],
   "source": [
    "# Check for repeats\n",
    "\n",
    "print(consumerfrauddf.count())\n",
    "print(consumerfrauddf.distinct().count())"
   ]
  },
  {
   "cell_type": "markdown",
   "id": "79215ef7",
   "metadata": {},
   "source": [
    "99 repeat values exist"
   ]
  },
  {
   "cell_type": "code",
   "execution_count": 6,
   "id": "90d54e9f",
   "metadata": {},
   "outputs": [
    {
     "name": "stdout",
     "output_type": "stream",
     "text": [
      "+-------+--------------+-----+\n",
      "|user_id|order_datetime|count|\n",
      "+-------+--------------+-----+\n",
      "|   3524|    2021-10-04|    2|\n",
      "|  22932|    2021-11-29|    2|\n",
      "|  23700|    2021-08-26|    2|\n",
      "|  11488|    2021-09-30|    2|\n",
      "|  11073|    2021-10-16|    2|\n",
      "+-------+--------------+-----+\n",
      "\n"
     ]
    }
   ],
   "source": [
    "# Print repeats\n",
    "\n",
    "print(consumerfrauddf.groupBy(\"user_id\",\"order_datetime\").count().orderBy(desc(\"count\")).limit(5))"
   ]
  },
  {
   "cell_type": "code",
   "execution_count": 7,
   "id": "da1893ee",
   "metadata": {},
   "outputs": [
    {
     "data": {
      "text/html": [
       "<table border='1'>\n",
       "<tr><th>user_id</th><th>order_datetime</th><th>fraud_probability</th></tr>\n",
       "<tr><td>23700</td><td>2021-08-26</td><td>75.16555491373008</td></tr>\n",
       "<tr><td>23700</td><td>2021-08-26</td><td>75.16555491373008</td></tr>\n",
       "</table>\n"
      ],
      "text/plain": [
       "+-------+--------------+-----------------+\n",
       "|user_id|order_datetime|fraud_probability|\n",
       "+-------+--------------+-----------------+\n",
       "|  23700|    2021-08-26|75.16555491373008|\n",
       "|  23700|    2021-08-26|75.16555491373008|\n",
       "+-------+--------------+-----------------+"
      ]
     },
     "execution_count": 7,
     "metadata": {},
     "output_type": "execute_result"
    }
   ],
   "source": [
    "# See if repeats are the same\n",
    "\n",
    "testdf = consumerfrauddf.filter(consumerfrauddf[\"user_id\"] == 23700)\n",
    "testdf"
   ]
  },
  {
   "cell_type": "markdown",
   "id": "2753231e",
   "metadata": {},
   "source": [
    "They are indeed duplicates with the same fraud probability so will be removed"
   ]
  },
  {
   "cell_type": "code",
   "execution_count": 8,
   "id": "0ce46766",
   "metadata": {},
   "outputs": [],
   "source": [
    "# Remove duplicates\n",
    "\n",
    "consumerfrauddf = consumerfrauddf.distinct()"
   ]
  },
  {
   "cell_type": "code",
   "execution_count": 9,
   "id": "ecfaa97d",
   "metadata": {},
   "outputs": [
    {
     "name": "stdout",
     "output_type": "stream",
     "text": [
      "+----------------------+----------------------+----------------------+\n",
      "|min(fraud_probability)|max(fraud_probability)|avg(fraud_probability)|\n",
      "+----------------------+----------------------+----------------------+\n",
      "|     8.287143531552802|     99.24738020302328|    14.945849912240222|\n",
      "+----------------------+----------------------+----------------------+\n",
      "\n"
     ]
    },
    {
     "data": {
      "image/png": "[encoded data removed]",
      "text/plain": [
       "<Figure size 640x480 with 1 Axes>"
      ]
     },
     "metadata": {},
     "output_type": "display_data"
    },
    {
     "data": {
      "image/png": "[encoded data removed]",
      "text/plain": [
       "<Figure size 640x480 with 1 Axes>"
      ]
     },
     "metadata": {},
     "output_type": "display_data"
    }
   ],
   "source": [
    "# Print distributions of fraud probabilities\n",
    "\n",
    "df = consumerfrauddf.toPandas()\n",
    "\n",
    "print(consumerfrauddf.agg(min(\"fraud_probability\"), max(\"fraud_probability\"), mean(\"fraud_probability\")))\n",
    "\n",
    "plt.boxplot(df[\"fraud_probability\"])\n",
    "plt.show()\n",
    "\n",
    "plt.hist(df[\"fraud_probability\"])\n",
    "plt.xlabel(\"fraud probability\")\n",
    "plt.show() "
   ]
  },
  {
   "cell_type": "markdown",
   "id": "4a343c2a",
   "metadata": {},
   "source": [
    "Most consumer fraud probabilities are towards lower end of spectrum"
   ]
  },
  {
   "cell_type": "code",
   "execution_count": 10,
   "id": "2b090f95",
   "metadata": {},
   "outputs": [
    {
     "name": "stdout",
     "output_type": "stream",
     "text": [
      "+--------------------+--------------------+--------------------+\n",
      "|min(fraudulent_days)|max(fraudulent_days)|avg(fraudulent_days)|\n",
      "+--------------------+--------------------+--------------------+\n",
      "|                   1|                   6|   1.727195945945946|\n",
      "+--------------------+--------------------+--------------------+\n",
      "\n",
      "+---------------+---------+\n",
      "|fraudulent_days|frequency|\n",
      "+---------------+---------+\n",
      "|              1|     9355|\n",
      "|              2|     7520|\n",
      "|              3|     2699|\n",
      "|              4|      502|\n",
      "|              5|       47|\n",
      "|              6|        5|\n",
      "+---------------+---------+\n",
      "\n"
     ]
    },
    {
     "data": {
      "image/png": "[encoded data removed]",
      "text/plain": [
       "<Figure size 640x480 with 1 Axes>"
      ]
     },
     "metadata": {},
     "output_type": "display_data"
    }
   ],
   "source": [
    "# See and plot the number of times any user commits fraud\n",
    "\n",
    "testdf = consumerfrauddf.groupBy(\"user_id\").agg(count(\"user_id\").alias(\"fraudulent_days\"))\n",
    "print(testdf.agg(min(\"fraudulent_days\"), max(\"fraudulent_days\"), mean(\"fraudulent_days\")))\n",
    "testdf = testdf.groupBy(\"fraudulent_days\").agg(count(\"fraudulent_days\").alias(\"frequency\")).orderBy(\"fraudulent_days\")\n",
    "print(testdf)\n",
    "\n",
    "df = testdf.toPandas()\n",
    "plt.bar(df[\"fraudulent_days\"],df[\"frequency\"])\n",
    "plt.xlabel(\"Number of fraudulent days\")\n",
    "plt.ylabel(\"frequency\")\n",
    "plt.show() "
   ]
  },
  {
   "cell_type": "markdown",
   "id": "8c39720a",
   "metadata": {},
   "source": [
    "First table shows that the minimum number of times a user had a fraudulent transaction day was 1 and the maximum number of times was 6 with an average of 1.7 fraudulent days for any given user <br>\n",
    "Table 2 and the bar chart show the frequency"
   ]
  },
  {
   "cell_type": "code",
   "execution_count": 11,
   "id": "b5d4411e",
   "metadata": {},
   "outputs": [
    {
     "data": {
      "text/html": [
       "<table border='1'>\n",
       "<tr><th>user_id</th><th>order_datetime</th><th>fraud_probability</th></tr>\n",
       "<tr><td>3753</td><td>2022-02-16</td><td>48.85325253622543</td></tr>\n",
       "<tr><td>9646</td><td>2021-09-23</td><td>47.83931206340956</td></tr>\n",
       "<tr><td>243</td><td>2021-09-02</td><td>50.88971939168309</td></tr>\n",
       "<tr><td>3907</td><td>2021-10-07</td><td>38.58123424858352</td></tr>\n",
       "<tr><td>14864</td><td>2021-11-29</td><td>27.072321329372105</td></tr>\n",
       "</table>\n"
      ],
      "text/plain": [
       "+-------+--------------+------------------+\n",
       "|user_id|order_datetime| fraud_probability|\n",
       "+-------+--------------+------------------+\n",
       "|   3753|    2022-02-16| 48.85325253622543|\n",
       "|   9646|    2021-09-23| 47.83931206340956|\n",
       "|    243|    2021-09-02| 50.88971939168309|\n",
       "|   3907|    2021-10-07| 38.58123424858352|\n",
       "|  14864|    2021-11-29|27.072321329372105|\n",
       "+-------+--------------+------------------+"
      ]
     },
     "execution_count": 11,
     "metadata": {},
     "output_type": "execute_result"
    }
   ],
   "source": [
    "consumerfrauddf.limit(5)"
   ]
  },
  {
   "cell_type": "code",
   "execution_count": 12,
   "id": "730181b2",
   "metadata": {},
   "outputs": [
    {
     "name": "stderr",
     "output_type": "stream",
     "text": [
      "                                                                                \r"
     ]
    }
   ],
   "source": [
    "# Save final consumer fraud dataframe without duplicate entries\n",
    "\n",
    "consumerfrauddf.write.mode(\"overwrite\").parquet('../data/curated/consumerfrauddf.parquet')"
   ]
  },
  {
   "cell_type": "markdown",
   "id": "e2f97df7",
   "metadata": {},
   "source": [
    "### Merchant Fraud"
   ]
  },
  {
   "cell_type": "code",
   "execution_count": 13,
   "id": "71218972",
   "metadata": {},
   "outputs": [
    {
     "name": "stdout",
     "output_type": "stream",
     "text": [
      "114\n",
      "114\n"
     ]
    },
    {
     "data": {
      "text/html": [
       "<table border='1'>\n",
       "<tr><th>merchant_abn</th><th>order_datetime</th><th>fraud_probability</th></tr>\n",
       "<tr><td>19492220327</td><td>2021-11-28</td><td>44.403658647495355</td></tr>\n",
       "<tr><td>31334588839</td><td>2021-10-02</td><td>42.75530083865367</td></tr>\n",
       "<tr><td>19492220327</td><td>2021-12-22</td><td>38.867790051131095</td></tr>\n",
       "<tr><td>82999039227</td><td>2021-12-19</td><td>94.1347004808891</td></tr>\n",
       "<tr><td>90918180829</td><td>2021-09-02</td><td>43.32551731714902</td></tr>\n",
       "</table>\n"
      ],
      "text/plain": [
       "+------------+--------------+------------------+\n",
       "|merchant_abn|order_datetime| fraud_probability|\n",
       "+------------+--------------+------------------+\n",
       "| 19492220327|    2021-11-28|44.403658647495355|\n",
       "| 31334588839|    2021-10-02| 42.75530083865367|\n",
       "| 19492220327|    2021-12-22|38.867790051131095|\n",
       "| 82999039227|    2021-12-19|  94.1347004808891|\n",
       "| 90918180829|    2021-09-02| 43.32551731714902|\n",
       "+------------+--------------+------------------+"
      ]
     },
     "execution_count": 13,
     "metadata": {},
     "output_type": "execute_result"
    }
   ],
   "source": [
    "# Read in fraud data, check for nulls, and make all probabilites into double type for analysis\n",
    "\n",
    "merchantfrauddf = spark.read.option(\"header\",\"True\").csv(\"../data/tables/merchant_fraud_probability.csv\")\n",
    "print(merchantfrauddf.count())\n",
    "merchantfrauddf = merchantfrauddf.dropna(\"any\")\n",
    "print(merchantfrauddf.count())\n",
    "merchantfrauddf = merchantfrauddf.withColumn(\"fraud_probability\", col(\"fraud_probability\").cast('double'))\n",
    "merchantfrauddf.limit(5)"
   ]
  },
  {
   "cell_type": "markdown",
   "id": "53cf57c2",
   "metadata": {},
   "source": [
    "No null values"
   ]
  },
  {
   "cell_type": "code",
   "execution_count": 14,
   "id": "7530f633",
   "metadata": {},
   "outputs": [],
   "source": [
    "# Invalid merchant abns will be removed when joining"
   ]
  },
  {
   "cell_type": "code",
   "execution_count": 15,
   "id": "d368dc20",
   "metadata": {},
   "outputs": [
    {
     "data": {
      "text/plain": [
       "114"
      ]
     },
     "execution_count": 15,
     "metadata": {},
     "output_type": "execute_result"
    }
   ],
   "source": [
    "# Check all datetimes valid\n",
    "\n",
    "start_date = datetime.datetime(2021, 2, 28) \n",
    "end_date = datetime.datetime(2022, 2, 28)\n",
    "testdf = merchantfrauddf.filter(merchantfrauddf[\"order_datetime\"] >= start_date)\n",
    "testdf = testdf.filter(merchantfrauddf[\"order_datetime\"] <= end_date)\n",
    "testdf.count()"
   ]
  },
  {
   "cell_type": "markdown",
   "id": "b5333b70",
   "metadata": {},
   "source": [
    "All datetimes valid"
   ]
  },
  {
   "cell_type": "code",
   "execution_count": 16,
   "id": "1911370c",
   "metadata": {},
   "outputs": [
    {
     "name": "stdout",
     "output_type": "stream",
     "text": [
      "+----------------------+----------------------+----------------------+\n",
      "|min(fraud_probability)|max(fraud_probability)|avg(fraud_probability)|\n",
      "+----------------------+----------------------+----------------------+\n",
      "|     18.21089142894488|      94.1347004808891|    40.419334695018094|\n",
      "+----------------------+----------------------+----------------------+\n",
      "\n"
     ]
    },
    {
     "data": {
      "image/png": "[encoded data removed]",
      "text/plain": [
       "<Figure size 640x480 with 1 Axes>"
      ]
     },
     "metadata": {},
     "output_type": "display_data"
    },
    {
     "data": {
      "image/png": "[encoded data removed]",
      "text/plain": [
       "<Figure size 640x480 with 1 Axes>"
      ]
     },
     "metadata": {},
     "output_type": "display_data"
    }
   ],
   "source": [
    "# Print distributions of fraud probabilities\n",
    "\n",
    "df = merchantfrauddf.toPandas()\n",
    "\n",
    "print(merchantfrauddf.agg(min(\"fraud_probability\"), max(\"fraud_probability\"), mean(\"fraud_probability\")))\n",
    "\n",
    "plt.boxplot(df[\"fraud_probability\"])\n",
    "plt.show()\n",
    "\n",
    "plt.hist(df[\"fraud_probability\"])\n",
    "plt.xlabel(\"fraud probability\")\n",
    "plt.show() "
   ]
  },
  {
   "cell_type": "markdown",
   "id": "4d710158",
   "metadata": {},
   "source": [
    "Merchant fraud probabilities are more evenly spread out then user ones"
   ]
  },
  {
   "cell_type": "code",
   "execution_count": 17,
   "id": "f9913c5f",
   "metadata": {},
   "outputs": [
    {
     "name": "stdout",
     "output_type": "stream",
     "text": [
      "+--------------------+--------------------+--------------------+\n",
      "|min(fraudulent_days)|max(fraudulent_days)|avg(fraudulent_days)|\n",
      "+--------------------+--------------------+--------------------+\n",
      "|                   1|                  12|  1.8688524590163935|\n",
      "+--------------------+--------------------+--------------------+\n",
      "\n",
      "+---------------+---------+\n",
      "|fraudulent_days|frequency|\n",
      "+---------------+---------+\n",
      "|              1|       44|\n",
      "|              2|        5|\n",
      "|              3|        6|\n",
      "|              4|        1|\n",
      "|              5|        1|\n",
      "|              6|        1|\n",
      "|              7|        1|\n",
      "|              8|        1|\n",
      "|             12|        1|\n",
      "+---------------+---------+\n",
      "\n"
     ]
    },
    {
     "data": {
      "image/png": "[encoded data removed]",
      "text/plain": [
       "<Figure size 640x480 with 1 Axes>"
      ]
     },
     "metadata": {},
     "output_type": "display_data"
    }
   ],
   "source": [
    "# See and plot the number of times any merchant commits fraud\n",
    "\n",
    "testdf = merchantfrauddf.groupBy(\"merchant_abn\").agg(count(\"merchant_abn\").alias(\"fraudulent_days\"))\n",
    "print(testdf.agg(min(\"fraudulent_days\"), max(\"fraudulent_days\"), mean(\"fraudulent_days\")))\n",
    "testdf = testdf.groupBy(\"fraudulent_days\").agg(count(\"fraudulent_days\").alias(\"frequency\")).orderBy(\"fraudulent_days\")\n",
    "print(testdf)\n",
    "\n",
    "df = testdf.toPandas()\n",
    "plt.bar(df[\"fraudulent_days\"],df[\"frequency\"])\n",
    "plt.xlabel(\"Number of fraudulent days\")\n",
    "plt.ylabel(\"frequency\")\n",
    "plt.show() "
   ]
  },
  {
   "cell_type": "markdown",
   "id": "98df710c",
   "metadata": {},
   "source": [
    "Most merchants had a low number of fraudulent days"
   ]
  },
  {
   "cell_type": "code",
   "execution_count": 18,
   "id": "5dd03518",
   "metadata": {},
   "outputs": [
    {
     "data": {
      "text/html": [
       "<table border='1'>\n",
       "<tr><th>merchant_abn</th><th>order_datetime</th><th>fraud_probability</th></tr>\n",
       "<tr><td>19492220327</td><td>2021-11-28</td><td>44.403658647495355</td></tr>\n",
       "<tr><td>31334588839</td><td>2021-10-02</td><td>42.75530083865367</td></tr>\n",
       "<tr><td>19492220327</td><td>2021-12-22</td><td>38.867790051131095</td></tr>\n",
       "<tr><td>82999039227</td><td>2021-12-19</td><td>94.1347004808891</td></tr>\n",
       "<tr><td>90918180829</td><td>2021-09-02</td><td>43.32551731714902</td></tr>\n",
       "</table>\n"
      ],
      "text/plain": [
       "+------------+--------------+------------------+\n",
       "|merchant_abn|order_datetime| fraud_probability|\n",
       "+------------+--------------+------------------+\n",
       "| 19492220327|    2021-11-28|44.403658647495355|\n",
       "| 31334588839|    2021-10-02| 42.75530083865367|\n",
       "| 19492220327|    2021-12-22|38.867790051131095|\n",
       "| 82999039227|    2021-12-19|  94.1347004808891|\n",
       "| 90918180829|    2021-09-02| 43.32551731714902|\n",
       "+------------+--------------+------------------+"
      ]
     },
     "execution_count": 18,
     "metadata": {},
     "output_type": "execute_result"
    }
   ],
   "source": [
    "merchantfrauddf.limit(5)"
   ]
  },
  {
   "cell_type": "code",
   "execution_count": 19,
   "id": "dd4a6010",
   "metadata": {},
   "outputs": [],
   "source": [
    "# Save final merchant fraud dataframe with double type probabilities\n",
    "\n",
    "merchantfrauddf.write.mode(\"overwrite\").parquet('../data/curated/merchantfrauddf.parquet')"
   ]
  }
 ],
 "metadata": {
  "kernelspec": {
   "display_name": "Python 3 (ipykernel)",
   "language": "python",
   "name": "python3"
  },
  "language_info": {
   "codemirror_mode": {
    "name": "ipython",
    "version": 3
   },
   "file_extension": ".py",
   "mimetype": "text/x-python",
   "name": "python",
   "nbconvert_exporter": "python",
   "pygments_lexer": "ipython3",
   "version": "3.10.4"
  },
  "vscode": {
   "interpreter": {
    "hash": "916dbcbb3f70747c44a77c7bcd40155683ae19c65e1c03b4aa3499c5328201f1"
   }
  }
 },
 "nbformat": 4,
 "nbformat_minor": 5
}
