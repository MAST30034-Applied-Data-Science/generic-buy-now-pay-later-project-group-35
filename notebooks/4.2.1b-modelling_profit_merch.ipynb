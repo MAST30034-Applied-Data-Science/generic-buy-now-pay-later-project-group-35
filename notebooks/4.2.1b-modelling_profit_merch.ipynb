{
 "cells": [
  {
   "cell_type": "code",
   "execution_count": 1,
   "metadata": {},
   "outputs": [
    {
     "name": "stdout",
     "output_type": "stream",
     "text": [
      "22/10/05 21:14:27 WARN Utils: Your hostname, DESKTOP-LNDD2A2 resolves to a loopback address: 127.0.1.1; using 172.28.37.254 instead (on interface eth0)\n",
      "22/10/05 21:14:27 WARN Utils: Set SPARK_LOCAL_IP if you need to bind to another address\n"
     ]
    },
    {
     "name": "stderr",
     "output_type": "stream",
     "text": [
      "Setting default log level to \"WARN\".\n",
      "To adjust logging level use sc.setLogLevel(newLevel). For SparkR, use setLogLevel(newLevel).\n"
     ]
    },
    {
     "name": "stdout",
     "output_type": "stream",
     "text": [
      "22/10/05 21:14:29 WARN NativeCodeLoader: Unable to load native-hadoop library for your platform... using builtin-java classes where applicable\n",
      "22/10/05 21:14:31 WARN Utils: Service 'SparkUI' could not bind on port 4040. Attempting port 4041.\n"
     ]
    }
   ],
   "source": [
    "from pyspark.sql import SparkSession\n",
    "from pyspark.sql.functions import * \n",
    "import matplotlib.pyplot as plt\n",
    "import pandas as pd\n",
    "import numpy as np\n",
    "from pyspark.sql import functions as F\n",
    "from scipy.stats import f_oneway\n",
    "import random\n",
    "from pyspark.ml.feature import StringIndexer, OneHotEncoder, VectorAssembler\n",
    "from pyspark.sql.window import Window\n",
    "from pyspark.ml.regression import LinearRegression\n",
    "from sklearn.metrics import mean_absolute_error as mae\n",
    "\n",
    "# Create a spark session\n",
    "spark = (\n",
    "    SparkSession.builder.appName(\"analysis\")\n",
    "    .config(\"spark.sql.repl.eagerEval.enabled\", True) \n",
    "    .config(\"spark.sql.parquet.cacheMetadata\", \"true\")\n",
    "    .config(\"spark.sql.session.timeZone\", \"Etc/UTC\")\n",
    "    .config(\"spark.driver.memory\", \"2g\")\n",
    "    .config(\"spark.executor.memory\", \"6g\")\n",
    "    .getOrCreate()\n",
    ")"
   ]
  },
  {
   "cell_type": "markdown",
   "metadata": {},
   "source": [
    "# Model 2: Profit per merchant per month"
   ]
  },
  {
   "cell_type": "code",
   "execution_count": 2,
   "metadata": {},
   "outputs": [
    {
     "name": "stderr",
     "output_type": "stream",
     "text": [
      "                                                                                \r"
     ]
    },
    {
     "data": {
      "text/html": [
       "<table border='1'>\n",
       "<tr><th>order_datetime</th><th>merchant_abn</th><th>user_id</th><th>postcode</th><th>consumer_id</th><th>dollar_value</th><th>order_id</th><th>state</th><th>gender</th><th>company_name</th><th>tags</th><th>take_rate</th><th>revenue_band</th><th>total_pop</th><th>under10_pop</th><th>adolsc_pop</th><th>yng_adult_pop</th><th>mid_age_pop</th><th>old_pop</th><th>num_earners</th><th>median_age</th><th>median_income</th><th>mean_income</th><th>consumer_fraud_%</th><th>merchant_fraud_%</th></tr>\n",
       "<tr><td>2021-08-21</td><td>80682333501</td><td>3146</td><td>5651</td><td>604753</td><td>0.3672339667473312</td><td>2a59c978-f760-42d...</td><td>SA</td><td>Male</td><td>Orci Corp.</td><td>florists supplies...</td><td> 4.88</td><td> b</td><td>2172</td><td>275</td><td>278</td><td>304</td><td>692</td><td>623</td><td>1308</td><td>47</td><td>37685</td><td>43540</td><td>0.1</td><td>0.1</td></tr>\n",
       "<tr><td>2021-08-19</td><td>99478391356</td><td>3146</td><td>5651</td><td>604753</td><td>3035.1695642706595</td><td>82e100bc-25c2-4e3...</td><td>SA</td><td>Male</td><td>Orci Quis Foundation</td><td>equipment, tool, ...</td><td> 1.52</td><td> c</td><td>2172</td><td>275</td><td>278</td><td>304</td><td>692</td><td>623</td><td>1308</td><td>47</td><td>37685</td><td>43540</td><td>0.1</td><td>0.1</td></tr>\n",
       "<tr><td>2021-08-19</td><td>86578477987</td><td>3146</td><td>5651</td><td>604753</td><td>61.05946896765003</td><td>9e3c8e62-9e8e-4e8...</td><td>SA</td><td>Male</td><td>Leo In Consulting</td><td>watch, clock, and...</td><td> 6.43</td><td> a</td><td>2172</td><td>275</td><td>278</td><td>304</td><td>692</td><td>623</td><td>1308</td><td>47</td><td>37685</td><td>43540</td><td>0.1</td><td>0.1</td></tr>\n",
       "<tr><td>2021-08-14</td><td>32361057556</td><td>3146</td><td>5651</td><td>604753</td><td>155.3456409871304</td><td>e4ff9499-e96d-4e6...</td><td>SA</td><td>Male</td><td>Orci In Consequat...</td><td>gift, card, novel...</td><td> 6.61</td><td> a</td><td>2172</td><td>275</td><td>278</td><td>304</td><td>692</td><td>623</td><td>1308</td><td>47</td><td>37685</td><td>43540</td><td>0.1</td><td>0.1</td></tr>\n",
       "<tr><td>2021-08-16</td><td>20445424481</td><td>3146</td><td>5651</td><td>604753</td><td>57.66971365811276</td><td>4a36f2ed-7bcc-43d...</td><td>SA</td><td>Male</td><td>Amet Industries</td><td>digital goods: bo...</td><td> 6.29</td><td> a</td><td>2172</td><td>275</td><td>278</td><td>304</td><td>692</td><td>623</td><td>1308</td><td>47</td><td>37685</td><td>43540</td><td>0.1</td><td>0.1</td></tr>\n",
       "</table>\n"
      ],
      "text/plain": [
       "+--------------+------------+-------+--------+-----------+------------------+--------------------+-----+------+--------------------+--------------------+---------+------------+---------+-----------+----------+-------------+-----------+-------+-----------+----------+-------------+-----------+----------------+----------------+\n",
       "|order_datetime|merchant_abn|user_id|postcode|consumer_id|      dollar_value|            order_id|state|gender|        company_name|                tags|take_rate|revenue_band|total_pop|under10_pop|adolsc_pop|yng_adult_pop|mid_age_pop|old_pop|num_earners|median_age|median_income|mean_income|consumer_fraud_%|merchant_fraud_%|\n",
       "+--------------+------------+-------+--------+-----------+------------------+--------------------+-----+------+--------------------+--------------------+---------+------------+---------+-----------+----------+-------------+-----------+-------+-----------+----------+-------------+-----------+----------------+----------------+\n",
       "|    2021-08-21| 80682333501|   3146|    5651|     604753|0.3672339667473312|2a59c978-f760-42d...|   SA|  Male|          Orci Corp.|florists supplies...|     4.88|           b|     2172|        275|       278|          304|        692|    623|       1308|        47|        37685|      43540|             0.1|             0.1|\n",
       "|    2021-08-19| 99478391356|   3146|    5651|     604753|3035.1695642706595|82e100bc-25c2-4e3...|   SA|  Male|Orci Quis Foundation|equipment, tool, ...|     1.52|           c|     2172|        275|       278|          304|        692|    623|       1308|        47|        37685|      43540|             0.1|             0.1|\n",
       "|    2021-08-19| 86578477987|   3146|    5651|     604753| 61.05946896765003|9e3c8e62-9e8e-4e8...|   SA|  Male|   Leo In Consulting|watch, clock, and...|     6.43|           a|     2172|        275|       278|          304|        692|    623|       1308|        47|        37685|      43540|             0.1|             0.1|\n",
       "|    2021-08-14| 32361057556|   3146|    5651|     604753| 155.3456409871304|e4ff9499-e96d-4e6...|   SA|  Male|Orci In Consequat...|gift, card, novel...|     6.61|           a|     2172|        275|       278|          304|        692|    623|       1308|        47|        37685|      43540|             0.1|             0.1|\n",
       "|    2021-08-16| 20445424481|   3146|    5651|     604753| 57.66971365811276|4a36f2ed-7bcc-43d...|   SA|  Male|     Amet Industries|digital goods: bo...|     6.29|           a|     2172|        275|       278|          304|        692|    623|       1308|        47|        37685|      43540|             0.1|             0.1|\n",
       "+--------------+------------+-------+--------+-----------+------------------+--------------------+-----+------+--------------------+--------------------+---------+------------+---------+-----------+----------+-------------+-----------+-------+-----------+----------+-------------+-----------+----------------+----------------+"
      ]
     },
     "execution_count": 2,
     "metadata": {},
     "output_type": "execute_result"
    }
   ],
   "source": [
    "finaldf = spark.read.parquet(\"../data/curated/finaldf.parquet/\")\n",
    "finaldf.limit(5)"
   ]
  },
  {
   "cell_type": "markdown",
   "metadata": {},
   "source": [
    "Extract the year and month from the order datetime into a seperate column, we will use these to both group the dataset and create a new feature int_month. We also create a feature profit, which is simply the dollar value multiplied by take rate for each individual transaction."
   ]
  },
  {
   "cell_type": "code",
   "execution_count": 3,
   "metadata": {},
   "outputs": [
    {
     "name": "stderr",
     "output_type": "stream",
     "text": [
      "                                                                                \r"
     ]
    },
    {
     "data": {
      "text/html": [
       "<table border='1'>\n",
       "<tr><th>merchant_abn</th><th>user_id</th><th>postcode</th><th>consumer_id</th><th>dollar_value</th><th>state</th><th>gender</th><th>tags</th><th>take_rate</th><th>revenue_band</th><th>total_pop</th><th>under10_pop</th><th>adolsc_pop</th><th>yng_adult_pop</th><th>mid_age_pop</th><th>old_pop</th><th>num_earners</th><th>median_age</th><th>median_income</th><th>mean_income</th><th>year</th><th>month</th><th>profit</th></tr>\n",
       "<tr><td>80682333501</td><td>3146</td><td>5651.0</td><td>604753</td><td>0.3672339667473312</td><td>SA</td><td>Male</td><td>florists supplies...</td><td>4.88</td><td> b</td><td>2172</td><td>275</td><td>278</td><td>304</td><td>692</td><td>623</td><td>1308</td><td>47</td><td>37685</td><td>43540</td><td>2021</td><td>8</td><td>0.02</td></tr>\n",
       "<tr><td>99478391356</td><td>3146</td><td>5651.0</td><td>604753</td><td>3035.1695642706595</td><td>SA</td><td>Male</td><td>equipment, tool, ...</td><td>1.52</td><td> c</td><td>2172</td><td>275</td><td>278</td><td>304</td><td>692</td><td>623</td><td>1308</td><td>47</td><td>37685</td><td>43540</td><td>2021</td><td>8</td><td>46.13</td></tr>\n",
       "<tr><td>86578477987</td><td>3146</td><td>5651.0</td><td>604753</td><td>61.05946896765003</td><td>SA</td><td>Male</td><td>watch, clock, and...</td><td>6.43</td><td> a</td><td>2172</td><td>275</td><td>278</td><td>304</td><td>692</td><td>623</td><td>1308</td><td>47</td><td>37685</td><td>43540</td><td>2021</td><td>8</td><td>3.93</td></tr>\n",
       "<tr><td>32361057556</td><td>3146</td><td>5651.0</td><td>604753</td><td>155.3456409871304</td><td>SA</td><td>Male</td><td>gift, card, novel...</td><td>6.61</td><td> a</td><td>2172</td><td>275</td><td>278</td><td>304</td><td>692</td><td>623</td><td>1308</td><td>47</td><td>37685</td><td>43540</td><td>2021</td><td>8</td><td>10.27</td></tr>\n",
       "<tr><td>20445424481</td><td>3146</td><td>5651.0</td><td>604753</td><td>57.66971365811276</td><td>SA</td><td>Male</td><td>digital goods: bo...</td><td>6.29</td><td> a</td><td>2172</td><td>275</td><td>278</td><td>304</td><td>692</td><td>623</td><td>1308</td><td>47</td><td>37685</td><td>43540</td><td>2021</td><td>8</td><td>3.63</td></tr>\n",
       "</table>\n"
      ],
      "text/plain": [
       "+------------+-------+--------+-----------+------------------+-----+------+--------------------+---------+------------+---------+-----------+----------+-------------+-----------+-------+-----------+----------+-------------+-----------+----+-----+------+\n",
       "|merchant_abn|user_id|postcode|consumer_id|      dollar_value|state|gender|                tags|take_rate|revenue_band|total_pop|under10_pop|adolsc_pop|yng_adult_pop|mid_age_pop|old_pop|num_earners|median_age|median_income|mean_income|year|month|profit|\n",
       "+------------+-------+--------+-----------+------------------+-----+------+--------------------+---------+------------+---------+-----------+----------+-------------+-----------+-------+-----------+----------+-------------+-----------+----+-----+------+\n",
       "| 80682333501|   3146|  5651.0|     604753|0.3672339667473312|   SA|  Male|florists supplies...|     4.88|           b|     2172|        275|       278|          304|        692|    623|       1308|        47|        37685|      43540|2021|    8|  0.02|\n",
       "| 99478391356|   3146|  5651.0|     604753|3035.1695642706595|   SA|  Male|equipment, tool, ...|     1.52|           c|     2172|        275|       278|          304|        692|    623|       1308|        47|        37685|      43540|2021|    8| 46.13|\n",
       "| 86578477987|   3146|  5651.0|     604753| 61.05946896765003|   SA|  Male|watch, clock, and...|     6.43|           a|     2172|        275|       278|          304|        692|    623|       1308|        47|        37685|      43540|2021|    8|  3.93|\n",
       "| 32361057556|   3146|  5651.0|     604753| 155.3456409871304|   SA|  Male|gift, card, novel...|     6.61|           a|     2172|        275|       278|          304|        692|    623|       1308|        47|        37685|      43540|2021|    8| 10.27|\n",
       "| 20445424481|   3146|  5651.0|     604753| 57.66971365811276|   SA|  Male|digital goods: bo...|     6.29|           a|     2172|        275|       278|          304|        692|    623|       1308|        47|        37685|      43540|2021|    8|  3.63|\n",
       "+------------+-------+--------+-----------+------------------+-----+------+--------------------+---------+------------+---------+-----------+----------+-------------+-----------+-------+-----------+----------+-------------+-----------+----+-----+------+"
      ]
     },
     "execution_count": 3,
     "metadata": {},
     "output_type": "execute_result"
    }
   ],
   "source": [
    "modeldf = finaldf.withColumn(\"year\", date_format(col(\"order_datetime\"), \"yyyy\").cast(\"long\"))\n",
    "modeldf = modeldf.withColumn(\"month\", date_format(col(\"order_datetime\"), \"MM\").cast(\"long\"))\n",
    "modeldf = modeldf.withColumn('profit', round(finaldf.dollar_value * (finaldf.take_rate / 100), 2))\n",
    "\n",
    "for field in (\"postcode\",\"take_rate\"):\n",
    "    modeldf = modeldf.withColumn(\n",
    "        field,\n",
    "        col(field).cast('double')\n",
    "    )\n",
    "\n",
    "modeldf = modeldf.drop(\"order_datetime\",\"order_id\",\"company_name\",\"consumer_fraud_%\",\"merchant_fraud_%\")\n",
    "\n",
    "modeldf.limit(5)"
   ]
  },
  {
   "cell_type": "code",
   "execution_count": 4,
   "metadata": {},
   "outputs": [],
   "source": [
    "modeldf = modeldf.groupBy(\"year\",\"month\",\"merchant_abn\").agg(\n",
    "    round(sum(\"profit\"),2).alias(\"monthly_profit\"),\n",
    ")"
   ]
  },
  {
   "cell_type": "code",
   "execution_count": 5,
   "metadata": {},
   "outputs": [
    {
     "name": "stderr",
     "output_type": "stream",
     "text": [
      "                                                                                \r"
     ]
    },
    {
     "data": {
      "text/html": [
       "<table border='1'>\n",
       "<tr><th>merchant_abn</th><th>monthly_profit</th><th>int_month</th></tr>\n",
       "<tr><td>50315283629</td><td>7611.69</td><td>21</td></tr>\n",
       "<tr><td>40279146273</td><td>3666.26</td><td>20</td></tr>\n",
       "<tr><td>60956456424</td><td>17330.74</td><td>16</td></tr>\n",
       "<tr><td>10323485998</td><td>3845.55</td><td>20</td></tr>\n",
       "<tr><td>94472466107</td><td>4043.85</td><td>16</td></tr>\n",
       "<tr><td>77338620996</td><td>10072.1</td><td>16</td></tr>\n",
       "<tr><td>41974958954</td><td>2564.23</td><td>6</td></tr>\n",
       "<tr><td>74019238521</td><td>1415.73</td><td>10</td></tr>\n",
       "<tr><td>80893432676</td><td>100.2</td><td>8</td></tr>\n",
       "<tr><td>44210076869</td><td>552.1</td><td>3</td></tr>\n",
       "<tr><td>77925217758</td><td>2236.42</td><td>11</td></tr>\n",
       "<tr><td>82539239304</td><td>182.34</td><td>16</td></tr>\n",
       "<tr><td>35016722348</td><td>2127.6</td><td>20</td></tr>\n",
       "<tr><td>66370248931</td><td>838.27</td><td>18</td></tr>\n",
       "<tr><td>39896913161</td><td>932.16</td><td>7</td></tr>\n",
       "<tr><td>12042198256</td><td>1384.96</td><td>10</td></tr>\n",
       "<tr><td>88699453206</td><td>11652.52</td><td>11</td></tr>\n",
       "<tr><td>24852446429</td><td>11165.4</td><td>9</td></tr>\n",
       "<tr><td>82076270246</td><td>3641.0</td><td>19</td></tr>\n",
       "<tr><td>45151159881</td><td>470.64</td><td>8</td></tr>\n",
       "</table>\n",
       "only showing top 20 rows\n"
      ],
      "text/plain": [
       "+------------+--------------+---------+\n",
       "|merchant_abn|monthly_profit|int_month|\n",
       "+------------+--------------+---------+\n",
       "| 50315283629|       7611.69|       21|\n",
       "| 40279146273|       3666.26|       20|\n",
       "| 60956456424|      17330.74|       16|\n",
       "| 10323485998|       3845.55|       20|\n",
       "| 94472466107|       4043.85|       16|\n",
       "| 77338620996|       10072.1|       16|\n",
       "| 41974958954|       2564.23|        6|\n",
       "| 74019238521|       1415.73|       10|\n",
       "| 80893432676|         100.2|        8|\n",
       "| 44210076869|         552.1|        3|\n",
       "| 77925217758|       2236.42|       11|\n",
       "| 82539239304|        182.34|       16|\n",
       "| 35016722348|        2127.6|       20|\n",
       "| 66370248931|        838.27|       18|\n",
       "| 39896913161|        932.16|        7|\n",
       "| 12042198256|       1384.96|       10|\n",
       "| 88699453206|      11652.52|       11|\n",
       "| 24852446429|       11165.4|        9|\n",
       "| 82076270246|        3641.0|       19|\n",
       "| 45151159881|        470.64|        8|\n",
       "+------------+--------------+---------+\n",
       "only showing top 20 rows"
      ]
     },
     "execution_count": 5,
     "metadata": {},
     "output_type": "execute_result"
    }
   ],
   "source": [
    "MONTHS = 12\n",
    "modeldf = modeldf.withColumn('int_month', MONTHS*(modeldf['year'] - 2021) + (modeldf['month'] - 1))\n",
    "modeldf = modeldf.drop('year', 'month')\n",
    "modeldf"
   ]
  },
  {
   "cell_type": "markdown",
   "metadata": {},
   "source": [
    "If any of the valid merchant_abns from the final dataset do not have any transactions listed in the dataset, we will need to manually add a row stating this month had 0 monthly revenue."
   ]
  },
  {
   "cell_type": "code",
   "execution_count": 6,
   "metadata": {},
   "outputs": [
    {
     "name": "stderr",
     "output_type": "stream",
     "text": [
      "                                                                                \r"
     ]
    }
   ],
   "source": [
    "merchant_abns = finaldf.select('merchant_abn').distinct().toPandas()['merchant_abn']\n",
    "\n",
    "records = []\n",
    "for m in merchant_abns:\n",
    "    for int_month in range(1, 22):\n",
    "        records.append([m, 0, int_month])\n",
    "        \n",
    "defaultdf = spark.createDataFrame(records, \n",
    "                                  schema=['merchant_abn', 'monthly_profit_0', 'int_month'])\n",
    "\n",
    "# We first starts with all abns and months having 0 transactions, and overwrite the values that are present in modeldf.\n",
    "modeldf = defaultdf.join(modeldf, on=['merchant_abn', 'int_month'], how='left')\n",
    "modeldf = modeldf.drop('monthly_profit_0')\n",
    "modeldf = modeldf.na.fill(value=0,subset=[\"monthly_profit\"])"
   ]
  },
  {
   "cell_type": "code",
   "execution_count": 7,
   "metadata": {},
   "outputs": [
    {
     "name": "stderr",
     "output_type": "stream",
     "text": [
      "                                                                                \r"
     ]
    },
    {
     "data": {
      "text/html": [
       "<table border='1'>\n",
       "<tr><th>merchant_abn</th><th>int_month</th><th>monthly_profit</th></tr>\n",
       "<tr><td>10023283211</td><td>1</td><td>1.26</td></tr>\n",
       "<tr><td>10023283211</td><td>2</td><td>42.36</td></tr>\n",
       "<tr><td>10023283211</td><td>3</td><td>45.01</td></tr>\n",
       "<tr><td>10023283211</td><td>4</td><td>47.9</td></tr>\n",
       "<tr><td>10023283211</td><td>5</td><td>45.3</td></tr>\n",
       "<tr><td>10023283211</td><td>6</td><td>47.19</td></tr>\n",
       "<tr><td>10023283211</td><td>7</td><td>49.2</td></tr>\n",
       "<tr><td>10023283211</td><td>8</td><td>50.78</td></tr>\n",
       "<tr><td>10023283211</td><td>9</td><td>60.3</td></tr>\n",
       "<tr><td>10023283211</td><td>10</td><td>67.36</td></tr>\n",
       "<tr><td>10023283211</td><td>11</td><td>67.22</td></tr>\n",
       "<tr><td>10023283211</td><td>12</td><td>43.1</td></tr>\n",
       "<tr><td>10023283211</td><td>13</td><td>50.36</td></tr>\n",
       "<tr><td>10023283211</td><td>14</td><td>50.48</td></tr>\n",
       "<tr><td>10023283211</td><td>15</td><td>54.49</td></tr>\n",
       "<tr><td>10023283211</td><td>16</td><td>56.45</td></tr>\n",
       "<tr><td>10023283211</td><td>17</td><td>54.1</td></tr>\n",
       "<tr><td>10023283211</td><td>18</td><td>61.68</td></tr>\n",
       "<tr><td>10023283211</td><td>19</td><td>59.96</td></tr>\n",
       "<tr><td>10023283211</td><td>20</td><td>70.14</td></tr>\n",
       "</table>\n",
       "only showing top 20 rows\n"
      ],
      "text/plain": [
       "+------------+---------+--------------+\n",
       "|merchant_abn|int_month|monthly_profit|\n",
       "+------------+---------+--------------+\n",
       "| 10023283211|        1|          1.26|\n",
       "| 10023283211|        2|         42.36|\n",
       "| 10023283211|        3|         45.01|\n",
       "| 10023283211|        4|          47.9|\n",
       "| 10023283211|        5|          45.3|\n",
       "| 10023283211|        6|         47.19|\n",
       "| 10023283211|        7|          49.2|\n",
       "| 10023283211|        8|         50.78|\n",
       "| 10023283211|        9|          60.3|\n",
       "| 10023283211|       10|         67.36|\n",
       "| 10023283211|       11|         67.22|\n",
       "| 10023283211|       12|          43.1|\n",
       "| 10023283211|       13|         50.36|\n",
       "| 10023283211|       14|         50.48|\n",
       "| 10023283211|       15|         54.49|\n",
       "| 10023283211|       16|         56.45|\n",
       "| 10023283211|       17|          54.1|\n",
       "| 10023283211|       18|         61.68|\n",
       "| 10023283211|       19|         59.96|\n",
       "| 10023283211|       20|         70.14|\n",
       "+------------+---------+--------------+\n",
       "only showing top 20 rows"
      ]
     },
     "execution_count": 7,
     "metadata": {},
     "output_type": "execute_result"
    }
   ],
   "source": [
    "modeldf.sort('merchant_abn', 'int_month')"
   ]
  },
  {
   "cell_type": "markdown",
   "metadata": {},
   "source": [
    "To determine the number of lags that are used, we build autocorrelation plots to determine the correlation between lags of the  monthly transactions feature. Note that these plots need to be created for an individual merchant, hence the code below chooses 5 random merchants (can uncomment the setting of the seed for this to becompletely randomised), and builds autocorrelation plots."
   ]
  },
  {
   "cell_type": "code",
   "execution_count": 8,
   "metadata": {},
   "outputs": [
    {
     "name": "stderr",
     "output_type": "stream",
     "text": [
      "                                                                                \r"
     ]
    }
   ],
   "source": [
    "df = modeldf.toPandas()"
   ]
  },
  {
   "cell_type": "code",
   "execution_count": 9,
   "metadata": {},
   "outputs": [
    {
     "data": {
      "text/html": [
       "<div>\n",
       "<style scoped>\n",
       "    .dataframe tbody tr th:only-of-type {\n",
       "        vertical-align: middle;\n",
       "    }\n",
       "\n",
       "    .dataframe tbody tr th {\n",
       "        vertical-align: top;\n",
       "    }\n",
       "\n",
       "    .dataframe thead th {\n",
       "        text-align: right;\n",
       "    }\n",
       "</style>\n",
       "<table border=\"1\" class=\"dataframe\">\n",
       "  <thead>\n",
       "    <tr style=\"text-align: right;\">\n",
       "      <th></th>\n",
       "      <th>merchant_abn</th>\n",
       "      <th>int_month</th>\n",
       "      <th>monthly_profit</th>\n",
       "      <th>10023283211</th>\n",
       "      <th>10142254217</th>\n",
       "      <th>10165489824</th>\n",
       "      <th>10187291046</th>\n",
       "      <th>10192359162</th>\n",
       "      <th>10206519221</th>\n",
       "      <th>10255988167</th>\n",
       "      <th>...</th>\n",
       "      <th>99803748393</th>\n",
       "      <th>99807059634</th>\n",
       "      <th>99845294286</th>\n",
       "      <th>99861963809</th>\n",
       "      <th>99904689266</th>\n",
       "      <th>99938978285</th>\n",
       "      <th>99974311662</th>\n",
       "      <th>99976658299</th>\n",
       "      <th>99987905597</th>\n",
       "      <th>99990536339</th>\n",
       "    </tr>\n",
       "  </thead>\n",
       "  <tbody>\n",
       "    <tr>\n",
       "      <th>0</th>\n",
       "      <td>38700038932</td>\n",
       "      <td>11</td>\n",
       "      <td>25783.11</td>\n",
       "      <td>0</td>\n",
       "      <td>0</td>\n",
       "      <td>0</td>\n",
       "      <td>0</td>\n",
       "      <td>0</td>\n",
       "      <td>0</td>\n",
       "      <td>0</td>\n",
       "      <td>...</td>\n",
       "      <td>0</td>\n",
       "      <td>0</td>\n",
       "      <td>0</td>\n",
       "      <td>0</td>\n",
       "      <td>0</td>\n",
       "      <td>0</td>\n",
       "      <td>0</td>\n",
       "      <td>0</td>\n",
       "      <td>0</td>\n",
       "      <td>0</td>\n",
       "    </tr>\n",
       "    <tr>\n",
       "      <th>1</th>\n",
       "      <td>35344855546</td>\n",
       "      <td>19</td>\n",
       "      <td>192.27</td>\n",
       "      <td>0</td>\n",
       "      <td>0</td>\n",
       "      <td>0</td>\n",
       "      <td>0</td>\n",
       "      <td>0</td>\n",
       "      <td>0</td>\n",
       "      <td>0</td>\n",
       "      <td>...</td>\n",
       "      <td>0</td>\n",
       "      <td>0</td>\n",
       "      <td>0</td>\n",
       "      <td>0</td>\n",
       "      <td>0</td>\n",
       "      <td>0</td>\n",
       "      <td>0</td>\n",
       "      <td>0</td>\n",
       "      <td>0</td>\n",
       "      <td>0</td>\n",
       "    </tr>\n",
       "    <tr>\n",
       "      <th>2</th>\n",
       "      <td>78916025936</td>\n",
       "      <td>13</td>\n",
       "      <td>10.00</td>\n",
       "      <td>0</td>\n",
       "      <td>0</td>\n",
       "      <td>0</td>\n",
       "      <td>0</td>\n",
       "      <td>0</td>\n",
       "      <td>0</td>\n",
       "      <td>0</td>\n",
       "      <td>...</td>\n",
       "      <td>0</td>\n",
       "      <td>0</td>\n",
       "      <td>0</td>\n",
       "      <td>0</td>\n",
       "      <td>0</td>\n",
       "      <td>0</td>\n",
       "      <td>0</td>\n",
       "      <td>0</td>\n",
       "      <td>0</td>\n",
       "      <td>0</td>\n",
       "    </tr>\n",
       "    <tr>\n",
       "      <th>3</th>\n",
       "      <td>60654402457</td>\n",
       "      <td>5</td>\n",
       "      <td>12.96</td>\n",
       "      <td>0</td>\n",
       "      <td>0</td>\n",
       "      <td>0</td>\n",
       "      <td>0</td>\n",
       "      <td>0</td>\n",
       "      <td>0</td>\n",
       "      <td>0</td>\n",
       "      <td>...</td>\n",
       "      <td>0</td>\n",
       "      <td>0</td>\n",
       "      <td>0</td>\n",
       "      <td>0</td>\n",
       "      <td>0</td>\n",
       "      <td>0</td>\n",
       "      <td>0</td>\n",
       "      <td>0</td>\n",
       "      <td>0</td>\n",
       "      <td>0</td>\n",
       "    </tr>\n",
       "    <tr>\n",
       "      <th>4</th>\n",
       "      <td>37470904997</td>\n",
       "      <td>14</td>\n",
       "      <td>0.00</td>\n",
       "      <td>0</td>\n",
       "      <td>0</td>\n",
       "      <td>0</td>\n",
       "      <td>0</td>\n",
       "      <td>0</td>\n",
       "      <td>0</td>\n",
       "      <td>0</td>\n",
       "      <td>...</td>\n",
       "      <td>0</td>\n",
       "      <td>0</td>\n",
       "      <td>0</td>\n",
       "      <td>0</td>\n",
       "      <td>0</td>\n",
       "      <td>0</td>\n",
       "      <td>0</td>\n",
       "      <td>0</td>\n",
       "      <td>0</td>\n",
       "      <td>0</td>\n",
       "    </tr>\n",
       "    <tr>\n",
       "      <th>...</th>\n",
       "      <td>...</td>\n",
       "      <td>...</td>\n",
       "      <td>...</td>\n",
       "      <td>...</td>\n",
       "      <td>...</td>\n",
       "      <td>...</td>\n",
       "      <td>...</td>\n",
       "      <td>...</td>\n",
       "      <td>...</td>\n",
       "      <td>...</td>\n",
       "      <td>...</td>\n",
       "      <td>...</td>\n",
       "      <td>...</td>\n",
       "      <td>...</td>\n",
       "      <td>...</td>\n",
       "      <td>...</td>\n",
       "      <td>...</td>\n",
       "      <td>...</td>\n",
       "      <td>...</td>\n",
       "      <td>...</td>\n",
       "      <td>...</td>\n",
       "    </tr>\n",
       "    <tr>\n",
       "      <th>84373</th>\n",
       "      <td>72064300998</td>\n",
       "      <td>5</td>\n",
       "      <td>112.61</td>\n",
       "      <td>0</td>\n",
       "      <td>0</td>\n",
       "      <td>0</td>\n",
       "      <td>0</td>\n",
       "      <td>0</td>\n",
       "      <td>0</td>\n",
       "      <td>0</td>\n",
       "      <td>...</td>\n",
       "      <td>0</td>\n",
       "      <td>0</td>\n",
       "      <td>0</td>\n",
       "      <td>0</td>\n",
       "      <td>0</td>\n",
       "      <td>0</td>\n",
       "      <td>0</td>\n",
       "      <td>0</td>\n",
       "      <td>0</td>\n",
       "      <td>0</td>\n",
       "    </tr>\n",
       "    <tr>\n",
       "      <th>84374</th>\n",
       "      <td>29623808496</td>\n",
       "      <td>21</td>\n",
       "      <td>0.00</td>\n",
       "      <td>0</td>\n",
       "      <td>0</td>\n",
       "      <td>0</td>\n",
       "      <td>0</td>\n",
       "      <td>0</td>\n",
       "      <td>0</td>\n",
       "      <td>0</td>\n",
       "      <td>...</td>\n",
       "      <td>0</td>\n",
       "      <td>0</td>\n",
       "      <td>0</td>\n",
       "      <td>0</td>\n",
       "      <td>0</td>\n",
       "      <td>0</td>\n",
       "      <td>0</td>\n",
       "      <td>0</td>\n",
       "      <td>0</td>\n",
       "      <td>0</td>\n",
       "    </tr>\n",
       "    <tr>\n",
       "      <th>84375</th>\n",
       "      <td>47047735645</td>\n",
       "      <td>7</td>\n",
       "      <td>0.00</td>\n",
       "      <td>0</td>\n",
       "      <td>0</td>\n",
       "      <td>0</td>\n",
       "      <td>0</td>\n",
       "      <td>0</td>\n",
       "      <td>0</td>\n",
       "      <td>0</td>\n",
       "      <td>...</td>\n",
       "      <td>0</td>\n",
       "      <td>0</td>\n",
       "      <td>0</td>\n",
       "      <td>0</td>\n",
       "      <td>0</td>\n",
       "      <td>0</td>\n",
       "      <td>0</td>\n",
       "      <td>0</td>\n",
       "      <td>0</td>\n",
       "      <td>0</td>\n",
       "    </tr>\n",
       "    <tr>\n",
       "      <th>84376</th>\n",
       "      <td>39700611505</td>\n",
       "      <td>15</td>\n",
       "      <td>0.00</td>\n",
       "      <td>0</td>\n",
       "      <td>0</td>\n",
       "      <td>0</td>\n",
       "      <td>0</td>\n",
       "      <td>0</td>\n",
       "      <td>0</td>\n",
       "      <td>0</td>\n",
       "      <td>...</td>\n",
       "      <td>0</td>\n",
       "      <td>0</td>\n",
       "      <td>0</td>\n",
       "      <td>0</td>\n",
       "      <td>0</td>\n",
       "      <td>0</td>\n",
       "      <td>0</td>\n",
       "      <td>0</td>\n",
       "      <td>0</td>\n",
       "      <td>0</td>\n",
       "    </tr>\n",
       "    <tr>\n",
       "      <th>84377</th>\n",
       "      <td>22019281430</td>\n",
       "      <td>2</td>\n",
       "      <td>0.00</td>\n",
       "      <td>0</td>\n",
       "      <td>0</td>\n",
       "      <td>0</td>\n",
       "      <td>0</td>\n",
       "      <td>0</td>\n",
       "      <td>0</td>\n",
       "      <td>0</td>\n",
       "      <td>...</td>\n",
       "      <td>0</td>\n",
       "      <td>0</td>\n",
       "      <td>0</td>\n",
       "      <td>0</td>\n",
       "      <td>0</td>\n",
       "      <td>0</td>\n",
       "      <td>0</td>\n",
       "      <td>0</td>\n",
       "      <td>0</td>\n",
       "      <td>0</td>\n",
       "    </tr>\n",
       "  </tbody>\n",
       "</table>\n",
       "<p>84378 rows × 4021 columns</p>\n",
       "</div>"
      ],
      "text/plain": [
       "       merchant_abn  int_month  monthly_profit  10023283211  10142254217  \\\n",
       "0       38700038932         11        25783.11            0            0   \n",
       "1       35344855546         19          192.27            0            0   \n",
       "2       78916025936         13           10.00            0            0   \n",
       "3       60654402457          5           12.96            0            0   \n",
       "4       37470904997         14            0.00            0            0   \n",
       "...             ...        ...             ...          ...          ...   \n",
       "84373   72064300998          5          112.61            0            0   \n",
       "84374   29623808496         21            0.00            0            0   \n",
       "84375   47047735645          7            0.00            0            0   \n",
       "84376   39700611505         15            0.00            0            0   \n",
       "84377   22019281430          2            0.00            0            0   \n",
       "\n",
       "       10165489824  10187291046  10192359162  10206519221  10255988167  ...  \\\n",
       "0                0            0            0            0            0  ...   \n",
       "1                0            0            0            0            0  ...   \n",
       "2                0            0            0            0            0  ...   \n",
       "3                0            0            0            0            0  ...   \n",
       "4                0            0            0            0            0  ...   \n",
       "...            ...          ...          ...          ...          ...  ...   \n",
       "84373            0            0            0            0            0  ...   \n",
       "84374            0            0            0            0            0  ...   \n",
       "84375            0            0            0            0            0  ...   \n",
       "84376            0            0            0            0            0  ...   \n",
       "84377            0            0            0            0            0  ...   \n",
       "\n",
       "       99803748393  99807059634  99845294286  99861963809  99904689266  \\\n",
       "0                0            0            0            0            0   \n",
       "1                0            0            0            0            0   \n",
       "2                0            0            0            0            0   \n",
       "3                0            0            0            0            0   \n",
       "4                0            0            0            0            0   \n",
       "...            ...          ...          ...          ...          ...   \n",
       "84373            0            0            0            0            0   \n",
       "84374            0            0            0            0            0   \n",
       "84375            0            0            0            0            0   \n",
       "84376            0            0            0            0            0   \n",
       "84377            0            0            0            0            0   \n",
       "\n",
       "       99938978285  99974311662  99976658299  99987905597  99990536339  \n",
       "0                0            0            0            0            0  \n",
       "1                0            0            0            0            0  \n",
       "2                0            0            0            0            0  \n",
       "3                0            0            0            0            0  \n",
       "4                0            0            0            0            0  \n",
       "...            ...          ...          ...          ...          ...  \n",
       "84373            0            0            0            0            0  \n",
       "84374            0            0            0            0            0  \n",
       "84375            0            0            0            0            0  \n",
       "84376            0            0            0            0            0  \n",
       "84377            0            0            0            0            0  \n",
       "\n",
       "[84378 rows x 4021 columns]"
      ]
     },
     "execution_count": 9,
     "metadata": {},
     "output_type": "execute_result"
    }
   ],
   "source": [
    "one_hot = pd.get_dummies(df['merchant_abn'])\n",
    "df = df.join(one_hot)\n",
    "df "
   ]
  },
  {
   "cell_type": "code",
   "execution_count": 10,
   "metadata": {},
   "outputs": [
    {
     "name": "stdout",
     "output_type": "stream",
     "text": [
      "26482181417\n"
     ]
    },
    {
     "data": {
      "image/png": "[encoded data removed]",
      "text/plain": [
       "<Figure size 432x288 with 1 Axes>"
      ]
     },
     "metadata": {
      "needs_background": "light"
     },
     "output_type": "display_data"
    },
    {
     "name": "stdout",
     "output_type": "stream",
     "text": [
      "67797658023\n"
     ]
    },
    {
     "data": {
      "image/png": "[encoded data removed]",
      "text/plain": [
       "<Figure size 432x288 with 1 Axes>"
      ]
     },
     "metadata": {
      "needs_background": "light"
     },
     "output_type": "display_data"
    },
    {
     "name": "stdout",
     "output_type": "stream",
     "text": [
      "14480530534\n"
     ]
    },
    {
     "data": {
      "image/png": "[encoded data removed]",
      "text/plain": [
       "<Figure size 432x288 with 1 Axes>"
      ]
     },
     "metadata": {
      "needs_background": "light"
     },
     "output_type": "display_data"
    },
    {
     "name": "stdout",
     "output_type": "stream",
     "text": [
      "67979471799\n"
     ]
    },
    {
     "data": {
      "image/png": "[encoded data removed]",
      "text/plain": [
       "<Figure size 432x288 with 1 Axes>"
      ]
     },
     "metadata": {
      "needs_background": "light"
     },
     "output_type": "display_data"
    },
    {
     "name": "stdout",
     "output_type": "stream",
     "text": [
      "31686734877\n"
     ]
    },
    {
     "data": {
      "image/png": "[encoded data removed]",
      "text/plain": [
       "<Figure size 432x288 with 1 Axes>"
      ]
     },
     "metadata": {
      "needs_background": "light"
     },
     "output_type": "display_data"
    }
   ],
   "source": [
    "random.seed(4302022)\n",
    "\n",
    "for i in range(5):\n",
    "    random_merchant = random.sample(merchant_abns.tolist(), 1)[0]\n",
    "    \n",
    "    print(random_merchant)\n",
    "    \n",
    "    filtereddf = df[df[random_merchant] == 1][['int_month', 'monthly_profit']]\n",
    "    filtereddf = filtereddf.sort_values('int_month')\n",
    "    filtereddf = filtereddf['monthly_profit']\n",
    "    \n",
    "    x = pd.plotting.autocorrelation_plot(filtereddf)\n",
    " \n",
    "    x.plot()\n",
    " \n",
    "    plt.show()\n"
   ]
  },
  {
   "cell_type": "markdown",
   "metadata": {},
   "source": [
    "Just as we saw with predicting the number of transaction, for a large number of merchants lags are correlated roughly on average until about a lag length of 2, hence will keep the same here for additional consistency benefits.\n",
    "\n",
    "Again, prepare the dataframe for model training:"
   ]
  },
  {
   "cell_type": "code",
   "execution_count": 11,
   "metadata": {},
   "outputs": [
    {
     "name": "stderr",
     "output_type": "stream",
     "text": [
      "                                                                                \r"
     ]
    },
    {
     "data": {
      "text/html": [
       "<table border='1'>\n",
       "<tr><th>merchant_abn</th><th>int_month</th><th>monthly_profit</th><th>merchant_abn_class</th></tr>\n",
       "<tr><td>38700038932</td><td>11</td><td>25783.11</td><td>1327.0</td></tr>\n",
       "<tr><td>35344855546</td><td>19</td><td>192.27</td><td>1181.0</td></tr>\n",
       "<tr><td>78916025936</td><td>13</td><td>10.0</td><td>3108.0</td></tr>\n",
       "<tr><td>60654402457</td><td>5</td><td>12.96</td><td>2279.0</td></tr>\n",
       "<tr><td>37470904997</td><td>14</td><td>0.0</td><td>1270.0</td></tr>\n",
       "<tr><td>61867784114</td><td>3</td><td>87.01</td><td>2323.0</td></tr>\n",
       "<tr><td>46331355995</td><td>7</td><td>2134.4</td><td>1668.0</td></tr>\n",
       "<tr><td>35927874515</td><td>2</td><td>2110.72</td><td>1214.0</td></tr>\n",
       "<tr><td>57093429717</td><td>20</td><td>429.26</td><td>2145.0</td></tr>\n",
       "<tr><td>14316652139</td><td>8</td><td>233.55</td><td>190.0</td></tr>\n",
       "<tr><td>60616659469</td><td>6</td><td>643.28</td><td>2275.0</td></tr>\n",
       "<tr><td>24952685426</td><td>11</td><td>84.55</td><td>681.0</td></tr>\n",
       "<tr><td>88878493736</td><td>6</td><td>624.02</td><td>3548.0</td></tr>\n",
       "<tr><td>42270780873</td><td>12</td><td>34.95</td><td>1482.0</td></tr>\n",
       "<tr><td>43321695302</td><td>19</td><td>2305.1</td><td>1535.0</td></tr>\n",
       "<tr><td>21532935983</td><td>12</td><td>343.54</td><td>521.0</td></tr>\n",
       "<tr><td>28510201393</td><td>18</td><td>428.44</td><td>850.0</td></tr>\n",
       "<tr><td>72167534195</td><td>20</td><td>179.05</td><td>2795.0</td></tr>\n",
       "<tr><td>41027080823</td><td>14</td><td>0.0</td><td>1418.0</td></tr>\n",
       "<tr><td>83045786081</td><td>14</td><td>131.57</td><td>3299.0</td></tr>\n",
       "</table>\n",
       "only showing top 20 rows\n"
      ],
      "text/plain": [
       "+------------+---------+--------------+------------------+\n",
       "|merchant_abn|int_month|monthly_profit|merchant_abn_class|\n",
       "+------------+---------+--------------+------------------+\n",
       "| 38700038932|       11|      25783.11|            1327.0|\n",
       "| 35344855546|       19|        192.27|            1181.0|\n",
       "| 78916025936|       13|          10.0|            3108.0|\n",
       "| 60654402457|        5|         12.96|            2279.0|\n",
       "| 37470904997|       14|           0.0|            1270.0|\n",
       "| 61867784114|        3|         87.01|            2323.0|\n",
       "| 46331355995|        7|        2134.4|            1668.0|\n",
       "| 35927874515|        2|       2110.72|            1214.0|\n",
       "| 57093429717|       20|        429.26|            2145.0|\n",
       "| 14316652139|        8|        233.55|             190.0|\n",
       "| 60616659469|        6|        643.28|            2275.0|\n",
       "| 24952685426|       11|         84.55|             681.0|\n",
       "| 88878493736|        6|        624.02|            3548.0|\n",
       "| 42270780873|       12|         34.95|            1482.0|\n",
       "| 43321695302|       19|        2305.1|            1535.0|\n",
       "| 21532935983|       12|        343.54|             521.0|\n",
       "| 28510201393|       18|        428.44|             850.0|\n",
       "| 72167534195|       20|        179.05|            2795.0|\n",
       "| 41027080823|       14|           0.0|            1418.0|\n",
       "| 83045786081|       14|        131.57|            3299.0|\n",
       "+------------+---------+--------------+------------------+\n",
       "only showing top 20 rows"
      ]
     },
     "execution_count": 11,
     "metadata": {},
     "output_type": "execute_result"
    }
   ],
   "source": [
    "indexer = StringIndexer(inputCol='merchant_abn', outputCol='merchant_abn_class')\n",
    "indexer_fitted = indexer.fit(modeldf)\n",
    "modeldf = indexer_fitted.transform(modeldf)\n",
    "modeldf"
   ]
  },
  {
   "cell_type": "code",
   "execution_count": 12,
   "metadata": {},
   "outputs": [
    {
     "name": "stderr",
     "output_type": "stream",
     "text": [
      "                                                                                \r"
     ]
    },
    {
     "data": {
      "text/html": [
       "<table border='1'>\n",
       "<tr><th>merchant_abn</th><th>int_month</th><th>monthly_profit</th><th>merchant_abn_class</th><th>merchant_abn_ohe</th></tr>\n",
       "<tr><td>38700038932</td><td>11</td><td>25783.11</td><td>1327.0</td><td>(4017,[1327],[1.0])</td></tr>\n",
       "<tr><td>35344855546</td><td>19</td><td>192.27</td><td>1181.0</td><td>(4017,[1181],[1.0])</td></tr>\n",
       "<tr><td>78916025936</td><td>13</td><td>10.0</td><td>3108.0</td><td>(4017,[3108],[1.0])</td></tr>\n",
       "<tr><td>60654402457</td><td>5</td><td>12.96</td><td>2279.0</td><td>(4017,[2279],[1.0])</td></tr>\n",
       "<tr><td>37470904997</td><td>14</td><td>0.0</td><td>1270.0</td><td>(4017,[1270],[1.0])</td></tr>\n",
       "<tr><td>61867784114</td><td>3</td><td>87.01</td><td>2323.0</td><td>(4017,[2323],[1.0])</td></tr>\n",
       "<tr><td>46331355995</td><td>7</td><td>2134.4</td><td>1668.0</td><td>(4017,[1668],[1.0])</td></tr>\n",
       "<tr><td>35927874515</td><td>2</td><td>2110.72</td><td>1214.0</td><td>(4017,[1214],[1.0])</td></tr>\n",
       "<tr><td>57093429717</td><td>20</td><td>429.26</td><td>2145.0</td><td>(4017,[2145],[1.0])</td></tr>\n",
       "<tr><td>14316652139</td><td>8</td><td>233.55</td><td>190.0</td><td>(4017,[190],[1.0])</td></tr>\n",
       "<tr><td>60616659469</td><td>6</td><td>643.28</td><td>2275.0</td><td>(4017,[2275],[1.0])</td></tr>\n",
       "<tr><td>24952685426</td><td>11</td><td>84.55</td><td>681.0</td><td>(4017,[681],[1.0])</td></tr>\n",
       "<tr><td>88878493736</td><td>6</td><td>624.02</td><td>3548.0</td><td>(4017,[3548],[1.0])</td></tr>\n",
       "<tr><td>42270780873</td><td>12</td><td>34.95</td><td>1482.0</td><td>(4017,[1482],[1.0])</td></tr>\n",
       "<tr><td>43321695302</td><td>19</td><td>2305.1</td><td>1535.0</td><td>(4017,[1535],[1.0])</td></tr>\n",
       "<tr><td>21532935983</td><td>12</td><td>343.54</td><td>521.0</td><td>(4017,[521],[1.0])</td></tr>\n",
       "<tr><td>28510201393</td><td>18</td><td>428.44</td><td>850.0</td><td>(4017,[850],[1.0])</td></tr>\n",
       "<tr><td>72167534195</td><td>20</td><td>179.05</td><td>2795.0</td><td>(4017,[2795],[1.0])</td></tr>\n",
       "<tr><td>41027080823</td><td>14</td><td>0.0</td><td>1418.0</td><td>(4017,[1418],[1.0])</td></tr>\n",
       "<tr><td>83045786081</td><td>14</td><td>131.57</td><td>3299.0</td><td>(4017,[3299],[1.0])</td></tr>\n",
       "</table>\n",
       "only showing top 20 rows\n"
      ],
      "text/plain": [
       "+------------+---------+--------------+------------------+-------------------+\n",
       "|merchant_abn|int_month|monthly_profit|merchant_abn_class|   merchant_abn_ohe|\n",
       "+------------+---------+--------------+------------------+-------------------+\n",
       "| 38700038932|       11|      25783.11|            1327.0|(4017,[1327],[1.0])|\n",
       "| 35344855546|       19|        192.27|            1181.0|(4017,[1181],[1.0])|\n",
       "| 78916025936|       13|          10.0|            3108.0|(4017,[3108],[1.0])|\n",
       "| 60654402457|        5|         12.96|            2279.0|(4017,[2279],[1.0])|\n",
       "| 37470904997|       14|           0.0|            1270.0|(4017,[1270],[1.0])|\n",
       "| 61867784114|        3|         87.01|            2323.0|(4017,[2323],[1.0])|\n",
       "| 46331355995|        7|        2134.4|            1668.0|(4017,[1668],[1.0])|\n",
       "| 35927874515|        2|       2110.72|            1214.0|(4017,[1214],[1.0])|\n",
       "| 57093429717|       20|        429.26|            2145.0|(4017,[2145],[1.0])|\n",
       "| 14316652139|        8|        233.55|             190.0| (4017,[190],[1.0])|\n",
       "| 60616659469|        6|        643.28|            2275.0|(4017,[2275],[1.0])|\n",
       "| 24952685426|       11|         84.55|             681.0| (4017,[681],[1.0])|\n",
       "| 88878493736|        6|        624.02|            3548.0|(4017,[3548],[1.0])|\n",
       "| 42270780873|       12|         34.95|            1482.0|(4017,[1482],[1.0])|\n",
       "| 43321695302|       19|        2305.1|            1535.0|(4017,[1535],[1.0])|\n",
       "| 21532935983|       12|        343.54|             521.0| (4017,[521],[1.0])|\n",
       "| 28510201393|       18|        428.44|             850.0| (4017,[850],[1.0])|\n",
       "| 72167534195|       20|        179.05|            2795.0|(4017,[2795],[1.0])|\n",
       "| 41027080823|       14|           0.0|            1418.0|(4017,[1418],[1.0])|\n",
       "| 83045786081|       14|        131.57|            3299.0|(4017,[3299],[1.0])|\n",
       "+------------+---------+--------------+------------------+-------------------+\n",
       "only showing top 20 rows"
      ]
     },
     "execution_count": 12,
     "metadata": {},
     "output_type": "execute_result"
    }
   ],
   "source": [
    "encoder = OneHotEncoder(inputCols=['merchant_abn_class'], outputCols=['merchant_abn_ohe'])\n",
    "modeldf = encoder.fit(modeldf).transform(modeldf)\n",
    "modeldf"
   ]
  },
  {
   "cell_type": "code",
   "execution_count": 13,
   "metadata": {},
   "outputs": [
    {
     "name": "stderr",
     "output_type": "stream",
     "text": [
      "                                                                                \r"
     ]
    },
    {
     "name": "stdout",
     "output_type": "stream",
     "text": [
      "+------------+---------+--------------+------------------+----------------+----------------+----------------+\n",
      "|merchant_abn|int_month|monthly_profit|merchant_abn_class|merchant_abn_ohe|monthly_profit-1|monthly_profit-2|\n",
      "+------------+---------+--------------+------------------+----------------+----------------+----------------+\n",
      "| 10023283211|        1|          1.26|               0.0|(4017,[0],[1.0])|            null|            null|\n",
      "| 10023283211|        2|         42.36|               0.0|(4017,[0],[1.0])|            1.26|            null|\n",
      "| 10023283211|        3|         45.01|               0.0|(4017,[0],[1.0])|           42.36|            1.26|\n",
      "| 10023283211|        4|          47.9|               0.0|(4017,[0],[1.0])|           45.01|           42.36|\n",
      "| 10023283211|        5|          45.3|               0.0|(4017,[0],[1.0])|            47.9|           45.01|\n",
      "| 10023283211|        6|         47.19|               0.0|(4017,[0],[1.0])|            45.3|            47.9|\n",
      "| 10023283211|        7|          49.2|               0.0|(4017,[0],[1.0])|           47.19|            45.3|\n",
      "| 10023283211|        8|         50.78|               0.0|(4017,[0],[1.0])|            49.2|           47.19|\n",
      "| 10023283211|        9|          60.3|               0.0|(4017,[0],[1.0])|           50.78|            49.2|\n",
      "| 10023283211|       10|         67.36|               0.0|(4017,[0],[1.0])|            60.3|           50.78|\n",
      "| 10023283211|       11|         67.22|               0.0|(4017,[0],[1.0])|           67.36|            60.3|\n",
      "| 10023283211|       12|          43.1|               0.0|(4017,[0],[1.0])|           67.22|           67.36|\n",
      "| 10023283211|       13|         50.36|               0.0|(4017,[0],[1.0])|            43.1|           67.22|\n",
      "| 10023283211|       14|         50.48|               0.0|(4017,[0],[1.0])|           50.36|            43.1|\n",
      "| 10023283211|       15|         54.49|               0.0|(4017,[0],[1.0])|           50.48|           50.36|\n",
      "| 10023283211|       16|         56.45|               0.0|(4017,[0],[1.0])|           54.49|           50.48|\n",
      "| 10023283211|       17|          54.1|               0.0|(4017,[0],[1.0])|           56.45|           54.49|\n",
      "| 10023283211|       18|         61.68|               0.0|(4017,[0],[1.0])|            54.1|           56.45|\n",
      "| 10023283211|       19|         59.96|               0.0|(4017,[0],[1.0])|           61.68|            54.1|\n",
      "| 10023283211|       20|         70.14|               0.0|(4017,[0],[1.0])|           59.96|           61.68|\n",
      "| 10023283211|       21|         61.56|               0.0|(4017,[0],[1.0])|           70.14|           59.96|\n",
      "| 10142254217|        1|          0.46|               1.0|(4017,[1],[1.0])|            null|            null|\n",
      "| 10142254217|        2|        173.06|               1.0|(4017,[1],[1.0])|            0.46|            null|\n",
      "| 10142254217|        3|        148.49|               1.0|(4017,[1],[1.0])|          173.06|            0.46|\n",
      "| 10142254217|        4|        200.37|               1.0|(4017,[1],[1.0])|          148.49|          173.06|\n",
      "| 10142254217|        5|        205.91|               1.0|(4017,[1],[1.0])|          200.37|          148.49|\n",
      "| 10142254217|        6|        214.99|               1.0|(4017,[1],[1.0])|          205.91|          200.37|\n",
      "| 10142254217|        7|        198.79|               1.0|(4017,[1],[1.0])|          214.99|          205.91|\n",
      "| 10142254217|        8|        203.97|               1.0|(4017,[1],[1.0])|          198.79|          214.99|\n",
      "| 10142254217|        9|        174.25|               1.0|(4017,[1],[1.0])|          203.97|          198.79|\n",
      "| 10142254217|       10|        278.78|               1.0|(4017,[1],[1.0])|          174.25|          203.97|\n",
      "| 10142254217|       11|        284.62|               1.0|(4017,[1],[1.0])|          278.78|          174.25|\n",
      "| 10142254217|       12|        145.69|               1.0|(4017,[1],[1.0])|          284.62|          278.78|\n",
      "| 10142254217|       13|        184.56|               1.0|(4017,[1],[1.0])|          145.69|          284.62|\n",
      "| 10142254217|       14|        206.68|               1.0|(4017,[1],[1.0])|          184.56|          145.69|\n",
      "| 10142254217|       15|        262.04|               1.0|(4017,[1],[1.0])|          206.68|          184.56|\n",
      "| 10142254217|       16|        264.05|               1.0|(4017,[1],[1.0])|          262.04|          206.68|\n",
      "| 10142254217|       17|        176.81|               1.0|(4017,[1],[1.0])|          264.05|          262.04|\n",
      "| 10142254217|       18|        233.71|               1.0|(4017,[1],[1.0])|          176.81|          264.05|\n",
      "| 10142254217|       19|        235.46|               1.0|(4017,[1],[1.0])|          233.71|          176.81|\n",
      "| 10142254217|       20|         230.3|               1.0|(4017,[1],[1.0])|          235.46|          233.71|\n",
      "| 10142254217|       21|        297.41|               1.0|(4017,[1],[1.0])|           230.3|          235.46|\n",
      "| 10165489824|        1|           0.0|               2.0|(4017,[2],[1.0])|            null|            null|\n",
      "| 10165489824|        2|           0.0|               2.0|(4017,[2],[1.0])|             0.0|            null|\n",
      "| 10165489824|        3|           0.0|               2.0|(4017,[2],[1.0])|             0.0|             0.0|\n",
      "| 10165489824|        4|           0.0|               2.0|(4017,[2],[1.0])|             0.0|             0.0|\n",
      "| 10165489824|        5|           0.0|               2.0|(4017,[2],[1.0])|             0.0|             0.0|\n",
      "| 10165489824|        6|           0.0|               2.0|(4017,[2],[1.0])|             0.0|             0.0|\n",
      "| 10165489824|        7|           0.0|               2.0|(4017,[2],[1.0])|             0.0|             0.0|\n",
      "| 10165489824|        8|           0.0|               2.0|(4017,[2],[1.0])|             0.0|             0.0|\n",
      "| 10165489824|        9|           0.0|               2.0|(4017,[2],[1.0])|             0.0|             0.0|\n",
      "| 10165489824|       10|           0.0|               2.0|(4017,[2],[1.0])|             0.0|             0.0|\n",
      "| 10165489824|       11|           0.0|               2.0|(4017,[2],[1.0])|             0.0|             0.0|\n",
      "| 10165489824|       12|           0.0|               2.0|(4017,[2],[1.0])|             0.0|             0.0|\n",
      "| 10165489824|       13|           0.0|               2.0|(4017,[2],[1.0])|             0.0|             0.0|\n",
      "| 10165489824|       14|           0.0|               2.0|(4017,[2],[1.0])|             0.0|             0.0|\n",
      "| 10165489824|       15|           0.0|               2.0|(4017,[2],[1.0])|             0.0|             0.0|\n",
      "| 10165489824|       16|           0.0|               2.0|(4017,[2],[1.0])|             0.0|             0.0|\n",
      "| 10165489824|       17|        682.77|               2.0|(4017,[2],[1.0])|             0.0|             0.0|\n",
      "| 10165489824|       18|           0.0|               2.0|(4017,[2],[1.0])|          682.77|             0.0|\n",
      "+------------+---------+--------------+------------------+----------------+----------------+----------------+\n",
      "only showing top 60 rows\n",
      "\n"
     ]
    }
   ],
   "source": [
    "partition = Window.partitionBy(\"merchant_abn\").orderBy(\"int_month\")\n",
    "modeldf = modeldf.withColumn('monthly_profit-1', lag('monthly_profit', 1).over(partition))\n",
    "modeldf = modeldf.withColumn('monthly_profit-2', lag('monthly_profit', 2).over(partition))\n",
    "modeldf.show(60)"
   ]
  },
  {
   "cell_type": "code",
   "execution_count": 14,
   "metadata": {
    "tags": []
   },
   "outputs": [
    {
     "name": "stderr",
     "output_type": "stream",
     "text": [
      "                                                                                \r"
     ]
    },
    {
     "data": {
      "text/plain": [
       "76342"
      ]
     },
     "execution_count": 14,
     "metadata": {},
     "output_type": "execute_result"
    }
   ],
   "source": [
    "modeldf = modeldf.na.drop()\n",
    "modeldf.count()"
   ]
  },
  {
   "cell_type": "markdown",
   "metadata": {},
   "source": [
    "Now we build our time series regression model, with our testing data being the final 3 months of the dataset."
   ]
  },
  {
   "cell_type": "code",
   "execution_count": 15,
   "metadata": {},
   "outputs": [
    {
     "name": "stderr",
     "output_type": "stream",
     "text": [
      "                                                                                \r"
     ]
    },
    {
     "data": {
      "text/html": [
       "<table border='1'>\n",
       "<tr><th>merchant_abn</th><th>int_month</th><th>monthly_profit</th><th>merchant_abn_class</th><th>merchant_abn_ohe</th><th>monthly_profit-1</th><th>monthly_profit-2</th><th>features</th></tr>\n",
       "<tr><td>10023283211</td><td>3</td><td>45.01</td><td>0.0</td><td>(4017,[0],[1.0])</td><td>42.36</td><td>1.26</td><td>(4020,[0,4017,401...</td></tr>\n",
       "<tr><td>10023283211</td><td>4</td><td>47.9</td><td>0.0</td><td>(4017,[0],[1.0])</td><td>45.01</td><td>42.36</td><td>(4020,[0,4017,401...</td></tr>\n",
       "<tr><td>10023283211</td><td>5</td><td>45.3</td><td>0.0</td><td>(4017,[0],[1.0])</td><td>47.9</td><td>45.01</td><td>(4020,[0,4017,401...</td></tr>\n",
       "<tr><td>10023283211</td><td>6</td><td>47.19</td><td>0.0</td><td>(4017,[0],[1.0])</td><td>45.3</td><td>47.9</td><td>(4020,[0,4017,401...</td></tr>\n",
       "<tr><td>10023283211</td><td>7</td><td>49.2</td><td>0.0</td><td>(4017,[0],[1.0])</td><td>47.19</td><td>45.3</td><td>(4020,[0,4017,401...</td></tr>\n",
       "<tr><td>10023283211</td><td>8</td><td>50.78</td><td>0.0</td><td>(4017,[0],[1.0])</td><td>49.2</td><td>47.19</td><td>(4020,[0,4017,401...</td></tr>\n",
       "<tr><td>10023283211</td><td>9</td><td>60.3</td><td>0.0</td><td>(4017,[0],[1.0])</td><td>50.78</td><td>49.2</td><td>(4020,[0,4017,401...</td></tr>\n",
       "<tr><td>10023283211</td><td>10</td><td>67.36</td><td>0.0</td><td>(4017,[0],[1.0])</td><td>60.3</td><td>50.78</td><td>(4020,[0,4017,401...</td></tr>\n",
       "<tr><td>10023283211</td><td>11</td><td>67.22</td><td>0.0</td><td>(4017,[0],[1.0])</td><td>67.36</td><td>60.3</td><td>(4020,[0,4017,401...</td></tr>\n",
       "<tr><td>10023283211</td><td>12</td><td>43.1</td><td>0.0</td><td>(4017,[0],[1.0])</td><td>67.22</td><td>67.36</td><td>(4020,[0,4017,401...</td></tr>\n",
       "<tr><td>10023283211</td><td>13</td><td>50.36</td><td>0.0</td><td>(4017,[0],[1.0])</td><td>43.1</td><td>67.22</td><td>(4020,[0,4017,401...</td></tr>\n",
       "<tr><td>10023283211</td><td>14</td><td>50.48</td><td>0.0</td><td>(4017,[0],[1.0])</td><td>50.36</td><td>43.1</td><td>(4020,[0,4017,401...</td></tr>\n",
       "<tr><td>10023283211</td><td>15</td><td>54.49</td><td>0.0</td><td>(4017,[0],[1.0])</td><td>50.48</td><td>50.36</td><td>(4020,[0,4017,401...</td></tr>\n",
       "<tr><td>10023283211</td><td>16</td><td>56.45</td><td>0.0</td><td>(4017,[0],[1.0])</td><td>54.49</td><td>50.48</td><td>(4020,[0,4017,401...</td></tr>\n",
       "<tr><td>10023283211</td><td>17</td><td>54.1</td><td>0.0</td><td>(4017,[0],[1.0])</td><td>56.45</td><td>54.49</td><td>(4020,[0,4017,401...</td></tr>\n",
       "<tr><td>10023283211</td><td>18</td><td>61.68</td><td>0.0</td><td>(4017,[0],[1.0])</td><td>54.1</td><td>56.45</td><td>(4020,[0,4017,401...</td></tr>\n",
       "<tr><td>10142254217</td><td>3</td><td>148.49</td><td>1.0</td><td>(4017,[1],[1.0])</td><td>173.06</td><td>0.46</td><td>(4020,[1,4017,401...</td></tr>\n",
       "<tr><td>10142254217</td><td>4</td><td>200.37</td><td>1.0</td><td>(4017,[1],[1.0])</td><td>148.49</td><td>173.06</td><td>(4020,[1,4017,401...</td></tr>\n",
       "<tr><td>10142254217</td><td>5</td><td>205.91</td><td>1.0</td><td>(4017,[1],[1.0])</td><td>200.37</td><td>148.49</td><td>(4020,[1,4017,401...</td></tr>\n",
       "<tr><td>10142254217</td><td>6</td><td>214.99</td><td>1.0</td><td>(4017,[1],[1.0])</td><td>205.91</td><td>200.37</td><td>(4020,[1,4017,401...</td></tr>\n",
       "</table>\n",
       "only showing top 20 rows\n"
      ],
      "text/plain": [
       "+------------+---------+--------------+------------------+----------------+----------------+----------------+--------------------+\n",
       "|merchant_abn|int_month|monthly_profit|merchant_abn_class|merchant_abn_ohe|monthly_profit-1|monthly_profit-2|            features|\n",
       "+------------+---------+--------------+------------------+----------------+----------------+----------------+--------------------+\n",
       "| 10023283211|        3|         45.01|               0.0|(4017,[0],[1.0])|           42.36|            1.26|(4020,[0,4017,401...|\n",
       "| 10023283211|        4|          47.9|               0.0|(4017,[0],[1.0])|           45.01|           42.36|(4020,[0,4017,401...|\n",
       "| 10023283211|        5|          45.3|               0.0|(4017,[0],[1.0])|            47.9|           45.01|(4020,[0,4017,401...|\n",
       "| 10023283211|        6|         47.19|               0.0|(4017,[0],[1.0])|            45.3|            47.9|(4020,[0,4017,401...|\n",
       "| 10023283211|        7|          49.2|               0.0|(4017,[0],[1.0])|           47.19|            45.3|(4020,[0,4017,401...|\n",
       "| 10023283211|        8|         50.78|               0.0|(4017,[0],[1.0])|            49.2|           47.19|(4020,[0,4017,401...|\n",
       "| 10023283211|        9|          60.3|               0.0|(4017,[0],[1.0])|           50.78|            49.2|(4020,[0,4017,401...|\n",
       "| 10023283211|       10|         67.36|               0.0|(4017,[0],[1.0])|            60.3|           50.78|(4020,[0,4017,401...|\n",
       "| 10023283211|       11|         67.22|               0.0|(4017,[0],[1.0])|           67.36|            60.3|(4020,[0,4017,401...|\n",
       "| 10023283211|       12|          43.1|               0.0|(4017,[0],[1.0])|           67.22|           67.36|(4020,[0,4017,401...|\n",
       "| 10023283211|       13|         50.36|               0.0|(4017,[0],[1.0])|            43.1|           67.22|(4020,[0,4017,401...|\n",
       "| 10023283211|       14|         50.48|               0.0|(4017,[0],[1.0])|           50.36|            43.1|(4020,[0,4017,401...|\n",
       "| 10023283211|       15|         54.49|               0.0|(4017,[0],[1.0])|           50.48|           50.36|(4020,[0,4017,401...|\n",
       "| 10023283211|       16|         56.45|               0.0|(4017,[0],[1.0])|           54.49|           50.48|(4020,[0,4017,401...|\n",
       "| 10023283211|       17|          54.1|               0.0|(4017,[0],[1.0])|           56.45|           54.49|(4020,[0,4017,401...|\n",
       "| 10023283211|       18|         61.68|               0.0|(4017,[0],[1.0])|            54.1|           56.45|(4020,[0,4017,401...|\n",
       "| 10142254217|        3|        148.49|               1.0|(4017,[1],[1.0])|          173.06|            0.46|(4020,[1,4017,401...|\n",
       "| 10142254217|        4|        200.37|               1.0|(4017,[1],[1.0])|          148.49|          173.06|(4020,[1,4017,401...|\n",
       "| 10142254217|        5|        205.91|               1.0|(4017,[1],[1.0])|          200.37|          148.49|(4020,[1,4017,401...|\n",
       "| 10142254217|        6|        214.99|               1.0|(4017,[1],[1.0])|          205.91|          200.37|(4020,[1,4017,401...|\n",
       "+------------+---------+--------------+------------------+----------------+----------------+----------------+--------------------+\n",
       "only showing top 20 rows"
      ]
     },
     "execution_count": 15,
     "metadata": {},
     "output_type": "execute_result"
    }
   ],
   "source": [
    "SPLIT_MONTH = 18\n",
    "\n",
    "vecAssembler = VectorAssembler(inputCols=['merchant_abn_ohe', 'int_month', \n",
    "                                          'monthly_profit-1', \n",
    "                                          'monthly_profit-2'], \n",
    "                               outputCol='features')\n",
    "\n",
    "train = modeldf.filter(col('int_month') <= SPLIT_MONTH)\n",
    "test = modeldf.filter(col('int_month') > SPLIT_MONTH)\n",
    "\n",
    "train = vecAssembler.transform(train)\n",
    "test = vecAssembler.transform(test)\n",
    "train"
   ]
  },
  {
   "cell_type": "code",
   "execution_count": 16,
   "metadata": {},
   "outputs": [
    {
     "name": "stderr",
     "output_type": "stream",
     "text": [
      "                                                                                \r"
     ]
    },
    {
     "name": "stdout",
     "output_type": "stream",
     "text": [
      "22/10/05 21:19:38 WARN Instrumentation: [df58fdca] regParam is zero, which might cause numerical instability and overfitting.\n"
     ]
    },
    {
     "name": "stderr",
     "output_type": "stream",
     "text": [
      "[Stage 169:>                                                        (0 + 1) / 1]\r"
     ]
    },
    {
     "name": "stdout",
     "output_type": "stream",
     "text": [
      "22/10/05 21:19:39 WARN InstanceBuilder$NativeBLAS: Failed to load implementation from:dev.ludovic.netlib.blas.JNIBLAS\n",
      "22/10/05 21:19:39 WARN InstanceBuilder$NativeBLAS: Failed to load implementation from:dev.ludovic.netlib.blas.ForeignLinkerBLAS\n"
     ]
    },
    {
     "name": "stderr",
     "output_type": "stream",
     "text": [
      "                                                                                \r"
     ]
    },
    {
     "name": "stdout",
     "output_type": "stream",
     "text": [
      "22/10/05 21:19:44 WARN InstanceBuilder$NativeLAPACK: Failed to load implementation from:dev.ludovic.netlib.lapack.JNILAPACK\n"
     ]
    },
    {
     "name": "stderr",
     "output_type": "stream",
     "text": [
      "                                                                                \r"
     ]
    }
   ],
   "source": [
    "lr = LinearRegression(featuresCol='features', labelCol='monthly_profit')\n",
    "lrModel = lr.fit(train)"
   ]
  },
  {
   "cell_type": "code",
   "execution_count": 17,
   "metadata": {},
   "outputs": [
    {
     "name": "stderr",
     "output_type": "stream",
     "text": [
      "                                                                                \r"
     ]
    },
    {
     "data": {
      "text/html": [
       "<table border='1'>\n",
       "<tr><th>merchant_abn</th><th>int_month</th><th>monthly_profit</th><th>merchant_abn_class</th><th>merchant_abn_ohe</th><th>monthly_profit-1</th><th>monthly_profit-2</th><th>features</th><th>prediction</th></tr>\n",
       "<tr><td>10023283211</td><td>19</td><td>59.96</td><td>0.0</td><td>(4017,[0],[1.0])</td><td>61.68</td><td>54.1</td><td>(4020,[0,4017,401...</td><td>132.4725961369549</td></tr>\n",
       "<tr><td>10023283211</td><td>20</td><td>70.14</td><td>0.0</td><td>(4017,[0],[1.0])</td><td>59.96</td><td>61.68</td><td>(4020,[0,4017,401...</td><td>139.88463951352685</td></tr>\n",
       "<tr><td>10023283211</td><td>21</td><td>61.56</td><td>0.0</td><td>(4017,[0],[1.0])</td><td>70.14</td><td>59.96</td><td>(4020,[0,4017,401...</td><td>154.2695878543691</td></tr>\n",
       "<tr><td>10142254217</td><td>19</td><td>235.46</td><td>1.0</td><td>(4017,[1],[1.0])</td><td>233.71</td><td>176.81</td><td>(4020,[1,4017,401...</td><td>300.96889548917306</td></tr>\n",
       "<tr><td>10142254217</td><td>20</td><td>230.3</td><td>1.0</td><td>(4017,[1],[1.0])</td><td>235.46</td><td>233.71</td><td>(4020,[1,4017,401...</td><td>307.7675029050876</td></tr>\n",
       "<tr><td>10142254217</td><td>21</td><td>297.41</td><td>1.0</td><td>(4017,[1],[1.0])</td><td>230.3</td><td>235.46</td><td>(4020,[1,4017,401...</td><td>313.59715624590496</td></tr>\n",
       "<tr><td>10165489824</td><td>19</td><td>178.2</td><td>2.0</td><td>(4017,[2],[1.0])</td><td>0.0</td><td>682.77</td><td>(4020,[2,4017,401...</td><td>58.89954354922885</td></tr>\n",
       "<tr><td>10165489824</td><td>20</td><td>221.73</td><td>2.0</td><td>(4017,[2],[1.0])</td><td>178.2</td><td>0.0</td><td>(4020,[2,4017,401...</td><td>199.7009395975776</td></tr>\n",
       "<tr><td>10165489824</td><td>21</td><td>0.0</td><td>2.0</td><td>(4017,[2],[1.0])</td><td>221.73</td><td>178.2</td><td>(4020,[2,4017,401...</td><td>223.14981074556374</td></tr>\n",
       "<tr><td>10187291046</td><td>19</td><td>51.9</td><td>3.0</td><td>(4017,[3],[1.0])</td><td>51.14</td><td>77.09</td><td>(4020,[3,4017,401...</td><td>126.84339927657298</td></tr>\n",
       "<tr><td>10187291046</td><td>20</td><td>59.64</td><td>3.0</td><td>(4017,[3],[1.0])</td><td>51.9</td><td>51.14</td><td>(4020,[3,4017,401...</td><td>137.31560664606707</td></tr>\n",
       "<tr><td>10187291046</td><td>21</td><td>70.46</td><td>3.0</td><td>(4017,[3],[1.0])</td><td>59.64</td><td>51.9</td><td>(4020,[3,4017,401...</td><td>150.24166405886353</td></tr>\n",
       "<tr><td>10192359162</td><td>19</td><td>616.43</td><td>4.0</td><td>(4017,[4],[1.0])</td><td>589.94</td><td>288.73</td><td>(4020,[4,4017,401...</td><td>614.386244825594</td></tr>\n",
       "<tr><td>10192359162</td><td>20</td><td>710.5</td><td>4.0</td><td>(4017,[4],[1.0])</td><td>616.43</td><td>589.94</td><td>(4020,[4,4017,401...</td><td>622.2706137800385</td></tr>\n",
       "<tr><td>10192359162</td><td>21</td><td>711.74</td><td>4.0</td><td>(4017,[4],[1.0])</td><td>710.5</td><td>616.43</td><td>(4020,[4,4017,401...</td><td>681.0417445433359</td></tr>\n",
       "<tr><td>10206519221</td><td>19</td><td>1052.94</td><td>5.0</td><td>(4017,[5],[1.0])</td><td>1239.5</td><td>923.65</td><td>(4020,[5,4017,401...</td><td>1211.4419398975592</td></tr>\n",
       "<tr><td>10206519221</td><td>20</td><td>1225.21</td><td>5.0</td><td>(4017,[5],[1.0])</td><td>1052.94</td><td>1239.5</td><td>(4020,[5,4017,401...</td><td>1102.212620458602</td></tr>\n",
       "<tr><td>10206519221</td><td>21</td><td>997.33</td><td>5.0</td><td>(4017,[5],[1.0])</td><td>1225.21</td><td>1052.94</td><td>(4020,[5,4017,401...</td><td>1214.5342341843334</td></tr>\n",
       "<tr><td>10255988167</td><td>19</td><td>662.33</td><td>6.0</td><td>(4017,[6],[1.0])</td><td>499.37</td><td>623.39</td><td>(4020,[6,4017,401...</td><td>606.8876778577935</td></tr>\n",
       "<tr><td>10255988167</td><td>20</td><td>843.32</td><td>6.0</td><td>(4017,[6],[1.0])</td><td>662.33</td><td>499.37</td><td>(4020,[6,4017,401...</td><td>710.9428909741214</td></tr>\n",
       "</table>\n",
       "only showing top 20 rows\n"
      ],
      "text/plain": [
       "+------------+---------+--------------+------------------+----------------+----------------+----------------+--------------------+------------------+\n",
       "|merchant_abn|int_month|monthly_profit|merchant_abn_class|merchant_abn_ohe|monthly_profit-1|monthly_profit-2|            features|        prediction|\n",
       "+------------+---------+--------------+------------------+----------------+----------------+----------------+--------------------+------------------+\n",
       "| 10023283211|       19|         59.96|               0.0|(4017,[0],[1.0])|           61.68|            54.1|(4020,[0,4017,401...| 132.4725961369549|\n",
       "| 10023283211|       20|         70.14|               0.0|(4017,[0],[1.0])|           59.96|           61.68|(4020,[0,4017,401...|139.88463951352685|\n",
       "| 10023283211|       21|         61.56|               0.0|(4017,[0],[1.0])|           70.14|           59.96|(4020,[0,4017,401...| 154.2695878543691|\n",
       "| 10142254217|       19|        235.46|               1.0|(4017,[1],[1.0])|          233.71|          176.81|(4020,[1,4017,401...|300.96889548917306|\n",
       "| 10142254217|       20|         230.3|               1.0|(4017,[1],[1.0])|          235.46|          233.71|(4020,[1,4017,401...| 307.7675029050876|\n",
       "| 10142254217|       21|        297.41|               1.0|(4017,[1],[1.0])|           230.3|          235.46|(4020,[1,4017,401...|313.59715624590496|\n",
       "| 10165489824|       19|         178.2|               2.0|(4017,[2],[1.0])|             0.0|          682.77|(4020,[2,4017,401...| 58.89954354922885|\n",
       "| 10165489824|       20|        221.73|               2.0|(4017,[2],[1.0])|           178.2|             0.0|(4020,[2,4017,401...| 199.7009395975776|\n",
       "| 10165489824|       21|           0.0|               2.0|(4017,[2],[1.0])|          221.73|           178.2|(4020,[2,4017,401...|223.14981074556374|\n",
       "| 10187291046|       19|          51.9|               3.0|(4017,[3],[1.0])|           51.14|           77.09|(4020,[3,4017,401...|126.84339927657298|\n",
       "| 10187291046|       20|         59.64|               3.0|(4017,[3],[1.0])|            51.9|           51.14|(4020,[3,4017,401...|137.31560664606707|\n",
       "| 10187291046|       21|         70.46|               3.0|(4017,[3],[1.0])|           59.64|            51.9|(4020,[3,4017,401...|150.24166405886353|\n",
       "| 10192359162|       19|        616.43|               4.0|(4017,[4],[1.0])|          589.94|          288.73|(4020,[4,4017,401...|  614.386244825594|\n",
       "| 10192359162|       20|         710.5|               4.0|(4017,[4],[1.0])|          616.43|          589.94|(4020,[4,4017,401...| 622.2706137800385|\n",
       "| 10192359162|       21|        711.74|               4.0|(4017,[4],[1.0])|           710.5|          616.43|(4020,[4,4017,401...| 681.0417445433359|\n",
       "| 10206519221|       19|       1052.94|               5.0|(4017,[5],[1.0])|          1239.5|          923.65|(4020,[5,4017,401...|1211.4419398975592|\n",
       "| 10206519221|       20|       1225.21|               5.0|(4017,[5],[1.0])|         1052.94|          1239.5|(4020,[5,4017,401...| 1102.212620458602|\n",
       "| 10206519221|       21|        997.33|               5.0|(4017,[5],[1.0])|         1225.21|         1052.94|(4020,[5,4017,401...|1214.5342341843334|\n",
       "| 10255988167|       19|        662.33|               6.0|(4017,[6],[1.0])|          499.37|          623.39|(4020,[6,4017,401...| 606.8876778577935|\n",
       "| 10255988167|       20|        843.32|               6.0|(4017,[6],[1.0])|          662.33|          499.37|(4020,[6,4017,401...| 710.9428909741214|\n",
       "+------------+---------+--------------+------------------+----------------+----------------+----------------+--------------------+------------------+\n",
       "only showing top 20 rows"
      ]
     },
     "execution_count": 17,
     "metadata": {},
     "output_type": "execute_result"
    }
   ],
   "source": [
    "predictions = lrModel.transform(test)\n",
    "predictions"
   ]
  },
  {
   "cell_type": "code",
   "execution_count": 18,
   "metadata": {},
   "outputs": [
    {
     "name": "stderr",
     "output_type": "stream",
     "text": [
      "                                                                                \r"
     ]
    },
    {
     "name": "stdout",
     "output_type": "stream",
     "text": [
      "15457638036\n"
     ]
    },
    {
     "data": {
      "image/png": "[encoded data removed]",
      "text/plain": [
       "<Figure size 432x288 with 1 Axes>"
      ]
     },
     "metadata": {
      "needs_background": "light"
     },
     "output_type": "display_data"
    },
    {
     "name": "stdout",
     "output_type": "stream",
     "text": [
      "76351454594\n"
     ]
    },
    {
     "data": {
      "image/png": "[encoded data removed]",
      "text/plain": [
       "<Figure size 432x288 with 1 Axes>"
      ]
     },
     "metadata": {
      "needs_background": "light"
     },
     "output_type": "display_data"
    },
    {
     "name": "stdout",
     "output_type": "stream",
     "text": [
      "47879799074\n"
     ]
    },
    {
     "data": {
      "image/png": "[encoded data removed]",
      "text/plain": [
       "<Figure size 432x288 with 1 Axes>"
      ]
     },
     "metadata": {
      "needs_background": "light"
     },
     "output_type": "display_data"
    },
    {
     "name": "stdout",
     "output_type": "stream",
     "text": [
      "33064796871\n"
     ]
    },
    {
     "data": {
      "image/png": "[encoded data removed]",
      "text/plain": [
       "<Figure size 432x288 with 1 Axes>"
      ]
     },
     "metadata": {
      "needs_background": "light"
     },
     "output_type": "display_data"
    },
    {
     "name": "stdout",
     "output_type": "stream",
     "text": [
      "82081024598\n"
     ]
    },
    {
     "data": {
      "image/png": "[encoded data removed]",
      "text/plain": [
       "<Figure size 432x288 with 1 Axes>"
      ]
     },
     "metadata": {
      "needs_background": "light"
     },
     "output_type": "display_data"
    }
   ],
   "source": [
    "#random.seed(4302023)\n",
    "\n",
    "dfp = predictions.toPandas()\n",
    "X = [19, 20, 21]\n",
    "\n",
    "for i in range(5):\n",
    "    random_merchant = random.sample(merchant_abns.tolist(), 1)[0]\n",
    "    print(random_merchant)\n",
    "    X_axis = np.arange(19, 22)\n",
    "    plt.bar(X_axis - 0.2, dfp[dfp['merchant_abn']==random_merchant][\"monthly_profit\"], 0.4, label = 'Actual')\n",
    "    plt.bar(X_axis + 0.2, dfp[dfp['merchant_abn']==random_merchant][\"prediction\"], 0.4, label = 'Predicted')\n",
    "    plt.legend()\n",
    "    plt.xlabel('month')\n",
    "    plt.ylabel('Profit')\n",
    "    plt.title('Profit')\n",
    "    plt.show()"
   ]
  },
  {
   "cell_type": "markdown",
   "metadata": {
    "tags": []
   },
   "source": [
    "# Simulation"
   ]
  },
  {
   "cell_type": "markdown",
   "metadata": {},
   "source": [
    "Build up predictions until we reach 2023. Expect total run time of the following code to take several minutes."
   ]
  },
  {
   "cell_type": "code",
   "execution_count": 19,
   "metadata": {
    "tags": []
   },
   "outputs": [
    {
     "name": "stderr",
     "output_type": "stream",
     "text": [
      "                                                                                \r"
     ]
    },
    {
     "data": {
      "text/html": [
       "<div>\n",
       "<style scoped>\n",
       "    .dataframe tbody tr th:only-of-type {\n",
       "        vertical-align: middle;\n",
       "    }\n",
       "\n",
       "    .dataframe tbody tr th {\n",
       "        vertical-align: top;\n",
       "    }\n",
       "\n",
       "    .dataframe thead th {\n",
       "        text-align: right;\n",
       "    }\n",
       "</style>\n",
       "<table border=\"1\" class=\"dataframe\">\n",
       "  <thead>\n",
       "    <tr style=\"text-align: right;\">\n",
       "      <th></th>\n",
       "      <th>merchant_abn</th>\n",
       "      <th>int_month</th>\n",
       "      <th>prediction</th>\n",
       "      <th>merchant_abn_ohe</th>\n",
       "    </tr>\n",
       "  </thead>\n",
       "  <tbody>\n",
       "    <tr>\n",
       "      <th>0</th>\n",
       "      <td>10023283211</td>\n",
       "      <td>19</td>\n",
       "      <td>132.472596</td>\n",
       "      <td>(1.0, 0.0, 0.0, 0.0, 0.0, 0.0, 0.0, 0.0, 0.0, ...</td>\n",
       "    </tr>\n",
       "    <tr>\n",
       "      <th>1</th>\n",
       "      <td>10023283211</td>\n",
       "      <td>20</td>\n",
       "      <td>139.884640</td>\n",
       "      <td>(1.0, 0.0, 0.0, 0.0, 0.0, 0.0, 0.0, 0.0, 0.0, ...</td>\n",
       "    </tr>\n",
       "    <tr>\n",
       "      <th>2</th>\n",
       "      <td>10023283211</td>\n",
       "      <td>21</td>\n",
       "      <td>154.269588</td>\n",
       "      <td>(1.0, 0.0, 0.0, 0.0, 0.0, 0.0, 0.0, 0.0, 0.0, ...</td>\n",
       "    </tr>\n",
       "    <tr>\n",
       "      <th>3</th>\n",
       "      <td>10142254217</td>\n",
       "      <td>19</td>\n",
       "      <td>300.968895</td>\n",
       "      <td>(0.0, 1.0, 0.0, 0.0, 0.0, 0.0, 0.0, 0.0, 0.0, ...</td>\n",
       "    </tr>\n",
       "    <tr>\n",
       "      <th>4</th>\n",
       "      <td>10142254217</td>\n",
       "      <td>20</td>\n",
       "      <td>307.767503</td>\n",
       "      <td>(0.0, 1.0, 0.0, 0.0, 0.0, 0.0, 0.0, 0.0, 0.0, ...</td>\n",
       "    </tr>\n",
       "    <tr>\n",
       "      <th>...</th>\n",
       "      <td>...</td>\n",
       "      <td>...</td>\n",
       "      <td>...</td>\n",
       "      <td>...</td>\n",
       "    </tr>\n",
       "    <tr>\n",
       "      <th>12049</th>\n",
       "      <td>99987905597</td>\n",
       "      <td>20</td>\n",
       "      <td>235.893626</td>\n",
       "      <td>(0.0, 0.0, 0.0, 0.0, 0.0, 0.0, 0.0, 0.0, 0.0, ...</td>\n",
       "    </tr>\n",
       "    <tr>\n",
       "      <th>12050</th>\n",
       "      <td>99987905597</td>\n",
       "      <td>21</td>\n",
       "      <td>380.367826</td>\n",
       "      <td>(0.0, 0.0, 0.0, 0.0, 0.0, 0.0, 0.0, 0.0, 0.0, ...</td>\n",
       "    </tr>\n",
       "    <tr>\n",
       "      <th>12051</th>\n",
       "      <td>99990536339</td>\n",
       "      <td>19</td>\n",
       "      <td>76.736766</td>\n",
       "      <td>(0.0, 0.0, 0.0, 0.0, 0.0, 0.0, 0.0, 0.0, 0.0, ...</td>\n",
       "    </tr>\n",
       "    <tr>\n",
       "      <th>12052</th>\n",
       "      <td>99990536339</td>\n",
       "      <td>20</td>\n",
       "      <td>85.327298</td>\n",
       "      <td>(0.0, 0.0, 0.0, 0.0, 0.0, 0.0, 0.0, 0.0, 0.0, ...</td>\n",
       "    </tr>\n",
       "    <tr>\n",
       "      <th>12053</th>\n",
       "      <td>99990536339</td>\n",
       "      <td>21</td>\n",
       "      <td>93.780494</td>\n",
       "      <td>(0.0, 0.0, 0.0, 0.0, 0.0, 0.0, 0.0, 0.0, 0.0, ...</td>\n",
       "    </tr>\n",
       "  </tbody>\n",
       "</table>\n",
       "<p>12054 rows × 4 columns</p>\n",
       "</div>"
      ],
      "text/plain": [
       "       merchant_abn  int_month  prediction  \\\n",
       "0       10023283211         19  132.472596   \n",
       "1       10023283211         20  139.884640   \n",
       "2       10023283211         21  154.269588   \n",
       "3       10142254217         19  300.968895   \n",
       "4       10142254217         20  307.767503   \n",
       "...             ...        ...         ...   \n",
       "12049   99987905597         20  235.893626   \n",
       "12050   99987905597         21  380.367826   \n",
       "12051   99990536339         19   76.736766   \n",
       "12052   99990536339         20   85.327298   \n",
       "12053   99990536339         21   93.780494   \n",
       "\n",
       "                                        merchant_abn_ohe  \n",
       "0      (1.0, 0.0, 0.0, 0.0, 0.0, 0.0, 0.0, 0.0, 0.0, ...  \n",
       "1      (1.0, 0.0, 0.0, 0.0, 0.0, 0.0, 0.0, 0.0, 0.0, ...  \n",
       "2      (1.0, 0.0, 0.0, 0.0, 0.0, 0.0, 0.0, 0.0, 0.0, ...  \n",
       "3      (0.0, 1.0, 0.0, 0.0, 0.0, 0.0, 0.0, 0.0, 0.0, ...  \n",
       "4      (0.0, 1.0, 0.0, 0.0, 0.0, 0.0, 0.0, 0.0, 0.0, ...  \n",
       "...                                                  ...  \n",
       "12049  (0.0, 0.0, 0.0, 0.0, 0.0, 0.0, 0.0, 0.0, 0.0, ...  \n",
       "12050  (0.0, 0.0, 0.0, 0.0, 0.0, 0.0, 0.0, 0.0, 0.0, ...  \n",
       "12051  (0.0, 0.0, 0.0, 0.0, 0.0, 0.0, 0.0, 0.0, 0.0, ...  \n",
       "12052  (0.0, 0.0, 0.0, 0.0, 0.0, 0.0, 0.0, 0.0, 0.0, ...  \n",
       "12053  (0.0, 0.0, 0.0, 0.0, 0.0, 0.0, 0.0, 0.0, 0.0, ...  \n",
       "\n",
       "[12054 rows x 4 columns]"
      ]
     },
     "execution_count": 19,
     "metadata": {},
     "output_type": "execute_result"
    }
   ],
   "source": [
    "pdf = predictions.select('merchant_abn', 'int_month', 'prediction', 'merchant_abn_ohe').toPandas()\n",
    "pdf"
   ]
  },
  {
   "cell_type": "code",
   "execution_count": 20,
   "metadata": {},
   "outputs": [],
   "source": [
    "records = []\n",
    "for int_month in range(22, 36):\n",
    "    merchant_data = []\n",
    "    for m in merchant_abns:\n",
    "        merchant_abn_ohe = pdf.loc[(pdf['merchant_abn']==m) & (pdf['int_month']==21), 'merchant_abn_ohe'].values[0]\n",
    "        merchant_data.append([m, merchant_abn_ohe, int_month, \n",
    "                              float(pdf.loc[(pdf['merchant_abn']==m) & \n",
    "                                            (pdf['int_month']==(int_month-2)), 'prediction'].values[0]),\n",
    "                              float(pdf.loc[(pdf['merchant_abn']==m) & \n",
    "                                            (pdf['int_month']==(int_month-1)), 'prediction'].values[0])])\n",
    "        \n",
    "    predictiondf = spark.createDataFrame(merchant_data, \n",
    "                                         schema=['merchant_abn', 'merchant_abn_ohe', 'int_month', 'monthly_profit-1', \n",
    "                                                 'monthly_profit-2'])\n",
    "    predictiondf = vecAssembler.transform(predictiondf)\n",
    "    predictiondf = lrModel.transform(predictiondf)\n",
    "    pdf = pd.concat([pdf, predictiondf.select('merchant_abn', 'int_month', 'prediction', 'merchant_abn_ohe').toPandas()])\n",
    "    \n",
    "    if int_month >= 24:\n",
    "        for m in merchant_abns:\n",
    "            records.append([2021 + (int_month//12), (int_month%12) + 1, m, \n",
    "                            float(pdf.loc[(pdf['merchant_abn']==m) & \n",
    "                                          (pdf['int_month']==(int_month)), 'prediction'].values[0])])"
   ]
  },
  {
   "cell_type": "code",
   "execution_count": 21,
   "metadata": {
    "tags": []
   },
   "outputs": [
    {
     "name": "stderr",
     "output_type": "stream",
     "text": [
      "----------------------------------------                                        \n",
      "Exception happened during processing of request from ('127.0.0.1', 33682)\n",
      "Traceback (most recent call last):\n",
      "  File \"/usr/lib/python3.8/socketserver.py\", line 316, in _handle_request_noblock\n",
      "    self.process_request(request, client_address)\n",
      "  File \"/usr/lib/python3.8/socketserver.py\", line 347, in process_request\n",
      "    self.finish_request(request, client_address)\n",
      "  File \"/usr/lib/python3.8/socketserver.py\", line 360, in finish_request\n",
      "    self.RequestHandlerClass(request, client_address, self)\n",
      "  File \"/usr/lib/python3.8/socketserver.py\", line 747, in __init__\n",
      "    self.handle()\n",
      "  File \"/home/jbretherton/.local/lib/python3.8/site-packages/pyspark/accumulators.py\", line 281, in handle\n",
      "    poll(accum_updates)\n",
      "  File \"/home/jbretherton/.local/lib/python3.8/site-packages/pyspark/accumulators.py\", line 253, in poll\n",
      "    if func():\n",
      "  File \"/home/jbretherton/.local/lib/python3.8/site-packages/pyspark/accumulators.py\", line 257, in accum_updates\n",
      "    num_updates = read_int(self.rfile)\n",
      "  File \"/home/jbretherton/.local/lib/python3.8/site-packages/pyspark/serializers.py\", line 595, in read_int\n",
      "    raise EOFError\n",
      "EOFError\n",
      "----------------------------------------\n"
     ]
    }
   ],
   "source": [
    "future_profit_sdf = spark.createDataFrame(records, schema=['year', 'month', 'merchant_abn', 'total_profit'])\n",
    "\n",
    "future_profit_sdf.write.mode(\"overwrite\").parquet(\"../data/curated/futureprofit.parquet/\")"
   ]
  },
  {
   "cell_type": "code",
   "execution_count": null,
   "metadata": {},
   "outputs": [],
   "source": []
  }
 ],
 "metadata": {
  "kernelspec": {
   "display_name": "Python 3 (ipykernel)",
   "language": "python",
   "name": "python3"
  },
  "language_info": {
   "codemirror_mode": {
    "name": "ipython",
    "version": 3
   },
   "file_extension": ".py",
   "mimetype": "text/x-python",
   "name": "python",
   "nbconvert_exporter": "python",
   "pygments_lexer": "ipython3",
   "version": "3.8.10"
  },
  "vscode": {
   "interpreter": {
    "hash": "916dbcbb3f70747c44a77c7bcd40155683ae19c65e1c03b4aa3499c5328201f1"
   }
  }
 },
 "nbformat": 4,
 "nbformat_minor": 4
}
