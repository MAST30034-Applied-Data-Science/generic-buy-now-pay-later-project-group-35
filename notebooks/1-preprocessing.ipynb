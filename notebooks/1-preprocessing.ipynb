{
 "cells": [
  {
   "cell_type": "markdown",
   "metadata": {},
   "source": [
    "# Pre-Processing"
   ]
  },
  {
   "cell_type": "markdown",
   "metadata": {},
   "source": [
    "## Given Data"
   ]
  },
  {
   "cell_type": "code",
   "execution_count": 1,
   "metadata": {
    "ExecuteTime": {
     "end_time": "2022-07-31T02:22:01.919813Z",
     "start_time": "2022-07-31T02:21:57.283647Z"
    }
   },
   "outputs": [
    {
     "name": "stdout",
     "output_type": "stream",
     "text": [
      "22/10/15 15:50:27 WARN Utils: Your hostname, AryansLaptop resolves to a loopback address: 127.0.1.1; using 172.29.56.17 instead (on interface eth0)\n",
      "22/10/15 15:50:27 WARN Utils: Set SPARK_LOCAL_IP if you need to bind to another address\n"
     ]
    },
    {
     "name": "stderr",
     "output_type": "stream",
     "text": [
      "Setting default log level to \"WARN\".\n",
      "To adjust logging level use sc.setLogLevel(newLevel). For SparkR, use setLogLevel(newLevel).\n"
     ]
    },
    {
     "name": "stdout",
     "output_type": "stream",
     "text": [
      "22/10/15 15:50:29 WARN NativeCodeLoader: Unable to load native-hadoop library for your platform... using builtin-java classes where applicable\n"
     ]
    }
   ],
   "source": [
    "from pyspark.sql import SparkSession\n",
    "from pyspark.sql.functions import * \n",
    "from urllib.request import urlretrieve\n",
    "from owslib.wfs import WebFeatureService\n",
    "from dotenv import load_dotenv\n",
    "import pandas as pd\n",
    "from pyspark.sql.types import *\n",
    "\n",
    "# Create a spark session\n",
    "spark = (\n",
    "    SparkSession.builder.appName(\"preprocessing\")\n",
    "    .config(\"spark.sql.repl.eagerEval.enabled\", True) \n",
    "    .config(\"spark.sql.parquet.cacheMetadata\", \"true\")\n",
    "    .config(\"spark.sql.session.timeZone\", \"Etc/UTC\")\n",
    "    .config(\"spark.driver.memory\", \"2g\")\n",
    "    .config(\"spark.executor.memory\", \"6g\")\n",
    "    .getOrCreate()\n",
    ")"
   ]
  },
  {
   "cell_type": "code",
   "execution_count": 2,
   "metadata": {},
   "outputs": [
    {
     "name": "stderr",
     "output_type": "stream",
     "text": [
      "                                                                                \r"
     ]
    },
    {
     "data": {
      "text/html": [
       "<table border='1'>\n",
       "<tr><th>user_id</th><th>merchant_abn</th><th>dollar_value</th><th>order_id</th><th>order_datetime</th></tr>\n",
       "<tr><td>18478</td><td>62191208634</td><td>63.255848959735246</td><td>949a63c8-29f7-4ab...</td><td>2021-08-20</td></tr>\n",
       "<tr><td>2</td><td>15549624934</td><td>130.3505283105634</td><td>6a84c3cf-612a-457...</td><td>2021-08-20</td></tr>\n",
       "<tr><td>18479</td><td>64403598239</td><td>120.15860593212783</td><td>b10dcc33-e53f-425...</td><td>2021-08-20</td></tr>\n",
       "<tr><td>3</td><td>60956456424</td><td>136.6785200286976</td><td>0f09c5a5-784e-447...</td><td>2021-08-20</td></tr>\n",
       "<tr><td>18479</td><td>94493496784</td><td>72.96316578355305</td><td>f6c78c1a-4600-4c5...</td><td>2021-08-20</td></tr>\n",
       "</table>\n"
      ],
      "text/plain": [
       "+-------+------------+------------------+--------------------+--------------+\n",
       "|user_id|merchant_abn|      dollar_value|            order_id|order_datetime|\n",
       "+-------+------------+------------------+--------------------+--------------+\n",
       "|  18478| 62191208634|63.255848959735246|949a63c8-29f7-4ab...|    2021-08-20|\n",
       "|      2| 15549624934| 130.3505283105634|6a84c3cf-612a-457...|    2021-08-20|\n",
       "|  18479| 64403598239|120.15860593212783|b10dcc33-e53f-425...|    2021-08-20|\n",
       "|      3| 60956456424| 136.6785200286976|0f09c5a5-784e-447...|    2021-08-20|\n",
       "|  18479| 94493496784| 72.96316578355305|f6c78c1a-4600-4c5...|    2021-08-20|\n",
       "+-------+------------+------------------+--------------------+--------------+"
      ]
     },
     "execution_count": 2,
     "metadata": {},
     "output_type": "execute_result"
    }
   ],
   "source": [
    "# Combines all transaction datasets into one\n",
    "\n",
    "RELATIVE_DIR = \"../data/\"\n",
    "\n",
    "transactiondf1 = spark.read.parquet(f\"{RELATIVE_DIR}tables/transactions_20210228_20210827_snapshot/\")\n",
    "transactiondf2 = spark.read.parquet(f\"{RELATIVE_DIR}tables/transactions_20210828_20220227_snapshot/\")\n",
    "transactiondf3 = spark.read.parquet(f\"{RELATIVE_DIR}tables/transactions_20220228_20220828_snapshot/\")\n",
    "transactiondf12 = transactiondf1.union(transactiondf2)\n",
    "transactiondf = transactiondf12.union(transactiondf3)\n",
    "transactiondf.limit(5)"
   ]
  },
  {
   "cell_type": "code",
   "execution_count": 3,
   "metadata": {},
   "outputs": [
    {
     "name": "stdout",
     "output_type": "stream",
     "text": [
      "22/10/15 15:50:38 WARN MemoryManager: Total allocation exceeds 95.00% (1,813,485,955 bytes) of heap memory\n",
      "Scaling row group sizes to 96.51% for 14 writers\n",
      "22/10/15 15:50:38 WARN MemoryManager: Total allocation exceeds 95.00% (1,813,485,955 bytes) of heap memory\n",
      "Scaling row group sizes to 90.08% for 15 writers\n",
      "22/10/15 15:50:38 WARN MemoryManager: Total allocation exceeds 95.00% (1,813,485,955 bytes) of heap memory\n",
      "Scaling row group sizes to 84.45% for 16 writers\n"
     ]
    },
    {
     "name": "stderr",
     "output_type": "stream",
     "text": [
      "[Stage 12:>                                                       (0 + 16) / 48]\r"
     ]
    },
    {
     "name": "stdout",
     "output_type": "stream",
     "text": [
      "22/10/15 15:50:40 WARN MemoryManager: Total allocation exceeds 95.00% (1,813,485,955 bytes) of heap memory\n",
      "Scaling row group sizes to 90.08% for 15 writers\n",
      "22/10/15 15:50:40 WARN MemoryManager: Total allocation exceeds 95.00% (1,813,485,955 bytes) of heap memory\n",
      "Scaling row group sizes to 96.51% for 14 writers\n"
     ]
    },
    {
     "name": "stderr",
     "output_type": "stream",
     "text": [
      "[Stage 12:==================>                                    (16 + 16) / 48]\r"
     ]
    },
    {
     "name": "stdout",
     "output_type": "stream",
     "text": [
      "22/10/15 15:50:41 WARN MemoryManager: Total allocation exceeds 95.00% (1,813,485,955 bytes) of heap memory\n",
      "Scaling row group sizes to 96.51% for 14 writers\n",
      "22/10/15 15:50:41 WARN MemoryManager: Total allocation exceeds 95.00% (1,813,485,955 bytes) of heap memory\n",
      "Scaling row group sizes to 90.08% for 15 writers\n",
      "22/10/15 15:50:41 WARN MemoryManager: Total allocation exceeds 95.00% (1,813,485,955 bytes) of heap memory\n",
      "Scaling row group sizes to 84.45% for 16 writers\n",
      "22/10/15 15:50:41 WARN MemoryManager: Total allocation exceeds 95.00% (1,813,485,955 bytes) of heap memory\n",
      "Scaling row group sizes to 90.08% for 15 writers\n",
      "22/10/15 15:50:41 WARN MemoryManager: Total allocation exceeds 95.00% (1,813,485,955 bytes) of heap memory\n",
      "Scaling row group sizes to 96.51% for 14 writers\n"
     ]
    },
    {
     "name": "stderr",
     "output_type": "stream",
     "text": [
      "[Stage 12:====================================>                  (32 + 16) / 48]\r"
     ]
    },
    {
     "name": "stdout",
     "output_type": "stream",
     "text": [
      "22/10/15 15:50:42 WARN MemoryManager: Total allocation exceeds 95.00% (1,813,485,955 bytes) of heap memory\n",
      "Scaling row group sizes to 96.51% for 14 writers\n",
      "22/10/15 15:50:42 WARN MemoryManager: Total allocation exceeds 95.00% (1,813,485,955 bytes) of heap memory\n",
      "Scaling row group sizes to 90.08% for 15 writers\n",
      "22/10/15 15:50:42 WARN MemoryManager: Total allocation exceeds 95.00% (1,813,485,955 bytes) of heap memory\n",
      "Scaling row group sizes to 84.45% for 16 writers\n",
      "22/10/15 15:50:43 WARN MemoryManager: Total allocation exceeds 95.00% (1,813,485,955 bytes) of heap memory\n",
      "Scaling row group sizes to 90.08% for 15 writers\n",
      "22/10/15 15:50:43 WARN MemoryManager: Total allocation exceeds 95.00% (1,813,485,955 bytes) of heap memory\n",
      "Scaling row group sizes to 96.51% for 14 writers\n"
     ]
    },
    {
     "name": "stderr",
     "output_type": "stream",
     "text": [
      "                                                                                \r"
     ]
    }
   ],
   "source": [
    "# Saves combined transaction dataset for futher analaysis\n",
    "\n",
    "transactiondf.write.mode(\"overwrite\").parquet(f'{RELATIVE_DIR}curated/transactiondf.parquet')"
   ]
  },
  {
   "cell_type": "code",
   "execution_count": 4,
   "metadata": {},
   "outputs": [
    {
     "data": {
      "text/html": [
       "<table border='1'>\n",
       "<tr><th>user_id</th><th>consumer_id</th></tr>\n",
       "<tr><td>1</td><td>1195503</td></tr>\n",
       "<tr><td>2</td><td>179208</td></tr>\n",
       "<tr><td>3</td><td>1194530</td></tr>\n",
       "<tr><td>4</td><td>154128</td></tr>\n",
       "<tr><td>5</td><td>712975</td></tr>\n",
       "</table>\n"
      ],
      "text/plain": [
       "+-------+-----------+\n",
       "|user_id|consumer_id|\n",
       "+-------+-----------+\n",
       "|      1|    1195503|\n",
       "|      2|     179208|\n",
       "|      3|    1194530|\n",
       "|      4|     154128|\n",
       "|      5|     712975|\n",
       "+-------+-----------+"
      ]
     },
     "execution_count": 4,
     "metadata": {},
     "output_type": "execute_result"
    }
   ],
   "source": [
    "# Read in and visualize user dataset\n",
    "\n",
    "userdf = spark.read.parquet(f\"{RELATIVE_DIR}tables/consumer_user_details.parquet\")\n",
    "userdf.limit(5)"
   ]
  },
  {
   "cell_type": "code",
   "execution_count": 5,
   "metadata": {},
   "outputs": [
    {
     "data": {
      "text/html": [
       "<table border='1'>\n",
       "<tr><th>customer_name</th><th>address</th><th>state</th><th>postcode</th><th>gender</th><th>consumer_id</th></tr>\n",
       "<tr><td>Yolanda Williams</td><td>413 Haney Gardens...</td><td>WA</td><td>6935</td><td>Female</td><td>1195503</td></tr>\n",
       "<tr><td>Mary Smith</td><td>3764 Amber Oval</td><td>NSW</td><td>2782</td><td>Female</td><td>179208</td></tr>\n",
       "<tr><td>Jill Jones MD</td><td>40693 Henry Greens</td><td>NT</td><td>862</td><td>Female</td><td>1194530</td></tr>\n",
       "<tr><td>Lindsay Jimenez</td><td>00653 Davenport C...</td><td>NSW</td><td>2780</td><td>Female</td><td>154128</td></tr>\n",
       "<tr><td>Rebecca Blanchard</td><td>9271 Michael Mano...</td><td>WA</td><td>6355</td><td>Female</td><td>712975</td></tr>\n",
       "</table>\n"
      ],
      "text/plain": [
       "+-----------------+--------------------+-----+--------+------+-----------+\n",
       "|    customer_name|             address|state|postcode|gender|consumer_id|\n",
       "+-----------------+--------------------+-----+--------+------+-----------+\n",
       "| Yolanda Williams|413 Haney Gardens...|   WA|    6935|Female|    1195503|\n",
       "|       Mary Smith|     3764 Amber Oval|  NSW|    2782|Female|     179208|\n",
       "|    Jill Jones MD|  40693 Henry Greens|   NT|     862|Female|    1194530|\n",
       "|  Lindsay Jimenez|00653 Davenport C...|  NSW|    2780|Female|     154128|\n",
       "|Rebecca Blanchard|9271 Michael Mano...|   WA|    6355|Female|     712975|\n",
       "+-----------------+--------------------+-----+--------+------+-----------+"
      ]
     },
     "execution_count": 5,
     "metadata": {},
     "output_type": "execute_result"
    }
   ],
   "source": [
    "# Read in and visualize consumer dataset\n",
    "\n",
    "consumerdf = spark.read.option(\"header\",\"true\").csv(f\"{RELATIVE_DIR}tables/tbl_consumer.csv\", sep=\"|\")\n",
    "consumerdf = consumerdf.withColumnRenamed(\"name\",\"customer_name\")\n",
    "consumerdf.limit(5)"
   ]
  },
  {
   "cell_type": "code",
   "execution_count": 6,
   "metadata": {},
   "outputs": [
    {
     "data": {
      "text/html": [
       "<table border='1'>\n",
       "<tr><th>company_name</th><th>tags</th><th>merchant_abn</th><th>take_rate</th><th>revenue_band</th></tr>\n",
       "<tr><td>Felis Limited</td><td>furniture, home f...</td><td>10023283211</td><td> 0.18</td><td> e</td></tr>\n",
       "<tr><td>Arcu Ac Orci Corp...</td><td>cable, satellite,...</td><td>10142254217</td><td> 4.22</td><td> b</td></tr>\n",
       "<tr><td>Nunc Sed Company</td><td>jewelry, watch, c...</td><td>10165489824</td><td> 4.40</td><td> b</td></tr>\n",
       "<tr><td>Ultricies Digniss...</td><td>watch, clock, and...</td><td>10187291046</td><td> 3.29</td><td> b</td></tr>\n",
       "<tr><td>Enim Condimentum PC</td><td>music shops - mus...</td><td>10192359162</td><td> 6.33</td><td> a</td></tr>\n",
       "</table>\n"
      ],
      "text/plain": [
       "+--------------------+--------------------+------------+---------+------------+\n",
       "|        company_name|                tags|merchant_abn|take_rate|revenue_band|\n",
       "+--------------------+--------------------+------------+---------+------------+\n",
       "|       Felis Limited|furniture, home f...| 10023283211|     0.18|           e|\n",
       "|Arcu Ac Orci Corp...|cable, satellite,...| 10142254217|     4.22|           b|\n",
       "|    Nunc Sed Company|jewelry, watch, c...| 10165489824|     4.40|           b|\n",
       "|Ultricies Digniss...|watch, clock, and...| 10187291046|     3.29|           b|\n",
       "| Enim Condimentum PC|music shops - mus...| 10192359162|     6.33|           a|\n",
       "+--------------------+--------------------+------------+---------+------------+"
      ]
     },
     "execution_count": 6,
     "metadata": {},
     "output_type": "execute_result"
    }
   ],
   "source": [
    "# Extract all values from the tags column in the merchant dataframe\n",
    "\n",
    "merchantdf = spark.read.parquet(f\"{RELATIVE_DIR}tables/tbl_merchants.parquet\")\n",
    "merchantdf = merchantdf.withColumnRenamed(\"name\",\"company_name\")\n",
    "\n",
    "# Replace all square brackets with round brackets\n",
    "merchantdf = merchantdf.withColumn('tags', regexp_replace('tags', '\\\\[', '\\\\('))\n",
    "merchantdf = merchantdf.withColumn('tags', regexp_replace('tags', '\\\\]', '\\\\)'))\n",
    "\n",
    "# Extract take rate into seperate column\n",
    "merchantdf = merchantdf.withColumn(\"take_rate\", \n",
    "                                   split(col(\"tags\"), \"\\\\),\").getItem(2))\\\n",
    "                       .withColumn('take_rate', \n",
    "                                   regexp_replace('take_rate', 'take rate: ', \n",
    "                                                  ''))\\\n",
    "                       .withColumn('take_rate', \n",
    "                                   regexp_replace('take_rate', '\\\\(', ''))\\\n",
    "                       .withColumn('take_rate', \n",
    "                                   regexp_replace('take_rate', '\\\\)', ''))\n",
    "\n",
    "# Extract revenue band\n",
    "merchantdf = merchantdf.withColumn(\"revenue_band\", \n",
    "                                   split(col(\"tags\"), \"\\\\),\").getItem(1))\\\n",
    "                       .withColumn('revenue_band', \n",
    "                                   regexp_replace('revenue_band', '\\\\(', ''))\\\n",
    "                       .withColumn('revenue_band', \n",
    "                                   regexp_replace('revenue_band', '\\\\)', ''))\n",
    "\n",
    "# Extract tags band\n",
    "merchantdf = merchantdf.withColumn(\"tags\", \n",
    "                                   split(col(\"tags\"), \"\\\\),\").getItem(0))\\\n",
    "                       .withColumn('tags', \n",
    "                                   regexp_replace('tags', '\\\\(', ''))\\\n",
    "                       .withColumn('tags', \n",
    "                                   regexp_replace('tags', '\\\\)', ''))\\\n",
    "                       .withColumn('tags', \n",
    "                                   regexp_replace('tags', ' +', ' '))\\\n",
    "                       .withColumn('tags', \n",
    "                                   lower('tags'))\n",
    "\n",
    "merchantdf.limit(5)"
   ]
  },
  {
   "cell_type": "code",
   "execution_count": 7,
   "metadata": {},
   "outputs": [],
   "source": [
    "# Saves more useful merchant dataframe for later use\n",
    "\n",
    "merchantdf.write.mode(\"overwrite\").parquet(f'{RELATIVE_DIR}curated/merchantdf.parquet')"
   ]
  },
  {
   "cell_type": "code",
   "execution_count": 8,
   "metadata": {},
   "outputs": [
    {
     "name": "stdout",
     "output_type": "stream",
     "text": [
      "14195505 499999\n"
     ]
    },
    {
     "name": "stderr",
     "output_type": "stream",
     "text": [
      "                                                                                \r"
     ]
    },
    {
     "name": "stdout",
     "output_type": "stream",
     "text": [
      "14195505\n",
      "\n",
      "\n",
      "14195505 499999\n",
      "14195505\n",
      "\n",
      "\n",
      "14195505 4026\n"
     ]
    },
    {
     "name": "stderr",
     "output_type": "stream",
     "text": [
      "[Stage 64:====================================>                  (32 + 16) / 48]\r"
     ]
    },
    {
     "name": "stdout",
     "output_type": "stream",
     "text": [
      "13614675\n"
     ]
    },
    {
     "name": "stderr",
     "output_type": "stream",
     "text": [
      "                                                                                \r"
     ]
    }
   ],
   "source": [
    "# Combines all datasets and checks for loss of rows\n",
    "\n",
    "# Check no rows dropped when combining transactions with user\n",
    "print(transactiondf.count(),userdf.count())\n",
    "mergedf = transactiondf.join(userdf, \"user_id\")\n",
    "print(mergedf.count())\n",
    "print(\"\\n\")\n",
    "\n",
    "# Check no rows dropped when combining with consumer\n",
    "print(mergedf.count(), consumerdf.count())\n",
    "mergedf = mergedf.join(consumerdf, \"consumer_id\")\n",
    "print(mergedf.count())\n",
    "print(\"\\n\")\n",
    "\n",
    "# Check no rows dropped when combining with merchant\n",
    "print(mergedf.count(),merchantdf.count())\n",
    "mergedf = mergedf.join(merchantdf, \"merchant_abn\")\n",
    "print(mergedf.count())"
   ]
  },
  {
   "cell_type": "markdown",
   "metadata": {},
   "source": [
    "We can see that the number of rows in the dataset has decreased from 14195505 to 13614675. Since this reduction occurred when joining on merchant_abn, this means that the merchantdf for a number of transactions didn't have a record for the specified merchant."
   ]
  },
  {
   "cell_type": "code",
   "execution_count": 9,
   "metadata": {},
   "outputs": [
    {
     "name": "stderr",
     "output_type": "stream",
     "text": [
      "[Stage 73:>                                                       (0 + 16) / 17]\r"
     ]
    },
    {
     "name": "stdout",
     "output_type": "stream",
     "text": [
      "22/10/15 15:51:01 WARN MemoryManager: Total allocation exceeds 95.00% (1,813,485,955 bytes) of heap memory\n",
      "Scaling row group sizes to 96.51% for 14 writers\n",
      "22/10/15 15:51:01 WARN MemoryManager: Total allocation exceeds 95.00% (1,813,485,955 bytes) of heap memory\n",
      "Scaling row group sizes to 90.08% for 15 writers\n",
      "22/10/15 15:51:01 WARN MemoryManager: Total allocation exceeds 95.00% (1,813,485,955 bytes) of heap memory\n",
      "Scaling row group sizes to 84.45% for 16 writers\n",
      "22/10/15 15:51:07 WARN MemoryManager: Total allocation exceeds 95.00% (1,813,485,955 bytes) of heap memory\n",
      "Scaling row group sizes to 90.08% for 15 writers\n"
     ]
    },
    {
     "name": "stderr",
     "output_type": "stream",
     "text": [
      "[Stage 73:===>                                                    (1 + 16) / 17]\r"
     ]
    },
    {
     "name": "stdout",
     "output_type": "stream",
     "text": [
      "22/10/15 15:51:08 WARN MemoryManager: Total allocation exceeds 95.00% (1,813,485,955 bytes) of heap memory\n",
      "Scaling row group sizes to 96.51% for 14 writers\n"
     ]
    },
    {
     "name": "stderr",
     "output_type": "stream",
     "text": [
      "                                                                                \r"
     ]
    }
   ],
   "source": [
    "# Saves a merged version of all given datasets for later use\n",
    "\n",
    "mergedf.write.mode(\"overwrite\").parquet(f'{RELATIVE_DIR}curated/mergedftemp.parquet')"
   ]
  },
  {
   "cell_type": "markdown",
   "metadata": {},
   "source": [
    "## Population Data"
   ]
  },
  {
   "cell_type": "markdown",
   "metadata": {},
   "source": [
    "Population data is an xlsx file that contains field names 'no..', 'no.', ... that represent age groups (years): '0-4', '5-9', ... , with all groups having a 4 years interval. <br>\n",
    "When reading the population file, only the 'no.' fields are retrieved and hence, need to assign these fields appropriate names."
   ]
  },
  {
   "cell_type": "code",
   "execution_count": 10,
   "metadata": {},
   "outputs": [],
   "source": [
    "# rows to be skipped based on inspection of the file\n",
    "skip = list(range(7)) + [8] + list(range(2481, 2490)) + [2480]\n",
    "\n",
    "# auto populate fields to be renamed and all field names\n",
    "fields_2b_renamed = ['S/T name', 'no.']\n",
    "field_names = ['S/T name', 'SA2 code', 'SA2 name', 'no.']\n",
    "AGE_FIELDS_COUNT = 18\n",
    "for i in range (1, AGE_FIELDS_COUNT+1):\n",
    "    string = 'no..' + str(i)\n",
    "    fields_2b_renamed.append(string)\n",
    "    field_names.append(string)\n",
    "\n",
    "# auto populate new field names to be assigned\n",
    "# based on given file's headings for each 'no.' field \n",
    "AGE_UB = 85\n",
    "AGE_RANGE = 4\n",
    "rename_to = ['State/Terr']\n",
    "for i in range(0, AGE_UB+1, AGE_RANGE+1):\n",
    "    col_name = \"age \"\n",
    "\n",
    "    if i == AGE_UB:\n",
    "        col_name += f\"{i}+\"\n",
    "        rename_to.append(col_name)\n",
    "        continue\n",
    "\n",
    "    col_name += f\"{i}-{i+AGE_RANGE}\"\n",
    "    rename_to.append(col_name)\n",
    "\n",
    "rename_to.append('Total')\n",
    "\n",
    "rename_cols = dict(zip(fields_2b_renamed, rename_to))"
   ]
  },
  {
   "cell_type": "code",
   "execution_count": 11,
   "metadata": {},
   "outputs": [
    {
     "data": {
      "text/html": [
       "<div>\n",
       "<style scoped>\n",
       "    .dataframe tbody tr th:only-of-type {\n",
       "        vertical-align: middle;\n",
       "    }\n",
       "\n",
       "    .dataframe tbody tr th {\n",
       "        vertical-align: top;\n",
       "    }\n",
       "\n",
       "    .dataframe thead th {\n",
       "        text-align: right;\n",
       "    }\n",
       "</style>\n",
       "<table border=\"1\" class=\"dataframe\">\n",
       "  <thead>\n",
       "    <tr style=\"text-align: right;\">\n",
       "      <th></th>\n",
       "      <th>State/Terr</th>\n",
       "      <th>SA2 code</th>\n",
       "      <th>SA2 name</th>\n",
       "      <th>age 0-4</th>\n",
       "      <th>age 5-9</th>\n",
       "      <th>age 10-14</th>\n",
       "      <th>age 15-19</th>\n",
       "      <th>age 20-24</th>\n",
       "      <th>age 25-29</th>\n",
       "      <th>age 30-34</th>\n",
       "      <th>...</th>\n",
       "      <th>age 45-49</th>\n",
       "      <th>age 50-54</th>\n",
       "      <th>age 55-59</th>\n",
       "      <th>age 60-64</th>\n",
       "      <th>age 65-69</th>\n",
       "      <th>age 70-74</th>\n",
       "      <th>age 75-79</th>\n",
       "      <th>age 80-84</th>\n",
       "      <th>age 85+</th>\n",
       "      <th>Total</th>\n",
       "    </tr>\n",
       "  </thead>\n",
       "  <tbody>\n",
       "    <tr>\n",
       "      <th>0</th>\n",
       "      <td>New South Wales</td>\n",
       "      <td>101021007.0</td>\n",
       "      <td>Braidwood</td>\n",
       "      <td>220.0</td>\n",
       "      <td>253.0</td>\n",
       "      <td>237.0</td>\n",
       "      <td>166.0</td>\n",
       "      <td>116.0</td>\n",
       "      <td>175.0</td>\n",
       "      <td>204.0</td>\n",
       "      <td>...</td>\n",
       "      <td>300.0</td>\n",
       "      <td>352.0</td>\n",
       "      <td>362.0</td>\n",
       "      <td>424.0</td>\n",
       "      <td>328.0</td>\n",
       "      <td>293.0</td>\n",
       "      <td>237.0</td>\n",
       "      <td>123.0</td>\n",
       "      <td>82.0</td>\n",
       "      <td>4330.0</td>\n",
       "    </tr>\n",
       "    <tr>\n",
       "      <th>1</th>\n",
       "      <td>New South Wales</td>\n",
       "      <td>101021008.0</td>\n",
       "      <td>Karabar</td>\n",
       "      <td>543.0</td>\n",
       "      <td>539.0</td>\n",
       "      <td>575.0</td>\n",
       "      <td>500.0</td>\n",
       "      <td>532.0</td>\n",
       "      <td>642.0</td>\n",
       "      <td>644.0</td>\n",
       "      <td>...</td>\n",
       "      <td>556.0</td>\n",
       "      <td>590.0</td>\n",
       "      <td>580.0</td>\n",
       "      <td>516.0</td>\n",
       "      <td>412.0</td>\n",
       "      <td>320.0</td>\n",
       "      <td>216.0</td>\n",
       "      <td>159.0</td>\n",
       "      <td>90.0</td>\n",
       "      <td>8546.0</td>\n",
       "    </tr>\n",
       "    <tr>\n",
       "      <th>2</th>\n",
       "      <td>New South Wales</td>\n",
       "      <td>101021009.0</td>\n",
       "      <td>Queanbeyan</td>\n",
       "      <td>684.0</td>\n",
       "      <td>591.0</td>\n",
       "      <td>477.0</td>\n",
       "      <td>439.0</td>\n",
       "      <td>707.0</td>\n",
       "      <td>1164.0</td>\n",
       "      <td>1258.0</td>\n",
       "      <td>...</td>\n",
       "      <td>696.0</td>\n",
       "      <td>682.0</td>\n",
       "      <td>664.0</td>\n",
       "      <td>574.0</td>\n",
       "      <td>499.0</td>\n",
       "      <td>405.0</td>\n",
       "      <td>278.0</td>\n",
       "      <td>259.0</td>\n",
       "      <td>354.0</td>\n",
       "      <td>11370.0</td>\n",
       "    </tr>\n",
       "    <tr>\n",
       "      <th>3</th>\n",
       "      <td>New South Wales</td>\n",
       "      <td>101021010.0</td>\n",
       "      <td>Queanbeyan - East</td>\n",
       "      <td>334.0</td>\n",
       "      <td>254.0</td>\n",
       "      <td>216.0</td>\n",
       "      <td>190.0</td>\n",
       "      <td>351.0</td>\n",
       "      <td>572.0</td>\n",
       "      <td>537.0</td>\n",
       "      <td>...</td>\n",
       "      <td>297.0</td>\n",
       "      <td>363.0</td>\n",
       "      <td>315.0</td>\n",
       "      <td>295.0</td>\n",
       "      <td>208.0</td>\n",
       "      <td>172.0</td>\n",
       "      <td>122.0</td>\n",
       "      <td>67.0</td>\n",
       "      <td>57.0</td>\n",
       "      <td>5093.0</td>\n",
       "    </tr>\n",
       "    <tr>\n",
       "      <th>4</th>\n",
       "      <td>New South Wales</td>\n",
       "      <td>101021012.0</td>\n",
       "      <td>Queanbeyan West - Jerrabomberra</td>\n",
       "      <td>870.0</td>\n",
       "      <td>926.0</td>\n",
       "      <td>976.0</td>\n",
       "      <td>934.0</td>\n",
       "      <td>748.0</td>\n",
       "      <td>665.0</td>\n",
       "      <td>853.0</td>\n",
       "      <td>...</td>\n",
       "      <td>1032.0</td>\n",
       "      <td>1114.0</td>\n",
       "      <td>987.0</td>\n",
       "      <td>646.0</td>\n",
       "      <td>442.0</td>\n",
       "      <td>358.0</td>\n",
       "      <td>197.0</td>\n",
       "      <td>126.0</td>\n",
       "      <td>69.0</td>\n",
       "      <td>12743.0</td>\n",
       "    </tr>\n",
       "    <tr>\n",
       "      <th>...</th>\n",
       "      <td>...</td>\n",
       "      <td>...</td>\n",
       "      <td>...</td>\n",
       "      <td>...</td>\n",
       "      <td>...</td>\n",
       "      <td>...</td>\n",
       "      <td>...</td>\n",
       "      <td>...</td>\n",
       "      <td>...</td>\n",
       "      <td>...</td>\n",
       "      <td>...</td>\n",
       "      <td>...</td>\n",
       "      <td>...</td>\n",
       "      <td>...</td>\n",
       "      <td>...</td>\n",
       "      <td>...</td>\n",
       "      <td>...</td>\n",
       "      <td>...</td>\n",
       "      <td>...</td>\n",
       "      <td>...</td>\n",
       "      <td>...</td>\n",
       "    </tr>\n",
       "    <tr>\n",
       "      <th>2466</th>\n",
       "      <td>Australian Capital Territory</td>\n",
       "      <td>801101139.0</td>\n",
       "      <td>Wright</td>\n",
       "      <td>289.0</td>\n",
       "      <td>274.0</td>\n",
       "      <td>217.0</td>\n",
       "      <td>141.0</td>\n",
       "      <td>295.0</td>\n",
       "      <td>495.0</td>\n",
       "      <td>553.0</td>\n",
       "      <td>...</td>\n",
       "      <td>207.0</td>\n",
       "      <td>171.0</td>\n",
       "      <td>140.0</td>\n",
       "      <td>82.0</td>\n",
       "      <td>69.0</td>\n",
       "      <td>42.0</td>\n",
       "      <td>18.0</td>\n",
       "      <td>8.0</td>\n",
       "      <td>4.0</td>\n",
       "      <td>3806.0</td>\n",
       "    </tr>\n",
       "    <tr>\n",
       "      <th>2467</th>\n",
       "      <td>Australian Capital Territory</td>\n",
       "      <td>801101145.0</td>\n",
       "      <td>Molonglo - East</td>\n",
       "      <td>0.0</td>\n",
       "      <td>0.0</td>\n",
       "      <td>0.0</td>\n",
       "      <td>0.0</td>\n",
       "      <td>0.0</td>\n",
       "      <td>0.0</td>\n",
       "      <td>0.0</td>\n",
       "      <td>...</td>\n",
       "      <td>0.0</td>\n",
       "      <td>0.0</td>\n",
       "      <td>3.0</td>\n",
       "      <td>0.0</td>\n",
       "      <td>0.0</td>\n",
       "      <td>0.0</td>\n",
       "      <td>0.0</td>\n",
       "      <td>0.0</td>\n",
       "      <td>0.0</td>\n",
       "      <td>3.0</td>\n",
       "    </tr>\n",
       "    <tr>\n",
       "      <th>2468</th>\n",
       "      <td>Australian Capital Territory</td>\n",
       "      <td>801101146.0</td>\n",
       "      <td>Whitlam</td>\n",
       "      <td>3.0</td>\n",
       "      <td>0.0</td>\n",
       "      <td>0.0</td>\n",
       "      <td>0.0</td>\n",
       "      <td>0.0</td>\n",
       "      <td>3.0</td>\n",
       "      <td>2.0</td>\n",
       "      <td>...</td>\n",
       "      <td>0.0</td>\n",
       "      <td>1.0</td>\n",
       "      <td>0.0</td>\n",
       "      <td>0.0</td>\n",
       "      <td>0.0</td>\n",
       "      <td>0.0</td>\n",
       "      <td>0.0</td>\n",
       "      <td>0.0</td>\n",
       "      <td>0.0</td>\n",
       "      <td>10.0</td>\n",
       "    </tr>\n",
       "    <tr>\n",
       "      <th>2469</th>\n",
       "      <td>Australian Capital Territory</td>\n",
       "      <td>801111140.0</td>\n",
       "      <td>ACT - South West</td>\n",
       "      <td>45.0</td>\n",
       "      <td>58.0</td>\n",
       "      <td>34.0</td>\n",
       "      <td>35.0</td>\n",
       "      <td>29.0</td>\n",
       "      <td>48.0</td>\n",
       "      <td>33.0</td>\n",
       "      <td>...</td>\n",
       "      <td>37.0</td>\n",
       "      <td>31.0</td>\n",
       "      <td>28.0</td>\n",
       "      <td>35.0</td>\n",
       "      <td>15.0</td>\n",
       "      <td>13.0</td>\n",
       "      <td>5.0</td>\n",
       "      <td>0.0</td>\n",
       "      <td>0.0</td>\n",
       "      <td>554.0</td>\n",
       "    </tr>\n",
       "    <tr>\n",
       "      <th>2470</th>\n",
       "      <td>Australian Capital Territory</td>\n",
       "      <td>801111141.0</td>\n",
       "      <td>Namadgi</td>\n",
       "      <td>17.0</td>\n",
       "      <td>0.0</td>\n",
       "      <td>5.0</td>\n",
       "      <td>6.0</td>\n",
       "      <td>1.0</td>\n",
       "      <td>5.0</td>\n",
       "      <td>2.0</td>\n",
       "      <td>...</td>\n",
       "      <td>5.0</td>\n",
       "      <td>6.0</td>\n",
       "      <td>2.0</td>\n",
       "      <td>8.0</td>\n",
       "      <td>2.0</td>\n",
       "      <td>3.0</td>\n",
       "      <td>0.0</td>\n",
       "      <td>0.0</td>\n",
       "      <td>0.0</td>\n",
       "      <td>67.0</td>\n",
       "    </tr>\n",
       "  </tbody>\n",
       "</table>\n",
       "<p>2471 rows × 22 columns</p>\n",
       "</div>"
      ],
      "text/plain": [
       "                        State/Terr     SA2 code  \\\n",
       "0                  New South Wales  101021007.0   \n",
       "1                  New South Wales  101021008.0   \n",
       "2                  New South Wales  101021009.0   \n",
       "3                  New South Wales  101021010.0   \n",
       "4                  New South Wales  101021012.0   \n",
       "...                            ...          ...   \n",
       "2466  Australian Capital Territory  801101139.0   \n",
       "2467  Australian Capital Territory  801101145.0   \n",
       "2468  Australian Capital Territory  801101146.0   \n",
       "2469  Australian Capital Territory  801111140.0   \n",
       "2470  Australian Capital Territory  801111141.0   \n",
       "\n",
       "                             SA2 name  age 0-4  age 5-9  age 10-14  age 15-19  \\\n",
       "0                           Braidwood    220.0    253.0      237.0      166.0   \n",
       "1                             Karabar    543.0    539.0      575.0      500.0   \n",
       "2                          Queanbeyan    684.0    591.0      477.0      439.0   \n",
       "3                   Queanbeyan - East    334.0    254.0      216.0      190.0   \n",
       "4     Queanbeyan West - Jerrabomberra    870.0    926.0      976.0      934.0   \n",
       "...                               ...      ...      ...        ...        ...   \n",
       "2466                           Wright    289.0    274.0      217.0      141.0   \n",
       "2467                  Molonglo - East      0.0      0.0        0.0        0.0   \n",
       "2468                          Whitlam      3.0      0.0        0.0        0.0   \n",
       "2469                 ACT - South West     45.0     58.0       34.0       35.0   \n",
       "2470                          Namadgi     17.0      0.0        5.0        6.0   \n",
       "\n",
       "      age 20-24  age 25-29  age 30-34  ...  age 45-49  age 50-54  age 55-59  \\\n",
       "0         116.0      175.0      204.0  ...      300.0      352.0      362.0   \n",
       "1         532.0      642.0      644.0  ...      556.0      590.0      580.0   \n",
       "2         707.0     1164.0     1258.0  ...      696.0      682.0      664.0   \n",
       "3         351.0      572.0      537.0  ...      297.0      363.0      315.0   \n",
       "4         748.0      665.0      853.0  ...     1032.0     1114.0      987.0   \n",
       "...         ...        ...        ...  ...        ...        ...        ...   \n",
       "2466      295.0      495.0      553.0  ...      207.0      171.0      140.0   \n",
       "2467        0.0        0.0        0.0  ...        0.0        0.0        3.0   \n",
       "2468        0.0        3.0        2.0  ...        0.0        1.0        0.0   \n",
       "2469       29.0       48.0       33.0  ...       37.0       31.0       28.0   \n",
       "2470        1.0        5.0        2.0  ...        5.0        6.0        2.0   \n",
       "\n",
       "      age 60-64  age 65-69  age 70-74  age 75-79  age 80-84  age 85+    Total  \n",
       "0         424.0      328.0      293.0      237.0      123.0     82.0   4330.0  \n",
       "1         516.0      412.0      320.0      216.0      159.0     90.0   8546.0  \n",
       "2         574.0      499.0      405.0      278.0      259.0    354.0  11370.0  \n",
       "3         295.0      208.0      172.0      122.0       67.0     57.0   5093.0  \n",
       "4         646.0      442.0      358.0      197.0      126.0     69.0  12743.0  \n",
       "...         ...        ...        ...        ...        ...      ...      ...  \n",
       "2466       82.0       69.0       42.0       18.0        8.0      4.0   3806.0  \n",
       "2467        0.0        0.0        0.0        0.0        0.0      0.0      3.0  \n",
       "2468        0.0        0.0        0.0        0.0        0.0      0.0     10.0  \n",
       "2469       35.0       15.0       13.0        5.0        0.0      0.0    554.0  \n",
       "2470        8.0        2.0        3.0        0.0        0.0      0.0     67.0  \n",
       "\n",
       "[2471 rows x 22 columns]"
      ]
     },
     "execution_count": 11,
     "metadata": {},
     "output_type": "execute_result"
    }
   ],
   "source": [
    "# read the population data and rename fields\n",
    "\n",
    "pop_df = pd \\\n",
    "    .read_excel(\n",
    "        f'{RELATIVE_DIR}tables/population.xlsx',\n",
    "        sheet_name = 'Table 3',\n",
    "        skiprows = skip,\n",
    "    ) \\\n",
    "    .get(field_names) \\\n",
    "    .rename(columns = rename_cols)\n",
    "\n",
    "pop_df"
   ]
  },
  {
   "cell_type": "markdown",
   "metadata": {},
   "source": [
    "Create custom categories for better interpretation:\n",
    "- old: 60+\n",
    "- middle age: 35-59\n",
    "- young adult: 18-34\n",
    "- adolescent: 10-17\n",
    "- under 10: 0-9\n",
    "\n",
    "Note: retiremet age in Australia is 66"
   ]
  },
  {
   "cell_type": "code",
   "execution_count": 12,
   "metadata": {},
   "outputs": [],
   "source": [
    "# Get all age columns to be dropped\n",
    "\n",
    "drop_cols = [string for string in pop_df.columns if string[:3] == 'age']"
   ]
  },
  {
   "cell_type": "code",
   "execution_count": 13,
   "metadata": {},
   "outputs": [],
   "source": [
    "# Sum the age groups population that fall within each custom category\n",
    "\n",
    "groups = {\n",
    "    'Under 10': [0, 10],\n",
    "    'Adolescent': [10, 20],\n",
    "    'Young adult': [20, 35],\n",
    "    'Middle age': [35, 60],\n",
    "    'Old': [60, 86]\n",
    "}\n",
    "\n",
    "for group, ages in groups.items():\n",
    "    age_sum = 0\n",
    "    for i in range(ages[0], ages[1], 5):\n",
    "\n",
    "        if i == 85:\n",
    "            age_range_str = f\"age {i}+\"\n",
    "        else:\n",
    "            age_range_str = f\"age {i}-{i+4}\"\n",
    "\n",
    "        age_sum += pop_df[age_range_str]\n",
    "        \n",
    "    pop_df[group] = age_sum\n",
    " \n",
    "# Drop all columns containing age\n",
    "pop_df_mod = pop_df.drop(axis=0, columns=drop_cols)"
   ]
  },
  {
   "cell_type": "code",
   "execution_count": 14,
   "metadata": {},
   "outputs": [],
   "source": [
    "# Type cast all age fields to integer type\n",
    "\n",
    "pop_df_mod = pop_df_mod.convert_dtypes()\n",
    "pop_df_mod.dtypes\n",
    "pop_df_mod[pop_df_mod.isnull().any(axis=1)]\n",
    "pop_df_mod = pop_df_mod.dropna()"
   ]
  },
  {
   "cell_type": "markdown",
   "metadata": {},
   "source": [
    "21 cells feaaturing NA values were dropped here, since they were either totals or rows of entirely null values"
   ]
  },
  {
   "cell_type": "markdown",
   "metadata": {},
   "source": [
    "Convert population pandas dataframe to spark dataframe for later integration."
   ]
  },
  {
   "cell_type": "code",
   "execution_count": 15,
   "metadata": {},
   "outputs": [],
   "source": [
    "# Define the schema for the population dataframe\n",
    "\n",
    "mySchema = StructType([\n",
    "    StructField(\"State/Terr\", StringType()),\n",
    "    StructField(\"SA2 code\", StringType()),\n",
    "    StructField(\"SA2 name\", StringType()),\n",
    "    StructField(\"Total\", IntegerType()),\n",
    "    StructField(\"Under 10\", IntegerType()),\n",
    "    StructField(\"Adolescent\", IntegerType()),\n",
    "    StructField(\"Young adult\", IntegerType()),\n",
    "    StructField(\"Middle age\", IntegerType()),\n",
    "    StructField(\"Old\", IntegerType())\n",
    "])"
   ]
  },
  {
   "cell_type": "code",
   "execution_count": 16,
   "metadata": {},
   "outputs": [
    {
     "name": "stderr",
     "output_type": "stream",
     "text": [
      "                                                                                \r"
     ]
    },
    {
     "data": {
      "text/html": [
       "<table border='1'>\n",
       "<tr><th>State/Terr</th><th>SA2 code</th><th>SA2 name</th><th>Total</th><th>Under 10</th><th>Adolescent</th><th>Young adult</th><th>Middle age</th><th>Old</th></tr>\n",
       "<tr><td>New South Wales</td><td>101021007</td><td>Braidwood</td><td>4330</td><td>473</td><td>403</td><td>495</td><td>1472</td><td>1487</td></tr>\n",
       "<tr><td>New South Wales</td><td>101021008</td><td>Karabar</td><td>8546</td><td>1082</td><td>1075</td><td>1818</td><td>2858</td><td>1713</td></tr>\n",
       "<tr><td>New South Wales</td><td>101021009</td><td>Queanbeyan</td><td>11370</td><td>1275</td><td>916</td><td>3129</td><td>3681</td><td>2369</td></tr>\n",
       "<tr><td>New South Wales</td><td>101021010</td><td>Queanbeyan - East</td><td>5093</td><td>588</td><td>406</td><td>1460</td><td>1718</td><td>921</td></tr>\n",
       "<tr><td>New South Wales</td><td>101021012</td><td>Queanbeyan West -...</td><td>12743</td><td>1796</td><td>1910</td><td>2266</td><td>4933</td><td>1838</td></tr>\n",
       "</table>\n"
      ],
      "text/plain": [
       "+---------------+---------+--------------------+-----+--------+----------+-----------+----------+----+\n",
       "|     State/Terr| SA2 code|            SA2 name|Total|Under 10|Adolescent|Young adult|Middle age| Old|\n",
       "+---------------+---------+--------------------+-----+--------+----------+-----------+----------+----+\n",
       "|New South Wales|101021007|           Braidwood| 4330|     473|       403|        495|      1472|1487|\n",
       "|New South Wales|101021008|             Karabar| 8546|    1082|      1075|       1818|      2858|1713|\n",
       "|New South Wales|101021009|          Queanbeyan|11370|    1275|       916|       3129|      3681|2369|\n",
       "|New South Wales|101021010|   Queanbeyan - East| 5093|     588|       406|       1460|      1718| 921|\n",
       "|New South Wales|101021012|Queanbeyan West -...|12743|    1796|      1910|       2266|      4933|1838|\n",
       "+---------------+---------+--------------------+-----+--------+----------+-----------+----------+----+"
      ]
     },
     "execution_count": 16,
     "metadata": {},
     "output_type": "execute_result"
    }
   ],
   "source": [
    "# Create spark dataframe \n",
    "\n",
    "pop_sdf = spark.createDataFrame(\n",
    "    pop_df_mod,\n",
    "    mySchema\n",
    ")\n",
    "\n",
    "pop_sdf.limit(5)"
   ]
  },
  {
   "cell_type": "code",
   "execution_count": 17,
   "metadata": {},
   "outputs": [],
   "source": [
    "# Save new population dataframe\n",
    "\n",
    "pop_sdf \\\n",
    "    .write \\\n",
    "    .mode(\"overwrite\") \\\n",
    "    .parquet(f'{RELATIVE_DIR}curated/pop_sdf.parquet')"
   ]
  },
  {
   "cell_type": "markdown",
   "metadata": {},
   "source": [
    "## Postcode Ratio Data"
   ]
  },
  {
   "cell_type": "code",
   "execution_count": 18,
   "metadata": {},
   "outputs": [],
   "source": [
    "# read the postcode ratio dataset, retrieving only the necessary fields\n",
    "# and typecasting postcode and sa2_maincode fields to string\n",
    "\n",
    "skip = list(range(5)) + [6]\n",
    "\n",
    "postcode_ratio_df = pd \\\n",
    "    .read_excel(\n",
    "        f'{RELATIVE_DIR}tables/1270055006_CG_POSTCODE_2011_SA2_2011.xls',\n",
    "        sheet_name = 'Table 3',\n",
    "        skiprows = skip,\n",
    "        converters = {'POSTCODE': str, 'SA2_MAINCODE_2011': str}\n",
    "    ) \\\n",
    "    .drop(columns=['POSTCODE.1', 'PERCENTAGE']) \\\n",
    "    .dropna(axis=0, how='any') # removes footer only (no NA values present in dataset)\n"
   ]
  },
  {
   "cell_type": "code",
   "execution_count": 19,
   "metadata": {},
   "outputs": [
    {
     "data": {
      "text/html": [
       "<div>\n",
       "<style scoped>\n",
       "    .dataframe tbody tr th:only-of-type {\n",
       "        vertical-align: middle;\n",
       "    }\n",
       "\n",
       "    .dataframe tbody tr th {\n",
       "        vertical-align: top;\n",
       "    }\n",
       "\n",
       "    .dataframe thead th {\n",
       "        text-align: right;\n",
       "    }\n",
       "</style>\n",
       "<table border=\"1\" class=\"dataframe\">\n",
       "  <thead>\n",
       "    <tr style=\"text-align: right;\">\n",
       "      <th></th>\n",
       "      <th>POSTCODE</th>\n",
       "      <th>SA2_MAINCODE_2011</th>\n",
       "      <th>SA2_NAME_2011</th>\n",
       "      <th>RATIO</th>\n",
       "    </tr>\n",
       "  </thead>\n",
       "  <tbody>\n",
       "    <tr>\n",
       "      <th>0</th>\n",
       "      <td>0800</td>\n",
       "      <td>701011002</td>\n",
       "      <td>Darwin City</td>\n",
       "      <td>1.000000</td>\n",
       "    </tr>\n",
       "    <tr>\n",
       "      <th>1</th>\n",
       "      <td>0810</td>\n",
       "      <td>701021010</td>\n",
       "      <td>Alawa</td>\n",
       "      <td>0.071997</td>\n",
       "    </tr>\n",
       "    <tr>\n",
       "      <th>2</th>\n",
       "      <td>0810</td>\n",
       "      <td>701021013</td>\n",
       "      <td>Brinkin - Nakara</td>\n",
       "      <td>0.096392</td>\n",
       "    </tr>\n",
       "    <tr>\n",
       "      <th>3</th>\n",
       "      <td>0810</td>\n",
       "      <td>701021016</td>\n",
       "      <td>Coconut Grove</td>\n",
       "      <td>0.096494</td>\n",
       "    </tr>\n",
       "    <tr>\n",
       "      <th>4</th>\n",
       "      <td>0810</td>\n",
       "      <td>701021018</td>\n",
       "      <td>Jingili</td>\n",
       "      <td>0.061562</td>\n",
       "    </tr>\n",
       "    <tr>\n",
       "      <th>...</th>\n",
       "      <td>...</td>\n",
       "      <td>...</td>\n",
       "      <td>...</td>\n",
       "      <td>...</td>\n",
       "    </tr>\n",
       "    <tr>\n",
       "      <th>5983</th>\n",
       "      <td>7466</td>\n",
       "      <td>604031097</td>\n",
       "      <td>West Coast (Tas.)</td>\n",
       "      <td>1.000000</td>\n",
       "    </tr>\n",
       "    <tr>\n",
       "      <th>5984</th>\n",
       "      <td>7467</td>\n",
       "      <td>604031097</td>\n",
       "      <td>West Coast (Tas.)</td>\n",
       "      <td>1.000000</td>\n",
       "    </tr>\n",
       "    <tr>\n",
       "      <th>5985</th>\n",
       "      <td>7468</td>\n",
       "      <td>604031097</td>\n",
       "      <td>West Coast (Tas.)</td>\n",
       "      <td>1.000000</td>\n",
       "    </tr>\n",
       "    <tr>\n",
       "      <th>5986</th>\n",
       "      <td>7469</td>\n",
       "      <td>604031097</td>\n",
       "      <td>West Coast (Tas.)</td>\n",
       "      <td>1.000000</td>\n",
       "    </tr>\n",
       "    <tr>\n",
       "      <th>5987</th>\n",
       "      <td>7470</td>\n",
       "      <td>604031097</td>\n",
       "      <td>West Coast (Tas.)</td>\n",
       "      <td>1.000000</td>\n",
       "    </tr>\n",
       "  </tbody>\n",
       "</table>\n",
       "<p>5988 rows × 4 columns</p>\n",
       "</div>"
      ],
      "text/plain": [
       "     POSTCODE SA2_MAINCODE_2011      SA2_NAME_2011     RATIO\n",
       "0        0800         701011002        Darwin City  1.000000\n",
       "1        0810         701021010              Alawa  0.071997\n",
       "2        0810         701021013   Brinkin - Nakara  0.096392\n",
       "3        0810         701021016      Coconut Grove  0.096494\n",
       "4        0810         701021018            Jingili  0.061562\n",
       "...       ...               ...                ...       ...\n",
       "5983     7466         604031097  West Coast (Tas.)  1.000000\n",
       "5984     7467         604031097  West Coast (Tas.)  1.000000\n",
       "5985     7468         604031097  West Coast (Tas.)  1.000000\n",
       "5986     7469         604031097  West Coast (Tas.)  1.000000\n",
       "5987     7470         604031097  West Coast (Tas.)  1.000000\n",
       "\n",
       "[5988 rows x 4 columns]"
      ]
     },
     "execution_count": 19,
     "metadata": {},
     "output_type": "execute_result"
    }
   ],
   "source": [
    "postcode_ratio_df"
   ]
  },
  {
   "cell_type": "code",
   "execution_count": 20,
   "metadata": {},
   "outputs": [
    {
     "data": {
      "text/html": [
       "<table border='1'>\n",
       "<tr><th>postcode</th><th>sa2_code</th><th>sa2_name</th><th>ratio</th></tr>\n",
       "<tr><td>0800</td><td>701011002</td><td>Darwin City</td><td>1.0</td></tr>\n",
       "<tr><td>0810</td><td>701021010</td><td>Alawa</td><td>0.0719971</td></tr>\n",
       "<tr><td>0810</td><td>701021013</td><td>Brinkin - Nakara</td><td>0.0963918</td></tr>\n",
       "<tr><td>0810</td><td>701021016</td><td>Coconut Grove</td><td>0.0964936</td></tr>\n",
       "<tr><td>0810</td><td>701021018</td><td>Jingili</td><td>0.061562</td></tr>\n",
       "</table>\n"
      ],
      "text/plain": [
       "+--------+---------+----------------+---------+\n",
       "|postcode| sa2_code|        sa2_name|    ratio|\n",
       "+--------+---------+----------------+---------+\n",
       "|    0800|701011002|     Darwin City|      1.0|\n",
       "|    0810|701021010|           Alawa|0.0719971|\n",
       "|    0810|701021013|Brinkin - Nakara|0.0963918|\n",
       "|    0810|701021016|   Coconut Grove|0.0964936|\n",
       "|    0810|701021018|         Jingili| 0.061562|\n",
       "+--------+---------+----------------+---------+"
      ]
     },
     "execution_count": 20,
     "metadata": {},
     "output_type": "execute_result"
    }
   ],
   "source": [
    "# Convert to spark dataframe\n",
    "\n",
    "mySchema = StructType([\n",
    "    StructField(\"postcode\", StringType()),\n",
    "    StructField(\"sa2_code\", StringType()),\n",
    "    StructField(\"sa2_name\", StringType()),\n",
    "    StructField(\"ratio\", FloatType())\n",
    "])\n",
    "\n",
    "postcode_ratio_sdf = spark.createDataFrame(\n",
    "    postcode_ratio_df,\n",
    "    mySchema\n",
    ")\n",
    "\n",
    "postcode_ratio_sdf.limit(5)"
   ]
  },
  {
   "cell_type": "code",
   "execution_count": 21,
   "metadata": {},
   "outputs": [
    {
     "name": "stdout",
     "output_type": "stream",
     "text": [
      "22/10/15 15:51:13 WARN MemoryManager: Total allocation exceeds 95.00% (1,813,485,955 bytes) of heap memory\n",
      "Scaling row group sizes to 96.51% for 14 writers\n"
     ]
    },
    {
     "name": "stderr",
     "output_type": "stream",
     "text": [
      "----------------------------------------\n",
      "Exception occurred during processing of request from ('127.0.0.1', 36056)\n",
      "Traceback (most recent call last):\n",
      "  File \"/usr/lib/python3.10/socketserver.py\", line 316, in _handle_request_noblock\n",
      "    self.process_request(request, client_address)\n",
      "  File \"/usr/lib/python3.10/socketserver.py\", line 347, in process_request\n",
      "    self.finish_request(request, client_address)\n",
      "  File \"/usr/lib/python3.10/socketserver.py\", line 360, in finish_request\n",
      "    self.RequestHandlerClass(request, client_address, self)\n",
      "  File \"/usr/lib/python3.10/socketserver.py\", line 747, in __init__\n",
      "    self.handle()\n",
      "  File \"/home/ashahi/.local/lib/python3.10/site-packages/pyspark/accumulators.py\", line 281, in handle\n",
      "    poll(accum_updates)\n",
      "  File \"/home/ashahi/.local/lib/python3.10/site-packages/pyspark/accumulators.py\", line 253, in poll\n",
      "    if func():\n",
      "  File \"/home/ashahi/.local/lib/python3.10/site-packages/pyspark/accumulators.py\", line 257, in accum_updates\n",
      "    num_updates = read_int(self.rfile)\n",
      "  File \"/home/ashahi/.local/lib/python3.10/site-packages/pyspark/serializers.py\", line 595, in read_int\n",
      "    raise EOFError\n",
      "EOFError\n",
      "----------------------------------------\n"
     ]
    }
   ],
   "source": [
    "# Save postcode dataframe\n",
    "\n",
    "postcode_ratio_sdf \\\n",
    "    .write \\\n",
    "    .mode(\"overwrite\") \\\n",
    "    .parquet(f'{RELATIVE_DIR}curated/postcode_ratio_sdf.parquet')"
   ]
  }
 ],
 "metadata": {
  "kernelspec": {
   "display_name": "Python 3 (ipykernel)",
   "language": "python",
   "name": "python3"
  },
  "language_info": {
   "codemirror_mode": {
    "name": "ipython",
    "version": 3
   },
   "file_extension": ".py",
   "mimetype": "text/x-python",
   "name": "python",
   "nbconvert_exporter": "python",
   "pygments_lexer": "ipython3",
   "version": "3.10.4"
  },
  "latex_envs": {
   "LaTeX_envs_menu_present": true,
   "autoclose": false,
   "autocomplete": true,
   "bibliofile": "biblio.bib",
   "cite_by": "apalike",
   "current_citInitial": 1,
   "eqLabelWithNumbers": true,
   "eqNumInitial": 1,
   "hotkeys": {
    "equation": "Ctrl-E",
    "itemize": "Ctrl-I"
   },
   "labels_anchors": false,
   "latex_user_defs": false,
   "report_style_numbering": false,
   "user_envs_cfg": false
  },
  "toc": {
   "base_numbering": 1,
   "nav_menu": {},
   "number_sections": true,
   "sideBar": true,
   "skip_h1_title": false,
   "title_cell": "Table of Contents",
   "title_sidebar": "Contents",
   "toc_cell": false,
   "toc_position": {},
   "toc_section_display": true,
   "toc_window_display": false
  },
  "varInspector": {
   "cols": {
    "lenName": 16,
    "lenType": 16,
    "lenVar": 40
   },
   "kernels_config": {
    "python": {
     "delete_cmd_postfix": "",
     "delete_cmd_prefix": "del ",
     "library": "var_list.py",
     "varRefreshCmd": "print(var_dic_list())"
    },
    "r": {
     "delete_cmd_postfix": ") ",
     "delete_cmd_prefix": "rm(",
     "library": "var_list.r",
     "varRefreshCmd": "cat(var_dic_list()) "
    }
   },
   "types_to_exclude": [
    "module",
    "function",
    "builtin_function_or_method",
    "instance",
    "_Feature"
   ],
   "window_display": false
  },
  "vscode": {
   "interpreter": {
    "hash": "916dbcbb3f70747c44a77c7bcd40155683ae19c65e1c03b4aa3499c5328201f1"
   }
  }
 },
 "nbformat": 4,
 "nbformat_minor": 4
}
