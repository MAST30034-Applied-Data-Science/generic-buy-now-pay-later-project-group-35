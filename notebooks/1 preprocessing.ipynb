{
 "cells": [
  {
   "cell_type": "markdown",
   "metadata": {},
   "source": [
    "# Pre-Processing"
   ]
  },
  {
   "cell_type": "code",
   "execution_count": 11,
   "metadata": {
    "ExecuteTime": {
     "end_time": "2022-07-31T02:22:01.919813Z",
     "start_time": "2022-07-31T02:21:57.283647Z"
    }
   },
   "outputs": [],
   "source": [
    "from pyspark.sql import SparkSession\n",
    "from pyspark.sql.functions import * \n",
    "\n",
    "# Create a spark session\n",
    "spark = (\n",
    "    SparkSession.builder.appName(\"preprocessing\")\n",
    "    .config(\"spark.sql.repl.eagerEval.enabled\", True) \n",
    "    .config(\"spark.sql.parquet.cacheMetadata\", \"true\")\n",
    "    .config(\"spark.sql.session.timeZone\", \"Etc/UTC\")\n",
    "    .config(\"spark.driver.memory\", \"2g\")\n",
    "    .config(\"spark.executor.memory\", \"6g\")\n",
    "    .getOrCreate()\n",
    ")"
   ]
  },
  {
   "cell_type": "code",
   "execution_count": 35,
   "metadata": {},
   "outputs": [
    {
     "name": "stderr",
     "output_type": "stream",
     "text": [
      "                                                                                \r"
     ]
    },
    {
     "data": {
      "text/html": [
       "<table border='1'>\n",
       "<tr><th>user_id</th><th>merchant_abn</th><th>dollar_value</th><th>order_id</th><th>order_datetime</th></tr>\n",
       "<tr><td>18478</td><td>62191208634</td><td>63.255848959735246</td><td>949a63c8-29f7-4ab...</td><td>2021-08-20</td></tr>\n",
       "<tr><td>2</td><td>15549624934</td><td>130.3505283105634</td><td>6a84c3cf-612a-457...</td><td>2021-08-20</td></tr>\n",
       "<tr><td>18479</td><td>64403598239</td><td>120.15860593212783</td><td>b10dcc33-e53f-425...</td><td>2021-08-20</td></tr>\n",
       "<tr><td>3</td><td>60956456424</td><td>136.6785200286976</td><td>0f09c5a5-784e-447...</td><td>2021-08-20</td></tr>\n",
       "<tr><td>18479</td><td>94493496784</td><td>72.96316578355305</td><td>f6c78c1a-4600-4c5...</td><td>2021-08-20</td></tr>\n",
       "<tr><td>3</td><td>76819856970</td><td>448.529684285612</td><td>5ace6a24-cdf0-4aa...</td><td>2021-08-20</td></tr>\n",
       "<tr><td>18479</td><td>67609108741</td><td>86.4040605836911</td><td>d0e180f0-cb06-42a...</td><td>2021-08-20</td></tr>\n",
       "<tr><td>3</td><td>34096466752</td><td>301.5793450525113</td><td>6fb1ff48-24bb-4f9...</td><td>2021-08-20</td></tr>\n",
       "<tr><td>18482</td><td>70501974849</td><td>68.75486276223054</td><td>8505fb33-b69a-412...</td><td>2021-08-20</td></tr>\n",
       "<tr><td>4</td><td>49891706470</td><td>48.89796461900801</td><td>ed11e477-b09f-4ae...</td><td>2021-08-20</td></tr>\n",
       "<tr><td>18482</td><td>46804135891</td><td>6.6168976971833615</td><td>05b5edb5-b925-414...</td><td>2021-08-20</td></tr>\n",
       "<tr><td>7</td><td>33064796871</td><td>373.0873675184212</td><td>fe188788-b89f-4dd...</td><td>2021-08-20</td></tr>\n",
       "<tr><td>18483</td><td>44160392990</td><td>83.98473054761176</td><td>7c44302d-98b3-48b...</td><td>2021-08-20</td></tr>\n",
       "<tr><td>7</td><td>68435002949</td><td>232.5364986739752</td><td>b4a89891-a113-45e...</td><td>2021-08-20</td></tr>\n",
       "<tr><td>18484</td><td>70033549200</td><td>871.7678061729196</td><td>4b1d941a-21a1-43e...</td><td>2021-08-20</td></tr>\n",
       "<tr><td>7</td><td>41944909975</td><td>30.910755230234322</td><td>302ae628-8eba-4a5...</td><td>2021-08-20</td></tr>\n",
       "<tr><td>18485</td><td>41705715409</td><td>309.5417224575787</td><td>67f4f98e-3149-4e8...</td><td>2021-08-20</td></tr>\n",
       "<tr><td>8</td><td>29566626791</td><td>74.15732460440282</td><td>71a81652-cc91-4bf...</td><td>2021-08-20</td></tr>\n",
       "<tr><td>18487</td><td>32361057556</td><td>119.19055863068847</td><td>15577921-1104-470...</td><td>2021-08-20</td></tr>\n",
       "<tr><td>9</td><td>47663262928</td><td>36.69873283148887</td><td>c4fcb49a-ce87-4e1...</td><td>2021-08-20</td></tr>\n",
       "</table>\n",
       "only showing top 20 rows\n"
      ],
      "text/plain": [
       "+-------+------------+------------------+--------------------+--------------+\n",
       "|user_id|merchant_abn|      dollar_value|            order_id|order_datetime|\n",
       "+-------+------------+------------------+--------------------+--------------+\n",
       "|  18478| 62191208634|63.255848959735246|949a63c8-29f7-4ab...|    2021-08-20|\n",
       "|      2| 15549624934| 130.3505283105634|6a84c3cf-612a-457...|    2021-08-20|\n",
       "|  18479| 64403598239|120.15860593212783|b10dcc33-e53f-425...|    2021-08-20|\n",
       "|      3| 60956456424| 136.6785200286976|0f09c5a5-784e-447...|    2021-08-20|\n",
       "|  18479| 94493496784| 72.96316578355305|f6c78c1a-4600-4c5...|    2021-08-20|\n",
       "|      3| 76819856970|  448.529684285612|5ace6a24-cdf0-4aa...|    2021-08-20|\n",
       "|  18479| 67609108741|  86.4040605836911|d0e180f0-cb06-42a...|    2021-08-20|\n",
       "|      3| 34096466752| 301.5793450525113|6fb1ff48-24bb-4f9...|    2021-08-20|\n",
       "|  18482| 70501974849| 68.75486276223054|8505fb33-b69a-412...|    2021-08-20|\n",
       "|      4| 49891706470| 48.89796461900801|ed11e477-b09f-4ae...|    2021-08-20|\n",
       "|  18482| 46804135891|6.6168976971833615|05b5edb5-b925-414...|    2021-08-20|\n",
       "|      7| 33064796871| 373.0873675184212|fe188788-b89f-4dd...|    2021-08-20|\n",
       "|  18483| 44160392990| 83.98473054761176|7c44302d-98b3-48b...|    2021-08-20|\n",
       "|      7| 68435002949| 232.5364986739752|b4a89891-a113-45e...|    2021-08-20|\n",
       "|  18484| 70033549200| 871.7678061729196|4b1d941a-21a1-43e...|    2021-08-20|\n",
       "|      7| 41944909975|30.910755230234322|302ae628-8eba-4a5...|    2021-08-20|\n",
       "|  18485| 41705715409| 309.5417224575787|67f4f98e-3149-4e8...|    2021-08-20|\n",
       "|      8| 29566626791| 74.15732460440282|71a81652-cc91-4bf...|    2021-08-20|\n",
       "|  18487| 32361057556|119.19055863068847|15577921-1104-470...|    2021-08-20|\n",
       "|      9| 47663262928| 36.69873283148887|c4fcb49a-ce87-4e1...|    2021-08-20|\n",
       "+-------+------------+------------------+--------------------+--------------+\n",
       "only showing top 20 rows"
      ]
     },
     "execution_count": 35,
     "metadata": {},
     "output_type": "execute_result"
    }
   ],
   "source": [
    "transactiondf1 = spark.read.parquet(\"../data/tables/transactions_20210228_20210827_snapshot/\")\n",
    "transactiondf1"
   ]
  },
  {
   "cell_type": "code",
   "execution_count": 36,
   "metadata": {},
   "outputs": [
    {
     "name": "stderr",
     "output_type": "stream",
     "text": [
      "                                                                                \r"
     ]
    },
    {
     "data": {
      "text/html": [
       "<table border='1'>\n",
       "<tr><th>user_id</th><th>merchant_abn</th><th>dollar_value</th><th>order_id</th><th>order_datetime</th></tr>\n",
       "<tr><td>14935</td><td>79417999332</td><td>136.06570809815838</td><td>23acbb7b-cf98-458...</td><td>2021-11-26</td></tr>\n",
       "<tr><td>1</td><td>46451548968</td><td>72.61581642788431</td><td>76bab304-fa2d-400...</td><td>2021-11-26</td></tr>\n",
       "<tr><td>14936</td><td>89518629617</td><td>3.0783487174439297</td><td>a2ae446a-2959-41c...</td><td>2021-11-26</td></tr>\n",
       "<tr><td>1</td><td>49167531725</td><td>51.58228625503599</td><td>7080c274-17f7-4cc...</td><td>2021-11-26</td></tr>\n",
       "<tr><td>14936</td><td>31101120643</td><td>25.228114942417797</td><td>8e301c0f-06ab-45c...</td><td>2021-11-26</td></tr>\n",
       "<tr><td>2</td><td>67978471888</td><td>691.5028234458998</td><td>0380e9ad-b0e8-420...</td><td>2021-11-26</td></tr>\n",
       "<tr><td>14936</td><td>60956456424</td><td>102.13952056640888</td><td>5ac3da9c-5147-452...</td><td>2021-11-26</td></tr>\n",
       "<tr><td>2</td><td>47644196714</td><td>644.5220654863093</td><td>4e368e44-86f8-4de...</td><td>2021-11-26</td></tr>\n",
       "<tr><td>14938</td><td>39649557865</td><td>209.12780951421405</td><td>4d78cd01-4bab-494...</td><td>2021-11-26</td></tr>\n",
       "<tr><td>3</td><td>88402174457</td><td>141.0387993699113</td><td>c50c957d-ecfc-430...</td><td>2021-11-26</td></tr>\n",
       "<tr><td>14938</td><td>32234779638</td><td>102.04090324888061</td><td>e94ff357-b036-493...</td><td>2021-11-26</td></tr>\n",
       "<tr><td>4</td><td>24015173965</td><td>157.0</td><td>5b867ac9-d1e0-430...</td><td>2021-11-26</td></tr>\n",
       "<tr><td>14939</td><td>79830510987</td><td>246.13590152514766</td><td>666909ed-79c2-45b...</td><td>2021-11-26</td></tr>\n",
       "<tr><td>5</td><td>76646764782</td><td>35.463129852951695</td><td>0c855413-67fa-467...</td><td>2021-11-26</td></tr>\n",
       "<tr><td>14939</td><td>17324645993</td><td>24.108258533478818</td><td>40fd2f7f-a274-420...</td><td>2021-11-26</td></tr>\n",
       "<tr><td>5</td><td>71041015148</td><td>89.76800577775657</td><td>93255de9-c8fe-426...</td><td>2021-11-26</td></tr>\n",
       "<tr><td>14939</td><td>75089928159</td><td>14.806519329659501</td><td>2c5ba1f3-1c5a-4e5...</td><td>2021-11-26</td></tr>\n",
       "<tr><td>5</td><td>80324045558</td><td>62.79195913018835</td><td>564f81c8-c3c1-4f4...</td><td>2021-11-26</td></tr>\n",
       "<tr><td>14939</td><td>50315283629</td><td>575.3321071340728</td><td>026c6d3d-4f7c-4f4...</td><td>2021-11-26</td></tr>\n",
       "<tr><td>6</td><td>11566786699</td><td>15.856637357709419</td><td>0230e104-aef0-48f...</td><td>2021-11-26</td></tr>\n",
       "</table>\n",
       "only showing top 20 rows\n"
      ],
      "text/plain": [
       "+-------+------------+------------------+--------------------+--------------+\n",
       "|user_id|merchant_abn|      dollar_value|            order_id|order_datetime|\n",
       "+-------+------------+------------------+--------------------+--------------+\n",
       "|  14935| 79417999332|136.06570809815838|23acbb7b-cf98-458...|    2021-11-26|\n",
       "|      1| 46451548968| 72.61581642788431|76bab304-fa2d-400...|    2021-11-26|\n",
       "|  14936| 89518629617|3.0783487174439297|a2ae446a-2959-41c...|    2021-11-26|\n",
       "|      1| 49167531725| 51.58228625503599|7080c274-17f7-4cc...|    2021-11-26|\n",
       "|  14936| 31101120643|25.228114942417797|8e301c0f-06ab-45c...|    2021-11-26|\n",
       "|      2| 67978471888| 691.5028234458998|0380e9ad-b0e8-420...|    2021-11-26|\n",
       "|  14936| 60956456424|102.13952056640888|5ac3da9c-5147-452...|    2021-11-26|\n",
       "|      2| 47644196714| 644.5220654863093|4e368e44-86f8-4de...|    2021-11-26|\n",
       "|  14938| 39649557865|209.12780951421405|4d78cd01-4bab-494...|    2021-11-26|\n",
       "|      3| 88402174457| 141.0387993699113|c50c957d-ecfc-430...|    2021-11-26|\n",
       "|  14938| 32234779638|102.04090324888061|e94ff357-b036-493...|    2021-11-26|\n",
       "|      4| 24015173965|             157.0|5b867ac9-d1e0-430...|    2021-11-26|\n",
       "|  14939| 79830510987|246.13590152514766|666909ed-79c2-45b...|    2021-11-26|\n",
       "|      5| 76646764782|35.463129852951695|0c855413-67fa-467...|    2021-11-26|\n",
       "|  14939| 17324645993|24.108258533478818|40fd2f7f-a274-420...|    2021-11-26|\n",
       "|      5| 71041015148| 89.76800577775657|93255de9-c8fe-426...|    2021-11-26|\n",
       "|  14939| 75089928159|14.806519329659501|2c5ba1f3-1c5a-4e5...|    2021-11-26|\n",
       "|      5| 80324045558| 62.79195913018835|564f81c8-c3c1-4f4...|    2021-11-26|\n",
       "|  14939| 50315283629| 575.3321071340728|026c6d3d-4f7c-4f4...|    2021-11-26|\n",
       "|      6| 11566786699|15.856637357709419|0230e104-aef0-48f...|    2021-11-26|\n",
       "+-------+------------+------------------+--------------------+--------------+\n",
       "only showing top 20 rows"
      ]
     },
     "execution_count": 36,
     "metadata": {},
     "output_type": "execute_result"
    }
   ],
   "source": [
    "transactiondf2 = spark.read.parquet(\"../data/tables/transactions_20210828_20220227_snapshot/\")\n",
    "transactiondf2"
   ]
  },
  {
   "cell_type": "code",
   "execution_count": 4,
   "metadata": {},
   "outputs": [
    {
     "name": "stdout",
     "output_type": "stream",
     "text": [
      "+-------+-----------+\n",
      "|user_id|consumer_id|\n",
      "+-------+-----------+\n",
      "|      1|    1195503|\n",
      "|      2|     179208|\n",
      "|      3|    1194530|\n",
      "|      4|     154128|\n",
      "|      5|     712975|\n",
      "|      6|     407340|\n",
      "|      7|     511685|\n",
      "|      8|     448088|\n",
      "|      9|     650435|\n",
      "|     10|    1058499|\n",
      "|     11|     428325|\n",
      "|     12|    1494640|\n",
      "|     13|    1146717|\n",
      "|     14|    1343547|\n",
      "|     15|    1463076|\n",
      "|     16|    1356405|\n",
      "|     17|    1331093|\n",
      "|     18|      80965|\n",
      "|     19|    1226530|\n",
      "|     20|    1390367|\n",
      "+-------+-----------+\n",
      "only showing top 20 rows\n",
      "\n"
     ]
    }
   ],
   "source": [
    "userdf = spark.read.parquet(\"../data/tables/consumer_user_details.parquet\")\n",
    "userdf.show()"
   ]
  },
  {
   "cell_type": "code",
   "execution_count": 5,
   "metadata": {},
   "outputs": [
    {
     "data": {
      "text/html": [
       "<table border='1'>\n",
       "<tr><th>customer_name</th><th>address</th><th>state</th><th>postcode</th><th>gender</th><th>consumer_id</th></tr>\n",
       "<tr><td>Yolanda Williams</td><td>413 Haney Gardens...</td><td>WA</td><td>6935</td><td>Female</td><td>1195503</td></tr>\n",
       "<tr><td>Mary Smith</td><td>3764 Amber Oval</td><td>NSW</td><td>2782</td><td>Female</td><td>179208</td></tr>\n",
       "<tr><td>Jill Jones MD</td><td>40693 Henry Greens</td><td>NT</td><td>862</td><td>Female</td><td>1194530</td></tr>\n",
       "<tr><td>Lindsay Jimenez</td><td>00653 Davenport C...</td><td>NSW</td><td>2780</td><td>Female</td><td>154128</td></tr>\n",
       "<tr><td>Rebecca Blanchard</td><td>9271 Michael Mano...</td><td>WA</td><td>6355</td><td>Female</td><td>712975</td></tr>\n",
       "<tr><td>Karen Chapman</td><td>2706 Stewart Oval...</td><td>NSW</td><td>2033</td><td>Female</td><td>407340</td></tr>\n",
       "<tr><td>Andrea Jones</td><td>122 Brandon Cliff</td><td>QLD</td><td>4606</td><td>Female</td><td>511685</td></tr>\n",
       "<tr><td>Stephen Williams</td><td>6804 Wright Crest...</td><td>WA</td><td>6056</td><td>Male</td><td>448088</td></tr>\n",
       "<tr><td>Stephanie Reyes</td><td>5813 Denise Land ...</td><td>NSW</td><td>2482</td><td>Female</td><td>650435</td></tr>\n",
       "<tr><td>Jillian Gonzales</td><td>461 Ryan Common S...</td><td>VIC</td><td>3220</td><td>Female</td><td>1058499</td></tr>\n",
       "<tr><td>Eugene Lucas</td><td>33983 Kevin Drive...</td><td>VIC</td><td>3063</td><td>Undisclosed</td><td>428325</td></tr>\n",
       "<tr><td>Melissa Jones</td><td>13706 Kimberly Port</td><td>WA</td><td>6743</td><td>Female</td><td>1494640</td></tr>\n",
       "<tr><td>Angela Brown PhD</td><td>0236 Mills Land S...</td><td>QLD</td><td>4673</td><td>Female</td><td>1146717</td></tr>\n",
       "<tr><td>Lance Butler</td><td>8943 Kenneth Camp</td><td>VIC</td><td>3332</td><td>Male</td><td>1343547</td></tr>\n",
       "<tr><td>Paul Abbott</td><td>60495 Ryan Hill</td><td>QLD</td><td>4512</td><td>Male</td><td>1463076</td></tr>\n",
       "<tr><td>Tracy Hart</td><td>9671 Jacob Harbor...</td><td>NSW</td><td>2452</td><td>Male</td><td>1356405</td></tr>\n",
       "<tr><td>Alyssa Wilson</td><td>44353 Nathan Ridge</td><td>VIC</td><td>3719</td><td>Female</td><td>1331093</td></tr>\n",
       "<tr><td>Michael Burnett</td><td>89400 Torres Fort</td><td>NSW</td><td>1109</td><td>Male</td><td>80965</td></tr>\n",
       "<tr><td>Victoria Gonzalez</td><td>68657 Johnson Gle...</td><td>TAS</td><td>7276</td><td>Female</td><td>1226530</td></tr>\n",
       "<tr><td>James Norris</td><td>790 Ramos Landing</td><td>VIC</td><td>3234</td><td>Undisclosed</td><td>1390367</td></tr>\n",
       "</table>\n",
       "only showing top 20 rows\n"
      ],
      "text/plain": [
       "+-----------------+--------------------+-----+--------+-----------+-----------+\n",
       "|    customer_name|             address|state|postcode|     gender|consumer_id|\n",
       "+-----------------+--------------------+-----+--------+-----------+-----------+\n",
       "| Yolanda Williams|413 Haney Gardens...|   WA|    6935|     Female|    1195503|\n",
       "|       Mary Smith|     3764 Amber Oval|  NSW|    2782|     Female|     179208|\n",
       "|    Jill Jones MD|  40693 Henry Greens|   NT|     862|     Female|    1194530|\n",
       "|  Lindsay Jimenez|00653 Davenport C...|  NSW|    2780|     Female|     154128|\n",
       "|Rebecca Blanchard|9271 Michael Mano...|   WA|    6355|     Female|     712975|\n",
       "|    Karen Chapman|2706 Stewart Oval...|  NSW|    2033|     Female|     407340|\n",
       "|     Andrea Jones|   122 Brandon Cliff|  QLD|    4606|     Female|     511685|\n",
       "| Stephen Williams|6804 Wright Crest...|   WA|    6056|       Male|     448088|\n",
       "|  Stephanie Reyes|5813 Denise Land ...|  NSW|    2482|     Female|     650435|\n",
       "| Jillian Gonzales|461 Ryan Common S...|  VIC|    3220|     Female|    1058499|\n",
       "|     Eugene Lucas|33983 Kevin Drive...|  VIC|    3063|Undisclosed|     428325|\n",
       "|    Melissa Jones| 13706 Kimberly Port|   WA|    6743|     Female|    1494640|\n",
       "| Angela Brown PhD|0236 Mills Land S...|  QLD|    4673|     Female|    1146717|\n",
       "|     Lance Butler|   8943 Kenneth Camp|  VIC|    3332|       Male|    1343547|\n",
       "|      Paul Abbott|     60495 Ryan Hill|  QLD|    4512|       Male|    1463076|\n",
       "|       Tracy Hart|9671 Jacob Harbor...|  NSW|    2452|       Male|    1356405|\n",
       "|    Alyssa Wilson|  44353 Nathan Ridge|  VIC|    3719|     Female|    1331093|\n",
       "|  Michael Burnett|   89400 Torres Fort|  NSW|    1109|       Male|      80965|\n",
       "|Victoria Gonzalez|68657 Johnson Gle...|  TAS|    7276|     Female|    1226530|\n",
       "|     James Norris|   790 Ramos Landing|  VIC|    3234|Undisclosed|    1390367|\n",
       "+-----------------+--------------------+-----+--------+-----------+-----------+\n",
       "only showing top 20 rows"
      ]
     },
     "execution_count": 5,
     "metadata": {},
     "output_type": "execute_result"
    }
   ],
   "source": [
    "consumerdf = spark.read.option(\"header\",\"true\").csv(\"../data/tables/tbl_consumer.csv\", sep=\"|\")\n",
    "consumerdf = consumerdf.withColumnRenamed(\"name\",\"customer_name\")\n",
    "consumerdf"
   ]
  },
  {
   "cell_type": "code",
   "execution_count": 33,
   "metadata": {},
   "outputs": [
    {
     "name": "stdout",
     "output_type": "stream",
     "text": [
      "+------------------------------------+-------------------------------------------------------------------------------------+------------+---------+------------+\n",
      "|company_name                        |tags                                                                                 |merchant_abn|take_rate|revenue_band|\n",
      "+------------------------------------+-------------------------------------------------------------------------------------+------------+---------+------------+\n",
      "|Felis Limited                       |furniture, home furnishings and equipment shops, and manufacturers, except appliances|10023283211 | 0.18    | e          |\n",
      "|Arcu Ac Orci Corporation            |cable, satellite, and otHer pay television and radio services                        |10142254217 | 4.22    | b          |\n",
      "|Nunc Sed Company                    |jewelry, watch, clock, and silverware shops                                          |10165489824 | 4.40    | b          |\n",
      "|Ultricies Dignissim Lacus Foundation|wAtch, clock, and jewelry repair shops                                               |10187291046 | 3.29    | b          |\n",
      "|Enim Condimentum PC                 |music shops - musical instruments, pianos, and sheet music                           |10192359162 | 6.33    | a          |\n",
      "|Fusce Company                       |gift, card, novelty, and souvenir shops                                              |10206519221 | 6.34    | a          |\n",
      "|Aliquam Enim Incorporated           |computers, comPUter peripheral equipment, and softwAre                               |10255988167 | 4.32    | b          |\n",
      "|Ipsum Primis Ltd                    |watch, clock, and jewelry repair shops                                               |10264435225 | 2.39    | c          |\n",
      "|Pede Ultrices Industries            |computer programming , data processing, and integrated systems design services       |10279061213 | 5.71    | a          |\n",
      "|Nunc Inc.                           |furniture, home furnishings and equipment shopS, and manufacturers, except appliances|10323485998 | 6.61    | a          |\n",
      "|Facilisis Facilisis Corp.           |computers, computer peripheral equipment, and software                               |10342410215 | 6.34    | a          |\n",
      "|Odio Institute                      |equipment, tool, furniture, and appliance  rent al and leAsing                       |10346855916 | 3.57    | b          |\n",
      "|Rutrum Justo Ltd                    |music shops - musical instruments, pianos, and sheet music                           |10364012396 | 3.63    | b          |\n",
      "|Tellus Foundation                   |artist supply and craft  shops                                                       |10385011947 | 3.17    | b          |\n",
      "|Sed Et Company                      |florists supplies, nursery stock, and flowers                                        |10385163239 | 6.61    | a          |\n",
      "|Id Ltd                              |computers, computer peripheral  equipment, and software                              |10385250025 | 5.54    | a          |\n",
      "|Consequat Foundation                |antique shops - sales, repairs, and restoration serVices                             |10404542215 | 6.93    | a          |\n",
      "|Sit Amet Nulla Corp.                |motor vehicle supplies and new parts                                                 |10430380319 | 4.97    | b          |\n",
      "|Massa Vestibulum Foundation         |moTor vehicle supplies and new parts                                                 |10441711491 | 5.77    | a          |\n",
      "|Ut Consulting                       |gift, card, novelty, and souvenir shops                                              |10462560289 | 2.95    | c          |\n",
      "+------------------------------------+-------------------------------------------------------------------------------------+------------+---------+------------+\n",
      "only showing top 20 rows\n",
      "\n"
     ]
    }
   ],
   "source": [
    "merchantdf = spark.read.parquet(\"../data/tables/tbl_merchants.parquet\")\n",
    "merchantdf = merchantdf.withColumnRenamed(\"name\",\"company_name\")\n",
    "\n",
    "# Replace all square brackets with round brackets\n",
    "merchantdf = merchantdf.withColumn('tags', regexp_replace('tags', '\\\\[', '\\\\('))\n",
    "merchantdf = merchantdf.withColumn('tags', regexp_replace('tags', '\\\\]', '\\\\)'))\n",
    "\n",
    "# Extract take rate into seperate column\n",
    "merchantdf = merchantdf.withColumn(\"take_rate\", \n",
    "                                   split(col(\"tags\"), \"\\\\),\").getItem(2))\\\n",
    "                       .withColumn('take_rate', \n",
    "                                   regexp_replace('take_rate', 'take rate: ', \n",
    "                                                  ''))\\\n",
    "                       .withColumn('take_rate', \n",
    "                                   regexp_replace('take_rate', '\\\\(', ''))\\\n",
    "                       .withColumn('take_rate', \n",
    "                                   regexp_replace('take_rate', '\\\\)', ''))\n",
    "\n",
    "# Extract revenue band\n",
    "merchantdf = merchantdf.withColumn(\"revenue_band\", \n",
    "                                   split(col(\"tags\"), \"\\\\),\").getItem(1))\\\n",
    "                       .withColumn('revenue_band', \n",
    "                                   regexp_replace('revenue_band', '\\\\(', ''))\\\n",
    "                       .withColumn('revenue_band', \n",
    "                                   regexp_replace('revenue_band', '\\\\)', ''))\n",
    "\n",
    "# Extract tags band\n",
    "merchantdf = merchantdf.withColumn(\"tags\", \n",
    "                                   split(col(\"tags\"), \"\\\\),\").getItem(0))\\\n",
    "                       .withColumn('tags', \n",
    "                                   regexp_replace('tags', '\\\\(', ''))\\\n",
    "                       .withColumn('tags', \n",
    "                                   regexp_replace('tags', '\\\\)', ''))\n",
    "\n",
    "\n",
    "merchantdf.show(truncate=False)"
   ]
  },
  {
   "cell_type": "code",
   "execution_count": 37,
   "metadata": {},
   "outputs": [
    {
     "name": "stderr",
     "output_type": "stream",
     "text": [
      "                                                                                \r"
     ]
    },
    {
     "data": {
      "text/html": [
       "<table border='1'>\n",
       "<tr><th>merchant_abn</th><th>consumer_id</th><th>user_id</th><th>dollar_value</th><th>order_id</th><th>order_datetime</th><th>customer_name</th><th>address</th><th>state</th><th>postcode</th><th>gender</th><th>company_name</th><th>tags</th><th>take_rate</th><th>revenue_band</th></tr>\n",
       "<tr><td>68216911708</td><td>551</td><td>3471</td><td>39.2325218595659</td><td>c921263e-489e-45a...</td><td>2021-08-21</td><td>Todd Long</td><td>883 Patty Mountai...</td><td>NSW</td><td>2021</td><td>Male</td><td>Placerat Eget Ven...</td><td>computers, comput...</td><td> 3.05</td><td> c</td></tr>\n",
       "<tr><td>46451548968</td><td>551</td><td>3471</td><td>3.8405569898888428</td><td>7e8e7fca-04a1-4f2...</td><td>2021-08-19</td><td>Todd Long</td><td>883 Patty Mountai...</td><td>NSW</td><td>2021</td><td>Male</td><td>Tempus Eu Ligula ...</td><td>heaLth and beauty...</td><td> 6.04</td><td> a</td></tr>\n",
       "<tr><td>35556933338</td><td>551</td><td>3471</td><td>66.18325079406301</td><td>13b0be6a-20b7-439...</td><td>2021-08-22</td><td>Todd Long</td><td>883 Patty Mountai...</td><td>NSW</td><td>2021</td><td>Male</td><td>Semper Cursus Int...</td><td>digital goods: bo...</td><td> 6.87</td><td> a</td></tr>\n",
       "<tr><td>91772719127</td><td>551</td><td>3471</td><td>33.692747732339996</td><td>3750984f-4313-47d...</td><td>2021-08-14</td><td>Todd Long</td><td>883 Patty Mountai...</td><td>NSW</td><td>2021</td><td>Male</td><td>Dictum Cursus Inc...</td><td>artist supply and...</td><td> 5.68</td><td> a</td></tr>\n",
       "<tr><td>29216160692</td><td>551</td><td>3471</td><td>171.76081688162495</td><td>f5917c53-caca-4b6...</td><td>2021-08-15</td><td>Todd Long</td><td>883 Patty Mountai...</td><td>NSW</td><td>2021</td><td>Male</td><td>Class Aptent LLC</td><td>lawn and garden s...</td><td> 5.60</td><td> a</td></tr>\n",
       "<tr><td>68216911708</td><td>551</td><td>3471</td><td>60.713668658695276</td><td>94fbe85c-434a-4e6...</td><td>2021-07-15</td><td>Todd Long</td><td>883 Patty Mountai...</td><td>NSW</td><td>2021</td><td>Male</td><td>Placerat Eget Ven...</td><td>computers, comput...</td><td> 3.05</td><td> c</td></tr>\n",
       "<tr><td>75034515922</td><td>551</td><td>3471</td><td>5.4642431321898375</td><td>12e4b9c7-1738-481...</td><td>2021-07-15</td><td>Todd Long</td><td>883 Patty Mountai...</td><td>NSW</td><td>2021</td><td>Male</td><td>Ac Eleifend Corp.</td><td>digital goods: bo...</td><td> 6.22</td><td> a</td></tr>\n",
       "<tr><td>24852446429</td><td>551</td><td>3471</td><td>56.947518842650844</td><td>8e65c8ee-67f1-411...</td><td>2021-08-16</td><td>Todd Long</td><td>883 Patty Mountai...</td><td>NSW</td><td>2021</td><td>Male</td><td>Erat Vitae LLP</td><td>florists supplies...</td><td> 2.94</td><td> c</td></tr>\n",
       "<tr><td>60111071436</td><td>551</td><td>3471</td><td>65.18552675559465</td><td>5f7d4237-81ca-4e7...</td><td>2021-08-27</td><td>Todd Long</td><td>883 Patty Mountai...</td><td>NSW</td><td>2021</td><td>Male</td><td>Imperdiet Non LLC</td><td>cable, satellite,...</td><td> 6.84</td><td> a</td></tr>\n",
       "<tr><td>22019664345</td><td>551</td><td>3471</td><td>41.38591300683678</td><td>d0a09e6d-27b9-445...</td><td>2021-07-23</td><td>Todd Long</td><td>883 Patty Mountai...</td><td>NSW</td><td>2021</td><td>Male</td><td>Molestie Sodales ...</td><td>moTor vehicle sUp...</td><td> 6.63</td><td> a</td></tr>\n",
       "</table>\n"
      ],
      "text/plain": [
       "+------------+-----------+-------+------------------+--------------------+--------------+-------------+--------------------+-----+--------+------+--------------------+--------------------+---------+------------+\n",
       "|merchant_abn|consumer_id|user_id|      dollar_value|            order_id|order_datetime|customer_name|             address|state|postcode|gender|        company_name|                tags|take_rate|revenue_band|\n",
       "+------------+-----------+-------+------------------+--------------------+--------------+-------------+--------------------+-----+--------+------+--------------------+--------------------+---------+------------+\n",
       "| 68216911708|        551|   3471|  39.2325218595659|c921263e-489e-45a...|    2021-08-21|    Todd Long|883 Patty Mountai...|  NSW|    2021|  Male|Placerat Eget Ven...|computers, comput...|     3.05|           c|\n",
       "| 46451548968|        551|   3471|3.8405569898888428|7e8e7fca-04a1-4f2...|    2021-08-19|    Todd Long|883 Patty Mountai...|  NSW|    2021|  Male|Tempus Eu Ligula ...|heaLth and beauty...|     6.04|           a|\n",
       "| 35556933338|        551|   3471| 66.18325079406301|13b0be6a-20b7-439...|    2021-08-22|    Todd Long|883 Patty Mountai...|  NSW|    2021|  Male|Semper Cursus Int...|digital goods: bo...|     6.87|           a|\n",
       "| 91772719127|        551|   3471|33.692747732339996|3750984f-4313-47d...|    2021-08-14|    Todd Long|883 Patty Mountai...|  NSW|    2021|  Male|Dictum Cursus Inc...|artist supply and...|     5.68|           a|\n",
       "| 29216160692|        551|   3471|171.76081688162495|f5917c53-caca-4b6...|    2021-08-15|    Todd Long|883 Patty Mountai...|  NSW|    2021|  Male|    Class Aptent LLC|lawn and garden s...|     5.60|           a|\n",
       "| 68216911708|        551|   3471|60.713668658695276|94fbe85c-434a-4e6...|    2021-07-15|    Todd Long|883 Patty Mountai...|  NSW|    2021|  Male|Placerat Eget Ven...|computers, comput...|     3.05|           c|\n",
       "| 75034515922|        551|   3471|5.4642431321898375|12e4b9c7-1738-481...|    2021-07-15|    Todd Long|883 Patty Mountai...|  NSW|    2021|  Male|   Ac Eleifend Corp.|digital goods: bo...|     6.22|           a|\n",
       "| 24852446429|        551|   3471|56.947518842650844|8e65c8ee-67f1-411...|    2021-08-16|    Todd Long|883 Patty Mountai...|  NSW|    2021|  Male|      Erat Vitae LLP|florists supplies...|     2.94|           c|\n",
       "| 60111071436|        551|   3471| 65.18552675559465|5f7d4237-81ca-4e7...|    2021-08-27|    Todd Long|883 Patty Mountai...|  NSW|    2021|  Male|   Imperdiet Non LLC|cable, satellite,...|     6.84|           a|\n",
       "| 22019664345|        551|   3471| 41.38591300683678|d0a09e6d-27b9-445...|    2021-07-23|    Todd Long|883 Patty Mountai...|  NSW|    2021|  Male|Molestie Sodales ...|moTor vehicle sUp...|     6.63|           a|\n",
       "+------------+-----------+-------+------------------+--------------------+--------------+-------------+--------------------+-----+--------+------+--------------------+--------------------+---------+------------+"
      ]
     },
     "execution_count": 37,
     "metadata": {},
     "output_type": "execute_result"
    }
   ],
   "source": [
    "transactiondf = transactiondf1.union(transactiondf2)\n",
    "mergedf = transactiondf.join(userdf, \"user_id\")\n",
    "mergedf\n",
    "mergedf = mergedf.join(consumerdf, \"consumer_id\")\n",
    "mergedf\n",
    "mergedf = mergedf.join(merchantdf, \"merchant_abn\")\n",
    "mergedf.limit(10)"
   ]
  },
  {
   "cell_type": "code",
   "execution_count": 38,
   "metadata": {},
   "outputs": [
    {
     "name": "stderr",
     "output_type": "stream",
     "text": [
      "                                                                                \r"
     ]
    }
   ],
   "source": [
    "mergedf.write.parquet('../data/curated/mergedf.parquet')"
   ]
  },
  {
   "cell_type": "code",
   "execution_count": 39,
   "metadata": {},
   "outputs": [
    {
     "name": "stderr",
     "output_type": "stream",
     "text": [
      "                                                                                \r"
     ]
    },
    {
     "data": {
      "text/html": [
       "<table border='1'>\n",
       "<tr><th>merchant_abn</th><th>avg(dollar_value)</th></tr>\n",
       "<tr><td>38700038932</td><td>1333.0894941085276</td></tr>\n",
       "<tr><td>83412691377</td><td>35.048115443301164</td></tr>\n",
       "<tr><td>15613631617</td><td>300.1850319573497</td></tr>\n",
       "<tr><td>19839532017</td><td>157.0</td></tr>\n",
       "<tr><td>73256306726</td><td>284.96133358238615</td></tr>\n",
       "<tr><td>35344855546</td><td>87.90619961634984</td></tr>\n",
       "<tr><td>73841664453</td><td>89.0963665048099</td></tr>\n",
       "<tr><td>78916025936</td><td>352.61969394690243</td></tr>\n",
       "<tr><td>60654402457</td><td>84.44940983729136</td></tr>\n",
       "<tr><td>92202115241</td><td>312.11904590114267</td></tr>\n",
       "<tr><td>52763133264</td><td>107.16177420295212</td></tr>\n",
       "<tr><td>48214071373</td><td>302.8523294211269</td></tr>\n",
       "<tr><td>41956465747</td><td>236.55325291659966</td></tr>\n",
       "<tr><td>34440496342</td><td>90.65605227790425</td></tr>\n",
       "<tr><td>12516851436</td><td>149.88324756182888</td></tr>\n",
       "<tr><td>96946925998</td><td>956.4072048305517</td></tr>\n",
       "<tr><td>57798993346</td><td>930.3728778389997</td></tr>\n",
       "<tr><td>38986645707</td><td>862.6681661928312</td></tr>\n",
       "<tr><td>29216160692</td><td>106.77555167615343</td></tr>\n",
       "<tr><td>87211363921</td><td>53.94662143790201</td></tr>\n",
       "</table>\n",
       "only showing top 20 rows\n"
      ],
      "text/plain": [
       "+------------+------------------+\n",
       "|merchant_abn| avg(dollar_value)|\n",
       "+------------+------------------+\n",
       "| 38700038932|1333.0894941085276|\n",
       "| 83412691377|35.048115443301164|\n",
       "| 15613631617| 300.1850319573497|\n",
       "| 19839532017|             157.0|\n",
       "| 73256306726|284.96133358238615|\n",
       "| 35344855546| 87.90619961634984|\n",
       "| 73841664453|  89.0963665048099|\n",
       "| 78916025936|352.61969394690243|\n",
       "| 60654402457| 84.44940983729136|\n",
       "| 92202115241|312.11904590114267|\n",
       "| 52763133264|107.16177420295212|\n",
       "| 48214071373| 302.8523294211269|\n",
       "| 41956465747|236.55325291659966|\n",
       "| 34440496342| 90.65605227790425|\n",
       "| 12516851436|149.88324756182888|\n",
       "| 96946925998| 956.4072048305517|\n",
       "| 57798993346| 930.3728778389997|\n",
       "| 38986645707| 862.6681661928312|\n",
       "| 29216160692|106.77555167615343|\n",
       "| 87211363921| 53.94662143790201|\n",
       "+------------+------------------+\n",
       "only showing top 20 rows"
      ]
     },
     "execution_count": 39,
     "metadata": {},
     "output_type": "execute_result"
    }
   ],
   "source": [
    "mergedf.groupBy(\"merchant_abn\").mean(\"dollar_value\")"
   ]
  },
  {
   "cell_type": "markdown",
   "metadata": {},
   "source": [
    "main websites out there containing australian datasets:\n",
    "- https://explore.data.abs.gov.au/ \n",
    "- https://data.gov.au/\n",
    "- https://researchdata.edu.au/\n",
    "- https://aurin.org.au/\n",
    "\n",
    "Key features to join on: \n",
    "- timestamp\n",
    "- location: state/postcode/SA2 \n",
    "\n",
    "Key model features: \n",
    "- merchant abn (nominal)\n",
    "- datetime\n",
    "- user id: how many users shop at each merchant\n",
    "- dollar value\n",
    "- location\n",
    "- gender\n",
    "- tags"
   ]
  },
  {
   "cell_type": "markdown",
   "metadata": {},
   "source": [
    "SA2 Shapefile: https://www.abs.gov.au/statistics/standards/australian-statistical-geography-standard-asgs-edition-3/jul2021-jun2026/access-and-downloads/digital-boundary-files"
   ]
  }
 ],
 "metadata": {
  "kernelspec": {
   "display_name": "Python 3 (ipykernel)",
   "language": "python",
   "name": "python3"
  },
  "language_info": {
   "codemirror_mode": {
    "name": "ipython",
    "version": 3
   },
   "file_extension": ".py",
   "mimetype": "text/x-python",
   "name": "python",
   "nbconvert_exporter": "python",
   "pygments_lexer": "ipython3",
   "version": "3.8.10"
  },
  "latex_envs": {
   "LaTeX_envs_menu_present": true,
   "autoclose": false,
   "autocomplete": true,
   "bibliofile": "biblio.bib",
   "cite_by": "apalike",
   "current_citInitial": 1,
   "eqLabelWithNumbers": true,
   "eqNumInitial": 1,
   "hotkeys": {
    "equation": "Ctrl-E",
    "itemize": "Ctrl-I"
   },
   "labels_anchors": false,
   "latex_user_defs": false,
   "report_style_numbering": false,
   "user_envs_cfg": false
  },
  "toc": {
   "base_numbering": 1,
   "nav_menu": {},
   "number_sections": true,
   "sideBar": true,
   "skip_h1_title": false,
   "title_cell": "Table of Contents",
   "title_sidebar": "Contents",
   "toc_cell": false,
   "toc_position": {},
   "toc_section_display": true,
   "toc_window_display": false
  },
  "varInspector": {
   "cols": {
    "lenName": 16,
    "lenType": 16,
    "lenVar": 40
   },
   "kernels_config": {
    "python": {
     "delete_cmd_postfix": "",
     "delete_cmd_prefix": "del ",
     "library": "var_list.py",
     "varRefreshCmd": "print(var_dic_list())"
    },
    "r": {
     "delete_cmd_postfix": ") ",
     "delete_cmd_prefix": "rm(",
     "library": "var_list.r",
     "varRefreshCmd": "cat(var_dic_list()) "
    }
   },
   "types_to_exclude": [
    "module",
    "function",
    "builtin_function_or_method",
    "instance",
    "_Feature"
   ],
   "window_display": false
  },
  "vscode": {
   "interpreter": {
    "hash": "916dbcbb3f70747c44a77c7bcd40155683ae19c65e1c03b4aa3499c5328201f1"
   }
  }
 },
 "nbformat": 4,
 "nbformat_minor": 4
}
