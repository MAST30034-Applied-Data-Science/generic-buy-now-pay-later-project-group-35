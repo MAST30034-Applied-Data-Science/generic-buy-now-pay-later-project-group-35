{
 "cells": [
  {
   "cell_type": "markdown",
   "metadata": {},
   "source": [
    "# Pre-Processing"
   ]
  },
  {
   "cell_type": "markdown",
   "metadata": {},
   "source": [
    "# *STILL NEED TO INCLUDE THE NEW DATASET RELEASED SPRINT 2"
   ]
  },
  {
   "cell_type": "code",
   "execution_count": 1,
   "metadata": {
    "ExecuteTime": {
     "end_time": "2022-07-31T02:22:01.919813Z",
     "start_time": "2022-07-31T02:21:57.283647Z"
    }
   },
   "outputs": [
    {
     "name": "stdout",
     "output_type": "stream",
     "text": [
      "22/09/05 13:40:44 WARN Utils: Your hostname, AryansLaptop resolves to a loopback address: 127.0.1.1; using 172.28.47.205 instead (on interface eth0)\n",
      "22/09/05 13:40:44 WARN Utils: Set SPARK_LOCAL_IP if you need to bind to another address\n"
     ]
    },
    {
     "name": "stderr",
     "output_type": "stream",
     "text": [
      "Setting default log level to \"WARN\".\n",
      "To adjust logging level use sc.setLogLevel(newLevel). For SparkR, use setLogLevel(newLevel).\n"
     ]
    },
    {
     "name": "stdout",
     "output_type": "stream",
     "text": [
      "22/09/05 13:40:46 WARN NativeCodeLoader: Unable to load native-hadoop library for your platform... using builtin-java classes where applicable\n"
     ]
    }
   ],
   "source": [
    "from pyspark.sql import SparkSession\n",
    "\n",
    "# Create a spark session\n",
    "spark = (\n",
    "    SparkSession.builder.appName(\"preprocessing\")\n",
    "    .config(\"spark.sql.repl.eagerEval.enabled\", True) \n",
    "    .config(\"spark.sql.parquet.cacheMetadata\", \"true\")\n",
    "    .config(\"spark.sql.session.timeZone\", \"Etc/UTC\")\n",
    "    .config(\"spark.driver.memory\", \"2g\")\n",
    "    .config(\"spark.executor.memory\", \"6g\")\n",
    "    .getOrCreate()\n",
    ")"
   ]
  },
  {
   "cell_type": "code",
   "execution_count": 2,
   "metadata": {},
   "outputs": [
    {
     "name": "stderr",
     "output_type": "stream",
     "text": [
      "                                                                                \r"
     ]
    },
    {
     "data": {
      "text/html": [
       "<table border='1'>\n",
       "<tr><th>user_id</th><th>merchant_abn</th><th>dollar_value</th><th>order_id</th><th>order_datetime</th></tr>\n",
       "<tr><td>18478</td><td>62191208634</td><td>63.255848959735246</td><td>949a63c8-29f7-4ab...</td><td>2021-08-20</td></tr>\n",
       "<tr><td>2</td><td>15549624934</td><td>130.3505283105634</td><td>6a84c3cf-612a-457...</td><td>2021-08-20</td></tr>\n",
       "<tr><td>18479</td><td>64403598239</td><td>120.15860593212783</td><td>b10dcc33-e53f-425...</td><td>2021-08-20</td></tr>\n",
       "<tr><td>3</td><td>60956456424</td><td>136.6785200286976</td><td>0f09c5a5-784e-447...</td><td>2021-08-20</td></tr>\n",
       "<tr><td>18479</td><td>94493496784</td><td>72.96316578355305</td><td>f6c78c1a-4600-4c5...</td><td>2021-08-20</td></tr>\n",
       "<tr><td>3</td><td>76819856970</td><td>448.529684285612</td><td>5ace6a24-cdf0-4aa...</td><td>2021-08-20</td></tr>\n",
       "<tr><td>18479</td><td>67609108741</td><td>86.4040605836911</td><td>d0e180f0-cb06-42a...</td><td>2021-08-20</td></tr>\n",
       "<tr><td>3</td><td>34096466752</td><td>301.5793450525113</td><td>6fb1ff48-24bb-4f9...</td><td>2021-08-20</td></tr>\n",
       "<tr><td>18482</td><td>70501974849</td><td>68.75486276223054</td><td>8505fb33-b69a-412...</td><td>2021-08-20</td></tr>\n",
       "<tr><td>4</td><td>49891706470</td><td>48.89796461900801</td><td>ed11e477-b09f-4ae...</td><td>2021-08-20</td></tr>\n",
       "<tr><td>18482</td><td>46804135891</td><td>6.6168976971833615</td><td>05b5edb5-b925-414...</td><td>2021-08-20</td></tr>\n",
       "<tr><td>7</td><td>33064796871</td><td>373.0873675184212</td><td>fe188788-b89f-4dd...</td><td>2021-08-20</td></tr>\n",
       "<tr><td>18483</td><td>44160392990</td><td>83.98473054761176</td><td>7c44302d-98b3-48b...</td><td>2021-08-20</td></tr>\n",
       "<tr><td>7</td><td>68435002949</td><td>232.5364986739752</td><td>b4a89891-a113-45e...</td><td>2021-08-20</td></tr>\n",
       "<tr><td>18484</td><td>70033549200</td><td>871.7678061729196</td><td>4b1d941a-21a1-43e...</td><td>2021-08-20</td></tr>\n",
       "<tr><td>7</td><td>41944909975</td><td>30.910755230234322</td><td>302ae628-8eba-4a5...</td><td>2021-08-20</td></tr>\n",
       "<tr><td>18485</td><td>41705715409</td><td>309.5417224575787</td><td>67f4f98e-3149-4e8...</td><td>2021-08-20</td></tr>\n",
       "<tr><td>8</td><td>29566626791</td><td>74.15732460440282</td><td>71a81652-cc91-4bf...</td><td>2021-08-20</td></tr>\n",
       "<tr><td>18487</td><td>32361057556</td><td>119.19055863068847</td><td>15577921-1104-470...</td><td>2021-08-20</td></tr>\n",
       "<tr><td>9</td><td>47663262928</td><td>36.69873283148887</td><td>c4fcb49a-ce87-4e1...</td><td>2021-08-20</td></tr>\n",
       "</table>\n",
       "only showing top 20 rows\n"
      ],
      "text/plain": [
       "+-------+------------+------------------+--------------------+--------------+\n",
       "|user_id|merchant_abn|      dollar_value|            order_id|order_datetime|\n",
       "+-------+------------+------------------+--------------------+--------------+\n",
       "|  18478| 62191208634|63.255848959735246|949a63c8-29f7-4ab...|    2021-08-20|\n",
       "|      2| 15549624934| 130.3505283105634|6a84c3cf-612a-457...|    2021-08-20|\n",
       "|  18479| 64403598239|120.15860593212783|b10dcc33-e53f-425...|    2021-08-20|\n",
       "|      3| 60956456424| 136.6785200286976|0f09c5a5-784e-447...|    2021-08-20|\n",
       "|  18479| 94493496784| 72.96316578355305|f6c78c1a-4600-4c5...|    2021-08-20|\n",
       "|      3| 76819856970|  448.529684285612|5ace6a24-cdf0-4aa...|    2021-08-20|\n",
       "|  18479| 67609108741|  86.4040605836911|d0e180f0-cb06-42a...|    2021-08-20|\n",
       "|      3| 34096466752| 301.5793450525113|6fb1ff48-24bb-4f9...|    2021-08-20|\n",
       "|  18482| 70501974849| 68.75486276223054|8505fb33-b69a-412...|    2021-08-20|\n",
       "|      4| 49891706470| 48.89796461900801|ed11e477-b09f-4ae...|    2021-08-20|\n",
       "|  18482| 46804135891|6.6168976971833615|05b5edb5-b925-414...|    2021-08-20|\n",
       "|      7| 33064796871| 373.0873675184212|fe188788-b89f-4dd...|    2021-08-20|\n",
       "|  18483| 44160392990| 83.98473054761176|7c44302d-98b3-48b...|    2021-08-20|\n",
       "|      7| 68435002949| 232.5364986739752|b4a89891-a113-45e...|    2021-08-20|\n",
       "|  18484| 70033549200| 871.7678061729196|4b1d941a-21a1-43e...|    2021-08-20|\n",
       "|      7| 41944909975|30.910755230234322|302ae628-8eba-4a5...|    2021-08-20|\n",
       "|  18485| 41705715409| 309.5417224575787|67f4f98e-3149-4e8...|    2021-08-20|\n",
       "|      8| 29566626791| 74.15732460440282|71a81652-cc91-4bf...|    2021-08-20|\n",
       "|  18487| 32361057556|119.19055863068847|15577921-1104-470...|    2021-08-20|\n",
       "|      9| 47663262928| 36.69873283148887|c4fcb49a-ce87-4e1...|    2021-08-20|\n",
       "+-------+------------+------------------+--------------------+--------------+\n",
       "only showing top 20 rows"
      ]
     },
     "execution_count": 2,
     "metadata": {},
     "output_type": "execute_result"
    }
   ],
   "source": [
    "transactiondf = spark.read.parquet(\"../data/tables/transactions_20210228_20210827_snapshot/\")\n",
    "transactiondf\n",
    "#sdf.count()"
   ]
  },
  {
   "cell_type": "code",
   "execution_count": 3,
   "metadata": {},
   "outputs": [
    {
     "name": "stdout",
     "output_type": "stream",
     "text": [
      "+-------+-----------+\n",
      "|user_id|consumer_id|\n",
      "+-------+-----------+\n",
      "|      1|    1195503|\n",
      "|      2|     179208|\n",
      "|      3|    1194530|\n",
      "|      4|     154128|\n",
      "|      5|     712975|\n",
      "|      6|     407340|\n",
      "|      7|     511685|\n",
      "|      8|     448088|\n",
      "|      9|     650435|\n",
      "|     10|    1058499|\n",
      "|     11|     428325|\n",
      "|     12|    1494640|\n",
      "|     13|    1146717|\n",
      "|     14|    1343547|\n",
      "|     15|    1463076|\n",
      "|     16|    1356405|\n",
      "|     17|    1331093|\n",
      "|     18|      80965|\n",
      "|     19|    1226530|\n",
      "|     20|    1390367|\n",
      "+-------+-----------+\n",
      "only showing top 20 rows\n",
      "\n"
     ]
    }
   ],
   "source": [
    "userdf = spark.read.parquet(\"../data/tables/consumer_user_details.parquet\")\n",
    "userdf.show()\n",
    "#sdf.count()"
   ]
  },
  {
   "cell_type": "code",
   "execution_count": 4,
   "metadata": {},
   "outputs": [
    {
     "data": {
      "text/html": [
       "<table border='1'>\n",
       "<tr><th>customer_name</th><th>address</th><th>state</th><th>postcode</th><th>gender</th><th>consumer_id</th></tr>\n",
       "<tr><td>Yolanda Williams</td><td>413 Haney Gardens...</td><td>WA</td><td>6935</td><td>Female</td><td>1195503</td></tr>\n",
       "<tr><td>Mary Smith</td><td>3764 Amber Oval</td><td>NSW</td><td>2782</td><td>Female</td><td>179208</td></tr>\n",
       "<tr><td>Jill Jones MD</td><td>40693 Henry Greens</td><td>NT</td><td>862</td><td>Female</td><td>1194530</td></tr>\n",
       "<tr><td>Lindsay Jimenez</td><td>00653 Davenport C...</td><td>NSW</td><td>2780</td><td>Female</td><td>154128</td></tr>\n",
       "<tr><td>Rebecca Blanchard</td><td>9271 Michael Mano...</td><td>WA</td><td>6355</td><td>Female</td><td>712975</td></tr>\n",
       "<tr><td>Karen Chapman</td><td>2706 Stewart Oval...</td><td>NSW</td><td>2033</td><td>Female</td><td>407340</td></tr>\n",
       "<tr><td>Andrea Jones</td><td>122 Brandon Cliff</td><td>QLD</td><td>4606</td><td>Female</td><td>511685</td></tr>\n",
       "<tr><td>Stephen Williams</td><td>6804 Wright Crest...</td><td>WA</td><td>6056</td><td>Male</td><td>448088</td></tr>\n",
       "<tr><td>Stephanie Reyes</td><td>5813 Denise Land ...</td><td>NSW</td><td>2482</td><td>Female</td><td>650435</td></tr>\n",
       "<tr><td>Jillian Gonzales</td><td>461 Ryan Common S...</td><td>VIC</td><td>3220</td><td>Female</td><td>1058499</td></tr>\n",
       "<tr><td>Eugene Lucas</td><td>33983 Kevin Drive...</td><td>VIC</td><td>3063</td><td>Undisclosed</td><td>428325</td></tr>\n",
       "<tr><td>Melissa Jones</td><td>13706 Kimberly Port</td><td>WA</td><td>6743</td><td>Female</td><td>1494640</td></tr>\n",
       "<tr><td>Angela Brown PhD</td><td>0236 Mills Land S...</td><td>QLD</td><td>4673</td><td>Female</td><td>1146717</td></tr>\n",
       "<tr><td>Lance Butler</td><td>8943 Kenneth Camp</td><td>VIC</td><td>3332</td><td>Male</td><td>1343547</td></tr>\n",
       "<tr><td>Paul Abbott</td><td>60495 Ryan Hill</td><td>QLD</td><td>4512</td><td>Male</td><td>1463076</td></tr>\n",
       "<tr><td>Tracy Hart</td><td>9671 Jacob Harbor...</td><td>NSW</td><td>2452</td><td>Male</td><td>1356405</td></tr>\n",
       "<tr><td>Alyssa Wilson</td><td>44353 Nathan Ridge</td><td>VIC</td><td>3719</td><td>Female</td><td>1331093</td></tr>\n",
       "<tr><td>Michael Burnett</td><td>89400 Torres Fort</td><td>NSW</td><td>1109</td><td>Male</td><td>80965</td></tr>\n",
       "<tr><td>Victoria Gonzalez</td><td>68657 Johnson Gle...</td><td>TAS</td><td>7276</td><td>Female</td><td>1226530</td></tr>\n",
       "<tr><td>James Norris</td><td>790 Ramos Landing</td><td>VIC</td><td>3234</td><td>Undisclosed</td><td>1390367</td></tr>\n",
       "</table>\n",
       "only showing top 20 rows\n"
      ],
      "text/plain": [
       "+-----------------+--------------------+-----+--------+-----------+-----------+\n",
       "|    customer_name|             address|state|postcode|     gender|consumer_id|\n",
       "+-----------------+--------------------+-----+--------+-----------+-----------+\n",
       "| Yolanda Williams|413 Haney Gardens...|   WA|    6935|     Female|    1195503|\n",
       "|       Mary Smith|     3764 Amber Oval|  NSW|    2782|     Female|     179208|\n",
       "|    Jill Jones MD|  40693 Henry Greens|   NT|     862|     Female|    1194530|\n",
       "|  Lindsay Jimenez|00653 Davenport C...|  NSW|    2780|     Female|     154128|\n",
       "|Rebecca Blanchard|9271 Michael Mano...|   WA|    6355|     Female|     712975|\n",
       "|    Karen Chapman|2706 Stewart Oval...|  NSW|    2033|     Female|     407340|\n",
       "|     Andrea Jones|   122 Brandon Cliff|  QLD|    4606|     Female|     511685|\n",
       "| Stephen Williams|6804 Wright Crest...|   WA|    6056|       Male|     448088|\n",
       "|  Stephanie Reyes|5813 Denise Land ...|  NSW|    2482|     Female|     650435|\n",
       "| Jillian Gonzales|461 Ryan Common S...|  VIC|    3220|     Female|    1058499|\n",
       "|     Eugene Lucas|33983 Kevin Drive...|  VIC|    3063|Undisclosed|     428325|\n",
       "|    Melissa Jones| 13706 Kimberly Port|   WA|    6743|     Female|    1494640|\n",
       "| Angela Brown PhD|0236 Mills Land S...|  QLD|    4673|     Female|    1146717|\n",
       "|     Lance Butler|   8943 Kenneth Camp|  VIC|    3332|       Male|    1343547|\n",
       "|      Paul Abbott|     60495 Ryan Hill|  QLD|    4512|       Male|    1463076|\n",
       "|       Tracy Hart|9671 Jacob Harbor...|  NSW|    2452|       Male|    1356405|\n",
       "|    Alyssa Wilson|  44353 Nathan Ridge|  VIC|    3719|     Female|    1331093|\n",
       "|  Michael Burnett|   89400 Torres Fort|  NSW|    1109|       Male|      80965|\n",
       "|Victoria Gonzalez|68657 Johnson Gle...|  TAS|    7276|     Female|    1226530|\n",
       "|     James Norris|   790 Ramos Landing|  VIC|    3234|Undisclosed|    1390367|\n",
       "+-----------------+--------------------+-----+--------+-----------+-----------+\n",
       "only showing top 20 rows"
      ]
     },
     "execution_count": 4,
     "metadata": {},
     "output_type": "execute_result"
    }
   ],
   "source": [
    "consumerdf = spark.read.option(\"header\",\"true\").csv(\"../data/tables/tbl_consumer.csv\", sep=\"|\")\n",
    "consumerdf = consumerdf.withColumnRenamed(\"name\",\"customer_name\")\n",
    "consumerdf\n",
    "#sdf.count()"
   ]
  },
  {
   "cell_type": "code",
   "execution_count": 5,
   "metadata": {},
   "outputs": [
    {
     "name": "stdout",
     "output_type": "stream",
     "text": [
      "+--------------------+--------------------+------------+\n",
      "|        company_name|                tags|merchant_abn|\n",
      "+--------------------+--------------------+------------+\n",
      "|       Felis Limited|((furniture, home...| 10023283211|\n",
      "|Arcu Ac Orci Corp...|([cable, satellit...| 10142254217|\n",
      "|    Nunc Sed Company|([jewelry, watch,...| 10165489824|\n",
      "|Ultricies Digniss...|([wAtch, clock, a...| 10187291046|\n",
      "| Enim Condimentum PC|([music shops - m...| 10192359162|\n",
      "|       Fusce Company|[(gift, card, nov...| 10206519221|\n",
      "|Aliquam Enim Inco...|[(computers, comP...| 10255988167|\n",
      "|    Ipsum Primis Ltd|[[watch, clock, a...| 10264435225|\n",
      "|Pede Ultrices Ind...|([computer progra...| 10279061213|\n",
      "|           Nunc Inc.|[(furniture, home...| 10323485998|\n",
      "|Facilisis Facilis...|([computers, comp...| 10342410215|\n",
      "|      Odio Institute|((equipment, tool...| 10346855916|\n",
      "|    Rutrum Justo Ltd|([music shops - m...| 10364012396|\n",
      "|   Tellus Foundation|[[artist supply a...| 10385011947|\n",
      "|      Sed Et Company|([florists suppli...| 10385163239|\n",
      "|              Id Ltd|([computers, comp...| 10385250025|\n",
      "|Consequat Foundation|[[antique shops -...| 10404542215|\n",
      "|Sit Amet Nulla Corp.|[[motor vehicle s...| 10430380319|\n",
      "|Massa Vestibulum ...|[(moTor vehicle s...| 10441711491|\n",
      "|       Ut Consulting|([gift, card, nov...| 10462560289|\n",
      "+--------------------+--------------------+------------+\n",
      "only showing top 20 rows\n",
      "\n"
     ]
    }
   ],
   "source": [
    "merchantdf = spark.read.parquet(\"../data/tables/tbl_merchants.parquet\")\n",
    "merchantdf = merchantdf.withColumnRenamed(\"name\",\"company_name\")\n",
    "merchantdf.show()\n",
    "#sdf.count()"
   ]
  },
  {
   "cell_type": "code",
   "execution_count": 6,
   "metadata": {},
   "outputs": [
    {
     "name": "stderr",
     "output_type": "stream",
     "text": [
      "                                                                                \r"
     ]
    },
    {
     "data": {
      "text/html": [
       "<table border='1'>\n",
       "<tr><th>merchant_abn</th><th>consumer_id</th><th>user_id</th><th>dollar_value</th><th>order_id</th><th>order_datetime</th><th>customer_name</th><th>address</th><th>state</th><th>postcode</th><th>gender</th><th>company_name</th><th>tags</th></tr>\n",
       "<tr><td>11121775571</td><td>1175</td><td>3698</td><td>11.28829564583802</td><td>2bd2a61d-72e5-42d...</td><td>2021-08-20</td><td>Christopher Rodri...</td><td>30554 Evans Strea...</td><td>NSW</td><td>2299</td><td>Male</td><td>Egestas Nunc Asso...</td><td>[[digital goods: ...</td></tr>\n",
       "<tr><td>52342208808</td><td>1175</td><td>3698</td><td>33.63559918565411</td><td>d7dc62f5-af4c-4f8...</td><td>2021-08-20</td><td>Christopher Rodri...</td><td>30554 Evans Strea...</td><td>NSW</td><td>2299</td><td>Male</td><td>Nisl Arcu Incorpo...</td><td>[[digital goods: ...</td></tr>\n",
       "<tr><td>21025433654</td><td>1175</td><td>3698</td><td>14.294118978745106</td><td>a006533f-3d3b-4ac...</td><td>2021-08-19</td><td>Christopher Rodri...</td><td>30554 Evans Strea...</td><td>NSW</td><td>2299</td><td>Male</td><td>Lorem Foundation</td><td>[(digital goods: ...</td></tr>\n",
       "<tr><td>18303734841</td><td>1175</td><td>3698</td><td>170.33983938489666</td><td>f5f086e8-f27d-424...</td><td>2021-08-19</td><td>Christopher Rodri...</td><td>30554 Evans Strea...</td><td>NSW</td><td>2299</td><td>Male</td><td>Sollicitudin Orci...</td><td>[(health and beau...</td></tr>\n",
       "<tr><td>19618998054</td><td>1175</td><td>3698</td><td>20.5163473369159</td><td>d2e6c9b2-262f-47e...</td><td>2021-08-15</td><td>Christopher Rodri...</td><td>30554 Evans Strea...</td><td>NSW</td><td>2299</td><td>Male</td><td>Morbi Accumsan In...</td><td>([tent and aWning...</td></tr>\n",
       "<tr><td>50589958690</td><td>1175</td><td>3698</td><td>2252.695838231911</td><td>aaf18557-b632-4c3...</td><td>2021-07-15</td><td>Christopher Rodri...</td><td>30554 Evans Strea...</td><td>NSW</td><td>2299</td><td>Male</td><td>Nibh Quisque Corp.</td><td>((telecom), (b), ...</td></tr>\n",
       "<tr><td>46804135891</td><td>1175</td><td>3698</td><td>26.758836750865573</td><td>27d72b0a-0ca8-46d...</td><td>2021-07-15</td><td>Christopher Rodri...</td><td>30554 Evans Strea...</td><td>NSW</td><td>2299</td><td>Male</td><td>Suspendisse Dui C...</td><td>((opticians, opti...</td></tr>\n",
       "<tr><td>78820544491</td><td>1175</td><td>3698</td><td>515.1395522018817</td><td>1ac2b3be-493d-454...</td><td>2021-07-23</td><td>Christopher Rodri...</td><td>30554 Evans Strea...</td><td>NSW</td><td>2299</td><td>Male</td><td>Tincidunt Aliquam...</td><td>((antique shops -...</td></tr>\n",
       "<tr><td>80324045558</td><td>1175</td><td>3698</td><td>37.87116052055751</td><td>fac6b282-e85f-49c...</td><td>2021-07-30</td><td>Christopher Rodri...</td><td>30554 Evans Strea...</td><td>NSW</td><td>2299</td><td>Male</td><td>Ipsum Dolor Sit C...</td><td>[(gift, card, nov...</td></tr>\n",
       "<tr><td>48534649627</td><td>1175</td><td>3698</td><td>152.5589743918944</td><td>2598b113-a236-436...</td><td>2021-07-30</td><td>Christopher Rodri...</td><td>30554 Evans Strea...</td><td>NSW</td><td>2299</td><td>Male</td><td>Dignissim Maecena...</td><td>[[opticians, oPti...</td></tr>\n",
       "</table>\n"
      ],
      "text/plain": [
       "+------------+-----------+-------+------------------+--------------------+--------------+--------------------+--------------------+-----+--------+------+--------------------+--------------------+\n",
       "|merchant_abn|consumer_id|user_id|      dollar_value|            order_id|order_datetime|       customer_name|             address|state|postcode|gender|        company_name|                tags|\n",
       "+------------+-----------+-------+------------------+--------------------+--------------+--------------------+--------------------+-----+--------+------+--------------------+--------------------+\n",
       "| 11121775571|       1175|   3698| 11.28829564583802|2bd2a61d-72e5-42d...|    2021-08-20|Christopher Rodri...|30554 Evans Strea...|  NSW|    2299|  Male|Egestas Nunc Asso...|[[digital goods: ...|\n",
       "| 52342208808|       1175|   3698| 33.63559918565411|d7dc62f5-af4c-4f8...|    2021-08-20|Christopher Rodri...|30554 Evans Strea...|  NSW|    2299|  Male|Nisl Arcu Incorpo...|[[digital goods: ...|\n",
       "| 21025433654|       1175|   3698|14.294118978745106|a006533f-3d3b-4ac...|    2021-08-19|Christopher Rodri...|30554 Evans Strea...|  NSW|    2299|  Male|    Lorem Foundation|[(digital goods: ...|\n",
       "| 18303734841|       1175|   3698|170.33983938489666|f5f086e8-f27d-424...|    2021-08-19|Christopher Rodri...|30554 Evans Strea...|  NSW|    2299|  Male|Sollicitudin Orci...|[(health and beau...|\n",
       "| 19618998054|       1175|   3698|  20.5163473369159|d2e6c9b2-262f-47e...|    2021-08-15|Christopher Rodri...|30554 Evans Strea...|  NSW|    2299|  Male|Morbi Accumsan In...|([tent and aWning...|\n",
       "| 50589958690|       1175|   3698| 2252.695838231911|aaf18557-b632-4c3...|    2021-07-15|Christopher Rodri...|30554 Evans Strea...|  NSW|    2299|  Male|  Nibh Quisque Corp.|((telecom), (b), ...|\n",
       "| 46804135891|       1175|   3698|26.758836750865573|27d72b0a-0ca8-46d...|    2021-07-15|Christopher Rodri...|30554 Evans Strea...|  NSW|    2299|  Male|Suspendisse Dui C...|((opticians, opti...|\n",
       "| 78820544491|       1175|   3698| 515.1395522018817|1ac2b3be-493d-454...|    2021-07-23|Christopher Rodri...|30554 Evans Strea...|  NSW|    2299|  Male|Tincidunt Aliquam...|((antique shops -...|\n",
       "| 80324045558|       1175|   3698| 37.87116052055751|fac6b282-e85f-49c...|    2021-07-30|Christopher Rodri...|30554 Evans Strea...|  NSW|    2299|  Male|Ipsum Dolor Sit C...|[(gift, card, nov...|\n",
       "| 48534649627|       1175|   3698| 152.5589743918944|2598b113-a236-436...|    2021-07-30|Christopher Rodri...|30554 Evans Strea...|  NSW|    2299|  Male|Dignissim Maecena...|[[opticians, oPti...|\n",
       "+------------+-----------+-------+------------------+--------------------+--------------+--------------------+--------------------+-----+--------+------+--------------------+--------------------+"
      ]
     },
     "execution_count": 6,
     "metadata": {},
     "output_type": "execute_result"
    }
   ],
   "source": [
    "mergedf = transactiondf.join(userdf, \"user_id\")\n",
    "mergedf\n",
    "mergedf = mergedf.join(consumerdf, \"consumer_id\")\n",
    "mergedf\n",
    "mergedf = mergedf.join(merchantdf, \"merchant_abn\")\n",
    "mergedf.limit(10)"
   ]
  },
  {
   "cell_type": "code",
   "execution_count": 7,
   "metadata": {},
   "outputs": [
    {
     "ename": "AnalysisException",
     "evalue": "path file:/home/ashahi/generic-buy-now-pay-later-project-group-35/data/curated/mergedf.paraquet already exists.",
     "output_type": "error",
     "traceback": [
      "\u001b[0;31m---------------------------------------------------------------------------\u001b[0m",
      "\u001b[0;31mAnalysisException\u001b[0m                         Traceback (most recent call last)",
      "\u001b[1;32m/home/ashahi/generic-buy-now-pay-later-project-group-35/notebooks/1 preprocessing.ipynb Cell 8\u001b[0m in \u001b[0;36m<cell line: 1>\u001b[0;34m()\u001b[0m\n\u001b[0;32m----> <a href='vscode-notebook-cell://wsl%2Bubuntu/home/ashahi/generic-buy-now-pay-later-project-group-35/notebooks/1%20preprocessing.ipynb#X10sdnNjb2RlLXJlbW90ZQ%3D%3D?line=0'>1</a>\u001b[0m mergedf\u001b[39m.\u001b[39;49mwrite\u001b[39m.\u001b[39;49mparquet(\u001b[39m'\u001b[39;49m\u001b[39m../data/curated/mergedf.paraquet\u001b[39;49m\u001b[39m'\u001b[39;49m)\n",
      "File \u001b[0;32m~/.local/lib/python3.10/site-packages/pyspark/sql/readwriter.py:1140\u001b[0m, in \u001b[0;36mDataFrameWriter.parquet\u001b[0;34m(self, path, mode, partitionBy, compression)\u001b[0m\n\u001b[1;32m   1138\u001b[0m     \u001b[39mself\u001b[39m\u001b[39m.\u001b[39mpartitionBy(partitionBy)\n\u001b[1;32m   1139\u001b[0m \u001b[39mself\u001b[39m\u001b[39m.\u001b[39m_set_opts(compression\u001b[39m=\u001b[39mcompression)\n\u001b[0;32m-> 1140\u001b[0m \u001b[39mself\u001b[39;49m\u001b[39m.\u001b[39;49m_jwrite\u001b[39m.\u001b[39;49mparquet(path)\n",
      "File \u001b[0;32m~/.local/lib/python3.10/site-packages/py4j/java_gateway.py:1321\u001b[0m, in \u001b[0;36mJavaMember.__call__\u001b[0;34m(self, *args)\u001b[0m\n\u001b[1;32m   1315\u001b[0m command \u001b[39m=\u001b[39m proto\u001b[39m.\u001b[39mCALL_COMMAND_NAME \u001b[39m+\u001b[39m\\\n\u001b[1;32m   1316\u001b[0m     \u001b[39mself\u001b[39m\u001b[39m.\u001b[39mcommand_header \u001b[39m+\u001b[39m\\\n\u001b[1;32m   1317\u001b[0m     args_command \u001b[39m+\u001b[39m\\\n\u001b[1;32m   1318\u001b[0m     proto\u001b[39m.\u001b[39mEND_COMMAND_PART\n\u001b[1;32m   1320\u001b[0m answer \u001b[39m=\u001b[39m \u001b[39mself\u001b[39m\u001b[39m.\u001b[39mgateway_client\u001b[39m.\u001b[39msend_command(command)\n\u001b[0;32m-> 1321\u001b[0m return_value \u001b[39m=\u001b[39m get_return_value(\n\u001b[1;32m   1322\u001b[0m     answer, \u001b[39mself\u001b[39;49m\u001b[39m.\u001b[39;49mgateway_client, \u001b[39mself\u001b[39;49m\u001b[39m.\u001b[39;49mtarget_id, \u001b[39mself\u001b[39;49m\u001b[39m.\u001b[39;49mname)\n\u001b[1;32m   1324\u001b[0m \u001b[39mfor\u001b[39;00m temp_arg \u001b[39min\u001b[39;00m temp_args:\n\u001b[1;32m   1325\u001b[0m     temp_arg\u001b[39m.\u001b[39m_detach()\n",
      "File \u001b[0;32m~/.local/lib/python3.10/site-packages/pyspark/sql/utils.py:196\u001b[0m, in \u001b[0;36mcapture_sql_exception.<locals>.deco\u001b[0;34m(*a, **kw)\u001b[0m\n\u001b[1;32m    192\u001b[0m converted \u001b[39m=\u001b[39m convert_exception(e\u001b[39m.\u001b[39mjava_exception)\n\u001b[1;32m    193\u001b[0m \u001b[39mif\u001b[39;00m \u001b[39mnot\u001b[39;00m \u001b[39misinstance\u001b[39m(converted, UnknownException):\n\u001b[1;32m    194\u001b[0m     \u001b[39m# Hide where the exception came from that shows a non-Pythonic\u001b[39;00m\n\u001b[1;32m    195\u001b[0m     \u001b[39m# JVM exception message.\u001b[39;00m\n\u001b[0;32m--> 196\u001b[0m     \u001b[39mraise\u001b[39;00m converted \u001b[39mfrom\u001b[39;00m \u001b[39mNone\u001b[39m\n\u001b[1;32m    197\u001b[0m \u001b[39melse\u001b[39;00m:\n\u001b[1;32m    198\u001b[0m     \u001b[39mraise\u001b[39;00m\n",
      "\u001b[0;31mAnalysisException\u001b[0m: path file:/home/ashahi/generic-buy-now-pay-later-project-group-35/data/curated/mergedf.paraquet already exists."
     ]
    }
   ],
   "source": [
    "mergedf.write.parquet('../data/curated/mergedf.paraquet')"
   ]
  },
  {
   "cell_type": "code",
   "execution_count": 8,
   "metadata": {},
   "outputs": [
    {
     "name": "stderr",
     "output_type": "stream",
     "text": [
      "                                                                                \r"
     ]
    },
    {
     "data": {
      "text/html": [
       "<table border='1'>\n",
       "<tr><th>merchant_abn</th><th>avg(dollar_value)</th></tr>\n",
       "<tr><td>38700038932</td><td>1318.998938716635</td></tr>\n",
       "<tr><td>83412691377</td><td>34.901541720445486</td></tr>\n",
       "<tr><td>15613631617</td><td>300.71405285466136</td></tr>\n",
       "<tr><td>19839532017</td><td>157.0</td></tr>\n",
       "<tr><td>73256306726</td><td>292.7986936068953</td></tr>\n",
       "<tr><td>35344855546</td><td>88.24610154235488</td></tr>\n",
       "<tr><td>73841664453</td><td>88.87997495799839</td></tr>\n",
       "<tr><td>78916025936</td><td>354.15916830382116</td></tr>\n",
       "<tr><td>60654402457</td><td>85.89400701511873</td></tr>\n",
       "<tr><td>92202115241</td><td>292.69760808747276</td></tr>\n",
       "<tr><td>52763133264</td><td>114.2810815691178</td></tr>\n",
       "<tr><td>48214071373</td><td>292.49187029109623</td></tr>\n",
       "<tr><td>41956465747</td><td>238.38372164186748</td></tr>\n",
       "<tr><td>34440496342</td><td>85.88446821921985</td></tr>\n",
       "<tr><td>12516851436</td><td>141.29232703715243</td></tr>\n",
       "<tr><td>96946925998</td><td>960.4679852638474</td></tr>\n",
       "<tr><td>29216160692</td><td>107.1700515738023</td></tr>\n",
       "<tr><td>87211363921</td><td>51.30216830212971</td></tr>\n",
       "<tr><td>59128133246</td><td>30.93800180851643</td></tr>\n",
       "<tr><td>48723861274</td><td>250.134972806199</td></tr>\n",
       "</table>\n",
       "only showing top 20 rows\n"
      ],
      "text/plain": [
       "+------------+------------------+\n",
       "|merchant_abn| avg(dollar_value)|\n",
       "+------------+------------------+\n",
       "| 38700038932| 1318.998938716635|\n",
       "| 83412691377|34.901541720445486|\n",
       "| 15613631617|300.71405285466136|\n",
       "| 19839532017|             157.0|\n",
       "| 73256306726| 292.7986936068953|\n",
       "| 35344855546| 88.24610154235488|\n",
       "| 73841664453| 88.87997495799839|\n",
       "| 78916025936|354.15916830382116|\n",
       "| 60654402457| 85.89400701511873|\n",
       "| 92202115241|292.69760808747276|\n",
       "| 52763133264| 114.2810815691178|\n",
       "| 48214071373|292.49187029109623|\n",
       "| 41956465747|238.38372164186748|\n",
       "| 34440496342| 85.88446821921985|\n",
       "| 12516851436|141.29232703715243|\n",
       "| 96946925998| 960.4679852638474|\n",
       "| 29216160692| 107.1700515738023|\n",
       "| 87211363921| 51.30216830212971|\n",
       "| 59128133246| 30.93800180851643|\n",
       "| 48723861274|  250.134972806199|\n",
       "+------------+------------------+\n",
       "only showing top 20 rows"
      ]
     },
     "execution_count": 8,
     "metadata": {},
     "output_type": "execute_result"
    }
   ],
   "source": [
    "mergedf.groupBy(\"merchant_abn\").mean(\"dollar_value\")"
   ]
  },
  {
   "cell_type": "markdown",
   "metadata": {},
   "source": [
    "main websites out there containing australian datasets:\n",
    "- https://explore.data.abs.gov.au/ \n",
    "- https://data.gov.au/\n",
    "- https://researchdata.edu.au/\n",
    "- https://aurin.org.au/\n",
    "\n",
    "Key features to join on: \n",
    "- timestamp\n",
    "- location: state/postcode/SA2 \n",
    "\n",
    "Key model features: \n",
    "- merchant abn (nominal)\n",
    "- datetime\n",
    "- user id: how many users shop at each merchant\n",
    "- dollar value\n",
    "- location\n",
    "- gender\n",
    "- tags"
   ]
  },
  {
   "cell_type": "markdown",
   "metadata": {},
   "source": [
    "SA2 Shapefile: https://www.abs.gov.au/statistics/standards/australian-statistical-geography-standard-asgs-edition-3/jul2021-jun2026/access-and-downloads/digital-boundary-files"
   ]
  }
 ],
 "metadata": {
  "kernelspec": {
   "display_name": "Python 3.10.4 64-bit",
   "language": "python",
   "name": "python3"
  },
  "language_info": {
   "codemirror_mode": {
    "name": "ipython",
    "version": 3
   },
   "file_extension": ".py",
   "mimetype": "text/x-python",
   "name": "python",
   "nbconvert_exporter": "python",
   "pygments_lexer": "ipython3",
   "version": "3.10.4"
  },
  "latex_envs": {
   "LaTeX_envs_menu_present": true,
   "autoclose": false,
   "autocomplete": true,
   "bibliofile": "biblio.bib",
   "cite_by": "apalike",
   "current_citInitial": 1,
   "eqLabelWithNumbers": true,
   "eqNumInitial": 1,
   "hotkeys": {
    "equation": "Ctrl-E",
    "itemize": "Ctrl-I"
   },
   "labels_anchors": false,
   "latex_user_defs": false,
   "report_style_numbering": false,
   "user_envs_cfg": false
  },
  "toc": {
   "base_numbering": 1,
   "nav_menu": {},
   "number_sections": true,
   "sideBar": true,
   "skip_h1_title": false,
   "title_cell": "Table of Contents",
   "title_sidebar": "Contents",
   "toc_cell": false,
   "toc_position": {},
   "toc_section_display": true,
   "toc_window_display": false
  },
  "varInspector": {
   "cols": {
    "lenName": 16,
    "lenType": 16,
    "lenVar": 40
   },
   "kernels_config": {
    "python": {
     "delete_cmd_postfix": "",
     "delete_cmd_prefix": "del ",
     "library": "var_list.py",
     "varRefreshCmd": "print(var_dic_list())"
    },
    "r": {
     "delete_cmd_postfix": ") ",
     "delete_cmd_prefix": "rm(",
     "library": "var_list.r",
     "varRefreshCmd": "cat(var_dic_list()) "
    }
   },
   "types_to_exclude": [
    "module",
    "function",
    "builtin_function_or_method",
    "instance",
    "_Feature"
   ],
   "window_display": false
  },
  "vscode": {
   "interpreter": {
    "hash": "916dbcbb3f70747c44a77c7bcd40155683ae19c65e1c03b4aa3499c5328201f1"
   }
  }
 },
 "nbformat": 4,
 "nbformat_minor": 4
}
