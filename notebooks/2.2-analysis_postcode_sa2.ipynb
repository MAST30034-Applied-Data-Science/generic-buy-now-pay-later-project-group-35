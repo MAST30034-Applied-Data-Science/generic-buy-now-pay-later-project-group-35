{
 "cells": [
  {
   "cell_type": "code",
   "execution_count": 1,
   "id": "f935367d-cab0-4904-9bed-676c9eccd84b",
   "metadata": {
    "tags": []
   },
   "outputs": [
    {
     "name": "stdout",
     "output_type": "stream",
     "text": [
      "22/09/19 22:09:41 WARN Utils: Your hostname, AryansLaptop resolves to a loopback address: 127.0.1.1; using 172.28.41.58 instead (on interface eth0)\n",
      "22/09/19 22:09:41 WARN Utils: Set SPARK_LOCAL_IP if you need to bind to another address\n"
     ]
    },
    {
     "name": "stderr",
     "output_type": "stream",
     "text": [
      "Setting default log level to \"WARN\".\n",
      "To adjust logging level use sc.setLogLevel(newLevel). For SparkR, use setLogLevel(newLevel).\n"
     ]
    },
    {
     "name": "stdout",
     "output_type": "stream",
     "text": [
      "22/09/19 22:09:43 WARN NativeCodeLoader: Unable to load native-hadoop library for your platform... using builtin-java classes where applicable\n",
      "22/09/19 22:09:44 WARN Utils: Service 'SparkUI' could not bind on port 4040. Attempting port 4041.\n",
      "22/09/19 22:09:44 WARN Utils: Service 'SparkUI' could not bind on port 4041. Attempting port 4042.\n"
     ]
    }
   ],
   "source": [
    "from pyspark.sql import SparkSession\n",
    "from pyspark.sql.functions import * \n",
    "import matplotlib.pyplot as plt\n",
    "import pandas as pd\n",
    "import numpy as np\n",
    "from urllib.request import urlretrieve\n",
    "from owslib.wfs import WebFeatureService\n",
    "from dotenv import load_dotenv\n",
    "\n",
    "# Create a spark session\n",
    "spark = (\n",
    "    SparkSession.builder.appName(\"analysis\")\n",
    "    .config(\"spark.sql.repl.eagerEval.enabled\", True) \n",
    "    .config(\"spark.sql.parquet.cacheMetadata\", \"true\")\n",
    "    .config(\"spark.sql.session.timeZone\", \"Etc/UTC\")\n",
    "    .config(\"spark.driver.memory\", \"2g\")\n",
    "    .config(\"spark.executor.memory\", \"6g\")\n",
    "    .getOrCreate()\n",
    ")"
   ]
  },
  {
   "cell_type": "markdown",
   "id": "d6abe501-bbfc-4bdb-bcb9-8cb2528731dc",
   "metadata": {},
   "source": [
    "## Postcodes"
   ]
  },
  {
   "cell_type": "code",
   "execution_count": 2,
   "id": "97ff5cd0-504f-4e3c-9fe3-9ff6c334999b",
   "metadata": {},
   "outputs": [
    {
     "data": {
      "text/plain": [
       "('../data/tables/australian_postcodes.csv',\n",
       " <http.client.HTTPMessage at 0x7f03e2c4e110>)"
      ]
     },
     "execution_count": 2,
     "metadata": {},
     "output_type": "execute_result"
    }
   ],
   "source": [
    "# This whole code box should be done in script\n",
    "url = \"https://raw.githubusercontent.com/matthewproctor/australianpostcodes/master/australian_postcodes.csv\"\n",
    "file_path = \"../data/tables/australian_postcodes.csv\"\n",
    "urlretrieve(url, file_path)"
   ]
  },
  {
   "cell_type": "code",
   "execution_count": 3,
   "id": "2a5ab6d4-00e9-42bf-9a40-4a11667ebe34",
   "metadata": {},
   "outputs": [
    {
     "name": "stdout",
     "output_type": "stream",
     "text": [
      "22/09/19 22:09:50 WARN package: Truncated the string representation of a plan since it was too large. This behavior can be adjusted by setting 'spark.sql.debug.maxToStringFields'.\n"
     ]
    },
    {
     "data": {
      "text/html": [
       "<table border='1'>\n",
       "<tr><th>id</th><th>postcode</th><th>locality</th><th>state</th><th>long</th><th>lat</th><th>dc</th><th>type</th><th>status</th><th>sa3</th><th>sa3name</th><th>sa4</th><th>sa4name</th><th>region</th><th>Lat_precise</th><th>Long_precise</th><th>SA1_MAINCODE_2011</th><th>SA1_MAINCODE_2016</th><th>SA2_MAINCODE_2016</th><th>SA2_NAME_2016</th><th>SA3_CODE_2016</th><th>SA3_NAME_2016</th><th>SA4_CODE_2016</th><th>SA4_NAME_2016</th><th>RA_2011</th><th>RA_2016</th><th>MMM_2015</th><th>MMM_2019</th><th>ced</th><th>altitude</th><th>chargezone</th><th>phn_code</th><th>phn_name</th><th>lgaregion</th><th>electorate</th><th>electoraterating</th></tr>\n",
       "<tr><td>230</td><td>0200</td><td>ANU</td><td>ACT</td><td>149.119</td><td>-35.2777</td><td>null</td><td>null</td><td>null</td><td>null</td><td>null</td><td>null</td><td>null</td><td>R1</td><td>-35.2777</td><td>149.119</td><td>80105104901</td><td>80105104901</td><td>801051049</td><td>Acton</td><td>80105</td><td>North Canberra</td><td>801</td><td>Australian Capita...</td><td>1</td><td>1</td><td>1</td><td>1</td><td>null</td><td>null</td><td>N2</td><td>null</td><td>null</td><td>null</td><td>Durack</td><td>null</td></tr>\n",
       "<tr><td>21820</td><td>0200</td><td>Australian Nation...</td><td>ACT</td><td>149.1189</td><td>-35.2777</td><td>null</td><td>null</td><td>Added 19-Jan-2020</td><td>null</td><td>null</td><td>null</td><td>null</td><td>R1</td><td>-35.2776999</td><td>149.118527</td><td>80105104901</td><td>80105104901</td><td>801051049</td><td>Acton</td><td>80105</td><td>North Canberra</td><td>801</td><td>Australian Capita...</td><td>1</td><td>1</td><td>1</td><td>1</td><td>null</td><td>null</td><td>N2</td><td>null</td><td>null</td><td>null</td><td>Durack</td><td>null</td></tr>\n",
       "<tr><td>232</td><td>0800</td><td>DARWIN</td><td>NT</td><td>130.83668</td><td>-12.458684</td><td>null</td><td>null</td><td>Updated 6-Feb-2020</td><td>70101</td><td>Darwin City</td><td>701</td><td>Darwin</td><td>R1</td><td>-12.3932794</td><td>130.7766611</td><td>70101100203</td><td>70101100218</td><td>701011002</td><td>Darwin City</td><td>70101</td><td>Darwin City</td><td>701</td><td>Darwin</td><td>3</td><td>3</td><td>2</td><td>2</td><td>null</td><td>null</td><td>NT1</td><td>PHN701</td><td>Northern Territory</td><td>Darwin</td><td>Solomon</td><td>Inner Metropolitan</td></tr>\n",
       "<tr><td>24049</td><td>0800</td><td>DARWIN CITY</td><td>NT</td><td>130.83668</td><td>-12.458684</td><td>null</td><td>null</td><td>Updated 6-Feb-2020</td><td>70101</td><td>Darwin City</td><td>701</td><td>Darwin</td><td>R1</td><td>-12.3932794</td><td>130.7766611</td><td>70101100203</td><td>70101100218</td><td>701011002</td><td>Darwin City</td><td>70101</td><td>Darwin City</td><td>701</td><td>Darwin</td><td>3</td><td>3</td><td>2</td><td>2</td><td>null</td><td>null</td><td>NT1</td><td>PHN701</td><td>Northern Territory</td><td>Darwin</td><td>Solomon</td><td>Inner Metropolitan</td></tr>\n",
       "<tr><td>233</td><td>0801</td><td>DARWIN</td><td>NT</td><td>130.83668</td><td>-12.458684</td><td>null</td><td>null</td><td>Updated 25-Mar-20...</td><td>70101</td><td>Darwin City</td><td>701</td><td>Darwin</td><td>R1</td><td>-12.4634403</td><td>130.8456418</td><td>70101100208</td><td>70101100208</td><td>701011002</td><td>Darwin City</td><td>70101</td><td>Darwin City</td><td>701</td><td>Darwin</td><td>3</td><td>3</td><td>2</td><td>2</td><td>null</td><td>null</td><td>NT1</td><td>PHN701</td><td>null</td><td>null</td><td>Lingiari</td><td>Rural</td></tr>\n",
       "</table>\n"
      ],
      "text/plain": [
       "+-----+--------+--------------------+-----+---------+----------+----+----+--------------------+-----+-----------+----+-------+------+-----------+------------+-----------------+-----------------+-----------------+-------------+-------------+--------------+-------------+--------------------+-------+-------+--------+--------+----+--------+----------+--------+------------------+---------+----------+------------------+\n",
       "|   id|postcode|            locality|state|     long|       lat|  dc|type|              status|  sa3|    sa3name| sa4|sa4name|region|Lat_precise|Long_precise|SA1_MAINCODE_2011|SA1_MAINCODE_2016|SA2_MAINCODE_2016|SA2_NAME_2016|SA3_CODE_2016| SA3_NAME_2016|SA4_CODE_2016|       SA4_NAME_2016|RA_2011|RA_2016|MMM_2015|MMM_2019| ced|altitude|chargezone|phn_code|          phn_name|lgaregion|electorate|  electoraterating|\n",
       "+-----+--------+--------------------+-----+---------+----------+----+----+--------------------+-----+-----------+----+-------+------+-----------+------------+-----------------+-----------------+-----------------+-------------+-------------+--------------+-------------+--------------------+-------+-------+--------+--------+----+--------+----------+--------+------------------+---------+----------+------------------+\n",
       "|  230|    0200|                 ANU|  ACT|  149.119|  -35.2777|null|null|                null| null|       null|null|   null|    R1|   -35.2777|     149.119|      80105104901|      80105104901|        801051049|        Acton|        80105|North Canberra|          801|Australian Capita...|      1|      1|       1|       1|null|    null|        N2|    null|              null|     null|    Durack|              null|\n",
       "|21820|    0200|Australian Nation...|  ACT| 149.1189|  -35.2777|null|null|   Added 19-Jan-2020| null|       null|null|   null|    R1|-35.2776999|  149.118527|      80105104901|      80105104901|        801051049|        Acton|        80105|North Canberra|          801|Australian Capita...|      1|      1|       1|       1|null|    null|        N2|    null|              null|     null|    Durack|              null|\n",
       "|  232|    0800|              DARWIN|   NT|130.83668|-12.458684|null|null|  Updated 6-Feb-2020|70101|Darwin City| 701| Darwin|    R1|-12.3932794| 130.7766611|      70101100203|      70101100218|        701011002|  Darwin City|        70101|   Darwin City|          701|              Darwin|      3|      3|       2|       2|null|    null|       NT1|  PHN701|Northern Territory|   Darwin|   Solomon|Inner Metropolitan|\n",
       "|24049|    0800|         DARWIN CITY|   NT|130.83668|-12.458684|null|null|  Updated 6-Feb-2020|70101|Darwin City| 701| Darwin|    R1|-12.3932794| 130.7766611|      70101100203|      70101100218|        701011002|  Darwin City|        70101|   Darwin City|          701|              Darwin|      3|      3|       2|       2|null|    null|       NT1|  PHN701|Northern Territory|   Darwin|   Solomon|Inner Metropolitan|\n",
       "|  233|    0801|              DARWIN|   NT|130.83668|-12.458684|null|null|Updated 25-Mar-20...|70101|Darwin City| 701| Darwin|    R1|-12.4634403| 130.8456418|      70101100208|      70101100208|        701011002|  Darwin City|        70101|   Darwin City|          701|              Darwin|      3|      3|       2|       2|null|    null|       NT1|  PHN701|              null|     null|  Lingiari|             Rural|\n",
       "+-----+--------+--------------------+-----+---------+----------+----+----+--------------------+-----+-----------+----+-------+------+-----------+------------+-----------------+-----------------+-----------------+-------------+-------------+--------------+-------------+--------------------+-------+-------+--------+--------+----+--------+----------+--------+------------------+---------+----------+------------------+"
      ]
     },
     "execution_count": 3,
     "metadata": {},
     "output_type": "execute_result"
    }
   ],
   "source": [
    "# postcodedf used for merging\n",
    "postcodedf = spark.read.option(\"header\",\"true\").csv(\"../data/tables/australian_postcodes.csv\")\n",
    "\n",
    "# testpostcodedf used for income analysis\n",
    "testpostcodedf = postcodedf.select(\"SA2_MAINCODE_2016\",\"locality\",\"state\",\"SA2_NAME_2016\")\n",
    "testpostcodedf = testpostcodedf.withColumnRenamed(\"SA2_MAINCODE_2016\",\"sa2_code\")\n",
    "\n",
    "postcodedf.limit(5)"
   ]
  },
  {
   "cell_type": "code",
   "execution_count": 4,
   "id": "d1dc9423",
   "metadata": {},
   "outputs": [
    {
     "name": "stderr",
     "output_type": "stream",
     "text": [
      "                                                                                \r"
     ]
    }
   ],
   "source": [
    "testpostcodedf.write.mode(\"overwrite\").parquet('../data/curated/testpostcodedf.parquet')"
   ]
  },
  {
   "cell_type": "code",
   "execution_count": 5,
   "id": "45a4080b-6891-417f-92e8-0a30ef1d773c",
   "metadata": {
    "tags": []
   },
   "outputs": [
    {
     "name": "stdout",
     "output_type": "stream",
     "text": [
      "18442\n",
      "18265\n",
      "5492\n",
      "2221 3165\n"
     ]
    },
    {
     "data": {
      "text/html": [
       "<table border='1'>\n",
       "<tr><th>postcode</th><th>sa2_code</th></tr>\n",
       "<tr><td>1008</td><td>117031337</td></tr>\n",
       "<tr><td>1150</td><td>117031337</td></tr>\n",
       "<tr><td>2100</td><td>122031429</td></tr>\n",
       "<tr><td>2200</td><td>119011571</td></tr>\n",
       "<tr><td>2338</td><td>110041201</td></tr>\n",
       "</table>\n"
      ],
      "text/plain": [
       "+--------+---------+\n",
       "|postcode| sa2_code|\n",
       "+--------+---------+\n",
       "|    1008|117031337|\n",
       "|    1150|117031337|\n",
       "|    2100|122031429|\n",
       "|    2200|119011571|\n",
       "|    2338|110041201|\n",
       "+--------+---------+"
      ]
     },
     "execution_count": 5,
     "metadata": {},
     "output_type": "execute_result"
    }
   ],
   "source": [
    "from pyspark.sql import Row\n",
    "\n",
    "postcodedf = postcodedf.select(\"postcode\",\"SA2_MAINCODE_2016\")\n",
    "postcodedf = postcodedf.withColumnRenamed(\"SA2_MAINCODE_2016\",\"sa2_code\")\n",
    "print(postcodedf.count())\n",
    "\n",
    "postcodedf = postcodedf.dropna(\"any\")\n",
    "print(postcodedf.count())\n",
    "\n",
    "postcodedf = postcodedf.distinct()\n",
    "print(postcodedf.count())\n",
    "print(postcodedf.groupBy(\"sa2_code\").count().count(), postcodedf.groupBy(\"postcode\").count().count())\n",
    "\n",
    "postcodedf.limit(5)"
   ]
  },
  {
   "cell_type": "markdown",
   "id": "556f9d32-cf16-491d-bdde-9f291e89524e",
   "metadata": {
    "tags": []
   },
   "source": [
    "In the dataset we have 2221 SA2 codes, in actuality there are 2310, missing 89 <br>\n",
    "In the dataset we have 3165 postcodes, in actuality there are 3333, missing 168 <br>\n",
    "no other datasets out there with all postcodes and sa2 codes so have to exclude these regions from analysis"
   ]
  },
  {
   "cell_type": "code",
   "execution_count": 6,
   "id": "82bf237a-9e4b-422f-bb1a-880e2f1b2ebe",
   "metadata": {
    "tags": []
   },
   "outputs": [
    {
     "name": "stdout",
     "output_type": "stream",
     "text": [
      "13614675\n"
     ]
    },
    {
     "name": "stderr",
     "output_type": "stream",
     "text": [
      "                                                                                \r"
     ]
    },
    {
     "name": "stdout",
     "output_type": "stream",
     "text": [
      "23253251\n"
     ]
    },
    {
     "name": "stderr",
     "output_type": "stream",
     "text": [
      "                                                                                \r"
     ]
    },
    {
     "name": "stdout",
     "output_type": "stream",
     "text": [
      "2154 3113\n"
     ]
    },
    {
     "name": "stderr",
     "output_type": "stream",
     "text": [
      "                                                                                \r"
     ]
    },
    {
     "data": {
      "text/html": [
       "<table border='1'>\n",
       "<tr><th>postcode</th><th>merchant_abn</th><th>consumer_id</th><th>user_id</th><th>dollar_value</th><th>order_id</th><th>order_datetime</th><th>customer_name</th><th>address</th><th>state</th><th>gender</th><th>company_name</th><th>tags</th><th>take_rate</th><th>revenue_band</th><th>sa2_code</th></tr>\n",
       "<tr><td>5581</td><td>69666829657</td><td>226</td><td>5162</td><td>79.65159982605903</td><td>8765ef9f-dba6-407...</td><td>2021-08-20</td><td>Courtney Torres</td><td>6945 Higgins Brooks</td><td>SA</td><td>Female</td><td>Sem Ut Institute</td><td>bicycle shops - s...</td><td> 2.86</td><td> c</td><td>405041127</td></tr>\n",
       "<tr><td>5581</td><td>50321300271</td><td>226</td><td>5162</td><td>594.2915496790856</td><td>79f2842d-f8b2-4fd...</td><td>2022-06-01</td><td>Courtney Torres</td><td>6945 Higgins Brooks</td><td>SA</td><td>Female</td><td>Augue Industries</td><td>bicycle shops - s...</td><td> 4.24</td><td> b</td><td>405041127</td></tr>\n",
       "<tr><td>5581</td><td>70610974780</td><td>226</td><td>5162</td><td>52.820359204536665</td><td>bdf345c8-4c5d-48e...</td><td>2021-08-20</td><td>Courtney Torres</td><td>6945 Higgins Brooks</td><td>SA</td><td>Female</td><td>Elit Aliquam PC</td><td>tent and awning s...</td><td> 6.93</td><td> a</td><td>405041127</td></tr>\n",
       "<tr><td>5581</td><td>17324645993</td><td>226</td><td>5162</td><td>27.12729568273566</td><td>0a44d623-e325-4fc...</td><td>2022-05-12</td><td>Courtney Torres</td><td>6945 Higgins Brooks</td><td>SA</td><td>Female</td><td>Eget Metus In Cor...</td><td>tent and awning s...</td><td> 5.73</td><td> a</td><td>405041127</td></tr>\n",
       "<tr><td>5581</td><td>15582655078</td><td>226</td><td>5162</td><td>75.31904078962366</td><td>47ddf8e0-5f72-408...</td><td>2021-08-21</td><td>Courtney Torres</td><td>6945 Higgins Brooks</td><td>SA</td><td>Female</td><td>Eu Odio Phasellus...</td><td>gift, card, novel...</td><td> 6.77</td><td> a</td><td>405041127</td></tr>\n",
       "<tr><td>5581</td><td>52160665475</td><td>226</td><td>5162</td><td>224.25305829045854</td><td>0558f853-fa82-4bf...</td><td>2022-03-26</td><td>Courtney Torres</td><td>6945 Higgins Brooks</td><td>SA</td><td>Female</td><td>Mauris Associates</td><td>digital goods: bo...</td><td> 6.88</td><td> a</td><td>405041127</td></tr>\n",
       "<tr><td>5581</td><td>21439773999</td><td>226</td><td>5162</td><td>22.910510985569914</td><td>5af069a2-594a-4a1...</td><td>2021-08-21</td><td>Courtney Torres</td><td>6945 Higgins Brooks</td><td>SA</td><td>Female</td><td>Mauris Non Institute</td><td>cable, satellite,...</td><td> 6.10</td><td> a</td><td>405041127</td></tr>\n",
       "<tr><td>5581</td><td>19854089605</td><td>226</td><td>5162</td><td>92.7043931796329</td><td>0abb6acd-05ef-492...</td><td>2022-04-20</td><td>Courtney Torres</td><td>6945 Higgins Brooks</td><td>SA</td><td>Female</td><td>Aenean Massa Indu...</td><td>gift, card, novel...</td><td> 3.15</td><td> b</td><td>405041127</td></tr>\n",
       "<tr><td>5581</td><td>66842618444</td><td>226</td><td>5162</td><td>97.39085253030447</td><td>356f3038-5bd9-45a...</td><td>2021-08-19</td><td>Courtney Torres</td><td>6945 Higgins Brooks</td><td>SA</td><td>Female</td><td>Ultrices Inc.</td><td>shoe shops</td><td> 6.93</td><td> a</td><td>405041127</td></tr>\n",
       "<tr><td>5581</td><td>46804135891</td><td>226</td><td>5162</td><td>11.22535503758106</td><td>e85a5baf-fc13-407...</td><td>2022-03-25</td><td>Courtney Torres</td><td>6945 Higgins Brooks</td><td>SA</td><td>Female</td><td>Suspendisse Dui C...</td><td>opticians, optica...</td><td> 2.93</td><td> c</td><td>405041127</td></tr>\n",
       "</table>\n"
      ],
      "text/plain": [
       "+--------+------------+-----------+-------+------------------+--------------------+--------------+---------------+-------------------+-----+------+--------------------+--------------------+---------+------------+---------+\n",
       "|postcode|merchant_abn|consumer_id|user_id|      dollar_value|            order_id|order_datetime|  customer_name|            address|state|gender|        company_name|                tags|take_rate|revenue_band| sa2_code|\n",
       "+--------+------------+-----------+-------+------------------+--------------------+--------------+---------------+-------------------+-----+------+--------------------+--------------------+---------+------------+---------+\n",
       "|    5581| 69666829657|        226|   5162| 79.65159982605903|8765ef9f-dba6-407...|    2021-08-20|Courtney Torres|6945 Higgins Brooks|   SA|Female|    Sem Ut Institute|bicycle shops - s...|     2.86|           c|405041127|\n",
       "|    5581| 50321300271|        226|   5162| 594.2915496790856|79f2842d-f8b2-4fd...|    2022-06-01|Courtney Torres|6945 Higgins Brooks|   SA|Female|    Augue Industries|bicycle shops - s...|     4.24|           b|405041127|\n",
       "|    5581| 70610974780|        226|   5162|52.820359204536665|bdf345c8-4c5d-48e...|    2021-08-20|Courtney Torres|6945 Higgins Brooks|   SA|Female|     Elit Aliquam PC|tent and awning s...|     6.93|           a|405041127|\n",
       "|    5581| 17324645993|        226|   5162| 27.12729568273566|0a44d623-e325-4fc...|    2022-05-12|Courtney Torres|6945 Higgins Brooks|   SA|Female|Eget Metus In Cor...|tent and awning s...|     5.73|           a|405041127|\n",
       "|    5581| 15582655078|        226|   5162| 75.31904078962366|47ddf8e0-5f72-408...|    2021-08-21|Courtney Torres|6945 Higgins Brooks|   SA|Female|Eu Odio Phasellus...|gift, card, novel...|     6.77|           a|405041127|\n",
       "|    5581| 52160665475|        226|   5162|224.25305829045854|0558f853-fa82-4bf...|    2022-03-26|Courtney Torres|6945 Higgins Brooks|   SA|Female|   Mauris Associates|digital goods: bo...|     6.88|           a|405041127|\n",
       "|    5581| 21439773999|        226|   5162|22.910510985569914|5af069a2-594a-4a1...|    2021-08-21|Courtney Torres|6945 Higgins Brooks|   SA|Female|Mauris Non Institute|cable, satellite,...|     6.10|           a|405041127|\n",
       "|    5581| 19854089605|        226|   5162|  92.7043931796329|0abb6acd-05ef-492...|    2022-04-20|Courtney Torres|6945 Higgins Brooks|   SA|Female|Aenean Massa Indu...|gift, card, novel...|     3.15|           b|405041127|\n",
       "|    5581| 66842618444|        226|   5162| 97.39085253030447|356f3038-5bd9-45a...|    2021-08-19|Courtney Torres|6945 Higgins Brooks|   SA|Female|       Ultrices Inc.|          shoe shops|     6.93|           a|405041127|\n",
       "|    5581| 46804135891|        226|   5162| 11.22535503758106|e85a5baf-fc13-407...|    2022-03-25|Courtney Torres|6945 Higgins Brooks|   SA|Female|Suspendisse Dui C...|opticians, optica...|     2.93|           c|405041127|\n",
       "+--------+------------+-----------+-------+------------------+--------------------+--------------+---------------+-------------------+-----+------+--------------------+--------------------+---------+------------+---------+"
      ]
     },
     "execution_count": 6,
     "metadata": {},
     "output_type": "execute_result"
    }
   ],
   "source": [
    "sdf = spark.read.parquet(\"../data/curated/mergedf.parquet/\")\n",
    "print(sdf.count())\n",
    "mergedf = sdf.join(postcodedf, \"postcode\")\n",
    "print(mergedf.count())\n",
    "print(mergedf.groupBy(\"sa2_code\").count().count(), mergedf.groupBy(\"postcode\").count().count())\n",
    "\n",
    "mergedf.limit(10)"
   ]
  },
  {
   "cell_type": "markdown",
   "id": "c2d6077a-7931-459e-89f9-e91c18e397af",
   "metadata": {
    "tags": []
   },
   "source": [
    "As we can see there was a loss of rows when joining with the \"merchant abn\" column in the merchant dataset <br>\n",
    "This means that some of the merchant abns in the transactions were not available in the data table for the different merchants <br>\n",
    "These can be removed as we dont know their company tags/take_rate/revenue_bands which are all useful features <br>\n",
    "Removing these merchants also removed some postcodes/sa2_codes via joining <br>\n",
    "Also transactions originally only had 3167 postcodes out of 3333 <br> \n",
    "<br>\n",
    "Number of rows goes up when combining with postcodes because a postcode can belong to multiple SA2 regions <br>\n",
    "for the time being treating it as is "
   ]
  },
  {
   "cell_type": "code",
   "execution_count": 7,
   "id": "156cbaf6",
   "metadata": {},
   "outputs": [],
   "source": [
    "postcodedf.write.mode(\"overwrite\").parquet('../data/curated/postcodedf.parquet')"
   ]
  }
 ],
 "metadata": {
  "kernelspec": {
   "display_name": "Python 3 (ipykernel)",
   "language": "python",
   "name": "python3"
  },
  "language_info": {
   "codemirror_mode": {
    "name": "ipython",
    "version": 3
   },
   "file_extension": ".py",
   "mimetype": "text/x-python",
   "name": "python",
   "nbconvert_exporter": "python",
   "pygments_lexer": "ipython3",
   "version": "3.10.4"
  },
  "vscode": {
   "interpreter": {
    "hash": "916dbcbb3f70747c44a77c7bcd40155683ae19c65e1c03b4aa3499c5328201f1"
   }
  }
 },
 "nbformat": 4,
 "nbformat_minor": 5
}
