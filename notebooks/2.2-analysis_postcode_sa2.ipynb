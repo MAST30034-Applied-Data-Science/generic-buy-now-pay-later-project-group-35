{
 "cells": [
  {
   "cell_type": "markdown",
   "id": "90e5e6b6-8e28-46a6-b619-7af9ddb296ef",
   "metadata": {
    "tags": []
   },
   "source": [
    "# Analysis"
   ]
  },
  {
   "cell_type": "markdown",
   "id": "d6abe501-bbfc-4bdb-bcb9-8cb2528731dc",
   "metadata": {},
   "source": [
    "## Postcode Dataset"
   ]
  },
  {
   "cell_type": "code",
   "execution_count": 17,
   "id": "f935367d-cab0-4904-9bed-676c9eccd84b",
   "metadata": {
    "tags": []
   },
   "outputs": [],
   "source": [
    "from pyspark.sql import SparkSession\n",
    "from pyspark.sql.functions import * \n",
    "import matplotlib.pyplot as plt\n",
    "import pandas as pd\n",
    "import numpy as np\n",
    "from urllib.request import urlretrieve\n",
    "from owslib.wfs import WebFeatureService\n",
    "from dotenv import load_dotenv\n",
    "from pyspark.sql import Row\n",
    "\n",
    "# Create a spark session\n",
    "spark = (\n",
    "    SparkSession.builder.appName(\"analysis\")\n",
    "    .config(\"spark.sql.repl.eagerEval.enabled\", True) \n",
    "    .config(\"spark.sql.parquet.cacheMetadata\", \"true\")\n",
    "    .config(\"spark.sql.session.timeZone\", \"Etc/UTC\")\n",
    "    .config(\"spark.driver.memory\", \"2g\")\n",
    "    .config(\"spark.executor.memory\", \"6g\")\n",
    "    .getOrCreate()\n",
    ")"
   ]
  },
  {
   "cell_type": "code",
   "execution_count": 18,
   "id": "2a5ab6d4-00e9-42bf-9a40-4a11667ebe34",
   "metadata": {},
   "outputs": [
    {
     "data": {
      "text/html": [
       "<table border='1'>\n",
       "<tr><th>id</th><th>postcode</th><th>locality</th><th>state</th><th>long</th><th>lat</th><th>dc</th><th>type</th><th>status</th><th>sa3</th><th>sa3name</th><th>sa4</th><th>sa4name</th><th>region</th><th>Lat_precise</th><th>Long_precise</th><th>SA1_MAINCODE_2011</th><th>SA1_MAINCODE_2016</th><th>SA2_MAINCODE_2016</th><th>SA2_NAME_2016</th><th>SA3_CODE_2016</th><th>SA3_NAME_2016</th><th>SA4_CODE_2016</th><th>SA4_NAME_2016</th><th>RA_2011</th><th>RA_2016</th><th>MMM_2015</th><th>MMM_2019</th><th>ced</th><th>altitude</th><th>chargezone</th><th>phn_code</th><th>phn_name</th><th>lgaregion</th><th>electorate</th><th>electoraterating</th></tr>\n",
       "<tr><td>230</td><td>0200</td><td>ANU</td><td>ACT</td><td>149.119</td><td>-35.2777</td><td>null</td><td>null</td><td>null</td><td>null</td><td>null</td><td>null</td><td>null</td><td>R1</td><td>-35.2777</td><td>149.119</td><td>80105104901</td><td>80105104901</td><td>801051049</td><td>Acton</td><td>80105</td><td>North Canberra</td><td>801</td><td>Australian Capita...</td><td>1</td><td>1</td><td>1</td><td>1</td><td>null</td><td>null</td><td>N2</td><td>null</td><td>null</td><td>null</td><td>Durack</td><td>null</td></tr>\n",
       "<tr><td>21820</td><td>0200</td><td>Australian Nation...</td><td>ACT</td><td>149.1189</td><td>-35.2777</td><td>null</td><td>null</td><td>Added 19-Jan-2020</td><td>null</td><td>null</td><td>null</td><td>null</td><td>R1</td><td>-35.2776999</td><td>149.118527</td><td>80105104901</td><td>80105104901</td><td>801051049</td><td>Acton</td><td>80105</td><td>North Canberra</td><td>801</td><td>Australian Capita...</td><td>1</td><td>1</td><td>1</td><td>1</td><td>null</td><td>null</td><td>N2</td><td>null</td><td>null</td><td>null</td><td>Durack</td><td>null</td></tr>\n",
       "<tr><td>232</td><td>0800</td><td>DARWIN</td><td>NT</td><td>130.83668</td><td>-12.458684</td><td>null</td><td>null</td><td>Updated 6-Feb-2020</td><td>70101</td><td>Darwin City</td><td>701</td><td>Darwin</td><td>R1</td><td>-12.3932794</td><td>130.7766611</td><td>70101100203</td><td>70101100218</td><td>701011002</td><td>Darwin City</td><td>70101</td><td>Darwin City</td><td>701</td><td>Darwin</td><td>3</td><td>3</td><td>2</td><td>2</td><td>null</td><td>null</td><td>NT1</td><td>PHN701</td><td>Northern Territory</td><td>Darwin</td><td>Solomon</td><td>Inner Metropolitan</td></tr>\n",
       "<tr><td>24049</td><td>0800</td><td>DARWIN CITY</td><td>NT</td><td>130.83668</td><td>-12.458684</td><td>null</td><td>null</td><td>Updated 6-Feb-2020</td><td>70101</td><td>Darwin City</td><td>701</td><td>Darwin</td><td>R1</td><td>-12.3932794</td><td>130.7766611</td><td>70101100203</td><td>70101100218</td><td>701011002</td><td>Darwin City</td><td>70101</td><td>Darwin City</td><td>701</td><td>Darwin</td><td>3</td><td>3</td><td>2</td><td>2</td><td>null</td><td>null</td><td>NT1</td><td>PHN701</td><td>Northern Territory</td><td>Darwin</td><td>Solomon</td><td>Inner Metropolitan</td></tr>\n",
       "<tr><td>233</td><td>0801</td><td>DARWIN</td><td>NT</td><td>130.83668</td><td>-12.458684</td><td>null</td><td>null</td><td>Updated 25-Mar-20...</td><td>70101</td><td>Darwin City</td><td>701</td><td>Darwin</td><td>R1</td><td>-12.4634403</td><td>130.8456418</td><td>70101100208</td><td>70101100208</td><td>701011002</td><td>Darwin City</td><td>70101</td><td>Darwin City</td><td>701</td><td>Darwin</td><td>3</td><td>3</td><td>2</td><td>2</td><td>null</td><td>null</td><td>NT1</td><td>PHN701</td><td>null</td><td>null</td><td>Lingiari</td><td>Rural</td></tr>\n",
       "</table>\n"
      ],
      "text/plain": [
       "+-----+--------+--------------------+-----+---------+----------+----+----+--------------------+-----+-----------+----+-------+------+-----------+------------+-----------------+-----------------+-----------------+-------------+-------------+--------------+-------------+--------------------+-------+-------+--------+--------+----+--------+----------+--------+------------------+---------+----------+------------------+\n",
       "|   id|postcode|            locality|state|     long|       lat|  dc|type|              status|  sa3|    sa3name| sa4|sa4name|region|Lat_precise|Long_precise|SA1_MAINCODE_2011|SA1_MAINCODE_2016|SA2_MAINCODE_2016|SA2_NAME_2016|SA3_CODE_2016| SA3_NAME_2016|SA4_CODE_2016|       SA4_NAME_2016|RA_2011|RA_2016|MMM_2015|MMM_2019| ced|altitude|chargezone|phn_code|          phn_name|lgaregion|electorate|  electoraterating|\n",
       "+-----+--------+--------------------+-----+---------+----------+----+----+--------------------+-----+-----------+----+-------+------+-----------+------------+-----------------+-----------------+-----------------+-------------+-------------+--------------+-------------+--------------------+-------+-------+--------+--------+----+--------+----------+--------+------------------+---------+----------+------------------+\n",
       "|  230|    0200|                 ANU|  ACT|  149.119|  -35.2777|null|null|                null| null|       null|null|   null|    R1|   -35.2777|     149.119|      80105104901|      80105104901|        801051049|        Acton|        80105|North Canberra|          801|Australian Capita...|      1|      1|       1|       1|null|    null|        N2|    null|              null|     null|    Durack|              null|\n",
       "|21820|    0200|Australian Nation...|  ACT| 149.1189|  -35.2777|null|null|   Added 19-Jan-2020| null|       null|null|   null|    R1|-35.2776999|  149.118527|      80105104901|      80105104901|        801051049|        Acton|        80105|North Canberra|          801|Australian Capita...|      1|      1|       1|       1|null|    null|        N2|    null|              null|     null|    Durack|              null|\n",
       "|  232|    0800|              DARWIN|   NT|130.83668|-12.458684|null|null|  Updated 6-Feb-2020|70101|Darwin City| 701| Darwin|    R1|-12.3932794| 130.7766611|      70101100203|      70101100218|        701011002|  Darwin City|        70101|   Darwin City|          701|              Darwin|      3|      3|       2|       2|null|    null|       NT1|  PHN701|Northern Territory|   Darwin|   Solomon|Inner Metropolitan|\n",
       "|24049|    0800|         DARWIN CITY|   NT|130.83668|-12.458684|null|null|  Updated 6-Feb-2020|70101|Darwin City| 701| Darwin|    R1|-12.3932794| 130.7766611|      70101100203|      70101100218|        701011002|  Darwin City|        70101|   Darwin City|          701|              Darwin|      3|      3|       2|       2|null|    null|       NT1|  PHN701|Northern Territory|   Darwin|   Solomon|Inner Metropolitan|\n",
       "|  233|    0801|              DARWIN|   NT|130.83668|-12.458684|null|null|Updated 25-Mar-20...|70101|Darwin City| 701| Darwin|    R1|-12.4634403| 130.8456418|      70101100208|      70101100208|        701011002|  Darwin City|        70101|   Darwin City|          701|              Darwin|      3|      3|       2|       2|null|    null|       NT1|  PHN701|              null|     null|  Lingiari|             Rural|\n",
       "+-----+--------+--------------------+-----+---------+----------+----+----+--------------------+-----+-----------+----+-------+------+-----------+------------+-----------------+-----------------+-----------------+-------------+-------------+--------------+-------------+--------------------+-------+-------+--------+--------+----+--------+----------+--------+------------------+---------+----------+------------------+"
      ]
     },
     "execution_count": 18,
     "metadata": {},
     "output_type": "execute_result"
    }
   ],
   "source": [
    "# postcodedf used for merging\n",
    "postcodedf = spark.read.option(\"header\",\"true\").csv(\"../data/tables/australian_postcodes.csv\")\n",
    "\n",
    "# testpostcodedf used for income analysis\n",
    "testpostcodedf = postcodedf.select(\"SA2_MAINCODE_2016\",\"locality\",\"state\",\"SA2_NAME_2016\")\n",
    "testpostcodedf = testpostcodedf.withColumnRenamed(\"SA2_MAINCODE_2016\",\"sa2_code\")\n",
    "\n",
    "postcodedf.limit(5)"
   ]
  },
  {
   "cell_type": "code",
   "execution_count": 19,
   "id": "d1dc9423",
   "metadata": {},
   "outputs": [
    {
     "name": "stderr",
     "output_type": "stream",
     "text": [
      "                                                                                \r"
     ]
    }
   ],
   "source": [
    "testpostcodedf.write.mode(\"overwrite\").parquet('../data/curated/testpostcodedf.parquet')"
   ]
  },
  {
   "cell_type": "code",
   "execution_count": 20,
   "id": "45a4080b-6891-417f-92e8-0a30ef1d773c",
   "metadata": {
    "tags": []
   },
   "outputs": [
    {
     "name": "stdout",
     "output_type": "stream",
     "text": [
      "18442\n",
      "18265\n",
      "5492\n",
      "2221 3165\n"
     ]
    },
    {
     "data": {
      "text/html": [
       "<table border='1'>\n",
       "<tr><th>postcode</th><th>sa2_code</th></tr>\n",
       "<tr><td>1008</td><td>117031337</td></tr>\n",
       "<tr><td>1150</td><td>117031337</td></tr>\n",
       "<tr><td>2100</td><td>122031429</td></tr>\n",
       "<tr><td>2200</td><td>119011571</td></tr>\n",
       "<tr><td>2338</td><td>110041201</td></tr>\n",
       "</table>\n"
      ],
      "text/plain": [
       "+--------+---------+\n",
       "|postcode| sa2_code|\n",
       "+--------+---------+\n",
       "|    1008|117031337|\n",
       "|    1150|117031337|\n",
       "|    2100|122031429|\n",
       "|    2200|119011571|\n",
       "|    2338|110041201|\n",
       "+--------+---------+"
      ]
     },
     "execution_count": 20,
     "metadata": {},
     "output_type": "execute_result"
    }
   ],
   "source": [
    "# Extracts the useful features\n",
    "postcodedf = postcodedf.select(\"postcode\",\"SA2_MAINCODE_2016\")\n",
    "postcodedf = postcodedf.withColumnRenamed(\"SA2_MAINCODE_2016\",\"sa2_code\")\n",
    "print(postcodedf.count())\n",
    "\n",
    "# Checks for nulls\n",
    "postcodedf = postcodedf.dropna(\"any\")\n",
    "print(postcodedf.count())\n",
    "\n",
    "# Finds number of unique sa2 codes and postcodes\n",
    "postcodedf = postcodedf.distinct()\n",
    "print(postcodedf.count())\n",
    "print(postcodedf.groupBy(\"sa2_code\").count().count(), postcodedf.groupBy(\"postcode\").count().count())\n",
    "\n",
    "postcodedf.limit(5)"
   ]
  },
  {
   "cell_type": "markdown",
   "id": "556f9d32-cf16-491d-bdde-9f291e89524e",
   "metadata": {
    "tags": []
   },
   "source": [
    "In the dataset we have 2221 SA2 codes, in actuality there are 2310, missing 89 <br>\n",
    "In the dataset we have 3165 postcodes, in actuality there are 3333, missing 168 <br>\n",
    "no other datasets out there with all postcodes and sa2 codes so have to exclude these regions from analysis"
   ]
  },
  {
   "cell_type": "code",
   "execution_count": 21,
   "id": "82bf237a-9e4b-422f-bb1a-880e2f1b2ebe",
   "metadata": {
    "tags": []
   },
   "outputs": [
    {
     "name": "stdout",
     "output_type": "stream",
     "text": [
      "13613661\n"
     ]
    },
    {
     "name": "stderr",
     "output_type": "stream",
     "text": [
      "                                                                                \r"
     ]
    },
    {
     "name": "stdout",
     "output_type": "stream",
     "text": [
      "23251565\n"
     ]
    },
    {
     "name": "stderr",
     "output_type": "stream",
     "text": [
      "                                                                                \r"
     ]
    },
    {
     "name": "stdout",
     "output_type": "stream",
     "text": [
      "2154 3113\n"
     ]
    },
    {
     "name": "stderr",
     "output_type": "stream",
     "text": [
      "                                                                                \r"
     ]
    },
    {
     "data": {
      "text/html": [
       "<table border='1'>\n",
       "<tr><th>postcode</th><th>merchant_abn</th><th>consumer_id</th><th>user_id</th><th>dollar_value</th><th>order_id</th><th>order_datetime</th><th>customer_name</th><th>address</th><th>state</th><th>gender</th><th>company_name</th><th>tags</th><th>take_rate</th><th>revenue_band</th><th>sa2_code</th></tr>\n",
       "<tr><td>3612</td><td>94472466107</td><td>30</td><td>13842</td><td>36.094519921528466</td><td>0dc80e20-901c-410...</td><td>2021-08-20</td><td>Tamara Stewart</td><td>352 Jessica Summit</td><td>VIC</td><td>Female</td><td>Eu Dolor Egestas PC</td><td>cable, satellite,...</td><td> 6.23</td><td> a</td><td>216011410</td></tr>\n",
       "<tr><td>3612</td><td>94472466107</td><td>30</td><td>13842</td><td>36.094519921528466</td><td>0dc80e20-901c-410...</td><td>2021-08-20</td><td>Tamara Stewart</td><td>352 Jessica Summit</td><td>VIC</td><td>Female</td><td>Eu Dolor Egestas PC</td><td>cable, satellite,...</td><td> 6.23</td><td> a</td><td>204011058</td></tr>\n",
       "<tr><td>3612</td><td>21532935983</td><td>30</td><td>13842</td><td>71.1148505207073</td><td>5fbb2316-39b7-43b...</td><td>2021-08-21</td><td>Tamara Stewart</td><td>352 Jessica Summit</td><td>VIC</td><td>Female</td><td>Eleifend Nec Inco...</td><td>cable, satellite,...</td><td> 5.58</td><td> a</td><td>216011410</td></tr>\n",
       "<tr><td>3612</td><td>21532935983</td><td>30</td><td>13842</td><td>71.1148505207073</td><td>5fbb2316-39b7-43b...</td><td>2021-08-21</td><td>Tamara Stewart</td><td>352 Jessica Summit</td><td>VIC</td><td>Female</td><td>Eleifend Nec Inco...</td><td>cable, satellite,...</td><td> 5.58</td><td> a</td><td>204011058</td></tr>\n",
       "<tr><td>3612</td><td>60956456424</td><td>30</td><td>13842</td><td>56.52469841268393</td><td>60bc5068-e775-4c4...</td><td>2021-08-19</td><td>Tamara Stewart</td><td>352 Jessica Summit</td><td>VIC</td><td>Female</td><td>Ultricies Digniss...</td><td>gift, card, novel...</td><td> 4.69</td><td> b</td><td>216011410</td></tr>\n",
       "<tr><td>3612</td><td>60956456424</td><td>30</td><td>13842</td><td>56.52469841268393</td><td>60bc5068-e775-4c4...</td><td>2021-08-19</td><td>Tamara Stewart</td><td>352 Jessica Summit</td><td>VIC</td><td>Female</td><td>Ultricies Digniss...</td><td>gift, card, novel...</td><td> 4.69</td><td> b</td><td>204011058</td></tr>\n",
       "<tr><td>3612</td><td>39211701585</td><td>30</td><td>13842</td><td>105.80444352294495</td><td>810594a7-c21a-4dd...</td><td>2021-08-22</td><td>Tamara Stewart</td><td>352 Jessica Summit</td><td>VIC</td><td>Female</td><td>Diam Eu Dolor PC</td><td>shoe shops</td><td> 4.76</td><td> b</td><td>216011410</td></tr>\n",
       "<tr><td>3612</td><td>39211701585</td><td>30</td><td>13842</td><td>105.80444352294495</td><td>810594a7-c21a-4dd...</td><td>2021-08-22</td><td>Tamara Stewart</td><td>352 Jessica Summit</td><td>VIC</td><td>Female</td><td>Diam Eu Dolor PC</td><td>shoe shops</td><td> 4.76</td><td> b</td><td>204011058</td></tr>\n",
       "<tr><td>3612</td><td>27326652377</td><td>30</td><td>13842</td><td>1179.9080321368747</td><td>7ef554a5-02a8-435...</td><td>2021-08-22</td><td>Tamara Stewart</td><td>352 Jessica Summit</td><td>VIC</td><td>Female</td><td>Tellus Aenean Cor...</td><td>music shops - mus...</td><td> 6.33</td><td> a</td><td>216011410</td></tr>\n",
       "<tr><td>3612</td><td>27326652377</td><td>30</td><td>13842</td><td>1179.9080321368747</td><td>7ef554a5-02a8-435...</td><td>2021-08-22</td><td>Tamara Stewart</td><td>352 Jessica Summit</td><td>VIC</td><td>Female</td><td>Tellus Aenean Cor...</td><td>music shops - mus...</td><td> 6.33</td><td> a</td><td>204011058</td></tr>\n",
       "</table>\n"
      ],
      "text/plain": [
       "+--------+------------+-----------+-------+------------------+--------------------+--------------+--------------+------------------+-----+------+--------------------+--------------------+---------+------------+---------+\n",
       "|postcode|merchant_abn|consumer_id|user_id|      dollar_value|            order_id|order_datetime| customer_name|           address|state|gender|        company_name|                tags|take_rate|revenue_band| sa2_code|\n",
       "+--------+------------+-----------+-------+------------------+--------------------+--------------+--------------+------------------+-----+------+--------------------+--------------------+---------+------------+---------+\n",
       "|    3612| 94472466107|         30|  13842|36.094519921528466|0dc80e20-901c-410...|    2021-08-20|Tamara Stewart|352 Jessica Summit|  VIC|Female| Eu Dolor Egestas PC|cable, satellite,...|     6.23|           a|216011410|\n",
       "|    3612| 94472466107|         30|  13842|36.094519921528466|0dc80e20-901c-410...|    2021-08-20|Tamara Stewart|352 Jessica Summit|  VIC|Female| Eu Dolor Egestas PC|cable, satellite,...|     6.23|           a|204011058|\n",
       "|    3612| 21532935983|         30|  13842|  71.1148505207073|5fbb2316-39b7-43b...|    2021-08-21|Tamara Stewart|352 Jessica Summit|  VIC|Female|Eleifend Nec Inco...|cable, satellite,...|     5.58|           a|216011410|\n",
       "|    3612| 21532935983|         30|  13842|  71.1148505207073|5fbb2316-39b7-43b...|    2021-08-21|Tamara Stewart|352 Jessica Summit|  VIC|Female|Eleifend Nec Inco...|cable, satellite,...|     5.58|           a|204011058|\n",
       "|    3612| 60956456424|         30|  13842| 56.52469841268393|60bc5068-e775-4c4...|    2021-08-19|Tamara Stewart|352 Jessica Summit|  VIC|Female|Ultricies Digniss...|gift, card, novel...|     4.69|           b|216011410|\n",
       "|    3612| 60956456424|         30|  13842| 56.52469841268393|60bc5068-e775-4c4...|    2021-08-19|Tamara Stewart|352 Jessica Summit|  VIC|Female|Ultricies Digniss...|gift, card, novel...|     4.69|           b|204011058|\n",
       "|    3612| 39211701585|         30|  13842|105.80444352294495|810594a7-c21a-4dd...|    2021-08-22|Tamara Stewart|352 Jessica Summit|  VIC|Female|    Diam Eu Dolor PC|          shoe shops|     4.76|           b|216011410|\n",
       "|    3612| 39211701585|         30|  13842|105.80444352294495|810594a7-c21a-4dd...|    2021-08-22|Tamara Stewart|352 Jessica Summit|  VIC|Female|    Diam Eu Dolor PC|          shoe shops|     4.76|           b|204011058|\n",
       "|    3612| 27326652377|         30|  13842|1179.9080321368747|7ef554a5-02a8-435...|    2021-08-22|Tamara Stewart|352 Jessica Summit|  VIC|Female|Tellus Aenean Cor...|music shops - mus...|     6.33|           a|216011410|\n",
       "|    3612| 27326652377|         30|  13842|1179.9080321368747|7ef554a5-02a8-435...|    2021-08-22|Tamara Stewart|352 Jessica Summit|  VIC|Female|Tellus Aenean Cor...|music shops - mus...|     6.33|           a|204011058|\n",
       "+--------+------------+-----------+-------+------------------+--------------------+--------------+--------------+------------------+-----+------+--------------------+--------------------+---------+------------+---------+"
      ]
     },
     "execution_count": 21,
     "metadata": {},
     "output_type": "execute_result"
    }
   ],
   "source": [
    "# Joins postcode data with original to see number of lost records\n",
    "\n",
    "sdf = spark.read.parquet(\"../data/curated/mergedf.parquet/\")\n",
    "print(sdf.count())\n",
    "mergedf = sdf.join(postcodedf, \"postcode\")\n",
    "print(mergedf.count())\n",
    "print(mergedf.groupBy(\"sa2_code\").count().count(), mergedf.groupBy(\"postcode\").count().count())\n",
    "\n",
    "mergedf.limit(10)"
   ]
  },
  {
   "cell_type": "markdown",
   "id": "c2d6077a-7931-459e-89f9-e91c18e397af",
   "metadata": {
    "tags": []
   },
   "source": [
    "As we can see there was a loss of rows when joining with the \"merchant abn\" column in the merchant dataset <br>\n",
    "This means that some of the merchant abns in the transactions were not available in the data table for the different merchants <br>\n",
    "These can be removed as we dont know their company tags/take_rate/revenue_bands which are all useful features <br>\n",
    "Removing these merchants also removed some postcodes/sa2_codes via joining <br>\n",
    "Also transactions originally only had 3167 postcodes out of 3333 <br> \n",
    "<br>\n",
    "Number of rows goes up when combining with postcodes because a postcode can belong to multiple SA2 regions <br>\n",
    "for the time being treating it as is "
   ]
  },
  {
   "cell_type": "code",
   "execution_count": 22,
   "id": "156cbaf6",
   "metadata": {},
   "outputs": [],
   "source": [
    "# Saves first postcode dataset for later comparison\n",
    "postcodedf.write.mode(\"overwrite\").parquet('../data/curated/postcodedf.parquet')"
   ]
  },
  {
   "cell_type": "markdown",
   "id": "21f1b176",
   "metadata": {},
   "source": [
    "## Postcode Ratio Dataset"
   ]
  },
  {
   "cell_type": "code",
   "execution_count": 23,
   "id": "43a54324",
   "metadata": {},
   "outputs": [],
   "source": [
    "postcode_ratio_sdf = spark.read.parquet(\"../data/curated/postcode_ratio_sdf.parquet\")"
   ]
  },
  {
   "cell_type": "code",
   "execution_count": 24,
   "id": "2f404983",
   "metadata": {},
   "outputs": [
    {
     "data": {
      "text/html": [
       "<table border='1'>\n",
       "<tr><th>postcode</th><th>sa2_code</th><th>sa2_name</th><th>ratio</th></tr>\n",
       "<tr><td>2478</td><td>112011242</td><td>Lennox Head - Ske...</td><td>0.2759902</td></tr>\n",
       "<tr><td>2479</td><td>112011237</td><td>Ballina Region</td><td>0.2624605</td></tr>\n",
       "<tr><td>2479</td><td>112011238</td><td>Bangalow</td><td>0.7372028</td></tr>\n",
       "<tr><td>2479</td><td>112011240</td><td>Byron Bay</td><td>3.367E-4</td></tr>\n",
       "<tr><td>2480</td><td>112011237</td><td>Ballina Region</td><td>6.535E-4</td></tr>\n",
       "</table>\n"
      ],
      "text/plain": [
       "+--------+---------+--------------------+---------+\n",
       "|postcode| sa2_code|            sa2_name|    ratio|\n",
       "+--------+---------+--------------------+---------+\n",
       "|    2478|112011242|Lennox Head - Ske...|0.2759902|\n",
       "|    2479|112011237|      Ballina Region|0.2624605|\n",
       "|    2479|112011238|            Bangalow|0.7372028|\n",
       "|    2479|112011240|           Byron Bay| 3.367E-4|\n",
       "|    2480|112011237|      Ballina Region| 6.535E-4|\n",
       "+--------+---------+--------------------+---------+"
      ]
     },
     "execution_count": 24,
     "metadata": {},
     "output_type": "execute_result"
    }
   ],
   "source": [
    "postcode_ratio_sdf.limit(5)"
   ]
  },
  {
   "cell_type": "code",
   "execution_count": 25,
   "id": "e6e12688",
   "metadata": {},
   "outputs": [
    {
     "name": "stdout",
     "output_type": "stream",
     "text": [
      "2162 2653\n"
     ]
    }
   ],
   "source": [
    "sa2_count = postcode_ratio_sdf \\\n",
    "        .distinct() \\\n",
    "        .groupBy(\"sa2_code\") \\\n",
    "        .count() \\\n",
    "        .count()\n",
    "\n",
    "postcode_count = postcode_ratio_sdf \\\n",
    "        .distinct() \\\n",
    "        .groupBy(\"postcode\") \\\n",
    "        .count() \\\n",
    "        .count()\n",
    "\n",
    "print(sa2_count, postcode_count)"
   ]
  },
  {
   "cell_type": "markdown",
   "id": "3767b554",
   "metadata": {},
   "source": [
    "Obtained from the dataset:\n",
    "- 2162 unique SA2 codes, 2310 codes exist, missing 148\n",
    "- 2653 unique postcodes, 3333 codes exist, missing 680"
   ]
  }
 ],
 "metadata": {
  "kernelspec": {
   "display_name": "Python 3 (ipykernel)",
   "language": "python",
   "name": "python3"
  },
  "language_info": {
   "codemirror_mode": {
    "name": "ipython",
    "version": 3
   },
   "file_extension": ".py",
   "mimetype": "text/x-python",
   "name": "python",
   "nbconvert_exporter": "python",
   "pygments_lexer": "ipython3",
   "version": "3.8.10"
  },
  "vscode": {
   "interpreter": {
    "hash": "916dbcbb3f70747c44a77c7bcd40155683ae19c65e1c03b4aa3499c5328201f1"
   }
  }
 },
 "nbformat": 4,
 "nbformat_minor": 5
}
