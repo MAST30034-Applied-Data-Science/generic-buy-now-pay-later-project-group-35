{
 "cells": [
  {
   "cell_type": "code",
   "execution_count": 1,
   "id": "f935367d-cab0-4904-9bed-676c9eccd84b",
   "metadata": {
    "tags": []
   },
   "outputs": [
    {
     "name": "stdout",
     "output_type": "stream",
     "text": [
      "22/09/11 19:02:19 WARN Utils: Your hostname, DESKTOP-LNDD2A2 resolves to a loopback address: 127.0.1.1; using 172.21.217.31 instead (on interface eth0)\n",
      "22/09/11 19:02:19 WARN Utils: Set SPARK_LOCAL_IP if you need to bind to another address\n"
     ]
    },
    {
     "name": "stderr",
     "output_type": "stream",
     "text": [
      "Setting default log level to \"WARN\".\n",
      "To adjust logging level use sc.setLogLevel(newLevel). For SparkR, use setLogLevel(newLevel).\n"
     ]
    },
    {
     "name": "stdout",
     "output_type": "stream",
     "text": [
      "22/09/11 19:02:22 WARN NativeCodeLoader: Unable to load native-hadoop library for your platform... using builtin-java classes where applicable\n"
     ]
    }
   ],
   "source": [
    "from pyspark.sql import SparkSession\n",
    "from pyspark.sql.functions import * \n",
    "import matplotlib.pyplot as plt\n",
    "import pandas as pd\n",
    "import numpy as np\n",
    "\n",
    "# Create a spark session\n",
    "spark = (\n",
    "    SparkSession.builder.appName(\"analysis\")\n",
    "    .config(\"spark.sql.repl.eagerEval.enabled\", True) \n",
    "    .config(\"spark.sql.parquet.cacheMetadata\", \"true\")\n",
    "    .config(\"spark.sql.session.timeZone\", \"Etc/UTC\")\n",
    "    .config(\"spark.driver.memory\", \"2g\")\n",
    "    .config(\"spark.executor.memory\", \"6g\")\n",
    "    .getOrCreate()\n",
    ")"
   ]
  },
  {
   "cell_type": "code",
   "execution_count": 2,
   "id": "2a912ac0-9236-4e21-ac1c-2df70e658304",
   "metadata": {},
   "outputs": [
    {
     "name": "stderr",
     "output_type": "stream",
     "text": [
      "                                                                                \r"
     ]
    }
   ],
   "source": [
    "sdf = spark.read.parquet(\"../data/curated/mergedf.parquet/\")"
   ]
  },
  {
   "cell_type": "code",
   "execution_count": 3,
   "id": "8ef18bba-cfe7-4773-926b-2d626952ce53",
   "metadata": {},
   "outputs": [
    {
     "name": "stderr",
     "output_type": "stream",
     "text": [
      "[Stage 2:>                                                          (0 + 1) / 1]\r"
     ]
    },
    {
     "name": "stdout",
     "output_type": "stream",
     "text": [
      "+------------------------------------+-------------------------------------------------------------------------------------+------------+---------+------------+\n",
      "|company_name                        |tags                                                                                 |merchant_abn|take_rate|revenue_band|\n",
      "+------------------------------------+-------------------------------------------------------------------------------------+------------+---------+------------+\n",
      "|Felis Limited                       |furniture, home furnishings and equipment shops, and manufacturers, except appliances|10023283211 | 0.18    | e          |\n",
      "|Arcu Ac Orci Corporation            |cable, satellite, and other pay television and radio services                        |10142254217 | 4.22    | b          |\n",
      "|Nunc Sed Company                    |jewelry, watch, clock, and silverware shops                                          |10165489824 | 4.40    | b          |\n",
      "|Ultricies Dignissim Lacus Foundation|watch, clock, and jewelry repair shops                                               |10187291046 | 3.29    | b          |\n",
      "|Enim Condimentum PC                 |music shops - musical instruments, pianos, and sheet music                           |10192359162 | 6.33    | a          |\n",
      "|Fusce Company                       |gift, card, novelty, and souvenir shops                                              |10206519221 | 6.34    | a          |\n",
      "|Aliquam Enim Incorporated           |computers, computer peripheral equipment, and software                               |10255988167 | 4.32    | b          |\n",
      "|Ipsum Primis Ltd                    |watch, clock, and jewelry repair shops                                               |10264435225 | 2.39    | c          |\n",
      "|Pede Ultrices Industries            |computer programming , data processing, and integrated systems design services       |10279061213 | 5.71    | a          |\n",
      "|Nunc Inc.                           |furniture, home furnishings and equipment shops, and manufacturers, except appliances|10323485998 | 6.61    | a          |\n",
      "|Facilisis Facilisis Corp.           |computers, computer peripheral equipment, and software                               |10342410215 | 6.34    | a          |\n",
      "|Odio Institute                      |equipment, tool, furniture, and appliance rent al and leasing                        |10346855916 | 3.57    | b          |\n",
      "|Rutrum Justo Ltd                    |music shops - musical instruments, pianos, and sheet music                           |10364012396 | 3.63    | b          |\n",
      "|Tellus Foundation                   |artist supply and craft shops                                                        |10385011947 | 3.17    | b          |\n",
      "|Sed Et Company                      |florists supplies, nursery stock, and flowers                                        |10385163239 | 6.61    | a          |\n",
      "|Id Ltd                              |computers, computer peripheral equipment, and software                               |10385250025 | 5.54    | a          |\n",
      "|Consequat Foundation                |antique shops - sales, repairs, and restoration services                             |10404542215 | 6.93    | a          |\n",
      "|Sit Amet Nulla Corp.                |motor vehicle supplies and new parts                                                 |10430380319 | 4.97    | b          |\n",
      "|Massa Vestibulum Foundation         |motor vehicle supplies and new parts                                                 |10441711491 | 5.77    | a          |\n",
      "|Ut Consulting                       |gift, card, novelty, and souvenir shops                                              |10462560289 | 2.95    | c          |\n",
      "+------------------------------------+-------------------------------------------------------------------------------------+------------+---------+------------+\n",
      "only showing top 20 rows\n",
      "\n"
     ]
    },
    {
     "name": "stderr",
     "output_type": "stream",
     "text": [
      "                                                                                \r"
     ]
    }
   ],
   "source": [
    "merchantdf = spark.read.parquet(\"../data/tables/tbl_merchants.parquet\")\n",
    "merchantdf = merchantdf.withColumnRenamed(\"name\",\"company_name\")\n",
    "\n",
    "# Replace all square brackets with round brackets\n",
    "merchantdf = merchantdf.withColumn('tags', regexp_replace('tags', '\\\\[', '\\\\('))\n",
    "merchantdf = merchantdf.withColumn('tags', regexp_replace('tags', '\\\\]', '\\\\)'))\n",
    "\n",
    "# Extract take rate into seperate column\n",
    "merchantdf = merchantdf.withColumn(\"take_rate\", \n",
    "                                   split(col(\"tags\"), \"\\\\),\").getItem(2))\\\n",
    "                       .withColumn('take_rate', \n",
    "                                   regexp_replace('take_rate', 'take rate: ', \n",
    "                                                  ''))\\\n",
    "                       .withColumn('take_rate', \n",
    "                                   regexp_replace('take_rate', '\\\\(', ''))\\\n",
    "                       .withColumn('take_rate', \n",
    "                                   regexp_replace('take_rate', '\\\\)', ''))\n",
    "\n",
    "# Extract revenue band\n",
    "merchantdf = merchantdf.withColumn(\"revenue_band\", \n",
    "                                   split(col(\"tags\"), \"\\\\),\").getItem(1))\\\n",
    "                       .withColumn('revenue_band', \n",
    "                                   regexp_replace('revenue_band', '\\\\(', ''))\\\n",
    "                       .withColumn('revenue_band', \n",
    "                                   regexp_replace('revenue_band', '\\\\)', ''))\n",
    "\n",
    "# Extract tags band\n",
    "merchantdf = merchantdf.withColumn(\"tags\", \n",
    "                                   split(col(\"tags\"), \"\\\\),\").getItem(0))\\\n",
    "                       .withColumn('tags', \n",
    "                                   regexp_replace('tags', '\\\\(', ''))\\\n",
    "                       .withColumn('tags', \n",
    "                                   regexp_replace('tags', '\\\\)', ''))\\\n",
    "                       .withColumn('tags', \n",
    "                                   regexp_replace('tags', ' +', ' '))\\\n",
    "                       .withColumn('tags', \n",
    "                                   lower('tags'))\n",
    "\n",
    "merchantdf.show(truncate=False)"
   ]
  },
  {
   "cell_type": "code",
   "execution_count": 4,
   "id": "b007233e-07f7-489d-a30a-ac292bb04bb5",
   "metadata": {},
   "outputs": [
    {
     "name": "stderr",
     "output_type": "stream",
     "text": [
      "                                                                                \r"
     ]
    }
   ],
   "source": [
    "transactiondf1 = spark.read.parquet(\"../data/tables/transactions_20210228_20210827_snapshot/\")\n",
    "transactiondf2 = spark.read.parquet(\"../data/tables/transactions_20210828_20220227_snapshot/\")\n",
    "transactiondf = transactiondf1.union(transactiondf2)\n",
    "userdf = spark.read.parquet(\"../data/tables/consumer_user_details.parquet\")"
   ]
  },
  {
   "cell_type": "markdown",
   "id": "2d6e4d56-1f32-4751-a547-8abe152e9bf2",
   "metadata": {},
   "source": [
    "## Revenue Band"
   ]
  },
  {
   "cell_type": "code",
   "execution_count": 5,
   "id": "e9da8efa-35e1-4e11-9c1a-0b7cfa9d2aa4",
   "metadata": {},
   "outputs": [
    {
     "name": "stderr",
     "output_type": "stream",
     "text": [
      "                                                                                \r"
     ]
    },
    {
     "name": "stdout",
     "output_type": "stream",
     "text": [
      "  revenue_band  count\n",
      "0            a   1602\n",
      "1            b   1351\n",
      "2            c    922\n",
      "3            d     98\n",
      "4            e     53\n"
     ]
    },
    {
     "name": "stderr",
     "output_type": "stream",
     "text": [
      "                                                                                \r"
     ]
    },
    {
     "name": "stdout",
     "output_type": "stream",
     "text": [
      "  revenue_band    count\n",
      "0            a  3509188\n",
      "1            b  2251496\n",
      "2            c  1909472\n",
      "3            d    78521\n",
      "4            e    69053\n"
     ]
    },
    {
     "name": "stderr",
     "output_type": "stream",
     "text": [
      "                                                                                \r"
     ]
    },
    {
     "data": {
      "text/plain": [
       "<AxesSubplot:title={'center':'Distribution of Merchant Revenue Bands'}, ylabel='count'>"
      ]
     },
     "execution_count": 5,
     "metadata": {},
     "output_type": "execute_result"
    },
    {
     "data": {
      "image/png": "[encoded data removed]",
      "text/plain": [
       "<Figure size 648x432 with 1 Axes>"
      ]
     },
     "metadata": {},
     "output_type": "display_data"
    },
    {
     "data": {
      "image/png": "[encoded data removed]",
      "text/plain": [
       "<Figure size 648x432 with 1 Axes>"
      ]
     },
     "metadata": {},
     "output_type": "display_data"
    }
   ],
   "source": [
    "## Revenue Band\n",
    "print(merchantdf.groupby('revenue_band').count().sort('revenue_band').toPandas())\n",
    "merchantdf.groupby('revenue_band').count().sort('revenue_band').toPandas().set_index('revenue_band')\\\n",
    ".plot(kind='pie', y='count', figsize=(9, 6), legend=True, title=\"Distribution of Merchant Revenue Bands\")\n",
    "\n",
    "## Now do all transactions have valid revenue bands?\n",
    "print(sdf.groupby('revenue_band').count().sort('revenue_band').toPandas())\n",
    "sdf.groupby('revenue_band').count().sort('revenue_band').toPandas().set_index('revenue_band')\\\n",
    ".plot(kind='pie', y='count', figsize=(9, 6), legend=True, title=\"Distribution of Merchant Revenue Bands\")"
   ]
  },
  {
   "cell_type": "markdown",
   "id": "2aea28f2-5f3d-469e-b47b-f89686373bb1",
   "metadata": {},
   "source": [
    "Even after splitting from the tags field, we do not see any invalid entries in the revenue band field. The majority of revenue bands lie between a-c, with d and e revenue bands clearly being reserved for the most extreme merchants. Overall the number of merchants decreases as you reach a higher and higher revenue bands."
   ]
  },
  {
   "cell_type": "markdown",
   "id": "83fa7895-34e3-4a98-8134-63f3b252236d",
   "metadata": {},
   "source": [
    "## Take Rate"
   ]
  },
  {
   "cell_type": "code",
   "execution_count": 6,
   "id": "2feef73e-a594-44a1-ac93-c4e6a5b45dd5",
   "metadata": {
    "tags": []
   },
   "outputs": [
    {
     "name": "stdout",
     "output_type": "stream",
     "text": [
      "           count\n",
      "take_rate       \n",
      "5.91        20.0\n",
      "5.73        19.0\n",
      "5.99        19.0\n",
      "6.43        19.0\n",
      "5.55        18.0\n",
      "5.62        17.0\n",
      "6.33        17.0\n",
      "5.68        16.0\n",
      "6.30        16.0\n",
      "5.64        16.0\n",
      "6.57        16.0\n",
      "5.65        15.0\n",
      "6.01        15.0\n",
      "5.71        15.0\n",
      "4.97        15.0\n",
      "6.26        14.0\n",
      "6.72        14.0\n",
      "6.42        14.0\n",
      "5.97        14.0\n",
      "3.61        14.0\n"
     ]
    },
    {
     "name": "stderr",
     "output_type": "stream",
     "text": [
      "                                                                                \r"
     ]
    },
    {
     "name": "stdout",
     "output_type": "stream",
     "text": [
      "              count\n",
      "take_rate          \n",
      "2.94       178872.0\n",
      "6.43       171107.0\n",
      "2.86       161561.0\n",
      "5.80       159912.0\n",
      "1.47       152054.0\n",
      "2.93       146435.0\n",
      "6.01       142947.0\n",
      "6.98       139087.0\n",
      "6.48       120560.0\n",
      "4.47       118167.0\n",
      "6.33        85179.0\n",
      "5.65        83699.0\n",
      "5.73        67659.0\n",
      "4.69        64976.0\n",
      "6.61        61360.0\n",
      "4.95        58971.0\n",
      "5.97        58761.0\n",
      "5.93        52668.0\n",
      "6.16        49903.0\n",
      "5.05        49661.0\n"
     ]
    },
    {
     "data": {
      "text/plain": [
       "Text(0, 0.5, 'Frequency')"
      ]
     },
     "execution_count": 6,
     "metadata": {},
     "output_type": "execute_result"
    },
    {
     "data": {
      "image/png": "[encoded data removed]",
      "text/plain": [
       "<Figure size 648x432 with 1 Axes>"
      ]
     },
     "metadata": {
      "needs_background": "light"
     },
     "output_type": "display_data"
    },
    {
     "data": {
      "image/png": "[encoded data removed]",
      "text/plain": [
       "<Figure size 648x432 with 1 Axes>"
      ]
     },
     "metadata": {
      "needs_background": "light"
     },
     "output_type": "display_data"
    }
   ],
   "source": [
    "takerate_df = pd.DataFrame({\"take_rate\":np.arange(0, 7.01, 0.01), \"count\": 0})\\\n",
    ".set_index(\"take_rate\")\n",
    "takerate_df['count'] = merchantdf.groupby('take_rate').count().sort('take_rate')\\\n",
    ".toPandas().astype({'take_rate':'float'}).set_index('take_rate')\n",
    "takerate_df = takerate_df.fillna(0)\n",
    "print(takerate_df.sort_values('count', ascending=False).head(20))\n",
    "\n",
    "fig, ax = plt.subplots(figsize=(9,6))\n",
    "ax.bar(takerate_df.index, takerate_df['count'], width=0.05)\n",
    "plt.xlabel('Take Rate')\n",
    "plt.ylabel('Frequency')\n",
    "plt.title('Frequency of Take Rates Among Merchants')\n",
    "\n",
    "\n",
    "## Now do all transactions have valid take rates?\n",
    "takerate_df = pd.DataFrame({\"take_rate\":np.arange(0, 7.01, 0.01), \"count\": 0})\\\n",
    ".set_index(\"take_rate\")\n",
    "takerate_df['count'] = sdf.groupby('take_rate').count().sort('take_rate')\\\n",
    ".toPandas().astype({'take_rate':'float'}).set_index('take_rate')\n",
    "takerate_df = takerate_df.fillna(0)\n",
    "print(takerate_df.sort_values('count', ascending=False).head(20))\n",
    "fig, ax = plt.subplots(figsize=(9,6))\n",
    "ax.bar(takerate_df.index, takerate_df['count'], width=0.05)\n",
    "plt.xlabel('Take Rate')\n",
    "plt.ylabel('Frequency')"
   ]
  },
  {
   "cell_type": "markdown",
   "id": "25e45436-502d-48fa-b170-36f0b838e1bf",
   "metadata": {},
   "source": [
    "There appears to be 3 distinct 'groups' in the distribution of take rate. The first comprising of very few merchants, which have a take rate between 0% and just over 1%. Rather logically, no merchants have a take rate of 0, and we don't see any nonsensical take rates either, such as negative take rates. \n",
    "\n",
    "The second group composes of merchants with a take take of just over 1% to roughly 5%. The number of merchants in this groups appears to have jumped significantly as compared to the previous group.\n",
    "\n",
    "We notice a rather interesting pattern in that no merchants appear to have a take rate between just over 5% and roughly 5.5%. This could have something to do with the method used to determine take rate? Could make sense particularly with what appears to be 3 clear groups. \n",
    "\n",
    "The final group contains merchants between 5.5% take rate, and what appears to be the maximum possible take rate of 7%.\n",
    "\n",
    "Finally, inside of each of the 3 groups, take rate appears to be uniformally distributed."
   ]
  },
  {
   "cell_type": "markdown",
   "id": "138ee57b-b400-4e63-93fd-d09e743c5014",
   "metadata": {},
   "source": [
    "## Tags"
   ]
  },
  {
   "cell_type": "code",
   "execution_count": 7,
   "id": "e13cdcfc-70ec-4771-8587-727ca5b5a421",
   "metadata": {
    "tags": []
   },
   "outputs": [
    {
     "name": "stdout",
     "output_type": "stream",
     "text": [
      "+-------------------------------------------------------------------------------------+-----+\n",
      "|tags                                                                                 |count|\n",
      "+-------------------------------------------------------------------------------------+-----+\n",
      "|antique shops - sales, repairs, and restoration services                             |129  |\n",
      "|art dealers and galleries                                                            |112  |\n",
      "|artist supply and craft shops                                                        |193  |\n",
      "|bicycle shops - sales and service                                                    |170  |\n",
      "|books, periodicals, and newspapers                                                   |164  |\n",
      "|cable, satellite, and other pay television and radio services                        |175  |\n",
      "|computer programming , data processing, and integrated systems design services       |191  |\n",
      "|computers, computer peripheral equipment, and software                               |181  |\n",
      "|digital goods: books, movies, music                                                  |195  |\n",
      "|equipment, tool, furniture, and appliance rent al and leasing                        |134  |\n",
      "|florists supplies, nursery stock, and flowers                                        |180  |\n",
      "|furniture, home furnishings and equipment shops, and manufacturers, except appliances|182  |\n",
      "|gift, card, novelty, and souvenir shops                                              |182  |\n",
      "|health and beauty spas                                                               |164  |\n",
      "|hobby, toy and game shops                                                            |142  |\n",
      "|jewelry, watch, clock, and silverware shops                                          |91   |\n",
      "|lawn and garden supply outlets, including nurseries                                  |153  |\n",
      "|motor vehicle supplies and new parts                                                 |151  |\n",
      "|music shops - musical instruments, pianos, and sheet music                           |167  |\n",
      "|opticians, optical goods, and eyeglasses                                             |151  |\n",
      "|shoe shops                                                                           |185  |\n",
      "|stationery, office supplies and printing and writing paper                           |161  |\n",
      "|telecom                                                                              |125  |\n",
      "|tent and awning shops                                                                |178  |\n",
      "|watch, clock, and jewelry repair shops                                               |170  |\n",
      "+-------------------------------------------------------------------------------------+-----+\n",
      "\n"
     ]
    },
    {
     "name": "stderr",
     "output_type": "stream",
     "text": [
      "[Stage 59:==============================================>           (4 + 1) / 5]\r"
     ]
    },
    {
     "name": "stdout",
     "output_type": "stream",
     "text": [
      "+-------------------------------------------------------------------------------------+-------+\n",
      "|tags                                                                                 |count  |\n",
      "+-------------------------------------------------------------------------------------+-------+\n",
      "|antique shops - sales, repairs, and restoration services                             |102617 |\n",
      "|art dealers and galleries                                                            |12314  |\n",
      "|artist supply and craft shops                                                        |270701 |\n",
      "|bicycle shops - sales and service                                                    |128896 |\n",
      "|books, periodicals, and newspapers                                                   |226658 |\n",
      "|cable, satellite, and other pay television and radio services                        |550269 |\n",
      "|computer programming , data processing, and integrated systems design services       |297667 |\n",
      "|computers, computer peripheral equipment, and software                               |412496 |\n",
      "|digital goods: books, movies, music                                                  |738378 |\n",
      "|equipment, tool, furniture, and appliance rent al and leasing                        |21001  |\n",
      "|florists supplies, nursery stock, and flowers                                        |506390 |\n",
      "|furniture, home furnishings and equipment shops, and manufacturers, except appliances|286160 |\n",
      "|gift, card, novelty, and souvenir shops                                              |940938 |\n",
      "|health and beauty spas                                                               |140986 |\n",
      "|hobby, toy and game shops                                                            |135298 |\n",
      "|jewelry, watch, clock, and silverware shops                                          |2830   |\n",
      "|lawn and garden supply outlets, including nurseries                                  |199443 |\n",
      "|motor vehicle supplies and new parts                                                 |176234 |\n",
      "|music shops - musical instruments, pianos, and sheet music                           |182653 |\n",
      "|opticians, optical goods, and eyeglasses                                             |484407 |\n",
      "|shoe shops                                                                           |247929 |\n",
      "|stationery, office supplies and printing and writing paper                           |98566  |\n",
      "|telecom                                                                              |19697  |\n",
      "|tent and awning shops                                                                |1042376|\n",
      "|watch, clock, and jewelry repair shops                                               |592826 |\n",
      "+-------------------------------------------------------------------------------------+-------+\n",
      "\n"
     ]
    },
    {
     "name": "stderr",
     "output_type": "stream",
     "text": [
      "                                                                                \r"
     ]
    }
   ],
   "source": [
    "merchantdf.groupby('tags').count().sort('tags').show(100, truncate=False)\n",
    "\n",
    "# Now for transactions\n",
    "sdf.groupby('tags').count().sort('tags').show(100, truncate=False)"
   ]
  },
  {
   "cell_type": "markdown",
   "id": "27575e30-08e3-4243-975b-744c0cb597fc",
   "metadata": {},
   "source": [
    "After cleaning up the field, there are actually only 25 different unique values for tags, with these being fairly evenly distributed amongst merchants. This is a fairly interesting finding, since it was at first thought that this field was unique to each vendor, particularly given its nature as being a field manually entered\n",
    "\n",
    "The maximum count shows 195 merchants with tag 'digital goods: books, movies, music' and minimum count shows 91 merchants with tag 'jewelry, watch, clock and silverware shops'.\n",
    "\n",
    "Viewing the occurences of these tags in transactions instead reveals certain tags are associated with more/less frequent transactions. For example, 'jewelry, watch, clock, and silverware shops' merchants are seen to have by far the least frequent amount of transaction as opposed to 'tent and awning shops' which have the most by far."
   ]
  },
  {
   "cell_type": "markdown",
   "id": "6caa2d40-0b45-402f-a7dc-441c308b5af7",
   "metadata": {},
   "source": [
    "## Transactions"
   ]
  },
  {
   "cell_type": "code",
   "execution_count": 8,
   "id": "76ed9ecd-841f-481d-89e9-723b20100eb0",
   "metadata": {},
   "outputs": [
    {
     "name": "stderr",
     "output_type": "stream",
     "text": [
      "                                                                                \r"
     ]
    },
    {
     "name": "stdout",
     "output_type": "stream",
     "text": [
      "333642\n"
     ]
    }
   ],
   "source": [
    "print(transactiondf.count() - sdf.count())"
   ]
  },
  {
   "cell_type": "markdown",
   "id": "0be3fa32-fb30-4acd-9a76-9a90330f869b",
   "metadata": {},
   "source": [
    "By simply joining all tables to the transaction table via the relevant foreign keys, any transaction which can't be joined for some reason will be discarded. As seen above, this would mean that 333,642 transactions (as of the end of Week 2 data) would be simply discarded without our knowledge."
   ]
  },
  {
   "cell_type": "code",
   "execution_count": 9,
   "id": "1e250e60-da9c-4a07-b088-b4b508272e32",
   "metadata": {},
   "outputs": [
    {
     "name": "stderr",
     "output_type": "stream",
     "text": [
      "                                                                                \r"
     ]
    },
    {
     "name": "stdout",
     "output_type": "stream",
     "text": [
      "+-----------+-----+\n",
      "|consumer_id|count|\n",
      "+-----------+-----+\n",
      "|     367113|    1|\n",
      "|    1255411|    1|\n",
      "|     999838|    1|\n",
      "|    1406677|    1|\n",
      "|     331653|    1|\n",
      "|     105297|    1|\n",
      "|     893193|    1|\n",
      "|    1093060|    1|\n",
      "|     147768|    1|\n",
      "|     194306|    1|\n",
      "|    1402299|    1|\n",
      "|     393166|    1|\n",
      "|    1471150|    1|\n",
      "|     615626|    1|\n",
      "|      78271|    1|\n",
      "|     467704|    1|\n",
      "|     832715|    1|\n",
      "|     168801|    1|\n",
      "|      61300|    1|\n",
      "|    1253794|    1|\n",
      "+-----------+-----+\n",
      "only showing top 20 rows\n",
      "\n"
     ]
    },
    {
     "name": "stderr",
     "output_type": "stream",
     "text": [
      "                                                                                \r"
     ]
    },
    {
     "name": "stdout",
     "output_type": "stream",
     "text": [
      "499999\n"
     ]
    },
    {
     "name": "stderr",
     "output_type": "stream",
     "text": [
      "                                                                                \r"
     ]
    },
    {
     "name": "stdout",
     "output_type": "stream",
     "text": [
      "+-------+-----+\n",
      "|user_id|count|\n",
      "+-------+-----+\n",
      "|     41|    1|\n",
      "|    499|    1|\n",
      "|    907|    1|\n",
      "|   1085|    1|\n",
      "|   1114|    1|\n",
      "|   1273|    1|\n",
      "|   1473|    1|\n",
      "|   1574|    1|\n",
      "|   1689|    1|\n",
      "|   1695|    1|\n",
      "|   1716|    1|\n",
      "|   1783|    1|\n",
      "|   2051|    1|\n",
      "|   2171|    1|\n",
      "|   2474|    1|\n",
      "|   2556|    1|\n",
      "|   2825|    1|\n",
      "|   2935|    1|\n",
      "|   3017|    1|\n",
      "|   3108|    1|\n",
      "+-------+-----+\n",
      "only showing top 20 rows\n",
      "\n",
      "499999\n"
     ]
    },
    {
     "name": "stderr",
     "output_type": "stream",
     "text": [
      "                                                                                \r"
     ]
    },
    {
     "name": "stdout",
     "output_type": "stream",
     "text": [
      "24081\n"
     ]
    },
    {
     "name": "stderr",
     "output_type": "stream",
     "text": [
      "[Stage 92:====================================================>   (14 + 1) / 15]\r"
     ]
    },
    {
     "name": "stdout",
     "output_type": "stream",
     "text": [
      "+-------+-----+\n",
      "|user_id|count|\n",
      "+-------+-----+\n",
      "|  11982|  285|\n",
      "|  22367|  286|\n",
      "|   8755|  289|\n",
      "|   4760|  290|\n",
      "|   2713|  291|\n",
      "|   4794|  292|\n",
      "|  23378|  292|\n",
      "|  21598|  292|\n",
      "|  17995|  294|\n",
      "|   9026|  294|\n",
      "|   5989|  295|\n",
      "|   6183|  295|\n",
      "|   2150|  296|\n",
      "|   1510|  296|\n",
      "|  13052|  296|\n",
      "|  16332|  296|\n",
      "|   8905|  296|\n",
      "|  20629|  297|\n",
      "|  12950|  297|\n",
      "|  13951|  297|\n",
      "+-------+-----+\n",
      "only showing top 20 rows\n",
      "\n"
     ]
    },
    {
     "name": "stderr",
     "output_type": "stream",
     "text": [
      "                                                                                \r"
     ]
    }
   ],
   "source": [
    "print(userdf.groupby('consumer_id').count().sort(desc('count')))\n",
    "print(userdf.groupby('consumer_id').count().sort(desc('count')).count())\n",
    "print(userdf.groupby('user_id').count().sort(desc('count')))\n",
    "print(userdf.groupby('user_id').count().sort(desc('count')).count())\n",
    "print(transactiondf.groupby('user_id').count().sort('user_id').count())\n",
    "print(transactiondf.groupby('user_id').count().sort('count'))"
   ]
  },
  {
   "cell_type": "markdown",
   "id": "3af6320f-c33d-4c06-ae03-490ada4b3572",
   "metadata": {},
   "source": [
    "There are no problems caused by joining this table (apart from the strange inclusion of a surrogate key). This table simply maps all user_ids from 0-499999 to some consumer_id. However, in the data given only user_ids up to 24,081 actually have at least 1 valid transaction in the dataset, meaning many of these mappings appear to go unused."
   ]
  },
  {
   "cell_type": "code",
   "execution_count": 10,
   "id": "e349fe74-31ee-41c1-a8c2-08f1fc45d5ec",
   "metadata": {},
   "outputs": [
    {
     "name": "stderr",
     "output_type": "stream",
     "text": [
      "                                                                                \r"
     ]
    },
    {
     "data": {
      "text/plain": [
       "333642"
      ]
     },
     "execution_count": 10,
     "metadata": {},
     "output_type": "execute_result"
    }
   ],
   "source": [
    "dropped_transactions = transactiondf.join(sdf, 'order_id', \"leftanti\")\n",
    "dropped_transactions.count()"
   ]
  },
  {
   "cell_type": "code",
   "execution_count": 11,
   "id": "e18ea4ae-9c05-44b9-b137-5ff79eb85227",
   "metadata": {
    "tags": []
   },
   "outputs": [
    {
     "name": "stderr",
     "output_type": "stream",
     "text": [
      "                                                                                \r"
     ]
    },
    {
     "data": {
      "text/html": [
       "<table border='1'>\n",
       "<tr><th>order_id</th><th>user_id</th><th>merchant_abn</th><th>dollar_value</th><th>order_datetime</th></tr>\n",
       "<tr><td>00010154-c8c6-492...</td><td>14132</td><td>43820812476</td><td>145.7508223047609</td><td>2021-04-03</td></tr>\n",
       "<tr><td>0001f004-f3b9-479...</td><td>9553</td><td>48540087213</td><td>2535.012136880364</td><td>2021-03-24</td></tr>\n",
       "<tr><td>000334fe-7ab8-4e7...</td><td>2438</td><td>11240426404</td><td>161.65965550330247</td><td>2021-05-01</td></tr>\n",
       "<tr><td>000a5afb-4c3b-458...</td><td>14983</td><td>33604812025</td><td>174.06729685924134</td><td>2021-05-01</td></tr>\n",
       "<tr><td>000c6979-a96c-468...</td><td>1221</td><td>29323795999</td><td>0.583128432753908</td><td>2021-08-15</td></tr>\n",
       "<tr><td>0012083d-3d78-4a6...</td><td>21522</td><td>73121558118</td><td>76.2031996487711</td><td>2021-04-30</td></tr>\n",
       "<tr><td>0016c89c-7e71-4c2...</td><td>9410</td><td>95492562735</td><td>30.124085051663126</td><td>2021-05-24</td></tr>\n",
       "<tr><td>0017b5e7-2cf3-494...</td><td>2088</td><td>87802246756</td><td>184.15325198043612</td><td>2021-06-21</td></tr>\n",
       "<tr><td>001dab75-e07a-425...</td><td>7020</td><td>32234779638</td><td>177.6279422305109</td><td>2021-04-23</td></tr>\n",
       "<tr><td>00230efc-c131-498...</td><td>20787</td><td>63966446164</td><td>172.42893653118102</td><td>2021-04-22</td></tr>\n",
       "<tr><td>0027f8ee-7129-40f...</td><td>1138</td><td>20562405782</td><td>31.32315960689628</td><td>2021-05-24</td></tr>\n",
       "<tr><td>0030f7a7-0684-45e...</td><td>845</td><td>29323795999</td><td>1.7872601666898336</td><td>2021-05-14</td></tr>\n",
       "<tr><td>0034c517-9bfb-43e...</td><td>23639</td><td>32234779638</td><td>9.457439051443544</td><td>2021-03-10</td></tr>\n",
       "<tr><td>0034d05b-25f9-4d7...</td><td>23072</td><td>32234779638</td><td>14.686631400036264</td><td>2021-03-15</td></tr>\n",
       "<tr><td>00369fe3-e440-483...</td><td>14732</td><td>28898261035</td><td>110.54599006339922</td><td>2021-08-14</td></tr>\n",
       "<tr><td>0039b887-7d6e-47e...</td><td>19283</td><td>11240426404</td><td>4.72616495440295</td><td>2021-07-03</td></tr>\n",
       "<tr><td>003e21e2-ae03-4e8...</td><td>114</td><td>11240426404</td><td>52.888626601611584</td><td>2021-06-30</td></tr>\n",
       "<tr><td>00429d0d-954b-4a4...</td><td>13178</td><td>29566626791</td><td>45.12962647664366</td><td>2021-07-04</td></tr>\n",
       "<tr><td>004e797b-468e-438...</td><td>13340</td><td>20562405782</td><td>166.77829375466837</td><td>2021-08-03</td></tr>\n",
       "<tr><td>004efb90-3de9-413...</td><td>5500</td><td>93676909958</td><td>3471.4180326622</td><td>2021-05-28</td></tr>\n",
       "</table>\n",
       "only showing top 20 rows\n"
      ],
      "text/plain": [
       "+--------------------+-------+------------+------------------+--------------+\n",
       "|            order_id|user_id|merchant_abn|      dollar_value|order_datetime|\n",
       "+--------------------+-------+------------+------------------+--------------+\n",
       "|00010154-c8c6-492...|  14132| 43820812476| 145.7508223047609|    2021-04-03|\n",
       "|0001f004-f3b9-479...|   9553| 48540087213| 2535.012136880364|    2021-03-24|\n",
       "|000334fe-7ab8-4e7...|   2438| 11240426404|161.65965550330247|    2021-05-01|\n",
       "|000a5afb-4c3b-458...|  14983| 33604812025|174.06729685924134|    2021-05-01|\n",
       "|000c6979-a96c-468...|   1221| 29323795999| 0.583128432753908|    2021-08-15|\n",
       "|0012083d-3d78-4a6...|  21522| 73121558118|  76.2031996487711|    2021-04-30|\n",
       "|0016c89c-7e71-4c2...|   9410| 95492562735|30.124085051663126|    2021-05-24|\n",
       "|0017b5e7-2cf3-494...|   2088| 87802246756|184.15325198043612|    2021-06-21|\n",
       "|001dab75-e07a-425...|   7020| 32234779638| 177.6279422305109|    2021-04-23|\n",
       "|00230efc-c131-498...|  20787| 63966446164|172.42893653118102|    2021-04-22|\n",
       "|0027f8ee-7129-40f...|   1138| 20562405782| 31.32315960689628|    2021-05-24|\n",
       "|0030f7a7-0684-45e...|    845| 29323795999|1.7872601666898336|    2021-05-14|\n",
       "|0034c517-9bfb-43e...|  23639| 32234779638| 9.457439051443544|    2021-03-10|\n",
       "|0034d05b-25f9-4d7...|  23072| 32234779638|14.686631400036264|    2021-03-15|\n",
       "|00369fe3-e440-483...|  14732| 28898261035|110.54599006339922|    2021-08-14|\n",
       "|0039b887-7d6e-47e...|  19283| 11240426404|  4.72616495440295|    2021-07-03|\n",
       "|003e21e2-ae03-4e8...|    114| 11240426404|52.888626601611584|    2021-06-30|\n",
       "|00429d0d-954b-4a4...|  13178| 29566626791| 45.12962647664366|    2021-07-04|\n",
       "|004e797b-468e-438...|  13340| 20562405782|166.77829375466837|    2021-08-03|\n",
       "|004efb90-3de9-413...|   5500| 93676909958|   3471.4180326622|    2021-05-28|\n",
       "+--------------------+-------+------------+------------------+--------------+\n",
       "only showing top 20 rows"
      ]
     },
     "execution_count": 11,
     "metadata": {},
     "output_type": "execute_result"
    }
   ],
   "source": [
    "dropped_transactions"
   ]
  },
  {
   "cell_type": "code",
   "execution_count": 12,
   "id": "5456d26b-bb95-4e35-9e50-875e1353901d",
   "metadata": {},
   "outputs": [
    {
     "name": "stderr",
     "output_type": "stream",
     "text": [
      "[Stage 123:=================================================>       (7 + 1) / 8]\r"
     ]
    },
    {
     "name": "stdout",
     "output_type": "stream",
     "text": [
      "+--------+-------+------------+------------+--------------+\n",
      "|order_id|user_id|merchant_abn|dollar_value|order_datetime|\n",
      "+--------+-------+------------+------------+--------------+\n",
      "+--------+-------+------------+------------+--------------+\n",
      "\n"
     ]
    }
   ],
   "source": [
    "print(dropped_transactions.filter(dropped_transactions.user_id > 24081))"
   ]
  },
  {
   "cell_type": "markdown",
   "id": "9d3b4207-3bd5-48f7-9bd2-eee396d28231",
   "metadata": {},
   "source": [
    "No transactions were dropped due to not having a valid user id."
   ]
  },
  {
   "cell_type": "code",
   "execution_count": 13,
   "id": "60512b02-32ea-476b-acdf-1b72d7ff7f67",
   "metadata": {},
   "outputs": [
    {
     "name": "stderr",
     "output_type": "stream",
     "text": [
      "                                                                                \r"
     ]
    },
    {
     "name": "stdout",
     "output_type": "stream",
     "text": [
      "395\n"
     ]
    },
    {
     "name": "stderr",
     "output_type": "stream",
     "text": [
      "                                                                                \r"
     ]
    },
    {
     "name": "stdout",
     "output_type": "stream",
     "text": [
      "+------------+-----+\n",
      "|merchant_abn|count|\n",
      "+------------+-----+\n",
      "| 10672322914|   64|\n",
      "| 11029341140|   11|\n",
      "| 11137507330| 1159|\n",
      "| 11240426404|31216|\n",
      "| 11358147682|   50|\n",
      "| 11400713351|   35|\n",
      "| 11839682616|  431|\n",
      "| 12959561070|    1|\n",
      "| 13129485817|    6|\n",
      "| 13177076095|  185|\n",
      "| 13226823813|  328|\n",
      "| 13289167958|    7|\n",
      "| 13494073581|   15|\n",
      "| 13868849576|  469|\n",
      "| 14827550074|  830|\n",
      "| 15058508937|   23|\n",
      "| 15073921424|   10|\n",
      "| 15699401518|  142|\n",
      "| 15862090061|  144|\n",
      "| 16496390781|   44|\n",
      "+------------+-----+\n",
      "only showing top 20 rows\n",
      "\n"
     ]
    },
    {
     "name": "stderr",
     "output_type": "stream",
     "text": [
      "[Stage 173:==================================================>      (8 + 1) / 9]\r"
     ]
    },
    {
     "name": "stdout",
     "output_type": "stream",
     "text": [
      "+------------+--------+-------+------------+--------------+------------+----+---------+------------+\n",
      "|merchant_abn|order_id|user_id|dollar_value|order_datetime|company_name|tags|take_rate|revenue_band|\n",
      "+------------+--------+-------+------------+--------------+------------+----+---------+------------+\n",
      "+------------+--------+-------+------------+--------------+------------+----+---------+------------+\n",
      "\n"
     ]
    },
    {
     "name": "stderr",
     "output_type": "stream",
     "text": [
      "                                                                                \r"
     ]
    }
   ],
   "source": [
    "print(dropped_transactions.groupby('merchant_abn').count().count())\n",
    "print(dropped_transactions.groupby('merchant_abn').count().sort('merchant_abn'))\n",
    "print(dropped_transactions.join(merchantdf, \"merchant_abn\"))"
   ]
  },
  {
   "cell_type": "markdown",
   "id": "7d2cdc7a-4d01-4b3f-a728-14cb8c78a01a",
   "metadata": {},
   "source": [
    "Therefore, all invalid transactions are shown to be dropped because they do not have a valid merchant_abn to link to. Maybe one might want to consider all these merchants as if they shared the same tag, however removing them would also seem sensible."
   ]
  },
  {
   "cell_type": "markdown",
   "id": "71d7e134-7089-45b7-b9b4-0ce01b342286",
   "metadata": {},
   "source": [
    "## Merchants"
   ]
  },
  {
   "cell_type": "code",
   "execution_count": 14,
   "id": "d818779b-9fd5-48dc-aa7c-4f47f2db3278",
   "metadata": {},
   "outputs": [
    {
     "name": "stderr",
     "output_type": "stream",
     "text": [
      "                                                                                \r"
     ]
    },
    {
     "data": {
      "text/html": [
       "<table border='1'>\n",
       "<tr><th>merchant_abn</th><th>company_name</th><th>tags</th><th>take_rate</th><th>revenue_band</th></tr>\n",
       "<tr><td>76866488151</td><td>Euismod Urna Company</td><td>antique shops - s...</td><td> 4.08</td><td> b</td></tr>\n",
       "<tr><td>46537010521</td><td>Tempor Augue Ac C...</td><td>jewelry, watch, c...</td><td> 2.18</td><td> c</td></tr>\n",
       "<tr><td>55555661470</td><td>Nullam Scelerisqu...</td><td>jewelry, watch, c...</td><td> 1.83</td><td> c</td></tr>\n",
       "<tr><td>28311306642</td><td>Egestas Nunc Sed LLC</td><td>antique shops - s...</td><td> 4.93</td><td> b</td></tr>\n",
       "<tr><td>47047735645</td><td>Aenean Gravida In...</td><td>antique shops - s...</td><td> 1.54</td><td> c</td></tr>\n",
       "<tr><td>55403018592</td><td>Elit Limited</td><td>antique shops - s...</td><td> 4.84</td><td> b</td></tr>\n",
       "<tr><td>93267734067</td><td>Curae Foundation</td><td>jewelry, watch, c...</td><td> 2.57</td><td> c</td></tr>\n",
       "</table>\n"
      ],
      "text/plain": [
       "+------------+--------------------+--------------------+---------+------------+\n",
       "|merchant_abn|        company_name|                tags|take_rate|revenue_band|\n",
       "+------------+--------------------+--------------------+---------+------------+\n",
       "| 76866488151|Euismod Urna Company|antique shops - s...|     4.08|           b|\n",
       "| 46537010521|Tempor Augue Ac C...|jewelry, watch, c...|     2.18|           c|\n",
       "| 55555661470|Nullam Scelerisqu...|jewelry, watch, c...|     1.83|           c|\n",
       "| 28311306642|Egestas Nunc Sed LLC|antique shops - s...|     4.93|           b|\n",
       "| 47047735645|Aenean Gravida In...|antique shops - s...|     1.54|           c|\n",
       "| 55403018592|        Elit Limited|antique shops - s...|     4.84|           b|\n",
       "| 93267734067|    Curae Foundation|jewelry, watch, c...|     2.57|           c|\n",
       "+------------+--------------------+--------------------+---------+------------+"
      ]
     },
     "execution_count": 14,
     "metadata": {},
     "output_type": "execute_result"
    }
   ],
   "source": [
    "no_transaction_merchants = merchantdf.join(sdf.groupby('merchant_abn').count(), 'merchant_abn', \"leftanti\")\n",
    "no_transaction_merchants"
   ]
  },
  {
   "cell_type": "markdown",
   "id": "4d905d8b-0382-4fd9-9796-e83271fe48e9",
   "metadata": {},
   "source": [
    "There are therefore 7 merchants in the merchant dataframe that do not have a single transaction present in the transactional database as of yet. Of interest is their shared tags, only being either antique shops or jewelry etc. stores. We don't really have to remove these per say, they will exist in case any future transactions released have transactions of these merchants. "
   ]
  }
 ],
 "metadata": {
  "kernelspec": {
   "display_name": "Python 3 (ipykernel)",
   "language": "python",
   "name": "python3"
  },
  "language_info": {
   "codemirror_mode": {
    "name": "ipython",
    "version": 3
   },
   "file_extension": ".py",
   "mimetype": "text/x-python",
   "name": "python",
   "nbconvert_exporter": "python",
   "pygments_lexer": "ipython3",
   "version": "3.8.10"
  }
 },
 "nbformat": 4,
 "nbformat_minor": 5
}
