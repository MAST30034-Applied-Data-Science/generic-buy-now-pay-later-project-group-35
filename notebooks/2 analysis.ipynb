{
 "cells": [
  {
   "cell_type": "code",
   "execution_count": 1,
   "id": "f935367d-cab0-4904-9bed-676c9eccd84b",
   "metadata": {
    "tags": []
   },
   "outputs": [
    {
     "name": "stdout",
     "output_type": "stream",
     "text": [
      "22/09/17 00:28:09 WARN Utils: Your hostname, AryansLaptop resolves to a loopback address: 127.0.1.1; using 172.28.42.139 instead (on interface eth0)\n",
      "22/09/17 00:28:09 WARN Utils: Set SPARK_LOCAL_IP if you need to bind to another address\n"
     ]
    },
    {
     "name": "stderr",
     "output_type": "stream",
     "text": [
      "Setting default log level to \"WARN\".\n",
      "To adjust logging level use sc.setLogLevel(newLevel). For SparkR, use setLogLevel(newLevel).\n"
     ]
    },
    {
     "name": "stdout",
     "output_type": "stream",
     "text": [
      "22/09/17 00:28:10 WARN NativeCodeLoader: Unable to load native-hadoop library for your platform... using builtin-java classes where applicable\n",
      "22/09/17 00:28:11 WARN Utils: Service 'SparkUI' could not bind on port 4040. Attempting port 4041.\n"
     ]
    }
   ],
   "source": [
    "from pyspark.sql import SparkSession\n",
    "from pyspark.sql.functions import * \n",
    "import matplotlib.pyplot as plt\n",
    "import pandas as pd\n",
    "import numpy as np\n",
    "\n",
    "# Create a spark session\n",
    "spark = (\n",
    "    SparkSession.builder.appName(\"analysis\")\n",
    "    .config(\"spark.sql.repl.eagerEval.enabled\", True) \n",
    "    .config(\"spark.sql.parquet.cacheMetadata\", \"true\")\n",
    "    .config(\"spark.sql.session.timeZone\", \"Etc/UTC\")\n",
    "    .config(\"spark.driver.memory\", \"2g\")\n",
    "    .config(\"spark.executor.memory\", \"6g\")\n",
    "    .getOrCreate()\n",
    ")"
   ]
  },
  {
   "cell_type": "code",
   "execution_count": 2,
   "id": "2a912ac0-9236-4e21-ac1c-2df70e658304",
   "metadata": {},
   "outputs": [
    {
     "name": "stderr",
     "output_type": "stream",
     "text": [
      "                                                                                \r"
     ]
    }
   ],
   "source": [
    "sdf = spark.read.parquet(\"../data/curated/mergedf.parquet/\")"
   ]
  },
  {
   "cell_type": "code",
   "execution_count": 3,
   "id": "8ef18bba-cfe7-4773-926b-2d626952ce53",
   "metadata": {},
   "outputs": [],
   "source": [
    "merchantdf = spark.read.parquet(\"../data/tables/tbl_merchants.parquet\")\n",
    "merchantdf = merchantdf.withColumnRenamed(\"name\",\"company_name\")\n",
    "\n",
    "# Replace all square brackets with round brackets\n",
    "merchantdf = merchantdf.withColumn('tags', regexp_replace('tags', '\\\\[', '\\\\('))\n",
    "merchantdf = merchantdf.withColumn('tags', regexp_replace('tags', '\\\\]', '\\\\)'))\n",
    "\n",
    "# Extract take rate into seperate column\n",
    "merchantdf = merchantdf.withColumn(\"take_rate\", \n",
    "                                   split(col(\"tags\"), \"\\\\),\").getItem(2))\\\n",
    "                       .withColumn('take_rate', \n",
    "                                   regexp_replace('take_rate', 'take rate: ', \n",
    "                                                  ''))\\\n",
    "                       .withColumn('take_rate', \n",
    "                                   regexp_replace('take_rate', '\\\\(', ''))\\\n",
    "                       .withColumn('take_rate', \n",
    "                                   regexp_replace('take_rate', '\\\\)', ''))\n",
    "\n",
    "# Extract revenue band\n",
    "merchantdf = merchantdf.withColumn(\"revenue_band\", \n",
    "                                   split(col(\"tags\"), \"\\\\),\").getItem(1))\\\n",
    "                       .withColumn('revenue_band', \n",
    "                                   regexp_replace('revenue_band', '\\\\(', ''))\\\n",
    "                       .withColumn('revenue_band', \n",
    "                                   regexp_replace('revenue_band', '\\\\)', ''))\n",
    "\n",
    "# Extract tags band\n",
    "merchantdf = merchantdf.withColumn(\"tags\", \n",
    "                                   split(col(\"tags\"), \"\\\\),\").getItem(0))\\\n",
    "                       .withColumn('tags', \n",
    "                                   regexp_replace('tags', '\\\\(', ''))\\\n",
    "                       .withColumn('tags', \n",
    "                                   regexp_replace('tags', '\\\\)', ''))\\\n",
    "                       .withColumn('tags', \n",
    "                                   regexp_replace('tags', ' +', ' '))\\\n",
    "                       .withColumn('tags', \n",
    "                                   lower('tags'))"
   ]
  },
  {
   "cell_type": "code",
   "execution_count": 4,
   "id": "b007233e-07f7-489d-a30a-ac292bb04bb5",
   "metadata": {},
   "outputs": [],
   "source": [
    "transactiondf1 = spark.read.parquet(\"../data/tables/transactions_20210228_20210827_snapshot/\")\n",
    "transactiondf2 = spark.read.parquet(\"../data/tables/transactions_20210828_20220227_snapshot/\")\n",
    "transactiondf = transactiondf1.union(transactiondf2)\n",
    "userdf = spark.read.parquet(\"../data/tables/consumer_user_details.parquet\")"
   ]
  },
  {
   "cell_type": "markdown",
   "id": "2d6e4d56-1f32-4751-a547-8abe152e9bf2",
   "metadata": {},
   "source": [
    "## Revenue Band"
   ]
  },
  {
   "cell_type": "code",
   "execution_count": 5,
   "id": "e9da8efa-35e1-4e11-9c1a-0b7cfa9d2aa4",
   "metadata": {},
   "outputs": [
    {
     "name": "stdout",
     "output_type": "stream",
     "text": [
      "  revenue_band  count\n",
      "0            a   1602\n",
      "1            b   1351\n",
      "2            c    922\n",
      "3            d     98\n",
      "4            e     53\n",
      "  revenue_band    count\n",
      "0            a  3509188\n",
      "1            b  2251496\n",
      "2            c  1909472\n",
      "3            d    78521\n",
      "4            e    69053\n"
     ]
    },
    {
     "data": {
      "text/plain": [
       "<AxesSubplot:title={'center':'Distribution of Merchant Revenue Bands'}, ylabel='count'>"
      ]
     },
     "execution_count": 5,
     "metadata": {},
     "output_type": "execute_result"
    },
    {
     "data": {
      "image/png": "[encoded data removed]",
      "text/plain": [
       "<Figure size 900x600 with 1 Axes>"
      ]
     },
     "metadata": {},
     "output_type": "display_data"
    },
    {
     "data": {
      "image/png": "[encoded data removed]",
      "text/plain": [
       "<Figure size 900x600 with 1 Axes>"
      ]
     },
     "metadata": {},
     "output_type": "display_data"
    }
   ],
   "source": [
    "## Revenue Band\n",
    "print(merchantdf.groupby('revenue_band').count().sort('revenue_band').toPandas())\n",
    "merchantdf.groupby('revenue_band').count().sort('revenue_band').toPandas().set_index('revenue_band')\\\n",
    ".plot(kind='pie', y='count', figsize=(9, 6), legend=True, title=\"Distribution of Merchant Revenue Bands\")\n",
    "\n",
    "## Now do all transactions have valid revenue bands?\n",
    "print(sdf.groupby('revenue_band').count().sort('revenue_band').toPandas())\n",
    "sdf.groupby('revenue_band').count().sort('revenue_band').toPandas().set_index('revenue_band')\\\n",
    ".plot(kind='pie', y='count', figsize=(9, 6), legend=True, title=\"Distribution of Merchant Revenue Bands\")"
   ]
  },
  {
   "cell_type": "markdown",
   "id": "2aea28f2-5f3d-469e-b47b-f89686373bb1",
   "metadata": {},
   "source": [
    "Even after splitting from the tags field, we do not see any invalid entries in the revenue band field. The majority of revenue bands lie between a-c, with d and e revenue bands clearly being reserved for the most extreme merchants. Overall the number of merchants decreases as you reach higher revenue bands."
   ]
  },
  {
   "cell_type": "markdown",
   "id": "83fa7895-34e3-4a98-8134-63f3b252236d",
   "metadata": {},
   "source": [
    "## Take Rate"
   ]
  },
  {
   "cell_type": "code",
   "execution_count": 6,
   "id": "2feef73e-a594-44a1-ac93-c4e6a5b45dd5",
   "metadata": {
    "tags": []
   },
   "outputs": [
    {
     "name": "stdout",
     "output_type": "stream",
     "text": [
      "           count\n",
      "take_rate       \n",
      "5.91        20.0\n",
      "5.73        19.0\n",
      "5.99        19.0\n",
      "6.43        19.0\n",
      "5.55        18.0\n",
      "5.62        17.0\n",
      "6.33        17.0\n",
      "5.68        16.0\n",
      "6.30        16.0\n",
      "5.64        16.0\n",
      "6.57        16.0\n",
      "5.65        15.0\n",
      "6.01        15.0\n",
      "5.71        15.0\n",
      "4.97        15.0\n",
      "6.26        14.0\n",
      "6.72        14.0\n",
      "6.42        14.0\n",
      "5.97        14.0\n",
      "3.61        14.0\n"
     ]
    },
    {
     "name": "stderr",
     "output_type": "stream",
     "text": [
      "                                                                                \r"
     ]
    },
    {
     "name": "stdout",
     "output_type": "stream",
     "text": [
      "              count\n",
      "take_rate          \n",
      "2.94       178872.0\n",
      "6.43       171107.0\n",
      "2.86       161561.0\n",
      "5.80       159912.0\n",
      "1.47       152054.0\n",
      "2.93       146435.0\n",
      "6.01       142947.0\n",
      "6.98       139087.0\n",
      "6.48       120560.0\n",
      "4.47       118167.0\n",
      "6.33        85179.0\n",
      "5.65        83699.0\n",
      "5.73        67659.0\n",
      "4.69        64976.0\n",
      "6.61        61360.0\n",
      "4.95        58971.0\n",
      "5.97        58761.0\n",
      "5.93        52668.0\n",
      "6.16        49903.0\n",
      "5.05        49661.0\n"
     ]
    },
    {
     "data": {
      "text/plain": [
       "Text(0, 0.5, 'Frequency')"
      ]
     },
     "execution_count": 6,
     "metadata": {},
     "output_type": "execute_result"
    },
    {
     "data": {
      "image/png": "[encoded data removed]",
      "text/plain": [
       "<Figure size 900x600 with 1 Axes>"
      ]
     },
     "metadata": {},
     "output_type": "display_data"
    },
    {
     "data": {
      "image/png": "[encoded data removed]",
      "text/plain": [
       "<Figure size 900x600 with 1 Axes>"
      ]
     },
     "metadata": {},
     "output_type": "display_data"
    }
   ],
   "source": [
    "takerate_df = pd.DataFrame({\"take_rate\":np.arange(0, 7.01, 0.01), \"count\": 0})\\\n",
    ".set_index(\"take_rate\")\n",
    "takerate_df['count'] = merchantdf.groupby('take_rate').count().sort('take_rate')\\\n",
    ".toPandas().astype({'take_rate':'float'}).set_index('take_rate')\n",
    "takerate_df = takerate_df.fillna(0)\n",
    "print(takerate_df.sort_values('count', ascending=False).head(20))\n",
    "\n",
    "fig, ax = plt.subplots(figsize=(9,6))\n",
    "ax.bar(takerate_df.index, takerate_df['count'], width=0.05)\n",
    "plt.xlabel('Take Rate')\n",
    "plt.ylabel('Frequency')\n",
    "plt.title('Frequency of Take Rates Among Merchants')\n",
    "\n",
    "\n",
    "## Now do all transactions have valid take rates?\n",
    "takerate_df = pd.DataFrame({\"take_rate\":np.arange(0, 7.01, 0.01), \"count\": 0})\\\n",
    ".set_index(\"take_rate\")\n",
    "takerate_df['count'] = sdf.groupby('take_rate').count().sort('take_rate')\\\n",
    ".toPandas().astype({'take_rate':'float'}).set_index('take_rate')\n",
    "takerate_df = takerate_df.fillna(0)\n",
    "print(takerate_df.sort_values('count', ascending=False).head(20))\n",
    "fig, ax = plt.subplots(figsize=(9,6))\n",
    "ax.bar(takerate_df.index, takerate_df['count'], width=0.05)\n",
    "plt.xlabel('Take Rate')\n",
    "plt.ylabel('Frequency')"
   ]
  },
  {
   "cell_type": "markdown",
   "id": "25e45436-502d-48fa-b170-36f0b838e1bf",
   "metadata": {},
   "source": [
    "There appears to be 3 distinct 'groups' in the distribution of take rate. The first comprising of very few merchants, which have a take rate between 0% and just over 1%. Rather logically, no merchants have a take rate of 0, and we don't see any nonsensical take rates either, such as negative take rates. \n",
    "\n",
    "The second group composes of merchants with a take take of just over 1% to roughly 5%. The number of merchants in this groups appears to have jumped significantly as compared to the previous group.\n",
    "\n",
    "We notice a rather interesting pattern in that no merchants appear to have a take rate between just over 5% and roughly 5.5%. This could have something to do with the method used to determine take rate? Could make sense particularly with what appears to be 3 clear groups. \n",
    "\n",
    "The final group contains merchants between 5.5% take rate, and what appears to be the maximum possible take rate of 7%.\n",
    "\n",
    "Finally, inside of each of the 3 groups, take rate appears to be uniformally distributed."
   ]
  },
  {
   "cell_type": "markdown",
   "id": "138ee57b-b400-4e63-93fd-d09e743c5014",
   "metadata": {},
   "source": [
    "## Tags"
   ]
  },
  {
   "cell_type": "code",
   "execution_count": 7,
   "id": "e13cdcfc-70ec-4771-8587-727ca5b5a421",
   "metadata": {
    "tags": []
   },
   "outputs": [
    {
     "name": "stdout",
     "output_type": "stream",
     "text": [
      "+-------------------------------------------------------------------------------------+-----+\n",
      "|tags                                                                                 |count|\n",
      "+-------------------------------------------------------------------------------------+-----+\n",
      "|antique shops - sales, repairs, and restoration services                             |129  |\n",
      "|art dealers and galleries                                                            |112  |\n",
      "|artist supply and craft shops                                                        |193  |\n",
      "|bicycle shops - sales and service                                                    |170  |\n",
      "|books, periodicals, and newspapers                                                   |164  |\n",
      "|cable, satellite, and other pay television and radio services                        |175  |\n",
      "|computer programming , data processing, and integrated systems design services       |191  |\n",
      "|computers, computer peripheral equipment, and software                               |181  |\n",
      "|digital goods: books, movies, music                                                  |195  |\n",
      "|equipment, tool, furniture, and appliance rent al and leasing                        |134  |\n",
      "|florists supplies, nursery stock, and flowers                                        |180  |\n",
      "|furniture, home furnishings and equipment shops, and manufacturers, except appliances|182  |\n",
      "|gift, card, novelty, and souvenir shops                                              |182  |\n",
      "|health and beauty spas                                                               |164  |\n",
      "|hobby, toy and game shops                                                            |142  |\n",
      "|jewelry, watch, clock, and silverware shops                                          |91   |\n",
      "|lawn and garden supply outlets, including nurseries                                  |153  |\n",
      "|motor vehicle supplies and new parts                                                 |151  |\n",
      "|music shops - musical instruments, pianos, and sheet music                           |167  |\n",
      "|opticians, optical goods, and eyeglasses                                             |151  |\n",
      "|shoe shops                                                                           |185  |\n",
      "|stationery, office supplies and printing and writing paper                           |161  |\n",
      "|telecom                                                                              |125  |\n",
      "|tent and awning shops                                                                |178  |\n",
      "|watch, clock, and jewelry repair shops                                               |170  |\n",
      "+-------------------------------------------------------------------------------------+-----+\n",
      "\n",
      "+-------------------------------------------------------------------------------------+-------+\n",
      "|tags                                                                                 |count  |\n",
      "+-------------------------------------------------------------------------------------+-------+\n",
      "|antique shops - sales, repairs, and restoration services                             |102617 |\n",
      "|art dealers and galleries                                                            |12314  |\n",
      "|artist supply and craft shops                                                        |270701 |\n",
      "|bicycle shops - sales and service                                                    |128896 |\n",
      "|books, periodicals, and newspapers                                                   |226658 |\n",
      "|cable, satellite, and other pay television and radio services                        |550269 |\n",
      "|computer programming , data processing, and integrated systems design services       |297667 |\n",
      "|computers, computer peripheral equipment, and software                               |412496 |\n",
      "|digital goods: books, movies, music                                                  |738378 |\n",
      "|equipment, tool, furniture, and appliance rent al and leasing                        |21001  |\n",
      "|florists supplies, nursery stock, and flowers                                        |506390 |\n",
      "|furniture, home furnishings and equipment shops, and manufacturers, except appliances|286160 |\n",
      "|gift, card, novelty, and souvenir shops                                              |940938 |\n",
      "|health and beauty spas                                                               |140986 |\n",
      "|hobby, toy and game shops                                                            |135298 |\n",
      "|jewelry, watch, clock, and silverware shops                                          |2830   |\n",
      "|lawn and garden supply outlets, including nurseries                                  |199443 |\n",
      "|motor vehicle supplies and new parts                                                 |176234 |\n",
      "|music shops - musical instruments, pianos, and sheet music                           |182653 |\n",
      "|opticians, optical goods, and eyeglasses                                             |484407 |\n",
      "|shoe shops                                                                           |247929 |\n",
      "|stationery, office supplies and printing and writing paper                           |98566  |\n",
      "|telecom                                                                              |19697  |\n",
      "|tent and awning shops                                                                |1042376|\n",
      "|watch, clock, and jewelry repair shops                                               |592826 |\n",
      "+-------------------------------------------------------------------------------------+-------+\n",
      "\n"
     ]
    }
   ],
   "source": [
    "merchantdf.groupby('tags').count().sort('tags').count()\n",
    "merchantdf.groupby('tags').count().sort('tags').show(100, truncate=False)\n",
    "\n",
    "# Now for transactions\n",
    "sdf.groupby('tags').count().sort('tags').show(100, truncate=False)"
   ]
  },
  {
   "cell_type": "markdown",
   "id": "27575e30-08e3-4243-975b-744c0cb597fc",
   "metadata": {},
   "source": [
    "After cleaning up the field, there are actually only 25 different unique values for tags, with these being fairly evenly distributed amongst merchants. This is a fairly interesting finding, since it was at first thought that this field was unique to each vendor, particularly given its nature as being a field manually entered\n",
    "\n",
    "The maximum count shows 195 merchants with tag 'digital goods: books, movies, music' and minimum count shows 91 merchants with tag 'jewelry, watch, clock and silverware shops'.\n",
    "\n",
    "Viewing the occurences of these tags in transactions instead reveals certain tags are associated with more/less frequent transactions. For example, 'jewelry, watch, clock, and silverware shops' merchants are seen to have by far the least frequent amount of transaction as opposed to 'tent and awning shops' which have the most by far."
   ]
  },
  {
   "cell_type": "markdown",
   "id": "6caa2d40-0b45-402f-a7dc-441c308b5af7",
   "metadata": {},
   "source": [
    "# Consumer ID/User ID"
   ]
  },
  {
   "cell_type": "code",
   "execution_count": 8,
   "id": "1e250e60-da9c-4a07-b088-b4b508272e32",
   "metadata": {},
   "outputs": [
    {
     "name": "stdout",
     "output_type": "stream",
     "text": [
      "+-----------+-----+\n",
      "|consumer_id|count|\n",
      "+-----------+-----+\n",
      "|     367113|    1|\n",
      "|    1255411|    1|\n",
      "|     999838|    1|\n",
      "|    1406677|    1|\n",
      "|     331653|    1|\n",
      "|     105297|    1|\n",
      "|     893193|    1|\n",
      "|    1093060|    1|\n",
      "|     147768|    1|\n",
      "|     194306|    1|\n",
      "|    1402299|    1|\n",
      "|     393166|    1|\n",
      "|    1471150|    1|\n",
      "|     615626|    1|\n",
      "|      78271|    1|\n",
      "|     467704|    1|\n",
      "|     832715|    1|\n",
      "|     168801|    1|\n",
      "|      61300|    1|\n",
      "|    1253794|    1|\n",
      "+-----------+-----+\n",
      "only showing top 20 rows\n",
      "\n",
      "499999\n",
      "+-------+-----+\n",
      "|user_id|count|\n",
      "+-------+-----+\n",
      "|     41|    1|\n",
      "|    499|    1|\n",
      "|    907|    1|\n",
      "|   1085|    1|\n",
      "|   1114|    1|\n",
      "|   1273|    1|\n",
      "|   1473|    1|\n",
      "|   1574|    1|\n",
      "|   1689|    1|\n",
      "|   1695|    1|\n",
      "|   1716|    1|\n",
      "|   1783|    1|\n",
      "|   2051|    1|\n",
      "|   2171|    1|\n",
      "|   2474|    1|\n",
      "|   2556|    1|\n",
      "|   2825|    1|\n",
      "|   2935|    1|\n",
      "|   3017|    1|\n",
      "|   3108|    1|\n",
      "+-------+-----+\n",
      "only showing top 20 rows\n",
      "\n",
      "499999\n"
     ]
    },
    {
     "name": "stderr",
     "output_type": "stream",
     "text": [
      "                                                                                \r"
     ]
    },
    {
     "name": "stdout",
     "output_type": "stream",
     "text": [
      "24081\n",
      "+-------+-----+\n",
      "|user_id|count|\n",
      "+-------+-----+\n",
      "|  11982|  285|\n",
      "|  22367|  286|\n",
      "|   8755|  289|\n",
      "|   4760|  290|\n",
      "|   2713|  291|\n",
      "|  23378|  292|\n",
      "|  21598|  292|\n",
      "|   4794|  292|\n",
      "|  17995|  294|\n",
      "|   9026|  294|\n",
      "|   5989|  295|\n",
      "|   6183|  295|\n",
      "|  16332|  296|\n",
      "|  13052|  296|\n",
      "|   2150|  296|\n",
      "|   1510|  296|\n",
      "|   8905|  296|\n",
      "|  12950|  297|\n",
      "|  20629|  297|\n",
      "|  13951|  297|\n",
      "+-------+-----+\n",
      "only showing top 20 rows\n",
      "\n"
     ]
    }
   ],
   "source": [
    "print(userdf.groupby('consumer_id').count().sort(desc('count')))\n",
    "print(userdf.groupby('consumer_id').count().sort(desc('count')).count())\n",
    "print(userdf.groupby('user_id').count().sort(desc('count')))\n",
    "print(userdf.groupby('user_id').count().sort(desc('count')).count())\n",
    "print(transactiondf.groupby('user_id').count().sort('user_id').count())\n",
    "print(transactiondf.groupby('user_id').count().sort('count'))"
   ]
  },
  {
   "cell_type": "markdown",
   "id": "3af6320f-c33d-4c06-ae03-490ada4b3572",
   "metadata": {},
   "source": [
    "There are no problems caused by joining this table (apart from the strange inclusion of a surrogate key). This table simply maps all user_ids from 0-499999 to some consumer_id. However, in the data given only user_ids up to 24,081 actually have at least 1 valid transaction in the dataset, meaning many of these mappings appear to go unused."
   ]
  },
  {
   "cell_type": "markdown",
   "id": "9a0aeb22-8448-4b78-b7ce-2cd312e19072",
   "metadata": {},
   "source": [
    "## Invalid Transactions"
   ]
  },
  {
   "cell_type": "code",
   "execution_count": 9,
   "id": "76ed9ecd-841f-481d-89e9-723b20100eb0",
   "metadata": {},
   "outputs": [
    {
     "name": "stdout",
     "output_type": "stream",
     "text": [
      "333642\n"
     ]
    }
   ],
   "source": [
    "print(transactiondf.count() - sdf.count())"
   ]
  },
  {
   "cell_type": "markdown",
   "id": "11e9d8d7-dc64-486d-87a7-052c175f1d72",
   "metadata": {
    "tags": []
   },
   "source": [
    "By simply joining all tables to the transaction table via the relevant foreign keys, any transaction which can't be joined for some reason will be discarded. As seen above, this would mean that 333,642 transactions (as of the end of Week 2 data) would be simply discarded without our knowledge."
   ]
  },
  {
   "cell_type": "code",
   "execution_count": 10,
   "id": "e349fe74-31ee-41c1-a8c2-08f1fc45d5ec",
   "metadata": {},
   "outputs": [
    {
     "name": "stderr",
     "output_type": "stream",
     "text": [
      "                                                                                \r"
     ]
    },
    {
     "data": {
      "text/plain": [
       "333642"
      ]
     },
     "execution_count": 10,
     "metadata": {},
     "output_type": "execute_result"
    }
   ],
   "source": [
    "dropped_transactions = transactiondf.join(sdf, 'order_id', \"leftanti\")\n",
    "dropped_transactions.count()"
   ]
  },
  {
   "cell_type": "code",
   "execution_count": 11,
   "id": "e18ea4ae-9c05-44b9-b137-5ff79eb85227",
   "metadata": {
    "tags": []
   },
   "outputs": [
    {
     "name": "stderr",
     "output_type": "stream",
     "text": [
      "                                                                                \r"
     ]
    },
    {
     "data": {
      "text/html": [
       "<table border='1'>\n",
       "<tr><th>order_id</th><th>user_id</th><th>merchant_abn</th><th>dollar_value</th><th>order_datetime</th></tr>\n",
       "<tr><td>00010154-c8c6-492...</td><td>14132</td><td>43820812476</td><td>145.7508223047609</td><td>2021-04-03</td></tr>\n",
       "<tr><td>0001f004-f3b9-479...</td><td>9553</td><td>48540087213</td><td>2535.012136880364</td><td>2021-03-24</td></tr>\n",
       "<tr><td>000334fe-7ab8-4e7...</td><td>2438</td><td>11240426404</td><td>161.65965550330247</td><td>2021-05-01</td></tr>\n",
       "<tr><td>000a5afb-4c3b-458...</td><td>14983</td><td>33604812025</td><td>174.06729685924134</td><td>2021-05-01</td></tr>\n",
       "<tr><td>000c6979-a96c-468...</td><td>1221</td><td>29323795999</td><td>0.583128432753908</td><td>2021-08-15</td></tr>\n",
       "<tr><td>0012083d-3d78-4a6...</td><td>21522</td><td>73121558118</td><td>76.2031996487711</td><td>2021-04-30</td></tr>\n",
       "<tr><td>0016c89c-7e71-4c2...</td><td>9410</td><td>95492562735</td><td>30.124085051663126</td><td>2021-05-24</td></tr>\n",
       "<tr><td>0017b5e7-2cf3-494...</td><td>2088</td><td>87802246756</td><td>184.15325198043612</td><td>2021-06-21</td></tr>\n",
       "<tr><td>001dab75-e07a-425...</td><td>7020</td><td>32234779638</td><td>177.6279422305109</td><td>2021-04-23</td></tr>\n",
       "<tr><td>00230efc-c131-498...</td><td>20787</td><td>63966446164</td><td>172.42893653118102</td><td>2021-04-22</td></tr>\n",
       "<tr><td>0027f8ee-7129-40f...</td><td>1138</td><td>20562405782</td><td>31.32315960689628</td><td>2021-05-24</td></tr>\n",
       "<tr><td>0030f7a7-0684-45e...</td><td>845</td><td>29323795999</td><td>1.7872601666898336</td><td>2021-05-14</td></tr>\n",
       "<tr><td>0034c517-9bfb-43e...</td><td>23639</td><td>32234779638</td><td>9.457439051443544</td><td>2021-03-10</td></tr>\n",
       "<tr><td>0034d05b-25f9-4d7...</td><td>23072</td><td>32234779638</td><td>14.686631400036264</td><td>2021-03-15</td></tr>\n",
       "<tr><td>00369fe3-e440-483...</td><td>14732</td><td>28898261035</td><td>110.54599006339922</td><td>2021-08-14</td></tr>\n",
       "<tr><td>0039b887-7d6e-47e...</td><td>19283</td><td>11240426404</td><td>4.72616495440295</td><td>2021-07-03</td></tr>\n",
       "<tr><td>003e21e2-ae03-4e8...</td><td>114</td><td>11240426404</td><td>52.888626601611584</td><td>2021-06-30</td></tr>\n",
       "<tr><td>00429d0d-954b-4a4...</td><td>13178</td><td>29566626791</td><td>45.12962647664366</td><td>2021-07-04</td></tr>\n",
       "<tr><td>004e797b-468e-438...</td><td>13340</td><td>20562405782</td><td>166.77829375466837</td><td>2021-08-03</td></tr>\n",
       "<tr><td>004efb90-3de9-413...</td><td>5500</td><td>93676909958</td><td>3471.4180326622</td><td>2021-05-28</td></tr>\n",
       "</table>\n",
       "only showing top 20 rows\n"
      ],
      "text/plain": [
       "+--------------------+-------+------------+------------------+--------------+\n",
       "|            order_id|user_id|merchant_abn|      dollar_value|order_datetime|\n",
       "+--------------------+-------+------------+------------------+--------------+\n",
       "|00010154-c8c6-492...|  14132| 43820812476| 145.7508223047609|    2021-04-03|\n",
       "|0001f004-f3b9-479...|   9553| 48540087213| 2535.012136880364|    2021-03-24|\n",
       "|000334fe-7ab8-4e7...|   2438| 11240426404|161.65965550330247|    2021-05-01|\n",
       "|000a5afb-4c3b-458...|  14983| 33604812025|174.06729685924134|    2021-05-01|\n",
       "|000c6979-a96c-468...|   1221| 29323795999| 0.583128432753908|    2021-08-15|\n",
       "|0012083d-3d78-4a6...|  21522| 73121558118|  76.2031996487711|    2021-04-30|\n",
       "|0016c89c-7e71-4c2...|   9410| 95492562735|30.124085051663126|    2021-05-24|\n",
       "|0017b5e7-2cf3-494...|   2088| 87802246756|184.15325198043612|    2021-06-21|\n",
       "|001dab75-e07a-425...|   7020| 32234779638| 177.6279422305109|    2021-04-23|\n",
       "|00230efc-c131-498...|  20787| 63966446164|172.42893653118102|    2021-04-22|\n",
       "|0027f8ee-7129-40f...|   1138| 20562405782| 31.32315960689628|    2021-05-24|\n",
       "|0030f7a7-0684-45e...|    845| 29323795999|1.7872601666898336|    2021-05-14|\n",
       "|0034c517-9bfb-43e...|  23639| 32234779638| 9.457439051443544|    2021-03-10|\n",
       "|0034d05b-25f9-4d7...|  23072| 32234779638|14.686631400036264|    2021-03-15|\n",
       "|00369fe3-e440-483...|  14732| 28898261035|110.54599006339922|    2021-08-14|\n",
       "|0039b887-7d6e-47e...|  19283| 11240426404|  4.72616495440295|    2021-07-03|\n",
       "|003e21e2-ae03-4e8...|    114| 11240426404|52.888626601611584|    2021-06-30|\n",
       "|00429d0d-954b-4a4...|  13178| 29566626791| 45.12962647664366|    2021-07-04|\n",
       "|004e797b-468e-438...|  13340| 20562405782|166.77829375466837|    2021-08-03|\n",
       "|004efb90-3de9-413...|   5500| 93676909958|   3471.4180326622|    2021-05-28|\n",
       "+--------------------+-------+------------+------------------+--------------+\n",
       "only showing top 20 rows"
      ]
     },
     "execution_count": 11,
     "metadata": {},
     "output_type": "execute_result"
    }
   ],
   "source": [
    "dropped_transactions"
   ]
  },
  {
   "cell_type": "code",
   "execution_count": 12,
   "id": "5456d26b-bb95-4e35-9e50-875e1353901d",
   "metadata": {},
   "outputs": [
    {
     "name": "stderr",
     "output_type": "stream",
     "text": [
      "[Stage 127:>              (0 + 16) / 17][Stage 128:>               (0 + 0) / 16]\r"
     ]
    },
    {
     "name": "stdout",
     "output_type": "stream",
     "text": [
      "+--------+-------+------------+------------+--------------+\n",
      "|order_id|user_id|merchant_abn|dollar_value|order_datetime|\n",
      "+--------+-------+------------+------------+--------------+\n",
      "+--------+-------+------------+------------+--------------+\n",
      "\n"
     ]
    },
    {
     "name": "stderr",
     "output_type": "stream",
     "text": [
      "[Stage 127:=============> (15 + 2) / 17][Stage 128:=============> (14 + 2) / 16]\r"
     ]
    }
   ],
   "source": [
    "print(dropped_transactions.filter(dropped_transactions.user_id > 24081))"
   ]
  },
  {
   "cell_type": "markdown",
   "id": "9d3b4207-3bd5-48f7-9bd2-eee396d28231",
   "metadata": {},
   "source": [
    "All transactions appear to have a valid user id."
   ]
  },
  {
   "cell_type": "code",
   "execution_count": 13,
   "id": "60512b02-32ea-476b-acdf-1b72d7ff7f67",
   "metadata": {},
   "outputs": [
    {
     "name": "stderr",
     "output_type": "stream",
     "text": [
      "                                                                                \r"
     ]
    },
    {
     "name": "stdout",
     "output_type": "stream",
     "text": [
      "395\n"
     ]
    },
    {
     "name": "stderr",
     "output_type": "stream",
     "text": [
      "[Stage 153:===>                                                   (1 + 16) / 18]\r"
     ]
    },
    {
     "name": "stdout",
     "output_type": "stream",
     "text": [
      "22/09/17 00:28:52 WARN RowBasedKeyValueBatch: Calling spill() on RowBasedKeyValueBatch. Will not spill but return 0.\n",
      "22/09/17 00:28:52 WARN RowBasedKeyValueBatch: Calling spill() on RowBasedKeyValueBatch. Will not spill but return 0.\n",
      "22/09/17 00:28:52 WARN RowBasedKeyValueBatch: Calling spill() on RowBasedKeyValueBatch. Will not spill but return 0.\n",
      "22/09/17 00:28:52 WARN RowBasedKeyValueBatch: Calling spill() on RowBasedKeyValueBatch. Will not spill but return 0.\n",
      "22/09/17 00:28:52 WARN RowBasedKeyValueBatch: Calling spill() on RowBasedKeyValueBatch. Will not spill but return 0.\n",
      "22/09/17 00:28:52 WARN RowBasedKeyValueBatch: Calling spill() on RowBasedKeyValueBatch. Will not spill but return 0.\n",
      "22/09/17 00:28:52 WARN RowBasedKeyValueBatch: Calling spill() on RowBasedKeyValueBatch. Will not spill but return 0.\n",
      "22/09/17 00:28:52 WARN RowBasedKeyValueBatch: Calling spill() on RowBasedKeyValueBatch. Will not spill but return 0.\n",
      "22/09/17 00:28:52 WARN RowBasedKeyValueBatch: Calling spill() on RowBasedKeyValueBatch. Will not spill but return 0.\n",
      "22/09/17 00:28:52 WARN RowBasedKeyValueBatch: Calling spill() on RowBasedKeyValueBatch. Will not spill but return 0.\n",
      "22/09/17 00:28:52 WARN RowBasedKeyValueBatch: Calling spill() on RowBasedKeyValueBatch. Will not spill but return 0.\n",
      "22/09/17 00:28:52 WARN RowBasedKeyValueBatch: Calling spill() on RowBasedKeyValueBatch. Will not spill but return 0.\n",
      "22/09/17 00:28:52 WARN RowBasedKeyValueBatch: Calling spill() on RowBasedKeyValueBatch. Will not spill but return 0.\n",
      "22/09/17 00:28:52 WARN RowBasedKeyValueBatch: Calling spill() on RowBasedKeyValueBatch. Will not spill but return 0.\n",
      "22/09/17 00:28:52 WARN RowBasedKeyValueBatch: Calling spill() on RowBasedKeyValueBatch. Will not spill but return 0.\n",
      "22/09/17 00:28:52 WARN RowBasedKeyValueBatch: Calling spill() on RowBasedKeyValueBatch. Will not spill but return 0.\n",
      "22/09/17 00:28:52 WARN RowBasedKeyValueBatch: Calling spill() on RowBasedKeyValueBatch. Will not spill but return 0.\n",
      "22/09/17 00:28:52 WARN RowBasedKeyValueBatch: Calling spill() on RowBasedKeyValueBatch. Will not spill but return 0.\n",
      "22/09/17 00:28:52 WARN RowBasedKeyValueBatch: Calling spill() on RowBasedKeyValueBatch. Will not spill but return 0.\n",
      "22/09/17 00:28:52 WARN RowBasedKeyValueBatch: Calling spill() on RowBasedKeyValueBatch. Will not spill but return 0.\n",
      "22/09/17 00:28:52 WARN RowBasedKeyValueBatch: Calling spill() on RowBasedKeyValueBatch. Will not spill but return 0.\n",
      "22/09/17 00:28:53 WARN RowBasedKeyValueBatch: Calling spill() on RowBasedKeyValueBatch. Will not spill but return 0.\n",
      "22/09/17 00:28:53 WARN RowBasedKeyValueBatch: Calling spill() on RowBasedKeyValueBatch. Will not spill but return 0.\n",
      "22/09/17 00:28:53 WARN RowBasedKeyValueBatch: Calling spill() on RowBasedKeyValueBatch. Will not spill but return 0.\n"
     ]
    },
    {
     "name": "stderr",
     "output_type": "stream",
     "text": [
      "                                                                                \r"
     ]
    },
    {
     "name": "stdout",
     "output_type": "stream",
     "text": [
      "+------------+-----+\n",
      "|merchant_abn|count|\n",
      "+------------+-----+\n",
      "| 10672322914|   64|\n",
      "| 11029341140|   11|\n",
      "| 11137507330| 1159|\n",
      "| 11240426404|31216|\n",
      "| 11358147682|   50|\n",
      "| 11400713351|   35|\n",
      "| 11839682616|  431|\n",
      "| 12959561070|    1|\n",
      "| 13129485817|    6|\n",
      "| 13177076095|  185|\n",
      "| 13226823813|  328|\n",
      "| 13289167958|    7|\n",
      "| 13494073581|   15|\n",
      "| 13868849576|  469|\n",
      "| 14827550074|  830|\n",
      "| 15058508937|   23|\n",
      "| 15073921424|   10|\n",
      "| 15699401518|  142|\n",
      "| 15862090061|  144|\n",
      "| 16496390781|   44|\n",
      "+------------+-----+\n",
      "only showing top 20 rows\n",
      "\n"
     ]
    },
    {
     "name": "stderr",
     "output_type": "stream",
     "text": [
      "                                                                                \r"
     ]
    },
    {
     "name": "stdout",
     "output_type": "stream",
     "text": [
      "+------------+--------+-------+------------+--------------+------------+----+---------+------------+\n",
      "|merchant_abn|order_id|user_id|dollar_value|order_datetime|company_name|tags|take_rate|revenue_band|\n",
      "+------------+--------+-------+------------+--------------+------------+----+---------+------------+\n",
      "+------------+--------+-------+------------+--------------+------------+----+---------+------------+\n",
      "\n"
     ]
    },
    {
     "name": "stderr",
     "output_type": "stream",
     "text": [
      "                                                                                \r"
     ]
    }
   ],
   "source": [
    "print(dropped_transactions.groupby('merchant_abn').count().count())\n",
    "print(dropped_transactions.groupby('merchant_abn').count().sort('merchant_abn'))\n",
    "print(dropped_transactions.join(merchantdf, \"merchant_abn\"))"
   ]
  },
  {
   "cell_type": "markdown",
   "id": "7d2cdc7a-4d01-4b3f-a728-14cb8c78a01a",
   "metadata": {},
   "source": [
    "Therefore, all invalid transactions are shown to be dropped because they do not have a valid merchant_abn to link to. Maybe one might want to consider all these merchants as if they shared the same tag, however removing them would also seem sensible."
   ]
  },
  {
   "cell_type": "markdown",
   "id": "71d7e134-7089-45b7-b9b4-0ce01b342286",
   "metadata": {},
   "source": [
    "## Merchants"
   ]
  },
  {
   "cell_type": "code",
   "execution_count": 14,
   "id": "d818779b-9fd5-48dc-aa7c-4f47f2db3278",
   "metadata": {},
   "outputs": [
    {
     "data": {
      "text/html": [
       "<table border='1'>\n",
       "<tr><th>merchant_abn</th><th>company_name</th><th>tags</th><th>take_rate</th><th>revenue_band</th></tr>\n",
       "<tr><td>76866488151</td><td>Euismod Urna Company</td><td>antique shops - s...</td><td> 4.08</td><td> b</td></tr>\n",
       "<tr><td>46537010521</td><td>Tempor Augue Ac C...</td><td>jewelry, watch, c...</td><td> 2.18</td><td> c</td></tr>\n",
       "<tr><td>55555661470</td><td>Nullam Scelerisqu...</td><td>jewelry, watch, c...</td><td> 1.83</td><td> c</td></tr>\n",
       "<tr><td>28311306642</td><td>Egestas Nunc Sed LLC</td><td>antique shops - s...</td><td> 4.93</td><td> b</td></tr>\n",
       "<tr><td>47047735645</td><td>Aenean Gravida In...</td><td>antique shops - s...</td><td> 1.54</td><td> c</td></tr>\n",
       "<tr><td>55403018592</td><td>Elit Limited</td><td>antique shops - s...</td><td> 4.84</td><td> b</td></tr>\n",
       "<tr><td>93267734067</td><td>Curae Foundation</td><td>jewelry, watch, c...</td><td> 2.57</td><td> c</td></tr>\n",
       "</table>\n"
      ],
      "text/plain": [
       "+------------+--------------------+--------------------+---------+------------+\n",
       "|merchant_abn|        company_name|                tags|take_rate|revenue_band|\n",
       "+------------+--------------------+--------------------+---------+------------+\n",
       "| 76866488151|Euismod Urna Company|antique shops - s...|     4.08|           b|\n",
       "| 46537010521|Tempor Augue Ac C...|jewelry, watch, c...|     2.18|           c|\n",
       "| 55555661470|Nullam Scelerisqu...|jewelry, watch, c...|     1.83|           c|\n",
       "| 28311306642|Egestas Nunc Sed LLC|antique shops - s...|     4.93|           b|\n",
       "| 47047735645|Aenean Gravida In...|antique shops - s...|     1.54|           c|\n",
       "| 55403018592|        Elit Limited|antique shops - s...|     4.84|           b|\n",
       "| 93267734067|    Curae Foundation|jewelry, watch, c...|     2.57|           c|\n",
       "+------------+--------------------+--------------------+---------+------------+"
      ]
     },
     "execution_count": 14,
     "metadata": {},
     "output_type": "execute_result"
    }
   ],
   "source": [
    "no_transaction_merchants = merchantdf.join(sdf.groupby('merchant_abn').count(), 'merchant_abn', \"leftanti\")\n",
    "no_transaction_merchants"
   ]
  },
  {
   "cell_type": "markdown",
   "id": "4d905d8b-0382-4fd9-9796-e83271fe48e9",
   "metadata": {},
   "source": [
    "There are therefore 7 merchants in the merchant dataframe that do not have a single transaction present in the transactional database as of yet. Of interest is their shared tags, only being either antique shops or jewelry etc. stores. We don't really have to remove these per say, they will exist in case any future transactions released have transactions of these merchants. "
   ]
  },
  {
   "cell_type": "code",
   "execution_count": 15,
   "id": "72363c14-c141-4853-afbd-fa7dc4b9444d",
   "metadata": {},
   "outputs": [],
   "source": [
    "## External Dataset Sources"
   ]
  },
  {
   "cell_type": "markdown",
   "id": "eccc4732-73af-45e3-8052-e13265e27dfa",
   "metadata": {
    "tags": []
   },
   "source": [
    "SA2 Shapefile: https://www.abs.gov.au/statistics/standards/australian-statistical-geography-standard-asgs-edition-3/jul2021-jun2026/access-and-downloads/digital-boundary-files\n"
   ]
  },
  {
   "cell_type": "markdown",
   "id": "24979ccb-2ba6-4d6a-87b1-a25ae34bb21d",
   "metadata": {},
   "source": [
    "SA2 + Postcode dataset = https://www.matthewproctor.com/australian_postcodes?simple=True "
   ]
  },
  {
   "cell_type": "markdown",
   "id": "f7932205-1491-4a7e-9c9a-6fda9be64784",
   "metadata": {},
   "source": [
    "External income dataset = https://data.aurin.org.au/dataset/au-govt-abs-abs-personal-income-total-income-sa2-2011-2018-sa2-2016"
   ]
  },
  {
   "cell_type": "markdown",
   "id": "d6abe501-bbfc-4bdb-bcb9-8cb2528731dc",
   "metadata": {},
   "source": [
    "## Postcodes (JAI: needa have a script download postcode file)"
   ]
  },
  {
   "cell_type": "code",
   "execution_count": 16,
   "id": "2a5ab6d4-00e9-42bf-9a40-4a11667ebe34",
   "metadata": {},
   "outputs": [
    {
     "name": "stdout",
     "output_type": "stream",
     "text": [
      "22/09/17 00:29:02 WARN package: Truncated the string representation of a plan since it was too large. This behavior can be adjusted by setting 'spark.sql.debug.maxToStringFields'.\n"
     ]
    },
    {
     "data": {
      "text/html": [
       "<table border='1'>\n",
       "<tr><th>id</th><th>postcode</th><th>locality</th><th>state</th><th>long</th><th>lat</th><th>dc</th><th>type</th><th>status</th><th>sa3</th><th>sa3name</th><th>sa4</th><th>sa4name</th><th>region</th><th>Lat_precise</th><th>Long_precise</th><th>SA1_MAINCODE_2011</th><th>SA1_MAINCODE_2016</th><th>SA2_MAINCODE_2016</th><th>SA2_NAME_2016</th><th>SA3_CODE_2016</th><th>SA3_NAME_2016</th><th>SA4_CODE_2016</th><th>SA4_NAME_2016</th><th>RA_2011</th><th>RA_2016</th><th>MMM_2015</th><th>MMM_2019</th><th>ced</th><th>altitude</th><th>chargezone</th><th>phn_code</th><th>phn_name</th><th>lgaregion</th><th>electorate</th><th>electoraterating</th></tr>\n",
       "<tr><td>230</td><td>0200</td><td>ANU</td><td>ACT</td><td>149.119</td><td>-35.2777</td><td>null</td><td>null</td><td>null</td><td>null</td><td>null</td><td>null</td><td>null</td><td>R1</td><td>-35.2777</td><td>149.119</td><td>80105104901</td><td>80105104901</td><td>801051049</td><td>Acton</td><td>80105</td><td>North Canberra</td><td>801</td><td>Australian Capita...</td><td>1</td><td>1</td><td>1</td><td>1</td><td>null</td><td>null</td><td>N2</td><td>null</td><td>null</td><td>null</td><td>Durack</td><td>null</td></tr>\n",
       "<tr><td>21820</td><td>0200</td><td>Australian Nation...</td><td>ACT</td><td>149.1189</td><td>-35.2777</td><td>null</td><td>null</td><td>Added 19-Jan-2020</td><td>null</td><td>null</td><td>null</td><td>null</td><td>R1</td><td>-35.2776999</td><td>149.118527</td><td>80105104901</td><td>80105104901</td><td>801051049</td><td>Acton</td><td>80105</td><td>North Canberra</td><td>801</td><td>Australian Capita...</td><td>1</td><td>1</td><td>1</td><td>1</td><td>null</td><td>null</td><td>N2</td><td>null</td><td>null</td><td>null</td><td>Durack</td><td>null</td></tr>\n",
       "<tr><td>232</td><td>0800</td><td>DARWIN</td><td>NT</td><td>130.83668</td><td>-12.458684</td><td>null</td><td>null</td><td>Updated 6-Feb-2020</td><td>70101</td><td>Darwin City</td><td>701</td><td>Darwin</td><td>R1</td><td>-12.3932794</td><td>130.7766611</td><td>70101100203</td><td>70101100218</td><td>701011002</td><td>Darwin City</td><td>70101</td><td>Darwin City</td><td>701</td><td>Darwin</td><td>3</td><td>3</td><td>2</td><td>2</td><td>null</td><td>null</td><td>NT1</td><td>PHN701</td><td>Northern Territory</td><td>Darwin</td><td>Solomon</td><td>Inner Metropolitan</td></tr>\n",
       "<tr><td>24049</td><td>0800</td><td>DARWIN CITY</td><td>NT</td><td>130.83668</td><td>-12.458684</td><td>null</td><td>null</td><td>Updated 6-Feb-2020</td><td>70101</td><td>Darwin City</td><td>701</td><td>Darwin</td><td>R1</td><td>-12.3932794</td><td>130.7766611</td><td>70101100203</td><td>70101100218</td><td>701011002</td><td>Darwin City</td><td>70101</td><td>Darwin City</td><td>701</td><td>Darwin</td><td>3</td><td>3</td><td>2</td><td>2</td><td>null</td><td>null</td><td>NT1</td><td>PHN701</td><td>Northern Territory</td><td>Darwin</td><td>Solomon</td><td>Inner Metropolitan</td></tr>\n",
       "<tr><td>233</td><td>0801</td><td>DARWIN</td><td>NT</td><td>130.83668</td><td>-12.458684</td><td>null</td><td>null</td><td>Updated 25-Mar-20...</td><td>70101</td><td>Darwin City</td><td>701</td><td>Darwin</td><td>R1</td><td>-12.4634403</td><td>130.8456418</td><td>70101100208</td><td>70101100208</td><td>701011002</td><td>Darwin City</td><td>70101</td><td>Darwin City</td><td>701</td><td>Darwin</td><td>3</td><td>3</td><td>2</td><td>2</td><td>null</td><td>null</td><td>NT1</td><td>PHN701</td><td>null</td><td>null</td><td>Lingiari</td><td>Rural</td></tr>\n",
       "</table>\n"
      ],
      "text/plain": [
       "+-----+--------+--------------------+-----+---------+----------+----+----+--------------------+-----+-----------+----+-------+------+-----------+------------+-----------------+-----------------+-----------------+-------------+-------------+--------------+-------------+--------------------+-------+-------+--------+--------+----+--------+----------+--------+------------------+---------+----------+------------------+\n",
       "|   id|postcode|            locality|state|     long|       lat|  dc|type|              status|  sa3|    sa3name| sa4|sa4name|region|Lat_precise|Long_precise|SA1_MAINCODE_2011|SA1_MAINCODE_2016|SA2_MAINCODE_2016|SA2_NAME_2016|SA3_CODE_2016| SA3_NAME_2016|SA4_CODE_2016|       SA4_NAME_2016|RA_2011|RA_2016|MMM_2015|MMM_2019| ced|altitude|chargezone|phn_code|          phn_name|lgaregion|electorate|  electoraterating|\n",
       "+-----+--------+--------------------+-----+---------+----------+----+----+--------------------+-----+-----------+----+-------+------+-----------+------------+-----------------+-----------------+-----------------+-------------+-------------+--------------+-------------+--------------------+-------+-------+--------+--------+----+--------+----------+--------+------------------+---------+----------+------------------+\n",
       "|  230|    0200|                 ANU|  ACT|  149.119|  -35.2777|null|null|                null| null|       null|null|   null|    R1|   -35.2777|     149.119|      80105104901|      80105104901|        801051049|        Acton|        80105|North Canberra|          801|Australian Capita...|      1|      1|       1|       1|null|    null|        N2|    null|              null|     null|    Durack|              null|\n",
       "|21820|    0200|Australian Nation...|  ACT| 149.1189|  -35.2777|null|null|   Added 19-Jan-2020| null|       null|null|   null|    R1|-35.2776999|  149.118527|      80105104901|      80105104901|        801051049|        Acton|        80105|North Canberra|          801|Australian Capita...|      1|      1|       1|       1|null|    null|        N2|    null|              null|     null|    Durack|              null|\n",
       "|  232|    0800|              DARWIN|   NT|130.83668|-12.458684|null|null|  Updated 6-Feb-2020|70101|Darwin City| 701| Darwin|    R1|-12.3932794| 130.7766611|      70101100203|      70101100218|        701011002|  Darwin City|        70101|   Darwin City|          701|              Darwin|      3|      3|       2|       2|null|    null|       NT1|  PHN701|Northern Territory|   Darwin|   Solomon|Inner Metropolitan|\n",
       "|24049|    0800|         DARWIN CITY|   NT|130.83668|-12.458684|null|null|  Updated 6-Feb-2020|70101|Darwin City| 701| Darwin|    R1|-12.3932794| 130.7766611|      70101100203|      70101100218|        701011002|  Darwin City|        70101|   Darwin City|          701|              Darwin|      3|      3|       2|       2|null|    null|       NT1|  PHN701|Northern Territory|   Darwin|   Solomon|Inner Metropolitan|\n",
       "|  233|    0801|              DARWIN|   NT|130.83668|-12.458684|null|null|Updated 25-Mar-20...|70101|Darwin City| 701| Darwin|    R1|-12.4634403| 130.8456418|      70101100208|      70101100208|        701011002|  Darwin City|        70101|   Darwin City|          701|              Darwin|      3|      3|       2|       2|null|    null|       NT1|  PHN701|              null|     null|  Lingiari|             Rural|\n",
       "+-----+--------+--------------------+-----+---------+----------+----+----+--------------------+-----+-----------+----+-------+------+-----------+------------+-----------------+-----------------+-----------------+-------------+-------------+--------------+-------------+--------------------+-------+-------+--------+--------+----+--------+----------+--------+------------------+---------+----------+------------------+"
      ]
     },
     "execution_count": 16,
     "metadata": {},
     "output_type": "execute_result"
    }
   ],
   "source": [
    "postcodedf = spark.read.option(\"header\",\"true\").csv(\"../data/tables/australian_postcodes.csv\")\n",
    "postcodedf.limit(5)"
   ]
  },
  {
   "cell_type": "code",
   "execution_count": 17,
   "id": "45a4080b-6891-417f-92e8-0a30ef1d773c",
   "metadata": {
    "tags": []
   },
   "outputs": [
    {
     "name": "stdout",
     "output_type": "stream",
     "text": [
      "18442\n",
      "18265\n",
      "5492\n",
      "2221 3165\n"
     ]
    },
    {
     "data": {
      "text/html": [
       "<table border='1'>\n",
       "<tr><th>postcode</th><th>sa2_code</th></tr>\n",
       "<tr><td>1008</td><td>117031337</td></tr>\n",
       "<tr><td>1150</td><td>117031337</td></tr>\n",
       "<tr><td>2100</td><td>122031429</td></tr>\n",
       "<tr><td>2200</td><td>119011571</td></tr>\n",
       "<tr><td>2338</td><td>110041201</td></tr>\n",
       "</table>\n"
      ],
      "text/plain": [
       "+--------+---------+\n",
       "|postcode| sa2_code|\n",
       "+--------+---------+\n",
       "|    1008|117031337|\n",
       "|    1150|117031337|\n",
       "|    2100|122031429|\n",
       "|    2200|119011571|\n",
       "|    2338|110041201|\n",
       "+--------+---------+"
      ]
     },
     "execution_count": 17,
     "metadata": {},
     "output_type": "execute_result"
    }
   ],
   "source": [
    "from pyspark.sql import Row\n",
    "\n",
    "testpostcodedf = postcodedf.select(\"SA2_MAINCODE_2016\",\"locality\",\"state\",\"SA2_NAME_2016\")\n",
    "testpostcodedf = testpostcodedf.withColumnRenamed(\"SA2_MAINCODE_2016\",\"sa2_code\")\n",
    "\n",
    "postcodedf = postcodedf.select(\"postcode\",\"SA2_MAINCODE_2016\")\n",
    "postcodedf = postcodedf.withColumnRenamed(\"SA2_MAINCODE_2016\",\"sa2_code\")\n",
    "print(postcodedf.count())\n",
    "\n",
    "postcodedf = postcodedf.dropna(\"any\")\n",
    "print(postcodedf.count())\n",
    "\n",
    "postcodedf = postcodedf.distinct()\n",
    "print(postcodedf.count())\n",
    "print(postcodedf.groupBy(\"sa2_code\").count().count(), postcodedf.groupBy(\"postcode\").count().count())\n",
    "\n",
    "postcodedf.limit(5)"
   ]
  },
  {
   "cell_type": "markdown",
   "id": "556f9d32-cf16-491d-bdde-9f291e89524e",
   "metadata": {
    "tags": []
   },
   "source": [
    "In the dataset we have 2221 SA2 codes, in actuality there are 2310, missing 89 <br>\n",
    "In the dataset we have 3165 postcodes, in actuality there are 3333, missing 168 <br>\n",
    "no other datasets out there with all postcodes and sa2 codes so have to exclude these regions from analysis"
   ]
  },
  {
   "cell_type": "code",
   "execution_count": 18,
   "id": "82bf237a-9e4b-422f-bb1a-880e2f1b2ebe",
   "metadata": {
    "tags": []
   },
   "outputs": [
    {
     "name": "stdout",
     "output_type": "stream",
     "text": [
      "13349194\n"
     ]
    },
    {
     "name": "stderr",
     "output_type": "stream",
     "text": [
      "                                                                                \r"
     ]
    },
    {
     "name": "stdout",
     "output_type": "stream",
     "text": [
      "2154 3113\n"
     ]
    },
    {
     "data": {
      "text/html": [
       "<table border='1'>\n",
       "<tr><th>postcode</th><th>merchant_abn</th><th>consumer_id</th><th>user_id</th><th>dollar_value</th><th>order_id</th><th>order_datetime</th><th>customer_name</th><th>address</th><th>state</th><th>gender</th><th>company_name</th><th>tags</th><th>take_rate</th><th>revenue_band</th><th>sa2_code</th></tr>\n",
       "<tr><td>5581</td><td>69666829657</td><td>226</td><td>5162</td><td>79.65159982605903</td><td>8765ef9f-dba6-407...</td><td>2021-08-20</td><td>Courtney Torres</td><td>6945 Higgins Brooks</td><td>SA</td><td>Female</td><td>Sem Ut Institute</td><td>bicycle shops - s...</td><td> 2.86</td><td> c</td><td>405041127</td></tr>\n",
       "<tr><td>5581</td><td>20985347699</td><td>226</td><td>5162</td><td>18.498298897273102</td><td>bac53ef5-d59e-425...</td><td>2021-09-29</td><td>Courtney Torres</td><td>6945 Higgins Brooks</td><td>SA</td><td>Female</td><td>Semper Tellus PC</td><td>tent and awning s...</td><td> 6.10</td><td> a</td><td>405041127</td></tr>\n",
       "<tr><td>5581</td><td>70610974780</td><td>226</td><td>5162</td><td>52.820359204536665</td><td>bdf345c8-4c5d-48e...</td><td>2021-08-20</td><td>Courtney Torres</td><td>6945 Higgins Brooks</td><td>SA</td><td>Female</td><td>Elit Aliquam PC</td><td>tent and awning s...</td><td> 6.93</td><td> a</td><td>405041127</td></tr>\n",
       "<tr><td>5581</td><td>29639699851</td><td>226</td><td>5162</td><td>495.1329215675333</td><td>6ab8fd7a-04fc-476...</td><td>2021-09-11</td><td>Courtney Torres</td><td>6945 Higgins Brooks</td><td>SA</td><td>Female</td><td>Sodales Elit Erat...</td><td>lawn and garden s...</td><td> 6.21</td><td> a</td><td>405041127</td></tr>\n",
       "<tr><td>5581</td><td>15582655078</td><td>226</td><td>5162</td><td>75.31904078962366</td><td>47ddf8e0-5f72-408...</td><td>2021-08-21</td><td>Courtney Torres</td><td>6945 Higgins Brooks</td><td>SA</td><td>Female</td><td>Eu Odio Phasellus...</td><td>gift, card, novel...</td><td> 6.77</td><td> a</td><td>405041127</td></tr>\n",
       "<tr><td>5581</td><td>31585975447</td><td>226</td><td>5162</td><td>29.623728110344047</td><td>a4d39623-979b-44d...</td><td>2021-09-11</td><td>Courtney Torres</td><td>6945 Higgins Brooks</td><td>SA</td><td>Female</td><td>Dolor Dapibus Gra...</td><td>digital goods: bo...</td><td> 3.12</td><td> b</td><td>405041127</td></tr>\n",
       "<tr><td>5581</td><td>21439773999</td><td>226</td><td>5162</td><td>22.910510985569914</td><td>5af069a2-594a-4a1...</td><td>2021-08-21</td><td>Courtney Torres</td><td>6945 Higgins Brooks</td><td>SA</td><td>Female</td><td>Mauris Non Institute</td><td>cable, satellite,...</td><td> 6.10</td><td> a</td><td>405041127</td></tr>\n",
       "<tr><td>5581</td><td>15069598461</td><td>226</td><td>5162</td><td>33.23456130231725</td><td>8a060ec8-7316-4e6...</td><td>2021-09-11</td><td>Courtney Torres</td><td>6945 Higgins Brooks</td><td>SA</td><td>Female</td><td>Parturient Institute</td><td>gift, card, novel...</td><td> 4.07</td><td> b</td><td>405041127</td></tr>\n",
       "<tr><td>5581</td><td>66842618444</td><td>226</td><td>5162</td><td>97.39085253030447</td><td>356f3038-5bd9-45a...</td><td>2021-08-19</td><td>Courtney Torres</td><td>6945 Higgins Brooks</td><td>SA</td><td>Female</td><td>Ultrices Inc.</td><td>shoe shops</td><td> 6.93</td><td> a</td><td>405041127</td></tr>\n",
       "<tr><td>5581</td><td>89022158521</td><td>226</td><td>5162</td><td>239.09510999513617</td><td>232af432-a8ec-497...</td><td>2021-10-04</td><td>Courtney Torres</td><td>6945 Higgins Brooks</td><td>SA</td><td>Female</td><td>Sollicitudin Adip...</td><td>hobby, toy and ga...</td><td> 4.41</td><td> b</td><td>405041127</td></tr>\n",
       "</table>\n"
      ],
      "text/plain": [
       "+--------+------------+-----------+-------+------------------+--------------------+--------------+---------------+-------------------+-----+------+--------------------+--------------------+---------+------------+---------+\n",
       "|postcode|merchant_abn|consumer_id|user_id|      dollar_value|            order_id|order_datetime|  customer_name|            address|state|gender|        company_name|                tags|take_rate|revenue_band| sa2_code|\n",
       "+--------+------------+-----------+-------+------------------+--------------------+--------------+---------------+-------------------+-----+------+--------------------+--------------------+---------+------------+---------+\n",
       "|    5581| 69666829657|        226|   5162| 79.65159982605903|8765ef9f-dba6-407...|    2021-08-20|Courtney Torres|6945 Higgins Brooks|   SA|Female|    Sem Ut Institute|bicycle shops - s...|     2.86|           c|405041127|\n",
       "|    5581| 20985347699|        226|   5162|18.498298897273102|bac53ef5-d59e-425...|    2021-09-29|Courtney Torres|6945 Higgins Brooks|   SA|Female|    Semper Tellus PC|tent and awning s...|     6.10|           a|405041127|\n",
       "|    5581| 70610974780|        226|   5162|52.820359204536665|bdf345c8-4c5d-48e...|    2021-08-20|Courtney Torres|6945 Higgins Brooks|   SA|Female|     Elit Aliquam PC|tent and awning s...|     6.93|           a|405041127|\n",
       "|    5581| 29639699851|        226|   5162| 495.1329215675333|6ab8fd7a-04fc-476...|    2021-09-11|Courtney Torres|6945 Higgins Brooks|   SA|Female|Sodales Elit Erat...|lawn and garden s...|     6.21|           a|405041127|\n",
       "|    5581| 15582655078|        226|   5162| 75.31904078962366|47ddf8e0-5f72-408...|    2021-08-21|Courtney Torres|6945 Higgins Brooks|   SA|Female|Eu Odio Phasellus...|gift, card, novel...|     6.77|           a|405041127|\n",
       "|    5581| 31585975447|        226|   5162|29.623728110344047|a4d39623-979b-44d...|    2021-09-11|Courtney Torres|6945 Higgins Brooks|   SA|Female|Dolor Dapibus Gra...|digital goods: bo...|     3.12|           b|405041127|\n",
       "|    5581| 21439773999|        226|   5162|22.910510985569914|5af069a2-594a-4a1...|    2021-08-21|Courtney Torres|6945 Higgins Brooks|   SA|Female|Mauris Non Institute|cable, satellite,...|     6.10|           a|405041127|\n",
       "|    5581| 15069598461|        226|   5162| 33.23456130231725|8a060ec8-7316-4e6...|    2021-09-11|Courtney Torres|6945 Higgins Brooks|   SA|Female|Parturient Institute|gift, card, novel...|     4.07|           b|405041127|\n",
       "|    5581| 66842618444|        226|   5162| 97.39085253030447|356f3038-5bd9-45a...|    2021-08-19|Courtney Torres|6945 Higgins Brooks|   SA|Female|       Ultrices Inc.|          shoe shops|     6.93|           a|405041127|\n",
       "|    5581| 89022158521|        226|   5162|239.09510999513617|232af432-a8ec-497...|    2021-10-04|Courtney Torres|6945 Higgins Brooks|   SA|Female|Sollicitudin Adip...|hobby, toy and ga...|     4.41|           b|405041127|\n",
       "+--------+------------+-----------+-------+------------------+--------------------+--------------+---------------+-------------------+-----+------+--------------------+--------------------+---------+------------+---------+"
      ]
     },
     "execution_count": 18,
     "metadata": {},
     "output_type": "execute_result"
    }
   ],
   "source": [
    "mergedf = sdf.join(postcodedf, \"postcode\")\n",
    "print(mergedf.count())\n",
    "print(mergedf.groupBy(\"sa2_code\").count().count(), mergedf.groupBy(\"postcode\").count().count())\n",
    "\n",
    "mergedf.limit(10)"
   ]
  },
  {
   "cell_type": "markdown",
   "id": "c2d6077a-7931-459e-89f9-e91c18e397af",
   "metadata": {
    "tags": []
   },
   "source": [
    "As we can see there was a loss of rows when joining with the \"merchant abn\" column in the merchant dataset <br>\n",
    "This means that some of the merchant abns in the transactions were not available in the data table for the different merchants <br>\n",
    "These can be removed as we dont know their company tags/take_rate/revenue_bands which are all useful features <br>\n",
    "Removing these merchants also removed some postcodes/sa2_codes via joining <br>\n",
    "Also transactions originally only had 3167 postcodes out of 3333 <br> \n",
    "<br>\n",
    "Number of rows goes up when combining with postcodes because a postcode can belong to multiple SA2 regions <br>\n",
    "for the time being treating it as is "
   ]
  },
  {
   "cell_type": "markdown",
   "id": "dece0952",
   "metadata": {},
   "source": [
    "## (JAI: needa have script download income dataset)"
   ]
  },
  {
   "cell_type": "code",
   "execution_count": 19,
   "id": "fdffc7f4",
   "metadata": {
    "collapsed": true,
    "jupyter": {
     "outputs_hidden": true,
     "source_hidden": true
    },
    "tags": []
   },
   "outputs": [
    {
     "name": "stdout",
     "output_type": "stream",
     "text": [
      "2289\n"
     ]
    },
    {
     "data": {
      "text/html": [
       "<table border='1'>\n",
       "<tr><th>_c2</th><th>_c10</th><th>_c17</th><th>_c31</th><th>_c38</th></tr>\n",
       "<tr><td>sa2_code</td><td>earners_persons_2...</td><td>median_age_of_ear...</td><td>median_aud_2017_18</td><td>mean_aud_2017_18</td></tr>\n",
       "<tr><td>103031075</td><td>null</td><td>null</td><td>null</td><td>null</td></tr>\n",
       "<tr><td>107011133</td><td>null</td><td>null</td><td>null</td><td>null</td></tr>\n",
       "<tr><td>107021135</td><td>null</td><td>null</td><td>null</td><td>null</td></tr>\n",
       "<tr><td>111031230</td><td>17</td><td>46</td><td>38680</td><td>51000</td></tr>\n",
       "</table>\n"
      ],
      "text/plain": [
       "+---------+--------------------+--------------------+------------------+----------------+\n",
       "|      _c2|                _c10|                _c17|              _c31|            _c38|\n",
       "+---------+--------------------+--------------------+------------------+----------------+\n",
       "| sa2_code|earners_persons_2...|median_age_of_ear...|median_aud_2017_18|mean_aud_2017_18|\n",
       "|103031075|                null|                null|              null|            null|\n",
       "|107011133|                null|                null|              null|            null|\n",
       "|107021135|                null|                null|              null|            null|\n",
       "|111031230|                  17|                  46|             38680|           51000|\n",
       "+---------+--------------------+--------------------+------------------+----------------+"
      ]
     },
     "execution_count": 19,
     "metadata": {},
     "output_type": "execute_result"
    }
   ],
   "source": [
    "incomedf = spark.read.option(\"header\",\"false\").csv(\"../data/tables/datasource-AU_Govt_ABS-UoM_AURIN_DB_3_abs_personal_income_total_income_sa2_2011_2018.csv\")\n",
    "incomedf = incomedf.select(\"_c2\",\"_c10\",\"_c17\",\"_c31\",\"_c38\")\n",
    "print(incomedf.count())\n",
    "incomedf.limit(5)"
   ]
  },
  {
   "cell_type": "markdown",
   "id": "5110d7a1-caf6-4028-aafc-bc86af7479a0",
   "metadata": {
    "tags": []
   },
   "source": [
    "Missing 21 sa2 codes <br>\n",
    "47 rows have all null values so all up missing 68 sa2 regions worth of data "
   ]
  },
  {
   "cell_type": "code",
   "execution_count": 20,
   "id": "9de11398-6a19-4433-a5de-7088830e714b",
   "metadata": {
    "tags": []
   },
   "outputs": [
    {
     "name": "stdout",
     "output_type": "stream",
     "text": [
      "2289\n"
     ]
    },
    {
     "data": {
      "text/html": [
       "<table border='1'>\n",
       "<tr><th>sa2_code</th><th>num_earners</th><th>median_age</th><th>median_income</th><th>mean_income</th></tr>\n",
       "<tr><td>213011340</td><td>11238</td><td>46</td><td>51181</td><td>61177</td></tr>\n",
       "<tr><td>213021341</td><td>7942</td><td>43</td><td>57585</td><td>69301</td></tr>\n",
       "<tr><td>213021344</td><td>11216</td><td>41</td><td>66161</td><td>80219</td></tr>\n",
       "<tr><td>213021345</td><td>3015</td><td>41</td><td>52078</td><td>60249</td></tr>\n",
       "<tr><td>213021346</td><td>9996</td><td>47</td><td>63892</td><td>90668</td></tr>\n",
       "</table>\n"
      ],
      "text/plain": [
       "+---------+-----------+----------+-------------+-----------+\n",
       "| sa2_code|num_earners|median_age|median_income|mean_income|\n",
       "+---------+-----------+----------+-------------+-----------+\n",
       "|213011340|      11238|        46|        51181|      61177|\n",
       "|213021341|       7942|        43|        57585|      69301|\n",
       "|213021344|      11216|        41|        66161|      80219|\n",
       "|213021345|       3015|        41|        52078|      60249|\n",
       "|213021346|       9996|        47|        63892|      90668|\n",
       "+---------+-----------+----------+-------------+-----------+"
      ]
     },
     "execution_count": 20,
     "metadata": {},
     "output_type": "execute_result"
    }
   ],
   "source": [
    "# Have to save csv file, read it again, and rename it because the delimiters in the original csv\n",
    "# dataset are commas for the header and then fullstops for the first column but commas for the rest\n",
    "\n",
    "from pyspark.sql.functions import *\n",
    "\n",
    "incomedf.write.mode(saveMode=\"overwrite\").csv(\"../data/curated/income.csv\")\n",
    "incomedf = spark.read.csv(\"../data/curated/income.csv\")\n",
    "incomedf = incomedf.withColumnRenamed(\"_c0\",\"sa2_code\")\n",
    "incomedf = incomedf.withColumnRenamed(\"_c1\",\"num_earners\")\n",
    "incomedf = incomedf.withColumnRenamed(\"_c2\",\"median_age\")\n",
    "incomedf = incomedf.withColumnRenamed(\"_c3\",\"median_income\")\n",
    "incomedf = incomedf.withColumnRenamed(\"_c4\",\"mean_income\")\n",
    "\n",
    "for field in ('num_earners',\"median_age\",\"median_income\",\"mean_income\"):\n",
    "    incomedf = incomedf.withColumn(\n",
    "        field,\n",
    "        col(field).cast('int')\n",
    "    )\n",
    "\n",
    "print(incomedf.count())\n",
    "incomedf.limit(5)"
   ]
  },
  {
   "cell_type": "code",
   "execution_count": 21,
   "id": "a6afcc65-1949-46d3-888e-226fee79583a",
   "metadata": {
    "tags": []
   },
   "outputs": [],
   "source": [
    "# sa2_code\n",
    "\n",
    "# no need to perform any futher analysis as any discrepancies will be removed with an inner join on this field  "
   ]
  },
  {
   "cell_type": "code",
   "execution_count": 22,
   "id": "54fedf94-6611-4e14-9d2b-f78c4e8c6253",
   "metadata": {
    "tags": []
   },
   "outputs": [
    {
     "name": "stdout",
     "output_type": "stream",
     "text": [
      "2289\n",
      "2241\n",
      "+----------------+----------------+----------------+\n",
      "|min(num_earners)|max(num_earners)|avg(num_earners)|\n",
      "+----------------+----------------+----------------+\n",
      "|               3|           30022|6252.20035698349|\n",
      "+----------------+----------------+----------------+\n",
      "\n"
     ]
    },
    {
     "data": {
      "image/png": "[encoded data removed]",
      "text/plain": [
       "<Figure size 640x480 with 1 Axes>"
      ]
     },
     "metadata": {},
     "output_type": "display_data"
    }
   ],
   "source": [
    "# num_earners\n",
    "\n",
    "import matplotlib.pyplot as plt\n",
    "import pandas as pd\n",
    "\n",
    "testdf = incomedf.alias(\"testdf\")\n",
    "print(testdf.count())\n",
    "testdf = testdf.dropna(\"all\",subset=\"num_earners\")\n",
    "print(testdf.count())\n",
    "\n",
    "print(testdf.agg(min(\"num_earners\"), max(\"num_earners\"), mean(\"num_earners\")))\n",
    "\n",
    "df = testdf.toPandas()\n",
    "plt.boxplot(df[\"num_earners\"])\n",
    "plt.show()"
   ]
  },
  {
   "cell_type": "markdown",
   "id": "ccd2b123-4e54-4c0d-bb1c-e28a27fb7117",
   "metadata": {
    "tags": []
   },
   "source": [
    "First we check for nulls and find that 48 rows have nulls <br>\n",
    "We will remove these rows as its unfair to impute a value here <br>\n",
    "We could potentially use a population (sa2) dataset to make a model to predict the num_earners but there is no point because in the dataset if one row has a column with a null value then the other columns are all null too <br>\n",
    "<br>"
   ]
  },
  {
   "cell_type": "code",
   "execution_count": 23,
   "id": "fcb8b90e-5431-420a-816e-d7059aa47778",
   "metadata": {},
   "outputs": [
    {
     "data": {
      "text/html": [
       "<table border='1'>\n",
       "<tr><th>sa2_code</th><th>num_earners</th><th>median_age</th><th>median_income</th><th>mean_income</th><th>locality</th><th>state</th><th>SA2_NAME_2016</th></tr>\n",
       "<tr><td>117031337</td><td>30022</td><td>30</td><td>25962</td><td>65906</td><td>SYDNEY</td><td>NSW</td><td>Sydney - Haymarke...</td></tr>\n",
       "<tr><td>206041122</td><td>26083</td><td>30</td><td>28806</td><td>51528</td><td>MELBOURNE</td><td>VIC</td><td>Melbourne</td></tr>\n",
       "<tr><td>503021041</td><td>25161</td><td>34</td><td>54790</td><td>79517</td><td>CITY DELIVERY CENTRE</td><td>WA</td><td>Perth City</td></tr>\n",
       "</table>\n"
      ],
      "text/plain": [
       "+---------+-----------+----------+-------------+-----------+--------------------+-----+--------------------+\n",
       "| sa2_code|num_earners|median_age|median_income|mean_income|            locality|state|       SA2_NAME_2016|\n",
       "+---------+-----------+----------+-------------+-----------+--------------------+-----+--------------------+\n",
       "|117031337|      30022|        30|        25962|      65906|              SYDNEY|  NSW|Sydney - Haymarke...|\n",
       "|206041122|      26083|        30|        28806|      51528|           MELBOURNE|  VIC|           Melbourne|\n",
       "|503021041|      25161|        34|        54790|      79517|CITY DELIVERY CENTRE|   WA|          Perth City|\n",
       "+---------+-----------+----------+-------------+-----------+--------------------+-----+--------------------+"
      ]
     },
     "execution_count": 23,
     "metadata": {},
     "output_type": "execute_result"
    }
   ],
   "source": [
    "testdf = incomedf.alias(\"testdf\")\n",
    "testdf = testdf.dropna(\"all\",subset=\"num_earners\")\n",
    "testdf = testdf.filter(testdf[\"num_earners\"] > 25000)\n",
    "testdf = testdf.join(testpostcodedf, \"sa2_code\")\n",
    "testdf = testdf.dropDuplicates(subset=[\"sa2_code\"])\n",
    "testdf"
   ]
  },
  {
   "cell_type": "markdown",
   "id": "bf45e81d-7866-4d96-b882-7ee34598a9bc",
   "metadata": {},
   "source": [
    "greatest number of earners in capital cities"
   ]
  },
  {
   "cell_type": "code",
   "execution_count": 24,
   "id": "f3693491-bded-4f2c-8ccd-7a1779b847cf",
   "metadata": {},
   "outputs": [
    {
     "data": {
      "text/html": [
       "<table border='1'>\n",
       "<tr><th>sa2_code</th><th>num_earners</th><th>median_age</th><th>median_income</th><th>mean_income</th><th>locality</th><th>state</th><th>SA2_NAME_2016</th></tr>\n",
       "<tr><td>117011324</td><td>6</td><td>42</td><td>89790</td><td>83273</td><td>PORT BOTANY</td><td>NSW</td><td>Port Botany Indus...</td></tr>\n",
       "<tr><td>117011325</td><td>5</td><td>30</td><td>41442</td><td>50626</td><td>SYDNEY DOMESTIC A...</td><td>NSW</td><td>Sydney Airport</td></tr>\n",
       "<tr><td>128021537</td><td>8</td><td>32</td><td>26370</td><td>38451</td><td>SOUTHERN SUBURBS MC</td><td>NSW</td><td>Royal National Park</td></tr>\n",
       "<tr><td>205021080</td><td>3</td><td>63</td><td>31114</td><td>22659</td><td>BRUMBY</td><td>VIC</td><td>Alps - East</td></tr>\n",
       "<tr><td>206041127</td><td>8</td><td>38</td><td>93272</td><td>237158</td><td>WEST MELBOURNE</td><td>VIC</td><td>West Melbourne</td></tr>\n",
       "<tr><td>208031192</td><td>8</td><td>54</td><td>50000</td><td>60501</td><td>MOORABBIN AIRPORT</td><td>VIC</td><td>Moorabbin Airport</td></tr>\n",
       "<tr><td>306031162</td><td>5</td><td>60</td><td>101552</td><td>95663</td><td>WOOROONOORAN</td><td>QLD</td><td>Wooroonooran</td></tr>\n",
       "<tr><td>308051532</td><td>8</td><td>45</td><td>90430</td><td>98604</td><td>CALLEMONDAH</td><td>QLD</td><td>Callemondah</td></tr>\n",
       "<tr><td>310021279</td><td>3</td><td>40</td><td>93966</td><td>112085</td><td>LAKE MANCHESTER</td><td>QLD</td><td>Lake Manchester -...</td></tr>\n",
       "<tr><td>404031104</td><td>4</td><td>50</td><td>31934</td><td>52302</td><td>ADELAIDE AIRPORT</td><td>SA</td><td>Adelaide Airport</td></tr>\n",
       "<tr><td>406011135</td><td>5</td><td>58</td><td>68754</td><td>67797</td><td>CHUNDARIA</td><td>SA</td><td>Western</td></tr>\n",
       "<tr><td>504021052</td><td>5</td><td>71</td><td>1260</td><td>-1773</td><td>SAWYERS VALLEY</td><td>WA</td><td>Malmalling - Rese...</td></tr>\n",
       "<tr><td>505031106</td><td>4</td><td>42</td><td>60564</td><td>70748</td><td>NEERABUP</td><td>WA</td><td>Neerabup National...</td></tr>\n",
       "<tr><td>506011111</td><td>4</td><td>43</td><td>143945</td><td>92309</td><td>ASHENDON</td><td>WA</td><td>Ashendon - Lesley</td></tr>\n",
       "<tr><td>506021121</td><td>3</td><td>28</td><td>84101</td><td>68602</td><td>PERTH AIRPORT</td><td>WA</td><td>Perth Airport</td></tr>\n",
       "<tr><td>701011003</td><td>7</td><td>51</td><td>43560</td><td>52873</td><td>EAST POINT</td><td>NT</td><td>East Point</td></tr>\n",
       "<tr><td>801011112</td><td>8</td><td>42</td><td>54601</td><td>58037</td><td>STRATHNAIRN</td><td>ACT</td><td>West Belconnen</td></tr>\n",
       "<tr><td>801061068</td><td>4</td><td>53</td><td>121961</td><td>107326</td><td>CAPITAL HILL</td><td>ACT</td><td>Parkes (ACT) - South</td></tr>\n",
       "</table>\n"
      ],
      "text/plain": [
       "+---------+-----------+----------+-------------+-----------+--------------------+-----+--------------------+\n",
       "| sa2_code|num_earners|median_age|median_income|mean_income|            locality|state|       SA2_NAME_2016|\n",
       "+---------+-----------+----------+-------------+-----------+--------------------+-----+--------------------+\n",
       "|117011324|          6|        42|        89790|      83273|         PORT BOTANY|  NSW|Port Botany Indus...|\n",
       "|117011325|          5|        30|        41442|      50626|SYDNEY DOMESTIC A...|  NSW|      Sydney Airport|\n",
       "|128021537|          8|        32|        26370|      38451| SOUTHERN SUBURBS MC|  NSW| Royal National Park|\n",
       "|205021080|          3|        63|        31114|      22659|              BRUMBY|  VIC|         Alps - East|\n",
       "|206041127|          8|        38|        93272|     237158|      WEST MELBOURNE|  VIC|      West Melbourne|\n",
       "|208031192|          8|        54|        50000|      60501|   MOORABBIN AIRPORT|  VIC|   Moorabbin Airport|\n",
       "|306031162|          5|        60|       101552|      95663|        WOOROONOORAN|  QLD|        Wooroonooran|\n",
       "|308051532|          8|        45|        90430|      98604|         CALLEMONDAH|  QLD|         Callemondah|\n",
       "|310021279|          3|        40|        93966|     112085|     LAKE MANCHESTER|  QLD|Lake Manchester -...|\n",
       "|404031104|          4|        50|        31934|      52302|    ADELAIDE AIRPORT|   SA|    Adelaide Airport|\n",
       "|406011135|          5|        58|        68754|      67797|           CHUNDARIA|   SA|             Western|\n",
       "|504021052|          5|        71|         1260|      -1773|      SAWYERS VALLEY|   WA|Malmalling - Rese...|\n",
       "|505031106|          4|        42|        60564|      70748|            NEERABUP|   WA|Neerabup National...|\n",
       "|506011111|          4|        43|       143945|      92309|            ASHENDON|   WA|   Ashendon - Lesley|\n",
       "|506021121|          3|        28|        84101|      68602|       PERTH AIRPORT|   WA|       Perth Airport|\n",
       "|701011003|          7|        51|        43560|      52873|          EAST POINT|   NT|          East Point|\n",
       "|801011112|          8|        42|        54601|      58037|         STRATHNAIRN|  ACT|      West Belconnen|\n",
       "|801061068|          4|        53|       121961|     107326|        CAPITAL HILL|  ACT|Parkes (ACT) - South|\n",
       "+---------+-----------+----------+-------------+-----------+--------------------+-----+--------------------+"
      ]
     },
     "execution_count": 24,
     "metadata": {},
     "output_type": "execute_result"
    }
   ],
   "source": [
    "testdf = incomedf.alias(\"testdf\")\n",
    "testdf = testdf.dropna(\"all\",subset=\"num_earners\")\n",
    "testdf = testdf.filter(testdf[\"num_earners\"] < 10)\n",
    "testdf = testdf.join(testpostcodedf, \"sa2_code\")\n",
    "testdf = testdf.dropDuplicates(subset=[\"sa2_code\"])\n",
    "testdf"
   ]
  },
  {
   "cell_type": "markdown",
   "id": "25f7db16-dc2a-4a10-963c-43b2e46d0119",
   "metadata": {},
   "source": [
    "lowest number of earners typically in parks/airports where barely any people live <br>\n",
    "locations like west mebourne caught my eye with only 8 earners which i thought was incorrect but turns out its not: <br>\n",
    "Population of West Melbourne. Last official estimated population of West Melbourne (as Statistical Area Level 2) was 3 people (on 2017-06-30). <br>\n",
    "(population.com.au)"
   ]
  },
  {
   "cell_type": "code",
   "execution_count": 25,
   "id": "78d92824-1fc0-4f96-8b2e-aff4537280a8",
   "metadata": {},
   "outputs": [
    {
     "name": "stdout",
     "output_type": "stream",
     "text": [
      "2289\n",
      "2241\n",
      "+---------------+---------------+------------------+\n",
      "|min(median_age)|max(median_age)|   avg(median_age)|\n",
      "+---------------+---------------+------------------+\n",
      "|             15|             71|43.077197679607316|\n",
      "+---------------+---------------+------------------+\n",
      "\n"
     ]
    },
    {
     "data": {
      "image/png": "[encoded data removed]",
      "text/plain": [
       "<Figure size 640x480 with 1 Axes>"
      ]
     },
     "metadata": {},
     "output_type": "display_data"
    }
   ],
   "source": [
    "# median_age\n",
    "\n",
    "testdf = incomedf.alias(\"testdf\")\n",
    "print(testdf.count())\n",
    "testdf = testdf.dropna(\"all\",subset=\"median_age\")\n",
    "print(testdf.count())\n",
    "\n",
    "print(testdf.agg(min(\"median_age\"), max(\"median_age\"), mean(\"median_age\")))\n",
    "\n",
    "df = testdf.toPandas()\n",
    "plt.boxplot(df[\"median_age\"])\n",
    "plt.show()"
   ]
  },
  {
   "cell_type": "markdown",
   "id": "a679d2c7-7194-4b62-ae7d-ae4ba9a73afc",
   "metadata": {},
   "source": [
    "again 48 rows with nulls <br>\n",
    "median ages below 20 and above 70 seem unreasonable so they will be removed considering mean retirement age is generally 65 years and the minimum age to work is around 15 years <br>"
   ]
  },
  {
   "cell_type": "code",
   "execution_count": 26,
   "id": "d97aae2c-95f4-48a6-9e57-903150c7391c",
   "metadata": {},
   "outputs": [
    {
     "data": {
      "text/html": [
       "<table border='1'>\n",
       "<tr><th>sa2_code</th><th>num_earners</th><th>median_age</th><th>median_income</th><th>mean_income</th><th>locality</th><th>state</th><th>SA2_NAME_2016</th></tr>\n",
       "<tr><td>504021052</td><td>5</td><td>71</td><td>1260</td><td>-1773</td><td>SAWYERS VALLEY</td><td>WA</td><td>Malmalling - Rese...</td></tr>\n",
       "</table>\n"
      ],
      "text/plain": [
       "+---------+-----------+----------+-------------+-----------+--------------+-----+--------------------+\n",
       "| sa2_code|num_earners|median_age|median_income|mean_income|      locality|state|       SA2_NAME_2016|\n",
       "+---------+-----------+----------+-------------+-----------+--------------+-----+--------------------+\n",
       "|504021052|          5|        71|         1260|      -1773|SAWYERS VALLEY|   WA|Malmalling - Rese...|\n",
       "+---------+-----------+----------+-------------+-----------+--------------+-----+--------------------+"
      ]
     },
     "execution_count": 26,
     "metadata": {},
     "output_type": "execute_result"
    }
   ],
   "source": [
    "testdf = incomedf.alias(\"testdf\")\n",
    "testdf = testdf.dropna(\"all\",subset=\"median_age\")\n",
    "testdf = testdf.filter(testdf[\"median_age\"] > 70)\n",
    "testdf = testdf.join(testpostcodedf, \"sa2_code\")\n",
    "testdf = testdf.dropDuplicates(subset=[\"sa2_code\"])\n",
    "testdf"
   ]
  },
  {
   "cell_type": "markdown",
   "id": "3218d2f4-2829-4cc6-bdd2-965f5d5a4a0a",
   "metadata": {},
   "source": [
    "will be removed cause negative mean income"
   ]
  },
  {
   "cell_type": "code",
   "execution_count": 27,
   "id": "2b7ebd3e-3558-48d5-b88e-f7f14f95ac79",
   "metadata": {},
   "outputs": [
    {
     "data": {
      "text/html": [
       "<table border='1'>\n",
       "<tr><th>sa2_code</th><th>num_earners</th><th>median_age</th><th>median_income</th><th>mean_income</th><th>locality</th><th>state</th><th>SA2_NAME_2016</th></tr>\n",
       "</table>\n"
      ],
      "text/plain": [
       "+--------+-----------+----------+-------------+-----------+--------+-----+-------------+\n",
       "|sa2_code|num_earners|median_age|median_income|mean_income|locality|state|SA2_NAME_2016|\n",
       "+--------+-----------+----------+-------------+-----------+--------+-----+-------------+\n",
       "+--------+-----------+----------+-------------+-----------+--------+-----+-------------+"
      ]
     },
     "execution_count": 27,
     "metadata": {},
     "output_type": "execute_result"
    }
   ],
   "source": [
    "testdf = incomedf.alias(\"testdf\")\n",
    "testdf = testdf.dropna(\"all\",subset=\"median_age\")\n",
    "testdf = testdf.filter(testdf[\"median_age\"] < 20)\n",
    "testdf = testdf.join(testpostcodedf, \"sa2_code\")\n",
    "testdf = testdf.dropDuplicates(subset=[\"sa2_code\"])\n",
    "testdf"
   ]
  },
  {
   "cell_type": "markdown",
   "id": "46add28f-f7d4-4066-942a-220b1998b2e8",
   "metadata": {},
   "source": [
    "sa2 code doesnt exist in postcodes file for 15 year median working age so will be removed"
   ]
  },
  {
   "cell_type": "code",
   "execution_count": 28,
   "id": "26db4bcf-8d67-4c3a-ab7a-49d7c2f3ad77",
   "metadata": {},
   "outputs": [
    {
     "name": "stdout",
     "output_type": "stream",
     "text": [
      "2241\n",
      "2239\n",
      "+---------------+---------------+-----------------+\n",
      "|min(median_age)|max(median_age)|  avg(median_age)|\n",
      "+---------------+---------------+-----------------+\n",
      "|             21|             63|43.07726663689147|\n",
      "+---------------+---------------+-----------------+\n",
      "\n"
     ]
    },
    {
     "data": {
      "image/png": "[encoded data removed]",
      "text/plain": [
       "<Figure size 640x480 with 1 Axes>"
      ]
     },
     "metadata": {},
     "output_type": "display_data"
    }
   ],
   "source": [
    "testdf = incomedf.alias(\"testdf\")\n",
    "testdf = testdf.dropna(\"all\",subset=\"median_age\")\n",
    "print(testdf.count())\n",
    "testdf = testdf.filter(testdf[\"median_age\"] > 20)\n",
    "testdf = testdf.filter(testdf[\"median_age\"] < 70)\n",
    "print(testdf.count())\n",
    "\n",
    "print(testdf.agg(min(\"median_age\"), max(\"median_age\"), mean(\"median_age\")))\n",
    "\n",
    "df = testdf.toPandas()\n",
    "plt.boxplot(df[\"median_age\"])\n",
    "plt.show()"
   ]
  },
  {
   "cell_type": "code",
   "execution_count": 29,
   "id": "d3f6e405-c6c6-4b32-9d7e-34b5e897a341",
   "metadata": {},
   "outputs": [
    {
     "name": "stdout",
     "output_type": "stream",
     "text": [
      "2289\n",
      "2241\n",
      "+------------------+------------------+------------------+\n",
      "|min(median_income)|max(median_income)|avg(median_income)|\n",
      "+------------------+------------------+------------------+\n",
      "|              1260|            178148| 50458.69522534583|\n",
      "+------------------+------------------+------------------+\n",
      "\n"
     ]
    },
    {
     "data": {
      "image/png": "[encoded data removed]",
      "text/plain": [
       "<Figure size 640x480 with 1 Axes>"
      ]
     },
     "metadata": {},
     "output_type": "display_data"
    }
   ],
   "source": [
    "# median income\n",
    "\n",
    "testdf = incomedf.alias(\"testdf\")\n",
    "print(testdf.count())\n",
    "testdf = testdf.dropna(\"all\",subset=[\"median_income\"])\n",
    "print(testdf.count())\n",
    "print(testdf.agg(min(\"median_income\"), max(\"median_income\"), mean(\"median_income\")))\n",
    "\n",
    "df = testdf.toPandas()\n",
    "plt.boxplot(df[\"median_income\"])\n",
    "plt.show()"
   ]
  },
  {
   "cell_type": "markdown",
   "id": "5bd0df10-df72-4afa-8ede-56f6da212ba0",
   "metadata": {},
   "source": [
    "again 48 rows with null will be removed"
   ]
  },
  {
   "cell_type": "code",
   "execution_count": 30,
   "id": "9529dd95-00a4-4d95-a13d-3e368a6bf132",
   "metadata": {},
   "outputs": [
    {
     "data": {
      "text/html": [
       "<table border='1'>\n",
       "<tr><th>sa2_code</th><th>num_earners</th><th>median_age</th><th>median_income</th><th>mean_income</th><th>locality</th><th>state</th><th>SA2_NAME_2016</th></tr>\n",
       "<tr><td>206041127</td><td>8</td><td>38</td><td>93272</td><td>237158</td><td>WEST MELBOURNE</td><td>VIC</td><td>West Melbourne</td></tr>\n",
       "<tr><td>306031162</td><td>5</td><td>60</td><td>101552</td><td>95663</td><td>WOOROONOORAN</td><td>QLD</td><td>Wooroonooran</td></tr>\n",
       "<tr><td>308051532</td><td>8</td><td>45</td><td>90430</td><td>98604</td><td>CALLEMONDAH</td><td>QLD</td><td>Callemondah</td></tr>\n",
       "<tr><td>310021279</td><td>3</td><td>40</td><td>93966</td><td>112085</td><td>LAKE MANCHESTER</td><td>QLD</td><td>Lake Manchester -...</td></tr>\n",
       "<tr><td>406021143</td><td>2562</td><td>36</td><td>92288</td><td>95640</td><td>OLYMPIC DAM</td><td>SA</td><td>Roxby Downs</td></tr>\n",
       "<tr><td>503021037</td><td>37</td><td>59</td><td>161893</td><td>356433</td><td>KINGS PARK</td><td>WA</td><td>Kings Park (WA)</td></tr>\n",
       "<tr><td>506011111</td><td>4</td><td>43</td><td>143945</td><td>92309</td><td>ASHENDON</td><td>WA</td><td>Ashendon - Lesley</td></tr>\n",
       "<tr><td>510021269</td><td>2834</td><td>38</td><td>90731</td><td>101819</td><td>PORT HEDLAND</td><td>WA</td><td>Port Hedland</td></tr>\n",
       "<tr><td>510031271</td><td>3416</td><td>39</td><td>97795</td><td>98922</td><td>CANE</td><td>WA</td><td>Ashburton (WA)</td></tr>\n",
       "<tr><td>801061068</td><td>4</td><td>53</td><td>121961</td><td>107326</td><td>CAPITAL HILL</td><td>ACT</td><td>Parkes (ACT) - South</td></tr>\n",
       "<tr><td>801101136</td><td>181</td><td>38</td><td>91138</td><td>93812</td><td>DENMAN PROSPECT</td><td>ACT</td><td>Denman Prospect</td></tr>\n",
       "</table>\n"
      ],
      "text/plain": [
       "+---------+-----------+----------+-------------+-----------+---------------+-----+--------------------+\n",
       "| sa2_code|num_earners|median_age|median_income|mean_income|       locality|state|       SA2_NAME_2016|\n",
       "+---------+-----------+----------+-------------+-----------+---------------+-----+--------------------+\n",
       "|206041127|          8|        38|        93272|     237158| WEST MELBOURNE|  VIC|      West Melbourne|\n",
       "|306031162|          5|        60|       101552|      95663|   WOOROONOORAN|  QLD|        Wooroonooran|\n",
       "|308051532|          8|        45|        90430|      98604|    CALLEMONDAH|  QLD|         Callemondah|\n",
       "|310021279|          3|        40|        93966|     112085|LAKE MANCHESTER|  QLD|Lake Manchester -...|\n",
       "|406021143|       2562|        36|        92288|      95640|    OLYMPIC DAM|   SA|         Roxby Downs|\n",
       "|503021037|         37|        59|       161893|     356433|     KINGS PARK|   WA|     Kings Park (WA)|\n",
       "|506011111|          4|        43|       143945|      92309|       ASHENDON|   WA|   Ashendon - Lesley|\n",
       "|510021269|       2834|        38|        90731|     101819|   PORT HEDLAND|   WA|        Port Hedland|\n",
       "|510031271|       3416|        39|        97795|      98922|           CANE|   WA|      Ashburton (WA)|\n",
       "|801061068|          4|        53|       121961|     107326|   CAPITAL HILL|  ACT|Parkes (ACT) - South|\n",
       "|801101136|        181|        38|        91138|      93812|DENMAN PROSPECT|  ACT|     Denman Prospect|\n",
       "+---------+-----------+----------+-------------+-----------+---------------+-----+--------------------+"
      ]
     },
     "execution_count": 30,
     "metadata": {},
     "output_type": "execute_result"
    }
   ],
   "source": [
    "testdf = incomedf.alias(\"testdf\")\n",
    "testdf = testdf.dropna(\"all\",subset=\"median_income\")\n",
    "testdf = testdf.filter(testdf[\"median_income\"] > 90000)\n",
    "testdf = testdf.join(testpostcodedf, \"sa2_code\")\n",
    "testdf = testdf.dropDuplicates(subset=[\"sa2_code\"])\n",
    "testdf"
   ]
  },
  {
   "cell_type": "markdown",
   "id": "a2220ac3-ed20-4863-a7cb-872635a8fa7a",
   "metadata": {},
   "source": [
    "The sa2 regions with high median income are mainly consisting of posh regions with a low population <br>"
   ]
  },
  {
   "cell_type": "code",
   "execution_count": 31,
   "id": "b5f9b933-c73f-45de-82c4-af160c894e79",
   "metadata": {},
   "outputs": [
    {
     "data": {
      "text/html": [
       "<table border='1'>\n",
       "<tr><th>sa2_code</th><th>num_earners</th><th>median_age</th><th>median_income</th><th>mean_income</th><th>locality</th><th>state</th><th>SA2_NAME_2016</th></tr>\n",
       "<tr><td>110021194</td><td>3113</td><td>54</td><td>28976</td><td>35915</td><td>STANNUM</td><td>NSW</td><td>Tenterfield</td></tr>\n",
       "<tr><td>117031337</td><td>30022</td><td>30</td><td>25962</td><td>65906</td><td>SYDNEY</td><td>NSW</td><td>Sydney - Haymarke...</td></tr>\n",
       "<tr><td>124011451</td><td>14</td><td>63</td><td>21247</td><td>19071</td><td>THE DEVILS WILDER...</td><td>NSW</td><td>Blue Mountains - ...</td></tr>\n",
       "<tr><td>128021537</td><td>8</td><td>32</td><td>26370</td><td>38451</td><td>SOUTHERN SUBURBS MC</td><td>NSW</td><td>Royal National Park</td></tr>\n",
       "<tr><td>205031088</td><td>53</td><td>57</td><td>18177</td><td>32022</td><td>ELIZABETH ISLAND</td><td>VIC</td><td>French Island</td></tr>\n",
       "<tr><td>205051099</td><td>23</td><td>53</td><td>18835</td><td>27804</td><td>ARBUCKLE</td><td>VIC</td><td>Alps - West</td></tr>\n",
       "<tr><td>206041122</td><td>26083</td><td>30</td><td>28806</td><td>51528</td><td>MELBOURNE</td><td>VIC</td><td>Melbourne</td></tr>\n",
       "<tr><td>210011227</td><td>19</td><td>46</td><td>27711</td><td>42355</td><td>ESSENDON FIELDS</td><td>VIC</td><td>Essendon Airport</td></tr>\n",
       "<tr><td>315011395</td><td>352</td><td>40</td><td>23591</td><td>38363</td><td>AURUKUN</td><td>QLD</td><td>Aurukun</td></tr>\n",
       "<tr><td>315011398</td><td>585</td><td>40</td><td>25757</td><td>34917</td><td>KOWANYAMA</td><td>QLD</td><td>Kowanyama - Pormp...</td></tr>\n",
       "<tr><td>319031511</td><td>2528</td><td>54</td><td>28000</td><td>38918</td><td>TOOLARA</td><td>QLD</td><td>Cooloola</td></tr>\n",
       "<tr><td>406021138</td><td>203</td><td>35</td><td>27564</td><td>43107</td><td>AMATA</td><td>NT</td><td>APY Lands</td></tr>\n",
       "<tr><td>504021052</td><td>5</td><td>71</td><td>1260</td><td>-1773</td><td>SAWYERS VALLEY</td><td>WA</td><td>Malmalling - Rese...</td></tr>\n",
       "<tr><td>701011001</td><td>11</td><td>49</td><td>28345</td><td>41282</td><td>DARWIN INTERNATIO...</td><td>NT</td><td>Darwin Airport</td></tr>\n",
       "<tr><td>702011052</td><td>212</td><td>38</td><td>28099</td><td>43599</td><td>AHERRENGE</td><td>NT</td><td>Sandover - Plenty</td></tr>\n",
       "<tr><td>702031061</td><td>355</td><td>37</td><td>25359</td><td>37219</td><td>COBOURG</td><td>NT</td><td>West Arnhem</td></tr>\n",
       "<tr><td>702041063</td><td>693</td><td>38</td><td>27304</td><td>39023</td><td>EAST ARNHEM</td><td>NT</td><td>East Arnhem</td></tr>\n",
       "<tr><td>801031031</td><td>24</td><td>42</td><td>21385</td><td>54739</td><td>HUME</td><td>ACT</td><td>Hume</td></tr>\n",
       "<tr><td>801051049</td><td>548</td><td>23</td><td>9306</td><td>16835</td><td>ANU</td><td>ACT</td><td>Acton</td></tr>\n",
       "</table>\n"
      ],
      "text/plain": [
       "+---------+-----------+----------+-------------+-----------+--------------------+-----+--------------------+\n",
       "| sa2_code|num_earners|median_age|median_income|mean_income|            locality|state|       SA2_NAME_2016|\n",
       "+---------+-----------+----------+-------------+-----------+--------------------+-----+--------------------+\n",
       "|110021194|       3113|        54|        28976|      35915|             STANNUM|  NSW|         Tenterfield|\n",
       "|117031337|      30022|        30|        25962|      65906|              SYDNEY|  NSW|Sydney - Haymarke...|\n",
       "|124011451|         14|        63|        21247|      19071|THE DEVILS WILDER...|  NSW|Blue Mountains - ...|\n",
       "|128021537|          8|        32|        26370|      38451| SOUTHERN SUBURBS MC|  NSW| Royal National Park|\n",
       "|205031088|         53|        57|        18177|      32022|    ELIZABETH ISLAND|  VIC|       French Island|\n",
       "|205051099|         23|        53|        18835|      27804|            ARBUCKLE|  VIC|         Alps - West|\n",
       "|206041122|      26083|        30|        28806|      51528|           MELBOURNE|  VIC|           Melbourne|\n",
       "|210011227|         19|        46|        27711|      42355|     ESSENDON FIELDS|  VIC|    Essendon Airport|\n",
       "|315011395|        352|        40|        23591|      38363|             AURUKUN|  QLD|             Aurukun|\n",
       "|315011398|        585|        40|        25757|      34917|           KOWANYAMA|  QLD|Kowanyama - Pormp...|\n",
       "|319031511|       2528|        54|        28000|      38918|             TOOLARA|  QLD|            Cooloola|\n",
       "|406021138|        203|        35|        27564|      43107|               AMATA|   NT|           APY Lands|\n",
       "|504021052|          5|        71|         1260|      -1773|      SAWYERS VALLEY|   WA|Malmalling - Rese...|\n",
       "|701011001|         11|        49|        28345|      41282|DARWIN INTERNATIO...|   NT|      Darwin Airport|\n",
       "|702011052|        212|        38|        28099|      43599|           AHERRENGE|   NT|   Sandover - Plenty|\n",
       "|702031061|        355|        37|        25359|      37219|             COBOURG|   NT|         West Arnhem|\n",
       "|702041063|        693|        38|        27304|      39023|         EAST ARNHEM|   NT|         East Arnhem|\n",
       "|801031031|         24|        42|        21385|      54739|                HUME|  ACT|                Hume|\n",
       "|801051049|        548|        23|         9306|      16835|                 ANU|  ACT|               Acton|\n",
       "+---------+-----------+----------+-------------+-----------+--------------------+-----+--------------------+"
      ]
     },
     "execution_count": 31,
     "metadata": {},
     "output_type": "execute_result"
    }
   ],
   "source": [
    "testdf = incomedf.alias(\"testdf\")\n",
    "testdf = testdf.dropna(\"all\",subset=\"median_income\")\n",
    "testdf = testdf.filter(testdf[\"median_income\"] < 30000)\n",
    "testdf = testdf.join(testpostcodedf, \"sa2_code\")\n",
    "testdf = testdf.dropDuplicates(subset=[\"sa2_code\"])\n",
    "testdf"
   ]
  },
  {
   "cell_type": "markdown",
   "id": "47ba85b5-fd5f-4d6a-9860-333d3b15c74f",
   "metadata": {},
   "source": [
    "The sa2 regions with low median income consist of regions that few people live in and there is little access to a good job such as mountains/parks/islands/airports <br>"
   ]
  },
  {
   "cell_type": "code",
   "execution_count": 32,
   "id": "8b28fc0f-8817-4710-8c88-7dc23ecd8c86",
   "metadata": {},
   "outputs": [
    {
     "name": "stdout",
     "output_type": "stream",
     "text": [
      "2289\n",
      "2241\n",
      "+----------------+----------------+------------------+\n",
      "|min(mean_income)|max(mean_income)|  avg(mean_income)|\n",
      "+----------------+----------------+------------------+\n",
      "|           -1773|          356433|62742.204373047745|\n",
      "+----------------+----------------+------------------+\n",
      "\n"
     ]
    },
    {
     "data": {
      "image/png": "[encoded data removed]",
      "text/plain": [
       "<Figure size 640x480 with 1 Axes>"
      ]
     },
     "metadata": {},
     "output_type": "display_data"
    }
   ],
   "source": [
    "# mean income\n",
    "\n",
    "testdf = incomedf.alias(\"testdf\")\n",
    "print(testdf.count())\n",
    "testdf = testdf.dropna(\"all\",subset=[\"mean_income\"])\n",
    "print(testdf.count())\n",
    "print(testdf.agg(min(\"mean_income\"), max(\"mean_income\"), mean(\"mean_income\")))\n",
    "\n",
    "df = testdf.toPandas()\n",
    "plt.boxplot(df[\"mean_income\"])\n",
    "plt.show()"
   ]
  },
  {
   "cell_type": "markdown",
   "id": "171a9416-2c26-4e83-b7e6-f6819bec9bda",
   "metadata": {},
   "source": [
    "again 48 rows removed due to null values <br>"
   ]
  },
  {
   "cell_type": "code",
   "execution_count": 33,
   "id": "c67423f6-9667-4ea9-89bb-fba02c126988",
   "metadata": {},
   "outputs": [
    {
     "data": {
      "text/html": [
       "<table border='1'>\n",
       "<tr><th>sa2_code</th><th>num_earners</th><th>median_age</th><th>median_income</th><th>mean_income</th><th>locality</th><th>state</th><th>SA2_NAME_2016</th></tr>\n",
       "<tr><td>118011343</td><td>18432</td><td>44</td><td>77665</td><td>176403</td><td>DOUBLE BAY</td><td>NSW</td><td>Double Bay - Bell...</td></tr>\n",
       "<tr><td>118011346</td><td>8478</td><td>48</td><td>74788</td><td>192463</td><td>ROSE BAY</td><td>NSW</td><td>Rose Bay - Vauclu...</td></tr>\n",
       "<tr><td>118011347</td><td>5532</td><td>45</td><td>74887</td><td>164205</td><td>WOOLLAHRA</td><td>NSW</td><td>Woollahra</td></tr>\n",
       "<tr><td>121041415</td><td>20612</td><td>47</td><td>75307</td><td>166807</td><td>MOSMAN</td><td>NSW</td><td>Mosman</td></tr>\n",
       "<tr><td>206041127</td><td>8</td><td>38</td><td>93272</td><td>237158</td><td>WEST MELBOURNE</td><td>VIC</td><td>West Melbourne</td></tr>\n",
       "<tr><td>206061138</td><td>10250</td><td>49</td><td>72451</td><td>177645</td><td>TOORAK</td><td>VIC</td><td>Toorak</td></tr>\n",
       "<tr><td>503011032</td><td>5544</td><td>49</td><td>74999</td><td>213108</td><td>COTTESLOE</td><td>WA</td><td>Cottesloe</td></tr>\n",
       "<tr><td>503011034</td><td>6781</td><td>47</td><td>65623</td><td>160696</td><td>PEPPERMINT GROVE</td><td>WA</td><td>Mosman Park - Pep...</td></tr>\n",
       "<tr><td>503021037</td><td>37</td><td>59</td><td>161893</td><td>356433</td><td>KINGS PARK</td><td>WA</td><td>Kings Park (WA)</td></tr>\n",
       "<tr><td>801061063</td><td>1312</td><td>48</td><td>87093</td><td>150020</td><td>FORREST</td><td>ACT</td><td>Forrest</td></tr>\n",
       "</table>\n"
      ],
      "text/plain": [
       "+---------+-----------+----------+-------------+-----------+----------------+-----+--------------------+\n",
       "| sa2_code|num_earners|median_age|median_income|mean_income|        locality|state|       SA2_NAME_2016|\n",
       "+---------+-----------+----------+-------------+-----------+----------------+-----+--------------------+\n",
       "|118011343|      18432|        44|        77665|     176403|      DOUBLE BAY|  NSW|Double Bay - Bell...|\n",
       "|118011346|       8478|        48|        74788|     192463|        ROSE BAY|  NSW|Rose Bay - Vauclu...|\n",
       "|118011347|       5532|        45|        74887|     164205|       WOOLLAHRA|  NSW|           Woollahra|\n",
       "|121041415|      20612|        47|        75307|     166807|          MOSMAN|  NSW|              Mosman|\n",
       "|206041127|          8|        38|        93272|     237158|  WEST MELBOURNE|  VIC|      West Melbourne|\n",
       "|206061138|      10250|        49|        72451|     177645|          TOORAK|  VIC|              Toorak|\n",
       "|503011032|       5544|        49|        74999|     213108|       COTTESLOE|   WA|           Cottesloe|\n",
       "|503011034|       6781|        47|        65623|     160696|PEPPERMINT GROVE|   WA|Mosman Park - Pep...|\n",
       "|503021037|         37|        59|       161893|     356433|      KINGS PARK|   WA|     Kings Park (WA)|\n",
       "|801061063|       1312|        48|        87093|     150020|         FORREST|  ACT|             Forrest|\n",
       "+---------+-----------+----------+-------------+-----------+----------------+-----+--------------------+"
      ]
     },
     "execution_count": 33,
     "metadata": {},
     "output_type": "execute_result"
    }
   ],
   "source": [
    "testdf = incomedf.alias(\"testdf\")\n",
    "testdf = testdf.dropna(\"all\",subset=\"mean_income\")\n",
    "testdf = testdf.filter(testdf[\"mean_income\"] > 150000)\n",
    "testdf = testdf.join(testpostcodedf, \"sa2_code\")\n",
    "testdf = testdf.dropDuplicates(subset=[\"sa2_code\"])\n",
    "testdf"
   ]
  },
  {
   "cell_type": "markdown",
   "id": "5f832067-eabe-4069-8ab9-fd0ac54b5094",
   "metadata": {},
   "source": [
    "The highest mean income comes from posh regions with low populations and from wealthy regions in major cities"
   ]
  },
  {
   "cell_type": "code",
   "execution_count": 34,
   "id": "45922646-9c47-41f0-a79f-b32833decdcd",
   "metadata": {},
   "outputs": [
    {
     "data": {
      "text/html": [
       "<table border='1'>\n",
       "<tr><th>sa2_code</th><th>num_earners</th><th>median_age</th><th>median_income</th><th>mean_income</th><th>locality</th><th>state</th><th>SA2_NAME_2016</th></tr>\n",
       "<tr><td>124011451</td><td>14</td><td>63</td><td>21247</td><td>19071</td><td>THE DEVILS WILDER...</td><td>NSW</td><td>Blue Mountains - ...</td></tr>\n",
       "<tr><td>205031088</td><td>53</td><td>57</td><td>18177</td><td>32022</td><td>ELIZABETH ISLAND</td><td>VIC</td><td>French Island</td></tr>\n",
       "<tr><td>205051099</td><td>23</td><td>53</td><td>18835</td><td>27804</td><td>ARBUCKLE</td><td>VIC</td><td>Alps - West</td></tr>\n",
       "<tr><td>315011395</td><td>352</td><td>40</td><td>23591</td><td>38363</td><td>AURUKUN</td><td>QLD</td><td>Aurukun</td></tr>\n",
       "<tr><td>504021052</td><td>5</td><td>71</td><td>1260</td><td>-1773</td><td>SAWYERS VALLEY</td><td>WA</td><td>Malmalling - Rese...</td></tr>\n",
       "<tr><td>801031031</td><td>24</td><td>42</td><td>21385</td><td>54739</td><td>HUME</td><td>ACT</td><td>Hume</td></tr>\n",
       "<tr><td>801051049</td><td>548</td><td>23</td><td>9306</td><td>16835</td><td>ANU</td><td>ACT</td><td>Acton</td></tr>\n",
       "</table>\n"
      ],
      "text/plain": [
       "+---------+-----------+----------+-------------+-----------+--------------------+-----+--------------------+\n",
       "| sa2_code|num_earners|median_age|median_income|mean_income|            locality|state|       SA2_NAME_2016|\n",
       "+---------+-----------+----------+-------------+-----------+--------------------+-----+--------------------+\n",
       "|124011451|         14|        63|        21247|      19071|THE DEVILS WILDER...|  NSW|Blue Mountains - ...|\n",
       "|205031088|         53|        57|        18177|      32022|    ELIZABETH ISLAND|  VIC|       French Island|\n",
       "|205051099|         23|        53|        18835|      27804|            ARBUCKLE|  VIC|         Alps - West|\n",
       "|315011395|        352|        40|        23591|      38363|             AURUKUN|  QLD|             Aurukun|\n",
       "|504021052|          5|        71|         1260|      -1773|      SAWYERS VALLEY|   WA|Malmalling - Rese...|\n",
       "|801031031|         24|        42|        21385|      54739|                HUME|  ACT|                Hume|\n",
       "|801051049|        548|        23|         9306|      16835|                 ANU|  ACT|               Acton|\n",
       "+---------+-----------+----------+-------------+-----------+--------------------+-----+--------------------+"
      ]
     },
     "execution_count": 34,
     "metadata": {},
     "output_type": "execute_result"
    }
   ],
   "source": [
    "testdf = incomedf.alias(\"testdf\")\n",
    "testdf = testdf.dropna(\"all\",subset=\"median_income\")\n",
    "testdf = testdf.filter(testdf[\"median_income\"] < 25000)\n",
    "testdf = testdf.join(testpostcodedf, \"sa2_code\")\n",
    "testdf = testdf.dropDuplicates(subset=[\"sa2_code\"])\n",
    "testdf"
   ]
  },
  {
   "cell_type": "markdown",
   "id": "26c324eb-6d04-4eb2-8617-40adff285370",
   "metadata": {},
   "source": [
    "The lowest mean income is similar to the lowest median income and comes from locations where not many people live and not many jobs are available such as parks/islands/mountains"
   ]
  },
  {
   "cell_type": "markdown",
   "id": "8fab79ce-2441-49c6-b563-403ca85b5dcb",
   "metadata": {},
   "source": [
    "It is interesting seeing that the regions with the highest median income are generally different to the regions with the highest mean income <br>\n",
    "Mean being bigger then median means that there are more highly wealthy people bringing the average up <br>\n",
    "this is confirmed as the bigger mean income locations mostly focus around major cities with HIGH populations where these millionaires would generally live <br>\n",
    "whereas the bigger median income regions revolve around niche locations with LOW populations  "
   ]
  },
  {
   "cell_type": "markdown",
   "id": "09c801ae-e36a-463b-b24b-1693edce625b",
   "metadata": {},
   "source": [
    "## Population Data (JAI: needa script that downloads population data)"
   ]
  },
  {
   "cell_type": "code",
   "execution_count": 35,
   "id": "6f49b48c-ba80-4dd7-ba5d-244ab10908e5",
   "metadata": {
    "tags": []
   },
   "outputs": [],
   "source": [
    "skip = list(range(7)) + [8] + list(range(2481, 2490)) + [2480]\n",
    "\n",
    "fields_2b_renamed = ['S/T name', 'no.']\n",
    "\n",
    "field_names = ['S/T name', 'SA2 code', 'SA2 name', 'no.']\n",
    "\n",
    "for i in range (1, 19):\n",
    "    string = 'no..' + str(i)\n",
    "    fields_2b_renamed.append(string)\n",
    "    field_names.append(string)\n",
    "\n",
    "rename_to = ['State/Terr']\n",
    "for i in range(0, 86, 5):\n",
    "    col_name = \"age \"\n",
    "\n",
    "    if i == 85:\n",
    "        col_name += f\"{i}+\"\n",
    "        rename_to.append(col_name)\n",
    "        continue\n",
    "\n",
    "    col_name += f\"{i}-{i+4}\"\n",
    "    rename_to.append(col_name)\n",
    "\n",
    "rename_to.append('Total')\n",
    "\n",
    "rename_cols = dict(zip(fields_2b_renamed, rename_to))\n"
   ]
  },
  {
   "cell_type": "code",
   "execution_count": 36,
   "id": "ef79ad8b-7b57-47a7-b70d-28735429a40c",
   "metadata": {
    "tags": []
   },
   "outputs": [
    {
     "ename": "FileNotFoundError",
     "evalue": "[Errno 2] No such file or directory: '../data/tables/pop.xlsx'",
     "output_type": "error",
     "traceback": [
      "\u001b[0;31m---------------------------------------------------------------------------\u001b[0m",
      "\u001b[0;31mFileNotFoundError\u001b[0m                         Traceback (most recent call last)",
      "\u001b[1;32m/home/ashahi/generic-buy-now-pay-later-project-group-35/notebooks/2 analysis.ipynb Cell 72\u001b[0m in \u001b[0;36m<cell line: 3>\u001b[0;34m()\u001b[0m\n\u001b[1;32m      <a href='vscode-notebook-cell://wsl%2Bubuntu/home/ashahi/generic-buy-now-pay-later-project-group-35/notebooks/2%20analysis.ipynb#Y130sdnNjb2RlLXJlbW90ZQ%3D%3D?line=0'>1</a>\u001b[0m \u001b[39mimport\u001b[39;00m \u001b[39mpandas\u001b[39;00m \u001b[39mas\u001b[39;00m \u001b[39mpd\u001b[39;00m\n\u001b[0;32m----> <a href='vscode-notebook-cell://wsl%2Bubuntu/home/ashahi/generic-buy-now-pay-later-project-group-35/notebooks/2%20analysis.ipynb#Y130sdnNjb2RlLXJlbW90ZQ%3D%3D?line=2'>3</a>\u001b[0m pop_df \u001b[39m=\u001b[39m pd \\\n\u001b[1;32m      <a href='vscode-notebook-cell://wsl%2Bubuntu/home/ashahi/generic-buy-now-pay-later-project-group-35/notebooks/2%20analysis.ipynb#Y130sdnNjb2RlLXJlbW90ZQ%3D%3D?line=3'>4</a>\u001b[0m     \u001b[39m.\u001b[39;49mread_excel(\n\u001b[1;32m      <a href='vscode-notebook-cell://wsl%2Bubuntu/home/ashahi/generic-buy-now-pay-later-project-group-35/notebooks/2%20analysis.ipynb#Y130sdnNjb2RlLXJlbW90ZQ%3D%3D?line=4'>5</a>\u001b[0m         \u001b[39m'\u001b[39;49m\u001b[39m../data/tables/pop.xlsx\u001b[39;49m\u001b[39m'\u001b[39;49m,\n\u001b[1;32m      <a href='vscode-notebook-cell://wsl%2Bubuntu/home/ashahi/generic-buy-now-pay-later-project-group-35/notebooks/2%20analysis.ipynb#Y130sdnNjb2RlLXJlbW90ZQ%3D%3D?line=5'>6</a>\u001b[0m         sheet_name \u001b[39m=\u001b[39;49m \u001b[39m'\u001b[39;49m\u001b[39mTable 3\u001b[39;49m\u001b[39m'\u001b[39;49m,\n\u001b[1;32m      <a href='vscode-notebook-cell://wsl%2Bubuntu/home/ashahi/generic-buy-now-pay-later-project-group-35/notebooks/2%20analysis.ipynb#Y130sdnNjb2RlLXJlbW90ZQ%3D%3D?line=6'>7</a>\u001b[0m         skiprows \u001b[39m=\u001b[39;49m skip,\n\u001b[1;32m      <a href='vscode-notebook-cell://wsl%2Bubuntu/home/ashahi/generic-buy-now-pay-later-project-group-35/notebooks/2%20analysis.ipynb#Y130sdnNjb2RlLXJlbW90ZQ%3D%3D?line=7'>8</a>\u001b[0m     ) \\\n\u001b[1;32m      <a href='vscode-notebook-cell://wsl%2Bubuntu/home/ashahi/generic-buy-now-pay-later-project-group-35/notebooks/2%20analysis.ipynb#Y130sdnNjb2RlLXJlbW90ZQ%3D%3D?line=8'>9</a>\u001b[0m     \u001b[39m.\u001b[39mget(field_names) \\\n\u001b[1;32m     <a href='vscode-notebook-cell://wsl%2Bubuntu/home/ashahi/generic-buy-now-pay-later-project-group-35/notebooks/2%20analysis.ipynb#Y130sdnNjb2RlLXJlbW90ZQ%3D%3D?line=9'>10</a>\u001b[0m     \u001b[39m.\u001b[39mrename(columns \u001b[39m=\u001b[39m rename_cols)\n",
      "File \u001b[0;32m~/.local/lib/python3.10/site-packages/pandas/util/_decorators.py:311\u001b[0m, in \u001b[0;36mdeprecate_nonkeyword_arguments.<locals>.decorate.<locals>.wrapper\u001b[0;34m(*args, **kwargs)\u001b[0m\n\u001b[1;32m    305\u001b[0m \u001b[39mif\u001b[39;00m \u001b[39mlen\u001b[39m(args) \u001b[39m>\u001b[39m num_allow_args:\n\u001b[1;32m    306\u001b[0m     warnings\u001b[39m.\u001b[39mwarn(\n\u001b[1;32m    307\u001b[0m         msg\u001b[39m.\u001b[39mformat(arguments\u001b[39m=\u001b[39marguments),\n\u001b[1;32m    308\u001b[0m         \u001b[39mFutureWarning\u001b[39;00m,\n\u001b[1;32m    309\u001b[0m         stacklevel\u001b[39m=\u001b[39mstacklevel,\n\u001b[1;32m    310\u001b[0m     )\n\u001b[0;32m--> 311\u001b[0m \u001b[39mreturn\u001b[39;00m func(\u001b[39m*\u001b[39;49margs, \u001b[39m*\u001b[39;49m\u001b[39m*\u001b[39;49mkwargs)\n",
      "File \u001b[0;32m~/.local/lib/python3.10/site-packages/pandas/io/excel/_base.py:457\u001b[0m, in \u001b[0;36mread_excel\u001b[0;34m(io, sheet_name, header, names, index_col, usecols, squeeze, dtype, engine, converters, true_values, false_values, skiprows, nrows, na_values, keep_default_na, na_filter, verbose, parse_dates, date_parser, thousands, decimal, comment, skipfooter, convert_float, mangle_dupe_cols, storage_options)\u001b[0m\n\u001b[1;32m    455\u001b[0m \u001b[39mif\u001b[39;00m \u001b[39mnot\u001b[39;00m \u001b[39misinstance\u001b[39m(io, ExcelFile):\n\u001b[1;32m    456\u001b[0m     should_close \u001b[39m=\u001b[39m \u001b[39mTrue\u001b[39;00m\n\u001b[0;32m--> 457\u001b[0m     io \u001b[39m=\u001b[39m ExcelFile(io, storage_options\u001b[39m=\u001b[39;49mstorage_options, engine\u001b[39m=\u001b[39;49mengine)\n\u001b[1;32m    458\u001b[0m \u001b[39melif\u001b[39;00m engine \u001b[39mand\u001b[39;00m engine \u001b[39m!=\u001b[39m io\u001b[39m.\u001b[39mengine:\n\u001b[1;32m    459\u001b[0m     \u001b[39mraise\u001b[39;00m \u001b[39mValueError\u001b[39;00m(\n\u001b[1;32m    460\u001b[0m         \u001b[39m\"\u001b[39m\u001b[39mEngine should not be specified when passing \u001b[39m\u001b[39m\"\u001b[39m\n\u001b[1;32m    461\u001b[0m         \u001b[39m\"\u001b[39m\u001b[39man ExcelFile - ExcelFile already has the engine set\u001b[39m\u001b[39m\"\u001b[39m\n\u001b[1;32m    462\u001b[0m     )\n",
      "File \u001b[0;32m~/.local/lib/python3.10/site-packages/pandas/io/excel/_base.py:1376\u001b[0m, in \u001b[0;36mExcelFile.__init__\u001b[0;34m(self, path_or_buffer, engine, storage_options)\u001b[0m\n\u001b[1;32m   1374\u001b[0m     ext \u001b[39m=\u001b[39m \u001b[39m\"\u001b[39m\u001b[39mxls\u001b[39m\u001b[39m\"\u001b[39m\n\u001b[1;32m   1375\u001b[0m \u001b[39melse\u001b[39;00m:\n\u001b[0;32m-> 1376\u001b[0m     ext \u001b[39m=\u001b[39m inspect_excel_format(\n\u001b[1;32m   1377\u001b[0m         content_or_path\u001b[39m=\u001b[39;49mpath_or_buffer, storage_options\u001b[39m=\u001b[39;49mstorage_options\n\u001b[1;32m   1378\u001b[0m     )\n\u001b[1;32m   1379\u001b[0m     \u001b[39mif\u001b[39;00m ext \u001b[39mis\u001b[39;00m \u001b[39mNone\u001b[39;00m:\n\u001b[1;32m   1380\u001b[0m         \u001b[39mraise\u001b[39;00m \u001b[39mValueError\u001b[39;00m(\n\u001b[1;32m   1381\u001b[0m             \u001b[39m\"\u001b[39m\u001b[39mExcel file format cannot be determined, you must specify \u001b[39m\u001b[39m\"\u001b[39m\n\u001b[1;32m   1382\u001b[0m             \u001b[39m\"\u001b[39m\u001b[39man engine manually.\u001b[39m\u001b[39m\"\u001b[39m\n\u001b[1;32m   1383\u001b[0m         )\n",
      "File \u001b[0;32m~/.local/lib/python3.10/site-packages/pandas/io/excel/_base.py:1250\u001b[0m, in \u001b[0;36minspect_excel_format\u001b[0;34m(content_or_path, storage_options)\u001b[0m\n\u001b[1;32m   1247\u001b[0m \u001b[39mif\u001b[39;00m \u001b[39misinstance\u001b[39m(content_or_path, \u001b[39mbytes\u001b[39m):\n\u001b[1;32m   1248\u001b[0m     content_or_path \u001b[39m=\u001b[39m BytesIO(content_or_path)\n\u001b[0;32m-> 1250\u001b[0m \u001b[39mwith\u001b[39;00m get_handle(\n\u001b[1;32m   1251\u001b[0m     content_or_path, \u001b[39m\"\u001b[39;49m\u001b[39mrb\u001b[39;49m\u001b[39m\"\u001b[39;49m, storage_options\u001b[39m=\u001b[39;49mstorage_options, is_text\u001b[39m=\u001b[39;49m\u001b[39mFalse\u001b[39;49;00m\n\u001b[1;32m   1252\u001b[0m ) \u001b[39mas\u001b[39;00m handle:\n\u001b[1;32m   1253\u001b[0m     stream \u001b[39m=\u001b[39m handle\u001b[39m.\u001b[39mhandle\n\u001b[1;32m   1254\u001b[0m     stream\u001b[39m.\u001b[39mseek(\u001b[39m0\u001b[39m)\n",
      "File \u001b[0;32m~/.local/lib/python3.10/site-packages/pandas/io/common.py:795\u001b[0m, in \u001b[0;36mget_handle\u001b[0;34m(path_or_buf, mode, encoding, compression, memory_map, is_text, errors, storage_options)\u001b[0m\n\u001b[1;32m    786\u001b[0m         handle \u001b[39m=\u001b[39m \u001b[39mopen\u001b[39m(\n\u001b[1;32m    787\u001b[0m             handle,\n\u001b[1;32m    788\u001b[0m             ioargs\u001b[39m.\u001b[39mmode,\n\u001b[0;32m   (...)\u001b[0m\n\u001b[1;32m    791\u001b[0m             newline\u001b[39m=\u001b[39m\u001b[39m\"\u001b[39m\u001b[39m\"\u001b[39m,\n\u001b[1;32m    792\u001b[0m         )\n\u001b[1;32m    793\u001b[0m     \u001b[39melse\u001b[39;00m:\n\u001b[1;32m    794\u001b[0m         \u001b[39m# Binary mode\u001b[39;00m\n\u001b[0;32m--> 795\u001b[0m         handle \u001b[39m=\u001b[39m \u001b[39mopen\u001b[39;49m(handle, ioargs\u001b[39m.\u001b[39;49mmode)\n\u001b[1;32m    796\u001b[0m     handles\u001b[39m.\u001b[39mappend(handle)\n\u001b[1;32m    798\u001b[0m \u001b[39m# Convert BytesIO or file objects passed with an encoding\u001b[39;00m\n",
      "\u001b[0;31mFileNotFoundError\u001b[0m: [Errno 2] No such file or directory: '../data/tables/pop.xlsx'"
     ]
    }
   ],
   "source": [
    "import pandas as pd\n",
    "\n",
    "pop_df = pd \\\n",
    "    .read_excel(\n",
    "        '../data/tables/pop.xlsx',\n",
    "        sheet_name = 'Table 3',\n",
    "        skiprows = skip,\n",
    "    ) \\\n",
    "    .get(field_names) \\\n",
    "    .rename(columns = rename_cols)"
   ]
  },
  {
   "cell_type": "markdown",
   "id": "bd089ff3-62ee-4fb6-98cd-7df33bf77057",
   "metadata": {
    "tags": []
   },
   "source": [
    "Create custom categories for better interpretation:\n",
    "- old: 60+\n",
    "- middle age: 35-59\n",
    "- young adult: 20-34\n",
    "- adolescent: 10-19\n",
    "- under 10: 0-9\n",
    "\n",
    "Note: retiremet age in Australia is 66"
   ]
  },
  {
   "cell_type": "code",
   "execution_count": null,
   "id": "7293cb9f-3c9f-4b24-87eb-ef992c8f7e8b",
   "metadata": {},
   "outputs": [],
   "source": [
    "# get all age columns to be dropped\n",
    "drop_cols = [string for string in pop_df.columns if string[:3] == 'age']"
   ]
  },
  {
   "cell_type": "code",
   "execution_count": null,
   "id": "371bbac7-909c-489c-b6a9-a278e808c160",
   "metadata": {},
   "outputs": [],
   "source": [
    "groups = {\n",
    "    'Under 10': [0, 10],\n",
    "    'Adolescent': [10, 20],\n",
    "    'Young adult': [20, 35],\n",
    "    'Middle age': [35, 60],\n",
    "    'Old': [60, 86]\n",
    "}\n",
    "\n",
    "for group, ages in groups.items():\n",
    "\n",
    "    age_sum = 0\n",
    "    for i in range(ages[0], ages[1], 5):\n",
    "\n",
    "        if i == 85:\n",
    "            age_range_str = f\"age {i}+\"\n",
    "        else:\n",
    "            age_range_str = f\"age {i}-{i+4}\"\n",
    "            \n",
    "        age_sum += pop_df[age_range_str]\n",
    "        \n",
    "    pop_df[group] = age_sum\n",
    " \n",
    "\n",
    "# drop all columns containing age\n",
    "pop_df_mod = pop_df.drop(axis=0, columns=drop_cols)"
   ]
  },
  {
   "cell_type": "markdown",
   "id": "6c36415f-2b53-41b0-b0ed-d8e1c03321f6",
   "metadata": {},
   "source": [
    "Convert population pandas dataframe to spark dataframe for later integration."
   ]
  },
  {
   "cell_type": "code",
   "execution_count": null,
   "id": "69096305-290f-4ab1-b986-187e0de0fa5d",
   "metadata": {},
   "outputs": [],
   "source": [
    "pop_df_mod = pop_df_mod.convert_dtypes()\n",
    "pop_df_mod.dtypes\n",
    "pop_df_mod[pop_df_mod.isnull().any(axis=1)]\n",
    "pop_df_mod = pop_df_mod.dropna()"
   ]
  },
  {
   "cell_type": "markdown",
   "id": "1a674be4-d212-4db7-bf26-26e83409bf0a",
   "metadata": {},
   "source": [
    "21 cells feaaturing NA values were dropped here, since they were either totals or rows of entirely null values"
   ]
  },
  {
   "cell_type": "code",
   "execution_count": null,
   "id": "dc966f97-0045-4c56-9171-7f60748f7ba4",
   "metadata": {},
   "outputs": [],
   "source": [
    "from pyspark.sql.types import *\n",
    "\n",
    "mySchema = StructType([\n",
    "    StructField(\"State/Terr\", StringType()),\n",
    "    StructField(\"SA2 code\", StringType()),\n",
    "    StructField(\"SA2 name\", StringType()),\n",
    "    StructField(\"Total\", IntegerType()),\n",
    "    StructField(\"Under 10\", IntegerType()),\n",
    "    StructField(\"Adolescent\", IntegerType()),\n",
    "    StructField(\"Young adult\", IntegerType()),\n",
    "    StructField(\"Middle age\", IntegerType()),\n",
    "    StructField(\"Old\", IntegerType())\n",
    "])"
   ]
  },
  {
   "cell_type": "code",
   "execution_count": null,
   "id": "86cb458e-bae8-4fd0-9095-0cb477481609",
   "metadata": {},
   "outputs": [],
   "source": [
    "pop_sdf = spark.createDataFrame(\n",
    "    pop_df_mod,\n",
    "    mySchema\n",
    ")"
   ]
  },
  {
   "cell_type": "code",
   "execution_count": null,
   "id": "5bd886fd-4317-4715-950e-810e65107d19",
   "metadata": {},
   "outputs": [
    {
     "name": "stderr",
     "output_type": "stream",
     "text": [
      "[Stage 391:>                                                        (0 + 1) / 1]\r"
     ]
    },
    {
     "name": "stdout",
     "output_type": "stream",
     "text": [
      "+---------------+---------+--------------------+-----+--------+----------+-----------+----------+----+\n",
      "|     State/Terr| SA2 code|            SA2 name|Total|Under 10|Adolescent|Young adult|Middle age| Old|\n",
      "+---------------+---------+--------------------+-----+--------+----------+-----------+----------+----+\n",
      "|New South Wales|101021007|           Braidwood| 4330|     473|       403|        495|      1472|1487|\n",
      "|New South Wales|101021008|             Karabar| 8546|    1082|      1075|       1818|      2858|1713|\n",
      "|New South Wales|101021009|          Queanbeyan|11370|    1275|       916|       3129|      3681|2369|\n",
      "|New South Wales|101021010|   Queanbeyan - East| 5093|     588|       406|       1460|      1718| 921|\n",
      "|New South Wales|101021012|Queanbeyan West -...|12743|    1796|      1910|       2266|      4933|1838|\n",
      "|New South Wales|101021610|             Googong| 6245|    1472|       696|       1569|      2192| 316|\n",
      "|New South Wales|101021611|Queanbeyan Surrounds|16523|    2004|      2293|       2478|      6147|3601|\n",
      "|New South Wales|101031013|             Bombala| 2449|     258|       258|        337|       729| 867|\n",
      "|New South Wales|101031014|               Cooma| 6760|     751|       696|       1220|      2113|1980|\n",
      "|New South Wales|101031015|     Cooma Surrounds| 3460|     313|       417|        425|      1188|1117|\n",
      "|New South Wales|101031016|Jindabyne - Berri...| 8044|     736|      1115|       1917|      2675|1601|\n",
      "|New South Wales|101041017|        Batemans Bay| 8587|     854|       951|       1107|      2378|3297|\n",
      "|New South Wales|101041018|Batemans Bay - South| 8905|     762|       904|       1027|      2485|3727|\n",
      "|New South Wales|101041019|       Bega - Tathra| 8846|     989|      1063|       1242|      2700|2852|\n",
      "|New South Wales|101041020|Bega-Eden Hinterland| 9527|     963|      1078|       1122|      3082|3282|\n",
      "|New South Wales|101041021|   Broulee - Tomakin| 3771|     340|       432|        429|      1106|1464|\n",
      "|New South Wales|101041022|   Deua - Wadbilliga|   41|       1|         1|          0|        20|  19|\n",
      "|New South Wales|101041023|                Eden| 3409|     357|       347|        396|       934|1375|\n",
      "|New South Wales|101041024|Eurobodalla Hinte...| 3522|     308|       368|        409|      1165|1272|\n",
      "|New South Wales|101041025|Merimbula - Tura ...|11425|     932|      1139|       1385|      3162|4807|\n",
      "+---------------+---------+--------------------+-----+--------+----------+-----------+----------+----+\n",
      "only showing top 20 rows\n",
      "\n"
     ]
    },
    {
     "name": "stderr",
     "output_type": "stream",
     "text": [
      "                                                                                \r"
     ]
    }
   ],
   "source": [
    "pop_sdf.show()"
   ]
  },
  {
   "cell_type": "markdown",
   "id": "ecef1217-f11a-4754-9ea5-c73ee47bcb18",
   "metadata": {},
   "source": [
    "Get sum of each age group and create pie charts for each state and territory."
   ]
  },
  {
   "cell_type": "code",
   "execution_count": null,
   "id": "593041ea-3e87-42b0-acc6-ae8b2076f018",
   "metadata": {},
   "outputs": [],
   "source": [
    "pop_agg_st = pop_sdf.groupBy(\"State/Terr\") \\\n",
    "    .sum(\"Under 10\", \"Adolescent\", \"Young adult\", \"Middle age\", \"Old\")\n",
    "\n",
    "pop_agg_st_df = pop_agg_st.toPandas()"
   ]
  },
  {
   "cell_type": "code",
   "execution_count": null,
   "id": "c584ad1b-a0cb-4ba6-bfb7-f117342cc12a",
   "metadata": {},
   "outputs": [],
   "source": [
    "pop_agg_st_df.set_index(\"State/Terr\", inplace=True)"
   ]
  },
  {
   "cell_type": "code",
   "execution_count": null,
   "id": "d99f0eb5-fe0b-460f-abc3-98a3d4561b83",
   "metadata": {},
   "outputs": [
    {
     "data": {
      "image/png": "[encoded data removed]",
      "text/plain": [
       "<Figure size 432x288 with 1 Axes>"
      ]
     },
     "metadata": {},
     "output_type": "display_data"
    },
    {
     "data": {
      "image/png": "[encoded data removed]",
      "text/plain": [
       "<Figure size 432x288 with 1 Axes>"
      ]
     },
     "metadata": {},
     "output_type": "display_data"
    },
    {
     "data": {
      "image/png": "[encoded data removed]",
      "text/plain": [
       "<Figure size 432x288 with 1 Axes>"
      ]
     },
     "metadata": {},
     "output_type": "display_data"
    },
    {
     "data": {
      "image/png": "[encoded data removed]",
      "text/plain": [
       "<Figure size 432x288 with 1 Axes>"
      ]
     },
     "metadata": {},
     "output_type": "display_data"
    },
    {
     "data": {
      "image/png": "[encoded data removed]",
      "text/plain": [
       "<Figure size 432x288 with 1 Axes>"
      ]
     },
     "metadata": {},
     "output_type": "display_data"
    },
    {
     "data": {
      "image/png": "[encoded data removed]",
      "text/plain": [
       "<Figure size 432x288 with 1 Axes>"
      ]
     },
     "metadata": {},
     "output_type": "display_data"
    },
    {
     "data": {
      "image/png": "[encoded data removed]",
      "text/plain": [
       "<Figure size 432x288 with 1 Axes>"
      ]
     },
     "metadata": {},
     "output_type": "display_data"
    },
    {
     "data": {
      "image/png": "[encoded data removed]",
      "text/plain": [
       "<Figure size 432x288 with 1 Axes>"
      ]
     },
     "metadata": {},
     "output_type": "display_data"
    }
   ],
   "source": [
    "from matplotlib import pyplot as plt\n",
    "\n",
    "states = list(pop_agg_st_df.index)\n",
    "\n",
    "i = 0\n",
    "for state in states:\n",
    "    data = list(pop_agg_st_df.loc[state])\n",
    "\n",
    "    plt.figure(i)\n",
    "    plt.title(state)\n",
    "    plt.pie(data, autopct='%.2f', labels=list(groups.keys()))\n",
    "    \n",
    "    i += 1\n",
    "\n",
    "plt.show()"
   ]
  },
  {
   "cell_type": "markdown",
   "id": "b6fb730e-08b5-4951-8819-546503e57f9e",
   "metadata": {},
   "source": [
    "It is evident that the distribution of the age groups for the states and territories are extremely similar.\n",
    "\n",
    "Let us examine the boxplots for the same data."
   ]
  },
  {
   "cell_type": "markdown",
   "id": "583bd10f-0082-4dfb-831a-569a19cff03f",
   "metadata": {},
   "source": [
    "SA2 Shapefile: https://www.abs.gov.au/statistics/standards/australian-statistical-geography-standard-asgs-edition-3/jul2021-jun2026/access-and-downloads/digital-boundary-files"
   ]
  },
  {
   "cell_type": "markdown",
   "id": "4bb90f92",
   "metadata": {},
   "source": [
    "# Fraud Data"
   ]
  },
  {
   "cell_type": "markdown",
   "id": "317bf9b2",
   "metadata": {},
   "source": [
    "### Consumer Fraud"
   ]
  },
  {
   "cell_type": "code",
   "execution_count": 37,
   "id": "ee8bb8bf",
   "metadata": {},
   "outputs": [
    {
     "name": "stdout",
     "output_type": "stream",
     "text": [
      "34864\n",
      "34864\n"
     ]
    },
    {
     "data": {
      "text/html": [
       "<table border='1'>\n",
       "<tr><th>user_id</th><th>order_datetime</th><th>fraud_probability</th></tr>\n",
       "<tr><td>6228</td><td>2021-12-19</td><td>97.6298077657765</td></tr>\n",
       "<tr><td>21419</td><td>2021-12-10</td><td>99.24738020302328</td></tr>\n",
       "<tr><td>5606</td><td>2021-10-17</td><td>84.05825045251777</td></tr>\n",
       "<tr><td>3101</td><td>2021-04-17</td><td>91.42192091901347</td></tr>\n",
       "<tr><td>22239</td><td>2021-10-19</td><td>94.70342477508035</td></tr>\n",
       "</table>\n"
      ],
      "text/plain": [
       "+-------+--------------+-----------------+\n",
       "|user_id|order_datetime|fraud_probability|\n",
       "+-------+--------------+-----------------+\n",
       "|   6228|    2021-12-19| 97.6298077657765|\n",
       "|  21419|    2021-12-10|99.24738020302328|\n",
       "|   5606|    2021-10-17|84.05825045251777|\n",
       "|   3101|    2021-04-17|91.42192091901347|\n",
       "|  22239|    2021-10-19|94.70342477508035|\n",
       "+-------+--------------+-----------------+"
      ]
     },
     "execution_count": 37,
     "metadata": {},
     "output_type": "execute_result"
    }
   ],
   "source": [
    "consumerfrauddf = spark.read.option(\"header\",\"True\").csv(\"../data/tables/consumer_fraud_probability.csv\")\n",
    "print(consumerfrauddf.count())\n",
    "consumerfrauddf = consumerfrauddf.dropna(\"any\")\n",
    "print(consumerfrauddf.count())\n",
    "consumerfrauddf = consumerfrauddf.withColumn(\"fraud_probability\", col(\"fraud_probability\").cast('double'))\n",
    "consumerfrauddf.limit(5)"
   ]
  },
  {
   "cell_type": "markdown",
   "id": "716adaf3",
   "metadata": {},
   "source": [
    "No null values"
   ]
  },
  {
   "cell_type": "code",
   "execution_count": 38,
   "id": "1c146853",
   "metadata": {},
   "outputs": [
    {
     "name": "stdout",
     "output_type": "stream",
     "text": [
      "34864\n"
     ]
    }
   ],
   "source": [
    "testdf = consumerfrauddf.filter(consumerfrauddf[\"user_id\"] > 0)\n",
    "testdf = testdf.filter(consumerfrauddf[\"user_id\"] <= 24081)\n",
    "print(testdf.count())"
   ]
  },
  {
   "cell_type": "markdown",
   "id": "30e218e5",
   "metadata": {},
   "source": [
    "All consumer ids valid "
   ]
  },
  {
   "cell_type": "code",
   "execution_count": 39,
   "id": "63918741",
   "metadata": {},
   "outputs": [
    {
     "data": {
      "text/plain": [
       "34864"
      ]
     },
     "execution_count": 39,
     "metadata": {},
     "output_type": "execute_result"
    }
   ],
   "source": [
    "import datetime\n",
    "start_date = datetime.datetime(2021, 2, 28) \n",
    "end_date = datetime.datetime(2022, 2, 28)\n",
    "testdf = consumerfrauddf.filter(consumerfrauddf[\"order_datetime\"] >= start_date)\n",
    "testdf = testdf.filter(consumerfrauddf[\"order_datetime\"] <= end_date)\n",
    "testdf.count()"
   ]
  },
  {
   "cell_type": "markdown",
   "id": "b361915f",
   "metadata": {},
   "source": [
    "All datetimes valid"
   ]
  },
  {
   "cell_type": "code",
   "execution_count": 40,
   "id": "ecfaa97d",
   "metadata": {},
   "outputs": [
    {
     "name": "stdout",
     "output_type": "stream",
     "text": [
      "+----------------------+----------------------+----------------------+\n",
      "|min(fraud_probability)|max(fraud_probability)|avg(fraud_probability)|\n",
      "+----------------------+----------------------+----------------------+\n",
      "|     8.287143531552802|     99.24738020302328|    15.120090644154585|\n",
      "+----------------------+----------------------+----------------------+\n",
      "\n"
     ]
    },
    {
     "data": {
      "image/png": "[encoded data removed]",
      "text/plain": [
       "<Figure size 640x480 with 1 Axes>"
      ]
     },
     "metadata": {},
     "output_type": "display_data"
    },
    {
     "data": {
      "image/png": "[encoded data removed]",
      "text/plain": [
       "<Figure size 640x480 with 1 Axes>"
      ]
     },
     "metadata": {},
     "output_type": "display_data"
    }
   ],
   "source": [
    "import matplotlib.pyplot as plt\n",
    "\n",
    "df = consumerfrauddf.toPandas()\n",
    "\n",
    "print(consumerfrauddf.agg(min(\"fraud_probability\"), max(\"fraud_probability\"), mean(\"fraud_probability\")))\n",
    "\n",
    "plt.boxplot(df[\"fraud_probability\"])\n",
    "plt.show()\n",
    "\n",
    "plt.hist(df[\"fraud_probability\"])\n",
    "plt.xlabel(\"fraud probability\")\n",
    "plt.show() "
   ]
  },
  {
   "cell_type": "markdown",
   "id": "4a343c2a",
   "metadata": {},
   "source": [
    "Most consumer fraud probabilities are towards lower end of spectrum"
   ]
  },
  {
   "cell_type": "code",
   "execution_count": 41,
   "id": "2b090f95",
   "metadata": {},
   "outputs": [
    {
     "name": "stdout",
     "output_type": "stream",
     "text": [
      "+--------------------+--------------------+--------------------+\n",
      "|min(fraudulent_days)|max(fraudulent_days)|avg(fraudulent_days)|\n",
      "+--------------------+--------------------+--------------------+\n",
      "|                   1|                   6|   1.732114467408585|\n",
      "+--------------------+--------------------+--------------------+\n",
      "\n",
      "+---------------+---------+\n",
      "|fraudulent_days|frequency|\n",
      "+---------------+---------+\n",
      "|              1|     9291|\n",
      "|              2|     7555|\n",
      "|              3|     2723|\n",
      "|              4|      506|\n",
      "|              5|       48|\n",
      "|              6|        5|\n",
      "+---------------+---------+\n",
      "\n"
     ]
    },
    {
     "data": {
      "image/png": "[encoded data removed]",
      "text/plain": [
       "<Figure size 640x480 with 1 Axes>"
      ]
     },
     "metadata": {},
     "output_type": "display_data"
    }
   ],
   "source": [
    "testdf = consumerfrauddf.groupBy(\"user_id\").agg(count(\"user_id\").alias(\"fraudulent_days\"))\n",
    "print(testdf.agg(min(\"fraudulent_days\"), max(\"fraudulent_days\"), mean(\"fraudulent_days\")))\n",
    "testdf = testdf.groupBy(\"fraudulent_days\").agg(count(\"fraudulent_days\").alias(\"frequency\")).orderBy(\"fraudulent_days\")\n",
    "print(testdf)\n",
    "\n",
    "df = testdf.toPandas()\n",
    "plt.bar(df[\"fraudulent_days\"],df[\"frequency\"])\n",
    "plt.xlabel(\"Number of fraudulent days\")\n",
    "plt.ylabel(\"frequency\")\n",
    "plt.show() "
   ]
  },
  {
   "cell_type": "markdown",
   "id": "8c39720a",
   "metadata": {},
   "source": [
    "First table shows that the minimum number of times a user had a fraudulent transaction day was 1 and the maximum number of times was 6 with an average of 1.7 fraudulent days for any given user <br>\n",
    "Table 2 and the bar chart show the frequency"
   ]
  },
  {
   "cell_type": "markdown",
   "id": "e2f97df7",
   "metadata": {},
   "source": [
    "### Merchant Fraud"
   ]
  },
  {
   "cell_type": "code",
   "execution_count": 42,
   "id": "71218972",
   "metadata": {},
   "outputs": [
    {
     "name": "stdout",
     "output_type": "stream",
     "text": [
      "114\n",
      "114\n"
     ]
    },
    {
     "data": {
      "text/html": [
       "<table border='1'>\n",
       "<tr><th>merchant_abn</th><th>order_datetime</th><th>fraud_probability</th></tr>\n",
       "<tr><td>19492220327</td><td>2021-11-28</td><td>44.403658647495355</td></tr>\n",
       "<tr><td>31334588839</td><td>2021-10-02</td><td>42.75530083865367</td></tr>\n",
       "<tr><td>19492220327</td><td>2021-12-22</td><td>38.867790051131095</td></tr>\n",
       "<tr><td>82999039227</td><td>2021-12-19</td><td>94.1347004808891</td></tr>\n",
       "<tr><td>90918180829</td><td>2021-09-02</td><td>43.32551731714902</td></tr>\n",
       "</table>\n"
      ],
      "text/plain": [
       "+------------+--------------+------------------+\n",
       "|merchant_abn|order_datetime| fraud_probability|\n",
       "+------------+--------------+------------------+\n",
       "| 19492220327|    2021-11-28|44.403658647495355|\n",
       "| 31334588839|    2021-10-02| 42.75530083865367|\n",
       "| 19492220327|    2021-12-22|38.867790051131095|\n",
       "| 82999039227|    2021-12-19|  94.1347004808891|\n",
       "| 90918180829|    2021-09-02| 43.32551731714902|\n",
       "+------------+--------------+------------------+"
      ]
     },
     "execution_count": 42,
     "metadata": {},
     "output_type": "execute_result"
    }
   ],
   "source": [
    "merchantfrauddf = spark.read.option(\"header\",\"True\").csv(\"../data/tables/merchant_fraud_probability.csv\")\n",
    "print(merchantfrauddf.count())\n",
    "merchantfrauddf = merchantfrauddf.dropna(\"any\")\n",
    "print(merchantfrauddf.count())\n",
    "merchantfrauddf = merchantfrauddf.withColumn(\"fraud_probability\", col(\"fraud_probability\").cast('double'))\n",
    "merchantfrauddf.limit(5)"
   ]
  },
  {
   "cell_type": "markdown",
   "id": "53cf57c2",
   "metadata": {},
   "source": [
    "No null values"
   ]
  },
  {
   "cell_type": "code",
   "execution_count": 43,
   "id": "7530f633",
   "metadata": {},
   "outputs": [],
   "source": [
    "# Invalid merchant abns will be removed when joining"
   ]
  },
  {
   "cell_type": "code",
   "execution_count": 44,
   "id": "d368dc20",
   "metadata": {},
   "outputs": [
    {
     "data": {
      "text/plain": [
       "114"
      ]
     },
     "execution_count": 44,
     "metadata": {},
     "output_type": "execute_result"
    }
   ],
   "source": [
    "import datetime\n",
    "start_date = datetime.datetime(2021, 2, 28) \n",
    "end_date = datetime.datetime(2022, 2, 28)\n",
    "testdf = merchantfrauddf.filter(merchantfrauddf[\"order_datetime\"] >= start_date)\n",
    "testdf = testdf.filter(merchantfrauddf[\"order_datetime\"] <= end_date)\n",
    "testdf.count()"
   ]
  },
  {
   "cell_type": "markdown",
   "id": "b5333b70",
   "metadata": {},
   "source": [
    "All datetimes valid"
   ]
  },
  {
   "cell_type": "code",
   "execution_count": 45,
   "id": "1911370c",
   "metadata": {},
   "outputs": [
    {
     "name": "stdout",
     "output_type": "stream",
     "text": [
      "+----------------------+----------------------+----------------------+\n",
      "|min(fraud_probability)|max(fraud_probability)|avg(fraud_probability)|\n",
      "+----------------------+----------------------+----------------------+\n",
      "|     18.21089142894488|      94.1347004808891|    40.419334695018094|\n",
      "+----------------------+----------------------+----------------------+\n",
      "\n"
     ]
    },
    {
     "data": {
      "image/png": "[encoded data removed]",
      "text/plain": [
       "<Figure size 640x480 with 1 Axes>"
      ]
     },
     "metadata": {},
     "output_type": "display_data"
    },
    {
     "data": {
      "image/png": "[encoded data removed]",
      "text/plain": [
       "<Figure size 640x480 with 1 Axes>"
      ]
     },
     "metadata": {},
     "output_type": "display_data"
    }
   ],
   "source": [
    "import matplotlib.pyplot as plt\n",
    "\n",
    "df = merchantfrauddf.toPandas()\n",
    "\n",
    "print(merchantfrauddf.agg(min(\"fraud_probability\"), max(\"fraud_probability\"), mean(\"fraud_probability\")))\n",
    "\n",
    "plt.boxplot(df[\"fraud_probability\"])\n",
    "plt.show()\n",
    "\n",
    "plt.hist(df[\"fraud_probability\"])\n",
    "plt.xlabel(\"fraud probability\")\n",
    "plt.show() "
   ]
  },
  {
   "cell_type": "markdown",
   "id": "4d710158",
   "metadata": {},
   "source": [
    "Merchant fraud probabilities are more evenly spread out then user ones"
   ]
  },
  {
   "cell_type": "code",
   "execution_count": 46,
   "id": "f9913c5f",
   "metadata": {},
   "outputs": [
    {
     "name": "stdout",
     "output_type": "stream",
     "text": [
      "+--------------------+--------------------+--------------------+\n",
      "|min(fraudulent_days)|max(fraudulent_days)|avg(fraudulent_days)|\n",
      "+--------------------+--------------------+--------------------+\n",
      "|                   1|                  12|  1.8688524590163935|\n",
      "+--------------------+--------------------+--------------------+\n",
      "\n",
      "+---------------+---------+\n",
      "|fraudulent_days|frequency|\n",
      "+---------------+---------+\n",
      "|              1|       44|\n",
      "|              2|        5|\n",
      "|              3|        6|\n",
      "|              4|        1|\n",
      "|              5|        1|\n",
      "|              6|        1|\n",
      "|              7|        1|\n",
      "|              8|        1|\n",
      "|             12|        1|\n",
      "+---------------+---------+\n",
      "\n"
     ]
    },
    {
     "data": {
      "image/png": "[encoded data removed]",
      "text/plain": [
       "<Figure size 640x480 with 1 Axes>"
      ]
     },
     "metadata": {},
     "output_type": "display_data"
    }
   ],
   "source": [
    "testdf = merchantfrauddf.groupBy(\"merchant_abn\").agg(count(\"merchant_abn\").alias(\"fraudulent_days\"))\n",
    "print(testdf.agg(min(\"fraudulent_days\"), max(\"fraudulent_days\"), mean(\"fraudulent_days\")))\n",
    "testdf = testdf.groupBy(\"fraudulent_days\").agg(count(\"fraudulent_days\").alias(\"frequency\")).orderBy(\"fraudulent_days\")\n",
    "print(testdf)\n",
    "\n",
    "df = testdf.toPandas()\n",
    "plt.bar(df[\"fraudulent_days\"],df[\"frequency\"])\n",
    "plt.xlabel(\"Number of fraudulent days\")\n",
    "plt.ylabel(\"frequency\")\n",
    "plt.show() "
   ]
  },
  {
   "cell_type": "markdown",
   "id": "98df710c",
   "metadata": {},
   "source": [
    "Most merchants had a low number of fraudulent days"
   ]
  }
 ],
 "metadata": {
  "kernelspec": {
   "display_name": "Python 3.10.4 64-bit",
   "language": "python",
   "name": "python3"
  },
  "language_info": {
   "codemirror_mode": {
    "name": "ipython",
    "version": 3
   },
   "file_extension": ".py",
   "mimetype": "text/x-python",
   "name": "python",
   "nbconvert_exporter": "python",
   "pygments_lexer": "ipython3",
   "version": "3.10.4"
  },
  "vscode": {
   "interpreter": {
    "hash": "916dbcbb3f70747c44a77c7bcd40155683ae19c65e1c03b4aa3499c5328201f1"
   }
  }
 },
 "nbformat": 4,
 "nbformat_minor": 5
}
