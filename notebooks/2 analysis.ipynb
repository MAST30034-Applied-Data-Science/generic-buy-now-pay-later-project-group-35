{
 "cells": [
  {
   "cell_type": "code",
   "execution_count": 1,
   "id": "f935367d-cab0-4904-9bed-676c9eccd84b",
   "metadata": {
    "tags": []
   },
   "outputs": [
    {
     "name": "stdout",
     "output_type": "stream",
     "text": [
      "22/09/18 22:46:03 WARN Utils: Your hostname, AryansLaptop resolves to a loopback address: 127.0.1.1; using 172.28.32.93 instead (on interface eth0)\n",
      "22/09/18 22:46:03 WARN Utils: Set SPARK_LOCAL_IP if you need to bind to another address\n"
     ]
    },
    {
     "name": "stderr",
     "output_type": "stream",
     "text": [
      "Setting default log level to \"WARN\".\n",
      "To adjust logging level use sc.setLogLevel(newLevel). For SparkR, use setLogLevel(newLevel).\n"
     ]
    },
    {
     "name": "stdout",
     "output_type": "stream",
     "text": [
      "22/09/18 22:46:05 WARN NativeCodeLoader: Unable to load native-hadoop library for your platform... using builtin-java classes where applicable\n",
      "22/09/18 22:46:05 WARN Utils: Service 'SparkUI' could not bind on port 4040. Attempting port 4041.\n"
     ]
    }
   ],
   "source": [
    "from pyspark.sql import SparkSession\n",
    "from pyspark.sql.functions import * \n",
    "import matplotlib.pyplot as plt\n",
    "import pandas as pd\n",
    "import numpy as np\n",
    "from urllib.request import urlretrieve\n",
    "from owslib.wfs import WebFeatureService\n",
    "from dotenv import load_dotenv\n",
    "\n",
    "# Create a spark session\n",
    "spark = (\n",
    "    SparkSession.builder.appName(\"analysis\")\n",
    "    .config(\"spark.sql.repl.eagerEval.enabled\", True) \n",
    "    .config(\"spark.sql.parquet.cacheMetadata\", \"true\")\n",
    "    .config(\"spark.sql.session.timeZone\", \"Etc/UTC\")\n",
    "    .config(\"spark.driver.memory\", \"2g\")\n",
    "    .config(\"spark.executor.memory\", \"6g\")\n",
    "    .getOrCreate()\n",
    ")"
   ]
  },
  {
   "cell_type": "code",
   "execution_count": 6,
   "id": "2a912ac0-9236-4e21-ac1c-2df70e658304",
   "metadata": {},
   "outputs": [],
   "source": [
    "sdf = spark.read.parquet(\"../data/curated/mergedf.parquet/\")"
   ]
  },
  {
   "cell_type": "code",
   "execution_count": 4,
   "id": "8ef18bba-cfe7-4773-926b-2d626952ce53",
   "metadata": {},
   "outputs": [],
   "source": [
    "merchantdf = spark.read.parquet(\"../data/tables/tbl_merchants.parquet\")\n",
    "merchantdf = merchantdf.withColumnRenamed(\"name\",\"company_name\")\n",
    "\n",
    "# Replace all square brackets with round brackets\n",
    "merchantdf = merchantdf.withColumn('tags', regexp_replace('tags', '\\\\[', '\\\\('))\n",
    "merchantdf = merchantdf.withColumn('tags', regexp_replace('tags', '\\\\]', '\\\\)'))\n",
    "\n",
    "# Extract take rate into seperate column\n",
    "merchantdf = merchantdf.withColumn(\"take_rate\", \n",
    "                                   split(col(\"tags\"), \"\\\\),\").getItem(2))\\\n",
    "                       .withColumn('take_rate', \n",
    "                                   regexp_replace('take_rate', 'take rate: ', \n",
    "                                                  ''))\\\n",
    "                       .withColumn('take_rate', \n",
    "                                   regexp_replace('take_rate', '\\\\(', ''))\\\n",
    "                       .withColumn('take_rate', \n",
    "                                   regexp_replace('take_rate', '\\\\)', ''))\n",
    "\n",
    "# Extract revenue band\n",
    "merchantdf = merchantdf.withColumn(\"revenue_band\", \n",
    "                                   split(col(\"tags\"), \"\\\\),\").getItem(1))\\\n",
    "                       .withColumn('revenue_band', \n",
    "                                   regexp_replace('revenue_band', '\\\\(', ''))\\\n",
    "                       .withColumn('revenue_band', \n",
    "                                   regexp_replace('revenue_band', '\\\\)', ''))\n",
    "\n",
    "# Extract tags band\n",
    "merchantdf = merchantdf.withColumn(\"tags\", \n",
    "                                   split(col(\"tags\"), \"\\\\),\").getItem(0))\\\n",
    "                       .withColumn('tags', \n",
    "                                   regexp_replace('tags', '\\\\(', ''))\\\n",
    "                       .withColumn('tags', \n",
    "                                   regexp_replace('tags', '\\\\)', ''))\\\n",
    "                       .withColumn('tags', \n",
    "                                   regexp_replace('tags', ' +', ' '))\\\n",
    "                       .withColumn('tags', \n",
    "                                   lower('tags'))"
   ]
  },
  {
   "cell_type": "code",
   "execution_count": 5,
   "id": "b007233e-07f7-489d-a30a-ac292bb04bb5",
   "metadata": {},
   "outputs": [],
   "source": [
    "transactiondf1 = spark.read.parquet(\"../data/tables/transactions_20210228_20210827_snapshot/\")\n",
    "transactiondf2 = spark.read.parquet(\"../data/tables/transactions_20210828_20220227_snapshot/\")\n",
    "transactiondf = transactiondf1.union(transactiondf2)\n",
    "userdf = spark.read.parquet(\"../data/tables/consumer_user_details.parquet\")"
   ]
  },
  {
   "cell_type": "markdown",
   "id": "2d6e4d56-1f32-4751-a547-8abe152e9bf2",
   "metadata": {},
   "source": [
    "## Revenue Band"
   ]
  },
  {
   "cell_type": "code",
   "execution_count": 5,
   "id": "e9da8efa-35e1-4e11-9c1a-0b7cfa9d2aa4",
   "metadata": {},
   "outputs": [
    {
     "name": "stdout",
     "output_type": "stream",
     "text": [
      "  revenue_band  count\n",
      "0            a   1602\n",
      "1            b   1351\n",
      "2            c    922\n",
      "3            d     98\n",
      "4            e     53\n",
      "  revenue_band    count\n",
      "0            a  3509188\n",
      "1            b  2251496\n",
      "2            c  1909472\n",
      "3            d    78521\n",
      "4            e    69053\n"
     ]
    },
    {
     "data": {
      "text/plain": [
       "<AxesSubplot:title={'center':'Distribution of Merchant Revenue Bands'}, ylabel='count'>"
      ]
     },
     "execution_count": 5,
     "metadata": {},
     "output_type": "execute_result"
    },
    {
     "data": {
      "image/png": "[encoded data removed]",
      "text/plain": [
       "<Figure size 900x600 with 1 Axes>"
      ]
     },
     "metadata": {},
     "output_type": "display_data"
    },
    {
     "data": {
      "image/png": "[encoded data removed]",
      "text/plain": [
       "<Figure size 900x600 with 1 Axes>"
      ]
     },
     "metadata": {},
     "output_type": "display_data"
    }
   ],
   "source": [
    "## Revenue Band\n",
    "print(merchantdf.groupby('revenue_band').count().sort('revenue_band').toPandas())\n",
    "merchantdf.groupby('revenue_band').count().sort('revenue_band').toPandas().set_index('revenue_band')\\\n",
    ".plot(kind='pie', y='count', figsize=(9, 6), legend=True, title=\"Distribution of Merchant Revenue Bands\")\n",
    "\n",
    "## Now do all transactions have valid revenue bands?\n",
    "print(sdf.groupby('revenue_band').count().sort('revenue_band').toPandas())\n",
    "sdf.groupby('revenue_band').count().sort('revenue_band').toPandas().set_index('revenue_band')\\\n",
    ".plot(kind='pie', y='count', figsize=(9, 6), legend=True, title=\"Distribution of Merchant Revenue Bands\")"
   ]
  },
  {
   "cell_type": "markdown",
   "id": "2aea28f2-5f3d-469e-b47b-f89686373bb1",
   "metadata": {},
   "source": [
    "Even after splitting from the tags field, we do not see any invalid entries in the revenue band field. The majority of revenue bands lie between a-c, with d and e revenue bands clearly being reserved for the most extreme merchants. Overall the number of merchants decreases as you reach higher revenue bands."
   ]
  },
  {
   "cell_type": "markdown",
   "id": "83fa7895-34e3-4a98-8134-63f3b252236d",
   "metadata": {},
   "source": [
    "## Take Rate"
   ]
  },
  {
   "cell_type": "code",
   "execution_count": 6,
   "id": "2feef73e-a594-44a1-ac93-c4e6a5b45dd5",
   "metadata": {
    "tags": []
   },
   "outputs": [
    {
     "name": "stdout",
     "output_type": "stream",
     "text": [
      "           count\n",
      "take_rate       \n",
      "5.91        20.0\n",
      "5.73        19.0\n",
      "5.99        19.0\n",
      "6.43        19.0\n",
      "5.55        18.0\n",
      "5.62        17.0\n",
      "6.33        17.0\n",
      "5.68        16.0\n",
      "6.30        16.0\n",
      "5.64        16.0\n",
      "6.57        16.0\n",
      "5.65        15.0\n",
      "6.01        15.0\n",
      "5.71        15.0\n",
      "4.97        15.0\n",
      "6.26        14.0\n",
      "6.72        14.0\n",
      "6.42        14.0\n",
      "5.97        14.0\n",
      "3.61        14.0\n"
     ]
    },
    {
     "name": "stderr",
     "output_type": "stream",
     "text": [
      "                                                                                \r"
     ]
    },
    {
     "name": "stdout",
     "output_type": "stream",
     "text": [
      "              count\n",
      "take_rate          \n",
      "2.94       178872.0\n",
      "6.43       171107.0\n",
      "2.86       161561.0\n",
      "5.80       159912.0\n",
      "1.47       152054.0\n",
      "2.93       146435.0\n",
      "6.01       142947.0\n",
      "6.98       139087.0\n",
      "6.48       120560.0\n",
      "4.47       118167.0\n",
      "6.33        85179.0\n",
      "5.65        83699.0\n",
      "5.73        67659.0\n",
      "4.69        64976.0\n",
      "6.61        61360.0\n",
      "4.95        58971.0\n",
      "5.97        58761.0\n",
      "5.93        52668.0\n",
      "6.16        49903.0\n",
      "5.05        49661.0\n"
     ]
    },
    {
     "data": {
      "text/plain": [
       "Text(0, 0.5, 'Frequency')"
      ]
     },
     "execution_count": 6,
     "metadata": {},
     "output_type": "execute_result"
    },
    {
     "data": {
      "image/png": "[encoded data removed]",
      "text/plain": [
       "<Figure size 900x600 with 1 Axes>"
      ]
     },
     "metadata": {},
     "output_type": "display_data"
    },
    {
     "data": {
      "image/png": "[encoded data removed]",
      "text/plain": [
       "<Figure size 900x600 with 1 Axes>"
      ]
     },
     "metadata": {},
     "output_type": "display_data"
    }
   ],
   "source": [
    "takerate_df = pd.DataFrame({\"take_rate\":np.arange(0, 7.01, 0.01), \"count\": 0})\\\n",
    ".set_index(\"take_rate\")\n",
    "takerate_df['count'] = merchantdf.groupby('take_rate').count().sort('take_rate')\\\n",
    ".toPandas().astype({'take_rate':'float'}).set_index('take_rate')\n",
    "takerate_df = takerate_df.fillna(0)\n",
    "print(takerate_df.sort_values('count', ascending=False).head(20))\n",
    "\n",
    "fig, ax = plt.subplots(figsize=(9,6))\n",
    "ax.bar(takerate_df.index, takerate_df['count'], width=0.05)\n",
    "plt.xlabel('Take Rate')\n",
    "plt.ylabel('Frequency')\n",
    "plt.title('Frequency of Take Rates Among Merchants')\n",
    "\n",
    "\n",
    "## Now do all transactions have valid take rates?\n",
    "takerate_df = pd.DataFrame({\"take_rate\":np.arange(0, 7.01, 0.01), \"count\": 0})\\\n",
    ".set_index(\"take_rate\")\n",
    "takerate_df['count'] = sdf.groupby('take_rate').count().sort('take_rate')\\\n",
    ".toPandas().astype({'take_rate':'float'}).set_index('take_rate')\n",
    "takerate_df = takerate_df.fillna(0)\n",
    "print(takerate_df.sort_values('count', ascending=False).head(20))\n",
    "fig, ax = plt.subplots(figsize=(9,6))\n",
    "ax.bar(takerate_df.index, takerate_df['count'], width=0.05)\n",
    "plt.xlabel('Take Rate')\n",
    "plt.ylabel('Frequency')"
   ]
  },
  {
   "cell_type": "markdown",
   "id": "25e45436-502d-48fa-b170-36f0b838e1bf",
   "metadata": {},
   "source": [
    "There appears to be 3 distinct 'groups' in the distribution of take rate. The first comprising of very few merchants, which have a take rate between 0% and just over 1%. Rather logically, no merchants have a take rate of 0, and we don't see any nonsensical take rates either, such as negative take rates. \n",
    "\n",
    "The second group composes of merchants with a take take of just over 1% to roughly 5%. The number of merchants in this groups appears to have jumped significantly as compared to the previous group.\n",
    "\n",
    "We notice a rather interesting pattern in that no merchants appear to have a take rate between just over 5% and roughly 5.5%. This could have something to do with the method used to determine take rate? Could make sense particularly with what appears to be 3 clear groups. \n",
    "\n",
    "The final group contains merchants between 5.5% take rate, and what appears to be the maximum possible take rate of 7%.\n",
    "\n",
    "Finally, inside of each of the 3 groups, take rate appears to be uniformally distributed."
   ]
  },
  {
   "cell_type": "markdown",
   "id": "138ee57b-b400-4e63-93fd-d09e743c5014",
   "metadata": {},
   "source": [
    "## Tags"
   ]
  },
  {
   "cell_type": "code",
   "execution_count": 7,
   "id": "e13cdcfc-70ec-4771-8587-727ca5b5a421",
   "metadata": {
    "tags": []
   },
   "outputs": [
    {
     "name": "stdout",
     "output_type": "stream",
     "text": [
      "+-------------------------------------------------------------------------------------+-----+\n",
      "|tags                                                                                 |count|\n",
      "+-------------------------------------------------------------------------------------+-----+\n",
      "|antique shops - sales, repairs, and restoration services                             |129  |\n",
      "|art dealers and galleries                                                            |112  |\n",
      "|artist supply and craft shops                                                        |193  |\n",
      "|bicycle shops - sales and service                                                    |170  |\n",
      "|books, periodicals, and newspapers                                                   |164  |\n",
      "|cable, satellite, and other pay television and radio services                        |175  |\n",
      "|computer programming , data processing, and integrated systems design services       |191  |\n",
      "|computers, computer peripheral equipment, and software                               |181  |\n",
      "|digital goods: books, movies, music                                                  |195  |\n",
      "|equipment, tool, furniture, and appliance rent al and leasing                        |134  |\n",
      "|florists supplies, nursery stock, and flowers                                        |180  |\n",
      "|furniture, home furnishings and equipment shops, and manufacturers, except appliances|182  |\n",
      "|gift, card, novelty, and souvenir shops                                              |182  |\n",
      "|health and beauty spas                                                               |164  |\n",
      "|hobby, toy and game shops                                                            |142  |\n",
      "|jewelry, watch, clock, and silverware shops                                          |91   |\n",
      "|lawn and garden supply outlets, including nurseries                                  |153  |\n",
      "|motor vehicle supplies and new parts                                                 |151  |\n",
      "|music shops - musical instruments, pianos, and sheet music                           |167  |\n",
      "|opticians, optical goods, and eyeglasses                                             |151  |\n",
      "|shoe shops                                                                           |185  |\n",
      "|stationery, office supplies and printing and writing paper                           |161  |\n",
      "|telecom                                                                              |125  |\n",
      "|tent and awning shops                                                                |178  |\n",
      "|watch, clock, and jewelry repair shops                                               |170  |\n",
      "+-------------------------------------------------------------------------------------+-----+\n",
      "\n",
      "+-------------------------------------------------------------------------------------+-------+\n",
      "|tags                                                                                 |count  |\n",
      "+-------------------------------------------------------------------------------------+-------+\n",
      "|antique shops - sales, repairs, and restoration services                             |102617 |\n",
      "|art dealers and galleries                                                            |12314  |\n",
      "|artist supply and craft shops                                                        |270701 |\n",
      "|bicycle shops - sales and service                                                    |128896 |\n",
      "|books, periodicals, and newspapers                                                   |226658 |\n",
      "|cable, satellite, and other pay television and radio services                        |550269 |\n",
      "|computer programming , data processing, and integrated systems design services       |297667 |\n",
      "|computers, computer peripheral equipment, and software                               |412496 |\n",
      "|digital goods: books, movies, music                                                  |738378 |\n",
      "|equipment, tool, furniture, and appliance rent al and leasing                        |21001  |\n",
      "|florists supplies, nursery stock, and flowers                                        |506390 |\n",
      "|furniture, home furnishings and equipment shops, and manufacturers, except appliances|286160 |\n",
      "|gift, card, novelty, and souvenir shops                                              |940938 |\n",
      "|health and beauty spas                                                               |140986 |\n",
      "|hobby, toy and game shops                                                            |135298 |\n",
      "|jewelry, watch, clock, and silverware shops                                          |2830   |\n",
      "|lawn and garden supply outlets, including nurseries                                  |199443 |\n",
      "|motor vehicle supplies and new parts                                                 |176234 |\n",
      "|music shops - musical instruments, pianos, and sheet music                           |182653 |\n",
      "|opticians, optical goods, and eyeglasses                                             |484407 |\n",
      "|shoe shops                                                                           |247929 |\n",
      "|stationery, office supplies and printing and writing paper                           |98566  |\n",
      "|telecom                                                                              |19697  |\n",
      "|tent and awning shops                                                                |1042376|\n",
      "|watch, clock, and jewelry repair shops                                               |592826 |\n",
      "+-------------------------------------------------------------------------------------+-------+\n",
      "\n"
     ]
    }
   ],
   "source": [
    "merchantdf.groupby('tags').count().sort('tags').count()\n",
    "merchantdf.groupby('tags').count().sort('tags').show(100, truncate=False)\n",
    "\n",
    "# Now for transactions\n",
    "sdf.groupby('tags').count().sort('tags').show(100, truncate=False)"
   ]
  },
  {
   "cell_type": "markdown",
   "id": "27575e30-08e3-4243-975b-744c0cb597fc",
   "metadata": {},
   "source": [
    "After cleaning up the field, there are actually only 25 different unique values for tags, with these being fairly evenly distributed amongst merchants. This is a fairly interesting finding, since it was at first thought that this field was unique to each vendor, particularly given its nature as being a field manually entered\n",
    "\n",
    "The maximum count shows 195 merchants with tag 'digital goods: books, movies, music' and minimum count shows 91 merchants with tag 'jewelry, watch, clock and silverware shops'.\n",
    "\n",
    "Viewing the occurences of these tags in transactions instead reveals certain tags are associated with more/less frequent transactions. For example, 'jewelry, watch, clock, and silverware shops' merchants are seen to have by far the least frequent amount of transaction as opposed to 'tent and awning shops' which have the most by far."
   ]
  },
  {
   "cell_type": "markdown",
   "id": "6caa2d40-0b45-402f-a7dc-441c308b5af7",
   "metadata": {},
   "source": [
    "# Consumer ID/User ID"
   ]
  },
  {
   "cell_type": "code",
   "execution_count": 8,
   "id": "1e250e60-da9c-4a07-b088-b4b508272e32",
   "metadata": {},
   "outputs": [
    {
     "name": "stdout",
     "output_type": "stream",
     "text": [
      "+-----------+-----+\n",
      "|consumer_id|count|\n",
      "+-----------+-----+\n",
      "|     367113|    1|\n",
      "|    1255411|    1|\n",
      "|     999838|    1|\n",
      "|    1406677|    1|\n",
      "|     331653|    1|\n",
      "|     105297|    1|\n",
      "|     893193|    1|\n",
      "|    1093060|    1|\n",
      "|     147768|    1|\n",
      "|     194306|    1|\n",
      "|    1402299|    1|\n",
      "|     393166|    1|\n",
      "|    1471150|    1|\n",
      "|     615626|    1|\n",
      "|      78271|    1|\n",
      "|     467704|    1|\n",
      "|     832715|    1|\n",
      "|     168801|    1|\n",
      "|      61300|    1|\n",
      "|    1253794|    1|\n",
      "+-----------+-----+\n",
      "only showing top 20 rows\n",
      "\n",
      "499999\n",
      "+-------+-----+\n",
      "|user_id|count|\n",
      "+-------+-----+\n",
      "|     41|    1|\n",
      "|    499|    1|\n",
      "|    907|    1|\n",
      "|   1085|    1|\n",
      "|   1114|    1|\n",
      "|   1273|    1|\n",
      "|   1473|    1|\n",
      "|   1574|    1|\n",
      "|   1689|    1|\n",
      "|   1695|    1|\n",
      "|   1716|    1|\n",
      "|   1783|    1|\n",
      "|   2051|    1|\n",
      "|   2171|    1|\n",
      "|   2474|    1|\n",
      "|   2556|    1|\n",
      "|   2825|    1|\n",
      "|   2935|    1|\n",
      "|   3017|    1|\n",
      "|   3108|    1|\n",
      "+-------+-----+\n",
      "only showing top 20 rows\n",
      "\n",
      "499999\n"
     ]
    },
    {
     "name": "stderr",
     "output_type": "stream",
     "text": [
      "                                                                                \r"
     ]
    },
    {
     "name": "stdout",
     "output_type": "stream",
     "text": [
      "24081\n",
      "+-------+-----+\n",
      "|user_id|count|\n",
      "+-------+-----+\n",
      "|  11982|  285|\n",
      "|  22367|  286|\n",
      "|   8755|  289|\n",
      "|   4760|  290|\n",
      "|   2713|  291|\n",
      "|  23378|  292|\n",
      "|  21598|  292|\n",
      "|   4794|  292|\n",
      "|  17995|  294|\n",
      "|   9026|  294|\n",
      "|   5989|  295|\n",
      "|   6183|  295|\n",
      "|  16332|  296|\n",
      "|  13052|  296|\n",
      "|   2150|  296|\n",
      "|   1510|  296|\n",
      "|   8905|  296|\n",
      "|  12950|  297|\n",
      "|  20629|  297|\n",
      "|  13951|  297|\n",
      "+-------+-----+\n",
      "only showing top 20 rows\n",
      "\n"
     ]
    }
   ],
   "source": [
    "print(userdf.groupby('consumer_id').count().sort(desc('count')))\n",
    "print(userdf.groupby('consumer_id').count().sort(desc('count')).count())\n",
    "print(userdf.groupby('user_id').count().sort(desc('count')))\n",
    "print(userdf.groupby('user_id').count().sort(desc('count')).count())\n",
    "print(transactiondf.groupby('user_id').count().sort('user_id').count())\n",
    "print(transactiondf.groupby('user_id').count().sort('count'))"
   ]
  },
  {
   "cell_type": "markdown",
   "id": "3af6320f-c33d-4c06-ae03-490ada4b3572",
   "metadata": {},
   "source": [
    "There are no problems caused by joining this table (apart from the strange inclusion of a surrogate key). This table simply maps all user_ids from 0-499999 to some consumer_id. However, in the data given only user_ids up to 24,081 actually have at least 1 valid transaction in the dataset, meaning many of these mappings appear to go unused."
   ]
  },
  {
   "cell_type": "markdown",
   "id": "9a0aeb22-8448-4b78-b7ce-2cd312e19072",
   "metadata": {},
   "source": [
    "## Invalid Transactions"
   ]
  },
  {
   "cell_type": "code",
   "execution_count": 9,
   "id": "76ed9ecd-841f-481d-89e9-723b20100eb0",
   "metadata": {},
   "outputs": [
    {
     "name": "stdout",
     "output_type": "stream",
     "text": [
      "333642\n"
     ]
    }
   ],
   "source": [
    "print(transactiondf.count() - sdf.count())"
   ]
  },
  {
   "cell_type": "markdown",
   "id": "11e9d8d7-dc64-486d-87a7-052c175f1d72",
   "metadata": {
    "tags": []
   },
   "source": [
    "By simply joining all tables to the transaction table via the relevant foreign keys, any transaction which can't be joined for some reason will be discarded. As seen above, this would mean that 333,642 transactions (as of the end of Week 2 data) would be simply discarded without our knowledge."
   ]
  },
  {
   "cell_type": "code",
   "execution_count": 10,
   "id": "e349fe74-31ee-41c1-a8c2-08f1fc45d5ec",
   "metadata": {},
   "outputs": [
    {
     "name": "stderr",
     "output_type": "stream",
     "text": [
      "                                                                                \r"
     ]
    },
    {
     "data": {
      "text/plain": [
       "333642"
      ]
     },
     "execution_count": 10,
     "metadata": {},
     "output_type": "execute_result"
    }
   ],
   "source": [
    "dropped_transactions = transactiondf.join(sdf, 'order_id', \"leftanti\")\n",
    "dropped_transactions.count()"
   ]
  },
  {
   "cell_type": "code",
   "execution_count": 11,
   "id": "e18ea4ae-9c05-44b9-b137-5ff79eb85227",
   "metadata": {
    "tags": []
   },
   "outputs": [
    {
     "name": "stderr",
     "output_type": "stream",
     "text": [
      "                                                                                \r"
     ]
    },
    {
     "data": {
      "text/html": [
       "<table border='1'>\n",
       "<tr><th>order_id</th><th>user_id</th><th>merchant_abn</th><th>dollar_value</th><th>order_datetime</th></tr>\n",
       "<tr><td>00010154-c8c6-492...</td><td>14132</td><td>43820812476</td><td>145.7508223047609</td><td>2021-04-03</td></tr>\n",
       "<tr><td>0001f004-f3b9-479...</td><td>9553</td><td>48540087213</td><td>2535.012136880364</td><td>2021-03-24</td></tr>\n",
       "<tr><td>000334fe-7ab8-4e7...</td><td>2438</td><td>11240426404</td><td>161.65965550330247</td><td>2021-05-01</td></tr>\n",
       "<tr><td>000a5afb-4c3b-458...</td><td>14983</td><td>33604812025</td><td>174.06729685924134</td><td>2021-05-01</td></tr>\n",
       "<tr><td>000c6979-a96c-468...</td><td>1221</td><td>29323795999</td><td>0.583128432753908</td><td>2021-08-15</td></tr>\n",
       "<tr><td>0012083d-3d78-4a6...</td><td>21522</td><td>73121558118</td><td>76.2031996487711</td><td>2021-04-30</td></tr>\n",
       "<tr><td>0016c89c-7e71-4c2...</td><td>9410</td><td>95492562735</td><td>30.124085051663126</td><td>2021-05-24</td></tr>\n",
       "<tr><td>0017b5e7-2cf3-494...</td><td>2088</td><td>87802246756</td><td>184.15325198043612</td><td>2021-06-21</td></tr>\n",
       "<tr><td>001dab75-e07a-425...</td><td>7020</td><td>32234779638</td><td>177.6279422305109</td><td>2021-04-23</td></tr>\n",
       "<tr><td>00230efc-c131-498...</td><td>20787</td><td>63966446164</td><td>172.42893653118102</td><td>2021-04-22</td></tr>\n",
       "<tr><td>0027f8ee-7129-40f...</td><td>1138</td><td>20562405782</td><td>31.32315960689628</td><td>2021-05-24</td></tr>\n",
       "<tr><td>0030f7a7-0684-45e...</td><td>845</td><td>29323795999</td><td>1.7872601666898336</td><td>2021-05-14</td></tr>\n",
       "<tr><td>0034c517-9bfb-43e...</td><td>23639</td><td>32234779638</td><td>9.457439051443544</td><td>2021-03-10</td></tr>\n",
       "<tr><td>0034d05b-25f9-4d7...</td><td>23072</td><td>32234779638</td><td>14.686631400036264</td><td>2021-03-15</td></tr>\n",
       "<tr><td>00369fe3-e440-483...</td><td>14732</td><td>28898261035</td><td>110.54599006339922</td><td>2021-08-14</td></tr>\n",
       "<tr><td>0039b887-7d6e-47e...</td><td>19283</td><td>11240426404</td><td>4.72616495440295</td><td>2021-07-03</td></tr>\n",
       "<tr><td>003e21e2-ae03-4e8...</td><td>114</td><td>11240426404</td><td>52.888626601611584</td><td>2021-06-30</td></tr>\n",
       "<tr><td>00429d0d-954b-4a4...</td><td>13178</td><td>29566626791</td><td>45.12962647664366</td><td>2021-07-04</td></tr>\n",
       "<tr><td>004e797b-468e-438...</td><td>13340</td><td>20562405782</td><td>166.77829375466837</td><td>2021-08-03</td></tr>\n",
       "<tr><td>004efb90-3de9-413...</td><td>5500</td><td>93676909958</td><td>3471.4180326622</td><td>2021-05-28</td></tr>\n",
       "</table>\n",
       "only showing top 20 rows\n"
      ],
      "text/plain": [
       "+--------------------+-------+------------+------------------+--------------+\n",
       "|            order_id|user_id|merchant_abn|      dollar_value|order_datetime|\n",
       "+--------------------+-------+------------+------------------+--------------+\n",
       "|00010154-c8c6-492...|  14132| 43820812476| 145.7508223047609|    2021-04-03|\n",
       "|0001f004-f3b9-479...|   9553| 48540087213| 2535.012136880364|    2021-03-24|\n",
       "|000334fe-7ab8-4e7...|   2438| 11240426404|161.65965550330247|    2021-05-01|\n",
       "|000a5afb-4c3b-458...|  14983| 33604812025|174.06729685924134|    2021-05-01|\n",
       "|000c6979-a96c-468...|   1221| 29323795999| 0.583128432753908|    2021-08-15|\n",
       "|0012083d-3d78-4a6...|  21522| 73121558118|  76.2031996487711|    2021-04-30|\n",
       "|0016c89c-7e71-4c2...|   9410| 95492562735|30.124085051663126|    2021-05-24|\n",
       "|0017b5e7-2cf3-494...|   2088| 87802246756|184.15325198043612|    2021-06-21|\n",
       "|001dab75-e07a-425...|   7020| 32234779638| 177.6279422305109|    2021-04-23|\n",
       "|00230efc-c131-498...|  20787| 63966446164|172.42893653118102|    2021-04-22|\n",
       "|0027f8ee-7129-40f...|   1138| 20562405782| 31.32315960689628|    2021-05-24|\n",
       "|0030f7a7-0684-45e...|    845| 29323795999|1.7872601666898336|    2021-05-14|\n",
       "|0034c517-9bfb-43e...|  23639| 32234779638| 9.457439051443544|    2021-03-10|\n",
       "|0034d05b-25f9-4d7...|  23072| 32234779638|14.686631400036264|    2021-03-15|\n",
       "|00369fe3-e440-483...|  14732| 28898261035|110.54599006339922|    2021-08-14|\n",
       "|0039b887-7d6e-47e...|  19283| 11240426404|  4.72616495440295|    2021-07-03|\n",
       "|003e21e2-ae03-4e8...|    114| 11240426404|52.888626601611584|    2021-06-30|\n",
       "|00429d0d-954b-4a4...|  13178| 29566626791| 45.12962647664366|    2021-07-04|\n",
       "|004e797b-468e-438...|  13340| 20562405782|166.77829375466837|    2021-08-03|\n",
       "|004efb90-3de9-413...|   5500| 93676909958|   3471.4180326622|    2021-05-28|\n",
       "+--------------------+-------+------------+------------------+--------------+\n",
       "only showing top 20 rows"
      ]
     },
     "execution_count": 11,
     "metadata": {},
     "output_type": "execute_result"
    }
   ],
   "source": [
    "dropped_transactions"
   ]
  },
  {
   "cell_type": "code",
   "execution_count": 12,
   "id": "5456d26b-bb95-4e35-9e50-875e1353901d",
   "metadata": {},
   "outputs": [
    {
     "name": "stderr",
     "output_type": "stream",
     "text": [
      "[Stage 127:>              (0 + 16) / 17][Stage 128:>               (0 + 0) / 16]\r"
     ]
    },
    {
     "name": "stdout",
     "output_type": "stream",
     "text": [
      "+--------+-------+------------+------------+--------------+\n",
      "|order_id|user_id|merchant_abn|dollar_value|order_datetime|\n",
      "+--------+-------+------------+------------+--------------+\n",
      "+--------+-------+------------+------------+--------------+\n",
      "\n"
     ]
    },
    {
     "name": "stderr",
     "output_type": "stream",
     "text": [
      "[Stage 127:=============> (15 + 2) / 17][Stage 128:=============> (14 + 2) / 16]\r"
     ]
    }
   ],
   "source": [
    "print(dropped_transactions.filter(dropped_transactions.user_id > 24081))"
   ]
  },
  {
   "cell_type": "markdown",
   "id": "9d3b4207-3bd5-48f7-9bd2-eee396d28231",
   "metadata": {},
   "source": [
    "All transactions appear to have a valid user id."
   ]
  },
  {
   "cell_type": "code",
   "execution_count": 13,
   "id": "60512b02-32ea-476b-acdf-1b72d7ff7f67",
   "metadata": {},
   "outputs": [
    {
     "name": "stderr",
     "output_type": "stream",
     "text": [
      "                                                                                \r"
     ]
    },
    {
     "name": "stdout",
     "output_type": "stream",
     "text": [
      "395\n"
     ]
    },
    {
     "name": "stderr",
     "output_type": "stream",
     "text": [
      "[Stage 153:===>                                                   (1 + 16) / 18]\r"
     ]
    },
    {
     "name": "stdout",
     "output_type": "stream",
     "text": [
      "22/09/17 00:28:52 WARN RowBasedKeyValueBatch: Calling spill() on RowBasedKeyValueBatch. Will not spill but return 0.\n",
      "22/09/17 00:28:52 WARN RowBasedKeyValueBatch: Calling spill() on RowBasedKeyValueBatch. Will not spill but return 0.\n",
      "22/09/17 00:28:52 WARN RowBasedKeyValueBatch: Calling spill() on RowBasedKeyValueBatch. Will not spill but return 0.\n",
      "22/09/17 00:28:52 WARN RowBasedKeyValueBatch: Calling spill() on RowBasedKeyValueBatch. Will not spill but return 0.\n",
      "22/09/17 00:28:52 WARN RowBasedKeyValueBatch: Calling spill() on RowBasedKeyValueBatch. Will not spill but return 0.\n",
      "22/09/17 00:28:52 WARN RowBasedKeyValueBatch: Calling spill() on RowBasedKeyValueBatch. Will not spill but return 0.\n",
      "22/09/17 00:28:52 WARN RowBasedKeyValueBatch: Calling spill() on RowBasedKeyValueBatch. Will not spill but return 0.\n",
      "22/09/17 00:28:52 WARN RowBasedKeyValueBatch: Calling spill() on RowBasedKeyValueBatch. Will not spill but return 0.\n",
      "22/09/17 00:28:52 WARN RowBasedKeyValueBatch: Calling spill() on RowBasedKeyValueBatch. Will not spill but return 0.\n",
      "22/09/17 00:28:52 WARN RowBasedKeyValueBatch: Calling spill() on RowBasedKeyValueBatch. Will not spill but return 0.\n",
      "22/09/17 00:28:52 WARN RowBasedKeyValueBatch: Calling spill() on RowBasedKeyValueBatch. Will not spill but return 0.\n",
      "22/09/17 00:28:52 WARN RowBasedKeyValueBatch: Calling spill() on RowBasedKeyValueBatch. Will not spill but return 0.\n",
      "22/09/17 00:28:52 WARN RowBasedKeyValueBatch: Calling spill() on RowBasedKeyValueBatch. Will not spill but return 0.\n",
      "22/09/17 00:28:52 WARN RowBasedKeyValueBatch: Calling spill() on RowBasedKeyValueBatch. Will not spill but return 0.\n",
      "22/09/17 00:28:52 WARN RowBasedKeyValueBatch: Calling spill() on RowBasedKeyValueBatch. Will not spill but return 0.\n",
      "22/09/17 00:28:52 WARN RowBasedKeyValueBatch: Calling spill() on RowBasedKeyValueBatch. Will not spill but return 0.\n",
      "22/09/17 00:28:52 WARN RowBasedKeyValueBatch: Calling spill() on RowBasedKeyValueBatch. Will not spill but return 0.\n",
      "22/09/17 00:28:52 WARN RowBasedKeyValueBatch: Calling spill() on RowBasedKeyValueBatch. Will not spill but return 0.\n",
      "22/09/17 00:28:52 WARN RowBasedKeyValueBatch: Calling spill() on RowBasedKeyValueBatch. Will not spill but return 0.\n",
      "22/09/17 00:28:52 WARN RowBasedKeyValueBatch: Calling spill() on RowBasedKeyValueBatch. Will not spill but return 0.\n",
      "22/09/17 00:28:52 WARN RowBasedKeyValueBatch: Calling spill() on RowBasedKeyValueBatch. Will not spill but return 0.\n",
      "22/09/17 00:28:53 WARN RowBasedKeyValueBatch: Calling spill() on RowBasedKeyValueBatch. Will not spill but return 0.\n",
      "22/09/17 00:28:53 WARN RowBasedKeyValueBatch: Calling spill() on RowBasedKeyValueBatch. Will not spill but return 0.\n",
      "22/09/17 00:28:53 WARN RowBasedKeyValueBatch: Calling spill() on RowBasedKeyValueBatch. Will not spill but return 0.\n"
     ]
    },
    {
     "name": "stderr",
     "output_type": "stream",
     "text": [
      "                                                                                \r"
     ]
    },
    {
     "name": "stdout",
     "output_type": "stream",
     "text": [
      "+------------+-----+\n",
      "|merchant_abn|count|\n",
      "+------------+-----+\n",
      "| 10672322914|   64|\n",
      "| 11029341140|   11|\n",
      "| 11137507330| 1159|\n",
      "| 11240426404|31216|\n",
      "| 11358147682|   50|\n",
      "| 11400713351|   35|\n",
      "| 11839682616|  431|\n",
      "| 12959561070|    1|\n",
      "| 13129485817|    6|\n",
      "| 13177076095|  185|\n",
      "| 13226823813|  328|\n",
      "| 13289167958|    7|\n",
      "| 13494073581|   15|\n",
      "| 13868849576|  469|\n",
      "| 14827550074|  830|\n",
      "| 15058508937|   23|\n",
      "| 15073921424|   10|\n",
      "| 15699401518|  142|\n",
      "| 15862090061|  144|\n",
      "| 16496390781|   44|\n",
      "+------------+-----+\n",
      "only showing top 20 rows\n",
      "\n"
     ]
    },
    {
     "name": "stderr",
     "output_type": "stream",
     "text": [
      "                                                                                \r"
     ]
    },
    {
     "name": "stdout",
     "output_type": "stream",
     "text": [
      "+------------+--------+-------+------------+--------------+------------+----+---------+------------+\n",
      "|merchant_abn|order_id|user_id|dollar_value|order_datetime|company_name|tags|take_rate|revenue_band|\n",
      "+------------+--------+-------+------------+--------------+------------+----+---------+------------+\n",
      "+------------+--------+-------+------------+--------------+------------+----+---------+------------+\n",
      "\n"
     ]
    },
    {
     "name": "stderr",
     "output_type": "stream",
     "text": [
      "                                                                                \r"
     ]
    }
   ],
   "source": [
    "print(dropped_transactions.groupby('merchant_abn').count().count())\n",
    "print(dropped_transactions.groupby('merchant_abn').count().sort('merchant_abn'))\n",
    "print(dropped_transactions.join(merchantdf, \"merchant_abn\"))"
   ]
  },
  {
   "cell_type": "markdown",
   "id": "7d2cdc7a-4d01-4b3f-a728-14cb8c78a01a",
   "metadata": {},
   "source": [
    "Therefore, all invalid transactions are shown to be dropped because they do not have a valid merchant_abn to link to. Maybe one might want to consider all these merchants as if they shared the same tag, however removing them would also seem sensible."
   ]
  },
  {
   "cell_type": "markdown",
   "id": "71d7e134-7089-45b7-b9b4-0ce01b342286",
   "metadata": {},
   "source": [
    "## Merchants"
   ]
  },
  {
   "cell_type": "code",
   "execution_count": 14,
   "id": "d818779b-9fd5-48dc-aa7c-4f47f2db3278",
   "metadata": {},
   "outputs": [
    {
     "data": {
      "text/html": [
       "<table border='1'>\n",
       "<tr><th>merchant_abn</th><th>company_name</th><th>tags</th><th>take_rate</th><th>revenue_band</th></tr>\n",
       "<tr><td>76866488151</td><td>Euismod Urna Company</td><td>antique shops - s...</td><td> 4.08</td><td> b</td></tr>\n",
       "<tr><td>46537010521</td><td>Tempor Augue Ac C...</td><td>jewelry, watch, c...</td><td> 2.18</td><td> c</td></tr>\n",
       "<tr><td>55555661470</td><td>Nullam Scelerisqu...</td><td>jewelry, watch, c...</td><td> 1.83</td><td> c</td></tr>\n",
       "<tr><td>28311306642</td><td>Egestas Nunc Sed LLC</td><td>antique shops - s...</td><td> 4.93</td><td> b</td></tr>\n",
       "<tr><td>47047735645</td><td>Aenean Gravida In...</td><td>antique shops - s...</td><td> 1.54</td><td> c</td></tr>\n",
       "<tr><td>55403018592</td><td>Elit Limited</td><td>antique shops - s...</td><td> 4.84</td><td> b</td></tr>\n",
       "<tr><td>93267734067</td><td>Curae Foundation</td><td>jewelry, watch, c...</td><td> 2.57</td><td> c</td></tr>\n",
       "</table>\n"
      ],
      "text/plain": [
       "+------------+--------------------+--------------------+---------+------------+\n",
       "|merchant_abn|        company_name|                tags|take_rate|revenue_band|\n",
       "+------------+--------------------+--------------------+---------+------------+\n",
       "| 76866488151|Euismod Urna Company|antique shops - s...|     4.08|           b|\n",
       "| 46537010521|Tempor Augue Ac C...|jewelry, watch, c...|     2.18|           c|\n",
       "| 55555661470|Nullam Scelerisqu...|jewelry, watch, c...|     1.83|           c|\n",
       "| 28311306642|Egestas Nunc Sed LLC|antique shops - s...|     4.93|           b|\n",
       "| 47047735645|Aenean Gravida In...|antique shops - s...|     1.54|           c|\n",
       "| 55403018592|        Elit Limited|antique shops - s...|     4.84|           b|\n",
       "| 93267734067|    Curae Foundation|jewelry, watch, c...|     2.57|           c|\n",
       "+------------+--------------------+--------------------+---------+------------+"
      ]
     },
     "execution_count": 14,
     "metadata": {},
     "output_type": "execute_result"
    }
   ],
   "source": [
    "no_transaction_merchants = merchantdf.join(sdf.groupby('merchant_abn').count(), 'merchant_abn', \"leftanti\")\n",
    "no_transaction_merchants"
   ]
  },
  {
   "cell_type": "markdown",
   "id": "4d905d8b-0382-4fd9-9796-e83271fe48e9",
   "metadata": {},
   "source": [
    "There are therefore 7 merchants in the merchant dataframe that do not have a single transaction present in the transactional database as of yet. Of interest is their shared tags, only being either antique shops or jewelry etc. stores. We don't really have to remove these per say, they will exist in case any future transactions released have transactions of these merchants. "
   ]
  },
  {
   "cell_type": "code",
   "execution_count": 15,
   "id": "72363c14-c141-4853-afbd-fa7dc4b9444d",
   "metadata": {},
   "outputs": [],
   "source": [
    "## External Dataset Sources"
   ]
  },
  {
   "cell_type": "markdown",
   "id": "eccc4732-73af-45e3-8052-e13265e27dfa",
   "metadata": {
    "tags": []
   },
   "source": [
    "SA2 Shapefile: https://www.abs.gov.au/statistics/standards/australian-statistical-geography-standard-asgs-edition-3/jul2021-jun2026/access-and-downloads/digital-boundary-files\n"
   ]
  },
  {
   "cell_type": "markdown",
   "id": "24979ccb-2ba6-4d6a-87b1-a25ae34bb21d",
   "metadata": {},
   "source": [
    "SA2 + Postcode dataset = https://www.matthewproctor.com/australian_postcodes?simple=True "
   ]
  },
  {
   "cell_type": "markdown",
   "id": "f7932205-1491-4a7e-9c9a-6fda9be64784",
   "metadata": {},
   "source": [
    "External income dataset = https://data.aurin.org.au/dataset/au-govt-abs-abs-personal-income-total-income-sa2-2011-2018-sa2-2016"
   ]
  },
  {
   "cell_type": "markdown",
   "id": "d6abe501-bbfc-4bdb-bcb9-8cb2528731dc",
   "metadata": {},
   "source": [
    "## Postcodes (JAI: needa have a script download postcode file)"
   ]
  },
  {
   "cell_type": "code",
   "execution_count": 2,
   "id": "97ff5cd0-504f-4e3c-9fe3-9ff6c334999b",
   "metadata": {},
   "outputs": [
    {
     "data": {
      "text/plain": [
       "('../data/tables/australian_postcodes.csv',\n",
       " <http.client.HTTPMessage at 0x7fb655db7910>)"
      ]
     },
     "execution_count": 2,
     "metadata": {},
     "output_type": "execute_result"
    }
   ],
   "source": [
    "url = \"https://raw.githubusercontent.com/matthewproctor/australianpostcodes/master/australian_postcodes.csv\"\n",
    "file_path = \"../data/tables/australian_postcodes.csv\"\n",
    "urlretrieve(url, file_path)"
   ]
  },
  {
   "cell_type": "code",
   "execution_count": 14,
   "id": "2a5ab6d4-00e9-42bf-9a40-4a11667ebe34",
   "metadata": {},
   "outputs": [
    {
     "data": {
      "text/html": [
       "<table border='1'>\n",
       "<tr><th>id</th><th>postcode</th><th>locality</th><th>state</th><th>long</th><th>lat</th><th>dc</th><th>type</th><th>status</th><th>sa3</th><th>sa3name</th><th>sa4</th><th>sa4name</th><th>region</th><th>Lat_precise</th><th>Long_precise</th><th>SA1_MAINCODE_2011</th><th>SA1_MAINCODE_2016</th><th>SA2_MAINCODE_2016</th><th>SA2_NAME_2016</th><th>SA3_CODE_2016</th><th>SA3_NAME_2016</th><th>SA4_CODE_2016</th><th>SA4_NAME_2016</th><th>RA_2011</th><th>RA_2016</th><th>MMM_2015</th><th>MMM_2019</th><th>ced</th><th>altitude</th><th>chargezone</th><th>phn_code</th><th>phn_name</th><th>lgaregion</th><th>electorate</th><th>electoraterating</th></tr>\n",
       "<tr><td>230</td><td>0200</td><td>ANU</td><td>ACT</td><td>149.119</td><td>-35.2777</td><td>null</td><td>null</td><td>null</td><td>null</td><td>null</td><td>null</td><td>null</td><td>R1</td><td>-35.2777</td><td>149.119</td><td>80105104901</td><td>80105104901</td><td>801051049</td><td>Acton</td><td>80105</td><td>North Canberra</td><td>801</td><td>Australian Capita...</td><td>1</td><td>1</td><td>1</td><td>1</td><td>null</td><td>null</td><td>N2</td><td>null</td><td>null</td><td>null</td><td>Durack</td><td>null</td></tr>\n",
       "<tr><td>21820</td><td>0200</td><td>Australian Nation...</td><td>ACT</td><td>149.1189</td><td>-35.2777</td><td>null</td><td>null</td><td>Added 19-Jan-2020</td><td>null</td><td>null</td><td>null</td><td>null</td><td>R1</td><td>-35.2776999</td><td>149.118527</td><td>80105104901</td><td>80105104901</td><td>801051049</td><td>Acton</td><td>80105</td><td>North Canberra</td><td>801</td><td>Australian Capita...</td><td>1</td><td>1</td><td>1</td><td>1</td><td>null</td><td>null</td><td>N2</td><td>null</td><td>null</td><td>null</td><td>Durack</td><td>null</td></tr>\n",
       "<tr><td>232</td><td>0800</td><td>DARWIN</td><td>NT</td><td>130.83668</td><td>-12.458684</td><td>null</td><td>null</td><td>Updated 6-Feb-2020</td><td>70101</td><td>Darwin City</td><td>701</td><td>Darwin</td><td>R1</td><td>-12.3932794</td><td>130.7766611</td><td>70101100203</td><td>70101100218</td><td>701011002</td><td>Darwin City</td><td>70101</td><td>Darwin City</td><td>701</td><td>Darwin</td><td>3</td><td>3</td><td>2</td><td>2</td><td>null</td><td>null</td><td>NT1</td><td>PHN701</td><td>Northern Territory</td><td>Darwin</td><td>Solomon</td><td>Inner Metropolitan</td></tr>\n",
       "<tr><td>24049</td><td>0800</td><td>DARWIN CITY</td><td>NT</td><td>130.83668</td><td>-12.458684</td><td>null</td><td>null</td><td>Updated 6-Feb-2020</td><td>70101</td><td>Darwin City</td><td>701</td><td>Darwin</td><td>R1</td><td>-12.3932794</td><td>130.7766611</td><td>70101100203</td><td>70101100218</td><td>701011002</td><td>Darwin City</td><td>70101</td><td>Darwin City</td><td>701</td><td>Darwin</td><td>3</td><td>3</td><td>2</td><td>2</td><td>null</td><td>null</td><td>NT1</td><td>PHN701</td><td>Northern Territory</td><td>Darwin</td><td>Solomon</td><td>Inner Metropolitan</td></tr>\n",
       "<tr><td>233</td><td>0801</td><td>DARWIN</td><td>NT</td><td>130.83668</td><td>-12.458684</td><td>null</td><td>null</td><td>Updated 25-Mar-20...</td><td>70101</td><td>Darwin City</td><td>701</td><td>Darwin</td><td>R1</td><td>-12.4634403</td><td>130.8456418</td><td>70101100208</td><td>70101100208</td><td>701011002</td><td>Darwin City</td><td>70101</td><td>Darwin City</td><td>701</td><td>Darwin</td><td>3</td><td>3</td><td>2</td><td>2</td><td>null</td><td>null</td><td>NT1</td><td>PHN701</td><td>null</td><td>null</td><td>Lingiari</td><td>Rural</td></tr>\n",
       "</table>\n"
      ],
      "text/plain": [
       "+-----+--------+--------------------+-----+---------+----------+----+----+--------------------+-----+-----------+----+-------+------+-----------+------------+-----------------+-----------------+-----------------+-------------+-------------+--------------+-------------+--------------------+-------+-------+--------+--------+----+--------+----------+--------+------------------+---------+----------+------------------+\n",
       "|   id|postcode|            locality|state|     long|       lat|  dc|type|              status|  sa3|    sa3name| sa4|sa4name|region|Lat_precise|Long_precise|SA1_MAINCODE_2011|SA1_MAINCODE_2016|SA2_MAINCODE_2016|SA2_NAME_2016|SA3_CODE_2016| SA3_NAME_2016|SA4_CODE_2016|       SA4_NAME_2016|RA_2011|RA_2016|MMM_2015|MMM_2019| ced|altitude|chargezone|phn_code|          phn_name|lgaregion|electorate|  electoraterating|\n",
       "+-----+--------+--------------------+-----+---------+----------+----+----+--------------------+-----+-----------+----+-------+------+-----------+------------+-----------------+-----------------+-----------------+-------------+-------------+--------------+-------------+--------------------+-------+-------+--------+--------+----+--------+----------+--------+------------------+---------+----------+------------------+\n",
       "|  230|    0200|                 ANU|  ACT|  149.119|  -35.2777|null|null|                null| null|       null|null|   null|    R1|   -35.2777|     149.119|      80105104901|      80105104901|        801051049|        Acton|        80105|North Canberra|          801|Australian Capita...|      1|      1|       1|       1|null|    null|        N2|    null|              null|     null|    Durack|              null|\n",
       "|21820|    0200|Australian Nation...|  ACT| 149.1189|  -35.2777|null|null|   Added 19-Jan-2020| null|       null|null|   null|    R1|-35.2776999|  149.118527|      80105104901|      80105104901|        801051049|        Acton|        80105|North Canberra|          801|Australian Capita...|      1|      1|       1|       1|null|    null|        N2|    null|              null|     null|    Durack|              null|\n",
       "|  232|    0800|              DARWIN|   NT|130.83668|-12.458684|null|null|  Updated 6-Feb-2020|70101|Darwin City| 701| Darwin|    R1|-12.3932794| 130.7766611|      70101100203|      70101100218|        701011002|  Darwin City|        70101|   Darwin City|          701|              Darwin|      3|      3|       2|       2|null|    null|       NT1|  PHN701|Northern Territory|   Darwin|   Solomon|Inner Metropolitan|\n",
       "|24049|    0800|         DARWIN CITY|   NT|130.83668|-12.458684|null|null|  Updated 6-Feb-2020|70101|Darwin City| 701| Darwin|    R1|-12.3932794| 130.7766611|      70101100203|      70101100218|        701011002|  Darwin City|        70101|   Darwin City|          701|              Darwin|      3|      3|       2|       2|null|    null|       NT1|  PHN701|Northern Territory|   Darwin|   Solomon|Inner Metropolitan|\n",
       "|  233|    0801|              DARWIN|   NT|130.83668|-12.458684|null|null|Updated 25-Mar-20...|70101|Darwin City| 701| Darwin|    R1|-12.4634403| 130.8456418|      70101100208|      70101100208|        701011002|  Darwin City|        70101|   Darwin City|          701|              Darwin|      3|      3|       2|       2|null|    null|       NT1|  PHN701|              null|     null|  Lingiari|             Rural|\n",
       "+-----+--------+--------------------+-----+---------+----------+----+----+--------------------+-----+-----------+----+-------+------+-----------+------------+-----------------+-----------------+-----------------+-------------+-------------+--------------+-------------+--------------------+-------+-------+--------+--------+----+--------+----------+--------+------------------+---------+----------+------------------+"
      ]
     },
     "execution_count": 14,
     "metadata": {},
     "output_type": "execute_result"
    }
   ],
   "source": [
    "# postcodedf used for merging\n",
    "postcodedf = spark.read.option(\"header\",\"true\").csv(\"../data/tables/australian_postcodes.csv\")\n",
    "\n",
    "# testpostcodedf used for income analysis\n",
    "testpostcodedf = postcodedf.select(\"SA2_MAINCODE_2016\",\"locality\",\"state\",\"SA2_NAME_2016\")\n",
    "testpostcodedf = testpostcodedf.withColumnRenamed(\"SA2_MAINCODE_2016\",\"sa2_code\")\n",
    "\n",
    "postcodedf.limit(5)"
   ]
  },
  {
   "cell_type": "code",
   "execution_count": 15,
   "id": "45a4080b-6891-417f-92e8-0a30ef1d773c",
   "metadata": {
    "tags": []
   },
   "outputs": [
    {
     "name": "stdout",
     "output_type": "stream",
     "text": [
      "18442\n",
      "18265\n",
      "5492\n",
      "2221 3165\n"
     ]
    },
    {
     "data": {
      "text/html": [
       "<table border='1'>\n",
       "<tr><th>postcode</th><th>sa2_code</th></tr>\n",
       "<tr><td>1008</td><td>117031337</td></tr>\n",
       "<tr><td>1150</td><td>117031337</td></tr>\n",
       "<tr><td>2100</td><td>122031429</td></tr>\n",
       "<tr><td>2200</td><td>119011571</td></tr>\n",
       "<tr><td>2338</td><td>110041201</td></tr>\n",
       "</table>\n"
      ],
      "text/plain": [
       "+--------+---------+\n",
       "|postcode| sa2_code|\n",
       "+--------+---------+\n",
       "|    1008|117031337|\n",
       "|    1150|117031337|\n",
       "|    2100|122031429|\n",
       "|    2200|119011571|\n",
       "|    2338|110041201|\n",
       "+--------+---------+"
      ]
     },
     "execution_count": 15,
     "metadata": {},
     "output_type": "execute_result"
    }
   ],
   "source": [
    "from pyspark.sql import Row\n",
    "\n",
    "postcodedf = postcodedf.select(\"postcode\",\"SA2_MAINCODE_2016\")\n",
    "postcodedf = postcodedf.withColumnRenamed(\"SA2_MAINCODE_2016\",\"sa2_code\")\n",
    "print(postcodedf.count())\n",
    "\n",
    "postcodedf = postcodedf.dropna(\"any\")\n",
    "print(postcodedf.count())\n",
    "\n",
    "postcodedf = postcodedf.distinct()\n",
    "print(postcodedf.count())\n",
    "print(postcodedf.groupBy(\"sa2_code\").count().count(), postcodedf.groupBy(\"postcode\").count().count())\n",
    "\n",
    "postcodedf.limit(5)"
   ]
  },
  {
   "cell_type": "markdown",
   "id": "556f9d32-cf16-491d-bdde-9f291e89524e",
   "metadata": {
    "tags": []
   },
   "source": [
    "In the dataset we have 2221 SA2 codes, in actuality there are 2310, missing 89 <br>\n",
    "In the dataset we have 3165 postcodes, in actuality there are 3333, missing 168 <br>\n",
    "no other datasets out there with all postcodes and sa2 codes so have to exclude these regions from analysis"
   ]
  },
  {
   "cell_type": "code",
   "execution_count": 16,
   "id": "82bf237a-9e4b-422f-bb1a-880e2f1b2ebe",
   "metadata": {
    "tags": []
   },
   "outputs": [
    {
     "name": "stdout",
     "output_type": "stream",
     "text": [
      "13614675\n"
     ]
    },
    {
     "name": "stderr",
     "output_type": "stream",
     "text": [
      "                                                                                \r"
     ]
    },
    {
     "name": "stdout",
     "output_type": "stream",
     "text": [
      "23253251\n"
     ]
    },
    {
     "name": "stderr",
     "output_type": "stream",
     "text": [
      "                                                                                \r"
     ]
    },
    {
     "name": "stdout",
     "output_type": "stream",
     "text": [
      "2154 3113\n"
     ]
    },
    {
     "name": "stderr",
     "output_type": "stream",
     "text": [
      "                                                                                \r"
     ]
    },
    {
     "data": {
      "text/html": [
       "<table border='1'>\n",
       "<tr><th>postcode</th><th>merchant_abn</th><th>consumer_id</th><th>user_id</th><th>dollar_value</th><th>order_id</th><th>order_datetime</th><th>customer_name</th><th>address</th><th>state</th><th>gender</th><th>company_name</th><th>tags</th><th>take_rate</th><th>revenue_band</th><th>sa2_code</th></tr>\n",
       "<tr><td>5581</td><td>69666829657</td><td>226</td><td>5162</td><td>79.65159982605903</td><td>8765ef9f-dba6-407...</td><td>2021-08-20</td><td>Courtney Torres</td><td>6945 Higgins Brooks</td><td>SA</td><td>Female</td><td>Sem Ut Institute</td><td>bicycle shops - s...</td><td> 2.86</td><td> c</td><td>405041127</td></tr>\n",
       "<tr><td>5581</td><td>50321300271</td><td>226</td><td>5162</td><td>594.2915496790856</td><td>79f2842d-f8b2-4fd...</td><td>2022-06-01</td><td>Courtney Torres</td><td>6945 Higgins Brooks</td><td>SA</td><td>Female</td><td>Augue Industries</td><td>bicycle shops - s...</td><td> 4.24</td><td> b</td><td>405041127</td></tr>\n",
       "<tr><td>5581</td><td>70610974780</td><td>226</td><td>5162</td><td>52.820359204536665</td><td>bdf345c8-4c5d-48e...</td><td>2021-08-20</td><td>Courtney Torres</td><td>6945 Higgins Brooks</td><td>SA</td><td>Female</td><td>Elit Aliquam PC</td><td>tent and awning s...</td><td> 6.93</td><td> a</td><td>405041127</td></tr>\n",
       "<tr><td>5581</td><td>17324645993</td><td>226</td><td>5162</td><td>27.12729568273566</td><td>0a44d623-e325-4fc...</td><td>2022-05-12</td><td>Courtney Torres</td><td>6945 Higgins Brooks</td><td>SA</td><td>Female</td><td>Eget Metus In Cor...</td><td>tent and awning s...</td><td> 5.73</td><td> a</td><td>405041127</td></tr>\n",
       "<tr><td>5581</td><td>15582655078</td><td>226</td><td>5162</td><td>75.31904078962366</td><td>47ddf8e0-5f72-408...</td><td>2021-08-21</td><td>Courtney Torres</td><td>6945 Higgins Brooks</td><td>SA</td><td>Female</td><td>Eu Odio Phasellus...</td><td>gift, card, novel...</td><td> 6.77</td><td> a</td><td>405041127</td></tr>\n",
       "<tr><td>5581</td><td>52160665475</td><td>226</td><td>5162</td><td>224.25305829045854</td><td>0558f853-fa82-4bf...</td><td>2022-03-26</td><td>Courtney Torres</td><td>6945 Higgins Brooks</td><td>SA</td><td>Female</td><td>Mauris Associates</td><td>digital goods: bo...</td><td> 6.88</td><td> a</td><td>405041127</td></tr>\n",
       "<tr><td>5581</td><td>21439773999</td><td>226</td><td>5162</td><td>22.910510985569914</td><td>5af069a2-594a-4a1...</td><td>2021-08-21</td><td>Courtney Torres</td><td>6945 Higgins Brooks</td><td>SA</td><td>Female</td><td>Mauris Non Institute</td><td>cable, satellite,...</td><td> 6.10</td><td> a</td><td>405041127</td></tr>\n",
       "<tr><td>5581</td><td>19854089605</td><td>226</td><td>5162</td><td>92.7043931796329</td><td>0abb6acd-05ef-492...</td><td>2022-04-20</td><td>Courtney Torres</td><td>6945 Higgins Brooks</td><td>SA</td><td>Female</td><td>Aenean Massa Indu...</td><td>gift, card, novel...</td><td> 3.15</td><td> b</td><td>405041127</td></tr>\n",
       "<tr><td>5581</td><td>66842618444</td><td>226</td><td>5162</td><td>97.39085253030447</td><td>356f3038-5bd9-45a...</td><td>2021-08-19</td><td>Courtney Torres</td><td>6945 Higgins Brooks</td><td>SA</td><td>Female</td><td>Ultrices Inc.</td><td>shoe shops</td><td> 6.93</td><td> a</td><td>405041127</td></tr>\n",
       "<tr><td>5581</td><td>46804135891</td><td>226</td><td>5162</td><td>11.22535503758106</td><td>e85a5baf-fc13-407...</td><td>2022-03-25</td><td>Courtney Torres</td><td>6945 Higgins Brooks</td><td>SA</td><td>Female</td><td>Suspendisse Dui C...</td><td>opticians, optica...</td><td> 2.93</td><td> c</td><td>405041127</td></tr>\n",
       "</table>\n"
      ],
      "text/plain": [
       "+--------+------------+-----------+-------+------------------+--------------------+--------------+---------------+-------------------+-----+------+--------------------+--------------------+---------+------------+---------+\n",
       "|postcode|merchant_abn|consumer_id|user_id|      dollar_value|            order_id|order_datetime|  customer_name|            address|state|gender|        company_name|                tags|take_rate|revenue_band| sa2_code|\n",
       "+--------+------------+-----------+-------+------------------+--------------------+--------------+---------------+-------------------+-----+------+--------------------+--------------------+---------+------------+---------+\n",
       "|    5581| 69666829657|        226|   5162| 79.65159982605903|8765ef9f-dba6-407...|    2021-08-20|Courtney Torres|6945 Higgins Brooks|   SA|Female|    Sem Ut Institute|bicycle shops - s...|     2.86|           c|405041127|\n",
       "|    5581| 50321300271|        226|   5162| 594.2915496790856|79f2842d-f8b2-4fd...|    2022-06-01|Courtney Torres|6945 Higgins Brooks|   SA|Female|    Augue Industries|bicycle shops - s...|     4.24|           b|405041127|\n",
       "|    5581| 70610974780|        226|   5162|52.820359204536665|bdf345c8-4c5d-48e...|    2021-08-20|Courtney Torres|6945 Higgins Brooks|   SA|Female|     Elit Aliquam PC|tent and awning s...|     6.93|           a|405041127|\n",
       "|    5581| 17324645993|        226|   5162| 27.12729568273566|0a44d623-e325-4fc...|    2022-05-12|Courtney Torres|6945 Higgins Brooks|   SA|Female|Eget Metus In Cor...|tent and awning s...|     5.73|           a|405041127|\n",
       "|    5581| 15582655078|        226|   5162| 75.31904078962366|47ddf8e0-5f72-408...|    2021-08-21|Courtney Torres|6945 Higgins Brooks|   SA|Female|Eu Odio Phasellus...|gift, card, novel...|     6.77|           a|405041127|\n",
       "|    5581| 52160665475|        226|   5162|224.25305829045854|0558f853-fa82-4bf...|    2022-03-26|Courtney Torres|6945 Higgins Brooks|   SA|Female|   Mauris Associates|digital goods: bo...|     6.88|           a|405041127|\n",
       "|    5581| 21439773999|        226|   5162|22.910510985569914|5af069a2-594a-4a1...|    2021-08-21|Courtney Torres|6945 Higgins Brooks|   SA|Female|Mauris Non Institute|cable, satellite,...|     6.10|           a|405041127|\n",
       "|    5581| 19854089605|        226|   5162|  92.7043931796329|0abb6acd-05ef-492...|    2022-04-20|Courtney Torres|6945 Higgins Brooks|   SA|Female|Aenean Massa Indu...|gift, card, novel...|     3.15|           b|405041127|\n",
       "|    5581| 66842618444|        226|   5162| 97.39085253030447|356f3038-5bd9-45a...|    2021-08-19|Courtney Torres|6945 Higgins Brooks|   SA|Female|       Ultrices Inc.|          shoe shops|     6.93|           a|405041127|\n",
       "|    5581| 46804135891|        226|   5162| 11.22535503758106|e85a5baf-fc13-407...|    2022-03-25|Courtney Torres|6945 Higgins Brooks|   SA|Female|Suspendisse Dui C...|opticians, optica...|     2.93|           c|405041127|\n",
       "+--------+------------+-----------+-------+------------------+--------------------+--------------+---------------+-------------------+-----+------+--------------------+--------------------+---------+------------+---------+"
      ]
     },
     "execution_count": 16,
     "metadata": {},
     "output_type": "execute_result"
    }
   ],
   "source": [
    "print(sdf.count())\n",
    "mergedf = sdf.join(postcodedf, \"postcode\")\n",
    "print(mergedf.count())\n",
    "print(mergedf.groupBy(\"sa2_code\").count().count(), mergedf.groupBy(\"postcode\").count().count())\n",
    "\n",
    "mergedf.limit(10)"
   ]
  },
  {
   "cell_type": "markdown",
   "id": "c2d6077a-7931-459e-89f9-e91c18e397af",
   "metadata": {
    "tags": []
   },
   "source": [
    "As we can see there was a loss of rows when joining with the \"merchant abn\" column in the merchant dataset <br>\n",
    "This means that some of the merchant abns in the transactions were not available in the data table for the different merchants <br>\n",
    "These can be removed as we dont know their company tags/take_rate/revenue_bands which are all useful features <br>\n",
    "Removing these merchants also removed some postcodes/sa2_codes via joining <br>\n",
    "Also transactions originally only had 3167 postcodes out of 3333 <br> \n",
    "<br>\n",
    "Number of rows goes up when combining with postcodes because a postcode can belong to multiple SA2 regions <br>\n",
    "for the time being treating it as is "
   ]
  },
  {
   "cell_type": "markdown",
   "id": "dece0952",
   "metadata": {},
   "source": [
    "## (JAI: needa have script download income dataset)"
   ]
  },
  {
   "cell_type": "code",
   "execution_count": 23,
   "id": "3c5d30fc-9236-4719-8ab5-574fb08cfda0",
   "metadata": {},
   "outputs": [
    {
     "ename": "ServiceException",
     "evalue": "<?xml version=\"1.0\" encoding=\"UTF-8\"?><ows:ExceptionReport xmlns:xs=\"http://www.w3.org/2001/XMLSchema\" xmlns:ows=\"http://www.opengis.net/ows/1.1\" xmlns:xsi=\"http://www.w3.org/2001/XMLSchema-instance\" version=\"2.0.0\" xsi:schemaLocation=\"http://www.opengis.net/ows/1.1 https://adp.aurin.org.au/geoserver/schemas/ows/1.1.0/owsAll.xsd\">\n<ows:Exception exceptionCode=\"InvalidParameterValue\" locator=\"typeName\">\n<ows:ExceptionText>Feature type datasource-AU_Govt_ABS-UoM_AURIN_DB_3:abs_personal_income_total_income_sa2_2011_2018 unknown</ows:ExceptionText>\n</ows:Exception>\n</ows:ExceptionReport>\n",
     "output_type": "error",
     "traceback": [
      "\u001b[0;31m---------------------------------------------------------------------------\u001b[0m",
      "\u001b[0;31mServiceException\u001b[0m                          Traceback (most recent call last)",
      "\u001b[1;32m/home/ashahi/generic-buy-now-pay-later-project-group-35/notebooks/2 analysis.ipynb Cell 41\u001b[0m in \u001b[0;36m<cell line: 6>\u001b[0;34m()\u001b[0m\n\u001b[1;32m      <a href='vscode-notebook-cell://wsl%2Bubuntu/home/ashahi/generic-buy-now-pay-later-project-group-35/notebooks/2%20analysis.ipynb#X56sdnNjb2RlLXJlbW90ZQ%3D%3D?line=3'>4</a>\u001b[0m url \u001b[39m=\u001b[39m \u001b[39m'\u001b[39m\u001b[39mhttps://adp.aurin.org.au/geoserver/wfs\u001b[39m\u001b[39m'\u001b[39m\n\u001b[1;32m      <a href='vscode-notebook-cell://wsl%2Bubuntu/home/ashahi/generic-buy-now-pay-later-project-group-35/notebooks/2%20analysis.ipynb#X56sdnNjb2RlLXJlbW90ZQ%3D%3D?line=4'>5</a>\u001b[0m adp_client \u001b[39m=\u001b[39m WebFeatureService(url\u001b[39m=\u001b[39murl,username\u001b[39m=\u001b[39muser_name, password\u001b[39m=\u001b[39mpassword, version\u001b[39m=\u001b[39m\u001b[39m'\u001b[39m\u001b[39m2.0.0\u001b[39m\u001b[39m'\u001b[39m)\n\u001b[0;32m----> <a href='vscode-notebook-cell://wsl%2Bubuntu/home/ashahi/generic-buy-now-pay-later-project-group-35/notebooks/2%20analysis.ipynb#X56sdnNjb2RlLXJlbW90ZQ%3D%3D?line=5'>6</a>\u001b[0m response \u001b[39m=\u001b[39m adp_client\u001b[39m.\u001b[39;49mgetfeature(typename\u001b[39m=\u001b[39;49m\u001b[39m\"\u001b[39;49m\u001b[39mdatasource-AU_Govt_ABS-UoM_AURIN_DB_3:abs_personal_income_total_income_sa2_2011_2018\u001b[39;49m\u001b[39m\"\u001b[39;49m, \n\u001b[1;32m      <a href='vscode-notebook-cell://wsl%2Bubuntu/home/ashahi/generic-buy-now-pay-later-project-group-35/notebooks/2%20analysis.ipynb#X56sdnNjb2RlLXJlbW90ZQ%3D%3D?line=6'>7</a>\u001b[0m                                  outputFormat\u001b[39m=\u001b[39;49m\u001b[39m'\u001b[39;49m\u001b[39mcsv\u001b[39;49m\u001b[39m'\u001b[39;49m)\n\u001b[1;32m      <a href='vscode-notebook-cell://wsl%2Bubuntu/home/ashahi/generic-buy-now-pay-later-project-group-35/notebooks/2%20analysis.ipynb#X56sdnNjb2RlLXJlbW90ZQ%3D%3D?line=7'>8</a>\u001b[0m out \u001b[39m=\u001b[39m \u001b[39mopen\u001b[39m(\u001b[39m\"\u001b[39m\u001b[39m../data/tables/datasource-AU_Govt_ABS-UoM_AURIN_DB_3_abs_personal_income_total_income_sa2_2011_2018.csv\u001b[39m\u001b[39m\"\u001b[39m, \u001b[39m'\u001b[39m\u001b[39mwb\u001b[39m\u001b[39m'\u001b[39m)\n\u001b[1;32m      <a href='vscode-notebook-cell://wsl%2Bubuntu/home/ashahi/generic-buy-now-pay-later-project-group-35/notebooks/2%20analysis.ipynb#X56sdnNjb2RlLXJlbW90ZQ%3D%3D?line=8'>9</a>\u001b[0m out\u001b[39m.\u001b[39mwrite(response\u001b[39m.\u001b[39mread())\n",
      "File \u001b[0;32m~/.local/lib/python3.10/site-packages/owslib/feature/wfs200.py:325\u001b[0m, in \u001b[0;36mWebFeatureService_2_0_0.getfeature\u001b[0;34m(self, typename, filter, bbox, featureid, featureversion, propertyname, maxfeatures, storedQueryID, storedQueryParams, method, outputFormat, startindex, sortby)\u001b[0m\n\u001b[1;32m    309\u001b[0m \u001b[39melse\u001b[39;00m:\n\u001b[1;32m    310\u001b[0m     url, data \u001b[39m=\u001b[39m \u001b[39mself\u001b[39m\u001b[39m.\u001b[39mgetPOSTGetFeatureRequest(\n\u001b[1;32m    311\u001b[0m         typename,\n\u001b[1;32m    312\u001b[0m         \u001b[39mfilter\u001b[39m,\n\u001b[0;32m   (...)\u001b[0m\n\u001b[1;32m    322\u001b[0m         startindex,\n\u001b[1;32m    323\u001b[0m         sortby)\n\u001b[0;32m--> 325\u001b[0m u \u001b[39m=\u001b[39m openURL(url, data, method, timeout\u001b[39m=\u001b[39;49m\u001b[39mself\u001b[39;49m\u001b[39m.\u001b[39;49mtimeout, headers\u001b[39m=\u001b[39;49m\u001b[39mself\u001b[39;49m\u001b[39m.\u001b[39;49mheaders, auth\u001b[39m=\u001b[39;49m\u001b[39mself\u001b[39;49m\u001b[39m.\u001b[39;49mauth)\n\u001b[1;32m    327\u001b[0m \u001b[39m# check for service exceptions, rewrap, and return\u001b[39;00m\n\u001b[1;32m    328\u001b[0m \u001b[39m# We're going to assume that anything with a content-length > 32k\u001b[39;00m\n\u001b[1;32m    329\u001b[0m \u001b[39m# is data. We'll check anything smaller.\u001b[39;00m\n\u001b[1;32m    330\u001b[0m \u001b[39mif\u001b[39;00m \u001b[39m\"\u001b[39m\u001b[39mContent-Length\u001b[39m\u001b[39m\"\u001b[39m \u001b[39min\u001b[39;00m u\u001b[39m.\u001b[39minfo():\n",
      "File \u001b[0;32m~/.local/lib/python3.10/site-packages/owslib/util.py:211\u001b[0m, in \u001b[0;36mopenURL\u001b[0;34m(url_base, data, method, cookies, username, password, timeout, headers, verify, cert, auth)\u001b[0m\n\u001b[1;32m    208\u001b[0m req \u001b[39m=\u001b[39m requests\u001b[39m.\u001b[39mrequest(method\u001b[39m.\u001b[39mupper(), url_base, headers\u001b[39m=\u001b[39mheaders, \u001b[39m*\u001b[39m\u001b[39m*\u001b[39mrkwargs)\n\u001b[1;32m    210\u001b[0m \u001b[39mif\u001b[39;00m req\u001b[39m.\u001b[39mstatus_code \u001b[39min\u001b[39;00m [\u001b[39m400\u001b[39m, \u001b[39m401\u001b[39m]:\n\u001b[0;32m--> 211\u001b[0m     \u001b[39mraise\u001b[39;00m ServiceException(req\u001b[39m.\u001b[39mtext)\n\u001b[1;32m    213\u001b[0m \u001b[39mif\u001b[39;00m req\u001b[39m.\u001b[39mstatus_code \u001b[39min\u001b[39;00m [\u001b[39m404\u001b[39m, \u001b[39m500\u001b[39m, \u001b[39m502\u001b[39m, \u001b[39m503\u001b[39m, \u001b[39m504\u001b[39m]:    \u001b[39m# add more if needed\u001b[39;00m\n\u001b[1;32m    214\u001b[0m     req\u001b[39m.\u001b[39mraise_for_status()\n",
      "\u001b[0;31mServiceException\u001b[0m: <?xml version=\"1.0\" encoding=\"UTF-8\"?><ows:ExceptionReport xmlns:xs=\"http://www.w3.org/2001/XMLSchema\" xmlns:ows=\"http://www.opengis.net/ows/1.1\" xmlns:xsi=\"http://www.w3.org/2001/XMLSchema-instance\" version=\"2.0.0\" xsi:schemaLocation=\"http://www.opengis.net/ows/1.1 https://adp.aurin.org.au/geoserver/schemas/ows/1.1.0/owsAll.xsd\">\n<ows:Exception exceptionCode=\"InvalidParameterValue\" locator=\"typeName\">\n<ows:ExceptionText>Feature type datasource-AU_Govt_ABS-UoM_AURIN_DB_3:abs_personal_income_total_income_sa2_2011_2018 unknown</ows:ExceptionText>\n</ows:Exception>\n</ows:ExceptionReport>\n"
     ]
    }
   ],
   "source": [
    "load_dotenv('../cred.env')\n",
    "user_name = os.environ.get('USERNAME')\n",
    "password = os.environ.get('PASSWORD')\n",
    "url = 'https://adp.aurin.org.au/geoserver/wfs'\n",
    "adp_client = WebFeatureService(url=url,username=user_name, password=password, version='2.0.0')\n",
    "response = adp_client.getfeature(typename=\"datasource-AU_Govt_ABS-UoM_AURIN_DB_3:abs_personal_income_total_income_sa2_2011_2018\", \n",
    "                                 outputFormat='csv')\n",
    "out = open(\"../data/tables/datasource-AU_Govt_ABS-UoM_AURIN_DB_3_abs_personal_income_total_income_sa2_2011_2018.csv\", 'wb')\n",
    "out.write(response.read())\n",
    "out.close()"
   ]
  },
  {
   "cell_type": "code",
   "execution_count": 21,
   "id": "fdffc7f4",
   "metadata": {
    "tags": []
   },
   "outputs": [
    {
     "name": "stdout",
     "output_type": "stream",
     "text": [
      "2289\n"
     ]
    },
    {
     "data": {
      "text/html": [
       "<table border='1'>\n",
       "<tr><th>_c2</th><th>_c10</th><th>_c17</th><th>_c31</th><th>_c38</th></tr>\n",
       "<tr><td>sa2_code</td><td>earners_persons_2...</td><td>median_age_of_ear...</td><td>median_aud_2017_18</td><td>mean_aud_2017_18</td></tr>\n",
       "<tr><td>103031075</td><td>null</td><td>null</td><td>null</td><td>null</td></tr>\n",
       "<tr><td>107011133</td><td>null</td><td>null</td><td>null</td><td>null</td></tr>\n",
       "<tr><td>107021135</td><td>null</td><td>null</td><td>null</td><td>null</td></tr>\n",
       "<tr><td>111031230</td><td>17</td><td>46</td><td>38680</td><td>51000</td></tr>\n",
       "</table>\n"
      ],
      "text/plain": [
       "+---------+--------------------+--------------------+------------------+----------------+\n",
       "|      _c2|                _c10|                _c17|              _c31|            _c38|\n",
       "+---------+--------------------+--------------------+------------------+----------------+\n",
       "| sa2_code|earners_persons_2...|median_age_of_ear...|median_aud_2017_18|mean_aud_2017_18|\n",
       "|103031075|                null|                null|              null|            null|\n",
       "|107011133|                null|                null|              null|            null|\n",
       "|107021135|                null|                null|              null|            null|\n",
       "|111031230|                  17|                  46|             38680|           51000|\n",
       "+---------+--------------------+--------------------+------------------+----------------+"
      ]
     },
     "execution_count": 21,
     "metadata": {},
     "output_type": "execute_result"
    }
   ],
   "source": [
    "incomedf = spark.read.option(\"header\",\"false\").csv(\"../data/tables/datasource-AU_Govt_ABS-UoM_AURIN_DB_3_abs_personal_income_total_income_sa2_2011_2018.csv\")\n",
    "incomedf = incomedf.select(\"_c2\",\"_c10\",\"_c17\",\"_c31\",\"_c38\")\n",
    "print(incomedf.count())\n",
    "incomedf.limit(5)"
   ]
  },
  {
   "cell_type": "markdown",
   "id": "5110d7a1-caf6-4028-aafc-bc86af7479a0",
   "metadata": {
    "tags": []
   },
   "source": [
    "Missing 21 sa2 codes <br>\n",
    "47 rows have all null values so all up missing 68 sa2 regions worth of data "
   ]
  },
  {
   "cell_type": "code",
   "execution_count": 22,
   "id": "9de11398-6a19-4433-a5de-7088830e714b",
   "metadata": {
    "tags": []
   },
   "outputs": [
    {
     "name": "stdout",
     "output_type": "stream",
     "text": [
      "2289\n"
     ]
    },
    {
     "data": {
      "text/html": [
       "<table border='1'>\n",
       "<tr><th>sa2_code</th><th>num_earners</th><th>median_age</th><th>median_income</th><th>mean_income</th></tr>\n",
       "<tr><td>213011340</td><td>11238</td><td>46</td><td>51181</td><td>61177</td></tr>\n",
       "<tr><td>213021341</td><td>7942</td><td>43</td><td>57585</td><td>69301</td></tr>\n",
       "<tr><td>213021344</td><td>11216</td><td>41</td><td>66161</td><td>80219</td></tr>\n",
       "<tr><td>213021345</td><td>3015</td><td>41</td><td>52078</td><td>60249</td></tr>\n",
       "<tr><td>213021346</td><td>9996</td><td>47</td><td>63892</td><td>90668</td></tr>\n",
       "</table>\n"
      ],
      "text/plain": [
       "+---------+-----------+----------+-------------+-----------+\n",
       "| sa2_code|num_earners|median_age|median_income|mean_income|\n",
       "+---------+-----------+----------+-------------+-----------+\n",
       "|213011340|      11238|        46|        51181|      61177|\n",
       "|213021341|       7942|        43|        57585|      69301|\n",
       "|213021344|      11216|        41|        66161|      80219|\n",
       "|213021345|       3015|        41|        52078|      60249|\n",
       "|213021346|       9996|        47|        63892|      90668|\n",
       "+---------+-----------+----------+-------------+-----------+"
      ]
     },
     "execution_count": 22,
     "metadata": {},
     "output_type": "execute_result"
    }
   ],
   "source": [
    "# Have to save csv file, read it again, and rename it because the delimiters in the original csv\n",
    "# dataset are commas for the header and then fullstops for the first column but commas for the rest\n",
    "\n",
    "from pyspark.sql.functions import *\n",
    "\n",
    "incomedf.write.mode(saveMode=\"overwrite\").csv(\"../data/curated/income.csv\")\n",
    "incomedf = spark.read.csv(\"../data/curated/income.csv\")\n",
    "incomedf = incomedf.withColumnRenamed(\"_c0\",\"sa2_code\")\n",
    "incomedf = incomedf.withColumnRenamed(\"_c1\",\"num_earners\")\n",
    "incomedf = incomedf.withColumnRenamed(\"_c2\",\"median_age\")\n",
    "incomedf = incomedf.withColumnRenamed(\"_c3\",\"median_income\")\n",
    "incomedf = incomedf.withColumnRenamed(\"_c4\",\"mean_income\")\n",
    "\n",
    "for field in ('num_earners',\"median_age\",\"median_income\",\"mean_income\"):\n",
    "    incomedf = incomedf.withColumn(\n",
    "        field,\n",
    "        col(field).cast('int')\n",
    "    )\n",
    "\n",
    "print(incomedf.count())\n",
    "incomedf.limit(5)"
   ]
  },
  {
   "cell_type": "code",
   "execution_count": 21,
   "id": "a6afcc65-1949-46d3-888e-226fee79583a",
   "metadata": {
    "tags": []
   },
   "outputs": [],
   "source": [
    "# sa2_code\n",
    "\n",
    "# no need to perform any futher analysis as any discrepancies will be removed with an inner join on this field  "
   ]
  },
  {
   "cell_type": "code",
   "execution_count": 53,
   "id": "54fedf94-6611-4e14-9d2b-f78c4e8c6253",
   "metadata": {
    "tags": []
   },
   "outputs": [
    {
     "name": "stdout",
     "output_type": "stream",
     "text": [
      "2289\n",
      "2241\n",
      "+----------------+----------------+----------------+\n",
      "|min(num_earners)|max(num_earners)|avg(num_earners)|\n",
      "+----------------+----------------+----------------+\n",
      "|               3|           30022|6252.20035698349|\n",
      "+----------------+----------------+----------------+\n",
      "\n"
     ]
    },
    {
     "data": {
      "image/png": "[encoded data removed]",
      "text/plain": [
       "<Figure size 432x288 with 1 Axes>"
      ]
     },
     "metadata": {
      "needs_background": "light"
     },
     "output_type": "display_data"
    }
   ],
   "source": [
    "# num_earners\n",
    "\n",
    "import matplotlib.pyplot as plt\n",
    "import pandas as pd\n",
    "\n",
    "testdf = incomedf.alias(\"testdf\")\n",
    "print(testdf.count())\n",
    "testdf = testdf.dropna(\"all\",subset=\"num_earners\")\n",
    "print(testdf.count())\n",
    "\n",
    "print(testdf.agg(min(\"num_earners\"), max(\"num_earners\"), mean(\"num_earners\")))\n",
    "\n",
    "df = testdf.toPandas()\n",
    "plt.boxplot(df[\"num_earners\"])\n",
    "plt.show()"
   ]
  },
  {
   "cell_type": "markdown",
   "id": "ccd2b123-4e54-4c0d-bb1c-e28a27fb7117",
   "metadata": {
    "tags": []
   },
   "source": [
    "First we check for nulls and find that 48 rows have nulls <br>\n",
    "We will remove these rows as its unfair to impute a value here <br>\n",
    "We could potentially use a population (sa2) dataset to make a model to predict the num_earners but there is no point because in the dataset if one row has a column with a null value then the other columns are all null too <br>\n",
    "<br>"
   ]
  },
  {
   "cell_type": "code",
   "execution_count": 17,
   "id": "fcb8b90e-5431-420a-816e-d7059aa47778",
   "metadata": {},
   "outputs": [
    {
     "data": {
      "text/html": [
       "<table border='1'>\n",
       "<tr><th>sa2_code</th><th>num_earners</th><th>median_age</th><th>median_income</th><th>mean_income</th><th>locality</th><th>state</th><th>SA2_NAME_2016</th></tr>\n",
       "<tr><td>117031337</td><td>30022</td><td>30</td><td>25962</td><td>65906</td><td>SYDNEY</td><td>NSW</td><td>Sydney - Haymarke...</td></tr>\n",
       "<tr><td>206041122</td><td>26083</td><td>30</td><td>28806</td><td>51528</td><td>MELBOURNE</td><td>VIC</td><td>Melbourne</td></tr>\n",
       "<tr><td>503021041</td><td>25161</td><td>34</td><td>54790</td><td>79517</td><td>CITY DELIVERY CENTRE</td><td>WA</td><td>Perth City</td></tr>\n",
       "</table>\n"
      ],
      "text/plain": [
       "+---------+-----------+----------+-------------+-----------+--------------------+-----+--------------------+\n",
       "| sa2_code|num_earners|median_age|median_income|mean_income|            locality|state|       SA2_NAME_2016|\n",
       "+---------+-----------+----------+-------------+-----------+--------------------+-----+--------------------+\n",
       "|117031337|      30022|        30|        25962|      65906|              SYDNEY|  NSW|Sydney - Haymarke...|\n",
       "|206041122|      26083|        30|        28806|      51528|           MELBOURNE|  VIC|           Melbourne|\n",
       "|503021041|      25161|        34|        54790|      79517|CITY DELIVERY CENTRE|   WA|          Perth City|\n",
       "+---------+-----------+----------+-------------+-----------+--------------------+-----+--------------------+"
      ]
     },
     "execution_count": 17,
     "metadata": {},
     "output_type": "execute_result"
    }
   ],
   "source": [
    "testdf = incomedf.alias(\"testdf\")\n",
    "testdf = testdf.dropna(\"all\",subset=\"num_earners\")\n",
    "testdf = testdf.filter(testdf[\"num_earners\"] > 25000)\n",
    "testdf = testdf.join(testpostcodedf, \"sa2_code\")\n",
    "testdf = testdf.dropDuplicates(subset=[\"sa2_code\"])\n",
    "testdf"
   ]
  },
  {
   "cell_type": "markdown",
   "id": "bf45e81d-7866-4d96-b882-7ee34598a9bc",
   "metadata": {},
   "source": [
    "greatest number of earners in capital cities"
   ]
  },
  {
   "cell_type": "code",
   "execution_count": 24,
   "id": "f3693491-bded-4f2c-8ccd-7a1779b847cf",
   "metadata": {},
   "outputs": [
    {
     "data": {
      "text/html": [
       "<table border='1'>\n",
       "<tr><th>sa2_code</th><th>num_earners</th><th>median_age</th><th>median_income</th><th>mean_income</th><th>locality</th><th>state</th><th>SA2_NAME_2016</th></tr>\n",
       "<tr><td>117011324</td><td>6</td><td>42</td><td>89790</td><td>83273</td><td>PORT BOTANY</td><td>NSW</td><td>Port Botany Indus...</td></tr>\n",
       "<tr><td>117011325</td><td>5</td><td>30</td><td>41442</td><td>50626</td><td>SYDNEY DOMESTIC A...</td><td>NSW</td><td>Sydney Airport</td></tr>\n",
       "<tr><td>128021537</td><td>8</td><td>32</td><td>26370</td><td>38451</td><td>SOUTHERN SUBURBS MC</td><td>NSW</td><td>Royal National Park</td></tr>\n",
       "<tr><td>205021080</td><td>3</td><td>63</td><td>31114</td><td>22659</td><td>BRUMBY</td><td>VIC</td><td>Alps - East</td></tr>\n",
       "<tr><td>206041127</td><td>8</td><td>38</td><td>93272</td><td>237158</td><td>WEST MELBOURNE</td><td>VIC</td><td>West Melbourne</td></tr>\n",
       "<tr><td>208031192</td><td>8</td><td>54</td><td>50000</td><td>60501</td><td>MOORABBIN AIRPORT</td><td>VIC</td><td>Moorabbin Airport</td></tr>\n",
       "<tr><td>306031162</td><td>5</td><td>60</td><td>101552</td><td>95663</td><td>WOOROONOORAN</td><td>QLD</td><td>Wooroonooran</td></tr>\n",
       "<tr><td>308051532</td><td>8</td><td>45</td><td>90430</td><td>98604</td><td>CALLEMONDAH</td><td>QLD</td><td>Callemondah</td></tr>\n",
       "<tr><td>310021279</td><td>3</td><td>40</td><td>93966</td><td>112085</td><td>LAKE MANCHESTER</td><td>QLD</td><td>Lake Manchester -...</td></tr>\n",
       "<tr><td>404031104</td><td>4</td><td>50</td><td>31934</td><td>52302</td><td>ADELAIDE AIRPORT</td><td>SA</td><td>Adelaide Airport</td></tr>\n",
       "<tr><td>406011135</td><td>5</td><td>58</td><td>68754</td><td>67797</td><td>CHUNDARIA</td><td>SA</td><td>Western</td></tr>\n",
       "<tr><td>504021052</td><td>5</td><td>71</td><td>1260</td><td>-1773</td><td>SAWYERS VALLEY</td><td>WA</td><td>Malmalling - Rese...</td></tr>\n",
       "<tr><td>505031106</td><td>4</td><td>42</td><td>60564</td><td>70748</td><td>NEERABUP</td><td>WA</td><td>Neerabup National...</td></tr>\n",
       "<tr><td>506011111</td><td>4</td><td>43</td><td>143945</td><td>92309</td><td>ASHENDON</td><td>WA</td><td>Ashendon - Lesley</td></tr>\n",
       "<tr><td>506021121</td><td>3</td><td>28</td><td>84101</td><td>68602</td><td>PERTH AIRPORT</td><td>WA</td><td>Perth Airport</td></tr>\n",
       "<tr><td>701011003</td><td>7</td><td>51</td><td>43560</td><td>52873</td><td>EAST POINT</td><td>NT</td><td>East Point</td></tr>\n",
       "<tr><td>801011112</td><td>8</td><td>42</td><td>54601</td><td>58037</td><td>STRATHNAIRN</td><td>ACT</td><td>West Belconnen</td></tr>\n",
       "<tr><td>801061068</td><td>4</td><td>53</td><td>121961</td><td>107326</td><td>CAPITAL HILL</td><td>ACT</td><td>Parkes (ACT) - South</td></tr>\n",
       "</table>\n"
      ],
      "text/plain": [
       "+---------+-----------+----------+-------------+-----------+--------------------+-----+--------------------+\n",
       "| sa2_code|num_earners|median_age|median_income|mean_income|            locality|state|       SA2_NAME_2016|\n",
       "+---------+-----------+----------+-------------+-----------+--------------------+-----+--------------------+\n",
       "|117011324|          6|        42|        89790|      83273|         PORT BOTANY|  NSW|Port Botany Indus...|\n",
       "|117011325|          5|        30|        41442|      50626|SYDNEY DOMESTIC A...|  NSW|      Sydney Airport|\n",
       "|128021537|          8|        32|        26370|      38451| SOUTHERN SUBURBS MC|  NSW| Royal National Park|\n",
       "|205021080|          3|        63|        31114|      22659|              BRUMBY|  VIC|         Alps - East|\n",
       "|206041127|          8|        38|        93272|     237158|      WEST MELBOURNE|  VIC|      West Melbourne|\n",
       "|208031192|          8|        54|        50000|      60501|   MOORABBIN AIRPORT|  VIC|   Moorabbin Airport|\n",
       "|306031162|          5|        60|       101552|      95663|        WOOROONOORAN|  QLD|        Wooroonooran|\n",
       "|308051532|          8|        45|        90430|      98604|         CALLEMONDAH|  QLD|         Callemondah|\n",
       "|310021279|          3|        40|        93966|     112085|     LAKE MANCHESTER|  QLD|Lake Manchester -...|\n",
       "|404031104|          4|        50|        31934|      52302|    ADELAIDE AIRPORT|   SA|    Adelaide Airport|\n",
       "|406011135|          5|        58|        68754|      67797|           CHUNDARIA|   SA|             Western|\n",
       "|504021052|          5|        71|         1260|      -1773|      SAWYERS VALLEY|   WA|Malmalling - Rese...|\n",
       "|505031106|          4|        42|        60564|      70748|            NEERABUP|   WA|Neerabup National...|\n",
       "|506011111|          4|        43|       143945|      92309|            ASHENDON|   WA|   Ashendon - Lesley|\n",
       "|506021121|          3|        28|        84101|      68602|       PERTH AIRPORT|   WA|       Perth Airport|\n",
       "|701011003|          7|        51|        43560|      52873|          EAST POINT|   NT|          East Point|\n",
       "|801011112|          8|        42|        54601|      58037|         STRATHNAIRN|  ACT|      West Belconnen|\n",
       "|801061068|          4|        53|       121961|     107326|        CAPITAL HILL|  ACT|Parkes (ACT) - South|\n",
       "+---------+-----------+----------+-------------+-----------+--------------------+-----+--------------------+"
      ]
     },
     "execution_count": 24,
     "metadata": {},
     "output_type": "execute_result"
    }
   ],
   "source": [
    "testdf = incomedf.alias(\"testdf\")\n",
    "testdf = testdf.dropna(\"all\",subset=\"num_earners\")\n",
    "testdf = testdf.filter(testdf[\"num_earners\"] < 10)\n",
    "testdf = testdf.join(testpostcodedf, \"sa2_code\")\n",
    "testdf = testdf.dropDuplicates(subset=[\"sa2_code\"])\n",
    "testdf"
   ]
  },
  {
   "cell_type": "markdown",
   "id": "25f7db16-dc2a-4a10-963c-43b2e46d0119",
   "metadata": {},
   "source": [
    "lowest number of earners typically in parks/airports where barely any people live <br>\n",
    "locations like west mebourne caught my eye with only 8 earners which i thought was incorrect but turns out its not: <br>\n",
    "Population of West Melbourne. Last official estimated population of West Melbourne (as Statistical Area Level 2) was 3 people (on 2017-06-30). <br>\n",
    "(population.com.au)"
   ]
  },
  {
   "cell_type": "code",
   "execution_count": 25,
   "id": "78d92824-1fc0-4f96-8b2e-aff4537280a8",
   "metadata": {},
   "outputs": [
    {
     "name": "stdout",
     "output_type": "stream",
     "text": [
      "2289\n",
      "2241\n",
      "+---------------+---------------+------------------+\n",
      "|min(median_age)|max(median_age)|   avg(median_age)|\n",
      "+---------------+---------------+------------------+\n",
      "|             15|             71|43.077197679607316|\n",
      "+---------------+---------------+------------------+\n",
      "\n"
     ]
    },
    {
     "data": {
      "image/png": "[encoded data removed]",
      "text/plain": [
       "<Figure size 640x480 with 1 Axes>"
      ]
     },
     "metadata": {},
     "output_type": "display_data"
    }
   ],
   "source": [
    "# median_age\n",
    "\n",
    "testdf = incomedf.alias(\"testdf\")\n",
    "print(testdf.count())\n",
    "testdf = testdf.dropna(\"all\",subset=\"median_age\")\n",
    "print(testdf.count())\n",
    "\n",
    "print(testdf.agg(min(\"median_age\"), max(\"median_age\"), mean(\"median_age\")))\n",
    "\n",
    "df = testdf.toPandas()\n",
    "plt.boxplot(df[\"median_age\"])\n",
    "plt.show()"
   ]
  },
  {
   "cell_type": "markdown",
   "id": "a679d2c7-7194-4b62-ae7d-ae4ba9a73afc",
   "metadata": {},
   "source": [
    "again 48 rows with nulls <br>\n",
    "median ages below 20 and above 70 seem unreasonable so they will be removed considering mean retirement age is generally 65 years and the minimum age to work is around 15 years <br>"
   ]
  },
  {
   "cell_type": "code",
   "execution_count": 26,
   "id": "d97aae2c-95f4-48a6-9e57-903150c7391c",
   "metadata": {},
   "outputs": [
    {
     "data": {
      "text/html": [
       "<table border='1'>\n",
       "<tr><th>sa2_code</th><th>num_earners</th><th>median_age</th><th>median_income</th><th>mean_income</th><th>locality</th><th>state</th><th>SA2_NAME_2016</th></tr>\n",
       "<tr><td>504021052</td><td>5</td><td>71</td><td>1260</td><td>-1773</td><td>SAWYERS VALLEY</td><td>WA</td><td>Malmalling - Rese...</td></tr>\n",
       "</table>\n"
      ],
      "text/plain": [
       "+---------+-----------+----------+-------------+-----------+--------------+-----+--------------------+\n",
       "| sa2_code|num_earners|median_age|median_income|mean_income|      locality|state|       SA2_NAME_2016|\n",
       "+---------+-----------+----------+-------------+-----------+--------------+-----+--------------------+\n",
       "|504021052|          5|        71|         1260|      -1773|SAWYERS VALLEY|   WA|Malmalling - Rese...|\n",
       "+---------+-----------+----------+-------------+-----------+--------------+-----+--------------------+"
      ]
     },
     "execution_count": 26,
     "metadata": {},
     "output_type": "execute_result"
    }
   ],
   "source": [
    "testdf = incomedf.alias(\"testdf\")\n",
    "testdf = testdf.dropna(\"all\",subset=\"median_age\")\n",
    "testdf = testdf.filter(testdf[\"median_age\"] > 70)\n",
    "testdf = testdf.join(testpostcodedf, \"sa2_code\")\n",
    "testdf = testdf.dropDuplicates(subset=[\"sa2_code\"])\n",
    "testdf"
   ]
  },
  {
   "cell_type": "markdown",
   "id": "3218d2f4-2829-4cc6-bdd2-965f5d5a4a0a",
   "metadata": {},
   "source": [
    "will be removed cause negative mean income"
   ]
  },
  {
   "cell_type": "code",
   "execution_count": 27,
   "id": "2b7ebd3e-3558-48d5-b88e-f7f14f95ac79",
   "metadata": {},
   "outputs": [
    {
     "data": {
      "text/html": [
       "<table border='1'>\n",
       "<tr><th>sa2_code</th><th>num_earners</th><th>median_age</th><th>median_income</th><th>mean_income</th><th>locality</th><th>state</th><th>SA2_NAME_2016</th></tr>\n",
       "</table>\n"
      ],
      "text/plain": [
       "+--------+-----------+----------+-------------+-----------+--------+-----+-------------+\n",
       "|sa2_code|num_earners|median_age|median_income|mean_income|locality|state|SA2_NAME_2016|\n",
       "+--------+-----------+----------+-------------+-----------+--------+-----+-------------+\n",
       "+--------+-----------+----------+-------------+-----------+--------+-----+-------------+"
      ]
     },
     "execution_count": 27,
     "metadata": {},
     "output_type": "execute_result"
    }
   ],
   "source": [
    "testdf = incomedf.alias(\"testdf\")\n",
    "testdf = testdf.dropna(\"all\",subset=\"median_age\")\n",
    "testdf = testdf.filter(testdf[\"median_age\"] < 20)\n",
    "testdf = testdf.join(testpostcodedf, \"sa2_code\")\n",
    "testdf = testdf.dropDuplicates(subset=[\"sa2_code\"])\n",
    "testdf"
   ]
  },
  {
   "cell_type": "markdown",
   "id": "46add28f-f7d4-4066-942a-220b1998b2e8",
   "metadata": {},
   "source": [
    "sa2 code doesnt exist in postcodes file for 15 year median working age so will be removed"
   ]
  },
  {
   "cell_type": "code",
   "execution_count": 28,
   "id": "26db4bcf-8d67-4c3a-ab7a-49d7c2f3ad77",
   "metadata": {},
   "outputs": [
    {
     "name": "stdout",
     "output_type": "stream",
     "text": [
      "2241\n",
      "2239\n",
      "+---------------+---------------+-----------------+\n",
      "|min(median_age)|max(median_age)|  avg(median_age)|\n",
      "+---------------+---------------+-----------------+\n",
      "|             21|             63|43.07726663689147|\n",
      "+---------------+---------------+-----------------+\n",
      "\n"
     ]
    },
    {
     "data": {
      "image/png": "[encoded data removed]",
      "text/plain": [
       "<Figure size 640x480 with 1 Axes>"
      ]
     },
     "metadata": {},
     "output_type": "display_data"
    }
   ],
   "source": [
    "testdf = incomedf.alias(\"testdf\")\n",
    "testdf = testdf.dropna(\"all\",subset=\"median_age\")\n",
    "print(testdf.count())\n",
    "testdf = testdf.filter(testdf[\"median_age\"] > 20)\n",
    "testdf = testdf.filter(testdf[\"median_age\"] < 70)\n",
    "print(testdf.count())\n",
    "\n",
    "print(testdf.agg(min(\"median_age\"), max(\"median_age\"), mean(\"median_age\")))\n",
    "\n",
    "df = testdf.toPandas()\n",
    "plt.boxplot(df[\"median_age\"])\n",
    "plt.show()"
   ]
  },
  {
   "cell_type": "code",
   "execution_count": 29,
   "id": "d3f6e405-c6c6-4b32-9d7e-34b5e897a341",
   "metadata": {},
   "outputs": [
    {
     "name": "stdout",
     "output_type": "stream",
     "text": [
      "2289\n",
      "2241\n",
      "+------------------+------------------+------------------+\n",
      "|min(median_income)|max(median_income)|avg(median_income)|\n",
      "+------------------+------------------+------------------+\n",
      "|              1260|            178148| 50458.69522534583|\n",
      "+------------------+------------------+------------------+\n",
      "\n"
     ]
    },
    {
     "data": {
      "image/png": "[encoded data removed]",
      "text/plain": [
       "<Figure size 640x480 with 1 Axes>"
      ]
     },
     "metadata": {},
     "output_type": "display_data"
    }
   ],
   "source": [
    "# median income\n",
    "\n",
    "testdf = incomedf.alias(\"testdf\")\n",
    "print(testdf.count())\n",
    "testdf = testdf.dropna(\"all\",subset=[\"median_income\"])\n",
    "print(testdf.count())\n",
    "print(testdf.agg(min(\"median_income\"), max(\"median_income\"), mean(\"median_income\")))\n",
    "\n",
    "df = testdf.toPandas()\n",
    "plt.boxplot(df[\"median_income\"])\n",
    "plt.show()"
   ]
  },
  {
   "cell_type": "markdown",
   "id": "5bd0df10-df72-4afa-8ede-56f6da212ba0",
   "metadata": {},
   "source": [
    "again 48 rows with null will be removed"
   ]
  },
  {
   "cell_type": "code",
   "execution_count": 30,
   "id": "9529dd95-00a4-4d95-a13d-3e368a6bf132",
   "metadata": {},
   "outputs": [
    {
     "data": {
      "text/html": [
       "<table border='1'>\n",
       "<tr><th>sa2_code</th><th>num_earners</th><th>median_age</th><th>median_income</th><th>mean_income</th><th>locality</th><th>state</th><th>SA2_NAME_2016</th></tr>\n",
       "<tr><td>206041127</td><td>8</td><td>38</td><td>93272</td><td>237158</td><td>WEST MELBOURNE</td><td>VIC</td><td>West Melbourne</td></tr>\n",
       "<tr><td>306031162</td><td>5</td><td>60</td><td>101552</td><td>95663</td><td>WOOROONOORAN</td><td>QLD</td><td>Wooroonooran</td></tr>\n",
       "<tr><td>308051532</td><td>8</td><td>45</td><td>90430</td><td>98604</td><td>CALLEMONDAH</td><td>QLD</td><td>Callemondah</td></tr>\n",
       "<tr><td>310021279</td><td>3</td><td>40</td><td>93966</td><td>112085</td><td>LAKE MANCHESTER</td><td>QLD</td><td>Lake Manchester -...</td></tr>\n",
       "<tr><td>406021143</td><td>2562</td><td>36</td><td>92288</td><td>95640</td><td>OLYMPIC DAM</td><td>SA</td><td>Roxby Downs</td></tr>\n",
       "<tr><td>503021037</td><td>37</td><td>59</td><td>161893</td><td>356433</td><td>KINGS PARK</td><td>WA</td><td>Kings Park (WA)</td></tr>\n",
       "<tr><td>506011111</td><td>4</td><td>43</td><td>143945</td><td>92309</td><td>ASHENDON</td><td>WA</td><td>Ashendon - Lesley</td></tr>\n",
       "<tr><td>510021269</td><td>2834</td><td>38</td><td>90731</td><td>101819</td><td>PORT HEDLAND</td><td>WA</td><td>Port Hedland</td></tr>\n",
       "<tr><td>510031271</td><td>3416</td><td>39</td><td>97795</td><td>98922</td><td>CANE</td><td>WA</td><td>Ashburton (WA)</td></tr>\n",
       "<tr><td>801061068</td><td>4</td><td>53</td><td>121961</td><td>107326</td><td>CAPITAL HILL</td><td>ACT</td><td>Parkes (ACT) - South</td></tr>\n",
       "<tr><td>801101136</td><td>181</td><td>38</td><td>91138</td><td>93812</td><td>DENMAN PROSPECT</td><td>ACT</td><td>Denman Prospect</td></tr>\n",
       "</table>\n"
      ],
      "text/plain": [
       "+---------+-----------+----------+-------------+-----------+---------------+-----+--------------------+\n",
       "| sa2_code|num_earners|median_age|median_income|mean_income|       locality|state|       SA2_NAME_2016|\n",
       "+---------+-----------+----------+-------------+-----------+---------------+-----+--------------------+\n",
       "|206041127|          8|        38|        93272|     237158| WEST MELBOURNE|  VIC|      West Melbourne|\n",
       "|306031162|          5|        60|       101552|      95663|   WOOROONOORAN|  QLD|        Wooroonooran|\n",
       "|308051532|          8|        45|        90430|      98604|    CALLEMONDAH|  QLD|         Callemondah|\n",
       "|310021279|          3|        40|        93966|     112085|LAKE MANCHESTER|  QLD|Lake Manchester -...|\n",
       "|406021143|       2562|        36|        92288|      95640|    OLYMPIC DAM|   SA|         Roxby Downs|\n",
       "|503021037|         37|        59|       161893|     356433|     KINGS PARK|   WA|     Kings Park (WA)|\n",
       "|506011111|          4|        43|       143945|      92309|       ASHENDON|   WA|   Ashendon - Lesley|\n",
       "|510021269|       2834|        38|        90731|     101819|   PORT HEDLAND|   WA|        Port Hedland|\n",
       "|510031271|       3416|        39|        97795|      98922|           CANE|   WA|      Ashburton (WA)|\n",
       "|801061068|          4|        53|       121961|     107326|   CAPITAL HILL|  ACT|Parkes (ACT) - South|\n",
       "|801101136|        181|        38|        91138|      93812|DENMAN PROSPECT|  ACT|     Denman Prospect|\n",
       "+---------+-----------+----------+-------------+-----------+---------------+-----+--------------------+"
      ]
     },
     "execution_count": 30,
     "metadata": {},
     "output_type": "execute_result"
    }
   ],
   "source": [
    "testdf = incomedf.alias(\"testdf\")\n",
    "testdf = testdf.dropna(\"all\",subset=\"median_income\")\n",
    "testdf = testdf.filter(testdf[\"median_income\"] > 90000)\n",
    "testdf = testdf.join(testpostcodedf, \"sa2_code\")\n",
    "testdf = testdf.dropDuplicates(subset=[\"sa2_code\"])\n",
    "testdf"
   ]
  },
  {
   "cell_type": "markdown",
   "id": "a2220ac3-ed20-4863-a7cb-872635a8fa7a",
   "metadata": {},
   "source": [
    "The sa2 regions with high median income are mainly consisting of posh regions with a low population <br>"
   ]
  },
  {
   "cell_type": "code",
   "execution_count": 31,
   "id": "b5f9b933-c73f-45de-82c4-af160c894e79",
   "metadata": {},
   "outputs": [
    {
     "data": {
      "text/html": [
       "<table border='1'>\n",
       "<tr><th>sa2_code</th><th>num_earners</th><th>median_age</th><th>median_income</th><th>mean_income</th><th>locality</th><th>state</th><th>SA2_NAME_2016</th></tr>\n",
       "<tr><td>110021194</td><td>3113</td><td>54</td><td>28976</td><td>35915</td><td>STANNUM</td><td>NSW</td><td>Tenterfield</td></tr>\n",
       "<tr><td>117031337</td><td>30022</td><td>30</td><td>25962</td><td>65906</td><td>SYDNEY</td><td>NSW</td><td>Sydney - Haymarke...</td></tr>\n",
       "<tr><td>124011451</td><td>14</td><td>63</td><td>21247</td><td>19071</td><td>THE DEVILS WILDER...</td><td>NSW</td><td>Blue Mountains - ...</td></tr>\n",
       "<tr><td>128021537</td><td>8</td><td>32</td><td>26370</td><td>38451</td><td>SOUTHERN SUBURBS MC</td><td>NSW</td><td>Royal National Park</td></tr>\n",
       "<tr><td>205031088</td><td>53</td><td>57</td><td>18177</td><td>32022</td><td>ELIZABETH ISLAND</td><td>VIC</td><td>French Island</td></tr>\n",
       "<tr><td>205051099</td><td>23</td><td>53</td><td>18835</td><td>27804</td><td>ARBUCKLE</td><td>VIC</td><td>Alps - West</td></tr>\n",
       "<tr><td>206041122</td><td>26083</td><td>30</td><td>28806</td><td>51528</td><td>MELBOURNE</td><td>VIC</td><td>Melbourne</td></tr>\n",
       "<tr><td>210011227</td><td>19</td><td>46</td><td>27711</td><td>42355</td><td>ESSENDON FIELDS</td><td>VIC</td><td>Essendon Airport</td></tr>\n",
       "<tr><td>315011395</td><td>352</td><td>40</td><td>23591</td><td>38363</td><td>AURUKUN</td><td>QLD</td><td>Aurukun</td></tr>\n",
       "<tr><td>315011398</td><td>585</td><td>40</td><td>25757</td><td>34917</td><td>KOWANYAMA</td><td>QLD</td><td>Kowanyama - Pormp...</td></tr>\n",
       "<tr><td>319031511</td><td>2528</td><td>54</td><td>28000</td><td>38918</td><td>TOOLARA</td><td>QLD</td><td>Cooloola</td></tr>\n",
       "<tr><td>406021138</td><td>203</td><td>35</td><td>27564</td><td>43107</td><td>AMATA</td><td>NT</td><td>APY Lands</td></tr>\n",
       "<tr><td>504021052</td><td>5</td><td>71</td><td>1260</td><td>-1773</td><td>SAWYERS VALLEY</td><td>WA</td><td>Malmalling - Rese...</td></tr>\n",
       "<tr><td>701011001</td><td>11</td><td>49</td><td>28345</td><td>41282</td><td>DARWIN INTERNATIO...</td><td>NT</td><td>Darwin Airport</td></tr>\n",
       "<tr><td>702011052</td><td>212</td><td>38</td><td>28099</td><td>43599</td><td>AHERRENGE</td><td>NT</td><td>Sandover - Plenty</td></tr>\n",
       "<tr><td>702031061</td><td>355</td><td>37</td><td>25359</td><td>37219</td><td>COBOURG</td><td>NT</td><td>West Arnhem</td></tr>\n",
       "<tr><td>702041063</td><td>693</td><td>38</td><td>27304</td><td>39023</td><td>EAST ARNHEM</td><td>NT</td><td>East Arnhem</td></tr>\n",
       "<tr><td>801031031</td><td>24</td><td>42</td><td>21385</td><td>54739</td><td>HUME</td><td>ACT</td><td>Hume</td></tr>\n",
       "<tr><td>801051049</td><td>548</td><td>23</td><td>9306</td><td>16835</td><td>ANU</td><td>ACT</td><td>Acton</td></tr>\n",
       "</table>\n"
      ],
      "text/plain": [
       "+---------+-----------+----------+-------------+-----------+--------------------+-----+--------------------+\n",
       "| sa2_code|num_earners|median_age|median_income|mean_income|            locality|state|       SA2_NAME_2016|\n",
       "+---------+-----------+----------+-------------+-----------+--------------------+-----+--------------------+\n",
       "|110021194|       3113|        54|        28976|      35915|             STANNUM|  NSW|         Tenterfield|\n",
       "|117031337|      30022|        30|        25962|      65906|              SYDNEY|  NSW|Sydney - Haymarke...|\n",
       "|124011451|         14|        63|        21247|      19071|THE DEVILS WILDER...|  NSW|Blue Mountains - ...|\n",
       "|128021537|          8|        32|        26370|      38451| SOUTHERN SUBURBS MC|  NSW| Royal National Park|\n",
       "|205031088|         53|        57|        18177|      32022|    ELIZABETH ISLAND|  VIC|       French Island|\n",
       "|205051099|         23|        53|        18835|      27804|            ARBUCKLE|  VIC|         Alps - West|\n",
       "|206041122|      26083|        30|        28806|      51528|           MELBOURNE|  VIC|           Melbourne|\n",
       "|210011227|         19|        46|        27711|      42355|     ESSENDON FIELDS|  VIC|    Essendon Airport|\n",
       "|315011395|        352|        40|        23591|      38363|             AURUKUN|  QLD|             Aurukun|\n",
       "|315011398|        585|        40|        25757|      34917|           KOWANYAMA|  QLD|Kowanyama - Pormp...|\n",
       "|319031511|       2528|        54|        28000|      38918|             TOOLARA|  QLD|            Cooloola|\n",
       "|406021138|        203|        35|        27564|      43107|               AMATA|   NT|           APY Lands|\n",
       "|504021052|          5|        71|         1260|      -1773|      SAWYERS VALLEY|   WA|Malmalling - Rese...|\n",
       "|701011001|         11|        49|        28345|      41282|DARWIN INTERNATIO...|   NT|      Darwin Airport|\n",
       "|702011052|        212|        38|        28099|      43599|           AHERRENGE|   NT|   Sandover - Plenty|\n",
       "|702031061|        355|        37|        25359|      37219|             COBOURG|   NT|         West Arnhem|\n",
       "|702041063|        693|        38|        27304|      39023|         EAST ARNHEM|   NT|         East Arnhem|\n",
       "|801031031|         24|        42|        21385|      54739|                HUME|  ACT|                Hume|\n",
       "|801051049|        548|        23|         9306|      16835|                 ANU|  ACT|               Acton|\n",
       "+---------+-----------+----------+-------------+-----------+--------------------+-----+--------------------+"
      ]
     },
     "execution_count": 31,
     "metadata": {},
     "output_type": "execute_result"
    }
   ],
   "source": [
    "testdf = incomedf.alias(\"testdf\")\n",
    "testdf = testdf.dropna(\"all\",subset=\"median_income\")\n",
    "testdf = testdf.filter(testdf[\"median_income\"] < 30000)\n",
    "testdf = testdf.join(testpostcodedf, \"sa2_code\")\n",
    "testdf = testdf.dropDuplicates(subset=[\"sa2_code\"])\n",
    "testdf"
   ]
  },
  {
   "cell_type": "markdown",
   "id": "47ba85b5-fd5f-4d6a-9860-333d3b15c74f",
   "metadata": {},
   "source": [
    "The sa2 regions with low median income consist of regions that few people live in and there is little access to a good job such as mountains/parks/islands/airports <br>"
   ]
  },
  {
   "cell_type": "code",
   "execution_count": 32,
   "id": "8b28fc0f-8817-4710-8c88-7dc23ecd8c86",
   "metadata": {},
   "outputs": [
    {
     "name": "stdout",
     "output_type": "stream",
     "text": [
      "2289\n",
      "2241\n",
      "+----------------+----------------+------------------+\n",
      "|min(mean_income)|max(mean_income)|  avg(mean_income)|\n",
      "+----------------+----------------+------------------+\n",
      "|           -1773|          356433|62742.204373047745|\n",
      "+----------------+----------------+------------------+\n",
      "\n"
     ]
    },
    {
     "data": {
      "image/png": "[encoded data removed]",
      "text/plain": [
       "<Figure size 640x480 with 1 Axes>"
      ]
     },
     "metadata": {},
     "output_type": "display_data"
    }
   ],
   "source": [
    "# mean income\n",
    "\n",
    "testdf = incomedf.alias(\"testdf\")\n",
    "print(testdf.count())\n",
    "testdf = testdf.dropna(\"all\",subset=[\"mean_income\"])\n",
    "print(testdf.count())\n",
    "print(testdf.agg(min(\"mean_income\"), max(\"mean_income\"), mean(\"mean_income\")))\n",
    "\n",
    "df = testdf.toPandas()\n",
    "plt.boxplot(df[\"mean_income\"])\n",
    "plt.show()"
   ]
  },
  {
   "cell_type": "markdown",
   "id": "171a9416-2c26-4e83-b7e6-f6819bec9bda",
   "metadata": {},
   "source": [
    "again 48 rows removed due to null values <br>"
   ]
  },
  {
   "cell_type": "code",
   "execution_count": 33,
   "id": "c67423f6-9667-4ea9-89bb-fba02c126988",
   "metadata": {},
   "outputs": [
    {
     "data": {
      "text/html": [
       "<table border='1'>\n",
       "<tr><th>sa2_code</th><th>num_earners</th><th>median_age</th><th>median_income</th><th>mean_income</th><th>locality</th><th>state</th><th>SA2_NAME_2016</th></tr>\n",
       "<tr><td>118011343</td><td>18432</td><td>44</td><td>77665</td><td>176403</td><td>DOUBLE BAY</td><td>NSW</td><td>Double Bay - Bell...</td></tr>\n",
       "<tr><td>118011346</td><td>8478</td><td>48</td><td>74788</td><td>192463</td><td>ROSE BAY</td><td>NSW</td><td>Rose Bay - Vauclu...</td></tr>\n",
       "<tr><td>118011347</td><td>5532</td><td>45</td><td>74887</td><td>164205</td><td>WOOLLAHRA</td><td>NSW</td><td>Woollahra</td></tr>\n",
       "<tr><td>121041415</td><td>20612</td><td>47</td><td>75307</td><td>166807</td><td>MOSMAN</td><td>NSW</td><td>Mosman</td></tr>\n",
       "<tr><td>206041127</td><td>8</td><td>38</td><td>93272</td><td>237158</td><td>WEST MELBOURNE</td><td>VIC</td><td>West Melbourne</td></tr>\n",
       "<tr><td>206061138</td><td>10250</td><td>49</td><td>72451</td><td>177645</td><td>TOORAK</td><td>VIC</td><td>Toorak</td></tr>\n",
       "<tr><td>503011032</td><td>5544</td><td>49</td><td>74999</td><td>213108</td><td>COTTESLOE</td><td>WA</td><td>Cottesloe</td></tr>\n",
       "<tr><td>503011034</td><td>6781</td><td>47</td><td>65623</td><td>160696</td><td>PEPPERMINT GROVE</td><td>WA</td><td>Mosman Park - Pep...</td></tr>\n",
       "<tr><td>503021037</td><td>37</td><td>59</td><td>161893</td><td>356433</td><td>KINGS PARK</td><td>WA</td><td>Kings Park (WA)</td></tr>\n",
       "<tr><td>801061063</td><td>1312</td><td>48</td><td>87093</td><td>150020</td><td>FORREST</td><td>ACT</td><td>Forrest</td></tr>\n",
       "</table>\n"
      ],
      "text/plain": [
       "+---------+-----------+----------+-------------+-----------+----------------+-----+--------------------+\n",
       "| sa2_code|num_earners|median_age|median_income|mean_income|        locality|state|       SA2_NAME_2016|\n",
       "+---------+-----------+----------+-------------+-----------+----------------+-----+--------------------+\n",
       "|118011343|      18432|        44|        77665|     176403|      DOUBLE BAY|  NSW|Double Bay - Bell...|\n",
       "|118011346|       8478|        48|        74788|     192463|        ROSE BAY|  NSW|Rose Bay - Vauclu...|\n",
       "|118011347|       5532|        45|        74887|     164205|       WOOLLAHRA|  NSW|           Woollahra|\n",
       "|121041415|      20612|        47|        75307|     166807|          MOSMAN|  NSW|              Mosman|\n",
       "|206041127|          8|        38|        93272|     237158|  WEST MELBOURNE|  VIC|      West Melbourne|\n",
       "|206061138|      10250|        49|        72451|     177645|          TOORAK|  VIC|              Toorak|\n",
       "|503011032|       5544|        49|        74999|     213108|       COTTESLOE|   WA|           Cottesloe|\n",
       "|503011034|       6781|        47|        65623|     160696|PEPPERMINT GROVE|   WA|Mosman Park - Pep...|\n",
       "|503021037|         37|        59|       161893|     356433|      KINGS PARK|   WA|     Kings Park (WA)|\n",
       "|801061063|       1312|        48|        87093|     150020|         FORREST|  ACT|             Forrest|\n",
       "+---------+-----------+----------+-------------+-----------+----------------+-----+--------------------+"
      ]
     },
     "execution_count": 33,
     "metadata": {},
     "output_type": "execute_result"
    }
   ],
   "source": [
    "testdf = incomedf.alias(\"testdf\")\n",
    "testdf = testdf.dropna(\"all\",subset=\"mean_income\")\n",
    "testdf = testdf.filter(testdf[\"mean_income\"] > 150000)\n",
    "testdf = testdf.join(testpostcodedf, \"sa2_code\")\n",
    "testdf = testdf.dropDuplicates(subset=[\"sa2_code\"])\n",
    "testdf"
   ]
  },
  {
   "cell_type": "markdown",
   "id": "5f832067-eabe-4069-8ab9-fd0ac54b5094",
   "metadata": {},
   "source": [
    "The highest mean income comes from posh regions with low populations and from wealthy regions in major cities"
   ]
  },
  {
   "cell_type": "code",
   "execution_count": 34,
   "id": "45922646-9c47-41f0-a79f-b32833decdcd",
   "metadata": {},
   "outputs": [
    {
     "data": {
      "text/html": [
       "<table border='1'>\n",
       "<tr><th>sa2_code</th><th>num_earners</th><th>median_age</th><th>median_income</th><th>mean_income</th><th>locality</th><th>state</th><th>SA2_NAME_2016</th></tr>\n",
       "<tr><td>124011451</td><td>14</td><td>63</td><td>21247</td><td>19071</td><td>THE DEVILS WILDER...</td><td>NSW</td><td>Blue Mountains - ...</td></tr>\n",
       "<tr><td>205031088</td><td>53</td><td>57</td><td>18177</td><td>32022</td><td>ELIZABETH ISLAND</td><td>VIC</td><td>French Island</td></tr>\n",
       "<tr><td>205051099</td><td>23</td><td>53</td><td>18835</td><td>27804</td><td>ARBUCKLE</td><td>VIC</td><td>Alps - West</td></tr>\n",
       "<tr><td>315011395</td><td>352</td><td>40</td><td>23591</td><td>38363</td><td>AURUKUN</td><td>QLD</td><td>Aurukun</td></tr>\n",
       "<tr><td>504021052</td><td>5</td><td>71</td><td>1260</td><td>-1773</td><td>SAWYERS VALLEY</td><td>WA</td><td>Malmalling - Rese...</td></tr>\n",
       "<tr><td>801031031</td><td>24</td><td>42</td><td>21385</td><td>54739</td><td>HUME</td><td>ACT</td><td>Hume</td></tr>\n",
       "<tr><td>801051049</td><td>548</td><td>23</td><td>9306</td><td>16835</td><td>ANU</td><td>ACT</td><td>Acton</td></tr>\n",
       "</table>\n"
      ],
      "text/plain": [
       "+---------+-----------+----------+-------------+-----------+--------------------+-----+--------------------+\n",
       "| sa2_code|num_earners|median_age|median_income|mean_income|            locality|state|       SA2_NAME_2016|\n",
       "+---------+-----------+----------+-------------+-----------+--------------------+-----+--------------------+\n",
       "|124011451|         14|        63|        21247|      19071|THE DEVILS WILDER...|  NSW|Blue Mountains - ...|\n",
       "|205031088|         53|        57|        18177|      32022|    ELIZABETH ISLAND|  VIC|       French Island|\n",
       "|205051099|         23|        53|        18835|      27804|            ARBUCKLE|  VIC|         Alps - West|\n",
       "|315011395|        352|        40|        23591|      38363|             AURUKUN|  QLD|             Aurukun|\n",
       "|504021052|          5|        71|         1260|      -1773|      SAWYERS VALLEY|   WA|Malmalling - Rese...|\n",
       "|801031031|         24|        42|        21385|      54739|                HUME|  ACT|                Hume|\n",
       "|801051049|        548|        23|         9306|      16835|                 ANU|  ACT|               Acton|\n",
       "+---------+-----------+----------+-------------+-----------+--------------------+-----+--------------------+"
      ]
     },
     "execution_count": 34,
     "metadata": {},
     "output_type": "execute_result"
    }
   ],
   "source": [
    "testdf = incomedf.alias(\"testdf\")\n",
    "testdf = testdf.dropna(\"all\",subset=\"median_income\")\n",
    "testdf = testdf.filter(testdf[\"median_income\"] < 25000)\n",
    "testdf = testdf.join(testpostcodedf, \"sa2_code\")\n",
    "testdf = testdf.dropDuplicates(subset=[\"sa2_code\"])\n",
    "testdf"
   ]
  },
  {
   "cell_type": "markdown",
   "id": "26c324eb-6d04-4eb2-8617-40adff285370",
   "metadata": {},
   "source": [
    "The lowest mean income is similar to the lowest median income and comes from locations where not many people live and not many jobs are available such as parks/islands/mountains"
   ]
  },
  {
   "cell_type": "markdown",
   "id": "8fab79ce-2441-49c6-b563-403ca85b5dcb",
   "metadata": {},
   "source": [
    "It is interesting seeing that the regions with the highest median income are generally different to the regions with the highest mean income <br>\n",
    "Mean being bigger then median means that there are more highly wealthy people bringing the average up <br>\n",
    "this is confirmed as the bigger mean income locations mostly focus around major cities with HIGH populations where these millionaires would generally live <br>\n",
    "whereas the bigger median income regions revolve around niche locations with LOW populations  "
   ]
  },
  {
   "cell_type": "code",
   "execution_count": 23,
   "id": "b465d2df",
   "metadata": {},
   "outputs": [
    {
     "name": "stdout",
     "output_type": "stream",
     "text": [
      "2241\n",
      "2239\n"
     ]
    }
   ],
   "source": [
    "incomedf = incomedf.dropna(\"any\")\n",
    "print(incomedf.count())\n",
    "incomedf = incomedf.filter(incomedf[\"median_age\"] > 20)\n",
    "incomedf = incomedf.filter(incomedf[\"median_age\"] < 70)\n",
    "print(incomedf.count())"
   ]
  },
  {
   "cell_type": "markdown",
   "id": "09c801ae-e36a-463b-b24b-1693edce625b",
   "metadata": {},
   "source": [
    "## Population Data (JAI: needa script that downloads population data)"
   ]
  },
  {
   "cell_type": "code",
   "execution_count": 52,
   "id": "1612036b-5163-4b4d-ab05-641319ce776b",
   "metadata": {},
   "outputs": [
    {
     "data": {
      "text/plain": [
       "('../data/tables/population.xlsx', <http.client.HTTPMessage at 0x7fb63b61c7c0>)"
      ]
     },
     "execution_count": 52,
     "metadata": {},
     "output_type": "execute_result"
    }
   ],
   "source": [
    "url = \"https://www.abs.gov.au/statistics/people/population/regional-population-age-and-sex/2021/32350DS0001_2021.xlsx\"\n",
    "file_path = f\"../data/tables/population.xlsx\"\n",
    "urlretrieve(url, file_path)"
   ]
  },
  {
   "cell_type": "code",
   "execution_count": 55,
   "id": "6f49b48c-ba80-4dd7-ba5d-244ab10908e5",
   "metadata": {
    "tags": []
   },
   "outputs": [],
   "source": [
    "skip = list(range(7)) + [8] + list(range(2481, 2490)) + [2480]\n",
    "\n",
    "fields_2b_renamed = ['S/T name', 'no.']\n",
    "\n",
    "field_names = ['S/T name', 'SA2 code', 'SA2 name', 'no.']\n",
    "\n",
    "for i in range (1, 19):\n",
    "    string = 'no..' + str(i)\n",
    "    fields_2b_renamed.append(string)\n",
    "    field_names.append(string)\n",
    "\n",
    "rename_to = ['State/Terr']\n",
    "for i in range(0, 86, 5):\n",
    "    col_name = \"age \"\n",
    "\n",
    "    if i == 85:\n",
    "        col_name += f\"{i}+\"\n",
    "        rename_to.append(col_name)\n",
    "        continue\n",
    "\n",
    "    col_name += f\"{i}-{i+4}\"\n",
    "    rename_to.append(col_name)\n",
    "\n",
    "rename_to.append('Total')\n",
    "\n",
    "rename_cols = dict(zip(fields_2b_renamed, rename_to))\n"
   ]
  },
  {
   "cell_type": "code",
   "execution_count": 59,
   "id": "ef79ad8b-7b57-47a7-b70d-28735429a40c",
   "metadata": {
    "tags": []
   },
   "outputs": [
    {
     "data": {
      "text/html": [
       "<div>\n",
       "<style scoped>\n",
       "    .dataframe tbody tr th:only-of-type {\n",
       "        vertical-align: middle;\n",
       "    }\n",
       "\n",
       "    .dataframe tbody tr th {\n",
       "        vertical-align: top;\n",
       "    }\n",
       "\n",
       "    .dataframe thead th {\n",
       "        text-align: right;\n",
       "    }\n",
       "</style>\n",
       "<table border=\"1\" class=\"dataframe\">\n",
       "  <thead>\n",
       "    <tr style=\"text-align: right;\">\n",
       "      <th></th>\n",
       "      <th>State/Terr</th>\n",
       "      <th>SA2 code</th>\n",
       "      <th>SA2 name</th>\n",
       "      <th>age 0-4</th>\n",
       "      <th>age 5-9</th>\n",
       "      <th>age 10-14</th>\n",
       "      <th>age 15-19</th>\n",
       "      <th>age 20-24</th>\n",
       "      <th>age 25-29</th>\n",
       "      <th>age 30-34</th>\n",
       "      <th>...</th>\n",
       "      <th>age 45-49</th>\n",
       "      <th>age 50-54</th>\n",
       "      <th>age 55-59</th>\n",
       "      <th>age 60-64</th>\n",
       "      <th>age 65-69</th>\n",
       "      <th>age 70-74</th>\n",
       "      <th>age 75-79</th>\n",
       "      <th>age 80-84</th>\n",
       "      <th>age 85+</th>\n",
       "      <th>Total</th>\n",
       "    </tr>\n",
       "  </thead>\n",
       "  <tbody>\n",
       "    <tr>\n",
       "      <th>0</th>\n",
       "      <td>New South Wales</td>\n",
       "      <td>101021007.0</td>\n",
       "      <td>Braidwood</td>\n",
       "      <td>220.0</td>\n",
       "      <td>253.0</td>\n",
       "      <td>237.0</td>\n",
       "      <td>166.0</td>\n",
       "      <td>116.0</td>\n",
       "      <td>175.0</td>\n",
       "      <td>204.0</td>\n",
       "      <td>...</td>\n",
       "      <td>300.0</td>\n",
       "      <td>352.0</td>\n",
       "      <td>362.0</td>\n",
       "      <td>424.0</td>\n",
       "      <td>328.0</td>\n",
       "      <td>293.0</td>\n",
       "      <td>237.0</td>\n",
       "      <td>123.0</td>\n",
       "      <td>82.0</td>\n",
       "      <td>4330.0</td>\n",
       "    </tr>\n",
       "    <tr>\n",
       "      <th>1</th>\n",
       "      <td>New South Wales</td>\n",
       "      <td>101021008.0</td>\n",
       "      <td>Karabar</td>\n",
       "      <td>543.0</td>\n",
       "      <td>539.0</td>\n",
       "      <td>575.0</td>\n",
       "      <td>500.0</td>\n",
       "      <td>532.0</td>\n",
       "      <td>642.0</td>\n",
       "      <td>644.0</td>\n",
       "      <td>...</td>\n",
       "      <td>556.0</td>\n",
       "      <td>590.0</td>\n",
       "      <td>580.0</td>\n",
       "      <td>516.0</td>\n",
       "      <td>412.0</td>\n",
       "      <td>320.0</td>\n",
       "      <td>216.0</td>\n",
       "      <td>159.0</td>\n",
       "      <td>90.0</td>\n",
       "      <td>8546.0</td>\n",
       "    </tr>\n",
       "    <tr>\n",
       "      <th>2</th>\n",
       "      <td>New South Wales</td>\n",
       "      <td>101021009.0</td>\n",
       "      <td>Queanbeyan</td>\n",
       "      <td>684.0</td>\n",
       "      <td>591.0</td>\n",
       "      <td>477.0</td>\n",
       "      <td>439.0</td>\n",
       "      <td>707.0</td>\n",
       "      <td>1164.0</td>\n",
       "      <td>1258.0</td>\n",
       "      <td>...</td>\n",
       "      <td>696.0</td>\n",
       "      <td>682.0</td>\n",
       "      <td>664.0</td>\n",
       "      <td>574.0</td>\n",
       "      <td>499.0</td>\n",
       "      <td>405.0</td>\n",
       "      <td>278.0</td>\n",
       "      <td>259.0</td>\n",
       "      <td>354.0</td>\n",
       "      <td>11370.0</td>\n",
       "    </tr>\n",
       "    <tr>\n",
       "      <th>3</th>\n",
       "      <td>New South Wales</td>\n",
       "      <td>101021010.0</td>\n",
       "      <td>Queanbeyan - East</td>\n",
       "      <td>334.0</td>\n",
       "      <td>254.0</td>\n",
       "      <td>216.0</td>\n",
       "      <td>190.0</td>\n",
       "      <td>351.0</td>\n",
       "      <td>572.0</td>\n",
       "      <td>537.0</td>\n",
       "      <td>...</td>\n",
       "      <td>297.0</td>\n",
       "      <td>363.0</td>\n",
       "      <td>315.0</td>\n",
       "      <td>295.0</td>\n",
       "      <td>208.0</td>\n",
       "      <td>172.0</td>\n",
       "      <td>122.0</td>\n",
       "      <td>67.0</td>\n",
       "      <td>57.0</td>\n",
       "      <td>5093.0</td>\n",
       "    </tr>\n",
       "    <tr>\n",
       "      <th>4</th>\n",
       "      <td>New South Wales</td>\n",
       "      <td>101021012.0</td>\n",
       "      <td>Queanbeyan West - Jerrabomberra</td>\n",
       "      <td>870.0</td>\n",
       "      <td>926.0</td>\n",
       "      <td>976.0</td>\n",
       "      <td>934.0</td>\n",
       "      <td>748.0</td>\n",
       "      <td>665.0</td>\n",
       "      <td>853.0</td>\n",
       "      <td>...</td>\n",
       "      <td>1032.0</td>\n",
       "      <td>1114.0</td>\n",
       "      <td>987.0</td>\n",
       "      <td>646.0</td>\n",
       "      <td>442.0</td>\n",
       "      <td>358.0</td>\n",
       "      <td>197.0</td>\n",
       "      <td>126.0</td>\n",
       "      <td>69.0</td>\n",
       "      <td>12743.0</td>\n",
       "    </tr>\n",
       "    <tr>\n",
       "      <th>...</th>\n",
       "      <td>...</td>\n",
       "      <td>...</td>\n",
       "      <td>...</td>\n",
       "      <td>...</td>\n",
       "      <td>...</td>\n",
       "      <td>...</td>\n",
       "      <td>...</td>\n",
       "      <td>...</td>\n",
       "      <td>...</td>\n",
       "      <td>...</td>\n",
       "      <td>...</td>\n",
       "      <td>...</td>\n",
       "      <td>...</td>\n",
       "      <td>...</td>\n",
       "      <td>...</td>\n",
       "      <td>...</td>\n",
       "      <td>...</td>\n",
       "      <td>...</td>\n",
       "      <td>...</td>\n",
       "      <td>...</td>\n",
       "      <td>...</td>\n",
       "    </tr>\n",
       "    <tr>\n",
       "      <th>2466</th>\n",
       "      <td>Australian Capital Territory</td>\n",
       "      <td>801101139.0</td>\n",
       "      <td>Wright</td>\n",
       "      <td>289.0</td>\n",
       "      <td>274.0</td>\n",
       "      <td>217.0</td>\n",
       "      <td>141.0</td>\n",
       "      <td>295.0</td>\n",
       "      <td>495.0</td>\n",
       "      <td>553.0</td>\n",
       "      <td>...</td>\n",
       "      <td>207.0</td>\n",
       "      <td>171.0</td>\n",
       "      <td>140.0</td>\n",
       "      <td>82.0</td>\n",
       "      <td>69.0</td>\n",
       "      <td>42.0</td>\n",
       "      <td>18.0</td>\n",
       "      <td>8.0</td>\n",
       "      <td>4.0</td>\n",
       "      <td>3806.0</td>\n",
       "    </tr>\n",
       "    <tr>\n",
       "      <th>2467</th>\n",
       "      <td>Australian Capital Territory</td>\n",
       "      <td>801101145.0</td>\n",
       "      <td>Molonglo - East</td>\n",
       "      <td>0.0</td>\n",
       "      <td>0.0</td>\n",
       "      <td>0.0</td>\n",
       "      <td>0.0</td>\n",
       "      <td>0.0</td>\n",
       "      <td>0.0</td>\n",
       "      <td>0.0</td>\n",
       "      <td>...</td>\n",
       "      <td>0.0</td>\n",
       "      <td>0.0</td>\n",
       "      <td>3.0</td>\n",
       "      <td>0.0</td>\n",
       "      <td>0.0</td>\n",
       "      <td>0.0</td>\n",
       "      <td>0.0</td>\n",
       "      <td>0.0</td>\n",
       "      <td>0.0</td>\n",
       "      <td>3.0</td>\n",
       "    </tr>\n",
       "    <tr>\n",
       "      <th>2468</th>\n",
       "      <td>Australian Capital Territory</td>\n",
       "      <td>801101146.0</td>\n",
       "      <td>Whitlam</td>\n",
       "      <td>3.0</td>\n",
       "      <td>0.0</td>\n",
       "      <td>0.0</td>\n",
       "      <td>0.0</td>\n",
       "      <td>0.0</td>\n",
       "      <td>3.0</td>\n",
       "      <td>2.0</td>\n",
       "      <td>...</td>\n",
       "      <td>0.0</td>\n",
       "      <td>1.0</td>\n",
       "      <td>0.0</td>\n",
       "      <td>0.0</td>\n",
       "      <td>0.0</td>\n",
       "      <td>0.0</td>\n",
       "      <td>0.0</td>\n",
       "      <td>0.0</td>\n",
       "      <td>0.0</td>\n",
       "      <td>10.0</td>\n",
       "    </tr>\n",
       "    <tr>\n",
       "      <th>2469</th>\n",
       "      <td>Australian Capital Territory</td>\n",
       "      <td>801111140.0</td>\n",
       "      <td>ACT - South West</td>\n",
       "      <td>45.0</td>\n",
       "      <td>58.0</td>\n",
       "      <td>34.0</td>\n",
       "      <td>35.0</td>\n",
       "      <td>29.0</td>\n",
       "      <td>48.0</td>\n",
       "      <td>33.0</td>\n",
       "      <td>...</td>\n",
       "      <td>37.0</td>\n",
       "      <td>31.0</td>\n",
       "      <td>28.0</td>\n",
       "      <td>35.0</td>\n",
       "      <td>15.0</td>\n",
       "      <td>13.0</td>\n",
       "      <td>5.0</td>\n",
       "      <td>0.0</td>\n",
       "      <td>0.0</td>\n",
       "      <td>554.0</td>\n",
       "    </tr>\n",
       "    <tr>\n",
       "      <th>2470</th>\n",
       "      <td>Australian Capital Territory</td>\n",
       "      <td>801111141.0</td>\n",
       "      <td>Namadgi</td>\n",
       "      <td>17.0</td>\n",
       "      <td>0.0</td>\n",
       "      <td>5.0</td>\n",
       "      <td>6.0</td>\n",
       "      <td>1.0</td>\n",
       "      <td>5.0</td>\n",
       "      <td>2.0</td>\n",
       "      <td>...</td>\n",
       "      <td>5.0</td>\n",
       "      <td>6.0</td>\n",
       "      <td>2.0</td>\n",
       "      <td>8.0</td>\n",
       "      <td>2.0</td>\n",
       "      <td>3.0</td>\n",
       "      <td>0.0</td>\n",
       "      <td>0.0</td>\n",
       "      <td>0.0</td>\n",
       "      <td>67.0</td>\n",
       "    </tr>\n",
       "  </tbody>\n",
       "</table>\n",
       "<p>2471 rows × 22 columns</p>\n",
       "</div>"
      ],
      "text/plain": [
       "                        State/Terr     SA2 code  \\\n",
       "0                  New South Wales  101021007.0   \n",
       "1                  New South Wales  101021008.0   \n",
       "2                  New South Wales  101021009.0   \n",
       "3                  New South Wales  101021010.0   \n",
       "4                  New South Wales  101021012.0   \n",
       "...                            ...          ...   \n",
       "2466  Australian Capital Territory  801101139.0   \n",
       "2467  Australian Capital Territory  801101145.0   \n",
       "2468  Australian Capital Territory  801101146.0   \n",
       "2469  Australian Capital Territory  801111140.0   \n",
       "2470  Australian Capital Territory  801111141.0   \n",
       "\n",
       "                             SA2 name  age 0-4  age 5-9  age 10-14  age 15-19  \\\n",
       "0                           Braidwood    220.0    253.0      237.0      166.0   \n",
       "1                             Karabar    543.0    539.0      575.0      500.0   \n",
       "2                          Queanbeyan    684.0    591.0      477.0      439.0   \n",
       "3                   Queanbeyan - East    334.0    254.0      216.0      190.0   \n",
       "4     Queanbeyan West - Jerrabomberra    870.0    926.0      976.0      934.0   \n",
       "...                               ...      ...      ...        ...        ...   \n",
       "2466                           Wright    289.0    274.0      217.0      141.0   \n",
       "2467                  Molonglo - East      0.0      0.0        0.0        0.0   \n",
       "2468                          Whitlam      3.0      0.0        0.0        0.0   \n",
       "2469                 ACT - South West     45.0     58.0       34.0       35.0   \n",
       "2470                          Namadgi     17.0      0.0        5.0        6.0   \n",
       "\n",
       "      age 20-24  age 25-29  age 30-34  ...  age 45-49  age 50-54  age 55-59  \\\n",
       "0         116.0      175.0      204.0  ...      300.0      352.0      362.0   \n",
       "1         532.0      642.0      644.0  ...      556.0      590.0      580.0   \n",
       "2         707.0     1164.0     1258.0  ...      696.0      682.0      664.0   \n",
       "3         351.0      572.0      537.0  ...      297.0      363.0      315.0   \n",
       "4         748.0      665.0      853.0  ...     1032.0     1114.0      987.0   \n",
       "...         ...        ...        ...  ...        ...        ...        ...   \n",
       "2466      295.0      495.0      553.0  ...      207.0      171.0      140.0   \n",
       "2467        0.0        0.0        0.0  ...        0.0        0.0        3.0   \n",
       "2468        0.0        3.0        2.0  ...        0.0        1.0        0.0   \n",
       "2469       29.0       48.0       33.0  ...       37.0       31.0       28.0   \n",
       "2470        1.0        5.0        2.0  ...        5.0        6.0        2.0   \n",
       "\n",
       "      age 60-64  age 65-69  age 70-74  age 75-79  age 80-84  age 85+    Total  \n",
       "0         424.0      328.0      293.0      237.0      123.0     82.0   4330.0  \n",
       "1         516.0      412.0      320.0      216.0      159.0     90.0   8546.0  \n",
       "2         574.0      499.0      405.0      278.0      259.0    354.0  11370.0  \n",
       "3         295.0      208.0      172.0      122.0       67.0     57.0   5093.0  \n",
       "4         646.0      442.0      358.0      197.0      126.0     69.0  12743.0  \n",
       "...         ...        ...        ...        ...        ...      ...      ...  \n",
       "2466       82.0       69.0       42.0       18.0        8.0      4.0   3806.0  \n",
       "2467        0.0        0.0        0.0        0.0        0.0      0.0      3.0  \n",
       "2468        0.0        0.0        0.0        0.0        0.0      0.0     10.0  \n",
       "2469       35.0       15.0       13.0        5.0        0.0      0.0    554.0  \n",
       "2470        8.0        2.0        3.0        0.0        0.0      0.0     67.0  \n",
       "\n",
       "[2471 rows x 22 columns]"
      ]
     },
     "execution_count": 59,
     "metadata": {},
     "output_type": "execute_result"
    }
   ],
   "source": [
    "import pandas as pd\n",
    "\n",
    "pop_df = pd \\\n",
    "    .read_excel(\n",
    "        '../data/tables/population.xlsx',\n",
    "        sheet_name = 'Table 3',\n",
    "        skiprows = skip,\n",
    "    ) \\\n",
    "    .get(field_names) \\\n",
    "    .rename(columns = rename_cols)\n",
    "pop_df"
   ]
  },
  {
   "cell_type": "markdown",
   "id": "bd089ff3-62ee-4fb6-98cd-7df33bf77057",
   "metadata": {
    "tags": []
   },
   "source": [
    "Create custom categories for better interpretation:\n",
    "- old: 60+\n",
    "- middle age: 35-59\n",
    "- young adult: 20-34\n",
    "- adolescent: 10-19\n",
    "- under 10: 0-9\n",
    "\n",
    "Note: retiremet age in Australia is 66"
   ]
  },
  {
   "cell_type": "code",
   "execution_count": 60,
   "id": "7293cb9f-3c9f-4b24-87eb-ef992c8f7e8b",
   "metadata": {},
   "outputs": [],
   "source": [
    "# get all age columns to be dropped\n",
    "drop_cols = [string for string in pop_df.columns if string[:3] == 'age']"
   ]
  },
  {
   "cell_type": "code",
   "execution_count": 61,
   "id": "371bbac7-909c-489c-b6a9-a278e808c160",
   "metadata": {},
   "outputs": [],
   "source": [
    "groups = {\n",
    "    'Under 10': [0, 10],\n",
    "    'Adolescent': [10, 20],\n",
    "    'Young adult': [20, 35],\n",
    "    'Middle age': [35, 60],\n",
    "    'Old': [60, 86]\n",
    "}\n",
    "\n",
    "for group, ages in groups.items():\n",
    "\n",
    "    age_sum = 0\n",
    "    for i in range(ages[0], ages[1], 5):\n",
    "\n",
    "        if i == 85:\n",
    "            age_range_str = f\"age {i}+\"\n",
    "        else:\n",
    "            age_range_str = f\"age {i}-{i+4}\"\n",
    "            \n",
    "        age_sum += pop_df[age_range_str]\n",
    "        \n",
    "    pop_df[group] = age_sum\n",
    " \n",
    "\n",
    "# drop all columns containing age\n",
    "pop_df_mod = pop_df.drop(axis=0, columns=drop_cols)"
   ]
  },
  {
   "cell_type": "markdown",
   "id": "6c36415f-2b53-41b0-b0ed-d8e1c03321f6",
   "metadata": {},
   "source": [
    "Convert population pandas dataframe to spark dataframe for later integration."
   ]
  },
  {
   "cell_type": "code",
   "execution_count": 62,
   "id": "69096305-290f-4ab1-b986-187e0de0fa5d",
   "metadata": {},
   "outputs": [],
   "source": [
    "pop_df_mod = pop_df_mod.convert_dtypes()\n",
    "pop_df_mod.dtypes\n",
    "pop_df_mod[pop_df_mod.isnull().any(axis=1)]\n",
    "pop_df_mod = pop_df_mod.dropna()"
   ]
  },
  {
   "cell_type": "markdown",
   "id": "1a674be4-d212-4db7-bf26-26e83409bf0a",
   "metadata": {},
   "source": [
    "21 cells feaaturing NA values were dropped here, since they were either totals or rows of entirely null values"
   ]
  },
  {
   "cell_type": "code",
   "execution_count": 63,
   "id": "dc966f97-0045-4c56-9171-7f60748f7ba4",
   "metadata": {},
   "outputs": [],
   "source": [
    "from pyspark.sql.types import *\n",
    "\n",
    "mySchema = StructType([\n",
    "    StructField(\"State/Terr\", StringType()),\n",
    "    StructField(\"SA2 code\", StringType()),\n",
    "    StructField(\"SA2 name\", StringType()),\n",
    "    StructField(\"Total\", IntegerType()),\n",
    "    StructField(\"Under 10\", IntegerType()),\n",
    "    StructField(\"Adolescent\", IntegerType()),\n",
    "    StructField(\"Young adult\", IntegerType()),\n",
    "    StructField(\"Middle age\", IntegerType()),\n",
    "    StructField(\"Old\", IntegerType())\n",
    "])"
   ]
  },
  {
   "cell_type": "code",
   "execution_count": 64,
   "id": "86cb458e-bae8-4fd0-9095-0cb477481609",
   "metadata": {},
   "outputs": [],
   "source": [
    "pop_sdf = spark.createDataFrame(\n",
    "    pop_df_mod,\n",
    "    mySchema\n",
    ")"
   ]
  },
  {
   "cell_type": "code",
   "execution_count": 65,
   "id": "5bd886fd-4317-4715-950e-810e65107d19",
   "metadata": {},
   "outputs": [
    {
     "name": "stdout",
     "output_type": "stream",
     "text": [
      "+---------------+---------+--------------------+-----+--------+----------+-----------+----------+----+\n",
      "|     State/Terr| SA2 code|            SA2 name|Total|Under 10|Adolescent|Young adult|Middle age| Old|\n",
      "+---------------+---------+--------------------+-----+--------+----------+-----------+----------+----+\n",
      "|New South Wales|101021007|           Braidwood| 4330|     473|       403|        495|      1472|1487|\n",
      "|New South Wales|101021008|             Karabar| 8546|    1082|      1075|       1818|      2858|1713|\n",
      "|New South Wales|101021009|          Queanbeyan|11370|    1275|       916|       3129|      3681|2369|\n",
      "|New South Wales|101021010|   Queanbeyan - East| 5093|     588|       406|       1460|      1718| 921|\n",
      "|New South Wales|101021012|Queanbeyan West -...|12743|    1796|      1910|       2266|      4933|1838|\n",
      "|New South Wales|101021610|             Googong| 6245|    1472|       696|       1569|      2192| 316|\n",
      "|New South Wales|101021611|Queanbeyan Surrounds|16523|    2004|      2293|       2478|      6147|3601|\n",
      "|New South Wales|101031013|             Bombala| 2449|     258|       258|        337|       729| 867|\n",
      "|New South Wales|101031014|               Cooma| 6760|     751|       696|       1220|      2113|1980|\n",
      "|New South Wales|101031015|     Cooma Surrounds| 3460|     313|       417|        425|      1188|1117|\n",
      "|New South Wales|101031016|Jindabyne - Berri...| 8044|     736|      1115|       1917|      2675|1601|\n",
      "|New South Wales|101041017|        Batemans Bay| 8587|     854|       951|       1107|      2378|3297|\n",
      "|New South Wales|101041018|Batemans Bay - South| 8905|     762|       904|       1027|      2485|3727|\n",
      "|New South Wales|101041019|       Bega - Tathra| 8846|     989|      1063|       1242|      2700|2852|\n",
      "|New South Wales|101041020|Bega-Eden Hinterland| 9527|     963|      1078|       1122|      3082|3282|\n",
      "|New South Wales|101041021|   Broulee - Tomakin| 3771|     340|       432|        429|      1106|1464|\n",
      "|New South Wales|101041022|   Deua - Wadbilliga|   41|       1|         1|          0|        20|  19|\n",
      "|New South Wales|101041023|                Eden| 3409|     357|       347|        396|       934|1375|\n",
      "|New South Wales|101041024|Eurobodalla Hinte...| 3522|     308|       368|        409|      1165|1272|\n",
      "|New South Wales|101041025|Merimbula - Tura ...|11425|     932|      1139|       1385|      3162|4807|\n",
      "+---------------+---------+--------------------+-----+--------+----------+-----------+----------+----+\n",
      "only showing top 20 rows\n",
      "\n"
     ]
    }
   ],
   "source": [
    "pop_sdf.show()"
   ]
  },
  {
   "cell_type": "markdown",
   "id": "ecef1217-f11a-4754-9ea5-c73ee47bcb18",
   "metadata": {},
   "source": [
    "Get sum of each age group and create pie charts for each state and territory."
   ]
  },
  {
   "cell_type": "code",
   "execution_count": 66,
   "id": "593041ea-3e87-42b0-acc6-ae8b2076f018",
   "metadata": {},
   "outputs": [],
   "source": [
    "pop_agg_st = pop_sdf.groupBy(\"State/Terr\") \\\n",
    "    .sum(\"Under 10\", \"Adolescent\", \"Young adult\", \"Middle age\", \"Old\")\n",
    "\n",
    "pop_agg_st_df = pop_agg_st.toPandas()"
   ]
  },
  {
   "cell_type": "code",
   "execution_count": 67,
   "id": "c584ad1b-a0cb-4ba6-bfb7-f117342cc12a",
   "metadata": {},
   "outputs": [],
   "source": [
    "pop_agg_st_df.set_index(\"State/Terr\", inplace=True)"
   ]
  },
  {
   "cell_type": "code",
   "execution_count": 68,
   "id": "d99f0eb5-fe0b-460f-abc3-98a3d4561b83",
   "metadata": {},
   "outputs": [
    {
     "data": {
      "image/png": "[encoded data removed]",
      "text/plain": [
       "<Figure size 640x480 with 1 Axes>"
      ]
     },
     "metadata": {},
     "output_type": "display_data"
    },
    {
     "data": {
      "image/png": "[encoded data removed]",
      "text/plain": [
       "<Figure size 640x480 with 1 Axes>"
      ]
     },
     "metadata": {},
     "output_type": "display_data"
    },
    {
     "data": {
      "image/png": "[encoded data removed]",
      "text/plain": [
       "<Figure size 640x480 with 1 Axes>"
      ]
     },
     "metadata": {},
     "output_type": "display_data"
    },
    {
     "data": {
      "image/png": "[encoded data removed]",
      "text/plain": [
       "<Figure size 640x480 with 1 Axes>"
      ]
     },
     "metadata": {},
     "output_type": "display_data"
    },
    {
     "data": {
      "image/png": "[encoded data removed]",
      "text/plain": [
       "<Figure size 640x480 with 1 Axes>"
      ]
     },
     "metadata": {},
     "output_type": "display_data"
    },
    {
     "data": {
      "image/png": "[encoded data removed]",
      "text/plain": [
       "<Figure size 640x480 with 1 Axes>"
      ]
     },
     "metadata": {},
     "output_type": "display_data"
    },
    {
     "data": {
      "image/png": "[encoded data removed]",
      "text/plain": [
       "<Figure size 640x480 with 1 Axes>"
      ]
     },
     "metadata": {},
     "output_type": "display_data"
    },
    {
     "data": {
      "image/png": "[encoded data removed]",
      "text/plain": [
       "<Figure size 640x480 with 1 Axes>"
      ]
     },
     "metadata": {},
     "output_type": "display_data"
    }
   ],
   "source": [
    "from matplotlib import pyplot as plt\n",
    "\n",
    "states = list(pop_agg_st_df.index)\n",
    "\n",
    "i = 0\n",
    "for state in states:\n",
    "    data = list(pop_agg_st_df.loc[state])\n",
    "\n",
    "    plt.figure(i)\n",
    "    plt.title(state)\n",
    "    plt.pie(data, autopct='%.2f', labels=list(groups.keys()))\n",
    "    \n",
    "    i += 1\n",
    "\n",
    "plt.show()"
   ]
  },
  {
   "cell_type": "markdown",
   "id": "b6fb730e-08b5-4951-8819-546503e57f9e",
   "metadata": {},
   "source": [
    "It is evident that the distribution of the age groups for the states and territories are extremely similar.\n",
    "\n",
    "Let us examine the boxplots for the same data."
   ]
  },
  {
   "cell_type": "markdown",
   "id": "583bd10f-0082-4dfb-831a-569a19cff03f",
   "metadata": {},
   "source": [
    "SA2 Shapefile: https://www.abs.gov.au/statistics/standards/australian-statistical-geography-standard-asgs-edition-3/jul2021-jun2026/access-and-downloads/digital-boundary-files"
   ]
  },
  {
   "cell_type": "markdown",
   "id": "4bb90f92",
   "metadata": {},
   "source": [
    "# Fraud Data"
   ]
  },
  {
   "cell_type": "markdown",
   "id": "317bf9b2",
   "metadata": {},
   "source": [
    "### Consumer Fraud"
   ]
  },
  {
   "cell_type": "code",
   "execution_count": 100,
   "id": "ee8bb8bf",
   "metadata": {},
   "outputs": [
    {
     "name": "stdout",
     "output_type": "stream",
     "text": [
      "34864\n",
      "34864\n"
     ]
    },
    {
     "data": {
      "text/html": [
       "<table border='1'>\n",
       "<tr><th>user_id</th><th>order_datetime</th><th>fraud_probability</th></tr>\n",
       "<tr><td>6228</td><td>2021-12-19</td><td>97.6298077657765</td></tr>\n",
       "<tr><td>21419</td><td>2021-12-10</td><td>99.24738020302328</td></tr>\n",
       "<tr><td>5606</td><td>2021-10-17</td><td>84.05825045251777</td></tr>\n",
       "<tr><td>3101</td><td>2021-04-17</td><td>91.42192091901347</td></tr>\n",
       "<tr><td>22239</td><td>2021-10-19</td><td>94.70342477508035</td></tr>\n",
       "</table>\n"
      ],
      "text/plain": [
       "+-------+--------------+-----------------+\n",
       "|user_id|order_datetime|fraud_probability|\n",
       "+-------+--------------+-----------------+\n",
       "|   6228|    2021-12-19| 97.6298077657765|\n",
       "|  21419|    2021-12-10|99.24738020302328|\n",
       "|   5606|    2021-10-17|84.05825045251777|\n",
       "|   3101|    2021-04-17|91.42192091901347|\n",
       "|  22239|    2021-10-19|94.70342477508035|\n",
       "+-------+--------------+-----------------+"
      ]
     },
     "execution_count": 100,
     "metadata": {},
     "output_type": "execute_result"
    }
   ],
   "source": [
    "consumerfrauddf = spark.read.option(\"header\",\"True\").csv(\"../data/tables/consumer_fraud_probability.csv\")\n",
    "print(consumerfrauddf.count())\n",
    "consumerfrauddf = consumerfrauddf.dropna(\"any\")\n",
    "print(consumerfrauddf.count())\n",
    "consumerfrauddf = consumerfrauddf.withColumn(\"fraud_probability\", col(\"fraud_probability\").cast('double'))\n",
    "consumerfrauddf.limit(5)"
   ]
  },
  {
   "cell_type": "markdown",
   "id": "716adaf3",
   "metadata": {},
   "source": [
    "No null values"
   ]
  },
  {
   "cell_type": "code",
   "execution_count": 101,
   "id": "1c146853",
   "metadata": {},
   "outputs": [
    {
     "name": "stdout",
     "output_type": "stream",
     "text": [
      "34864\n"
     ]
    }
   ],
   "source": [
    "testdf = consumerfrauddf.filter(consumerfrauddf[\"user_id\"] > 0)\n",
    "testdf = testdf.filter(consumerfrauddf[\"user_id\"] <= 24081)\n",
    "print(testdf.count())"
   ]
  },
  {
   "cell_type": "markdown",
   "id": "30e218e5",
   "metadata": {},
   "source": [
    "All consumer ids valid "
   ]
  },
  {
   "cell_type": "code",
   "execution_count": 102,
   "id": "63918741",
   "metadata": {},
   "outputs": [
    {
     "data": {
      "text/plain": [
       "34864"
      ]
     },
     "execution_count": 102,
     "metadata": {},
     "output_type": "execute_result"
    }
   ],
   "source": [
    "import datetime\n",
    "start_date = datetime.datetime(2021, 2, 28) \n",
    "end_date = datetime.datetime(2022, 2, 28)\n",
    "testdf = consumerfrauddf.filter(consumerfrauddf[\"order_datetime\"] >= start_date)\n",
    "testdf = testdf.filter(consumerfrauddf[\"order_datetime\"] <= end_date)\n",
    "testdf.count()"
   ]
  },
  {
   "cell_type": "markdown",
   "id": "b361915f",
   "metadata": {},
   "source": [
    "All datetimes valid"
   ]
  },
  {
   "cell_type": "code",
   "execution_count": 114,
   "id": "a40d2dbc",
   "metadata": {},
   "outputs": [
    {
     "name": "stdout",
     "output_type": "stream",
     "text": [
      "34864\n",
      "34765\n"
     ]
    }
   ],
   "source": [
    "print(consumerfrauddf.count())\n",
    "print(consumerfrauddf.distinct().count())"
   ]
  },
  {
   "cell_type": "markdown",
   "id": "79215ef7",
   "metadata": {},
   "source": [
    "99 repeat values exist"
   ]
  },
  {
   "cell_type": "code",
   "execution_count": 104,
   "id": "90d54e9f",
   "metadata": {},
   "outputs": [
    {
     "name": "stdout",
     "output_type": "stream",
     "text": [
      "+-------+--------------+-----+\n",
      "|user_id|order_datetime|count|\n",
      "+-------+--------------+-----+\n",
      "|   3524|    2021-10-04|    2|\n",
      "|  22932|    2021-11-29|    2|\n",
      "|  23700|    2021-08-26|    2|\n",
      "|  11488|    2021-09-30|    2|\n",
      "|  11073|    2021-10-16|    2|\n",
      "+-------+--------------+-----+\n",
      "\n"
     ]
    }
   ],
   "source": [
    "print(consumerfrauddf.groupBy(\"user_id\",\"order_datetime\").count().orderBy(desc(\"count\")).limit(5))"
   ]
  },
  {
   "cell_type": "code",
   "execution_count": 115,
   "id": "da1893ee",
   "metadata": {},
   "outputs": [
    {
     "data": {
      "text/html": [
       "<table border='1'>\n",
       "<tr><th>user_id</th><th>order_datetime</th><th>fraud_probability</th></tr>\n",
       "<tr><td>23700</td><td>2021-08-26</td><td>75.16555491373008</td></tr>\n",
       "<tr><td>23700</td><td>2021-08-26</td><td>75.16555491373008</td></tr>\n",
       "</table>\n"
      ],
      "text/plain": [
       "+-------+--------------+-----------------+\n",
       "|user_id|order_datetime|fraud_probability|\n",
       "+-------+--------------+-----------------+\n",
       "|  23700|    2021-08-26|75.16555491373008|\n",
       "|  23700|    2021-08-26|75.16555491373008|\n",
       "+-------+--------------+-----------------+"
      ]
     },
     "execution_count": 115,
     "metadata": {},
     "output_type": "execute_result"
    }
   ],
   "source": [
    "testdf = consumerfrauddf.filter(consumerfrauddf[\"user_id\"] == 23700)\n",
    "testdf"
   ]
  },
  {
   "cell_type": "markdown",
   "id": "2753231e",
   "metadata": {},
   "source": [
    "They are indeed duplicates with the same fraud probability so will be removed"
   ]
  },
  {
   "cell_type": "code",
   "execution_count": 116,
   "id": "0ce46766",
   "metadata": {},
   "outputs": [],
   "source": [
    "consumerfrauddf = consumerfrauddf.distinct()"
   ]
  },
  {
   "cell_type": "code",
   "execution_count": 117,
   "id": "ecfaa97d",
   "metadata": {},
   "outputs": [
    {
     "name": "stdout",
     "output_type": "stream",
     "text": [
      "+----------------------+----------------------+----------------------+\n",
      "|min(fraud_probability)|max(fraud_probability)|avg(fraud_probability)|\n",
      "+----------------------+----------------------+----------------------+\n",
      "|     8.287143531552802|     99.24738020302328|    14.945849912240222|\n",
      "+----------------------+----------------------+----------------------+\n",
      "\n"
     ]
    },
    {
     "data": {
      "image/png": "[encoded data removed]",
      "text/plain": [
       "<Figure size 640x480 with 1 Axes>"
      ]
     },
     "metadata": {},
     "output_type": "display_data"
    },
    {
     "data": {
      "image/png": "[encoded data removed]",
      "text/plain": [
       "<Figure size 640x480 with 1 Axes>"
      ]
     },
     "metadata": {},
     "output_type": "display_data"
    }
   ],
   "source": [
    "import matplotlib.pyplot as plt\n",
    "\n",
    "df = consumerfrauddf.toPandas()\n",
    "\n",
    "print(consumerfrauddf.agg(min(\"fraud_probability\"), max(\"fraud_probability\"), mean(\"fraud_probability\")))\n",
    "\n",
    "plt.boxplot(df[\"fraud_probability\"])\n",
    "plt.show()\n",
    "\n",
    "plt.hist(df[\"fraud_probability\"])\n",
    "plt.xlabel(\"fraud probability\")\n",
    "plt.show() "
   ]
  },
  {
   "cell_type": "markdown",
   "id": "4a343c2a",
   "metadata": {},
   "source": [
    "Most consumer fraud probabilities are towards lower end of spectrum"
   ]
  },
  {
   "cell_type": "code",
   "execution_count": 118,
   "id": "2b090f95",
   "metadata": {},
   "outputs": [
    {
     "name": "stdout",
     "output_type": "stream",
     "text": [
      "+--------------------+--------------------+--------------------+\n",
      "|min(fraudulent_days)|max(fraudulent_days)|avg(fraudulent_days)|\n",
      "+--------------------+--------------------+--------------------+\n",
      "|                   1|                   6|   1.727195945945946|\n",
      "+--------------------+--------------------+--------------------+\n",
      "\n",
      "+---------------+---------+\n",
      "|fraudulent_days|frequency|\n",
      "+---------------+---------+\n",
      "|              1|     9355|\n",
      "|              2|     7520|\n",
      "|              3|     2699|\n",
      "|              4|      502|\n",
      "|              5|       47|\n",
      "|              6|        5|\n",
      "+---------------+---------+\n",
      "\n"
     ]
    },
    {
     "data": {
      "image/png": "[encoded data removed]",
      "text/plain": [
       "<Figure size 640x480 with 1 Axes>"
      ]
     },
     "metadata": {},
     "output_type": "display_data"
    }
   ],
   "source": [
    "testdf = consumerfrauddf.groupBy(\"user_id\").agg(count(\"user_id\").alias(\"fraudulent_days\"))\n",
    "print(testdf.agg(min(\"fraudulent_days\"), max(\"fraudulent_days\"), mean(\"fraudulent_days\")))\n",
    "testdf = testdf.groupBy(\"fraudulent_days\").agg(count(\"fraudulent_days\").alias(\"frequency\")).orderBy(\"fraudulent_days\")\n",
    "print(testdf)\n",
    "\n",
    "df = testdf.toPandas()\n",
    "plt.bar(df[\"fraudulent_days\"],df[\"frequency\"])\n",
    "plt.xlabel(\"Number of fraudulent days\")\n",
    "plt.ylabel(\"frequency\")\n",
    "plt.show() "
   ]
  },
  {
   "cell_type": "markdown",
   "id": "8c39720a",
   "metadata": {},
   "source": [
    "First table shows that the minimum number of times a user had a fraudulent transaction day was 1 and the maximum number of times was 6 with an average of 1.7 fraudulent days for any given user <br>\n",
    "Table 2 and the bar chart show the frequency"
   ]
  },
  {
   "cell_type": "markdown",
   "id": "e2f97df7",
   "metadata": {},
   "source": [
    "### Merchant Fraud"
   ]
  },
  {
   "cell_type": "code",
   "execution_count": 43,
   "id": "71218972",
   "metadata": {},
   "outputs": [
    {
     "name": "stdout",
     "output_type": "stream",
     "text": [
      "114\n",
      "114\n"
     ]
    },
    {
     "data": {
      "text/html": [
       "<table border='1'>\n",
       "<tr><th>merchant_abn</th><th>order_datetime</th><th>fraud_probability</th></tr>\n",
       "<tr><td>19492220327</td><td>2021-11-28</td><td>44.403658647495355</td></tr>\n",
       "<tr><td>31334588839</td><td>2021-10-02</td><td>42.75530083865367</td></tr>\n",
       "<tr><td>19492220327</td><td>2021-12-22</td><td>38.867790051131095</td></tr>\n",
       "<tr><td>82999039227</td><td>2021-12-19</td><td>94.1347004808891</td></tr>\n",
       "<tr><td>90918180829</td><td>2021-09-02</td><td>43.32551731714902</td></tr>\n",
       "</table>\n"
      ],
      "text/plain": [
       "+------------+--------------+------------------+\n",
       "|merchant_abn|order_datetime| fraud_probability|\n",
       "+------------+--------------+------------------+\n",
       "| 19492220327|    2021-11-28|44.403658647495355|\n",
       "| 31334588839|    2021-10-02| 42.75530083865367|\n",
       "| 19492220327|    2021-12-22|38.867790051131095|\n",
       "| 82999039227|    2021-12-19|  94.1347004808891|\n",
       "| 90918180829|    2021-09-02| 43.32551731714902|\n",
       "+------------+--------------+------------------+"
      ]
     },
     "execution_count": 43,
     "metadata": {},
     "output_type": "execute_result"
    }
   ],
   "source": [
    "merchantfrauddf = spark.read.option(\"header\",\"True\").csv(\"../data/tables/merchant_fraud_probability.csv\")\n",
    "print(merchantfrauddf.count())\n",
    "merchantfrauddf = merchantfrauddf.dropna(\"any\")\n",
    "print(merchantfrauddf.count())\n",
    "merchantfrauddf = merchantfrauddf.withColumn(\"fraud_probability\", col(\"fraud_probability\").cast('double'))\n",
    "merchantfrauddf.limit(5)"
   ]
  },
  {
   "cell_type": "markdown",
   "id": "53cf57c2",
   "metadata": {},
   "source": [
    "No null values"
   ]
  },
  {
   "cell_type": "code",
   "execution_count": 43,
   "id": "7530f633",
   "metadata": {},
   "outputs": [],
   "source": [
    "# Invalid merchant abns will be removed when joining"
   ]
  },
  {
   "cell_type": "code",
   "execution_count": 12,
   "id": "d368dc20",
   "metadata": {},
   "outputs": [
    {
     "data": {
      "text/plain": [
       "114"
      ]
     },
     "execution_count": 12,
     "metadata": {},
     "output_type": "execute_result"
    }
   ],
   "source": [
    "import datetime\n",
    "start_date = datetime.datetime(2021, 2, 28) \n",
    "end_date = datetime.datetime(2022, 2, 28)\n",
    "testdf = merchantfrauddf.filter(merchantfrauddf[\"order_datetime\"] >= start_date)\n",
    "testdf = testdf.filter(merchantfrauddf[\"order_datetime\"] <= end_date)\n",
    "testdf.count()"
   ]
  },
  {
   "cell_type": "markdown",
   "id": "b5333b70",
   "metadata": {},
   "source": [
    "All datetimes valid"
   ]
  },
  {
   "cell_type": "code",
   "execution_count": 13,
   "id": "1911370c",
   "metadata": {},
   "outputs": [
    {
     "name": "stdout",
     "output_type": "stream",
     "text": [
      "+----------------------+----------------------+----------------------+\n",
      "|min(fraud_probability)|max(fraud_probability)|avg(fraud_probability)|\n",
      "+----------------------+----------------------+----------------------+\n",
      "|     18.21089142894488|      94.1347004808891|    40.419334695018094|\n",
      "+----------------------+----------------------+----------------------+\n",
      "\n"
     ]
    },
    {
     "data": {
      "image/png": "[encoded data removed]",
      "text/plain": [
       "<Figure size 640x480 with 1 Axes>"
      ]
     },
     "metadata": {},
     "output_type": "display_data"
    },
    {
     "data": {
      "image/png": "[encoded data removed]",
      "text/plain": [
       "<Figure size 640x480 with 1 Axes>"
      ]
     },
     "metadata": {},
     "output_type": "display_data"
    }
   ],
   "source": [
    "import matplotlib.pyplot as plt\n",
    "\n",
    "df = merchantfrauddf.toPandas()\n",
    "\n",
    "print(merchantfrauddf.agg(min(\"fraud_probability\"), max(\"fraud_probability\"), mean(\"fraud_probability\")))\n",
    "\n",
    "plt.boxplot(df[\"fraud_probability\"])\n",
    "plt.show()\n",
    "\n",
    "plt.hist(df[\"fraud_probability\"])\n",
    "plt.xlabel(\"fraud probability\")\n",
    "plt.show() "
   ]
  },
  {
   "cell_type": "markdown",
   "id": "4d710158",
   "metadata": {},
   "source": [
    "Merchant fraud probabilities are more evenly spread out then user ones"
   ]
  },
  {
   "cell_type": "code",
   "execution_count": 14,
   "id": "f9913c5f",
   "metadata": {},
   "outputs": [
    {
     "name": "stdout",
     "output_type": "stream",
     "text": [
      "+--------------------+--------------------+--------------------+\n",
      "|min(fraudulent_days)|max(fraudulent_days)|avg(fraudulent_days)|\n",
      "+--------------------+--------------------+--------------------+\n",
      "|                   1|                  12|  1.8688524590163935|\n",
      "+--------------------+--------------------+--------------------+\n",
      "\n",
      "+---------------+---------+\n",
      "|fraudulent_days|frequency|\n",
      "+---------------+---------+\n",
      "|              1|       44|\n",
      "|              2|        5|\n",
      "|              3|        6|\n",
      "|              4|        1|\n",
      "|              5|        1|\n",
      "|              6|        1|\n",
      "|              7|        1|\n",
      "|              8|        1|\n",
      "|             12|        1|\n",
      "+---------------+---------+\n",
      "\n"
     ]
    },
    {
     "data": {
      "image/png": "[encoded data removed]",
      "text/plain": [
       "<Figure size 640x480 with 1 Axes>"
      ]
     },
     "metadata": {},
     "output_type": "display_data"
    }
   ],
   "source": [
    "testdf = merchantfrauddf.groupBy(\"merchant_abn\").agg(count(\"merchant_abn\").alias(\"fraudulent_days\"))\n",
    "print(testdf.agg(min(\"fraudulent_days\"), max(\"fraudulent_days\"), mean(\"fraudulent_days\")))\n",
    "testdf = testdf.groupBy(\"fraudulent_days\").agg(count(\"fraudulent_days\").alias(\"frequency\")).orderBy(\"fraudulent_days\")\n",
    "print(testdf)\n",
    "\n",
    "df = testdf.toPandas()\n",
    "plt.bar(df[\"fraudulent_days\"],df[\"frequency\"])\n",
    "plt.xlabel(\"Number of fraudulent days\")\n",
    "plt.ylabel(\"frequency\")\n",
    "plt.show() "
   ]
  },
  {
   "cell_type": "markdown",
   "id": "98df710c",
   "metadata": {},
   "source": [
    "Most merchants had a low number of fraudulent days"
   ]
  },
  {
   "cell_type": "markdown",
   "id": "2fd082bb",
   "metadata": {},
   "source": [
    "## Combining datasets"
   ]
  },
  {
   "cell_type": "code",
   "execution_count": 17,
   "id": "4b7aa80d-fd13-42e9-9943-a180e7ad0864",
   "metadata": {},
   "outputs": [
    {
     "name": "stdout",
     "output_type": "stream",
     "text": [
      "13614675\n"
     ]
    },
    {
     "name": "stderr",
     "output_type": "stream",
     "text": [
      "                                                                                \r"
     ]
    },
    {
     "data": {
      "text/html": [
       "<table border='1'>\n",
       "<tr><th>merchant_abn</th><th>consumer_id</th><th>user_id</th><th>dollar_value</th><th>order_id</th><th>order_datetime</th><th>customer_name</th><th>address</th><th>state</th><th>postcode</th><th>gender</th><th>company_name</th><th>tags</th><th>take_rate</th><th>revenue_band</th></tr>\n",
       "<tr><td>69666829657</td><td>226</td><td>5162</td><td>79.65159982605903</td><td>8765ef9f-dba6-407...</td><td>2021-08-20</td><td>Courtney Torres</td><td>6945 Higgins Brooks</td><td>SA</td><td>5581</td><td>Female</td><td>Sem Ut Institute</td><td>bicycle shops - s...</td><td> 2.86</td><td> c</td></tr>\n",
       "<tr><td>50321300271</td><td>226</td><td>5162</td><td>594.2915496790856</td><td>79f2842d-f8b2-4fd...</td><td>2022-06-01</td><td>Courtney Torres</td><td>6945 Higgins Brooks</td><td>SA</td><td>5581</td><td>Female</td><td>Augue Industries</td><td>bicycle shops - s...</td><td> 4.24</td><td> b</td></tr>\n",
       "<tr><td>70610974780</td><td>226</td><td>5162</td><td>52.820359204536665</td><td>bdf345c8-4c5d-48e...</td><td>2021-08-20</td><td>Courtney Torres</td><td>6945 Higgins Brooks</td><td>SA</td><td>5581</td><td>Female</td><td>Elit Aliquam PC</td><td>tent and awning s...</td><td> 6.93</td><td> a</td></tr>\n",
       "<tr><td>17324645993</td><td>226</td><td>5162</td><td>27.12729568273566</td><td>0a44d623-e325-4fc...</td><td>2022-05-12</td><td>Courtney Torres</td><td>6945 Higgins Brooks</td><td>SA</td><td>5581</td><td>Female</td><td>Eget Metus In Cor...</td><td>tent and awning s...</td><td> 5.73</td><td> a</td></tr>\n",
       "<tr><td>15582655078</td><td>226</td><td>5162</td><td>75.31904078962366</td><td>47ddf8e0-5f72-408...</td><td>2021-08-21</td><td>Courtney Torres</td><td>6945 Higgins Brooks</td><td>SA</td><td>5581</td><td>Female</td><td>Eu Odio Phasellus...</td><td>gift, card, novel...</td><td> 6.77</td><td> a</td></tr>\n",
       "</table>\n"
      ],
      "text/plain": [
       "+------------+-----------+-------+------------------+--------------------+--------------+---------------+-------------------+-----+--------+------+--------------------+--------------------+---------+------------+\n",
       "|merchant_abn|consumer_id|user_id|      dollar_value|            order_id|order_datetime|  customer_name|            address|state|postcode|gender|        company_name|                tags|take_rate|revenue_band|\n",
       "+------------+-----------+-------+------------------+--------------------+--------------+---------------+-------------------+-----+--------+------+--------------------+--------------------+---------+------------+\n",
       "| 69666829657|        226|   5162| 79.65159982605903|8765ef9f-dba6-407...|    2021-08-20|Courtney Torres|6945 Higgins Brooks|   SA|    5581|Female|    Sem Ut Institute|bicycle shops - s...|     2.86|           c|\n",
       "| 50321300271|        226|   5162| 594.2915496790856|79f2842d-f8b2-4fd...|    2022-06-01|Courtney Torres|6945 Higgins Brooks|   SA|    5581|Female|    Augue Industries|bicycle shops - s...|     4.24|           b|\n",
       "| 70610974780|        226|   5162|52.820359204536665|bdf345c8-4c5d-48e...|    2021-08-20|Courtney Torres|6945 Higgins Brooks|   SA|    5581|Female|     Elit Aliquam PC|tent and awning s...|     6.93|           a|\n",
       "| 17324645993|        226|   5162| 27.12729568273566|0a44d623-e325-4fc...|    2022-05-12|Courtney Torres|6945 Higgins Brooks|   SA|    5581|Female|Eget Metus In Cor...|tent and awning s...|     5.73|           a|\n",
       "| 15582655078|        226|   5162| 75.31904078962366|47ddf8e0-5f72-408...|    2021-08-21|Courtney Torres|6945 Higgins Brooks|   SA|    5581|Female|Eu Odio Phasellus...|gift, card, novel...|     6.77|           a|\n",
       "+------------+-----------+-------+------------------+--------------------+--------------+---------------+-------------------+-----+--------+------+--------------------+--------------------+---------+------------+"
      ]
     },
     "execution_count": 17,
     "metadata": {},
     "output_type": "execute_result"
    }
   ],
   "source": [
    "sdf = spark.read.parquet(\"../data/curated/mergedf.parquet/\")\n",
    "print(sdf.count())\n",
    "sdf.limit(5)"
   ]
  },
  {
   "cell_type": "code",
   "execution_count": 45,
   "id": "6cf7b142-3e57-4759-98ef-090be8c82850",
   "metadata": {},
   "outputs": [
    {
     "name": "stdout",
     "output_type": "stream",
     "text": [
      "5492\n"
     ]
    },
    {
     "data": {
      "text/html": [
       "<table border='1'>\n",
       "<tr><th>postcode</th><th>sa2_code</th></tr>\n",
       "<tr><td>1008</td><td>117031337</td></tr>\n",
       "<tr><td>1150</td><td>117031337</td></tr>\n",
       "<tr><td>2100</td><td>122031429</td></tr>\n",
       "<tr><td>2200</td><td>119011571</td></tr>\n",
       "<tr><td>2338</td><td>110041201</td></tr>\n",
       "</table>\n"
      ],
      "text/plain": [
       "+--------+---------+\n",
       "|postcode| sa2_code|\n",
       "+--------+---------+\n",
       "|    1008|117031337|\n",
       "|    1150|117031337|\n",
       "|    2100|122031429|\n",
       "|    2200|119011571|\n",
       "|    2338|110041201|\n",
       "+--------+---------+"
      ]
     },
     "execution_count": 45,
     "metadata": {},
     "output_type": "execute_result"
    }
   ],
   "source": [
    "print(postcodedf.count())\n",
    "postcodedf.limit(5)"
   ]
  },
  {
   "cell_type": "code",
   "execution_count": 69,
   "id": "e0e26993",
   "metadata": {},
   "outputs": [
    {
     "name": "stdout",
     "output_type": "stream",
     "text": [
      "2450\n"
     ]
    },
    {
     "data": {
      "text/html": [
       "<table border='1'>\n",
       "<tr><th>State/Terr</th><th>sa2_code</th><th>SA2 name</th><th>Total</th><th>Under 10</th><th>Adolescent</th><th>Young adult</th><th>Middle age</th><th>Old</th></tr>\n",
       "<tr><td>New South Wales</td><td>101021007</td><td>Braidwood</td><td>4330</td><td>473</td><td>403</td><td>495</td><td>1472</td><td>1487</td></tr>\n",
       "<tr><td>New South Wales</td><td>101021008</td><td>Karabar</td><td>8546</td><td>1082</td><td>1075</td><td>1818</td><td>2858</td><td>1713</td></tr>\n",
       "<tr><td>New South Wales</td><td>101021009</td><td>Queanbeyan</td><td>11370</td><td>1275</td><td>916</td><td>3129</td><td>3681</td><td>2369</td></tr>\n",
       "<tr><td>New South Wales</td><td>101021010</td><td>Queanbeyan - East</td><td>5093</td><td>588</td><td>406</td><td>1460</td><td>1718</td><td>921</td></tr>\n",
       "<tr><td>New South Wales</td><td>101021012</td><td>Queanbeyan West -...</td><td>12743</td><td>1796</td><td>1910</td><td>2266</td><td>4933</td><td>1838</td></tr>\n",
       "</table>\n"
      ],
      "text/plain": [
       "+---------------+---------+--------------------+-----+--------+----------+-----------+----------+----+\n",
       "|     State/Terr| sa2_code|            SA2 name|Total|Under 10|Adolescent|Young adult|Middle age| Old|\n",
       "+---------------+---------+--------------------+-----+--------+----------+-----------+----------+----+\n",
       "|New South Wales|101021007|           Braidwood| 4330|     473|       403|        495|      1472|1487|\n",
       "|New South Wales|101021008|             Karabar| 8546|    1082|      1075|       1818|      2858|1713|\n",
       "|New South Wales|101021009|          Queanbeyan|11370|    1275|       916|       3129|      3681|2369|\n",
       "|New South Wales|101021010|   Queanbeyan - East| 5093|     588|       406|       1460|      1718| 921|\n",
       "|New South Wales|101021012|Queanbeyan West -...|12743|    1796|      1910|       2266|      4933|1838|\n",
       "+---------------+---------+--------------------+-----+--------+----------+-----------+----------+----+"
      ]
     },
     "execution_count": 69,
     "metadata": {},
     "output_type": "execute_result"
    }
   ],
   "source": [
    "print(pop_sdf.count())\n",
    "populationdf = pop_sdf.withColumnRenamed(\"SA2 code\",\"sa2_code\")\n",
    "populationdf.limit(5)"
   ]
  },
  {
   "cell_type": "code",
   "execution_count": 49,
   "id": "4323a320",
   "metadata": {},
   "outputs": [
    {
     "name": "stdout",
     "output_type": "stream",
     "text": [
      "2239\n"
     ]
    },
    {
     "data": {
      "text/html": [
       "<table border='1'>\n",
       "<tr><th>sa2_code</th><th>num_earners</th><th>median_age</th><th>median_income</th><th>mean_income</th></tr>\n",
       "<tr><td>213011340</td><td>11238</td><td>46</td><td>51181</td><td>61177</td></tr>\n",
       "<tr><td>213021341</td><td>7942</td><td>43</td><td>57585</td><td>69301</td></tr>\n",
       "<tr><td>213021344</td><td>11216</td><td>41</td><td>66161</td><td>80219</td></tr>\n",
       "<tr><td>213021345</td><td>3015</td><td>41</td><td>52078</td><td>60249</td></tr>\n",
       "<tr><td>213021346</td><td>9996</td><td>47</td><td>63892</td><td>90668</td></tr>\n",
       "</table>\n"
      ],
      "text/plain": [
       "+---------+-----------+----------+-------------+-----------+\n",
       "| sa2_code|num_earners|median_age|median_income|mean_income|\n",
       "+---------+-----------+----------+-------------+-----------+\n",
       "|213011340|      11238|        46|        51181|      61177|\n",
       "|213021341|       7942|        43|        57585|      69301|\n",
       "|213021344|      11216|        41|        66161|      80219|\n",
       "|213021345|       3015|        41|        52078|      60249|\n",
       "|213021346|       9996|        47|        63892|      90668|\n",
       "+---------+-----------+----------+-------------+-----------+"
      ]
     },
     "execution_count": 49,
     "metadata": {},
     "output_type": "execute_result"
    }
   ],
   "source": [
    "print(incomedf.count())\n",
    "incomedf.limit(5)"
   ]
  },
  {
   "cell_type": "code",
   "execution_count": 119,
   "id": "03608c0f",
   "metadata": {},
   "outputs": [
    {
     "name": "stdout",
     "output_type": "stream",
     "text": [
      "34765\n"
     ]
    },
    {
     "data": {
      "text/html": [
       "<table border='1'>\n",
       "<tr><th>user_id</th><th>order_datetime</th><th>consumer_fraud_%</th></tr>\n",
       "<tr><td>3753</td><td>2022-02-16</td><td>48.85325253622543</td></tr>\n",
       "<tr><td>9646</td><td>2021-09-23</td><td>47.83931206340956</td></tr>\n",
       "<tr><td>243</td><td>2021-09-02</td><td>50.88971939168309</td></tr>\n",
       "<tr><td>3907</td><td>2021-10-07</td><td>38.58123424858352</td></tr>\n",
       "<tr><td>14864</td><td>2021-11-29</td><td>27.072321329372105</td></tr>\n",
       "</table>\n"
      ],
      "text/plain": [
       "+-------+--------------+------------------+\n",
       "|user_id|order_datetime|  consumer_fraud_%|\n",
       "+-------+--------------+------------------+\n",
       "|   3753|    2022-02-16| 48.85325253622543|\n",
       "|   9646|    2021-09-23| 47.83931206340956|\n",
       "|    243|    2021-09-02| 50.88971939168309|\n",
       "|   3907|    2021-10-07| 38.58123424858352|\n",
       "|  14864|    2021-11-29|27.072321329372105|\n",
       "+-------+--------------+------------------+"
      ]
     },
     "execution_count": 119,
     "metadata": {},
     "output_type": "execute_result"
    }
   ],
   "source": [
    "print(consumerfrauddf.count())\n",
    "consumerfrauddf = consumerfrauddf.withColumnRenamed(\"fraud_probability\",\"consumer_fraud_%\")\n",
    "consumerfrauddf.limit(5)"
   ]
  },
  {
   "cell_type": "code",
   "execution_count": 77,
   "id": "e2979bac",
   "metadata": {},
   "outputs": [
    {
     "name": "stdout",
     "output_type": "stream",
     "text": [
      "114\n"
     ]
    },
    {
     "data": {
      "text/html": [
       "<table border='1'>\n",
       "<tr><th>merchant_abn</th><th>order_datetime</th><th>merchant_fraud_%</th></tr>\n",
       "<tr><td>19492220327</td><td>2021-11-28</td><td>44.403658647495355</td></tr>\n",
       "<tr><td>31334588839</td><td>2021-10-02</td><td>42.75530083865367</td></tr>\n",
       "<tr><td>19492220327</td><td>2021-12-22</td><td>38.867790051131095</td></tr>\n",
       "<tr><td>82999039227</td><td>2021-12-19</td><td>94.1347004808891</td></tr>\n",
       "<tr><td>90918180829</td><td>2021-09-02</td><td>43.32551731714902</td></tr>\n",
       "</table>\n"
      ],
      "text/plain": [
       "+------------+--------------+------------------+\n",
       "|merchant_abn|order_datetime|  merchant_fraud_%|\n",
       "+------------+--------------+------------------+\n",
       "| 19492220327|    2021-11-28|44.403658647495355|\n",
       "| 31334588839|    2021-10-02| 42.75530083865367|\n",
       "| 19492220327|    2021-12-22|38.867790051131095|\n",
       "| 82999039227|    2021-12-19|  94.1347004808891|\n",
       "| 90918180829|    2021-09-02| 43.32551731714902|\n",
       "+------------+--------------+------------------+"
      ]
     },
     "execution_count": 77,
     "metadata": {},
     "output_type": "execute_result"
    }
   ],
   "source": [
    "print(merchantfrauddf.count())\n",
    "merchantfrauddf = merchantfrauddf.withColumnRenamed(\"fraud_probability\",\"merchant_fraud_%\")\n",
    "merchantfrauddf.limit(5)"
   ]
  },
  {
   "cell_type": "markdown",
   "id": "e8cfabb9",
   "metadata": {},
   "source": [
    "External dataset joins"
   ]
  },
  {
   "cell_type": "code",
   "execution_count": 140,
   "id": "6768363a",
   "metadata": {},
   "outputs": [
    {
     "name": "stdout",
     "output_type": "stream",
     "text": [
      "13614675\n"
     ]
    },
    {
     "name": "stderr",
     "output_type": "stream",
     "text": [
      "                                                                                \r"
     ]
    },
    {
     "name": "stdout",
     "output_type": "stream",
     "text": [
      "23253251\n"
     ]
    },
    {
     "name": "stderr",
     "output_type": "stream",
     "text": [
      "                                                                                \r"
     ]
    },
    {
     "name": "stdout",
     "output_type": "stream",
     "text": [
      "20952106\n"
     ]
    },
    {
     "name": "stderr",
     "output_type": "stream",
     "text": [
      "                                                                                \r"
     ]
    },
    {
     "name": "stdout",
     "output_type": "stream",
     "text": [
      "20774556\n"
     ]
    },
    {
     "name": "stderr",
     "output_type": "stream",
     "text": [
      "                                                                                \r"
     ]
    },
    {
     "data": {
      "text/html": [
       "<table border='1'>\n",
       "<tr><th>sa2_code</th><th>postcode</th><th>merchant_abn</th><th>consumer_id</th><th>user_id</th><th>dollar_value</th><th>order_id</th><th>order_datetime</th><th>customer_name</th><th>address</th><th>state</th><th>gender</th><th>company_name</th><th>tags</th><th>take_rate</th><th>revenue_band</th><th>State/Terr</th><th>SA2 name</th><th>Total</th><th>Under 10</th><th>Adolescent</th><th>Young adult</th><th>Middle age</th><th>Old</th><th>num_earners</th><th>median_age</th><th>median_income</th><th>mean_income</th></tr>\n",
       "<tr><td>601021010</td><td>7016</td><td>68216911708</td><td>743</td><td>2582</td><td>2.4947484562900057</td><td>78abbd54-692d-4ec...</td><td>2021-08-19</td><td>Brian Wright</td><td>761 Bennett Mountain</td><td>TAS</td><td>Male</td><td>Placerat Eget Ven...</td><td>computers, comput...</td><td> 3.05</td><td> c</td><td>Tasmania</td><td>Risdon Vale</td><td>3563</td><td>423</td><td>389</td><td>934</td><td>1137</td><td>680</td><td>1151</td><td>38</td><td>43834</td><td>44824</td></tr>\n",
       "<tr><td>601021010</td><td>7016</td><td>19933438190</td><td>743</td><td>2582</td><td>26.945828622117297</td><td>b6a429d6-fbe8-49b...</td><td>2021-09-18</td><td>Brian Wright</td><td>761 Bennett Mountain</td><td>TAS</td><td>Male</td><td>Dui Nec Corporation</td><td>tent and awning s...</td><td> 2.22</td><td> c</td><td>Tasmania</td><td>Risdon Vale</td><td>3563</td><td>423</td><td>389</td><td>934</td><td>1137</td><td>680</td><td>1151</td><td>38</td><td>43834</td><td>44824</td></tr>\n",
       "<tr><td>601021010</td><td>7016</td><td>81219314324</td><td>743</td><td>2582</td><td>41.65491414374626</td><td>1a944135-3f88-435...</td><td>2021-08-22</td><td>Brian Wright</td><td>761 Bennett Mountain</td><td>TAS</td><td>Male</td><td>Faucibus Leo Ltd</td><td>gift, card, novel...</td><td> 6.35</td><td> a</td><td>Tasmania</td><td>Risdon Vale</td><td>3563</td><td>423</td><td>389</td><td>934</td><td>1137</td><td>680</td><td>1151</td><td>38</td><td>43834</td><td>44824</td></tr>\n",
       "<tr><td>601021010</td><td>7016</td><td>10385250025</td><td>743</td><td>2582</td><td>1268.6248675331678</td><td>93b8d16e-934f-4af...</td><td>2021-09-12</td><td>Brian Wright</td><td>761 Bennett Mountain</td><td>TAS</td><td>Male</td><td>Id Ltd</td><td>computers, comput...</td><td> 5.54</td><td> a</td><td>Tasmania</td><td>Risdon Vale</td><td>3563</td><td>423</td><td>389</td><td>934</td><td>1137</td><td>680</td><td>1151</td><td>38</td><td>43834</td><td>44824</td></tr>\n",
       "<tr><td>601021010</td><td>7016</td><td>73619221575</td><td>743</td><td>2582</td><td>564.6842802363108</td><td>5e9b051a-7273-40e...</td><td>2021-08-14</td><td>Brian Wright</td><td>761 Bennett Mountain</td><td>TAS</td><td>Male</td><td>Mollis Duis Consu...</td><td>florists supplies...</td><td> 3.31</td><td> b</td><td>Tasmania</td><td>Risdon Vale</td><td>3563</td><td>423</td><td>389</td><td>934</td><td>1137</td><td>680</td><td>1151</td><td>38</td><td>43834</td><td>44824</td></tr>\n",
       "</table>\n"
      ],
      "text/plain": [
       "+---------+--------+------------+-----------+-------+------------------+--------------------+--------------+-------------+--------------------+-----+------+--------------------+--------------------+---------+------------+----------+-----------+-----+--------+----------+-----------+----------+---+-----------+----------+-------------+-----------+\n",
       "| sa2_code|postcode|merchant_abn|consumer_id|user_id|      dollar_value|            order_id|order_datetime|customer_name|             address|state|gender|        company_name|                tags|take_rate|revenue_band|State/Terr|   SA2 name|Total|Under 10|Adolescent|Young adult|Middle age|Old|num_earners|median_age|median_income|mean_income|\n",
       "+---------+--------+------------+-----------+-------+------------------+--------------------+--------------+-------------+--------------------+-----+------+--------------------+--------------------+---------+------------+----------+-----------+-----+--------+----------+-----------+----------+---+-----------+----------+-------------+-----------+\n",
       "|601021010|    7016| 68216911708|        743|   2582|2.4947484562900057|78abbd54-692d-4ec...|    2021-08-19| Brian Wright|761 Bennett Mountain|  TAS|  Male|Placerat Eget Ven...|computers, comput...|     3.05|           c|  Tasmania|Risdon Vale| 3563|     423|       389|        934|      1137|680|       1151|        38|        43834|      44824|\n",
       "|601021010|    7016| 19933438190|        743|   2582|26.945828622117297|b6a429d6-fbe8-49b...|    2021-09-18| Brian Wright|761 Bennett Mountain|  TAS|  Male| Dui Nec Corporation|tent and awning s...|     2.22|           c|  Tasmania|Risdon Vale| 3563|     423|       389|        934|      1137|680|       1151|        38|        43834|      44824|\n",
       "|601021010|    7016| 81219314324|        743|   2582| 41.65491414374626|1a944135-3f88-435...|    2021-08-22| Brian Wright|761 Bennett Mountain|  TAS|  Male|    Faucibus Leo Ltd|gift, card, novel...|     6.35|           a|  Tasmania|Risdon Vale| 3563|     423|       389|        934|      1137|680|       1151|        38|        43834|      44824|\n",
       "|601021010|    7016| 10385250025|        743|   2582|1268.6248675331678|93b8d16e-934f-4af...|    2021-09-12| Brian Wright|761 Bennett Mountain|  TAS|  Male|              Id Ltd|computers, comput...|     5.54|           a|  Tasmania|Risdon Vale| 3563|     423|       389|        934|      1137|680|       1151|        38|        43834|      44824|\n",
       "|601021010|    7016| 73619221575|        743|   2582| 564.6842802363108|5e9b051a-7273-40e...|    2021-08-14| Brian Wright|761 Bennett Mountain|  TAS|  Male|Mollis Duis Consu...|florists supplies...|     3.31|           b|  Tasmania|Risdon Vale| 3563|     423|       389|        934|      1137|680|       1151|        38|        43834|      44824|\n",
       "+---------+--------+------------+-----------+-------+------------------+--------------------+--------------+-------------+--------------------+-----+------+--------------------+--------------------+---------+------------+----------+-----------+-----+--------+----------+-----------+----------+---+-----------+----------+-------------+-----------+"
      ]
     },
     "execution_count": 140,
     "metadata": {},
     "output_type": "execute_result"
    }
   ],
   "source": [
    "print(sdf.count())\n",
    "finaldf = sdf.join(postcodedf, \"postcode\")\n",
    "print(finaldf.count())\n",
    "finaldf = finaldf.join(populationdf, \"sa2_code\")\n",
    "print(finaldf.count())\n",
    "finaldf = finaldf.join(incomedf, \"sa2_code\")\n",
    "print(finaldf.count())\n",
    "finaldf.limit(5)"
   ]
  },
  {
   "cell_type": "markdown",
   "id": "41211903",
   "metadata": {},
   "source": [
    "Fraud joins"
   ]
  },
  {
   "cell_type": "code",
   "execution_count": 141,
   "id": "8f377cf1",
   "metadata": {},
   "outputs": [
    {
     "name": "stderr",
     "output_type": "stream",
     "text": [
      "                                                                                \r"
     ]
    },
    {
     "name": "stdout",
     "output_type": "stream",
     "text": [
      "20774556\n"
     ]
    },
    {
     "name": "stderr",
     "output_type": "stream",
     "text": [
      "                                                                                \r"
     ]
    },
    {
     "name": "stdout",
     "output_type": "stream",
     "text": [
      "20774556\n"
     ]
    },
    {
     "name": "stderr",
     "output_type": "stream",
     "text": [
      "                                                                                \r"
     ]
    },
    {
     "name": "stdout",
     "output_type": "stream",
     "text": [
      "20774556\n"
     ]
    },
    {
     "data": {
      "text/html": [
       "<table border='1'>\n",
       "<tr><th>order_datetime</th><th>merchant_abn</th><th>user_id</th><th>sa2_code</th><th>postcode</th><th>consumer_id</th><th>dollar_value</th><th>order_id</th><th>customer_name</th><th>address</th><th>state</th><th>gender</th><th>company_name</th><th>tags</th><th>take_rate</th><th>revenue_band</th><th>State/Terr</th><th>SA2 name</th><th>Total</th><th>Under 10</th><th>Adolescent</th><th>Young adult</th><th>Middle age</th><th>Old</th><th>num_earners</th><th>median_age</th><th>median_income</th><th>mean_income</th><th>consumer_fraud_%</th><th>merchant_fraud_%</th></tr>\n",
       "<tr><td>2021-08-20</td><td>69666829657</td><td>5162</td><td>405041127</td><td>5581</td><td>226</td><td>79.65159982605903</td><td>8765ef9f-dba6-407...</td><td>Courtney Torres</td><td>6945 Higgins Brooks</td><td>SA</td><td>Female</td><td>Sem Ut Institute</td><td>bicycle shops - s...</td><td> 2.86</td><td> c</td><td>South Australia</td><td>Yorke Peninsula -...</td><td>7621</td><td>691</td><td>681</td><td>818</td><td>2022</td><td>3409</td><td>3438</td><td>53</td><td>40165</td><td>52377</td><td>null</td><td>null</td></tr>\n",
       "<tr><td>2022-06-01</td><td>50321300271</td><td>5162</td><td>405041127</td><td>5581</td><td>226</td><td>594.2915496790856</td><td>79f2842d-f8b2-4fd...</td><td>Courtney Torres</td><td>6945 Higgins Brooks</td><td>SA</td><td>Female</td><td>Augue Industries</td><td>bicycle shops - s...</td><td> 4.24</td><td> b</td><td>South Australia</td><td>Yorke Peninsula -...</td><td>7621</td><td>691</td><td>681</td><td>818</td><td>2022</td><td>3409</td><td>3438</td><td>53</td><td>40165</td><td>52377</td><td>null</td><td>null</td></tr>\n",
       "<tr><td>2021-08-20</td><td>70610974780</td><td>5162</td><td>405041127</td><td>5581</td><td>226</td><td>52.820359204536665</td><td>bdf345c8-4c5d-48e...</td><td>Courtney Torres</td><td>6945 Higgins Brooks</td><td>SA</td><td>Female</td><td>Elit Aliquam PC</td><td>tent and awning s...</td><td> 6.93</td><td> a</td><td>South Australia</td><td>Yorke Peninsula -...</td><td>7621</td><td>691</td><td>681</td><td>818</td><td>2022</td><td>3409</td><td>3438</td><td>53</td><td>40165</td><td>52377</td><td>null</td><td>null</td></tr>\n",
       "<tr><td>2022-05-12</td><td>17324645993</td><td>5162</td><td>405041127</td><td>5581</td><td>226</td><td>27.12729568273566</td><td>0a44d623-e325-4fc...</td><td>Courtney Torres</td><td>6945 Higgins Brooks</td><td>SA</td><td>Female</td><td>Eget Metus In Cor...</td><td>tent and awning s...</td><td> 5.73</td><td> a</td><td>South Australia</td><td>Yorke Peninsula -...</td><td>7621</td><td>691</td><td>681</td><td>818</td><td>2022</td><td>3409</td><td>3438</td><td>53</td><td>40165</td><td>52377</td><td>null</td><td>null</td></tr>\n",
       "<tr><td>2021-08-21</td><td>15582655078</td><td>5162</td><td>405041127</td><td>5581</td><td>226</td><td>75.31904078962366</td><td>47ddf8e0-5f72-408...</td><td>Courtney Torres</td><td>6945 Higgins Brooks</td><td>SA</td><td>Female</td><td>Eu Odio Phasellus...</td><td>gift, card, novel...</td><td> 6.77</td><td> a</td><td>South Australia</td><td>Yorke Peninsula -...</td><td>7621</td><td>691</td><td>681</td><td>818</td><td>2022</td><td>3409</td><td>3438</td><td>53</td><td>40165</td><td>52377</td><td>null</td><td>null</td></tr>\n",
       "</table>\n"
      ],
      "text/plain": [
       "+--------------+------------+-------+---------+--------+-----------+------------------+--------------------+---------------+-------------------+-----+------+--------------------+--------------------+---------+------------+---------------+--------------------+-----+--------+----------+-----------+----------+----+-----------+----------+-------------+-----------+----------------+----------------+\n",
       "|order_datetime|merchant_abn|user_id| sa2_code|postcode|consumer_id|      dollar_value|            order_id|  customer_name|            address|state|gender|        company_name|                tags|take_rate|revenue_band|     State/Terr|            SA2 name|Total|Under 10|Adolescent|Young adult|Middle age| Old|num_earners|median_age|median_income|mean_income|consumer_fraud_%|merchant_fraud_%|\n",
       "+--------------+------------+-------+---------+--------+-----------+------------------+--------------------+---------------+-------------------+-----+------+--------------------+--------------------+---------+------------+---------------+--------------------+-----+--------+----------+-----------+----------+----+-----------+----------+-------------+-----------+----------------+----------------+\n",
       "|    2021-08-20| 69666829657|   5162|405041127|    5581|        226| 79.65159982605903|8765ef9f-dba6-407...|Courtney Torres|6945 Higgins Brooks|   SA|Female|    Sem Ut Institute|bicycle shops - s...|     2.86|           c|South Australia|Yorke Peninsula -...| 7621|     691|       681|        818|      2022|3409|       3438|        53|        40165|      52377|            null|            null|\n",
       "|    2022-06-01| 50321300271|   5162|405041127|    5581|        226| 594.2915496790856|79f2842d-f8b2-4fd...|Courtney Torres|6945 Higgins Brooks|   SA|Female|    Augue Industries|bicycle shops - s...|     4.24|           b|South Australia|Yorke Peninsula -...| 7621|     691|       681|        818|      2022|3409|       3438|        53|        40165|      52377|            null|            null|\n",
       "|    2021-08-20| 70610974780|   5162|405041127|    5581|        226|52.820359204536665|bdf345c8-4c5d-48e...|Courtney Torres|6945 Higgins Brooks|   SA|Female|     Elit Aliquam PC|tent and awning s...|     6.93|           a|South Australia|Yorke Peninsula -...| 7621|     691|       681|        818|      2022|3409|       3438|        53|        40165|      52377|            null|            null|\n",
       "|    2022-05-12| 17324645993|   5162|405041127|    5581|        226| 27.12729568273566|0a44d623-e325-4fc...|Courtney Torres|6945 Higgins Brooks|   SA|Female|Eget Metus In Cor...|tent and awning s...|     5.73|           a|South Australia|Yorke Peninsula -...| 7621|     691|       681|        818|      2022|3409|       3438|        53|        40165|      52377|            null|            null|\n",
       "|    2021-08-21| 15582655078|   5162|405041127|    5581|        226| 75.31904078962366|47ddf8e0-5f72-408...|Courtney Torres|6945 Higgins Brooks|   SA|Female|Eu Odio Phasellus...|gift, card, novel...|     6.77|           a|South Australia|Yorke Peninsula -...| 7621|     691|       681|        818|      2022|3409|       3438|        53|        40165|      52377|            null|            null|\n",
       "+--------------+------------+-------+---------+--------+-----------+------------------+--------------------+---------------+-------------------+-----+------+--------------------+--------------------+---------+------------+---------------+--------------------+-----+--------+----------+-----------+----------+----+-----------+----------+-------------+-----------+----------------+----------------+"
      ]
     },
     "execution_count": 141,
     "metadata": {},
     "output_type": "execute_result"
    }
   ],
   "source": [
    "print(finaldf.count())\n",
    "finaldf = finaldf.join(consumerfrauddf, [\"order_datetime\", \"user_id\"], \"leftouter\")\n",
    "print(finaldf.count())\n",
    "finaldf = finaldf.join(merchantfrauddf, [\"order_datetime\", \"merchant_abn\"], \"leftouter\")\n",
    "print(finaldf.count())\n",
    "finaldf.limit(5)"
   ]
  },
  {
   "cell_type": "code",
   "execution_count": 142,
   "id": "04e2beb7",
   "metadata": {},
   "outputs": [
    {
     "name": "stderr",
     "output_type": "stream",
     "text": [
      "                                                                                \r"
     ]
    },
    {
     "data": {
      "text/html": [
       "<table border='1'>\n",
       "<tr><th>order_datetime</th><th>merchant_abn</th><th>user_id</th><th>sa2_code</th><th>postcode</th><th>consumer_id</th><th>dollar_value</th><th>order_id</th><th>state</th><th>gender</th><th>company_name</th><th>tags</th><th>take_rate</th><th>revenue_band</th><th>SA2 name</th><th>Total</th><th>Under 10</th><th>Adolescent</th><th>Young adult</th><th>Middle age</th><th>Old</th><th>num_earners</th><th>median_age</th><th>median_income</th><th>mean_income</th><th>consumer_fraud_%</th><th>merchant_fraud_%</th></tr>\n",
       "<tr><td>2021-08-19</td><td>68216911708</td><td>2582</td><td>601021010</td><td>7016</td><td>743</td><td>2.4947484562900057</td><td>78abbd54-692d-4ec...</td><td>TAS</td><td>Male</td><td>Placerat Eget Ven...</td><td>computers, comput...</td><td> 3.05</td><td> c</td><td>Risdon Vale</td><td>3563</td><td>423</td><td>389</td><td>934</td><td>1137</td><td>680</td><td>1151</td><td>38</td><td>43834</td><td>44824</td><td>0.1</td><td>0.1</td></tr>\n",
       "<tr><td>2021-09-18</td><td>19933438190</td><td>2582</td><td>601021010</td><td>7016</td><td>743</td><td>26.945828622117297</td><td>b6a429d6-fbe8-49b...</td><td>TAS</td><td>Male</td><td>Dui Nec Corporation</td><td>tent and awning s...</td><td> 2.22</td><td> c</td><td>Risdon Vale</td><td>3563</td><td>423</td><td>389</td><td>934</td><td>1137</td><td>680</td><td>1151</td><td>38</td><td>43834</td><td>44824</td><td>0.1</td><td>0.1</td></tr>\n",
       "<tr><td>2021-08-22</td><td>81219314324</td><td>2582</td><td>601021010</td><td>7016</td><td>743</td><td>41.65491414374626</td><td>1a944135-3f88-435...</td><td>TAS</td><td>Male</td><td>Faucibus Leo Ltd</td><td>gift, card, novel...</td><td> 6.35</td><td> a</td><td>Risdon Vale</td><td>3563</td><td>423</td><td>389</td><td>934</td><td>1137</td><td>680</td><td>1151</td><td>38</td><td>43834</td><td>44824</td><td>0.1</td><td>0.1</td></tr>\n",
       "<tr><td>2021-09-12</td><td>10385250025</td><td>2582</td><td>601021010</td><td>7016</td><td>743</td><td>1268.6248675331678</td><td>93b8d16e-934f-4af...</td><td>TAS</td><td>Male</td><td>Id Ltd</td><td>computers, comput...</td><td> 5.54</td><td> a</td><td>Risdon Vale</td><td>3563</td><td>423</td><td>389</td><td>934</td><td>1137</td><td>680</td><td>1151</td><td>38</td><td>43834</td><td>44824</td><td>0.1</td><td>0.1</td></tr>\n",
       "<tr><td>2021-08-14</td><td>73619221575</td><td>2582</td><td>601021010</td><td>7016</td><td>743</td><td>564.6842802363108</td><td>5e9b051a-7273-40e...</td><td>TAS</td><td>Male</td><td>Mollis Duis Consu...</td><td>florists supplies...</td><td> 3.31</td><td> b</td><td>Risdon Vale</td><td>3563</td><td>423</td><td>389</td><td>934</td><td>1137</td><td>680</td><td>1151</td><td>38</td><td>43834</td><td>44824</td><td>0.1</td><td>0.1</td></tr>\n",
       "</table>\n"
      ],
      "text/plain": [
       "+--------------+------------+-------+---------+--------+-----------+------------------+--------------------+-----+------+--------------------+--------------------+---------+------------+--------------------+-----+--------+----------+-----------+----------+----+-----------+----------+-------------+-----------+----------------+----------------+\n",
       "|order_datetime|merchant_abn|user_id| sa2_code|postcode|consumer_id|      dollar_value|            order_id|state|gender|        company_name|                tags|take_rate|revenue_band|            SA2 name|Total|Under 10|Adolescent|Young adult|Middle age| Old|num_earners|median_age|median_income|mean_income|consumer_fraud_%|merchant_fraud_%|\n",
       "+--------------+------------+-------+---------+--------+-----------+------------------+--------------------+-----+------+--------------------+--------------------+---------+------------+--------------------+-----+--------+----------+-----------+----------+----+-----------+----------+-------------+-----------+----------------+----------------+\n",
       "|    2021-08-20| 69666829657|   5162|405041127|    5581|        226| 79.65159982605903|8765ef9f-dba6-407...|   SA|Female|    Sem Ut Institute|bicycle shops - s...|     2.86|           c|Yorke Peninsula -...| 7621|     691|       681|        818|      2022|3409|       3438|        53|        40165|      52377|             0.1|             0.1|\n",
       "|    2022-06-01| 50321300271|   5162|405041127|    5581|        226| 594.2915496790856|79f2842d-f8b2-4fd...|   SA|Female|    Augue Industries|bicycle shops - s...|     4.24|           b|Yorke Peninsula -...| 7621|     691|       681|        818|      2022|3409|       3438|        53|        40165|      52377|             0.1|             0.1|\n",
       "|    2021-08-20| 70610974780|   5162|405041127|    5581|        226|52.820359204536665|bdf345c8-4c5d-48e...|   SA|Female|     Elit Aliquam PC|tent and awning s...|     6.93|           a|Yorke Peninsula -...| 7621|     691|       681|        818|      2022|3409|       3438|        53|        40165|      52377|             0.1|             0.1|\n",
       "|    2022-05-12| 17324645993|   5162|405041127|    5581|        226| 27.12729568273566|0a44d623-e325-4fc...|   SA|Female|Eget Metus In Cor...|tent and awning s...|     5.73|           a|Yorke Peninsula -...| 7621|     691|       681|        818|      2022|3409|       3438|        53|        40165|      52377|             0.1|             0.1|\n",
       "|    2021-08-21| 15582655078|   5162|405041127|    5581|        226| 75.31904078962366|47ddf8e0-5f72-408...|   SA|Female|Eu Odio Phasellus...|gift, card, novel...|     6.77|           a|Yorke Peninsula -...| 7621|     691|       681|        818|      2022|3409|       3438|        53|        40165|      52377|             0.1|             0.1|\n",
       "+--------------+------------+-------+---------+--------+-----------+------------------+--------------------+-----+------+--------------------+--------------------+---------+------------+--------------------+-----+--------+----------+-----------+----------+----+-----------+----------+-------------+-----------+----------------+----------------+"
      ]
     },
     "execution_count": 142,
     "metadata": {},
     "output_type": "execute_result"
    }
   ],
   "source": [
    "finaldf = finaldf.drop(\"customer_name\",\"address\",\"State/Terr\")\n",
    "finaldf = finaldf.na.fill(0.1)\n",
    "finaldf.limit(5)"
   ]
  },
  {
   "cell_type": "code",
   "execution_count": 143,
   "id": "f83c652a",
   "metadata": {},
   "outputs": [
    {
     "name": "stderr",
     "output_type": "stream",
     "text": [
      "                                                                                \r"
     ]
    },
    {
     "data": {
      "text/html": [
       "<table border='1'>\n",
       "<tr><th>order_datetime</th><th>merchant_abn</th><th>user_id</th><th>sa2_code</th><th>postcode</th><th>consumer_id</th><th>dollar_value</th><th>order_id</th><th>state</th><th>gender</th><th>company_name</th><th>tags</th><th>take_rate</th><th>revenue_band</th><th>SA2 name</th><th>Total</th><th>Under 10</th><th>Adolescent</th><th>Young adult</th><th>Middle age</th><th>Old</th><th>num_earners</th><th>median_age</th><th>median_income</th><th>mean_income</th><th>consumer_fraud_%</th><th>merchant_fraud_%</th></tr>\n",
       "<tr><td>2022-02-20</td><td>35575706403</td><td>16556</td><td>312011338</td><td>4743</td><td>1243659</td><td>50209.505438673325</td><td>d444e831-764d-4ca...</td><td>QLD</td><td>Male</td><td>Tempus Mauris Ltd</td><td>antique shops - s...</td><td> 3.46</td><td> b</td><td>Broadsound - Nebo</td><td>8877</td><td>1142</td><td>816</td><td>2371</td><td>3334</td><td>1214</td><td>3815</td><td>41</td><td>67252</td><td>79524</td><td>89.65663294494827</td><td>91.09606847149965</td></tr>\n",
       "<tr><td>2021-10-19</td><td>97884414539</td><td>18658</td><td>203021042</td><td>3216</td><td>288499</td><td>44615.02252113347</td><td>b89f04f6-13fb-4ec...</td><td>VIC</td><td>Male</td><td>Ut Corporation</td><td>antique shops - s...</td><td> 6.82</td><td> a</td><td>Highton</td><td>24079</td><td>2892</td><td>3406</td><td>4819</td><td>7491</td><td>5471</td><td>14072</td><td>45</td><td>49958</td><td>66089</td><td>82.98609082999361</td><td>89.79919971536573</td></tr>\n",
       "<tr><td>2021-10-19</td><td>97884414539</td><td>18658</td><td>203021037</td><td>3216</td><td>288499</td><td>44615.02252113347</td><td>b89f04f6-13fb-4ec...</td><td>VIC</td><td>Male</td><td>Ut Corporation</td><td>antique shops - s...</td><td> 6.82</td><td> a</td><td>Belmont</td><td>14994</td><td>1814</td><td>1518</td><td>3766</td><td>4413</td><td>3483</td><td>8359</td><td>40</td><td>46078</td><td>53674</td><td>82.98609082999361</td><td>89.79919971536573</td></tr>\n",
       "</table>\n"
      ],
      "text/plain": [
       "+--------------+------------+-------+---------+--------+-----------+------------------+--------------------+-----+------+-----------------+--------------------+---------+------------+-----------------+-----+--------+----------+-----------+----------+----+-----------+----------+-------------+-----------+-----------------+-----------------+\n",
       "|order_datetime|merchant_abn|user_id| sa2_code|postcode|consumer_id|      dollar_value|            order_id|state|gender|     company_name|                tags|take_rate|revenue_band|         SA2 name|Total|Under 10|Adolescent|Young adult|Middle age| Old|num_earners|median_age|median_income|mean_income| consumer_fraud_%| merchant_fraud_%|\n",
       "+--------------+------------+-------+---------+--------+-----------+------------------+--------------------+-----+------+-----------------+--------------------+---------+------------+-----------------+-----+--------+----------+-----------+----------+----+-----------+----------+-------------+-----------+-----------------+-----------------+\n",
       "|    2022-02-20| 35575706403|  16556|312011338|    4743|    1243659|50209.505438673325|d444e831-764d-4ca...|  QLD|  Male|Tempus Mauris Ltd|antique shops - s...|     3.46|           b|Broadsound - Nebo| 8877|    1142|       816|       2371|      3334|1214|       3815|        41|        67252|      79524|89.65663294494827|91.09606847149965|\n",
       "|    2021-10-19| 97884414539|  18658|203021042|    3216|     288499| 44615.02252113347|b89f04f6-13fb-4ec...|  VIC|  Male|   Ut Corporation|antique shops - s...|     6.82|           a|          Highton|24079|    2892|      3406|       4819|      7491|5471|      14072|        45|        49958|      66089|82.98609082999361|89.79919971536573|\n",
       "|    2021-10-19| 97884414539|  18658|203021037|    3216|     288499| 44615.02252113347|b89f04f6-13fb-4ec...|  VIC|  Male|   Ut Corporation|antique shops - s...|     6.82|           a|          Belmont|14994|    1814|      1518|       3766|      4413|3483|       8359|        40|        46078|      53674|82.98609082999361|89.79919971536573|\n",
       "+--------------+------------+-------+---------+--------+-----------+------------------+--------------------+-----+------+-----------------+--------------------+---------+------------+-----------------+-----+--------+----------+-----------+----------+----+-----------+----------+-------------+-----------+-----------------+-----------------+"
      ]
     },
     "execution_count": 143,
     "metadata": {},
     "output_type": "execute_result"
    }
   ],
   "source": [
    "testdf = finaldf.filter(finaldf[\"merchant_fraud_%\"] > 85)\n",
    "testdf.limit(3)"
   ]
  },
  {
   "cell_type": "markdown",
   "id": "b0b43c9d",
   "metadata": {},
   "source": [
    "## Dealing with current fraud data"
   ]
  },
  {
   "cell_type": "code",
   "execution_count": 152,
   "id": "d612637b",
   "metadata": {},
   "outputs": [
    {
     "name": "stderr",
     "output_type": "stream",
     "text": [
      "                                                                                \r"
     ]
    },
    {
     "name": "stdout",
     "output_type": "stream",
     "text": [
      "20774556\n"
     ]
    },
    {
     "name": "stderr",
     "output_type": "stream",
     "text": [
      "[Stage 2832:==================================================>   (16 + 1) / 17]\r"
     ]
    },
    {
     "name": "stdout",
     "output_type": "stream",
     "text": [
      "20759042 15514\n"
     ]
    },
    {
     "name": "stderr",
     "output_type": "stream",
     "text": [
      "                                                                                \r"
     ]
    }
   ],
   "source": [
    "MERCHANT_THRESH = 20\n",
    "CONSUMER_THRESH = 20\n",
    "\n",
    "print(finaldf.count())\n",
    "testdf = finaldf.filter(finaldf[\"merchant_fraud_%\"] < MERCHANT_THRESH)\n",
    "testdf = finaldf.filter(finaldf[\"consumer_fraud_%\"] < CONSUMER_THRESH)\n",
    "print(testdf.count(), finaldf.count()-testdf.count())"
   ]
  },
  {
   "cell_type": "markdown",
   "id": "aaaab081",
   "metadata": {},
   "source": [
    "Keeping the fraud prob below 20% for each give us a good chance that most fraud data has been removed <br>\n",
    "The removal of 15 thousand records is not alot considering we still have 20 million plus records still left <br>\n",
    "The fact that most of the fraud transactions are now removed allows us to build a metric for determining future fraud"
   ]
  },
  {
   "cell_type": "code",
   "execution_count": 153,
   "id": "9048c68f",
   "metadata": {},
   "outputs": [],
   "source": [
    "finaldf = finaldf.filter(finaldf[\"merchant_fraud_%\"] < MERCHANT_THRESH)\n",
    "finaldf = finaldf.filter(finaldf[\"consumer_fraud_%\"] < CONSUMER_THRESH)"
   ]
  },
  {
   "cell_type": "markdown",
   "id": "6df148e0",
   "metadata": {},
   "source": [
    "## Dealing with future fraud"
   ]
  },
  {
   "cell_type": "markdown",
   "id": "2bea9402",
   "metadata": {},
   "source": [
    "2 main ways to determine fraud:\n",
    "- High number of transactions in a given day\n",
    "- High transaction amounts"
   ]
  },
  {
   "cell_type": "markdown",
   "id": "f2fffc54",
   "metadata": {},
   "source": [
    "### Merchant"
   ]
  },
  {
   "cell_type": "code",
   "execution_count": 167,
   "id": "a137a39e",
   "metadata": {},
   "outputs": [
    {
     "name": "stderr",
     "output_type": "stream",
     "text": [
      "                                                                                \r"
     ]
    },
    {
     "data": {
      "text/html": [
       "<table border='1'>\n",
       "<tr><th>merchant_abn</th><th>order_datetime</th><th>mean_amount</th><th>min_amount</th><th>max_amount</th><th>transactions</th></tr>\n",
       "<tr><td>24852446429</td><td>2021-11-26</td><td>30.46417361981633</td><td>0.4388815965837197</td><td>168.92668885555742</td><td>1916</td></tr>\n",
       "<tr><td>24852446429</td><td>2021-11-27</td><td>31.636556215187305</td><td>1.003369617502435</td><td>193.03651325623903</td><td>1783</td></tr>\n",
       "<tr><td>86578477987</td><td>2021-11-26</td><td>33.8695396597357</td><td>0.1615814452824192</td><td>163.1881979840336</td><td>1779</td></tr>\n",
       "<tr><td>24852446429</td><td>2021-11-29</td><td>30.50184795665985</td><td>0.7022808404239752</td><td>137.595051098878</td><td>1744</td></tr>\n",
       "<tr><td>49891706470</td><td>2021-11-26</td><td>28.682157995166225</td><td>3.001709666041197</td><td>54.95671169593744</td><td>1701</td></tr>\n",
       "</table>\n"
      ],
      "text/plain": [
       "+------------+--------------+------------------+------------------+------------------+------------+\n",
       "|merchant_abn|order_datetime|       mean_amount|        min_amount|        max_amount|transactions|\n",
       "+------------+--------------+------------------+------------------+------------------+------------+\n",
       "| 24852446429|    2021-11-26| 30.46417361981633|0.4388815965837197|168.92668885555742|        1916|\n",
       "| 24852446429|    2021-11-27|31.636556215187305| 1.003369617502435|193.03651325623903|        1783|\n",
       "| 86578477987|    2021-11-26|  33.8695396597357|0.1615814452824192| 163.1881979840336|        1779|\n",
       "| 24852446429|    2021-11-29| 30.50184795665985|0.7022808404239752|  137.595051098878|        1744|\n",
       "| 49891706470|    2021-11-26|28.682157995166225| 3.001709666041197| 54.95671169593744|        1701|\n",
       "+------------+--------------+------------------+------------------+------------------+------------+"
      ]
     },
     "execution_count": 167,
     "metadata": {},
     "output_type": "execute_result"
    }
   ],
   "source": [
    "# this gets the stats for each merchant for each day\n",
    "merchanttestdf = finaldf.groupBy(\"merchant_abn\",\"order_datetime\").agg(\n",
    "    mean(\"dollar_value\").alias(\"mean_amount\"),\n",
    "    min(\"dollar_value\").alias(\"min_amount\"),\n",
    "    max(\"dollar_value\").alias(\"max_amount\"),\n",
    "    count(\"dollar_value\").alias(\"transactions\"),\n",
    "    ).orderBy(desc(\"transactions\"))\n",
    "\n",
    "merchanttestdf.limit(5)"
   ]
  },
  {
   "cell_type": "code",
   "execution_count": 170,
   "id": "fd0c164e",
   "metadata": {},
   "outputs": [
    {
     "name": "stderr",
     "output_type": "stream",
     "text": [
      "                                                                                \r"
     ]
    },
    {
     "data": {
      "text/html": [
       "<table border='1'>\n",
       "<tr><th>merchant_abn</th><th>mean_amount</th><th>min_amount</th><th>max_amount</th><th>mean_transactions</th><th>min_transactions</th><th>max_transactions</th></tr>\n",
       "<tr><td>24852446429</td><td>29.994179500150423</td><td>1.0013482034321513</td><td>132.63726075232657</td><td>727.2062706270627</td><td>442</td><td>1916</td></tr>\n",
       "<tr><td>86578477987</td><td>34.97995533972651</td><td>1.1720818299391733</td><td>153.98697166956993</td><td>685.6435643564356</td><td>412</td><td>1779</td></tr>\n",
       "<tr><td>49891706470</td><td>28.94237492419655</td><td>3.1556904183096153</td><td>54.84419033696536</td><td>621.6039603960396</td><td>335</td><td>1701</td></tr>\n",
       "<tr><td>64203420245</td><td>28.95612306014824</td><td>3.14451491936713</td><td>54.85378248897557</td><td>656.2095709570957</td><td>360</td><td>1681</td></tr>\n",
       "<tr><td>46804135891</td><td>30.035261029384944</td><td>0.0972265437192253</td><td>190.93127738260756</td><td>588.4306930693069</td><td>331</td><td>1607</td></tr>\n",
       "</table>\n"
      ],
      "text/plain": [
       "+------------+------------------+------------------+------------------+-----------------+----------------+----------------+\n",
       "|merchant_abn|       mean_amount|        min_amount|        max_amount|mean_transactions|min_transactions|max_transactions|\n",
       "+------------+------------------+------------------+------------------+-----------------+----------------+----------------+\n",
       "| 24852446429|29.994179500150427|1.0013482034321513|132.63726075232657|727.2062706270627|             442|            1916|\n",
       "| 86578477987| 34.97995533972651|1.1720818299391733|153.98697166956993|685.6435643564356|             412|            1779|\n",
       "| 49891706470| 28.94237492419655|3.1556904183096153| 54.84419033696536|621.6039603960396|             335|            1701|\n",
       "| 64203420245| 28.95612306014824|  3.14451491936713| 54.85378248897557|656.2095709570957|             360|            1681|\n",
       "| 46804135891|30.035261029384944|0.0972265437192253|190.93127738260756|588.4306930693069|             331|            1607|\n",
       "+------------+------------------+------------------+------------------+-----------------+----------------+----------------+"
      ]
     },
     "execution_count": 170,
     "metadata": {},
     "output_type": "execute_result"
    }
   ],
   "source": [
    "# this gets the average stats for a merchant on any given day\n",
    "merchanttestdf = merchanttestdf.groupBy(\"merchant_abn\").agg(\n",
    "    mean(\"mean_amount\").alias(\"mean_amount\"),\n",
    "    mean(\"min_amount\").alias(\"min_amount\"),\n",
    "    mean(\"max_amount\").alias(\"max_amount\"),\n",
    "    mean(\"transactions\").alias(\"mean_transactions\"),\n",
    "    min(\"transactions\").alias(\"min_transactions\"),\n",
    "    max(\"transactions\").alias(\"max_transactions\"),\n",
    "    ).orderBy(desc(\"max_transactions\"))\n",
    "\n",
    "merchanttestdf.limit(5)"
   ]
  },
  {
   "cell_type": "markdown",
   "id": "83bef868",
   "metadata": {},
   "source": [
    "We now have a dataset that gives us all the statistics we need to determine if future merchant transactions are fraud <br>\n",
    "for the time being if a merchant has > 1.5 x max_transactions in a day it is considered fraud <br>\n",
    "if a merchant has > 1.5 x max_amount in a day it is considered fraud"
   ]
  },
  {
   "cell_type": "markdown",
   "id": "ba304c1f",
   "metadata": {},
   "source": [
    "### User"
   ]
  },
  {
   "cell_type": "code",
   "execution_count": 172,
   "id": "abe83766",
   "metadata": {},
   "outputs": [
    {
     "name": "stderr",
     "output_type": "stream",
     "text": [
      "[Stage 3289:>                                                     (0 + 16) / 17]\r"
     ]
    },
    {
     "name": "stdout",
     "output_type": "stream",
     "text": [
      "22/09/19 02:04:27 WARN RowBasedKeyValueBatch: Calling spill() on RowBasedKeyValueBatch. Will not spill but return 0.\n",
      "22/09/19 02:04:27 WARN RowBasedKeyValueBatch: Calling spill() on RowBasedKeyValueBatch. Will not spill but return 0.\n",
      "22/09/19 02:04:27 WARN RowBasedKeyValueBatch: Calling spill() on RowBasedKeyValueBatch. Will not spill but return 0.\n",
      "22/09/19 02:04:27 WARN RowBasedKeyValueBatch: Calling spill() on RowBasedKeyValueBatch. Will not spill but return 0.\n",
      "22/09/19 02:04:28 WARN RowBasedKeyValueBatch: Calling spill() on RowBasedKeyValueBatch. Will not spill but return 0.\n",
      "22/09/19 02:04:28 WARN RowBasedKeyValueBatch: Calling spill() on RowBasedKeyValueBatch. Will not spill but return 0.\n",
      "22/09/19 02:04:28 WARN RowBasedKeyValueBatch: Calling spill() on RowBasedKeyValueBatch. Will not spill but return 0.\n",
      "22/09/19 02:04:28 WARN RowBasedKeyValueBatch: Calling spill() on RowBasedKeyValueBatch. Will not spill but return 0.\n",
      "22/09/19 02:04:28 WARN RowBasedKeyValueBatch: Calling spill() on RowBasedKeyValueBatch. Will not spill but return 0.\n"
     ]
    },
    {
     "name": "stderr",
     "output_type": "stream",
     "text": [
      "[Stage 3305:>                                                     (0 + 16) / 17]\r"
     ]
    },
    {
     "name": "stdout",
     "output_type": "stream",
     "text": [
      "22/09/19 02:04:32 WARN RowBasedKeyValueBatch: Calling spill() on RowBasedKeyValueBatch. Will not spill but return 0.\n",
      "22/09/19 02:04:33 WARN RowBasedKeyValueBatch: Calling spill() on RowBasedKeyValueBatch. Will not spill but return 0.\n",
      "22/09/19 02:04:33 WARN RowBasedKeyValueBatch: Calling spill() on RowBasedKeyValueBatch. Will not spill but return 0.\n",
      "22/09/19 02:04:33 WARN RowBasedKeyValueBatch: Calling spill() on RowBasedKeyValueBatch. Will not spill but return 0.\n",
      "22/09/19 02:04:33 WARN RowBasedKeyValueBatch: Calling spill() on RowBasedKeyValueBatch. Will not spill but return 0.\n"
     ]
    },
    {
     "name": "stderr",
     "output_type": "stream",
     "text": [
      "                                                                                \r"
     ]
    },
    {
     "data": {
      "text/html": [
       "<table border='1'>\n",
       "<tr><th>user_id</th><th>order_datetime</th><th>mean_amount</th><th>min_amount</th><th>max_amount</th><th>transactions</th></tr>\n",
       "<tr><td>20931</td><td>2021-11-29</td><td>119.06473250477067</td><td>28.04893125562283</td><td>445.0802574763232</td><td>104</td></tr>\n",
       "<tr><td>17417</td><td>2021-11-26</td><td>72.40206052677397</td><td>4.4464593786411095</td><td>157.8166304195111</td><td>98</td></tr>\n",
       "<tr><td>6072</td><td>2021-11-22</td><td>269.3998632737218</td><td>6.712747985289963</td><td>622.847977814607</td><td>98</td></tr>\n",
       "<tr><td>17417</td><td>2021-11-29</td><td>167.94750291512926</td><td>1.6711964900188083</td><td>719.3382556816264</td><td>98</td></tr>\n",
       "<tr><td>20651</td><td>2021-11-25</td><td>62.674804005227486</td><td>13.418453836985401</td><td>125.3852608556601</td><td>98</td></tr>\n",
       "</table>\n"
      ],
      "text/plain": [
       "+-------+--------------+------------------+------------------+-----------------+------------+\n",
       "|user_id|order_datetime|       mean_amount|        min_amount|       max_amount|transactions|\n",
       "+-------+--------------+------------------+------------------+-----------------+------------+\n",
       "|  20931|    2021-11-29|119.06473250477055| 28.04893125562283|445.0802574763232|         104|\n",
       "|  17417|    2021-11-26| 72.40206052677392|4.4464593786411095|157.8166304195111|          98|\n",
       "|   6072|    2021-11-22| 269.3998632737217| 6.712747985289963| 622.847977814607|          98|\n",
       "|  17417|    2021-11-29|167.94750291512915|1.6711964900188083|719.3382556816264|          98|\n",
       "|  20651|    2021-11-25| 62.67480400522755|13.418453836985401|125.3852608556601|          98|\n",
       "+-------+--------------+------------------+------------------+-----------------+------------+"
      ]
     },
     "execution_count": 172,
     "metadata": {},
     "output_type": "execute_result"
    }
   ],
   "source": [
    "# this gets the stats for each user for each day\n",
    "usertestdf = finaldf.groupBy(\"user_id\",\"order_datetime\").agg(\n",
    "    mean(\"dollar_value\").alias(\"mean_amount\"),\n",
    "    min(\"dollar_value\").alias(\"min_amount\"),\n",
    "    max(\"dollar_value\").alias(\"max_amount\"),\n",
    "    count(\"dollar_value\").alias(\"transactions\"),\n",
    "    ).orderBy(desc(\"transactions\"))\n",
    "\n",
    "usertestdf.limit(5)"
   ]
  },
  {
   "cell_type": "code",
   "execution_count": 173,
   "id": "74c08978",
   "metadata": {},
   "outputs": [
    {
     "name": "stderr",
     "output_type": "stream",
     "text": [
      "[Stage 3322:>                                                     (0 + 16) / 17]\r"
     ]
    },
    {
     "name": "stdout",
     "output_type": "stream",
     "text": [
      "22/09/19 02:06:53 WARN RowBasedKeyValueBatch: Calling spill() on RowBasedKeyValueBatch. Will not spill but return 0.\n",
      "22/09/19 02:06:53 WARN RowBasedKeyValueBatch: Calling spill() on RowBasedKeyValueBatch. Will not spill but return 0.\n",
      "22/09/19 02:06:53 WARN RowBasedKeyValueBatch: Calling spill() on RowBasedKeyValueBatch. Will not spill but return 0.\n",
      "22/09/19 02:06:53 WARN RowBasedKeyValueBatch: Calling spill() on RowBasedKeyValueBatch. Will not spill but return 0.\n",
      "22/09/19 02:06:53 WARN RowBasedKeyValueBatch: Calling spill() on RowBasedKeyValueBatch. Will not spill but return 0.\n",
      "22/09/19 02:06:53 WARN RowBasedKeyValueBatch: Calling spill() on RowBasedKeyValueBatch. Will not spill but return 0.\n",
      "22/09/19 02:06:53 WARN RowBasedKeyValueBatch: Calling spill() on RowBasedKeyValueBatch. Will not spill but return 0.\n",
      "22/09/19 02:06:53 WARN RowBasedKeyValueBatch: Calling spill() on RowBasedKeyValueBatch. Will not spill but return 0.\n",
      "22/09/19 02:06:53 WARN RowBasedKeyValueBatch: Calling spill() on RowBasedKeyValueBatch. Will not spill but return 0.\n"
     ]
    },
    {
     "name": "stderr",
     "output_type": "stream",
     "text": [
      "[Stage 3352:>                                                     (0 + 16) / 17]\r"
     ]
    },
    {
     "name": "stdout",
     "output_type": "stream",
     "text": [
      "22/09/19 02:07:01 WARN RowBasedKeyValueBatch: Calling spill() on RowBasedKeyValueBatch. Will not spill but return 0.\n",
      "22/09/19 02:07:01 WARN RowBasedKeyValueBatch: Calling spill() on RowBasedKeyValueBatch. Will not spill but return 0.\n",
      "22/09/19 02:07:01 WARN RowBasedKeyValueBatch: Calling spill() on RowBasedKeyValueBatch. Will not spill but return 0.\n",
      "22/09/19 02:07:01 WARN RowBasedKeyValueBatch: Calling spill() on RowBasedKeyValueBatch. Will not spill but return 0.\n",
      "22/09/19 02:07:01 WARN RowBasedKeyValueBatch: Calling spill() on RowBasedKeyValueBatch. Will not spill but return 0.\n",
      "22/09/19 02:07:01 WARN RowBasedKeyValueBatch: Calling spill() on RowBasedKeyValueBatch. Will not spill but return 0.\n",
      "22/09/19 02:07:01 WARN RowBasedKeyValueBatch: Calling spill() on RowBasedKeyValueBatch. Will not spill but return 0.\n",
      "22/09/19 02:07:01 WARN RowBasedKeyValueBatch: Calling spill() on RowBasedKeyValueBatch. Will not spill but return 0.\n"
     ]
    },
    {
     "name": "stderr",
     "output_type": "stream",
     "text": [
      "                                                                                \r"
     ]
    },
    {
     "data": {
      "text/html": [
       "<table border='1'>\n",
       "<tr><th>user_id</th><th>mean_amount</th><th>min_amount</th><th>max_amount</th><th>mean_transactions</th><th>min_transactions</th><th>max_transactions</th></tr>\n",
       "<tr><td>20931</td><td>163.8622025562808</td><td>125.76545989482213</td><td>208.98524908238096</td><td>20.107142857142858</td><td>13</td><td>104</td></tr>\n",
       "<tr><td>20651</td><td>157.1074921825416</td><td>105.06627100387666</td><td>219.10105072162514</td><td>21.0</td><td>14</td><td>98</td></tr>\n",
       "<tr><td>6072</td><td>159.5675614949777</td><td>101.95187779113559</td><td>224.5209349892101</td><td>21.899441340782122</td><td>14</td><td>98</td></tr>\n",
       "<tr><td>17417</td><td>147.8868588470973</td><td>104.75892839781038</td><td>196.83524356068264</td><td>21.517808219178082</td><td>14</td><td>98</td></tr>\n",
       "<tr><td>13545</td><td>158.1379638827785</td><td>121.45901194379616</td><td>205.68937045590945</td><td>20.06830601092896</td><td>13</td><td>91</td></tr>\n",
       "</table>\n"
      ],
      "text/plain": [
       "+-------+-----------------+------------------+------------------+------------------+----------------+----------------+\n",
       "|user_id|      mean_amount|        min_amount|        max_amount| mean_transactions|min_transactions|max_transactions|\n",
       "+-------+-----------------+------------------+------------------+------------------+----------------+----------------+\n",
       "|  20931|163.8622025562808|125.76545989482213|208.98524908238096|20.107142857142858|              13|             104|\n",
       "|  20651|157.1074921825416|105.06627100387666|219.10105072162514|              21.0|              14|              98|\n",
       "|   6072|159.5675614949777|101.95187779113559| 224.5209349892101|21.899441340782122|              14|              98|\n",
       "|  17417|147.8868588470973|104.75892839781038|196.83524356068264|21.517808219178082|              14|              98|\n",
       "|  13545|158.1379638827785|121.45901194379616|205.68937045590945| 20.06830601092896|              13|              91|\n",
       "+-------+-----------------+------------------+------------------+------------------+----------------+----------------+"
      ]
     },
     "execution_count": 173,
     "metadata": {},
     "output_type": "execute_result"
    }
   ],
   "source": [
    "# this gets the average stats for a user on any given day\n",
    "usertestdf = usertestdf.groupBy(\"user_id\").agg(\n",
    "    mean(\"mean_amount\").alias(\"mean_amount\"),\n",
    "    mean(\"min_amount\").alias(\"min_amount\"),\n",
    "    mean(\"max_amount\").alias(\"max_amount\"),\n",
    "    mean(\"transactions\").alias(\"mean_transactions\"),\n",
    "    min(\"transactions\").alias(\"min_transactions\"),\n",
    "    max(\"transactions\").alias(\"max_transactions\"),\n",
    "    ).orderBy(desc(\"max_transactions\"))\n",
    "\n",
    "usertestdf.limit(5)"
   ]
  },
  {
   "cell_type": "markdown",
   "id": "31b7d281",
   "metadata": {},
   "source": [
    "We now have a dataset that gives us all the statistics we need to determine if future user transactions are fraud <br>\n",
    "for the time being if a user has > 1.5 x max_transactions in a day it is considered fraud <br>\n",
    "if a user has > 1.5 x max_amount in a day it is considered fraud"
   ]
  },
  {
   "cell_type": "markdown",
   "id": "965188ae",
   "metadata": {},
   "source": [
    "Now remains the case where a user or merchant has little to no data to get these metrics from <br>\n",
    "We could either set our own thresholds based on logical reasoning for fraud detection<br>\n",
    "Or we could look at the distributions of existing data to determine thresholds for fraud detection"
   ]
  }
 ],
 "metadata": {
  "kernelspec": {
   "display_name": "Python 3 (ipykernel)",
   "language": "python",
   "name": "python3"
  },
  "language_info": {
   "codemirror_mode": {
    "name": "ipython",
    "version": 3
   },
   "file_extension": ".py",
   "mimetype": "text/x-python",
   "name": "python",
   "nbconvert_exporter": "python",
   "pygments_lexer": "ipython3",
   "version": "3.10.4"
  },
  "vscode": {
   "interpreter": {
    "hash": "916dbcbb3f70747c44a77c7bcd40155683ae19c65e1c03b4aa3499c5328201f1"
   }
  }
 },
 "nbformat": 4,
 "nbformat_minor": 5
}
