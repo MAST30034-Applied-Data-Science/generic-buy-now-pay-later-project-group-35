{
 "cells": [
  {
   "cell_type": "code",
   "execution_count": 1,
   "metadata": {},
   "outputs": [
    {
     "name": "stdout",
     "output_type": "stream",
     "text": [
      "22/10/14 17:12:20 WARN Utils: Your hostname, DESKTOP-LNDD2A2 resolves to a loopback address: 127.0.1.1; using 172.21.134.174 instead (on interface eth0)\n",
      "22/10/14 17:12:20 WARN Utils: Set SPARK_LOCAL_IP if you need to bind to another address\n"
     ]
    },
    {
     "name": "stderr",
     "output_type": "stream",
     "text": [
      "Setting default log level to \"WARN\".\n",
      "To adjust logging level use sc.setLogLevel(newLevel). For SparkR, use setLogLevel(newLevel).\n"
     ]
    },
    {
     "name": "stdout",
     "output_type": "stream",
     "text": [
      "22/10/14 17:12:23 WARN NativeCodeLoader: Unable to load native-hadoop library for your platform... using builtin-java classes where applicable\n",
      "22/10/14 17:12:28 WARN Utils: Service 'SparkUI' could not bind on port 4040. Attempting port 4041.\n",
      "22/10/14 17:12:28 WARN Utils: Service 'SparkUI' could not bind on port 4041. Attempting port 4042.\n",
      "22/10/14 17:12:28 WARN Utils: Service 'SparkUI' could not bind on port 4042. Attempting port 4043.\n"
     ]
    }
   ],
   "source": [
    "from pyspark.sql import SparkSession\n",
    "from pyspark.sql.functions import * \n",
    "import matplotlib.pyplot as plt\n",
    "import pandas as pd\n",
    "import numpy as np\n",
    "from pyspark.sql import functions as F\n",
    "from scipy.stats import f_oneway\n",
    "import random\n",
    "from pyspark.ml.feature import StringIndexer, OneHotEncoder, VectorAssembler\n",
    "from pyspark.sql.window import Window\n",
    "from pyspark.ml.regression import LinearRegression\n",
    "from sklearn.metrics import mean_absolute_error as mae\n",
    "\n",
    "# Create a spark session\n",
    "spark = (\n",
    "    SparkSession.builder.appName(\"analysis\")\n",
    "    .config(\"spark.sql.repl.eagerEval.enabled\", True) \n",
    "    .config(\"spark.sql.parquet.cacheMetadata\", \"true\")\n",
    "    .config(\"spark.sql.session.timeZone\", \"Etc/UTC\")\n",
    "    .config(\"spark.driver.memory\", \"2g\")\n",
    "    .config(\"spark.executor.memory\", \"6g\")\n",
    "    .getOrCreate()\n",
    ")"
   ]
  },
  {
   "cell_type": "markdown",
   "metadata": {},
   "source": [
    "# Model 3: Unique Middle Income Customers"
   ]
  },
  {
   "cell_type": "markdown",
   "metadata": {},
   "source": [
    "The thresholds defined below are based from [a survey on BNPL usage](https://www.bankrate.com/loans/personal-loans/buy-now-pay-later-statistics/)"
   ]
  },
  {
   "cell_type": "code",
   "execution_count": 2,
   "metadata": {},
   "outputs": [],
   "source": [
    "LOWER_INCOME_THRESHOLD = 50000\n",
    "UPPER_INCOME_THRESHOLD = 75000"
   ]
  },
  {
   "cell_type": "code",
   "execution_count": 3,
   "metadata": {},
   "outputs": [
    {
     "name": "stderr",
     "output_type": "stream",
     "text": [
      "                                                                                \r"
     ]
    },
    {
     "data": {
      "text/html": [
       "<table border='1'>\n",
       "<tr><th>order_datetime</th><th>merchant_abn</th><th>user_id</th><th>postcode</th><th>consumer_id</th><th>dollar_value</th><th>order_id</th><th>state</th><th>gender</th><th>company_name</th><th>tags</th><th>take_rate</th><th>revenue_band</th><th>total_pop</th><th>under10_pop</th><th>adolsc_pop</th><th>yng_adult_pop</th><th>mid_age_pop</th><th>old_pop</th><th>num_earners</th><th>median_age</th><th>median_income</th><th>mean_income</th><th>consumer_fraud_%</th><th>merchant_fraud_%</th></tr>\n",
       "<tr><td>2021-08-21</td><td>80682333501</td><td>3146</td><td>5651</td><td>604753</td><td>0.3672339667473312</td><td>2a59c978-f760-42d...</td><td>SA</td><td>Male</td><td>Orci Corp.</td><td>florists supplies...</td><td> 4.88</td><td> b</td><td>2172</td><td>275</td><td>278</td><td>304</td><td>692</td><td>623</td><td>1308</td><td>47</td><td>37685</td><td>43540</td><td>0.1</td><td>0.1</td></tr>\n",
       "<tr><td>2021-08-19</td><td>99478391356</td><td>3146</td><td>5651</td><td>604753</td><td>3035.1695642706595</td><td>82e100bc-25c2-4e3...</td><td>SA</td><td>Male</td><td>Orci Quis Foundation</td><td>equipment, tool, ...</td><td> 1.52</td><td> c</td><td>2172</td><td>275</td><td>278</td><td>304</td><td>692</td><td>623</td><td>1308</td><td>47</td><td>37685</td><td>43540</td><td>0.1</td><td>0.1</td></tr>\n",
       "<tr><td>2021-08-19</td><td>86578477987</td><td>3146</td><td>5651</td><td>604753</td><td>61.05946896765003</td><td>9e3c8e62-9e8e-4e8...</td><td>SA</td><td>Male</td><td>Leo In Consulting</td><td>watch, clock, and...</td><td> 6.43</td><td> a</td><td>2172</td><td>275</td><td>278</td><td>304</td><td>692</td><td>623</td><td>1308</td><td>47</td><td>37685</td><td>43540</td><td>0.1</td><td>0.1</td></tr>\n",
       "<tr><td>2021-08-14</td><td>32361057556</td><td>3146</td><td>5651</td><td>604753</td><td>155.3456409871304</td><td>e4ff9499-e96d-4e6...</td><td>SA</td><td>Male</td><td>Orci In Consequat...</td><td>gift, card, novel...</td><td> 6.61</td><td> a</td><td>2172</td><td>275</td><td>278</td><td>304</td><td>692</td><td>623</td><td>1308</td><td>47</td><td>37685</td><td>43540</td><td>0.1</td><td>0.1</td></tr>\n",
       "<tr><td>2021-08-16</td><td>20445424481</td><td>3146</td><td>5651</td><td>604753</td><td>57.66971365811276</td><td>4a36f2ed-7bcc-43d...</td><td>SA</td><td>Male</td><td>Amet Industries</td><td>digital goods: bo...</td><td> 6.29</td><td> a</td><td>2172</td><td>275</td><td>278</td><td>304</td><td>692</td><td>623</td><td>1308</td><td>47</td><td>37685</td><td>43540</td><td>0.1</td><td>0.1</td></tr>\n",
       "</table>\n"
      ],
      "text/plain": [
       "+--------------+------------+-------+--------+-----------+------------------+--------------------+-----+------+--------------------+--------------------+---------+------------+---------+-----------+----------+-------------+-----------+-------+-----------+----------+-------------+-----------+----------------+----------------+\n",
       "|order_datetime|merchant_abn|user_id|postcode|consumer_id|      dollar_value|            order_id|state|gender|        company_name|                tags|take_rate|revenue_band|total_pop|under10_pop|adolsc_pop|yng_adult_pop|mid_age_pop|old_pop|num_earners|median_age|median_income|mean_income|consumer_fraud_%|merchant_fraud_%|\n",
       "+--------------+------------+-------+--------+-----------+------------------+--------------------+-----+------+--------------------+--------------------+---------+------------+---------+-----------+----------+-------------+-----------+-------+-----------+----------+-------------+-----------+----------------+----------------+\n",
       "|    2021-08-21| 80682333501|   3146|    5651|     604753|0.3672339667473312|2a59c978-f760-42d...|   SA|  Male|          Orci Corp.|florists supplies...|     4.88|           b|     2172|        275|       278|          304|        692|    623|       1308|        47|        37685|      43540|             0.1|             0.1|\n",
       "|    2021-08-19| 99478391356|   3146|    5651|     604753|3035.1695642706595|82e100bc-25c2-4e3...|   SA|  Male|Orci Quis Foundation|equipment, tool, ...|     1.52|           c|     2172|        275|       278|          304|        692|    623|       1308|        47|        37685|      43540|             0.1|             0.1|\n",
       "|    2021-08-19| 86578477987|   3146|    5651|     604753| 61.05946896765003|9e3c8e62-9e8e-4e8...|   SA|  Male|   Leo In Consulting|watch, clock, and...|     6.43|           a|     2172|        275|       278|          304|        692|    623|       1308|        47|        37685|      43540|             0.1|             0.1|\n",
       "|    2021-08-14| 32361057556|   3146|    5651|     604753| 155.3456409871304|e4ff9499-e96d-4e6...|   SA|  Male|Orci In Consequat...|gift, card, novel...|     6.61|           a|     2172|        275|       278|          304|        692|    623|       1308|        47|        37685|      43540|             0.1|             0.1|\n",
       "|    2021-08-16| 20445424481|   3146|    5651|     604753| 57.66971365811276|4a36f2ed-7bcc-43d...|   SA|  Male|     Amet Industries|digital goods: bo...|     6.29|           a|     2172|        275|       278|          304|        692|    623|       1308|        47|        37685|      43540|             0.1|             0.1|\n",
       "+--------------+------------+-------+--------+-----------+------------------+--------------------+-----+------+--------------------+--------------------+---------+------------+---------+-----------+----------+-------------+-----------+-------+-----------+----------+-------------+-----------+----------------+----------------+"
      ]
     },
     "execution_count": 3,
     "metadata": {},
     "output_type": "execute_result"
    }
   ],
   "source": [
    "# Load final dataset\n",
    "finaldf = spark.read.parquet(\"../data/curated/finaldf.parquet/\")\n",
    "finaldf.limit(5)"
   ]
  },
  {
   "cell_type": "markdown",
   "metadata": {},
   "source": [
    "Extract the year and month from the order datetime into a seperate column, we will use these to both group the dataset and create a new feature int_month. We also create a feature indicating whether the transaction has been made by a customer who resides in a postcode with median income in the range defined above."
   ]
  },
  {
   "cell_type": "code",
   "execution_count": 4,
   "metadata": {},
   "outputs": [
    {
     "name": "stdout",
     "output_type": "stream",
     "text": [
      "22/10/14 17:13:02 WARN package: Truncated the string representation of a plan since it was too large. This behavior can be adjusted by setting 'spark.sql.debug.maxToStringFields'.\n"
     ]
    },
    {
     "name": "stderr",
     "output_type": "stream",
     "text": [
      "                                                                                \r"
     ]
    },
    {
     "data": {
      "text/html": [
       "<table border='1'>\n",
       "<tr><th>order_datetime</th><th>merchant_abn</th><th>user_id</th><th>postcode</th><th>consumer_id</th><th>dollar_value</th><th>order_id</th><th>state</th><th>gender</th><th>company_name</th><th>tags</th><th>take_rate</th><th>revenue_band</th><th>total_pop</th><th>under10_pop</th><th>adolsc_pop</th><th>yng_adult_pop</th><th>mid_age_pop</th><th>old_pop</th><th>num_earners</th><th>median_age</th><th>median_income</th><th>mean_income</th><th>consumer_fraud_%</th><th>merchant_fraud_%</th><th>year</th><th>month</th></tr>\n",
       "<tr><td>2021-08-21</td><td>74046727484</td><td>7064</td><td>3197</td><td>841590</td><td>83.72597094904893</td><td>61f2988d-709b-46f...</td><td>VIC</td><td>Female</td><td>Vestibulum Accums...</td><td>gift, card, novel...</td><td> 5.10</td><td> b</td><td>12115</td><td>1392</td><td>1291</td><td>1898</td><td>4304</td><td>3230</td><td>7302</td><td>46</td><td>54598</td><td>68945</td><td>0.1</td><td>0.1</td><td>2021</td><td>8</td></tr>\n",
       "<tr><td>2021-08-19</td><td>34822634769</td><td>7064</td><td>3197</td><td>841590</td><td>89.4559409155605</td><td>9654ebba-51fa-4a7...</td><td>VIC</td><td>Female</td><td>Dolor Egestas Rho...</td><td>cable, satellite,...</td><td> 0.71</td><td> d</td><td>12115</td><td>1392</td><td>1291</td><td>1898</td><td>4304</td><td>3230</td><td>7302</td><td>46</td><td>54598</td><td>68945</td><td>0.1</td><td>0.1</td><td>2021</td><td>8</td></tr>\n",
       "<tr><td>2021-08-22</td><td>96680767841</td><td>7064</td><td>3197</td><td>841590</td><td>196.16668339788086</td><td>149406fa-e7b1-479...</td><td>VIC</td><td>Female</td><td>Ornare Limited</td><td>motor vehicle sup...</td><td> 5.91</td><td> a</td><td>12115</td><td>1392</td><td>1291</td><td>1898</td><td>4304</td><td>3230</td><td>7302</td><td>46</td><td>54598</td><td>68945</td><td>0.1</td><td>0.1</td><td>2021</td><td>8</td></tr>\n",
       "<tr><td>2021-08-15</td><td>80324045558</td><td>7064</td><td>3197</td><td>841590</td><td>62.30980676808807</td><td>231df649-21d4-4cd...</td><td>VIC</td><td>Female</td><td>Ipsum Dolor Sit C...</td><td>gift, card, novel...</td><td> 1.47</td><td> c</td><td>12115</td><td>1392</td><td>1291</td><td>1898</td><td>4304</td><td>3230</td><td>7302</td><td>46</td><td>54598</td><td>68945</td><td>0.1</td><td>0.1</td><td>2021</td><td>8</td></tr>\n",
       "<tr><td>2021-07-15</td><td>45663905997</td><td>7064</td><td>3197</td><td>841590</td><td>216.90848569313803</td><td>2d8fdb5d-6447-46e...</td><td>VIC</td><td>Female</td><td>Lacus Mauris Asso...</td><td>shoe shops</td><td> 0.48</td><td> e</td><td>12115</td><td>1392</td><td>1291</td><td>1898</td><td>4304</td><td>3230</td><td>7302</td><td>46</td><td>54598</td><td>68945</td><td>0.1</td><td>0.1</td><td>2021</td><td>7</td></tr>\n",
       "</table>\n"
      ],
      "text/plain": [
       "+--------------+------------+-------+--------+-----------+------------------+--------------------+-----+------+--------------------+--------------------+---------+------------+---------+-----------+----------+-------------+-----------+-------+-----------+----------+-------------+-----------+----------------+----------------+----+-----+\n",
       "|order_datetime|merchant_abn|user_id|postcode|consumer_id|      dollar_value|            order_id|state|gender|        company_name|                tags|take_rate|revenue_band|total_pop|under10_pop|adolsc_pop|yng_adult_pop|mid_age_pop|old_pop|num_earners|median_age|median_income|mean_income|consumer_fraud_%|merchant_fraud_%|year|month|\n",
       "+--------------+------------+-------+--------+-----------+------------------+--------------------+-----+------+--------------------+--------------------+---------+------------+---------+-----------+----------+-------------+-----------+-------+-----------+----------+-------------+-----------+----------------+----------------+----+-----+\n",
       "|    2021-08-21| 74046727484|   7064|    3197|     841590| 83.72597094904893|61f2988d-709b-46f...|  VIC|Female|Vestibulum Accums...|gift, card, novel...|     5.10|           b|    12115|       1392|      1291|         1898|       4304|   3230|       7302|        46|        54598|      68945|             0.1|             0.1|2021|    8|\n",
       "|    2021-08-19| 34822634769|   7064|    3197|     841590|  89.4559409155605|9654ebba-51fa-4a7...|  VIC|Female|Dolor Egestas Rho...|cable, satellite,...|     0.71|           d|    12115|       1392|      1291|         1898|       4304|   3230|       7302|        46|        54598|      68945|             0.1|             0.1|2021|    8|\n",
       "|    2021-08-22| 96680767841|   7064|    3197|     841590|196.16668339788086|149406fa-e7b1-479...|  VIC|Female|      Ornare Limited|motor vehicle sup...|     5.91|           a|    12115|       1392|      1291|         1898|       4304|   3230|       7302|        46|        54598|      68945|             0.1|             0.1|2021|    8|\n",
       "|    2021-08-15| 80324045558|   7064|    3197|     841590| 62.30980676808807|231df649-21d4-4cd...|  VIC|Female|Ipsum Dolor Sit C...|gift, card, novel...|     1.47|           c|    12115|       1392|      1291|         1898|       4304|   3230|       7302|        46|        54598|      68945|             0.1|             0.1|2021|    8|\n",
       "|    2021-07-15| 45663905997|   7064|    3197|     841590|216.90848569313803|2d8fdb5d-6447-46e...|  VIC|Female|Lacus Mauris Asso...|          shoe shops|     0.48|           e|    12115|       1392|      1291|         1898|       4304|   3230|       7302|        46|        54598|      68945|             0.1|             0.1|2021|    7|\n",
       "+--------------+------------+-------+--------+-----------+------------------+--------------------+-----+------+--------------------+--------------------+---------+------------+---------+-----------+----------+-------------+-----------+-------+-----------+----------+-------------+-----------+----------------+----------------+----+-----+"
      ]
     },
     "execution_count": 4,
     "metadata": {},
     "output_type": "execute_result"
    }
   ],
   "source": [
    "modeldf = finaldf.withColumn(\"year\", date_format(col(\"order_datetime\"), \"yyyy\").cast(\"long\"))\n",
    "modeldf = modeldf.withColumn(\"month\", date_format(col(\"order_datetime\"), \"MM\").cast(\"long\"))\n",
    "modeldf = modeldf.filter((modeldf.median_income > LOWER_INCOME_THRESHOLD) &\n",
    "                         (modeldf.median_income < UPPER_INCOME_THRESHOLD))\n",
    "modeldf.limit(5)"
   ]
  },
  {
   "cell_type": "code",
   "execution_count": 5,
   "metadata": {},
   "outputs": [],
   "source": [
    "# Get monthly middle customers feature\n",
    "modeldf = modeldf.groupBy(\"year\",\"month\",\"merchant_abn\").agg(\n",
    "    countDistinct(\"consumer_id\").alias(\"monthly_middle_customers\"),\n",
    ")"
   ]
  },
  {
   "cell_type": "code",
   "execution_count": 6,
   "metadata": {},
   "outputs": [
    {
     "name": "stderr",
     "output_type": "stream",
     "text": [
      "                                                                                \r"
     ]
    },
    {
     "data": {
      "text/html": [
       "<table border='1'>\n",
       "<tr><th>merchant_abn</th><th>monthly_middle_customers</th><th>int_month</th></tr>\n",
       "<tr><td>94472466107</td><td>300</td><td>16</td></tr>\n",
       "<tr><td>16165222459</td><td>27</td><td>15</td></tr>\n",
       "<tr><td>60956456424</td><td>1107</td><td>16</td></tr>\n",
       "<tr><td>82539239304</td><td>24</td><td>16</td></tr>\n",
       "<tr><td>53655334735</td><td>7</td><td>10</td></tr>\n",
       "<tr><td>33163130598</td><td>34</td><td>2</td></tr>\n",
       "<tr><td>24852446429</td><td>2818</td><td>9</td></tr>\n",
       "<tr><td>31585975447</td><td>191</td><td>3</td></tr>\n",
       "<tr><td>46987545043</td><td>245</td><td>20</td></tr>\n",
       "<tr><td>52160665475</td><td>162</td><td>15</td></tr>\n",
       "<tr><td>34179569263</td><td>306</td><td>18</td></tr>\n",
       "<tr><td>24598653065</td><td>46</td><td>3</td></tr>\n",
       "<tr><td>50315283629</td><td>367</td><td>21</td></tr>\n",
       "<tr><td>80779820715</td><td>395</td><td>4</td></tr>\n",
       "<tr><td>65204103269</td><td>78</td><td>10</td></tr>\n",
       "<tr><td>66370248931</td><td>123</td><td>18</td></tr>\n",
       "<tr><td>32605756719</td><td>102</td><td>2</td></tr>\n",
       "<tr><td>78905182348</td><td>131</td><td>7</td></tr>\n",
       "<tr><td>49758515423</td><td>82</td><td>10</td></tr>\n",
       "<tr><td>88699453206</td><td>199</td><td>11</td></tr>\n",
       "</table>\n",
       "only showing top 20 rows\n"
      ],
      "text/plain": [
       "+------------+------------------------+---------+\n",
       "|merchant_abn|monthly_middle_customers|int_month|\n",
       "+------------+------------------------+---------+\n",
       "| 94472466107|                     300|       16|\n",
       "| 16165222459|                      27|       15|\n",
       "| 60956456424|                    1107|       16|\n",
       "| 82539239304|                      24|       16|\n",
       "| 53655334735|                       7|       10|\n",
       "| 33163130598|                      34|        2|\n",
       "| 24852446429|                    2818|        9|\n",
       "| 31585975447|                     191|        3|\n",
       "| 46987545043|                     245|       20|\n",
       "| 52160665475|                     162|       15|\n",
       "| 34179569263|                     306|       18|\n",
       "| 24598653065|                      46|        3|\n",
       "| 50315283629|                     367|       21|\n",
       "| 80779820715|                     395|        4|\n",
       "| 65204103269|                      78|       10|\n",
       "| 66370248931|                     123|       18|\n",
       "| 32605756719|                     102|        2|\n",
       "| 78905182348|                     131|        7|\n",
       "| 49758515423|                      82|       10|\n",
       "| 88699453206|                     199|       11|\n",
       "+------------+------------------------+---------+\n",
       "only showing top 20 rows"
      ]
     },
     "execution_count": 6,
     "metadata": {},
     "output_type": "execute_result"
    }
   ],
   "source": [
    "# Turn year and month into field 'int_month'\n",
    "MONTHS = 12\n",
    "modeldf = modeldf.withColumn('int_month', MONTHS*(modeldf['year'] - 2021) + (modeldf['month'] - 1))\n",
    "modeldf = modeldf.drop('year', 'month')\n",
    "modeldf"
   ]
  },
  {
   "cell_type": "markdown",
   "metadata": {},
   "source": [
    "If any of the valid merchant_abns from the final dataset do not have any transactions listed in the dataset, we will need to manually add a row stating this month had 0 monthly middle customers."
   ]
  },
  {
   "cell_type": "code",
   "execution_count": 7,
   "metadata": {},
   "outputs": [
    {
     "name": "stderr",
     "output_type": "stream",
     "text": [
      "                                                                                \r"
     ]
    }
   ],
   "source": [
    "# Get all valid merchant abns\n",
    "merchant_abns = finaldf.select('merchant_abn').distinct().toPandas()['merchant_abn']\n",
    "\n",
    "# Originally set all merchant abns to have 0 transactions every month\n",
    "records = []\n",
    "for m in merchant_abns:\n",
    "    for int_month in range(1, 22):\n",
    "        records.append([m, 0, int_month])        \n",
    "defaultdf = spark.createDataFrame(records, \n",
    "                                  schema=['merchant_abn', 'monthly_middle_customers_0', 'int_month'])\n",
    "\n",
    "# Now overwrite the values that are present in modeldf.\n",
    "modeldf = defaultdf.join(modeldf, on=['merchant_abn', 'int_month'], how='left')\n",
    "modeldf = modeldf.drop('monthly_middle_customers_0')\n",
    "modeldf = modeldf.na.fill(value=0,subset=[\"monthly_middle_customers\"])"
   ]
  },
  {
   "cell_type": "code",
   "execution_count": 8,
   "metadata": {},
   "outputs": [
    {
     "name": "stderr",
     "output_type": "stream",
     "text": [
      "                                                                                \r"
     ]
    },
    {
     "name": "stdout",
     "output_type": "stream",
     "text": [
      "+------------+---------+------------------------+\n",
      "|merchant_abn|int_month|monthly_middle_customers|\n",
      "+------------+---------+------------------------+\n",
      "| 10023283211|        1|                       1|\n",
      "| 10023283211|        2|                      22|\n",
      "| 10023283211|        3|                      35|\n",
      "| 10023283211|        4|                      38|\n",
      "| 10023283211|        5|                      44|\n",
      "| 10023283211|        6|                      44|\n",
      "| 10023283211|        7|                      38|\n",
      "| 10023283211|        8|                      37|\n",
      "| 10023283211|        9|                      45|\n",
      "| 10023283211|       10|                      50|\n",
      "| 10023283211|       11|                      54|\n",
      "| 10023283211|       12|                      31|\n",
      "| 10023283211|       13|                      35|\n",
      "| 10023283211|       14|                      41|\n",
      "| 10023283211|       15|                      37|\n",
      "| 10023283211|       16|                      53|\n",
      "| 10023283211|       17|                      41|\n",
      "| 10023283211|       18|                      58|\n",
      "| 10023283211|       19|                      49|\n",
      "| 10023283211|       20|                      55|\n",
      "| 10023283211|       21|                      45|\n",
      "| 10142254217|        1|                       0|\n",
      "| 10142254217|        2|                      27|\n",
      "| 10142254217|        3|                      23|\n",
      "| 10142254217|        4|                      33|\n",
      "| 10142254217|        5|                      35|\n",
      "| 10142254217|        6|                      34|\n",
      "| 10142254217|        7|                      35|\n",
      "| 10142254217|        8|                      38|\n",
      "| 10142254217|        9|                      37|\n",
      "| 10142254217|       10|                      49|\n",
      "| 10142254217|       11|                      56|\n",
      "| 10142254217|       12|                      26|\n",
      "| 10142254217|       13|                      36|\n",
      "| 10142254217|       14|                      44|\n",
      "| 10142254217|       15|                      47|\n",
      "| 10142254217|       16|                      31|\n",
      "| 10142254217|       17|                      38|\n",
      "| 10142254217|       18|                      42|\n",
      "| 10142254217|       19|                      55|\n",
      "| 10142254217|       20|                      30|\n",
      "| 10142254217|       21|                      56|\n",
      "| 10165489824|        1|                       0|\n",
      "| 10165489824|        2|                       0|\n",
      "| 10165489824|        3|                       0|\n",
      "| 10165489824|        4|                       0|\n",
      "| 10165489824|        5|                       0|\n",
      "| 10165489824|        6|                       0|\n",
      "| 10165489824|        7|                       0|\n",
      "| 10165489824|        8|                       0|\n",
      "| 10165489824|        9|                       0|\n",
      "| 10165489824|       10|                       0|\n",
      "| 10165489824|       11|                       0|\n",
      "| 10165489824|       12|                       0|\n",
      "| 10165489824|       13|                       0|\n",
      "| 10165489824|       14|                       0|\n",
      "| 10165489824|       15|                       0|\n",
      "| 10165489824|       16|                       0|\n",
      "| 10165489824|       17|                       0|\n",
      "| 10165489824|       18|                       0|\n",
      "+------------+---------+------------------------+\n",
      "only showing top 60 rows\n",
      "\n"
     ]
    }
   ],
   "source": [
    "modeldf.sort('merchant_abn', 'int_month').show(60)"
   ]
  },
  {
   "cell_type": "markdown",
   "metadata": {},
   "source": [
    "To determine the number of lags that are used, we build autocorrelation plots to determine the correlation between lags of the  monthly middle customers feature. Note that these plots need to be created for an individual merchant, hence the code below chooses 5 random merchants (can uncomment the setting of the seed for this to becompletely randomised), and builds autocorrelation plots."
   ]
  },
  {
   "cell_type": "code",
   "execution_count": 9,
   "metadata": {},
   "outputs": [
    {
     "name": "stderr",
     "output_type": "stream",
     "text": [
      "                                                                                \r"
     ]
    }
   ],
   "source": [
    "df = modeldf.toPandas()"
   ]
  },
  {
   "cell_type": "code",
   "execution_count": 10,
   "metadata": {},
   "outputs": [
    {
     "data": {
      "text/html": [
       "<div>\n",
       "<style scoped>\n",
       "    .dataframe tbody tr th:only-of-type {\n",
       "        vertical-align: middle;\n",
       "    }\n",
       "\n",
       "    .dataframe tbody tr th {\n",
       "        vertical-align: top;\n",
       "    }\n",
       "\n",
       "    .dataframe thead th {\n",
       "        text-align: right;\n",
       "    }\n",
       "</style>\n",
       "<table border=\"1\" class=\"dataframe\">\n",
       "  <thead>\n",
       "    <tr style=\"text-align: right;\">\n",
       "      <th></th>\n",
       "      <th>merchant_abn</th>\n",
       "      <th>int_month</th>\n",
       "      <th>monthly_middle_customers</th>\n",
       "      <th>10023283211</th>\n",
       "      <th>10142254217</th>\n",
       "      <th>10165489824</th>\n",
       "      <th>10187291046</th>\n",
       "      <th>10192359162</th>\n",
       "      <th>10206519221</th>\n",
       "      <th>10255988167</th>\n",
       "      <th>...</th>\n",
       "      <th>99803748393</th>\n",
       "      <th>99807059634</th>\n",
       "      <th>99845294286</th>\n",
       "      <th>99861963809</th>\n",
       "      <th>99904689266</th>\n",
       "      <th>99938978285</th>\n",
       "      <th>99974311662</th>\n",
       "      <th>99976658299</th>\n",
       "      <th>99987905597</th>\n",
       "      <th>99990536339</th>\n",
       "    </tr>\n",
       "  </thead>\n",
       "  <tbody>\n",
       "    <tr>\n",
       "      <th>0</th>\n",
       "      <td>38700038932</td>\n",
       "      <td>11</td>\n",
       "      <td>101</td>\n",
       "      <td>0</td>\n",
       "      <td>0</td>\n",
       "      <td>0</td>\n",
       "      <td>0</td>\n",
       "      <td>0</td>\n",
       "      <td>0</td>\n",
       "      <td>0</td>\n",
       "      <td>...</td>\n",
       "      <td>0</td>\n",
       "      <td>0</td>\n",
       "      <td>0</td>\n",
       "      <td>0</td>\n",
       "      <td>0</td>\n",
       "      <td>0</td>\n",
       "      <td>0</td>\n",
       "      <td>0</td>\n",
       "      <td>0</td>\n",
       "      <td>0</td>\n",
       "    </tr>\n",
       "    <tr>\n",
       "      <th>1</th>\n",
       "      <td>35344855546</td>\n",
       "      <td>19</td>\n",
       "      <td>20</td>\n",
       "      <td>0</td>\n",
       "      <td>0</td>\n",
       "      <td>0</td>\n",
       "      <td>0</td>\n",
       "      <td>0</td>\n",
       "      <td>0</td>\n",
       "      <td>0</td>\n",
       "      <td>...</td>\n",
       "      <td>0</td>\n",
       "      <td>0</td>\n",
       "      <td>0</td>\n",
       "      <td>0</td>\n",
       "      <td>0</td>\n",
       "      <td>0</td>\n",
       "      <td>0</td>\n",
       "      <td>0</td>\n",
       "      <td>0</td>\n",
       "      <td>0</td>\n",
       "    </tr>\n",
       "    <tr>\n",
       "      <th>2</th>\n",
       "      <td>78916025936</td>\n",
       "      <td>13</td>\n",
       "      <td>1</td>\n",
       "      <td>0</td>\n",
       "      <td>0</td>\n",
       "      <td>0</td>\n",
       "      <td>0</td>\n",
       "      <td>0</td>\n",
       "      <td>0</td>\n",
       "      <td>0</td>\n",
       "      <td>...</td>\n",
       "      <td>0</td>\n",
       "      <td>0</td>\n",
       "      <td>0</td>\n",
       "      <td>0</td>\n",
       "      <td>0</td>\n",
       "      <td>0</td>\n",
       "      <td>0</td>\n",
       "      <td>0</td>\n",
       "      <td>0</td>\n",
       "      <td>0</td>\n",
       "    </tr>\n",
       "    <tr>\n",
       "      <th>3</th>\n",
       "      <td>60654402457</td>\n",
       "      <td>5</td>\n",
       "      <td>0</td>\n",
       "      <td>0</td>\n",
       "      <td>0</td>\n",
       "      <td>0</td>\n",
       "      <td>0</td>\n",
       "      <td>0</td>\n",
       "      <td>0</td>\n",
       "      <td>0</td>\n",
       "      <td>...</td>\n",
       "      <td>0</td>\n",
       "      <td>0</td>\n",
       "      <td>0</td>\n",
       "      <td>0</td>\n",
       "      <td>0</td>\n",
       "      <td>0</td>\n",
       "      <td>0</td>\n",
       "      <td>0</td>\n",
       "      <td>0</td>\n",
       "      <td>0</td>\n",
       "    </tr>\n",
       "    <tr>\n",
       "      <th>4</th>\n",
       "      <td>37470904997</td>\n",
       "      <td>14</td>\n",
       "      <td>0</td>\n",
       "      <td>0</td>\n",
       "      <td>0</td>\n",
       "      <td>0</td>\n",
       "      <td>0</td>\n",
       "      <td>0</td>\n",
       "      <td>0</td>\n",
       "      <td>0</td>\n",
       "      <td>...</td>\n",
       "      <td>0</td>\n",
       "      <td>0</td>\n",
       "      <td>0</td>\n",
       "      <td>0</td>\n",
       "      <td>0</td>\n",
       "      <td>0</td>\n",
       "      <td>0</td>\n",
       "      <td>0</td>\n",
       "      <td>0</td>\n",
       "      <td>0</td>\n",
       "    </tr>\n",
       "    <tr>\n",
       "      <th>...</th>\n",
       "      <td>...</td>\n",
       "      <td>...</td>\n",
       "      <td>...</td>\n",
       "      <td>...</td>\n",
       "      <td>...</td>\n",
       "      <td>...</td>\n",
       "      <td>...</td>\n",
       "      <td>...</td>\n",
       "      <td>...</td>\n",
       "      <td>...</td>\n",
       "      <td>...</td>\n",
       "      <td>...</td>\n",
       "      <td>...</td>\n",
       "      <td>...</td>\n",
       "      <td>...</td>\n",
       "      <td>...</td>\n",
       "      <td>...</td>\n",
       "      <td>...</td>\n",
       "      <td>...</td>\n",
       "      <td>...</td>\n",
       "      <td>...</td>\n",
       "    </tr>\n",
       "    <tr>\n",
       "      <th>84373</th>\n",
       "      <td>72064300998</td>\n",
       "      <td>5</td>\n",
       "      <td>1</td>\n",
       "      <td>0</td>\n",
       "      <td>0</td>\n",
       "      <td>0</td>\n",
       "      <td>0</td>\n",
       "      <td>0</td>\n",
       "      <td>0</td>\n",
       "      <td>0</td>\n",
       "      <td>...</td>\n",
       "      <td>0</td>\n",
       "      <td>0</td>\n",
       "      <td>0</td>\n",
       "      <td>0</td>\n",
       "      <td>0</td>\n",
       "      <td>0</td>\n",
       "      <td>0</td>\n",
       "      <td>0</td>\n",
       "      <td>0</td>\n",
       "      <td>0</td>\n",
       "    </tr>\n",
       "    <tr>\n",
       "      <th>84374</th>\n",
       "      <td>29623808496</td>\n",
       "      <td>21</td>\n",
       "      <td>0</td>\n",
       "      <td>0</td>\n",
       "      <td>0</td>\n",
       "      <td>0</td>\n",
       "      <td>0</td>\n",
       "      <td>0</td>\n",
       "      <td>0</td>\n",
       "      <td>0</td>\n",
       "      <td>...</td>\n",
       "      <td>0</td>\n",
       "      <td>0</td>\n",
       "      <td>0</td>\n",
       "      <td>0</td>\n",
       "      <td>0</td>\n",
       "      <td>0</td>\n",
       "      <td>0</td>\n",
       "      <td>0</td>\n",
       "      <td>0</td>\n",
       "      <td>0</td>\n",
       "    </tr>\n",
       "    <tr>\n",
       "      <th>84375</th>\n",
       "      <td>47047735645</td>\n",
       "      <td>7</td>\n",
       "      <td>0</td>\n",
       "      <td>0</td>\n",
       "      <td>0</td>\n",
       "      <td>0</td>\n",
       "      <td>0</td>\n",
       "      <td>0</td>\n",
       "      <td>0</td>\n",
       "      <td>0</td>\n",
       "      <td>...</td>\n",
       "      <td>0</td>\n",
       "      <td>0</td>\n",
       "      <td>0</td>\n",
       "      <td>0</td>\n",
       "      <td>0</td>\n",
       "      <td>0</td>\n",
       "      <td>0</td>\n",
       "      <td>0</td>\n",
       "      <td>0</td>\n",
       "      <td>0</td>\n",
       "    </tr>\n",
       "    <tr>\n",
       "      <th>84376</th>\n",
       "      <td>39700611505</td>\n",
       "      <td>15</td>\n",
       "      <td>0</td>\n",
       "      <td>0</td>\n",
       "      <td>0</td>\n",
       "      <td>0</td>\n",
       "      <td>0</td>\n",
       "      <td>0</td>\n",
       "      <td>0</td>\n",
       "      <td>0</td>\n",
       "      <td>...</td>\n",
       "      <td>0</td>\n",
       "      <td>0</td>\n",
       "      <td>0</td>\n",
       "      <td>0</td>\n",
       "      <td>0</td>\n",
       "      <td>0</td>\n",
       "      <td>0</td>\n",
       "      <td>0</td>\n",
       "      <td>0</td>\n",
       "      <td>0</td>\n",
       "    </tr>\n",
       "    <tr>\n",
       "      <th>84377</th>\n",
       "      <td>22019281430</td>\n",
       "      <td>2</td>\n",
       "      <td>0</td>\n",
       "      <td>0</td>\n",
       "      <td>0</td>\n",
       "      <td>0</td>\n",
       "      <td>0</td>\n",
       "      <td>0</td>\n",
       "      <td>0</td>\n",
       "      <td>0</td>\n",
       "      <td>...</td>\n",
       "      <td>0</td>\n",
       "      <td>0</td>\n",
       "      <td>0</td>\n",
       "      <td>0</td>\n",
       "      <td>0</td>\n",
       "      <td>0</td>\n",
       "      <td>0</td>\n",
       "      <td>0</td>\n",
       "      <td>0</td>\n",
       "      <td>0</td>\n",
       "    </tr>\n",
       "  </tbody>\n",
       "</table>\n",
       "<p>84378 rows × 4021 columns</p>\n",
       "</div>"
      ],
      "text/plain": [
       "       merchant_abn  int_month  monthly_middle_customers  10023283211  \\\n",
       "0       38700038932         11                       101            0   \n",
       "1       35344855546         19                        20            0   \n",
       "2       78916025936         13                         1            0   \n",
       "3       60654402457          5                         0            0   \n",
       "4       37470904997         14                         0            0   \n",
       "...             ...        ...                       ...          ...   \n",
       "84373   72064300998          5                         1            0   \n",
       "84374   29623808496         21                         0            0   \n",
       "84375   47047735645          7                         0            0   \n",
       "84376   39700611505         15                         0            0   \n",
       "84377   22019281430          2                         0            0   \n",
       "\n",
       "       10142254217  10165489824  10187291046  10192359162  10206519221  \\\n",
       "0                0            0            0            0            0   \n",
       "1                0            0            0            0            0   \n",
       "2                0            0            0            0            0   \n",
       "3                0            0            0            0            0   \n",
       "4                0            0            0            0            0   \n",
       "...            ...          ...          ...          ...          ...   \n",
       "84373            0            0            0            0            0   \n",
       "84374            0            0            0            0            0   \n",
       "84375            0            0            0            0            0   \n",
       "84376            0            0            0            0            0   \n",
       "84377            0            0            0            0            0   \n",
       "\n",
       "       10255988167  ...  99803748393  99807059634  99845294286  99861963809  \\\n",
       "0                0  ...            0            0            0            0   \n",
       "1                0  ...            0            0            0            0   \n",
       "2                0  ...            0            0            0            0   \n",
       "3                0  ...            0            0            0            0   \n",
       "4                0  ...            0            0            0            0   \n",
       "...            ...  ...          ...          ...          ...          ...   \n",
       "84373            0  ...            0            0            0            0   \n",
       "84374            0  ...            0            0            0            0   \n",
       "84375            0  ...            0            0            0            0   \n",
       "84376            0  ...            0            0            0            0   \n",
       "84377            0  ...            0            0            0            0   \n",
       "\n",
       "       99904689266  99938978285  99974311662  99976658299  99987905597  \\\n",
       "0                0            0            0            0            0   \n",
       "1                0            0            0            0            0   \n",
       "2                0            0            0            0            0   \n",
       "3                0            0            0            0            0   \n",
       "4                0            0            0            0            0   \n",
       "...            ...          ...          ...          ...          ...   \n",
       "84373            0            0            0            0            0   \n",
       "84374            0            0            0            0            0   \n",
       "84375            0            0            0            0            0   \n",
       "84376            0            0            0            0            0   \n",
       "84377            0            0            0            0            0   \n",
       "\n",
       "       99990536339  \n",
       "0                0  \n",
       "1                0  \n",
       "2                0  \n",
       "3                0  \n",
       "4                0  \n",
       "...            ...  \n",
       "84373            0  \n",
       "84374            0  \n",
       "84375            0  \n",
       "84376            0  \n",
       "84377            0  \n",
       "\n",
       "[84378 rows x 4021 columns]"
      ]
     },
     "execution_count": 10,
     "metadata": {},
     "output_type": "execute_result"
    }
   ],
   "source": [
    "# Perform one hot encoding on merchant abn so that it is treated as categorical in model\n",
    "one_hot = pd.get_dummies(df['merchant_abn'])\n",
    "df = df.join(one_hot)\n",
    "df "
   ]
  },
  {
   "cell_type": "code",
   "execution_count": 11,
   "metadata": {},
   "outputs": [
    {
     "name": "stdout",
     "output_type": "stream",
     "text": [
      "26482181417\n"
     ]
    },
    {
     "data": {
      "image/png": "[encoded data removed]",
      "text/plain": [
       "<Figure size 432x288 with 1 Axes>"
      ]
     },
     "metadata": {
      "needs_background": "light"
     },
     "output_type": "display_data"
    },
    {
     "name": "stdout",
     "output_type": "stream",
     "text": [
      "67797658023\n"
     ]
    },
    {
     "data": {
      "image/png": "[encoded data removed]",
      "text/plain": [
       "<Figure size 432x288 with 1 Axes>"
      ]
     },
     "metadata": {
      "needs_background": "light"
     },
     "output_type": "display_data"
    },
    {
     "name": "stdout",
     "output_type": "stream",
     "text": [
      "14480530534\n"
     ]
    },
    {
     "data": {
      "image/png": "[encoded data removed]",
      "text/plain": [
       "<Figure size 432x288 with 1 Axes>"
      ]
     },
     "metadata": {
      "needs_background": "light"
     },
     "output_type": "display_data"
    },
    {
     "name": "stdout",
     "output_type": "stream",
     "text": [
      "67979471799\n"
     ]
    },
    {
     "data": {
      "image/png": "[encoded data removed]",
      "text/plain": [
       "<Figure size 432x288 with 1 Axes>"
      ]
     },
     "metadata": {
      "needs_background": "light"
     },
     "output_type": "display_data"
    },
    {
     "name": "stdout",
     "output_type": "stream",
     "text": [
      "31686734877\n"
     ]
    },
    {
     "data": {
      "image/png": "[encoded data removed]",
      "text/plain": [
       "<Figure size 432x288 with 1 Axes>"
      ]
     },
     "metadata": {
      "needs_background": "light"
     },
     "output_type": "display_data"
    }
   ],
   "source": [
    "# We plot the autocorrelation for 5 random merchants\n",
    "random.seed(4302022)\n",
    "\n",
    "for i in range(5):\n",
    "    random_merchant = random.sample(merchant_abns.tolist(), 1)[0]\n",
    "    \n",
    "    print(random_merchant)\n",
    "    \n",
    "    filtereddf = df[df[random_merchant] == 1][['int_month', 'monthly_middle_customers']]\n",
    "    filtereddf = filtereddf.sort_values('int_month')\n",
    "    filtereddf = filtereddf['monthly_middle_customers']\n",
    "    \n",
    "    x = pd.plotting.autocorrelation_plot(filtereddf)\n",
    " \n",
    "    x.plot()\n",
    " \n",
    "    plt.show()"
   ]
  },
  {
   "cell_type": "markdown",
   "metadata": {
    "tags": []
   },
   "source": [
    "For the reasons outlined in notebook 4.1, as well as for the sake of consistency, we again utilise 2 lags for this model."
   ]
  },
  {
   "cell_type": "code",
   "execution_count": 12,
   "metadata": {},
   "outputs": [
    {
     "name": "stderr",
     "output_type": "stream",
     "text": [
      "                                                                                \r"
     ]
    },
    {
     "data": {
      "text/html": [
       "<table border='1'>\n",
       "<tr><th>merchant_abn</th><th>int_month</th><th>monthly_middle_customers</th><th>merchant_abn_class</th></tr>\n",
       "<tr><td>38700038932</td><td>11</td><td>101</td><td>1327.0</td></tr>\n",
       "<tr><td>35344855546</td><td>19</td><td>20</td><td>1181.0</td></tr>\n",
       "<tr><td>78916025936</td><td>13</td><td>1</td><td>3108.0</td></tr>\n",
       "<tr><td>60654402457</td><td>5</td><td>0</td><td>2279.0</td></tr>\n",
       "<tr><td>37470904997</td><td>14</td><td>0</td><td>1270.0</td></tr>\n",
       "<tr><td>61867784114</td><td>3</td><td>2</td><td>2323.0</td></tr>\n",
       "<tr><td>46331355995</td><td>7</td><td>30</td><td>1668.0</td></tr>\n",
       "<tr><td>35927874515</td><td>2</td><td>39</td><td>1214.0</td></tr>\n",
       "<tr><td>57093429717</td><td>20</td><td>16</td><td>2145.0</td></tr>\n",
       "<tr><td>14316652139</td><td>8</td><td>2</td><td>190.0</td></tr>\n",
       "<tr><td>60616659469</td><td>6</td><td>5</td><td>2275.0</td></tr>\n",
       "<tr><td>24952685426</td><td>11</td><td>2</td><td>681.0</td></tr>\n",
       "<tr><td>88878493736</td><td>6</td><td>5</td><td>3548.0</td></tr>\n",
       "<tr><td>42270780873</td><td>12</td><td>3</td><td>1482.0</td></tr>\n",
       "<tr><td>43321695302</td><td>19</td><td>92</td><td>1535.0</td></tr>\n",
       "<tr><td>21532935983</td><td>12</td><td>48</td><td>521.0</td></tr>\n",
       "<tr><td>28510201393</td><td>18</td><td>12</td><td>850.0</td></tr>\n",
       "<tr><td>72167534195</td><td>20</td><td>12</td><td>2795.0</td></tr>\n",
       "<tr><td>41027080823</td><td>14</td><td>0</td><td>1418.0</td></tr>\n",
       "<tr><td>83045786081</td><td>14</td><td>4</td><td>3299.0</td></tr>\n",
       "</table>\n",
       "only showing top 20 rows\n"
      ],
      "text/plain": [
       "+------------+---------+------------------------+------------------+\n",
       "|merchant_abn|int_month|monthly_middle_customers|merchant_abn_class|\n",
       "+------------+---------+------------------------+------------------+\n",
       "| 38700038932|       11|                     101|            1327.0|\n",
       "| 35344855546|       19|                      20|            1181.0|\n",
       "| 78916025936|       13|                       1|            3108.0|\n",
       "| 60654402457|        5|                       0|            2279.0|\n",
       "| 37470904997|       14|                       0|            1270.0|\n",
       "| 61867784114|        3|                       2|            2323.0|\n",
       "| 46331355995|        7|                      30|            1668.0|\n",
       "| 35927874515|        2|                      39|            1214.0|\n",
       "| 57093429717|       20|                      16|            2145.0|\n",
       "| 14316652139|        8|                       2|             190.0|\n",
       "| 60616659469|        6|                       5|            2275.0|\n",
       "| 24952685426|       11|                       2|             681.0|\n",
       "| 88878493736|        6|                       5|            3548.0|\n",
       "| 42270780873|       12|                       3|            1482.0|\n",
       "| 43321695302|       19|                      92|            1535.0|\n",
       "| 21532935983|       12|                      48|             521.0|\n",
       "| 28510201393|       18|                      12|             850.0|\n",
       "| 72167534195|       20|                      12|            2795.0|\n",
       "| 41027080823|       14|                       0|            1418.0|\n",
       "| 83045786081|       14|                       4|            3299.0|\n",
       "+------------+---------+------------------------+------------------+\n",
       "only showing top 20 rows"
      ]
     },
     "execution_count": 12,
     "metadata": {},
     "output_type": "execute_result"
    }
   ],
   "source": [
    "# Create new field merchant_abn_class, a number between 0-4017 representing a single merchant_abn \n",
    "indexer = StringIndexer(inputCol='merchant_abn', outputCol='merchant_abn_class')\n",
    "indexer_fitted = indexer.fit(modeldf)\n",
    "modeldf = indexer_fitted.transform(modeldf)\n",
    "modeldf"
   ]
  },
  {
   "cell_type": "code",
   "execution_count": 13,
   "metadata": {},
   "outputs": [
    {
     "name": "stderr",
     "output_type": "stream",
     "text": [
      "                                                                                \r"
     ]
    },
    {
     "data": {
      "text/html": [
       "<table border='1'>\n",
       "<tr><th>merchant_abn</th><th>int_month</th><th>monthly_middle_customers</th><th>merchant_abn_class</th><th>merchant_abn_ohe</th></tr>\n",
       "<tr><td>38700038932</td><td>11</td><td>101</td><td>1327.0</td><td>(4017,[1327],[1.0])</td></tr>\n",
       "<tr><td>35344855546</td><td>19</td><td>20</td><td>1181.0</td><td>(4017,[1181],[1.0])</td></tr>\n",
       "<tr><td>78916025936</td><td>13</td><td>1</td><td>3108.0</td><td>(4017,[3108],[1.0])</td></tr>\n",
       "<tr><td>60654402457</td><td>5</td><td>0</td><td>2279.0</td><td>(4017,[2279],[1.0])</td></tr>\n",
       "<tr><td>37470904997</td><td>14</td><td>0</td><td>1270.0</td><td>(4017,[1270],[1.0])</td></tr>\n",
       "<tr><td>61867784114</td><td>3</td><td>2</td><td>2323.0</td><td>(4017,[2323],[1.0])</td></tr>\n",
       "<tr><td>46331355995</td><td>7</td><td>30</td><td>1668.0</td><td>(4017,[1668],[1.0])</td></tr>\n",
       "<tr><td>35927874515</td><td>2</td><td>39</td><td>1214.0</td><td>(4017,[1214],[1.0])</td></tr>\n",
       "<tr><td>57093429717</td><td>20</td><td>16</td><td>2145.0</td><td>(4017,[2145],[1.0])</td></tr>\n",
       "<tr><td>14316652139</td><td>8</td><td>2</td><td>190.0</td><td>(4017,[190],[1.0])</td></tr>\n",
       "<tr><td>60616659469</td><td>6</td><td>5</td><td>2275.0</td><td>(4017,[2275],[1.0])</td></tr>\n",
       "<tr><td>24952685426</td><td>11</td><td>2</td><td>681.0</td><td>(4017,[681],[1.0])</td></tr>\n",
       "<tr><td>88878493736</td><td>6</td><td>5</td><td>3548.0</td><td>(4017,[3548],[1.0])</td></tr>\n",
       "<tr><td>42270780873</td><td>12</td><td>3</td><td>1482.0</td><td>(4017,[1482],[1.0])</td></tr>\n",
       "<tr><td>43321695302</td><td>19</td><td>92</td><td>1535.0</td><td>(4017,[1535],[1.0])</td></tr>\n",
       "<tr><td>21532935983</td><td>12</td><td>48</td><td>521.0</td><td>(4017,[521],[1.0])</td></tr>\n",
       "<tr><td>28510201393</td><td>18</td><td>12</td><td>850.0</td><td>(4017,[850],[1.0])</td></tr>\n",
       "<tr><td>72167534195</td><td>20</td><td>12</td><td>2795.0</td><td>(4017,[2795],[1.0])</td></tr>\n",
       "<tr><td>41027080823</td><td>14</td><td>0</td><td>1418.0</td><td>(4017,[1418],[1.0])</td></tr>\n",
       "<tr><td>83045786081</td><td>14</td><td>4</td><td>3299.0</td><td>(4017,[3299],[1.0])</td></tr>\n",
       "</table>\n",
       "only showing top 20 rows\n"
      ],
      "text/plain": [
       "+------------+---------+------------------------+------------------+-------------------+\n",
       "|merchant_abn|int_month|monthly_middle_customers|merchant_abn_class|   merchant_abn_ohe|\n",
       "+------------+---------+------------------------+------------------+-------------------+\n",
       "| 38700038932|       11|                     101|            1327.0|(4017,[1327],[1.0])|\n",
       "| 35344855546|       19|                      20|            1181.0|(4017,[1181],[1.0])|\n",
       "| 78916025936|       13|                       1|            3108.0|(4017,[3108],[1.0])|\n",
       "| 60654402457|        5|                       0|            2279.0|(4017,[2279],[1.0])|\n",
       "| 37470904997|       14|                       0|            1270.0|(4017,[1270],[1.0])|\n",
       "| 61867784114|        3|                       2|            2323.0|(4017,[2323],[1.0])|\n",
       "| 46331355995|        7|                      30|            1668.0|(4017,[1668],[1.0])|\n",
       "| 35927874515|        2|                      39|            1214.0|(4017,[1214],[1.0])|\n",
       "| 57093429717|       20|                      16|            2145.0|(4017,[2145],[1.0])|\n",
       "| 14316652139|        8|                       2|             190.0| (4017,[190],[1.0])|\n",
       "| 60616659469|        6|                       5|            2275.0|(4017,[2275],[1.0])|\n",
       "| 24952685426|       11|                       2|             681.0| (4017,[681],[1.0])|\n",
       "| 88878493736|        6|                       5|            3548.0|(4017,[3548],[1.0])|\n",
       "| 42270780873|       12|                       3|            1482.0|(4017,[1482],[1.0])|\n",
       "| 43321695302|       19|                      92|            1535.0|(4017,[1535],[1.0])|\n",
       "| 21532935983|       12|                      48|             521.0| (4017,[521],[1.0])|\n",
       "| 28510201393|       18|                      12|             850.0| (4017,[850],[1.0])|\n",
       "| 72167534195|       20|                      12|            2795.0|(4017,[2795],[1.0])|\n",
       "| 41027080823|       14|                       0|            1418.0|(4017,[1418],[1.0])|\n",
       "| 83045786081|       14|                       4|            3299.0|(4017,[3299],[1.0])|\n",
       "+------------+---------+------------------------+------------------+-------------------+\n",
       "only showing top 20 rows"
      ]
     },
     "execution_count": 13,
     "metadata": {},
     "output_type": "execute_result"
    }
   ],
   "source": [
    "# Complete one hot encoding of merchant_abn\n",
    "encoder = OneHotEncoder(inputCols=['merchant_abn_class'], outputCols=['merchant_abn_ohe'])\n",
    "modeldf = encoder.fit(modeldf).transform(modeldf)\n",
    "modeldf"
   ]
  },
  {
   "cell_type": "code",
   "execution_count": 14,
   "metadata": {},
   "outputs": [
    {
     "name": "stderr",
     "output_type": "stream",
     "text": [
      "                                                                                \r"
     ]
    },
    {
     "name": "stdout",
     "output_type": "stream",
     "text": [
      "+------------+---------+------------------------+------------------+----------------+--------------------------+--------------------------+\n",
      "|merchant_abn|int_month|monthly_middle_customers|merchant_abn_class|merchant_abn_ohe|monthly_middle_customers-1|monthly_middle_customers-2|\n",
      "+------------+---------+------------------------+------------------+----------------+--------------------------+--------------------------+\n",
      "| 10023283211|        1|                       1|               0.0|(4017,[0],[1.0])|                      null|                      null|\n",
      "| 10023283211|        2|                      22|               0.0|(4017,[0],[1.0])|                         1|                      null|\n",
      "| 10023283211|        3|                      35|               0.0|(4017,[0],[1.0])|                        22|                         1|\n",
      "| 10023283211|        4|                      38|               0.0|(4017,[0],[1.0])|                        35|                        22|\n",
      "| 10023283211|        5|                      44|               0.0|(4017,[0],[1.0])|                        38|                        35|\n",
      "| 10023283211|        6|                      44|               0.0|(4017,[0],[1.0])|                        44|                        38|\n",
      "| 10023283211|        7|                      38|               0.0|(4017,[0],[1.0])|                        44|                        44|\n",
      "| 10023283211|        8|                      37|               0.0|(4017,[0],[1.0])|                        38|                        44|\n",
      "| 10023283211|        9|                      45|               0.0|(4017,[0],[1.0])|                        37|                        38|\n",
      "| 10023283211|       10|                      50|               0.0|(4017,[0],[1.0])|                        45|                        37|\n",
      "| 10023283211|       11|                      54|               0.0|(4017,[0],[1.0])|                        50|                        45|\n",
      "| 10023283211|       12|                      31|               0.0|(4017,[0],[1.0])|                        54|                        50|\n",
      "| 10023283211|       13|                      35|               0.0|(4017,[0],[1.0])|                        31|                        54|\n",
      "| 10023283211|       14|                      41|               0.0|(4017,[0],[1.0])|                        35|                        31|\n",
      "| 10023283211|       15|                      37|               0.0|(4017,[0],[1.0])|                        41|                        35|\n",
      "| 10023283211|       16|                      53|               0.0|(4017,[0],[1.0])|                        37|                        41|\n",
      "| 10023283211|       17|                      41|               0.0|(4017,[0],[1.0])|                        53|                        37|\n",
      "| 10023283211|       18|                      58|               0.0|(4017,[0],[1.0])|                        41|                        53|\n",
      "| 10023283211|       19|                      49|               0.0|(4017,[0],[1.0])|                        58|                        41|\n",
      "| 10023283211|       20|                      55|               0.0|(4017,[0],[1.0])|                        49|                        58|\n",
      "| 10023283211|       21|                      45|               0.0|(4017,[0],[1.0])|                        55|                        49|\n",
      "| 10142254217|        1|                       0|               1.0|(4017,[1],[1.0])|                      null|                      null|\n",
      "| 10142254217|        2|                      27|               1.0|(4017,[1],[1.0])|                         0|                      null|\n",
      "| 10142254217|        3|                      23|               1.0|(4017,[1],[1.0])|                        27|                         0|\n",
      "| 10142254217|        4|                      33|               1.0|(4017,[1],[1.0])|                        23|                        27|\n",
      "| 10142254217|        5|                      35|               1.0|(4017,[1],[1.0])|                        33|                        23|\n",
      "| 10142254217|        6|                      34|               1.0|(4017,[1],[1.0])|                        35|                        33|\n",
      "| 10142254217|        7|                      35|               1.0|(4017,[1],[1.0])|                        34|                        35|\n",
      "| 10142254217|        8|                      38|               1.0|(4017,[1],[1.0])|                        35|                        34|\n",
      "| 10142254217|        9|                      37|               1.0|(4017,[1],[1.0])|                        38|                        35|\n",
      "| 10142254217|       10|                      49|               1.0|(4017,[1],[1.0])|                        37|                        38|\n",
      "| 10142254217|       11|                      56|               1.0|(4017,[1],[1.0])|                        49|                        37|\n",
      "| 10142254217|       12|                      26|               1.0|(4017,[1],[1.0])|                        56|                        49|\n",
      "| 10142254217|       13|                      36|               1.0|(4017,[1],[1.0])|                        26|                        56|\n",
      "| 10142254217|       14|                      44|               1.0|(4017,[1],[1.0])|                        36|                        26|\n",
      "| 10142254217|       15|                      47|               1.0|(4017,[1],[1.0])|                        44|                        36|\n",
      "| 10142254217|       16|                      31|               1.0|(4017,[1],[1.0])|                        47|                        44|\n",
      "| 10142254217|       17|                      38|               1.0|(4017,[1],[1.0])|                        31|                        47|\n",
      "| 10142254217|       18|                      42|               1.0|(4017,[1],[1.0])|                        38|                        31|\n",
      "| 10142254217|       19|                      55|               1.0|(4017,[1],[1.0])|                        42|                        38|\n",
      "| 10142254217|       20|                      30|               1.0|(4017,[1],[1.0])|                        55|                        42|\n",
      "| 10142254217|       21|                      56|               1.0|(4017,[1],[1.0])|                        30|                        55|\n",
      "| 10165489824|        1|                       0|               2.0|(4017,[2],[1.0])|                      null|                      null|\n",
      "| 10165489824|        2|                       0|               2.0|(4017,[2],[1.0])|                         0|                      null|\n",
      "| 10165489824|        3|                       0|               2.0|(4017,[2],[1.0])|                         0|                         0|\n",
      "| 10165489824|        4|                       0|               2.0|(4017,[2],[1.0])|                         0|                         0|\n",
      "| 10165489824|        5|                       0|               2.0|(4017,[2],[1.0])|                         0|                         0|\n",
      "| 10165489824|        6|                       0|               2.0|(4017,[2],[1.0])|                         0|                         0|\n",
      "| 10165489824|        7|                       0|               2.0|(4017,[2],[1.0])|                         0|                         0|\n",
      "| 10165489824|        8|                       0|               2.0|(4017,[2],[1.0])|                         0|                         0|\n",
      "| 10165489824|        9|                       0|               2.0|(4017,[2],[1.0])|                         0|                         0|\n",
      "| 10165489824|       10|                       0|               2.0|(4017,[2],[1.0])|                         0|                         0|\n",
      "| 10165489824|       11|                       0|               2.0|(4017,[2],[1.0])|                         0|                         0|\n",
      "| 10165489824|       12|                       0|               2.0|(4017,[2],[1.0])|                         0|                         0|\n",
      "| 10165489824|       13|                       0|               2.0|(4017,[2],[1.0])|                         0|                         0|\n",
      "| 10165489824|       14|                       0|               2.0|(4017,[2],[1.0])|                         0|                         0|\n",
      "| 10165489824|       15|                       0|               2.0|(4017,[2],[1.0])|                         0|                         0|\n",
      "| 10165489824|       16|                       0|               2.0|(4017,[2],[1.0])|                         0|                         0|\n",
      "| 10165489824|       17|                       0|               2.0|(4017,[2],[1.0])|                         0|                         0|\n",
      "| 10165489824|       18|                       0|               2.0|(4017,[2],[1.0])|                         0|                         0|\n",
      "+------------+---------+------------------------+------------------+----------------+--------------------------+--------------------------+\n",
      "only showing top 60 rows\n",
      "\n"
     ]
    }
   ],
   "source": [
    "# Create the lagged variables\n",
    "partition = Window.partitionBy(\"merchant_abn\").orderBy(\"int_month\")\n",
    "modeldf = modeldf.withColumn('monthly_middle_customers-1', lag('monthly_middle_customers', 1).over(partition))\n",
    "modeldf = modeldf.withColumn('monthly_middle_customers-2', lag('monthly_middle_customers', 2).over(partition))\n",
    "modeldf.show(60)"
   ]
  },
  {
   "cell_type": "code",
   "execution_count": 15,
   "metadata": {
    "tags": []
   },
   "outputs": [
    {
     "name": "stderr",
     "output_type": "stream",
     "text": [
      "                                                                                \r"
     ]
    },
    {
     "data": {
      "text/plain": [
       "76342"
      ]
     },
     "execution_count": 15,
     "metadata": {},
     "output_type": "execute_result"
    }
   ],
   "source": [
    "# Remove the months without valid lagged variables\n",
    "modeldf = modeldf.na.drop()\n",
    "modeldf.count()"
   ]
  },
  {
   "cell_type": "markdown",
   "metadata": {},
   "source": [
    "Now we build our time series regression model, with our testing data being the final 3 months of the dataset."
   ]
  },
  {
   "cell_type": "code",
   "execution_count": 16,
   "metadata": {},
   "outputs": [
    {
     "name": "stderr",
     "output_type": "stream",
     "text": [
      "                                                                                \r"
     ]
    },
    {
     "data": {
      "text/html": [
       "<table border='1'>\n",
       "<tr><th>merchant_abn</th><th>int_month</th><th>monthly_middle_customers</th><th>merchant_abn_class</th><th>merchant_abn_ohe</th><th>monthly_middle_customers-1</th><th>monthly_middle_customers-2</th><th>features</th></tr>\n",
       "<tr><td>10023283211</td><td>3</td><td>35</td><td>0.0</td><td>(4017,[0],[1.0])</td><td>22</td><td>1</td><td>(4020,[0,4017,401...</td></tr>\n",
       "<tr><td>10023283211</td><td>4</td><td>38</td><td>0.0</td><td>(4017,[0],[1.0])</td><td>35</td><td>22</td><td>(4020,[0,4017,401...</td></tr>\n",
       "<tr><td>10023283211</td><td>5</td><td>44</td><td>0.0</td><td>(4017,[0],[1.0])</td><td>38</td><td>35</td><td>(4020,[0,4017,401...</td></tr>\n",
       "<tr><td>10023283211</td><td>6</td><td>44</td><td>0.0</td><td>(4017,[0],[1.0])</td><td>44</td><td>38</td><td>(4020,[0,4017,401...</td></tr>\n",
       "<tr><td>10023283211</td><td>7</td><td>38</td><td>0.0</td><td>(4017,[0],[1.0])</td><td>44</td><td>44</td><td>(4020,[0,4017,401...</td></tr>\n",
       "<tr><td>10023283211</td><td>8</td><td>37</td><td>0.0</td><td>(4017,[0],[1.0])</td><td>38</td><td>44</td><td>(4020,[0,4017,401...</td></tr>\n",
       "<tr><td>10023283211</td><td>9</td><td>45</td><td>0.0</td><td>(4017,[0],[1.0])</td><td>37</td><td>38</td><td>(4020,[0,4017,401...</td></tr>\n",
       "<tr><td>10023283211</td><td>10</td><td>50</td><td>0.0</td><td>(4017,[0],[1.0])</td><td>45</td><td>37</td><td>(4020,[0,4017,401...</td></tr>\n",
       "<tr><td>10023283211</td><td>11</td><td>54</td><td>0.0</td><td>(4017,[0],[1.0])</td><td>50</td><td>45</td><td>(4020,[0,4017,401...</td></tr>\n",
       "<tr><td>10023283211</td><td>12</td><td>31</td><td>0.0</td><td>(4017,[0],[1.0])</td><td>54</td><td>50</td><td>(4020,[0,4017,401...</td></tr>\n",
       "<tr><td>10023283211</td><td>13</td><td>35</td><td>0.0</td><td>(4017,[0],[1.0])</td><td>31</td><td>54</td><td>(4020,[0,4017,401...</td></tr>\n",
       "<tr><td>10023283211</td><td>14</td><td>41</td><td>0.0</td><td>(4017,[0],[1.0])</td><td>35</td><td>31</td><td>(4020,[0,4017,401...</td></tr>\n",
       "<tr><td>10023283211</td><td>15</td><td>37</td><td>0.0</td><td>(4017,[0],[1.0])</td><td>41</td><td>35</td><td>(4020,[0,4017,401...</td></tr>\n",
       "<tr><td>10023283211</td><td>16</td><td>53</td><td>0.0</td><td>(4017,[0],[1.0])</td><td>37</td><td>41</td><td>(4020,[0,4017,401...</td></tr>\n",
       "<tr><td>10023283211</td><td>17</td><td>41</td><td>0.0</td><td>(4017,[0],[1.0])</td><td>53</td><td>37</td><td>(4020,[0,4017,401...</td></tr>\n",
       "<tr><td>10023283211</td><td>18</td><td>58</td><td>0.0</td><td>(4017,[0],[1.0])</td><td>41</td><td>53</td><td>(4020,[0,4017,401...</td></tr>\n",
       "<tr><td>10142254217</td><td>3</td><td>23</td><td>1.0</td><td>(4017,[1],[1.0])</td><td>27</td><td>0</td><td>(4020,[1,4017,401...</td></tr>\n",
       "<tr><td>10142254217</td><td>4</td><td>33</td><td>1.0</td><td>(4017,[1],[1.0])</td><td>23</td><td>27</td><td>(4020,[1,4017,401...</td></tr>\n",
       "<tr><td>10142254217</td><td>5</td><td>35</td><td>1.0</td><td>(4017,[1],[1.0])</td><td>33</td><td>23</td><td>(4020,[1,4017,401...</td></tr>\n",
       "<tr><td>10142254217</td><td>6</td><td>34</td><td>1.0</td><td>(4017,[1],[1.0])</td><td>35</td><td>33</td><td>(4020,[1,4017,401...</td></tr>\n",
       "</table>\n",
       "only showing top 20 rows\n"
      ],
      "text/plain": [
       "+------------+---------+------------------------+------------------+----------------+--------------------------+--------------------------+--------------------+\n",
       "|merchant_abn|int_month|monthly_middle_customers|merchant_abn_class|merchant_abn_ohe|monthly_middle_customers-1|monthly_middle_customers-2|            features|\n",
       "+------------+---------+------------------------+------------------+----------------+--------------------------+--------------------------+--------------------+\n",
       "| 10023283211|        3|                      35|               0.0|(4017,[0],[1.0])|                        22|                         1|(4020,[0,4017,401...|\n",
       "| 10023283211|        4|                      38|               0.0|(4017,[0],[1.0])|                        35|                        22|(4020,[0,4017,401...|\n",
       "| 10023283211|        5|                      44|               0.0|(4017,[0],[1.0])|                        38|                        35|(4020,[0,4017,401...|\n",
       "| 10023283211|        6|                      44|               0.0|(4017,[0],[1.0])|                        44|                        38|(4020,[0,4017,401...|\n",
       "| 10023283211|        7|                      38|               0.0|(4017,[0],[1.0])|                        44|                        44|(4020,[0,4017,401...|\n",
       "| 10023283211|        8|                      37|               0.0|(4017,[0],[1.0])|                        38|                        44|(4020,[0,4017,401...|\n",
       "| 10023283211|        9|                      45|               0.0|(4017,[0],[1.0])|                        37|                        38|(4020,[0,4017,401...|\n",
       "| 10023283211|       10|                      50|               0.0|(4017,[0],[1.0])|                        45|                        37|(4020,[0,4017,401...|\n",
       "| 10023283211|       11|                      54|               0.0|(4017,[0],[1.0])|                        50|                        45|(4020,[0,4017,401...|\n",
       "| 10023283211|       12|                      31|               0.0|(4017,[0],[1.0])|                        54|                        50|(4020,[0,4017,401...|\n",
       "| 10023283211|       13|                      35|               0.0|(4017,[0],[1.0])|                        31|                        54|(4020,[0,4017,401...|\n",
       "| 10023283211|       14|                      41|               0.0|(4017,[0],[1.0])|                        35|                        31|(4020,[0,4017,401...|\n",
       "| 10023283211|       15|                      37|               0.0|(4017,[0],[1.0])|                        41|                        35|(4020,[0,4017,401...|\n",
       "| 10023283211|       16|                      53|               0.0|(4017,[0],[1.0])|                        37|                        41|(4020,[0,4017,401...|\n",
       "| 10023283211|       17|                      41|               0.0|(4017,[0],[1.0])|                        53|                        37|(4020,[0,4017,401...|\n",
       "| 10023283211|       18|                      58|               0.0|(4017,[0],[1.0])|                        41|                        53|(4020,[0,4017,401...|\n",
       "| 10142254217|        3|                      23|               1.0|(4017,[1],[1.0])|                        27|                         0|(4020,[1,4017,401...|\n",
       "| 10142254217|        4|                      33|               1.0|(4017,[1],[1.0])|                        23|                        27|(4020,[1,4017,401...|\n",
       "| 10142254217|        5|                      35|               1.0|(4017,[1],[1.0])|                        33|                        23|(4020,[1,4017,401...|\n",
       "| 10142254217|        6|                      34|               1.0|(4017,[1],[1.0])|                        35|                        33|(4020,[1,4017,401...|\n",
       "+------------+---------+------------------------+------------------+----------------+--------------------------+--------------------------+--------------------+\n",
       "only showing top 20 rows"
      ]
     },
     "execution_count": 16,
     "metadata": {},
     "output_type": "execute_result"
    }
   ],
   "source": [
    "SPLIT_MONTH = 18\n",
    "\n",
    "# Prepare a features column for the model\n",
    "vecAssembler = VectorAssembler(inputCols=['merchant_abn_ohe', 'int_month', \n",
    "                                          'monthly_middle_customers-1', \n",
    "                                          'monthly_middle_customers-2'], \n",
    "                               outputCol='features')\n",
    "\n",
    "# Train test split\n",
    "train = modeldf.filter(col('int_month') <= SPLIT_MONTH)\n",
    "test = modeldf.filter(col('int_month') > SPLIT_MONTH)\n",
    "\n",
    "# Apply transformation to both datasets\n",
    "train = vecAssembler.transform(train)\n",
    "test = vecAssembler.transform(test)\n",
    "train"
   ]
  },
  {
   "cell_type": "code",
   "execution_count": 17,
   "metadata": {},
   "outputs": [
    {
     "name": "stderr",
     "output_type": "stream",
     "text": [
      "                                                                                \r"
     ]
    },
    {
     "name": "stdout",
     "output_type": "stream",
     "text": [
      "22/10/14 17:15:59 WARN Instrumentation: [b8293eb1] regParam is zero, which might cause numerical instability and overfitting.\n"
     ]
    },
    {
     "name": "stderr",
     "output_type": "stream",
     "text": [
      "[Stage 163:>                                                        (0 + 1) / 1]\r"
     ]
    },
    {
     "name": "stdout",
     "output_type": "stream",
     "text": [
      "22/10/14 17:16:00 WARN InstanceBuilder$NativeBLAS: Failed to load implementation from:dev.ludovic.netlib.blas.JNIBLAS\n",
      "22/10/14 17:16:00 WARN InstanceBuilder$NativeBLAS: Failed to load implementation from:dev.ludovic.netlib.blas.ForeignLinkerBLAS\n"
     ]
    },
    {
     "name": "stderr",
     "output_type": "stream",
     "text": [
      "                                                                                \r"
     ]
    },
    {
     "name": "stdout",
     "output_type": "stream",
     "text": [
      "22/10/14 17:16:01 WARN InstanceBuilder$NativeLAPACK: Failed to load implementation from:dev.ludovic.netlib.lapack.JNILAPACK\n"
     ]
    },
    {
     "name": "stderr",
     "output_type": "stream",
     "text": [
      "                                                                                \r"
     ]
    }
   ],
   "source": [
    "# Train model\n",
    "lr = LinearRegression(featuresCol='features', labelCol='monthly_middle_customers')\n",
    "lrModel = lr.fit(train)"
   ]
  },
  {
   "cell_type": "code",
   "execution_count": 18,
   "metadata": {},
   "outputs": [
    {
     "name": "stderr",
     "output_type": "stream",
     "text": [
      "                                                                                \r"
     ]
    },
    {
     "data": {
      "text/html": [
       "<table border='1'>\n",
       "<tr><th>merchant_abn</th><th>int_month</th><th>monthly_middle_customers</th><th>merchant_abn_class</th><th>merchant_abn_ohe</th><th>monthly_middle_customers-1</th><th>monthly_middle_customers-2</th><th>features</th><th>prediction</th></tr>\n",
       "<tr><td>10023283211</td><td>19</td><td>49</td><td>0.0</td><td>(4017,[0],[1.0])</td><td>58</td><td>41</td><td>(4020,[0,4017,401...</td><td>52.815537330623464</td></tr>\n",
       "<tr><td>10023283211</td><td>20</td><td>55</td><td>0.0</td><td>(4017,[0],[1.0])</td><td>49</td><td>58</td><td>(4020,[0,4017,401...</td><td>48.10543339539202</td></tr>\n",
       "<tr><td>10023283211</td><td>21</td><td>45</td><td>0.0</td><td>(4017,[0],[1.0])</td><td>55</td><td>49</td><td>(4020,[0,4017,401...</td><td>51.552494003042504</td></tr>\n",
       "<tr><td>10142254217</td><td>19</td><td>55</td><td>1.0</td><td>(4017,[1],[1.0])</td><td>42</td><td>38</td><td>(4020,[1,4017,401...</td><td>42.108915457572564</td></tr>\n",
       "<tr><td>10142254217</td><td>20</td><td>30</td><td>1.0</td><td>(4017,[1],[1.0])</td><td>55</td><td>42</td><td>(4020,[1,4017,401...</td><td>48.29611587264945</td></tr>\n",
       "<tr><td>10142254217</td><td>21</td><td>56</td><td>1.0</td><td>(4017,[1],[1.0])</td><td>30</td><td>55</td><td>(4020,[1,4017,401...</td><td>36.231645449211875</td></tr>\n",
       "<tr><td>10165489824</td><td>19</td><td>0</td><td>2.0</td><td>(4017,[2],[1.0])</td><td>0</td><td>0</td><td>(4020,[2,4017],[1...</td><td>2.070634103306093</td></tr>\n",
       "<tr><td>10165489824</td><td>20</td><td>0</td><td>2.0</td><td>(4017,[2],[1.0])</td><td>0</td><td>0</td><td>(4020,[2,4017],[1...</td><td>2.314238115459751</td></tr>\n",
       "<tr><td>10165489824</td><td>21</td><td>0</td><td>2.0</td><td>(4017,[2],[1.0])</td><td>0</td><td>0</td><td>(4020,[2,4017],[1...</td><td>2.5578421276134082</td></tr>\n",
       "<tr><td>10187291046</td><td>19</td><td>6</td><td>3.0</td><td>(4017,[3],[1.0])</td><td>4</td><td>3</td><td>(4020,[3,4017,401...</td><td>6.07837382339766</td></tr>\n",
       "<tr><td>10187291046</td><td>20</td><td>4</td><td>3.0</td><td>(4017,[3],[1.0])</td><td>6</td><td>4</td><td>(4020,[3,4017,401...</td><td>7.220056067414248</td></tr>\n",
       "<tr><td>10187291046</td><td>21</td><td>8</td><td>3.0</td><td>(4017,[3],[1.0])</td><td>4</td><td>6</td><td>(4020,[3,4017,401...</td><td>6.438276372727964</td></tr>\n",
       "<tr><td>10192359162</td><td>19</td><td>5</td><td>4.0</td><td>(4017,[4],[1.0])</td><td>8</td><td>2</td><td>(4020,[4,4017,401...</td><td>8.960360652967456</td></tr>\n",
       "<tr><td>10192359162</td><td>20</td><td>6</td><td>4.0</td><td>(4017,[4],[1.0])</td><td>5</td><td>8</td><td>(4020,[4,4017,401...</td><td>7.538583629884188</td></tr>\n",
       "<tr><td>10192359162</td><td>21</td><td>7</td><td>4.0</td><td>(4017,[4],[1.0])</td><td>6</td><td>5</td><td>(4020,[4,4017,401...</td><td>8.379749812109157</td></tr>\n",
       "<tr><td>10206519221</td><td>19</td><td>148</td><td>5.0</td><td>(4017,[5],[1.0])</td><td>129</td><td>114</td><td>(4020,[5,4017,401...</td><td>124.27032429895827</td></tr>\n",
       "<tr><td>10206519221</td><td>20</td><td>151</td><td>5.0</td><td>(4017,[5],[1.0])</td><td>148</td><td>129</td><td>(4020,[5,4017,401...</td><td>132.8122781430186</td></tr>\n",
       "<tr><td>10206519221</td><td>21</td><td>110</td><td>5.0</td><td>(4017,[5],[1.0])</td><td>151</td><td>148</td><td>(4020,[5,4017,401...</td><td>133.66038423226743</td></tr>\n",
       "<tr><td>10255988167</td><td>19</td><td>4</td><td>6.0</td><td>(4017,[6],[1.0])</td><td>11</td><td>7</td><td>(4020,[6,4017,401...</td><td>12.72148127717757</td></tr>\n",
       "<tr><td>10255988167</td><td>20</td><td>9</td><td>6.0</td><td>(4017,[6],[1.0])</td><td>4</td><td>11</td><td>(4020,[6,4017,401...</td><td>9.50354779036844</td></tr>\n",
       "</table>\n",
       "only showing top 20 rows\n"
      ],
      "text/plain": [
       "+------------+---------+------------------------+------------------+----------------+--------------------------+--------------------------+--------------------+------------------+\n",
       "|merchant_abn|int_month|monthly_middle_customers|merchant_abn_class|merchant_abn_ohe|monthly_middle_customers-1|monthly_middle_customers-2|            features|        prediction|\n",
       "+------------+---------+------------------------+------------------+----------------+--------------------------+--------------------------+--------------------+------------------+\n",
       "| 10023283211|       19|                      49|               0.0|(4017,[0],[1.0])|                        58|                        41|(4020,[0,4017,401...|52.815537330623464|\n",
       "| 10023283211|       20|                      55|               0.0|(4017,[0],[1.0])|                        49|                        58|(4020,[0,4017,401...| 48.10543339539202|\n",
       "| 10023283211|       21|                      45|               0.0|(4017,[0],[1.0])|                        55|                        49|(4020,[0,4017,401...|51.552494003042504|\n",
       "| 10142254217|       19|                      55|               1.0|(4017,[1],[1.0])|                        42|                        38|(4020,[1,4017,401...|42.108915457572564|\n",
       "| 10142254217|       20|                      30|               1.0|(4017,[1],[1.0])|                        55|                        42|(4020,[1,4017,401...| 48.29611587264945|\n",
       "| 10142254217|       21|                      56|               1.0|(4017,[1],[1.0])|                        30|                        55|(4020,[1,4017,401...|36.231645449211875|\n",
       "| 10165489824|       19|                       0|               2.0|(4017,[2],[1.0])|                         0|                         0|(4020,[2,4017],[1...| 2.070634103306093|\n",
       "| 10165489824|       20|                       0|               2.0|(4017,[2],[1.0])|                         0|                         0|(4020,[2,4017],[1...| 2.314238115459751|\n",
       "| 10165489824|       21|                       0|               2.0|(4017,[2],[1.0])|                         0|                         0|(4020,[2,4017],[1...|2.5578421276134082|\n",
       "| 10187291046|       19|                       6|               3.0|(4017,[3],[1.0])|                         4|                         3|(4020,[3,4017,401...|  6.07837382339766|\n",
       "| 10187291046|       20|                       4|               3.0|(4017,[3],[1.0])|                         6|                         4|(4020,[3,4017,401...| 7.220056067414248|\n",
       "| 10187291046|       21|                       8|               3.0|(4017,[3],[1.0])|                         4|                         6|(4020,[3,4017,401...| 6.438276372727964|\n",
       "| 10192359162|       19|                       5|               4.0|(4017,[4],[1.0])|                         8|                         2|(4020,[4,4017,401...| 8.960360652967456|\n",
       "| 10192359162|       20|                       6|               4.0|(4017,[4],[1.0])|                         5|                         8|(4020,[4,4017,401...| 7.538583629884188|\n",
       "| 10192359162|       21|                       7|               4.0|(4017,[4],[1.0])|                         6|                         5|(4020,[4,4017,401...| 8.379749812109157|\n",
       "| 10206519221|       19|                     148|               5.0|(4017,[5],[1.0])|                       129|                       114|(4020,[5,4017,401...|124.27032429895827|\n",
       "| 10206519221|       20|                     151|               5.0|(4017,[5],[1.0])|                       148|                       129|(4020,[5,4017,401...| 132.8122781430186|\n",
       "| 10206519221|       21|                     110|               5.0|(4017,[5],[1.0])|                       151|                       148|(4020,[5,4017,401...|133.66038423226743|\n",
       "| 10255988167|       19|                       4|               6.0|(4017,[6],[1.0])|                        11|                         7|(4020,[6,4017,401...| 12.72148127717757|\n",
       "| 10255988167|       20|                       9|               6.0|(4017,[6],[1.0])|                         4|                        11|(4020,[6,4017,401...|  9.50354779036844|\n",
       "+------------+---------+------------------------+------------------+----------------+--------------------------+--------------------------+--------------------+------------------+\n",
       "only showing top 20 rows"
      ]
     },
     "execution_count": 18,
     "metadata": {},
     "output_type": "execute_result"
    }
   ],
   "source": [
    "# Predict values for test data to evaluate model \n",
    "predictions = lrModel.transform(test)\n",
    "predictions"
   ]
  },
  {
   "cell_type": "code",
   "execution_count": 19,
   "metadata": {
    "tags": []
   },
   "outputs": [
    {
     "name": "stderr",
     "output_type": "stream",
     "text": [
      "                                                                                \r"
     ]
    },
    {
     "name": "stdout",
     "output_type": "stream",
     "text": [
      "22/10/14 17:17:04 WARN DAGScheduler: Broadcasting large task binary with size 1369.1 KiB\n"
     ]
    },
    {
     "name": "stderr",
     "output_type": "stream",
     "text": [
      "                                                                                \r"
     ]
    },
    {
     "name": "stdout",
     "output_type": "stream",
     "text": [
      "26482181417\n"
     ]
    },
    {
     "data": {
      "image/png": "[encoded data removed]",
      "text/plain": [
       "<Figure size 432x288 with 1 Axes>"
      ]
     },
     "metadata": {
      "needs_background": "light"
     },
     "output_type": "display_data"
    },
    {
     "name": "stdout",
     "output_type": "stream",
     "text": [
      "67797658023\n"
     ]
    },
    {
     "data": {
      "image/png": "[encoded data removed]",
      "text/plain": [
       "<Figure size 432x288 with 1 Axes>"
      ]
     },
     "metadata": {
      "needs_background": "light"
     },
     "output_type": "display_data"
    },
    {
     "name": "stdout",
     "output_type": "stream",
     "text": [
      "14480530534\n"
     ]
    },
    {
     "data": {
      "image/png": "[encoded data removed]",
      "text/plain": [
       "<Figure size 432x288 with 1 Axes>"
      ]
     },
     "metadata": {
      "needs_background": "light"
     },
     "output_type": "display_data"
    },
    {
     "name": "stdout",
     "output_type": "stream",
     "text": [
      "67979471799\n"
     ]
    },
    {
     "data": {
      "image/png": "[encoded data removed]",
      "text/plain": [
       "<Figure size 432x288 with 1 Axes>"
      ]
     },
     "metadata": {
      "needs_background": "light"
     },
     "output_type": "display_data"
    },
    {
     "name": "stdout",
     "output_type": "stream",
     "text": [
      "31686734877\n"
     ]
    },
    {
     "data": {
      "image/png": "[encoded data removed]",
      "text/plain": [
       "<Figure size 432x288 with 1 Axes>"
      ]
     },
     "metadata": {
      "needs_background": "light"
     },
     "output_type": "display_data"
    }
   ],
   "source": [
    "# Compare predictions and actual values for 5 random merchants\n",
    "random.seed(4302022)\n",
    "\n",
    "dfp = predictions.toPandas()\n",
    "predictions.write.mode(\"overwrite\").parquet(\"../data/curated/medium_customers_predictions.parquet\")\n",
    "X = [19, 20, 21]\n",
    "\n",
    "for i in range(5):\n",
    "    random_merchant = random.sample(merchant_abns.tolist(), 1)[0]\n",
    "    print(random_merchant)\n",
    "    X_axis = np.arange(19, 22)\n",
    "    plt.bar(X_axis - 0.2, dfp[dfp['merchant_abn']==random_merchant][\"monthly_middle_customers\"], 0.4, label = 'Actual')\n",
    "    plt.bar(X_axis + 0.2, dfp[dfp['merchant_abn']==random_merchant][\"prediction\"], 0.4, label = 'Predicted')\n",
    "    plt.legend()\n",
    "    plt.xlabel('month')\n",
    "    plt.ylabel('Middle Customers')\n",
    "    plt.title('Middle Customers')\n",
    "    plt.show()"
   ]
  },
  {
   "cell_type": "code",
   "execution_count": 20,
   "metadata": {
    "tags": []
   },
   "outputs": [
    {
     "name": "stdout",
     "output_type": "stream",
     "text": [
      "5.492855867887573\n"
     ]
    }
   ],
   "source": [
    "print(mae(dfp[\"monthly_middle_customers\"],  dfp[\"prediction\"]))"
   ]
  },
  {
   "cell_type": "markdown",
   "metadata": {
    "tags": []
   },
   "source": [
    "# Simulation"
   ]
  },
  {
   "cell_type": "markdown",
   "metadata": {},
   "source": [
    "Build up predictions until we reach 2023. This needs to be done somewhat manually since we require previous predictions to then be used as lagged variables for the next months predictions. \n",
    "\n",
    "**Expect total run time of the following code to take several minutes.**"
   ]
  },
  {
   "cell_type": "code",
   "execution_count": 21,
   "metadata": {
    "tags": []
   },
   "outputs": [
    {
     "name": "stderr",
     "output_type": "stream",
     "text": [
      "                                                                                \r"
     ]
    },
    {
     "data": {
      "text/html": [
       "<div>\n",
       "<style scoped>\n",
       "    .dataframe tbody tr th:only-of-type {\n",
       "        vertical-align: middle;\n",
       "    }\n",
       "\n",
       "    .dataframe tbody tr th {\n",
       "        vertical-align: top;\n",
       "    }\n",
       "\n",
       "    .dataframe thead th {\n",
       "        text-align: right;\n",
       "    }\n",
       "</style>\n",
       "<table border=\"1\" class=\"dataframe\">\n",
       "  <thead>\n",
       "    <tr style=\"text-align: right;\">\n",
       "      <th></th>\n",
       "      <th>merchant_abn</th>\n",
       "      <th>int_month</th>\n",
       "      <th>prediction</th>\n",
       "      <th>merchant_abn_ohe</th>\n",
       "    </tr>\n",
       "  </thead>\n",
       "  <tbody>\n",
       "    <tr>\n",
       "      <th>0</th>\n",
       "      <td>10023283211</td>\n",
       "      <td>19</td>\n",
       "      <td>52.815537</td>\n",
       "      <td>(1.0, 0.0, 0.0, 0.0, 0.0, 0.0, 0.0, 0.0, 0.0, ...</td>\n",
       "    </tr>\n",
       "    <tr>\n",
       "      <th>1</th>\n",
       "      <td>10023283211</td>\n",
       "      <td>20</td>\n",
       "      <td>48.105433</td>\n",
       "      <td>(1.0, 0.0, 0.0, 0.0, 0.0, 0.0, 0.0, 0.0, 0.0, ...</td>\n",
       "    </tr>\n",
       "    <tr>\n",
       "      <th>2</th>\n",
       "      <td>10023283211</td>\n",
       "      <td>21</td>\n",
       "      <td>51.552494</td>\n",
       "      <td>(1.0, 0.0, 0.0, 0.0, 0.0, 0.0, 0.0, 0.0, 0.0, ...</td>\n",
       "    </tr>\n",
       "    <tr>\n",
       "      <th>3</th>\n",
       "      <td>10142254217</td>\n",
       "      <td>19</td>\n",
       "      <td>42.108915</td>\n",
       "      <td>(0.0, 1.0, 0.0, 0.0, 0.0, 0.0, 0.0, 0.0, 0.0, ...</td>\n",
       "    </tr>\n",
       "    <tr>\n",
       "      <th>4</th>\n",
       "      <td>10142254217</td>\n",
       "      <td>20</td>\n",
       "      <td>48.296116</td>\n",
       "      <td>(0.0, 1.0, 0.0, 0.0, 0.0, 0.0, 0.0, 0.0, 0.0, ...</td>\n",
       "    </tr>\n",
       "    <tr>\n",
       "      <th>...</th>\n",
       "      <td>...</td>\n",
       "      <td>...</td>\n",
       "      <td>...</td>\n",
       "      <td>...</td>\n",
       "    </tr>\n",
       "    <tr>\n",
       "      <th>12049</th>\n",
       "      <td>99987905597</td>\n",
       "      <td>20</td>\n",
       "      <td>4.387130</td>\n",
       "      <td>(0.0, 0.0, 0.0, 0.0, 0.0, 0.0, 0.0, 0.0, 0.0, ...</td>\n",
       "    </tr>\n",
       "    <tr>\n",
       "      <th>12050</th>\n",
       "      <td>99987905597</td>\n",
       "      <td>21</td>\n",
       "      <td>5.999069</td>\n",
       "      <td>(0.0, 0.0, 0.0, 0.0, 0.0, 0.0, 0.0, 0.0, 0.0, ...</td>\n",
       "    </tr>\n",
       "    <tr>\n",
       "      <th>12051</th>\n",
       "      <td>99990536339</td>\n",
       "      <td>19</td>\n",
       "      <td>2.746435</td>\n",
       "      <td>(0.0, 0.0, 0.0, 0.0, 0.0, 0.0, 0.0, 0.0, 0.0, ...</td>\n",
       "    </tr>\n",
       "    <tr>\n",
       "      <th>12052</th>\n",
       "      <td>99990536339</td>\n",
       "      <td>20</td>\n",
       "      <td>2.947604</td>\n",
       "      <td>(0.0, 0.0, 0.0, 0.0, 0.0, 0.0, 0.0, 0.0, 0.0, ...</td>\n",
       "    </tr>\n",
       "    <tr>\n",
       "      <th>12053</th>\n",
       "      <td>99990536339</td>\n",
       "      <td>21</td>\n",
       "      <td>2.720952</td>\n",
       "      <td>(0.0, 0.0, 0.0, 0.0, 0.0, 0.0, 0.0, 0.0, 0.0, ...</td>\n",
       "    </tr>\n",
       "  </tbody>\n",
       "</table>\n",
       "<p>12054 rows × 4 columns</p>\n",
       "</div>"
      ],
      "text/plain": [
       "       merchant_abn  int_month  prediction  \\\n",
       "0       10023283211         19   52.815537   \n",
       "1       10023283211         20   48.105433   \n",
       "2       10023283211         21   51.552494   \n",
       "3       10142254217         19   42.108915   \n",
       "4       10142254217         20   48.296116   \n",
       "...             ...        ...         ...   \n",
       "12049   99987905597         20    4.387130   \n",
       "12050   99987905597         21    5.999069   \n",
       "12051   99990536339         19    2.746435   \n",
       "12052   99990536339         20    2.947604   \n",
       "12053   99990536339         21    2.720952   \n",
       "\n",
       "                                        merchant_abn_ohe  \n",
       "0      (1.0, 0.0, 0.0, 0.0, 0.0, 0.0, 0.0, 0.0, 0.0, ...  \n",
       "1      (1.0, 0.0, 0.0, 0.0, 0.0, 0.0, 0.0, 0.0, 0.0, ...  \n",
       "2      (1.0, 0.0, 0.0, 0.0, 0.0, 0.0, 0.0, 0.0, 0.0, ...  \n",
       "3      (0.0, 1.0, 0.0, 0.0, 0.0, 0.0, 0.0, 0.0, 0.0, ...  \n",
       "4      (0.0, 1.0, 0.0, 0.0, 0.0, 0.0, 0.0, 0.0, 0.0, ...  \n",
       "...                                                  ...  \n",
       "12049  (0.0, 0.0, 0.0, 0.0, 0.0, 0.0, 0.0, 0.0, 0.0, ...  \n",
       "12050  (0.0, 0.0, 0.0, 0.0, 0.0, 0.0, 0.0, 0.0, 0.0, ...  \n",
       "12051  (0.0, 0.0, 0.0, 0.0, 0.0, 0.0, 0.0, 0.0, 0.0, ...  \n",
       "12052  (0.0, 0.0, 0.0, 0.0, 0.0, 0.0, 0.0, 0.0, 0.0, ...  \n",
       "12053  (0.0, 0.0, 0.0, 0.0, 0.0, 0.0, 0.0, 0.0, 0.0, ...  \n",
       "\n",
       "[12054 rows x 4 columns]"
      ]
     },
     "execution_count": 21,
     "metadata": {},
     "output_type": "execute_result"
    }
   ],
   "source": [
    "pdf = predictions.select('merchant_abn', 'int_month', 'prediction', 'merchant_abn_ohe').toPandas()\n",
    "pdf"
   ]
  },
  {
   "cell_type": "code",
   "execution_count": 22,
   "metadata": {},
   "outputs": [],
   "source": [
    "# We build predictions for every merchant, one month at a time \n",
    "records = []\n",
    "for int_month in range(22, 36):\n",
    "    merchant_data = []\n",
    "    \n",
    "    # Build up required information for this month's prediction for all merchants\n",
    "    for m in merchant_abns:\n",
    "        merchant_abn_ohe = pdf.loc[(pdf['merchant_abn']==m) & (pdf['int_month']==21), 'merchant_abn_ohe'].values[0]\n",
    "        merchant_data.append([m, merchant_abn_ohe, int_month, \n",
    "                              float(pdf.loc[(pdf['merchant_abn']==m) & \n",
    "                                            (pdf['int_month']==(int_month-2)), 'prediction'].values[0]),\n",
    "                              float(pdf.loc[(pdf['merchant_abn']==m) & \n",
    "                                            (pdf['int_month']==(int_month-1)), 'prediction'].values[0])])\n",
    "    predictiondf = spark.createDataFrame(merchant_data, \n",
    "                                         schema=['merchant_abn', 'merchant_abn_ohe', 'int_month', 'monthly_middle_customers-1', \n",
    "                                                 'monthly_middle_customers-2'])\n",
    "    \n",
    "    # Now perform the predictions\n",
    "    predictiondf = vecAssembler.transform(predictiondf)\n",
    "    predictiondf = lrModel.transform(predictiondf)\n",
    "    pdf = pd.concat([pdf, predictiondf.select('merchant_abn', 'int_month', 'prediction', 'merchant_abn_ohe').toPandas()])\n",
    "    \n",
    "    # Once we have reached 2023, start storing the predictions\n",
    "    if int_month >= 24:\n",
    "        for m in merchant_abns:\n",
    "            records.append([2021 + (int_month//12), (int_month%12) + 1, m, \n",
    "                            float(pdf.loc[(pdf['merchant_abn']==m) & \n",
    "                                          (pdf['int_month']==(int_month)), 'prediction'].values[0])])"
   ]
  },
  {
   "cell_type": "code",
   "execution_count": 23,
   "metadata": {
    "tags": []
   },
   "outputs": [
    {
     "name": "stderr",
     "output_type": "stream",
     "text": [
      "                                                                                \r"
     ]
    }
   ],
   "source": [
    "future_mcustomers_sdf = spark.createDataFrame(records, schema=['year', 'month', 'merchant_abn', 'total_middle_customers'])\n",
    "\n",
    "future_mcustomers_sdf.write.mode(\"overwrite\").parquet(\"../data/curated/futuremcustomers.parquet/\")"
   ]
  },
  {
   "cell_type": "code",
   "execution_count": null,
   "metadata": {},
   "outputs": [],
   "source": []
  }
 ],
 "metadata": {
  "kernelspec": {
   "display_name": "Python 3 (ipykernel)",
   "language": "python",
   "name": "python3"
  },
  "language_info": {
   "codemirror_mode": {
    "name": "ipython",
    "version": 3
   },
   "file_extension": ".py",
   "mimetype": "text/x-python",
   "name": "python",
   "nbconvert_exporter": "python",
   "pygments_lexer": "ipython3",
   "version": "3.8.10"
  },
  "vscode": {
   "interpreter": {
    "hash": "916dbcbb3f70747c44a77c7bcd40155683ae19c65e1c03b4aa3499c5328201f1"
   }
  }
 },
 "nbformat": 4,
 "nbformat_minor": 4
}
