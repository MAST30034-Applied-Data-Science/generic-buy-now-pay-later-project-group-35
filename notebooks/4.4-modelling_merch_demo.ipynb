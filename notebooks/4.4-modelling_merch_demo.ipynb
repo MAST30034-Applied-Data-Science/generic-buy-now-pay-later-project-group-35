{
 "cells": [
  {
   "cell_type": "code",
   "execution_count": 1,
   "metadata": {},
   "outputs": [
    {
     "name": "stdout",
     "output_type": "stream",
     "text": [
      "22/10/03 21:18:10 WARN Utils: Your hostname, DESKTOP-JJJD94T resolves to a loopback address: 127.0.1.1; using 192.168.180.114 instead (on interface eth0)\n",
      "22/10/03 21:18:10 WARN Utils: Set SPARK_LOCAL_IP if you need to bind to another address\n"
     ]
    },
    {
     "name": "stderr",
     "output_type": "stream",
     "text": [
      "Setting default log level to \"WARN\".\n",
      "To adjust logging level use sc.setLogLevel(newLevel). For SparkR, use setLogLevel(newLevel).\n"
     ]
    },
    {
     "name": "stdout",
     "output_type": "stream",
     "text": [
      "22/10/03 21:18:11 WARN NativeCodeLoader: Unable to load native-hadoop library for your platform... using builtin-java classes where applicable\n"
     ]
    }
   ],
   "source": [
    "from pyspark.sql import SparkSession\n",
    "from pyspark.sql.functions import * \n",
    "import matplotlib.pyplot as plt\n",
    "import pandas as pd\n",
    "import numpy as np\n",
    "from urllib.request import urlretrieve\n",
    "from owslib.wfs import WebFeatureService\n",
    "from dotenv import load_dotenv\n",
    "from pyspark.sql import functions as F\n",
    "from pyspark.sql import Window\n",
    "\n",
    "# Create a spark session\n",
    "spark = (\n",
    "    SparkSession.builder.appName(\"analysis\")\n",
    "    .config(\"spark.sql.repl.eagerEval.enabled\", True) \n",
    "    .config(\"spark.sql.parquet.cacheMetadata\", \"true\")\n",
    "    .config(\"spark.sql.session.timeZone\", \"Etc/UTC\")\n",
    "    .config(\"spark.driver.memory\", \"2g\")\n",
    "    .config(\"spark.executor.memory\", \"6g\")\n",
    "    .getOrCreate()\n",
    ")"
   ]
  },
  {
   "cell_type": "code",
   "execution_count": 2,
   "metadata": {},
   "outputs": [
    {
     "name": "stderr",
     "output_type": "stream",
     "text": [
      "                                                                                \r"
     ]
    },
    {
     "data": {
      "text/html": [
       "<table border='1'>\n",
       "<tr><th>order_datetime</th><th>merchant_abn</th><th>user_id</th><th>postcode</th><th>consumer_id</th><th>dollar_value</th><th>order_id</th><th>state</th><th>gender</th><th>company_name</th><th>tags</th><th>take_rate</th><th>revenue_band</th><th>total_pop</th><th>under10_pop</th><th>adolsc_pop</th><th>yng_adult_pop</th><th>mid_age_pop</th><th>old_pop</th><th>num_earners</th><th>median_age</th><th>median_income</th><th>mean_income</th><th>consumer_fraud_%</th><th>merchant_fraud_%</th></tr>\n",
       "<tr><td>2022-07-13</td><td>49891706470</td><td>22131</td><td>6731</td><td>58911</td><td>25.782245737474312</td><td>90498b80-984f-43c...</td><td>WA</td><td>Male</td><td>Non Vestibulum In...</td><td>tent and awning s...</td><td> 5.80</td><td> a</td><td>8374</td><td>1373</td><td>1185</td><td>2200</td><td>2600</td><td>1016</td><td>2907</td><td>39</td><td>48034</td><td>56306</td><td>0.1</td><td>0.1</td></tr>\n",
       "<tr><td>2021-08-19</td><td>96680767841</td><td>22131</td><td>6731</td><td>58911</td><td>415.9547984625</td><td>829843bc-c571-493...</td><td>WA</td><td>Male</td><td>Ornare Limited</td><td>motor vehicle sup...</td><td> 5.91</td><td> a</td><td>8374</td><td>1373</td><td>1185</td><td>2200</td><td>2600</td><td>1016</td><td>2907</td><td>39</td><td>48034</td><td>56306</td><td>0.1</td><td>0.1</td></tr>\n",
       "<tr><td>2022-07-13</td><td>43186523025</td><td>22131</td><td>6731</td><td>58911</td><td>33.082322196774484</td><td>c12d2520-12c8-40f...</td><td>WA</td><td>Male</td><td>Lorem Ipsum Sodal...</td><td>florists supplies...</td><td> 4.47</td><td> b</td><td>8374</td><td>1373</td><td>1185</td><td>2200</td><td>2600</td><td>1016</td><td>2907</td><td>39</td><td>48034</td><td>56306</td><td>0.1</td><td>0.1</td></tr>\n",
       "<tr><td>2021-08-19</td><td>66370248931</td><td>22131</td><td>6731</td><td>58911</td><td>82.54046571771035</td><td>cc8ac5c5-0dfc-4e1...</td><td>WA</td><td>Male</td><td>Morbi Non PC</td><td>cable, satellite,...</td><td> 3.15</td><td> b</td><td>8374</td><td>1373</td><td>1185</td><td>2200</td><td>2600</td><td>1016</td><td>2907</td><td>39</td><td>48034</td><td>56306</td><td>0.1</td><td>0.1</td></tr>\n",
       "<tr><td>2022-05-06</td><td>89726005175</td><td>22131</td><td>6731</td><td>58911</td><td>58.46693553052902</td><td>b1f179f8-2c15-4f5...</td><td>WA</td><td>Male</td><td>Est Nunc Consulting</td><td>tent and awning s...</td><td> 6.01</td><td> a</td><td>8374</td><td>1373</td><td>1185</td><td>2200</td><td>2600</td><td>1016</td><td>2907</td><td>39</td><td>48034</td><td>56306</td><td>0.1</td><td>0.1</td></tr>\n",
       "</table>\n"
      ],
      "text/plain": [
       "+--------------+------------+-------+--------+-----------+------------------+--------------------+-----+------+--------------------+--------------------+---------+------------+---------+-----------+----------+-------------+-----------+-------+-----------+----------+-------------+-----------+----------------+----------------+\n",
       "|order_datetime|merchant_abn|user_id|postcode|consumer_id|      dollar_value|            order_id|state|gender|        company_name|                tags|take_rate|revenue_band|total_pop|under10_pop|adolsc_pop|yng_adult_pop|mid_age_pop|old_pop|num_earners|median_age|median_income|mean_income|consumer_fraud_%|merchant_fraud_%|\n",
       "+--------------+------------+-------+--------+-----------+------------------+--------------------+-----+------+--------------------+--------------------+---------+------------+---------+-----------+----------+-------------+-----------+-------+-----------+----------+-------------+-----------+----------------+----------------+\n",
       "|    2022-07-13| 49891706470|  22131|    6731|      58911|25.782245737474312|90498b80-984f-43c...|   WA|  Male|Non Vestibulum In...|tent and awning s...|     5.80|           a|     8374|       1373|      1185|         2200|       2600|   1016|       2907|        39|        48034|      56306|             0.1|             0.1|\n",
       "|    2021-08-19| 96680767841|  22131|    6731|      58911|    415.9547984625|829843bc-c571-493...|   WA|  Male|      Ornare Limited|motor vehicle sup...|     5.91|           a|     8374|       1373|      1185|         2200|       2600|   1016|       2907|        39|        48034|      56306|             0.1|             0.1|\n",
       "|    2022-07-13| 43186523025|  22131|    6731|      58911|33.082322196774484|c12d2520-12c8-40f...|   WA|  Male|Lorem Ipsum Sodal...|florists supplies...|     4.47|           b|     8374|       1373|      1185|         2200|       2600|   1016|       2907|        39|        48034|      56306|             0.1|             0.1|\n",
       "|    2021-08-19| 66370248931|  22131|    6731|      58911| 82.54046571771035|cc8ac5c5-0dfc-4e1...|   WA|  Male|        Morbi Non PC|cable, satellite,...|     3.15|           b|     8374|       1373|      1185|         2200|       2600|   1016|       2907|        39|        48034|      56306|             0.1|             0.1|\n",
       "|    2022-05-06| 89726005175|  22131|    6731|      58911| 58.46693553052902|b1f179f8-2c15-4f5...|   WA|  Male| Est Nunc Consulting|tent and awning s...|     6.01|           a|     8374|       1373|      1185|         2200|       2600|   1016|       2907|        39|        48034|      56306|             0.1|             0.1|\n",
       "+--------------+------------+-------+--------+-----------+------------------+--------------------+-----+------+--------------------+--------------------+---------+------------+---------+-----------+----------+-------------+-----------+-------+-----------+----------+-------------+-----------+----------------+----------------+"
      ]
     },
     "execution_count": 2,
     "metadata": {},
     "output_type": "execute_result"
    }
   ],
   "source": [
    "sdf = spark.read.parquet(\"../data/curated/finaldf.parquet/\")\n",
    "sdf.limit(5)"
   ]
  },
  {
   "cell_type": "code",
   "execution_count": 3,
   "metadata": {},
   "outputs": [
    {
     "name": "stdout",
     "output_type": "stream",
     "text": [
      "22/10/03 21:18:32 WARN package: Truncated the string representation of a plan since it was too large. This behavior can be adjusted by setting 'spark.sql.debug.maxToStringFields'.\n"
     ]
    },
    {
     "name": "stderr",
     "output_type": "stream",
     "text": [
      "                                                                                \r"
     ]
    },
    {
     "data": {
      "text/html": [
       "<table border='1'>\n",
       "<tr><th>order_datetime</th><th>merchant_abn</th><th>user_id</th><th>postcode</th><th>consumer_id</th><th>dollar_value</th><th>order_id</th><th>state</th><th>gender</th><th>company_name</th><th>tags</th><th>take_rate</th><th>revenue_band</th><th>total_pop</th><th>under10_pop</th><th>adolsc_pop</th><th>yng_adult_pop</th><th>mid_age_pop</th><th>old_pop</th><th>num_earners</th><th>median_age</th><th>median_income</th><th>mean_income</th><th>consumer_fraud_%</th><th>merchant_fraud_%</th><th>year</th><th>month</th><th>day</th></tr>\n",
       "<tr><td>2022-07-13</td><td>49891706470</td><td>22131</td><td>6731</td><td>58911</td><td>25.782245737474312</td><td>90498b80-984f-43c...</td><td>WA</td><td>Male</td><td>Non Vestibulum In...</td><td>tent and awning s...</td><td> 5.80</td><td> a</td><td>8374</td><td>1373</td><td>1185</td><td>2200</td><td>2600</td><td>1016</td><td>2907</td><td>39</td><td>48034</td><td>56306</td><td>0.1</td><td>0.1</td><td>2022</td><td>7</td><td>13</td></tr>\n",
       "<tr><td>2021-08-19</td><td>96680767841</td><td>22131</td><td>6731</td><td>58911</td><td>415.9547984625</td><td>829843bc-c571-493...</td><td>WA</td><td>Male</td><td>Ornare Limited</td><td>motor vehicle sup...</td><td> 5.91</td><td> a</td><td>8374</td><td>1373</td><td>1185</td><td>2200</td><td>2600</td><td>1016</td><td>2907</td><td>39</td><td>48034</td><td>56306</td><td>0.1</td><td>0.1</td><td>2021</td><td>8</td><td>19</td></tr>\n",
       "<tr><td>2022-07-13</td><td>43186523025</td><td>22131</td><td>6731</td><td>58911</td><td>33.082322196774484</td><td>c12d2520-12c8-40f...</td><td>WA</td><td>Male</td><td>Lorem Ipsum Sodal...</td><td>florists supplies...</td><td> 4.47</td><td> b</td><td>8374</td><td>1373</td><td>1185</td><td>2200</td><td>2600</td><td>1016</td><td>2907</td><td>39</td><td>48034</td><td>56306</td><td>0.1</td><td>0.1</td><td>2022</td><td>7</td><td>13</td></tr>\n",
       "<tr><td>2021-08-19</td><td>66370248931</td><td>22131</td><td>6731</td><td>58911</td><td>82.54046571771035</td><td>cc8ac5c5-0dfc-4e1...</td><td>WA</td><td>Male</td><td>Morbi Non PC</td><td>cable, satellite,...</td><td> 3.15</td><td> b</td><td>8374</td><td>1373</td><td>1185</td><td>2200</td><td>2600</td><td>1016</td><td>2907</td><td>39</td><td>48034</td><td>56306</td><td>0.1</td><td>0.1</td><td>2021</td><td>8</td><td>19</td></tr>\n",
       "<tr><td>2022-05-06</td><td>89726005175</td><td>22131</td><td>6731</td><td>58911</td><td>58.46693553052902</td><td>b1f179f8-2c15-4f5...</td><td>WA</td><td>Male</td><td>Est Nunc Consulting</td><td>tent and awning s...</td><td> 6.01</td><td> a</td><td>8374</td><td>1373</td><td>1185</td><td>2200</td><td>2600</td><td>1016</td><td>2907</td><td>39</td><td>48034</td><td>56306</td><td>0.1</td><td>0.1</td><td>2022</td><td>5</td><td>6</td></tr>\n",
       "</table>\n"
      ],
      "text/plain": [
       "+--------------+------------+-------+--------+-----------+------------------+--------------------+-----+------+--------------------+--------------------+---------+------------+---------+-----------+----------+-------------+-----------+-------+-----------+----------+-------------+-----------+----------------+----------------+----+-----+---+\n",
       "|order_datetime|merchant_abn|user_id|postcode|consumer_id|      dollar_value|            order_id|state|gender|        company_name|                tags|take_rate|revenue_band|total_pop|under10_pop|adolsc_pop|yng_adult_pop|mid_age_pop|old_pop|num_earners|median_age|median_income|mean_income|consumer_fraud_%|merchant_fraud_%|year|month|day|\n",
       "+--------------+------------+-------+--------+-----------+------------------+--------------------+-----+------+--------------------+--------------------+---------+------------+---------+-----------+----------+-------------+-----------+-------+-----------+----------+-------------+-----------+----------------+----------------+----+-----+---+\n",
       "|    2022-07-13| 49891706470|  22131|    6731|      58911|25.782245737474312|90498b80-984f-43c...|   WA|  Male|Non Vestibulum In...|tent and awning s...|     5.80|           a|     8374|       1373|      1185|         2200|       2600|   1016|       2907|        39|        48034|      56306|             0.1|             0.1|2022|    7| 13|\n",
       "|    2021-08-19| 96680767841|  22131|    6731|      58911|    415.9547984625|829843bc-c571-493...|   WA|  Male|      Ornare Limited|motor vehicle sup...|     5.91|           a|     8374|       1373|      1185|         2200|       2600|   1016|       2907|        39|        48034|      56306|             0.1|             0.1|2021|    8| 19|\n",
       "|    2022-07-13| 43186523025|  22131|    6731|      58911|33.082322196774484|c12d2520-12c8-40f...|   WA|  Male|Lorem Ipsum Sodal...|florists supplies...|     4.47|           b|     8374|       1373|      1185|         2200|       2600|   1016|       2907|        39|        48034|      56306|             0.1|             0.1|2022|    7| 13|\n",
       "|    2021-08-19| 66370248931|  22131|    6731|      58911| 82.54046571771035|cc8ac5c5-0dfc-4e1...|   WA|  Male|        Morbi Non PC|cable, satellite,...|     3.15|           b|     8374|       1373|      1185|         2200|       2600|   1016|       2907|        39|        48034|      56306|             0.1|             0.1|2021|    8| 19|\n",
       "|    2022-05-06| 89726005175|  22131|    6731|      58911| 58.46693553052902|b1f179f8-2c15-4f5...|   WA|  Male| Est Nunc Consulting|tent and awning s...|     6.01|           a|     8374|       1373|      1185|         2200|       2600|   1016|       2907|        39|        48034|      56306|             0.1|             0.1|2022|    5|  6|\n",
       "+--------------+------------+-------+--------+-----------+------------------+--------------------+-----+------+--------------------+--------------------+---------+------------+---------+-----------+----------+-------------+-----------+-------+-----------+----------+-------------+-----------+----------------+----------------+----+-----+---+"
      ]
     },
     "execution_count": 3,
     "metadata": {},
     "output_type": "execute_result"
    }
   ],
   "source": [
    "sdf = sdf.withColumns({\n",
    "    \"year\": date_format(col(\"order_datetime\"), \"yyyy\").cast(\"long\"),\n",
    "    \"month\": date_format(col(\"order_datetime\"), \"MM\").cast(\"long\"),\n",
    "    \"day\": date_format(col(\"order_datetime\"), \"dd\").cast(\"long\")\n",
    "})\n",
    "\n",
    "sdf.limit(5)"
   ]
  },
  {
   "cell_type": "code",
   "execution_count": 4,
   "metadata": {},
   "outputs": [
    {
     "name": "stderr",
     "output_type": "stream",
     "text": [
      "                                                                                \r"
     ]
    },
    {
     "data": {
      "text/plain": [
       "20906"
      ]
     },
     "execution_count": 4,
     "metadata": {},
     "output_type": "execute_result"
    }
   ],
   "source": [
    "sdf.select('user_id').distinct().count()"
   ]
  },
  {
   "cell_type": "markdown",
   "metadata": {},
   "source": [
    "20,906 total users"
   ]
  },
  {
   "cell_type": "markdown",
   "metadata": {},
   "source": [
    "Get number of consumers and total number of transactions for each merchant"
   ]
  },
  {
   "cell_type": "code",
   "execution_count": 5,
   "metadata": {},
   "outputs": [
    {
     "name": "stderr",
     "output_type": "stream",
     "text": [
      "                                                                                \r"
     ]
    },
    {
     "data": {
      "text/html": [
       "<table border='1'>\n",
       "<tr><th>merchant_abn</th><th>consumer_count</th><th>transactions_count</th></tr>\n",
       "<tr><td>73256306726</td><td>4045</td><td>4522</td></tr>\n",
       "<tr><td>83412691377</td><td>9338</td><td>12361</td></tr>\n",
       "<tr><td>38700038932</td><td>5080</td><td>5838</td></tr>\n",
       "<tr><td>38986645707</td><td>38</td><td>38</td></tr>\n",
       "<tr><td>12516851436</td><td>183</td><td>183</td></tr>\n",
       "</table>\n"
      ],
      "text/plain": [
       "+------------+--------------+------------------+\n",
       "|merchant_abn|consumer_count|transactions_count|\n",
       "+------------+--------------+------------------+\n",
       "| 73256306726|          4045|              4522|\n",
       "| 83412691377|          9338|             12361|\n",
       "| 38700038932|          5080|              5838|\n",
       "| 38986645707|            38|                38|\n",
       "| 12516851436|           183|               183|\n",
       "+------------+--------------+------------------+"
      ]
     },
     "execution_count": 5,
     "metadata": {},
     "output_type": "execute_result"
    }
   ],
   "source": [
    "sdf.groupBy(\"merchant_abn\").agg(\n",
    "    F.count_distinct(\"consumer_id\").alias(\"consumer_count\"),\n",
    "    F.count(\"consumer_id\").alias(\"transactions_count\")\n",
    ").limit(5)"
   ]
  },
  {
   "cell_type": "markdown",
   "metadata": {},
   "source": [
    "For each merchant, get the postcodes and the number of transactions originating from that postcode"
   ]
  },
  {
   "cell_type": "code",
   "execution_count": 6,
   "metadata": {},
   "outputs": [
    {
     "name": "stderr",
     "output_type": "stream",
     "text": [
      "                                                                                \r"
     ]
    },
    {
     "data": {
      "text/html": [
       "<table border='1'>\n",
       "<tr><th>merchant_abn</th><th>postcode</th><th>count</th></tr>\n",
       "<tr><td>10023283211</td><td>4559</td><td>1</td></tr>\n",
       "<tr><td>10023283211</td><td>5168</td><td>1</td></tr>\n",
       "<tr><td>10023283211</td><td>3415</td><td>2</td></tr>\n",
       "<tr><td>10023283211</td><td>2019</td><td>1</td></tr>\n",
       "<tr><td>10023283211</td><td>6461</td><td>1</td></tr>\n",
       "</table>\n"
      ],
      "text/plain": [
       "+------------+--------+-----+\n",
       "|merchant_abn|postcode|count|\n",
       "+------------+--------+-----+\n",
       "| 10023283211|    4559|    1|\n",
       "| 10023283211|    5168|    1|\n",
       "| 10023283211|    3415|    2|\n",
       "| 10023283211|    2019|    1|\n",
       "| 10023283211|    6461|    1|\n",
       "+------------+--------+-----+"
      ]
     },
     "execution_count": 6,
     "metadata": {},
     "output_type": "execute_result"
    }
   ],
   "source": [
    "merch_postcode = sdf.groupby('merchant_abn', 'postcode').count()\n",
    "merch_postcode.orderBy(\"merchant_abn\").limit(5)"
   ]
  },
  {
   "cell_type": "markdown",
   "metadata": {},
   "source": [
    "For each merchant, get the most frequent postcodes"
   ]
  },
  {
   "cell_type": "code",
   "execution_count": 7,
   "metadata": {},
   "outputs": [
    {
     "name": "stderr",
     "output_type": "stream",
     "text": [
      "                                                                                \r"
     ]
    },
    {
     "data": {
      "text/html": [
       "<table border='1'>\n",
       "<tr><th>merchant_abn</th><th>postcode</th></tr>\n",
       "<tr><td>10023283211</td><td>3275</td></tr>\n",
       "<tr><td>10023283211</td><td>2388</td></tr>\n",
       "<tr><td>10023283211</td><td>5582</td></tr>\n",
       "<tr><td>10342410215</td><td>6237</td></tr>\n",
       "<tr><td>10342410215</td><td>6335</td></tr>\n",
       "</table>\n"
      ],
      "text/plain": [
       "+------------+--------+\n",
       "|merchant_abn|postcode|\n",
       "+------------+--------+\n",
       "| 10023283211|    3275|\n",
       "| 10023283211|    2388|\n",
       "| 10023283211|    5582|\n",
       "| 10342410215|    6237|\n",
       "| 10342410215|    6335|\n",
       "+------------+--------+"
      ]
     },
     "execution_count": 7,
     "metadata": {},
     "output_type": "execute_result"
    }
   ],
   "source": [
    "w = Window.partitionBy('merchant_abn')\n",
    "\n",
    "merch_postcode = merch_postcode \\\n",
    "    .withColumn('maxCount', F.max('count').over(w)) \\\n",
    "    .where(F.col('count') == F.col('maxCount')) \\\n",
    "    .drop('maxCount', 'count')\n",
    "\n",
    "merch_postcode.limit(5)"
   ]
  },
  {
   "cell_type": "code",
   "execution_count": 8,
   "metadata": {},
   "outputs": [
    {
     "data": {
      "text/html": [
       "<table border='1'>\n",
       "<tr><th>postcode</th><th>total_pop</th><th>under10_pop</th><th>adolsc_pop</th><th>yng_adult_pop</th><th>mid_age_pop</th><th>old_pop</th><th>num_earners</th><th>median_age</th><th>median_income</th><th>mean_income</th></tr>\n",
       "<tr><td>0200</td><td>2875</td><td>6</td><td>1528</td><td>1292</td><td>47</td><td>2</td><td>548</td><td>23</td><td>9306</td><td>16835</td></tr>\n",
       "<tr><td>0800</td><td>7679</td><td>474</td><td>325</td><td>3322</td><td>2652</td><td>906</td><td>5909</td><td>33</td><td>60937</td><td>87791</td></tr>\n",
       "<tr><td>0801</td><td>7679</td><td>474</td><td>325</td><td>3322</td><td>2652</td><td>906</td><td>5909</td><td>33</td><td>60937</td><td>87791</td></tr>\n",
       "<tr><td>0804</td><td>2980</td><td>350</td><td>282</td><td>801</td><td>1047</td><td>500</td><td>1873</td><td>40</td><td>75219</td><td>98872</td></tr>\n",
       "<tr><td>0810</td><td>2657</td><td>326</td><td>274</td><td>541</td><td>845</td><td>386</td><td>1479</td><td>39</td><td>58753</td><td>67299</td></tr>\n",
       "</table>\n"
      ],
      "text/plain": [
       "+--------+---------+-----------+----------+-------------+-----------+-------+-----------+----------+-------------+-----------+\n",
       "|postcode|total_pop|under10_pop|adolsc_pop|yng_adult_pop|mid_age_pop|old_pop|num_earners|median_age|median_income|mean_income|\n",
       "+--------+---------+-----------+----------+-------------+-----------+-------+-----------+----------+-------------+-----------+\n",
       "|    0200|     2875|          6|      1528|         1292|         47|      2|        548|        23|         9306|      16835|\n",
       "|    0800|     7679|        474|       325|         3322|       2652|    906|       5909|        33|        60937|      87791|\n",
       "|    0801|     7679|        474|       325|         3322|       2652|    906|       5909|        33|        60937|      87791|\n",
       "|    0804|     2980|        350|       282|          801|       1047|    500|       1873|        40|        75219|      98872|\n",
       "|    0810|     2657|        326|       274|          541|        845|    386|       1479|        39|        58753|      67299|\n",
       "+--------+---------+-----------+----------+-------------+-----------+-------+-----------+----------+-------------+-----------+"
      ]
     },
     "execution_count": 8,
     "metadata": {},
     "output_type": "execute_result"
    }
   ],
   "source": [
    "external_sdf = spark.read.parquet(\"../data/curated/externaldata.parquet/\")\n",
    "external_sdf.limit(5)"
   ]
  },
  {
   "cell_type": "code",
   "execution_count": 9,
   "metadata": {},
   "outputs": [
    {
     "name": "stderr",
     "output_type": "stream",
     "text": [
      "                                                                                \r"
     ]
    },
    {
     "name": "stdout",
     "output_type": "stream",
     "text": [
      "33745\n"
     ]
    },
    {
     "name": "stderr",
     "output_type": "stream",
     "text": [
      "[Stage 90:>                                                         (0 + 8) / 8]\r"
     ]
    },
    {
     "name": "stdout",
     "output_type": "stream",
     "text": [
      "33745\n"
     ]
    },
    {
     "name": "stderr",
     "output_type": "stream",
     "text": [
      "                                                                                \r"
     ]
    }
   ],
   "source": [
    "print(merch_postcode.count())\n",
    "merch_info = merch_postcode.join(external_sdf, \"postcode\")\n",
    "print(merch_info.count())"
   ]
  },
  {
   "cell_type": "code",
   "execution_count": 10,
   "metadata": {},
   "outputs": [
    {
     "name": "stderr",
     "output_type": "stream",
     "text": [
      "                                                                                \r"
     ]
    },
    {
     "data": {
      "text/html": [
       "<table border='1'>\n",
       "<tr><th>postcode</th><th>merchant_abn</th><th>total_pop</th><th>under10_pop</th><th>adolsc_pop</th><th>yng_adult_pop</th><th>mid_age_pop</th><th>old_pop</th><th>num_earners</th><th>median_age</th><th>median_income</th><th>mean_income</th></tr>\n",
       "<tr><td>3275</td><td>10023283211</td><td>9963</td><td>1127</td><td>1317</td><td>1319</td><td>3117</td><td>3083</td><td>5765</td><td>48</td><td>43136</td><td>52080</td></tr>\n",
       "<tr><td>2388</td><td>10023283211</td><td>4656</td><td>629</td><td>601</td><td>751</td><td>1463</td><td>1212</td><td>2656</td><td>46</td><td>43821</td><td>51530</td></tr>\n",
       "<tr><td>5582</td><td>10023283211</td><td>4209</td><td>330</td><td>348</td><td>454</td><td>1176</td><td>1901</td><td>2021</td><td>53</td><td>36420</td><td>46556</td></tr>\n",
       "<tr><td>6237</td><td>10342410215</td><td>3131</td><td>315</td><td>543</td><td>341</td><td>1139</td><td>793</td><td>1915</td><td>47</td><td>47678</td><td>58959</td></tr>\n",
       "<tr><td>6335</td><td>10342410215</td><td>2958</td><td>479</td><td>295</td><td>525</td><td>1014</td><td>645</td><td>1801</td><td>44</td><td>58087</td><td>78139</td></tr>\n",
       "</table>\n"
      ],
      "text/plain": [
       "+--------+------------+---------+-----------+----------+-------------+-----------+-------+-----------+----------+-------------+-----------+\n",
       "|postcode|merchant_abn|total_pop|under10_pop|adolsc_pop|yng_adult_pop|mid_age_pop|old_pop|num_earners|median_age|median_income|mean_income|\n",
       "+--------+------------+---------+-----------+----------+-------------+-----------+-------+-----------+----------+-------------+-----------+\n",
       "|    3275| 10023283211|     9963|       1127|      1317|         1319|       3117|   3083|       5765|        48|        43136|      52080|\n",
       "|    2388| 10023283211|     4656|        629|       601|          751|       1463|   1212|       2656|        46|        43821|      51530|\n",
       "|    5582| 10023283211|     4209|        330|       348|          454|       1176|   1901|       2021|        53|        36420|      46556|\n",
       "|    6237| 10342410215|     3131|        315|       543|          341|       1139|    793|       1915|        47|        47678|      58959|\n",
       "|    6335| 10342410215|     2958|        479|       295|          525|       1014|    645|       1801|        44|        58087|      78139|\n",
       "+--------+------------+---------+-----------+----------+-------------+-----------+-------+-----------+----------+-------------+-----------+"
      ]
     },
     "execution_count": 10,
     "metadata": {},
     "output_type": "execute_result"
    }
   ],
   "source": [
    "merch_info.limit(5)"
   ]
  },
  {
   "cell_type": "code",
   "execution_count": 11,
   "metadata": {},
   "outputs": [
    {
     "name": "stderr",
     "output_type": "stream",
     "text": [
      "                                                                                \r"
     ]
    },
    {
     "data": {
      "text/html": [
       "<table border='1'>\n",
       "<tr><th>merchant_abn</th><th>total_pop</th><th>under10_pop</th><th>adolsc_pop</th><th>yng_adult_pop</th><th>mid_age_pop</th><th>old_pop</th><th>num_earners</th><th>median_age</th><th>median_income</th><th>mean_income</th></tr>\n",
       "<tr><td>10023283211</td><td>6276.0</td><td>695.33</td><td>755.33</td><td>841.33</td><td>1918.67</td><td>2065.33</td><td>3480.67</td><td>49.0</td><td>41125.67</td><td>50055.33</td></tr>\n",
       "<tr><td>10342410215</td><td>4665.67</td><td>534.0</td><td>589.33</td><td>604.0</td><td>1668.0</td><td>1208.0</td><td>2670.33</td><td>46.0</td><td>50693.33</td><td>65035.67</td></tr>\n",
       "<tr><td>10346855916</td><td>11618.86</td><td>1405.29</td><td>1509.57</td><td>1881.0</td><td>3777.14</td><td>3045.86</td><td>5949.71</td><td>46.0</td><td>48571.43</td><td>61045.0</td></tr>\n",
       "<tr><td>10385163239</td><td>26723.0</td><td>2652.0</td><td>2696.0</td><td>3439.0</td><td>7889.0</td><td>10047.0</td><td>4514.0</td><td>43.0</td><td>38060.0</td><td>47392.0</td></tr>\n",
       "<tr><td>10648956813</td><td>7784.0</td><td>772.0</td><td>969.5</td><td>999.0</td><td>2407.0</td><td>2636.5</td><td>4093.5</td><td>47.5</td><td>39231.0</td><td>48572.5</td></tr>\n",
       "</table>\n"
      ],
      "text/plain": [
       "+------------+---------+-----------+----------+-------------+-----------+-------+-----------+----------+-------------+-----------+\n",
       "|merchant_abn|total_pop|under10_pop|adolsc_pop|yng_adult_pop|mid_age_pop|old_pop|num_earners|median_age|median_income|mean_income|\n",
       "+------------+---------+-----------+----------+-------------+-----------+-------+-----------+----------+-------------+-----------+\n",
       "| 10023283211|   6276.0|     695.33|    755.33|       841.33|    1918.67|2065.33|    3480.67|      49.0|     41125.67|   50055.33|\n",
       "| 10342410215|  4665.67|      534.0|    589.33|        604.0|     1668.0| 1208.0|    2670.33|      46.0|     50693.33|   65035.67|\n",
       "| 10346855916| 11618.86|    1405.29|   1509.57|       1881.0|    3777.14|3045.86|    5949.71|      46.0|     48571.43|    61045.0|\n",
       "| 10385163239|  26723.0|     2652.0|    2696.0|       3439.0|     7889.0|10047.0|     4514.0|      43.0|      38060.0|    47392.0|\n",
       "| 10648956813|   7784.0|      772.0|     969.5|        999.0|     2407.0| 2636.5|     4093.5|      47.5|      39231.0|    48572.5|\n",
       "+------------+---------+-----------+----------+-------------+-----------+-------+-----------+----------+-------------+-----------+"
      ]
     },
     "execution_count": 11,
     "metadata": {},
     "output_type": "execute_result"
    }
   ],
   "source": [
    "merch_info = merch_info.groupBy(\"merchant_abn\").agg(\n",
    "    F.round(F.avg(\"total_pop\"), 2).alias(\"total_pop\"),\n",
    "    F.round(F.avg(\"under10_pop\"), 2).alias(\"under10_pop\"),\n",
    "    F.round(F.avg(\"adolsc_pop\"), 2).alias(\"adolsc_pop\"),\n",
    "    F.round(F.avg(\"yng_adult_pop\"), 2).alias(\"yng_adult_pop\"),\n",
    "    F.round(F.avg(\"mid_age_pop\"), 2).alias(\"mid_age_pop\"),\n",
    "    F.round(F.avg(\"old_pop\"), 2).alias(\"old_pop\"),\n",
    "    F.round(F.avg(\"num_earners\"), 2).alias(\"num_earners\"),\n",
    "    F.round(F.avg(\"median_age\"), 2).alias(\"median_age\"),\n",
    "    F.round(F.avg(\"median_income\"), 2).alias(\"median_income\"),\n",
    "    F.round(F.avg(\"mean_income\"), 2).alias(\"mean_income\")\n",
    ")\n",
    "\n",
    "merch_info.limit(5)"
   ]
  }
 ],
 "metadata": {
  "kernelspec": {
   "display_name": "Python 3.8.10 64-bit",
   "language": "python",
   "name": "python3"
  },
  "language_info": {
   "codemirror_mode": {
    "name": "ipython",
    "version": 3
   },
   "file_extension": ".py",
   "mimetype": "text/x-python",
   "name": "python",
   "nbconvert_exporter": "python",
   "pygments_lexer": "ipython3",
   "version": "3.8.10"
  },
  "orig_nbformat": 4,
  "vscode": {
   "interpreter": {
    "hash": "916dbcbb3f70747c44a77c7bcd40155683ae19c65e1c03b4aa3499c5328201f1"
   }
  }
 },
 "nbformat": 4,
 "nbformat_minor": 2
}
