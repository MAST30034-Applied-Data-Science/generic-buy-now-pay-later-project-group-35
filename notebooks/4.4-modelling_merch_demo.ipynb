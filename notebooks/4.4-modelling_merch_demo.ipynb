{
 "cells": [
  {
   "cell_type": "code",
   "execution_count": 1,
   "metadata": {},
   "outputs": [
    {
     "name": "stdout",
     "output_type": "stream",
     "text": [
      "22/10/15 17:30:35 WARN Utils: Your hostname, AryansLaptop resolves to a loopback address: 127.0.1.1; using 172.29.56.17 instead (on interface eth0)\n",
      "22/10/15 17:30:35 WARN Utils: Set SPARK_LOCAL_IP if you need to bind to another address\n"
     ]
    },
    {
     "name": "stderr",
     "output_type": "stream",
     "text": [
      "Setting default log level to \"WARN\".\n",
      "To adjust logging level use sc.setLogLevel(newLevel). For SparkR, use setLogLevel(newLevel).\n"
     ]
    },
    {
     "name": "stdout",
     "output_type": "stream",
     "text": [
      "22/10/15 17:30:36 WARN NativeCodeLoader: Unable to load native-hadoop library for your platform... using builtin-java classes where applicable\n",
      "22/10/15 17:30:37 WARN Utils: Service 'SparkUI' could not bind on port 4040. Attempting port 4041.\n"
     ]
    }
   ],
   "source": [
    "from pyspark.sql import SparkSession\n",
    "from pyspark.sql.functions import * \n",
    "import matplotlib.pyplot as plt\n",
    "import pandas as pd\n",
    "import numpy as np\n",
    "from urllib.request import urlretrieve\n",
    "from owslib.wfs import WebFeatureService\n",
    "from dotenv import load_dotenv\n",
    "from pyspark.sql import functions as F\n",
    "from pyspark.sql import Window\n",
    "\n",
    "# Create a spark session\n",
    "spark = (\n",
    "    SparkSession.builder.appName(\"analysis\")\n",
    "    .config(\"spark.sql.repl.eagerEval.enabled\", True) \n",
    "    .config(\"spark.sql.parquet.cacheMetadata\", \"true\")\n",
    "    .config(\"spark.sql.session.timeZone\", \"Etc/UTC\")\n",
    "    .config(\"spark.driver.memory\", \"2g\")\n",
    "    .config(\"spark.executor.memory\", \"6g\")\n",
    "    .getOrCreate()\n",
    ")"
   ]
  },
  {
   "cell_type": "code",
   "execution_count": 2,
   "metadata": {},
   "outputs": [
    {
     "name": "stderr",
     "output_type": "stream",
     "text": [
      "                                                                                \r"
     ]
    },
    {
     "data": {
      "text/html": [
       "<table border='1'>\n",
       "<tr><th>order_datetime</th><th>merchant_abn</th><th>user_id</th><th>postcode</th><th>consumer_id</th><th>dollar_value</th><th>order_id</th><th>state</th><th>gender</th><th>company_name</th><th>tags</th><th>take_rate</th><th>revenue_band</th><th>total_pop</th><th>under10_pop</th><th>adolsc_pop</th><th>yng_adult_pop</th><th>mid_age_pop</th><th>old_pop</th><th>num_earners</th><th>median_age</th><th>median_income</th><th>mean_income</th><th>consumer_fraud_%</th><th>merchant_fraud_%</th></tr>\n",
       "<tr><td>2021-08-21</td><td>94729574738</td><td>16982</td><td>4821</td><td>23684</td><td>156.3091245999424</td><td>407ce815-54e1-4ae...</td><td>QLD</td><td>Female</td><td>Scelerisque Corpo...</td><td>computer programm...</td><td> 4.51</td><td> b</td><td>3128</td><td>468</td><td>271</td><td>707</td><td>947</td><td>735</td><td>1972</td><td>44</td><td>45102</td><td>50599</td><td>0.1</td><td>0.1</td></tr>\n",
       "<tr><td>2022-04-24</td><td>45572698303</td><td>16982</td><td>4821</td><td>23684</td><td>115.38672513864692</td><td>72160f0d-06c5-432...</td><td>QLD</td><td>Female</td><td>Libero Proin Corp.</td><td>shoe shops</td><td> 3.30</td><td> b</td><td>3128</td><td>468</td><td>271</td><td>707</td><td>947</td><td>735</td><td>1972</td><td>44</td><td>45102</td><td>50599</td><td>0.1</td><td>0.1</td></tr>\n",
       "<tr><td>2021-08-21</td><td>34695415993</td><td>16982</td><td>4821</td><td>23684</td><td>35.730567249104645</td><td>d4524ef6-1f75-4f2...</td><td>QLD</td><td>Female</td><td>Ultrices Vivamus ...</td><td>cable, satellite,...</td><td> 6.02</td><td> a</td><td>3128</td><td>468</td><td>271</td><td>707</td><td>947</td><td>735</td><td>1972</td><td>44</td><td>45102</td><td>50599</td><td>0.1</td><td>0.1</td></tr>\n",
       "<tr><td>2022-04-24</td><td>67400260923</td><td>16982</td><td>4821</td><td>23684</td><td>73.85811747094266</td><td>7acb9a9f-3ef6-4d4...</td><td>QLD</td><td>Female</td><td>Eleifend PC</td><td>computer programm...</td><td> 5.97</td><td> a</td><td>3128</td><td>468</td><td>271</td><td>707</td><td>947</td><td>735</td><td>1972</td><td>44</td><td>45102</td><td>50599</td><td>0.1</td><td>0.1</td></tr>\n",
       "<tr><td>2021-08-19</td><td>86578477987</td><td>16982</td><td>4821</td><td>23684</td><td>41.45540307953735</td><td>e8be544a-a311-432...</td><td>QLD</td><td>Female</td><td>Leo In Consulting</td><td>watch, clock, and...</td><td> 6.43</td><td> a</td><td>3128</td><td>468</td><td>271</td><td>707</td><td>947</td><td>735</td><td>1972</td><td>44</td><td>45102</td><td>50599</td><td>0.1</td><td>0.1</td></tr>\n",
       "</table>\n"
      ],
      "text/plain": [
       "+--------------+------------+-------+--------+-----------+------------------+--------------------+-----+------+--------------------+--------------------+---------+------------+---------+-----------+----------+-------------+-----------+-------+-----------+----------+-------------+-----------+----------------+----------------+\n",
       "|order_datetime|merchant_abn|user_id|postcode|consumer_id|      dollar_value|            order_id|state|gender|        company_name|                tags|take_rate|revenue_band|total_pop|under10_pop|adolsc_pop|yng_adult_pop|mid_age_pop|old_pop|num_earners|median_age|median_income|mean_income|consumer_fraud_%|merchant_fraud_%|\n",
       "+--------------+------------+-------+--------+-----------+------------------+--------------------+-----+------+--------------------+--------------------+---------+------------+---------+-----------+----------+-------------+-----------+-------+-----------+----------+-------------+-----------+----------------+----------------+\n",
       "|    2021-08-21| 94729574738|  16982|    4821|      23684| 156.3091245999424|407ce815-54e1-4ae...|  QLD|Female|Scelerisque Corpo...|computer programm...|     4.51|           b|     3128|        468|       271|          707|        947|    735|       1972|        44|        45102|      50599|             0.1|             0.1|\n",
       "|    2022-04-24| 45572698303|  16982|    4821|      23684|115.38672513864692|72160f0d-06c5-432...|  QLD|Female|  Libero Proin Corp.|          shoe shops|     3.30|           b|     3128|        468|       271|          707|        947|    735|       1972|        44|        45102|      50599|             0.1|             0.1|\n",
       "|    2021-08-21| 34695415993|  16982|    4821|      23684|35.730567249104645|d4524ef6-1f75-4f2...|  QLD|Female|Ultrices Vivamus ...|cable, satellite,...|     6.02|           a|     3128|        468|       271|          707|        947|    735|       1972|        44|        45102|      50599|             0.1|             0.1|\n",
       "|    2022-04-24| 67400260923|  16982|    4821|      23684| 73.85811747094266|7acb9a9f-3ef6-4d4...|  QLD|Female|         Eleifend PC|computer programm...|     5.97|           a|     3128|        468|       271|          707|        947|    735|       1972|        44|        45102|      50599|             0.1|             0.1|\n",
       "|    2021-08-19| 86578477987|  16982|    4821|      23684| 41.45540307953735|e8be544a-a311-432...|  QLD|Female|   Leo In Consulting|watch, clock, and...|     6.43|           a|     3128|        468|       271|          707|        947|    735|       1972|        44|        45102|      50599|             0.1|             0.1|\n",
       "+--------------+------------+-------+--------+-----------+------------------+--------------------+-----+------+--------------------+--------------------+---------+------------+---------+-----------+----------+-------------+-----------+-------+-----------+----------+-------------+-----------+----------------+----------------+"
      ]
     },
     "execution_count": 2,
     "metadata": {},
     "output_type": "execute_result"
    }
   ],
   "source": [
    "sdf = spark.read.parquet(\"../data/curated/finaldf.parquet/\")\n",
    "sdf.limit(5)"
   ]
  },
  {
   "cell_type": "code",
   "execution_count": 3,
   "metadata": {},
   "outputs": [
    {
     "data": {
      "text/plain": [
       "20906"
      ]
     },
     "execution_count": 3,
     "metadata": {},
     "output_type": "execute_result"
    }
   ],
   "source": [
    "sdf.select('consumer_id').distinct().count()"
   ]
  },
  {
   "cell_type": "markdown",
   "metadata": {},
   "source": [
    "20,906 total consumers"
   ]
  },
  {
   "cell_type": "markdown",
   "metadata": {},
   "source": [
    "Get number of consumers and total number of transactions for each merchant"
   ]
  },
  {
   "cell_type": "code",
   "execution_count": 4,
   "metadata": {},
   "outputs": [
    {
     "name": "stderr",
     "output_type": "stream",
     "text": [
      "                                                                                \r"
     ]
    },
    {
     "data": {
      "text/html": [
       "<table border='1'>\n",
       "<tr><th>merchant_abn</th><th>consumer_count</th><th>transactions_count</th></tr>\n",
       "<tr><td>83412691377</td><td>9338</td><td>12361</td></tr>\n",
       "<tr><td>38700038932</td><td>5080</td><td>5838</td></tr>\n",
       "<tr><td>73256306726</td><td>4045</td><td>4522</td></tr>\n",
       "<tr><td>15613631617</td><td>1481</td><td>1540</td></tr>\n",
       "<tr><td>12516851436</td><td>183</td><td>183</td></tr>\n",
       "</table>\n"
      ],
      "text/plain": [
       "+------------+--------------+------------------+\n",
       "|merchant_abn|consumer_count|transactions_count|\n",
       "+------------+--------------+------------------+\n",
       "| 83412691377|          9338|             12361|\n",
       "| 38700038932|          5080|              5838|\n",
       "| 73256306726|          4045|              4522|\n",
       "| 15613631617|          1481|              1540|\n",
       "| 12516851436|           183|               183|\n",
       "+------------+--------------+------------------+"
      ]
     },
     "execution_count": 4,
     "metadata": {},
     "output_type": "execute_result"
    }
   ],
   "source": [
    "merch_info = sdf.groupBy(\"merchant_abn\").agg(\n",
    "    F.count_distinct(\"consumer_id\").alias(\"consumer_count\"),\n",
    "    F.count(\"consumer_id\").alias(\"transactions_count\")\n",
    ")\n",
    "\n",
    "merch_info.limit(5)"
   ]
  },
  {
   "cell_type": "markdown",
   "metadata": {},
   "source": [
    "For each merchant, get the postcodes and the number of transactions originating from that postcode"
   ]
  },
  {
   "cell_type": "code",
   "execution_count": 5,
   "metadata": {},
   "outputs": [
    {
     "name": "stderr",
     "output_type": "stream",
     "text": [
      "                                                                                \r"
     ]
    },
    {
     "data": {
      "text/html": [
       "<table border='1'>\n",
       "<tr><th>merchant_abn</th><th>postcode</th><th>count</th></tr>\n",
       "<tr><td>10023283211</td><td>4566</td><td>2</td></tr>\n",
       "<tr><td>10023283211</td><td>3220</td><td>3</td></tr>\n",
       "<tr><td>10023283211</td><td>1422</td><td>1</td></tr>\n",
       "<tr><td>10023283211</td><td>3099</td><td>2</td></tr>\n",
       "<tr><td>10023283211</td><td>2838</td><td>1</td></tr>\n",
       "</table>\n"
      ],
      "text/plain": [
       "+------------+--------+-----+\n",
       "|merchant_abn|postcode|count|\n",
       "+------------+--------+-----+\n",
       "| 10023283211|    4566|    2|\n",
       "| 10023283211|    3220|    3|\n",
       "| 10023283211|    1422|    1|\n",
       "| 10023283211|    3099|    2|\n",
       "| 10023283211|    2838|    1|\n",
       "+------------+--------+-----+"
      ]
     },
     "execution_count": 5,
     "metadata": {},
     "output_type": "execute_result"
    }
   ],
   "source": [
    "merch_postcode = sdf.groupby('merchant_abn', 'postcode').count()\n",
    "merch_postcode.orderBy(\"merchant_abn\").limit(5)"
   ]
  },
  {
   "cell_type": "markdown",
   "metadata": {},
   "source": [
    "For each merchant, get the most frequent postcodes"
   ]
  },
  {
   "cell_type": "code",
   "execution_count": 6,
   "metadata": {},
   "outputs": [
    {
     "name": "stderr",
     "output_type": "stream",
     "text": [
      "                                                                                \r"
     ]
    },
    {
     "data": {
      "text/html": [
       "<table border='1'>\n",
       "<tr><th>merchant_abn</th><th>postcode</th></tr>\n",
       "<tr><td>10023283211</td><td>2388</td></tr>\n",
       "<tr><td>10023283211</td><td>3275</td></tr>\n",
       "<tr><td>10023283211</td><td>5582</td></tr>\n",
       "<tr><td>10346855916</td><td>5276</td></tr>\n",
       "<tr><td>10346855916</td><td>5291</td></tr>\n",
       "</table>\n"
      ],
      "text/plain": [
       "+------------+--------+\n",
       "|merchant_abn|postcode|\n",
       "+------------+--------+\n",
       "| 10023283211|    2388|\n",
       "| 10023283211|    3275|\n",
       "| 10023283211|    5582|\n",
       "| 10346855916|    5276|\n",
       "| 10346855916|    5291|\n",
       "+------------+--------+"
      ]
     },
     "execution_count": 6,
     "metadata": {},
     "output_type": "execute_result"
    }
   ],
   "source": [
    "w = Window.partitionBy('merchant_abn')\n",
    "\n",
    "merch_postcode = merch_postcode \\\n",
    "    .withColumn('maxCount', F.max('count').over(w)) \\\n",
    "    .where(F.col('count') == F.col('maxCount')) \\\n",
    "    .drop('maxCount', 'count')\n",
    "\n",
    "merch_postcode.limit(5)"
   ]
  },
  {
   "cell_type": "markdown",
   "metadata": {},
   "source": [
    "Join `merch_postcode` with population external data"
   ]
  },
  {
   "cell_type": "code",
   "execution_count": 7,
   "metadata": {},
   "outputs": [
    {
     "data": {
      "text/html": [
       "<table border='1'>\n",
       "<tr><th>postcode</th><th>total_pop</th><th>under10_pop</th><th>adolsc_pop</th><th>yng_adult_pop</th><th>mid_age_pop</th><th>old_pop</th></tr>\n",
       "<tr><td>0200</td><td>2875</td><td>6</td><td>1528</td><td>1292</td><td>47</td><td>2</td></tr>\n",
       "<tr><td>0800</td><td>7679</td><td>474</td><td>325</td><td>3322</td><td>2652</td><td>906</td></tr>\n",
       "<tr><td>0801</td><td>7679</td><td>474</td><td>325</td><td>3322</td><td>2652</td><td>906</td></tr>\n",
       "<tr><td>0804</td><td>2980</td><td>350</td><td>282</td><td>801</td><td>1047</td><td>500</td></tr>\n",
       "<tr><td>0810</td><td>2657</td><td>326</td><td>274</td><td>541</td><td>845</td><td>386</td></tr>\n",
       "</table>\n"
      ],
      "text/plain": [
       "+--------+---------+-----------+----------+-------------+-----------+-------+\n",
       "|postcode|total_pop|under10_pop|adolsc_pop|yng_adult_pop|mid_age_pop|old_pop|\n",
       "+--------+---------+-----------+----------+-------------+-----------+-------+\n",
       "|    0200|     2875|          6|      1528|         1292|         47|      2|\n",
       "|    0800|     7679|        474|       325|         3322|       2652|    906|\n",
       "|    0801|     7679|        474|       325|         3322|       2652|    906|\n",
       "|    0804|     2980|        350|       282|          801|       1047|    500|\n",
       "|    0810|     2657|        326|       274|          541|        845|    386|\n",
       "+--------+---------+-----------+----------+-------------+-----------+-------+"
      ]
     },
     "execution_count": 7,
     "metadata": {},
     "output_type": "execute_result"
    }
   ],
   "source": [
    "external_sdf = spark.read.parquet(\"../data/curated/externaldata.parquet/\")\n",
    "external_sdf = external_sdf.drop(*('num_earners', 'median_age', 'median_income', 'mean_income'))\n",
    "external_sdf.limit(5)"
   ]
  },
  {
   "cell_type": "code",
   "execution_count": 8,
   "metadata": {},
   "outputs": [
    {
     "name": "stderr",
     "output_type": "stream",
     "text": [
      "                                                                                \r"
     ]
    },
    {
     "name": "stdout",
     "output_type": "stream",
     "text": [
      "33745\n"
     ]
    },
    {
     "name": "stderr",
     "output_type": "stream",
     "text": [
      "[Stage 81:===>                                                    (1 + 16) / 17]\r"
     ]
    },
    {
     "name": "stdout",
     "output_type": "stream",
     "text": [
      "33745\n"
     ]
    },
    {
     "name": "stderr",
     "output_type": "stream",
     "text": [
      "                                                                                \r"
     ]
    }
   ],
   "source": [
    "print(merch_postcode.count())\n",
    "merch_demog = merch_postcode.join(external_sdf, \"postcode\")\n",
    "print(merch_demog.count())"
   ]
  },
  {
   "cell_type": "code",
   "execution_count": 9,
   "metadata": {},
   "outputs": [
    {
     "name": "stderr",
     "output_type": "stream",
     "text": [
      "                                                                                \r"
     ]
    },
    {
     "data": {
      "text/html": [
       "<table border='1'>\n",
       "<tr><th>postcode</th><th>merchant_abn</th><th>total_pop</th><th>under10_pop</th><th>adolsc_pop</th><th>yng_adult_pop</th><th>mid_age_pop</th><th>old_pop</th></tr>\n",
       "<tr><td>2388</td><td>10023283211</td><td>4656</td><td>629</td><td>601</td><td>751</td><td>1463</td><td>1212</td></tr>\n",
       "<tr><td>3275</td><td>10023283211</td><td>9963</td><td>1127</td><td>1317</td><td>1319</td><td>3117</td><td>3083</td></tr>\n",
       "<tr><td>5582</td><td>10023283211</td><td>4209</td><td>330</td><td>348</td><td>454</td><td>1176</td><td>1901</td></tr>\n",
       "<tr><td>5276</td><td>10346855916</td><td>3943</td><td>357</td><td>361</td><td>542</td><td>1156</td><td>1527</td></tr>\n",
       "<tr><td>5291</td><td>10346855916</td><td>6296</td><td>643</td><td>734</td><td>931</td><td>2280</td><td>1708</td></tr>\n",
       "</table>\n"
      ],
      "text/plain": [
       "+--------+------------+---------+-----------+----------+-------------+-----------+-------+\n",
       "|postcode|merchant_abn|total_pop|under10_pop|adolsc_pop|yng_adult_pop|mid_age_pop|old_pop|\n",
       "+--------+------------+---------+-----------+----------+-------------+-----------+-------+\n",
       "|    2388| 10023283211|     4656|        629|       601|          751|       1463|   1212|\n",
       "|    3275| 10023283211|     9963|       1127|      1317|         1319|       3117|   3083|\n",
       "|    5582| 10023283211|     4209|        330|       348|          454|       1176|   1901|\n",
       "|    5276| 10346855916|     3943|        357|       361|          542|       1156|   1527|\n",
       "|    5291| 10346855916|     6296|        643|       734|          931|       2280|   1708|\n",
       "+--------+------------+---------+-----------+----------+-------------+-----------+-------+"
      ]
     },
     "execution_count": 9,
     "metadata": {},
     "output_type": "execute_result"
    }
   ],
   "source": [
    "merch_demog.limit(5)"
   ]
  },
  {
   "cell_type": "markdown",
   "metadata": {},
   "source": [
    "For merchant with multiple most frequent postcodes, get the average population for each age group"
   ]
  },
  {
   "cell_type": "code",
   "execution_count": 10,
   "metadata": {},
   "outputs": [
    {
     "name": "stderr",
     "output_type": "stream",
     "text": [
      "                                                                                \r"
     ]
    },
    {
     "data": {
      "text/html": [
       "<table border='1'>\n",
       "<tr><th>merchant_abn</th><th>total_pop</th><th>under10_pop</th><th>adolsc_pop</th><th>yng_adult_pop</th><th>mid_age_pop</th><th>old_pop</th></tr>\n",
       "<tr><td>10023283211</td><td>6276.0</td><td>695.33</td><td>755.33</td><td>841.33</td><td>1918.67</td><td>2065.33</td></tr>\n",
       "<tr><td>10346855916</td><td>11618.86</td><td>1405.29</td><td>1509.57</td><td>1881.0</td><td>3777.14</td><td>3045.86</td></tr>\n",
       "<tr><td>10385163239</td><td>26723.0</td><td>2652.0</td><td>2696.0</td><td>3439.0</td><td>7889.0</td><td>10047.0</td></tr>\n",
       "<tr><td>10648956813</td><td>7784.0</td><td>772.0</td><td>969.5</td><td>999.0</td><td>2407.0</td><td>2636.5</td></tr>\n",
       "<tr><td>10714068705</td><td>9525.0</td><td>1146.0</td><td>1181.0</td><td>1283.0</td><td>3118.0</td><td>2797.0</td></tr>\n",
       "</table>\n"
      ],
      "text/plain": [
       "+------------+---------+-----------+----------+-------------+-----------+-------+\n",
       "|merchant_abn|total_pop|under10_pop|adolsc_pop|yng_adult_pop|mid_age_pop|old_pop|\n",
       "+------------+---------+-----------+----------+-------------+-----------+-------+\n",
       "| 10023283211|   6276.0|     695.33|    755.33|       841.33|    1918.67|2065.33|\n",
       "| 10346855916| 11618.86|    1405.29|   1509.57|       1881.0|    3777.14|3045.86|\n",
       "| 10385163239|  26723.0|     2652.0|    2696.0|       3439.0|     7889.0|10047.0|\n",
       "| 10648956813|   7784.0|      772.0|     969.5|        999.0|     2407.0| 2636.5|\n",
       "| 10714068705|   9525.0|     1146.0|    1181.0|       1283.0|     3118.0| 2797.0|\n",
       "+------------+---------+-----------+----------+-------------+-----------+-------+"
      ]
     },
     "execution_count": 10,
     "metadata": {},
     "output_type": "execute_result"
    }
   ],
   "source": [
    "merch_demog = merch_demog.groupBy(\"merchant_abn\").agg(\n",
    "    F.round(F.avg(\"total_pop\"), 2).alias(\"total_pop\"),\n",
    "    F.round(F.avg(\"under10_pop\"), 2).alias(\"under10_pop\"),\n",
    "    F.round(F.avg(\"adolsc_pop\"), 2).alias(\"adolsc_pop\"),\n",
    "    F.round(F.avg(\"yng_adult_pop\"), 2).alias(\"yng_adult_pop\"),\n",
    "    F.round(F.avg(\"mid_age_pop\"), 2).alias(\"mid_age_pop\"),\n",
    "    F.round(F.avg(\"old_pop\"), 2).alias(\"old_pop\"),\n",
    ")\n",
    "\n",
    "merch_demog.limit(5)"
   ]
  },
  {
   "cell_type": "markdown",
   "metadata": {},
   "source": [
    "Have obtained average statistics for consumer demographics for each merchant based on postcode"
   ]
  },
  {
   "cell_type": "markdown",
   "metadata": {},
   "source": [
    "***"
   ]
  },
  {
   "cell_type": "markdown",
   "metadata": {},
   "source": [
    "Classifiy the demographic statistics into groups based on quartiles"
   ]
  },
  {
   "cell_type": "code",
   "execution_count": 11,
   "metadata": {},
   "outputs": [
    {
     "data": {
      "text/plain": [
       "['total_pop',\n",
       " 'under10_pop',\n",
       " 'adolsc_pop',\n",
       " 'yng_adult_pop',\n",
       " 'mid_age_pop',\n",
       " 'old_pop']"
      ]
     },
     "execution_count": 11,
     "metadata": {},
     "output_type": "execute_result"
    }
   ],
   "source": [
    "col_names = list(merch_demog.schema.names)\n",
    "col_names.pop(0)\n",
    "col_names"
   ]
  },
  {
   "cell_type": "code",
   "execution_count": 12,
   "metadata": {},
   "outputs": [
    {
     "data": {
      "text/html": [
       "<div>\n",
       "<style scoped>\n",
       "    .dataframe tbody tr th:only-of-type {\n",
       "        vertical-align: middle;\n",
       "    }\n",
       "\n",
       "    .dataframe tbody tr th {\n",
       "        vertical-align: top;\n",
       "    }\n",
       "\n",
       "    .dataframe thead th {\n",
       "        text-align: right;\n",
       "    }\n",
       "</style>\n",
       "<table border=\"1\" class=\"dataframe\">\n",
       "  <thead>\n",
       "    <tr style=\"text-align: right;\">\n",
       "      <th></th>\n",
       "      <th>LowerQuartile</th>\n",
       "      <th>Median</th>\n",
       "      <th>UpperQuartile</th>\n",
       "    </tr>\n",
       "  </thead>\n",
       "  <tbody>\n",
       "    <tr>\n",
       "      <th>total_pop</th>\n",
       "      <td>NaN</td>\n",
       "      <td>NaN</td>\n",
       "      <td>NaN</td>\n",
       "    </tr>\n",
       "    <tr>\n",
       "      <th>under10_pop</th>\n",
       "      <td>NaN</td>\n",
       "      <td>NaN</td>\n",
       "      <td>NaN</td>\n",
       "    </tr>\n",
       "    <tr>\n",
       "      <th>adolsc_pop</th>\n",
       "      <td>NaN</td>\n",
       "      <td>NaN</td>\n",
       "      <td>NaN</td>\n",
       "    </tr>\n",
       "    <tr>\n",
       "      <th>yng_adult_pop</th>\n",
       "      <td>NaN</td>\n",
       "      <td>NaN</td>\n",
       "      <td>NaN</td>\n",
       "    </tr>\n",
       "    <tr>\n",
       "      <th>mid_age_pop</th>\n",
       "      <td>NaN</td>\n",
       "      <td>NaN</td>\n",
       "      <td>NaN</td>\n",
       "    </tr>\n",
       "    <tr>\n",
       "      <th>old_pop</th>\n",
       "      <td>NaN</td>\n",
       "      <td>NaN</td>\n",
       "      <td>NaN</td>\n",
       "    </tr>\n",
       "  </tbody>\n",
       "</table>\n",
       "</div>"
      ],
      "text/plain": [
       "              LowerQuartile Median UpperQuartile\n",
       "total_pop               NaN    NaN           NaN\n",
       "under10_pop             NaN    NaN           NaN\n",
       "adolsc_pop              NaN    NaN           NaN\n",
       "yng_adult_pop           NaN    NaN           NaN\n",
       "mid_age_pop             NaN    NaN           NaN\n",
       "old_pop                 NaN    NaN           NaN"
      ]
     },
     "execution_count": 12,
     "metadata": {},
     "output_type": "execute_result"
    }
   ],
   "source": [
    "ext_data_quants_df = pd.DataFrame(index=col_names, columns=(\"LowerQuartile\", \"Median\", \"UpperQuartile\"))\n",
    "ext_data_quants_df"
   ]
  },
  {
   "cell_type": "code",
   "execution_count": 13,
   "metadata": {},
   "outputs": [
    {
     "name": "stderr",
     "output_type": "stream",
     "text": [
      "                                                                                \r"
     ]
    },
    {
     "data": {
      "text/html": [
       "<div>\n",
       "<style scoped>\n",
       "    .dataframe tbody tr th:only-of-type {\n",
       "        vertical-align: middle;\n",
       "    }\n",
       "\n",
       "    .dataframe tbody tr th {\n",
       "        vertical-align: top;\n",
       "    }\n",
       "\n",
       "    .dataframe thead th {\n",
       "        text-align: right;\n",
       "    }\n",
       "</style>\n",
       "<table border=\"1\" class=\"dataframe\">\n",
       "  <thead>\n",
       "    <tr style=\"text-align: right;\">\n",
       "      <th></th>\n",
       "      <th>LowerQuartile</th>\n",
       "      <th>Median</th>\n",
       "      <th>UpperQuartile</th>\n",
       "    </tr>\n",
       "  </thead>\n",
       "  <tbody>\n",
       "    <tr>\n",
       "      <th>total_pop</th>\n",
       "      <td>6264.5425</td>\n",
       "      <td>8717.44</td>\n",
       "      <td>10617.745</td>\n",
       "    </tr>\n",
       "    <tr>\n",
       "      <th>under10_pop</th>\n",
       "      <td>651.7075</td>\n",
       "      <td>953.835</td>\n",
       "      <td>1199.98</td>\n",
       "    </tr>\n",
       "    <tr>\n",
       "      <th>adolsc_pop</th>\n",
       "      <td>694.0</td>\n",
       "      <td>994.435</td>\n",
       "      <td>1242.66</td>\n",
       "    </tr>\n",
       "    <tr>\n",
       "      <th>yng_adult_pop</th>\n",
       "      <td>922.9375</td>\n",
       "      <td>1535.625</td>\n",
       "      <td>2073.9</td>\n",
       "    </tr>\n",
       "    <tr>\n",
       "      <th>mid_age_pop</th>\n",
       "      <td>1994.0</td>\n",
       "      <td>2811.29</td>\n",
       "      <td>3448.0</td>\n",
       "    </tr>\n",
       "    <tr>\n",
       "      <th>old_pop</th>\n",
       "      <td>1712.355</td>\n",
       "      <td>2243.98</td>\n",
       "      <td>2690.13</td>\n",
       "    </tr>\n",
       "  </tbody>\n",
       "</table>\n",
       "</div>"
      ],
      "text/plain": [
       "              LowerQuartile    Median UpperQuartile\n",
       "total_pop         6264.5425   8717.44     10617.745\n",
       "under10_pop        651.7075   953.835       1199.98\n",
       "adolsc_pop            694.0   994.435       1242.66\n",
       "yng_adult_pop      922.9375  1535.625        2073.9\n",
       "mid_age_pop          1994.0   2811.29        3448.0\n",
       "old_pop            1712.355   2243.98       2690.13"
      ]
     },
     "execution_count": 13,
     "metadata": {},
     "output_type": "execute_result"
    }
   ],
   "source": [
    "for ext_data_name in col_names:\n",
    "    new_vals = list(merch_demog.toPandas()[ext_data_name].quantile([0.25, 0.5, 0.75]))\n",
    "    ext_data_quants_df.loc[ext_data_name, [\"LowerQuartile\", \"Median\", \"UpperQuartile\"]] = new_vals\n",
    "\n",
    "ext_data_quants_df"
   ]
  },
  {
   "cell_type": "markdown",
   "metadata": {},
   "source": [
    "Classify values based on quartiles for each external data type\n",
    "- group 1 : $<$ LowerQuartile\n",
    "- group 2 : between LowerQuatile and Median\n",
    "- group 3 : between Median and UpperQuartile\n",
    "- group 4 : $>$ UpperQuartile"
   ]
  },
  {
   "cell_type": "code",
   "execution_count": 14,
   "metadata": {},
   "outputs": [
    {
     "name": "stderr",
     "output_type": "stream",
     "text": [
      "                                                                                \r"
     ]
    },
    {
     "data": {
      "text/html": [
       "<table border='1'>\n",
       "<tr><th>merchant_abn</th><th>total_pop</th><th>under10_pop</th><th>adolsc_pop</th><th>yng_adult_pop</th><th>mid_age_pop</th><th>old_pop</th></tr>\n",
       "<tr><td>10023283211</td><td>2</td><td>2</td><td>2</td><td>1</td><td>1</td><td>2</td></tr>\n",
       "<tr><td>10346855916</td><td>4</td><td>4</td><td>4</td><td>3</td><td>4</td><td>4</td></tr>\n",
       "<tr><td>10385163239</td><td>4</td><td>4</td><td>4</td><td>4</td><td>4</td><td>4</td></tr>\n",
       "<tr><td>10648956813</td><td>2</td><td>2</td><td>2</td><td>2</td><td>2</td><td>3</td></tr>\n",
       "<tr><td>10714068705</td><td>3</td><td>3</td><td>3</td><td>2</td><td>3</td><td>4</td></tr>\n",
       "</table>\n"
      ],
      "text/plain": [
       "+------------+---------+-----------+----------+-------------+-----------+-------+\n",
       "|merchant_abn|total_pop|under10_pop|adolsc_pop|yng_adult_pop|mid_age_pop|old_pop|\n",
       "+------------+---------+-----------+----------+-------------+-----------+-------+\n",
       "| 10023283211|        2|          2|         2|            1|          1|      2|\n",
       "| 10346855916|        4|          4|         4|            3|          4|      4|\n",
       "| 10385163239|        4|          4|         4|            4|          4|      4|\n",
       "| 10648956813|        2|          2|         2|            2|          2|      3|\n",
       "| 10714068705|        3|          3|         3|            2|          3|      4|\n",
       "+------------+---------+-----------+----------+-------------+-----------+-------+"
      ]
     },
     "execution_count": 14,
     "metadata": {},
     "output_type": "execute_result"
    }
   ],
   "source": [
    "for ext_data_name in col_names:\n",
    "\n",
    "    merch_demog = merch_demog.withColumn(\n",
    "        ext_data_name,\n",
    "        when(\n",
    "            # less than lower quartile\n",
    "            col(ext_data_name) < ext_data_quants_df.loc[ext_data_name, \"LowerQuartile\"],\n",
    "            lit(1)\n",
    "        )\n",
    "        .when(\n",
    "            # between lower quartile and median\n",
    "            (col(ext_data_name) > ext_data_quants_df.loc[ext_data_name, \"LowerQuartile\"]) &\n",
    "            (col(ext_data_name) < ext_data_quants_df.loc[ext_data_name, \"Median\"]),\n",
    "            lit(2)\n",
    "        )\n",
    "        .when(\n",
    "            # between median and upper quartile\n",
    "            (col(ext_data_name) > ext_data_quants_df.loc[ext_data_name, \"Median\"]) &\n",
    "            (col(ext_data_name) < ext_data_quants_df.loc[ext_data_name, \"UpperQuartile\"]),\n",
    "            lit(3)\n",
    "        )\n",
    "        .when(\n",
    "            # more than upper quartile\n",
    "            col(ext_data_name) > ext_data_quants_df.loc[ext_data_name, \"UpperQuartile\"],\n",
    "            lit(4)\n",
    "        )\n",
    "        .otherwise(lit(-1))\n",
    "    )\n",
    "\n",
    "merch_demog.limit(5)"
   ]
  },
  {
   "cell_type": "code",
   "execution_count": 15,
   "metadata": {},
   "outputs": [
    {
     "name": "stderr",
     "output_type": "stream",
     "text": [
      "[Stage 183:>                                                      (0 + 16) / 17]\r"
     ]
    },
    {
     "name": "stdout",
     "output_type": "stream",
     "text": [
      "22/10/15 17:31:22 WARN MemoryManager: Total allocation exceeds 95.00% (1,813,485,955 bytes) of heap memory\n",
      "Scaling row group sizes to 96.51% for 14 writers\n",
      "22/10/15 17:31:22 WARN MemoryManager: Total allocation exceeds 95.00% (1,813,485,955 bytes) of heap memory\n",
      "Scaling row group sizes to 90.08% for 15 writers\n",
      "22/10/15 17:31:22 WARN MemoryManager: Total allocation exceeds 95.00% (1,813,485,955 bytes) of heap memory\n",
      "Scaling row group sizes to 84.45% for 16 writers\n",
      "22/10/15 17:31:22 WARN MemoryManager: Total allocation exceeds 95.00% (1,813,485,955 bytes) of heap memory\n",
      "Scaling row group sizes to 90.08% for 15 writers\n",
      "22/10/15 17:31:22 WARN MemoryManager: Total allocation exceeds 95.00% (1,813,485,955 bytes) of heap memory\n",
      "Scaling row group sizes to 96.51% for 14 writers\n"
     ]
    },
    {
     "name": "stderr",
     "output_type": "stream",
     "text": [
      "                                                                                \r"
     ]
    }
   ],
   "source": [
    "merch_demog.write.mode(\"overwrite\").parquet(\"../data/curated/merch_pop.parquet\")"
   ]
  }
 ],
 "metadata": {
  "kernelspec": {
   "display_name": "Python 3 (ipykernel)",
   "language": "python",
   "name": "python3"
  },
  "language_info": {
   "codemirror_mode": {
    "name": "ipython",
    "version": 3
   },
   "file_extension": ".py",
   "mimetype": "text/x-python",
   "name": "python",
   "nbconvert_exporter": "python",
   "pygments_lexer": "ipython3",
   "version": "3.10.4"
  },
  "vscode": {
   "interpreter": {
    "hash": "916dbcbb3f70747c44a77c7bcd40155683ae19c65e1c03b4aa3499c5328201f1"
   }
  }
 },
 "nbformat": 4,
 "nbformat_minor": 4
}
