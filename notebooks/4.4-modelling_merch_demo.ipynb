{
 "cells": [
  {
   "cell_type": "code",
   "execution_count": 97,
   "metadata": {},
   "outputs": [],
   "source": [
    "from pyspark.sql import SparkSession\n",
    "from pyspark.sql.functions import * \n",
    "import matplotlib.pyplot as plt\n",
    "import pandas as pd\n",
    "import numpy as np\n",
    "from urllib.request import urlretrieve\n",
    "from owslib.wfs import WebFeatureService\n",
    "from dotenv import load_dotenv\n",
    "from pyspark.sql import functions as F\n",
    "from pyspark.sql import Window\n",
    "\n",
    "# Create a spark session\n",
    "spark = (\n",
    "    SparkSession.builder.appName(\"analysis\")\n",
    "    .config(\"spark.sql.repl.eagerEval.enabled\", True) \n",
    "    .config(\"spark.sql.parquet.cacheMetadata\", \"true\")\n",
    "    .config(\"spark.sql.session.timeZone\", \"Etc/UTC\")\n",
    "    .config(\"spark.driver.memory\", \"2g\")\n",
    "    .config(\"spark.executor.memory\", \"6g\")\n",
    "    .getOrCreate()\n",
    ")"
   ]
  },
  {
   "cell_type": "code",
   "execution_count": 98,
   "metadata": {},
   "outputs": [
    {
     "name": "stderr",
     "output_type": "stream",
     "text": [
      "                                                                                \r"
     ]
    },
    {
     "data": {
      "text/html": [
       "<table border='1'>\n",
       "<tr><th>order_datetime</th><th>merchant_abn</th><th>user_id</th><th>postcode</th><th>consumer_id</th><th>dollar_value</th><th>order_id</th><th>state</th><th>gender</th><th>company_name</th><th>tags</th><th>take_rate</th><th>revenue_band</th><th>total_pop</th><th>under10_pop</th><th>adolsc_pop</th><th>yng_adult_pop</th><th>mid_age_pop</th><th>old_pop</th><th>num_earners</th><th>median_age</th><th>median_income</th><th>mean_income</th><th>consumer_fraud_%</th><th>merchant_fraud_%</th></tr>\n",
       "<tr><td>2022-07-13</td><td>49891706470</td><td>22131</td><td>6731</td><td>58911</td><td>25.782245737474312</td><td>90498b80-984f-43c...</td><td>WA</td><td>Male</td><td>Non Vestibulum In...</td><td>tent and awning s...</td><td> 5.80</td><td> a</td><td>8374</td><td>1373</td><td>1185</td><td>2200</td><td>2600</td><td>1016</td><td>2907</td><td>39</td><td>48034</td><td>56306</td><td>0.1</td><td>0.1</td></tr>\n",
       "<tr><td>2021-08-19</td><td>96680767841</td><td>22131</td><td>6731</td><td>58911</td><td>415.9547984625</td><td>829843bc-c571-493...</td><td>WA</td><td>Male</td><td>Ornare Limited</td><td>motor vehicle sup...</td><td> 5.91</td><td> a</td><td>8374</td><td>1373</td><td>1185</td><td>2200</td><td>2600</td><td>1016</td><td>2907</td><td>39</td><td>48034</td><td>56306</td><td>0.1</td><td>0.1</td></tr>\n",
       "<tr><td>2022-07-13</td><td>43186523025</td><td>22131</td><td>6731</td><td>58911</td><td>33.082322196774484</td><td>c12d2520-12c8-40f...</td><td>WA</td><td>Male</td><td>Lorem Ipsum Sodal...</td><td>florists supplies...</td><td> 4.47</td><td> b</td><td>8374</td><td>1373</td><td>1185</td><td>2200</td><td>2600</td><td>1016</td><td>2907</td><td>39</td><td>48034</td><td>56306</td><td>0.1</td><td>0.1</td></tr>\n",
       "<tr><td>2021-08-19</td><td>66370248931</td><td>22131</td><td>6731</td><td>58911</td><td>82.54046571771035</td><td>cc8ac5c5-0dfc-4e1...</td><td>WA</td><td>Male</td><td>Morbi Non PC</td><td>cable, satellite,...</td><td> 3.15</td><td> b</td><td>8374</td><td>1373</td><td>1185</td><td>2200</td><td>2600</td><td>1016</td><td>2907</td><td>39</td><td>48034</td><td>56306</td><td>0.1</td><td>0.1</td></tr>\n",
       "<tr><td>2022-05-06</td><td>89726005175</td><td>22131</td><td>6731</td><td>58911</td><td>58.46693553052902</td><td>b1f179f8-2c15-4f5...</td><td>WA</td><td>Male</td><td>Est Nunc Consulting</td><td>tent and awning s...</td><td> 6.01</td><td> a</td><td>8374</td><td>1373</td><td>1185</td><td>2200</td><td>2600</td><td>1016</td><td>2907</td><td>39</td><td>48034</td><td>56306</td><td>0.1</td><td>0.1</td></tr>\n",
       "</table>\n"
      ],
      "text/plain": [
       "+--------------+------------+-------+--------+-----------+------------------+--------------------+-----+------+--------------------+--------------------+---------+------------+---------+-----------+----------+-------------+-----------+-------+-----------+----------+-------------+-----------+----------------+----------------+\n",
       "|order_datetime|merchant_abn|user_id|postcode|consumer_id|      dollar_value|            order_id|state|gender|        company_name|                tags|take_rate|revenue_band|total_pop|under10_pop|adolsc_pop|yng_adult_pop|mid_age_pop|old_pop|num_earners|median_age|median_income|mean_income|consumer_fraud_%|merchant_fraud_%|\n",
       "+--------------+------------+-------+--------+-----------+------------------+--------------------+-----+------+--------------------+--------------------+---------+------------+---------+-----------+----------+-------------+-----------+-------+-----------+----------+-------------+-----------+----------------+----------------+\n",
       "|    2022-07-13| 49891706470|  22131|    6731|      58911|25.782245737474312|90498b80-984f-43c...|   WA|  Male|Non Vestibulum In...|tent and awning s...|     5.80|           a|     8374|       1373|      1185|         2200|       2600|   1016|       2907|        39|        48034|      56306|             0.1|             0.1|\n",
       "|    2021-08-19| 96680767841|  22131|    6731|      58911|    415.9547984625|829843bc-c571-493...|   WA|  Male|      Ornare Limited|motor vehicle sup...|     5.91|           a|     8374|       1373|      1185|         2200|       2600|   1016|       2907|        39|        48034|      56306|             0.1|             0.1|\n",
       "|    2022-07-13| 43186523025|  22131|    6731|      58911|33.082322196774484|c12d2520-12c8-40f...|   WA|  Male|Lorem Ipsum Sodal...|florists supplies...|     4.47|           b|     8374|       1373|      1185|         2200|       2600|   1016|       2907|        39|        48034|      56306|             0.1|             0.1|\n",
       "|    2021-08-19| 66370248931|  22131|    6731|      58911| 82.54046571771035|cc8ac5c5-0dfc-4e1...|   WA|  Male|        Morbi Non PC|cable, satellite,...|     3.15|           b|     8374|       1373|      1185|         2200|       2600|   1016|       2907|        39|        48034|      56306|             0.1|             0.1|\n",
       "|    2022-05-06| 89726005175|  22131|    6731|      58911| 58.46693553052902|b1f179f8-2c15-4f5...|   WA|  Male| Est Nunc Consulting|tent and awning s...|     6.01|           a|     8374|       1373|      1185|         2200|       2600|   1016|       2907|        39|        48034|      56306|             0.1|             0.1|\n",
       "+--------------+------------+-------+--------+-----------+------------------+--------------------+-----+------+--------------------+--------------------+---------+------------+---------+-----------+----------+-------------+-----------+-------+-----------+----------+-------------+-----------+----------------+----------------+"
      ]
     },
     "execution_count": 98,
     "metadata": {},
     "output_type": "execute_result"
    }
   ],
   "source": [
    "sdf = spark.read.parquet(\"../data/curated/finaldf.parquet/\")\n",
    "sdf.limit(5)"
   ]
  },
  {
   "cell_type": "code",
   "execution_count": 99,
   "metadata": {},
   "outputs": [
    {
     "name": "stderr",
     "output_type": "stream",
     "text": [
      "                                                                                \r"
     ]
    },
    {
     "data": {
      "text/html": [
       "<table border='1'>\n",
       "<tr><th>order_datetime</th><th>merchant_abn</th><th>user_id</th><th>postcode</th><th>consumer_id</th><th>dollar_value</th><th>order_id</th><th>state</th><th>gender</th><th>company_name</th><th>tags</th><th>take_rate</th><th>revenue_band</th><th>total_pop</th><th>under10_pop</th><th>adolsc_pop</th><th>yng_adult_pop</th><th>mid_age_pop</th><th>old_pop</th><th>num_earners</th><th>median_age</th><th>median_income</th><th>mean_income</th><th>consumer_fraud_%</th><th>merchant_fraud_%</th><th>year</th><th>month</th><th>day</th></tr>\n",
       "<tr><td>2022-07-13</td><td>49891706470</td><td>22131</td><td>6731</td><td>58911</td><td>25.782245737474312</td><td>90498b80-984f-43c...</td><td>WA</td><td>Male</td><td>Non Vestibulum In...</td><td>tent and awning s...</td><td> 5.80</td><td> a</td><td>8374</td><td>1373</td><td>1185</td><td>2200</td><td>2600</td><td>1016</td><td>2907</td><td>39</td><td>48034</td><td>56306</td><td>0.1</td><td>0.1</td><td>2022</td><td>7</td><td>13</td></tr>\n",
       "<tr><td>2021-08-19</td><td>96680767841</td><td>22131</td><td>6731</td><td>58911</td><td>415.9547984625</td><td>829843bc-c571-493...</td><td>WA</td><td>Male</td><td>Ornare Limited</td><td>motor vehicle sup...</td><td> 5.91</td><td> a</td><td>8374</td><td>1373</td><td>1185</td><td>2200</td><td>2600</td><td>1016</td><td>2907</td><td>39</td><td>48034</td><td>56306</td><td>0.1</td><td>0.1</td><td>2021</td><td>8</td><td>19</td></tr>\n",
       "<tr><td>2022-07-13</td><td>43186523025</td><td>22131</td><td>6731</td><td>58911</td><td>33.082322196774484</td><td>c12d2520-12c8-40f...</td><td>WA</td><td>Male</td><td>Lorem Ipsum Sodal...</td><td>florists supplies...</td><td> 4.47</td><td> b</td><td>8374</td><td>1373</td><td>1185</td><td>2200</td><td>2600</td><td>1016</td><td>2907</td><td>39</td><td>48034</td><td>56306</td><td>0.1</td><td>0.1</td><td>2022</td><td>7</td><td>13</td></tr>\n",
       "<tr><td>2021-08-19</td><td>66370248931</td><td>22131</td><td>6731</td><td>58911</td><td>82.54046571771035</td><td>cc8ac5c5-0dfc-4e1...</td><td>WA</td><td>Male</td><td>Morbi Non PC</td><td>cable, satellite,...</td><td> 3.15</td><td> b</td><td>8374</td><td>1373</td><td>1185</td><td>2200</td><td>2600</td><td>1016</td><td>2907</td><td>39</td><td>48034</td><td>56306</td><td>0.1</td><td>0.1</td><td>2021</td><td>8</td><td>19</td></tr>\n",
       "<tr><td>2022-05-06</td><td>89726005175</td><td>22131</td><td>6731</td><td>58911</td><td>58.46693553052902</td><td>b1f179f8-2c15-4f5...</td><td>WA</td><td>Male</td><td>Est Nunc Consulting</td><td>tent and awning s...</td><td> 6.01</td><td> a</td><td>8374</td><td>1373</td><td>1185</td><td>2200</td><td>2600</td><td>1016</td><td>2907</td><td>39</td><td>48034</td><td>56306</td><td>0.1</td><td>0.1</td><td>2022</td><td>5</td><td>6</td></tr>\n",
       "</table>\n"
      ],
      "text/plain": [
       "+--------------+------------+-------+--------+-----------+------------------+--------------------+-----+------+--------------------+--------------------+---------+------------+---------+-----------+----------+-------------+-----------+-------+-----------+----------+-------------+-----------+----------------+----------------+----+-----+---+\n",
       "|order_datetime|merchant_abn|user_id|postcode|consumer_id|      dollar_value|            order_id|state|gender|        company_name|                tags|take_rate|revenue_band|total_pop|under10_pop|adolsc_pop|yng_adult_pop|mid_age_pop|old_pop|num_earners|median_age|median_income|mean_income|consumer_fraud_%|merchant_fraud_%|year|month|day|\n",
       "+--------------+------------+-------+--------+-----------+------------------+--------------------+-----+------+--------------------+--------------------+---------+------------+---------+-----------+----------+-------------+-----------+-------+-----------+----------+-------------+-----------+----------------+----------------+----+-----+---+\n",
       "|    2022-07-13| 49891706470|  22131|    6731|      58911|25.782245737474312|90498b80-984f-43c...|   WA|  Male|Non Vestibulum In...|tent and awning s...|     5.80|           a|     8374|       1373|      1185|         2200|       2600|   1016|       2907|        39|        48034|      56306|             0.1|             0.1|2022|    7| 13|\n",
       "|    2021-08-19| 96680767841|  22131|    6731|      58911|    415.9547984625|829843bc-c571-493...|   WA|  Male|      Ornare Limited|motor vehicle sup...|     5.91|           a|     8374|       1373|      1185|         2200|       2600|   1016|       2907|        39|        48034|      56306|             0.1|             0.1|2021|    8| 19|\n",
       "|    2022-07-13| 43186523025|  22131|    6731|      58911|33.082322196774484|c12d2520-12c8-40f...|   WA|  Male|Lorem Ipsum Sodal...|florists supplies...|     4.47|           b|     8374|       1373|      1185|         2200|       2600|   1016|       2907|        39|        48034|      56306|             0.1|             0.1|2022|    7| 13|\n",
       "|    2021-08-19| 66370248931|  22131|    6731|      58911| 82.54046571771035|cc8ac5c5-0dfc-4e1...|   WA|  Male|        Morbi Non PC|cable, satellite,...|     3.15|           b|     8374|       1373|      1185|         2200|       2600|   1016|       2907|        39|        48034|      56306|             0.1|             0.1|2021|    8| 19|\n",
       "|    2022-05-06| 89726005175|  22131|    6731|      58911| 58.46693553052902|b1f179f8-2c15-4f5...|   WA|  Male| Est Nunc Consulting|tent and awning s...|     6.01|           a|     8374|       1373|      1185|         2200|       2600|   1016|       2907|        39|        48034|      56306|             0.1|             0.1|2022|    5|  6|\n",
       "+--------------+------------+-------+--------+-----------+------------------+--------------------+-----+------+--------------------+--------------------+---------+------------+---------+-----------+----------+-------------+-----------+-------+-----------+----------+-------------+-----------+----------------+----------------+----+-----+---+"
      ]
     },
     "execution_count": 99,
     "metadata": {},
     "output_type": "execute_result"
    }
   ],
   "source": [
    "sdf = sdf.withColumns({\n",
    "    \"year\": date_format(col(\"order_datetime\"), \"yyyy\").cast(\"long\"),\n",
    "    \"month\": date_format(col(\"order_datetime\"), \"MM\").cast(\"long\"),\n",
    "    \"day\": date_format(col(\"order_datetime\"), \"dd\").cast(\"long\")\n",
    "})\n",
    "\n",
    "sdf.limit(5)"
   ]
  },
  {
   "cell_type": "code",
   "execution_count": 100,
   "metadata": {},
   "outputs": [
    {
     "data": {
      "text/plain": [
       "20906"
      ]
     },
     "execution_count": 100,
     "metadata": {},
     "output_type": "execute_result"
    }
   ],
   "source": [
    "sdf.select('consumer_id').distinct().count()"
   ]
  },
  {
   "cell_type": "markdown",
   "metadata": {},
   "source": [
    "20,906 total consumers"
   ]
  },
  {
   "cell_type": "markdown",
   "metadata": {},
   "source": [
    "Get number of consumers and total number of transactions for each merchant"
   ]
  },
  {
   "cell_type": "code",
   "execution_count": 101,
   "metadata": {},
   "outputs": [
    {
     "name": "stderr",
     "output_type": "stream",
     "text": [
      "                                                                                \r"
     ]
    },
    {
     "data": {
      "text/html": [
       "<table border='1'>\n",
       "<tr><th>merchant_abn</th><th>consumer_count</th><th>transactions_count</th></tr>\n",
       "<tr><td>73256306726</td><td>4045</td><td>4522</td></tr>\n",
       "<tr><td>83412691377</td><td>9338</td><td>12361</td></tr>\n",
       "<tr><td>38700038932</td><td>5080</td><td>5838</td></tr>\n",
       "<tr><td>38986645707</td><td>38</td><td>38</td></tr>\n",
       "<tr><td>12516851436</td><td>183</td><td>183</td></tr>\n",
       "</table>\n"
      ],
      "text/plain": [
       "+------------+--------------+------------------+\n",
       "|merchant_abn|consumer_count|transactions_count|\n",
       "+------------+--------------+------------------+\n",
       "| 73256306726|          4045|              4522|\n",
       "| 83412691377|          9338|             12361|\n",
       "| 38700038932|          5080|              5838|\n",
       "| 38986645707|            38|                38|\n",
       "| 12516851436|           183|               183|\n",
       "+------------+--------------+------------------+"
      ]
     },
     "execution_count": 101,
     "metadata": {},
     "output_type": "execute_result"
    }
   ],
   "source": [
    "merch_info = sdf.groupBy(\"merchant_abn\").agg(\n",
    "    F.count_distinct(\"consumer_id\").alias(\"consumer_count\"),\n",
    "    F.count(\"consumer_id\").alias(\"transactions_count\")\n",
    ")\n",
    "\n",
    "merch_info.limit(5)"
   ]
  },
  {
   "cell_type": "markdown",
   "metadata": {},
   "source": [
    "For each merchant, get the postcodes and the number of transactions originating from that postcode"
   ]
  },
  {
   "cell_type": "code",
   "execution_count": 102,
   "metadata": {},
   "outputs": [
    {
     "name": "stderr",
     "output_type": "stream",
     "text": [
      "                                                                                \r"
     ]
    },
    {
     "data": {
      "text/html": [
       "<table border='1'>\n",
       "<tr><th>merchant_abn</th><th>postcode</th><th>count</th></tr>\n",
       "<tr><td>10023283211</td><td>4559</td><td>1</td></tr>\n",
       "<tr><td>10023283211</td><td>5168</td><td>1</td></tr>\n",
       "<tr><td>10023283211</td><td>3415</td><td>2</td></tr>\n",
       "<tr><td>10023283211</td><td>2019</td><td>1</td></tr>\n",
       "<tr><td>10023283211</td><td>6461</td><td>1</td></tr>\n",
       "</table>\n"
      ],
      "text/plain": [
       "+------------+--------+-----+\n",
       "|merchant_abn|postcode|count|\n",
       "+------------+--------+-----+\n",
       "| 10023283211|    4559|    1|\n",
       "| 10023283211|    5168|    1|\n",
       "| 10023283211|    3415|    2|\n",
       "| 10023283211|    2019|    1|\n",
       "| 10023283211|    6461|    1|\n",
       "+------------+--------+-----+"
      ]
     },
     "execution_count": 102,
     "metadata": {},
     "output_type": "execute_result"
    }
   ],
   "source": [
    "merch_postcode = sdf.groupby('merchant_abn', 'postcode').count()\n",
    "merch_postcode.orderBy(\"merchant_abn\").limit(5)"
   ]
  },
  {
   "cell_type": "markdown",
   "metadata": {},
   "source": [
    "For each merchant, get the most frequent postcodes"
   ]
  },
  {
   "cell_type": "code",
   "execution_count": 103,
   "metadata": {},
   "outputs": [
    {
     "name": "stderr",
     "output_type": "stream",
     "text": [
      "                                                                                \r"
     ]
    },
    {
     "data": {
      "text/html": [
       "<table border='1'>\n",
       "<tr><th>merchant_abn</th><th>postcode</th></tr>\n",
       "<tr><td>10023283211</td><td>3275</td></tr>\n",
       "<tr><td>10023283211</td><td>2388</td></tr>\n",
       "<tr><td>10023283211</td><td>5582</td></tr>\n",
       "<tr><td>10342410215</td><td>6237</td></tr>\n",
       "<tr><td>10342410215</td><td>6335</td></tr>\n",
       "</table>\n"
      ],
      "text/plain": [
       "+------------+--------+\n",
       "|merchant_abn|postcode|\n",
       "+------------+--------+\n",
       "| 10023283211|    3275|\n",
       "| 10023283211|    2388|\n",
       "| 10023283211|    5582|\n",
       "| 10342410215|    6237|\n",
       "| 10342410215|    6335|\n",
       "+------------+--------+"
      ]
     },
     "execution_count": 103,
     "metadata": {},
     "output_type": "execute_result"
    }
   ],
   "source": [
    "w = Window.partitionBy('merchant_abn')\n",
    "\n",
    "merch_postcode = merch_postcode \\\n",
    "    .withColumn('maxCount', F.max('count').over(w)) \\\n",
    "    .where(F.col('count') == F.col('maxCount')) \\\n",
    "    .drop('maxCount', 'count')\n",
    "\n",
    "merch_postcode.limit(5)"
   ]
  },
  {
   "cell_type": "code",
   "execution_count": 104,
   "metadata": {},
   "outputs": [
    {
     "data": {
      "text/html": [
       "<table border='1'>\n",
       "<tr><th>postcode</th><th>total_pop</th><th>under10_pop</th><th>adolsc_pop</th><th>yng_adult_pop</th><th>mid_age_pop</th><th>old_pop</th><th>num_earners</th><th>median_age</th><th>median_income</th><th>mean_income</th></tr>\n",
       "<tr><td>0200</td><td>2875</td><td>6</td><td>1528</td><td>1292</td><td>47</td><td>2</td><td>548</td><td>23</td><td>9306</td><td>16835</td></tr>\n",
       "<tr><td>0800</td><td>7679</td><td>474</td><td>325</td><td>3322</td><td>2652</td><td>906</td><td>5909</td><td>33</td><td>60937</td><td>87791</td></tr>\n",
       "<tr><td>0801</td><td>7679</td><td>474</td><td>325</td><td>3322</td><td>2652</td><td>906</td><td>5909</td><td>33</td><td>60937</td><td>87791</td></tr>\n",
       "<tr><td>0804</td><td>2980</td><td>350</td><td>282</td><td>801</td><td>1047</td><td>500</td><td>1873</td><td>40</td><td>75219</td><td>98872</td></tr>\n",
       "<tr><td>0810</td><td>2657</td><td>326</td><td>274</td><td>541</td><td>845</td><td>386</td><td>1479</td><td>39</td><td>58753</td><td>67299</td></tr>\n",
       "</table>\n"
      ],
      "text/plain": [
       "+--------+---------+-----------+----------+-------------+-----------+-------+-----------+----------+-------------+-----------+\n",
       "|postcode|total_pop|under10_pop|adolsc_pop|yng_adult_pop|mid_age_pop|old_pop|num_earners|median_age|median_income|mean_income|\n",
       "+--------+---------+-----------+----------+-------------+-----------+-------+-----------+----------+-------------+-----------+\n",
       "|    0200|     2875|          6|      1528|         1292|         47|      2|        548|        23|         9306|      16835|\n",
       "|    0800|     7679|        474|       325|         3322|       2652|    906|       5909|        33|        60937|      87791|\n",
       "|    0801|     7679|        474|       325|         3322|       2652|    906|       5909|        33|        60937|      87791|\n",
       "|    0804|     2980|        350|       282|          801|       1047|    500|       1873|        40|        75219|      98872|\n",
       "|    0810|     2657|        326|       274|          541|        845|    386|       1479|        39|        58753|      67299|\n",
       "+--------+---------+-----------+----------+-------------+-----------+-------+-----------+----------+-------------+-----------+"
      ]
     },
     "execution_count": 104,
     "metadata": {},
     "output_type": "execute_result"
    }
   ],
   "source": [
    "external_sdf = spark.read.parquet(\"../data/curated/externaldata.parquet/\")\n",
    "external_sdf.limit(5)"
   ]
  },
  {
   "cell_type": "code",
   "execution_count": 105,
   "metadata": {},
   "outputs": [
    {
     "name": "stderr",
     "output_type": "stream",
     "text": [
      "                                                                                \r"
     ]
    },
    {
     "name": "stdout",
     "output_type": "stream",
     "text": [
      "33745\n"
     ]
    },
    {
     "name": "stderr",
     "output_type": "stream",
     "text": [
      "[Stage 1323:>                                                       (0 + 8) / 8]\r"
     ]
    },
    {
     "name": "stdout",
     "output_type": "stream",
     "text": [
      "33745\n"
     ]
    },
    {
     "name": "stderr",
     "output_type": "stream",
     "text": [
      "                                                                                \r"
     ]
    }
   ],
   "source": [
    "print(merch_postcode.count())\n",
    "merch_demog = merch_postcode.join(external_sdf, \"postcode\")\n",
    "print(merch_demog.count())"
   ]
  },
  {
   "cell_type": "code",
   "execution_count": 106,
   "metadata": {},
   "outputs": [
    {
     "name": "stderr",
     "output_type": "stream",
     "text": [
      "                                                                                \r"
     ]
    },
    {
     "data": {
      "text/html": [
       "<table border='1'>\n",
       "<tr><th>postcode</th><th>merchant_abn</th><th>total_pop</th><th>under10_pop</th><th>adolsc_pop</th><th>yng_adult_pop</th><th>mid_age_pop</th><th>old_pop</th><th>num_earners</th><th>median_age</th><th>median_income</th><th>mean_income</th></tr>\n",
       "<tr><td>3275</td><td>10023283211</td><td>9963</td><td>1127</td><td>1317</td><td>1319</td><td>3117</td><td>3083</td><td>5765</td><td>48</td><td>43136</td><td>52080</td></tr>\n",
       "<tr><td>2388</td><td>10023283211</td><td>4656</td><td>629</td><td>601</td><td>751</td><td>1463</td><td>1212</td><td>2656</td><td>46</td><td>43821</td><td>51530</td></tr>\n",
       "<tr><td>5582</td><td>10023283211</td><td>4209</td><td>330</td><td>348</td><td>454</td><td>1176</td><td>1901</td><td>2021</td><td>53</td><td>36420</td><td>46556</td></tr>\n",
       "<tr><td>6237</td><td>10342410215</td><td>3131</td><td>315</td><td>543</td><td>341</td><td>1139</td><td>793</td><td>1915</td><td>47</td><td>47678</td><td>58959</td></tr>\n",
       "<tr><td>6335</td><td>10342410215</td><td>2958</td><td>479</td><td>295</td><td>525</td><td>1014</td><td>645</td><td>1801</td><td>44</td><td>58087</td><td>78139</td></tr>\n",
       "</table>\n"
      ],
      "text/plain": [
       "+--------+------------+---------+-----------+----------+-------------+-----------+-------+-----------+----------+-------------+-----------+\n",
       "|postcode|merchant_abn|total_pop|under10_pop|adolsc_pop|yng_adult_pop|mid_age_pop|old_pop|num_earners|median_age|median_income|mean_income|\n",
       "+--------+------------+---------+-----------+----------+-------------+-----------+-------+-----------+----------+-------------+-----------+\n",
       "|    3275| 10023283211|     9963|       1127|      1317|         1319|       3117|   3083|       5765|        48|        43136|      52080|\n",
       "|    2388| 10023283211|     4656|        629|       601|          751|       1463|   1212|       2656|        46|        43821|      51530|\n",
       "|    5582| 10023283211|     4209|        330|       348|          454|       1176|   1901|       2021|        53|        36420|      46556|\n",
       "|    6237| 10342410215|     3131|        315|       543|          341|       1139|    793|       1915|        47|        47678|      58959|\n",
       "|    6335| 10342410215|     2958|        479|       295|          525|       1014|    645|       1801|        44|        58087|      78139|\n",
       "+--------+------------+---------+-----------+----------+-------------+-----------+-------+-----------+----------+-------------+-----------+"
      ]
     },
     "execution_count": 106,
     "metadata": {},
     "output_type": "execute_result"
    }
   ],
   "source": [
    "merch_demog.limit(5)"
   ]
  },
  {
   "cell_type": "code",
   "execution_count": 107,
   "metadata": {},
   "outputs": [
    {
     "name": "stderr",
     "output_type": "stream",
     "text": [
      "                                                                                \r"
     ]
    },
    {
     "data": {
      "text/html": [
       "<table border='1'>\n",
       "<tr><th>merchant_abn</th><th>total_pop</th><th>under10_pop</th><th>adolsc_pop</th><th>yng_adult_pop</th><th>mid_age_pop</th><th>old_pop</th></tr>\n",
       "<tr><td>10023283211</td><td>6276.0</td><td>695.33</td><td>755.33</td><td>841.33</td><td>1918.67</td><td>2065.33</td></tr>\n",
       "<tr><td>10342410215</td><td>4665.67</td><td>534.0</td><td>589.33</td><td>604.0</td><td>1668.0</td><td>1208.0</td></tr>\n",
       "<tr><td>10346855916</td><td>11618.86</td><td>1405.29</td><td>1509.57</td><td>1881.0</td><td>3777.14</td><td>3045.86</td></tr>\n",
       "<tr><td>10385163239</td><td>26723.0</td><td>2652.0</td><td>2696.0</td><td>3439.0</td><td>7889.0</td><td>10047.0</td></tr>\n",
       "<tr><td>10648956813</td><td>7784.0</td><td>772.0</td><td>969.5</td><td>999.0</td><td>2407.0</td><td>2636.5</td></tr>\n",
       "</table>\n"
      ],
      "text/plain": [
       "+------------+---------+-----------+----------+-------------+-----------+-------+\n",
       "|merchant_abn|total_pop|under10_pop|adolsc_pop|yng_adult_pop|mid_age_pop|old_pop|\n",
       "+------------+---------+-----------+----------+-------------+-----------+-------+\n",
       "| 10023283211|   6276.0|     695.33|    755.33|       841.33|    1918.67|2065.33|\n",
       "| 10342410215|  4665.67|      534.0|    589.33|        604.0|     1668.0| 1208.0|\n",
       "| 10346855916| 11618.86|    1405.29|   1509.57|       1881.0|    3777.14|3045.86|\n",
       "| 10385163239|  26723.0|     2652.0|    2696.0|       3439.0|     7889.0|10047.0|\n",
       "| 10648956813|   7784.0|      772.0|     969.5|        999.0|     2407.0| 2636.5|\n",
       "+------------+---------+-----------+----------+-------------+-----------+-------+"
      ]
     },
     "execution_count": 107,
     "metadata": {},
     "output_type": "execute_result"
    }
   ],
   "source": [
    "merch_demog = merch_demog.groupBy(\"merchant_abn\").agg(\n",
    "    F.round(F.avg(\"total_pop\"), 2).alias(\"total_pop\"),\n",
    "    F.round(F.avg(\"under10_pop\"), 2).alias(\"under10_pop\"),\n",
    "    F.round(F.avg(\"adolsc_pop\"), 2).alias(\"adolsc_pop\"),\n",
    "    F.round(F.avg(\"yng_adult_pop\"), 2).alias(\"yng_adult_pop\"),\n",
    "    F.round(F.avg(\"mid_age_pop\"), 2).alias(\"mid_age_pop\"),\n",
    "    F.round(F.avg(\"old_pop\"), 2).alias(\"old_pop\"),\n",
    ")\n",
    "\n",
    "merch_demog.limit(5)"
   ]
  },
  {
   "cell_type": "markdown",
   "metadata": {},
   "source": [
    "Have obtained average statistics for consumer demographics for each merchant based on postcode"
   ]
  },
  {
   "cell_type": "markdown",
   "metadata": {},
   "source": [
    "***"
   ]
  },
  {
   "cell_type": "markdown",
   "metadata": {},
   "source": [
    "Classifiy the demographic statistics into groups based on quartiles"
   ]
  },
  {
   "cell_type": "code",
   "execution_count": 108,
   "metadata": {},
   "outputs": [
    {
     "data": {
      "text/plain": [
       "['total_pop',\n",
       " 'under10_pop',\n",
       " 'adolsc_pop',\n",
       " 'yng_adult_pop',\n",
       " 'mid_age_pop',\n",
       " 'old_pop']"
      ]
     },
     "execution_count": 108,
     "metadata": {},
     "output_type": "execute_result"
    }
   ],
   "source": [
    "col_names = list(merch_demog.schema.names)\n",
    "col_names.pop(0)\n",
    "col_names"
   ]
  },
  {
   "cell_type": "code",
   "execution_count": 109,
   "metadata": {},
   "outputs": [
    {
     "data": {
      "text/html": [
       "<div>\n",
       "<style scoped>\n",
       "    .dataframe tbody tr th:only-of-type {\n",
       "        vertical-align: middle;\n",
       "    }\n",
       "\n",
       "    .dataframe tbody tr th {\n",
       "        vertical-align: top;\n",
       "    }\n",
       "\n",
       "    .dataframe thead th {\n",
       "        text-align: right;\n",
       "    }\n",
       "</style>\n",
       "<table border=\"1\" class=\"dataframe\">\n",
       "  <thead>\n",
       "    <tr style=\"text-align: right;\">\n",
       "      <th></th>\n",
       "      <th>LowerQuartile</th>\n",
       "      <th>Median</th>\n",
       "      <th>UpperQuartile</th>\n",
       "    </tr>\n",
       "  </thead>\n",
       "  <tbody>\n",
       "    <tr>\n",
       "      <th>total_pop</th>\n",
       "      <td>NaN</td>\n",
       "      <td>NaN</td>\n",
       "      <td>NaN</td>\n",
       "    </tr>\n",
       "    <tr>\n",
       "      <th>under10_pop</th>\n",
       "      <td>NaN</td>\n",
       "      <td>NaN</td>\n",
       "      <td>NaN</td>\n",
       "    </tr>\n",
       "    <tr>\n",
       "      <th>adolsc_pop</th>\n",
       "      <td>NaN</td>\n",
       "      <td>NaN</td>\n",
       "      <td>NaN</td>\n",
       "    </tr>\n",
       "    <tr>\n",
       "      <th>yng_adult_pop</th>\n",
       "      <td>NaN</td>\n",
       "      <td>NaN</td>\n",
       "      <td>NaN</td>\n",
       "    </tr>\n",
       "    <tr>\n",
       "      <th>mid_age_pop</th>\n",
       "      <td>NaN</td>\n",
       "      <td>NaN</td>\n",
       "      <td>NaN</td>\n",
       "    </tr>\n",
       "    <tr>\n",
       "      <th>old_pop</th>\n",
       "      <td>NaN</td>\n",
       "      <td>NaN</td>\n",
       "      <td>NaN</td>\n",
       "    </tr>\n",
       "  </tbody>\n",
       "</table>\n",
       "</div>"
      ],
      "text/plain": [
       "              LowerQuartile Median UpperQuartile\n",
       "total_pop               NaN    NaN           NaN\n",
       "under10_pop             NaN    NaN           NaN\n",
       "adolsc_pop              NaN    NaN           NaN\n",
       "yng_adult_pop           NaN    NaN           NaN\n",
       "mid_age_pop             NaN    NaN           NaN\n",
       "old_pop                 NaN    NaN           NaN"
      ]
     },
     "execution_count": 109,
     "metadata": {},
     "output_type": "execute_result"
    }
   ],
   "source": [
    "ext_data_quants_df = pd.DataFrame(index=col_names, columns=(\"LowerQuartile\", \"Median\", \"UpperQuartile\"))\n",
    "ext_data_quants_df"
   ]
  },
  {
   "cell_type": "code",
   "execution_count": 110,
   "metadata": {},
   "outputs": [
    {
     "name": "stderr",
     "output_type": "stream",
     "text": [
      "                                                                                \r"
     ]
    },
    {
     "data": {
      "text/html": [
       "<div>\n",
       "<style scoped>\n",
       "    .dataframe tbody tr th:only-of-type {\n",
       "        vertical-align: middle;\n",
       "    }\n",
       "\n",
       "    .dataframe tbody tr th {\n",
       "        vertical-align: top;\n",
       "    }\n",
       "\n",
       "    .dataframe thead th {\n",
       "        text-align: right;\n",
       "    }\n",
       "</style>\n",
       "<table border=\"1\" class=\"dataframe\">\n",
       "  <thead>\n",
       "    <tr style=\"text-align: right;\">\n",
       "      <th></th>\n",
       "      <th>LowerQuartile</th>\n",
       "      <th>Median</th>\n",
       "      <th>UpperQuartile</th>\n",
       "    </tr>\n",
       "  </thead>\n",
       "  <tbody>\n",
       "    <tr>\n",
       "      <th>total_pop</th>\n",
       "      <td>6264.5425</td>\n",
       "      <td>8717.44</td>\n",
       "      <td>10617.745</td>\n",
       "    </tr>\n",
       "    <tr>\n",
       "      <th>under10_pop</th>\n",
       "      <td>651.7075</td>\n",
       "      <td>953.835</td>\n",
       "      <td>1199.98</td>\n",
       "    </tr>\n",
       "    <tr>\n",
       "      <th>adolsc_pop</th>\n",
       "      <td>694.0</td>\n",
       "      <td>994.435</td>\n",
       "      <td>1242.66</td>\n",
       "    </tr>\n",
       "    <tr>\n",
       "      <th>yng_adult_pop</th>\n",
       "      <td>922.9375</td>\n",
       "      <td>1535.625</td>\n",
       "      <td>2073.9</td>\n",
       "    </tr>\n",
       "    <tr>\n",
       "      <th>mid_age_pop</th>\n",
       "      <td>1994.0</td>\n",
       "      <td>2811.29</td>\n",
       "      <td>3448.0</td>\n",
       "    </tr>\n",
       "    <tr>\n",
       "      <th>old_pop</th>\n",
       "      <td>1712.355</td>\n",
       "      <td>2243.98</td>\n",
       "      <td>2690.13</td>\n",
       "    </tr>\n",
       "  </tbody>\n",
       "</table>\n",
       "</div>"
      ],
      "text/plain": [
       "              LowerQuartile    Median UpperQuartile\n",
       "total_pop         6264.5425   8717.44     10617.745\n",
       "under10_pop        651.7075   953.835       1199.98\n",
       "adolsc_pop            694.0   994.435       1242.66\n",
       "yng_adult_pop      922.9375  1535.625        2073.9\n",
       "mid_age_pop          1994.0   2811.29        3448.0\n",
       "old_pop            1712.355   2243.98       2690.13"
      ]
     },
     "execution_count": 110,
     "metadata": {},
     "output_type": "execute_result"
    }
   ],
   "source": [
    "for ext_data_name in col_names:\n",
    "    new_vals = list(merch_demog.toPandas()[ext_data_name].quantile([0.25, 0.5, 0.75]))\n",
    "    ext_data_quants_df.loc[ext_data_name, [\"LowerQuartile\", \"Median\", \"UpperQuartile\"]] = new_vals\n",
    "\n",
    "ext_data_quants_df"
   ]
  },
  {
   "cell_type": "markdown",
   "metadata": {},
   "source": [
    "Classify values based on quartiles for each external data type\n",
    "- group 1 : $<$ LowerQuartile\n",
    "- group 2 : between LowerQuatile and Median\n",
    "- group 3 : between Median and UpperQuartile\n",
    "- group 4 : $>$ UpperQuartile"
   ]
  },
  {
   "cell_type": "code",
   "execution_count": 111,
   "metadata": {},
   "outputs": [
    {
     "name": "stderr",
     "output_type": "stream",
     "text": [
      "                                                                                \r"
     ]
    },
    {
     "data": {
      "text/html": [
       "<table border='1'>\n",
       "<tr><th>merchant_abn</th><th>total_pop</th><th>under10_pop</th><th>adolsc_pop</th><th>yng_adult_pop</th><th>mid_age_pop</th><th>old_pop</th></tr>\n",
       "<tr><td>10023283211</td><td>2</td><td>2</td><td>2</td><td>1</td><td>1</td><td>2</td></tr>\n",
       "<tr><td>10342410215</td><td>1</td><td>1</td><td>1</td><td>1</td><td>1</td><td>1</td></tr>\n",
       "<tr><td>10346855916</td><td>4</td><td>4</td><td>4</td><td>3</td><td>4</td><td>4</td></tr>\n",
       "<tr><td>10385163239</td><td>4</td><td>4</td><td>4</td><td>4</td><td>4</td><td>4</td></tr>\n",
       "<tr><td>10648956813</td><td>2</td><td>2</td><td>2</td><td>2</td><td>2</td><td>3</td></tr>\n",
       "</table>\n"
      ],
      "text/plain": [
       "+------------+---------+-----------+----------+-------------+-----------+-------+\n",
       "|merchant_abn|total_pop|under10_pop|adolsc_pop|yng_adult_pop|mid_age_pop|old_pop|\n",
       "+------------+---------+-----------+----------+-------------+-----------+-------+\n",
       "| 10023283211|        2|          2|         2|            1|          1|      2|\n",
       "| 10342410215|        1|          1|         1|            1|          1|      1|\n",
       "| 10346855916|        4|          4|         4|            3|          4|      4|\n",
       "| 10385163239|        4|          4|         4|            4|          4|      4|\n",
       "| 10648956813|        2|          2|         2|            2|          2|      3|\n",
       "+------------+---------+-----------+----------+-------------+-----------+-------+"
      ]
     },
     "execution_count": 111,
     "metadata": {},
     "output_type": "execute_result"
    }
   ],
   "source": [
    "for ext_data_name in col_names:\n",
    "\n",
    "    merch_demog = merch_demog.withColumn(\n",
    "        ext_data_name,\n",
    "        when(\n",
    "            # less than lower quartile\n",
    "            col(ext_data_name) < ext_data_quants_df.loc[ext_data_name, \"LowerQuartile\"],\n",
    "            lit(1)\n",
    "        )\n",
    "        .when(\n",
    "            # between lower quartile and median\n",
    "            (col(ext_data_name) > ext_data_quants_df.loc[ext_data_name, \"LowerQuartile\"]) &\n",
    "            (col(ext_data_name) < ext_data_quants_df.loc[ext_data_name, \"Median\"]),\n",
    "            lit(2)\n",
    "        )\n",
    "        .when(\n",
    "            # between median and upper quartile\n",
    "            (col(ext_data_name) > ext_data_quants_df.loc[ext_data_name, \"Median\"]) &\n",
    "            (col(ext_data_name) < ext_data_quants_df.loc[ext_data_name, \"UpperQuartile\"]),\n",
    "            lit(3)\n",
    "        )\n",
    "        .when(\n",
    "            # more than upper quartile\n",
    "            col(ext_data_name) > ext_data_quants_df.loc[ext_data_name, \"UpperQuartile\"],\n",
    "            lit(4)\n",
    "        )\n",
    "        .otherwise(lit(-1))\n",
    "    )\n",
    "\n",
    "merch_demog.limit(5)"
   ]
  },
  {
   "cell_type": "code",
   "execution_count": 112,
   "metadata": {},
   "outputs": [
    {
     "name": "stderr",
     "output_type": "stream",
     "text": [
      "                                                                                \r"
     ]
    }
   ],
   "source": [
    "merch_demog.write.mode(\"overwrite\").parquet(\"../data/curated/merch_pop.parquet\")"
   ]
  }
 ],
 "metadata": {
  "kernelspec": {
   "display_name": "Python 3.8.10 64-bit",
   "language": "python",
   "name": "python3"
  },
  "language_info": {
   "codemirror_mode": {
    "name": "ipython",
    "version": 3
   },
   "file_extension": ".py",
   "mimetype": "text/x-python",
   "name": "python",
   "nbconvert_exporter": "python",
   "pygments_lexer": "ipython3",
   "version": "3.8.10"
  },
  "orig_nbformat": 4,
  "vscode": {
   "interpreter": {
    "hash": "916dbcbb3f70747c44a77c7bcd40155683ae19c65e1c03b4aa3499c5328201f1"
   }
  }
 },
 "nbformat": 4,
 "nbformat_minor": 2
}
