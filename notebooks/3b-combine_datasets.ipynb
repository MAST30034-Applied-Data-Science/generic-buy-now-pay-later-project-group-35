{
 "cells": [
  {
   "cell_type": "code",
   "execution_count": 1,
   "metadata": {},
   "outputs": [
    {
     "name": "stdout",
     "output_type": "stream",
     "text": [
      "22/09/26 21:49:00 WARN Utils: Your hostname, AryansLaptop resolves to a loopback address: 127.0.1.1; using 172.25.90.88 instead (on interface eth0)\n",
      "22/09/26 21:49:00 WARN Utils: Set SPARK_LOCAL_IP if you need to bind to another address\n"
     ]
    },
    {
     "name": "stderr",
     "output_type": "stream",
     "text": [
      "Setting default log level to \"WARN\".\n",
      "To adjust logging level use sc.setLogLevel(newLevel). For SparkR, use setLogLevel(newLevel).\n"
     ]
    },
    {
     "name": "stdout",
     "output_type": "stream",
     "text": [
      "22/09/26 21:49:02 WARN NativeCodeLoader: Unable to load native-hadoop library for your platform... using builtin-java classes where applicable\n",
      "22/09/26 21:49:03 WARN Utils: Service 'SparkUI' could not bind on port 4040. Attempting port 4041.\n"
     ]
    }
   ],
   "source": [
    "from pyspark.sql import SparkSession\n",
    "from pyspark.sql.functions import * \n",
    "import matplotlib.pyplot as plt\n",
    "import pandas as pd\n",
    "import numpy as np\n",
    "from urllib.request import urlretrieve\n",
    "from owslib.wfs import WebFeatureService\n",
    "from dotenv import load_dotenv\n",
    "from pyspark.sql import functions as F\n",
    "\n",
    "# Create a spark session\n",
    "spark = (\n",
    "    SparkSession.builder.appName(\"analysis\")\n",
    "    .config(\"spark.sql.repl.eagerEval.enabled\", True) \n",
    "    .config(\"spark.sql.parquet.cacheMetadata\", \"true\")\n",
    "    .config(\"spark.sql.session.timeZone\", \"Etc/UTC\")\n",
    "    .config(\"spark.driver.memory\", \"2g\")\n",
    "    .config(\"spark.executor.memory\", \"6g\")\n",
    "    .getOrCreate()\n",
    ")"
   ]
  },
  {
   "cell_type": "code",
   "execution_count": 2,
   "metadata": {},
   "outputs": [
    {
     "name": "stderr",
     "output_type": "stream",
     "text": [
      "                                                                                \r"
     ]
    },
    {
     "name": "stdout",
     "output_type": "stream",
     "text": [
      "5492\n"
     ]
    },
    {
     "data": {
      "text/html": [
       "<table border='1'>\n",
       "<tr><th>postcode</th><th>sa2_code</th></tr>\n",
       "<tr><td>1008</td><td>117031337</td></tr>\n",
       "<tr><td>1150</td><td>117031337</td></tr>\n",
       "<tr><td>2100</td><td>122031429</td></tr>\n",
       "<tr><td>2200</td><td>119011571</td></tr>\n",
       "<tr><td>2338</td><td>110041201</td></tr>\n",
       "</table>\n"
      ],
      "text/plain": [
       "+--------+---------+\n",
       "|postcode| sa2_code|\n",
       "+--------+---------+\n",
       "|    1008|117031337|\n",
       "|    1150|117031337|\n",
       "|    2100|122031429|\n",
       "|    2200|119011571|\n",
       "|    2338|110041201|\n",
       "+--------+---------+"
      ]
     },
     "execution_count": 2,
     "metadata": {},
     "output_type": "execute_result"
    }
   ],
   "source": [
    "postcode_sdf = spark.read.parquet(\"../data/curated/postcodedf.parquet/\")\n",
    "print(postcode_sdf.count())\n",
    "postcode_sdf.limit(5)"
   ]
  },
  {
   "cell_type": "markdown",
   "metadata": {},
   "source": [
    "## Join postcode data with population data"
   ]
  },
  {
   "cell_type": "code",
   "execution_count": 3,
   "metadata": {},
   "outputs": [
    {
     "name": "stdout",
     "output_type": "stream",
     "text": [
      "2450\n"
     ]
    },
    {
     "data": {
      "text/html": [
       "<table border='1'>\n",
       "<tr><th>State/Terr</th><th>sa2_code</th><th>SA2 name</th><th>Total</th><th>Under 10</th><th>Adolescent</th><th>Young adult</th><th>Middle age</th><th>Old</th></tr>\n",
       "<tr><td>New South Wales</td><td>121011686</td><td>Lane Cove</td><td>15931</td><td>2246</td><td>1683</td><td>3108</td><td>5838</td><td>3056</td></tr>\n",
       "<tr><td>New South Wales</td><td>121011687</td><td>Willoughby</td><td>13024</td><td>1829</td><td>1862</td><td>1679</td><td>4949</td><td>2705</td></tr>\n",
       "<tr><td>New South Wales</td><td>121021403</td><td>Asquith - Mount C...</td><td>22134</td><td>2949</td><td>3092</td><td>3674</td><td>8221</td><td>4198</td></tr>\n",
       "<tr><td>New South Wales</td><td>121021404</td><td>Berowra - Brookly...</td><td>11793</td><td>1513</td><td>1805</td><td>1444</td><td>4385</td><td>2646</td></tr>\n",
       "<tr><td>New South Wales</td><td>121021406</td><td>Normanhurst - Tho...</td><td>19199</td><td>2395</td><td>2868</td><td>2589</td><td>6962</td><td>4385</td></tr>\n",
       "</table>\n"
      ],
      "text/plain": [
       "+---------------+---------+--------------------+-----+--------+----------+-----------+----------+----+\n",
       "|     State/Terr| sa2_code|            SA2 name|Total|Under 10|Adolescent|Young adult|Middle age| Old|\n",
       "+---------------+---------+--------------------+-----+--------+----------+-----------+----------+----+\n",
       "|New South Wales|121011686|           Lane Cove|15931|    2246|      1683|       3108|      5838|3056|\n",
       "|New South Wales|121011687|          Willoughby|13024|    1829|      1862|       1679|      4949|2705|\n",
       "|New South Wales|121021403|Asquith - Mount C...|22134|    2949|      3092|       3674|      8221|4198|\n",
       "|New South Wales|121021404|Berowra - Brookly...|11793|    1513|      1805|       1444|      4385|2646|\n",
       "|New South Wales|121021406|Normanhurst - Tho...|19199|    2395|      2868|       2589|      6962|4385|\n",
       "+---------------+---------+--------------------+-----+--------+----------+-----------+----------+----+"
      ]
     },
     "execution_count": 3,
     "metadata": {},
     "output_type": "execute_result"
    }
   ],
   "source": [
    "pop_sdf = spark.read.parquet(\"../data/curated/pop_sdf.parquet/\")\n",
    "print(pop_sdf.count())\n",
    "populationdf = pop_sdf.withColumnRenamed(\"SA2 code\",\"sa2_code\")\n",
    "populationdf.limit(5)"
   ]
  },
  {
   "cell_type": "code",
   "execution_count": 4,
   "metadata": {},
   "outputs": [],
   "source": [
    "merged_sdf1 = populationdf.join(postcode_sdf, on=\"sa2_code\", how=\"inner\")"
   ]
  },
  {
   "cell_type": "code",
   "execution_count": 5,
   "metadata": {},
   "outputs": [
    {
     "name": "stderr",
     "output_type": "stream",
     "text": [
      "                                                                                \r"
     ]
    },
    {
     "data": {
      "text/plain": [
       "2083"
      ]
     },
     "execution_count": 5,
     "metadata": {},
     "output_type": "execute_result"
    }
   ],
   "source": [
    "merged_sdf1.groupBy(\"sa2_code\").count().count()"
   ]
  },
  {
   "cell_type": "markdown",
   "metadata": {},
   "source": [
    "Lost 367 records for which there were no sa2 codes"
   ]
  },
  {
   "cell_type": "code",
   "execution_count": 6,
   "metadata": {},
   "outputs": [
    {
     "data": {
      "text/html": [
       "<table border='1'>\n",
       "<tr><th>sa2_code</th><th>State/Terr</th><th>SA2 name</th><th>Total</th><th>Under 10</th><th>Adolescent</th><th>Young adult</th><th>Middle age</th><th>Old</th><th>postcode</th></tr>\n",
       "<tr><td>801051049</td><td>Australian Capita...</td><td>Acton</td><td>2875</td><td>6</td><td>1528</td><td>1292</td><td>47</td><td>2</td><td>0200</td></tr>\n",
       "<tr><td>701011002</td><td>Northern Territory</td><td>Darwin City</td><td>7679</td><td>474</td><td>325</td><td>3322</td><td>2652</td><td>906</td><td>0800</td></tr>\n",
       "<tr><td>701011002</td><td>Northern Territory</td><td>Darwin City</td><td>7679</td><td>474</td><td>325</td><td>3322</td><td>2652</td><td>906</td><td>0801</td></tr>\n",
       "<tr><td>701011007</td><td>Northern Territory</td><td>Parap</td><td>2980</td><td>350</td><td>282</td><td>801</td><td>1047</td><td>500</td><td>0804</td></tr>\n",
       "<tr><td>701021013</td><td>Northern Territory</td><td>Brinkin - Nakara</td><td>3615</td><td>372</td><td>409</td><td>1140</td><td>1086</td><td>608</td><td>0810</td></tr>\n",
       "</table>\n"
      ],
      "text/plain": [
       "+---------+--------------------+----------------+-----+--------+----------+-----------+----------+---+--------+\n",
       "| sa2_code|          State/Terr|        SA2 name|Total|Under 10|Adolescent|Young adult|Middle age|Old|postcode|\n",
       "+---------+--------------------+----------------+-----+--------+----------+-----------+----------+---+--------+\n",
       "|801051049|Australian Capita...|           Acton| 2875|       6|      1528|       1292|        47|  2|    0200|\n",
       "|701011002|  Northern Territory|     Darwin City| 7679|     474|       325|       3322|      2652|906|    0800|\n",
       "|701011002|  Northern Territory|     Darwin City| 7679|     474|       325|       3322|      2652|906|    0801|\n",
       "|701011007|  Northern Territory|           Parap| 2980|     350|       282|        801|      1047|500|    0804|\n",
       "|701021013|  Northern Territory|Brinkin - Nakara| 3615|     372|       409|       1140|      1086|608|    0810|\n",
       "+---------+--------------------+----------------+-----+--------+----------+-----------+----------+---+--------+"
      ]
     },
     "execution_count": 6,
     "metadata": {},
     "output_type": "execute_result"
    }
   ],
   "source": [
    "merged_sdf1.orderBy(\"postcode\").limit(5)"
   ]
  },
  {
   "cell_type": "markdown",
   "metadata": {},
   "source": [
    "Get a single population value for each postcode and field by calculating the mean"
   ]
  },
  {
   "cell_type": "code",
   "execution_count": 7,
   "metadata": {},
   "outputs": [
    {
     "name": "stderr",
     "output_type": "stream",
     "text": [
      "[Stage 30:>                                                       (0 + 16) / 16]\r"
     ]
    },
    {
     "name": "stdout",
     "output_type": "stream",
     "text": [
      "+--------+---------+-----------+----------+-------------+-----------+-------+\n",
      "|postcode|total_pop|under10_pop|adolsc_pop|yng_adult_pop|mid_age_pop|old_pop|\n",
      "+--------+---------+-----------+----------+-------------+-----------+-------+\n",
      "|    0200|   2875.0|        6.0|    1528.0|       1292.0|       47.0|    2.0|\n",
      "|    0800|   7679.0|      474.0|     325.0|       3322.0|     2652.0|  906.0|\n",
      "|    0801|   7679.0|      474.0|     325.0|       3322.0|     2652.0|  906.0|\n",
      "|    0804|   2980.0|      350.0|     282.0|        801.0|     1047.0|  500.0|\n",
      "|    0810|   3018.0|      419.0|    346.08|       769.08|    1013.67| 470.17|\n",
      "|    0811|   3615.0|      372.0|     409.0|       1140.0|     1086.0|  608.0|\n",
      "|    0812|  3314.67|     483.33|     447.0|       636.83|    1143.67| 603.83|\n",
      "|    0813|   2516.0|      468.0|     454.0|        729.0|      664.0|  201.0|\n",
      "|    0814|   4112.0|      490.0|     393.0|       1204.0|     1371.0|  654.0|\n",
      "|    0815|   3615.0|      372.0|     409.0|       1140.0|     1086.0|  608.0|\n",
      "|    0820|  2935.58|     298.33|     262.0|       912.42|    1009.75| 453.08|\n",
      "|    0821|   3024.0|      325.0|     315.0|        861.0|     1148.0|  375.0|\n",
      "|    0822|  4081.53|     545.94|    572.35|      1034.76|    1373.41| 555.06|\n",
      "|    0828|   1814.0|      224.0|     302.0|        433.0|      624.0|  231.0|\n",
      "|    0829|   4788.0|      844.0|     556.0|       1188.0|     1678.0|  522.0|\n",
      "|    0830|  3658.25|     646.25|    482.13|       921.63|    1236.88| 371.38|\n",
      "|    0831|   4762.0|      825.0|     630.0|       1168.0|     1603.0|  536.0|\n",
      "|    0832|   5512.4|      910.2|     694.4|       1570.4|     1830.8|  506.6|\n",
      "|    0834|   3368.0|      356.0|     435.0|        647.0|     1198.0|  732.0|\n",
      "|    0835|   4551.5|      398.5|     483.0|       1218.0|     1629.0|  823.0|\n",
      "+--------+---------+-----------+----------+-------------+-----------+-------+\n",
      "only showing top 20 rows\n",
      "\n"
     ]
    },
    {
     "name": "stderr",
     "output_type": "stream",
     "text": [
      "                                                                                \r"
     ]
    }
   ],
   "source": [
    "postcode_pop_sdf = merged_sdf1.groupBy(\"postcode\") \\\n",
    "    .agg(\n",
    "        F.round(F.mean(merged_sdf1.Total), 2).alias(\"total_pop\"),\n",
    "        F.round(F.mean(merged_sdf1['Under 10']), 2).alias(\"under10_pop\"),\n",
    "        F.round(F.mean(merged_sdf1.Adolescent), 2).alias(\"adolsc_pop\"),\n",
    "        F.round(F.mean(merged_sdf1['Young adult']), 2).alias(\"yng_adult_pop\"),\n",
    "        F.round(F.mean(merged_sdf1['Middle age']), 2).alias(\"mid_age_pop\"),\n",
    "        F.round(F.mean(merged_sdf1.Old), 2).alias(\"old_pop\")\n",
    "    )\n",
    "    \n",
    "postcode_pop_sdf.orderBy(\"postcode\").show()"
   ]
  },
  {
   "cell_type": "markdown",
   "metadata": {},
   "source": [
    "Visualize the population variation for each SA2 code within each postcode"
   ]
  },
  {
   "cell_type": "code",
   "execution_count": 8,
   "metadata": {},
   "outputs": [],
   "source": [
    "pop_diffs = merged_sdf1.groupBy(\"postcode\").agg(\n",
    "    (F.max(merged_sdf1.Total) - F.min(merged_sdf1.Total)).alias(\"Total\"),\n",
    "    (F.max(merged_sdf1[\"Under 10\"]) - F.min(merged_sdf1[\"Under 10\"])).alias(\"Under 10\"),\n",
    "    (F.max(merged_sdf1.Adolescent) - F.min(merged_sdf1.Adolescent)).alias(\"Adolescent\"),\n",
    "    (F.max(merged_sdf1[\"Young adult\"]) - F.min(merged_sdf1[\"Young adult\"])).alias(\"Young adult\"),\n",
    "    (F.max(merged_sdf1[\"Middle age\"]) - F.min(merged_sdf1[\"Middle age\"])).alias(\"Middle age\"),\n",
    "    (F.max(merged_sdf1.Old) - F.min(merged_sdf1.Old)).alias(\"Old\")\n",
    ")"
   ]
  },
  {
   "cell_type": "code",
   "execution_count": 9,
   "metadata": {},
   "outputs": [
    {
     "data": {
      "text/html": [
       "<table border='1'>\n",
       "<tr><th>postcode</th><th>Total</th><th>Under 10</th><th>Adolescent</th><th>Young adult</th><th>Middle age</th><th>Old</th></tr>\n",
       "<tr><td>2069</td><td>0</td><td>0</td><td>0</td><td>0</td><td>0</td><td>0</td></tr>\n",
       "<tr><td>2162</td><td>0</td><td>0</td><td>0</td><td>0</td><td>0</td><td>0</td></tr>\n",
       "<tr><td>2756</td><td>19732</td><td>2529</td><td>3149</td><td>3627</td><td>6542</td><td>5045</td></tr>\n",
       "<tr><td>2110</td><td>0</td><td>0</td><td>0</td><td>0</td><td>0</td><td>0</td></tr>\n",
       "<tr><td>2161</td><td>23111</td><td>3744</td><td>3352</td><td>5588</td><td>7015</td><td>3840</td></tr>\n",
       "</table>\n"
      ],
      "text/plain": [
       "+--------+-----+--------+----------+-----------+----------+----+\n",
       "|postcode|Total|Under 10|Adolescent|Young adult|Middle age| Old|\n",
       "+--------+-----+--------+----------+-----------+----------+----+\n",
       "|    2069|    0|       0|         0|          0|         0|   0|\n",
       "|    2162|    0|       0|         0|          0|         0|   0|\n",
       "|    2756|19732|    2529|      3149|       3627|      6542|5045|\n",
       "|    2110|    0|       0|         0|          0|         0|   0|\n",
       "|    2161|23111|    3744|      3352|       5588|      7015|3840|\n",
       "+--------+-----+--------+----------+-----------+----------+----+"
      ]
     },
     "execution_count": 9,
     "metadata": {},
     "output_type": "execute_result"
    }
   ],
   "source": [
    "pop_diffs.limit(5)"
   ]
  },
  {
   "cell_type": "code",
   "execution_count": 10,
   "metadata": {},
   "outputs": [
    {
     "name": "stderr",
     "output_type": "stream",
     "text": [
      "/tmp/ipykernel_5711/1227780644.py:3: UserWarning: FixedFormatter should only be used together with FixedLocator\n",
      "  ax1.set_yticklabels(['Total', 'Under 10',\n"
     ]
    },
    {
     "data": {
      "image/png": "[encoded data removed]",
      "text/plain": [
       "<Figure size 500x300 with 1 Axes>"
      ]
     },
     "metadata": {},
     "output_type": "display_data"
    }
   ],
   "source": [
    "fig1 = plt.figure(figsize = (5, 3))\n",
    "ax1 = fig1.add_axes([0, 0, 1, 1])\n",
    "ax1.set_yticklabels(['Total', 'Under 10',\n",
    "                    'Adolescent', 'Young adult',\n",
    "                    'Middle age', 'Old'])\n",
    "bp = ax1.boxplot(pop_diffs.drop(\"postcode\").toPandas(), vert=0)\n",
    "\n",
    "plt.show()"
   ]
  },
  {
   "cell_type": "markdown",
   "metadata": {},
   "source": [
    "## Join postcode data with income data"
   ]
  },
  {
   "cell_type": "code",
   "execution_count": 11,
   "metadata": {},
   "outputs": [
    {
     "name": "stdout",
     "output_type": "stream",
     "text": [
      "2239\n"
     ]
    },
    {
     "data": {
      "text/html": [
       "<table border='1'>\n",
       "<tr><th>sa2_code</th><th>num_earners</th><th>median_age</th><th>median_income</th><th>mean_income</th></tr>\n",
       "<tr><td>213011340</td><td>11238</td><td>46</td><td>51181</td><td>61177</td></tr>\n",
       "<tr><td>213021341</td><td>7942</td><td>43</td><td>57585</td><td>69301</td></tr>\n",
       "<tr><td>213021344</td><td>11216</td><td>41</td><td>66161</td><td>80219</td></tr>\n",
       "<tr><td>213021345</td><td>3015</td><td>41</td><td>52078</td><td>60249</td></tr>\n",
       "<tr><td>213021346</td><td>9996</td><td>47</td><td>63892</td><td>90668</td></tr>\n",
       "</table>\n"
      ],
      "text/plain": [
       "+---------+-----------+----------+-------------+-----------+\n",
       "| sa2_code|num_earners|median_age|median_income|mean_income|\n",
       "+---------+-----------+----------+-------------+-----------+\n",
       "|213011340|      11238|        46|        51181|      61177|\n",
       "|213021341|       7942|        43|        57585|      69301|\n",
       "|213021344|      11216|        41|        66161|      80219|\n",
       "|213021345|       3015|        41|        52078|      60249|\n",
       "|213021346|       9996|        47|        63892|      90668|\n",
       "+---------+-----------+----------+-------------+-----------+"
      ]
     },
     "execution_count": 11,
     "metadata": {},
     "output_type": "execute_result"
    }
   ],
   "source": [
    "incomedf = spark.read.parquet(\"../data/curated/incomedf.parquet/\")\n",
    "print(incomedf.count())\n",
    "incomedf.limit(5)"
   ]
  },
  {
   "cell_type": "code",
   "execution_count": 12,
   "metadata": {},
   "outputs": [],
   "source": [
    "merged_sdf2 = incomedf.join(postcode_sdf, on=\"sa2_code\", how=\"inner\")"
   ]
  },
  {
   "cell_type": "code",
   "execution_count": 13,
   "metadata": {},
   "outputs": [
    {
     "data": {
      "text/plain": [
       "2186"
      ]
     },
     "execution_count": 13,
     "metadata": {},
     "output_type": "execute_result"
    }
   ],
   "source": [
    "merged_sdf2.groupBy(\"sa2_code\").count().count()"
   ]
  },
  {
   "cell_type": "markdown",
   "metadata": {},
   "source": [
    "Lost 53 records for which there were no sa2 codes"
   ]
  },
  {
   "cell_type": "code",
   "execution_count": 14,
   "metadata": {},
   "outputs": [
    {
     "data": {
      "text/html": [
       "<table border='1'>\n",
       "<tr><th>sa2_code</th><th>num_earners</th><th>median_age</th><th>median_income</th><th>mean_income</th><th>postcode</th></tr>\n",
       "<tr><td>801051049</td><td>548</td><td>23</td><td>9306</td><td>16835</td><td>0200</td></tr>\n",
       "<tr><td>701011002</td><td>5909</td><td>33</td><td>60937</td><td>87791</td><td>0800</td></tr>\n",
       "<tr><td>701011002</td><td>5909</td><td>33</td><td>60937</td><td>87791</td><td>0801</td></tr>\n",
       "<tr><td>701011007</td><td>1873</td><td>40</td><td>75219</td><td>98872</td><td>0804</td></tr>\n",
       "<tr><td>701021024</td><td>1229</td><td>41</td><td>58778</td><td>65990</td><td>0810</td></tr>\n",
       "</table>\n"
      ],
      "text/plain": [
       "+---------+-----------+----------+-------------+-----------+--------+\n",
       "| sa2_code|num_earners|median_age|median_income|mean_income|postcode|\n",
       "+---------+-----------+----------+-------------+-----------+--------+\n",
       "|801051049|        548|        23|         9306|      16835|    0200|\n",
       "|701011002|       5909|        33|        60937|      87791|    0800|\n",
       "|701011002|       5909|        33|        60937|      87791|    0801|\n",
       "|701011007|       1873|        40|        75219|      98872|    0804|\n",
       "|701021024|       1229|        41|        58778|      65990|    0810|\n",
       "+---------+-----------+----------+-------------+-----------+--------+"
      ]
     },
     "execution_count": 14,
     "metadata": {},
     "output_type": "execute_result"
    }
   ],
   "source": [
    "merged_sdf2.orderBy(\"postcode\").limit(5)"
   ]
  },
  {
   "cell_type": "markdown",
   "metadata": {},
   "source": [
    "Again, use the mean approach for the income data"
   ]
  },
  {
   "cell_type": "code",
   "execution_count": 15,
   "metadata": {},
   "outputs": [
    {
     "name": "stdout",
     "output_type": "stream",
     "text": [
      "+--------+-----------+----------+-------------+-----------+\n",
      "|postcode|num_earners|median_age|median_income|mean_income|\n",
      "+--------+-----------+----------+-------------+-----------+\n",
      "|    0200|      548.0|      23.0|       9306.0|    16835.0|\n",
      "|    0800|     5909.0|      33.0|      60937.0|    87791.0|\n",
      "|    0801|     5909.0|      33.0|      60937.0|    87791.0|\n",
      "|    0804|     1873.0|      40.0|      75219.0|    98872.0|\n",
      "|    0810|    1823.33|     39.33|      59558.0|   69537.42|\n",
      "|    0811|     2395.0|      39.0|      52335.0|    67299.0|\n",
      "|    0812|     2330.2|      41.6|      62069.0|    69623.6|\n",
      "|    0813|      296.0|      35.0|      35787.0|    44160.0|\n",
      "|    0814|     2618.0|      39.0|      65946.0|    81123.0|\n",
      "|    0815|     2395.0|      39.0|      52335.0|    67299.0|\n",
      "|    0820|    2223.55|     41.09|     58518.91|   75577.27|\n",
      "|    0821|     3585.0|      39.0|      51942.0|    69250.0|\n",
      "|    0822|    1787.38|     39.06|     49168.06|   59432.69|\n",
      "|    0828|      686.0|      43.0|      58107.0|    70769.0|\n",
      "|    0829|     2887.0|      37.0|      73073.0|    83989.0|\n",
      "|    0830|    2026.25|      35.5|      65808.5|   73559.38|\n",
      "|    0831|     2982.0|      37.0|      71550.0|    79929.0|\n",
      "|    0832|     2935.4|      36.6|      68623.6|    76968.4|\n",
      "|    0834|     2122.0|      44.0|      63094.0|    72515.0|\n",
      "|    0835|     2354.5|      43.0|      64311.5|    73718.5|\n",
      "+--------+-----------+----------+-------------+-----------+\n",
      "only showing top 20 rows\n",
      "\n"
     ]
    }
   ],
   "source": [
    "postcode_income_sdf = merged_sdf2.groupBy(\"postcode\") \\\n",
    "    .agg(\n",
    "        F.round(F.mean(merged_sdf2.num_earners), 2).alias(\"num_earners\"),\n",
    "        F.round(F.mean(merged_sdf2.median_age), 2).alias(\"median_age\"),\n",
    "        F.round(F.mean(merged_sdf2.median_income), 2).alias(\"median_income\"),\n",
    "        F.round(F.mean(merged_sdf2.mean_income), 2).alias(\"mean_income\")\n",
    "    )\n",
    "    \n",
    "postcode_income_sdf.orderBy(\"postcode\").show()"
   ]
  },
  {
   "cell_type": "markdown",
   "metadata": {},
   "source": [
    "Visualize the income variation for each SA2 code within each postcode"
   ]
  },
  {
   "cell_type": "code",
   "execution_count": 16,
   "metadata": {},
   "outputs": [],
   "source": [
    "income_diffs = merged_sdf2.groupBy(\"postcode\").agg(\n",
    "    (F.max(merged_sdf2.num_earners) - F.min(merged_sdf2.num_earners)).alias(\"num_earners\"),\n",
    "    (F.max(merged_sdf2.median_age) - F.min(merged_sdf2.median_age)).alias(\"median_age\"),\n",
    "    (F.max(merged_sdf2.median_income) - F.min(merged_sdf2.median_income)).alias(\"median_income\"),\n",
    "    (F.max(merged_sdf2.mean_income) - F.min(merged_sdf2.mean_income)).alias(\"mean_income\")\n",
    ")"
   ]
  },
  {
   "cell_type": "code",
   "execution_count": 17,
   "metadata": {},
   "outputs": [
    {
     "data": {
      "text/html": [
       "<table border='1'>\n",
       "<tr><th>postcode</th><th>num_earners</th><th>median_age</th><th>median_income</th><th>mean_income</th></tr>\n",
       "<tr><td>3414</td><td>0</td><td>0</td><td>0</td><td>0</td></tr>\n",
       "<tr><td>4032</td><td>2182</td><td>8</td><td>4402</td><td>6670</td></tr>\n",
       "<tr><td>9009</td><td>0</td><td>0</td><td>0</td><td>0</td></tr>\n",
       "<tr><td>3015</td><td>0</td><td>0</td><td>0</td><td>0</td></tr>\n",
       "<tr><td>5523</td><td>3242</td><td>2</td><td>4299</td><td>4030</td></tr>\n",
       "</table>\n"
      ],
      "text/plain": [
       "+--------+-----------+----------+-------------+-----------+\n",
       "|postcode|num_earners|median_age|median_income|mean_income|\n",
       "+--------+-----------+----------+-------------+-----------+\n",
       "|    3414|          0|         0|            0|          0|\n",
       "|    4032|       2182|         8|         4402|       6670|\n",
       "|    9009|          0|         0|            0|          0|\n",
       "|    3015|          0|         0|            0|          0|\n",
       "|    5523|       3242|         2|         4299|       4030|\n",
       "+--------+-----------+----------+-------------+-----------+"
      ]
     },
     "execution_count": 17,
     "metadata": {},
     "output_type": "execute_result"
    }
   ],
   "source": [
    "income_diffs.limit(5)"
   ]
  },
  {
   "cell_type": "code",
   "execution_count": 18,
   "metadata": {},
   "outputs": [
    {
     "name": "stderr",
     "output_type": "stream",
     "text": [
      "/tmp/ipykernel_5711/3120451410.py:3: UserWarning: FixedFormatter should only be used together with FixedLocator\n",
      "  ax2.set_yticklabels(['num_earners', 'median_age',\n"
     ]
    },
    {
     "data": {
      "image/png": "[encoded data removed]",
      "text/plain": [
       "<Figure size 500x300 with 1 Axes>"
      ]
     },
     "metadata": {},
     "output_type": "display_data"
    }
   ],
   "source": [
    "fig2 = plt.figure(figsize = (5, 3))\n",
    "ax2 = fig2.add_axes([0, 0, 1, 1])\n",
    "ax2.set_yticklabels(['num_earners', 'median_age',\n",
    "                    'median_income', 'mean_income'])\n",
    "bp = ax2.boxplot(income_diffs.drop(\"postcode\").toPandas(), vert=0)\n",
    "\n",
    "plt.show()"
   ]
  },
  {
   "cell_type": "markdown",
   "metadata": {},
   "source": [
    "Combine all external data in a single spark dataframe"
   ]
  },
  {
   "cell_type": "code",
   "execution_count": 19,
   "metadata": {},
   "outputs": [
    {
     "name": "stdout",
     "output_type": "stream",
     "text": [
      "2793 3160\n"
     ]
    }
   ],
   "source": [
    "print(postcode_pop_sdf.count(), postcode_income_sdf.count())"
   ]
  },
  {
   "cell_type": "code",
   "execution_count": 20,
   "metadata": {},
   "outputs": [
    {
     "name": "stdout",
     "output_type": "stream",
     "text": [
      "3162\n"
     ]
    },
    {
     "data": {
      "text/html": [
       "<table border='1'>\n",
       "<tr><th>postcode</th><th>total_pop</th><th>under10_pop</th><th>adolsc_pop</th><th>yng_adult_pop</th><th>mid_age_pop</th><th>old_pop</th><th>num_earners</th><th>median_age</th><th>median_income</th><th>mean_income</th></tr>\n",
       "<tr><td>0200</td><td>2875.0</td><td>6.0</td><td>1528.0</td><td>1292.0</td><td>47.0</td><td>2.0</td><td>548.0</td><td>23.0</td><td>9306.0</td><td>16835.0</td></tr>\n",
       "<tr><td>0800</td><td>7679.0</td><td>474.0</td><td>325.0</td><td>3322.0</td><td>2652.0</td><td>906.0</td><td>5909.0</td><td>33.0</td><td>60937.0</td><td>87791.0</td></tr>\n",
       "<tr><td>0801</td><td>7679.0</td><td>474.0</td><td>325.0</td><td>3322.0</td><td>2652.0</td><td>906.0</td><td>5909.0</td><td>33.0</td><td>60937.0</td><td>87791.0</td></tr>\n",
       "<tr><td>0804</td><td>2980.0</td><td>350.0</td><td>282.0</td><td>801.0</td><td>1047.0</td><td>500.0</td><td>1873.0</td><td>40.0</td><td>75219.0</td><td>98872.0</td></tr>\n",
       "<tr><td>0810</td><td>3018.0</td><td>419.0</td><td>346.08</td><td>769.08</td><td>1013.67</td><td>470.17</td><td>1823.33</td><td>39.33</td><td>59558.0</td><td>69537.42</td></tr>\n",
       "</table>\n"
      ],
      "text/plain": [
       "+--------+---------+-----------+----------+-------------+-----------+-------+-----------+----------+-------------+-----------+\n",
       "|postcode|total_pop|under10_pop|adolsc_pop|yng_adult_pop|mid_age_pop|old_pop|num_earners|median_age|median_income|mean_income|\n",
       "+--------+---------+-----------+----------+-------------+-----------+-------+-----------+----------+-------------+-----------+\n",
       "|    0200|   2875.0|        6.0|    1528.0|       1292.0|       47.0|    2.0|      548.0|      23.0|       9306.0|    16835.0|\n",
       "|    0800|   7679.0|      474.0|     325.0|       3322.0|     2652.0|  906.0|     5909.0|      33.0|      60937.0|    87791.0|\n",
       "|    0801|   7679.0|      474.0|     325.0|       3322.0|     2652.0|  906.0|     5909.0|      33.0|      60937.0|    87791.0|\n",
       "|    0804|   2980.0|      350.0|     282.0|        801.0|     1047.0|  500.0|     1873.0|      40.0|      75219.0|    98872.0|\n",
       "|    0810|   3018.0|      419.0|    346.08|       769.08|    1013.67| 470.17|    1823.33|     39.33|      59558.0|   69537.42|\n",
       "+--------+---------+-----------+----------+-------------+-----------+-------+-----------+----------+-------------+-----------+"
      ]
     },
     "execution_count": 20,
     "metadata": {},
     "output_type": "execute_result"
    }
   ],
   "source": [
    "external_data_sdf = postcode_pop_sdf.join(postcode_income_sdf, on=\"postcode\", how=\"full\")\n",
    "print(external_data_sdf.count())\n",
    "external_data_sdf.limit(5)"
   ]
  },
  {
   "cell_type": "markdown",
   "metadata": {},
   "source": [
    "## Join External data with existing data"
   ]
  },
  {
   "cell_type": "code",
   "execution_count": 21,
   "metadata": {},
   "outputs": [
    {
     "name": "stdout",
     "output_type": "stream",
     "text": [
      "13613661\n"
     ]
    },
    {
     "name": "stderr",
     "output_type": "stream",
     "text": [
      "                                                                                \r"
     ]
    },
    {
     "data": {
      "text/html": [
       "<table border='1'>\n",
       "<tr><th>merchant_abn</th><th>consumer_id</th><th>user_id</th><th>dollar_value</th><th>order_id</th><th>order_datetime</th><th>customer_name</th><th>address</th><th>state</th><th>postcode</th><th>gender</th><th>company_name</th><th>tags</th><th>take_rate</th><th>revenue_band</th></tr>\n",
       "<tr><td>69666829657</td><td>226</td><td>5162</td><td>79.65159982605903</td><td>8765ef9f-dba6-407...</td><td>2021-08-20</td><td>Courtney Torres</td><td>6945 Higgins Brooks</td><td>SA</td><td>5581</td><td>Female</td><td>Sem Ut Institute</td><td>bicycle shops - s...</td><td> 2.86</td><td> c</td></tr>\n",
       "<tr><td>50321300271</td><td>226</td><td>5162</td><td>594.2915496790856</td><td>79f2842d-f8b2-4fd...</td><td>2022-06-01</td><td>Courtney Torres</td><td>6945 Higgins Brooks</td><td>SA</td><td>5581</td><td>Female</td><td>Augue Industries</td><td>bicycle shops - s...</td><td> 4.24</td><td> b</td></tr>\n",
       "<tr><td>70610974780</td><td>226</td><td>5162</td><td>52.820359204536665</td><td>bdf345c8-4c5d-48e...</td><td>2021-08-20</td><td>Courtney Torres</td><td>6945 Higgins Brooks</td><td>SA</td><td>5581</td><td>Female</td><td>Elit Aliquam PC</td><td>tent and awning s...</td><td> 6.93</td><td> a</td></tr>\n",
       "<tr><td>17324645993</td><td>226</td><td>5162</td><td>27.12729568273566</td><td>0a44d623-e325-4fc...</td><td>2022-05-12</td><td>Courtney Torres</td><td>6945 Higgins Brooks</td><td>SA</td><td>5581</td><td>Female</td><td>Eget Metus In Cor...</td><td>tent and awning s...</td><td> 5.73</td><td> a</td></tr>\n",
       "<tr><td>15582655078</td><td>226</td><td>5162</td><td>75.31904078962366</td><td>47ddf8e0-5f72-408...</td><td>2021-08-21</td><td>Courtney Torres</td><td>6945 Higgins Brooks</td><td>SA</td><td>5581</td><td>Female</td><td>Eu Odio Phasellus...</td><td>gift, card, novel...</td><td> 6.77</td><td> a</td></tr>\n",
       "</table>\n"
      ],
      "text/plain": [
       "+------------+-----------+-------+------------------+--------------------+--------------+---------------+-------------------+-----+--------+------+--------------------+--------------------+---------+------------+\n",
       "|merchant_abn|consumer_id|user_id|      dollar_value|            order_id|order_datetime|  customer_name|            address|state|postcode|gender|        company_name|                tags|take_rate|revenue_band|\n",
       "+------------+-----------+-------+------------------+--------------------+--------------+---------------+-------------------+-----+--------+------+--------------------+--------------------+---------+------------+\n",
       "| 69666829657|        226|   5162| 79.65159982605903|8765ef9f-dba6-407...|    2021-08-20|Courtney Torres|6945 Higgins Brooks|   SA|    5581|Female|    Sem Ut Institute|bicycle shops - s...|     2.86|           c|\n",
       "| 50321300271|        226|   5162| 594.2915496790856|79f2842d-f8b2-4fd...|    2022-06-01|Courtney Torres|6945 Higgins Brooks|   SA|    5581|Female|    Augue Industries|bicycle shops - s...|     4.24|           b|\n",
       "| 70610974780|        226|   5162|52.820359204536665|bdf345c8-4c5d-48e...|    2021-08-20|Courtney Torres|6945 Higgins Brooks|   SA|    5581|Female|     Elit Aliquam PC|tent and awning s...|     6.93|           a|\n",
       "| 17324645993|        226|   5162| 27.12729568273566|0a44d623-e325-4fc...|    2022-05-12|Courtney Torres|6945 Higgins Brooks|   SA|    5581|Female|Eget Metus In Cor...|tent and awning s...|     5.73|           a|\n",
       "| 15582655078|        226|   5162| 75.31904078962366|47ddf8e0-5f72-408...|    2021-08-21|Courtney Torres|6945 Higgins Brooks|   SA|    5581|Female|Eu Odio Phasellus...|gift, card, novel...|     6.77|           a|\n",
       "+------------+-----------+-------+------------------+--------------------+--------------+---------------+-------------------+-----+--------+------+--------------------+--------------------+---------+------------+"
      ]
     },
     "execution_count": 21,
     "metadata": {},
     "output_type": "execute_result"
    }
   ],
   "source": [
    "sdf = spark.read.parquet(\"../data/curated/mergedf.parquet/\")\n",
    "print(sdf.count())\n",
    "sdf.limit(5)"
   ]
  },
  {
   "cell_type": "code",
   "execution_count": 22,
   "metadata": {},
   "outputs": [
    {
     "name": "stderr",
     "output_type": "stream",
     "text": [
      "                                                                                \r"
     ]
    },
    {
     "name": "stdout",
     "output_type": "stream",
     "text": [
      "13394287\n"
     ]
    },
    {
     "name": "stderr",
     "output_type": "stream",
     "text": [
      "                                                                                \r"
     ]
    },
    {
     "data": {
      "text/html": [
       "<table border='1'>\n",
       "<tr><th>postcode</th><th>merchant_abn</th><th>consumer_id</th><th>user_id</th><th>dollar_value</th><th>order_id</th><th>order_datetime</th><th>customer_name</th><th>address</th><th>state</th><th>gender</th><th>company_name</th><th>tags</th><th>take_rate</th><th>revenue_band</th><th>total_pop</th><th>under10_pop</th><th>adolsc_pop</th><th>yng_adult_pop</th><th>mid_age_pop</th><th>old_pop</th><th>num_earners</th><th>median_age</th><th>median_income</th><th>mean_income</th></tr>\n",
       "<tr><td>6731</td><td>71350572766</td><td>58911</td><td>22131</td><td>38.35886219595664</td><td>fd0cfc42-44b3-467...</td><td>2021-09-18</td><td>Paul Lopez</td><td>3908 David Squares</td><td>WA</td><td>Male</td><td>Dictum Placerat A...</td><td>cable, satellite,...</td><td> 1.57</td><td> c</td><td>8374.0</td><td>1373.0</td><td>1185.0</td><td>2200.0</td><td>2600.0</td><td>1016.0</td><td>2907.0</td><td>39.0</td><td>48034.0</td><td>56306.0</td></tr>\n",
       "<tr><td>6731</td><td>96680767841</td><td>58911</td><td>22131</td><td>415.9547984625</td><td>829843bc-c571-493...</td><td>2021-08-19</td><td>Paul Lopez</td><td>3908 David Squares</td><td>WA</td><td>Male</td><td>Ornare Limited</td><td>motor vehicle sup...</td><td> 5.91</td><td> a</td><td>8374.0</td><td>1373.0</td><td>1185.0</td><td>2200.0</td><td>2600.0</td><td>1016.0</td><td>2907.0</td><td>39.0</td><td>48034.0</td><td>56306.0</td></tr>\n",
       "<tr><td>6731</td><td>79417999332</td><td>58911</td><td>22131</td><td>48.407296168022164</td><td>55069672-41f7-4dc...</td><td>2021-10-06</td><td>Paul Lopez</td><td>3908 David Squares</td><td>WA</td><td>Male</td><td>Phasellus At Company</td><td>gift, card, novel...</td><td> 4.95</td><td> b</td><td>8374.0</td><td>1373.0</td><td>1185.0</td><td>2200.0</td><td>2600.0</td><td>1016.0</td><td>2907.0</td><td>39.0</td><td>48034.0</td><td>56306.0</td></tr>\n",
       "<tr><td>6731</td><td>66370248931</td><td>58911</td><td>22131</td><td>82.54046571771035</td><td>cc8ac5c5-0dfc-4e1...</td><td>2021-08-19</td><td>Paul Lopez</td><td>3908 David Squares</td><td>WA</td><td>Male</td><td>Morbi Non PC</td><td>cable, satellite,...</td><td> 3.15</td><td> b</td><td>8374.0</td><td>1373.0</td><td>1185.0</td><td>2200.0</td><td>2600.0</td><td>1016.0</td><td>2907.0</td><td>39.0</td><td>48034.0</td><td>56306.0</td></tr>\n",
       "<tr><td>6731</td><td>82081024598</td><td>58911</td><td>22131</td><td>43.24936460061825</td><td>1632e377-0b6d-447...</td><td>2021-10-06</td><td>Paul Lopez</td><td>3908 David Squares</td><td>WA</td><td>Male</td><td>Placerat Orci Ass...</td><td>digital goods: bo...</td><td> 2.40</td><td> c</td><td>8374.0</td><td>1373.0</td><td>1185.0</td><td>2200.0</td><td>2600.0</td><td>1016.0</td><td>2907.0</td><td>39.0</td><td>48034.0</td><td>56306.0</td></tr>\n",
       "</table>\n"
      ],
      "text/plain": [
       "+--------+------------+-----------+-------+------------------+--------------------+--------------+-------------+------------------+-----+------+--------------------+--------------------+---------+------------+---------+-----------+----------+-------------+-----------+-------+-----------+----------+-------------+-----------+\n",
       "|postcode|merchant_abn|consumer_id|user_id|      dollar_value|            order_id|order_datetime|customer_name|           address|state|gender|        company_name|                tags|take_rate|revenue_band|total_pop|under10_pop|adolsc_pop|yng_adult_pop|mid_age_pop|old_pop|num_earners|median_age|median_income|mean_income|\n",
       "+--------+------------+-----------+-------+------------------+--------------------+--------------+-------------+------------------+-----+------+--------------------+--------------------+---------+------------+---------+-----------+----------+-------------+-----------+-------+-----------+----------+-------------+-----------+\n",
       "|    6731| 71350572766|      58911|  22131| 38.35886219595664|fd0cfc42-44b3-467...|    2021-09-18|   Paul Lopez|3908 David Squares|   WA|  Male|Dictum Placerat A...|cable, satellite,...|     1.57|           c|   8374.0|     1373.0|    1185.0|       2200.0|     2600.0| 1016.0|     2907.0|      39.0|      48034.0|    56306.0|\n",
       "|    6731| 96680767841|      58911|  22131|    415.9547984625|829843bc-c571-493...|    2021-08-19|   Paul Lopez|3908 David Squares|   WA|  Male|      Ornare Limited|motor vehicle sup...|     5.91|           a|   8374.0|     1373.0|    1185.0|       2200.0|     2600.0| 1016.0|     2907.0|      39.0|      48034.0|    56306.0|\n",
       "|    6731| 79417999332|      58911|  22131|48.407296168022164|55069672-41f7-4dc...|    2021-10-06|   Paul Lopez|3908 David Squares|   WA|  Male|Phasellus At Company|gift, card, novel...|     4.95|           b|   8374.0|     1373.0|    1185.0|       2200.0|     2600.0| 1016.0|     2907.0|      39.0|      48034.0|    56306.0|\n",
       "|    6731| 66370248931|      58911|  22131| 82.54046571771035|cc8ac5c5-0dfc-4e1...|    2021-08-19|   Paul Lopez|3908 David Squares|   WA|  Male|        Morbi Non PC|cable, satellite,...|     3.15|           b|   8374.0|     1373.0|    1185.0|       2200.0|     2600.0| 1016.0|     2907.0|      39.0|      48034.0|    56306.0|\n",
       "|    6731| 82081024598|      58911|  22131| 43.24936460061825|1632e377-0b6d-447...|    2021-10-06|   Paul Lopez|3908 David Squares|   WA|  Male|Placerat Orci Ass...|digital goods: bo...|     2.40|           c|   8374.0|     1373.0|    1185.0|       2200.0|     2600.0| 1016.0|     2907.0|      39.0|      48034.0|    56306.0|\n",
       "+--------+------------+-----------+-------+------------------+--------------------+--------------+-------------+------------------+-----+------+--------------------+--------------------+---------+------------+---------+-----------+----------+-------------+-----------+-------+-----------+----------+-------------+-----------+"
      ]
     },
     "execution_count": 22,
     "metadata": {},
     "output_type": "execute_result"
    }
   ],
   "source": [
    "finaldf = sdf.join(external_data_sdf, on=\"postcode\", how=\"inner\")\n",
    "print(finaldf.count())\n",
    "finaldf.limit(5)"
   ]
  },
  {
   "cell_type": "markdown",
   "metadata": {},
   "source": [
    "Null values occur because for some postcodes, population/income data did not exist."
   ]
  },
  {
   "cell_type": "code",
   "execution_count": 23,
   "metadata": {},
   "outputs": [
    {
     "name": "stdout",
     "output_type": "stream",
     "text": [
      "22/09/26 21:49:54 WARN package: Truncated the string representation of a plan since it was too large. This behavior can be adjusted by setting 'spark.sql.debug.maxToStringFields'.\n"
     ]
    },
    {
     "name": "stderr",
     "output_type": "stream",
     "text": [
      "                                                                                \r"
     ]
    },
    {
     "data": {
      "text/plain": [
       "11818811"
      ]
     },
     "execution_count": 23,
     "metadata": {},
     "output_type": "execute_result"
    }
   ],
   "source": [
    "finaldf = finaldf.dropna(how=\"any\")\n",
    "finaldf.count()"
   ]
  },
  {
   "cell_type": "markdown",
   "metadata": {},
   "source": [
    "Removing records containing null values resulted in the loss of 1,575,476 records."
   ]
  }
 ],
 "metadata": {
  "kernelspec": {
   "display_name": "Python 3.8.10 64-bit",
   "language": "python",
   "name": "python3"
  },
  "language_info": {
   "codemirror_mode": {
    "name": "ipython",
    "version": 3
   },
   "file_extension": ".py",
   "mimetype": "text/x-python",
   "name": "python",
   "nbconvert_exporter": "python",
   "pygments_lexer": "ipython3",
   "version": "3.10.4"
  },
  "orig_nbformat": 4,
  "vscode": {
   "interpreter": {
    "hash": "916dbcbb3f70747c44a77c7bcd40155683ae19c65e1c03b4aa3499c5328201f1"
   }
  }
 },
 "nbformat": 4,
 "nbformat_minor": 2
}
