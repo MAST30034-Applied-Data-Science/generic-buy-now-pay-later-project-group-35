{
 "cells": [
  {
   "cell_type": "code",
   "execution_count": 1,
   "metadata": {},
   "outputs": [
    {
     "name": "stdout",
     "output_type": "stream",
     "text": [
      "22/09/21 05:26:13 WARN Utils: Your hostname, DESKTOP-JJJD94T resolves to a loopback address: 127.0.1.1; using 172.26.254.211 instead (on interface eth0)\n",
      "22/09/21 05:26:14 WARN Utils: Set SPARK_LOCAL_IP if you need to bind to another address\n"
     ]
    },
    {
     "name": "stderr",
     "output_type": "stream",
     "text": [
      "Setting default log level to \"WARN\".\n",
      "To adjust logging level use sc.setLogLevel(newLevel). For SparkR, use setLogLevel(newLevel).\n"
     ]
    },
    {
     "name": "stdout",
     "output_type": "stream",
     "text": [
      "22/09/21 05:26:15 WARN NativeCodeLoader: Unable to load native-hadoop library for your platform... using builtin-java classes where applicable\n"
     ]
    }
   ],
   "source": [
    "from pyspark.sql import SparkSession\n",
    "from pyspark.sql.functions import * \n",
    "import matplotlib.pyplot as plt\n",
    "import pandas as pd\n",
    "import numpy as np\n",
    "from urllib.request import urlretrieve\n",
    "from owslib.wfs import WebFeatureService\n",
    "from dotenv import load_dotenv\n",
    "from pyspark.sql import functions as F\n",
    "\n",
    "# Create a spark session\n",
    "spark = (\n",
    "    SparkSession.builder.appName(\"analysis\")\n",
    "    .config(\"spark.sql.repl.eagerEval.enabled\", True) \n",
    "    .config(\"spark.sql.parquet.cacheMetadata\", \"true\")\n",
    "    .config(\"spark.sql.session.timeZone\", \"Etc/UTC\")\n",
    "    .config(\"spark.driver.memory\", \"2g\")\n",
    "    .config(\"spark.executor.memory\", \"6g\")\n",
    "    .getOrCreate()\n",
    ")"
   ]
  },
  {
   "cell_type": "code",
   "execution_count": 2,
   "metadata": {},
   "outputs": [
    {
     "name": "stderr",
     "output_type": "stream",
     "text": [
      "                                                                                \r"
     ]
    },
    {
     "name": "stdout",
     "output_type": "stream",
     "text": [
      "5988\n"
     ]
    },
    {
     "data": {
      "text/html": [
       "<table border='1'>\n",
       "<tr><th>postcode</th><th>sa2_code</th><th>sa2_name</th><th>ratio</th></tr>\n",
       "<tr><td>0800</td><td>701011002</td><td>Darwin City</td><td>1.0</td></tr>\n",
       "<tr><td>0810</td><td>701021010</td><td>Alawa</td><td>0.0719971</td></tr>\n",
       "<tr><td>0810</td><td>701021013</td><td>Brinkin - Nakara</td><td>0.0963918</td></tr>\n",
       "<tr><td>0810</td><td>701021016</td><td>Coconut Grove</td><td>0.0964936</td></tr>\n",
       "<tr><td>0810</td><td>701021018</td><td>Jingili</td><td>0.061562</td></tr>\n",
       "</table>\n"
      ],
      "text/plain": [
       "+--------+---------+----------------+---------+\n",
       "|postcode| sa2_code|        sa2_name|    ratio|\n",
       "+--------+---------+----------------+---------+\n",
       "|    0800|701011002|     Darwin City|      1.0|\n",
       "|    0810|701021010|           Alawa|0.0719971|\n",
       "|    0810|701021013|Brinkin - Nakara|0.0963918|\n",
       "|    0810|701021016|   Coconut Grove|0.0964936|\n",
       "|    0810|701021018|         Jingili| 0.061562|\n",
       "+--------+---------+----------------+---------+"
      ]
     },
     "execution_count": 2,
     "metadata": {},
     "output_type": "execute_result"
    }
   ],
   "source": [
    "postcode_ratio_sdf = spark.read.parquet(\"../data/curated/postcode_ratio_sdf.parquet/\")\n",
    "print(postcode_ratio_sdf.count())\n",
    "postcode_ratio_sdf.limit(5)"
   ]
  },
  {
   "cell_type": "markdown",
   "metadata": {},
   "source": [
    "## Join postcode data with population data"
   ]
  },
  {
   "cell_type": "code",
   "execution_count": 3,
   "metadata": {},
   "outputs": [
    {
     "name": "stdout",
     "output_type": "stream",
     "text": [
      "2450\n"
     ]
    },
    {
     "data": {
      "text/html": [
       "<table border='1'>\n",
       "<tr><th>State/Terr</th><th>sa2_code</th><th>SA2 name</th><th>Total</th><th>Under 10</th><th>Adolescent</th><th>Young adult</th><th>Middle age</th><th>Old</th></tr>\n",
       "<tr><td>New South Wales</td><td>115011556</td><td>Castle Hill - South</td><td>10436</td><td>1256</td><td>1454</td><td>1704</td><td>3718</td><td>2304</td></tr>\n",
       "<tr><td>New South Wales</td><td>115011557</td><td>Castle Hill - West</td><td>5198</td><td>568</td><td>849</td><td>810</td><td>1928</td><td>1043</td></tr>\n",
       "<tr><td>New South Wales</td><td>115011558</td><td>Cherrybrook</td><td>19135</td><td>1982</td><td>3084</td><td>2522</td><td>6760</td><td>4787</td></tr>\n",
       "<tr><td>New South Wales</td><td>115011621</td><td>Kellyville - East</td><td>17748</td><td>2300</td><td>3032</td><td>2748</td><td>6701</td><td>2967</td></tr>\n",
       "<tr><td>New South Wales</td><td>115011622</td><td>Kellyville - West</td><td>11417</td><td>1702</td><td>1453</td><td>2162</td><td>4067</td><td>2033</td></tr>\n",
       "</table>\n"
      ],
      "text/plain": [
       "+---------------+---------+-------------------+-----+--------+----------+-----------+----------+----+\n",
       "|     State/Terr| sa2_code|           SA2 name|Total|Under 10|Adolescent|Young adult|Middle age| Old|\n",
       "+---------------+---------+-------------------+-----+--------+----------+-----------+----------+----+\n",
       "|New South Wales|115011556|Castle Hill - South|10436|    1256|      1454|       1704|      3718|2304|\n",
       "|New South Wales|115011557| Castle Hill - West| 5198|     568|       849|        810|      1928|1043|\n",
       "|New South Wales|115011558|        Cherrybrook|19135|    1982|      3084|       2522|      6760|4787|\n",
       "|New South Wales|115011621|  Kellyville - East|17748|    2300|      3032|       2748|      6701|2967|\n",
       "|New South Wales|115011622|  Kellyville - West|11417|    1702|      1453|       2162|      4067|2033|\n",
       "+---------------+---------+-------------------+-----+--------+----------+-----------+----------+----+"
      ]
     },
     "execution_count": 3,
     "metadata": {},
     "output_type": "execute_result"
    }
   ],
   "source": [
    "pop_sdf = spark.read.parquet(\"../data/curated/pop_sdf.parquet/\")\n",
    "print(pop_sdf.count())\n",
    "populationdf = pop_sdf.withColumnRenamed(\"SA2 code\",\"sa2_code\")\n",
    "populationdf.limit(5)"
   ]
  },
  {
   "cell_type": "code",
   "execution_count": 4,
   "metadata": {},
   "outputs": [],
   "source": [
    "merged_sdf1 = populationdf.join(postcode_ratio_sdf, on=\"sa2_code\", how=\"inner\")"
   ]
  },
  {
   "cell_type": "code",
   "execution_count": 5,
   "metadata": {},
   "outputs": [
    {
     "data": {
      "text/plain": [
       "1900"
      ]
     },
     "execution_count": 5,
     "metadata": {},
     "output_type": "execute_result"
    }
   ],
   "source": [
    "merged_sdf1.groupBy(\"sa2_code\").count().count()"
   ]
  },
  {
   "cell_type": "markdown",
   "metadata": {},
   "source": [
    "Lost 550 records for which there were no sa2 codes"
   ]
  },
  {
   "cell_type": "code",
   "execution_count": 6,
   "metadata": {},
   "outputs": [
    {
     "data": {
      "text/html": [
       "<table border='1'>\n",
       "<tr><th>sa2_code</th><th>State/Terr</th><th>SA2 name</th><th>Total</th><th>Under 10</th><th>Adolescent</th><th>Young adult</th><th>Middle age</th><th>Old</th><th>postcode</th><th>sa2_name</th><th>ratio</th></tr>\n",
       "<tr><td>701011002</td><td>Northern Territory</td><td>Darwin City</td><td>7679</td><td>474</td><td>325</td><td>3322</td><td>2652</td><td>906</td><td>0800</td><td>Darwin City</td><td>1.0</td></tr>\n",
       "<tr><td>701021018</td><td>Northern Territory</td><td>Jingili</td><td>1922</td><td>301</td><td>274</td><td>335</td><td>702</td><td>310</td><td>0810</td><td>Jingili</td><td>0.061562</td></tr>\n",
       "<tr><td>701021025</td><td>Northern Territory</td><td>Nightcliff</td><td>4112</td><td>490</td><td>393</td><td>1204</td><td>1371</td><td>654</td><td>0810</td><td>Nightcliff</td><td>0.1239038</td></tr>\n",
       "<tr><td>701021021</td><td>Northern Territory</td><td>Lyons (NT)</td><td>6356</td><td>1310</td><td>902</td><td>1610</td><td>2185</td><td>349</td><td>0810</td><td>Lyons (NT)</td><td>0.0702012</td></tr>\n",
       "<tr><td>701021023</td><td>Northern Territory</td><td>Millner</td><td>2726</td><td>341</td><td>259</td><td>709</td><td>947</td><td>470</td><td>0810</td><td>Millner</td><td>0.0834829</td></tr>\n",
       "</table>\n"
      ],
      "text/plain": [
       "+---------+------------------+-----------+-----+--------+----------+-----------+----------+---+--------+-----------+---------+\n",
       "| sa2_code|        State/Terr|   SA2 name|Total|Under 10|Adolescent|Young adult|Middle age|Old|postcode|   sa2_name|    ratio|\n",
       "+---------+------------------+-----------+-----+--------+----------+-----------+----------+---+--------+-----------+---------+\n",
       "|701011002|Northern Territory|Darwin City| 7679|     474|       325|       3322|      2652|906|    0800|Darwin City|      1.0|\n",
       "|701021018|Northern Territory|    Jingili| 1922|     301|       274|        335|       702|310|    0810|    Jingili| 0.061562|\n",
       "|701021025|Northern Territory| Nightcliff| 4112|     490|       393|       1204|      1371|654|    0810| Nightcliff|0.1239038|\n",
       "|701021021|Northern Territory| Lyons (NT)| 6356|    1310|       902|       1610|      2185|349|    0810| Lyons (NT)|0.0702012|\n",
       "|701021023|Northern Territory|    Millner| 2726|     341|       259|        709|       947|470|    0810|    Millner|0.0834829|\n",
       "+---------+------------------+-----------+-----+--------+----------+-----------+----------+---+--------+-----------+---------+"
      ]
     },
     "execution_count": 6,
     "metadata": {},
     "output_type": "execute_result"
    }
   ],
   "source": [
    "merged_sdf1.orderBy(\"postcode\").limit(5)"
   ]
  },
  {
   "cell_type": "markdown",
   "metadata": {},
   "source": [
    "Get a single population value for each postcode and field by calculating the weighted average using ratio"
   ]
  },
  {
   "cell_type": "code",
   "execution_count": 7,
   "metadata": {},
   "outputs": [
    {
     "name": "stdout",
     "output_type": "stream",
     "text": [
      "+--------+--------------+----------------+---------------+------------------+----------------+------------+\n",
      "|postcode|wavg_pop_total|wavg_pop_under10|wavg_pop_adolsc|wavg_pop_yng_adult|wavg_pop_mid_age|wavg_pop_old|\n",
      "+--------+--------------+----------------+---------------+------------------+----------------+------------+\n",
      "|    0800|        7679.0|           474.0|          325.0|            3322.0|          2652.0|       906.0|\n",
      "|    0810|       3121.46|          419.06|         345.41|             819.6|         1043.92|      493.46|\n",
      "|    0812|       4308.01|          621.82|         571.11|             844.5|         1475.39|       795.2|\n",
      "|    0820|       3420.98|          358.95|         316.31|           1032.65|          1172.7|      540.38|\n",
      "|    0822|       5099.87|           767.1|         868.74|           1295.53|         1631.41|      537.08|\n",
      "|    0828|        1814.0|           224.0|          302.0|             433.0|           624.0|       231.0|\n",
      "|    0829|       5673.15|          467.32|         532.63|           1749.75|         2035.05|       888.4|\n",
      "|    0830|       3671.22|          610.12|         484.28|            848.18|         1275.16|      453.48|\n",
      "|    0832|       5142.17|          918.67|         704.86|           1351.13|         1692.51|       475.0|\n",
      "|    0835|       4819.67|          408.13|         493.88|           1347.38|         1726.66|      843.62|\n",
      "|    0836|        8898.0|          1204.0|         1237.0|            1448.0|          3480.0|      1529.0|\n",
      "|    0837|        4584.0|           608.0|          549.0|             728.0|          1802.0|       897.0|\n",
      "|    0838|        4584.0|           608.0|          549.0|             728.0|          1802.0|       897.0|\n",
      "|    0840|        4678.0|           488.0|          435.0|             720.0|          1780.0|      1255.0|\n",
      "|    0841|        4584.0|           608.0|          549.0|             728.0|          1802.0|       897.0|\n",
      "|    0845|        4678.0|           488.0|          435.0|             720.0|          1780.0|      1255.0|\n",
      "|    0846|        4678.0|           488.0|          435.0|             720.0|          1780.0|      1255.0|\n",
      "|    0847|        2157.0|           355.0|          376.0|             627.0|           567.0|       232.0|\n",
      "|    0850|       10727.0|          1621.0|         1324.0|            2839.0|          3449.0|      1494.0|\n",
      "|    0852|       4260.86|          682.87|         701.17|           1181.77|         1257.15|       437.9|\n",
      "+--------+--------------+----------------+---------------+------------------+----------------+------------+\n",
      "only showing top 20 rows\n",
      "\n"
     ]
    }
   ],
   "source": [
    "postcode_pop_sdf = merged_sdf1.groupBy(\"postcode\") \\\n",
    "    .agg(\n",
    "        F.round((F.sum(merged_sdf1.Total * merged_sdf1.ratio) / F.sum(merged_sdf1.ratio)), 2).alias(\"total_pop\"),\n",
    "        F.round((F.sum(merged_sdf1[\"Under 10\"] * merged_sdf1.ratio) / F.sum(merged_sdf1.ratio)), 2).alias(\"under10_pop\"),\n",
    "        F.round((F.sum(merged_sdf1.Adolescent * merged_sdf1.ratio) / F.sum(merged_sdf1.ratio)), 2).alias(\"adolsc_pop\"),\n",
    "        F.round((F.sum(merged_sdf1[\"Young adult\"] * merged_sdf1.ratio) / F.sum(merged_sdf1.ratio)), 2).alias(\"yng_adult_pop\"),\n",
    "        F.round((F.sum(merged_sdf1[\"Middle age\"] * merged_sdf1.ratio) / F.sum(merged_sdf1.ratio)), 2).alias(\"mid_age_pop\"),\n",
    "        F.round((F.sum(merged_sdf1.Old * merged_sdf1.ratio) / F.sum(merged_sdf1.ratio)), 2).alias(\"old_pop\")\n",
    "    )\n",
    "    \n",
    "postcode_pop_sdf.orderBy(\"postcode\").show()"
   ]
  },
  {
   "cell_type": "markdown",
   "metadata": {},
   "source": [
    "## Join postcode data with income data"
   ]
  },
  {
   "cell_type": "code",
   "execution_count": 8,
   "metadata": {},
   "outputs": [
    {
     "name": "stdout",
     "output_type": "stream",
     "text": [
      "2239\n"
     ]
    },
    {
     "data": {
      "text/html": [
       "<table border='1'>\n",
       "<tr><th>sa2_code</th><th>num_earners</th><th>median_age</th><th>median_income</th><th>mean_income</th></tr>\n",
       "<tr><td>213011340</td><td>11238</td><td>46</td><td>51181</td><td>61177</td></tr>\n",
       "<tr><td>213021341</td><td>7942</td><td>43</td><td>57585</td><td>69301</td></tr>\n",
       "<tr><td>213021344</td><td>11216</td><td>41</td><td>66161</td><td>80219</td></tr>\n",
       "<tr><td>213021345</td><td>3015</td><td>41</td><td>52078</td><td>60249</td></tr>\n",
       "<tr><td>213021346</td><td>9996</td><td>47</td><td>63892</td><td>90668</td></tr>\n",
       "</table>\n"
      ],
      "text/plain": [
       "+---------+-----------+----------+-------------+-----------+\n",
       "| sa2_code|num_earners|median_age|median_income|mean_income|\n",
       "+---------+-----------+----------+-------------+-----------+\n",
       "|213011340|      11238|        46|        51181|      61177|\n",
       "|213021341|       7942|        43|        57585|      69301|\n",
       "|213021344|      11216|        41|        66161|      80219|\n",
       "|213021345|       3015|        41|        52078|      60249|\n",
       "|213021346|       9996|        47|        63892|      90668|\n",
       "+---------+-----------+----------+-------------+-----------+"
      ]
     },
     "execution_count": 8,
     "metadata": {},
     "output_type": "execute_result"
    }
   ],
   "source": [
    "incomedf = spark.read.parquet(\"../data/curated/incomedf.parquet/\")\n",
    "print(incomedf.count())\n",
    "incomedf.limit(5)"
   ]
  },
  {
   "cell_type": "code",
   "execution_count": 9,
   "metadata": {},
   "outputs": [],
   "source": [
    "merged_sdf2 = incomedf.join(postcode_ratio_sdf, on=\"sa2_code\", how=\"inner\")"
   ]
  },
  {
   "cell_type": "code",
   "execution_count": 10,
   "metadata": {},
   "outputs": [
    {
     "data": {
      "text/plain": [
       "2010"
      ]
     },
     "execution_count": 10,
     "metadata": {},
     "output_type": "execute_result"
    }
   ],
   "source": [
    "merged_sdf2.groupBy(\"sa2_code\").count().count()"
   ]
  },
  {
   "cell_type": "markdown",
   "metadata": {},
   "source": [
    "Lost 229 records for which there were no sa2 codes"
   ]
  },
  {
   "cell_type": "code",
   "execution_count": 11,
   "metadata": {},
   "outputs": [
    {
     "data": {
      "text/html": [
       "<table border='1'>\n",
       "<tr><th>sa2_code</th><th>num_earners</th><th>median_age</th><th>median_income</th><th>mean_income</th><th>postcode</th><th>sa2_name</th><th>ratio</th></tr>\n",
       "<tr><td>701011002</td><td>5909</td><td>33</td><td>60937</td><td>87791</td><td>0800</td><td>Darwin City</td><td>1.0</td></tr>\n",
       "<tr><td>701021010</td><td>1387</td><td>40</td><td>54188</td><td>61411</td><td>0810</td><td>Alawa</td><td>0.0719971</td></tr>\n",
       "<tr><td>701021013</td><td>2395</td><td>39</td><td>52335</td><td>67299</td><td>0810</td><td>Brinkin - Nakara</td><td>0.0963918</td></tr>\n",
       "<tr><td>701021016</td><td>1878</td><td>36</td><td>55124</td><td>65051</td><td>0810</td><td>Coconut Grove</td><td>0.0964936</td></tr>\n",
       "<tr><td>701021018</td><td>1166</td><td>43</td><td>58753</td><td>69389</td><td>0810</td><td>Jingili</td><td>0.061562</td></tr>\n",
       "</table>\n"
      ],
      "text/plain": [
       "+---------+-----------+----------+-------------+-----------+--------+----------------+---------+\n",
       "| sa2_code|num_earners|median_age|median_income|mean_income|postcode|        sa2_name|    ratio|\n",
       "+---------+-----------+----------+-------------+-----------+--------+----------------+---------+\n",
       "|701011002|       5909|        33|        60937|      87791|    0800|     Darwin City|      1.0|\n",
       "|701021010|       1387|        40|        54188|      61411|    0810|           Alawa|0.0719971|\n",
       "|701021013|       2395|        39|        52335|      67299|    0810|Brinkin - Nakara|0.0963918|\n",
       "|701021016|       1878|        36|        55124|      65051|    0810|   Coconut Grove|0.0964936|\n",
       "|701021018|       1166|        43|        58753|      69389|    0810|         Jingili| 0.061562|\n",
       "+---------+-----------+----------+-------------+-----------+--------+----------------+---------+"
      ]
     },
     "execution_count": 11,
     "metadata": {},
     "output_type": "execute_result"
    }
   ],
   "source": [
    "merged_sdf2.orderBy(\"postcode\").limit(5)"
   ]
  },
  {
   "cell_type": "markdown",
   "metadata": {},
   "source": [
    "Again, use the weighted average approach for the income data"
   ]
  },
  {
   "cell_type": "code",
   "execution_count": 12,
   "metadata": {},
   "outputs": [
    {
     "name": "stdout",
     "output_type": "stream",
     "text": [
      "+--------+----------------+---------------+------------------+----------------+\n",
      "|postcode|wavg_num_earners|wavg_median_age|wavg_median_income|wavg_mean_income|\n",
      "+--------+----------------+---------------+------------------+----------------+\n",
      "|    0800|          5909.0|           33.0|           60937.0|         87791.0|\n",
      "|    0810|         1904.63|           39.1|           59653.0|        70087.24|\n",
      "|    0812|         2524.63|          41.61|          61325.63|        68985.95|\n",
      "|    0820|         2420.53|           39.1|          63857.71|        82498.57|\n",
      "|    0822|          1029.6|          39.79|          38878.56|        49409.36|\n",
      "|    0828|           686.0|           43.0|           58107.0|         70769.0|\n",
      "|    0829|         2606.59|          41.67|          66021.74|        75514.21|\n",
      "|    0830|         2132.04|          38.08|          63842.77|        71009.53|\n",
      "|    0832|         3073.36|          36.21|          69019.03|        77275.87|\n",
      "|    0835|         2407.18|          42.77|          64587.37|         73991.2|\n",
      "|    0836|          5418.0|           43.0|           65045.0|         75486.0|\n",
      "|    0837|          2474.0|           43.0|           61215.0|         69902.0|\n",
      "|    0838|          2474.0|           43.0|           61215.0|         69902.0|\n",
      "|    0840|          2189.0|           46.0|           51780.0|         59280.0|\n",
      "|    0841|          2474.0|           43.0|           61215.0|         69902.0|\n",
      "|    0845|          2189.0|           46.0|           51780.0|         59280.0|\n",
      "|    0846|          2189.0|           46.0|           51780.0|         59280.0|\n",
      "|    0847|           406.0|           43.0|           37576.0|         42447.0|\n",
      "|    0850|          5635.0|           38.0|           59864.0|         63788.0|\n",
      "|    0852|         1030.06|          37.38|          36561.19|        45250.06|\n",
      "+--------+----------------+---------------+------------------+----------------+\n",
      "only showing top 20 rows\n",
      "\n"
     ]
    }
   ],
   "source": [
    "postcode_income_sdf = merged_sdf2.groupBy(\"postcode\") \\\n",
    "    .agg(\n",
    "        F.round((F.sum(merged_sdf2.num_earners * merged_sdf2.ratio) / F.sum(merged_sdf2.ratio)), 2).alias(\"num_earners\"),\n",
    "        F.round((F.sum(merged_sdf2.median_age * merged_sdf2.ratio) / F.sum(merged_sdf2.ratio)), 2).alias(\"median_age\"),\n",
    "        F.round((F.sum(merged_sdf2.median_income * merged_sdf2.ratio) / F.sum(merged_sdf2.ratio)), 2).alias(\"median_income\"),\n",
    "        F.round((F.sum(merged_sdf2.mean_income * merged_sdf2.ratio) / F.sum(merged_sdf2.ratio)), 2).alias(\"mean_income\")\n",
    "    )\n",
    "    \n",
    "postcode_income_sdf.orderBy(\"postcode\").show()"
   ]
  },
  {
   "cell_type": "code",
   "execution_count": 13,
   "metadata": {},
   "outputs": [
    {
     "name": "stdout",
     "output_type": "stream",
     "text": [
      "2422 2493\n"
     ]
    }
   ],
   "source": [
    "print(postcode_pop_sdf.count(), postcode_income_sdf.count())"
   ]
  },
  {
   "cell_type": "code",
   "execution_count": 14,
   "metadata": {},
   "outputs": [
    {
     "name": "stdout",
     "output_type": "stream",
     "text": [
      "2494\n"
     ]
    },
    {
     "data": {
      "text/html": [
       "<table border='1'>\n",
       "<tr><th>postcode</th><th>wavg_pop_total</th><th>wavg_pop_under10</th><th>wavg_pop_adolsc</th><th>wavg_pop_yng_adult</th><th>wavg_pop_mid_age</th><th>wavg_pop_old</th><th>wavg_num_earners</th><th>wavg_median_age</th><th>wavg_median_income</th><th>wavg_mean_income</th></tr>\n",
       "<tr><td>0800</td><td>7679.0</td><td>474.0</td><td>325.0</td><td>3322.0</td><td>2652.0</td><td>906.0</td><td>5909.0</td><td>33.0</td><td>60937.0</td><td>87791.0</td></tr>\n",
       "<tr><td>0810</td><td>3121.46</td><td>419.06</td><td>345.41</td><td>819.6</td><td>1043.92</td><td>493.46</td><td>1904.63</td><td>39.1</td><td>59653.0</td><td>70087.24</td></tr>\n",
       "<tr><td>0812</td><td>4308.01</td><td>621.82</td><td>571.11</td><td>844.5</td><td>1475.39</td><td>795.2</td><td>2524.63</td><td>41.61</td><td>61325.63</td><td>68985.95</td></tr>\n",
       "<tr><td>0820</td><td>3420.98</td><td>358.95</td><td>316.31</td><td>1032.65</td><td>1172.7</td><td>540.38</td><td>2420.53</td><td>39.1</td><td>63857.71</td><td>82498.57</td></tr>\n",
       "<tr><td>0822</td><td>5099.87</td><td>767.1</td><td>868.74</td><td>1295.53</td><td>1631.41</td><td>537.08</td><td>1029.6</td><td>39.79</td><td>38878.56</td><td>49409.36</td></tr>\n",
       "</table>\n"
      ],
      "text/plain": [
       "+--------+--------------+----------------+---------------+------------------+----------------+------------+----------------+---------------+------------------+----------------+\n",
       "|postcode|wavg_pop_total|wavg_pop_under10|wavg_pop_adolsc|wavg_pop_yng_adult|wavg_pop_mid_age|wavg_pop_old|wavg_num_earners|wavg_median_age|wavg_median_income|wavg_mean_income|\n",
       "+--------+--------------+----------------+---------------+------------------+----------------+------------+----------------+---------------+------------------+----------------+\n",
       "|    0800|        7679.0|           474.0|          325.0|            3322.0|          2652.0|       906.0|          5909.0|           33.0|           60937.0|         87791.0|\n",
       "|    0810|       3121.46|          419.06|         345.41|             819.6|         1043.92|      493.46|         1904.63|           39.1|           59653.0|        70087.24|\n",
       "|    0812|       4308.01|          621.82|         571.11|             844.5|         1475.39|       795.2|         2524.63|          41.61|          61325.63|        68985.95|\n",
       "|    0820|       3420.98|          358.95|         316.31|           1032.65|          1172.7|      540.38|         2420.53|           39.1|          63857.71|        82498.57|\n",
       "|    0822|       5099.87|           767.1|         868.74|           1295.53|         1631.41|      537.08|          1029.6|          39.79|          38878.56|        49409.36|\n",
       "+--------+--------------+----------------+---------------+------------------+----------------+------------+----------------+---------------+------------------+----------------+"
      ]
     },
     "execution_count": 14,
     "metadata": {},
     "output_type": "execute_result"
    }
   ],
   "source": [
    "external_data_sdf = postcode_pop_sdf.join(postcode_income_sdf, on=\"postcode\", how=\"full\")\n",
    "print(external_data_sdf.count())\n",
    "external_data_sdf.limit(5)"
   ]
  },
  {
   "cell_type": "markdown",
   "metadata": {},
   "source": [
    "## Join External data with existing data"
   ]
  },
  {
   "cell_type": "code",
   "execution_count": 15,
   "metadata": {},
   "outputs": [
    {
     "name": "stdout",
     "output_type": "stream",
     "text": [
      "13613661\n"
     ]
    },
    {
     "name": "stderr",
     "output_type": "stream",
     "text": [
      "                                                                                \r"
     ]
    },
    {
     "data": {
      "text/html": [
       "<table border='1'>\n",
       "<tr><th>merchant_abn</th><th>consumer_id</th><th>user_id</th><th>dollar_value</th><th>order_id</th><th>order_datetime</th><th>customer_name</th><th>address</th><th>state</th><th>postcode</th><th>gender</th><th>company_name</th><th>tags</th><th>take_rate</th><th>revenue_band</th></tr>\n",
       "<tr><td>69666829657</td><td>226</td><td>5162</td><td>79.65159982605903</td><td>8765ef9f-dba6-407...</td><td>2021-08-20</td><td>Courtney Torres</td><td>6945 Higgins Brooks</td><td>SA</td><td>5581</td><td>Female</td><td>Sem Ut Institute</td><td>bicycle shops - s...</td><td> 2.86</td><td> c</td></tr>\n",
       "<tr><td>49891706470</td><td>226</td><td>5162</td><td>3.887089224741017</td><td>9ba8ebb2-6593-49f...</td><td>2022-07-13</td><td>Courtney Torres</td><td>6945 Higgins Brooks</td><td>SA</td><td>5581</td><td>Female</td><td>Non Vestibulum In...</td><td>tent and awning s...</td><td> 5.80</td><td> a</td></tr>\n",
       "<tr><td>70610974780</td><td>226</td><td>5162</td><td>52.820359204536665</td><td>bdf345c8-4c5d-48e...</td><td>2021-08-20</td><td>Courtney Torres</td><td>6945 Higgins Brooks</td><td>SA</td><td>5581</td><td>Female</td><td>Elit Aliquam PC</td><td>tent and awning s...</td><td> 6.93</td><td> a</td></tr>\n",
       "<tr><td>85276983280</td><td>226</td><td>5162</td><td>250.33729038347653</td><td>dcad871d-1b75-4a8...</td><td>2022-05-06</td><td>Courtney Torres</td><td>6945 Higgins Brooks</td><td>SA</td><td>5581</td><td>Female</td><td>Lacus Varius Corp.</td><td>florists supplies...</td><td> 3.32</td><td> b</td></tr>\n",
       "<tr><td>15582655078</td><td>226</td><td>5162</td><td>75.31904078962366</td><td>47ddf8e0-5f72-408...</td><td>2021-08-21</td><td>Courtney Torres</td><td>6945 Higgins Brooks</td><td>SA</td><td>5581</td><td>Female</td><td>Eu Odio Phasellus...</td><td>gift, card, novel...</td><td> 6.77</td><td> a</td></tr>\n",
       "</table>\n"
      ],
      "text/plain": [
       "+------------+-----------+-------+------------------+--------------------+--------------+---------------+-------------------+-----+--------+------+--------------------+--------------------+---------+------------+\n",
       "|merchant_abn|consumer_id|user_id|      dollar_value|            order_id|order_datetime|  customer_name|            address|state|postcode|gender|        company_name|                tags|take_rate|revenue_band|\n",
       "+------------+-----------+-------+------------------+--------------------+--------------+---------------+-------------------+-----+--------+------+--------------------+--------------------+---------+------------+\n",
       "| 69666829657|        226|   5162| 79.65159982605903|8765ef9f-dba6-407...|    2021-08-20|Courtney Torres|6945 Higgins Brooks|   SA|    5581|Female|    Sem Ut Institute|bicycle shops - s...|     2.86|           c|\n",
       "| 49891706470|        226|   5162| 3.887089224741017|9ba8ebb2-6593-49f...|    2022-07-13|Courtney Torres|6945 Higgins Brooks|   SA|    5581|Female|Non Vestibulum In...|tent and awning s...|     5.80|           a|\n",
       "| 70610974780|        226|   5162|52.820359204536665|bdf345c8-4c5d-48e...|    2021-08-20|Courtney Torres|6945 Higgins Brooks|   SA|    5581|Female|     Elit Aliquam PC|tent and awning s...|     6.93|           a|\n",
       "| 85276983280|        226|   5162|250.33729038347653|dcad871d-1b75-4a8...|    2022-05-06|Courtney Torres|6945 Higgins Brooks|   SA|    5581|Female|  Lacus Varius Corp.|florists supplies...|     3.32|           b|\n",
       "| 15582655078|        226|   5162| 75.31904078962366|47ddf8e0-5f72-408...|    2021-08-21|Courtney Torres|6945 Higgins Brooks|   SA|    5581|Female|Eu Odio Phasellus...|gift, card, novel...|     6.77|           a|\n",
       "+------------+-----------+-------+------------------+--------------------+--------------+---------------+-------------------+-----+--------+------+--------------------+--------------------+---------+------------+"
      ]
     },
     "execution_count": 15,
     "metadata": {},
     "output_type": "execute_result"
    }
   ],
   "source": [
    "sdf = spark.read.parquet(\"../data/curated/mergedf.parquet/\")\n",
    "print(sdf.count())\n",
    "sdf.limit(5)"
   ]
  },
  {
   "cell_type": "code",
   "execution_count": 16,
   "metadata": {},
   "outputs": [
    {
     "name": "stderr",
     "output_type": "stream",
     "text": [
      "                                                                                \r"
     ]
    },
    {
     "name": "stdout",
     "output_type": "stream",
     "text": [
      "10634088\n"
     ]
    },
    {
     "name": "stderr",
     "output_type": "stream",
     "text": [
      "                                                                                \r"
     ]
    },
    {
     "data": {
      "text/html": [
       "<table border='1'>\n",
       "<tr><th>postcode</th><th>merchant_abn</th><th>consumer_id</th><th>user_id</th><th>dollar_value</th><th>order_id</th><th>order_datetime</th><th>customer_name</th><th>address</th><th>state</th><th>gender</th><th>company_name</th><th>tags</th><th>take_rate</th><th>revenue_band</th><th>wavg_pop_total</th><th>wavg_pop_under10</th><th>wavg_pop_adolsc</th><th>wavg_pop_yng_adult</th><th>wavg_pop_mid_age</th><th>wavg_pop_old</th><th>wavg_num_earners</th><th>wavg_median_age</th><th>wavg_median_income</th><th>wavg_mean_income</th></tr>\n",
       "<tr><td>2088</td><td>92343252737</td><td>94481</td><td>7298</td><td>34.91159012072029</td><td>93e9ca4b-f453-4ff...</td><td>2022-04-22</td><td>Bryan Ware</td><td>261 Cowan Plaza S...</td><td>NSW</td><td>Male</td><td>Ornare Libero At ...</td><td>digital goods: bo...</td><td> 6.77</td><td> a</td><td>null</td><td>null</td><td>null</td><td>null</td><td>null</td><td>null</td><td>20612.0</td><td>47.0</td><td>75307.0</td><td>166807.0</td></tr>\n",
       "<tr><td>2088</td><td>42543374304</td><td>94481</td><td>7298</td><td>354.36723243531003</td><td>030ff583-1863-4c7...</td><td>2021-08-20</td><td>Bryan Ware</td><td>261 Cowan Plaza S...</td><td>NSW</td><td>Male</td><td>Morbi Metus Vivam...</td><td>computer programm...</td><td> 6.17</td><td> a</td><td>null</td><td>null</td><td>null</td><td>null</td><td>null</td><td>null</td><td>20612.0</td><td>47.0</td><td>75307.0</td><td>166807.0</td></tr>\n",
       "<tr><td>2088</td><td>30122382323</td><td>94481</td><td>7298</td><td>60.71913021777211</td><td>b1270100-b1af-4b4...</td><td>2022-06-02</td><td>Bryan Ware</td><td>261 Cowan Plaza S...</td><td>NSW</td><td>Male</td><td>Ipsum Company</td><td>watch, clock, and...</td><td> 3.36</td><td> b</td><td>null</td><td>null</td><td>null</td><td>null</td><td>null</td><td>null</td><td>20612.0</td><td>47.0</td><td>75307.0</td><td>166807.0</td></tr>\n",
       "<tr><td>2088</td><td>35367341543</td><td>94481</td><td>7298</td><td>65.98726779920248</td><td>19ab4547-0e04-496...</td><td>2021-08-21</td><td>Bryan Ware</td><td>261 Cowan Plaza S...</td><td>NSW</td><td>Male</td><td>Rhoncus Id Company</td><td>gift, card, novel...</td><td> 6.40</td><td> a</td><td>null</td><td>null</td><td>null</td><td>null</td><td>null</td><td>null</td><td>20612.0</td><td>47.0</td><td>75307.0</td><td>166807.0</td></tr>\n",
       "<tr><td>2088</td><td>82368304209</td><td>94481</td><td>7298</td><td>2247.6294931000416</td><td>91f42676-6c76-4ed...</td><td>2022-05-25</td><td>Bryan Ware</td><td>261 Cowan Plaza S...</td><td>NSW</td><td>Male</td><td>Nec Incorporated</td><td>telecom</td><td> 5.55</td><td> a</td><td>null</td><td>null</td><td>null</td><td>null</td><td>null</td><td>null</td><td>20612.0</td><td>47.0</td><td>75307.0</td><td>166807.0</td></tr>\n",
       "</table>\n"
      ],
      "text/plain": [
       "+--------+------------+-----------+-------+------------------+--------------------+--------------+-------------+--------------------+-----+------+--------------------+--------------------+---------+------------+--------------+----------------+---------------+------------------+----------------+------------+----------------+---------------+------------------+----------------+\n",
       "|postcode|merchant_abn|consumer_id|user_id|      dollar_value|            order_id|order_datetime|customer_name|             address|state|gender|        company_name|                tags|take_rate|revenue_band|wavg_pop_total|wavg_pop_under10|wavg_pop_adolsc|wavg_pop_yng_adult|wavg_pop_mid_age|wavg_pop_old|wavg_num_earners|wavg_median_age|wavg_median_income|wavg_mean_income|\n",
       "+--------+------------+-----------+-------+------------------+--------------------+--------------+-------------+--------------------+-----+------+--------------------+--------------------+---------+------------+--------------+----------------+---------------+------------------+----------------+------------+----------------+---------------+------------------+----------------+\n",
       "|    2088| 92343252737|      94481|   7298| 34.91159012072029|93e9ca4b-f453-4ff...|    2022-04-22|   Bryan Ware|261 Cowan Plaza S...|  NSW|  Male|Ornare Libero At ...|digital goods: bo...|     6.77|           a|          null|            null|           null|              null|            null|        null|         20612.0|           47.0|           75307.0|        166807.0|\n",
       "|    2088| 42543374304|      94481|   7298|354.36723243531003|030ff583-1863-4c7...|    2021-08-20|   Bryan Ware|261 Cowan Plaza S...|  NSW|  Male|Morbi Metus Vivam...|computer programm...|     6.17|           a|          null|            null|           null|              null|            null|        null|         20612.0|           47.0|           75307.0|        166807.0|\n",
       "|    2088| 30122382323|      94481|   7298| 60.71913021777211|b1270100-b1af-4b4...|    2022-06-02|   Bryan Ware|261 Cowan Plaza S...|  NSW|  Male|       Ipsum Company|watch, clock, and...|     3.36|           b|          null|            null|           null|              null|            null|        null|         20612.0|           47.0|           75307.0|        166807.0|\n",
       "|    2088| 35367341543|      94481|   7298| 65.98726779920248|19ab4547-0e04-496...|    2021-08-21|   Bryan Ware|261 Cowan Plaza S...|  NSW|  Male|  Rhoncus Id Company|gift, card, novel...|     6.40|           a|          null|            null|           null|              null|            null|        null|         20612.0|           47.0|           75307.0|        166807.0|\n",
       "|    2088| 82368304209|      94481|   7298|2247.6294931000416|91f42676-6c76-4ed...|    2022-05-25|   Bryan Ware|261 Cowan Plaza S...|  NSW|  Male|    Nec Incorporated|             telecom|     5.55|           a|          null|            null|           null|              null|            null|        null|         20612.0|           47.0|           75307.0|        166807.0|\n",
       "+--------+------------+-----------+-------+------------------+--------------------+--------------+-------------+--------------------+-----+------+--------------------+--------------------+---------+------------+--------------+----------------+---------------+------------------+----------------+------------+----------------+---------------+------------------+----------------+"
      ]
     },
     "execution_count": 16,
     "metadata": {},
     "output_type": "execute_result"
    }
   ],
   "source": [
    "finaldf = sdf.join(external_data_sdf, on=\"postcode\", how=\"inner\")\n",
    "print(finaldf.count())\n",
    "finaldf.limit(5)"
   ]
  },
  {
   "cell_type": "markdown",
   "metadata": {},
   "source": [
    "Null values occur because for some postcodes, population/income data did not exist."
   ]
  },
  {
   "cell_type": "code",
   "execution_count": 17,
   "metadata": {},
   "outputs": [
    {
     "name": "stdout",
     "output_type": "stream",
     "text": [
      "22/09/21 05:32:03 WARN package: Truncated the string representation of a plan since it was too large. This behavior can be adjusted by setting 'spark.sql.debug.maxToStringFields'.\n"
     ]
    },
    {
     "name": "stderr",
     "output_type": "stream",
     "text": [
      "                                                                                \r"
     ]
    },
    {
     "data": {
      "text/plain": [
       "10320037"
      ]
     },
     "execution_count": 17,
     "metadata": {},
     "output_type": "execute_result"
    }
   ],
   "source": [
    "finaldf = finaldf.dropna(how=\"any\")\n",
    "finaldf.count()"
   ]
  },
  {
   "cell_type": "markdown",
   "metadata": {},
   "source": [
    "Removing records containing null values resulted in the loss of 314,051 records."
   ]
  },
  {
   "cell_type": "markdown",
   "metadata": {},
   "source": [
    "## Join Fraud Data"
   ]
  },
  {
   "cell_type": "code",
   "execution_count": 18,
   "metadata": {},
   "outputs": [
    {
     "name": "stdout",
     "output_type": "stream",
     "text": [
      "34765\n"
     ]
    },
    {
     "data": {
      "text/html": [
       "<table border='1'>\n",
       "<tr><th>user_id</th><th>order_datetime</th><th>consumer_fraud_%</th></tr>\n",
       "<tr><td>3753</td><td>2022-02-16</td><td>48.85325253622543</td></tr>\n",
       "<tr><td>9646</td><td>2021-09-23</td><td>47.83931206340956</td></tr>\n",
       "<tr><td>243</td><td>2021-09-02</td><td>50.88971939168309</td></tr>\n",
       "<tr><td>3907</td><td>2021-10-07</td><td>38.58123424858352</td></tr>\n",
       "<tr><td>14864</td><td>2021-11-29</td><td>27.072321329372105</td></tr>\n",
       "</table>\n"
      ],
      "text/plain": [
       "+-------+--------------+------------------+\n",
       "|user_id|order_datetime|  consumer_fraud_%|\n",
       "+-------+--------------+------------------+\n",
       "|   3753|    2022-02-16| 48.85325253622543|\n",
       "|   9646|    2021-09-23| 47.83931206340956|\n",
       "|    243|    2021-09-02| 50.88971939168309|\n",
       "|   3907|    2021-10-07| 38.58123424858352|\n",
       "|  14864|    2021-11-29|27.072321329372105|\n",
       "+-------+--------------+------------------+"
      ]
     },
     "execution_count": 18,
     "metadata": {},
     "output_type": "execute_result"
    }
   ],
   "source": [
    "consumerfrauddf = spark.read.parquet(\"../data/curated/consumerfrauddf.parquet/\")\n",
    "print(consumerfrauddf.count())\n",
    "consumerfrauddf = consumerfrauddf.withColumnRenamed(\"fraud_probability\",\"consumer_fraud_%\")\n",
    "consumerfrauddf.limit(5)"
   ]
  },
  {
   "cell_type": "code",
   "execution_count": 19,
   "metadata": {},
   "outputs": [
    {
     "name": "stdout",
     "output_type": "stream",
     "text": [
      "114\n"
     ]
    },
    {
     "data": {
      "text/html": [
       "<table border='1'>\n",
       "<tr><th>merchant_abn</th><th>order_datetime</th><th>merchant_fraud_%</th></tr>\n",
       "<tr><td>19492220327</td><td>2021-11-28</td><td>44.403658647495355</td></tr>\n",
       "<tr><td>31334588839</td><td>2021-10-02</td><td>42.75530083865367</td></tr>\n",
       "<tr><td>19492220327</td><td>2021-12-22</td><td>38.867790051131095</td></tr>\n",
       "<tr><td>82999039227</td><td>2021-12-19</td><td>94.1347004808891</td></tr>\n",
       "<tr><td>90918180829</td><td>2021-09-02</td><td>43.32551731714902</td></tr>\n",
       "</table>\n"
      ],
      "text/plain": [
       "+------------+--------------+------------------+\n",
       "|merchant_abn|order_datetime|  merchant_fraud_%|\n",
       "+------------+--------------+------------------+\n",
       "| 19492220327|    2021-11-28|44.403658647495355|\n",
       "| 31334588839|    2021-10-02| 42.75530083865367|\n",
       "| 19492220327|    2021-12-22|38.867790051131095|\n",
       "| 82999039227|    2021-12-19|  94.1347004808891|\n",
       "| 90918180829|    2021-09-02| 43.32551731714902|\n",
       "+------------+--------------+------------------+"
      ]
     },
     "execution_count": 19,
     "metadata": {},
     "output_type": "execute_result"
    }
   ],
   "source": [
    "merchantfrauddf = spark.read.parquet(\"../data/curated/merchantfrauddf.parquet/\")\n",
    "print(merchantfrauddf.count())\n",
    "merchantfrauddf = merchantfrauddf.withColumnRenamed(\"fraud_probability\",\"merchant_fraud_%\")\n",
    "merchantfrauddf.limit(5)"
   ]
  },
  {
   "cell_type": "code",
   "execution_count": 20,
   "metadata": {},
   "outputs": [
    {
     "name": "stderr",
     "output_type": "stream",
     "text": [
      "                                                                                \r"
     ]
    },
    {
     "name": "stdout",
     "output_type": "stream",
     "text": [
      "10320037\n"
     ]
    },
    {
     "name": "stderr",
     "output_type": "stream",
     "text": [
      "                                                                                \r"
     ]
    },
    {
     "name": "stdout",
     "output_type": "stream",
     "text": [
      "10320037\n"
     ]
    },
    {
     "name": "stderr",
     "output_type": "stream",
     "text": [
      "                                                                                \r"
     ]
    },
    {
     "name": "stdout",
     "output_type": "stream",
     "text": [
      "10320037\n"
     ]
    },
    {
     "name": "stderr",
     "output_type": "stream",
     "text": [
      "                                                                                \r"
     ]
    },
    {
     "data": {
      "text/html": [
       "<table border='1'>\n",
       "<tr><th>order_datetime</th><th>merchant_abn</th><th>user_id</th><th>postcode</th><th>consumer_id</th><th>dollar_value</th><th>order_id</th><th>customer_name</th><th>address</th><th>state</th><th>gender</th><th>company_name</th><th>tags</th><th>take_rate</th><th>revenue_band</th><th>wavg_pop_total</th><th>wavg_pop_under10</th><th>wavg_pop_adolsc</th><th>wavg_pop_yng_adult</th><th>wavg_pop_mid_age</th><th>wavg_pop_old</th><th>wavg_num_earners</th><th>wavg_median_age</th><th>wavg_median_income</th><th>wavg_mean_income</th><th>consumer_fraud_%</th><th>merchant_fraud_%</th></tr>\n",
       "<tr><td>2022-07-13</td><td>62694031334</td><td>13072</td><td>4821</td><td>395495</td><td>9.016102686820549</td><td>fc7a2a02-5c17-408...</td><td>Fernando Camacho</td><td>231 Hansen Viaduc...</td><td>QLD</td><td>Male</td><td>Vel Est Tempor LLP</td><td>computers, comput...</td><td> 5.76</td><td> a</td><td>3128.0</td><td>468.0</td><td>271.0</td><td>707.0</td><td>947.0</td><td>735.0</td><td>1972.0</td><td>44.0</td><td>45102.0</td><td>50599.0</td><td>null</td><td>null</td></tr>\n",
       "<tr><td>2021-08-20</td><td>89726005175</td><td>13072</td><td>4821</td><td>395495</td><td>52.063950783334164</td><td>24dcc47c-4db3-409...</td><td>Fernando Camacho</td><td>231 Hansen Viaduc...</td><td>QLD</td><td>Male</td><td>Est Nunc Consulting</td><td>tent and awning s...</td><td> 6.01</td><td> a</td><td>3128.0</td><td>468.0</td><td>271.0</td><td>707.0</td><td>947.0</td><td>735.0</td><td>1972.0</td><td>44.0</td><td>45102.0</td><td>50599.0</td><td>null</td><td>null</td></tr>\n",
       "<tr><td>2022-05-06</td><td>86772484982</td><td>13072</td><td>4821</td><td>395495</td><td>90.67554521270084</td><td>1c88b7d9-fb1c-476...</td><td>Fernando Camacho</td><td>231 Hansen Viaduc...</td><td>QLD</td><td>Male</td><td>Posuere Cubilia C...</td><td>digital goods: bo...</td><td> 6.60</td><td> a</td><td>3128.0</td><td>468.0</td><td>271.0</td><td>707.0</td><td>947.0</td><td>735.0</td><td>1972.0</td><td>44.0</td><td>45102.0</td><td>50599.0</td><td>null</td><td>null</td></tr>\n",
       "<tr><td>2021-08-21</td><td>29616684420</td><td>13072</td><td>4821</td><td>395495</td><td>137.1349391229884</td><td>9f875cf7-b7b6-467...</td><td>Fernando Camacho</td><td>231 Hansen Viaduc...</td><td>QLD</td><td>Male</td><td>Tellus Id LLC</td><td>watch, clock, and...</td><td> 3.50</td><td> b</td><td>3128.0</td><td>468.0</td><td>271.0</td><td>707.0</td><td>947.0</td><td>735.0</td><td>1972.0</td><td>44.0</td><td>45102.0</td><td>50599.0</td><td>null</td><td>null</td></tr>\n",
       "<tr><td>2022-03-18</td><td>28687004922</td><td>13072</td><td>4821</td><td>395495</td><td>52.3982172119959</td><td>32568864-399d-4e5...</td><td>Fernando Camacho</td><td>231 Hansen Viaduc...</td><td>QLD</td><td>Male</td><td>Eget Company</td><td>computer programm...</td><td> 3.88</td><td> b</td><td>3128.0</td><td>468.0</td><td>271.0</td><td>707.0</td><td>947.0</td><td>735.0</td><td>1972.0</td><td>44.0</td><td>45102.0</td><td>50599.0</td><td>null</td><td>null</td></tr>\n",
       "</table>\n"
      ],
      "text/plain": [
       "+--------------+------------+-------+--------+-----------+------------------+--------------------+----------------+--------------------+-----+------+--------------------+--------------------+---------+------------+--------------+----------------+---------------+------------------+----------------+------------+----------------+---------------+------------------+----------------+----------------+----------------+\n",
       "|order_datetime|merchant_abn|user_id|postcode|consumer_id|      dollar_value|            order_id|   customer_name|             address|state|gender|        company_name|                tags|take_rate|revenue_band|wavg_pop_total|wavg_pop_under10|wavg_pop_adolsc|wavg_pop_yng_adult|wavg_pop_mid_age|wavg_pop_old|wavg_num_earners|wavg_median_age|wavg_median_income|wavg_mean_income|consumer_fraud_%|merchant_fraud_%|\n",
       "+--------------+------------+-------+--------+-----------+------------------+--------------------+----------------+--------------------+-----+------+--------------------+--------------------+---------+------------+--------------+----------------+---------------+------------------+----------------+------------+----------------+---------------+------------------+----------------+----------------+----------------+\n",
       "|    2022-07-13| 62694031334|  13072|    4821|     395495| 9.016102686820549|fc7a2a02-5c17-408...|Fernando Camacho|231 Hansen Viaduc...|  QLD|  Male|  Vel Est Tempor LLP|computers, comput...|     5.76|           a|        3128.0|           468.0|          271.0|             707.0|           947.0|       735.0|          1972.0|           44.0|           45102.0|         50599.0|            null|            null|\n",
       "|    2021-08-20| 89726005175|  13072|    4821|     395495|52.063950783334164|24dcc47c-4db3-409...|Fernando Camacho|231 Hansen Viaduc...|  QLD|  Male| Est Nunc Consulting|tent and awning s...|     6.01|           a|        3128.0|           468.0|          271.0|             707.0|           947.0|       735.0|          1972.0|           44.0|           45102.0|         50599.0|            null|            null|\n",
       "|    2022-05-06| 86772484982|  13072|    4821|     395495| 90.67554521270084|1c88b7d9-fb1c-476...|Fernando Camacho|231 Hansen Viaduc...|  QLD|  Male|Posuere Cubilia C...|digital goods: bo...|     6.60|           a|        3128.0|           468.0|          271.0|             707.0|           947.0|       735.0|          1972.0|           44.0|           45102.0|         50599.0|            null|            null|\n",
       "|    2021-08-21| 29616684420|  13072|    4821|     395495| 137.1349391229884|9f875cf7-b7b6-467...|Fernando Camacho|231 Hansen Viaduc...|  QLD|  Male|       Tellus Id LLC|watch, clock, and...|     3.50|           b|        3128.0|           468.0|          271.0|             707.0|           947.0|       735.0|          1972.0|           44.0|           45102.0|         50599.0|            null|            null|\n",
       "|    2022-03-18| 28687004922|  13072|    4821|     395495|  52.3982172119959|32568864-399d-4e5...|Fernando Camacho|231 Hansen Viaduc...|  QLD|  Male|        Eget Company|computer programm...|     3.88|           b|        3128.0|           468.0|          271.0|             707.0|           947.0|       735.0|          1972.0|           44.0|           45102.0|         50599.0|            null|            null|\n",
       "+--------------+------------+-------+--------+-----------+------------------+--------------------+----------------+--------------------+-----+------+--------------------+--------------------+---------+------------+--------------+----------------+---------------+------------------+----------------+------------+----------------+---------------+------------------+----------------+----------------+----------------+"
      ]
     },
     "execution_count": 20,
     "metadata": {},
     "output_type": "execute_result"
    }
   ],
   "source": [
    "print(finaldf.count())\n",
    "finaldf = finaldf.join(consumerfrauddf, [\"order_datetime\", \"user_id\"], \"leftouter\")\n",
    "print(finaldf.count())\n",
    "finaldf = finaldf.join(merchantfrauddf, [\"order_datetime\", \"merchant_abn\"], \"leftouter\")\n",
    "print(finaldf.count())\n",
    "finaldf.limit(5)"
   ]
  },
  {
   "cell_type": "code",
   "execution_count": 21,
   "metadata": {},
   "outputs": [
    {
     "name": "stderr",
     "output_type": "stream",
     "text": [
      "                                                                                \r"
     ]
    },
    {
     "data": {
      "text/html": [
       "<table border='1'>\n",
       "<tr><th>order_datetime</th><th>merchant_abn</th><th>user_id</th><th>postcode</th><th>consumer_id</th><th>dollar_value</th><th>order_id</th><th>state</th><th>gender</th><th>company_name</th><th>tags</th><th>take_rate</th><th>revenue_band</th><th>wavg_pop_total</th><th>wavg_pop_under10</th><th>wavg_pop_adolsc</th><th>wavg_pop_yng_adult</th><th>wavg_pop_mid_age</th><th>wavg_pop_old</th><th>wavg_num_earners</th><th>wavg_median_age</th><th>wavg_median_income</th><th>wavg_mean_income</th><th>consumer_fraud_%</th><th>merchant_fraud_%</th></tr>\n",
       "<tr><td>2022-07-13</td><td>62694031334</td><td>13072</td><td>4821</td><td>395495</td><td>9.016102686820549</td><td>fc7a2a02-5c17-408...</td><td>QLD</td><td>Male</td><td>Vel Est Tempor LLP</td><td>computers, comput...</td><td> 5.76</td><td> a</td><td>3128.0</td><td>468.0</td><td>271.0</td><td>707.0</td><td>947.0</td><td>735.0</td><td>1972.0</td><td>44.0</td><td>45102.0</td><td>50599.0</td><td>null</td><td>null</td></tr>\n",
       "<tr><td>2021-08-20</td><td>89726005175</td><td>13072</td><td>4821</td><td>395495</td><td>52.063950783334164</td><td>24dcc47c-4db3-409...</td><td>QLD</td><td>Male</td><td>Est Nunc Consulting</td><td>tent and awning s...</td><td> 6.01</td><td> a</td><td>3128.0</td><td>468.0</td><td>271.0</td><td>707.0</td><td>947.0</td><td>735.0</td><td>1972.0</td><td>44.0</td><td>45102.0</td><td>50599.0</td><td>null</td><td>null</td></tr>\n",
       "<tr><td>2022-05-06</td><td>86772484982</td><td>13072</td><td>4821</td><td>395495</td><td>90.67554521270084</td><td>1c88b7d9-fb1c-476...</td><td>QLD</td><td>Male</td><td>Posuere Cubilia C...</td><td>digital goods: bo...</td><td> 6.60</td><td> a</td><td>3128.0</td><td>468.0</td><td>271.0</td><td>707.0</td><td>947.0</td><td>735.0</td><td>1972.0</td><td>44.0</td><td>45102.0</td><td>50599.0</td><td>null</td><td>null</td></tr>\n",
       "<tr><td>2021-08-21</td><td>29616684420</td><td>13072</td><td>4821</td><td>395495</td><td>137.1349391229884</td><td>9f875cf7-b7b6-467...</td><td>QLD</td><td>Male</td><td>Tellus Id LLC</td><td>watch, clock, and...</td><td> 3.50</td><td> b</td><td>3128.0</td><td>468.0</td><td>271.0</td><td>707.0</td><td>947.0</td><td>735.0</td><td>1972.0</td><td>44.0</td><td>45102.0</td><td>50599.0</td><td>null</td><td>null</td></tr>\n",
       "<tr><td>2022-03-18</td><td>28687004922</td><td>13072</td><td>4821</td><td>395495</td><td>52.3982172119959</td><td>32568864-399d-4e5...</td><td>QLD</td><td>Male</td><td>Eget Company</td><td>computer programm...</td><td> 3.88</td><td> b</td><td>3128.0</td><td>468.0</td><td>271.0</td><td>707.0</td><td>947.0</td><td>735.0</td><td>1972.0</td><td>44.0</td><td>45102.0</td><td>50599.0</td><td>null</td><td>null</td></tr>\n",
       "</table>\n"
      ],
      "text/plain": [
       "+--------------+------------+-------+--------+-----------+------------------+--------------------+-----+------+--------------------+--------------------+---------+------------+--------------+----------------+---------------+------------------+----------------+------------+----------------+---------------+------------------+----------------+----------------+----------------+\n",
       "|order_datetime|merchant_abn|user_id|postcode|consumer_id|      dollar_value|            order_id|state|gender|        company_name|                tags|take_rate|revenue_band|wavg_pop_total|wavg_pop_under10|wavg_pop_adolsc|wavg_pop_yng_adult|wavg_pop_mid_age|wavg_pop_old|wavg_num_earners|wavg_median_age|wavg_median_income|wavg_mean_income|consumer_fraud_%|merchant_fraud_%|\n",
       "+--------------+------------+-------+--------+-----------+------------------+--------------------+-----+------+--------------------+--------------------+---------+------------+--------------+----------------+---------------+------------------+----------------+------------+----------------+---------------+------------------+----------------+----------------+----------------+\n",
       "|    2022-07-13| 62694031334|  13072|    4821|     395495| 9.016102686820549|fc7a2a02-5c17-408...|  QLD|  Male|  Vel Est Tempor LLP|computers, comput...|     5.76|           a|        3128.0|           468.0|          271.0|             707.0|           947.0|       735.0|          1972.0|           44.0|           45102.0|         50599.0|            null|            null|\n",
       "|    2021-08-20| 89726005175|  13072|    4821|     395495|52.063950783334164|24dcc47c-4db3-409...|  QLD|  Male| Est Nunc Consulting|tent and awning s...|     6.01|           a|        3128.0|           468.0|          271.0|             707.0|           947.0|       735.0|          1972.0|           44.0|           45102.0|         50599.0|            null|            null|\n",
       "|    2022-05-06| 86772484982|  13072|    4821|     395495| 90.67554521270084|1c88b7d9-fb1c-476...|  QLD|  Male|Posuere Cubilia C...|digital goods: bo...|     6.60|           a|        3128.0|           468.0|          271.0|             707.0|           947.0|       735.0|          1972.0|           44.0|           45102.0|         50599.0|            null|            null|\n",
       "|    2021-08-21| 29616684420|  13072|    4821|     395495| 137.1349391229884|9f875cf7-b7b6-467...|  QLD|  Male|       Tellus Id LLC|watch, clock, and...|     3.50|           b|        3128.0|           468.0|          271.0|             707.0|           947.0|       735.0|          1972.0|           44.0|           45102.0|         50599.0|            null|            null|\n",
       "|    2022-03-18| 28687004922|  13072|    4821|     395495|  52.3982172119959|32568864-399d-4e5...|  QLD|  Male|        Eget Company|computer programm...|     3.88|           b|        3128.0|           468.0|          271.0|             707.0|           947.0|       735.0|          1972.0|           44.0|           45102.0|         50599.0|            null|            null|\n",
       "+--------------+------------+-------+--------+-----------+------------------+--------------------+-----+------+--------------------+--------------------+---------+------------+--------------+----------------+---------------+------------------+----------------+------------+----------------+---------------+------------------+----------------+----------------+----------------+"
      ]
     },
     "execution_count": 21,
     "metadata": {},
     "output_type": "execute_result"
    }
   ],
   "source": [
    "finaldf = finaldf.drop(\"customer_name\",\"address\")\n",
    "#finaldf = finaldf.na.fill(0.1)\n",
    "finaldf.limit(5)"
   ]
  },
  {
   "cell_type": "markdown",
   "metadata": {},
   "source": [
    "Add code for saving `finaldf` in curated folder as parquet file"
   ]
  }
 ],
 "metadata": {
  "kernelspec": {
   "display_name": "Python 3.8.10 64-bit",
   "language": "python",
   "name": "python3"
  },
  "language_info": {
   "codemirror_mode": {
    "name": "ipython",
    "version": 3
   },
   "file_extension": ".py",
   "mimetype": "text/x-python",
   "name": "python",
   "nbconvert_exporter": "python",
   "pygments_lexer": "ipython3",
   "version": "3.8.10"
  },
  "orig_nbformat": 4,
  "vscode": {
   "interpreter": {
    "hash": "916dbcbb3f70747c44a77c7bcd40155683ae19c65e1c03b4aa3499c5328201f1"
   }
  }
 },
 "nbformat": 4,
 "nbformat_minor": 2
}
