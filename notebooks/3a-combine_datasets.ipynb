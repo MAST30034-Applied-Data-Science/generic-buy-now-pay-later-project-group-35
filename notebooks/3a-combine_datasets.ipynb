{
 "cells": [
  {
   "cell_type": "code",
   "execution_count": 1,
   "metadata": {},
   "outputs": [
    {
     "name": "stdout",
     "output_type": "stream",
     "text": [
      "22/09/26 21:47:09 WARN Utils: Your hostname, AryansLaptop resolves to a loopback address: 127.0.1.1; using 172.25.90.88 instead (on interface eth0)\n",
      "22/09/26 21:47:09 WARN Utils: Set SPARK_LOCAL_IP if you need to bind to another address\n"
     ]
    },
    {
     "name": "stderr",
     "output_type": "stream",
     "text": [
      "Setting default log level to \"WARN\".\n",
      "To adjust logging level use sc.setLogLevel(newLevel). For SparkR, use setLogLevel(newLevel).\n"
     ]
    },
    {
     "name": "stdout",
     "output_type": "stream",
     "text": [
      "22/09/26 21:47:11 WARN NativeCodeLoader: Unable to load native-hadoop library for your platform... using builtin-java classes where applicable\n"
     ]
    }
   ],
   "source": [
    "from pyspark.sql import SparkSession\n",
    "from pyspark.sql.functions import * \n",
    "import matplotlib.pyplot as plt\n",
    "import pandas as pd\n",
    "import numpy as np\n",
    "from pyspark.sql import functions as F\n",
    "\n",
    "# Create a spark session\n",
    "spark = (\n",
    "    SparkSession.builder.appName(\"analysis\")\n",
    "    .config(\"spark.sql.repl.eagerEval.enabled\", True) \n",
    "    .config(\"spark.sql.parquet.cacheMetadata\", \"true\")\n",
    "    .config(\"spark.sql.session.timeZone\", \"Etc/UTC\")\n",
    "    .config(\"spark.driver.memory\", \"2g\")\n",
    "    .config(\"spark.executor.memory\", \"6g\")\n",
    "    .getOrCreate()\n",
    ")"
   ]
  },
  {
   "cell_type": "code",
   "execution_count": 2,
   "metadata": {},
   "outputs": [
    {
     "name": "stderr",
     "output_type": "stream",
     "text": [
      "                                                                                \r"
     ]
    },
    {
     "name": "stdout",
     "output_type": "stream",
     "text": [
      "5988\n"
     ]
    },
    {
     "data": {
      "text/html": [
       "<table border='1'>\n",
       "<tr><th>postcode</th><th>sa2_code</th><th>sa2_name</th><th>ratio</th></tr>\n",
       "<tr><td>0800</td><td>701011002</td><td>Darwin City</td><td>1.0</td></tr>\n",
       "<tr><td>0810</td><td>701021010</td><td>Alawa</td><td>0.0719971</td></tr>\n",
       "<tr><td>0810</td><td>701021013</td><td>Brinkin - Nakara</td><td>0.0963918</td></tr>\n",
       "<tr><td>0810</td><td>701021016</td><td>Coconut Grove</td><td>0.0964936</td></tr>\n",
       "<tr><td>0810</td><td>701021018</td><td>Jingili</td><td>0.061562</td></tr>\n",
       "</table>\n"
      ],
      "text/plain": [
       "+--------+---------+----------------+---------+\n",
       "|postcode| sa2_code|        sa2_name|    ratio|\n",
       "+--------+---------+----------------+---------+\n",
       "|    0800|701011002|     Darwin City|      1.0|\n",
       "|    0810|701021010|           Alawa|0.0719971|\n",
       "|    0810|701021013|Brinkin - Nakara|0.0963918|\n",
       "|    0810|701021016|   Coconut Grove|0.0964936|\n",
       "|    0810|701021018|         Jingili| 0.061562|\n",
       "+--------+---------+----------------+---------+"
      ]
     },
     "execution_count": 2,
     "metadata": {},
     "output_type": "execute_result"
    }
   ],
   "source": [
    "postcode_ratio_sdf = spark.read.parquet(\"../data/curated/postcode_ratio_sdf.parquet/\")\n",
    "print(postcode_ratio_sdf.count())\n",
    "postcode_ratio_sdf.limit(5)"
   ]
  },
  {
   "cell_type": "markdown",
   "metadata": {},
   "source": [
    "## Join postcode data with population data"
   ]
  },
  {
   "cell_type": "code",
   "execution_count": 3,
   "metadata": {},
   "outputs": [
    {
     "name": "stdout",
     "output_type": "stream",
     "text": [
      "2450\n"
     ]
    },
    {
     "data": {
      "text/html": [
       "<table border='1'>\n",
       "<tr><th>State/Terr</th><th>sa2_code</th><th>SA2 name</th><th>Total</th><th>Under 10</th><th>Adolescent</th><th>Young adult</th><th>Middle age</th><th>Old</th></tr>\n",
       "<tr><td>New South Wales</td><td>121011686</td><td>Lane Cove</td><td>15931</td><td>2246</td><td>1683</td><td>3108</td><td>5838</td><td>3056</td></tr>\n",
       "<tr><td>New South Wales</td><td>121011687</td><td>Willoughby</td><td>13024</td><td>1829</td><td>1862</td><td>1679</td><td>4949</td><td>2705</td></tr>\n",
       "<tr><td>New South Wales</td><td>121021403</td><td>Asquith - Mount C...</td><td>22134</td><td>2949</td><td>3092</td><td>3674</td><td>8221</td><td>4198</td></tr>\n",
       "<tr><td>New South Wales</td><td>121021404</td><td>Berowra - Brookly...</td><td>11793</td><td>1513</td><td>1805</td><td>1444</td><td>4385</td><td>2646</td></tr>\n",
       "<tr><td>New South Wales</td><td>121021406</td><td>Normanhurst - Tho...</td><td>19199</td><td>2395</td><td>2868</td><td>2589</td><td>6962</td><td>4385</td></tr>\n",
       "</table>\n"
      ],
      "text/plain": [
       "+---------------+---------+--------------------+-----+--------+----------+-----------+----------+----+\n",
       "|     State/Terr| sa2_code|            SA2 name|Total|Under 10|Adolescent|Young adult|Middle age| Old|\n",
       "+---------------+---------+--------------------+-----+--------+----------+-----------+----------+----+\n",
       "|New South Wales|121011686|           Lane Cove|15931|    2246|      1683|       3108|      5838|3056|\n",
       "|New South Wales|121011687|          Willoughby|13024|    1829|      1862|       1679|      4949|2705|\n",
       "|New South Wales|121021403|Asquith - Mount C...|22134|    2949|      3092|       3674|      8221|4198|\n",
       "|New South Wales|121021404|Berowra - Brookly...|11793|    1513|      1805|       1444|      4385|2646|\n",
       "|New South Wales|121021406|Normanhurst - Tho...|19199|    2395|      2868|       2589|      6962|4385|\n",
       "+---------------+---------+--------------------+-----+--------+----------+-----------+----------+----+"
      ]
     },
     "execution_count": 3,
     "metadata": {},
     "output_type": "execute_result"
    }
   ],
   "source": [
    "pop_sdf = spark.read.parquet(\"../data/curated/pop_sdf.parquet/\")\n",
    "print(pop_sdf.count())\n",
    "populationdf = pop_sdf.withColumnRenamed(\"SA2 code\",\"sa2_code\")\n",
    "populationdf.limit(5)"
   ]
  },
  {
   "cell_type": "code",
   "execution_count": 4,
   "metadata": {},
   "outputs": [],
   "source": [
    "merged_sdf1 = populationdf.join(postcode_ratio_sdf, on=\"sa2_code\", how=\"inner\")"
   ]
  },
  {
   "cell_type": "code",
   "execution_count": 5,
   "metadata": {},
   "outputs": [
    {
     "data": {
      "text/plain": [
       "1900"
      ]
     },
     "execution_count": 5,
     "metadata": {},
     "output_type": "execute_result"
    }
   ],
   "source": [
    "merged_sdf1.groupBy(\"sa2_code\").count().count()"
   ]
  },
  {
   "cell_type": "markdown",
   "metadata": {},
   "source": [
    "Lost 550 records for which there were no sa2 codes"
   ]
  },
  {
   "cell_type": "code",
   "execution_count": 6,
   "metadata": {},
   "outputs": [
    {
     "data": {
      "text/html": [
       "<table border='1'>\n",
       "<tr><th>sa2_code</th><th>State/Terr</th><th>SA2 name</th><th>Total</th><th>Under 10</th><th>Adolescent</th><th>Young adult</th><th>Middle age</th><th>Old</th><th>postcode</th><th>sa2_name</th><th>ratio</th></tr>\n",
       "<tr><td>701011002</td><td>Northern Territory</td><td>Darwin City</td><td>7679</td><td>474</td><td>325</td><td>3322</td><td>2652</td><td>906</td><td>0800</td><td>Darwin City</td><td>1.0</td></tr>\n",
       "<tr><td>701021023</td><td>Northern Territory</td><td>Millner</td><td>2726</td><td>341</td><td>259</td><td>709</td><td>947</td><td>470</td><td>0810</td><td>Millner</td><td>0.0834829</td></tr>\n",
       "<tr><td>701021025</td><td>Northern Territory</td><td>Nightcliff</td><td>4112</td><td>490</td><td>393</td><td>1204</td><td>1371</td><td>654</td><td>0810</td><td>Nightcliff</td><td>0.1239038</td></tr>\n",
       "<tr><td>701021021</td><td>Northern Territory</td><td>Lyons (NT)</td><td>6356</td><td>1310</td><td>902</td><td>1610</td><td>2185</td><td>349</td><td>0810</td><td>Lyons (NT)</td><td>0.0702012</td></tr>\n",
       "<tr><td>701021018</td><td>Northern Territory</td><td>Jingili</td><td>1922</td><td>301</td><td>274</td><td>335</td><td>702</td><td>310</td><td>0810</td><td>Jingili</td><td>0.061562</td></tr>\n",
       "</table>\n"
      ],
      "text/plain": [
       "+---------+------------------+-----------+-----+--------+----------+-----------+----------+---+--------+-----------+---------+\n",
       "| sa2_code|        State/Terr|   SA2 name|Total|Under 10|Adolescent|Young adult|Middle age|Old|postcode|   sa2_name|    ratio|\n",
       "+---------+------------------+-----------+-----+--------+----------+-----------+----------+---+--------+-----------+---------+\n",
       "|701011002|Northern Territory|Darwin City| 7679|     474|       325|       3322|      2652|906|    0800|Darwin City|      1.0|\n",
       "|701021023|Northern Territory|    Millner| 2726|     341|       259|        709|       947|470|    0810|    Millner|0.0834829|\n",
       "|701021025|Northern Territory| Nightcliff| 4112|     490|       393|       1204|      1371|654|    0810| Nightcliff|0.1239038|\n",
       "|701021021|Northern Territory| Lyons (NT)| 6356|    1310|       902|       1610|      2185|349|    0810| Lyons (NT)|0.0702012|\n",
       "|701021018|Northern Territory|    Jingili| 1922|     301|       274|        335|       702|310|    0810|    Jingili| 0.061562|\n",
       "+---------+------------------+-----------+-----+--------+----------+-----------+----------+---+--------+-----------+---------+"
      ]
     },
     "execution_count": 6,
     "metadata": {},
     "output_type": "execute_result"
    }
   ],
   "source": [
    "merged_sdf1.orderBy(\"postcode\").limit(5)"
   ]
  },
  {
   "cell_type": "markdown",
   "metadata": {},
   "source": [
    "Get a single population value for each postcode and field by calculating the weighted average using ratio"
   ]
  },
  {
   "cell_type": "code",
   "execution_count": 7,
   "metadata": {},
   "outputs": [
    {
     "name": "stdout",
     "output_type": "stream",
     "text": [
      "+--------+---------+-----------+----------+-------------+-----------+-------+\n",
      "|postcode|total_pop|under10_pop|adolsc_pop|yng_adult_pop|mid_age_pop|old_pop|\n",
      "+--------+---------+-----------+----------+-------------+-----------+-------+\n",
      "|    0800|   7679.0|      474.0|     325.0|       3322.0|     2652.0|  906.0|\n",
      "|    0810|  3121.46|     419.06|    345.41|        819.6|    1043.92| 493.46|\n",
      "|    0812|  4308.01|     621.82|    571.11|        844.5|    1475.39|  795.2|\n",
      "|    0820|  3420.98|     358.95|    316.31|      1032.65|     1172.7| 540.38|\n",
      "|    0822|  5099.87|      767.1|    868.74|      1295.53|    1631.41| 537.08|\n",
      "|    0828|   1814.0|      224.0|     302.0|        433.0|      624.0|  231.0|\n",
      "|    0829|  5673.15|     467.32|    532.63|      1749.75|    2035.05|  888.4|\n",
      "|    0830|  3671.22|     610.12|    484.28|       848.18|    1275.16| 453.48|\n",
      "|    0832|  5142.17|     918.67|    704.86|      1351.13|    1692.51|  475.0|\n",
      "|    0835|  4819.67|     408.13|    493.88|      1347.38|    1726.66| 843.62|\n",
      "|    0836|   8898.0|     1204.0|    1237.0|       1448.0|     3480.0| 1529.0|\n",
      "|    0837|   4584.0|      608.0|     549.0|        728.0|     1802.0|  897.0|\n",
      "|    0838|   4584.0|      608.0|     549.0|        728.0|     1802.0|  897.0|\n",
      "|    0840|   4678.0|      488.0|     435.0|        720.0|     1780.0| 1255.0|\n",
      "|    0841|   4584.0|      608.0|     549.0|        728.0|     1802.0|  897.0|\n",
      "|    0845|   4678.0|      488.0|     435.0|        720.0|     1780.0| 1255.0|\n",
      "|    0846|   4678.0|      488.0|     435.0|        720.0|     1780.0| 1255.0|\n",
      "|    0847|   2157.0|      355.0|     376.0|        627.0|      567.0|  232.0|\n",
      "|    0850|  10727.0|     1621.0|    1324.0|       2839.0|     3449.0| 1494.0|\n",
      "|    0852|  4260.86|     682.87|    701.17|      1181.77|    1257.15|  437.9|\n",
      "+--------+---------+-----------+----------+-------------+-----------+-------+\n",
      "only showing top 20 rows\n",
      "\n"
     ]
    }
   ],
   "source": [
    "postcode_pop_sdf = merged_sdf1.groupBy(\"postcode\") \\\n",
    "    .agg(\n",
    "        F.round((F.sum(merged_sdf1.Total * merged_sdf1.ratio) / F.sum(merged_sdf1.ratio)), 2).alias(\"total_pop\"),\n",
    "        F.round((F.sum(merged_sdf1[\"Under 10\"] * merged_sdf1.ratio) / F.sum(merged_sdf1.ratio)), 2).alias(\"under10_pop\"),\n",
    "        F.round((F.sum(merged_sdf1.Adolescent * merged_sdf1.ratio) / F.sum(merged_sdf1.ratio)), 2).alias(\"adolsc_pop\"),\n",
    "        F.round((F.sum(merged_sdf1[\"Young adult\"] * merged_sdf1.ratio) / F.sum(merged_sdf1.ratio)), 2).alias(\"yng_adult_pop\"),\n",
    "        F.round((F.sum(merged_sdf1[\"Middle age\"] * merged_sdf1.ratio) / F.sum(merged_sdf1.ratio)), 2).alias(\"mid_age_pop\"),\n",
    "        F.round((F.sum(merged_sdf1.Old * merged_sdf1.ratio) / F.sum(merged_sdf1.ratio)), 2).alias(\"old_pop\")\n",
    "    )\n",
    "    \n",
    "postcode_pop_sdf.orderBy(\"postcode\").show()"
   ]
  },
  {
   "cell_type": "markdown",
   "metadata": {},
   "source": [
    "Visualize the population variation for each SA2 code within each postcode"
   ]
  },
  {
   "cell_type": "code",
   "execution_count": 8,
   "metadata": {},
   "outputs": [],
   "source": [
    "pop_diffs = merged_sdf1.groupBy(\"postcode\").agg(\n",
    "    (F.max(merged_sdf1.Total) - F.min(merged_sdf1.Total)).alias(\"Total\"),\n",
    "    (F.max(merged_sdf1[\"Under 10\"]) - F.min(merged_sdf1[\"Under 10\"])).alias(\"Under 10\"),\n",
    "    (F.max(merged_sdf1.Adolescent) - F.min(merged_sdf1.Adolescent)).alias(\"Adolescent\"),\n",
    "    (F.max(merged_sdf1[\"Young adult\"]) - F.min(merged_sdf1[\"Young adult\"])).alias(\"Young adult\"),\n",
    "    (F.max(merged_sdf1[\"Middle age\"]) - F.min(merged_sdf1[\"Middle age\"])).alias(\"Middle age\"),\n",
    "    (F.max(merged_sdf1.Old) - F.min(merged_sdf1.Old)).alias(\"Old\")\n",
    ")"
   ]
  },
  {
   "cell_type": "code",
   "execution_count": 9,
   "metadata": {},
   "outputs": [
    {
     "data": {
      "text/html": [
       "<table border='1'>\n",
       "<tr><th>postcode</th><th>Total</th><th>Under 10</th><th>Adolescent</th><th>Young adult</th><th>Middle age</th><th>Old</th></tr>\n",
       "<tr><td>2069</td><td>0</td><td>0</td><td>0</td><td>0</td><td>0</td><td>0</td></tr>\n",
       "<tr><td>2162</td><td>1631</td><td>806</td><td>162</td><td>848</td><td>37</td><td>222</td></tr>\n",
       "<tr><td>2756</td><td>19732</td><td>2529</td><td>3149</td><td>3627</td><td>6542</td><td>5045</td></tr>\n",
       "<tr><td>2110</td><td>5619</td><td>740</td><td>153</td><td>1960</td><td>2277</td><td>489</td></tr>\n",
       "<tr><td>2161</td><td>23420</td><td>3744</td><td>3352</td><td>7822</td><td>7015</td><td>3840</td></tr>\n",
       "</table>\n"
      ],
      "text/plain": [
       "+--------+-----+--------+----------+-----------+----------+----+\n",
       "|postcode|Total|Under 10|Adolescent|Young adult|Middle age| Old|\n",
       "+--------+-----+--------+----------+-----------+----------+----+\n",
       "|    2069|    0|       0|         0|          0|         0|   0|\n",
       "|    2162| 1631|     806|       162|        848|        37| 222|\n",
       "|    2756|19732|    2529|      3149|       3627|      6542|5045|\n",
       "|    2110| 5619|     740|       153|       1960|      2277| 489|\n",
       "|    2161|23420|    3744|      3352|       7822|      7015|3840|\n",
       "+--------+-----+--------+----------+-----------+----------+----+"
      ]
     },
     "execution_count": 9,
     "metadata": {},
     "output_type": "execute_result"
    }
   ],
   "source": [
    "pop_diffs.limit(5)"
   ]
  },
  {
   "cell_type": "code",
   "execution_count": 10,
   "metadata": {},
   "outputs": [
    {
     "name": "stderr",
     "output_type": "stream",
     "text": [
      "/tmp/ipykernel_4979/1227780644.py:3: UserWarning: FixedFormatter should only be used together with FixedLocator\n",
      "  ax1.set_yticklabels(['Total', 'Under 10',\n"
     ]
    },
    {
     "data": {
      "image/png": "[encoded data removed]",
      "text/plain": [
       "<Figure size 500x300 with 1 Axes>"
      ]
     },
     "metadata": {},
     "output_type": "display_data"
    }
   ],
   "source": [
    "fig1 = plt.figure(figsize = (5, 3))\n",
    "ax1 = fig1.add_axes([0, 0, 1, 1])\n",
    "ax1.set_yticklabels(['Total', 'Under 10',\n",
    "                    'Adolescent', 'Young adult',\n",
    "                    'Middle age', 'Old'])\n",
    "bp = ax1.boxplot(pop_diffs.drop(\"postcode\").toPandas(), vert=0)\n",
    "\n",
    "plt.show()"
   ]
  },
  {
   "cell_type": "markdown",
   "metadata": {},
   "source": [
    "## Join postcode data with income data"
   ]
  },
  {
   "cell_type": "code",
   "execution_count": 11,
   "metadata": {},
   "outputs": [
    {
     "name": "stdout",
     "output_type": "stream",
     "text": [
      "2239\n"
     ]
    },
    {
     "data": {
      "text/html": [
       "<table border='1'>\n",
       "<tr><th>sa2_code</th><th>num_earners</th><th>median_age</th><th>median_income</th><th>mean_income</th></tr>\n",
       "<tr><td>213011340</td><td>11238</td><td>46</td><td>51181</td><td>61177</td></tr>\n",
       "<tr><td>213021341</td><td>7942</td><td>43</td><td>57585</td><td>69301</td></tr>\n",
       "<tr><td>213021344</td><td>11216</td><td>41</td><td>66161</td><td>80219</td></tr>\n",
       "<tr><td>213021345</td><td>3015</td><td>41</td><td>52078</td><td>60249</td></tr>\n",
       "<tr><td>213021346</td><td>9996</td><td>47</td><td>63892</td><td>90668</td></tr>\n",
       "</table>\n"
      ],
      "text/plain": [
       "+---------+-----------+----------+-------------+-----------+\n",
       "| sa2_code|num_earners|median_age|median_income|mean_income|\n",
       "+---------+-----------+----------+-------------+-----------+\n",
       "|213011340|      11238|        46|        51181|      61177|\n",
       "|213021341|       7942|        43|        57585|      69301|\n",
       "|213021344|      11216|        41|        66161|      80219|\n",
       "|213021345|       3015|        41|        52078|      60249|\n",
       "|213021346|       9996|        47|        63892|      90668|\n",
       "+---------+-----------+----------+-------------+-----------+"
      ]
     },
     "execution_count": 11,
     "metadata": {},
     "output_type": "execute_result"
    }
   ],
   "source": [
    "incomedf = spark.read.parquet(\"../data/curated/incomedf.parquet/\")\n",
    "print(incomedf.count())\n",
    "incomedf.limit(5)"
   ]
  },
  {
   "cell_type": "code",
   "execution_count": 12,
   "metadata": {},
   "outputs": [],
   "source": [
    "merged_sdf2 = incomedf.join(postcode_ratio_sdf, on=\"sa2_code\", how=\"inner\")"
   ]
  },
  {
   "cell_type": "code",
   "execution_count": 13,
   "metadata": {},
   "outputs": [
    {
     "data": {
      "text/plain": [
       "2010"
      ]
     },
     "execution_count": 13,
     "metadata": {},
     "output_type": "execute_result"
    }
   ],
   "source": [
    "merged_sdf2.groupBy(\"sa2_code\").count().count()"
   ]
  },
  {
   "cell_type": "markdown",
   "metadata": {},
   "source": [
    "Lost 229 records for which there were no sa2 codes"
   ]
  },
  {
   "cell_type": "code",
   "execution_count": 14,
   "metadata": {},
   "outputs": [
    {
     "data": {
      "text/html": [
       "<table border='1'>\n",
       "<tr><th>sa2_code</th><th>num_earners</th><th>median_age</th><th>median_income</th><th>mean_income</th><th>postcode</th><th>sa2_name</th><th>ratio</th></tr>\n",
       "<tr><td>701011002</td><td>5909</td><td>33</td><td>60937</td><td>87791</td><td>0800</td><td>Darwin City</td><td>1.0</td></tr>\n",
       "<tr><td>701021010</td><td>1387</td><td>40</td><td>54188</td><td>61411</td><td>0810</td><td>Alawa</td><td>0.0719971</td></tr>\n",
       "<tr><td>701021013</td><td>2395</td><td>39</td><td>52335</td><td>67299</td><td>0810</td><td>Brinkin - Nakara</td><td>0.0963918</td></tr>\n",
       "<tr><td>701021016</td><td>1878</td><td>36</td><td>55124</td><td>65051</td><td>0810</td><td>Coconut Grove</td><td>0.0964936</td></tr>\n",
       "<tr><td>701021018</td><td>1166</td><td>43</td><td>58753</td><td>69389</td><td>0810</td><td>Jingili</td><td>0.061562</td></tr>\n",
       "</table>\n"
      ],
      "text/plain": [
       "+---------+-----------+----------+-------------+-----------+--------+----------------+---------+\n",
       "| sa2_code|num_earners|median_age|median_income|mean_income|postcode|        sa2_name|    ratio|\n",
       "+---------+-----------+----------+-------------+-----------+--------+----------------+---------+\n",
       "|701011002|       5909|        33|        60937|      87791|    0800|     Darwin City|      1.0|\n",
       "|701021010|       1387|        40|        54188|      61411|    0810|           Alawa|0.0719971|\n",
       "|701021013|       2395|        39|        52335|      67299|    0810|Brinkin - Nakara|0.0963918|\n",
       "|701021016|       1878|        36|        55124|      65051|    0810|   Coconut Grove|0.0964936|\n",
       "|701021018|       1166|        43|        58753|      69389|    0810|         Jingili| 0.061562|\n",
       "+---------+-----------+----------+-------------+-----------+--------+----------------+---------+"
      ]
     },
     "execution_count": 14,
     "metadata": {},
     "output_type": "execute_result"
    }
   ],
   "source": [
    "merged_sdf2.orderBy(\"postcode\").limit(5)"
   ]
  },
  {
   "cell_type": "markdown",
   "metadata": {},
   "source": [
    "Again, use the weighted average approach for the income data"
   ]
  },
  {
   "cell_type": "code",
   "execution_count": 15,
   "metadata": {},
   "outputs": [
    {
     "name": "stdout",
     "output_type": "stream",
     "text": [
      "+--------+-----------+----------+-------------+-----------+\n",
      "|postcode|num_earners|median_age|median_income|mean_income|\n",
      "+--------+-----------+----------+-------------+-----------+\n",
      "|    0800|     5909.0|      33.0|      60937.0|    87791.0|\n",
      "|    0810|    1904.63|      39.1|      59653.0|   70087.24|\n",
      "|    0812|    2524.63|     41.61|     61325.63|   68985.95|\n",
      "|    0820|    2420.53|      39.1|     63857.71|   82498.57|\n",
      "|    0822|     1029.6|     39.79|     38878.56|   49409.36|\n",
      "|    0828|      686.0|      43.0|      58107.0|    70769.0|\n",
      "|    0829|    2606.59|     41.67|     66021.74|   75514.21|\n",
      "|    0830|    2132.04|     38.08|     63842.77|   71009.53|\n",
      "|    0832|    3073.36|     36.21|     69019.03|   77275.87|\n",
      "|    0835|    2407.18|     42.77|     64587.37|    73991.2|\n",
      "|    0836|     5418.0|      43.0|      65045.0|    75486.0|\n",
      "|    0837|     2474.0|      43.0|      61215.0|    69902.0|\n",
      "|    0838|     2474.0|      43.0|      61215.0|    69902.0|\n",
      "|    0840|     2189.0|      46.0|      51780.0|    59280.0|\n",
      "|    0841|     2474.0|      43.0|      61215.0|    69902.0|\n",
      "|    0845|     2189.0|      46.0|      51780.0|    59280.0|\n",
      "|    0846|     2189.0|      46.0|      51780.0|    59280.0|\n",
      "|    0847|      406.0|      43.0|      37576.0|    42447.0|\n",
      "|    0850|     5635.0|      38.0|      59864.0|    63788.0|\n",
      "|    0852|    1030.06|     37.38|     36561.19|   45250.06|\n",
      "+--------+-----------+----------+-------------+-----------+\n",
      "only showing top 20 rows\n",
      "\n"
     ]
    }
   ],
   "source": [
    "postcode_income_sdf = merged_sdf2.groupBy(\"postcode\") \\\n",
    "    .agg(\n",
    "        F.round((F.sum(merged_sdf2.num_earners * merged_sdf2.ratio) / F.sum(merged_sdf2.ratio)), 2).alias(\"num_earners\"),\n",
    "        F.round((F.sum(merged_sdf2.median_age * merged_sdf2.ratio) / F.sum(merged_sdf2.ratio)), 2).alias(\"median_age\"),\n",
    "        F.round((F.sum(merged_sdf2.median_income * merged_sdf2.ratio) / F.sum(merged_sdf2.ratio)), 2).alias(\"median_income\"),\n",
    "        F.round((F.sum(merged_sdf2.mean_income * merged_sdf2.ratio) / F.sum(merged_sdf2.ratio)), 2).alias(\"mean_income\")\n",
    "    )\n",
    "    \n",
    "postcode_income_sdf.orderBy(\"postcode\").show()"
   ]
  },
  {
   "cell_type": "markdown",
   "metadata": {},
   "source": [
    "Visualize the income variation for each SA2 code within each postcode"
   ]
  },
  {
   "cell_type": "code",
   "execution_count": 16,
   "metadata": {},
   "outputs": [],
   "source": [
    "income_diffs = merged_sdf2.groupBy(\"postcode\").agg(\n",
    "    (F.max(merged_sdf2.num_earners) - F.min(merged_sdf2.num_earners)).alias(\"num_earners\"),\n",
    "    (F.max(merged_sdf2.median_age) - F.min(merged_sdf2.median_age)).alias(\"median_age\"),\n",
    "    (F.max(merged_sdf2.median_income) - F.min(merged_sdf2.median_income)).alias(\"median_income\"),\n",
    "    (F.max(merged_sdf2.mean_income) - F.min(merged_sdf2.mean_income)).alias(\"mean_income\")\n",
    ")"
   ]
  },
  {
   "cell_type": "code",
   "execution_count": 17,
   "metadata": {},
   "outputs": [
    {
     "data": {
      "text/html": [
       "<table border='1'>\n",
       "<tr><th>postcode</th><th>num_earners</th><th>median_age</th><th>median_income</th><th>mean_income</th></tr>\n",
       "<tr><td>2069</td><td>3202</td><td>8</td><td>17642</td><td>54160</td></tr>\n",
       "<tr><td>2088</td><td>0</td><td>0</td><td>0</td><td>0</td></tr>\n",
       "<tr><td>2136</td><td>242</td><td>3</td><td>5460</td><td>9609</td></tr>\n",
       "<tr><td>2110</td><td>3096</td><td>5</td><td>7588</td><td>56489</td></tr>\n",
       "<tr><td>0836</td><td>0</td><td>0</td><td>0</td><td>0</td></tr>\n",
       "</table>\n"
      ],
      "text/plain": [
       "+--------+-----------+----------+-------------+-----------+\n",
       "|postcode|num_earners|median_age|median_income|mean_income|\n",
       "+--------+-----------+----------+-------------+-----------+\n",
       "|    2069|       3202|         8|        17642|      54160|\n",
       "|    2088|          0|         0|            0|          0|\n",
       "|    2136|        242|         3|         5460|       9609|\n",
       "|    2110|       3096|         5|         7588|      56489|\n",
       "|    0836|          0|         0|            0|          0|\n",
       "+--------+-----------+----------+-------------+-----------+"
      ]
     },
     "execution_count": 17,
     "metadata": {},
     "output_type": "execute_result"
    }
   ],
   "source": [
    "income_diffs.limit(5)"
   ]
  },
  {
   "cell_type": "code",
   "execution_count": 18,
   "metadata": {},
   "outputs": [
    {
     "name": "stderr",
     "output_type": "stream",
     "text": [
      "/tmp/ipykernel_4979/3120451410.py:3: UserWarning: FixedFormatter should only be used together with FixedLocator\n",
      "  ax2.set_yticklabels(['num_earners', 'median_age',\n"
     ]
    },
    {
     "data": {
      "image/png": "[encoded data removed]",
      "text/plain": [
       "<Figure size 500x300 with 1 Axes>"
      ]
     },
     "metadata": {},
     "output_type": "display_data"
    }
   ],
   "source": [
    "fig2 = plt.figure(figsize = (5, 3))\n",
    "ax2 = fig2.add_axes([0, 0, 1, 1])\n",
    "ax2.set_yticklabels(['num_earners', 'median_age',\n",
    "                    'median_income', 'mean_income'])\n",
    "bp = ax2.boxplot(income_diffs.drop(\"postcode\").toPandas(), vert=0)\n",
    "\n",
    "plt.show()"
   ]
  },
  {
   "cell_type": "markdown",
   "metadata": {},
   "source": [
    "Combine all external data in a single spark dataframe"
   ]
  },
  {
   "cell_type": "code",
   "execution_count": 19,
   "metadata": {},
   "outputs": [
    {
     "name": "stdout",
     "output_type": "stream",
     "text": [
      "2422 2493\n"
     ]
    }
   ],
   "source": [
    "print(postcode_pop_sdf.count(), postcode_income_sdf.count())"
   ]
  },
  {
   "cell_type": "code",
   "execution_count": 20,
   "metadata": {},
   "outputs": [
    {
     "name": "stdout",
     "output_type": "stream",
     "text": [
      "2494\n"
     ]
    },
    {
     "data": {
      "text/html": [
       "<table border='1'>\n",
       "<tr><th>postcode</th><th>total_pop</th><th>under10_pop</th><th>adolsc_pop</th><th>yng_adult_pop</th><th>mid_age_pop</th><th>old_pop</th><th>num_earners</th><th>median_age</th><th>median_income</th><th>mean_income</th></tr>\n",
       "<tr><td>0800</td><td>7679.0</td><td>474.0</td><td>325.0</td><td>3322.0</td><td>2652.0</td><td>906.0</td><td>5909.0</td><td>33.0</td><td>60937.0</td><td>87791.0</td></tr>\n",
       "<tr><td>0810</td><td>3121.46</td><td>419.06</td><td>345.41</td><td>819.6</td><td>1043.92</td><td>493.46</td><td>1904.63</td><td>39.1</td><td>59653.0</td><td>70087.24</td></tr>\n",
       "<tr><td>0812</td><td>4308.01</td><td>621.82</td><td>571.11</td><td>844.5</td><td>1475.39</td><td>795.2</td><td>2524.63</td><td>41.61</td><td>61325.63</td><td>68985.95</td></tr>\n",
       "<tr><td>0820</td><td>3420.98</td><td>358.95</td><td>316.31</td><td>1032.65</td><td>1172.7</td><td>540.38</td><td>2420.53</td><td>39.1</td><td>63857.71</td><td>82498.57</td></tr>\n",
       "<tr><td>0822</td><td>5099.87</td><td>767.1</td><td>868.74</td><td>1295.53</td><td>1631.41</td><td>537.08</td><td>1029.6</td><td>39.79</td><td>38878.56</td><td>49409.36</td></tr>\n",
       "</table>\n"
      ],
      "text/plain": [
       "+--------+---------+-----------+----------+-------------+-----------+-------+-----------+----------+-------------+-----------+\n",
       "|postcode|total_pop|under10_pop|adolsc_pop|yng_adult_pop|mid_age_pop|old_pop|num_earners|median_age|median_income|mean_income|\n",
       "+--------+---------+-----------+----------+-------------+-----------+-------+-----------+----------+-------------+-----------+\n",
       "|    0800|   7679.0|      474.0|     325.0|       3322.0|     2652.0|  906.0|     5909.0|      33.0|      60937.0|    87791.0|\n",
       "|    0810|  3121.46|     419.06|    345.41|        819.6|    1043.92| 493.46|    1904.63|      39.1|      59653.0|   70087.24|\n",
       "|    0812|  4308.01|     621.82|    571.11|        844.5|    1475.39|  795.2|    2524.63|     41.61|     61325.63|   68985.95|\n",
       "|    0820|  3420.98|     358.95|    316.31|      1032.65|     1172.7| 540.38|    2420.53|      39.1|     63857.71|   82498.57|\n",
       "|    0822|  5099.87|      767.1|    868.74|      1295.53|    1631.41| 537.08|     1029.6|     39.79|     38878.56|   49409.36|\n",
       "+--------+---------+-----------+----------+-------------+-----------+-------+-----------+----------+-------------+-----------+"
      ]
     },
     "execution_count": 20,
     "metadata": {},
     "output_type": "execute_result"
    }
   ],
   "source": [
    "external_data_sdf = postcode_pop_sdf.join(postcode_income_sdf, on=\"postcode\", how=\"full\")\n",
    "print(external_data_sdf.count())\n",
    "external_data_sdf.limit(5)"
   ]
  },
  {
   "cell_type": "markdown",
   "metadata": {},
   "source": [
    "## Join External data with existing data"
   ]
  },
  {
   "cell_type": "code",
   "execution_count": 21,
   "metadata": {},
   "outputs": [
    {
     "name": "stdout",
     "output_type": "stream",
     "text": [
      "13613661\n"
     ]
    },
    {
     "name": "stderr",
     "output_type": "stream",
     "text": [
      "                                                                                \r"
     ]
    },
    {
     "data": {
      "text/html": [
       "<table border='1'>\n",
       "<tr><th>merchant_abn</th><th>consumer_id</th><th>user_id</th><th>dollar_value</th><th>order_id</th><th>order_datetime</th><th>customer_name</th><th>address</th><th>state</th><th>postcode</th><th>gender</th><th>company_name</th><th>tags</th><th>take_rate</th><th>revenue_band</th></tr>\n",
       "<tr><td>69666829657</td><td>226</td><td>5162</td><td>79.65159982605903</td><td>8765ef9f-dba6-407...</td><td>2021-08-20</td><td>Courtney Torres</td><td>6945 Higgins Brooks</td><td>SA</td><td>5581</td><td>Female</td><td>Sem Ut Institute</td><td>bicycle shops - s...</td><td> 2.86</td><td> c</td></tr>\n",
       "<tr><td>50321300271</td><td>226</td><td>5162</td><td>594.2915496790856</td><td>79f2842d-f8b2-4fd...</td><td>2022-06-01</td><td>Courtney Torres</td><td>6945 Higgins Brooks</td><td>SA</td><td>5581</td><td>Female</td><td>Augue Industries</td><td>bicycle shops - s...</td><td> 4.24</td><td> b</td></tr>\n",
       "<tr><td>70610974780</td><td>226</td><td>5162</td><td>52.820359204536665</td><td>bdf345c8-4c5d-48e...</td><td>2021-08-20</td><td>Courtney Torres</td><td>6945 Higgins Brooks</td><td>SA</td><td>5581</td><td>Female</td><td>Elit Aliquam PC</td><td>tent and awning s...</td><td> 6.93</td><td> a</td></tr>\n",
       "<tr><td>17324645993</td><td>226</td><td>5162</td><td>27.12729568273566</td><td>0a44d623-e325-4fc...</td><td>2022-05-12</td><td>Courtney Torres</td><td>6945 Higgins Brooks</td><td>SA</td><td>5581</td><td>Female</td><td>Eget Metus In Cor...</td><td>tent and awning s...</td><td> 5.73</td><td> a</td></tr>\n",
       "<tr><td>15582655078</td><td>226</td><td>5162</td><td>75.31904078962366</td><td>47ddf8e0-5f72-408...</td><td>2021-08-21</td><td>Courtney Torres</td><td>6945 Higgins Brooks</td><td>SA</td><td>5581</td><td>Female</td><td>Eu Odio Phasellus...</td><td>gift, card, novel...</td><td> 6.77</td><td> a</td></tr>\n",
       "</table>\n"
      ],
      "text/plain": [
       "+------------+-----------+-------+------------------+--------------------+--------------+---------------+-------------------+-----+--------+------+--------------------+--------------------+---------+------------+\n",
       "|merchant_abn|consumer_id|user_id|      dollar_value|            order_id|order_datetime|  customer_name|            address|state|postcode|gender|        company_name|                tags|take_rate|revenue_band|\n",
       "+------------+-----------+-------+------------------+--------------------+--------------+---------------+-------------------+-----+--------+------+--------------------+--------------------+---------+------------+\n",
       "| 69666829657|        226|   5162| 79.65159982605903|8765ef9f-dba6-407...|    2021-08-20|Courtney Torres|6945 Higgins Brooks|   SA|    5581|Female|    Sem Ut Institute|bicycle shops - s...|     2.86|           c|\n",
       "| 50321300271|        226|   5162| 594.2915496790856|79f2842d-f8b2-4fd...|    2022-06-01|Courtney Torres|6945 Higgins Brooks|   SA|    5581|Female|    Augue Industries|bicycle shops - s...|     4.24|           b|\n",
       "| 70610974780|        226|   5162|52.820359204536665|bdf345c8-4c5d-48e...|    2021-08-20|Courtney Torres|6945 Higgins Brooks|   SA|    5581|Female|     Elit Aliquam PC|tent and awning s...|     6.93|           a|\n",
       "| 17324645993|        226|   5162| 27.12729568273566|0a44d623-e325-4fc...|    2022-05-12|Courtney Torres|6945 Higgins Brooks|   SA|    5581|Female|Eget Metus In Cor...|tent and awning s...|     5.73|           a|\n",
       "| 15582655078|        226|   5162| 75.31904078962366|47ddf8e0-5f72-408...|    2021-08-21|Courtney Torres|6945 Higgins Brooks|   SA|    5581|Female|Eu Odio Phasellus...|gift, card, novel...|     6.77|           a|\n",
       "+------------+-----------+-------+------------------+--------------------+--------------+---------------+-------------------+-----+--------+------+--------------------+--------------------+---------+------------+"
      ]
     },
     "execution_count": 21,
     "metadata": {},
     "output_type": "execute_result"
    }
   ],
   "source": [
    "sdf = spark.read.parquet(\"../data/curated/mergedf.parquet/\")\n",
    "print(sdf.count())\n",
    "sdf.limit(5)"
   ]
  },
  {
   "cell_type": "code",
   "execution_count": 22,
   "metadata": {},
   "outputs": [
    {
     "name": "stderr",
     "output_type": "stream",
     "text": [
      "                                                                                \r"
     ]
    },
    {
     "name": "stdout",
     "output_type": "stream",
     "text": [
      "10634088\n"
     ]
    },
    {
     "name": "stderr",
     "output_type": "stream",
     "text": [
      "                                                                                \r"
     ]
    },
    {
     "data": {
      "text/html": [
       "<table border='1'>\n",
       "<tr><th>postcode</th><th>merchant_abn</th><th>consumer_id</th><th>user_id</th><th>dollar_value</th><th>order_id</th><th>order_datetime</th><th>customer_name</th><th>address</th><th>state</th><th>gender</th><th>company_name</th><th>tags</th><th>take_rate</th><th>revenue_band</th><th>total_pop</th><th>under10_pop</th><th>adolsc_pop</th><th>yng_adult_pop</th><th>mid_age_pop</th><th>old_pop</th><th>num_earners</th><th>median_age</th><th>median_income</th><th>mean_income</th></tr>\n",
       "<tr><td>4821</td><td>89726005175</td><td>395495</td><td>13072</td><td>52.063950783334164</td><td>24dcc47c-4db3-409...</td><td>2021-08-20</td><td>Fernando Camacho</td><td>231 Hansen Viaduc...</td><td>QLD</td><td>Male</td><td>Est Nunc Consulting</td><td>tent and awning s...</td><td> 6.01</td><td> a</td><td>3128.0</td><td>468.0</td><td>271.0</td><td>707.0</td><td>947.0</td><td>735.0</td><td>1972.0</td><td>44.0</td><td>45102.0</td><td>50599.0</td></tr>\n",
       "<tr><td>4821</td><td>24852446429</td><td>395495</td><td>13072</td><td>50.099873913237694</td><td>6a2509c4-4f48-4d7...</td><td>2021-09-11</td><td>Fernando Camacho</td><td>231 Hansen Viaduc...</td><td>QLD</td><td>Male</td><td>Erat Vitae LLP</td><td>florists supplies...</td><td> 2.94</td><td> c</td><td>3128.0</td><td>468.0</td><td>271.0</td><td>707.0</td><td>947.0</td><td>735.0</td><td>1972.0</td><td>44.0</td><td>45102.0</td><td>50599.0</td></tr>\n",
       "<tr><td>4821</td><td>29616684420</td><td>395495</td><td>13072</td><td>137.1349391229884</td><td>9f875cf7-b7b6-467...</td><td>2021-08-21</td><td>Fernando Camacho</td><td>231 Hansen Viaduc...</td><td>QLD</td><td>Male</td><td>Tellus Id LLC</td><td>watch, clock, and...</td><td> 3.50</td><td> b</td><td>3128.0</td><td>468.0</td><td>271.0</td><td>707.0</td><td>947.0</td><td>735.0</td><td>1972.0</td><td>44.0</td><td>45102.0</td><td>50599.0</td></tr>\n",
       "<tr><td>4821</td><td>46804135891</td><td>395495</td><td>13072</td><td>57.55072339696916</td><td>21a6f664-8ed3-4fd...</td><td>2021-09-11</td><td>Fernando Camacho</td><td>231 Hansen Viaduc...</td><td>QLD</td><td>Male</td><td>Suspendisse Dui C...</td><td>opticians, optica...</td><td> 2.93</td><td> c</td><td>3128.0</td><td>468.0</td><td>271.0</td><td>707.0</td><td>947.0</td><td>735.0</td><td>1972.0</td><td>44.0</td><td>45102.0</td><td>50599.0</td></tr>\n",
       "<tr><td>4821</td><td>90459292204</td><td>395495</td><td>13072</td><td>191.98610641672823</td><td>db5071b3-09ce-4b9...</td><td>2021-08-19</td><td>Fernando Camacho</td><td>231 Hansen Viaduc...</td><td>QLD</td><td>Male</td><td>Adipiscing Ligula...</td><td>lawn and garden s...</td><td> 1.91</td><td> c</td><td>3128.0</td><td>468.0</td><td>271.0</td><td>707.0</td><td>947.0</td><td>735.0</td><td>1972.0</td><td>44.0</td><td>45102.0</td><td>50599.0</td></tr>\n",
       "</table>\n"
      ],
      "text/plain": [
       "+--------+------------+-----------+-------+------------------+--------------------+--------------+----------------+--------------------+-----+------+--------------------+--------------------+---------+------------+---------+-----------+----------+-------------+-----------+-------+-----------+----------+-------------+-----------+\n",
       "|postcode|merchant_abn|consumer_id|user_id|      dollar_value|            order_id|order_datetime|   customer_name|             address|state|gender|        company_name|                tags|take_rate|revenue_band|total_pop|under10_pop|adolsc_pop|yng_adult_pop|mid_age_pop|old_pop|num_earners|median_age|median_income|mean_income|\n",
       "+--------+------------+-----------+-------+------------------+--------------------+--------------+----------------+--------------------+-----+------+--------------------+--------------------+---------+------------+---------+-----------+----------+-------------+-----------+-------+-----------+----------+-------------+-----------+\n",
       "|    4821| 89726005175|     395495|  13072|52.063950783334164|24dcc47c-4db3-409...|    2021-08-20|Fernando Camacho|231 Hansen Viaduc...|  QLD|  Male| Est Nunc Consulting|tent and awning s...|     6.01|           a|   3128.0|      468.0|     271.0|        707.0|      947.0|  735.0|     1972.0|      44.0|      45102.0|    50599.0|\n",
       "|    4821| 24852446429|     395495|  13072|50.099873913237694|6a2509c4-4f48-4d7...|    2021-09-11|Fernando Camacho|231 Hansen Viaduc...|  QLD|  Male|      Erat Vitae LLP|florists supplies...|     2.94|           c|   3128.0|      468.0|     271.0|        707.0|      947.0|  735.0|     1972.0|      44.0|      45102.0|    50599.0|\n",
       "|    4821| 29616684420|     395495|  13072| 137.1349391229884|9f875cf7-b7b6-467...|    2021-08-21|Fernando Camacho|231 Hansen Viaduc...|  QLD|  Male|       Tellus Id LLC|watch, clock, and...|     3.50|           b|   3128.0|      468.0|     271.0|        707.0|      947.0|  735.0|     1972.0|      44.0|      45102.0|    50599.0|\n",
       "|    4821| 46804135891|     395495|  13072| 57.55072339696916|21a6f664-8ed3-4fd...|    2021-09-11|Fernando Camacho|231 Hansen Viaduc...|  QLD|  Male|Suspendisse Dui C...|opticians, optica...|     2.93|           c|   3128.0|      468.0|     271.0|        707.0|      947.0|  735.0|     1972.0|      44.0|      45102.0|    50599.0|\n",
       "|    4821| 90459292204|     395495|  13072|191.98610641672823|db5071b3-09ce-4b9...|    2021-08-19|Fernando Camacho|231 Hansen Viaduc...|  QLD|  Male|Adipiscing Ligula...|lawn and garden s...|     1.91|           c|   3128.0|      468.0|     271.0|        707.0|      947.0|  735.0|     1972.0|      44.0|      45102.0|    50599.0|\n",
       "+--------+------------+-----------+-------+------------------+--------------------+--------------+----------------+--------------------+-----+------+--------------------+--------------------+---------+------------+---------+-----------+----------+-------------+-----------+-------+-----------+----------+-------------+-----------+"
      ]
     },
     "execution_count": 22,
     "metadata": {},
     "output_type": "execute_result"
    }
   ],
   "source": [
    "finaldf = sdf.join(external_data_sdf, on=\"postcode\", how=\"inner\")\n",
    "print(finaldf.count())\n",
    "finaldf.limit(5)"
   ]
  },
  {
   "cell_type": "markdown",
   "metadata": {},
   "source": [
    "Null values occur because for some postcodes, population/income data did not exist."
   ]
  },
  {
   "cell_type": "code",
   "execution_count": 23,
   "metadata": {},
   "outputs": [
    {
     "name": "stdout",
     "output_type": "stream",
     "text": [
      "22/09/26 21:48:10 WARN package: Truncated the string representation of a plan since it was too large. This behavior can be adjusted by setting 'spark.sql.debug.maxToStringFields'.\n"
     ]
    },
    {
     "name": "stderr",
     "output_type": "stream",
     "text": [
      "                                                                                \r"
     ]
    },
    {
     "data": {
      "text/plain": [
       "10320037"
      ]
     },
     "execution_count": 23,
     "metadata": {},
     "output_type": "execute_result"
    }
   ],
   "source": [
    "finaldf = finaldf.dropna(how=\"any\")\n",
    "finaldf.count()"
   ]
  },
  {
   "cell_type": "markdown",
   "metadata": {},
   "source": [
    "Removing records containing null values resulted in the loss of 314,051 records."
   ]
  }
 ],
 "metadata": {
  "kernelspec": {
   "display_name": "Python 3.8.10 64-bit",
   "language": "python",
   "name": "python3"
  },
  "language_info": {
   "codemirror_mode": {
    "name": "ipython",
    "version": 3
   },
   "file_extension": ".py",
   "mimetype": "text/x-python",
   "name": "python",
   "nbconvert_exporter": "python",
   "pygments_lexer": "ipython3",
   "version": "3.10.4"
  },
  "orig_nbformat": 4,
  "vscode": {
   "interpreter": {
    "hash": "916dbcbb3f70747c44a77c7bcd40155683ae19c65e1c03b4aa3499c5328201f1"
   }
  }
 },
 "nbformat": 4,
 "nbformat_minor": 2
}
