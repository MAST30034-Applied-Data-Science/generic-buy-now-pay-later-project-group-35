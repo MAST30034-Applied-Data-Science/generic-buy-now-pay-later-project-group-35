{
 "cells": [
  {
   "cell_type": "code",
   "execution_count": 1,
   "id": "f935367d-cab0-4904-9bed-676c9eccd84b",
   "metadata": {
    "tags": []
   },
   "outputs": [
    {
     "name": "stdout",
     "output_type": "stream",
     "text": [
      "22/10/09 17:45:31 WARN Utils: Your hostname, AryansLaptop resolves to a loopback address: 127.0.1.1; using 172.26.64.252 instead (on interface eth0)\n",
      "22/10/09 17:45:31 WARN Utils: Set SPARK_LOCAL_IP if you need to bind to another address\n"
     ]
    },
    {
     "name": "stderr",
     "output_type": "stream",
     "text": [
      "Setting default log level to \"WARN\".\n",
      "To adjust logging level use sc.setLogLevel(newLevel). For SparkR, use setLogLevel(newLevel).\n"
     ]
    },
    {
     "name": "stdout",
     "output_type": "stream",
     "text": [
      "22/10/09 17:45:32 WARN NativeCodeLoader: Unable to load native-hadoop library for your platform... using builtin-java classes where applicable\n",
      "22/10/09 17:45:34 WARN Utils: Service 'SparkUI' could not bind on port 4040. Attempting port 4041.\n"
     ]
    }
   ],
   "source": [
    "from pyspark.sql import SparkSession\n",
    "from pyspark.sql.functions import * \n",
    "import matplotlib.pyplot as plt\n",
    "import pandas as pd\n",
    "import numpy as np\n",
    "from urllib.request import urlretrieve\n",
    "from owslib.wfs import WebFeatureService\n",
    "from dotenv import load_dotenv\n",
    "from pyspark.sql import functions as F\n",
    "\n",
    "# Create a spark session\n",
    "spark = (\n",
    "    SparkSession.builder.appName(\"analysis\")\n",
    "    .config(\"spark.sql.repl.eagerEval.enabled\", True) \n",
    "    .config(\"spark.sql.parquet.cacheMetadata\", \"true\")\n",
    "    .config(\"spark.sql.session.timeZone\", \"Etc/UTC\")\n",
    "    .config(\"spark.driver.memory\", \"2g\")\n",
    "    .config(\"spark.executor.memory\", \"6g\")\n",
    "    .getOrCreate()\n",
    ")"
   ]
  },
  {
   "cell_type": "markdown",
   "id": "2fd082bb",
   "metadata": {},
   "source": [
    "## Combining datasets"
   ]
  },
  {
   "cell_type": "code",
   "execution_count": 2,
   "id": "4b7aa80d-fd13-42e9-9943-a180e7ad0864",
   "metadata": {},
   "outputs": [
    {
     "name": "stderr",
     "output_type": "stream",
     "text": [
      "                                                                                \r"
     ]
    },
    {
     "name": "stdout",
     "output_type": "stream",
     "text": [
      "13614675\n"
     ]
    },
    {
     "name": "stderr",
     "output_type": "stream",
     "text": [
      "                                                                                \r"
     ]
    },
    {
     "data": {
      "text/html": [
       "<table border='1'>\n",
       "<tr><th>merchant_abn</th><th>consumer_id</th><th>user_id</th><th>dollar_value</th><th>order_id</th><th>order_datetime</th><th>customer_name</th><th>address</th><th>state</th><th>postcode</th><th>gender</th><th>company_name</th><th>tags</th><th>take_rate</th><th>revenue_band</th></tr>\n",
       "<tr><td>69666829657</td><td>226</td><td>5162</td><td>79.65159982605903</td><td>8765ef9f-dba6-407...</td><td>2021-08-20</td><td>Courtney Torres</td><td>6945 Higgins Brooks</td><td>SA</td><td>5581</td><td>Female</td><td>Sem Ut Institute</td><td>bicycle shops - s...</td><td> 2.86</td><td> c</td></tr>\n",
       "<tr><td>50321300271</td><td>226</td><td>5162</td><td>594.2915496790856</td><td>79f2842d-f8b2-4fd...</td><td>2022-06-01</td><td>Courtney Torres</td><td>6945 Higgins Brooks</td><td>SA</td><td>5581</td><td>Female</td><td>Augue Industries</td><td>bicycle shops - s...</td><td> 4.24</td><td> b</td></tr>\n",
       "<tr><td>70610974780</td><td>226</td><td>5162</td><td>52.820359204536665</td><td>bdf345c8-4c5d-48e...</td><td>2021-08-20</td><td>Courtney Torres</td><td>6945 Higgins Brooks</td><td>SA</td><td>5581</td><td>Female</td><td>Elit Aliquam PC</td><td>tent and awning s...</td><td> 6.93</td><td> a</td></tr>\n",
       "<tr><td>17324645993</td><td>226</td><td>5162</td><td>27.12729568273566</td><td>0a44d623-e325-4fc...</td><td>2022-05-12</td><td>Courtney Torres</td><td>6945 Higgins Brooks</td><td>SA</td><td>5581</td><td>Female</td><td>Eget Metus In Cor...</td><td>tent and awning s...</td><td> 5.73</td><td> a</td></tr>\n",
       "<tr><td>15582655078</td><td>226</td><td>5162</td><td>75.31904078962366</td><td>47ddf8e0-5f72-408...</td><td>2021-08-21</td><td>Courtney Torres</td><td>6945 Higgins Brooks</td><td>SA</td><td>5581</td><td>Female</td><td>Eu Odio Phasellus...</td><td>gift, card, novel...</td><td> 6.77</td><td> a</td></tr>\n",
       "</table>\n"
      ],
      "text/plain": [
       "+------------+-----------+-------+------------------+--------------------+--------------+---------------+-------------------+-----+--------+------+--------------------+--------------------+---------+------------+\n",
       "|merchant_abn|consumer_id|user_id|      dollar_value|            order_id|order_datetime|  customer_name|            address|state|postcode|gender|        company_name|                tags|take_rate|revenue_band|\n",
       "+------------+-----------+-------+------------------+--------------------+--------------+---------------+-------------------+-----+--------+------+--------------------+--------------------+---------+------------+\n",
       "| 69666829657|        226|   5162| 79.65159982605903|8765ef9f-dba6-407...|    2021-08-20|Courtney Torres|6945 Higgins Brooks|   SA|    5581|Female|    Sem Ut Institute|bicycle shops - s...|     2.86|           c|\n",
       "| 50321300271|        226|   5162| 594.2915496790856|79f2842d-f8b2-4fd...|    2022-06-01|Courtney Torres|6945 Higgins Brooks|   SA|    5581|Female|    Augue Industries|bicycle shops - s...|     4.24|           b|\n",
       "| 70610974780|        226|   5162|52.820359204536665|bdf345c8-4c5d-48e...|    2021-08-20|Courtney Torres|6945 Higgins Brooks|   SA|    5581|Female|     Elit Aliquam PC|tent and awning s...|     6.93|           a|\n",
       "| 17324645993|        226|   5162| 27.12729568273566|0a44d623-e325-4fc...|    2022-05-12|Courtney Torres|6945 Higgins Brooks|   SA|    5581|Female|Eget Metus In Cor...|tent and awning s...|     5.73|           a|\n",
       "| 15582655078|        226|   5162| 75.31904078962366|47ddf8e0-5f72-408...|    2021-08-21|Courtney Torres|6945 Higgins Brooks|   SA|    5581|Female|Eu Odio Phasellus...|gift, card, novel...|     6.77|           a|\n",
       "+------------+-----------+-------+------------------+--------------------+--------------+---------------+-------------------+-----+--------+------+--------------------+--------------------+---------+------------+"
      ]
     },
     "execution_count": 2,
     "metadata": {},
     "output_type": "execute_result"
    }
   ],
   "source": [
    "# All given data\n",
    "\n",
    "sdf = spark.read.parquet(\"../data/curated/mergedftemp.parquet/\")\n",
    "print(sdf.count())\n",
    "sdf.limit(5)"
   ]
  },
  {
   "cell_type": "code",
   "execution_count": 3,
   "id": "598f9bc5",
   "metadata": {},
   "outputs": [
    {
     "data": {
      "text/html": [
       "<table border='1'>\n",
       "<tr><th>State/Terr</th><th>sa2_code</th><th>SA2 name</th><th>Total</th><th>Under 10</th><th>Adolescent</th><th>Young adult</th><th>Middle age</th><th>Old</th></tr>\n",
       "<tr><td>New South Wales</td><td>121011686</td><td>Lane Cove</td><td>15931</td><td>2246</td><td>1683</td><td>3108</td><td>5838</td><td>3056</td></tr>\n",
       "<tr><td>New South Wales</td><td>121011687</td><td>Willoughby</td><td>13024</td><td>1829</td><td>1862</td><td>1679</td><td>4949</td><td>2705</td></tr>\n",
       "<tr><td>New South Wales</td><td>121021403</td><td>Asquith - Mount C...</td><td>22134</td><td>2949</td><td>3092</td><td>3674</td><td>8221</td><td>4198</td></tr>\n",
       "<tr><td>New South Wales</td><td>121021404</td><td>Berowra - Brookly...</td><td>11793</td><td>1513</td><td>1805</td><td>1444</td><td>4385</td><td>2646</td></tr>\n",
       "<tr><td>New South Wales</td><td>121021406</td><td>Normanhurst - Tho...</td><td>19199</td><td>2395</td><td>2868</td><td>2589</td><td>6962</td><td>4385</td></tr>\n",
       "</table>\n"
      ],
      "text/plain": [
       "+---------------+---------+--------------------+-----+--------+----------+-----------+----------+----+\n",
       "|     State/Terr| sa2_code|            SA2 name|Total|Under 10|Adolescent|Young adult|Middle age| Old|\n",
       "+---------------+---------+--------------------+-----+--------+----------+-----------+----------+----+\n",
       "|New South Wales|121011686|           Lane Cove|15931|    2246|      1683|       3108|      5838|3056|\n",
       "|New South Wales|121011687|          Willoughby|13024|    1829|      1862|       1679|      4949|2705|\n",
       "|New South Wales|121021403|Asquith - Mount C...|22134|    2949|      3092|       3674|      8221|4198|\n",
       "|New South Wales|121021404|Berowra - Brookly...|11793|    1513|      1805|       1444|      4385|2646|\n",
       "|New South Wales|121021406|Normanhurst - Tho...|19199|    2395|      2868|       2589|      6962|4385|\n",
       "+---------------+---------+--------------------+-----+--------+----------+-----------+----------+----+"
      ]
     },
     "execution_count": 3,
     "metadata": {},
     "output_type": "execute_result"
    }
   ],
   "source": [
    "# Population data\n",
    "\n",
    "pop_sdf = spark.read.parquet(\"../data/curated/pop_sdf.parquet/\")\n",
    "pop_sdf = pop_sdf.withColumnRenamed(\"SA2 code\",\"sa2_code\")\n",
    "pop_sdf.limit(5)"
   ]
  },
  {
   "cell_type": "code",
   "execution_count": 4,
   "id": "dc1460ab",
   "metadata": {},
   "outputs": [
    {
     "data": {
      "text/html": [
       "<table border='1'>\n",
       "<tr><th>sa2_code</th><th>num_earners</th><th>median_age</th><th>median_income</th><th>mean_income</th></tr>\n",
       "<tr><td>213011340</td><td>11238</td><td>46</td><td>51181</td><td>61177</td></tr>\n",
       "<tr><td>213021341</td><td>7942</td><td>43</td><td>57585</td><td>69301</td></tr>\n",
       "<tr><td>213021344</td><td>11216</td><td>41</td><td>66161</td><td>80219</td></tr>\n",
       "<tr><td>213021345</td><td>3015</td><td>41</td><td>52078</td><td>60249</td></tr>\n",
       "<tr><td>213021346</td><td>9996</td><td>47</td><td>63892</td><td>90668</td></tr>\n",
       "</table>\n"
      ],
      "text/plain": [
       "+---------+-----------+----------+-------------+-----------+\n",
       "| sa2_code|num_earners|median_age|median_income|mean_income|\n",
       "+---------+-----------+----------+-------------+-----------+\n",
       "|213011340|      11238|        46|        51181|      61177|\n",
       "|213021341|       7942|        43|        57585|      69301|\n",
       "|213021344|      11216|        41|        66161|      80219|\n",
       "|213021345|       3015|        41|        52078|      60249|\n",
       "|213021346|       9996|        47|        63892|      90668|\n",
       "+---------+-----------+----------+-------------+-----------+"
      ]
     },
     "execution_count": 4,
     "metadata": {},
     "output_type": "execute_result"
    }
   ],
   "source": [
    "# Income data\n",
    "\n",
    "income_sdf = spark.read.parquet(\"../data/curated/incomedf.parquet/\")\n",
    "income_sdf.limit(5)"
   ]
  },
  {
   "cell_type": "markdown",
   "id": "e8cfabb9",
   "metadata": {},
   "source": [
    "### External dataset joins"
   ]
  },
  {
   "cell_type": "markdown",
   "id": "a9819880",
   "metadata": {},
   "source": [
    "After analysing the merge of the existing data with each of the postocde data (workbooks 3a and 3b), have concluded that we should use the postcode data not containing the ratio field and use the median of the matched records for each postcode to get a single value for income/population data for each postcode. \n",
    "\n",
    "The benefits of using weighted averaging provided by the postcode with ratio dataset would not, by our analysis, be worth the loss of 1,498,774 records. The choice of using median was based on the many outliers (see boxplots in workbooks 3a and 3b)."
   ]
  },
  {
   "cell_type": "code",
   "execution_count": 5,
   "id": "0c0d9f98",
   "metadata": {},
   "outputs": [
    {
     "name": "stdout",
     "output_type": "stream",
     "text": [
      "5492\n"
     ]
    },
    {
     "data": {
      "text/html": [
       "<table border='1'>\n",
       "<tr><th>postcode</th><th>sa2_code</th></tr>\n",
       "<tr><td>1008</td><td>117031337</td></tr>\n",
       "<tr><td>1150</td><td>117031337</td></tr>\n",
       "<tr><td>2100</td><td>122031429</td></tr>\n",
       "<tr><td>2200</td><td>119011571</td></tr>\n",
       "<tr><td>2338</td><td>110041201</td></tr>\n",
       "</table>\n"
      ],
      "text/plain": [
       "+--------+---------+\n",
       "|postcode| sa2_code|\n",
       "+--------+---------+\n",
       "|    1008|117031337|\n",
       "|    1150|117031337|\n",
       "|    2100|122031429|\n",
       "|    2200|119011571|\n",
       "|    2338|110041201|\n",
       "+--------+---------+"
      ]
     },
     "execution_count": 5,
     "metadata": {},
     "output_type": "execute_result"
    }
   ],
   "source": [
    "# Postcode data\n",
    "\n",
    "postcode_sdf = spark.read.parquet(\"../data/curated/postcodedf.parquet/\")\n",
    "print(postcode_sdf.count())\n",
    "postcode_sdf.limit(5)"
   ]
  },
  {
   "cell_type": "markdown",
   "id": "578b8adf",
   "metadata": {},
   "source": [
    "Join postcode with population data"
   ]
  },
  {
   "cell_type": "code",
   "execution_count": 6,
   "id": "66ef9706",
   "metadata": {},
   "outputs": [
    {
     "name": "stdout",
     "output_type": "stream",
     "text": [
      "2450\n"
     ]
    }
   ],
   "source": [
    "print(pop_sdf.count())"
   ]
  },
  {
   "cell_type": "code",
   "execution_count": 7,
   "id": "3f19e0b4",
   "metadata": {},
   "outputs": [
    {
     "data": {
      "text/plain": [
       "2083"
      ]
     },
     "execution_count": 7,
     "metadata": {},
     "output_type": "execute_result"
    }
   ],
   "source": [
    "merged_sdf1 = pop_sdf.join(postcode_sdf, on=\"sa2_code\", how=\"inner\")\n",
    "merged_sdf1.groupBy(\"sa2_code\").count().count()"
   ]
  },
  {
   "cell_type": "markdown",
   "id": "55968c9e",
   "metadata": {},
   "source": [
    "Lost 367 records from population data for which there were no sa2 codes"
   ]
  },
  {
   "cell_type": "code",
   "execution_count": 8,
   "id": "31f22ca1",
   "metadata": {},
   "outputs": [
    {
     "data": {
      "text/html": [
       "<table border='1'>\n",
       "<tr><th>sa2_code</th><th>State/Terr</th><th>SA2 name</th><th>Total</th><th>Under 10</th><th>Adolescent</th><th>Young adult</th><th>Middle age</th><th>Old</th><th>postcode</th></tr>\n",
       "<tr><td>801051049</td><td>Australian Capita...</td><td>Acton</td><td>2875</td><td>6</td><td>1528</td><td>1292</td><td>47</td><td>2</td><td>0200</td></tr>\n",
       "<tr><td>701011002</td><td>Northern Territory</td><td>Darwin City</td><td>7679</td><td>474</td><td>325</td><td>3322</td><td>2652</td><td>906</td><td>0800</td></tr>\n",
       "<tr><td>701011002</td><td>Northern Territory</td><td>Darwin City</td><td>7679</td><td>474</td><td>325</td><td>3322</td><td>2652</td><td>906</td><td>0801</td></tr>\n",
       "<tr><td>701011007</td><td>Northern Territory</td><td>Parap</td><td>2980</td><td>350</td><td>282</td><td>801</td><td>1047</td><td>500</td><td>0804</td></tr>\n",
       "<tr><td>701021013</td><td>Northern Territory</td><td>Brinkin - Nakara</td><td>3615</td><td>372</td><td>409</td><td>1140</td><td>1086</td><td>608</td><td>0810</td></tr>\n",
       "</table>\n"
      ],
      "text/plain": [
       "+---------+--------------------+----------------+-----+--------+----------+-----------+----------+---+--------+\n",
       "| sa2_code|          State/Terr|        SA2 name|Total|Under 10|Adolescent|Young adult|Middle age|Old|postcode|\n",
       "+---------+--------------------+----------------+-----+--------+----------+-----------+----------+---+--------+\n",
       "|801051049|Australian Capita...|           Acton| 2875|       6|      1528|       1292|        47|  2|    0200|\n",
       "|701011002|  Northern Territory|     Darwin City| 7679|     474|       325|       3322|      2652|906|    0800|\n",
       "|701011002|  Northern Territory|     Darwin City| 7679|     474|       325|       3322|      2652|906|    0801|\n",
       "|701011007|  Northern Territory|           Parap| 2980|     350|       282|        801|      1047|500|    0804|\n",
       "|701021013|  Northern Territory|Brinkin - Nakara| 3615|     372|       409|       1140|      1086|608|    0810|\n",
       "+---------+--------------------+----------------+-----+--------+----------+-----------+----------+---+--------+"
      ]
     },
     "execution_count": 8,
     "metadata": {},
     "output_type": "execute_result"
    }
   ],
   "source": [
    "merged_sdf1.orderBy(\"postcode\").limit(5)"
   ]
  },
  {
   "cell_type": "markdown",
   "id": "7b80ee50",
   "metadata": {},
   "source": [
    "Get a single population value for each postcode and field by calculating the median"
   ]
  },
  {
   "cell_type": "code",
   "execution_count": 9,
   "id": "85c5504a",
   "metadata": {},
   "outputs": [
    {
     "name": "stderr",
     "output_type": "stream",
     "text": [
      "                                                                                \r"
     ]
    },
    {
     "data": {
      "text/html": [
       "<table border='1'>\n",
       "<tr><th>postcode</th><th>total_pop</th><th>under10_pop</th><th>adolsc_pop</th><th>yng_adult_pop</th><th>mid_age_pop</th><th>old_pop</th></tr>\n",
       "<tr><td>0200</td><td>2875</td><td>6</td><td>1528</td><td>1292</td><td>47</td><td>2</td></tr>\n",
       "<tr><td>0800</td><td>7679</td><td>474</td><td>325</td><td>3322</td><td>2652</td><td>906</td></tr>\n",
       "<tr><td>0801</td><td>7679</td><td>474</td><td>325</td><td>3322</td><td>2652</td><td>906</td></tr>\n",
       "<tr><td>0804</td><td>2980</td><td>350</td><td>282</td><td>801</td><td>1047</td><td>500</td></tr>\n",
       "<tr><td>0810</td><td>2657</td><td>326</td><td>274</td><td>541</td><td>845</td><td>386</td></tr>\n",
       "</table>\n"
      ],
      "text/plain": [
       "+--------+---------+-----------+----------+-------------+-----------+-------+\n",
       "|postcode|total_pop|under10_pop|adolsc_pop|yng_adult_pop|mid_age_pop|old_pop|\n",
       "+--------+---------+-----------+----------+-------------+-----------+-------+\n",
       "|    0200|     2875|          6|      1528|         1292|         47|      2|\n",
       "|    0800|     7679|        474|       325|         3322|       2652|    906|\n",
       "|    0801|     7679|        474|       325|         3322|       2652|    906|\n",
       "|    0804|     2980|        350|       282|          801|       1047|    500|\n",
       "|    0810|     2657|        326|       274|          541|        845|    386|\n",
       "+--------+---------+-----------+----------+-------------+-----------+-------+"
      ]
     },
     "execution_count": 9,
     "metadata": {},
     "output_type": "execute_result"
    }
   ],
   "source": [
    "postcode_pop_sdf = merged_sdf1.groupBy(\"postcode\") \\\n",
    "    .agg(\n",
    "        F.percentile_approx(merged_sdf1.Total, 0.5).alias(\"total_pop\"),\n",
    "        F.percentile_approx(merged_sdf1['Under 10'], 0.5).alias(\"under10_pop\"),\n",
    "        F.percentile_approx(merged_sdf1.Adolescent, 0.5).alias(\"adolsc_pop\"),\n",
    "        F.percentile_approx(merged_sdf1['Young adult'], 0.5).alias(\"yng_adult_pop\"),\n",
    "        F.percentile_approx(merged_sdf1['Middle age'], 0.5).alias(\"mid_age_pop\"),\n",
    "        F.percentile_approx(merged_sdf1.Old, 0.5).alias(\"old_pop\")\n",
    "    )\n",
    "    \n",
    "postcode_pop_sdf.orderBy(\"postcode\").limit(5)"
   ]
  },
  {
   "cell_type": "markdown",
   "id": "c11e8dd7",
   "metadata": {},
   "source": [
    "Join postcode with income data"
   ]
  },
  {
   "cell_type": "code",
   "execution_count": 10,
   "id": "b67084e2",
   "metadata": {},
   "outputs": [
    {
     "name": "stdout",
     "output_type": "stream",
     "text": [
      "2239\n"
     ]
    }
   ],
   "source": [
    "print(income_sdf.count())"
   ]
  },
  {
   "cell_type": "code",
   "execution_count": 11,
   "id": "9977a827",
   "metadata": {},
   "outputs": [],
   "source": [
    "merged_sdf2 = income_sdf.join(postcode_sdf, on=\"sa2_code\", how=\"inner\")"
   ]
  },
  {
   "cell_type": "code",
   "execution_count": 12,
   "id": "d76fb478",
   "metadata": {},
   "outputs": [
    {
     "data": {
      "text/plain": [
       "2186"
      ]
     },
     "execution_count": 12,
     "metadata": {},
     "output_type": "execute_result"
    }
   ],
   "source": [
    "merged_sdf2.groupBy(\"sa2_code\").count().count()"
   ]
  },
  {
   "cell_type": "markdown",
   "id": "160a78cd",
   "metadata": {},
   "source": [
    "Lost 53 records for which there were no sa2 codes"
   ]
  },
  {
   "cell_type": "code",
   "execution_count": 13,
   "id": "b24d1325",
   "metadata": {},
   "outputs": [
    {
     "data": {
      "text/html": [
       "<table border='1'>\n",
       "<tr><th>sa2_code</th><th>num_earners</th><th>median_age</th><th>median_income</th><th>mean_income</th><th>postcode</th></tr>\n",
       "<tr><td>801051049</td><td>548</td><td>23</td><td>9306</td><td>16835</td><td>0200</td></tr>\n",
       "<tr><td>701011002</td><td>5909</td><td>33</td><td>60937</td><td>87791</td><td>0800</td></tr>\n",
       "<tr><td>701011002</td><td>5909</td><td>33</td><td>60937</td><td>87791</td><td>0801</td></tr>\n",
       "<tr><td>701011007</td><td>1873</td><td>40</td><td>75219</td><td>98872</td><td>0804</td></tr>\n",
       "<tr><td>701021024</td><td>1229</td><td>41</td><td>58778</td><td>65990</td><td>0810</td></tr>\n",
       "</table>\n"
      ],
      "text/plain": [
       "+---------+-----------+----------+-------------+-----------+--------+\n",
       "| sa2_code|num_earners|median_age|median_income|mean_income|postcode|\n",
       "+---------+-----------+----------+-------------+-----------+--------+\n",
       "|801051049|        548|        23|         9306|      16835|    0200|\n",
       "|701011002|       5909|        33|        60937|      87791|    0800|\n",
       "|701011002|       5909|        33|        60937|      87791|    0801|\n",
       "|701011007|       1873|        40|        75219|      98872|    0804|\n",
       "|701021024|       1229|        41|        58778|      65990|    0810|\n",
       "+---------+-----------+----------+-------------+-----------+--------+"
      ]
     },
     "execution_count": 13,
     "metadata": {},
     "output_type": "execute_result"
    }
   ],
   "source": [
    "merged_sdf2.orderBy(\"postcode\").limit(5)"
   ]
  },
  {
   "cell_type": "code",
   "execution_count": 14,
   "id": "31512bce",
   "metadata": {},
   "outputs": [
    {
     "data": {
      "text/html": [
       "<table border='1'>\n",
       "<tr><th>postcode</th><th>num_earners</th><th>median_age</th><th>median_income</th><th>mean_income</th></tr>\n",
       "<tr><td>0200</td><td>548</td><td>23</td><td>9306</td><td>16835</td></tr>\n",
       "<tr><td>0800</td><td>5909</td><td>33</td><td>60937</td><td>87791</td></tr>\n",
       "<tr><td>0801</td><td>5909</td><td>33</td><td>60937</td><td>87791</td></tr>\n",
       "<tr><td>0804</td><td>1873</td><td>40</td><td>75219</td><td>98872</td></tr>\n",
       "<tr><td>0810</td><td>1479</td><td>39</td><td>58753</td><td>67299</td></tr>\n",
       "</table>\n"
      ],
      "text/plain": [
       "+--------+-----------+----------+-------------+-----------+\n",
       "|postcode|num_earners|median_age|median_income|mean_income|\n",
       "+--------+-----------+----------+-------------+-----------+\n",
       "|    0200|        548|        23|         9306|      16835|\n",
       "|    0800|       5909|        33|        60937|      87791|\n",
       "|    0801|       5909|        33|        60937|      87791|\n",
       "|    0804|       1873|        40|        75219|      98872|\n",
       "|    0810|       1479|        39|        58753|      67299|\n",
       "+--------+-----------+----------+-------------+-----------+"
      ]
     },
     "execution_count": 14,
     "metadata": {},
     "output_type": "execute_result"
    }
   ],
   "source": [
    "postcode_income_sdf = merged_sdf2.groupBy(\"postcode\") \\\n",
    "    .agg(\n",
    "        F.percentile_approx(merged_sdf2.num_earners, 0.5).alias(\"num_earners\"),\n",
    "        F.percentile_approx(merged_sdf2.median_age, 0.5).alias(\"median_age\"),\n",
    "        F.percentile_approx(merged_sdf2.median_income, 0.5).alias(\"median_income\"),\n",
    "        F.percentile_approx(merged_sdf2.mean_income, 0.5).alias(\"mean_income\")\n",
    "    )\n",
    "    \n",
    "postcode_income_sdf.orderBy(\"postcode\").limit(5)"
   ]
  },
  {
   "cell_type": "markdown",
   "id": "8b18f3f3",
   "metadata": {},
   "source": [
    "Combine all external data in a single spark dataframe"
   ]
  },
  {
   "cell_type": "code",
   "execution_count": 15,
   "id": "2e2d2469",
   "metadata": {},
   "outputs": [
    {
     "name": "stdout",
     "output_type": "stream",
     "text": [
      "2793 3160\n"
     ]
    }
   ],
   "source": [
    "print(postcode_pop_sdf.count(), postcode_income_sdf.count())"
   ]
  },
  {
   "cell_type": "code",
   "execution_count": 16,
   "id": "5583de61",
   "metadata": {},
   "outputs": [
    {
     "name": "stdout",
     "output_type": "stream",
     "text": [
      "3162\n"
     ]
    },
    {
     "data": {
      "text/html": [
       "<table border='1'>\n",
       "<tr><th>postcode</th><th>total_pop</th><th>under10_pop</th><th>adolsc_pop</th><th>yng_adult_pop</th><th>mid_age_pop</th><th>old_pop</th><th>num_earners</th><th>median_age</th><th>median_income</th><th>mean_income</th></tr>\n",
       "<tr><td>0200</td><td>2875</td><td>6</td><td>1528</td><td>1292</td><td>47</td><td>2</td><td>548</td><td>23</td><td>9306</td><td>16835</td></tr>\n",
       "<tr><td>0800</td><td>7679</td><td>474</td><td>325</td><td>3322</td><td>2652</td><td>906</td><td>5909</td><td>33</td><td>60937</td><td>87791</td></tr>\n",
       "<tr><td>0801</td><td>7679</td><td>474</td><td>325</td><td>3322</td><td>2652</td><td>906</td><td>5909</td><td>33</td><td>60937</td><td>87791</td></tr>\n",
       "<tr><td>0804</td><td>2980</td><td>350</td><td>282</td><td>801</td><td>1047</td><td>500</td><td>1873</td><td>40</td><td>75219</td><td>98872</td></tr>\n",
       "<tr><td>0810</td><td>2657</td><td>326</td><td>274</td><td>541</td><td>845</td><td>386</td><td>1479</td><td>39</td><td>58753</td><td>67299</td></tr>\n",
       "</table>\n"
      ],
      "text/plain": [
       "+--------+---------+-----------+----------+-------------+-----------+-------+-----------+----------+-------------+-----------+\n",
       "|postcode|total_pop|under10_pop|adolsc_pop|yng_adult_pop|mid_age_pop|old_pop|num_earners|median_age|median_income|mean_income|\n",
       "+--------+---------+-----------+----------+-------------+-----------+-------+-----------+----------+-------------+-----------+\n",
       "|    0200|     2875|          6|      1528|         1292|         47|      2|        548|        23|         9306|      16835|\n",
       "|    0800|     7679|        474|       325|         3322|       2652|    906|       5909|        33|        60937|      87791|\n",
       "|    0801|     7679|        474|       325|         3322|       2652|    906|       5909|        33|        60937|      87791|\n",
       "|    0804|     2980|        350|       282|          801|       1047|    500|       1873|        40|        75219|      98872|\n",
       "|    0810|     2657|        326|       274|          541|        845|    386|       1479|        39|        58753|      67299|\n",
       "+--------+---------+-----------+----------+-------------+-----------+-------+-----------+----------+-------------+-----------+"
      ]
     },
     "execution_count": 16,
     "metadata": {},
     "output_type": "execute_result"
    }
   ],
   "source": [
    "external_data_sdf = postcode_pop_sdf.join(postcode_income_sdf, on=\"postcode\", how=\"full\")\n",
    "print(external_data_sdf.count())\n",
    "external_data_sdf.limit(5)"
   ]
  },
  {
   "cell_type": "code",
   "execution_count": 17,
   "id": "a01ca54c",
   "metadata": {},
   "outputs": [
    {
     "name": "stderr",
     "output_type": "stream",
     "text": [
      "                                                                                \r"
     ]
    }
   ],
   "source": [
    "external_data_sdf.write.mode(\"overwrite\").parquet(\"../data/curated/externaldata.parquet\")"
   ]
  },
  {
   "cell_type": "markdown",
   "id": "9cd7f66e",
   "metadata": {},
   "source": [
    "Join external data with existing data"
   ]
  },
  {
   "cell_type": "code",
   "execution_count": 17,
   "id": "d52ac4b3",
   "metadata": {},
   "outputs": [
    {
     "name": "stdout",
     "output_type": "stream",
     "text": [
      "13614675\n"
     ]
    },
    {
     "data": {
      "text/html": [
       "<table border='1'>\n",
       "<tr><th>merchant_abn</th><th>consumer_id</th><th>user_id</th><th>dollar_value</th><th>order_id</th><th>order_datetime</th><th>customer_name</th><th>address</th><th>state</th><th>postcode</th><th>gender</th><th>company_name</th><th>tags</th><th>take_rate</th><th>revenue_band</th></tr>\n",
       "<tr><td>69666829657</td><td>226</td><td>5162</td><td>79.65159982605903</td><td>8765ef9f-dba6-407...</td><td>2021-08-20</td><td>Courtney Torres</td><td>6945 Higgins Brooks</td><td>SA</td><td>5581</td><td>Female</td><td>Sem Ut Institute</td><td>bicycle shops - s...</td><td> 2.86</td><td> c</td></tr>\n",
       "<tr><td>50321300271</td><td>226</td><td>5162</td><td>594.2915496790856</td><td>79f2842d-f8b2-4fd...</td><td>2022-06-01</td><td>Courtney Torres</td><td>6945 Higgins Brooks</td><td>SA</td><td>5581</td><td>Female</td><td>Augue Industries</td><td>bicycle shops - s...</td><td> 4.24</td><td> b</td></tr>\n",
       "<tr><td>70610974780</td><td>226</td><td>5162</td><td>52.820359204536665</td><td>bdf345c8-4c5d-48e...</td><td>2021-08-20</td><td>Courtney Torres</td><td>6945 Higgins Brooks</td><td>SA</td><td>5581</td><td>Female</td><td>Elit Aliquam PC</td><td>tent and awning s...</td><td> 6.93</td><td> a</td></tr>\n",
       "<tr><td>17324645993</td><td>226</td><td>5162</td><td>27.12729568273566</td><td>0a44d623-e325-4fc...</td><td>2022-05-12</td><td>Courtney Torres</td><td>6945 Higgins Brooks</td><td>SA</td><td>5581</td><td>Female</td><td>Eget Metus In Cor...</td><td>tent and awning s...</td><td> 5.73</td><td> a</td></tr>\n",
       "<tr><td>15582655078</td><td>226</td><td>5162</td><td>75.31904078962366</td><td>47ddf8e0-5f72-408...</td><td>2021-08-21</td><td>Courtney Torres</td><td>6945 Higgins Brooks</td><td>SA</td><td>5581</td><td>Female</td><td>Eu Odio Phasellus...</td><td>gift, card, novel...</td><td> 6.77</td><td> a</td></tr>\n",
       "</table>\n"
      ],
      "text/plain": [
       "+------------+-----------+-------+------------------+--------------------+--------------+---------------+-------------------+-----+--------+------+--------------------+--------------------+---------+------------+\n",
       "|merchant_abn|consumer_id|user_id|      dollar_value|            order_id|order_datetime|  customer_name|            address|state|postcode|gender|        company_name|                tags|take_rate|revenue_band|\n",
       "+------------+-----------+-------+------------------+--------------------+--------------+---------------+-------------------+-----+--------+------+--------------------+--------------------+---------+------------+\n",
       "| 69666829657|        226|   5162| 79.65159982605903|8765ef9f-dba6-407...|    2021-08-20|Courtney Torres|6945 Higgins Brooks|   SA|    5581|Female|    Sem Ut Institute|bicycle shops - s...|     2.86|           c|\n",
       "| 50321300271|        226|   5162| 594.2915496790856|79f2842d-f8b2-4fd...|    2022-06-01|Courtney Torres|6945 Higgins Brooks|   SA|    5581|Female|    Augue Industries|bicycle shops - s...|     4.24|           b|\n",
       "| 70610974780|        226|   5162|52.820359204536665|bdf345c8-4c5d-48e...|    2021-08-20|Courtney Torres|6945 Higgins Brooks|   SA|    5581|Female|     Elit Aliquam PC|tent and awning s...|     6.93|           a|\n",
       "| 17324645993|        226|   5162| 27.12729568273566|0a44d623-e325-4fc...|    2022-05-12|Courtney Torres|6945 Higgins Brooks|   SA|    5581|Female|Eget Metus In Cor...|tent and awning s...|     5.73|           a|\n",
       "| 15582655078|        226|   5162| 75.31904078962366|47ddf8e0-5f72-408...|    2021-08-21|Courtney Torres|6945 Higgins Brooks|   SA|    5581|Female|Eu Odio Phasellus...|gift, card, novel...|     6.77|           a|\n",
       "+------------+-----------+-------+------------------+--------------------+--------------+---------------+-------------------+-----+--------+------+--------------------+--------------------+---------+------------+"
      ]
     },
     "execution_count": 17,
     "metadata": {},
     "output_type": "execute_result"
    }
   ],
   "source": [
    "print(sdf.count())\n",
    "sdf.limit(5)"
   ]
  },
  {
   "cell_type": "code",
   "execution_count": 18,
   "id": "426216f2",
   "metadata": {},
   "outputs": [
    {
     "name": "stderr",
     "output_type": "stream",
     "text": [
      "                                                                                \r"
     ]
    },
    {
     "name": "stdout",
     "output_type": "stream",
     "text": [
      "13395285\n"
     ]
    },
    {
     "name": "stderr",
     "output_type": "stream",
     "text": [
      "                                                                                \r"
     ]
    },
    {
     "data": {
      "text/html": [
       "<table border='1'>\n",
       "<tr><th>postcode</th><th>merchant_abn</th><th>consumer_id</th><th>user_id</th><th>dollar_value</th><th>order_id</th><th>order_datetime</th><th>customer_name</th><th>address</th><th>state</th><th>gender</th><th>company_name</th><th>tags</th><th>take_rate</th><th>revenue_band</th><th>total_pop</th><th>under10_pop</th><th>adolsc_pop</th><th>yng_adult_pop</th><th>mid_age_pop</th><th>old_pop</th><th>num_earners</th><th>median_age</th><th>median_income</th><th>mean_income</th></tr>\n",
       "<tr><td>6731</td><td>71350572766</td><td>58911</td><td>22131</td><td>38.35886219595664</td><td>fd0cfc42-44b3-467...</td><td>2021-09-18</td><td>Paul Lopez</td><td>3908 David Squares</td><td>WA</td><td>Male</td><td>Dictum Placerat A...</td><td>cable, satellite,...</td><td> 1.57</td><td> c</td><td>8374</td><td>1373</td><td>1185</td><td>2200</td><td>2600</td><td>1016</td><td>2907</td><td>39</td><td>48034</td><td>56306</td></tr>\n",
       "<tr><td>6731</td><td>96680767841</td><td>58911</td><td>22131</td><td>415.9547984625</td><td>829843bc-c571-493...</td><td>2021-08-19</td><td>Paul Lopez</td><td>3908 David Squares</td><td>WA</td><td>Male</td><td>Ornare Limited</td><td>motor vehicle sup...</td><td> 5.91</td><td> a</td><td>8374</td><td>1373</td><td>1185</td><td>2200</td><td>2600</td><td>1016</td><td>2907</td><td>39</td><td>48034</td><td>56306</td></tr>\n",
       "<tr><td>6731</td><td>79417999332</td><td>58911</td><td>22131</td><td>48.407296168022164</td><td>55069672-41f7-4dc...</td><td>2021-10-06</td><td>Paul Lopez</td><td>3908 David Squares</td><td>WA</td><td>Male</td><td>Phasellus At Company</td><td>gift, card, novel...</td><td> 4.95</td><td> b</td><td>8374</td><td>1373</td><td>1185</td><td>2200</td><td>2600</td><td>1016</td><td>2907</td><td>39</td><td>48034</td><td>56306</td></tr>\n",
       "<tr><td>6731</td><td>66370248931</td><td>58911</td><td>22131</td><td>82.54046571771035</td><td>cc8ac5c5-0dfc-4e1...</td><td>2021-08-19</td><td>Paul Lopez</td><td>3908 David Squares</td><td>WA</td><td>Male</td><td>Morbi Non PC</td><td>cable, satellite,...</td><td> 3.15</td><td> b</td><td>8374</td><td>1373</td><td>1185</td><td>2200</td><td>2600</td><td>1016</td><td>2907</td><td>39</td><td>48034</td><td>56306</td></tr>\n",
       "<tr><td>6731</td><td>82081024598</td><td>58911</td><td>22131</td><td>43.24936460061825</td><td>1632e377-0b6d-447...</td><td>2021-10-06</td><td>Paul Lopez</td><td>3908 David Squares</td><td>WA</td><td>Male</td><td>Placerat Orci Ass...</td><td>digital goods: bo...</td><td> 2.40</td><td> c</td><td>8374</td><td>1373</td><td>1185</td><td>2200</td><td>2600</td><td>1016</td><td>2907</td><td>39</td><td>48034</td><td>56306</td></tr>\n",
       "</table>\n"
      ],
      "text/plain": [
       "+--------+------------+-----------+-------+------------------+--------------------+--------------+-------------+------------------+-----+------+--------------------+--------------------+---------+------------+---------+-----------+----------+-------------+-----------+-------+-----------+----------+-------------+-----------+\n",
       "|postcode|merchant_abn|consumer_id|user_id|      dollar_value|            order_id|order_datetime|customer_name|           address|state|gender|        company_name|                tags|take_rate|revenue_band|total_pop|under10_pop|adolsc_pop|yng_adult_pop|mid_age_pop|old_pop|num_earners|median_age|median_income|mean_income|\n",
       "+--------+------------+-----------+-------+------------------+--------------------+--------------+-------------+------------------+-----+------+--------------------+--------------------+---------+------------+---------+-----------+----------+-------------+-----------+-------+-----------+----------+-------------+-----------+\n",
       "|    6731| 71350572766|      58911|  22131| 38.35886219595664|fd0cfc42-44b3-467...|    2021-09-18|   Paul Lopez|3908 David Squares|   WA|  Male|Dictum Placerat A...|cable, satellite,...|     1.57|           c|     8374|       1373|      1185|         2200|       2600|   1016|       2907|        39|        48034|      56306|\n",
       "|    6731| 96680767841|      58911|  22131|    415.9547984625|829843bc-c571-493...|    2021-08-19|   Paul Lopez|3908 David Squares|   WA|  Male|      Ornare Limited|motor vehicle sup...|     5.91|           a|     8374|       1373|      1185|         2200|       2600|   1016|       2907|        39|        48034|      56306|\n",
       "|    6731| 79417999332|      58911|  22131|48.407296168022164|55069672-41f7-4dc...|    2021-10-06|   Paul Lopez|3908 David Squares|   WA|  Male|Phasellus At Company|gift, card, novel...|     4.95|           b|     8374|       1373|      1185|         2200|       2600|   1016|       2907|        39|        48034|      56306|\n",
       "|    6731| 66370248931|      58911|  22131| 82.54046571771035|cc8ac5c5-0dfc-4e1...|    2021-08-19|   Paul Lopez|3908 David Squares|   WA|  Male|        Morbi Non PC|cable, satellite,...|     3.15|           b|     8374|       1373|      1185|         2200|       2600|   1016|       2907|        39|        48034|      56306|\n",
       "|    6731| 82081024598|      58911|  22131| 43.24936460061825|1632e377-0b6d-447...|    2021-10-06|   Paul Lopez|3908 David Squares|   WA|  Male|Placerat Orci Ass...|digital goods: bo...|     2.40|           c|     8374|       1373|      1185|         2200|       2600|   1016|       2907|        39|        48034|      56306|\n",
       "+--------+------------+-----------+-------+------------------+--------------------+--------------+-------------+------------------+-----+------+--------------------+--------------------+---------+------------+---------+-----------+----------+-------------+-----------+-------+-----------+----------+-------------+-----------+"
      ]
     },
     "execution_count": 18,
     "metadata": {},
     "output_type": "execute_result"
    }
   ],
   "source": [
    "final_sdf = sdf.join(external_data_sdf, on=\"postcode\", how=\"inner\")\n",
    "print(final_sdf.count())\n",
    "final_sdf.limit(5)"
   ]
  },
  {
   "cell_type": "code",
   "execution_count": 19,
   "id": "b657b69d",
   "metadata": {},
   "outputs": [
    {
     "name": "stdout",
     "output_type": "stream",
     "text": [
      "22/10/09 16:34:29 WARN package: Truncated the string representation of a plan since it was too large. This behavior can be adjusted by setting 'spark.sql.debug.maxToStringFields'.\n"
     ]
    },
    {
     "name": "stderr",
     "output_type": "stream",
     "text": [
      "                                                                                \r"
     ]
    },
    {
     "data": {
      "text/plain": [
       "11819686"
      ]
     },
     "execution_count": 19,
     "metadata": {},
     "output_type": "execute_result"
    }
   ],
   "source": [
    "final_sdf = final_sdf.dropna(how=\"any\")\n",
    "final_sdf.count()"
   ]
  },
  {
   "cell_type": "markdown",
   "id": "d4574f64",
   "metadata": {},
   "source": [
    "Null values occur because for some postcodes, population/income data did not exist. <br>\n",
    "Removing records containing null values resulted in the loss of 1,575,476 records."
   ]
  },
  {
   "cell_type": "markdown",
   "id": "41211903",
   "metadata": {},
   "source": [
    "### Fraud joins"
   ]
  },
  {
   "cell_type": "code",
   "execution_count": 20,
   "id": "c86cc58d",
   "metadata": {},
   "outputs": [
    {
     "data": {
      "text/plain": [
       "34765"
      ]
     },
     "execution_count": 20,
     "metadata": {},
     "output_type": "execute_result"
    }
   ],
   "source": [
    "# Read in consumer fraud data\n",
    "\n",
    "consumerfraud_sdf = spark.read.parquet(\"../data/curated/consumerfrauddf.parquet/\")\n",
    "consumerfraud_sdf = consumerfraud_sdf.withColumnRenamed(\"fraud_probability\",\"consumer_fraud_%\")\n",
    "consumerfraud_sdf.count()"
   ]
  },
  {
   "cell_type": "code",
   "execution_count": 21,
   "id": "bc07885e",
   "metadata": {},
   "outputs": [
    {
     "data": {
      "text/plain": [
       "114"
      ]
     },
     "execution_count": 21,
     "metadata": {},
     "output_type": "execute_result"
    }
   ],
   "source": [
    "# Read in merchant fraud data\n",
    "\n",
    "merchantfraud_sdf = spark.read.parquet(\"../data/curated/merchantfrauddf.parquet/\")\n",
    "merchantfraud_sdf = merchantfraud_sdf.withColumnRenamed(\"fraud_probability\",\"merchant_fraud_%\")\n",
    "merchantfraud_sdf.count()"
   ]
  },
  {
   "cell_type": "code",
   "execution_count": 22,
   "id": "a59c196f",
   "metadata": {},
   "outputs": [
    {
     "name": "stderr",
     "output_type": "stream",
     "text": [
      "                                                                                \r"
     ]
    },
    {
     "name": "stdout",
     "output_type": "stream",
     "text": [
      "11819686\n"
     ]
    },
    {
     "name": "stderr",
     "output_type": "stream",
     "text": [
      "                                                                                \r"
     ]
    },
    {
     "name": "stdout",
     "output_type": "stream",
     "text": [
      "11819686\n"
     ]
    },
    {
     "name": "stderr",
     "output_type": "stream",
     "text": [
      "                                                                                \r"
     ]
    },
    {
     "name": "stdout",
     "output_type": "stream",
     "text": [
      "11819686\n"
     ]
    },
    {
     "name": "stderr",
     "output_type": "stream",
     "text": [
      "                                                                                \r"
     ]
    },
    {
     "data": {
      "text/html": [
       "<table border='1'>\n",
       "<tr><th>order_datetime</th><th>merchant_abn</th><th>user_id</th><th>postcode</th><th>consumer_id</th><th>dollar_value</th><th>order_id</th><th>customer_name</th><th>address</th><th>state</th><th>gender</th><th>company_name</th><th>tags</th><th>take_rate</th><th>revenue_band</th><th>total_pop</th><th>under10_pop</th><th>adolsc_pop</th><th>yng_adult_pop</th><th>mid_age_pop</th><th>old_pop</th><th>num_earners</th><th>median_age</th><th>median_income</th><th>mean_income</th><th>consumer_fraud_%</th><th>merchant_fraud_%</th></tr>\n",
       "<tr><td>2021-09-18</td><td>71350572766</td><td>22131</td><td>6731</td><td>58911</td><td>38.35886219595664</td><td>fd0cfc42-44b3-467...</td><td>Paul Lopez</td><td>3908 David Squares</td><td>WA</td><td>Male</td><td>Dictum Placerat A...</td><td>cable, satellite,...</td><td> 1.57</td><td> c</td><td>8374</td><td>1373</td><td>1185</td><td>2200</td><td>2600</td><td>1016</td><td>2907</td><td>39</td><td>48034</td><td>56306</td><td>null</td><td>null</td></tr>\n",
       "<tr><td>2021-08-19</td><td>96680767841</td><td>22131</td><td>6731</td><td>58911</td><td>415.9547984625</td><td>829843bc-c571-493...</td><td>Paul Lopez</td><td>3908 David Squares</td><td>WA</td><td>Male</td><td>Ornare Limited</td><td>motor vehicle sup...</td><td> 5.91</td><td> a</td><td>8374</td><td>1373</td><td>1185</td><td>2200</td><td>2600</td><td>1016</td><td>2907</td><td>39</td><td>48034</td><td>56306</td><td>null</td><td>null</td></tr>\n",
       "<tr><td>2021-10-06</td><td>79417999332</td><td>22131</td><td>6731</td><td>58911</td><td>48.407296168022164</td><td>55069672-41f7-4dc...</td><td>Paul Lopez</td><td>3908 David Squares</td><td>WA</td><td>Male</td><td>Phasellus At Company</td><td>gift, card, novel...</td><td> 4.95</td><td> b</td><td>8374</td><td>1373</td><td>1185</td><td>2200</td><td>2600</td><td>1016</td><td>2907</td><td>39</td><td>48034</td><td>56306</td><td>null</td><td>null</td></tr>\n",
       "<tr><td>2021-08-19</td><td>66370248931</td><td>22131</td><td>6731</td><td>58911</td><td>82.54046571771035</td><td>cc8ac5c5-0dfc-4e1...</td><td>Paul Lopez</td><td>3908 David Squares</td><td>WA</td><td>Male</td><td>Morbi Non PC</td><td>cable, satellite,...</td><td> 3.15</td><td> b</td><td>8374</td><td>1373</td><td>1185</td><td>2200</td><td>2600</td><td>1016</td><td>2907</td><td>39</td><td>48034</td><td>56306</td><td>null</td><td>null</td></tr>\n",
       "<tr><td>2021-10-06</td><td>82081024598</td><td>22131</td><td>6731</td><td>58911</td><td>43.24936460061825</td><td>1632e377-0b6d-447...</td><td>Paul Lopez</td><td>3908 David Squares</td><td>WA</td><td>Male</td><td>Placerat Orci Ass...</td><td>digital goods: bo...</td><td> 2.40</td><td> c</td><td>8374</td><td>1373</td><td>1185</td><td>2200</td><td>2600</td><td>1016</td><td>2907</td><td>39</td><td>48034</td><td>56306</td><td>null</td><td>null</td></tr>\n",
       "</table>\n"
      ],
      "text/plain": [
       "+--------------+------------+-------+--------+-----------+------------------+--------------------+-------------+------------------+-----+------+--------------------+--------------------+---------+------------+---------+-----------+----------+-------------+-----------+-------+-----------+----------+-------------+-----------+----------------+----------------+\n",
       "|order_datetime|merchant_abn|user_id|postcode|consumer_id|      dollar_value|            order_id|customer_name|           address|state|gender|        company_name|                tags|take_rate|revenue_band|total_pop|under10_pop|adolsc_pop|yng_adult_pop|mid_age_pop|old_pop|num_earners|median_age|median_income|mean_income|consumer_fraud_%|merchant_fraud_%|\n",
       "+--------------+------------+-------+--------+-----------+------------------+--------------------+-------------+------------------+-----+------+--------------------+--------------------+---------+------------+---------+-----------+----------+-------------+-----------+-------+-----------+----------+-------------+-----------+----------------+----------------+\n",
       "|    2021-09-18| 71350572766|  22131|    6731|      58911| 38.35886219595664|fd0cfc42-44b3-467...|   Paul Lopez|3908 David Squares|   WA|  Male|Dictum Placerat A...|cable, satellite,...|     1.57|           c|     8374|       1373|      1185|         2200|       2600|   1016|       2907|        39|        48034|      56306|            null|            null|\n",
       "|    2021-08-19| 96680767841|  22131|    6731|      58911|    415.9547984625|829843bc-c571-493...|   Paul Lopez|3908 David Squares|   WA|  Male|      Ornare Limited|motor vehicle sup...|     5.91|           a|     8374|       1373|      1185|         2200|       2600|   1016|       2907|        39|        48034|      56306|            null|            null|\n",
       "|    2021-10-06| 79417999332|  22131|    6731|      58911|48.407296168022164|55069672-41f7-4dc...|   Paul Lopez|3908 David Squares|   WA|  Male|Phasellus At Company|gift, card, novel...|     4.95|           b|     8374|       1373|      1185|         2200|       2600|   1016|       2907|        39|        48034|      56306|            null|            null|\n",
       "|    2021-08-19| 66370248931|  22131|    6731|      58911| 82.54046571771035|cc8ac5c5-0dfc-4e1...|   Paul Lopez|3908 David Squares|   WA|  Male|        Morbi Non PC|cable, satellite,...|     3.15|           b|     8374|       1373|      1185|         2200|       2600|   1016|       2907|        39|        48034|      56306|            null|            null|\n",
       "|    2021-10-06| 82081024598|  22131|    6731|      58911| 43.24936460061825|1632e377-0b6d-447...|   Paul Lopez|3908 David Squares|   WA|  Male|Placerat Orci Ass...|digital goods: bo...|     2.40|           c|     8374|       1373|      1185|         2200|       2600|   1016|       2907|        39|        48034|      56306|            null|            null|\n",
       "+--------------+------------+-------+--------+-----------+------------------+--------------------+-------------+------------------+-----+------+--------------------+--------------------+---------+------------+---------+-----------+----------+-------------+-----------+-------+-----------+----------+-------------+-----------+----------------+----------------+"
      ]
     },
     "execution_count": 22,
     "metadata": {},
     "output_type": "execute_result"
    }
   ],
   "source": [
    "# join fraud data with all other data and check for rows dropped\n",
    "\n",
    "print(final_sdf.count())\n",
    "final_sdf = final_sdf.join(consumerfraud_sdf, [\"order_datetime\", \"user_id\"], \"leftouter\")\n",
    "print(final_sdf.count())\n",
    "final_sdf = final_sdf.join(merchantfraud_sdf, [\"order_datetime\", \"merchant_abn\"], \"leftouter\")\n",
    "print(final_sdf.count())\n",
    "final_sdf.limit(5)"
   ]
  },
  {
   "cell_type": "code",
   "execution_count": 23,
   "id": "04e2beb7",
   "metadata": {},
   "outputs": [
    {
     "name": "stderr",
     "output_type": "stream",
     "text": [
      "                                                                                \r"
     ]
    },
    {
     "data": {
      "text/html": [
       "<table border='1'>\n",
       "<tr><th>order_datetime</th><th>merchant_abn</th><th>user_id</th><th>postcode</th><th>consumer_id</th><th>dollar_value</th><th>order_id</th><th>state</th><th>gender</th><th>company_name</th><th>tags</th><th>take_rate</th><th>revenue_band</th><th>total_pop</th><th>under10_pop</th><th>adolsc_pop</th><th>yng_adult_pop</th><th>mid_age_pop</th><th>old_pop</th><th>num_earners</th><th>median_age</th><th>median_income</th><th>mean_income</th><th>consumer_fraud_%</th><th>merchant_fraud_%</th></tr>\n",
       "<tr><td>2021-09-18</td><td>71350572766</td><td>22131</td><td>6731</td><td>58911</td><td>38.35886219595664</td><td>fd0cfc42-44b3-467...</td><td>WA</td><td>Male</td><td>Dictum Placerat A...</td><td>cable, satellite,...</td><td> 1.57</td><td> c</td><td>8374</td><td>1373</td><td>1185</td><td>2200</td><td>2600</td><td>1016</td><td>2907</td><td>39</td><td>48034</td><td>56306</td><td>0.1</td><td>0.1</td></tr>\n",
       "<tr><td>2021-08-19</td><td>96680767841</td><td>22131</td><td>6731</td><td>58911</td><td>415.9547984625</td><td>829843bc-c571-493...</td><td>WA</td><td>Male</td><td>Ornare Limited</td><td>motor vehicle sup...</td><td> 5.91</td><td> a</td><td>8374</td><td>1373</td><td>1185</td><td>2200</td><td>2600</td><td>1016</td><td>2907</td><td>39</td><td>48034</td><td>56306</td><td>0.1</td><td>0.1</td></tr>\n",
       "<tr><td>2021-10-06</td><td>79417999332</td><td>22131</td><td>6731</td><td>58911</td><td>48.407296168022164</td><td>55069672-41f7-4dc...</td><td>WA</td><td>Male</td><td>Phasellus At Company</td><td>gift, card, novel...</td><td> 4.95</td><td> b</td><td>8374</td><td>1373</td><td>1185</td><td>2200</td><td>2600</td><td>1016</td><td>2907</td><td>39</td><td>48034</td><td>56306</td><td>0.1</td><td>0.1</td></tr>\n",
       "<tr><td>2021-08-19</td><td>66370248931</td><td>22131</td><td>6731</td><td>58911</td><td>82.54046571771035</td><td>cc8ac5c5-0dfc-4e1...</td><td>WA</td><td>Male</td><td>Morbi Non PC</td><td>cable, satellite,...</td><td> 3.15</td><td> b</td><td>8374</td><td>1373</td><td>1185</td><td>2200</td><td>2600</td><td>1016</td><td>2907</td><td>39</td><td>48034</td><td>56306</td><td>0.1</td><td>0.1</td></tr>\n",
       "<tr><td>2021-10-06</td><td>82081024598</td><td>22131</td><td>6731</td><td>58911</td><td>43.24936460061825</td><td>1632e377-0b6d-447...</td><td>WA</td><td>Male</td><td>Placerat Orci Ass...</td><td>digital goods: bo...</td><td> 2.40</td><td> c</td><td>8374</td><td>1373</td><td>1185</td><td>2200</td><td>2600</td><td>1016</td><td>2907</td><td>39</td><td>48034</td><td>56306</td><td>0.1</td><td>0.1</td></tr>\n",
       "</table>\n"
      ],
      "text/plain": [
       "+--------------+------------+-------+--------+-----------+------------------+--------------------+-----+------+--------------------+--------------------+---------+------------+---------+-----------+----------+-------------+-----------+-------+-----------+----------+-------------+-----------+----------------+----------------+\n",
       "|order_datetime|merchant_abn|user_id|postcode|consumer_id|      dollar_value|            order_id|state|gender|        company_name|                tags|take_rate|revenue_band|total_pop|under10_pop|adolsc_pop|yng_adult_pop|mid_age_pop|old_pop|num_earners|median_age|median_income|mean_income|consumer_fraud_%|merchant_fraud_%|\n",
       "+--------------+------------+-------+--------+-----------+------------------+--------------------+-----+------+--------------------+--------------------+---------+------------+---------+-----------+----------+-------------+-----------+-------+-----------+----------+-------------+-----------+----------------+----------------+\n",
       "|    2021-09-18| 71350572766|  22131|    6731|      58911| 38.35886219595664|fd0cfc42-44b3-467...|   WA|  Male|Dictum Placerat A...|cable, satellite,...|     1.57|           c|     8374|       1373|      1185|         2200|       2600|   1016|       2907|        39|        48034|      56306|             0.1|             0.1|\n",
       "|    2021-08-19| 96680767841|  22131|    6731|      58911|    415.9547984625|829843bc-c571-493...|   WA|  Male|      Ornare Limited|motor vehicle sup...|     5.91|           a|     8374|       1373|      1185|         2200|       2600|   1016|       2907|        39|        48034|      56306|             0.1|             0.1|\n",
       "|    2021-10-06| 79417999332|  22131|    6731|      58911|48.407296168022164|55069672-41f7-4dc...|   WA|  Male|Phasellus At Company|gift, card, novel...|     4.95|           b|     8374|       1373|      1185|         2200|       2600|   1016|       2907|        39|        48034|      56306|             0.1|             0.1|\n",
       "|    2021-08-19| 66370248931|  22131|    6731|      58911| 82.54046571771035|cc8ac5c5-0dfc-4e1...|   WA|  Male|        Morbi Non PC|cable, satellite,...|     3.15|           b|     8374|       1373|      1185|         2200|       2600|   1016|       2907|        39|        48034|      56306|             0.1|             0.1|\n",
       "|    2021-10-06| 82081024598|  22131|    6731|      58911| 43.24936460061825|1632e377-0b6d-447...|   WA|  Male|Placerat Orci Ass...|digital goods: bo...|     2.40|           c|     8374|       1373|      1185|         2200|       2600|   1016|       2907|        39|        48034|      56306|             0.1|             0.1|\n",
       "+--------------+------------+-------+--------+-----------+------------------+--------------------+-----+------+--------------------+--------------------+---------+------------+---------+-----------+----------+-------------+-----------+-------+-----------+----------+-------------+-----------+----------------+----------------+"
      ]
     },
     "execution_count": 23,
     "metadata": {},
     "output_type": "execute_result"
    }
   ],
   "source": [
    "# Drop useless columns and replace fraud nulls with a small value representing its percentage\n",
    "\n",
    "NULL_PERCENTAGE = 0.1\n",
    "\n",
    "final_sdf = final_sdf.drop(\"customer_name\",\"address\")\n",
    "final_sdf = final_sdf.na.fill(NULL_PERCENTAGE)\n",
    "final_sdf.limit(5)"
   ]
  },
  {
   "cell_type": "markdown",
   "id": "d19d0d78",
   "metadata": {},
   "source": [
    "Total Records after joining:\n",
    "11818811"
   ]
  },
  {
   "cell_type": "markdown",
   "id": "b0b43c9d",
   "metadata": {},
   "source": [
    "## Dealing with current fraud data"
   ]
  },
  {
   "cell_type": "markdown",
   "id": "8119db18",
   "metadata": {},
   "source": [
    "Things we know about the fraud datasets:\n",
    "- if the transaction isn't in fraud dataset fraud probability is 0.01%\n",
    "- So if we remove all the fraud data then we can be fairly certain that all the remaining data is accurate and fraud free\n",
    "- this allows us to predict future fraud"
   ]
  },
  {
   "cell_type": "code",
   "execution_count": 24,
   "id": "d612637b",
   "metadata": {},
   "outputs": [
    {
     "name": "stderr",
     "output_type": "stream",
     "text": [
      "                                                                                \r"
     ]
    },
    {
     "name": "stdout",
     "output_type": "stream",
     "text": [
      "11819686\n"
     ]
    },
    {
     "name": "stderr",
     "output_type": "stream",
     "text": [
      "[Stage 396:===================================================>   (16 + 1) / 17]\r"
     ]
    },
    {
     "name": "stdout",
     "output_type": "stream",
     "text": [
      "11757387 62299\n"
     ]
    },
    {
     "name": "stderr",
     "output_type": "stream",
     "text": [
      "                                                                                \r"
     ]
    }
   ],
   "source": [
    "# Check the affects of removing fraud transactions based on threshold \n",
    "\n",
    "MERCHANT_THRESH = 1\n",
    "CONSUMER_THRESH = 1\n",
    "\n",
    "print(final_sdf.count())\n",
    "testdf = final_sdf.filter(final_sdf[\"merchant_fraud_%\"] < MERCHANT_THRESH)\n",
    "testdf = final_sdf.filter(final_sdf[\"consumer_fraud_%\"] < CONSUMER_THRESH)\n",
    "print(testdf.count(), final_sdf.count()-testdf.count())"
   ]
  },
  {
   "cell_type": "markdown",
   "id": "aaaab081",
   "metadata": {},
   "source": [
    "Keeping the fraud prob below 1% for each give us a extremely high chance that almost all fraud data has been removed <br>\n",
    "The removal of 53 thousand records is not alot considering we still have 11 million plus records still left <br>\n",
    "The fact that most of the fraud transactions are now removed allows us to build a metric for determining future fraud"
   ]
  },
  {
   "cell_type": "code",
   "execution_count": 25,
   "id": "9048c68f",
   "metadata": {},
   "outputs": [],
   "source": [
    "# Remove fraud transactions based on threshold\n",
    "\n",
    "final_sdf = final_sdf.filter(final_sdf[\"merchant_fraud_%\"] < MERCHANT_THRESH)\n",
    "final_sdf = final_sdf.filter(final_sdf[\"consumer_fraud_%\"] < CONSUMER_THRESH)"
   ]
  },
  {
   "cell_type": "code",
   "execution_count": 29,
   "id": "7f0cb477",
   "metadata": {},
   "outputs": [
    {
     "name": "stderr",
     "output_type": "stream",
     "text": [
      "                                                                                \r"
     ]
    },
    {
     "data": {
      "text/html": [
       "<table border='1'>\n",
       "<tr><th>order_datetime</th><th>merchant_abn</th><th>user_id</th><th>postcode</th><th>consumer_id</th><th>dollar_value</th><th>order_id</th><th>state</th><th>gender</th><th>company_name</th><th>tags</th><th>take_rate</th><th>revenue_band</th><th>total_pop</th><th>under10_pop</th><th>adolsc_pop</th><th>yng_adult_pop</th><th>mid_age_pop</th><th>old_pop</th><th>num_earners</th><th>median_age</th><th>median_income</th><th>mean_income</th><th>consumer_fraud_%</th><th>merchant_fraud_%</th></tr>\n",
       "<tr><td>2021-09-18</td><td>71350572766</td><td>22131</td><td>6731</td><td>58911</td><td>38.35886219595664</td><td>fd0cfc42-44b3-467...</td><td>WA</td><td>Male</td><td>Dictum Placerat A...</td><td>cable, satellite,...</td><td> 1.57</td><td> c</td><td>8374</td><td>1373</td><td>1185</td><td>2200</td><td>2600</td><td>1016</td><td>2907</td><td>39</td><td>48034</td><td>56306</td><td>0.1</td><td>0.1</td></tr>\n",
       "<tr><td>2021-08-19</td><td>96680767841</td><td>22131</td><td>6731</td><td>58911</td><td>415.9547984625</td><td>829843bc-c571-493...</td><td>WA</td><td>Male</td><td>Ornare Limited</td><td>motor vehicle sup...</td><td> 5.91</td><td> a</td><td>8374</td><td>1373</td><td>1185</td><td>2200</td><td>2600</td><td>1016</td><td>2907</td><td>39</td><td>48034</td><td>56306</td><td>0.1</td><td>0.1</td></tr>\n",
       "<tr><td>2021-10-06</td><td>79417999332</td><td>22131</td><td>6731</td><td>58911</td><td>48.407296168022164</td><td>55069672-41f7-4dc...</td><td>WA</td><td>Male</td><td>Phasellus At Company</td><td>gift, card, novel...</td><td> 4.95</td><td> b</td><td>8374</td><td>1373</td><td>1185</td><td>2200</td><td>2600</td><td>1016</td><td>2907</td><td>39</td><td>48034</td><td>56306</td><td>0.1</td><td>0.1</td></tr>\n",
       "<tr><td>2021-08-19</td><td>66370248931</td><td>22131</td><td>6731</td><td>58911</td><td>82.54046571771035</td><td>cc8ac5c5-0dfc-4e1...</td><td>WA</td><td>Male</td><td>Morbi Non PC</td><td>cable, satellite,...</td><td> 3.15</td><td> b</td><td>8374</td><td>1373</td><td>1185</td><td>2200</td><td>2600</td><td>1016</td><td>2907</td><td>39</td><td>48034</td><td>56306</td><td>0.1</td><td>0.1</td></tr>\n",
       "<tr><td>2021-10-06</td><td>82081024598</td><td>22131</td><td>6731</td><td>58911</td><td>43.24936460061825</td><td>1632e377-0b6d-447...</td><td>WA</td><td>Male</td><td>Placerat Orci Ass...</td><td>digital goods: bo...</td><td> 2.40</td><td> c</td><td>8374</td><td>1373</td><td>1185</td><td>2200</td><td>2600</td><td>1016</td><td>2907</td><td>39</td><td>48034</td><td>56306</td><td>0.1</td><td>0.1</td></tr>\n",
       "</table>\n"
      ],
      "text/plain": [
       "+--------------+------------+-------+--------+-----------+------------------+--------------------+-----+------+--------------------+--------------------+---------+------------+---------+-----------+----------+-------------+-----------+-------+-----------+----------+-------------+-----------+----------------+----------------+\n",
       "|order_datetime|merchant_abn|user_id|postcode|consumer_id|      dollar_value|            order_id|state|gender|        company_name|                tags|take_rate|revenue_band|total_pop|under10_pop|adolsc_pop|yng_adult_pop|mid_age_pop|old_pop|num_earners|median_age|median_income|mean_income|consumer_fraud_%|merchant_fraud_%|\n",
       "+--------------+------------+-------+--------+-----------+------------------+--------------------+-----+------+--------------------+--------------------+---------+------------+---------+-----------+----------+-------------+-----------+-------+-----------+----------+-------------+-----------+----------------+----------------+\n",
       "|    2021-09-18| 71350572766|  22131|    6731|      58911| 38.35886219595664|fd0cfc42-44b3-467...|   WA|  Male|Dictum Placerat A...|cable, satellite,...|     1.57|           c|     8374|       1373|      1185|         2200|       2600|   1016|       2907|        39|        48034|      56306|             0.1|             0.1|\n",
       "|    2021-08-19| 96680767841|  22131|    6731|      58911|    415.9547984625|829843bc-c571-493...|   WA|  Male|      Ornare Limited|motor vehicle sup...|     5.91|           a|     8374|       1373|      1185|         2200|       2600|   1016|       2907|        39|        48034|      56306|             0.1|             0.1|\n",
       "|    2021-10-06| 79417999332|  22131|    6731|      58911|48.407296168022164|55069672-41f7-4dc...|   WA|  Male|Phasellus At Company|gift, card, novel...|     4.95|           b|     8374|       1373|      1185|         2200|       2600|   1016|       2907|        39|        48034|      56306|             0.1|             0.1|\n",
       "|    2021-08-19| 66370248931|  22131|    6731|      58911| 82.54046571771035|cc8ac5c5-0dfc-4e1...|   WA|  Male|        Morbi Non PC|cable, satellite,...|     3.15|           b|     8374|       1373|      1185|         2200|       2600|   1016|       2907|        39|        48034|      56306|             0.1|             0.1|\n",
       "|    2021-10-06| 82081024598|  22131|    6731|      58911| 43.24936460061825|1632e377-0b6d-447...|   WA|  Male|Placerat Orci Ass...|digital goods: bo...|     2.40|           c|     8374|       1373|      1185|         2200|       2600|   1016|       2907|        39|        48034|      56306|             0.1|             0.1|\n",
       "+--------------+------------+-------+--------+-----------+------------------+--------------------+-----+------+--------------------+--------------------+---------+------------+---------+-----------+----------+-------------+-----------+-------+-----------+----------+-------------+-----------+----------------+----------------+"
      ]
     },
     "execution_count": 29,
     "metadata": {},
     "output_type": "execute_result"
    }
   ],
   "source": [
    "final_sdf.limit(5)"
   ]
  },
  {
   "cell_type": "code",
   "execution_count": 30,
   "id": "e23c8f49",
   "metadata": {},
   "outputs": [
    {
     "name": "stderr",
     "output_type": "stream",
     "text": [
      "[Stage 480:===================================================>   (16 + 1) / 17]\r"
     ]
    },
    {
     "name": "stdout",
     "output_type": "stream",
     "text": [
      "22/10/09 16:31:03 WARN MemoryManager: Total allocation exceeds 95.00% (1,813,485,955 bytes) of heap memory\n",
      "Scaling row group sizes to 96.51% for 14 writers\n",
      "22/10/09 16:31:03 WARN MemoryManager: Total allocation exceeds 95.00% (1,813,485,955 bytes) of heap memory\n",
      "Scaling row group sizes to 90.08% for 15 writers\n",
      "22/10/09 16:31:03 WARN MemoryManager: Total allocation exceeds 95.00% (1,813,485,955 bytes) of heap memory\n",
      "Scaling row group sizes to 84.45% for 16 writers\n"
     ]
    },
    {
     "name": "stderr",
     "output_type": "stream",
     "text": [
      "[Stage 494:>                                                      (0 + 16) / 17]\r"
     ]
    },
    {
     "name": "stdout",
     "output_type": "stream",
     "text": [
      "22/10/09 16:31:21 WARN MemoryManager: Total allocation exceeds 95.00% (1,813,485,955 bytes) of heap memory\n",
      "Scaling row group sizes to 90.08% for 15 writers\n",
      "22/10/09 16:31:21 WARN MemoryManager: Total allocation exceeds 95.00% (1,813,485,955 bytes) of heap memory\n",
      "Scaling row group sizes to 96.51% for 14 writers\n",
      "22/10/09 16:31:21 WARN MemoryManager: Total allocation exceeds 95.00% (1,813,485,955 bytes) of heap memory\n",
      "Scaling row group sizes to 90.08% for 15 writers\n",
      "22/10/09 16:31:21 WARN MemoryManager: Total allocation exceeds 95.00% (1,813,485,955 bytes) of heap memory\n",
      "Scaling row group sizes to 96.51% for 14 writers\n"
     ]
    },
    {
     "name": "stderr",
     "output_type": "stream",
     "text": [
      "                                                                                \r"
     ]
    }
   ],
   "source": [
    "# Save final dataframe used for modelling\n",
    "\n",
    "final_sdf.write.mode(\"overwrite\").parquet('../data/curated/finaldf.parquet')"
   ]
  },
  {
   "cell_type": "markdown",
   "id": "6df148e0",
   "metadata": {},
   "source": [
    "## Dealing with future fraud"
   ]
  },
  {
   "cell_type": "markdown",
   "id": "2bea9402",
   "metadata": {},
   "source": [
    "2 main ways to determine fraud:\n",
    "- High number of transactions in a given day\n",
    "- High transaction amounts"
   ]
  },
  {
   "cell_type": "markdown",
   "id": "f2fffc54",
   "metadata": {},
   "source": [
    "### Merchant"
   ]
  },
  {
   "cell_type": "code",
   "execution_count": 2,
   "id": "a137a39e",
   "metadata": {},
   "outputs": [
    {
     "name": "stderr",
     "output_type": "stream",
     "text": [
      "                                                                                \r"
     ]
    },
    {
     "data": {
      "text/html": [
       "<table border='1'>\n",
       "<tr><th>merchant_abn</th><th>order_datetime</th><th>mean_amount</th><th>max_amount</th><th>transactions</th></tr>\n",
       "<tr><td>24852446429</td><td>2021-11-26</td><td>30.497711726468893</td><td>168.92668885555742</td><td>1057</td></tr>\n",
       "<tr><td>24852446429</td><td>2021-11-27</td><td>31.122764122744787</td><td>193.03651325623903</td><td>975</td></tr>\n",
       "<tr><td>24852446429</td><td>2021-11-29</td><td>30.79315047835758</td><td>137.595051098878</td><td>974</td></tr>\n",
       "<tr><td>64203420245</td><td>2021-11-26</td><td>29.429787219279753</td><td>54.91857916779532</td><td>970</td></tr>\n",
       "<tr><td>86578477987</td><td>2021-11-26</td><td>33.97228016929187</td><td>163.1881979840336</td><td>961</td></tr>\n",
       "</table>\n"
      ],
      "text/plain": [
       "+------------+--------------+------------------+------------------+------------+\n",
       "|merchant_abn|order_datetime|       mean_amount|        max_amount|transactions|\n",
       "+------------+--------------+------------------+------------------+------------+\n",
       "| 24852446429|    2021-11-26|30.497711726468893|168.92668885555742|        1057|\n",
       "| 24852446429|    2021-11-27|31.122764122744787|193.03651325623903|         975|\n",
       "| 24852446429|    2021-11-29| 30.79315047835758|  137.595051098878|         974|\n",
       "| 64203420245|    2021-11-26|29.429787219279753| 54.91857916779532|         970|\n",
       "| 86578477987|    2021-11-26| 33.97228016929187| 163.1881979840336|         961|\n",
       "+------------+--------------+------------------+------------------+------------+"
      ]
     },
     "execution_count": 2,
     "metadata": {},
     "output_type": "execute_result"
    }
   ],
   "source": [
    "# Get the stats for each merchant for each day\n",
    "\n",
    "final_sdf = spark.read.parquet(\"../data/curated/finaldf.parquet/\")\n",
    "\n",
    "merchanttestdf = final_sdf.groupBy(\"merchant_abn\",\"order_datetime\").agg(\n",
    "    mean(\"dollar_value\").alias(\"mean_amount\"),\n",
    "    max(\"dollar_value\").alias(\"max_amount\"),\n",
    "    count(\"dollar_value\").alias(\"transactions\"),\n",
    "    ).orderBy(desc(\"transactions\"))\n",
    "\n",
    "merchanttestdf.limit(5)"
   ]
  },
  {
   "cell_type": "code",
   "execution_count": 3,
   "id": "fd0c164e",
   "metadata": {},
   "outputs": [
    {
     "name": "stderr",
     "output_type": "stream",
     "text": [
      "                                                                                \r"
     ]
    },
    {
     "data": {
      "text/html": [
       "<table border='1'>\n",
       "<tr><th>merchant_abn</th><th>mean_amount</th><th>max_amount</th><th>mean_transactions</th><th>max_transactions</th><th>transaction_sd</th></tr>\n",
       "<tr><td>24852446429</td><td>30.030071405360996</td><td>266.8120329005647</td><td>413.6980198019802</td><td>1057</td><td>88.64735351564971</td></tr>\n",
       "<tr><td>64203420245</td><td>28.928305828390407</td><td>54.99964100649264</td><td>372.44224422442244</td><td>970</td><td>80.53990826941647</td></tr>\n",
       "<tr><td>86578477987</td><td>34.99207784086906</td><td>293.2330883770684</td><td>389.73267326732673</td><td>961</td><td>83.21378117219548</td></tr>\n",
       "<tr><td>49891706470</td><td>28.96185062870421</td><td>54.999973170141224</td><td>353.8019801980198</td><td>922</td><td>76.98159313772817</td></tr>\n",
       "<tr><td>46804135891</td><td>29.99873399521746</td><td>402.34853312614206</td><td>335.06435643564356</td><td>876</td><td>72.63330850440376</td></tr>\n",
       "</table>\n"
      ],
      "text/plain": [
       "+------------+------------------+------------------+------------------+----------------+-----------------+\n",
       "|merchant_abn|       mean_amount|        max_amount| mean_transactions|max_transactions|   transaction_sd|\n",
       "+------------+------------------+------------------+------------------+----------------+-----------------+\n",
       "| 24852446429|30.030071405360996| 266.8120329005647| 413.6980198019802|            1057|88.64735351564971|\n",
       "| 64203420245|28.928305828390407| 54.99964100649264|372.44224422442244|             970|80.53990826941647|\n",
       "| 86578477987| 34.99207784086906| 293.2330883770684|389.73267326732673|             961|83.21378117219548|\n",
       "| 49891706470| 28.96185062870421|54.999973170141224| 353.8019801980198|             922|76.98159313772817|\n",
       "| 46804135891| 29.99873399521746|402.34853312614206|335.06435643564356|             876|72.63330850440376|\n",
       "+------------+------------------+------------------+------------------+----------------+-----------------+"
      ]
     },
     "execution_count": 3,
     "metadata": {},
     "output_type": "execute_result"
    }
   ],
   "source": [
    "# Get the average stats for a merchant on any given day\n",
    "\n",
    "merchanttestdf2 = merchanttestdf.groupBy(\"merchant_abn\").agg(\n",
    "    mean(\"mean_amount\").alias(\"mean_amount\"),\n",
    "    max(\"max_amount\").alias(\"max_amount\"),\n",
    "    mean(\"transactions\").alias(\"mean_transactions\"),\n",
    "    max(\"transactions\").alias(\"max_transactions\"),\n",
    "    stddev(\"transactions\").alias(\"transaction_sd\")\n",
    "    ).orderBy(desc(\"max_transactions\"))\n",
    "\n",
    "merchanttestdf2.limit(5)"
   ]
  },
  {
   "cell_type": "code",
   "execution_count": 4,
   "id": "f3fb56c2",
   "metadata": {},
   "outputs": [
    {
     "data": {
      "text/html": [
       "<table border='1'>\n",
       "<tr><th>merchant_abn</th><th>amount_sd</th></tr>\n",
       "<tr><td>15613631617</td><td>196.27471261822635</td></tr>\n",
       "<tr><td>83412691377</td><td>24.48308612034732</td></tr>\n",
       "<tr><td>48214071373</td><td>192.43853288880416</td></tr>\n",
       "<tr><td>34440496342</td><td>51.476658436039834</td></tr>\n",
       "<tr><td>35344855546</td><td>66.222659515954</td></tr>\n",
       "</table>\n"
      ],
      "text/plain": [
       "+------------+------------------+\n",
       "|merchant_abn|         amount_sd|\n",
       "+------------+------------------+\n",
       "| 15613631617|196.27471261822635|\n",
       "| 83412691377| 24.48308612034732|\n",
       "| 48214071373|192.43853288880416|\n",
       "| 34440496342|51.476658436039834|\n",
       "| 35344855546|   66.222659515954|\n",
       "+------------+------------------+"
      ]
     },
     "execution_count": 4,
     "metadata": {},
     "output_type": "execute_result"
    }
   ],
   "source": [
    "# Get standard deviation for merchants transaction amounts\n",
    "\n",
    "stddevdf = final_sdf.groupBy(\"merchant_abn\").agg(stddev(\"dollar_value\").alias(\"amount_sd\"))\n",
    "stddevdf.limit(5)"
   ]
  },
  {
   "cell_type": "code",
   "execution_count": 5,
   "id": "db302af6",
   "metadata": {},
   "outputs": [
    {
     "name": "stderr",
     "output_type": "stream",
     "text": [
      "                                                                                \r"
     ]
    },
    {
     "name": "stdout",
     "output_type": "stream",
     "text": [
      "4018\n"
     ]
    },
    {
     "name": "stderr",
     "output_type": "stream",
     "text": [
      "                                                                                \r"
     ]
    },
    {
     "name": "stdout",
     "output_type": "stream",
     "text": [
      "4018\n"
     ]
    },
    {
     "name": "stderr",
     "output_type": "stream",
     "text": [
      "                                                                                \r"
     ]
    },
    {
     "data": {
      "text/html": [
       "<table border='1'>\n",
       "<tr><th>merchant_abn</th><th>mean_amount</th><th>max_amount</th><th>mean_transactions</th><th>max_transactions</th><th>transaction_sd</th><th>amount_sd</th></tr>\n",
       "<tr><td>83412691377</td><td>35.0125111179469</td><td>201.92111142420248</td><td>20.397689768976896</td><td>57</td><td>6.1317702357686885</td><td>24.48308612034732</td></tr>\n",
       "<tr><td>86662713230</td><td>52.27163302064317</td><td>277.15842150670414</td><td>30.706270627062707</td><td>88</td><td>8.428965817137628</td><td>30.128423087149258</td></tr>\n",
       "<tr><td>10648956813</td><td>64.57249819775156</td><td>102.99670668490096</td><td>31.358085808580856</td><td>78</td><td>8.082763558526128</td><td>22.14248423572274</td></tr>\n",
       "<tr><td>11944993446</td><td>73.47109138419792</td><td>481.8779170481174</td><td>15.795379537953796</td><td>39</td><td>5.244537033779819</td><td>51.827571175340964</td></tr>\n",
       "<tr><td>90568944804</td><td>867.2720789192232</td><td>4684.169469909291</td><td>14.96351575456053</td><td>31</td><td>4.66933115121088</td><td>592.1492638953868</td></tr>\n",
       "</table>\n"
      ],
      "text/plain": [
       "+------------+------------------+------------------+------------------+----------------+------------------+------------------+\n",
       "|merchant_abn|       mean_amount|        max_amount| mean_transactions|max_transactions|    transaction_sd|         amount_sd|\n",
       "+------------+------------------+------------------+------------------+----------------+------------------+------------------+\n",
       "| 83412691377|  35.0125111179469|201.92111142420248|20.397689768976896|              57|6.1317702357686885| 24.48308612034732|\n",
       "| 86662713230|52.271633020643165|277.15842150670414|30.706270627062707|              88| 8.428965817137627|30.128423087149258|\n",
       "| 10648956813| 64.57249819775156|102.99670668490096|31.358085808580856|              78| 8.082763558526118| 22.14248423572274|\n",
       "| 11944993446| 73.47109138419792| 481.8779170481174|15.795379537953796|              39|5.2445370337798245|51.827571175340964|\n",
       "| 90568944804| 867.2720789192232| 4684.169469909291| 14.96351575456053|              31| 4.669331151210881| 592.1492638953868|\n",
       "+------------+------------------+------------------+------------------+----------------+------------------+------------------+"
      ]
     },
     "execution_count": 5,
     "metadata": {},
     "output_type": "execute_result"
    }
   ],
   "source": [
    "# Join all merchant stat dataframes\n",
    "\n",
    "print(merchanttestdf2.count())\n",
    "future_merchant_frauddf = merchanttestdf2.join(stddevdf, \"merchant_abn\")\n",
    "print(future_merchant_frauddf.count())\n",
    "future_merchant_frauddf.limit(5)"
   ]
  },
  {
   "cell_type": "markdown",
   "id": "83bef868",
   "metadata": {},
   "source": [
    "We now have a dataset that gives us all the statistics we need to determine if future merchant transactions are fraud <br>\n",
    "for the time being if a merchant has > 1.5 x standard deviation above max_transactions in a day it is considered fraud <br>\n",
    "if a merchant has > 1.5 x standard deviation above max_amount in a day it is considered fraud"
   ]
  },
  {
   "cell_type": "code",
   "execution_count": 6,
   "id": "3d263bdf",
   "metadata": {},
   "outputs": [
    {
     "name": "stderr",
     "output_type": "stream",
     "text": [
      "                                                                                \r"
     ]
    }
   ],
   "source": [
    "# Saves dataframe for predicitng future merchant fraud\n",
    "\n",
    "future_merchant_frauddf = future_merchant_frauddf.drop(\"mean_amount\",\"mean_transactions\")\n",
    "\n",
    "future_merchant_frauddf.write.mode(\"overwrite\").parquet(\"../data/curated/future_merchant_fraud.parquet\")"
   ]
  },
  {
   "cell_type": "markdown",
   "id": "ba304c1f",
   "metadata": {},
   "source": [
    "### User"
   ]
  },
  {
   "cell_type": "code",
   "execution_count": 7,
   "id": "abe83766",
   "metadata": {},
   "outputs": [
    {
     "name": "stderr",
     "output_type": "stream",
     "text": [
      "                                                                                \r"
     ]
    },
    {
     "data": {
      "text/html": [
       "<table border='1'>\n",
       "<tr><th>user_id</th><th>order_datetime</th><th>mean_amount</th><th>max_amount</th><th>transactions</th></tr>\n",
       "<tr><td>5369</td><td>2021-12-26</td><td>153.7430761832681</td><td>1170.4578846318166</td><td>12</td></tr>\n",
       "<tr><td>11002</td><td>2021-11-29</td><td>64.75970088494984</td><td>265.0702191117789</td><td>11</td></tr>\n",
       "<tr><td>6671</td><td>2021-11-29</td><td>86.35832209092791</td><td>324.45234932908204</td><td>10</td></tr>\n",
       "<tr><td>6629</td><td>2021-11-26</td><td>140.90392507645333</td><td>677.5298977903775</td><td>10</td></tr>\n",
       "<tr><td>13985</td><td>2021-11-27</td><td>95.1525980004112</td><td>315.88093383565024</td><td>10</td></tr>\n",
       "</table>\n"
      ],
      "text/plain": [
       "+-------+--------------+------------------+------------------+------------+\n",
       "|user_id|order_datetime|       mean_amount|        max_amount|transactions|\n",
       "+-------+--------------+------------------+------------------+------------+\n",
       "|   5369|    2021-12-26| 153.7430761832681|1170.4578846318166|          12|\n",
       "|  11002|    2021-11-29| 64.75970088494984| 265.0702191117789|          11|\n",
       "|   6671|    2021-11-29| 86.35832209092791|324.45234932908204|          10|\n",
       "|   6629|    2021-11-26|140.90392507645333| 677.5298977903775|          10|\n",
       "|  13985|    2021-11-27|  95.1525980004112|315.88093383565024|          10|\n",
       "+-------+--------------+------------------+------------------+------------+"
      ]
     },
     "execution_count": 7,
     "metadata": {},
     "output_type": "execute_result"
    }
   ],
   "source": [
    "# Gets the stats for each user for each day\n",
    "\n",
    "usertestdf = final_sdf.groupBy(\"user_id\",\"order_datetime\").agg(\n",
    "    mean(\"dollar_value\").alias(\"mean_amount\"),\n",
    "    max(\"dollar_value\").alias(\"max_amount\"),\n",
    "    count(\"dollar_value\").alias(\"transactions\"),\n",
    "    ).orderBy(desc(\"transactions\"))\n",
    "\n",
    "usertestdf.limit(5)"
   ]
  },
  {
   "cell_type": "code",
   "execution_count": 8,
   "id": "74c08978",
   "metadata": {},
   "outputs": [
    {
     "name": "stderr",
     "output_type": "stream",
     "text": [
      "                                                                                \r"
     ]
    },
    {
     "data": {
      "text/html": [
       "<table border='1'>\n",
       "<tr><th>user_id</th><th>mean_amount</th><th>max_amount</th><th>mean_transactions</th><th>max_transactions</th><th>transaction_std</th></tr>\n",
       "<tr><td>5369</td><td>150.90859987007502</td><td>4044.7919962130372</td><td>1.5746478873239436</td><td>12</td><td>0.9782548611719448</td></tr>\n",
       "<tr><td>11002</td><td>143.30148154439883</td><td>3756.619241683773</td><td>1.5495750708215297</td><td>11</td><td>0.9405366520887023</td></tr>\n",
       "<tr><td>6594</td><td>122.2399570850841</td><td>1631.7559754340205</td><td>1.565459610027855</td><td>10</td><td>0.9126848158508849</td></tr>\n",
       "<tr><td>6629</td><td>151.57884023838062</td><td>4040.9159838767896</td><td>1.5501355013550135</td><td>10</td><td>0.9373333086951994</td></tr>\n",
       "<tr><td>13985</td><td>152.21129536632154</td><td>3391.9412364035425</td><td>1.5681818181818181</td><td>10</td><td>0.9493792189219761</td></tr>\n",
       "</table>\n"
      ],
      "text/plain": [
       "+-------+------------------+------------------+------------------+----------------+------------------+\n",
       "|user_id|       mean_amount|        max_amount| mean_transactions|max_transactions|   transaction_std|\n",
       "+-------+------------------+------------------+------------------+----------------+------------------+\n",
       "|   5369|150.90859987007502|4044.7919962130372|1.5746478873239436|              12|0.9782548611719448|\n",
       "|  11002|143.30148154439883| 3756.619241683773|1.5495750708215297|              11|0.9405366520887023|\n",
       "|   6594| 122.2399570850841|1631.7559754340205| 1.565459610027855|              10|0.9126848158508849|\n",
       "|   6629|151.57884023838062|4040.9159838767896|1.5501355013550135|              10|0.9373333086951994|\n",
       "|  13985|152.21129536632154|3391.9412364035425|1.5681818181818181|              10|0.9493792189219761|\n",
       "+-------+------------------+------------------+------------------+----------------+------------------+"
      ]
     },
     "execution_count": 8,
     "metadata": {},
     "output_type": "execute_result"
    }
   ],
   "source": [
    "# Gets the average stats for a user on any given day\n",
    "\n",
    "usertestdf2 = usertestdf.groupBy(\"user_id\").agg(\n",
    "    mean(\"mean_amount\").alias(\"mean_amount\"),\n",
    "    max(\"max_amount\").alias(\"max_amount\"),\n",
    "    mean(\"transactions\").alias(\"mean_transactions\"),\n",
    "    max(\"transactions\").alias(\"max_transactions\"),\n",
    "    stddev(\"transactions\").alias(\"transaction_std\")\n",
    "    ).orderBy(desc(\"max_transactions\"))\n",
    "\n",
    "usertestdf2.limit(5)"
   ]
  },
  {
   "cell_type": "code",
   "execution_count": 9,
   "id": "c5f6bed8",
   "metadata": {},
   "outputs": [
    {
     "data": {
      "text/html": [
       "<table border='1'>\n",
       "<tr><th>user_id</th><th>amount_sd</th></tr>\n",
       "<tr><td>4590</td><td>254.44619142375439</td></tr>\n",
       "<tr><td>19158</td><td>306.49392143056724</td></tr>\n",
       "<tr><td>8075</td><td>316.8869028620271</td></tr>\n",
       "<tr><td>12148</td><td>200.3684543568255</td></tr>\n",
       "<tr><td>9444</td><td>387.6909305329309</td></tr>\n",
       "</table>\n"
      ],
      "text/plain": [
       "+-------+------------------+\n",
       "|user_id|         amount_sd|\n",
       "+-------+------------------+\n",
       "|   4590|254.44619142375439|\n",
       "|  19158|306.49392143056724|\n",
       "|   8075| 316.8869028620271|\n",
       "|  12148| 200.3684543568255|\n",
       "|   9444| 387.6909305329309|\n",
       "+-------+------------------+"
      ]
     },
     "execution_count": 9,
     "metadata": {},
     "output_type": "execute_result"
    }
   ],
   "source": [
    "# Get standard deviation for users transaction amounts\n",
    "\n",
    "stddevdf = final_sdf.groupBy(\"user_id\").agg(stddev(\"dollar_value\").alias(\"amount_sd\"))\n",
    "stddevdf.limit(5)"
   ]
  },
  {
   "cell_type": "code",
   "execution_count": 10,
   "id": "08095551",
   "metadata": {},
   "outputs": [
    {
     "name": "stderr",
     "output_type": "stream",
     "text": [
      "                                                                                \r"
     ]
    },
    {
     "name": "stdout",
     "output_type": "stream",
     "text": [
      "20906\n"
     ]
    },
    {
     "name": "stderr",
     "output_type": "stream",
     "text": [
      "                                                                                \r"
     ]
    },
    {
     "name": "stdout",
     "output_type": "stream",
     "text": [
      "20906\n"
     ]
    },
    {
     "name": "stderr",
     "output_type": "stream",
     "text": [
      "                                                                                \r"
     ]
    },
    {
     "data": {
      "text/html": [
       "<table border='1'>\n",
       "<tr><th>user_id</th><th>mean_amount</th><th>max_amount</th><th>mean_transactions</th><th>max_transactions</th><th>transaction_std</th><th>amount_sd</th></tr>\n",
       "<tr><td>19979</td><td>154.28539185829345</td><td>8150.115728134807</td><td>1.516304347826087</td><td>9</td><td>0.84476618165645</td><td>400.1678103891637</td></tr>\n",
       "<tr><td>23492</td><td>153.55353346463673</td><td>4097.470542751887</td><td>1.4808743169398908</td><td>9</td><td>0.8232347161406164</td><td>294.71579937904977</td></tr>\n",
       "<tr><td>12568</td><td>127.10156526244835</td><td>2042.0161577505257</td><td>1.5493333333333332</td><td>8</td><td>0.875753813313409</td><td>239.94494399815406</td></tr>\n",
       "<tr><td>15663</td><td>143.37670911767736</td><td>2697.749698358689</td><td>1.541899441340782</td><td>8</td><td>0.8349365671068216</td><td>267.9393245380722</td></tr>\n",
       "<tr><td>15437</td><td>157.63434236717413</td><td>4791.825368197756</td><td>1.569060773480663</td><td>7</td><td>0.8132787862153956</td><td>377.43574181052736</td></tr>\n",
       "</table>\n"
      ],
      "text/plain": [
       "+-------+------------------+------------------+------------------+----------------+------------------+------------------+\n",
       "|user_id|       mean_amount|        max_amount| mean_transactions|max_transactions|   transaction_std|         amount_sd|\n",
       "+-------+------------------+------------------+------------------+----------------+------------------+------------------+\n",
       "|  19979|154.28539185829345| 8150.115728134807| 1.516304347826087|               9|  0.84476618165645| 400.1678103891637|\n",
       "|  23492|153.55353346463673| 4097.470542751887|1.4808743169398908|               9|0.8232347161406164|294.71579937904977|\n",
       "|  12568|127.10156526244835|2042.0161577505257|1.5493333333333332|               8| 0.875753813313409|239.94494399815406|\n",
       "|  15663|143.37670911767736| 2697.749698358689| 1.541899441340782|               8|0.8349365671068216| 267.9393245380722|\n",
       "|  15437|157.63434236717413| 4791.825368197756| 1.569060773480663|               7|0.8132787862153956|377.43574181052736|\n",
       "+-------+------------------+------------------+------------------+----------------+------------------+------------------+"
      ]
     },
     "execution_count": 10,
     "metadata": {},
     "output_type": "execute_result"
    }
   ],
   "source": [
    "# Join all user stat dataframes\n",
    "\n",
    "print(usertestdf2.count())\n",
    "future_user_frauddf = usertestdf2.join(stddevdf, \"user_id\")\n",
    "print(future_user_frauddf.count())\n",
    "future_user_frauddf.limit(5)"
   ]
  },
  {
   "cell_type": "markdown",
   "id": "31b7d281",
   "metadata": {},
   "source": [
    "We now have a dataset that gives us all the statistics we need to determine if future user transactions are fraud <br>\n",
    "for the time being if a user has > 1.5 x standard deviation above max_transactions in a day it is considered fraud <br>\n",
    "if a user has > 1.5 x standard deviation above max_amount in a day it is considered fraud"
   ]
  },
  {
   "cell_type": "markdown",
   "id": "965188ae",
   "metadata": {},
   "source": [
    "Now remains the case where a user or merchant has little to no data to get these metrics from <br>\n",
    "We could either set our own thresholds based on logical reasoning for fraud detection<br>\n",
    "Or we could look at the distributions of existing data to determine thresholds for fraud detection"
   ]
  },
  {
   "cell_type": "code",
   "execution_count": 11,
   "id": "d5cc5b8b",
   "metadata": {},
   "outputs": [
    {
     "name": "stderr",
     "output_type": "stream",
     "text": [
      "                                                                                \r"
     ]
    }
   ],
   "source": [
    "# Saves dataframe for predicitng future user fraud\n",
    "\n",
    "future_user_frauddf = future_user_frauddf.drop(\"mean_amount\",\"mean_transactions\")\n",
    "\n",
    "future_user_frauddf.write.mode(\"overwrite\").parquet(\"../data/curated/future_user_fraud.parquet\")"
   ]
  }
 ],
 "metadata": {
  "kernelspec": {
   "display_name": "Python 3 (ipykernel)",
   "language": "python",
   "name": "python3"
  },
  "language_info": {
   "codemirror_mode": {
    "name": "ipython",
    "version": 3
   },
   "file_extension": ".py",
   "mimetype": "text/x-python",
   "name": "python",
   "nbconvert_exporter": "python",
   "pygments_lexer": "ipython3",
   "version": "3.10.4"
  },
  "vscode": {
   "interpreter": {
    "hash": "916dbcbb3f70747c44a77c7bcd40155683ae19c65e1c03b4aa3499c5328201f1"
   }
  }
 },
 "nbformat": 4,
 "nbformat_minor": 5
}
