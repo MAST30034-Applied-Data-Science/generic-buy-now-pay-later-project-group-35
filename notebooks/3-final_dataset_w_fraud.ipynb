{
 "cells": [
  {
   "cell_type": "code",
   "execution_count": 1,
   "id": "f935367d-cab0-4904-9bed-676c9eccd84b",
   "metadata": {
    "tags": []
   },
   "outputs": [
    {
     "name": "stdout",
     "output_type": "stream",
     "text": [
      "22/10/12 13:59:20 WARN Utils: Your hostname, DESKTOP-LNDD2A2 resolves to a loopback address: 127.0.1.1; using 172.21.140.219 instead (on interface eth0)\n",
      "22/10/12 13:59:20 WARN Utils: Set SPARK_LOCAL_IP if you need to bind to another address\n"
     ]
    },
    {
     "name": "stderr",
     "output_type": "stream",
     "text": [
      "Setting default log level to \"WARN\".\n",
      "To adjust logging level use sc.setLogLevel(newLevel). For SparkR, use setLogLevel(newLevel).\n"
     ]
    },
    {
     "name": "stdout",
     "output_type": "stream",
     "text": [
      "22/10/12 13:59:22 WARN NativeCodeLoader: Unable to load native-hadoop library for your platform... using builtin-java classes where applicable\n"
     ]
    }
   ],
   "source": [
    "from pyspark.sql import SparkSession\n",
    "from pyspark.sql.functions import * \n",
    "import matplotlib.pyplot as plt\n",
    "import pandas as pd\n",
    "import numpy as np\n",
    "from urllib.request import urlretrieve\n",
    "from owslib.wfs import WebFeatureService\n",
    "from dotenv import load_dotenv\n",
    "from pyspark.sql import functions as F\n",
    "\n",
    "# Create a spark session\n",
    "spark = (\n",
    "    SparkSession.builder.appName(\"analysis\")\n",
    "    .config(\"spark.sql.repl.eagerEval.enabled\", True) \n",
    "    .config(\"spark.sql.parquet.cacheMetadata\", \"true\")\n",
    "    .config(\"spark.sql.session.timeZone\", \"Etc/UTC\")\n",
    "    .config(\"spark.driver.memory\", \"2g\")\n",
    "    .config(\"spark.executor.memory\", \"6g\")\n",
    "    .getOrCreate()\n",
    ")"
   ]
  },
  {
   "cell_type": "markdown",
   "id": "2fd082bb",
   "metadata": {},
   "source": [
    "## Combining datasets"
   ]
  },
  {
   "cell_type": "code",
   "execution_count": 2,
   "id": "4b7aa80d-fd13-42e9-9943-a180e7ad0864",
   "metadata": {},
   "outputs": [
    {
     "name": "stderr",
     "output_type": "stream",
     "text": [
      "                                                                                \r"
     ]
    },
    {
     "name": "stdout",
     "output_type": "stream",
     "text": [
      "13613661\n"
     ]
    },
    {
     "name": "stderr",
     "output_type": "stream",
     "text": [
      "                                                                                \r"
     ]
    },
    {
     "data": {
      "text/html": [
       "<table border='1'>\n",
       "<tr><th>merchant_abn</th><th>consumer_id</th><th>user_id</th><th>dollar_value</th><th>order_id</th><th>order_datetime</th><th>customer_name</th><th>address</th><th>state</th><th>postcode</th><th>gender</th><th>company_name</th><th>tags</th><th>take_rate</th><th>revenue_band</th></tr>\n",
       "<tr><td>94472466107</td><td>30</td><td>13842</td><td>36.094519921528466</td><td>0dc80e20-901c-410...</td><td>2021-08-20</td><td>Tamara Stewart</td><td>352 Jessica Summit</td><td>VIC</td><td>3612</td><td>Female</td><td>Eu Dolor Egestas PC</td><td>cable, satellite,...</td><td> 6.23</td><td> a</td></tr>\n",
       "<tr><td>21532935983</td><td>30</td><td>13842</td><td>71.1148505207073</td><td>5fbb2316-39b7-43b...</td><td>2021-08-21</td><td>Tamara Stewart</td><td>352 Jessica Summit</td><td>VIC</td><td>3612</td><td>Female</td><td>Eleifend Nec Inco...</td><td>cable, satellite,...</td><td> 5.58</td><td> a</td></tr>\n",
       "<tr><td>60956456424</td><td>30</td><td>13842</td><td>56.52469841268393</td><td>60bc5068-e775-4c4...</td><td>2021-08-19</td><td>Tamara Stewart</td><td>352 Jessica Summit</td><td>VIC</td><td>3612</td><td>Female</td><td>Ultricies Digniss...</td><td>gift, card, novel...</td><td> 4.69</td><td> b</td></tr>\n",
       "<tr><td>39211701585</td><td>30</td><td>13842</td><td>105.80444352294495</td><td>810594a7-c21a-4dd...</td><td>2021-08-22</td><td>Tamara Stewart</td><td>352 Jessica Summit</td><td>VIC</td><td>3612</td><td>Female</td><td>Diam Eu Dolor PC</td><td>shoe shops</td><td> 4.76</td><td> b</td></tr>\n",
       "<tr><td>27326652377</td><td>30</td><td>13842</td><td>1179.9080321368747</td><td>7ef554a5-02a8-435...</td><td>2021-08-22</td><td>Tamara Stewart</td><td>352 Jessica Summit</td><td>VIC</td><td>3612</td><td>Female</td><td>Tellus Aenean Cor...</td><td>music shops - mus...</td><td> 6.33</td><td> a</td></tr>\n",
       "</table>\n"
      ],
      "text/plain": [
       "+------------+-----------+-------+------------------+--------------------+--------------+--------------+------------------+-----+--------+------+--------------------+--------------------+---------+------------+\n",
       "|merchant_abn|consumer_id|user_id|      dollar_value|            order_id|order_datetime| customer_name|           address|state|postcode|gender|        company_name|                tags|take_rate|revenue_band|\n",
       "+------------+-----------+-------+------------------+--------------------+--------------+--------------+------------------+-----+--------+------+--------------------+--------------------+---------+------------+\n",
       "| 94472466107|         30|  13842|36.094519921528466|0dc80e20-901c-410...|    2021-08-20|Tamara Stewart|352 Jessica Summit|  VIC|    3612|Female| Eu Dolor Egestas PC|cable, satellite,...|     6.23|           a|\n",
       "| 21532935983|         30|  13842|  71.1148505207073|5fbb2316-39b7-43b...|    2021-08-21|Tamara Stewart|352 Jessica Summit|  VIC|    3612|Female|Eleifend Nec Inco...|cable, satellite,...|     5.58|           a|\n",
       "| 60956456424|         30|  13842| 56.52469841268393|60bc5068-e775-4c4...|    2021-08-19|Tamara Stewart|352 Jessica Summit|  VIC|    3612|Female|Ultricies Digniss...|gift, card, novel...|     4.69|           b|\n",
       "| 39211701585|         30|  13842|105.80444352294495|810594a7-c21a-4dd...|    2021-08-22|Tamara Stewart|352 Jessica Summit|  VIC|    3612|Female|    Diam Eu Dolor PC|          shoe shops|     4.76|           b|\n",
       "| 27326652377|         30|  13842|1179.9080321368747|7ef554a5-02a8-435...|    2021-08-22|Tamara Stewart|352 Jessica Summit|  VIC|    3612|Female|Tellus Aenean Cor...|music shops - mus...|     6.33|           a|\n",
       "+------------+-----------+-------+------------------+--------------------+--------------+--------------+------------------+-----+--------+------+--------------------+--------------------+---------+------------+"
      ]
     },
     "execution_count": 2,
     "metadata": {},
     "output_type": "execute_result"
    }
   ],
   "source": [
    "# All given data\n",
    "\n",
    "sdf = spark.read.parquet(\"../data/curated/mergedf.parquet/\")\n",
    "print(sdf.count())\n",
    "sdf.limit(5)"
   ]
  },
  {
   "cell_type": "code",
   "execution_count": 3,
   "id": "598f9bc5",
   "metadata": {},
   "outputs": [
    {
     "data": {
      "text/html": [
       "<table border='1'>\n",
       "<tr><th>State/Terr</th><th>sa2_code</th><th>SA2 name</th><th>Total</th><th>Under 10</th><th>Adolescent</th><th>Young adult</th><th>Middle age</th><th>Old</th></tr>\n",
       "<tr><td>New South Wales</td><td>101021007</td><td>Braidwood</td><td>4330</td><td>473</td><td>403</td><td>495</td><td>1472</td><td>1487</td></tr>\n",
       "<tr><td>New South Wales</td><td>101021008</td><td>Karabar</td><td>8546</td><td>1082</td><td>1075</td><td>1818</td><td>2858</td><td>1713</td></tr>\n",
       "<tr><td>New South Wales</td><td>101021009</td><td>Queanbeyan</td><td>11370</td><td>1275</td><td>916</td><td>3129</td><td>3681</td><td>2369</td></tr>\n",
       "<tr><td>New South Wales</td><td>101021010</td><td>Queanbeyan - East</td><td>5093</td><td>588</td><td>406</td><td>1460</td><td>1718</td><td>921</td></tr>\n",
       "<tr><td>New South Wales</td><td>101021012</td><td>Queanbeyan West -...</td><td>12743</td><td>1796</td><td>1910</td><td>2266</td><td>4933</td><td>1838</td></tr>\n",
       "</table>\n"
      ],
      "text/plain": [
       "+---------------+---------+--------------------+-----+--------+----------+-----------+----------+----+\n",
       "|     State/Terr| sa2_code|            SA2 name|Total|Under 10|Adolescent|Young adult|Middle age| Old|\n",
       "+---------------+---------+--------------------+-----+--------+----------+-----------+----------+----+\n",
       "|New South Wales|101021007|           Braidwood| 4330|     473|       403|        495|      1472|1487|\n",
       "|New South Wales|101021008|             Karabar| 8546|    1082|      1075|       1818|      2858|1713|\n",
       "|New South Wales|101021009|          Queanbeyan|11370|    1275|       916|       3129|      3681|2369|\n",
       "|New South Wales|101021010|   Queanbeyan - East| 5093|     588|       406|       1460|      1718| 921|\n",
       "|New South Wales|101021012|Queanbeyan West -...|12743|    1796|      1910|       2266|      4933|1838|\n",
       "+---------------+---------+--------------------+-----+--------+----------+-----------+----------+----+"
      ]
     },
     "execution_count": 3,
     "metadata": {},
     "output_type": "execute_result"
    }
   ],
   "source": [
    "# Population data\n",
    "\n",
    "pop_sdf = spark.read.parquet(\"../data/curated/pop_sdf.parquet/\")\n",
    "pop_sdf = pop_sdf.withColumnRenamed(\"SA2 code\",\"sa2_code\")\n",
    "pop_sdf.limit(5)"
   ]
  },
  {
   "cell_type": "code",
   "execution_count": 4,
   "id": "dc1460ab",
   "metadata": {},
   "outputs": [
    {
     "data": {
      "text/html": [
       "<table border='1'>\n",
       "<tr><th>sa2_code</th><th>num_earners</th><th>median_age</th><th>median_income</th><th>mean_income</th></tr>\n",
       "<tr><td>206041126</td><td>14398</td><td>32</td><td>51696</td><td>73634</td></tr>\n",
       "<tr><td>203021046</td><td>6701</td><td>45</td><td>57818</td><td>83648</td></tr>\n",
       "<tr><td>202011020</td><td>7944</td><td>47</td><td>46635</td><td>57894</td></tr>\n",
       "<tr><td>208031187</td><td>3158</td><td>43</td><td>52094</td><td>58104</td></tr>\n",
       "<tr><td>203021047</td><td>8152</td><td>42</td><td>47651</td><td>56636</td></tr>\n",
       "</table>\n"
      ],
      "text/plain": [
       "+---------+-----------+----------+-------------+-----------+\n",
       "| sa2_code|num_earners|median_age|median_income|mean_income|\n",
       "+---------+-----------+----------+-------------+-----------+\n",
       "|206041126|      14398|        32|        51696|      73634|\n",
       "|203021046|       6701|        45|        57818|      83648|\n",
       "|202011020|       7944|        47|        46635|      57894|\n",
       "|208031187|       3158|        43|        52094|      58104|\n",
       "|203021047|       8152|        42|        47651|      56636|\n",
       "+---------+-----------+----------+-------------+-----------+"
      ]
     },
     "execution_count": 4,
     "metadata": {},
     "output_type": "execute_result"
    }
   ],
   "source": [
    "# Income data\n",
    "\n",
    "income_sdf = spark.read.parquet(\"../data/curated/incomedf.parquet/\")\n",
    "income_sdf.limit(5)"
   ]
  },
  {
   "cell_type": "markdown",
   "id": "e8cfabb9",
   "metadata": {},
   "source": [
    "### External dataset joins"
   ]
  },
  {
   "cell_type": "markdown",
   "id": "a9819880",
   "metadata": {},
   "source": [
    "After analysing the merge of the existing data with each of the postcode datasets (notebooks 3a and 3b), we have concluded that we will use the postcode data not containing the ratio field, and use the median of the matched records for each postcode to get a single value for income/population data for each postcode. \n",
    "\n",
    "The benefits of using weighted averaging provided by the postcode with ratio dataset would not, by our analysis, be worth the loss of 1,498,774 records. Additionally, the choice of the median value vs the mean value was based on the many outliers (see boxplots in notebooks 3a and 3b)."
   ]
  },
  {
   "cell_type": "code",
   "execution_count": 5,
   "id": "0c0d9f98",
   "metadata": {},
   "outputs": [
    {
     "name": "stdout",
     "output_type": "stream",
     "text": [
      "5492\n"
     ]
    },
    {
     "data": {
      "text/html": [
       "<table border='1'>\n",
       "<tr><th>postcode</th><th>sa2_code</th></tr>\n",
       "<tr><td>1008</td><td>117031337</td></tr>\n",
       "<tr><td>1150</td><td>117031337</td></tr>\n",
       "<tr><td>2100</td><td>122031429</td></tr>\n",
       "<tr><td>2200</td><td>119011571</td></tr>\n",
       "<tr><td>2338</td><td>110041201</td></tr>\n",
       "</table>\n"
      ],
      "text/plain": [
       "+--------+---------+\n",
       "|postcode| sa2_code|\n",
       "+--------+---------+\n",
       "|    1008|117031337|\n",
       "|    1150|117031337|\n",
       "|    2100|122031429|\n",
       "|    2200|119011571|\n",
       "|    2338|110041201|\n",
       "+--------+---------+"
      ]
     },
     "execution_count": 5,
     "metadata": {},
     "output_type": "execute_result"
    }
   ],
   "source": [
    "# Postcode data\n",
    "\n",
    "postcode_sdf = spark.read.parquet(\"../data/curated/postcodedf.parquet/\")\n",
    "print(postcode_sdf.count())\n",
    "postcode_sdf.limit(5)"
   ]
  },
  {
   "cell_type": "markdown",
   "id": "578b8adf",
   "metadata": {},
   "source": [
    "Join postcode with population data"
   ]
  },
  {
   "cell_type": "code",
   "execution_count": 6,
   "id": "66ef9706",
   "metadata": {},
   "outputs": [
    {
     "name": "stdout",
     "output_type": "stream",
     "text": [
      "2450\n"
     ]
    }
   ],
   "source": [
    "print(pop_sdf.count())"
   ]
  },
  {
   "cell_type": "code",
   "execution_count": 7,
   "id": "3f19e0b4",
   "metadata": {},
   "outputs": [
    {
     "data": {
      "text/plain": [
       "2083"
      ]
     },
     "execution_count": 7,
     "metadata": {},
     "output_type": "execute_result"
    }
   ],
   "source": [
    "merged_sdf1 = pop_sdf.join(postcode_sdf, on=\"sa2_code\", how=\"inner\")\n",
    "merged_sdf1.groupBy(\"sa2_code\").count().count()"
   ]
  },
  {
   "cell_type": "markdown",
   "id": "55968c9e",
   "metadata": {},
   "source": [
    "Lost 367 records from population data for which there were no sa2 codes"
   ]
  },
  {
   "cell_type": "code",
   "execution_count": 8,
   "id": "31f22ca1",
   "metadata": {},
   "outputs": [
    {
     "data": {
      "text/html": [
       "<table border='1'>\n",
       "<tr><th>sa2_code</th><th>State/Terr</th><th>SA2 name</th><th>Total</th><th>Under 10</th><th>Adolescent</th><th>Young adult</th><th>Middle age</th><th>Old</th><th>postcode</th></tr>\n",
       "<tr><td>801051049</td><td>Australian Capita...</td><td>Acton</td><td>2875</td><td>6</td><td>1528</td><td>1292</td><td>47</td><td>2</td><td>0200</td></tr>\n",
       "<tr><td>701011002</td><td>Northern Territory</td><td>Darwin City</td><td>7679</td><td>474</td><td>325</td><td>3322</td><td>2652</td><td>906</td><td>0800</td></tr>\n",
       "<tr><td>701011002</td><td>Northern Territory</td><td>Darwin City</td><td>7679</td><td>474</td><td>325</td><td>3322</td><td>2652</td><td>906</td><td>0801</td></tr>\n",
       "<tr><td>701011007</td><td>Northern Territory</td><td>Parap</td><td>2980</td><td>350</td><td>282</td><td>801</td><td>1047</td><td>500</td><td>0804</td></tr>\n",
       "<tr><td>701021010</td><td>Northern Territory</td><td>Alawa</td><td>2172</td><td>326</td><td>227</td><td>529</td><td>704</td><td>386</td><td>0810</td></tr>\n",
       "</table>\n"
      ],
      "text/plain": [
       "+---------+--------------------+-----------+-----+--------+----------+-----------+----------+---+--------+\n",
       "| sa2_code|          State/Terr|   SA2 name|Total|Under 10|Adolescent|Young adult|Middle age|Old|postcode|\n",
       "+---------+--------------------+-----------+-----+--------+----------+-----------+----------+---+--------+\n",
       "|801051049|Australian Capita...|      Acton| 2875|       6|      1528|       1292|        47|  2|    0200|\n",
       "|701011002|  Northern Territory|Darwin City| 7679|     474|       325|       3322|      2652|906|    0800|\n",
       "|701011002|  Northern Territory|Darwin City| 7679|     474|       325|       3322|      2652|906|    0801|\n",
       "|701011007|  Northern Territory|      Parap| 2980|     350|       282|        801|      1047|500|    0804|\n",
       "|701021010|  Northern Territory|      Alawa| 2172|     326|       227|        529|       704|386|    0810|\n",
       "+---------+--------------------+-----------+-----+--------+----------+-----------+----------+---+--------+"
      ]
     },
     "execution_count": 8,
     "metadata": {},
     "output_type": "execute_result"
    }
   ],
   "source": [
    "merged_sdf1.orderBy(\"postcode\").limit(5)"
   ]
  },
  {
   "cell_type": "markdown",
   "id": "7b80ee50",
   "metadata": {},
   "source": [
    "Get a single population value for each postcode and field by calculating the median"
   ]
  },
  {
   "cell_type": "code",
   "execution_count": 9,
   "id": "85c5504a",
   "metadata": {},
   "outputs": [
    {
     "name": "stderr",
     "output_type": "stream",
     "text": [
      "                                                                                \r"
     ]
    },
    {
     "data": {
      "text/html": [
       "<table border='1'>\n",
       "<tr><th>postcode</th><th>total_pop</th><th>under10_pop</th><th>adolsc_pop</th><th>yng_adult_pop</th><th>mid_age_pop</th><th>old_pop</th></tr>\n",
       "<tr><td>0200</td><td>2875</td><td>6</td><td>1528</td><td>1292</td><td>47</td><td>2</td></tr>\n",
       "<tr><td>0800</td><td>7679</td><td>474</td><td>325</td><td>3322</td><td>2652</td><td>906</td></tr>\n",
       "<tr><td>0801</td><td>7679</td><td>474</td><td>325</td><td>3322</td><td>2652</td><td>906</td></tr>\n",
       "<tr><td>0804</td><td>2980</td><td>350</td><td>282</td><td>801</td><td>1047</td><td>500</td></tr>\n",
       "<tr><td>0810</td><td>2657</td><td>326</td><td>274</td><td>541</td><td>845</td><td>386</td></tr>\n",
       "</table>\n"
      ],
      "text/plain": [
       "+--------+---------+-----------+----------+-------------+-----------+-------+\n",
       "|postcode|total_pop|under10_pop|adolsc_pop|yng_adult_pop|mid_age_pop|old_pop|\n",
       "+--------+---------+-----------+----------+-------------+-----------+-------+\n",
       "|    0200|     2875|          6|      1528|         1292|         47|      2|\n",
       "|    0800|     7679|        474|       325|         3322|       2652|    906|\n",
       "|    0801|     7679|        474|       325|         3322|       2652|    906|\n",
       "|    0804|     2980|        350|       282|          801|       1047|    500|\n",
       "|    0810|     2657|        326|       274|          541|        845|    386|\n",
       "+--------+---------+-----------+----------+-------------+-----------+-------+"
      ]
     },
     "execution_count": 9,
     "metadata": {},
     "output_type": "execute_result"
    }
   ],
   "source": [
    "postcode_pop_sdf = merged_sdf1.groupBy(\"postcode\") \\\n",
    "    .agg(\n",
    "        F.percentile_approx(merged_sdf1.Total, 0.5).alias(\"total_pop\"),\n",
    "        F.percentile_approx(merged_sdf1['Under 10'], 0.5).alias(\"under10_pop\"),\n",
    "        F.percentile_approx(merged_sdf1.Adolescent, 0.5).alias(\"adolsc_pop\"),\n",
    "        F.percentile_approx(merged_sdf1['Young adult'], 0.5).alias(\"yng_adult_pop\"),\n",
    "        F.percentile_approx(merged_sdf1['Middle age'], 0.5).alias(\"mid_age_pop\"),\n",
    "        F.percentile_approx(merged_sdf1.Old, 0.5).alias(\"old_pop\")\n",
    "    )\n",
    "    \n",
    "postcode_pop_sdf.orderBy(\"postcode\").limit(5)"
   ]
  },
  {
   "cell_type": "markdown",
   "id": "c11e8dd7",
   "metadata": {},
   "source": [
    "Join postcode with income data"
   ]
  },
  {
   "cell_type": "code",
   "execution_count": 10,
   "id": "b67084e2",
   "metadata": {},
   "outputs": [
    {
     "name": "stdout",
     "output_type": "stream",
     "text": [
      "2239\n"
     ]
    }
   ],
   "source": [
    "print(income_sdf.count())"
   ]
  },
  {
   "cell_type": "code",
   "execution_count": 11,
   "id": "9977a827",
   "metadata": {},
   "outputs": [],
   "source": [
    "merged_sdf2 = income_sdf.join(postcode_sdf, on=\"sa2_code\", how=\"inner\")"
   ]
  },
  {
   "cell_type": "code",
   "execution_count": 12,
   "id": "d76fb478",
   "metadata": {},
   "outputs": [
    {
     "data": {
      "text/plain": [
       "2186"
      ]
     },
     "execution_count": 12,
     "metadata": {},
     "output_type": "execute_result"
    }
   ],
   "source": [
    "merged_sdf2.groupBy(\"sa2_code\").count().count()"
   ]
  },
  {
   "cell_type": "markdown",
   "id": "160a78cd",
   "metadata": {},
   "source": [
    "Lost 53 records for which there were no sa2 codes"
   ]
  },
  {
   "cell_type": "code",
   "execution_count": 13,
   "id": "b24d1325",
   "metadata": {},
   "outputs": [
    {
     "data": {
      "text/html": [
       "<table border='1'>\n",
       "<tr><th>sa2_code</th><th>num_earners</th><th>median_age</th><th>median_income</th><th>mean_income</th><th>postcode</th></tr>\n",
       "<tr><td>801051049</td><td>548</td><td>23</td><td>9306</td><td>16835</td><td>0200</td></tr>\n",
       "<tr><td>701011002</td><td>5909</td><td>33</td><td>60937</td><td>87791</td><td>0800</td></tr>\n",
       "<tr><td>701011002</td><td>5909</td><td>33</td><td>60937</td><td>87791</td><td>0801</td></tr>\n",
       "<tr><td>701011007</td><td>1873</td><td>40</td><td>75219</td><td>98872</td><td>0804</td></tr>\n",
       "<tr><td>701021010</td><td>1387</td><td>40</td><td>54188</td><td>61411</td><td>0810</td></tr>\n",
       "</table>\n"
      ],
      "text/plain": [
       "+---------+-----------+----------+-------------+-----------+--------+\n",
       "| sa2_code|num_earners|median_age|median_income|mean_income|postcode|\n",
       "+---------+-----------+----------+-------------+-----------+--------+\n",
       "|801051049|        548|        23|         9306|      16835|    0200|\n",
       "|701011002|       5909|        33|        60937|      87791|    0800|\n",
       "|701011002|       5909|        33|        60937|      87791|    0801|\n",
       "|701011007|       1873|        40|        75219|      98872|    0804|\n",
       "|701021010|       1387|        40|        54188|      61411|    0810|\n",
       "+---------+-----------+----------+-------------+-----------+--------+"
      ]
     },
     "execution_count": 13,
     "metadata": {},
     "output_type": "execute_result"
    }
   ],
   "source": [
    "merged_sdf2.orderBy(\"postcode\").limit(5)"
   ]
  },
  {
   "cell_type": "code",
   "execution_count": 14,
   "id": "31512bce",
   "metadata": {},
   "outputs": [
    {
     "data": {
      "text/html": [
       "<table border='1'>\n",
       "<tr><th>postcode</th><th>num_earners</th><th>median_age</th><th>median_income</th><th>mean_income</th></tr>\n",
       "<tr><td>0200</td><td>548</td><td>23</td><td>9306</td><td>16835</td></tr>\n",
       "<tr><td>0800</td><td>5909</td><td>33</td><td>60937</td><td>87791</td></tr>\n",
       "<tr><td>0801</td><td>5909</td><td>33</td><td>60937</td><td>87791</td></tr>\n",
       "<tr><td>0804</td><td>1873</td><td>40</td><td>75219</td><td>98872</td></tr>\n",
       "<tr><td>0810</td><td>1479</td><td>39</td><td>58753</td><td>67299</td></tr>\n",
       "</table>\n"
      ],
      "text/plain": [
       "+--------+-----------+----------+-------------+-----------+\n",
       "|postcode|num_earners|median_age|median_income|mean_income|\n",
       "+--------+-----------+----------+-------------+-----------+\n",
       "|    0200|        548|        23|         9306|      16835|\n",
       "|    0800|       5909|        33|        60937|      87791|\n",
       "|    0801|       5909|        33|        60937|      87791|\n",
       "|    0804|       1873|        40|        75219|      98872|\n",
       "|    0810|       1479|        39|        58753|      67299|\n",
       "+--------+-----------+----------+-------------+-----------+"
      ]
     },
     "execution_count": 14,
     "metadata": {},
     "output_type": "execute_result"
    }
   ],
   "source": [
    "postcode_income_sdf = merged_sdf2.groupBy(\"postcode\") \\\n",
    "    .agg(\n",
    "        F.percentile_approx(merged_sdf2.num_earners, 0.5).alias(\"num_earners\"),\n",
    "        F.percentile_approx(merged_sdf2.median_age, 0.5).alias(\"median_age\"),\n",
    "        F.percentile_approx(merged_sdf2.median_income, 0.5).alias(\"median_income\"),\n",
    "        F.percentile_approx(merged_sdf2.mean_income, 0.5).alias(\"mean_income\")\n",
    "    )\n",
    "    \n",
    "postcode_income_sdf.orderBy(\"postcode\").limit(5)"
   ]
  },
  {
   "cell_type": "markdown",
   "id": "8b18f3f3",
   "metadata": {},
   "source": [
    "Combine all external data in a single spark dataframe"
   ]
  },
  {
   "cell_type": "code",
   "execution_count": 15,
   "id": "2e2d2469",
   "metadata": {},
   "outputs": [
    {
     "name": "stdout",
     "output_type": "stream",
     "text": [
      "2793 3160\n"
     ]
    }
   ],
   "source": [
    "print(postcode_pop_sdf.count(), postcode_income_sdf.count())"
   ]
  },
  {
   "cell_type": "code",
   "execution_count": 16,
   "id": "5583de61",
   "metadata": {},
   "outputs": [
    {
     "name": "stdout",
     "output_type": "stream",
     "text": [
      "3162\n"
     ]
    },
    {
     "name": "stderr",
     "output_type": "stream",
     "text": [
      "                                                                                \r"
     ]
    },
    {
     "data": {
      "text/html": [
       "<table border='1'>\n",
       "<tr><th>postcode</th><th>total_pop</th><th>under10_pop</th><th>adolsc_pop</th><th>yng_adult_pop</th><th>mid_age_pop</th><th>old_pop</th><th>num_earners</th><th>median_age</th><th>median_income</th><th>mean_income</th></tr>\n",
       "<tr><td>0200</td><td>2875</td><td>6</td><td>1528</td><td>1292</td><td>47</td><td>2</td><td>548</td><td>23</td><td>9306</td><td>16835</td></tr>\n",
       "<tr><td>0800</td><td>7679</td><td>474</td><td>325</td><td>3322</td><td>2652</td><td>906</td><td>5909</td><td>33</td><td>60937</td><td>87791</td></tr>\n",
       "<tr><td>0801</td><td>7679</td><td>474</td><td>325</td><td>3322</td><td>2652</td><td>906</td><td>5909</td><td>33</td><td>60937</td><td>87791</td></tr>\n",
       "<tr><td>0804</td><td>2980</td><td>350</td><td>282</td><td>801</td><td>1047</td><td>500</td><td>1873</td><td>40</td><td>75219</td><td>98872</td></tr>\n",
       "<tr><td>0810</td><td>2657</td><td>326</td><td>274</td><td>541</td><td>845</td><td>386</td><td>1479</td><td>39</td><td>58753</td><td>67299</td></tr>\n",
       "</table>\n"
      ],
      "text/plain": [
       "+--------+---------+-----------+----------+-------------+-----------+-------+-----------+----------+-------------+-----------+\n",
       "|postcode|total_pop|under10_pop|adolsc_pop|yng_adult_pop|mid_age_pop|old_pop|num_earners|median_age|median_income|mean_income|\n",
       "+--------+---------+-----------+----------+-------------+-----------+-------+-----------+----------+-------------+-----------+\n",
       "|    0200|     2875|          6|      1528|         1292|         47|      2|        548|        23|         9306|      16835|\n",
       "|    0800|     7679|        474|       325|         3322|       2652|    906|       5909|        33|        60937|      87791|\n",
       "|    0801|     7679|        474|       325|         3322|       2652|    906|       5909|        33|        60937|      87791|\n",
       "|    0804|     2980|        350|       282|          801|       1047|    500|       1873|        40|        75219|      98872|\n",
       "|    0810|     2657|        326|       274|          541|        845|    386|       1479|        39|        58753|      67299|\n",
       "+--------+---------+-----------+----------+-------------+-----------+-------+-----------+----------+-------------+-----------+"
      ]
     },
     "execution_count": 16,
     "metadata": {},
     "output_type": "execute_result"
    }
   ],
   "source": [
    "external_data_sdf = postcode_pop_sdf.join(postcode_income_sdf, on=\"postcode\", how=\"full\")\n",
    "print(external_data_sdf.count())\n",
    "external_data_sdf.limit(5)"
   ]
  },
  {
   "cell_type": "code",
   "execution_count": 17,
   "id": "a01ca54c",
   "metadata": {},
   "outputs": [
    {
     "name": "stderr",
     "output_type": "stream",
     "text": [
      "                                                                                \r"
     ]
    }
   ],
   "source": [
    "external_data_sdf.write.mode(\"overwrite\").parquet(\"../data/curated/externaldata.parquet\")"
   ]
  },
  {
   "cell_type": "markdown",
   "id": "9cd7f66e",
   "metadata": {},
   "source": [
    "Join external data with existing data"
   ]
  },
  {
   "cell_type": "code",
   "execution_count": 18,
   "id": "d52ac4b3",
   "metadata": {},
   "outputs": [
    {
     "name": "stdout",
     "output_type": "stream",
     "text": [
      "13613661\n"
     ]
    },
    {
     "name": "stderr",
     "output_type": "stream",
     "text": [
      "                                                                                \r"
     ]
    },
    {
     "data": {
      "text/html": [
       "<table border='1'>\n",
       "<tr><th>merchant_abn</th><th>consumer_id</th><th>user_id</th><th>dollar_value</th><th>order_id</th><th>order_datetime</th><th>customer_name</th><th>address</th><th>state</th><th>postcode</th><th>gender</th><th>company_name</th><th>tags</th><th>take_rate</th><th>revenue_band</th></tr>\n",
       "<tr><td>94472466107</td><td>30</td><td>13842</td><td>36.094519921528466</td><td>0dc80e20-901c-410...</td><td>2021-08-20</td><td>Tamara Stewart</td><td>352 Jessica Summit</td><td>VIC</td><td>3612</td><td>Female</td><td>Eu Dolor Egestas PC</td><td>cable, satellite,...</td><td> 6.23</td><td> a</td></tr>\n",
       "<tr><td>21532935983</td><td>30</td><td>13842</td><td>71.1148505207073</td><td>5fbb2316-39b7-43b...</td><td>2021-08-21</td><td>Tamara Stewart</td><td>352 Jessica Summit</td><td>VIC</td><td>3612</td><td>Female</td><td>Eleifend Nec Inco...</td><td>cable, satellite,...</td><td> 5.58</td><td> a</td></tr>\n",
       "<tr><td>60956456424</td><td>30</td><td>13842</td><td>56.52469841268393</td><td>60bc5068-e775-4c4...</td><td>2021-08-19</td><td>Tamara Stewart</td><td>352 Jessica Summit</td><td>VIC</td><td>3612</td><td>Female</td><td>Ultricies Digniss...</td><td>gift, card, novel...</td><td> 4.69</td><td> b</td></tr>\n",
       "<tr><td>39211701585</td><td>30</td><td>13842</td><td>105.80444352294495</td><td>810594a7-c21a-4dd...</td><td>2021-08-22</td><td>Tamara Stewart</td><td>352 Jessica Summit</td><td>VIC</td><td>3612</td><td>Female</td><td>Diam Eu Dolor PC</td><td>shoe shops</td><td> 4.76</td><td> b</td></tr>\n",
       "<tr><td>27326652377</td><td>30</td><td>13842</td><td>1179.9080321368747</td><td>7ef554a5-02a8-435...</td><td>2021-08-22</td><td>Tamara Stewart</td><td>352 Jessica Summit</td><td>VIC</td><td>3612</td><td>Female</td><td>Tellus Aenean Cor...</td><td>music shops - mus...</td><td> 6.33</td><td> a</td></tr>\n",
       "</table>\n"
      ],
      "text/plain": [
       "+------------+-----------+-------+------------------+--------------------+--------------+--------------+------------------+-----+--------+------+--------------------+--------------------+---------+------------+\n",
       "|merchant_abn|consumer_id|user_id|      dollar_value|            order_id|order_datetime| customer_name|           address|state|postcode|gender|        company_name|                tags|take_rate|revenue_band|\n",
       "+------------+-----------+-------+------------------+--------------------+--------------+--------------+------------------+-----+--------+------+--------------------+--------------------+---------+------------+\n",
       "| 94472466107|         30|  13842|36.094519921528466|0dc80e20-901c-410...|    2021-08-20|Tamara Stewart|352 Jessica Summit|  VIC|    3612|Female| Eu Dolor Egestas PC|cable, satellite,...|     6.23|           a|\n",
       "| 21532935983|         30|  13842|  71.1148505207073|5fbb2316-39b7-43b...|    2021-08-21|Tamara Stewart|352 Jessica Summit|  VIC|    3612|Female|Eleifend Nec Inco...|cable, satellite,...|     5.58|           a|\n",
       "| 60956456424|         30|  13842| 56.52469841268393|60bc5068-e775-4c4...|    2021-08-19|Tamara Stewart|352 Jessica Summit|  VIC|    3612|Female|Ultricies Digniss...|gift, card, novel...|     4.69|           b|\n",
       "| 39211701585|         30|  13842|105.80444352294495|810594a7-c21a-4dd...|    2021-08-22|Tamara Stewart|352 Jessica Summit|  VIC|    3612|Female|    Diam Eu Dolor PC|          shoe shops|     4.76|           b|\n",
       "| 27326652377|         30|  13842|1179.9080321368747|7ef554a5-02a8-435...|    2021-08-22|Tamara Stewart|352 Jessica Summit|  VIC|    3612|Female|Tellus Aenean Cor...|music shops - mus...|     6.33|           a|\n",
       "+------------+-----------+-------+------------------+--------------------+--------------+--------------+------------------+-----+--------+------+--------------------+--------------------+---------+------------+"
      ]
     },
     "execution_count": 18,
     "metadata": {},
     "output_type": "execute_result"
    }
   ],
   "source": [
    "print(sdf.count())\n",
    "sdf.limit(5)"
   ]
  },
  {
   "cell_type": "code",
   "execution_count": 19,
   "id": "426216f2",
   "metadata": {},
   "outputs": [
    {
     "name": "stderr",
     "output_type": "stream",
     "text": [
      "                                                                                \r"
     ]
    },
    {
     "name": "stdout",
     "output_type": "stream",
     "text": [
      "13394287\n"
     ]
    },
    {
     "name": "stderr",
     "output_type": "stream",
     "text": [
      "                                                                                \r"
     ]
    },
    {
     "data": {
      "text/html": [
       "<table border='1'>\n",
       "<tr><th>postcode</th><th>merchant_abn</th><th>consumer_id</th><th>user_id</th><th>dollar_value</th><th>order_id</th><th>order_datetime</th><th>customer_name</th><th>address</th><th>state</th><th>gender</th><th>company_name</th><th>tags</th><th>take_rate</th><th>revenue_band</th><th>total_pop</th><th>under10_pop</th><th>adolsc_pop</th><th>yng_adult_pop</th><th>mid_age_pop</th><th>old_pop</th><th>num_earners</th><th>median_age</th><th>median_income</th><th>mean_income</th></tr>\n",
       "<tr><td>7252</td><td>40559163709</td><td>71385</td><td>13049</td><td>499.22801818354054</td><td>753b49dc-b04a-453...</td><td>2021-08-19</td><td>Joshua Hawkins</td><td>7313 Edwards Isle...</td><td>TAS</td><td>Male</td><td>Maecenas Iaculis ...</td><td>computers, comput...</td><td> 1.50</td><td> c</td><td>4446</td><td>504</td><td>516</td><td>592</td><td>1618</td><td>1216</td><td>2437</td><td>48</td><td>42860</td><td>50350</td></tr>\n",
       "<tr><td>7252</td><td>49891706470</td><td>71385</td><td>13049</td><td>27.59743014174974</td><td>19c2c44d-4d9b-4e4...</td><td>2021-08-22</td><td>Joshua Hawkins</td><td>7313 Edwards Isle...</td><td>TAS</td><td>Male</td><td>Non Vestibulum In...</td><td>tent and awning s...</td><td> 5.80</td><td> a</td><td>4446</td><td>504</td><td>516</td><td>592</td><td>1618</td><td>1216</td><td>2437</td><td>48</td><td>42860</td><td>50350</td></tr>\n",
       "<tr><td>7252</td><td>45629217853</td><td>71385</td><td>13049</td><td>23.56428590811388</td><td>9ff40986-52cc-47d...</td><td>2021-08-22</td><td>Joshua Hawkins</td><td>7313 Edwards Isle...</td><td>TAS</td><td>Male</td><td>Lacus Consulting</td><td>gift, card, novel...</td><td> 6.98</td><td> a</td><td>4446</td><td>504</td><td>516</td><td>592</td><td>1618</td><td>1216</td><td>2437</td><td>48</td><td>42860</td><td>50350</td></tr>\n",
       "<tr><td>7252</td><td>49891706470</td><td>71385</td><td>13049</td><td>13.272207348909346</td><td>233195e0-3482-451...</td><td>2021-07-15</td><td>Joshua Hawkins</td><td>7313 Edwards Isle...</td><td>TAS</td><td>Male</td><td>Non Vestibulum In...</td><td>tent and awning s...</td><td> 5.80</td><td> a</td><td>4446</td><td>504</td><td>516</td><td>592</td><td>1618</td><td>1216</td><td>2437</td><td>48</td><td>42860</td><td>50350</td></tr>\n",
       "<tr><td>7252</td><td>80324045558</td><td>71385</td><td>13049</td><td>139.35678856727068</td><td>3fd87986-f437-42f...</td><td>2021-07-15</td><td>Joshua Hawkins</td><td>7313 Edwards Isle...</td><td>TAS</td><td>Male</td><td>Ipsum Dolor Sit C...</td><td>gift, card, novel...</td><td> 1.47</td><td> c</td><td>4446</td><td>504</td><td>516</td><td>592</td><td>1618</td><td>1216</td><td>2437</td><td>48</td><td>42860</td><td>50350</td></tr>\n",
       "</table>\n"
      ],
      "text/plain": [
       "+--------+------------+-----------+-------+------------------+--------------------+--------------+--------------+--------------------+-----+------+--------------------+--------------------+---------+------------+---------+-----------+----------+-------------+-----------+-------+-----------+----------+-------------+-----------+\n",
       "|postcode|merchant_abn|consumer_id|user_id|      dollar_value|            order_id|order_datetime| customer_name|             address|state|gender|        company_name|                tags|take_rate|revenue_band|total_pop|under10_pop|adolsc_pop|yng_adult_pop|mid_age_pop|old_pop|num_earners|median_age|median_income|mean_income|\n",
       "+--------+------------+-----------+-------+------------------+--------------------+--------------+--------------+--------------------+-----+------+--------------------+--------------------+---------+------------+---------+-----------+----------+-------------+-----------+-------+-----------+----------+-------------+-----------+\n",
       "|    7252| 40559163709|      71385|  13049|499.22801818354054|753b49dc-b04a-453...|    2021-08-19|Joshua Hawkins|7313 Edwards Isle...|  TAS|  Male|Maecenas Iaculis ...|computers, comput...|     1.50|           c|     4446|        504|       516|          592|       1618|   1216|       2437|        48|        42860|      50350|\n",
       "|    7252| 49891706470|      71385|  13049| 27.59743014174974|19c2c44d-4d9b-4e4...|    2021-08-22|Joshua Hawkins|7313 Edwards Isle...|  TAS|  Male|Non Vestibulum In...|tent and awning s...|     5.80|           a|     4446|        504|       516|          592|       1618|   1216|       2437|        48|        42860|      50350|\n",
       "|    7252| 45629217853|      71385|  13049| 23.56428590811388|9ff40986-52cc-47d...|    2021-08-22|Joshua Hawkins|7313 Edwards Isle...|  TAS|  Male|    Lacus Consulting|gift, card, novel...|     6.98|           a|     4446|        504|       516|          592|       1618|   1216|       2437|        48|        42860|      50350|\n",
       "|    7252| 49891706470|      71385|  13049|13.272207348909346|233195e0-3482-451...|    2021-07-15|Joshua Hawkins|7313 Edwards Isle...|  TAS|  Male|Non Vestibulum In...|tent and awning s...|     5.80|           a|     4446|        504|       516|          592|       1618|   1216|       2437|        48|        42860|      50350|\n",
       "|    7252| 80324045558|      71385|  13049|139.35678856727068|3fd87986-f437-42f...|    2021-07-15|Joshua Hawkins|7313 Edwards Isle...|  TAS|  Male|Ipsum Dolor Sit C...|gift, card, novel...|     1.47|           c|     4446|        504|       516|          592|       1618|   1216|       2437|        48|        42860|      50350|\n",
       "+--------+------------+-----------+-------+------------------+--------------------+--------------+--------------+--------------------+-----+------+--------------------+--------------------+---------+------------+---------+-----------+----------+-------------+-----------+-------+-----------+----------+-------------+-----------+"
      ]
     },
     "execution_count": 19,
     "metadata": {},
     "output_type": "execute_result"
    }
   ],
   "source": [
    "final_sdf = sdf.join(external_data_sdf, on=\"postcode\", how=\"inner\")\n",
    "print(final_sdf.count())\n",
    "final_sdf.limit(5)"
   ]
  },
  {
   "cell_type": "code",
   "execution_count": 20,
   "id": "b657b69d",
   "metadata": {},
   "outputs": [
    {
     "name": "stdout",
     "output_type": "stream",
     "text": [
      "22/10/12 14:01:47 WARN package: Truncated the string representation of a plan since it was too large. This behavior can be adjusted by setting 'spark.sql.debug.maxToStringFields'.\n"
     ]
    },
    {
     "name": "stderr",
     "output_type": "stream",
     "text": [
      "                                                                                \r"
     ]
    },
    {
     "data": {
      "text/plain": [
       "11818811"
      ]
     },
     "execution_count": 20,
     "metadata": {},
     "output_type": "execute_result"
    }
   ],
   "source": [
    "final_sdf = final_sdf.dropna(how=\"any\")\n",
    "final_sdf.count()"
   ]
  },
  {
   "cell_type": "markdown",
   "id": "d4574f64",
   "metadata": {},
   "source": [
    "Null values occur because for some postcodes, population/income data did not exist. <br>\n",
    "Removing records containing null values resulted in the loss of 1,575,476 records."
   ]
  },
  {
   "cell_type": "markdown",
   "id": "41211903",
   "metadata": {},
   "source": [
    "### Fraud joins"
   ]
  },
  {
   "cell_type": "code",
   "execution_count": 21,
   "id": "c86cc58d",
   "metadata": {},
   "outputs": [
    {
     "data": {
      "text/plain": [
       "34765"
      ]
     },
     "execution_count": 21,
     "metadata": {},
     "output_type": "execute_result"
    }
   ],
   "source": [
    "# Read in consumer fraud data\n",
    "\n",
    "consumerfraud_sdf = spark.read.parquet(\"../data/curated/consumerfrauddf.parquet/\")\n",
    "consumerfraud_sdf = consumerfraud_sdf.withColumnRenamed(\"fraud_probability\",\"consumer_fraud_%\")\n",
    "consumerfraud_sdf.count()"
   ]
  },
  {
   "cell_type": "code",
   "execution_count": 22,
   "id": "bc07885e",
   "metadata": {},
   "outputs": [
    {
     "data": {
      "text/plain": [
       "114"
      ]
     },
     "execution_count": 22,
     "metadata": {},
     "output_type": "execute_result"
    }
   ],
   "source": [
    "# Read in merchant fraud data\n",
    "\n",
    "merchantfraud_sdf = spark.read.parquet(\"../data/curated/merchantfrauddf.parquet/\")\n",
    "merchantfraud_sdf = merchantfraud_sdf.withColumnRenamed(\"fraud_probability\",\"merchant_fraud_%\")\n",
    "merchantfraud_sdf.count()"
   ]
  },
  {
   "cell_type": "code",
   "execution_count": 23,
   "id": "a59c196f",
   "metadata": {},
   "outputs": [
    {
     "name": "stderr",
     "output_type": "stream",
     "text": [
      "                                                                                \r"
     ]
    },
    {
     "name": "stdout",
     "output_type": "stream",
     "text": [
      "11818811\n"
     ]
    },
    {
     "name": "stderr",
     "output_type": "stream",
     "text": [
      "                                                                                \r"
     ]
    },
    {
     "name": "stdout",
     "output_type": "stream",
     "text": [
      "11818811\n"
     ]
    },
    {
     "name": "stderr",
     "output_type": "stream",
     "text": [
      "                                                                                \r"
     ]
    },
    {
     "name": "stdout",
     "output_type": "stream",
     "text": [
      "11818811\n"
     ]
    },
    {
     "name": "stderr",
     "output_type": "stream",
     "text": [
      "                                                                                \r"
     ]
    },
    {
     "data": {
      "text/html": [
       "<table border='1'>\n",
       "<tr><th>order_datetime</th><th>merchant_abn</th><th>user_id</th><th>postcode</th><th>consumer_id</th><th>dollar_value</th><th>order_id</th><th>customer_name</th><th>address</th><th>state</th><th>gender</th><th>company_name</th><th>tags</th><th>take_rate</th><th>revenue_band</th><th>total_pop</th><th>under10_pop</th><th>adolsc_pop</th><th>yng_adult_pop</th><th>mid_age_pop</th><th>old_pop</th><th>num_earners</th><th>median_age</th><th>median_income</th><th>mean_income</th><th>consumer_fraud_%</th><th>merchant_fraud_%</th></tr>\n",
       "<tr><td>2021-08-19</td><td>40559163709</td><td>13049</td><td>7252</td><td>71385</td><td>499.22801818354054</td><td>753b49dc-b04a-453...</td><td>Joshua Hawkins</td><td>7313 Edwards Isle...</td><td>TAS</td><td>Male</td><td>Maecenas Iaculis ...</td><td>computers, comput...</td><td> 1.50</td><td> c</td><td>4446</td><td>504</td><td>516</td><td>592</td><td>1618</td><td>1216</td><td>2437</td><td>48</td><td>42860</td><td>50350</td><td>null</td><td>null</td></tr>\n",
       "<tr><td>2021-08-22</td><td>49891706470</td><td>13049</td><td>7252</td><td>71385</td><td>27.59743014174974</td><td>19c2c44d-4d9b-4e4...</td><td>Joshua Hawkins</td><td>7313 Edwards Isle...</td><td>TAS</td><td>Male</td><td>Non Vestibulum In...</td><td>tent and awning s...</td><td> 5.80</td><td> a</td><td>4446</td><td>504</td><td>516</td><td>592</td><td>1618</td><td>1216</td><td>2437</td><td>48</td><td>42860</td><td>50350</td><td>null</td><td>null</td></tr>\n",
       "<tr><td>2021-08-22</td><td>45629217853</td><td>13049</td><td>7252</td><td>71385</td><td>23.56428590811388</td><td>9ff40986-52cc-47d...</td><td>Joshua Hawkins</td><td>7313 Edwards Isle...</td><td>TAS</td><td>Male</td><td>Lacus Consulting</td><td>gift, card, novel...</td><td> 6.98</td><td> a</td><td>4446</td><td>504</td><td>516</td><td>592</td><td>1618</td><td>1216</td><td>2437</td><td>48</td><td>42860</td><td>50350</td><td>null</td><td>null</td></tr>\n",
       "<tr><td>2021-07-15</td><td>49891706470</td><td>13049</td><td>7252</td><td>71385</td><td>13.272207348909346</td><td>233195e0-3482-451...</td><td>Joshua Hawkins</td><td>7313 Edwards Isle...</td><td>TAS</td><td>Male</td><td>Non Vestibulum In...</td><td>tent and awning s...</td><td> 5.80</td><td> a</td><td>4446</td><td>504</td><td>516</td><td>592</td><td>1618</td><td>1216</td><td>2437</td><td>48</td><td>42860</td><td>50350</td><td>null</td><td>null</td></tr>\n",
       "<tr><td>2021-07-15</td><td>80324045558</td><td>13049</td><td>7252</td><td>71385</td><td>139.35678856727068</td><td>3fd87986-f437-42f...</td><td>Joshua Hawkins</td><td>7313 Edwards Isle...</td><td>TAS</td><td>Male</td><td>Ipsum Dolor Sit C...</td><td>gift, card, novel...</td><td> 1.47</td><td> c</td><td>4446</td><td>504</td><td>516</td><td>592</td><td>1618</td><td>1216</td><td>2437</td><td>48</td><td>42860</td><td>50350</td><td>null</td><td>null</td></tr>\n",
       "</table>\n"
      ],
      "text/plain": [
       "+--------------+------------+-------+--------+-----------+------------------+--------------------+--------------+--------------------+-----+------+--------------------+--------------------+---------+------------+---------+-----------+----------+-------------+-----------+-------+-----------+----------+-------------+-----------+----------------+----------------+\n",
       "|order_datetime|merchant_abn|user_id|postcode|consumer_id|      dollar_value|            order_id| customer_name|             address|state|gender|        company_name|                tags|take_rate|revenue_band|total_pop|under10_pop|adolsc_pop|yng_adult_pop|mid_age_pop|old_pop|num_earners|median_age|median_income|mean_income|consumer_fraud_%|merchant_fraud_%|\n",
       "+--------------+------------+-------+--------+-----------+------------------+--------------------+--------------+--------------------+-----+------+--------------------+--------------------+---------+------------+---------+-----------+----------+-------------+-----------+-------+-----------+----------+-------------+-----------+----------------+----------------+\n",
       "|    2021-08-19| 40559163709|  13049|    7252|      71385|499.22801818354054|753b49dc-b04a-453...|Joshua Hawkins|7313 Edwards Isle...|  TAS|  Male|Maecenas Iaculis ...|computers, comput...|     1.50|           c|     4446|        504|       516|          592|       1618|   1216|       2437|        48|        42860|      50350|            null|            null|\n",
       "|    2021-08-22| 49891706470|  13049|    7252|      71385| 27.59743014174974|19c2c44d-4d9b-4e4...|Joshua Hawkins|7313 Edwards Isle...|  TAS|  Male|Non Vestibulum In...|tent and awning s...|     5.80|           a|     4446|        504|       516|          592|       1618|   1216|       2437|        48|        42860|      50350|            null|            null|\n",
       "|    2021-08-22| 45629217853|  13049|    7252|      71385| 23.56428590811388|9ff40986-52cc-47d...|Joshua Hawkins|7313 Edwards Isle...|  TAS|  Male|    Lacus Consulting|gift, card, novel...|     6.98|           a|     4446|        504|       516|          592|       1618|   1216|       2437|        48|        42860|      50350|            null|            null|\n",
       "|    2021-07-15| 49891706470|  13049|    7252|      71385|13.272207348909346|233195e0-3482-451...|Joshua Hawkins|7313 Edwards Isle...|  TAS|  Male|Non Vestibulum In...|tent and awning s...|     5.80|           a|     4446|        504|       516|          592|       1618|   1216|       2437|        48|        42860|      50350|            null|            null|\n",
       "|    2021-07-15| 80324045558|  13049|    7252|      71385|139.35678856727068|3fd87986-f437-42f...|Joshua Hawkins|7313 Edwards Isle...|  TAS|  Male|Ipsum Dolor Sit C...|gift, card, novel...|     1.47|           c|     4446|        504|       516|          592|       1618|   1216|       2437|        48|        42860|      50350|            null|            null|\n",
       "+--------------+------------+-------+--------+-----------+------------------+--------------------+--------------+--------------------+-----+------+--------------------+--------------------+---------+------------+---------+-----------+----------+-------------+-----------+-------+-----------+----------+-------------+-----------+----------------+----------------+"
      ]
     },
     "execution_count": 23,
     "metadata": {},
     "output_type": "execute_result"
    }
   ],
   "source": [
    "# join fraud data with all other data and check for rows dropped\n",
    "\n",
    "print(final_sdf.count())\n",
    "final_sdf = final_sdf.join(consumerfraud_sdf, [\"order_datetime\", \"user_id\"], \"leftouter\")\n",
    "print(final_sdf.count())\n",
    "final_sdf = final_sdf.join(merchantfraud_sdf, [\"order_datetime\", \"merchant_abn\"], \"leftouter\")\n",
    "print(final_sdf.count())\n",
    "final_sdf.limit(5)"
   ]
  },
  {
   "cell_type": "code",
   "execution_count": 24,
   "id": "04e2beb7",
   "metadata": {},
   "outputs": [
    {
     "name": "stderr",
     "output_type": "stream",
     "text": [
      "                                                                                \r"
     ]
    },
    {
     "data": {
      "text/html": [
       "<table border='1'>\n",
       "<tr><th>order_datetime</th><th>merchant_abn</th><th>user_id</th><th>postcode</th><th>consumer_id</th><th>dollar_value</th><th>order_id</th><th>state</th><th>gender</th><th>company_name</th><th>tags</th><th>take_rate</th><th>revenue_band</th><th>total_pop</th><th>under10_pop</th><th>adolsc_pop</th><th>yng_adult_pop</th><th>mid_age_pop</th><th>old_pop</th><th>num_earners</th><th>median_age</th><th>median_income</th><th>mean_income</th><th>consumer_fraud_%</th><th>merchant_fraud_%</th></tr>\n",
       "<tr><td>2021-08-19</td><td>40559163709</td><td>13049</td><td>7252</td><td>71385</td><td>499.22801818354054</td><td>753b49dc-b04a-453...</td><td>TAS</td><td>Male</td><td>Maecenas Iaculis ...</td><td>computers, comput...</td><td> 1.50</td><td> c</td><td>4446</td><td>504</td><td>516</td><td>592</td><td>1618</td><td>1216</td><td>2437</td><td>48</td><td>42860</td><td>50350</td><td>0.1</td><td>0.1</td></tr>\n",
       "<tr><td>2021-08-22</td><td>49891706470</td><td>13049</td><td>7252</td><td>71385</td><td>27.59743014174974</td><td>19c2c44d-4d9b-4e4...</td><td>TAS</td><td>Male</td><td>Non Vestibulum In...</td><td>tent and awning s...</td><td> 5.80</td><td> a</td><td>4446</td><td>504</td><td>516</td><td>592</td><td>1618</td><td>1216</td><td>2437</td><td>48</td><td>42860</td><td>50350</td><td>0.1</td><td>0.1</td></tr>\n",
       "<tr><td>2021-08-22</td><td>45629217853</td><td>13049</td><td>7252</td><td>71385</td><td>23.56428590811388</td><td>9ff40986-52cc-47d...</td><td>TAS</td><td>Male</td><td>Lacus Consulting</td><td>gift, card, novel...</td><td> 6.98</td><td> a</td><td>4446</td><td>504</td><td>516</td><td>592</td><td>1618</td><td>1216</td><td>2437</td><td>48</td><td>42860</td><td>50350</td><td>0.1</td><td>0.1</td></tr>\n",
       "<tr><td>2021-07-15</td><td>49891706470</td><td>13049</td><td>7252</td><td>71385</td><td>13.272207348909346</td><td>233195e0-3482-451...</td><td>TAS</td><td>Male</td><td>Non Vestibulum In...</td><td>tent and awning s...</td><td> 5.80</td><td> a</td><td>4446</td><td>504</td><td>516</td><td>592</td><td>1618</td><td>1216</td><td>2437</td><td>48</td><td>42860</td><td>50350</td><td>0.1</td><td>0.1</td></tr>\n",
       "<tr><td>2021-07-15</td><td>80324045558</td><td>13049</td><td>7252</td><td>71385</td><td>139.35678856727068</td><td>3fd87986-f437-42f...</td><td>TAS</td><td>Male</td><td>Ipsum Dolor Sit C...</td><td>gift, card, novel...</td><td> 1.47</td><td> c</td><td>4446</td><td>504</td><td>516</td><td>592</td><td>1618</td><td>1216</td><td>2437</td><td>48</td><td>42860</td><td>50350</td><td>0.1</td><td>0.1</td></tr>\n",
       "</table>\n"
      ],
      "text/plain": [
       "+--------------+------------+-------+--------+-----------+------------------+--------------------+-----+------+--------------------+--------------------+---------+------------+---------+-----------+----------+-------------+-----------+-------+-----------+----------+-------------+-----------+----------------+----------------+\n",
       "|order_datetime|merchant_abn|user_id|postcode|consumer_id|      dollar_value|            order_id|state|gender|        company_name|                tags|take_rate|revenue_band|total_pop|under10_pop|adolsc_pop|yng_adult_pop|mid_age_pop|old_pop|num_earners|median_age|median_income|mean_income|consumer_fraud_%|merchant_fraud_%|\n",
       "+--------------+------------+-------+--------+-----------+------------------+--------------------+-----+------+--------------------+--------------------+---------+------------+---------+-----------+----------+-------------+-----------+-------+-----------+----------+-------------+-----------+----------------+----------------+\n",
       "|    2021-08-19| 40559163709|  13049|    7252|      71385|499.22801818354054|753b49dc-b04a-453...|  TAS|  Male|Maecenas Iaculis ...|computers, comput...|     1.50|           c|     4446|        504|       516|          592|       1618|   1216|       2437|        48|        42860|      50350|             0.1|             0.1|\n",
       "|    2021-08-22| 49891706470|  13049|    7252|      71385| 27.59743014174974|19c2c44d-4d9b-4e4...|  TAS|  Male|Non Vestibulum In...|tent and awning s...|     5.80|           a|     4446|        504|       516|          592|       1618|   1216|       2437|        48|        42860|      50350|             0.1|             0.1|\n",
       "|    2021-08-22| 45629217853|  13049|    7252|      71385| 23.56428590811388|9ff40986-52cc-47d...|  TAS|  Male|    Lacus Consulting|gift, card, novel...|     6.98|           a|     4446|        504|       516|          592|       1618|   1216|       2437|        48|        42860|      50350|             0.1|             0.1|\n",
       "|    2021-07-15| 49891706470|  13049|    7252|      71385|13.272207348909346|233195e0-3482-451...|  TAS|  Male|Non Vestibulum In...|tent and awning s...|     5.80|           a|     4446|        504|       516|          592|       1618|   1216|       2437|        48|        42860|      50350|             0.1|             0.1|\n",
       "|    2021-07-15| 80324045558|  13049|    7252|      71385|139.35678856727068|3fd87986-f437-42f...|  TAS|  Male|Ipsum Dolor Sit C...|gift, card, novel...|     1.47|           c|     4446|        504|       516|          592|       1618|   1216|       2437|        48|        42860|      50350|             0.1|             0.1|\n",
       "+--------------+------------+-------+--------+-----------+------------------+--------------------+-----+------+--------------------+--------------------+---------+------------+---------+-----------+----------+-------------+-----------+-------+-----------+----------+-------------+-----------+----------------+----------------+"
      ]
     },
     "execution_count": 24,
     "metadata": {},
     "output_type": "execute_result"
    }
   ],
   "source": [
    "# Drop useless columns and replace fraud nulls with a small value representing its percentage\n",
    "\n",
    "NULL_PERCENTAGE = 0.1\n",
    "\n",
    "final_sdf = final_sdf.drop(\"customer_name\",\"address\")\n",
    "final_sdf = final_sdf.na.fill(NULL_PERCENTAGE)\n",
    "final_sdf.limit(5)"
   ]
  },
  {
   "cell_type": "markdown",
   "id": "d19d0d78",
   "metadata": {},
   "source": [
    "Total Records after joining:\n",
    "11818811"
   ]
  },
  {
   "cell_type": "markdown",
   "id": "b0b43c9d",
   "metadata": {},
   "source": [
    "## Dealing with current fraud data"
   ]
  },
  {
   "cell_type": "markdown",
   "id": "8119db18",
   "metadata": {},
   "source": [
    "Things we know about the fraud datasets:\n",
    "- if the transaction isn't in fraud dataset fraud probability is 0.01%\n",
    "- So if we remove all the fraud data then we can be fairly certain that all the remaining data is accurate and fraud free\n",
    "- this allows us to predict future fraud"
   ]
  },
  {
   "cell_type": "code",
   "execution_count": 25,
   "id": "d612637b",
   "metadata": {},
   "outputs": [
    {
     "name": "stderr",
     "output_type": "stream",
     "text": [
      "                                                                                \r"
     ]
    },
    {
     "name": "stdout",
     "output_type": "stream",
     "text": [
      "11818811\n"
     ]
    },
    {
     "name": "stderr",
     "output_type": "stream",
     "text": [
      "[Stage 402:====================================================>  (20 + 1) / 21]\r"
     ]
    },
    {
     "name": "stdout",
     "output_type": "stream",
     "text": [
      "11756516 62295\n"
     ]
    },
    {
     "name": "stderr",
     "output_type": "stream",
     "text": [
      "                                                                                \r"
     ]
    }
   ],
   "source": [
    "# Check the affects of removing fraud transactions based on threshold \n",
    "\n",
    "MERCHANT_THRESH = 1\n",
    "CONSUMER_THRESH = 1\n",
    "\n",
    "print(final_sdf.count())\n",
    "testdf = final_sdf.filter(final_sdf[\"merchant_fraud_%\"] < MERCHANT_THRESH)\n",
    "testdf = final_sdf.filter(final_sdf[\"consumer_fraud_%\"] < CONSUMER_THRESH)\n",
    "print(testdf.count(), final_sdf.count()-testdf.count())"
   ]
  },
  {
   "cell_type": "markdown",
   "id": "aaaab081",
   "metadata": {},
   "source": [
    "Keeping the fraud prob below 1% for each give us a extremely high chance that almost all fraud data has been removed <br>\n",
    "The removal of 53 thousand records is not alot considering we still have 11 million plus records still left <br>\n",
    "The fact that most of the fraud transactions are now removed allows us to build a metric for determining future fraud"
   ]
  },
  {
   "cell_type": "code",
   "execution_count": 26,
   "id": "9048c68f",
   "metadata": {},
   "outputs": [],
   "source": [
    "# Remove fraud transactions based on threshold\n",
    "\n",
    "final_sdf = final_sdf.filter(final_sdf[\"merchant_fraud_%\"] < MERCHANT_THRESH)\n",
    "final_sdf = final_sdf.filter(final_sdf[\"consumer_fraud_%\"] < CONSUMER_THRESH)"
   ]
  },
  {
   "cell_type": "code",
   "execution_count": 27,
   "id": "7f0cb477",
   "metadata": {},
   "outputs": [
    {
     "name": "stderr",
     "output_type": "stream",
     "text": [
      "                                                                                \r"
     ]
    },
    {
     "data": {
      "text/html": [
       "<table border='1'>\n",
       "<tr><th>order_datetime</th><th>merchant_abn</th><th>user_id</th><th>postcode</th><th>consumer_id</th><th>dollar_value</th><th>order_id</th><th>state</th><th>gender</th><th>company_name</th><th>tags</th><th>take_rate</th><th>revenue_band</th><th>total_pop</th><th>under10_pop</th><th>adolsc_pop</th><th>yng_adult_pop</th><th>mid_age_pop</th><th>old_pop</th><th>num_earners</th><th>median_age</th><th>median_income</th><th>mean_income</th><th>consumer_fraud_%</th><th>merchant_fraud_%</th></tr>\n",
       "<tr><td>2021-08-19</td><td>40559163709</td><td>13049</td><td>7252</td><td>71385</td><td>499.22801818354054</td><td>753b49dc-b04a-453...</td><td>TAS</td><td>Male</td><td>Maecenas Iaculis ...</td><td>computers, comput...</td><td> 1.50</td><td> c</td><td>4446</td><td>504</td><td>516</td><td>592</td><td>1618</td><td>1216</td><td>2437</td><td>48</td><td>42860</td><td>50350</td><td>0.1</td><td>0.1</td></tr>\n",
       "<tr><td>2021-08-22</td><td>49891706470</td><td>13049</td><td>7252</td><td>71385</td><td>27.59743014174974</td><td>19c2c44d-4d9b-4e4...</td><td>TAS</td><td>Male</td><td>Non Vestibulum In...</td><td>tent and awning s...</td><td> 5.80</td><td> a</td><td>4446</td><td>504</td><td>516</td><td>592</td><td>1618</td><td>1216</td><td>2437</td><td>48</td><td>42860</td><td>50350</td><td>0.1</td><td>0.1</td></tr>\n",
       "<tr><td>2021-08-22</td><td>45629217853</td><td>13049</td><td>7252</td><td>71385</td><td>23.56428590811388</td><td>9ff40986-52cc-47d...</td><td>TAS</td><td>Male</td><td>Lacus Consulting</td><td>gift, card, novel...</td><td> 6.98</td><td> a</td><td>4446</td><td>504</td><td>516</td><td>592</td><td>1618</td><td>1216</td><td>2437</td><td>48</td><td>42860</td><td>50350</td><td>0.1</td><td>0.1</td></tr>\n",
       "<tr><td>2021-07-15</td><td>49891706470</td><td>13049</td><td>7252</td><td>71385</td><td>13.272207348909346</td><td>233195e0-3482-451...</td><td>TAS</td><td>Male</td><td>Non Vestibulum In...</td><td>tent and awning s...</td><td> 5.80</td><td> a</td><td>4446</td><td>504</td><td>516</td><td>592</td><td>1618</td><td>1216</td><td>2437</td><td>48</td><td>42860</td><td>50350</td><td>0.1</td><td>0.1</td></tr>\n",
       "<tr><td>2021-07-15</td><td>80324045558</td><td>13049</td><td>7252</td><td>71385</td><td>139.35678856727068</td><td>3fd87986-f437-42f...</td><td>TAS</td><td>Male</td><td>Ipsum Dolor Sit C...</td><td>gift, card, novel...</td><td> 1.47</td><td> c</td><td>4446</td><td>504</td><td>516</td><td>592</td><td>1618</td><td>1216</td><td>2437</td><td>48</td><td>42860</td><td>50350</td><td>0.1</td><td>0.1</td></tr>\n",
       "</table>\n"
      ],
      "text/plain": [
       "+--------------+------------+-------+--------+-----------+------------------+--------------------+-----+------+--------------------+--------------------+---------+------------+---------+-----------+----------+-------------+-----------+-------+-----------+----------+-------------+-----------+----------------+----------------+\n",
       "|order_datetime|merchant_abn|user_id|postcode|consumer_id|      dollar_value|            order_id|state|gender|        company_name|                tags|take_rate|revenue_band|total_pop|under10_pop|adolsc_pop|yng_adult_pop|mid_age_pop|old_pop|num_earners|median_age|median_income|mean_income|consumer_fraud_%|merchant_fraud_%|\n",
       "+--------------+------------+-------+--------+-----------+------------------+--------------------+-----+------+--------------------+--------------------+---------+------------+---------+-----------+----------+-------------+-----------+-------+-----------+----------+-------------+-----------+----------------+----------------+\n",
       "|    2021-08-19| 40559163709|  13049|    7252|      71385|499.22801818354054|753b49dc-b04a-453...|  TAS|  Male|Maecenas Iaculis ...|computers, comput...|     1.50|           c|     4446|        504|       516|          592|       1618|   1216|       2437|        48|        42860|      50350|             0.1|             0.1|\n",
       "|    2021-08-22| 49891706470|  13049|    7252|      71385| 27.59743014174974|19c2c44d-4d9b-4e4...|  TAS|  Male|Non Vestibulum In...|tent and awning s...|     5.80|           a|     4446|        504|       516|          592|       1618|   1216|       2437|        48|        42860|      50350|             0.1|             0.1|\n",
       "|    2021-08-22| 45629217853|  13049|    7252|      71385| 23.56428590811388|9ff40986-52cc-47d...|  TAS|  Male|    Lacus Consulting|gift, card, novel...|     6.98|           a|     4446|        504|       516|          592|       1618|   1216|       2437|        48|        42860|      50350|             0.1|             0.1|\n",
       "|    2021-07-15| 49891706470|  13049|    7252|      71385|13.272207348909346|233195e0-3482-451...|  TAS|  Male|Non Vestibulum In...|tent and awning s...|     5.80|           a|     4446|        504|       516|          592|       1618|   1216|       2437|        48|        42860|      50350|             0.1|             0.1|\n",
       "|    2021-07-15| 80324045558|  13049|    7252|      71385|139.35678856727068|3fd87986-f437-42f...|  TAS|  Male|Ipsum Dolor Sit C...|gift, card, novel...|     1.47|           c|     4446|        504|       516|          592|       1618|   1216|       2437|        48|        42860|      50350|             0.1|             0.1|\n",
       "+--------------+------------+-------+--------+-----------+------------------+--------------------+-----+------+--------------------+--------------------+---------+------------+---------+-----------+----------+-------------+-----------+-------+-----------+----------+-------------+-----------+----------------+----------------+"
      ]
     },
     "execution_count": 27,
     "metadata": {},
     "output_type": "execute_result"
    }
   ],
   "source": [
    "final_sdf.limit(5)"
   ]
  },
  {
   "cell_type": "code",
   "execution_count": 28,
   "id": "e23c8f49",
   "metadata": {},
   "outputs": [
    {
     "name": "stderr",
     "output_type": "stream",
     "text": [
      "                                                                                \r"
     ]
    }
   ],
   "source": [
    "# Save final dataframe used for modelling\n",
    "\n",
    "final_sdf.write.mode(\"overwrite\").parquet('../data/curated/finaldf.parquet')"
   ]
  },
  {
   "cell_type": "markdown",
   "id": "6df148e0",
   "metadata": {},
   "source": [
    "## Dealing with future fraud"
   ]
  },
  {
   "cell_type": "markdown",
   "id": "2bea9402",
   "metadata": {},
   "source": [
    "2 main ways to determine fraud:\n",
    "- High number of transactions in a given day\n",
    "- High transaction amounts"
   ]
  },
  {
   "cell_type": "markdown",
   "id": "f2fffc54",
   "metadata": {},
   "source": [
    "### Merchant"
   ]
  },
  {
   "cell_type": "code",
   "execution_count": 29,
   "id": "a137a39e",
   "metadata": {},
   "outputs": [
    {
     "name": "stderr",
     "output_type": "stream",
     "text": [
      "                                                                                \r"
     ]
    },
    {
     "data": {
      "text/html": [
       "<table border='1'>\n",
       "<tr><th>merchant_abn</th><th>order_datetime</th><th>mean_amount</th><th>max_amount</th><th>transactions</th></tr>\n",
       "<tr><td>24852446429</td><td>2021-11-26</td><td>30.497711726468896</td><td>168.92668885555742</td><td>1057</td></tr>\n",
       "<tr><td>24852446429</td><td>2021-11-27</td><td>31.122764122744787</td><td>193.03651325623903</td><td>975</td></tr>\n",
       "<tr><td>24852446429</td><td>2021-11-29</td><td>30.79315047835757</td><td>137.595051098878</td><td>974</td></tr>\n",
       "<tr><td>64203420245</td><td>2021-11-26</td><td>29.429787219279756</td><td>54.91857916779532</td><td>970</td></tr>\n",
       "<tr><td>86578477987</td><td>2021-11-26</td><td>33.97228016929187</td><td>163.1881979840336</td><td>961</td></tr>\n",
       "</table>\n"
      ],
      "text/plain": [
       "+------------+--------------+------------------+------------------+------------+\n",
       "|merchant_abn|order_datetime|       mean_amount|        max_amount|transactions|\n",
       "+------------+--------------+------------------+------------------+------------+\n",
       "| 24852446429|    2021-11-26|30.497711726468896|168.92668885555742|        1057|\n",
       "| 24852446429|    2021-11-27|31.122764122744787|193.03651325623903|         975|\n",
       "| 24852446429|    2021-11-29| 30.79315047835757|  137.595051098878|         974|\n",
       "| 64203420245|    2021-11-26|29.429787219279756| 54.91857916779532|         970|\n",
       "| 86578477987|    2021-11-26| 33.97228016929187| 163.1881979840336|         961|\n",
       "+------------+--------------+------------------+------------------+------------+"
      ]
     },
     "execution_count": 29,
     "metadata": {},
     "output_type": "execute_result"
    }
   ],
   "source": [
    "# Get the stats for each merchant for each day\n",
    "\n",
    "final_sdf = spark.read.parquet(\"../data/curated/finaldf.parquet/\")\n",
    "\n",
    "merchanttestdf = final_sdf.groupBy(\"merchant_abn\",\"order_datetime\").agg(\n",
    "    mean(\"dollar_value\").alias(\"mean_amount\"),\n",
    "    max(\"dollar_value\").alias(\"max_amount\"),\n",
    "    count(\"dollar_value\").alias(\"transactions\"),\n",
    "    ).orderBy(desc(\"transactions\"))\n",
    "\n",
    "merchanttestdf.limit(5)"
   ]
  },
  {
   "cell_type": "code",
   "execution_count": 30,
   "id": "fd0c164e",
   "metadata": {},
   "outputs": [
    {
     "name": "stderr",
     "output_type": "stream",
     "text": [
      "                                                                                \r"
     ]
    },
    {
     "data": {
      "text/html": [
       "<table border='1'>\n",
       "<tr><th>merchant_abn</th><th>mean_amount</th><th>max_amount</th><th>mean_transactions</th><th>max_transactions</th><th>transaction_sd</th></tr>\n",
       "<tr><td>24852446429</td><td>30.030071405360996</td><td>266.8120329005647</td><td>413.6980198019802</td><td>1057</td><td>88.64735351564971</td></tr>\n",
       "<tr><td>64203420245</td><td>28.928305828390407</td><td>54.99964100649264</td><td>372.44224422442244</td><td>970</td><td>80.53990826941647</td></tr>\n",
       "<tr><td>86578477987</td><td>34.99207784086906</td><td>293.2330883770684</td><td>389.73267326732673</td><td>961</td><td>83.21378117219548</td></tr>\n",
       "<tr><td>49891706470</td><td>28.96185062870421</td><td>54.999973170141224</td><td>353.8019801980198</td><td>922</td><td>76.98159313772817</td></tr>\n",
       "<tr><td>46804135891</td><td>30.00737334678103</td><td>402.34853312614206</td><td>334.96534653465346</td><td>876</td><td>72.60250971548544</td></tr>\n",
       "</table>\n"
      ],
      "text/plain": [
       "+------------+------------------+------------------+------------------+----------------+-----------------+\n",
       "|merchant_abn|       mean_amount|        max_amount| mean_transactions|max_transactions|   transaction_sd|\n",
       "+------------+------------------+------------------+------------------+----------------+-----------------+\n",
       "| 24852446429|30.030071405360996| 266.8120329005647| 413.6980198019802|            1057|88.64735351564971|\n",
       "| 64203420245|28.928305828390407| 54.99964100649264|372.44224422442244|             970|80.53990826941647|\n",
       "| 86578477987| 34.99207784086906| 293.2330883770684|389.73267326732673|             961|83.21378117219548|\n",
       "| 49891706470| 28.96185062870421|54.999973170141224| 353.8019801980198|             922|76.98159313772817|\n",
       "| 46804135891| 30.00737334678103|402.34853312614206|334.96534653465346|             876|72.60250971548544|\n",
       "+------------+------------------+------------------+------------------+----------------+-----------------+"
      ]
     },
     "execution_count": 30,
     "metadata": {},
     "output_type": "execute_result"
    }
   ],
   "source": [
    "# Get the average stats for a merchant on any given day\n",
    "\n",
    "merchanttestdf2 = merchanttestdf.groupBy(\"merchant_abn\").agg(\n",
    "    mean(\"mean_amount\").alias(\"mean_amount\"),\n",
    "    max(\"max_amount\").alias(\"max_amount\"),\n",
    "    mean(\"transactions\").alias(\"mean_transactions\"),\n",
    "    max(\"transactions\").alias(\"max_transactions\"),\n",
    "    stddev(\"transactions\").alias(\"transaction_sd\")\n",
    "    ).orderBy(desc(\"max_transactions\"))\n",
    "\n",
    "merchanttestdf2.limit(5)"
   ]
  },
  {
   "cell_type": "code",
   "execution_count": 31,
   "id": "f3fb56c2",
   "metadata": {},
   "outputs": [
    {
     "name": "stderr",
     "output_type": "stream",
     "text": [
      "                                                                                \r"
     ]
    },
    {
     "data": {
      "text/html": [
       "<table border='1'>\n",
       "<tr><th>merchant_abn</th><th>amount_sd</th></tr>\n",
       "<tr><td>73256306726</td><td>230.49860679672886</td></tr>\n",
       "<tr><td>48214071373</td><td>192.43853288880413</td></tr>\n",
       "<tr><td>38700038932</td><td>713.0931587735073</td></tr>\n",
       "<tr><td>73841664453</td><td>54.02538393317098</td></tr>\n",
       "<tr><td>83412691377</td><td>24.483086120347313</td></tr>\n",
       "</table>\n"
      ],
      "text/plain": [
       "+------------+------------------+\n",
       "|merchant_abn|         amount_sd|\n",
       "+------------+------------------+\n",
       "| 73256306726|230.49860679672886|\n",
       "| 48214071373|192.43853288880413|\n",
       "| 38700038932| 713.0931587735073|\n",
       "| 73841664453| 54.02538393317098|\n",
       "| 83412691377|24.483086120347313|\n",
       "+------------+------------------+"
      ]
     },
     "execution_count": 31,
     "metadata": {},
     "output_type": "execute_result"
    }
   ],
   "source": [
    "# Get standard deviation for merchants transaction amounts\n",
    "\n",
    "stddevdf = final_sdf.groupBy(\"merchant_abn\").agg(stddev(\"dollar_value\").alias(\"amount_sd\"))\n",
    "stddevdf.limit(5)"
   ]
  },
  {
   "cell_type": "code",
   "execution_count": 32,
   "id": "db302af6",
   "metadata": {},
   "outputs": [
    {
     "name": "stderr",
     "output_type": "stream",
     "text": [
      "                                                                                \r"
     ]
    },
    {
     "name": "stdout",
     "output_type": "stream",
     "text": [
      "4018\n"
     ]
    },
    {
     "name": "stderr",
     "output_type": "stream",
     "text": [
      "                                                                                \r"
     ]
    },
    {
     "name": "stdout",
     "output_type": "stream",
     "text": [
      "4018\n"
     ]
    },
    {
     "name": "stderr",
     "output_type": "stream",
     "text": [
      "                                                                                \r"
     ]
    },
    {
     "data": {
      "text/html": [
       "<table border='1'>\n",
       "<tr><th>merchant_abn</th><th>mean_amount</th><th>max_amount</th><th>mean_transactions</th><th>max_transactions</th><th>transaction_sd</th><th>amount_sd</th></tr>\n",
       "<tr><td>83412691377</td><td>35.0125111179469</td><td>201.92111142420248</td><td>20.397689768976896</td><td>57</td><td>6.1317702357686885</td><td>24.483086120347313</td></tr>\n",
       "<tr><td>73256306726</td><td>283.65593969249045</td><td>2074.313458274829</td><td>7.462046204620462</td><td>26</td><td>3.2774277009648385</td><td>230.49860679672886</td></tr>\n",
       "<tr><td>38700038932</td><td>1271.329590829926</td><td>5444.634544750903</td><td>9.633663366336634</td><td>23</td><td>3.5588728058858585</td><td>713.0931587735073</td></tr>\n",
       "<tr><td>35344855546</td><td>87.57164165103826</td><td>393.1052476633007</td><td>2.4831460674157304</td><td>14</td><td>1.443981047548301</td><td>66.22265951595399</td></tr>\n",
       "<tr><td>15613631617</td><td>302.952730967887</td><td>1393.5644128685904</td><td>2.8051001821493626</td><td>9</td><td>1.5031267408536493</td><td>196.27471261822632</td></tr>\n",
       "</table>\n"
      ],
      "text/plain": [
       "+------------+------------------+------------------+------------------+----------------+------------------+------------------+\n",
       "|merchant_abn|       mean_amount|        max_amount| mean_transactions|max_transactions|    transaction_sd|         amount_sd|\n",
       "+------------+------------------+------------------+------------------+----------------+------------------+------------------+\n",
       "| 83412691377|  35.0125111179469|201.92111142420248|20.397689768976896|              57|6.1317702357686885|24.483086120347313|\n",
       "| 73256306726|283.65593969249045| 2074.313458274829| 7.462046204620462|              26|3.2774277009648385|230.49860679672886|\n",
       "| 38700038932| 1271.329590829926| 5444.634544750903| 9.633663366336634|              23|3.5588728058858585| 713.0931587735073|\n",
       "| 35344855546| 87.57164165103826| 393.1052476633007|2.4831460674157304|              14| 1.443981047548301| 66.22265951595399|\n",
       "| 15613631617|  302.952730967887|1393.5644128685904|2.8051001821493626|               9|1.5031267408536493|196.27471261822632|\n",
       "+------------+------------------+------------------+------------------+----------------+------------------+------------------+"
      ]
     },
     "execution_count": 32,
     "metadata": {},
     "output_type": "execute_result"
    }
   ],
   "source": [
    "# Join all merchant stat dataframes\n",
    "\n",
    "print(merchanttestdf2.count())\n",
    "future_merchant_frauddf = merchanttestdf2.join(stddevdf, \"merchant_abn\")\n",
    "print(future_merchant_frauddf.count())\n",
    "future_merchant_frauddf.limit(5)"
   ]
  },
  {
   "cell_type": "markdown",
   "id": "83bef868",
   "metadata": {},
   "source": [
    "We now have a dataset that gives us all the statistics we need to determine if future merchant transactions are fraud <br>\n",
    "for the time being if a merchant has > 1.5 x standard deviation above max_transactions in a day it is considered fraud <br>\n",
    "if a merchant has > 1.5 x standard deviation above max_amount in a day it is considered fraud"
   ]
  },
  {
   "cell_type": "code",
   "execution_count": 33,
   "id": "3d263bdf",
   "metadata": {},
   "outputs": [
    {
     "name": "stderr",
     "output_type": "stream",
     "text": [
      "                                                                                \r"
     ]
    }
   ],
   "source": [
    "# Saves dataframe for predicitng future merchant fraud\n",
    "\n",
    "future_merchant_frauddf = future_merchant_frauddf.drop(\"mean_amount\",\"mean_transactions\")\n",
    "\n",
    "future_merchant_frauddf.write.mode(\"overwrite\").parquet(\"../data/curated/future_merchant_fraud.parquet\")"
   ]
  },
  {
   "cell_type": "markdown",
   "id": "ba304c1f",
   "metadata": {},
   "source": [
    "### User"
   ]
  },
  {
   "cell_type": "code",
   "execution_count": 34,
   "id": "abe83766",
   "metadata": {},
   "outputs": [
    {
     "name": "stderr",
     "output_type": "stream",
     "text": [
      "                                                                                \r"
     ]
    },
    {
     "data": {
      "text/html": [
       "<table border='1'>\n",
       "<tr><th>user_id</th><th>order_datetime</th><th>mean_amount</th><th>max_amount</th><th>transactions</th></tr>\n",
       "<tr><td>5369</td><td>2021-12-26</td><td>153.7430761832681</td><td>1170.4578846318166</td><td>12</td></tr>\n",
       "<tr><td>11002</td><td>2021-11-29</td><td>64.75970088494984</td><td>265.0702191117789</td><td>11</td></tr>\n",
       "<tr><td>1537</td><td>2021-11-29</td><td>103.2461320990576</td><td>404.2955766727425</td><td>10</td></tr>\n",
       "<tr><td>6671</td><td>2021-11-29</td><td>86.35832209092791</td><td>324.45234932908204</td><td>10</td></tr>\n",
       "<tr><td>7760</td><td>2021-11-29</td><td>141.4723800333298</td><td>665.8989628155817</td><td>10</td></tr>\n",
       "</table>\n"
      ],
      "text/plain": [
       "+-------+--------------+-----------------+------------------+------------+\n",
       "|user_id|order_datetime|      mean_amount|        max_amount|transactions|\n",
       "+-------+--------------+-----------------+------------------+------------+\n",
       "|   5369|    2021-12-26|153.7430761832681|1170.4578846318166|          12|\n",
       "|  11002|    2021-11-29|64.75970088494984| 265.0702191117789|          11|\n",
       "|   1537|    2021-11-29|103.2461320990576| 404.2955766727425|          10|\n",
       "|   6671|    2021-11-29|86.35832209092791|324.45234932908204|          10|\n",
       "|   7760|    2021-11-29|141.4723800333298| 665.8989628155817|          10|\n",
       "+-------+--------------+-----------------+------------------+------------+"
      ]
     },
     "execution_count": 34,
     "metadata": {},
     "output_type": "execute_result"
    }
   ],
   "source": [
    "# Gets the stats for each user for each day\n",
    "\n",
    "usertestdf = final_sdf.groupBy(\"user_id\",\"order_datetime\").agg(\n",
    "    mean(\"dollar_value\").alias(\"mean_amount\"),\n",
    "    max(\"dollar_value\").alias(\"max_amount\"),\n",
    "    count(\"dollar_value\").alias(\"transactions\"),\n",
    "    ).orderBy(desc(\"transactions\"))\n",
    "\n",
    "usertestdf.limit(5)"
   ]
  },
  {
   "cell_type": "code",
   "execution_count": 35,
   "id": "74c08978",
   "metadata": {},
   "outputs": [
    {
     "name": "stderr",
     "output_type": "stream",
     "text": [
      "                                                                                \r"
     ]
    },
    {
     "data": {
      "text/html": [
       "<table border='1'>\n",
       "<tr><th>user_id</th><th>mean_amount</th><th>max_amount</th><th>mean_transactions</th><th>max_transactions</th><th>transaction_std</th></tr>\n",
       "<tr><td>5369</td><td>150.90859987007502</td><td>4044.7919962130372</td><td>1.5746478873239436</td><td>12</td><td>0.9782548611719449</td></tr>\n",
       "<tr><td>11002</td><td>143.30148154439888</td><td>3756.619241683773</td><td>1.5495750708215297</td><td>11</td><td>0.9405366520887029</td></tr>\n",
       "<tr><td>6594</td><td>122.23995708508409</td><td>1631.7559754340205</td><td>1.565459610027855</td><td>10</td><td>0.9126848158508853</td></tr>\n",
       "<tr><td>6629</td><td>151.57884023838062</td><td>4040.9159838767896</td><td>1.5501355013550135</td><td>10</td><td>0.9373333086951994</td></tr>\n",
       "<tr><td>13985</td><td>152.21129536632154</td><td>3391.9412364035425</td><td>1.5681818181818181</td><td>10</td><td>0.9493792189219763</td></tr>\n",
       "</table>\n"
      ],
      "text/plain": [
       "+-------+------------------+------------------+------------------+----------------+------------------+\n",
       "|user_id|       mean_amount|        max_amount| mean_transactions|max_transactions|   transaction_std|\n",
       "+-------+------------------+------------------+------------------+----------------+------------------+\n",
       "|   5369|150.90859987007502|4044.7919962130372|1.5746478873239436|              12|0.9782548611719449|\n",
       "|  11002|143.30148154439888| 3756.619241683773|1.5495750708215297|              11|0.9405366520887029|\n",
       "|   6594|122.23995708508409|1631.7559754340205| 1.565459610027855|              10|0.9126848158508853|\n",
       "|   6629|151.57884023838062|4040.9159838767896|1.5501355013550135|              10|0.9373333086951994|\n",
       "|  13985|152.21129536632154|3391.9412364035425|1.5681818181818181|              10|0.9493792189219763|\n",
       "+-------+------------------+------------------+------------------+----------------+------------------+"
      ]
     },
     "execution_count": 35,
     "metadata": {},
     "output_type": "execute_result"
    }
   ],
   "source": [
    "# Gets the average stats for a user on any given day\n",
    "\n",
    "usertestdf2 = usertestdf.groupBy(\"user_id\").agg(\n",
    "    mean(\"mean_amount\").alias(\"mean_amount\"),\n",
    "    max(\"max_amount\").alias(\"max_amount\"),\n",
    "    mean(\"transactions\").alias(\"mean_transactions\"),\n",
    "    max(\"transactions\").alias(\"max_transactions\"),\n",
    "    stddev(\"transactions\").alias(\"transaction_std\")\n",
    "    ).orderBy(desc(\"max_transactions\"))\n",
    "\n",
    "usertestdf2.limit(5)"
   ]
  },
  {
   "cell_type": "code",
   "execution_count": 36,
   "id": "c5f6bed8",
   "metadata": {},
   "outputs": [
    {
     "name": "stderr",
     "output_type": "stream",
     "text": [
      "                                                                                \r"
     ]
    },
    {
     "data": {
      "text/html": [
       "<table border='1'>\n",
       "<tr><th>user_id</th><th>amount_sd</th></tr>\n",
       "<tr><td>18147</td><td>339.50434940643896</td></tr>\n",
       "<tr><td>26</td><td>318.0838669337013</td></tr>\n",
       "<tr><td>21899</td><td>217.48701636428467</td></tr>\n",
       "<tr><td>3764</td><td>344.04850553279755</td></tr>\n",
       "<tr><td>5409</td><td>288.922033264638</td></tr>\n",
       "</table>\n"
      ],
      "text/plain": [
       "+-------+------------------+\n",
       "|user_id|         amount_sd|\n",
       "+-------+------------------+\n",
       "|  18147|339.50434940643896|\n",
       "|     26| 318.0838669337013|\n",
       "|  21899|217.48701636428467|\n",
       "|   3764|344.04850553279755|\n",
       "|   5409|  288.922033264638|\n",
       "+-------+------------------+"
      ]
     },
     "execution_count": 36,
     "metadata": {},
     "output_type": "execute_result"
    }
   ],
   "source": [
    "# Get standard deviation for users transaction amounts\n",
    "\n",
    "stddevdf = final_sdf.groupBy(\"user_id\").agg(stddev(\"dollar_value\").alias(\"amount_sd\"))\n",
    "stddevdf.limit(5)"
   ]
  },
  {
   "cell_type": "code",
   "execution_count": 37,
   "id": "08095551",
   "metadata": {},
   "outputs": [
    {
     "name": "stderr",
     "output_type": "stream",
     "text": [
      "                                                                                \r"
     ]
    },
    {
     "name": "stdout",
     "output_type": "stream",
     "text": [
      "20906\n"
     ]
    },
    {
     "name": "stderr",
     "output_type": "stream",
     "text": [
      "                                                                                \r"
     ]
    },
    {
     "name": "stdout",
     "output_type": "stream",
     "text": [
      "20906\n"
     ]
    },
    {
     "name": "stderr",
     "output_type": "stream",
     "text": [
      "                                                                                \r"
     ]
    },
    {
     "data": {
      "text/html": [
       "<table border='1'>\n",
       "<tr><th>user_id</th><th>mean_amount</th><th>max_amount</th><th>mean_transactions</th><th>max_transactions</th><th>transaction_std</th><th>amount_sd</th></tr>\n",
       "<tr><td>19979</td><td>154.28539185829345</td><td>8150.115728134807</td><td>1.516304347826087</td><td>9</td><td>0.84476618165645</td><td>400.16781038916304</td></tr>\n",
       "<tr><td>23492</td><td>153.55353346463673</td><td>4097.470542751887</td><td>1.4808743169398908</td><td>9</td><td>0.8232347161406164</td><td>294.7157993790497</td></tr>\n",
       "<tr><td>12568</td><td>127.10156526244835</td><td>2042.0161577505257</td><td>1.5493333333333332</td><td>8</td><td>0.8757538133134091</td><td>239.94494399815406</td></tr>\n",
       "<tr><td>15663</td><td>143.37670911767736</td><td>2697.749698358689</td><td>1.541899441340782</td><td>8</td><td>0.8349365671068217</td><td>267.9393245380722</td></tr>\n",
       "<tr><td>15437</td><td>157.63434236717413</td><td>4791.825368197756</td><td>1.569060773480663</td><td>7</td><td>0.8132787862153956</td><td>377.4357418105274</td></tr>\n",
       "</table>\n"
      ],
      "text/plain": [
       "+-------+------------------+------------------+------------------+----------------+------------------+------------------+\n",
       "|user_id|       mean_amount|        max_amount| mean_transactions|max_transactions|   transaction_std|         amount_sd|\n",
       "+-------+------------------+------------------+------------------+----------------+------------------+------------------+\n",
       "|  19979|154.28539185829345| 8150.115728134807| 1.516304347826087|               9|  0.84476618165645|400.16781038916304|\n",
       "|  23492|153.55353346463673| 4097.470542751887|1.4808743169398908|               9|0.8232347161406164| 294.7157993790497|\n",
       "|  12568|127.10156526244835|2042.0161577505257|1.5493333333333332|               8|0.8757538133134091|239.94494399815406|\n",
       "|  15663|143.37670911767736| 2697.749698358689| 1.541899441340782|               8|0.8349365671068217| 267.9393245380722|\n",
       "|  15437|157.63434236717413| 4791.825368197756| 1.569060773480663|               7|0.8132787862153956| 377.4357418105274|\n",
       "+-------+------------------+------------------+------------------+----------------+------------------+------------------+"
      ]
     },
     "execution_count": 37,
     "metadata": {},
     "output_type": "execute_result"
    }
   ],
   "source": [
    "# Join all user stat dataframes\n",
    "\n",
    "print(usertestdf2.count())\n",
    "future_user_frauddf = usertestdf2.join(stddevdf, \"user_id\")\n",
    "print(future_user_frauddf.count())\n",
    "future_user_frauddf.limit(5)"
   ]
  },
  {
   "cell_type": "markdown",
   "id": "31b7d281",
   "metadata": {},
   "source": [
    "We now have a dataset that gives us all the statistics we need to determine if future user transactions are fraud <br>\n",
    "for the time being if a user has > 1.5 x standard deviation above max_transactions in a day it is considered fraud <br>\n",
    "if a user has > 1.5 x standard deviation above max_amount in a day it is considered fraud"
   ]
  },
  {
   "cell_type": "markdown",
   "id": "965188ae",
   "metadata": {},
   "source": [
    "Now remains the case where a user or merchant has little to no data to get these metrics from <br>\n",
    "We could either set our own thresholds based on logical reasoning for fraud detection<br>\n",
    "Or we could look at the distributions of existing data to determine thresholds for fraud detection"
   ]
  },
  {
   "cell_type": "code",
   "execution_count": 38,
   "id": "d5cc5b8b",
   "metadata": {},
   "outputs": [
    {
     "name": "stderr",
     "output_type": "stream",
     "text": [
      "                                                                                \r"
     ]
    }
   ],
   "source": [
    "# Saves dataframe for predicitng future user fraud\n",
    "\n",
    "future_user_frauddf = future_user_frauddf.drop(\"mean_amount\",\"mean_transactions\")\n",
    "\n",
    "future_user_frauddf.write.mode(\"overwrite\").parquet(\"../data/curated/future_user_fraud.parquet\")"
   ]
  }
 ],
 "metadata": {
  "kernelspec": {
   "display_name": "Python 3 (ipykernel)",
   "language": "python",
   "name": "python3"
  },
  "language_info": {
   "codemirror_mode": {
    "name": "ipython",
    "version": 3
   },
   "file_extension": ".py",
   "mimetype": "text/x-python",
   "name": "python",
   "nbconvert_exporter": "python",
   "pygments_lexer": "ipython3",
   "version": "3.8.10"
  },
  "vscode": {
   "interpreter": {
    "hash": "916dbcbb3f70747c44a77c7bcd40155683ae19c65e1c03b4aa3499c5328201f1"
   }
  }
 },
 "nbformat": 4,
 "nbformat_minor": 5
}
