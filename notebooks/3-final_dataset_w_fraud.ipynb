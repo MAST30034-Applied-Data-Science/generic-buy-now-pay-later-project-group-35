{
 "cells": [
  {
   "cell_type": "code",
   "execution_count": 1,
   "id": "f935367d-cab0-4904-9bed-676c9eccd84b",
   "metadata": {
    "tags": []
   },
   "outputs": [
    {
     "name": "stdout",
     "output_type": "stream",
     "text": [
      "22/09/19 22:16:38 WARN Utils: Your hostname, AryansLaptop resolves to a loopback address: 127.0.1.1; using 172.28.41.58 instead (on interface eth0)\n",
      "22/09/19 22:16:38 WARN Utils: Set SPARK_LOCAL_IP if you need to bind to another address\n"
     ]
    },
    {
     "name": "stderr",
     "output_type": "stream",
     "text": [
      "Setting default log level to \"WARN\".\n",
      "To adjust logging level use sc.setLogLevel(newLevel). For SparkR, use setLogLevel(newLevel).\n"
     ]
    },
    {
     "name": "stdout",
     "output_type": "stream",
     "text": [
      "22/09/19 22:16:40 WARN NativeCodeLoader: Unable to load native-hadoop library for your platform... using builtin-java classes where applicable\n"
     ]
    }
   ],
   "source": [
    "from pyspark.sql import SparkSession\n",
    "from pyspark.sql.functions import * \n",
    "import matplotlib.pyplot as plt\n",
    "import pandas as pd\n",
    "import numpy as np\n",
    "from urllib.request import urlretrieve\n",
    "from owslib.wfs import WebFeatureService\n",
    "from dotenv import load_dotenv\n",
    "\n",
    "# Create a spark session\n",
    "spark = (\n",
    "    SparkSession.builder.appName(\"analysis\")\n",
    "    .config(\"spark.sql.repl.eagerEval.enabled\", True) \n",
    "    .config(\"spark.sql.parquet.cacheMetadata\", \"true\")\n",
    "    .config(\"spark.sql.session.timeZone\", \"Etc/UTC\")\n",
    "    .config(\"spark.driver.memory\", \"2g\")\n",
    "    .config(\"spark.executor.memory\", \"6g\")\n",
    "    .getOrCreate()\n",
    ")"
   ]
  },
  {
   "cell_type": "markdown",
   "id": "2fd082bb",
   "metadata": {},
   "source": [
    "## Combining datasets"
   ]
  },
  {
   "cell_type": "code",
   "execution_count": 2,
   "id": "4b7aa80d-fd13-42e9-9943-a180e7ad0864",
   "metadata": {},
   "outputs": [
    {
     "name": "stdout",
     "output_type": "stream",
     "text": [
      "13614675\n"
     ]
    },
    {
     "name": "stderr",
     "output_type": "stream",
     "text": [
      "                                                                                \r"
     ]
    },
    {
     "data": {
      "text/html": [
       "<table border='1'>\n",
       "<tr><th>merchant_abn</th><th>consumer_id</th><th>user_id</th><th>dollar_value</th><th>order_id</th><th>order_datetime</th><th>customer_name</th><th>address</th><th>state</th><th>postcode</th><th>gender</th><th>company_name</th><th>tags</th><th>take_rate</th><th>revenue_band</th></tr>\n",
       "<tr><td>69666829657</td><td>226</td><td>5162</td><td>79.65159982605903</td><td>8765ef9f-dba6-407...</td><td>2021-08-20</td><td>Courtney Torres</td><td>6945 Higgins Brooks</td><td>SA</td><td>5581</td><td>Female</td><td>Sem Ut Institute</td><td>bicycle shops - s...</td><td> 2.86</td><td> c</td></tr>\n",
       "<tr><td>50321300271</td><td>226</td><td>5162</td><td>594.2915496790856</td><td>79f2842d-f8b2-4fd...</td><td>2022-06-01</td><td>Courtney Torres</td><td>6945 Higgins Brooks</td><td>SA</td><td>5581</td><td>Female</td><td>Augue Industries</td><td>bicycle shops - s...</td><td> 4.24</td><td> b</td></tr>\n",
       "<tr><td>70610974780</td><td>226</td><td>5162</td><td>52.820359204536665</td><td>bdf345c8-4c5d-48e...</td><td>2021-08-20</td><td>Courtney Torres</td><td>6945 Higgins Brooks</td><td>SA</td><td>5581</td><td>Female</td><td>Elit Aliquam PC</td><td>tent and awning s...</td><td> 6.93</td><td> a</td></tr>\n",
       "<tr><td>17324645993</td><td>226</td><td>5162</td><td>27.12729568273566</td><td>0a44d623-e325-4fc...</td><td>2022-05-12</td><td>Courtney Torres</td><td>6945 Higgins Brooks</td><td>SA</td><td>5581</td><td>Female</td><td>Eget Metus In Cor...</td><td>tent and awning s...</td><td> 5.73</td><td> a</td></tr>\n",
       "<tr><td>15582655078</td><td>226</td><td>5162</td><td>75.31904078962366</td><td>47ddf8e0-5f72-408...</td><td>2021-08-21</td><td>Courtney Torres</td><td>6945 Higgins Brooks</td><td>SA</td><td>5581</td><td>Female</td><td>Eu Odio Phasellus...</td><td>gift, card, novel...</td><td> 6.77</td><td> a</td></tr>\n",
       "</table>\n"
      ],
      "text/plain": [
       "+------------+-----------+-------+------------------+--------------------+--------------+---------------+-------------------+-----+--------+------+--------------------+--------------------+---------+------------+\n",
       "|merchant_abn|consumer_id|user_id|      dollar_value|            order_id|order_datetime|  customer_name|            address|state|postcode|gender|        company_name|                tags|take_rate|revenue_band|\n",
       "+------------+-----------+-------+------------------+--------------------+--------------+---------------+-------------------+-----+--------+------+--------------------+--------------------+---------+------------+\n",
       "| 69666829657|        226|   5162| 79.65159982605903|8765ef9f-dba6-407...|    2021-08-20|Courtney Torres|6945 Higgins Brooks|   SA|    5581|Female|    Sem Ut Institute|bicycle shops - s...|     2.86|           c|\n",
       "| 50321300271|        226|   5162| 594.2915496790856|79f2842d-f8b2-4fd...|    2022-06-01|Courtney Torres|6945 Higgins Brooks|   SA|    5581|Female|    Augue Industries|bicycle shops - s...|     4.24|           b|\n",
       "| 70610974780|        226|   5162|52.820359204536665|bdf345c8-4c5d-48e...|    2021-08-20|Courtney Torres|6945 Higgins Brooks|   SA|    5581|Female|     Elit Aliquam PC|tent and awning s...|     6.93|           a|\n",
       "| 17324645993|        226|   5162| 27.12729568273566|0a44d623-e325-4fc...|    2022-05-12|Courtney Torres|6945 Higgins Brooks|   SA|    5581|Female|Eget Metus In Cor...|tent and awning s...|     5.73|           a|\n",
       "| 15582655078|        226|   5162| 75.31904078962366|47ddf8e0-5f72-408...|    2021-08-21|Courtney Torres|6945 Higgins Brooks|   SA|    5581|Female|Eu Odio Phasellus...|gift, card, novel...|     6.77|           a|\n",
       "+------------+-----------+-------+------------------+--------------------+--------------+---------------+-------------------+-----+--------+------+--------------------+--------------------+---------+------------+"
      ]
     },
     "execution_count": 2,
     "metadata": {},
     "output_type": "execute_result"
    }
   ],
   "source": [
    "sdf = spark.read.parquet(\"../data/curated/mergedf.parquet/\")\n",
    "print(sdf.count())\n",
    "sdf.limit(5)"
   ]
  },
  {
   "cell_type": "code",
   "execution_count": 3,
   "id": "6cf7b142-3e57-4759-98ef-090be8c82850",
   "metadata": {},
   "outputs": [
    {
     "name": "stdout",
     "output_type": "stream",
     "text": [
      "5492\n"
     ]
    },
    {
     "data": {
      "text/html": [
       "<table border='1'>\n",
       "<tr><th>postcode</th><th>sa2_code</th></tr>\n",
       "<tr><td>1008</td><td>117031337</td></tr>\n",
       "<tr><td>1150</td><td>117031337</td></tr>\n",
       "<tr><td>2100</td><td>122031429</td></tr>\n",
       "<tr><td>2200</td><td>119011571</td></tr>\n",
       "<tr><td>2338</td><td>110041201</td></tr>\n",
       "</table>\n"
      ],
      "text/plain": [
       "+--------+---------+\n",
       "|postcode| sa2_code|\n",
       "+--------+---------+\n",
       "|    1008|117031337|\n",
       "|    1150|117031337|\n",
       "|    2100|122031429|\n",
       "|    2200|119011571|\n",
       "|    2338|110041201|\n",
       "+--------+---------+"
      ]
     },
     "execution_count": 3,
     "metadata": {},
     "output_type": "execute_result"
    }
   ],
   "source": [
    "postcodedf = spark.read.parquet(\"../data/curated/postcodedf.parquet/\")\n",
    "print(postcodedf.count())\n",
    "postcodedf.limit(5)"
   ]
  },
  {
   "cell_type": "code",
   "execution_count": 4,
   "id": "e0e26993",
   "metadata": {},
   "outputs": [
    {
     "name": "stdout",
     "output_type": "stream",
     "text": [
      "2450\n"
     ]
    },
    {
     "data": {
      "text/html": [
       "<table border='1'>\n",
       "<tr><th>State/Terr</th><th>sa2_code</th><th>SA2 name</th><th>Total</th><th>Under 10</th><th>Adolescent</th><th>Young adult</th><th>Middle age</th><th>Old</th></tr>\n",
       "<tr><td>New South Wales</td><td>121011686</td><td>Lane Cove</td><td>15931</td><td>2246</td><td>1683</td><td>3108</td><td>5838</td><td>3056</td></tr>\n",
       "<tr><td>New South Wales</td><td>121011687</td><td>Willoughby</td><td>13024</td><td>1829</td><td>1862</td><td>1679</td><td>4949</td><td>2705</td></tr>\n",
       "<tr><td>New South Wales</td><td>121021403</td><td>Asquith - Mount C...</td><td>22134</td><td>2949</td><td>3092</td><td>3674</td><td>8221</td><td>4198</td></tr>\n",
       "<tr><td>New South Wales</td><td>121021404</td><td>Berowra - Brookly...</td><td>11793</td><td>1513</td><td>1805</td><td>1444</td><td>4385</td><td>2646</td></tr>\n",
       "<tr><td>New South Wales</td><td>121021406</td><td>Normanhurst - Tho...</td><td>19199</td><td>2395</td><td>2868</td><td>2589</td><td>6962</td><td>4385</td></tr>\n",
       "</table>\n"
      ],
      "text/plain": [
       "+---------------+---------+--------------------+-----+--------+----------+-----------+----------+----+\n",
       "|     State/Terr| sa2_code|            SA2 name|Total|Under 10|Adolescent|Young adult|Middle age| Old|\n",
       "+---------------+---------+--------------------+-----+--------+----------+-----------+----------+----+\n",
       "|New South Wales|121011686|           Lane Cove|15931|    2246|      1683|       3108|      5838|3056|\n",
       "|New South Wales|121011687|          Willoughby|13024|    1829|      1862|       1679|      4949|2705|\n",
       "|New South Wales|121021403|Asquith - Mount C...|22134|    2949|      3092|       3674|      8221|4198|\n",
       "|New South Wales|121021404|Berowra - Brookly...|11793|    1513|      1805|       1444|      4385|2646|\n",
       "|New South Wales|121021406|Normanhurst - Tho...|19199|    2395|      2868|       2589|      6962|4385|\n",
       "+---------------+---------+--------------------+-----+--------+----------+-----------+----------+----+"
      ]
     },
     "execution_count": 4,
     "metadata": {},
     "output_type": "execute_result"
    }
   ],
   "source": [
    "pop_sdf = spark.read.parquet(\"../data/curated/pop_sdf.parquet/\")\n",
    "print(pop_sdf.count())\n",
    "populationdf = pop_sdf.withColumnRenamed(\"SA2 code\",\"sa2_code\")\n",
    "populationdf.limit(5)"
   ]
  },
  {
   "cell_type": "code",
   "execution_count": 5,
   "id": "4323a320",
   "metadata": {},
   "outputs": [
    {
     "name": "stdout",
     "output_type": "stream",
     "text": [
      "2239\n"
     ]
    },
    {
     "data": {
      "text/html": [
       "<table border='1'>\n",
       "<tr><th>sa2_code</th><th>num_earners</th><th>median_age</th><th>median_income</th><th>mean_income</th></tr>\n",
       "<tr><td>213011340</td><td>11238</td><td>46</td><td>51181</td><td>61177</td></tr>\n",
       "<tr><td>213021341</td><td>7942</td><td>43</td><td>57585</td><td>69301</td></tr>\n",
       "<tr><td>213021344</td><td>11216</td><td>41</td><td>66161</td><td>80219</td></tr>\n",
       "<tr><td>213021345</td><td>3015</td><td>41</td><td>52078</td><td>60249</td></tr>\n",
       "<tr><td>213021346</td><td>9996</td><td>47</td><td>63892</td><td>90668</td></tr>\n",
       "</table>\n"
      ],
      "text/plain": [
       "+---------+-----------+----------+-------------+-----------+\n",
       "| sa2_code|num_earners|median_age|median_income|mean_income|\n",
       "+---------+-----------+----------+-------------+-----------+\n",
       "|213011340|      11238|        46|        51181|      61177|\n",
       "|213021341|       7942|        43|        57585|      69301|\n",
       "|213021344|      11216|        41|        66161|      80219|\n",
       "|213021345|       3015|        41|        52078|      60249|\n",
       "|213021346|       9996|        47|        63892|      90668|\n",
       "+---------+-----------+----------+-------------+-----------+"
      ]
     },
     "execution_count": 5,
     "metadata": {},
     "output_type": "execute_result"
    }
   ],
   "source": [
    "incomedf = spark.read.parquet(\"../data/curated/incomedf.parquet/\")\n",
    "print(incomedf.count())\n",
    "incomedf.limit(5)"
   ]
  },
  {
   "cell_type": "code",
   "execution_count": 6,
   "id": "03608c0f",
   "metadata": {},
   "outputs": [
    {
     "name": "stdout",
     "output_type": "stream",
     "text": [
      "34765\n"
     ]
    },
    {
     "data": {
      "text/html": [
       "<table border='1'>\n",
       "<tr><th>user_id</th><th>order_datetime</th><th>consumer_fraud_%</th></tr>\n",
       "<tr><td>3753</td><td>2022-02-16</td><td>48.85325253622543</td></tr>\n",
       "<tr><td>9646</td><td>2021-09-23</td><td>47.83931206340956</td></tr>\n",
       "<tr><td>243</td><td>2021-09-02</td><td>50.88971939168309</td></tr>\n",
       "<tr><td>3907</td><td>2021-10-07</td><td>38.58123424858352</td></tr>\n",
       "<tr><td>14864</td><td>2021-11-29</td><td>27.072321329372105</td></tr>\n",
       "</table>\n"
      ],
      "text/plain": [
       "+-------+--------------+------------------+\n",
       "|user_id|order_datetime|  consumer_fraud_%|\n",
       "+-------+--------------+------------------+\n",
       "|   3753|    2022-02-16| 48.85325253622543|\n",
       "|   9646|    2021-09-23| 47.83931206340956|\n",
       "|    243|    2021-09-02| 50.88971939168309|\n",
       "|   3907|    2021-10-07| 38.58123424858352|\n",
       "|  14864|    2021-11-29|27.072321329372105|\n",
       "+-------+--------------+------------------+"
      ]
     },
     "execution_count": 6,
     "metadata": {},
     "output_type": "execute_result"
    }
   ],
   "source": [
    "consumerfrauddf = spark.read.parquet(\"../data/curated/consumerfrauddf.parquet/\")\n",
    "print(consumerfrauddf.count())\n",
    "consumerfrauddf = consumerfrauddf.withColumnRenamed(\"fraud_probability\",\"consumer_fraud_%\")\n",
    "consumerfrauddf.limit(5)"
   ]
  },
  {
   "cell_type": "code",
   "execution_count": 7,
   "id": "e2979bac",
   "metadata": {},
   "outputs": [
    {
     "name": "stdout",
     "output_type": "stream",
     "text": [
      "114\n"
     ]
    },
    {
     "data": {
      "text/html": [
       "<table border='1'>\n",
       "<tr><th>merchant_abn</th><th>order_datetime</th><th>merchant_fraud_%</th></tr>\n",
       "<tr><td>19492220327</td><td>2021-11-28</td><td>44.403658647495355</td></tr>\n",
       "<tr><td>31334588839</td><td>2021-10-02</td><td>42.75530083865367</td></tr>\n",
       "<tr><td>19492220327</td><td>2021-12-22</td><td>38.867790051131095</td></tr>\n",
       "<tr><td>82999039227</td><td>2021-12-19</td><td>94.1347004808891</td></tr>\n",
       "<tr><td>90918180829</td><td>2021-09-02</td><td>43.32551731714902</td></tr>\n",
       "</table>\n"
      ],
      "text/plain": [
       "+------------+--------------+------------------+\n",
       "|merchant_abn|order_datetime|  merchant_fraud_%|\n",
       "+------------+--------------+------------------+\n",
       "| 19492220327|    2021-11-28|44.403658647495355|\n",
       "| 31334588839|    2021-10-02| 42.75530083865367|\n",
       "| 19492220327|    2021-12-22|38.867790051131095|\n",
       "| 82999039227|    2021-12-19|  94.1347004808891|\n",
       "| 90918180829|    2021-09-02| 43.32551731714902|\n",
       "+------------+--------------+------------------+"
      ]
     },
     "execution_count": 7,
     "metadata": {},
     "output_type": "execute_result"
    }
   ],
   "source": [
    "merchantfrauddf = spark.read.parquet(\"../data/curated/merchantfrauddf.parquet/\")\n",
    "print(merchantfrauddf.count())\n",
    "merchantfrauddf = merchantfrauddf.withColumnRenamed(\"fraud_probability\",\"merchant_fraud_%\")\n",
    "merchantfrauddf.limit(5)"
   ]
  },
  {
   "cell_type": "markdown",
   "id": "e8cfabb9",
   "metadata": {},
   "source": [
    "External dataset joins"
   ]
  },
  {
   "cell_type": "code",
   "execution_count": 8,
   "id": "6768363a",
   "metadata": {},
   "outputs": [
    {
     "name": "stdout",
     "output_type": "stream",
     "text": [
      "13614675\n"
     ]
    },
    {
     "name": "stderr",
     "output_type": "stream",
     "text": [
      "                                                                                \r"
     ]
    },
    {
     "name": "stdout",
     "output_type": "stream",
     "text": [
      "23253251\n"
     ]
    },
    {
     "name": "stderr",
     "output_type": "stream",
     "text": [
      "                                                                                \r"
     ]
    },
    {
     "name": "stdout",
     "output_type": "stream",
     "text": [
      "20952106\n"
     ]
    },
    {
     "name": "stderr",
     "output_type": "stream",
     "text": [
      "                                                                                \r"
     ]
    },
    {
     "name": "stdout",
     "output_type": "stream",
     "text": [
      "20774556\n",
      "22/09/19 22:16:55 WARN package: Truncated the string representation of a plan since it was too large. This behavior can be adjusted by setting 'spark.sql.debug.maxToStringFields'.\n"
     ]
    },
    {
     "data": {
      "text/html": [
       "<table border='1'>\n",
       "<tr><th>sa2_code</th><th>postcode</th><th>merchant_abn</th><th>consumer_id</th><th>user_id</th><th>dollar_value</th><th>order_id</th><th>order_datetime</th><th>customer_name</th><th>address</th><th>state</th><th>gender</th><th>company_name</th><th>tags</th><th>take_rate</th><th>revenue_band</th><th>State/Terr</th><th>SA2 name</th><th>Total</th><th>Under 10</th><th>Adolescent</th><th>Young adult</th><th>Middle age</th><th>Old</th><th>num_earners</th><th>median_age</th><th>median_income</th><th>mean_income</th></tr>\n",
       "<tr><td>405041127</td><td>5581</td><td>69666829657</td><td>226</td><td>5162</td><td>79.65159982605903</td><td>8765ef9f-dba6-407...</td><td>2021-08-20</td><td>Courtney Torres</td><td>6945 Higgins Brooks</td><td>SA</td><td>Female</td><td>Sem Ut Institute</td><td>bicycle shops - s...</td><td> 2.86</td><td> c</td><td>South Australia</td><td>Yorke Peninsula -...</td><td>7621</td><td>691</td><td>681</td><td>818</td><td>2022</td><td>3409</td><td>3438</td><td>53</td><td>40165</td><td>52377</td></tr>\n",
       "<tr><td>405041127</td><td>5581</td><td>50321300271</td><td>226</td><td>5162</td><td>594.2915496790856</td><td>79f2842d-f8b2-4fd...</td><td>2022-06-01</td><td>Courtney Torres</td><td>6945 Higgins Brooks</td><td>SA</td><td>Female</td><td>Augue Industries</td><td>bicycle shops - s...</td><td> 4.24</td><td> b</td><td>South Australia</td><td>Yorke Peninsula -...</td><td>7621</td><td>691</td><td>681</td><td>818</td><td>2022</td><td>3409</td><td>3438</td><td>53</td><td>40165</td><td>52377</td></tr>\n",
       "<tr><td>405041127</td><td>5581</td><td>70610974780</td><td>226</td><td>5162</td><td>52.820359204536665</td><td>bdf345c8-4c5d-48e...</td><td>2021-08-20</td><td>Courtney Torres</td><td>6945 Higgins Brooks</td><td>SA</td><td>Female</td><td>Elit Aliquam PC</td><td>tent and awning s...</td><td> 6.93</td><td> a</td><td>South Australia</td><td>Yorke Peninsula -...</td><td>7621</td><td>691</td><td>681</td><td>818</td><td>2022</td><td>3409</td><td>3438</td><td>53</td><td>40165</td><td>52377</td></tr>\n",
       "<tr><td>405041127</td><td>5581</td><td>17324645993</td><td>226</td><td>5162</td><td>27.12729568273566</td><td>0a44d623-e325-4fc...</td><td>2022-05-12</td><td>Courtney Torres</td><td>6945 Higgins Brooks</td><td>SA</td><td>Female</td><td>Eget Metus In Cor...</td><td>tent and awning s...</td><td> 5.73</td><td> a</td><td>South Australia</td><td>Yorke Peninsula -...</td><td>7621</td><td>691</td><td>681</td><td>818</td><td>2022</td><td>3409</td><td>3438</td><td>53</td><td>40165</td><td>52377</td></tr>\n",
       "<tr><td>405041127</td><td>5581</td><td>15582655078</td><td>226</td><td>5162</td><td>75.31904078962366</td><td>47ddf8e0-5f72-408...</td><td>2021-08-21</td><td>Courtney Torres</td><td>6945 Higgins Brooks</td><td>SA</td><td>Female</td><td>Eu Odio Phasellus...</td><td>gift, card, novel...</td><td> 6.77</td><td> a</td><td>South Australia</td><td>Yorke Peninsula -...</td><td>7621</td><td>691</td><td>681</td><td>818</td><td>2022</td><td>3409</td><td>3438</td><td>53</td><td>40165</td><td>52377</td></tr>\n",
       "</table>\n"
      ],
      "text/plain": [
       "+---------+--------+------------+-----------+-------+------------------+--------------------+--------------+---------------+-------------------+-----+------+--------------------+--------------------+---------+------------+---------------+--------------------+-----+--------+----------+-----------+----------+----+-----------+----------+-------------+-----------+\n",
       "| sa2_code|postcode|merchant_abn|consumer_id|user_id|      dollar_value|            order_id|order_datetime|  customer_name|            address|state|gender|        company_name|                tags|take_rate|revenue_band|     State/Terr|            SA2 name|Total|Under 10|Adolescent|Young adult|Middle age| Old|num_earners|median_age|median_income|mean_income|\n",
       "+---------+--------+------------+-----------+-------+------------------+--------------------+--------------+---------------+-------------------+-----+------+--------------------+--------------------+---------+------------+---------------+--------------------+-----+--------+----------+-----------+----------+----+-----------+----------+-------------+-----------+\n",
       "|405041127|    5581| 69666829657|        226|   5162| 79.65159982605903|8765ef9f-dba6-407...|    2021-08-20|Courtney Torres|6945 Higgins Brooks|   SA|Female|    Sem Ut Institute|bicycle shops - s...|     2.86|           c|South Australia|Yorke Peninsula -...| 7621|     691|       681|        818|      2022|3409|       3438|        53|        40165|      52377|\n",
       "|405041127|    5581| 50321300271|        226|   5162| 594.2915496790856|79f2842d-f8b2-4fd...|    2022-06-01|Courtney Torres|6945 Higgins Brooks|   SA|Female|    Augue Industries|bicycle shops - s...|     4.24|           b|South Australia|Yorke Peninsula -...| 7621|     691|       681|        818|      2022|3409|       3438|        53|        40165|      52377|\n",
       "|405041127|    5581| 70610974780|        226|   5162|52.820359204536665|bdf345c8-4c5d-48e...|    2021-08-20|Courtney Torres|6945 Higgins Brooks|   SA|Female|     Elit Aliquam PC|tent and awning s...|     6.93|           a|South Australia|Yorke Peninsula -...| 7621|     691|       681|        818|      2022|3409|       3438|        53|        40165|      52377|\n",
       "|405041127|    5581| 17324645993|        226|   5162| 27.12729568273566|0a44d623-e325-4fc...|    2022-05-12|Courtney Torres|6945 Higgins Brooks|   SA|Female|Eget Metus In Cor...|tent and awning s...|     5.73|           a|South Australia|Yorke Peninsula -...| 7621|     691|       681|        818|      2022|3409|       3438|        53|        40165|      52377|\n",
       "|405041127|    5581| 15582655078|        226|   5162| 75.31904078962366|47ddf8e0-5f72-408...|    2021-08-21|Courtney Torres|6945 Higgins Brooks|   SA|Female|Eu Odio Phasellus...|gift, card, novel...|     6.77|           a|South Australia|Yorke Peninsula -...| 7621|     691|       681|        818|      2022|3409|       3438|        53|        40165|      52377|\n",
       "+---------+--------+------------+-----------+-------+------------------+--------------------+--------------+---------------+-------------------+-----+------+--------------------+--------------------+---------+------------+---------------+--------------------+-----+--------+----------+-----------+----------+----+-----------+----------+-------------+-----------+"
      ]
     },
     "execution_count": 8,
     "metadata": {},
     "output_type": "execute_result"
    }
   ],
   "source": [
    "print(sdf.count())\n",
    "finaldf = sdf.join(postcodedf, \"postcode\")\n",
    "print(finaldf.count())\n",
    "finaldf = finaldf.join(populationdf, \"sa2_code\")\n",
    "print(finaldf.count())\n",
    "finaldf = finaldf.join(incomedf, \"sa2_code\")\n",
    "print(finaldf.count())\n",
    "finaldf.limit(5)"
   ]
  },
  {
   "cell_type": "markdown",
   "id": "41211903",
   "metadata": {},
   "source": [
    "Fraud joins"
   ]
  },
  {
   "cell_type": "code",
   "execution_count": 9,
   "id": "8f377cf1",
   "metadata": {},
   "outputs": [
    {
     "name": "stderr",
     "output_type": "stream",
     "text": [
      "                                                                                \r"
     ]
    },
    {
     "name": "stdout",
     "output_type": "stream",
     "text": [
      "20774556\n"
     ]
    },
    {
     "name": "stderr",
     "output_type": "stream",
     "text": [
      "                                                                                \r"
     ]
    },
    {
     "name": "stdout",
     "output_type": "stream",
     "text": [
      "20774556\n"
     ]
    },
    {
     "name": "stderr",
     "output_type": "stream",
     "text": [
      "                                                                                \r"
     ]
    },
    {
     "name": "stdout",
     "output_type": "stream",
     "text": [
      "20774556\n"
     ]
    },
    {
     "data": {
      "text/html": [
       "<table border='1'>\n",
       "<tr><th>order_datetime</th><th>merchant_abn</th><th>user_id</th><th>sa2_code</th><th>postcode</th><th>consumer_id</th><th>dollar_value</th><th>order_id</th><th>customer_name</th><th>address</th><th>state</th><th>gender</th><th>company_name</th><th>tags</th><th>take_rate</th><th>revenue_band</th><th>State/Terr</th><th>SA2 name</th><th>Total</th><th>Under 10</th><th>Adolescent</th><th>Young adult</th><th>Middle age</th><th>Old</th><th>num_earners</th><th>median_age</th><th>median_income</th><th>mean_income</th><th>consumer_fraud_%</th><th>merchant_fraud_%</th></tr>\n",
       "<tr><td>2021-08-20</td><td>69666829657</td><td>5162</td><td>405041127</td><td>5581</td><td>226</td><td>79.65159982605903</td><td>8765ef9f-dba6-407...</td><td>Courtney Torres</td><td>6945 Higgins Brooks</td><td>SA</td><td>Female</td><td>Sem Ut Institute</td><td>bicycle shops - s...</td><td> 2.86</td><td> c</td><td>South Australia</td><td>Yorke Peninsula -...</td><td>7621</td><td>691</td><td>681</td><td>818</td><td>2022</td><td>3409</td><td>3438</td><td>53</td><td>40165</td><td>52377</td><td>null</td><td>null</td></tr>\n",
       "<tr><td>2022-06-01</td><td>50321300271</td><td>5162</td><td>405041127</td><td>5581</td><td>226</td><td>594.2915496790856</td><td>79f2842d-f8b2-4fd...</td><td>Courtney Torres</td><td>6945 Higgins Brooks</td><td>SA</td><td>Female</td><td>Augue Industries</td><td>bicycle shops - s...</td><td> 4.24</td><td> b</td><td>South Australia</td><td>Yorke Peninsula -...</td><td>7621</td><td>691</td><td>681</td><td>818</td><td>2022</td><td>3409</td><td>3438</td><td>53</td><td>40165</td><td>52377</td><td>null</td><td>null</td></tr>\n",
       "<tr><td>2021-08-20</td><td>70610974780</td><td>5162</td><td>405041127</td><td>5581</td><td>226</td><td>52.820359204536665</td><td>bdf345c8-4c5d-48e...</td><td>Courtney Torres</td><td>6945 Higgins Brooks</td><td>SA</td><td>Female</td><td>Elit Aliquam PC</td><td>tent and awning s...</td><td> 6.93</td><td> a</td><td>South Australia</td><td>Yorke Peninsula -...</td><td>7621</td><td>691</td><td>681</td><td>818</td><td>2022</td><td>3409</td><td>3438</td><td>53</td><td>40165</td><td>52377</td><td>null</td><td>null</td></tr>\n",
       "<tr><td>2022-05-12</td><td>17324645993</td><td>5162</td><td>405041127</td><td>5581</td><td>226</td><td>27.12729568273566</td><td>0a44d623-e325-4fc...</td><td>Courtney Torres</td><td>6945 Higgins Brooks</td><td>SA</td><td>Female</td><td>Eget Metus In Cor...</td><td>tent and awning s...</td><td> 5.73</td><td> a</td><td>South Australia</td><td>Yorke Peninsula -...</td><td>7621</td><td>691</td><td>681</td><td>818</td><td>2022</td><td>3409</td><td>3438</td><td>53</td><td>40165</td><td>52377</td><td>null</td><td>null</td></tr>\n",
       "<tr><td>2021-08-21</td><td>15582655078</td><td>5162</td><td>405041127</td><td>5581</td><td>226</td><td>75.31904078962366</td><td>47ddf8e0-5f72-408...</td><td>Courtney Torres</td><td>6945 Higgins Brooks</td><td>SA</td><td>Female</td><td>Eu Odio Phasellus...</td><td>gift, card, novel...</td><td> 6.77</td><td> a</td><td>South Australia</td><td>Yorke Peninsula -...</td><td>7621</td><td>691</td><td>681</td><td>818</td><td>2022</td><td>3409</td><td>3438</td><td>53</td><td>40165</td><td>52377</td><td>null</td><td>null</td></tr>\n",
       "</table>\n"
      ],
      "text/plain": [
       "+--------------+------------+-------+---------+--------+-----------+------------------+--------------------+---------------+-------------------+-----+------+--------------------+--------------------+---------+------------+---------------+--------------------+-----+--------+----------+-----------+----------+----+-----------+----------+-------------+-----------+----------------+----------------+\n",
       "|order_datetime|merchant_abn|user_id| sa2_code|postcode|consumer_id|      dollar_value|            order_id|  customer_name|            address|state|gender|        company_name|                tags|take_rate|revenue_band|     State/Terr|            SA2 name|Total|Under 10|Adolescent|Young adult|Middle age| Old|num_earners|median_age|median_income|mean_income|consumer_fraud_%|merchant_fraud_%|\n",
       "+--------------+------------+-------+---------+--------+-----------+------------------+--------------------+---------------+-------------------+-----+------+--------------------+--------------------+---------+------------+---------------+--------------------+-----+--------+----------+-----------+----------+----+-----------+----------+-------------+-----------+----------------+----------------+\n",
       "|    2021-08-20| 69666829657|   5162|405041127|    5581|        226| 79.65159982605903|8765ef9f-dba6-407...|Courtney Torres|6945 Higgins Brooks|   SA|Female|    Sem Ut Institute|bicycle shops - s...|     2.86|           c|South Australia|Yorke Peninsula -...| 7621|     691|       681|        818|      2022|3409|       3438|        53|        40165|      52377|            null|            null|\n",
       "|    2022-06-01| 50321300271|   5162|405041127|    5581|        226| 594.2915496790856|79f2842d-f8b2-4fd...|Courtney Torres|6945 Higgins Brooks|   SA|Female|    Augue Industries|bicycle shops - s...|     4.24|           b|South Australia|Yorke Peninsula -...| 7621|     691|       681|        818|      2022|3409|       3438|        53|        40165|      52377|            null|            null|\n",
       "|    2021-08-20| 70610974780|   5162|405041127|    5581|        226|52.820359204536665|bdf345c8-4c5d-48e...|Courtney Torres|6945 Higgins Brooks|   SA|Female|     Elit Aliquam PC|tent and awning s...|     6.93|           a|South Australia|Yorke Peninsula -...| 7621|     691|       681|        818|      2022|3409|       3438|        53|        40165|      52377|            null|            null|\n",
       "|    2022-05-12| 17324645993|   5162|405041127|    5581|        226| 27.12729568273566|0a44d623-e325-4fc...|Courtney Torres|6945 Higgins Brooks|   SA|Female|Eget Metus In Cor...|tent and awning s...|     5.73|           a|South Australia|Yorke Peninsula -...| 7621|     691|       681|        818|      2022|3409|       3438|        53|        40165|      52377|            null|            null|\n",
       "|    2021-08-21| 15582655078|   5162|405041127|    5581|        226| 75.31904078962366|47ddf8e0-5f72-408...|Courtney Torres|6945 Higgins Brooks|   SA|Female|Eu Odio Phasellus...|gift, card, novel...|     6.77|           a|South Australia|Yorke Peninsula -...| 7621|     691|       681|        818|      2022|3409|       3438|        53|        40165|      52377|            null|            null|\n",
       "+--------------+------------+-------+---------+--------+-----------+------------------+--------------------+---------------+-------------------+-----+------+--------------------+--------------------+---------+------------+---------------+--------------------+-----+--------+----------+-----------+----------+----+-----------+----------+-------------+-----------+----------------+----------------+"
      ]
     },
     "execution_count": 9,
     "metadata": {},
     "output_type": "execute_result"
    }
   ],
   "source": [
    "print(finaldf.count())\n",
    "finaldf = finaldf.join(consumerfrauddf, [\"order_datetime\", \"user_id\"], \"leftouter\")\n",
    "print(finaldf.count())\n",
    "finaldf = finaldf.join(merchantfrauddf, [\"order_datetime\", \"merchant_abn\"], \"leftouter\")\n",
    "print(finaldf.count())\n",
    "finaldf.limit(5)"
   ]
  },
  {
   "cell_type": "code",
   "execution_count": 10,
   "id": "04e2beb7",
   "metadata": {},
   "outputs": [
    {
     "data": {
      "text/html": [
       "<table border='1'>\n",
       "<tr><th>order_datetime</th><th>merchant_abn</th><th>user_id</th><th>sa2_code</th><th>postcode</th><th>consumer_id</th><th>dollar_value</th><th>order_id</th><th>state</th><th>gender</th><th>company_name</th><th>tags</th><th>take_rate</th><th>revenue_band</th><th>SA2 name</th><th>Total</th><th>Under 10</th><th>Adolescent</th><th>Young adult</th><th>Middle age</th><th>Old</th><th>num_earners</th><th>median_age</th><th>median_income</th><th>mean_income</th><th>consumer_fraud_%</th><th>merchant_fraud_%</th></tr>\n",
       "<tr><td>2021-08-20</td><td>69666829657</td><td>5162</td><td>405041127</td><td>5581</td><td>226</td><td>79.65159982605903</td><td>8765ef9f-dba6-407...</td><td>SA</td><td>Female</td><td>Sem Ut Institute</td><td>bicycle shops - s...</td><td> 2.86</td><td> c</td><td>Yorke Peninsula -...</td><td>7621</td><td>691</td><td>681</td><td>818</td><td>2022</td><td>3409</td><td>3438</td><td>53</td><td>40165</td><td>52377</td><td>0.1</td><td>0.1</td></tr>\n",
       "<tr><td>2022-06-01</td><td>50321300271</td><td>5162</td><td>405041127</td><td>5581</td><td>226</td><td>594.2915496790856</td><td>79f2842d-f8b2-4fd...</td><td>SA</td><td>Female</td><td>Augue Industries</td><td>bicycle shops - s...</td><td> 4.24</td><td> b</td><td>Yorke Peninsula -...</td><td>7621</td><td>691</td><td>681</td><td>818</td><td>2022</td><td>3409</td><td>3438</td><td>53</td><td>40165</td><td>52377</td><td>0.1</td><td>0.1</td></tr>\n",
       "<tr><td>2021-08-20</td><td>70610974780</td><td>5162</td><td>405041127</td><td>5581</td><td>226</td><td>52.820359204536665</td><td>bdf345c8-4c5d-48e...</td><td>SA</td><td>Female</td><td>Elit Aliquam PC</td><td>tent and awning s...</td><td> 6.93</td><td> a</td><td>Yorke Peninsula -...</td><td>7621</td><td>691</td><td>681</td><td>818</td><td>2022</td><td>3409</td><td>3438</td><td>53</td><td>40165</td><td>52377</td><td>0.1</td><td>0.1</td></tr>\n",
       "<tr><td>2022-05-12</td><td>17324645993</td><td>5162</td><td>405041127</td><td>5581</td><td>226</td><td>27.12729568273566</td><td>0a44d623-e325-4fc...</td><td>SA</td><td>Female</td><td>Eget Metus In Cor...</td><td>tent and awning s...</td><td> 5.73</td><td> a</td><td>Yorke Peninsula -...</td><td>7621</td><td>691</td><td>681</td><td>818</td><td>2022</td><td>3409</td><td>3438</td><td>53</td><td>40165</td><td>52377</td><td>0.1</td><td>0.1</td></tr>\n",
       "<tr><td>2021-08-21</td><td>15582655078</td><td>5162</td><td>405041127</td><td>5581</td><td>226</td><td>75.31904078962366</td><td>47ddf8e0-5f72-408...</td><td>SA</td><td>Female</td><td>Eu Odio Phasellus...</td><td>gift, card, novel...</td><td> 6.77</td><td> a</td><td>Yorke Peninsula -...</td><td>7621</td><td>691</td><td>681</td><td>818</td><td>2022</td><td>3409</td><td>3438</td><td>53</td><td>40165</td><td>52377</td><td>0.1</td><td>0.1</td></tr>\n",
       "</table>\n"
      ],
      "text/plain": [
       "+--------------+------------+-------+---------+--------+-----------+------------------+--------------------+-----+------+--------------------+--------------------+---------+------------+--------------------+-----+--------+----------+-----------+----------+----+-----------+----------+-------------+-----------+----------------+----------------+\n",
       "|order_datetime|merchant_abn|user_id| sa2_code|postcode|consumer_id|      dollar_value|            order_id|state|gender|        company_name|                tags|take_rate|revenue_band|            SA2 name|Total|Under 10|Adolescent|Young adult|Middle age| Old|num_earners|median_age|median_income|mean_income|consumer_fraud_%|merchant_fraud_%|\n",
       "+--------------+------------+-------+---------+--------+-----------+------------------+--------------------+-----+------+--------------------+--------------------+---------+------------+--------------------+-----+--------+----------+-----------+----------+----+-----------+----------+-------------+-----------+----------------+----------------+\n",
       "|    2021-08-20| 69666829657|   5162|405041127|    5581|        226| 79.65159982605903|8765ef9f-dba6-407...|   SA|Female|    Sem Ut Institute|bicycle shops - s...|     2.86|           c|Yorke Peninsula -...| 7621|     691|       681|        818|      2022|3409|       3438|        53|        40165|      52377|             0.1|             0.1|\n",
       "|    2022-06-01| 50321300271|   5162|405041127|    5581|        226| 594.2915496790856|79f2842d-f8b2-4fd...|   SA|Female|    Augue Industries|bicycle shops - s...|     4.24|           b|Yorke Peninsula -...| 7621|     691|       681|        818|      2022|3409|       3438|        53|        40165|      52377|             0.1|             0.1|\n",
       "|    2021-08-20| 70610974780|   5162|405041127|    5581|        226|52.820359204536665|bdf345c8-4c5d-48e...|   SA|Female|     Elit Aliquam PC|tent and awning s...|     6.93|           a|Yorke Peninsula -...| 7621|     691|       681|        818|      2022|3409|       3438|        53|        40165|      52377|             0.1|             0.1|\n",
       "|    2022-05-12| 17324645993|   5162|405041127|    5581|        226| 27.12729568273566|0a44d623-e325-4fc...|   SA|Female|Eget Metus In Cor...|tent and awning s...|     5.73|           a|Yorke Peninsula -...| 7621|     691|       681|        818|      2022|3409|       3438|        53|        40165|      52377|             0.1|             0.1|\n",
       "|    2021-08-21| 15582655078|   5162|405041127|    5581|        226| 75.31904078962366|47ddf8e0-5f72-408...|   SA|Female|Eu Odio Phasellus...|gift, card, novel...|     6.77|           a|Yorke Peninsula -...| 7621|     691|       681|        818|      2022|3409|       3438|        53|        40165|      52377|             0.1|             0.1|\n",
       "+--------------+------------+-------+---------+--------+-----------+------------------+--------------------+-----+------+--------------------+--------------------+---------+------------+--------------------+-----+--------+----------+-----------+----------+----+-----------+----------+-------------+-----------+----------------+----------------+"
      ]
     },
     "execution_count": 10,
     "metadata": {},
     "output_type": "execute_result"
    }
   ],
   "source": [
    "finaldf = finaldf.drop(\"customer_name\",\"address\",\"State/Terr\")\n",
    "finaldf = finaldf.na.fill(0.1)\n",
    "finaldf.limit(5)"
   ]
  },
  {
   "cell_type": "markdown",
   "id": "b0b43c9d",
   "metadata": {},
   "source": [
    "## Dealing with current fraud data"
   ]
  },
  {
   "cell_type": "code",
   "execution_count": 11,
   "id": "d612637b",
   "metadata": {},
   "outputs": [
    {
     "name": "stderr",
     "output_type": "stream",
     "text": [
      "                                                                                \r"
     ]
    },
    {
     "name": "stdout",
     "output_type": "stream",
     "text": [
      "20774556\n"
     ]
    },
    {
     "name": "stderr",
     "output_type": "stream",
     "text": [
      "[Stage 168:===================================================>   (16 + 1) / 17]\r"
     ]
    },
    {
     "name": "stdout",
     "output_type": "stream",
     "text": [
      "20759042 15514\n"
     ]
    },
    {
     "name": "stderr",
     "output_type": "stream",
     "text": [
      "                                                                                \r"
     ]
    }
   ],
   "source": [
    "MERCHANT_THRESH = 20\n",
    "CONSUMER_THRESH = 20\n",
    "\n",
    "print(finaldf.count())\n",
    "testdf = finaldf.filter(finaldf[\"merchant_fraud_%\"] < MERCHANT_THRESH)\n",
    "testdf = finaldf.filter(finaldf[\"consumer_fraud_%\"] < CONSUMER_THRESH)\n",
    "print(testdf.count(), finaldf.count()-testdf.count())"
   ]
  },
  {
   "cell_type": "markdown",
   "id": "aaaab081",
   "metadata": {},
   "source": [
    "Keeping the fraud prob below 20% for each give us a good chance that most fraud data has been removed <br>\n",
    "The removal of 15 thousand records is not alot considering we still have 20 million plus records still left <br>\n",
    "The fact that most of the fraud transactions are now removed allows us to build a metric for determining future fraud"
   ]
  },
  {
   "cell_type": "code",
   "execution_count": 12,
   "id": "9048c68f",
   "metadata": {},
   "outputs": [],
   "source": [
    "finaldf = finaldf.filter(finaldf[\"merchant_fraud_%\"] < MERCHANT_THRESH)\n",
    "finaldf = finaldf.filter(finaldf[\"consumer_fraud_%\"] < CONSUMER_THRESH)"
   ]
  },
  {
   "cell_type": "code",
   "execution_count": 13,
   "id": "7f0cb477",
   "metadata": {},
   "outputs": [
    {
     "data": {
      "text/html": [
       "<table border='1'>\n",
       "<tr><th>order_datetime</th><th>merchant_abn</th><th>user_id</th><th>sa2_code</th><th>postcode</th><th>consumer_id</th><th>dollar_value</th><th>order_id</th><th>state</th><th>gender</th><th>company_name</th><th>tags</th><th>take_rate</th><th>revenue_band</th><th>SA2 name</th><th>Total</th><th>Under 10</th><th>Adolescent</th><th>Young adult</th><th>Middle age</th><th>Old</th><th>num_earners</th><th>median_age</th><th>median_income</th><th>mean_income</th><th>consumer_fraud_%</th><th>merchant_fraud_%</th></tr>\n",
       "<tr><td>2021-08-20</td><td>69666829657</td><td>5162</td><td>405041127</td><td>5581</td><td>226</td><td>79.65159982605903</td><td>8765ef9f-dba6-407...</td><td>SA</td><td>Female</td><td>Sem Ut Institute</td><td>bicycle shops - s...</td><td> 2.86</td><td> c</td><td>Yorke Peninsula -...</td><td>7621</td><td>691</td><td>681</td><td>818</td><td>2022</td><td>3409</td><td>3438</td><td>53</td><td>40165</td><td>52377</td><td>0.1</td><td>0.1</td></tr>\n",
       "<tr><td>2022-06-01</td><td>50321300271</td><td>5162</td><td>405041127</td><td>5581</td><td>226</td><td>594.2915496790856</td><td>79f2842d-f8b2-4fd...</td><td>SA</td><td>Female</td><td>Augue Industries</td><td>bicycle shops - s...</td><td> 4.24</td><td> b</td><td>Yorke Peninsula -...</td><td>7621</td><td>691</td><td>681</td><td>818</td><td>2022</td><td>3409</td><td>3438</td><td>53</td><td>40165</td><td>52377</td><td>0.1</td><td>0.1</td></tr>\n",
       "<tr><td>2021-08-20</td><td>70610974780</td><td>5162</td><td>405041127</td><td>5581</td><td>226</td><td>52.820359204536665</td><td>bdf345c8-4c5d-48e...</td><td>SA</td><td>Female</td><td>Elit Aliquam PC</td><td>tent and awning s...</td><td> 6.93</td><td> a</td><td>Yorke Peninsula -...</td><td>7621</td><td>691</td><td>681</td><td>818</td><td>2022</td><td>3409</td><td>3438</td><td>53</td><td>40165</td><td>52377</td><td>0.1</td><td>0.1</td></tr>\n",
       "<tr><td>2022-05-12</td><td>17324645993</td><td>5162</td><td>405041127</td><td>5581</td><td>226</td><td>27.12729568273566</td><td>0a44d623-e325-4fc...</td><td>SA</td><td>Female</td><td>Eget Metus In Cor...</td><td>tent and awning s...</td><td> 5.73</td><td> a</td><td>Yorke Peninsula -...</td><td>7621</td><td>691</td><td>681</td><td>818</td><td>2022</td><td>3409</td><td>3438</td><td>53</td><td>40165</td><td>52377</td><td>0.1</td><td>0.1</td></tr>\n",
       "<tr><td>2021-08-21</td><td>15582655078</td><td>5162</td><td>405041127</td><td>5581</td><td>226</td><td>75.31904078962366</td><td>47ddf8e0-5f72-408...</td><td>SA</td><td>Female</td><td>Eu Odio Phasellus...</td><td>gift, card, novel...</td><td> 6.77</td><td> a</td><td>Yorke Peninsula -...</td><td>7621</td><td>691</td><td>681</td><td>818</td><td>2022</td><td>3409</td><td>3438</td><td>53</td><td>40165</td><td>52377</td><td>0.1</td><td>0.1</td></tr>\n",
       "</table>\n"
      ],
      "text/plain": [
       "+--------------+------------+-------+---------+--------+-----------+------------------+--------------------+-----+------+--------------------+--------------------+---------+------------+--------------------+-----+--------+----------+-----------+----------+----+-----------+----------+-------------+-----------+----------------+----------------+\n",
       "|order_datetime|merchant_abn|user_id| sa2_code|postcode|consumer_id|      dollar_value|            order_id|state|gender|        company_name|                tags|take_rate|revenue_band|            SA2 name|Total|Under 10|Adolescent|Young adult|Middle age| Old|num_earners|median_age|median_income|mean_income|consumer_fraud_%|merchant_fraud_%|\n",
       "+--------------+------------+-------+---------+--------+-----------+------------------+--------------------+-----+------+--------------------+--------------------+---------+------------+--------------------+-----+--------+----------+-----------+----------+----+-----------+----------+-------------+-----------+----------------+----------------+\n",
       "|    2021-08-20| 69666829657|   5162|405041127|    5581|        226| 79.65159982605903|8765ef9f-dba6-407...|   SA|Female|    Sem Ut Institute|bicycle shops - s...|     2.86|           c|Yorke Peninsula -...| 7621|     691|       681|        818|      2022|3409|       3438|        53|        40165|      52377|             0.1|             0.1|\n",
       "|    2022-06-01| 50321300271|   5162|405041127|    5581|        226| 594.2915496790856|79f2842d-f8b2-4fd...|   SA|Female|    Augue Industries|bicycle shops - s...|     4.24|           b|Yorke Peninsula -...| 7621|     691|       681|        818|      2022|3409|       3438|        53|        40165|      52377|             0.1|             0.1|\n",
       "|    2021-08-20| 70610974780|   5162|405041127|    5581|        226|52.820359204536665|bdf345c8-4c5d-48e...|   SA|Female|     Elit Aliquam PC|tent and awning s...|     6.93|           a|Yorke Peninsula -...| 7621|     691|       681|        818|      2022|3409|       3438|        53|        40165|      52377|             0.1|             0.1|\n",
       "|    2022-05-12| 17324645993|   5162|405041127|    5581|        226| 27.12729568273566|0a44d623-e325-4fc...|   SA|Female|Eget Metus In Cor...|tent and awning s...|     5.73|           a|Yorke Peninsula -...| 7621|     691|       681|        818|      2022|3409|       3438|        53|        40165|      52377|             0.1|             0.1|\n",
       "|    2021-08-21| 15582655078|   5162|405041127|    5581|        226| 75.31904078962366|47ddf8e0-5f72-408...|   SA|Female|Eu Odio Phasellus...|gift, card, novel...|     6.77|           a|Yorke Peninsula -...| 7621|     691|       681|        818|      2022|3409|       3438|        53|        40165|      52377|             0.1|             0.1|\n",
       "+--------------+------------+-------+---------+--------+-----------+------------------+--------------------+-----+------+--------------------+--------------------+---------+------------+--------------------+-----+--------+----------+-----------+----------+----+-----------+----------+-------------+-----------+----------------+----------------+"
      ]
     },
     "execution_count": 13,
     "metadata": {},
     "output_type": "execute_result"
    }
   ],
   "source": [
    "finaldf.limit(5)"
   ]
  },
  {
   "cell_type": "markdown",
   "id": "6df148e0",
   "metadata": {},
   "source": [
    "## Dealing with future fraud"
   ]
  },
  {
   "cell_type": "markdown",
   "id": "2bea9402",
   "metadata": {},
   "source": [
    "2 main ways to determine fraud:\n",
    "- High number of transactions in a given day\n",
    "- High transaction amounts"
   ]
  },
  {
   "cell_type": "markdown",
   "id": "f2fffc54",
   "metadata": {},
   "source": [
    "### Merchant"
   ]
  },
  {
   "cell_type": "code",
   "execution_count": 14,
   "id": "a137a39e",
   "metadata": {},
   "outputs": [
    {
     "name": "stderr",
     "output_type": "stream",
     "text": [
      "                                                                                \r"
     ]
    },
    {
     "data": {
      "text/html": [
       "<table border='1'>\n",
       "<tr><th>merchant_abn</th><th>order_datetime</th><th>mean_amount</th><th>min_amount</th><th>max_amount</th><th>transactions</th></tr>\n",
       "<tr><td>24852446429</td><td>2021-11-26</td><td>30.46417361981634</td><td>0.4388815965837197</td><td>168.92668885555742</td><td>1916</td></tr>\n",
       "<tr><td>24852446429</td><td>2021-11-27</td><td>31.636556215187312</td><td>1.003369617502435</td><td>193.03651325623903</td><td>1783</td></tr>\n",
       "<tr><td>86578477987</td><td>2021-11-26</td><td>33.8695396597357</td><td>0.1615814452824192</td><td>163.1881979840336</td><td>1779</td></tr>\n",
       "<tr><td>24852446429</td><td>2021-11-29</td><td>30.50184795665986</td><td>0.7022808404239752</td><td>137.595051098878</td><td>1744</td></tr>\n",
       "<tr><td>49891706470</td><td>2021-11-26</td><td>28.682157995166218</td><td>3.001709666041197</td><td>54.95671169593744</td><td>1701</td></tr>\n",
       "</table>\n"
      ],
      "text/plain": [
       "+------------+--------------+------------------+------------------+------------------+------------+\n",
       "|merchant_abn|order_datetime|       mean_amount|        min_amount|        max_amount|transactions|\n",
       "+------------+--------------+------------------+------------------+------------------+------------+\n",
       "| 24852446429|    2021-11-26| 30.46417361981634|0.4388815965837197|168.92668885555742|        1916|\n",
       "| 24852446429|    2021-11-27|31.636556215187312| 1.003369617502435|193.03651325623903|        1783|\n",
       "| 86578477987|    2021-11-26|  33.8695396597357|0.1615814452824192| 163.1881979840336|        1779|\n",
       "| 24852446429|    2021-11-29| 30.50184795665986|0.7022808404239752|  137.595051098878|        1744|\n",
       "| 49891706470|    2021-11-26|28.682157995166218| 3.001709666041197| 54.95671169593744|        1701|\n",
       "+------------+--------------+------------------+------------------+------------------+------------+"
      ]
     },
     "execution_count": 14,
     "metadata": {},
     "output_type": "execute_result"
    }
   ],
   "source": [
    "# this gets the stats for each merchant for each day\n",
    "merchanttestdf = finaldf.groupBy(\"merchant_abn\",\"order_datetime\").agg(\n",
    "    mean(\"dollar_value\").alias(\"mean_amount\"),\n",
    "    min(\"dollar_value\").alias(\"min_amount\"),\n",
    "    max(\"dollar_value\").alias(\"max_amount\"),\n",
    "    count(\"dollar_value\").alias(\"transactions\"),\n",
    "    ).orderBy(desc(\"transactions\"))\n",
    "\n",
    "merchanttestdf.limit(5)"
   ]
  },
  {
   "cell_type": "code",
   "execution_count": 15,
   "id": "fd0c164e",
   "metadata": {},
   "outputs": [
    {
     "name": "stderr",
     "output_type": "stream",
     "text": [
      "                                                                                \r"
     ]
    },
    {
     "data": {
      "text/html": [
       "<table border='1'>\n",
       "<tr><th>merchant_abn</th><th>mean_amount</th><th>min_amount</th><th>max_amount</th><th>mean_transactions</th><th>min_transactions</th><th>max_transactions</th></tr>\n",
       "<tr><td>24852446429</td><td>29.994179500150423</td><td>1.0013482034321513</td><td>132.63726075232657</td><td>727.2062706270627</td><td>442</td><td>1916</td></tr>\n",
       "<tr><td>86578477987</td><td>34.97995533972651</td><td>1.1720818299391733</td><td>153.98697166956993</td><td>685.6435643564356</td><td>412</td><td>1779</td></tr>\n",
       "<tr><td>49891706470</td><td>28.94237492419655</td><td>3.1556904183096153</td><td>54.84419033696536</td><td>621.6039603960396</td><td>335</td><td>1701</td></tr>\n",
       "<tr><td>64203420245</td><td>28.95612306014824</td><td>3.14451491936713</td><td>54.85378248897557</td><td>656.2095709570957</td><td>360</td><td>1681</td></tr>\n",
       "<tr><td>46804135891</td><td>30.035261029384944</td><td>0.0972265437192253</td><td>190.93127738260756</td><td>588.4306930693069</td><td>331</td><td>1607</td></tr>\n",
       "</table>\n"
      ],
      "text/plain": [
       "+------------+------------------+------------------+------------------+-----------------+----------------+----------------+\n",
       "|merchant_abn|       mean_amount|        min_amount|        max_amount|mean_transactions|min_transactions|max_transactions|\n",
       "+------------+------------------+------------------+------------------+-----------------+----------------+----------------+\n",
       "| 24852446429|29.994179500150423|1.0013482034321513|132.63726075232657|727.2062706270627|             442|            1916|\n",
       "| 86578477987| 34.97995533972651|1.1720818299391733|153.98697166956993|685.6435643564356|             412|            1779|\n",
       "| 49891706470| 28.94237492419655|3.1556904183096153| 54.84419033696536|621.6039603960396|             335|            1701|\n",
       "| 64203420245| 28.95612306014824|  3.14451491936713| 54.85378248897557|656.2095709570957|             360|            1681|\n",
       "| 46804135891|30.035261029384944|0.0972265437192253|190.93127738260756|588.4306930693069|             331|            1607|\n",
       "+------------+------------------+------------------+------------------+-----------------+----------------+----------------+"
      ]
     },
     "execution_count": 15,
     "metadata": {},
     "output_type": "execute_result"
    }
   ],
   "source": [
    "# this gets the average stats for a merchant on any given day\n",
    "merchanttestdf = merchanttestdf.groupBy(\"merchant_abn\").agg(\n",
    "    mean(\"mean_amount\").alias(\"mean_amount\"),\n",
    "    mean(\"min_amount\").alias(\"min_amount\"),\n",
    "    mean(\"max_amount\").alias(\"max_amount\"),\n",
    "    mean(\"transactions\").alias(\"mean_transactions\"),\n",
    "    min(\"transactions\").alias(\"min_transactions\"),\n",
    "    max(\"transactions\").alias(\"max_transactions\"),\n",
    "    ).orderBy(desc(\"max_transactions\"))\n",
    "\n",
    "merchanttestdf.limit(5)"
   ]
  },
  {
   "cell_type": "markdown",
   "id": "83bef868",
   "metadata": {},
   "source": [
    "We now have a dataset that gives us all the statistics we need to determine if future merchant transactions are fraud <br>\n",
    "for the time being if a merchant has > 1.5 x max_transactions in a day it is considered fraud <br>\n",
    "if a merchant has > 1.5 x max_amount in a day it is considered fraud"
   ]
  },
  {
   "cell_type": "markdown",
   "id": "ba304c1f",
   "metadata": {},
   "source": [
    "### User"
   ]
  },
  {
   "cell_type": "code",
   "execution_count": 16,
   "id": "abe83766",
   "metadata": {},
   "outputs": [
    {
     "name": "stderr",
     "output_type": "stream",
     "text": [
      "[Stage 244:>                                                      (0 + 16) / 17]\r"
     ]
    },
    {
     "name": "stdout",
     "output_type": "stream",
     "text": [
      "22/09/19 22:17:39 WARN RowBasedKeyValueBatch: Calling spill() on RowBasedKeyValueBatch. Will not spill but return 0.\n",
      "22/09/19 22:17:39 WARN RowBasedKeyValueBatch: Calling spill() on RowBasedKeyValueBatch. Will not spill but return 0.\n",
      "22/09/19 22:17:39 WARN RowBasedKeyValueBatch: Calling spill() on RowBasedKeyValueBatch. Will not spill but return 0.\n",
      "22/09/19 22:17:39 WARN RowBasedKeyValueBatch: Calling spill() on RowBasedKeyValueBatch. Will not spill but return 0.\n",
      "22/09/19 22:17:39 WARN RowBasedKeyValueBatch: Calling spill() on RowBasedKeyValueBatch. Will not spill but return 0.\n",
      "22/09/19 22:17:39 WARN RowBasedKeyValueBatch: Calling spill() on RowBasedKeyValueBatch. Will not spill but return 0.\n",
      "22/09/19 22:17:39 WARN RowBasedKeyValueBatch: Calling spill() on RowBasedKeyValueBatch. Will not spill but return 0.\n",
      "22/09/19 22:17:39 WARN RowBasedKeyValueBatch: Calling spill() on RowBasedKeyValueBatch. Will not spill but return 0.\n",
      "22/09/19 22:17:39 WARN RowBasedKeyValueBatch: Calling spill() on RowBasedKeyValueBatch. Will not spill but return 0.\n"
     ]
    },
    {
     "name": "stderr",
     "output_type": "stream",
     "text": [
      "[Stage 253:>                                                      (0 + 16) / 17]\r"
     ]
    },
    {
     "name": "stdout",
     "output_type": "stream",
     "text": [
      "22/09/19 22:17:43 WARN RowBasedKeyValueBatch: Calling spill() on RowBasedKeyValueBatch. Will not spill but return 0.\n",
      "22/09/19 22:17:43 WARN RowBasedKeyValueBatch: Calling spill() on RowBasedKeyValueBatch. Will not spill but return 0.\n",
      "22/09/19 22:17:43 WARN RowBasedKeyValueBatch: Calling spill() on RowBasedKeyValueBatch. Will not spill but return 0.\n",
      "22/09/19 22:17:43 WARN RowBasedKeyValueBatch: Calling spill() on RowBasedKeyValueBatch. Will not spill but return 0.\n",
      "22/09/19 22:17:43 WARN RowBasedKeyValueBatch: Calling spill() on RowBasedKeyValueBatch. Will not spill but return 0.\n",
      "22/09/19 22:17:43 WARN RowBasedKeyValueBatch: Calling spill() on RowBasedKeyValueBatch. Will not spill but return 0.\n",
      "22/09/19 22:17:43 WARN RowBasedKeyValueBatch: Calling spill() on RowBasedKeyValueBatch. Will not spill but return 0.\n",
      "22/09/19 22:17:43 WARN RowBasedKeyValueBatch: Calling spill() on RowBasedKeyValueBatch. Will not spill but return 0.\n",
      "22/09/19 22:17:44 WARN RowBasedKeyValueBatch: Calling spill() on RowBasedKeyValueBatch. Will not spill but return 0.\n"
     ]
    },
    {
     "name": "stderr",
     "output_type": "stream",
     "text": [
      "                                                                                \r"
     ]
    },
    {
     "data": {
      "text/html": [
       "<table border='1'>\n",
       "<tr><th>user_id</th><th>order_datetime</th><th>mean_amount</th><th>min_amount</th><th>max_amount</th><th>transactions</th></tr>\n",
       "<tr><td>20931</td><td>2021-11-29</td><td>119.06473250477067</td><td>28.04893125562283</td><td>445.0802574763232</td><td>104</td></tr>\n",
       "<tr><td>17417</td><td>2021-11-26</td><td>72.40206052677397</td><td>4.4464593786411095</td><td>157.8166304195111</td><td>98</td></tr>\n",
       "<tr><td>6072</td><td>2021-11-22</td><td>269.3998632737218</td><td>6.712747985289963</td><td>622.847977814607</td><td>98</td></tr>\n",
       "<tr><td>17417</td><td>2021-11-29</td><td>167.94750291512926</td><td>1.6711964900188083</td><td>719.3382556816264</td><td>98</td></tr>\n",
       "<tr><td>20651</td><td>2021-11-25</td><td>62.674804005227486</td><td>13.418453836985401</td><td>125.3852608556601</td><td>98</td></tr>\n",
       "</table>\n"
      ],
      "text/plain": [
       "+-------+--------------+------------------+------------------+-----------------+------------+\n",
       "|user_id|order_datetime|       mean_amount|        min_amount|       max_amount|transactions|\n",
       "+-------+--------------+------------------+------------------+-----------------+------------+\n",
       "|  20931|    2021-11-29|119.06473250477067| 28.04893125562283|445.0802574763232|         104|\n",
       "|  17417|    2021-11-26| 72.40206052677397|4.4464593786411095|157.8166304195111|          98|\n",
       "|   6072|    2021-11-22| 269.3998632737218| 6.712747985289963| 622.847977814607|          98|\n",
       "|  17417|    2021-11-29|167.94750291512926|1.6711964900188083|719.3382556816264|          98|\n",
       "|  20651|    2021-11-25|62.674804005227486|13.418453836985401|125.3852608556601|          98|\n",
       "+-------+--------------+------------------+------------------+-----------------+------------+"
      ]
     },
     "execution_count": 16,
     "metadata": {},
     "output_type": "execute_result"
    }
   ],
   "source": [
    "# this gets the stats for each user for each day\n",
    "usertestdf = finaldf.groupBy(\"user_id\",\"order_datetime\").agg(\n",
    "    mean(\"dollar_value\").alias(\"mean_amount\"),\n",
    "    min(\"dollar_value\").alias(\"min_amount\"),\n",
    "    max(\"dollar_value\").alias(\"max_amount\"),\n",
    "    count(\"dollar_value\").alias(\"transactions\"),\n",
    "    ).orderBy(desc(\"transactions\"))\n",
    "\n",
    "usertestdf.limit(5)"
   ]
  },
  {
   "cell_type": "code",
   "execution_count": 17,
   "id": "74c08978",
   "metadata": {},
   "outputs": [
    {
     "name": "stderr",
     "output_type": "stream",
     "text": [
      "[Stage 262:>                                                      (0 + 16) / 17]\r"
     ]
    },
    {
     "name": "stdout",
     "output_type": "stream",
     "text": [
      "22/09/19 22:17:48 WARN RowBasedKeyValueBatch: Calling spill() on RowBasedKeyValueBatch. Will not spill but return 0.\n",
      "22/09/19 22:17:48 WARN RowBasedKeyValueBatch: Calling spill() on RowBasedKeyValueBatch. Will not spill but return 0.\n",
      "22/09/19 22:17:48 WARN RowBasedKeyValueBatch: Calling spill() on RowBasedKeyValueBatch. Will not spill but return 0.\n",
      "22/09/19 22:17:48 WARN RowBasedKeyValueBatch: Calling spill() on RowBasedKeyValueBatch. Will not spill but return 0.\n",
      "22/09/19 22:17:48 WARN RowBasedKeyValueBatch: Calling spill() on RowBasedKeyValueBatch. Will not spill but return 0.\n",
      "22/09/19 22:17:48 WARN RowBasedKeyValueBatch: Calling spill() on RowBasedKeyValueBatch. Will not spill but return 0.\n"
     ]
    },
    {
     "name": "stderr",
     "output_type": "stream",
     "text": [
      "[Stage 280:>                                                      (0 + 16) / 17]\r"
     ]
    },
    {
     "name": "stdout",
     "output_type": "stream",
     "text": [
      "22/09/19 22:17:54 WARN RowBasedKeyValueBatch: Calling spill() on RowBasedKeyValueBatch. Will not spill but return 0.\n",
      "22/09/19 22:17:54 WARN RowBasedKeyValueBatch: Calling spill() on RowBasedKeyValueBatch. Will not spill but return 0.\n",
      "22/09/19 22:17:54 WARN RowBasedKeyValueBatch: Calling spill() on RowBasedKeyValueBatch. Will not spill but return 0.\n",
      "22/09/19 22:17:54 WARN RowBasedKeyValueBatch: Calling spill() on RowBasedKeyValueBatch. Will not spill but return 0.\n",
      "22/09/19 22:17:54 WARN RowBasedKeyValueBatch: Calling spill() on RowBasedKeyValueBatch. Will not spill but return 0.\n",
      "22/09/19 22:17:54 WARN RowBasedKeyValueBatch: Calling spill() on RowBasedKeyValueBatch. Will not spill but return 0.\n",
      "22/09/19 22:17:54 WARN RowBasedKeyValueBatch: Calling spill() on RowBasedKeyValueBatch. Will not spill but return 0.\n",
      "22/09/19 22:17:54 WARN RowBasedKeyValueBatch: Calling spill() on RowBasedKeyValueBatch. Will not spill but return 0.\n",
      "22/09/19 22:17:54 WARN RowBasedKeyValueBatch: Calling spill() on RowBasedKeyValueBatch. Will not spill but return 0.\n"
     ]
    },
    {
     "name": "stderr",
     "output_type": "stream",
     "text": [
      "                                                                                \r"
     ]
    },
    {
     "data": {
      "text/html": [
       "<table border='1'>\n",
       "<tr><th>user_id</th><th>mean_amount</th><th>min_amount</th><th>max_amount</th><th>mean_transactions</th><th>min_transactions</th><th>max_transactions</th></tr>\n",
       "<tr><td>20931</td><td>163.86220255628083</td><td>125.76545989482213</td><td>208.98524908238096</td><td>20.107142857142858</td><td>13</td><td>104</td></tr>\n",
       "<tr><td>20651</td><td>157.1074921825416</td><td>105.06627100387666</td><td>219.10105072162514</td><td>21.0</td><td>14</td><td>98</td></tr>\n",
       "<tr><td>6072</td><td>159.56756149497772</td><td>101.95187779113559</td><td>224.5209349892101</td><td>21.899441340782122</td><td>14</td><td>98</td></tr>\n",
       "<tr><td>17417</td><td>147.8868588470973</td><td>104.75892839781038</td><td>196.83524356068264</td><td>21.517808219178082</td><td>14</td><td>98</td></tr>\n",
       "<tr><td>13545</td><td>158.1379638827785</td><td>121.45901194379616</td><td>205.68937045590945</td><td>20.06830601092896</td><td>13</td><td>91</td></tr>\n",
       "</table>\n"
      ],
      "text/plain": [
       "+-------+------------------+------------------+------------------+------------------+----------------+----------------+\n",
       "|user_id|       mean_amount|        min_amount|        max_amount| mean_transactions|min_transactions|max_transactions|\n",
       "+-------+------------------+------------------+------------------+------------------+----------------+----------------+\n",
       "|  20931|163.86220255628083|125.76545989482213|208.98524908238096|20.107142857142858|              13|             104|\n",
       "|  20651| 157.1074921825416|105.06627100387666|219.10105072162514|              21.0|              14|              98|\n",
       "|   6072|159.56756149497772|101.95187779113559| 224.5209349892101|21.899441340782122|              14|              98|\n",
       "|  17417| 147.8868588470973|104.75892839781038|196.83524356068264|21.517808219178082|              14|              98|\n",
       "|  13545| 158.1379638827785|121.45901194379616|205.68937045590945| 20.06830601092896|              13|              91|\n",
       "+-------+------------------+------------------+------------------+------------------+----------------+----------------+"
      ]
     },
     "execution_count": 17,
     "metadata": {},
     "output_type": "execute_result"
    }
   ],
   "source": [
    "# this gets the average stats for a user on any given day\n",
    "usertestdf = usertestdf.groupBy(\"user_id\").agg(\n",
    "    mean(\"mean_amount\").alias(\"mean_amount\"),\n",
    "    mean(\"min_amount\").alias(\"min_amount\"),\n",
    "    mean(\"max_amount\").alias(\"max_amount\"),\n",
    "    mean(\"transactions\").alias(\"mean_transactions\"),\n",
    "    min(\"transactions\").alias(\"min_transactions\"),\n",
    "    max(\"transactions\").alias(\"max_transactions\"),\n",
    "    ).orderBy(desc(\"max_transactions\"))\n",
    "\n",
    "usertestdf.limit(5)"
   ]
  },
  {
   "cell_type": "markdown",
   "id": "31b7d281",
   "metadata": {},
   "source": [
    "We now have a dataset that gives us all the statistics we need to determine if future user transactions are fraud <br>\n",
    "for the time being if a user has > 1.5 x max_transactions in a day it is considered fraud <br>\n",
    "if a user has > 1.5 x max_amount in a day it is considered fraud"
   ]
  },
  {
   "cell_type": "markdown",
   "id": "965188ae",
   "metadata": {},
   "source": [
    "Now remains the case where a user or merchant has little to no data to get these metrics from <br>\n",
    "We could either set our own thresholds based on logical reasoning for fraud detection<br>\n",
    "Or we could look at the distributions of existing data to determine thresholds for fraud detection"
   ]
  }
 ],
 "metadata": {
  "kernelspec": {
   "display_name": "Python 3 (ipykernel)",
   "language": "python",
   "name": "python3"
  },
  "language_info": {
   "codemirror_mode": {
    "name": "ipython",
    "version": 3
   },
   "file_extension": ".py",
   "mimetype": "text/x-python",
   "name": "python",
   "nbconvert_exporter": "python",
   "pygments_lexer": "ipython3",
   "version": "3.10.4"
  },
  "vscode": {
   "interpreter": {
    "hash": "916dbcbb3f70747c44a77c7bcd40155683ae19c65e1c03b4aa3499c5328201f1"
   }
  }
 },
 "nbformat": 4,
 "nbformat_minor": 5
}
