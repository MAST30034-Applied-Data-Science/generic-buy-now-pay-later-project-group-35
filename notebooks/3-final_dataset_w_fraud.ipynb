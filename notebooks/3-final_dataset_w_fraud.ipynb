{
 "cells": [
  {
   "cell_type": "code",
   "execution_count": 1,
   "id": "f935367d-cab0-4904-9bed-676c9eccd84b",
   "metadata": {
    "tags": []
   },
   "outputs": [
    {
     "name": "stdout",
     "output_type": "stream",
     "text": [
      "22/09/20 19:18:59 WARN Utils: Your hostname, DESKTOP-LNDD2A2 resolves to a loopback address: 127.0.1.1; using 172.20.232.118 instead (on interface eth0)\n",
      "22/09/20 19:18:59 WARN Utils: Set SPARK_LOCAL_IP if you need to bind to another address\n"
     ]
    },
    {
     "name": "stderr",
     "output_type": "stream",
     "text": [
      "Setting default log level to \"WARN\".\n",
      "To adjust logging level use sc.setLogLevel(newLevel). For SparkR, use setLogLevel(newLevel).\n"
     ]
    },
    {
     "name": "stdout",
     "output_type": "stream",
     "text": [
      "22/09/20 19:19:02 WARN NativeCodeLoader: Unable to load native-hadoop library for your platform... using builtin-java classes where applicable\n",
      "22/09/20 19:19:04 WARN Utils: Service 'SparkUI' could not bind on port 4040. Attempting port 4041.\n",
      "22/09/20 19:19:04 WARN Utils: Service 'SparkUI' could not bind on port 4041. Attempting port 4042.\n",
      "22/09/20 19:19:04 WARN Utils: Service 'SparkUI' could not bind on port 4042. Attempting port 4043.\n",
      "22/09/20 19:19:04 WARN Utils: Service 'SparkUI' could not bind on port 4043. Attempting port 4044.\n",
      "22/09/20 19:19:04 WARN Utils: Service 'SparkUI' could not bind on port 4044. Attempting port 4045.\n"
     ]
    }
   ],
   "source": [
    "from pyspark.sql import SparkSession\n",
    "from pyspark.sql.functions import * \n",
    "import matplotlib.pyplot as plt\n",
    "import pandas as pd\n",
    "import numpy as np\n",
    "from urllib.request import urlretrieve\n",
    "from owslib.wfs import WebFeatureService\n",
    "from dotenv import load_dotenv\n",
    "\n",
    "# Create a spark session\n",
    "spark = (\n",
    "    SparkSession.builder.appName(\"analysis\")\n",
    "    .config(\"spark.sql.repl.eagerEval.enabled\", True) \n",
    "    .config(\"spark.sql.parquet.cacheMetadata\", \"true\")\n",
    "    .config(\"spark.sql.session.timeZone\", \"Etc/UTC\")\n",
    "    .config(\"spark.driver.memory\", \"2g\")\n",
    "    .config(\"spark.executor.memory\", \"6g\")\n",
    "    .getOrCreate()\n",
    ")"
   ]
  },
  {
   "cell_type": "markdown",
   "id": "2fd082bb",
   "metadata": {},
   "source": [
    "## Combining datasets"
   ]
  },
  {
   "cell_type": "code",
   "execution_count": 2,
   "id": "4b7aa80d-fd13-42e9-9943-a180e7ad0864",
   "metadata": {},
   "outputs": [
    {
     "name": "stderr",
     "output_type": "stream",
     "text": [
      "                                                                                \r"
     ]
    },
    {
     "name": "stdout",
     "output_type": "stream",
     "text": [
      "13613661\n"
     ]
    },
    {
     "name": "stderr",
     "output_type": "stream",
     "text": [
      "                                                                                \r"
     ]
    },
    {
     "data": {
      "text/html": [
       "<table border='1'>\n",
       "<tr><th>merchant_abn</th><th>consumer_id</th><th>user_id</th><th>dollar_value</th><th>order_id</th><th>order_datetime</th><th>customer_name</th><th>address</th><th>state</th><th>postcode</th><th>gender</th><th>company_name</th><th>tags</th><th>take_rate</th><th>revenue_band</th></tr>\n",
       "<tr><td>94472466107</td><td>30</td><td>13842</td><td>36.094519921528466</td><td>0dc80e20-901c-410...</td><td>2021-08-20</td><td>Tamara Stewart</td><td>352 Jessica Summit</td><td>VIC</td><td>3612</td><td>Female</td><td>Eu Dolor Egestas PC</td><td>cable, satellite,...</td><td> 6.23</td><td> a</td></tr>\n",
       "<tr><td>21532935983</td><td>30</td><td>13842</td><td>71.1148505207073</td><td>5fbb2316-39b7-43b...</td><td>2021-08-21</td><td>Tamara Stewart</td><td>352 Jessica Summit</td><td>VIC</td><td>3612</td><td>Female</td><td>Eleifend Nec Inco...</td><td>cable, satellite,...</td><td> 5.58</td><td> a</td></tr>\n",
       "<tr><td>60956456424</td><td>30</td><td>13842</td><td>56.52469841268393</td><td>60bc5068-e775-4c4...</td><td>2021-08-19</td><td>Tamara Stewart</td><td>352 Jessica Summit</td><td>VIC</td><td>3612</td><td>Female</td><td>Ultricies Digniss...</td><td>gift, card, novel...</td><td> 4.69</td><td> b</td></tr>\n",
       "<tr><td>39211701585</td><td>30</td><td>13842</td><td>105.80444352294495</td><td>810594a7-c21a-4dd...</td><td>2021-08-22</td><td>Tamara Stewart</td><td>352 Jessica Summit</td><td>VIC</td><td>3612</td><td>Female</td><td>Diam Eu Dolor PC</td><td>shoe shops</td><td> 4.76</td><td> b</td></tr>\n",
       "<tr><td>27326652377</td><td>30</td><td>13842</td><td>1179.9080321368747</td><td>7ef554a5-02a8-435...</td><td>2021-08-22</td><td>Tamara Stewart</td><td>352 Jessica Summit</td><td>VIC</td><td>3612</td><td>Female</td><td>Tellus Aenean Cor...</td><td>music shops - mus...</td><td> 6.33</td><td> a</td></tr>\n",
       "</table>\n"
      ],
      "text/plain": [
       "+------------+-----------+-------+------------------+--------------------+--------------+--------------+------------------+-----+--------+------+--------------------+--------------------+---------+------------+\n",
       "|merchant_abn|consumer_id|user_id|      dollar_value|            order_id|order_datetime| customer_name|           address|state|postcode|gender|        company_name|                tags|take_rate|revenue_band|\n",
       "+------------+-----------+-------+------------------+--------------------+--------------+--------------+------------------+-----+--------+------+--------------------+--------------------+---------+------------+\n",
       "| 94472466107|         30|  13842|36.094519921528466|0dc80e20-901c-410...|    2021-08-20|Tamara Stewart|352 Jessica Summit|  VIC|    3612|Female| Eu Dolor Egestas PC|cable, satellite,...|     6.23|           a|\n",
       "| 21532935983|         30|  13842|  71.1148505207073|5fbb2316-39b7-43b...|    2021-08-21|Tamara Stewart|352 Jessica Summit|  VIC|    3612|Female|Eleifend Nec Inco...|cable, satellite,...|     5.58|           a|\n",
       "| 60956456424|         30|  13842| 56.52469841268393|60bc5068-e775-4c4...|    2021-08-19|Tamara Stewart|352 Jessica Summit|  VIC|    3612|Female|Ultricies Digniss...|gift, card, novel...|     4.69|           b|\n",
       "| 39211701585|         30|  13842|105.80444352294495|810594a7-c21a-4dd...|    2021-08-22|Tamara Stewart|352 Jessica Summit|  VIC|    3612|Female|    Diam Eu Dolor PC|          shoe shops|     4.76|           b|\n",
       "| 27326652377|         30|  13842|1179.9080321368747|7ef554a5-02a8-435...|    2021-08-22|Tamara Stewart|352 Jessica Summit|  VIC|    3612|Female|Tellus Aenean Cor...|music shops - mus...|     6.33|           a|\n",
       "+------------+-----------+-------+------------------+--------------------+--------------+--------------+------------------+-----+--------+------+--------------------+--------------------+---------+------------+"
      ]
     },
     "execution_count": 2,
     "metadata": {},
     "output_type": "execute_result"
    }
   ],
   "source": [
    "sdf = spark.read.parquet(\"../data/curated/mergedf.parquet/\")\n",
    "print(sdf.count())\n",
    "sdf.limit(5)"
   ]
  },
  {
   "cell_type": "code",
   "execution_count": 3,
   "id": "6cf7b142-3e57-4759-98ef-090be8c82850",
   "metadata": {},
   "outputs": [
    {
     "name": "stdout",
     "output_type": "stream",
     "text": [
      "5492\n"
     ]
    },
    {
     "data": {
      "text/html": [
       "<table border='1'>\n",
       "<tr><th>postcode</th><th>sa2_code</th></tr>\n",
       "<tr><td>1008</td><td>117031337</td></tr>\n",
       "<tr><td>1150</td><td>117031337</td></tr>\n",
       "<tr><td>2100</td><td>122031429</td></tr>\n",
       "<tr><td>2200</td><td>119011571</td></tr>\n",
       "<tr><td>2338</td><td>110041201</td></tr>\n",
       "</table>\n"
      ],
      "text/plain": [
       "+--------+---------+\n",
       "|postcode| sa2_code|\n",
       "+--------+---------+\n",
       "|    1008|117031337|\n",
       "|    1150|117031337|\n",
       "|    2100|122031429|\n",
       "|    2200|119011571|\n",
       "|    2338|110041201|\n",
       "+--------+---------+"
      ]
     },
     "execution_count": 3,
     "metadata": {},
     "output_type": "execute_result"
    }
   ],
   "source": [
    "postcodedf = spark.read.parquet(\"../data/curated/postcodedf.parquet/\")\n",
    "print(postcodedf.count())\n",
    "postcodedf.limit(5)"
   ]
  },
  {
   "cell_type": "code",
   "execution_count": 4,
   "id": "e0e26993",
   "metadata": {},
   "outputs": [
    {
     "name": "stdout",
     "output_type": "stream",
     "text": [
      "2450\n"
     ]
    },
    {
     "data": {
      "text/html": [
       "<table border='1'>\n",
       "<tr><th>State/Terr</th><th>sa2_code</th><th>SA2 name</th><th>Total</th><th>Under 10</th><th>Adolescent</th><th>Young adult</th><th>Middle age</th><th>Old</th></tr>\n",
       "<tr><td>New South Wales</td><td>101021007</td><td>Braidwood</td><td>4330</td><td>473</td><td>403</td><td>495</td><td>1472</td><td>1487</td></tr>\n",
       "<tr><td>New South Wales</td><td>101021008</td><td>Karabar</td><td>8546</td><td>1082</td><td>1075</td><td>1818</td><td>2858</td><td>1713</td></tr>\n",
       "<tr><td>New South Wales</td><td>101021009</td><td>Queanbeyan</td><td>11370</td><td>1275</td><td>916</td><td>3129</td><td>3681</td><td>2369</td></tr>\n",
       "<tr><td>New South Wales</td><td>101021010</td><td>Queanbeyan - East</td><td>5093</td><td>588</td><td>406</td><td>1460</td><td>1718</td><td>921</td></tr>\n",
       "<tr><td>New South Wales</td><td>101021012</td><td>Queanbeyan West -...</td><td>12743</td><td>1796</td><td>1910</td><td>2266</td><td>4933</td><td>1838</td></tr>\n",
       "</table>\n"
      ],
      "text/plain": [
       "+---------------+---------+--------------------+-----+--------+----------+-----------+----------+----+\n",
       "|     State/Terr| sa2_code|            SA2 name|Total|Under 10|Adolescent|Young adult|Middle age| Old|\n",
       "+---------------+---------+--------------------+-----+--------+----------+-----------+----------+----+\n",
       "|New South Wales|101021007|           Braidwood| 4330|     473|       403|        495|      1472|1487|\n",
       "|New South Wales|101021008|             Karabar| 8546|    1082|      1075|       1818|      2858|1713|\n",
       "|New South Wales|101021009|          Queanbeyan|11370|    1275|       916|       3129|      3681|2369|\n",
       "|New South Wales|101021010|   Queanbeyan - East| 5093|     588|       406|       1460|      1718| 921|\n",
       "|New South Wales|101021012|Queanbeyan West -...|12743|    1796|      1910|       2266|      4933|1838|\n",
       "+---------------+---------+--------------------+-----+--------+----------+-----------+----------+----+"
      ]
     },
     "execution_count": 4,
     "metadata": {},
     "output_type": "execute_result"
    }
   ],
   "source": [
    "pop_sdf = spark.read.parquet(\"../data/curated/pop_sdf.parquet/\")\n",
    "print(pop_sdf.count())\n",
    "populationdf = pop_sdf.withColumnRenamed(\"SA2 code\",\"sa2_code\")\n",
    "populationdf.limit(5)"
   ]
  },
  {
   "cell_type": "code",
   "execution_count": 5,
   "id": "4323a320",
   "metadata": {},
   "outputs": [
    {
     "name": "stdout",
     "output_type": "stream",
     "text": [
      "2239\n"
     ]
    },
    {
     "data": {
      "text/html": [
       "<table border='1'>\n",
       "<tr><th>sa2_code</th><th>num_earners</th><th>median_age</th><th>median_income</th><th>mean_income</th></tr>\n",
       "<tr><td>206041126</td><td>14398</td><td>32</td><td>51696</td><td>73634</td></tr>\n",
       "<tr><td>203021046</td><td>6701</td><td>45</td><td>57818</td><td>83648</td></tr>\n",
       "<tr><td>202011020</td><td>7944</td><td>47</td><td>46635</td><td>57894</td></tr>\n",
       "<tr><td>208031187</td><td>3158</td><td>43</td><td>52094</td><td>58104</td></tr>\n",
       "<tr><td>203021047</td><td>8152</td><td>42</td><td>47651</td><td>56636</td></tr>\n",
       "</table>\n"
      ],
      "text/plain": [
       "+---------+-----------+----------+-------------+-----------+\n",
       "| sa2_code|num_earners|median_age|median_income|mean_income|\n",
       "+---------+-----------+----------+-------------+-----------+\n",
       "|206041126|      14398|        32|        51696|      73634|\n",
       "|203021046|       6701|        45|        57818|      83648|\n",
       "|202011020|       7944|        47|        46635|      57894|\n",
       "|208031187|       3158|        43|        52094|      58104|\n",
       "|203021047|       8152|        42|        47651|      56636|\n",
       "+---------+-----------+----------+-------------+-----------+"
      ]
     },
     "execution_count": 5,
     "metadata": {},
     "output_type": "execute_result"
    }
   ],
   "source": [
    "incomedf = spark.read.parquet(\"../data/curated/incomedf.parquet/\")\n",
    "print(incomedf.count())\n",
    "incomedf.limit(5)"
   ]
  },
  {
   "cell_type": "code",
   "execution_count": 6,
   "id": "03608c0f",
   "metadata": {},
   "outputs": [
    {
     "name": "stdout",
     "output_type": "stream",
     "text": [
      "34765\n"
     ]
    },
    {
     "data": {
      "text/html": [
       "<table border='1'>\n",
       "<tr><th>user_id</th><th>order_datetime</th><th>consumer_fraud_%</th></tr>\n",
       "<tr><td>3753</td><td>2022-02-16</td><td>48.85325253622543</td></tr>\n",
       "<tr><td>9646</td><td>2021-09-23</td><td>47.83931206340956</td></tr>\n",
       "<tr><td>243</td><td>2021-09-02</td><td>50.88971939168309</td></tr>\n",
       "<tr><td>3907</td><td>2021-10-07</td><td>38.58123424858352</td></tr>\n",
       "<tr><td>14864</td><td>2021-11-29</td><td>27.072321329372105</td></tr>\n",
       "</table>\n"
      ],
      "text/plain": [
       "+-------+--------------+------------------+\n",
       "|user_id|order_datetime|  consumer_fraud_%|\n",
       "+-------+--------------+------------------+\n",
       "|   3753|    2022-02-16| 48.85325253622543|\n",
       "|   9646|    2021-09-23| 47.83931206340956|\n",
       "|    243|    2021-09-02| 50.88971939168309|\n",
       "|   3907|    2021-10-07| 38.58123424858352|\n",
       "|  14864|    2021-11-29|27.072321329372105|\n",
       "+-------+--------------+------------------+"
      ]
     },
     "execution_count": 6,
     "metadata": {},
     "output_type": "execute_result"
    }
   ],
   "source": [
    "consumerfrauddf = spark.read.parquet(\"../data/curated/consumerfrauddf.parquet/\")\n",
    "print(consumerfrauddf.count())\n",
    "consumerfrauddf = consumerfrauddf.withColumnRenamed(\"fraud_probability\",\"consumer_fraud_%\")\n",
    "consumerfrauddf.limit(5)"
   ]
  },
  {
   "cell_type": "code",
   "execution_count": 7,
   "id": "e2979bac",
   "metadata": {},
   "outputs": [
    {
     "name": "stdout",
     "output_type": "stream",
     "text": [
      "114\n"
     ]
    },
    {
     "data": {
      "text/html": [
       "<table border='1'>\n",
       "<tr><th>merchant_abn</th><th>order_datetime</th><th>merchant_fraud_%</th></tr>\n",
       "<tr><td>19492220327</td><td>2021-11-28</td><td>44.403658647495355</td></tr>\n",
       "<tr><td>31334588839</td><td>2021-10-02</td><td>42.75530083865367</td></tr>\n",
       "<tr><td>19492220327</td><td>2021-12-22</td><td>38.867790051131095</td></tr>\n",
       "<tr><td>82999039227</td><td>2021-12-19</td><td>94.1347004808891</td></tr>\n",
       "<tr><td>90918180829</td><td>2021-09-02</td><td>43.32551731714902</td></tr>\n",
       "</table>\n"
      ],
      "text/plain": [
       "+------------+--------------+------------------+\n",
       "|merchant_abn|order_datetime|  merchant_fraud_%|\n",
       "+------------+--------------+------------------+\n",
       "| 19492220327|    2021-11-28|44.403658647495355|\n",
       "| 31334588839|    2021-10-02| 42.75530083865367|\n",
       "| 19492220327|    2021-12-22|38.867790051131095|\n",
       "| 82999039227|    2021-12-19|  94.1347004808891|\n",
       "| 90918180829|    2021-09-02| 43.32551731714902|\n",
       "+------------+--------------+------------------+"
      ]
     },
     "execution_count": 7,
     "metadata": {},
     "output_type": "execute_result"
    }
   ],
   "source": [
    "merchantfrauddf = spark.read.parquet(\"../data/curated/merchantfrauddf.parquet/\")\n",
    "print(merchantfrauddf.count())\n",
    "merchantfrauddf = merchantfrauddf.withColumnRenamed(\"fraud_probability\",\"merchant_fraud_%\")\n",
    "merchantfrauddf.limit(5)"
   ]
  },
  {
   "cell_type": "markdown",
   "id": "e8cfabb9",
   "metadata": {},
   "source": [
    "External dataset joins"
   ]
  },
  {
   "cell_type": "code",
   "execution_count": 8,
   "id": "6768363a",
   "metadata": {},
   "outputs": [
    {
     "name": "stdout",
     "output_type": "stream",
     "text": [
      "13613661\n"
     ]
    },
    {
     "name": "stderr",
     "output_type": "stream",
     "text": [
      "                                                                                \r"
     ]
    },
    {
     "name": "stdout",
     "output_type": "stream",
     "text": [
      "23251565\n"
     ]
    },
    {
     "name": "stderr",
     "output_type": "stream",
     "text": [
      "                                                                                \r"
     ]
    },
    {
     "name": "stdout",
     "output_type": "stream",
     "text": [
      "20950595\n"
     ]
    },
    {
     "name": "stderr",
     "output_type": "stream",
     "text": [
      "                                                                                \r"
     ]
    },
    {
     "name": "stdout",
     "output_type": "stream",
     "text": [
      "20773062\n",
      "22/09/20 19:20:35 WARN package: Truncated the string representation of a plan since it was too large. This behavior can be adjusted by setting 'spark.sql.debug.maxToStringFields'.\n"
     ]
    },
    {
     "name": "stderr",
     "output_type": "stream",
     "text": [
      "                                                                                \r"
     ]
    },
    {
     "data": {
      "text/html": [
       "<table border='1'>\n",
       "<tr><th>sa2_code</th><th>postcode</th><th>merchant_abn</th><th>consumer_id</th><th>user_id</th><th>dollar_value</th><th>order_id</th><th>order_datetime</th><th>customer_name</th><th>address</th><th>state</th><th>gender</th><th>company_name</th><th>tags</th><th>take_rate</th><th>revenue_band</th><th>State/Terr</th><th>SA2 name</th><th>Total</th><th>Under 10</th><th>Adolescent</th><th>Young adult</th><th>Middle age</th><th>Old</th><th>num_earners</th><th>median_age</th><th>median_income</th><th>mean_income</th></tr>\n",
       "<tr><td>216011410</td><td>3612</td><td>94472466107</td><td>30</td><td>13842</td><td>36.094519921528466</td><td>0dc80e20-901c-410...</td><td>2021-08-20</td><td>Tamara Stewart</td><td>352 Jessica Summit</td><td>VIC</td><td>Female</td><td>Eu Dolor Egestas PC</td><td>cable, satellite,...</td><td> 6.23</td><td> a</td><td>Victoria</td><td>Rushworth</td><td>4166</td><td>416</td><td>418</td><td>531</td><td>1300</td><td>1501</td><td>2060</td><td>50</td><td>38359</td><td>45788</td></tr>\n",
       "<tr><td>204011058</td><td>3612</td><td>94472466107</td><td>30</td><td>13842</td><td>36.094519921528466</td><td>0dc80e20-901c-410...</td><td>2021-08-20</td><td>Tamara Stewart</td><td>352 Jessica Summit</td><td>VIC</td><td>Female</td><td>Eu Dolor Egestas PC</td><td>cable, satellite,...</td><td> 6.23</td><td> a</td><td>Victoria</td><td>Nagambie</td><td>4507</td><td>441</td><td>443</td><td>570</td><td>1371</td><td>1682</td><td>2360</td><td>49</td><td>45235</td><td>53483</td></tr>\n",
       "<tr><td>216011410</td><td>3612</td><td>21532935983</td><td>30</td><td>13842</td><td>71.1148505207073</td><td>5fbb2316-39b7-43b...</td><td>2021-08-21</td><td>Tamara Stewart</td><td>352 Jessica Summit</td><td>VIC</td><td>Female</td><td>Eleifend Nec Inco...</td><td>cable, satellite,...</td><td> 5.58</td><td> a</td><td>Victoria</td><td>Rushworth</td><td>4166</td><td>416</td><td>418</td><td>531</td><td>1300</td><td>1501</td><td>2060</td><td>50</td><td>38359</td><td>45788</td></tr>\n",
       "<tr><td>204011058</td><td>3612</td><td>21532935983</td><td>30</td><td>13842</td><td>71.1148505207073</td><td>5fbb2316-39b7-43b...</td><td>2021-08-21</td><td>Tamara Stewart</td><td>352 Jessica Summit</td><td>VIC</td><td>Female</td><td>Eleifend Nec Inco...</td><td>cable, satellite,...</td><td> 5.58</td><td> a</td><td>Victoria</td><td>Nagambie</td><td>4507</td><td>441</td><td>443</td><td>570</td><td>1371</td><td>1682</td><td>2360</td><td>49</td><td>45235</td><td>53483</td></tr>\n",
       "<tr><td>216011410</td><td>3612</td><td>60956456424</td><td>30</td><td>13842</td><td>56.52469841268393</td><td>60bc5068-e775-4c4...</td><td>2021-08-19</td><td>Tamara Stewart</td><td>352 Jessica Summit</td><td>VIC</td><td>Female</td><td>Ultricies Digniss...</td><td>gift, card, novel...</td><td> 4.69</td><td> b</td><td>Victoria</td><td>Rushworth</td><td>4166</td><td>416</td><td>418</td><td>531</td><td>1300</td><td>1501</td><td>2060</td><td>50</td><td>38359</td><td>45788</td></tr>\n",
       "</table>\n"
      ],
      "text/plain": [
       "+---------+--------+------------+-----------+-------+------------------+--------------------+--------------+--------------+------------------+-----+------+--------------------+--------------------+---------+------------+----------+---------+-----+--------+----------+-----------+----------+----+-----------+----------+-------------+-----------+\n",
       "| sa2_code|postcode|merchant_abn|consumer_id|user_id|      dollar_value|            order_id|order_datetime| customer_name|           address|state|gender|        company_name|                tags|take_rate|revenue_band|State/Terr| SA2 name|Total|Under 10|Adolescent|Young adult|Middle age| Old|num_earners|median_age|median_income|mean_income|\n",
       "+---------+--------+------------+-----------+-------+------------------+--------------------+--------------+--------------+------------------+-----+------+--------------------+--------------------+---------+------------+----------+---------+-----+--------+----------+-----------+----------+----+-----------+----------+-------------+-----------+\n",
       "|216011410|    3612| 94472466107|         30|  13842|36.094519921528466|0dc80e20-901c-410...|    2021-08-20|Tamara Stewart|352 Jessica Summit|  VIC|Female| Eu Dolor Egestas PC|cable, satellite,...|     6.23|           a|  Victoria|Rushworth| 4166|     416|       418|        531|      1300|1501|       2060|        50|        38359|      45788|\n",
       "|204011058|    3612| 94472466107|         30|  13842|36.094519921528466|0dc80e20-901c-410...|    2021-08-20|Tamara Stewart|352 Jessica Summit|  VIC|Female| Eu Dolor Egestas PC|cable, satellite,...|     6.23|           a|  Victoria| Nagambie| 4507|     441|       443|        570|      1371|1682|       2360|        49|        45235|      53483|\n",
       "|216011410|    3612| 21532935983|         30|  13842|  71.1148505207073|5fbb2316-39b7-43b...|    2021-08-21|Tamara Stewart|352 Jessica Summit|  VIC|Female|Eleifend Nec Inco...|cable, satellite,...|     5.58|           a|  Victoria|Rushworth| 4166|     416|       418|        531|      1300|1501|       2060|        50|        38359|      45788|\n",
       "|204011058|    3612| 21532935983|         30|  13842|  71.1148505207073|5fbb2316-39b7-43b...|    2021-08-21|Tamara Stewart|352 Jessica Summit|  VIC|Female|Eleifend Nec Inco...|cable, satellite,...|     5.58|           a|  Victoria| Nagambie| 4507|     441|       443|        570|      1371|1682|       2360|        49|        45235|      53483|\n",
       "|216011410|    3612| 60956456424|         30|  13842| 56.52469841268393|60bc5068-e775-4c4...|    2021-08-19|Tamara Stewart|352 Jessica Summit|  VIC|Female|Ultricies Digniss...|gift, card, novel...|     4.69|           b|  Victoria|Rushworth| 4166|     416|       418|        531|      1300|1501|       2060|        50|        38359|      45788|\n",
       "+---------+--------+------------+-----------+-------+------------------+--------------------+--------------+--------------+------------------+-----+------+--------------------+--------------------+---------+------------+----------+---------+-----+--------+----------+-----------+----------+----+-----------+----------+-------------+-----------+"
      ]
     },
     "execution_count": 8,
     "metadata": {},
     "output_type": "execute_result"
    }
   ],
   "source": [
    "print(sdf.count())\n",
    "finaldf = sdf.join(postcodedf, \"postcode\")\n",
    "print(finaldf.count())\n",
    "finaldf = finaldf.join(populationdf, \"sa2_code\")\n",
    "print(finaldf.count())\n",
    "finaldf = finaldf.join(incomedf, \"sa2_code\")\n",
    "print(finaldf.count())\n",
    "finaldf.limit(5)"
   ]
  },
  {
   "cell_type": "markdown",
   "id": "41211903",
   "metadata": {},
   "source": [
    "Fraud joins"
   ]
  },
  {
   "cell_type": "code",
   "execution_count": 9,
   "id": "8f377cf1",
   "metadata": {},
   "outputs": [
    {
     "name": "stderr",
     "output_type": "stream",
     "text": [
      "                                                                                \r"
     ]
    },
    {
     "name": "stdout",
     "output_type": "stream",
     "text": [
      "20773062\n"
     ]
    },
    {
     "name": "stderr",
     "output_type": "stream",
     "text": [
      "                                                                                \r"
     ]
    },
    {
     "name": "stdout",
     "output_type": "stream",
     "text": [
      "20773062\n"
     ]
    },
    {
     "name": "stderr",
     "output_type": "stream",
     "text": [
      "                                                                                \r"
     ]
    },
    {
     "name": "stdout",
     "output_type": "stream",
     "text": [
      "20773062\n"
     ]
    },
    {
     "name": "stderr",
     "output_type": "stream",
     "text": [
      "                                                                                \r"
     ]
    },
    {
     "data": {
      "text/html": [
       "<table border='1'>\n",
       "<tr><th>order_datetime</th><th>merchant_abn</th><th>user_id</th><th>sa2_code</th><th>postcode</th><th>consumer_id</th><th>dollar_value</th><th>order_id</th><th>customer_name</th><th>address</th><th>state</th><th>gender</th><th>company_name</th><th>tags</th><th>take_rate</th><th>revenue_band</th><th>State/Terr</th><th>SA2 name</th><th>Total</th><th>Under 10</th><th>Adolescent</th><th>Young adult</th><th>Middle age</th><th>Old</th><th>num_earners</th><th>median_age</th><th>median_income</th><th>mean_income</th><th>consumer_fraud_%</th><th>merchant_fraud_%</th></tr>\n",
       "<tr><td>2021-08-20</td><td>94472466107</td><td>13842</td><td>216011410</td><td>3612</td><td>30</td><td>36.094519921528466</td><td>0dc80e20-901c-410...</td><td>Tamara Stewart</td><td>352 Jessica Summit</td><td>VIC</td><td>Female</td><td>Eu Dolor Egestas PC</td><td>cable, satellite,...</td><td> 6.23</td><td> a</td><td>Victoria</td><td>Rushworth</td><td>4166</td><td>416</td><td>418</td><td>531</td><td>1300</td><td>1501</td><td>2060</td><td>50</td><td>38359</td><td>45788</td><td>null</td><td>null</td></tr>\n",
       "<tr><td>2021-08-20</td><td>94472466107</td><td>13842</td><td>204011058</td><td>3612</td><td>30</td><td>36.094519921528466</td><td>0dc80e20-901c-410...</td><td>Tamara Stewart</td><td>352 Jessica Summit</td><td>VIC</td><td>Female</td><td>Eu Dolor Egestas PC</td><td>cable, satellite,...</td><td> 6.23</td><td> a</td><td>Victoria</td><td>Nagambie</td><td>4507</td><td>441</td><td>443</td><td>570</td><td>1371</td><td>1682</td><td>2360</td><td>49</td><td>45235</td><td>53483</td><td>null</td><td>null</td></tr>\n",
       "<tr><td>2021-08-21</td><td>21532935983</td><td>13842</td><td>216011410</td><td>3612</td><td>30</td><td>71.1148505207073</td><td>5fbb2316-39b7-43b...</td><td>Tamara Stewart</td><td>352 Jessica Summit</td><td>VIC</td><td>Female</td><td>Eleifend Nec Inco...</td><td>cable, satellite,...</td><td> 5.58</td><td> a</td><td>Victoria</td><td>Rushworth</td><td>4166</td><td>416</td><td>418</td><td>531</td><td>1300</td><td>1501</td><td>2060</td><td>50</td><td>38359</td><td>45788</td><td>null</td><td>null</td></tr>\n",
       "<tr><td>2021-08-21</td><td>21532935983</td><td>13842</td><td>204011058</td><td>3612</td><td>30</td><td>71.1148505207073</td><td>5fbb2316-39b7-43b...</td><td>Tamara Stewart</td><td>352 Jessica Summit</td><td>VIC</td><td>Female</td><td>Eleifend Nec Inco...</td><td>cable, satellite,...</td><td> 5.58</td><td> a</td><td>Victoria</td><td>Nagambie</td><td>4507</td><td>441</td><td>443</td><td>570</td><td>1371</td><td>1682</td><td>2360</td><td>49</td><td>45235</td><td>53483</td><td>null</td><td>null</td></tr>\n",
       "<tr><td>2021-08-19</td><td>60956456424</td><td>13842</td><td>216011410</td><td>3612</td><td>30</td><td>56.52469841268393</td><td>60bc5068-e775-4c4...</td><td>Tamara Stewart</td><td>352 Jessica Summit</td><td>VIC</td><td>Female</td><td>Ultricies Digniss...</td><td>gift, card, novel...</td><td> 4.69</td><td> b</td><td>Victoria</td><td>Rushworth</td><td>4166</td><td>416</td><td>418</td><td>531</td><td>1300</td><td>1501</td><td>2060</td><td>50</td><td>38359</td><td>45788</td><td>null</td><td>null</td></tr>\n",
       "</table>\n"
      ],
      "text/plain": [
       "+--------------+------------+-------+---------+--------+-----------+------------------+--------------------+--------------+------------------+-----+------+--------------------+--------------------+---------+------------+----------+---------+-----+--------+----------+-----------+----------+----+-----------+----------+-------------+-----------+----------------+----------------+\n",
       "|order_datetime|merchant_abn|user_id| sa2_code|postcode|consumer_id|      dollar_value|            order_id| customer_name|           address|state|gender|        company_name|                tags|take_rate|revenue_band|State/Terr| SA2 name|Total|Under 10|Adolescent|Young adult|Middle age| Old|num_earners|median_age|median_income|mean_income|consumer_fraud_%|merchant_fraud_%|\n",
       "+--------------+------------+-------+---------+--------+-----------+------------------+--------------------+--------------+------------------+-----+------+--------------------+--------------------+---------+------------+----------+---------+-----+--------+----------+-----------+----------+----+-----------+----------+-------------+-----------+----------------+----------------+\n",
       "|    2021-08-20| 94472466107|  13842|216011410|    3612|         30|36.094519921528466|0dc80e20-901c-410...|Tamara Stewart|352 Jessica Summit|  VIC|Female| Eu Dolor Egestas PC|cable, satellite,...|     6.23|           a|  Victoria|Rushworth| 4166|     416|       418|        531|      1300|1501|       2060|        50|        38359|      45788|            null|            null|\n",
       "|    2021-08-20| 94472466107|  13842|204011058|    3612|         30|36.094519921528466|0dc80e20-901c-410...|Tamara Stewart|352 Jessica Summit|  VIC|Female| Eu Dolor Egestas PC|cable, satellite,...|     6.23|           a|  Victoria| Nagambie| 4507|     441|       443|        570|      1371|1682|       2360|        49|        45235|      53483|            null|            null|\n",
       "|    2021-08-21| 21532935983|  13842|216011410|    3612|         30|  71.1148505207073|5fbb2316-39b7-43b...|Tamara Stewart|352 Jessica Summit|  VIC|Female|Eleifend Nec Inco...|cable, satellite,...|     5.58|           a|  Victoria|Rushworth| 4166|     416|       418|        531|      1300|1501|       2060|        50|        38359|      45788|            null|            null|\n",
       "|    2021-08-21| 21532935983|  13842|204011058|    3612|         30|  71.1148505207073|5fbb2316-39b7-43b...|Tamara Stewart|352 Jessica Summit|  VIC|Female|Eleifend Nec Inco...|cable, satellite,...|     5.58|           a|  Victoria| Nagambie| 4507|     441|       443|        570|      1371|1682|       2360|        49|        45235|      53483|            null|            null|\n",
       "|    2021-08-19| 60956456424|  13842|216011410|    3612|         30| 56.52469841268393|60bc5068-e775-4c4...|Tamara Stewart|352 Jessica Summit|  VIC|Female|Ultricies Digniss...|gift, card, novel...|     4.69|           b|  Victoria|Rushworth| 4166|     416|       418|        531|      1300|1501|       2060|        50|        38359|      45788|            null|            null|\n",
       "+--------------+------------+-------+---------+--------+-----------+------------------+--------------------+--------------+------------------+-----+------+--------------------+--------------------+---------+------------+----------+---------+-----+--------+----------+-----------+----------+----+-----------+----------+-------------+-----------+----------------+----------------+"
      ]
     },
     "execution_count": 9,
     "metadata": {},
     "output_type": "execute_result"
    }
   ],
   "source": [
    "print(finaldf.count())\n",
    "finaldf = finaldf.join(consumerfrauddf, [\"order_datetime\", \"user_id\"], \"leftouter\")\n",
    "print(finaldf.count())\n",
    "finaldf = finaldf.join(merchantfrauddf, [\"order_datetime\", \"merchant_abn\"], \"leftouter\")\n",
    "print(finaldf.count())\n",
    "finaldf.limit(5)"
   ]
  },
  {
   "cell_type": "code",
   "execution_count": 10,
   "id": "04e2beb7",
   "metadata": {},
   "outputs": [
    {
     "name": "stderr",
     "output_type": "stream",
     "text": [
      "                                                                                \r"
     ]
    },
    {
     "data": {
      "text/html": [
       "<table border='1'>\n",
       "<tr><th>order_datetime</th><th>merchant_abn</th><th>user_id</th><th>sa2_code</th><th>postcode</th><th>consumer_id</th><th>dollar_value</th><th>order_id</th><th>state</th><th>gender</th><th>company_name</th><th>tags</th><th>take_rate</th><th>revenue_band</th><th>SA2 name</th><th>Total</th><th>Under 10</th><th>Adolescent</th><th>Young adult</th><th>Middle age</th><th>Old</th><th>num_earners</th><th>median_age</th><th>median_income</th><th>mean_income</th><th>consumer_fraud_%</th><th>merchant_fraud_%</th></tr>\n",
       "<tr><td>2021-08-20</td><td>94472466107</td><td>13842</td><td>216011410</td><td>3612</td><td>30</td><td>36.094519921528466</td><td>0dc80e20-901c-410...</td><td>VIC</td><td>Female</td><td>Eu Dolor Egestas PC</td><td>cable, satellite,...</td><td> 6.23</td><td> a</td><td>Rushworth</td><td>4166</td><td>416</td><td>418</td><td>531</td><td>1300</td><td>1501</td><td>2060</td><td>50</td><td>38359</td><td>45788</td><td>0.1</td><td>0.1</td></tr>\n",
       "<tr><td>2021-08-20</td><td>94472466107</td><td>13842</td><td>204011058</td><td>3612</td><td>30</td><td>36.094519921528466</td><td>0dc80e20-901c-410...</td><td>VIC</td><td>Female</td><td>Eu Dolor Egestas PC</td><td>cable, satellite,...</td><td> 6.23</td><td> a</td><td>Nagambie</td><td>4507</td><td>441</td><td>443</td><td>570</td><td>1371</td><td>1682</td><td>2360</td><td>49</td><td>45235</td><td>53483</td><td>0.1</td><td>0.1</td></tr>\n",
       "<tr><td>2021-08-21</td><td>21532935983</td><td>13842</td><td>216011410</td><td>3612</td><td>30</td><td>71.1148505207073</td><td>5fbb2316-39b7-43b...</td><td>VIC</td><td>Female</td><td>Eleifend Nec Inco...</td><td>cable, satellite,...</td><td> 5.58</td><td> a</td><td>Rushworth</td><td>4166</td><td>416</td><td>418</td><td>531</td><td>1300</td><td>1501</td><td>2060</td><td>50</td><td>38359</td><td>45788</td><td>0.1</td><td>0.1</td></tr>\n",
       "<tr><td>2021-08-21</td><td>21532935983</td><td>13842</td><td>204011058</td><td>3612</td><td>30</td><td>71.1148505207073</td><td>5fbb2316-39b7-43b...</td><td>VIC</td><td>Female</td><td>Eleifend Nec Inco...</td><td>cable, satellite,...</td><td> 5.58</td><td> a</td><td>Nagambie</td><td>4507</td><td>441</td><td>443</td><td>570</td><td>1371</td><td>1682</td><td>2360</td><td>49</td><td>45235</td><td>53483</td><td>0.1</td><td>0.1</td></tr>\n",
       "<tr><td>2021-08-19</td><td>60956456424</td><td>13842</td><td>216011410</td><td>3612</td><td>30</td><td>56.52469841268393</td><td>60bc5068-e775-4c4...</td><td>VIC</td><td>Female</td><td>Ultricies Digniss...</td><td>gift, card, novel...</td><td> 4.69</td><td> b</td><td>Rushworth</td><td>4166</td><td>416</td><td>418</td><td>531</td><td>1300</td><td>1501</td><td>2060</td><td>50</td><td>38359</td><td>45788</td><td>0.1</td><td>0.1</td></tr>\n",
       "</table>\n"
      ],
      "text/plain": [
       "+--------------+------------+-------+---------+--------+-----------+------------------+--------------------+-----+------+--------------------+--------------------+---------+------------+---------+-----+--------+----------+-----------+----------+----+-----------+----------+-------------+-----------+----------------+----------------+\n",
       "|order_datetime|merchant_abn|user_id| sa2_code|postcode|consumer_id|      dollar_value|            order_id|state|gender|        company_name|                tags|take_rate|revenue_band| SA2 name|Total|Under 10|Adolescent|Young adult|Middle age| Old|num_earners|median_age|median_income|mean_income|consumer_fraud_%|merchant_fraud_%|\n",
       "+--------------+------------+-------+---------+--------+-----------+------------------+--------------------+-----+------+--------------------+--------------------+---------+------------+---------+-----+--------+----------+-----------+----------+----+-----------+----------+-------------+-----------+----------------+----------------+\n",
       "|    2021-08-20| 94472466107|  13842|216011410|    3612|         30|36.094519921528466|0dc80e20-901c-410...|  VIC|Female| Eu Dolor Egestas PC|cable, satellite,...|     6.23|           a|Rushworth| 4166|     416|       418|        531|      1300|1501|       2060|        50|        38359|      45788|             0.1|             0.1|\n",
       "|    2021-08-20| 94472466107|  13842|204011058|    3612|         30|36.094519921528466|0dc80e20-901c-410...|  VIC|Female| Eu Dolor Egestas PC|cable, satellite,...|     6.23|           a| Nagambie| 4507|     441|       443|        570|      1371|1682|       2360|        49|        45235|      53483|             0.1|             0.1|\n",
       "|    2021-08-21| 21532935983|  13842|216011410|    3612|         30|  71.1148505207073|5fbb2316-39b7-43b...|  VIC|Female|Eleifend Nec Inco...|cable, satellite,...|     5.58|           a|Rushworth| 4166|     416|       418|        531|      1300|1501|       2060|        50|        38359|      45788|             0.1|             0.1|\n",
       "|    2021-08-21| 21532935983|  13842|204011058|    3612|         30|  71.1148505207073|5fbb2316-39b7-43b...|  VIC|Female|Eleifend Nec Inco...|cable, satellite,...|     5.58|           a| Nagambie| 4507|     441|       443|        570|      1371|1682|       2360|        49|        45235|      53483|             0.1|             0.1|\n",
       "|    2021-08-19| 60956456424|  13842|216011410|    3612|         30| 56.52469841268393|60bc5068-e775-4c4...|  VIC|Female|Ultricies Digniss...|gift, card, novel...|     4.69|           b|Rushworth| 4166|     416|       418|        531|      1300|1501|       2060|        50|        38359|      45788|             0.1|             0.1|\n",
       "+--------------+------------+-------+---------+--------+-----------+------------------+--------------------+-----+------+--------------------+--------------------+---------+------------+---------+-----+--------+----------+-----------+----------+----+-----------+----------+-------------+-----------+----------------+----------------+"
      ]
     },
     "execution_count": 10,
     "metadata": {},
     "output_type": "execute_result"
    }
   ],
   "source": [
    "finaldf = finaldf.drop(\"customer_name\",\"address\",\"State/Terr\")\n",
    "finaldf = finaldf.na.fill(0.1)\n",
    "finaldf.limit(5)"
   ]
  },
  {
   "cell_type": "markdown",
   "id": "b0b43c9d",
   "metadata": {},
   "source": [
    "## Dealing with current fraud data"
   ]
  },
  {
   "cell_type": "code",
   "execution_count": 11,
   "id": "d612637b",
   "metadata": {},
   "outputs": [
    {
     "name": "stderr",
     "output_type": "stream",
     "text": [
      "                                                                                \r"
     ]
    },
    {
     "name": "stdout",
     "output_type": "stream",
     "text": [
      "20773062\n"
     ]
    },
    {
     "name": "stderr",
     "output_type": "stream",
     "text": [
      "[Stage 168:================================>                        (4 + 3) / 7]\r"
     ]
    },
    {
     "name": "stdout",
     "output_type": "stream",
     "text": [
      "20757549 15513\n"
     ]
    },
    {
     "name": "stderr",
     "output_type": "stream",
     "text": [
      "                                                                                \r"
     ]
    }
   ],
   "source": [
    "MERCHANT_THRESH = 20\n",
    "CONSUMER_THRESH = 20\n",
    "\n",
    "print(finaldf.count())\n",
    "testdf = finaldf.filter(finaldf[\"merchant_fraud_%\"] < MERCHANT_THRESH)\n",
    "testdf = finaldf.filter(finaldf[\"consumer_fraud_%\"] < CONSUMER_THRESH)\n",
    "print(testdf.count(), finaldf.count()-testdf.count())"
   ]
  },
  {
   "cell_type": "markdown",
   "id": "aaaab081",
   "metadata": {},
   "source": [
    "Keeping the fraud prob below 20% for each give us a good chance that most fraud data has been removed <br>\n",
    "The removal of 15 thousand records is not alot considering we still have 20 million plus records still left <br>\n",
    "The fact that most of the fraud transactions are now removed allows us to build a metric for determining future fraud"
   ]
  },
  {
   "cell_type": "code",
   "execution_count": 12,
   "id": "9048c68f",
   "metadata": {},
   "outputs": [],
   "source": [
    "finaldf = finaldf.filter(finaldf[\"merchant_fraud_%\"] < MERCHANT_THRESH)\n",
    "finaldf = finaldf.filter(finaldf[\"consumer_fraud_%\"] < CONSUMER_THRESH)"
   ]
  },
  {
   "cell_type": "code",
   "execution_count": 13,
   "id": "7f0cb477",
   "metadata": {},
   "outputs": [
    {
     "name": "stderr",
     "output_type": "stream",
     "text": [
      "                                                                                \r"
     ]
    },
    {
     "data": {
      "text/html": [
       "<table border='1'>\n",
       "<tr><th>order_datetime</th><th>merchant_abn</th><th>user_id</th><th>sa2_code</th><th>postcode</th><th>consumer_id</th><th>dollar_value</th><th>order_id</th><th>state</th><th>gender</th><th>company_name</th><th>tags</th><th>take_rate</th><th>revenue_band</th><th>SA2 name</th><th>Total</th><th>Under 10</th><th>Adolescent</th><th>Young adult</th><th>Middle age</th><th>Old</th><th>num_earners</th><th>median_age</th><th>median_income</th><th>mean_income</th><th>consumer_fraud_%</th><th>merchant_fraud_%</th></tr>\n",
       "<tr><td>2021-08-20</td><td>94472466107</td><td>13842</td><td>216011410</td><td>3612</td><td>30</td><td>36.094519921528466</td><td>0dc80e20-901c-410...</td><td>VIC</td><td>Female</td><td>Eu Dolor Egestas PC</td><td>cable, satellite,...</td><td> 6.23</td><td> a</td><td>Rushworth</td><td>4166</td><td>416</td><td>418</td><td>531</td><td>1300</td><td>1501</td><td>2060</td><td>50</td><td>38359</td><td>45788</td><td>0.1</td><td>0.1</td></tr>\n",
       "<tr><td>2021-08-20</td><td>94472466107</td><td>13842</td><td>204011058</td><td>3612</td><td>30</td><td>36.094519921528466</td><td>0dc80e20-901c-410...</td><td>VIC</td><td>Female</td><td>Eu Dolor Egestas PC</td><td>cable, satellite,...</td><td> 6.23</td><td> a</td><td>Nagambie</td><td>4507</td><td>441</td><td>443</td><td>570</td><td>1371</td><td>1682</td><td>2360</td><td>49</td><td>45235</td><td>53483</td><td>0.1</td><td>0.1</td></tr>\n",
       "<tr><td>2021-08-21</td><td>21532935983</td><td>13842</td><td>216011410</td><td>3612</td><td>30</td><td>71.1148505207073</td><td>5fbb2316-39b7-43b...</td><td>VIC</td><td>Female</td><td>Eleifend Nec Inco...</td><td>cable, satellite,...</td><td> 5.58</td><td> a</td><td>Rushworth</td><td>4166</td><td>416</td><td>418</td><td>531</td><td>1300</td><td>1501</td><td>2060</td><td>50</td><td>38359</td><td>45788</td><td>0.1</td><td>0.1</td></tr>\n",
       "<tr><td>2021-08-21</td><td>21532935983</td><td>13842</td><td>204011058</td><td>3612</td><td>30</td><td>71.1148505207073</td><td>5fbb2316-39b7-43b...</td><td>VIC</td><td>Female</td><td>Eleifend Nec Inco...</td><td>cable, satellite,...</td><td> 5.58</td><td> a</td><td>Nagambie</td><td>4507</td><td>441</td><td>443</td><td>570</td><td>1371</td><td>1682</td><td>2360</td><td>49</td><td>45235</td><td>53483</td><td>0.1</td><td>0.1</td></tr>\n",
       "<tr><td>2021-08-19</td><td>60956456424</td><td>13842</td><td>216011410</td><td>3612</td><td>30</td><td>56.52469841268393</td><td>60bc5068-e775-4c4...</td><td>VIC</td><td>Female</td><td>Ultricies Digniss...</td><td>gift, card, novel...</td><td> 4.69</td><td> b</td><td>Rushworth</td><td>4166</td><td>416</td><td>418</td><td>531</td><td>1300</td><td>1501</td><td>2060</td><td>50</td><td>38359</td><td>45788</td><td>0.1</td><td>0.1</td></tr>\n",
       "</table>\n"
      ],
      "text/plain": [
       "+--------------+------------+-------+---------+--------+-----------+------------------+--------------------+-----+------+--------------------+--------------------+---------+------------+---------+-----+--------+----------+-----------+----------+----+-----------+----------+-------------+-----------+----------------+----------------+\n",
       "|order_datetime|merchant_abn|user_id| sa2_code|postcode|consumer_id|      dollar_value|            order_id|state|gender|        company_name|                tags|take_rate|revenue_band| SA2 name|Total|Under 10|Adolescent|Young adult|Middle age| Old|num_earners|median_age|median_income|mean_income|consumer_fraud_%|merchant_fraud_%|\n",
       "+--------------+------------+-------+---------+--------+-----------+------------------+--------------------+-----+------+--------------------+--------------------+---------+------------+---------+-----+--------+----------+-----------+----------+----+-----------+----------+-------------+-----------+----------------+----------------+\n",
       "|    2021-08-20| 94472466107|  13842|216011410|    3612|         30|36.094519921528466|0dc80e20-901c-410...|  VIC|Female| Eu Dolor Egestas PC|cable, satellite,...|     6.23|           a|Rushworth| 4166|     416|       418|        531|      1300|1501|       2060|        50|        38359|      45788|             0.1|             0.1|\n",
       "|    2021-08-20| 94472466107|  13842|204011058|    3612|         30|36.094519921528466|0dc80e20-901c-410...|  VIC|Female| Eu Dolor Egestas PC|cable, satellite,...|     6.23|           a| Nagambie| 4507|     441|       443|        570|      1371|1682|       2360|        49|        45235|      53483|             0.1|             0.1|\n",
       "|    2021-08-21| 21532935983|  13842|216011410|    3612|         30|  71.1148505207073|5fbb2316-39b7-43b...|  VIC|Female|Eleifend Nec Inco...|cable, satellite,...|     5.58|           a|Rushworth| 4166|     416|       418|        531|      1300|1501|       2060|        50|        38359|      45788|             0.1|             0.1|\n",
       "|    2021-08-21| 21532935983|  13842|204011058|    3612|         30|  71.1148505207073|5fbb2316-39b7-43b...|  VIC|Female|Eleifend Nec Inco...|cable, satellite,...|     5.58|           a| Nagambie| 4507|     441|       443|        570|      1371|1682|       2360|        49|        45235|      53483|             0.1|             0.1|\n",
       "|    2021-08-19| 60956456424|  13842|216011410|    3612|         30| 56.52469841268393|60bc5068-e775-4c4...|  VIC|Female|Ultricies Digniss...|gift, card, novel...|     4.69|           b|Rushworth| 4166|     416|       418|        531|      1300|1501|       2060|        50|        38359|      45788|             0.1|             0.1|\n",
       "+--------------+------------+-------+---------+--------+-----------+------------------+--------------------+-----+------+--------------------+--------------------+---------+------------+---------+-----+--------+----------+-----------+----------+----+-----------+----------+-------------+-----------+----------------+----------------+"
      ]
     },
     "execution_count": 13,
     "metadata": {},
     "output_type": "execute_result"
    }
   ],
   "source": [
    "finaldf.limit(5)"
   ]
  },
  {
   "cell_type": "markdown",
   "id": "6df148e0",
   "metadata": {},
   "source": [
    "## Dealing with future fraud"
   ]
  },
  {
   "cell_type": "markdown",
   "id": "2bea9402",
   "metadata": {},
   "source": [
    "2 main ways to determine fraud:\n",
    "- High number of transactions in a given day\n",
    "- High transaction amounts"
   ]
  },
  {
   "cell_type": "markdown",
   "id": "f2fffc54",
   "metadata": {},
   "source": [
    "### Merchant"
   ]
  },
  {
   "cell_type": "code",
   "execution_count": 14,
   "id": "a137a39e",
   "metadata": {},
   "outputs": [
    {
     "name": "stderr",
     "output_type": "stream",
     "text": [
      "                                                                                \r"
     ]
    },
    {
     "data": {
      "text/html": [
       "<table border='1'>\n",
       "<tr><th>merchant_abn</th><th>order_datetime</th><th>mean_amount</th><th>min_amount</th><th>max_amount</th><th>transactions</th></tr>\n",
       "<tr><td>24852446429</td><td>2021-11-26</td><td>30.464173619816343</td><td>0.4388815965837197</td><td>168.92668885555742</td><td>1916</td></tr>\n",
       "<tr><td>24852446429</td><td>2021-11-27</td><td>31.636556215187294</td><td>1.003369617502435</td><td>193.03651325623903</td><td>1783</td></tr>\n",
       "<tr><td>86578477987</td><td>2021-11-26</td><td>33.86953965973572</td><td>0.1615814452824192</td><td>163.1881979840336</td><td>1779</td></tr>\n",
       "<tr><td>24852446429</td><td>2021-11-29</td><td>30.501847956659855</td><td>0.7022808404239752</td><td>137.595051098878</td><td>1744</td></tr>\n",
       "<tr><td>49891706470</td><td>2021-11-26</td><td>28.682157995166236</td><td>3.001709666041197</td><td>54.95671169593744</td><td>1701</td></tr>\n",
       "</table>\n"
      ],
      "text/plain": [
       "+------------+--------------+------------------+------------------+------------------+------------+\n",
       "|merchant_abn|order_datetime|       mean_amount|        min_amount|        max_amount|transactions|\n",
       "+------------+--------------+------------------+------------------+------------------+------------+\n",
       "| 24852446429|    2021-11-26|30.464173619816343|0.4388815965837197|168.92668885555742|        1916|\n",
       "| 24852446429|    2021-11-27|31.636556215187294| 1.003369617502435|193.03651325623903|        1783|\n",
       "| 86578477987|    2021-11-26| 33.86953965973572|0.1615814452824192| 163.1881979840336|        1779|\n",
       "| 24852446429|    2021-11-29|30.501847956659855|0.7022808404239752|  137.595051098878|        1744|\n",
       "| 49891706470|    2021-11-26|28.682157995166236| 3.001709666041197| 54.95671169593744|        1701|\n",
       "+------------+--------------+------------------+------------------+------------------+------------+"
      ]
     },
     "execution_count": 14,
     "metadata": {},
     "output_type": "execute_result"
    }
   ],
   "source": [
    "# this gets the stats for each merchant for each day\n",
    "merchanttestdf = finaldf.groupBy(\"merchant_abn\",\"order_datetime\").agg(\n",
    "    mean(\"dollar_value\").alias(\"mean_amount\"),\n",
    "    min(\"dollar_value\").alias(\"min_amount\"),\n",
    "    max(\"dollar_value\").alias(\"max_amount\"),\n",
    "    count(\"dollar_value\").alias(\"transactions\"),\n",
    "    ).orderBy(desc(\"transactions\"))\n",
    "\n",
    "merchanttestdf.limit(5)"
   ]
  },
  {
   "cell_type": "code",
   "execution_count": 15,
   "id": "fd0c164e",
   "metadata": {},
   "outputs": [
    {
     "name": "stderr",
     "output_type": "stream",
     "text": [
      "                                                                                \r"
     ]
    },
    {
     "data": {
      "text/html": [
       "<table border='1'>\n",
       "<tr><th>merchant_abn</th><th>mean_amount</th><th>min_amount</th><th>max_amount</th><th>mean_transactions</th><th>min_transactions</th><th>max_transactions</th></tr>\n",
       "<tr><td>24852446429</td><td>29.994179500150423</td><td>1.0013482034321513</td><td>132.63726075232657</td><td>727.2062706270627</td><td>442</td><td>1916</td></tr>\n",
       "<tr><td>86578477987</td><td>34.979955339726516</td><td>1.1720818299391733</td><td>153.98697166956993</td><td>685.6435643564356</td><td>412</td><td>1779</td></tr>\n",
       "<tr><td>49891706470</td><td>28.942374924196557</td><td>3.1556904183096153</td><td>54.84419033696536</td><td>621.6039603960396</td><td>335</td><td>1701</td></tr>\n",
       "<tr><td>64203420245</td><td>28.956123060148233</td><td>3.14451491936713</td><td>54.85378248897557</td><td>656.2095709570957</td><td>360</td><td>1681</td></tr>\n",
       "<tr><td>46804135891</td><td>30.04504181207258</td><td>0.10486943927438087</td><td>190.93127738260756</td><td>588.2376237623762</td><td>331</td><td>1607</td></tr>\n",
       "</table>\n"
      ],
      "text/plain": [
       "+------------+------------------+-------------------+------------------+-----------------+----------------+----------------+\n",
       "|merchant_abn|       mean_amount|         min_amount|        max_amount|mean_transactions|min_transactions|max_transactions|\n",
       "+------------+------------------+-------------------+------------------+-----------------+----------------+----------------+\n",
       "| 24852446429|29.994179500150423| 1.0013482034321513|132.63726075232657|727.2062706270627|             442|            1916|\n",
       "| 86578477987|34.979955339726516| 1.1720818299391733|153.98697166956993|685.6435643564356|             412|            1779|\n",
       "| 49891706470|28.942374924196557| 3.1556904183096153| 54.84419033696536|621.6039603960396|             335|            1701|\n",
       "| 64203420245|28.956123060148233|   3.14451491936713| 54.85378248897557|656.2095709570957|             360|            1681|\n",
       "| 46804135891| 30.04504181207258|0.10486943927438087|190.93127738260756|588.2376237623762|             331|            1607|\n",
       "+------------+------------------+-------------------+------------------+-----------------+----------------+----------------+"
      ]
     },
     "execution_count": 15,
     "metadata": {},
     "output_type": "execute_result"
    }
   ],
   "source": [
    "# this gets the average stats for a merchant on any given day\n",
    "merchanttestdf = merchanttestdf.groupBy(\"merchant_abn\").agg(\n",
    "    mean(\"mean_amount\").alias(\"mean_amount\"),\n",
    "    mean(\"min_amount\").alias(\"min_amount\"),\n",
    "    mean(\"max_amount\").alias(\"max_amount\"),\n",
    "    mean(\"transactions\").alias(\"mean_transactions\"),\n",
    "    min(\"transactions\").alias(\"min_transactions\"),\n",
    "    max(\"transactions\").alias(\"max_transactions\"),\n",
    "    ).orderBy(desc(\"max_transactions\"))\n",
    "\n",
    "merchanttestdf.limit(5)"
   ]
  },
  {
   "cell_type": "markdown",
   "id": "83bef868",
   "metadata": {},
   "source": [
    "We now have a dataset that gives us all the statistics we need to determine if future merchant transactions are fraud <br>\n",
    "for the time being if a merchant has > 1.5 x max_transactions in a day it is considered fraud <br>\n",
    "if a merchant has > 1.5 x max_amount in a day it is considered fraud"
   ]
  },
  {
   "cell_type": "markdown",
   "id": "ba304c1f",
   "metadata": {},
   "source": [
    "### User"
   ]
  },
  {
   "cell_type": "code",
   "execution_count": 16,
   "id": "abe83766",
   "metadata": {},
   "outputs": [
    {
     "name": "stderr",
     "output_type": "stream",
     "text": [
      "                                                                                \r"
     ]
    },
    {
     "data": {
      "text/html": [
       "<table border='1'>\n",
       "<tr><th>user_id</th><th>order_datetime</th><th>mean_amount</th><th>min_amount</th><th>max_amount</th><th>transactions</th></tr>\n",
       "<tr><td>20931</td><td>2021-11-29</td><td>119.06473250477067</td><td>28.04893125562283</td><td>445.0802574763232</td><td>104</td></tr>\n",
       "<tr><td>17417</td><td>2021-11-26</td><td>72.40206052677397</td><td>4.4464593786411095</td><td>157.8166304195111</td><td>98</td></tr>\n",
       "<tr><td>6072</td><td>2021-11-22</td><td>269.3998632737218</td><td>6.712747985289963</td><td>622.847977814607</td><td>98</td></tr>\n",
       "<tr><td>20651</td><td>2021-11-25</td><td>62.674804005227486</td><td>13.418453836985401</td><td>125.3852608556601</td><td>98</td></tr>\n",
       "<tr><td>17417</td><td>2021-11-29</td><td>167.94750291512926</td><td>1.6711964900188083</td><td>719.3382556816264</td><td>98</td></tr>\n",
       "</table>\n"
      ],
      "text/plain": [
       "+-------+--------------+------------------+------------------+-----------------+------------+\n",
       "|user_id|order_datetime|       mean_amount|        min_amount|       max_amount|transactions|\n",
       "+-------+--------------+------------------+------------------+-----------------+------------+\n",
       "|  20931|    2021-11-29|119.06473250477067| 28.04893125562283|445.0802574763232|         104|\n",
       "|  17417|    2021-11-26| 72.40206052677397|4.4464593786411095|157.8166304195111|          98|\n",
       "|   6072|    2021-11-22| 269.3998632737218| 6.712747985289963| 622.847977814607|          98|\n",
       "|  20651|    2021-11-25|62.674804005227486|13.418453836985401|125.3852608556601|          98|\n",
       "|  17417|    2021-11-29|167.94750291512926|1.6711964900188083|719.3382556816264|          98|\n",
       "+-------+--------------+------------------+------------------+-----------------+------------+"
      ]
     },
     "execution_count": 16,
     "metadata": {},
     "output_type": "execute_result"
    }
   ],
   "source": [
    "# this gets the stats for each user for each day\n",
    "usertestdf = finaldf.groupBy(\"user_id\",\"order_datetime\").agg(\n",
    "    mean(\"dollar_value\").alias(\"mean_amount\"),\n",
    "    min(\"dollar_value\").alias(\"min_amount\"),\n",
    "    max(\"dollar_value\").alias(\"max_amount\"),\n",
    "    count(\"dollar_value\").alias(\"transactions\"),\n",
    "    ).orderBy(desc(\"transactions\"))\n",
    "\n",
    "usertestdf.limit(5)"
   ]
  },
  {
   "cell_type": "code",
   "execution_count": 17,
   "id": "74c08978",
   "metadata": {},
   "outputs": [
    {
     "name": "stderr",
     "output_type": "stream",
     "text": [
      "[Stage 269:==============>                                          (1 + 3) / 4]\r"
     ]
    },
    {
     "name": "stdout",
     "output_type": "stream",
     "text": [
      "22/09/20 19:24:52 WARN RowBasedKeyValueBatch: Calling spill() on RowBasedKeyValueBatch. Will not spill but return 0.\n",
      "22/09/20 19:24:52 WARN RowBasedKeyValueBatch: Calling spill() on RowBasedKeyValueBatch. Will not spill but return 0.\n"
     ]
    },
    {
     "name": "stderr",
     "output_type": "stream",
     "text": [
      "[Stage 287:>                                                        (0 + 4) / 4]\r"
     ]
    },
    {
     "name": "stdout",
     "output_type": "stream",
     "text": [
      "22/09/20 19:25:27 WARN RowBasedKeyValueBatch: Calling spill() on RowBasedKeyValueBatch. Will not spill but return 0.\n"
     ]
    },
    {
     "name": "stderr",
     "output_type": "stream",
     "text": [
      "[Stage 287:==============>                                          (1 + 3) / 4]\r"
     ]
    },
    {
     "name": "stdout",
     "output_type": "stream",
     "text": [
      "22/09/20 19:25:28 WARN RowBasedKeyValueBatch: Calling spill() on RowBasedKeyValueBatch. Will not spill but return 0.\n"
     ]
    },
    {
     "name": "stderr",
     "output_type": "stream",
     "text": [
      "                                                                                \r"
     ]
    },
    {
     "data": {
      "text/html": [
       "<table border='1'>\n",
       "<tr><th>user_id</th><th>mean_amount</th><th>min_amount</th><th>max_amount</th><th>mean_transactions</th><th>min_transactions</th><th>max_transactions</th></tr>\n",
       "<tr><td>20931</td><td>164.31360829926368</td><td>126.11191593350347</td><td>209.56096073865885</td><td>20.1267217630854</td><td>13</td><td>104</td></tr>\n",
       "<tr><td>6072</td><td>159.5675614949777</td><td>101.9518777911356</td><td>224.52093498920996</td><td>21.899441340782122</td><td>14</td><td>98</td></tr>\n",
       "<tr><td>20651</td><td>157.1074921825416</td><td>105.06627100387666</td><td>219.1010507216253</td><td>21.0</td><td>14</td><td>98</td></tr>\n",
       "<tr><td>17417</td><td>147.88685884709733</td><td>104.75892839781037</td><td>196.83524356068264</td><td>21.517808219178082</td><td>14</td><td>98</td></tr>\n",
       "<tr><td>13545</td><td>158.13796388277854</td><td>121.45901194379616</td><td>205.68937045590945</td><td>20.06830601092896</td><td>13</td><td>91</td></tr>\n",
       "</table>\n"
      ],
      "text/plain": [
       "+-------+------------------+------------------+------------------+------------------+----------------+----------------+\n",
       "|user_id|       mean_amount|        min_amount|        max_amount| mean_transactions|min_transactions|max_transactions|\n",
       "+-------+------------------+------------------+------------------+------------------+----------------+----------------+\n",
       "|  20931|164.31360829926368|126.11191593350347|209.56096073865885|  20.1267217630854|              13|             104|\n",
       "|   6072| 159.5675614949777| 101.9518777911356|224.52093498920996|21.899441340782122|              14|              98|\n",
       "|  20651| 157.1074921825416|105.06627100387666| 219.1010507216253|              21.0|              14|              98|\n",
       "|  17417|147.88685884709733|104.75892839781037|196.83524356068264|21.517808219178082|              14|              98|\n",
       "|  13545|158.13796388277854|121.45901194379616|205.68937045590945| 20.06830601092896|              13|              91|\n",
       "+-------+------------------+------------------+------------------+------------------+----------------+----------------+"
      ]
     },
     "execution_count": 17,
     "metadata": {},
     "output_type": "execute_result"
    }
   ],
   "source": [
    "# this gets the average stats for a user on any given day\n",
    "usertestdf = usertestdf.groupBy(\"user_id\").agg(\n",
    "    mean(\"mean_amount\").alias(\"mean_amount\"),\n",
    "    mean(\"min_amount\").alias(\"min_amount\"),\n",
    "    mean(\"max_amount\").alias(\"max_amount\"),\n",
    "    mean(\"transactions\").alias(\"mean_transactions\"),\n",
    "    min(\"transactions\").alias(\"min_transactions\"),\n",
    "    max(\"transactions\").alias(\"max_transactions\"),\n",
    "    ).orderBy(desc(\"max_transactions\"))\n",
    "\n",
    "usertestdf.limit(5)"
   ]
  },
  {
   "cell_type": "markdown",
   "id": "31b7d281",
   "metadata": {},
   "source": [
    "We now have a dataset that gives us all the statistics we need to determine if future user transactions are fraud <br>\n",
    "for the time being if a user has > 1.5 x max_transactions in a day it is considered fraud <br>\n",
    "if a user has > 1.5 x max_amount in a day it is considered fraud"
   ]
  },
  {
   "cell_type": "markdown",
   "id": "965188ae",
   "metadata": {},
   "source": [
    "Now remains the case where a user or merchant has little to no data to get these metrics from <br>\n",
    "We could either set our own thresholds based on logical reasoning for fraud detection<br>\n",
    "Or we could look at the distributions of existing data to determine thresholds for fraud detection"
   ]
  }
 ],
 "metadata": {
  "kernelspec": {
   "display_name": "Python 3 (ipykernel)",
   "language": "python",
   "name": "python3"
  },
  "language_info": {
   "codemirror_mode": {
    "name": "ipython",
    "version": 3
   },
   "file_extension": ".py",
   "mimetype": "text/x-python",
   "name": "python",
   "nbconvert_exporter": "python",
   "pygments_lexer": "ipython3",
   "version": "3.8.10"
  },
  "vscode": {
   "interpreter": {
    "hash": "916dbcbb3f70747c44a77c7bcd40155683ae19c65e1c03b4aa3499c5328201f1"
   }
  }
 },
 "nbformat": 4,
 "nbformat_minor": 5
}
