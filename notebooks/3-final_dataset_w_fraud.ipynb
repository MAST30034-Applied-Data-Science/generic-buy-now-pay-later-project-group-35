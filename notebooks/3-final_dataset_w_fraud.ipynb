{
 "cells": [
  {
   "cell_type": "code",
   "execution_count": 14,
   "id": "f935367d-cab0-4904-9bed-676c9eccd84b",
   "metadata": {
    "tags": []
   },
   "outputs": [],
   "source": [
    "from pyspark.sql import SparkSession\n",
    "from pyspark.sql.functions import * \n",
    "import matplotlib.pyplot as plt\n",
    "import pandas as pd\n",
    "import numpy as np\n",
    "from urllib.request import urlretrieve\n",
    "from owslib.wfs import WebFeatureService\n",
    "from dotenv import load_dotenv\n",
    "from pyspark.sql import functions as F\n",
    "\n",
    "# Create a spark session\n",
    "spark = (\n",
    "    SparkSession.builder.appName(\"analysis\")\n",
    "    .config(\"spark.sql.repl.eagerEval.enabled\", True) \n",
    "    .config(\"spark.sql.parquet.cacheMetadata\", \"true\")\n",
    "    .config(\"spark.sql.session.timeZone\", \"Etc/UTC\")\n",
    "    .config(\"spark.driver.memory\", \"2g\")\n",
    "    .config(\"spark.executor.memory\", \"6g\")\n",
    "    .getOrCreate()\n",
    ")"
   ]
  },
  {
   "cell_type": "markdown",
   "id": "2fd082bb",
   "metadata": {},
   "source": [
    "## Combining datasets"
   ]
  },
  {
   "cell_type": "code",
   "execution_count": 2,
   "id": "4b7aa80d-fd13-42e9-9943-a180e7ad0864",
   "metadata": {},
   "outputs": [
    {
     "name": "stderr",
     "output_type": "stream",
     "text": [
      "                                                                                \r"
     ]
    },
    {
     "name": "stdout",
     "output_type": "stream",
     "text": [
      "13613661\n"
     ]
    },
    {
     "name": "stderr",
     "output_type": "stream",
     "text": [
      "                                                                                \r"
     ]
    },
    {
     "data": {
      "text/html": [
       "<table border='1'>\n",
       "<tr><th>merchant_abn</th><th>consumer_id</th><th>user_id</th><th>dollar_value</th><th>order_id</th><th>order_datetime</th><th>customer_name</th><th>address</th><th>state</th><th>postcode</th><th>gender</th><th>company_name</th><th>tags</th><th>take_rate</th><th>revenue_band</th></tr>\n",
       "<tr><td>69666829657</td><td>226</td><td>5162</td><td>79.65159982605903</td><td>8765ef9f-dba6-407...</td><td>2021-08-20</td><td>Courtney Torres</td><td>6945 Higgins Brooks</td><td>SA</td><td>5581</td><td>Female</td><td>Sem Ut Institute</td><td>bicycle shops - s...</td><td> 2.86</td><td> c</td></tr>\n",
       "<tr><td>49891706470</td><td>226</td><td>5162</td><td>3.887089224741017</td><td>9ba8ebb2-6593-49f...</td><td>2022-07-13</td><td>Courtney Torres</td><td>6945 Higgins Brooks</td><td>SA</td><td>5581</td><td>Female</td><td>Non Vestibulum In...</td><td>tent and awning s...</td><td> 5.80</td><td> a</td></tr>\n",
       "<tr><td>70610974780</td><td>226</td><td>5162</td><td>52.820359204536665</td><td>bdf345c8-4c5d-48e...</td><td>2021-08-20</td><td>Courtney Torres</td><td>6945 Higgins Brooks</td><td>SA</td><td>5581</td><td>Female</td><td>Elit Aliquam PC</td><td>tent and awning s...</td><td> 6.93</td><td> a</td></tr>\n",
       "<tr><td>85276983280</td><td>226</td><td>5162</td><td>250.33729038347653</td><td>dcad871d-1b75-4a8...</td><td>2022-05-06</td><td>Courtney Torres</td><td>6945 Higgins Brooks</td><td>SA</td><td>5581</td><td>Female</td><td>Lacus Varius Corp.</td><td>florists supplies...</td><td> 3.32</td><td> b</td></tr>\n",
       "<tr><td>15582655078</td><td>226</td><td>5162</td><td>75.31904078962366</td><td>47ddf8e0-5f72-408...</td><td>2021-08-21</td><td>Courtney Torres</td><td>6945 Higgins Brooks</td><td>SA</td><td>5581</td><td>Female</td><td>Eu Odio Phasellus...</td><td>gift, card, novel...</td><td> 6.77</td><td> a</td></tr>\n",
       "</table>\n"
      ],
      "text/plain": [
       "+------------+-----------+-------+------------------+--------------------+--------------+---------------+-------------------+-----+--------+------+--------------------+--------------------+---------+------------+\n",
       "|merchant_abn|consumer_id|user_id|      dollar_value|            order_id|order_datetime|  customer_name|            address|state|postcode|gender|        company_name|                tags|take_rate|revenue_band|\n",
       "+------------+-----------+-------+------------------+--------------------+--------------+---------------+-------------------+-----+--------+------+--------------------+--------------------+---------+------------+\n",
       "| 69666829657|        226|   5162| 79.65159982605903|8765ef9f-dba6-407...|    2021-08-20|Courtney Torres|6945 Higgins Brooks|   SA|    5581|Female|    Sem Ut Institute|bicycle shops - s...|     2.86|           c|\n",
       "| 49891706470|        226|   5162| 3.887089224741017|9ba8ebb2-6593-49f...|    2022-07-13|Courtney Torres|6945 Higgins Brooks|   SA|    5581|Female|Non Vestibulum In...|tent and awning s...|     5.80|           a|\n",
       "| 70610974780|        226|   5162|52.820359204536665|bdf345c8-4c5d-48e...|    2021-08-20|Courtney Torres|6945 Higgins Brooks|   SA|    5581|Female|     Elit Aliquam PC|tent and awning s...|     6.93|           a|\n",
       "| 85276983280|        226|   5162|250.33729038347653|dcad871d-1b75-4a8...|    2022-05-06|Courtney Torres|6945 Higgins Brooks|   SA|    5581|Female|  Lacus Varius Corp.|florists supplies...|     3.32|           b|\n",
       "| 15582655078|        226|   5162| 75.31904078962366|47ddf8e0-5f72-408...|    2021-08-21|Courtney Torres|6945 Higgins Brooks|   SA|    5581|Female|Eu Odio Phasellus...|gift, card, novel...|     6.77|           a|\n",
       "+------------+-----------+-------+------------------+--------------------+--------------+---------------+-------------------+-----+--------+------+--------------------+--------------------+---------+------------+"
      ]
     },
     "execution_count": 2,
     "metadata": {},
     "output_type": "execute_result"
    }
   ],
   "source": [
    "sdf = spark.read.parquet(\"../data/curated/mergedf.parquet/\")\n",
    "print(sdf.count())\n",
    "sdf.limit(5)"
   ]
  },
  {
   "cell_type": "code",
   "execution_count": 8,
   "id": "598f9bc5",
   "metadata": {},
   "outputs": [
    {
     "data": {
      "text/html": [
       "<table border='1'>\n",
       "<tr><th>State/Terr</th><th>sa2_code</th><th>SA2 name</th><th>Total</th><th>Under 10</th><th>Adolescent</th><th>Young adult</th><th>Middle age</th><th>Old</th></tr>\n",
       "<tr><td>New South Wales</td><td>115011556</td><td>Castle Hill - South</td><td>10436</td><td>1256</td><td>1454</td><td>1704</td><td>3718</td><td>2304</td></tr>\n",
       "<tr><td>New South Wales</td><td>115011557</td><td>Castle Hill - West</td><td>5198</td><td>568</td><td>849</td><td>810</td><td>1928</td><td>1043</td></tr>\n",
       "<tr><td>New South Wales</td><td>115011558</td><td>Cherrybrook</td><td>19135</td><td>1982</td><td>3084</td><td>2522</td><td>6760</td><td>4787</td></tr>\n",
       "<tr><td>New South Wales</td><td>115011621</td><td>Kellyville - East</td><td>17748</td><td>2300</td><td>3032</td><td>2748</td><td>6701</td><td>2967</td></tr>\n",
       "<tr><td>New South Wales</td><td>115011622</td><td>Kellyville - West</td><td>11417</td><td>1702</td><td>1453</td><td>2162</td><td>4067</td><td>2033</td></tr>\n",
       "</table>\n"
      ],
      "text/plain": [
       "+---------------+---------+-------------------+-----+--------+----------+-----------+----------+----+\n",
       "|     State/Terr| sa2_code|           SA2 name|Total|Under 10|Adolescent|Young adult|Middle age| Old|\n",
       "+---------------+---------+-------------------+-----+--------+----------+-----------+----------+----+\n",
       "|New South Wales|115011556|Castle Hill - South|10436|    1256|      1454|       1704|      3718|2304|\n",
       "|New South Wales|115011557| Castle Hill - West| 5198|     568|       849|        810|      1928|1043|\n",
       "|New South Wales|115011558|        Cherrybrook|19135|    1982|      3084|       2522|      6760|4787|\n",
       "|New South Wales|115011621|  Kellyville - East|17748|    2300|      3032|       2748|      6701|2967|\n",
       "|New South Wales|115011622|  Kellyville - West|11417|    1702|      1453|       2162|      4067|2033|\n",
       "+---------------+---------+-------------------+-----+--------+----------+-----------+----------+----+"
      ]
     },
     "execution_count": 8,
     "metadata": {},
     "output_type": "execute_result"
    }
   ],
   "source": [
    "pop_sdf = spark.read.parquet(\"../data/curated/pop_sdf.parquet/\")\n",
    "pop_sdf = pop_sdf.withColumnRenamed(\"SA2 code\",\"sa2_code\")\n",
    "pop_sdf.limit(5)"
   ]
  },
  {
   "cell_type": "code",
   "execution_count": 9,
   "id": "dc1460ab",
   "metadata": {},
   "outputs": [
    {
     "data": {
      "text/html": [
       "<table border='1'>\n",
       "<tr><th>sa2_code</th><th>num_earners</th><th>median_age</th><th>median_income</th><th>mean_income</th></tr>\n",
       "<tr><td>213011340</td><td>11238</td><td>46</td><td>51181</td><td>61177</td></tr>\n",
       "<tr><td>213021341</td><td>7942</td><td>43</td><td>57585</td><td>69301</td></tr>\n",
       "<tr><td>213021344</td><td>11216</td><td>41</td><td>66161</td><td>80219</td></tr>\n",
       "<tr><td>213021345</td><td>3015</td><td>41</td><td>52078</td><td>60249</td></tr>\n",
       "<tr><td>213021346</td><td>9996</td><td>47</td><td>63892</td><td>90668</td></tr>\n",
       "</table>\n"
      ],
      "text/plain": [
       "+---------+-----------+----------+-------------+-----------+\n",
       "| sa2_code|num_earners|median_age|median_income|mean_income|\n",
       "+---------+-----------+----------+-------------+-----------+\n",
       "|213011340|      11238|        46|        51181|      61177|\n",
       "|213021341|       7942|        43|        57585|      69301|\n",
       "|213021344|      11216|        41|        66161|      80219|\n",
       "|213021345|       3015|        41|        52078|      60249|\n",
       "|213021346|       9996|        47|        63892|      90668|\n",
       "+---------+-----------+----------+-------------+-----------+"
      ]
     },
     "execution_count": 9,
     "metadata": {},
     "output_type": "execute_result"
    }
   ],
   "source": [
    "income_sdf = spark.read.parquet(\"../data/curated/incomedf.parquet/\")\n",
    "income_sdf.limit(5)"
   ]
  },
  {
   "cell_type": "markdown",
   "id": "e8cfabb9",
   "metadata": {},
   "source": [
    "### External dataset joins"
   ]
  },
  {
   "cell_type": "markdown",
   "id": "a9819880",
   "metadata": {},
   "source": [
    "After analysing the merge of the existing data with each of the postocde data (workbooks 3a and 3b), have concluded that we should use the postcode data not containing the ratio field and use the median of the matched records for each postcode to get a single value for income/population data for each postcode. \n",
    "\n",
    "The benefits of using weighted averaging provided by the postcode with ratio dataset would not, by our analysis, be worth the loss of 1,498,774 records. The choice of using median was based on the many outliers (see boxplots in workbooks 3a and 3b)."
   ]
  },
  {
   "cell_type": "code",
   "execution_count": 7,
   "id": "0c0d9f98",
   "metadata": {},
   "outputs": [
    {
     "name": "stdout",
     "output_type": "stream",
     "text": [
      "5492\n"
     ]
    },
    {
     "data": {
      "text/html": [
       "<table border='1'>\n",
       "<tr><th>postcode</th><th>sa2_code</th></tr>\n",
       "<tr><td>1008</td><td>117031337</td></tr>\n",
       "<tr><td>1150</td><td>117031337</td></tr>\n",
       "<tr><td>2100</td><td>122031429</td></tr>\n",
       "<tr><td>2200</td><td>119011571</td></tr>\n",
       "<tr><td>2338</td><td>110041201</td></tr>\n",
       "</table>\n"
      ],
      "text/plain": [
       "+--------+---------+\n",
       "|postcode| sa2_code|\n",
       "+--------+---------+\n",
       "|    1008|117031337|\n",
       "|    1150|117031337|\n",
       "|    2100|122031429|\n",
       "|    2200|119011571|\n",
       "|    2338|110041201|\n",
       "+--------+---------+"
      ]
     },
     "execution_count": 7,
     "metadata": {},
     "output_type": "execute_result"
    }
   ],
   "source": [
    "postcode_sdf = spark.read.parquet(\"../data/curated/postcodedf.parquet/\")\n",
    "print(postcode_sdf.count())\n",
    "postcode_sdf.limit(5)"
   ]
  },
  {
   "cell_type": "markdown",
   "id": "578b8adf",
   "metadata": {},
   "source": [
    "Join postcode with population data"
   ]
  },
  {
   "cell_type": "code",
   "execution_count": 10,
   "id": "66ef9706",
   "metadata": {},
   "outputs": [
    {
     "name": "stdout",
     "output_type": "stream",
     "text": [
      "2450\n"
     ]
    }
   ],
   "source": [
    "print(pop_sdf.count())"
   ]
  },
  {
   "cell_type": "code",
   "execution_count": 11,
   "id": "3f19e0b4",
   "metadata": {},
   "outputs": [
    {
     "data": {
      "text/plain": [
       "2083"
      ]
     },
     "execution_count": 11,
     "metadata": {},
     "output_type": "execute_result"
    }
   ],
   "source": [
    "merged_sdf1 = pop_sdf.join(postcode_sdf, on=\"sa2_code\", how=\"inner\")\n",
    "merged_sdf1.groupBy(\"sa2_code\").count().count()"
   ]
  },
  {
   "cell_type": "markdown",
   "id": "55968c9e",
   "metadata": {},
   "source": [
    "Lost 367 records from population data for which there were no sa2 codes"
   ]
  },
  {
   "cell_type": "code",
   "execution_count": 12,
   "id": "31f22ca1",
   "metadata": {},
   "outputs": [
    {
     "data": {
      "text/html": [
       "<table border='1'>\n",
       "<tr><th>sa2_code</th><th>State/Terr</th><th>SA2 name</th><th>Total</th><th>Under 10</th><th>Adolescent</th><th>Young adult</th><th>Middle age</th><th>Old</th><th>postcode</th></tr>\n",
       "<tr><td>801051049</td><td>Australian Capita...</td><td>Acton</td><td>2875</td><td>6</td><td>1528</td><td>1292</td><td>47</td><td>2</td><td>0200</td></tr>\n",
       "<tr><td>701011002</td><td>Northern Territory</td><td>Darwin City</td><td>7679</td><td>474</td><td>325</td><td>3322</td><td>2652</td><td>906</td><td>0800</td></tr>\n",
       "<tr><td>701011002</td><td>Northern Territory</td><td>Darwin City</td><td>7679</td><td>474</td><td>325</td><td>3322</td><td>2652</td><td>906</td><td>0801</td></tr>\n",
       "<tr><td>701011007</td><td>Northern Territory</td><td>Parap</td><td>2980</td><td>350</td><td>282</td><td>801</td><td>1047</td><td>500</td><td>0804</td></tr>\n",
       "<tr><td>701021010</td><td>Northern Territory</td><td>Alawa</td><td>2172</td><td>326</td><td>227</td><td>529</td><td>704</td><td>386</td><td>0810</td></tr>\n",
       "</table>\n"
      ],
      "text/plain": [
       "+---------+--------------------+-----------+-----+--------+----------+-----------+----------+---+--------+\n",
       "| sa2_code|          State/Terr|   SA2 name|Total|Under 10|Adolescent|Young adult|Middle age|Old|postcode|\n",
       "+---------+--------------------+-----------+-----+--------+----------+-----------+----------+---+--------+\n",
       "|801051049|Australian Capita...|      Acton| 2875|       6|      1528|       1292|        47|  2|    0200|\n",
       "|701011002|  Northern Territory|Darwin City| 7679|     474|       325|       3322|      2652|906|    0800|\n",
       "|701011002|  Northern Territory|Darwin City| 7679|     474|       325|       3322|      2652|906|    0801|\n",
       "|701011007|  Northern Territory|      Parap| 2980|     350|       282|        801|      1047|500|    0804|\n",
       "|701021010|  Northern Territory|      Alawa| 2172|     326|       227|        529|       704|386|    0810|\n",
       "+---------+--------------------+-----------+-----+--------+----------+-----------+----------+---+--------+"
      ]
     },
     "execution_count": 12,
     "metadata": {},
     "output_type": "execute_result"
    }
   ],
   "source": [
    "merged_sdf1.orderBy(\"postcode\").limit(5)"
   ]
  },
  {
   "cell_type": "markdown",
   "id": "7b80ee50",
   "metadata": {},
   "source": [
    "Get a single population value for each postcode and field by calculating the median"
   ]
  },
  {
   "cell_type": "code",
   "execution_count": 18,
   "id": "85c5504a",
   "metadata": {},
   "outputs": [
    {
     "data": {
      "text/html": [
       "<table border='1'>\n",
       "<tr><th>postcode</th><th>total_pop</th><th>under10_pop</th><th>adolsc_pop</th><th>yng_adult_pop</th><th>mid_age_pop</th><th>old_pop</th></tr>\n",
       "<tr><td>0200</td><td>2875</td><td>6</td><td>1528</td><td>1292</td><td>47</td><td>2</td></tr>\n",
       "<tr><td>0800</td><td>7679</td><td>474</td><td>325</td><td>3322</td><td>2652</td><td>906</td></tr>\n",
       "<tr><td>0801</td><td>7679</td><td>474</td><td>325</td><td>3322</td><td>2652</td><td>906</td></tr>\n",
       "<tr><td>0804</td><td>2980</td><td>350</td><td>282</td><td>801</td><td>1047</td><td>500</td></tr>\n",
       "<tr><td>0810</td><td>2657</td><td>326</td><td>274</td><td>541</td><td>845</td><td>386</td></tr>\n",
       "</table>\n"
      ],
      "text/plain": [
       "+--------+---------+-----------+----------+-------------+-----------+-------+\n",
       "|postcode|total_pop|under10_pop|adolsc_pop|yng_adult_pop|mid_age_pop|old_pop|\n",
       "+--------+---------+-----------+----------+-------------+-----------+-------+\n",
       "|    0200|     2875|          6|      1528|         1292|         47|      2|\n",
       "|    0800|     7679|        474|       325|         3322|       2652|    906|\n",
       "|    0801|     7679|        474|       325|         3322|       2652|    906|\n",
       "|    0804|     2980|        350|       282|          801|       1047|    500|\n",
       "|    0810|     2657|        326|       274|          541|        845|    386|\n",
       "+--------+---------+-----------+----------+-------------+-----------+-------+"
      ]
     },
     "execution_count": 18,
     "metadata": {},
     "output_type": "execute_result"
    }
   ],
   "source": [
    "postcode_pop_sdf = merged_sdf1.groupBy(\"postcode\") \\\n",
    "    .agg(\n",
    "        F.percentile_approx(merged_sdf1.Total, 0.5).alias(\"total_pop\"),\n",
    "        F.percentile_approx(merged_sdf1['Under 10'], 0.5).alias(\"under10_pop\"),\n",
    "        F.percentile_approx(merged_sdf1.Adolescent, 0.5).alias(\"adolsc_pop\"),\n",
    "        F.percentile_approx(merged_sdf1['Young adult'], 0.5).alias(\"yng_adult_pop\"),\n",
    "        F.percentile_approx(merged_sdf1['Middle age'], 0.5).alias(\"mid_age_pop\"),\n",
    "        F.percentile_approx(merged_sdf1.Old, 0.5).alias(\"old_pop\")\n",
    "    )\n",
    "    \n",
    "postcode_pop_sdf.orderBy(\"postcode\").limit(5)"
   ]
  },
  {
   "cell_type": "markdown",
   "id": "c11e8dd7",
   "metadata": {},
   "source": [
    "Join postcode with income data"
   ]
  },
  {
   "cell_type": "code",
   "execution_count": 21,
   "id": "b67084e2",
   "metadata": {},
   "outputs": [
    {
     "name": "stdout",
     "output_type": "stream",
     "text": [
      "2239\n"
     ]
    }
   ],
   "source": [
    "print(income_sdf.count())"
   ]
  },
  {
   "cell_type": "code",
   "execution_count": 19,
   "id": "9977a827",
   "metadata": {},
   "outputs": [],
   "source": [
    "merged_sdf2 = income_sdf.join(postcode_sdf, on=\"sa2_code\", how=\"inner\")"
   ]
  },
  {
   "cell_type": "code",
   "execution_count": 20,
   "id": "d76fb478",
   "metadata": {},
   "outputs": [
    {
     "data": {
      "text/plain": [
       "2186"
      ]
     },
     "execution_count": 20,
     "metadata": {},
     "output_type": "execute_result"
    }
   ],
   "source": [
    "merged_sdf2.groupBy(\"sa2_code\").count().count()"
   ]
  },
  {
   "cell_type": "markdown",
   "id": "160a78cd",
   "metadata": {},
   "source": [
    "Lost 53 records for which there were no sa2 codes"
   ]
  },
  {
   "cell_type": "code",
   "execution_count": 22,
   "id": "b24d1325",
   "metadata": {},
   "outputs": [
    {
     "data": {
      "text/html": [
       "<table border='1'>\n",
       "<tr><th>sa2_code</th><th>num_earners</th><th>median_age</th><th>median_income</th><th>mean_income</th><th>postcode</th></tr>\n",
       "<tr><td>801051049</td><td>548</td><td>23</td><td>9306</td><td>16835</td><td>0200</td></tr>\n",
       "<tr><td>701011002</td><td>5909</td><td>33</td><td>60937</td><td>87791</td><td>0800</td></tr>\n",
       "<tr><td>701011002</td><td>5909</td><td>33</td><td>60937</td><td>87791</td><td>0801</td></tr>\n",
       "<tr><td>701011007</td><td>1873</td><td>40</td><td>75219</td><td>98872</td><td>0804</td></tr>\n",
       "<tr><td>701021010</td><td>1387</td><td>40</td><td>54188</td><td>61411</td><td>0810</td></tr>\n",
       "</table>\n"
      ],
      "text/plain": [
       "+---------+-----------+----------+-------------+-----------+--------+\n",
       "| sa2_code|num_earners|median_age|median_income|mean_income|postcode|\n",
       "+---------+-----------+----------+-------------+-----------+--------+\n",
       "|801051049|        548|        23|         9306|      16835|    0200|\n",
       "|701011002|       5909|        33|        60937|      87791|    0800|\n",
       "|701011002|       5909|        33|        60937|      87791|    0801|\n",
       "|701011007|       1873|        40|        75219|      98872|    0804|\n",
       "|701021010|       1387|        40|        54188|      61411|    0810|\n",
       "+---------+-----------+----------+-------------+-----------+--------+"
      ]
     },
     "execution_count": 22,
     "metadata": {},
     "output_type": "execute_result"
    }
   ],
   "source": [
    "merged_sdf2.orderBy(\"postcode\").limit(5)"
   ]
  },
  {
   "cell_type": "code",
   "execution_count": 25,
   "id": "31512bce",
   "metadata": {},
   "outputs": [
    {
     "data": {
      "text/html": [
       "<table border='1'>\n",
       "<tr><th>postcode</th><th>num_earners</th><th>median_age</th><th>median_income</th><th>mean_income</th></tr>\n",
       "<tr><td>0200</td><td>548</td><td>23</td><td>9306</td><td>16835</td></tr>\n",
       "<tr><td>0800</td><td>5909</td><td>33</td><td>60937</td><td>87791</td></tr>\n",
       "<tr><td>0801</td><td>5909</td><td>33</td><td>60937</td><td>87791</td></tr>\n",
       "<tr><td>0804</td><td>1873</td><td>40</td><td>75219</td><td>98872</td></tr>\n",
       "<tr><td>0810</td><td>1479</td><td>39</td><td>58753</td><td>67299</td></tr>\n",
       "</table>\n"
      ],
      "text/plain": [
       "+--------+-----------+----------+-------------+-----------+\n",
       "|postcode|num_earners|median_age|median_income|mean_income|\n",
       "+--------+-----------+----------+-------------+-----------+\n",
       "|    0200|        548|        23|         9306|      16835|\n",
       "|    0800|       5909|        33|        60937|      87791|\n",
       "|    0801|       5909|        33|        60937|      87791|\n",
       "|    0804|       1873|        40|        75219|      98872|\n",
       "|    0810|       1479|        39|        58753|      67299|\n",
       "+--------+-----------+----------+-------------+-----------+"
      ]
     },
     "execution_count": 25,
     "metadata": {},
     "output_type": "execute_result"
    }
   ],
   "source": [
    "postcode_income_sdf = merged_sdf2.groupBy(\"postcode\") \\\n",
    "    .agg(\n",
    "        F.percentile_approx(merged_sdf2.num_earners, 0.5).alias(\"num_earners\"),\n",
    "        F.percentile_approx(merged_sdf2.median_age, 0.5).alias(\"median_age\"),\n",
    "        F.percentile_approx(merged_sdf2.median_income, 0.5).alias(\"median_income\"),\n",
    "        F.percentile_approx(merged_sdf2.mean_income, 0.5).alias(\"mean_income\")\n",
    "    )\n",
    "    \n",
    "postcode_income_sdf.orderBy(\"postcode\").limit(5)"
   ]
  },
  {
   "cell_type": "markdown",
   "id": "8b18f3f3",
   "metadata": {},
   "source": [
    "Combine all external data in a single spark dataframe"
   ]
  },
  {
   "cell_type": "code",
   "execution_count": 26,
   "id": "2e2d2469",
   "metadata": {},
   "outputs": [
    {
     "name": "stdout",
     "output_type": "stream",
     "text": [
      "2793 3160\n"
     ]
    }
   ],
   "source": [
    "print(postcode_pop_sdf.count(), postcode_income_sdf.count())"
   ]
  },
  {
   "cell_type": "code",
   "execution_count": 27,
   "id": "5583de61",
   "metadata": {},
   "outputs": [
    {
     "name": "stdout",
     "output_type": "stream",
     "text": [
      "3162\n"
     ]
    },
    {
     "data": {
      "text/html": [
       "<table border='1'>\n",
       "<tr><th>postcode</th><th>total_pop</th><th>under10_pop</th><th>adolsc_pop</th><th>yng_adult_pop</th><th>mid_age_pop</th><th>old_pop</th><th>num_earners</th><th>median_age</th><th>median_income</th><th>mean_income</th></tr>\n",
       "<tr><td>0200</td><td>2875</td><td>6</td><td>1528</td><td>1292</td><td>47</td><td>2</td><td>548</td><td>23</td><td>9306</td><td>16835</td></tr>\n",
       "<tr><td>0800</td><td>7679</td><td>474</td><td>325</td><td>3322</td><td>2652</td><td>906</td><td>5909</td><td>33</td><td>60937</td><td>87791</td></tr>\n",
       "<tr><td>0801</td><td>7679</td><td>474</td><td>325</td><td>3322</td><td>2652</td><td>906</td><td>5909</td><td>33</td><td>60937</td><td>87791</td></tr>\n",
       "<tr><td>0804</td><td>2980</td><td>350</td><td>282</td><td>801</td><td>1047</td><td>500</td><td>1873</td><td>40</td><td>75219</td><td>98872</td></tr>\n",
       "<tr><td>0810</td><td>2657</td><td>326</td><td>274</td><td>541</td><td>845</td><td>386</td><td>1479</td><td>39</td><td>58753</td><td>67299</td></tr>\n",
       "</table>\n"
      ],
      "text/plain": [
       "+--------+---------+-----------+----------+-------------+-----------+-------+-----------+----------+-------------+-----------+\n",
       "|postcode|total_pop|under10_pop|adolsc_pop|yng_adult_pop|mid_age_pop|old_pop|num_earners|median_age|median_income|mean_income|\n",
       "+--------+---------+-----------+----------+-------------+-----------+-------+-----------+----------+-------------+-----------+\n",
       "|    0200|     2875|          6|      1528|         1292|         47|      2|        548|        23|         9306|      16835|\n",
       "|    0800|     7679|        474|       325|         3322|       2652|    906|       5909|        33|        60937|      87791|\n",
       "|    0801|     7679|        474|       325|         3322|       2652|    906|       5909|        33|        60937|      87791|\n",
       "|    0804|     2980|        350|       282|          801|       1047|    500|       1873|        40|        75219|      98872|\n",
       "|    0810|     2657|        326|       274|          541|        845|    386|       1479|        39|        58753|      67299|\n",
       "+--------+---------+-----------+----------+-------------+-----------+-------+-----------+----------+-------------+-----------+"
      ]
     },
     "execution_count": 27,
     "metadata": {},
     "output_type": "execute_result"
    }
   ],
   "source": [
    "external_data_sdf = postcode_pop_sdf.join(postcode_income_sdf, on=\"postcode\", how=\"full\")\n",
    "print(external_data_sdf.count())\n",
    "external_data_sdf.limit(5)"
   ]
  },
  {
   "cell_type": "markdown",
   "id": "9cd7f66e",
   "metadata": {},
   "source": [
    "Join external data with existing data"
   ]
  },
  {
   "cell_type": "code",
   "execution_count": 28,
   "id": "d52ac4b3",
   "metadata": {},
   "outputs": [
    {
     "name": "stdout",
     "output_type": "stream",
     "text": [
      "13613661\n"
     ]
    },
    {
     "name": "stderr",
     "output_type": "stream",
     "text": [
      "                                                                                \r"
     ]
    },
    {
     "data": {
      "text/html": [
       "<table border='1'>\n",
       "<tr><th>merchant_abn</th><th>consumer_id</th><th>user_id</th><th>dollar_value</th><th>order_id</th><th>order_datetime</th><th>customer_name</th><th>address</th><th>state</th><th>postcode</th><th>gender</th><th>company_name</th><th>tags</th><th>take_rate</th><th>revenue_band</th></tr>\n",
       "<tr><td>69666829657</td><td>226</td><td>5162</td><td>79.65159982605903</td><td>8765ef9f-dba6-407...</td><td>2021-08-20</td><td>Courtney Torres</td><td>6945 Higgins Brooks</td><td>SA</td><td>5581</td><td>Female</td><td>Sem Ut Institute</td><td>bicycle shops - s...</td><td> 2.86</td><td> c</td></tr>\n",
       "<tr><td>49891706470</td><td>226</td><td>5162</td><td>3.887089224741017</td><td>9ba8ebb2-6593-49f...</td><td>2022-07-13</td><td>Courtney Torres</td><td>6945 Higgins Brooks</td><td>SA</td><td>5581</td><td>Female</td><td>Non Vestibulum In...</td><td>tent and awning s...</td><td> 5.80</td><td> a</td></tr>\n",
       "<tr><td>70610974780</td><td>226</td><td>5162</td><td>52.820359204536665</td><td>bdf345c8-4c5d-48e...</td><td>2021-08-20</td><td>Courtney Torres</td><td>6945 Higgins Brooks</td><td>SA</td><td>5581</td><td>Female</td><td>Elit Aliquam PC</td><td>tent and awning s...</td><td> 6.93</td><td> a</td></tr>\n",
       "<tr><td>85276983280</td><td>226</td><td>5162</td><td>250.33729038347653</td><td>dcad871d-1b75-4a8...</td><td>2022-05-06</td><td>Courtney Torres</td><td>6945 Higgins Brooks</td><td>SA</td><td>5581</td><td>Female</td><td>Lacus Varius Corp.</td><td>florists supplies...</td><td> 3.32</td><td> b</td></tr>\n",
       "<tr><td>15582655078</td><td>226</td><td>5162</td><td>75.31904078962366</td><td>47ddf8e0-5f72-408...</td><td>2021-08-21</td><td>Courtney Torres</td><td>6945 Higgins Brooks</td><td>SA</td><td>5581</td><td>Female</td><td>Eu Odio Phasellus...</td><td>gift, card, novel...</td><td> 6.77</td><td> a</td></tr>\n",
       "</table>\n"
      ],
      "text/plain": [
       "+------------+-----------+-------+------------------+--------------------+--------------+---------------+-------------------+-----+--------+------+--------------------+--------------------+---------+------------+\n",
       "|merchant_abn|consumer_id|user_id|      dollar_value|            order_id|order_datetime|  customer_name|            address|state|postcode|gender|        company_name|                tags|take_rate|revenue_band|\n",
       "+------------+-----------+-------+------------------+--------------------+--------------+---------------+-------------------+-----+--------+------+--------------------+--------------------+---------+------------+\n",
       "| 69666829657|        226|   5162| 79.65159982605903|8765ef9f-dba6-407...|    2021-08-20|Courtney Torres|6945 Higgins Brooks|   SA|    5581|Female|    Sem Ut Institute|bicycle shops - s...|     2.86|           c|\n",
       "| 49891706470|        226|   5162| 3.887089224741017|9ba8ebb2-6593-49f...|    2022-07-13|Courtney Torres|6945 Higgins Brooks|   SA|    5581|Female|Non Vestibulum In...|tent and awning s...|     5.80|           a|\n",
       "| 70610974780|        226|   5162|52.820359204536665|bdf345c8-4c5d-48e...|    2021-08-20|Courtney Torres|6945 Higgins Brooks|   SA|    5581|Female|     Elit Aliquam PC|tent and awning s...|     6.93|           a|\n",
       "| 85276983280|        226|   5162|250.33729038347653|dcad871d-1b75-4a8...|    2022-05-06|Courtney Torres|6945 Higgins Brooks|   SA|    5581|Female|  Lacus Varius Corp.|florists supplies...|     3.32|           b|\n",
       "| 15582655078|        226|   5162| 75.31904078962366|47ddf8e0-5f72-408...|    2021-08-21|Courtney Torres|6945 Higgins Brooks|   SA|    5581|Female|Eu Odio Phasellus...|gift, card, novel...|     6.77|           a|\n",
       "+------------+-----------+-------+------------------+--------------------+--------------+---------------+-------------------+-----+--------+------+--------------------+--------------------+---------+------------+"
      ]
     },
     "execution_count": 28,
     "metadata": {},
     "output_type": "execute_result"
    }
   ],
   "source": [
    "print(sdf.count())\n",
    "sdf.limit(5)"
   ]
  },
  {
   "cell_type": "code",
   "execution_count": 35,
   "id": "426216f2",
   "metadata": {},
   "outputs": [
    {
     "name": "stderr",
     "output_type": "stream",
     "text": [
      "                                                                                \r"
     ]
    },
    {
     "name": "stdout",
     "output_type": "stream",
     "text": [
      "13394287\n"
     ]
    },
    {
     "name": "stderr",
     "output_type": "stream",
     "text": [
      "                                                                                \r"
     ]
    },
    {
     "data": {
      "text/html": [
       "<table border='1'>\n",
       "<tr><th>postcode</th><th>merchant_abn</th><th>consumer_id</th><th>user_id</th><th>dollar_value</th><th>order_id</th><th>order_datetime</th><th>customer_name</th><th>address</th><th>state</th><th>gender</th><th>company_name</th><th>tags</th><th>take_rate</th><th>revenue_band</th><th>total_pop</th><th>under10_pop</th><th>adolsc_pop</th><th>yng_adult_pop</th><th>mid_age_pop</th><th>old_pop</th><th>num_earners</th><th>median_age</th><th>median_income</th><th>mean_income</th></tr>\n",
       "<tr><td>6731</td><td>49891706470</td><td>58911</td><td>22131</td><td>25.782245737474312</td><td>90498b80-984f-43c...</td><td>2022-07-13</td><td>Paul Lopez</td><td>3908 David Squares</td><td>WA</td><td>Male</td><td>Non Vestibulum In...</td><td>tent and awning s...</td><td> 5.80</td><td> a</td><td>8374</td><td>1373</td><td>1185</td><td>2200</td><td>2600</td><td>1016</td><td>2907</td><td>39</td><td>48034</td><td>56306</td></tr>\n",
       "<tr><td>6731</td><td>96680767841</td><td>58911</td><td>22131</td><td>415.9547984625</td><td>829843bc-c571-493...</td><td>2021-08-19</td><td>Paul Lopez</td><td>3908 David Squares</td><td>WA</td><td>Male</td><td>Ornare Limited</td><td>motor vehicle sup...</td><td> 5.91</td><td> a</td><td>8374</td><td>1373</td><td>1185</td><td>2200</td><td>2600</td><td>1016</td><td>2907</td><td>39</td><td>48034</td><td>56306</td></tr>\n",
       "<tr><td>6731</td><td>43186523025</td><td>58911</td><td>22131</td><td>33.082322196774484</td><td>c12d2520-12c8-40f...</td><td>2022-07-13</td><td>Paul Lopez</td><td>3908 David Squares</td><td>WA</td><td>Male</td><td>Lorem Ipsum Sodal...</td><td>florists supplies...</td><td> 4.47</td><td> b</td><td>8374</td><td>1373</td><td>1185</td><td>2200</td><td>2600</td><td>1016</td><td>2907</td><td>39</td><td>48034</td><td>56306</td></tr>\n",
       "<tr><td>6731</td><td>66370248931</td><td>58911</td><td>22131</td><td>82.54046571771035</td><td>cc8ac5c5-0dfc-4e1...</td><td>2021-08-19</td><td>Paul Lopez</td><td>3908 David Squares</td><td>WA</td><td>Male</td><td>Morbi Non PC</td><td>cable, satellite,...</td><td> 3.15</td><td> b</td><td>8374</td><td>1373</td><td>1185</td><td>2200</td><td>2600</td><td>1016</td><td>2907</td><td>39</td><td>48034</td><td>56306</td></tr>\n",
       "<tr><td>6731</td><td>89726005175</td><td>58911</td><td>22131</td><td>58.46693553052902</td><td>b1f179f8-2c15-4f5...</td><td>2022-05-06</td><td>Paul Lopez</td><td>3908 David Squares</td><td>WA</td><td>Male</td><td>Est Nunc Consulting</td><td>tent and awning s...</td><td> 6.01</td><td> a</td><td>8374</td><td>1373</td><td>1185</td><td>2200</td><td>2600</td><td>1016</td><td>2907</td><td>39</td><td>48034</td><td>56306</td></tr>\n",
       "</table>\n"
      ],
      "text/plain": [
       "+--------+------------+-----------+-------+------------------+--------------------+--------------+-------------+------------------+-----+------+--------------------+--------------------+---------+------------+---------+-----------+----------+-------------+-----------+-------+-----------+----------+-------------+-----------+\n",
       "|postcode|merchant_abn|consumer_id|user_id|      dollar_value|            order_id|order_datetime|customer_name|           address|state|gender|        company_name|                tags|take_rate|revenue_band|total_pop|under10_pop|adolsc_pop|yng_adult_pop|mid_age_pop|old_pop|num_earners|median_age|median_income|mean_income|\n",
       "+--------+------------+-----------+-------+------------------+--------------------+--------------+-------------+------------------+-----+------+--------------------+--------------------+---------+------------+---------+-----------+----------+-------------+-----------+-------+-----------+----------+-------------+-----------+\n",
       "|    6731| 49891706470|      58911|  22131|25.782245737474312|90498b80-984f-43c...|    2022-07-13|   Paul Lopez|3908 David Squares|   WA|  Male|Non Vestibulum In...|tent and awning s...|     5.80|           a|     8374|       1373|      1185|         2200|       2600|   1016|       2907|        39|        48034|      56306|\n",
       "|    6731| 96680767841|      58911|  22131|    415.9547984625|829843bc-c571-493...|    2021-08-19|   Paul Lopez|3908 David Squares|   WA|  Male|      Ornare Limited|motor vehicle sup...|     5.91|           a|     8374|       1373|      1185|         2200|       2600|   1016|       2907|        39|        48034|      56306|\n",
       "|    6731| 43186523025|      58911|  22131|33.082322196774484|c12d2520-12c8-40f...|    2022-07-13|   Paul Lopez|3908 David Squares|   WA|  Male|Lorem Ipsum Sodal...|florists supplies...|     4.47|           b|     8374|       1373|      1185|         2200|       2600|   1016|       2907|        39|        48034|      56306|\n",
       "|    6731| 66370248931|      58911|  22131| 82.54046571771035|cc8ac5c5-0dfc-4e1...|    2021-08-19|   Paul Lopez|3908 David Squares|   WA|  Male|        Morbi Non PC|cable, satellite,...|     3.15|           b|     8374|       1373|      1185|         2200|       2600|   1016|       2907|        39|        48034|      56306|\n",
       "|    6731| 89726005175|      58911|  22131| 58.46693553052902|b1f179f8-2c15-4f5...|    2022-05-06|   Paul Lopez|3908 David Squares|   WA|  Male| Est Nunc Consulting|tent and awning s...|     6.01|           a|     8374|       1373|      1185|         2200|       2600|   1016|       2907|        39|        48034|      56306|\n",
       "+--------+------------+-----------+-------+------------------+--------------------+--------------+-------------+------------------+-----+------+--------------------+--------------------+---------+------------+---------+-----------+----------+-------------+-----------+-------+-----------+----------+-------------+-----------+"
      ]
     },
     "execution_count": 35,
     "metadata": {},
     "output_type": "execute_result"
    }
   ],
   "source": [
    "final_sdf = sdf.join(external_data_sdf, on=\"postcode\", how=\"inner\")\n",
    "print(final_sdf.count())\n",
    "final_sdf.limit(5)"
   ]
  },
  {
   "cell_type": "code",
   "execution_count": 30,
   "id": "b657b69d",
   "metadata": {},
   "outputs": [
    {
     "name": "stdout",
     "output_type": "stream",
     "text": [
      "22/09/22 20:16:59 WARN package: Truncated the string representation of a plan since it was too large. This behavior can be adjusted by setting 'spark.sql.debug.maxToStringFields'.\n"
     ]
    },
    {
     "name": "stderr",
     "output_type": "stream",
     "text": [
      "                                                                                \r"
     ]
    },
    {
     "data": {
      "text/plain": [
       "11818811"
      ]
     },
     "execution_count": 30,
     "metadata": {},
     "output_type": "execute_result"
    }
   ],
   "source": [
    "final_sdf = final_sdf.dropna(how=\"any\")\n",
    "final_sdf.count()"
   ]
  },
  {
   "cell_type": "markdown",
   "id": "d4574f64",
   "metadata": {},
   "source": [
    "Null values occur because for some postcodes, population/income data did not exist. <br>\n",
    "Removing records containing null values resulted in the loss of 1,575,476 records."
   ]
  },
  {
   "cell_type": "markdown",
   "id": "41211903",
   "metadata": {},
   "source": [
    "### Fraud joins"
   ]
  },
  {
   "cell_type": "code",
   "execution_count": 31,
   "id": "c86cc58d",
   "metadata": {},
   "outputs": [
    {
     "data": {
      "text/plain": [
       "34765"
      ]
     },
     "execution_count": 31,
     "metadata": {},
     "output_type": "execute_result"
    }
   ],
   "source": [
    "consumerfraud_sdf = spark.read.parquet(\"../data/curated/consumerfrauddf.parquet/\")\n",
    "consumerfraud_sdf = consumerfraud_sdf.withColumnRenamed(\"fraud_probability\",\"consumer_fraud_%\")\n",
    "consumerfraud_sdf.count()"
   ]
  },
  {
   "cell_type": "code",
   "execution_count": 32,
   "id": "bc07885e",
   "metadata": {},
   "outputs": [
    {
     "data": {
      "text/plain": [
       "114"
      ]
     },
     "execution_count": 32,
     "metadata": {},
     "output_type": "execute_result"
    }
   ],
   "source": [
    "merchantfraud_sdf = spark.read.parquet(\"../data/curated/merchantfrauddf.parquet/\")\n",
    "merchantfraud_sdf = merchantfraud_sdf.withColumnRenamed(\"fraud_probability\",\"merchant_fraud_%\")\n",
    "merchantfraud_sdf.count()"
   ]
  },
  {
   "cell_type": "code",
   "execution_count": 34,
   "id": "a59c196f",
   "metadata": {},
   "outputs": [
    {
     "name": "stderr",
     "output_type": "stream",
     "text": [
      "                                                                                \r"
     ]
    },
    {
     "name": "stdout",
     "output_type": "stream",
     "text": [
      "11818811\n"
     ]
    },
    {
     "name": "stderr",
     "output_type": "stream",
     "text": [
      "                                                                                \r"
     ]
    },
    {
     "name": "stdout",
     "output_type": "stream",
     "text": [
      "11818811\n"
     ]
    },
    {
     "name": "stderr",
     "output_type": "stream",
     "text": [
      "                                                                                \r"
     ]
    },
    {
     "name": "stdout",
     "output_type": "stream",
     "text": [
      "11818811\n"
     ]
    },
    {
     "name": "stderr",
     "output_type": "stream",
     "text": [
      "                                                                                \r"
     ]
    },
    {
     "data": {
      "text/html": [
       "<table border='1'>\n",
       "<tr><th>order_datetime</th><th>merchant_abn</th><th>user_id</th><th>postcode</th><th>consumer_id</th><th>dollar_value</th><th>order_id</th><th>customer_name</th><th>address</th><th>state</th><th>gender</th><th>company_name</th><th>tags</th><th>take_rate</th><th>revenue_band</th><th>total_pop</th><th>under10_pop</th><th>adolsc_pop</th><th>yng_adult_pop</th><th>mid_age_pop</th><th>old_pop</th><th>num_earners</th><th>median_age</th><th>median_income</th><th>mean_income</th><th>consumer_fraud_%</th><th>consumer_fraud_%</th><th>merchant_fraud_%</th></tr>\n",
       "<tr><td>2022-07-13</td><td>49891706470</td><td>22131</td><td>6731</td><td>58911</td><td>25.782245737474312</td><td>90498b80-984f-43c...</td><td>Paul Lopez</td><td>3908 David Squares</td><td>WA</td><td>Male</td><td>Non Vestibulum In...</td><td>tent and awning s...</td><td> 5.80</td><td> a</td><td>8374</td><td>1373</td><td>1185</td><td>2200</td><td>2600</td><td>1016</td><td>2907</td><td>39</td><td>48034</td><td>56306</td><td>null</td><td>null</td><td>null</td></tr>\n",
       "<tr><td>2021-08-19</td><td>96680767841</td><td>22131</td><td>6731</td><td>58911</td><td>415.9547984625</td><td>829843bc-c571-493...</td><td>Paul Lopez</td><td>3908 David Squares</td><td>WA</td><td>Male</td><td>Ornare Limited</td><td>motor vehicle sup...</td><td> 5.91</td><td> a</td><td>8374</td><td>1373</td><td>1185</td><td>2200</td><td>2600</td><td>1016</td><td>2907</td><td>39</td><td>48034</td><td>56306</td><td>null</td><td>null</td><td>null</td></tr>\n",
       "<tr><td>2022-07-13</td><td>43186523025</td><td>22131</td><td>6731</td><td>58911</td><td>33.082322196774484</td><td>c12d2520-12c8-40f...</td><td>Paul Lopez</td><td>3908 David Squares</td><td>WA</td><td>Male</td><td>Lorem Ipsum Sodal...</td><td>florists supplies...</td><td> 4.47</td><td> b</td><td>8374</td><td>1373</td><td>1185</td><td>2200</td><td>2600</td><td>1016</td><td>2907</td><td>39</td><td>48034</td><td>56306</td><td>null</td><td>null</td><td>null</td></tr>\n",
       "<tr><td>2021-08-19</td><td>66370248931</td><td>22131</td><td>6731</td><td>58911</td><td>82.54046571771035</td><td>cc8ac5c5-0dfc-4e1...</td><td>Paul Lopez</td><td>3908 David Squares</td><td>WA</td><td>Male</td><td>Morbi Non PC</td><td>cable, satellite,...</td><td> 3.15</td><td> b</td><td>8374</td><td>1373</td><td>1185</td><td>2200</td><td>2600</td><td>1016</td><td>2907</td><td>39</td><td>48034</td><td>56306</td><td>null</td><td>null</td><td>null</td></tr>\n",
       "<tr><td>2022-05-06</td><td>89726005175</td><td>22131</td><td>6731</td><td>58911</td><td>58.46693553052902</td><td>b1f179f8-2c15-4f5...</td><td>Paul Lopez</td><td>3908 David Squares</td><td>WA</td><td>Male</td><td>Est Nunc Consulting</td><td>tent and awning s...</td><td> 6.01</td><td> a</td><td>8374</td><td>1373</td><td>1185</td><td>2200</td><td>2600</td><td>1016</td><td>2907</td><td>39</td><td>48034</td><td>56306</td><td>null</td><td>null</td><td>null</td></tr>\n",
       "</table>\n"
      ],
      "text/plain": [
       "+--------------+------------+-------+--------+-----------+------------------+--------------------+-------------+------------------+-----+------+--------------------+--------------------+---------+------------+---------+-----------+----------+-------------+-----------+-------+-----------+----------+-------------+-----------+----------------+----------------+----------------+\n",
       "|order_datetime|merchant_abn|user_id|postcode|consumer_id|      dollar_value|            order_id|customer_name|           address|state|gender|        company_name|                tags|take_rate|revenue_band|total_pop|under10_pop|adolsc_pop|yng_adult_pop|mid_age_pop|old_pop|num_earners|median_age|median_income|mean_income|consumer_fraud_%|consumer_fraud_%|merchant_fraud_%|\n",
       "+--------------+------------+-------+--------+-----------+------------------+--------------------+-------------+------------------+-----+------+--------------------+--------------------+---------+------------+---------+-----------+----------+-------------+-----------+-------+-----------+----------+-------------+-----------+----------------+----------------+----------------+\n",
       "|    2022-07-13| 49891706470|  22131|    6731|      58911|25.782245737474312|90498b80-984f-43c...|   Paul Lopez|3908 David Squares|   WA|  Male|Non Vestibulum In...|tent and awning s...|     5.80|           a|     8374|       1373|      1185|         2200|       2600|   1016|       2907|        39|        48034|      56306|            null|            null|            null|\n",
       "|    2021-08-19| 96680767841|  22131|    6731|      58911|    415.9547984625|829843bc-c571-493...|   Paul Lopez|3908 David Squares|   WA|  Male|      Ornare Limited|motor vehicle sup...|     5.91|           a|     8374|       1373|      1185|         2200|       2600|   1016|       2907|        39|        48034|      56306|            null|            null|            null|\n",
       "|    2022-07-13| 43186523025|  22131|    6731|      58911|33.082322196774484|c12d2520-12c8-40f...|   Paul Lopez|3908 David Squares|   WA|  Male|Lorem Ipsum Sodal...|florists supplies...|     4.47|           b|     8374|       1373|      1185|         2200|       2600|   1016|       2907|        39|        48034|      56306|            null|            null|            null|\n",
       "|    2021-08-19| 66370248931|  22131|    6731|      58911| 82.54046571771035|cc8ac5c5-0dfc-4e1...|   Paul Lopez|3908 David Squares|   WA|  Male|        Morbi Non PC|cable, satellite,...|     3.15|           b|     8374|       1373|      1185|         2200|       2600|   1016|       2907|        39|        48034|      56306|            null|            null|            null|\n",
       "|    2022-05-06| 89726005175|  22131|    6731|      58911| 58.46693553052902|b1f179f8-2c15-4f5...|   Paul Lopez|3908 David Squares|   WA|  Male| Est Nunc Consulting|tent and awning s...|     6.01|           a|     8374|       1373|      1185|         2200|       2600|   1016|       2907|        39|        48034|      56306|            null|            null|            null|\n",
       "+--------------+------------+-------+--------+-----------+------------------+--------------------+-------------+------------------+-----+------+--------------------+--------------------+---------+------------+---------+-----------+----------+-------------+-----------+-------+-----------+----------+-------------+-----------+----------------+----------------+----------------+"
      ]
     },
     "execution_count": 34,
     "metadata": {},
     "output_type": "execute_result"
    }
   ],
   "source": [
    "print(final_sdf.count())\n",
    "final_sdf = final_sdf.join(consumerfraud_sdf, [\"order_datetime\", \"user_id\"], \"leftouter\")\n",
    "print(final_sdf.count())\n",
    "final_sdf = final_sdf.join(merchantfraud_sdf, [\"order_datetime\", \"merchant_abn\"], \"leftouter\")\n",
    "print(final_sdf.count())\n",
    "final_sdf.limit(5)"
   ]
  },
  {
   "cell_type": "code",
   "execution_count": 37,
   "id": "04e2beb7",
   "metadata": {},
   "outputs": [
    {
     "name": "stderr",
     "output_type": "stream",
     "text": [
      "                                                                                \r"
     ]
    },
    {
     "data": {
      "text/html": [
       "<table border='1'>\n",
       "<tr><th>postcode</th><th>merchant_abn</th><th>consumer_id</th><th>user_id</th><th>dollar_value</th><th>order_id</th><th>order_datetime</th><th>state</th><th>gender</th><th>company_name</th><th>tags</th><th>take_rate</th><th>revenue_band</th><th>total_pop</th><th>under10_pop</th><th>adolsc_pop</th><th>yng_adult_pop</th><th>mid_age_pop</th><th>old_pop</th><th>num_earners</th><th>median_age</th><th>median_income</th><th>mean_income</th></tr>\n",
       "<tr><td>6731</td><td>49891706470</td><td>58911</td><td>22131</td><td>25.782245737474312</td><td>90498b80-984f-43c...</td><td>2022-07-13</td><td>WA</td><td>Male</td><td>Non Vestibulum In...</td><td>tent and awning s...</td><td> 5.80</td><td> a</td><td>8374</td><td>1373</td><td>1185</td><td>2200</td><td>2600</td><td>1016</td><td>2907</td><td>39</td><td>48034</td><td>56306</td></tr>\n",
       "<tr><td>6731</td><td>96680767841</td><td>58911</td><td>22131</td><td>415.9547984625</td><td>829843bc-c571-493...</td><td>2021-08-19</td><td>WA</td><td>Male</td><td>Ornare Limited</td><td>motor vehicle sup...</td><td> 5.91</td><td> a</td><td>8374</td><td>1373</td><td>1185</td><td>2200</td><td>2600</td><td>1016</td><td>2907</td><td>39</td><td>48034</td><td>56306</td></tr>\n",
       "<tr><td>6731</td><td>43186523025</td><td>58911</td><td>22131</td><td>33.082322196774484</td><td>c12d2520-12c8-40f...</td><td>2022-07-13</td><td>WA</td><td>Male</td><td>Lorem Ipsum Sodal...</td><td>florists supplies...</td><td> 4.47</td><td> b</td><td>8374</td><td>1373</td><td>1185</td><td>2200</td><td>2600</td><td>1016</td><td>2907</td><td>39</td><td>48034</td><td>56306</td></tr>\n",
       "<tr><td>6731</td><td>66370248931</td><td>58911</td><td>22131</td><td>82.54046571771035</td><td>cc8ac5c5-0dfc-4e1...</td><td>2021-08-19</td><td>WA</td><td>Male</td><td>Morbi Non PC</td><td>cable, satellite,...</td><td> 3.15</td><td> b</td><td>8374</td><td>1373</td><td>1185</td><td>2200</td><td>2600</td><td>1016</td><td>2907</td><td>39</td><td>48034</td><td>56306</td></tr>\n",
       "<tr><td>6731</td><td>89726005175</td><td>58911</td><td>22131</td><td>58.46693553052902</td><td>b1f179f8-2c15-4f5...</td><td>2022-05-06</td><td>WA</td><td>Male</td><td>Est Nunc Consulting</td><td>tent and awning s...</td><td> 6.01</td><td> a</td><td>8374</td><td>1373</td><td>1185</td><td>2200</td><td>2600</td><td>1016</td><td>2907</td><td>39</td><td>48034</td><td>56306</td></tr>\n",
       "</table>\n"
      ],
      "text/plain": [
       "+--------+------------+-----------+-------+------------------+--------------------+--------------+-----+------+--------------------+--------------------+---------+------------+---------+-----------+----------+-------------+-----------+-------+-----------+----------+-------------+-----------+\n",
       "|postcode|merchant_abn|consumer_id|user_id|      dollar_value|            order_id|order_datetime|state|gender|        company_name|                tags|take_rate|revenue_band|total_pop|under10_pop|adolsc_pop|yng_adult_pop|mid_age_pop|old_pop|num_earners|median_age|median_income|mean_income|\n",
       "+--------+------------+-----------+-------+------------------+--------------------+--------------+-----+------+--------------------+--------------------+---------+------------+---------+-----------+----------+-------------+-----------+-------+-----------+----------+-------------+-----------+\n",
       "|    6731| 49891706470|      58911|  22131|25.782245737474312|90498b80-984f-43c...|    2022-07-13|   WA|  Male|Non Vestibulum In...|tent and awning s...|     5.80|           a|     8374|       1373|      1185|         2200|       2600|   1016|       2907|        39|        48034|      56306|\n",
       "|    6731| 96680767841|      58911|  22131|    415.9547984625|829843bc-c571-493...|    2021-08-19|   WA|  Male|      Ornare Limited|motor vehicle sup...|     5.91|           a|     8374|       1373|      1185|         2200|       2600|   1016|       2907|        39|        48034|      56306|\n",
       "|    6731| 43186523025|      58911|  22131|33.082322196774484|c12d2520-12c8-40f...|    2022-07-13|   WA|  Male|Lorem Ipsum Sodal...|florists supplies...|     4.47|           b|     8374|       1373|      1185|         2200|       2600|   1016|       2907|        39|        48034|      56306|\n",
       "|    6731| 66370248931|      58911|  22131| 82.54046571771035|cc8ac5c5-0dfc-4e1...|    2021-08-19|   WA|  Male|        Morbi Non PC|cable, satellite,...|     3.15|           b|     8374|       1373|      1185|         2200|       2600|   1016|       2907|        39|        48034|      56306|\n",
       "|    6731| 89726005175|      58911|  22131| 58.46693553052902|b1f179f8-2c15-4f5...|    2022-05-06|   WA|  Male| Est Nunc Consulting|tent and awning s...|     6.01|           a|     8374|       1373|      1185|         2200|       2600|   1016|       2907|        39|        48034|      56306|\n",
       "+--------+------------+-----------+-------+------------------+--------------------+--------------+-----+------+--------------------+--------------------+---------+------------+---------+-----------+----------+-------------+-----------+-------+-----------+----------+-------------+-----------+"
      ]
     },
     "execution_count": 37,
     "metadata": {},
     "output_type": "execute_result"
    }
   ],
   "source": [
    "final_sdf = final_sdf.drop(\"customer_name\",\"address\")\n",
    "final_sdf = final_sdf.na.fill(0.1)\n",
    "final_sdf.limit(5)"
   ]
  },
  {
   "cell_type": "markdown",
   "id": "d19d0d78",
   "metadata": {},
   "source": [
    "Total Records after joining:\n",
    "11818811"
   ]
  },
  {
   "cell_type": "markdown",
   "id": "b0b43c9d",
   "metadata": {},
   "source": [
    "## Dealing with current fraud data"
   ]
  },
  {
   "cell_type": "code",
   "execution_count": 11,
   "id": "d612637b",
   "metadata": {},
   "outputs": [
    {
     "name": "stderr",
     "output_type": "stream",
     "text": [
      "                                                                                \r"
     ]
    },
    {
     "name": "stdout",
     "output_type": "stream",
     "text": [
      "20773062\n"
     ]
    },
    {
     "name": "stderr",
     "output_type": "stream",
     "text": [
      "[Stage 168:================================>                        (4 + 3) / 7]\r"
     ]
    },
    {
     "name": "stdout",
     "output_type": "stream",
     "text": [
      "20757549 15513\n"
     ]
    },
    {
     "name": "stderr",
     "output_type": "stream",
     "text": [
      "                                                                                \r"
     ]
    }
   ],
   "source": [
    "MERCHANT_THRESH = 20\n",
    "CONSUMER_THRESH = 20\n",
    "\n",
    "print(final_sdf.count())\n",
    "testdf = final_sdf.filter(final_sdf[\"merchant_fraud_%\"] < MERCHANT_THRESH)\n",
    "testdf = final_sdf.filter(final_sdf[\"consumer_fraud_%\"] < CONSUMER_THRESH)\n",
    "print(testdf.count(), final_sdf.count()-testdf.count())"
   ]
  },
  {
   "cell_type": "markdown",
   "id": "aaaab081",
   "metadata": {},
   "source": [
    "Keeping the fraud prob below 20% for each give us a good chance that most fraud data has been removed <br>\n",
    "The removal of 15 thousand records is not alot considering we still have 20 million plus records still left <br>\n",
    "The fact that most of the fraud transactions are now removed allows us to build a metric for determining future fraud"
   ]
  },
  {
   "cell_type": "code",
   "execution_count": 12,
   "id": "9048c68f",
   "metadata": {},
   "outputs": [],
   "source": [
    "final_sdf = final_sdf.filter(final_sdf[\"merchant_fraud_%\"] < MERCHANT_THRESH)\n",
    "final_sdf = final_sdf.filter(final_sdf[\"consumer_fraud_%\"] < CONSUMER_THRESH)"
   ]
  },
  {
   "cell_type": "code",
   "execution_count": 13,
   "id": "7f0cb477",
   "metadata": {},
   "outputs": [
    {
     "name": "stderr",
     "output_type": "stream",
     "text": [
      "                                                                                \r"
     ]
    },
    {
     "data": {
      "text/html": [
       "<table border='1'>\n",
       "<tr><th>order_datetime</th><th>merchant_abn</th><th>user_id</th><th>sa2_code</th><th>postcode</th><th>consumer_id</th><th>dollar_value</th><th>order_id</th><th>state</th><th>gender</th><th>company_name</th><th>tags</th><th>take_rate</th><th>revenue_band</th><th>SA2 name</th><th>Total</th><th>Under 10</th><th>Adolescent</th><th>Young adult</th><th>Middle age</th><th>Old</th><th>num_earners</th><th>median_age</th><th>median_income</th><th>mean_income</th><th>consumer_fraud_%</th><th>merchant_fraud_%</th></tr>\n",
       "<tr><td>2021-08-20</td><td>94472466107</td><td>13842</td><td>216011410</td><td>3612</td><td>30</td><td>36.094519921528466</td><td>0dc80e20-901c-410...</td><td>VIC</td><td>Female</td><td>Eu Dolor Egestas PC</td><td>cable, satellite,...</td><td> 6.23</td><td> a</td><td>Rushworth</td><td>4166</td><td>416</td><td>418</td><td>531</td><td>1300</td><td>1501</td><td>2060</td><td>50</td><td>38359</td><td>45788</td><td>0.1</td><td>0.1</td></tr>\n",
       "<tr><td>2021-08-20</td><td>94472466107</td><td>13842</td><td>204011058</td><td>3612</td><td>30</td><td>36.094519921528466</td><td>0dc80e20-901c-410...</td><td>VIC</td><td>Female</td><td>Eu Dolor Egestas PC</td><td>cable, satellite,...</td><td> 6.23</td><td> a</td><td>Nagambie</td><td>4507</td><td>441</td><td>443</td><td>570</td><td>1371</td><td>1682</td><td>2360</td><td>49</td><td>45235</td><td>53483</td><td>0.1</td><td>0.1</td></tr>\n",
       "<tr><td>2021-08-21</td><td>21532935983</td><td>13842</td><td>216011410</td><td>3612</td><td>30</td><td>71.1148505207073</td><td>5fbb2316-39b7-43b...</td><td>VIC</td><td>Female</td><td>Eleifend Nec Inco...</td><td>cable, satellite,...</td><td> 5.58</td><td> a</td><td>Rushworth</td><td>4166</td><td>416</td><td>418</td><td>531</td><td>1300</td><td>1501</td><td>2060</td><td>50</td><td>38359</td><td>45788</td><td>0.1</td><td>0.1</td></tr>\n",
       "<tr><td>2021-08-21</td><td>21532935983</td><td>13842</td><td>204011058</td><td>3612</td><td>30</td><td>71.1148505207073</td><td>5fbb2316-39b7-43b...</td><td>VIC</td><td>Female</td><td>Eleifend Nec Inco...</td><td>cable, satellite,...</td><td> 5.58</td><td> a</td><td>Nagambie</td><td>4507</td><td>441</td><td>443</td><td>570</td><td>1371</td><td>1682</td><td>2360</td><td>49</td><td>45235</td><td>53483</td><td>0.1</td><td>0.1</td></tr>\n",
       "<tr><td>2021-08-19</td><td>60956456424</td><td>13842</td><td>216011410</td><td>3612</td><td>30</td><td>56.52469841268393</td><td>60bc5068-e775-4c4...</td><td>VIC</td><td>Female</td><td>Ultricies Digniss...</td><td>gift, card, novel...</td><td> 4.69</td><td> b</td><td>Rushworth</td><td>4166</td><td>416</td><td>418</td><td>531</td><td>1300</td><td>1501</td><td>2060</td><td>50</td><td>38359</td><td>45788</td><td>0.1</td><td>0.1</td></tr>\n",
       "</table>\n"
      ],
      "text/plain": [
       "+--------------+------------+-------+---------+--------+-----------+------------------+--------------------+-----+------+--------------------+--------------------+---------+------------+---------+-----+--------+----------+-----------+----------+----+-----------+----------+-------------+-----------+----------------+----------------+\n",
       "|order_datetime|merchant_abn|user_id| sa2_code|postcode|consumer_id|      dollar_value|            order_id|state|gender|        company_name|                tags|take_rate|revenue_band| SA2 name|Total|Under 10|Adolescent|Young adult|Middle age| Old|num_earners|median_age|median_income|mean_income|consumer_fraud_%|merchant_fraud_%|\n",
       "+--------------+------------+-------+---------+--------+-----------+------------------+--------------------+-----+------+--------------------+--------------------+---------+------------+---------+-----+--------+----------+-----------+----------+----+-----------+----------+-------------+-----------+----------------+----------------+\n",
       "|    2021-08-20| 94472466107|  13842|216011410|    3612|         30|36.094519921528466|0dc80e20-901c-410...|  VIC|Female| Eu Dolor Egestas PC|cable, satellite,...|     6.23|           a|Rushworth| 4166|     416|       418|        531|      1300|1501|       2060|        50|        38359|      45788|             0.1|             0.1|\n",
       "|    2021-08-20| 94472466107|  13842|204011058|    3612|         30|36.094519921528466|0dc80e20-901c-410...|  VIC|Female| Eu Dolor Egestas PC|cable, satellite,...|     6.23|           a| Nagambie| 4507|     441|       443|        570|      1371|1682|       2360|        49|        45235|      53483|             0.1|             0.1|\n",
       "|    2021-08-21| 21532935983|  13842|216011410|    3612|         30|  71.1148505207073|5fbb2316-39b7-43b...|  VIC|Female|Eleifend Nec Inco...|cable, satellite,...|     5.58|           a|Rushworth| 4166|     416|       418|        531|      1300|1501|       2060|        50|        38359|      45788|             0.1|             0.1|\n",
       "|    2021-08-21| 21532935983|  13842|204011058|    3612|         30|  71.1148505207073|5fbb2316-39b7-43b...|  VIC|Female|Eleifend Nec Inco...|cable, satellite,...|     5.58|           a| Nagambie| 4507|     441|       443|        570|      1371|1682|       2360|        49|        45235|      53483|             0.1|             0.1|\n",
       "|    2021-08-19| 60956456424|  13842|216011410|    3612|         30| 56.52469841268393|60bc5068-e775-4c4...|  VIC|Female|Ultricies Digniss...|gift, card, novel...|     4.69|           b|Rushworth| 4166|     416|       418|        531|      1300|1501|       2060|        50|        38359|      45788|             0.1|             0.1|\n",
       "+--------------+------------+-------+---------+--------+-----------+------------------+--------------------+-----+------+--------------------+--------------------+---------+------------+---------+-----+--------+----------+-----------+----------+----+-----------+----------+-------------+-----------+----------------+----------------+"
      ]
     },
     "execution_count": 13,
     "metadata": {},
     "output_type": "execute_result"
    }
   ],
   "source": [
    "final_sdf.limit(5)"
   ]
  },
  {
   "cell_type": "markdown",
   "id": "6df148e0",
   "metadata": {},
   "source": [
    "## Dealing with future fraud"
   ]
  },
  {
   "cell_type": "markdown",
   "id": "2bea9402",
   "metadata": {},
   "source": [
    "2 main ways to determine fraud:\n",
    "- High number of transactions in a given day\n",
    "- High transaction amounts"
   ]
  },
  {
   "cell_type": "markdown",
   "id": "f2fffc54",
   "metadata": {},
   "source": [
    "### Merchant"
   ]
  },
  {
   "cell_type": "code",
   "execution_count": 14,
   "id": "a137a39e",
   "metadata": {},
   "outputs": [
    {
     "name": "stderr",
     "output_type": "stream",
     "text": [
      "                                                                                \r"
     ]
    },
    {
     "data": {
      "text/html": [
       "<table border='1'>\n",
       "<tr><th>merchant_abn</th><th>order_datetime</th><th>mean_amount</th><th>min_amount</th><th>max_amount</th><th>transactions</th></tr>\n",
       "<tr><td>24852446429</td><td>2021-11-26</td><td>30.464173619816343</td><td>0.4388815965837197</td><td>168.92668885555742</td><td>1916</td></tr>\n",
       "<tr><td>24852446429</td><td>2021-11-27</td><td>31.636556215187294</td><td>1.003369617502435</td><td>193.03651325623903</td><td>1783</td></tr>\n",
       "<tr><td>86578477987</td><td>2021-11-26</td><td>33.86953965973572</td><td>0.1615814452824192</td><td>163.1881979840336</td><td>1779</td></tr>\n",
       "<tr><td>24852446429</td><td>2021-11-29</td><td>30.501847956659855</td><td>0.7022808404239752</td><td>137.595051098878</td><td>1744</td></tr>\n",
       "<tr><td>49891706470</td><td>2021-11-26</td><td>28.682157995166236</td><td>3.001709666041197</td><td>54.95671169593744</td><td>1701</td></tr>\n",
       "</table>\n"
      ],
      "text/plain": [
       "+------------+--------------+------------------+------------------+------------------+------------+\n",
       "|merchant_abn|order_datetime|       mean_amount|        min_amount|        max_amount|transactions|\n",
       "+------------+--------------+------------------+------------------+------------------+------------+\n",
       "| 24852446429|    2021-11-26|30.464173619816343|0.4388815965837197|168.92668885555742|        1916|\n",
       "| 24852446429|    2021-11-27|31.636556215187294| 1.003369617502435|193.03651325623903|        1783|\n",
       "| 86578477987|    2021-11-26| 33.86953965973572|0.1615814452824192| 163.1881979840336|        1779|\n",
       "| 24852446429|    2021-11-29|30.501847956659855|0.7022808404239752|  137.595051098878|        1744|\n",
       "| 49891706470|    2021-11-26|28.682157995166236| 3.001709666041197| 54.95671169593744|        1701|\n",
       "+------------+--------------+------------------+------------------+------------------+------------+"
      ]
     },
     "execution_count": 14,
     "metadata": {},
     "output_type": "execute_result"
    }
   ],
   "source": [
    "# this gets the stats for each merchant for each day\n",
    "merchanttestdf = final_sdf.groupBy(\"merchant_abn\",\"order_datetime\").agg(\n",
    "    mean(\"dollar_value\").alias(\"mean_amount\"),\n",
    "    min(\"dollar_value\").alias(\"min_amount\"),\n",
    "    max(\"dollar_value\").alias(\"max_amount\"),\n",
    "    count(\"dollar_value\").alias(\"transactions\"),\n",
    "    ).orderBy(desc(\"transactions\"))\n",
    "\n",
    "merchanttestdf.limit(5)"
   ]
  },
  {
   "cell_type": "code",
   "execution_count": 15,
   "id": "fd0c164e",
   "metadata": {},
   "outputs": [
    {
     "name": "stderr",
     "output_type": "stream",
     "text": [
      "                                                                                \r"
     ]
    },
    {
     "data": {
      "text/html": [
       "<table border='1'>\n",
       "<tr><th>merchant_abn</th><th>mean_amount</th><th>min_amount</th><th>max_amount</th><th>mean_transactions</th><th>min_transactions</th><th>max_transactions</th></tr>\n",
       "<tr><td>24852446429</td><td>29.994179500150423</td><td>1.0013482034321513</td><td>132.63726075232657</td><td>727.2062706270627</td><td>442</td><td>1916</td></tr>\n",
       "<tr><td>86578477987</td><td>34.979955339726516</td><td>1.1720818299391733</td><td>153.98697166956993</td><td>685.6435643564356</td><td>412</td><td>1779</td></tr>\n",
       "<tr><td>49891706470</td><td>28.942374924196557</td><td>3.1556904183096153</td><td>54.84419033696536</td><td>621.6039603960396</td><td>335</td><td>1701</td></tr>\n",
       "<tr><td>64203420245</td><td>28.956123060148233</td><td>3.14451491936713</td><td>54.85378248897557</td><td>656.2095709570957</td><td>360</td><td>1681</td></tr>\n",
       "<tr><td>46804135891</td><td>30.04504181207258</td><td>0.10486943927438087</td><td>190.93127738260756</td><td>588.2376237623762</td><td>331</td><td>1607</td></tr>\n",
       "</table>\n"
      ],
      "text/plain": [
       "+------------+------------------+-------------------+------------------+-----------------+----------------+----------------+\n",
       "|merchant_abn|       mean_amount|         min_amount|        max_amount|mean_transactions|min_transactions|max_transactions|\n",
       "+------------+------------------+-------------------+------------------+-----------------+----------------+----------------+\n",
       "| 24852446429|29.994179500150423| 1.0013482034321513|132.63726075232657|727.2062706270627|             442|            1916|\n",
       "| 86578477987|34.979955339726516| 1.1720818299391733|153.98697166956993|685.6435643564356|             412|            1779|\n",
       "| 49891706470|28.942374924196557| 3.1556904183096153| 54.84419033696536|621.6039603960396|             335|            1701|\n",
       "| 64203420245|28.956123060148233|   3.14451491936713| 54.85378248897557|656.2095709570957|             360|            1681|\n",
       "| 46804135891| 30.04504181207258|0.10486943927438087|190.93127738260756|588.2376237623762|             331|            1607|\n",
       "+------------+------------------+-------------------+------------------+-----------------+----------------+----------------+"
      ]
     },
     "execution_count": 15,
     "metadata": {},
     "output_type": "execute_result"
    }
   ],
   "source": [
    "# this gets the average stats for a merchant on any given day\n",
    "merchanttestdf = merchanttestdf.groupBy(\"merchant_abn\").agg(\n",
    "    mean(\"mean_amount\").alias(\"mean_amount\"),\n",
    "    mean(\"min_amount\").alias(\"min_amount\"),\n",
    "    mean(\"max_amount\").alias(\"max_amount\"),\n",
    "    mean(\"transactions\").alias(\"mean_transactions\"),\n",
    "    min(\"transactions\").alias(\"min_transactions\"),\n",
    "    max(\"transactions\").alias(\"max_transactions\"),\n",
    "    ).orderBy(desc(\"max_transactions\"))\n",
    "\n",
    "merchanttestdf.limit(5)"
   ]
  },
  {
   "cell_type": "markdown",
   "id": "83bef868",
   "metadata": {},
   "source": [
    "We now have a dataset that gives us all the statistics we need to determine if future merchant transactions are fraud <br>\n",
    "for the time being if a merchant has > 1.5 x max_transactions in a day it is considered fraud <br>\n",
    "if a merchant has > 1.5 x max_amount in a day it is considered fraud"
   ]
  },
  {
   "cell_type": "markdown",
   "id": "ba304c1f",
   "metadata": {},
   "source": [
    "### User"
   ]
  },
  {
   "cell_type": "code",
   "execution_count": 16,
   "id": "abe83766",
   "metadata": {},
   "outputs": [
    {
     "name": "stderr",
     "output_type": "stream",
     "text": [
      "                                                                                \r"
     ]
    },
    {
     "data": {
      "text/html": [
       "<table border='1'>\n",
       "<tr><th>user_id</th><th>order_datetime</th><th>mean_amount</th><th>min_amount</th><th>max_amount</th><th>transactions</th></tr>\n",
       "<tr><td>20931</td><td>2021-11-29</td><td>119.06473250477067</td><td>28.04893125562283</td><td>445.0802574763232</td><td>104</td></tr>\n",
       "<tr><td>17417</td><td>2021-11-26</td><td>72.40206052677397</td><td>4.4464593786411095</td><td>157.8166304195111</td><td>98</td></tr>\n",
       "<tr><td>6072</td><td>2021-11-22</td><td>269.3998632737218</td><td>6.712747985289963</td><td>622.847977814607</td><td>98</td></tr>\n",
       "<tr><td>20651</td><td>2021-11-25</td><td>62.674804005227486</td><td>13.418453836985401</td><td>125.3852608556601</td><td>98</td></tr>\n",
       "<tr><td>17417</td><td>2021-11-29</td><td>167.94750291512926</td><td>1.6711964900188083</td><td>719.3382556816264</td><td>98</td></tr>\n",
       "</table>\n"
      ],
      "text/plain": [
       "+-------+--------------+------------------+------------------+-----------------+------------+\n",
       "|user_id|order_datetime|       mean_amount|        min_amount|       max_amount|transactions|\n",
       "+-------+--------------+------------------+------------------+-----------------+------------+\n",
       "|  20931|    2021-11-29|119.06473250477067| 28.04893125562283|445.0802574763232|         104|\n",
       "|  17417|    2021-11-26| 72.40206052677397|4.4464593786411095|157.8166304195111|          98|\n",
       "|   6072|    2021-11-22| 269.3998632737218| 6.712747985289963| 622.847977814607|          98|\n",
       "|  20651|    2021-11-25|62.674804005227486|13.418453836985401|125.3852608556601|          98|\n",
       "|  17417|    2021-11-29|167.94750291512926|1.6711964900188083|719.3382556816264|          98|\n",
       "+-------+--------------+------------------+------------------+-----------------+------------+"
      ]
     },
     "execution_count": 16,
     "metadata": {},
     "output_type": "execute_result"
    }
   ],
   "source": [
    "# this gets the stats for each user for each day\n",
    "usertestdf = final_sdf.groupBy(\"user_id\",\"order_datetime\").agg(\n",
    "    mean(\"dollar_value\").alias(\"mean_amount\"),\n",
    "    min(\"dollar_value\").alias(\"min_amount\"),\n",
    "    max(\"dollar_value\").alias(\"max_amount\"),\n",
    "    count(\"dollar_value\").alias(\"transactions\"),\n",
    "    ).orderBy(desc(\"transactions\"))\n",
    "\n",
    "usertestdf.limit(5)"
   ]
  },
  {
   "cell_type": "code",
   "execution_count": 17,
   "id": "74c08978",
   "metadata": {},
   "outputs": [
    {
     "name": "stderr",
     "output_type": "stream",
     "text": [
      "[Stage 269:==============>                                          (1 + 3) / 4]\r"
     ]
    },
    {
     "name": "stdout",
     "output_type": "stream",
     "text": [
      "22/09/20 19:24:52 WARN RowBasedKeyValueBatch: Calling spill() on RowBasedKeyValueBatch. Will not spill but return 0.\n",
      "22/09/20 19:24:52 WARN RowBasedKeyValueBatch: Calling spill() on RowBasedKeyValueBatch. Will not spill but return 0.\n"
     ]
    },
    {
     "name": "stderr",
     "output_type": "stream",
     "text": [
      "[Stage 287:>                                                        (0 + 4) / 4]\r"
     ]
    },
    {
     "name": "stdout",
     "output_type": "stream",
     "text": [
      "22/09/20 19:25:27 WARN RowBasedKeyValueBatch: Calling spill() on RowBasedKeyValueBatch. Will not spill but return 0.\n"
     ]
    },
    {
     "name": "stderr",
     "output_type": "stream",
     "text": [
      "[Stage 287:==============>                                          (1 + 3) / 4]\r"
     ]
    },
    {
     "name": "stdout",
     "output_type": "stream",
     "text": [
      "22/09/20 19:25:28 WARN RowBasedKeyValueBatch: Calling spill() on RowBasedKeyValueBatch. Will not spill but return 0.\n"
     ]
    },
    {
     "name": "stderr",
     "output_type": "stream",
     "text": [
      "                                                                                \r"
     ]
    },
    {
     "data": {
      "text/html": [
       "<table border='1'>\n",
       "<tr><th>user_id</th><th>mean_amount</th><th>min_amount</th><th>max_amount</th><th>mean_transactions</th><th>min_transactions</th><th>max_transactions</th></tr>\n",
       "<tr><td>20931</td><td>164.31360829926368</td><td>126.11191593350347</td><td>209.56096073865885</td><td>20.1267217630854</td><td>13</td><td>104</td></tr>\n",
       "<tr><td>6072</td><td>159.5675614949777</td><td>101.9518777911356</td><td>224.52093498920996</td><td>21.899441340782122</td><td>14</td><td>98</td></tr>\n",
       "<tr><td>20651</td><td>157.1074921825416</td><td>105.06627100387666</td><td>219.1010507216253</td><td>21.0</td><td>14</td><td>98</td></tr>\n",
       "<tr><td>17417</td><td>147.88685884709733</td><td>104.75892839781037</td><td>196.83524356068264</td><td>21.517808219178082</td><td>14</td><td>98</td></tr>\n",
       "<tr><td>13545</td><td>158.13796388277854</td><td>121.45901194379616</td><td>205.68937045590945</td><td>20.06830601092896</td><td>13</td><td>91</td></tr>\n",
       "</table>\n"
      ],
      "text/plain": [
       "+-------+------------------+------------------+------------------+------------------+----------------+----------------+\n",
       "|user_id|       mean_amount|        min_amount|        max_amount| mean_transactions|min_transactions|max_transactions|\n",
       "+-------+------------------+------------------+------------------+------------------+----------------+----------------+\n",
       "|  20931|164.31360829926368|126.11191593350347|209.56096073865885|  20.1267217630854|              13|             104|\n",
       "|   6072| 159.5675614949777| 101.9518777911356|224.52093498920996|21.899441340782122|              14|              98|\n",
       "|  20651| 157.1074921825416|105.06627100387666| 219.1010507216253|              21.0|              14|              98|\n",
       "|  17417|147.88685884709733|104.75892839781037|196.83524356068264|21.517808219178082|              14|              98|\n",
       "|  13545|158.13796388277854|121.45901194379616|205.68937045590945| 20.06830601092896|              13|              91|\n",
       "+-------+------------------+------------------+------------------+------------------+----------------+----------------+"
      ]
     },
     "execution_count": 17,
     "metadata": {},
     "output_type": "execute_result"
    }
   ],
   "source": [
    "# this gets the average stats for a user on any given day\n",
    "usertestdf = usertestdf.groupBy(\"user_id\").agg(\n",
    "    mean(\"mean_amount\").alias(\"mean_amount\"),\n",
    "    mean(\"min_amount\").alias(\"min_amount\"),\n",
    "    mean(\"max_amount\").alias(\"max_amount\"),\n",
    "    mean(\"transactions\").alias(\"mean_transactions\"),\n",
    "    min(\"transactions\").alias(\"min_transactions\"),\n",
    "    max(\"transactions\").alias(\"max_transactions\"),\n",
    "    ).orderBy(desc(\"max_transactions\"))\n",
    "\n",
    "usertestdf.limit(5)"
   ]
  },
  {
   "cell_type": "markdown",
   "id": "31b7d281",
   "metadata": {},
   "source": [
    "We now have a dataset that gives us all the statistics we need to determine if future user transactions are fraud <br>\n",
    "for the time being if a user has > 1.5 x max_transactions in a day it is considered fraud <br>\n",
    "if a user has > 1.5 x max_amount in a day it is considered fraud"
   ]
  },
  {
   "cell_type": "markdown",
   "id": "965188ae",
   "metadata": {},
   "source": [
    "Now remains the case where a user or merchant has little to no data to get these metrics from <br>\n",
    "We could either set our own thresholds based on logical reasoning for fraud detection<br>\n",
    "Or we could look at the distributions of existing data to determine thresholds for fraud detection"
   ]
  }
 ],
 "metadata": {
  "kernelspec": {
   "display_name": "Python 3 (ipykernel)",
   "language": "python",
   "name": "python3"
  },
  "language_info": {
   "codemirror_mode": {
    "name": "ipython",
    "version": 3
   },
   "file_extension": ".py",
   "mimetype": "text/x-python",
   "name": "python",
   "nbconvert_exporter": "python",
   "pygments_lexer": "ipython3",
   "version": "3.8.10"
  },
  "vscode": {
   "interpreter": {
    "hash": "916dbcbb3f70747c44a77c7bcd40155683ae19c65e1c03b4aa3499c5328201f1"
   }
  }
 },
 "nbformat": 4,
 "nbformat_minor": 5
}
