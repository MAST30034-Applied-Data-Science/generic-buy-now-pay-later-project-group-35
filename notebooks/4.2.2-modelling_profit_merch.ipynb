{
 "cells": [
  {
   "cell_type": "code",
   "execution_count": 1,
   "metadata": {},
   "outputs": [
    {
     "name": "stdout",
     "output_type": "stream",
     "text": [
      "22/09/30 19:30:00 WARN Utils: Your hostname, AryansLaptop resolves to a loopback address: 127.0.1.1; using 172.25.9.137 instead (on interface eth0)\n",
      "22/09/30 19:30:00 WARN Utils: Set SPARK_LOCAL_IP if you need to bind to another address\n"
     ]
    },
    {
     "name": "stderr",
     "output_type": "stream",
     "text": [
      "Setting default log level to \"WARN\".\n",
      "To adjust logging level use sc.setLogLevel(newLevel). For SparkR, use setLogLevel(newLevel).\n"
     ]
    },
    {
     "name": "stdout",
     "output_type": "stream",
     "text": [
      "22/09/30 19:30:02 WARN NativeCodeLoader: Unable to load native-hadoop library for your platform... using builtin-java classes where applicable\n",
      "22/09/30 19:30:03 WARN Utils: Service 'SparkUI' could not bind on port 4040. Attempting port 4041.\n",
      "22/09/30 19:30:03 WARN Utils: Service 'SparkUI' could not bind on port 4041. Attempting port 4042.\n"
     ]
    }
   ],
   "source": [
    "from pyspark.sql import SparkSession\n",
    "from pyspark.sql.functions import * \n",
    "import matplotlib.pyplot as plt\n",
    "import pandas as pd\n",
    "import numpy as np\n",
    "from urllib.request import urlretrieve\n",
    "from owslib.wfs import WebFeatureService\n",
    "from dotenv import load_dotenv\n",
    "from pyspark.sql import functions as F\n",
    "\n",
    "# Create a spark session\n",
    "spark = (\n",
    "    SparkSession.builder.appName(\"analysis\")\n",
    "    .config(\"spark.sql.repl.eagerEval.enabled\", True) \n",
    "    .config(\"spark.sql.parquet.cacheMetadata\", \"true\")\n",
    "    .config(\"spark.sql.session.timeZone\", \"Etc/UTC\")\n",
    "    .config(\"spark.driver.memory\", \"2g\")\n",
    "    .config(\"spark.executor.memory\", \"6g\")\n",
    "    .getOrCreate()\n",
    ")"
   ]
  },
  {
   "cell_type": "markdown",
   "metadata": {},
   "source": [
    "# Profit per merchant per day"
   ]
  },
  {
   "cell_type": "code",
   "execution_count": 2,
   "metadata": {},
   "outputs": [
    {
     "name": "stderr",
     "output_type": "stream",
     "text": [
      "                                                                                \r"
     ]
    },
    {
     "name": "stdout",
     "output_type": "stream",
     "text": [
      "22/09/30 19:30:13 WARN package: Truncated the string representation of a plan since it was too large. This behavior can be adjusted by setting 'spark.sql.debug.maxToStringFields'.\n"
     ]
    },
    {
     "name": "stderr",
     "output_type": "stream",
     "text": [
      "                                                                                \r"
     ]
    },
    {
     "data": {
      "text/html": [
       "<table border='1'>\n",
       "<tr><th>order_datetime</th><th>merchant_abn</th><th>user_id</th><th>postcode</th><th>consumer_id</th><th>dollar_value</th><th>order_id</th><th>state</th><th>gender</th><th>company_name</th><th>tags</th><th>take_rate</th><th>revenue_band</th><th>total_pop</th><th>under10_pop</th><th>adolsc_pop</th><th>yng_adult_pop</th><th>mid_age_pop</th><th>old_pop</th><th>num_earners</th><th>median_age</th><th>median_income</th><th>mean_income</th><th>consumer_fraud_%</th><th>merchant_fraud_%</th><th>profit</th></tr>\n",
       "<tr><td>2021-08-21</td><td>94729574738</td><td>16982</td><td>4821</td><td>23684</td><td>156.3091245999424</td><td>407ce815-54e1-4ae...</td><td>QLD</td><td>Female</td><td>Scelerisque Corpo...</td><td>computer programm...</td><td> 4.51</td><td> b</td><td>3128</td><td>468</td><td>271</td><td>707</td><td>947</td><td>735</td><td>1972</td><td>44</td><td>45102</td><td>50599</td><td>0.1</td><td>0.1</td><td>7.05</td></tr>\n",
       "<tr><td>2022-04-24</td><td>45572698303</td><td>16982</td><td>4821</td><td>23684</td><td>115.38672513864692</td><td>72160f0d-06c5-432...</td><td>QLD</td><td>Female</td><td>Libero Proin Corp.</td><td>shoe shops</td><td> 3.30</td><td> b</td><td>3128</td><td>468</td><td>271</td><td>707</td><td>947</td><td>735</td><td>1972</td><td>44</td><td>45102</td><td>50599</td><td>0.1</td><td>0.1</td><td>3.81</td></tr>\n",
       "<tr><td>2021-08-21</td><td>34695415993</td><td>16982</td><td>4821</td><td>23684</td><td>35.730567249104645</td><td>d4524ef6-1f75-4f2...</td><td>QLD</td><td>Female</td><td>Ultrices Vivamus ...</td><td>cable, satellite,...</td><td> 6.02</td><td> a</td><td>3128</td><td>468</td><td>271</td><td>707</td><td>947</td><td>735</td><td>1972</td><td>44</td><td>45102</td><td>50599</td><td>0.1</td><td>0.1</td><td>2.15</td></tr>\n",
       "<tr><td>2022-04-24</td><td>67400260923</td><td>16982</td><td>4821</td><td>23684</td><td>73.85811747094266</td><td>7acb9a9f-3ef6-4d4...</td><td>QLD</td><td>Female</td><td>Eleifend PC</td><td>computer programm...</td><td> 5.97</td><td> a</td><td>3128</td><td>468</td><td>271</td><td>707</td><td>947</td><td>735</td><td>1972</td><td>44</td><td>45102</td><td>50599</td><td>0.1</td><td>0.1</td><td>4.41</td></tr>\n",
       "<tr><td>2021-08-19</td><td>86578477987</td><td>16982</td><td>4821</td><td>23684</td><td>41.45540307953735</td><td>e8be544a-a311-432...</td><td>QLD</td><td>Female</td><td>Leo In Consulting</td><td>watch, clock, and...</td><td> 6.43</td><td> a</td><td>3128</td><td>468</td><td>271</td><td>707</td><td>947</td><td>735</td><td>1972</td><td>44</td><td>45102</td><td>50599</td><td>0.1</td><td>0.1</td><td>2.67</td></tr>\n",
       "</table>\n"
      ],
      "text/plain": [
       "+--------------+------------+-------+--------+-----------+------------------+--------------------+-----+------+--------------------+--------------------+---------+------------+---------+-----------+----------+-------------+-----------+-------+-----------+----------+-------------+-----------+----------------+----------------+------+\n",
       "|order_datetime|merchant_abn|user_id|postcode|consumer_id|      dollar_value|            order_id|state|gender|        company_name|                tags|take_rate|revenue_band|total_pop|under10_pop|adolsc_pop|yng_adult_pop|mid_age_pop|old_pop|num_earners|median_age|median_income|mean_income|consumer_fraud_%|merchant_fraud_%|profit|\n",
       "+--------------+------------+-------+--------+-----------+------------------+--------------------+-----+------+--------------------+--------------------+---------+------------+---------+-----------+----------+-------------+-----------+-------+-----------+----------+-------------+-----------+----------------+----------------+------+\n",
       "|    2021-08-21| 94729574738|  16982|    4821|      23684| 156.3091245999424|407ce815-54e1-4ae...|  QLD|Female|Scelerisque Corpo...|computer programm...|     4.51|           b|     3128|        468|       271|          707|        947|    735|       1972|        44|        45102|      50599|             0.1|             0.1|  7.05|\n",
       "|    2022-04-24| 45572698303|  16982|    4821|      23684|115.38672513864692|72160f0d-06c5-432...|  QLD|Female|  Libero Proin Corp.|          shoe shops|     3.30|           b|     3128|        468|       271|          707|        947|    735|       1972|        44|        45102|      50599|             0.1|             0.1|  3.81|\n",
       "|    2021-08-21| 34695415993|  16982|    4821|      23684|35.730567249104645|d4524ef6-1f75-4f2...|  QLD|Female|Ultrices Vivamus ...|cable, satellite,...|     6.02|           a|     3128|        468|       271|          707|        947|    735|       1972|        44|        45102|      50599|             0.1|             0.1|  2.15|\n",
       "|    2022-04-24| 67400260923|  16982|    4821|      23684| 73.85811747094266|7acb9a9f-3ef6-4d4...|  QLD|Female|         Eleifend PC|computer programm...|     5.97|           a|     3128|        468|       271|          707|        947|    735|       1972|        44|        45102|      50599|             0.1|             0.1|  4.41|\n",
       "|    2021-08-19| 86578477987|  16982|    4821|      23684| 41.45540307953735|e8be544a-a311-432...|  QLD|Female|   Leo In Consulting|watch, clock, and...|     6.43|           a|     3128|        468|       271|          707|        947|    735|       1972|        44|        45102|      50599|             0.1|             0.1|  2.67|\n",
       "+--------------+------------+-------+--------+-----------+------------------+--------------------+-----+------+--------------------+--------------------+---------+------------+---------+-----------+----------+-------------+-----------+-------+-----------+----------+-------------+-----------+----------------+----------------+------+"
      ]
     },
     "execution_count": 2,
     "metadata": {},
     "output_type": "execute_result"
    }
   ],
   "source": [
    "finaldf = spark.read.parquet(\"../data/curated/finaldf.parquet/\")\n",
    "finaldf = finaldf.withColumn('profit', round(finaldf.dollar_value * (finaldf.take_rate / 100), 2))\n",
    "finaldf.limit(5)"
   ]
  },
  {
   "cell_type": "code",
   "execution_count": 3,
   "metadata": {},
   "outputs": [
    {
     "data": {
      "text/html": [
       "<table border='1'>\n",
       "<tr><th>merchant_abn</th><th>user_id</th><th>postcode</th><th>consumer_id</th><th>dollar_value</th><th>state</th><th>gender</th><th>tags</th><th>take_rate</th><th>revenue_band</th><th>total_pop</th><th>under10_pop</th><th>adolsc_pop</th><th>yng_adult_pop</th><th>mid_age_pop</th><th>old_pop</th><th>num_earners</th><th>median_age</th><th>median_income</th><th>mean_income</th><th>profit</th><th>year</th><th>month</th><th>day</th></tr>\n",
       "<tr><td>94729574738</td><td>16982</td><td>4821.0</td><td>23684</td><td>156.3091245999424</td><td>QLD</td><td>Female</td><td>computer programm...</td><td>4.51</td><td> b</td><td>3128</td><td>468</td><td>271</td><td>707</td><td>947</td><td>735</td><td>1972</td><td>44</td><td>45102</td><td>50599</td><td>7.05</td><td>2021</td><td>8</td><td>21</td></tr>\n",
       "<tr><td>45572698303</td><td>16982</td><td>4821.0</td><td>23684</td><td>115.38672513864692</td><td>QLD</td><td>Female</td><td>shoe shops</td><td>3.3</td><td> b</td><td>3128</td><td>468</td><td>271</td><td>707</td><td>947</td><td>735</td><td>1972</td><td>44</td><td>45102</td><td>50599</td><td>3.81</td><td>2022</td><td>4</td><td>24</td></tr>\n",
       "<tr><td>34695415993</td><td>16982</td><td>4821.0</td><td>23684</td><td>35.730567249104645</td><td>QLD</td><td>Female</td><td>cable, satellite,...</td><td>6.02</td><td> a</td><td>3128</td><td>468</td><td>271</td><td>707</td><td>947</td><td>735</td><td>1972</td><td>44</td><td>45102</td><td>50599</td><td>2.15</td><td>2021</td><td>8</td><td>21</td></tr>\n",
       "<tr><td>67400260923</td><td>16982</td><td>4821.0</td><td>23684</td><td>73.85811747094266</td><td>QLD</td><td>Female</td><td>computer programm...</td><td>5.97</td><td> a</td><td>3128</td><td>468</td><td>271</td><td>707</td><td>947</td><td>735</td><td>1972</td><td>44</td><td>45102</td><td>50599</td><td>4.41</td><td>2022</td><td>4</td><td>24</td></tr>\n",
       "<tr><td>86578477987</td><td>16982</td><td>4821.0</td><td>23684</td><td>41.45540307953735</td><td>QLD</td><td>Female</td><td>watch, clock, and...</td><td>6.43</td><td> a</td><td>3128</td><td>468</td><td>271</td><td>707</td><td>947</td><td>735</td><td>1972</td><td>44</td><td>45102</td><td>50599</td><td>2.67</td><td>2021</td><td>8</td><td>19</td></tr>\n",
       "</table>\n"
      ],
      "text/plain": [
       "+------------+-------+--------+-----------+------------------+-----+------+--------------------+---------+------------+---------+-----------+----------+-------------+-----------+-------+-----------+----------+-------------+-----------+------+----+-----+---+\n",
       "|merchant_abn|user_id|postcode|consumer_id|      dollar_value|state|gender|                tags|take_rate|revenue_band|total_pop|under10_pop|adolsc_pop|yng_adult_pop|mid_age_pop|old_pop|num_earners|median_age|median_income|mean_income|profit|year|month|day|\n",
       "+------------+-------+--------+-----------+------------------+-----+------+--------------------+---------+------------+---------+-----------+----------+-------------+-----------+-------+-----------+----------+-------------+-----------+------+----+-----+---+\n",
       "| 94729574738|  16982|  4821.0|      23684| 156.3091245999424|  QLD|Female|computer programm...|     4.51|           b|     3128|        468|       271|          707|        947|    735|       1972|        44|        45102|      50599|  7.05|2021|    8| 21|\n",
       "| 45572698303|  16982|  4821.0|      23684|115.38672513864692|  QLD|Female|          shoe shops|      3.3|           b|     3128|        468|       271|          707|        947|    735|       1972|        44|        45102|      50599|  3.81|2022|    4| 24|\n",
       "| 34695415993|  16982|  4821.0|      23684|35.730567249104645|  QLD|Female|cable, satellite,...|     6.02|           a|     3128|        468|       271|          707|        947|    735|       1972|        44|        45102|      50599|  2.15|2021|    8| 21|\n",
       "| 67400260923|  16982|  4821.0|      23684| 73.85811747094266|  QLD|Female|computer programm...|     5.97|           a|     3128|        468|       271|          707|        947|    735|       1972|        44|        45102|      50599|  4.41|2022|    4| 24|\n",
       "| 86578477987|  16982|  4821.0|      23684| 41.45540307953735|  QLD|Female|watch, clock, and...|     6.43|           a|     3128|        468|       271|          707|        947|    735|       1972|        44|        45102|      50599|  2.67|2021|    8| 19|\n",
       "+------------+-------+--------+-----------+------------------+-----+------+--------------------+---------+------------+---------+-----------+----------+-------------+-----------+-------+-----------+----------+-------------+-----------+------+----+-----+---+"
      ]
     },
     "execution_count": 3,
     "metadata": {},
     "output_type": "execute_result"
    }
   ],
   "source": [
    "from pyspark.sql.functions import *\n",
    "\n",
    "modeldf = finaldf.withColumn(\"year\", date_format(col(\"order_datetime\"), \"yyyy\").cast(\"long\"))\n",
    "modeldf = modeldf.withColumn(\"month\", date_format(col(\"order_datetime\"), \"MM\").cast(\"long\"))\n",
    "modeldf = modeldf.withColumn(\"day\", date_format(col(\"order_datetime\"), \"dd\").cast(\"long\"))\n",
    "\n",
    "for field in (\"postcode\",\"take_rate\"):\n",
    "    modeldf = modeldf.withColumn(\n",
    "        field,\n",
    "        col(field).cast('double')\n",
    "    )\n",
    "\n",
    "modeldf = modeldf.drop(\"order_datetime\",\"order_id\",\"company_name\",\"consumer_fraud_%\",\"merchant_fraud_%\")\n",
    "\n",
    "modeldf.limit(5)"
   ]
  },
  {
   "cell_type": "code",
   "execution_count": 4,
   "metadata": {},
   "outputs": [
    {
     "name": "stderr",
     "output_type": "stream",
     "text": [
      "                                                                                \r"
     ]
    },
    {
     "data": {
      "text/html": [
       "<table border='1'>\n",
       "<tr><th>year</th><th>month</th><th>day</th><th>merchant_abn</th><th>daily_profit</th></tr>\n",
       "<tr><td>2021</td><td>3</td><td>2</td><td>45899477665</td><td>90.78</td></tr>\n",
       "<tr><td>2022</td><td>6</td><td>24</td><td>60978195146</td><td>39.79</td></tr>\n",
       "<tr><td>2021</td><td>9</td><td>27</td><td>55179323922</td><td>4.48</td></tr>\n",
       "<tr><td>2022</td><td>2</td><td>13</td><td>71041015148</td><td>45.42</td></tr>\n",
       "<tr><td>2021</td><td>7</td><td>3</td><td>46804135891</td><td>241.59</td></tr>\n",
       "</table>\n"
      ],
      "text/plain": [
       "+----+-----+---+------------+------------+\n",
       "|year|month|day|merchant_abn|daily_profit|\n",
       "+----+-----+---+------------+------------+\n",
       "|2021|    3|  2| 45899477665|       90.78|\n",
       "|2022|    6| 24| 60978195146|       39.79|\n",
       "|2021|    9| 27| 55179323922|        4.48|\n",
       "|2022|    2| 13| 71041015148|       45.42|\n",
       "|2021|    7|  3| 46804135891|      241.59|\n",
       "+----+-----+---+------------+------------+"
      ]
     },
     "execution_count": 4,
     "metadata": {},
     "output_type": "execute_result"
    }
   ],
   "source": [
    "modeldf = modeldf.groupBy(\"year\",\"month\",\"day\",\"merchant_abn\").agg(\n",
    "    round(sum(\"profit\"),2).alias(\"daily_profit\"),\n",
    ")\n",
    "\n",
    "modeldf.limit(5)"
   ]
  },
  {
   "cell_type": "code",
   "execution_count": 5,
   "metadata": {},
   "outputs": [
    {
     "name": "stderr",
     "output_type": "stream",
     "text": [
      "[Stage 27:>                                                       (0 + 16) / 17]\r"
     ]
    },
    {
     "name": "stdout",
     "output_type": "stream",
     "text": [
      "22/09/30 19:31:06 WARN MemoryManager: Total allocation exceeds 95.00% (1,843,370,370 bytes) of heap memory\n",
      "Scaling row group sizes to 98.10% for 14 writers\n",
      "22/09/30 19:31:06 WARN MemoryManager: Total allocation exceeds 95.00% (1,843,370,370 bytes) of heap memory\n",
      "Scaling row group sizes to 91.56% for 15 writers\n",
      "22/09/30 19:31:06 WARN MemoryManager: Total allocation exceeds 95.00% (1,843,370,370 bytes) of heap memory\n",
      "Scaling row group sizes to 85.84% for 16 writers\n",
      "22/09/30 19:31:07 WARN MemoryManager: Total allocation exceeds 95.00% (1,843,370,370 bytes) of heap memory\n",
      "Scaling row group sizes to 91.56% for 15 writers\n",
      "22/09/30 19:31:07 WARN MemoryManager: Total allocation exceeds 95.00% (1,843,370,370 bytes) of heap memory\n",
      "Scaling row group sizes to 98.10% for 14 writers\n"
     ]
    },
    {
     "name": "stderr",
     "output_type": "stream",
     "text": [
      "                                                                                \r"
     ]
    }
   ],
   "source": [
    "modeldf.write.mode(\"overwrite\").parquet(\"../data/curated/profitmodeldf.parquet\")"
   ]
  },
  {
   "cell_type": "code",
   "execution_count": 5,
   "metadata": {},
   "outputs": [
    {
     "name": "stderr",
     "output_type": "stream",
     "text": [
      "                                                                                \r"
     ]
    },
    {
     "name": "stdout",
     "output_type": "stream",
     "text": [
      "F_onewayResult(statistic=309172028.9907342, pvalue=0.0)\n",
      "F_onewayResult(statistic=277257.99111675523, pvalue=0.0)\n",
      "F_onewayResult(statistic=196631.0444930565, pvalue=0.0)\n",
      "F_onewayResult(statistic=5292918.117913812, pvalue=0.0)\n"
     ]
    }
   ],
   "source": [
    "from scipy.stats import f_oneway\n",
    "\n",
    "df = modeldf.toPandas()\n",
    "\n",
    "print(f_oneway(df[\"year\"],df[\"daily_profit\"]))\n",
    "print(f_oneway(df[\"month\"],df[\"daily_profit\"]))\n",
    "print(f_oneway(df[\"day\"],df[\"daily_profit\"]))\n",
    "print(f_oneway(df[\"merchant_abn\"],df[\"daily_profit\"]))"
   ]
  },
  {
   "cell_type": "code",
   "execution_count": 13,
   "metadata": {},
   "outputs": [
    {
     "name": "stderr",
     "output_type": "stream",
     "text": [
      "                                                                                \r"
     ]
    },
    {
     "name": "stdout",
     "output_type": "stream",
     "text": [
      "1086970 120611\n"
     ]
    },
    {
     "name": "stderr",
     "output_type": "stream",
     "text": [
      "                                                                                \r"
     ]
    },
    {
     "data": {
      "text/html": [
       "<table border='1'>\n",
       "<tr><th>year</th><th>month</th><th>day</th><th>merchant_abn</th><th>daily_profit</th></tr>\n",
       "<tr><td>2021</td><td>2</td><td>28</td><td>11802512399</td><td>70.58</td></tr>\n",
       "<tr><td>2021</td><td>2</td><td>28</td><td>12497320096</td><td>10.95</td></tr>\n",
       "<tr><td>2021</td><td>2</td><td>28</td><td>13118172970</td><td>56.0</td></tr>\n",
       "<tr><td>2021</td><td>2</td><td>28</td><td>14602793938</td><td>30.88</td></tr>\n",
       "<tr><td>2021</td><td>2</td><td>28</td><td>15061716544</td><td>66.61</td></tr>\n",
       "</table>\n"
      ],
      "text/plain": [
       "+----+-----+---+------------+------------+\n",
       "|year|month|day|merchant_abn|daily_profit|\n",
       "+----+-----+---+------------+------------+\n",
       "|2021|    2| 28| 11802512399|       70.58|\n",
       "|2021|    2| 28| 12497320096|       10.95|\n",
       "|2021|    2| 28| 13118172970|        56.0|\n",
       "|2021|    2| 28| 14602793938|       30.88|\n",
       "|2021|    2| 28| 15061716544|       66.61|\n",
       "+----+-----+---+------------+------------+"
      ]
     },
     "execution_count": 13,
     "metadata": {},
     "output_type": "execute_result"
    }
   ],
   "source": [
    "sdf, tdf = modeldf.randomSplit([0.9, 0.1], seed=22)\n",
    "print(sdf.count(),tdf.count())\n",
    "sdf.limit(5)"
   ]
  },
  {
   "cell_type": "code",
   "execution_count": 14,
   "metadata": {},
   "outputs": [],
   "source": [
    "# VectorAssembler creates new vectors from existing columns\n",
    "from pyspark.ml.feature import VectorAssembler\n",
    "\n",
    "features = 'features'\n",
    "input_cols = [\"year\",\"month\",\"day\",\"merchant_abn\"]\n",
    "\n",
    "assembler = VectorAssembler(\n",
    "    # which column to combine\n",
    "    inputCols=input_cols, \n",
    "    # How should the combined columns be named\n",
    "    outputCol=features\n",
    ")\n",
    "\n",
    "model_sdf = assembler.transform(sdf.dropna('any'))\n",
    "# Display the features and targets for our model\n",
    "#model_sdf.select('features').head(5), model_sdf.select('daily_profit').head(5)"
   ]
  },
  {
   "cell_type": "code",
   "execution_count": 15,
   "metadata": {},
   "outputs": [
    {
     "name": "stderr",
     "output_type": "stream",
     "text": [
      "                                                                                \r"
     ]
    }
   ],
   "source": [
    "from pyspark.ml.regression import DecisionTreeRegressor\n",
    "\n",
    "model = DecisionTreeRegressor(\n",
    "    featuresCol='features', \n",
    "    labelCol='daily_profit',\n",
    "    maxDepth=12,\n",
    "    maxBins=1500     \n",
    ").fit(model_sdf)"
   ]
  },
  {
   "cell_type": "code",
   "execution_count": 16,
   "metadata": {},
   "outputs": [],
   "source": [
    "# preprocess for predictions\n",
    "predict_test = tdf.select(*input_cols)\n",
    "\n",
    "assembler = VectorAssembler(\n",
    "    inputCols=input_cols, \n",
    "    outputCol=features\n",
    ")\n",
    "\n",
    "predict_sdf = assembler.transform(predict_test).select(features)\n",
    "\n",
    "#predict_sdf.show(1, vertical=True)"
   ]
  },
  {
   "cell_type": "code",
   "execution_count": 17,
   "metadata": {},
   "outputs": [],
   "source": [
    "predictions = model.transform(predict_sdf)\n",
    "#predictions.limit(5)"
   ]
  },
  {
   "cell_type": "code",
   "execution_count": 18,
   "metadata": {},
   "outputs": [
    {
     "name": "stderr",
     "output_type": "stream",
     "text": [
      "                                                                                \r"
     ]
    }
   ],
   "source": [
    "import numpy as np\n",
    "ytest =  np.array(tdf.select(\"daily_profit\").collect())\n",
    "ypred = np.array(predictions.select(\"prediction\").collect())\n",
    "#ypred"
   ]
  },
  {
   "cell_type": "code",
   "execution_count": 19,
   "metadata": {},
   "outputs": [
    {
     "name": "stdout",
     "output_type": "stream",
     "text": [
      "60.76\n",
      "0.0 3417.9 65.14528956728657 122.3481086324676\n"
     ]
    }
   ],
   "source": [
    "import numpy as np\n",
    "from sklearn.metrics import mean_absolute_error as mae\n",
    "print(np.round(mae(ytest,ypred), 2))\n",
    "print(ytest.min(),ytest.max(),ytest.mean(),ytest.std())"
   ]
  }
 ],
 "metadata": {
  "kernelspec": {
   "display_name": "Python 3.8.10 64-bit",
   "language": "python",
   "name": "python3"
  },
  "language_info": {
   "codemirror_mode": {
    "name": "ipython",
    "version": 3
   },
   "file_extension": ".py",
   "mimetype": "text/x-python",
   "name": "python",
   "nbconvert_exporter": "python",
   "pygments_lexer": "ipython3",
   "version": "3.10.4"
  },
  "orig_nbformat": 4,
  "vscode": {
   "interpreter": {
    "hash": "916dbcbb3f70747c44a77c7bcd40155683ae19c65e1c03b4aa3499c5328201f1"
   }
  }
 },
 "nbformat": 4,
 "nbformat_minor": 2
}
